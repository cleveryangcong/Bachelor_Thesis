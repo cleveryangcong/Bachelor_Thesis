{
 "cells": [
  {
   "cell_type": "code",
   "execution_count": 5,
   "id": "2fe06d76-411c-4631-b537-e28334f84758",
   "metadata": {
    "tags": []
   },
   "outputs": [],
   "source": [
    "#from netCDF4 import Dataset\n",
    "#import numpy as np\n",
    "#import xarray as xr\n",
    "import os\n",
    "from datetime import datetime, timedelta"
   ]
  },
  {
   "cell_type": "code",
   "execution_count": 6,
   "id": "e8397cf3-5bc0-432e-a0a1-747a84f1e903",
   "metadata": {
    "tags": []
   },
   "outputs": [],
   "source": [
    "path = \"/lsdf/kit/imk-tro/projects/MOD/Gruppe_Grams/nk2448/2023_FourCastNet/\"\n",
    "output_path = \"/pfs/work7/workspace/scratch/vt0186-fcn/data/ecmwf_ics/\""
   ]
  },
  {
   "cell_type": "code",
   "execution_count": 8,
   "id": "a286bd0d-f313-45c3-b60f-6120a9dfe4e9",
   "metadata": {
    "tags": []
   },
   "outputs": [],
   "source": [
    "files = os.listdir(path)"
   ]
  },
  {
   "cell_type": "code",
   "execution_count": 9,
   "id": "917a7715-8652-4fef-9291-2b55f36f0393",
   "metadata": {
    "tags": []
   },
   "outputs": [],
   "source": [
    "path = \"/lsdf/kit/imk-tro/projects/MOD/Gruppe_Grams/nk2448/2023_FourCastNet/\"\n",
    "output_path = \"/pfs/work7/workspace/scratch/vt0186-fcn/data/ecmwf_ics/\"\n",
    "# Create all dates\n",
    "start = datetime.strptime(\"01-01-2022\", \"%d-%m-%Y\")\n",
    "end = datetime.strptime(\"01-01-2023\", \"%d-%m-%Y\")\n",
    "date_list = [start + timedelta(days=x) for x in range(0, (end-start).days)]\n",
    "date_list = date_list[0:5]\n",
    "for date in date_list:\n",
    "    date_string = date.strftime(\"%Y%m%d_%H\")\n",
    "    #Check if file exists\n",
    "    if !os.path.isfile(output_path+date_string+\".nc\")\n",
    "\n"
   ]
  },
  {
   "cell_type": "code",
   "execution_count": 15,
   "id": "7edd542b-80b1-4eca-b6f1-491762df6caa",
   "metadata": {
    "tags": []
   },
   "outputs": [
    {
     "name": "stdout",
     "output_type": "stream",
     "text": [
      "neues FIle\n"
     ]
    }
   ],
   "source": [
    "if not os.path.isfile(output_path+date_string+\".nc\"):\n",
    "    print(\"test\")\n",
    "else:\n",
    "    print(\"neues FIle\")"
   ]
  },
  {
   "cell_type": "code",
   "execution_count": 10,
   "id": "66d87fda-8678-4c99-8776-f7594b4a4fae",
   "metadata": {
    "tags": []
   },
   "outputs": [
    {
     "data": {
      "text/plain": [
       "'20220101_00'"
      ]
     },
     "execution_count": 10,
     "metadata": {},
     "output_type": "execute_result"
    }
   ],
   "source": [
    "date_string"
   ]
  },
  {
   "cell_type": "code",
   "execution_count": 147,
   "id": "05fe485c-8ca2-4e27-b594-3ab6063f6dad",
   "metadata": {},
   "outputs": [],
   "source": [
    "def get_ics_data(path, date):\n",
    "    control_pl = xr.open_dataset(f'{path}fc_cf_{date}_pl.grb', engine = \"cfgrib\")\n",
    "    control_sfc = xr.open_dataset(f'{path}fc_cf_{date}_sfc.grb', engine = \"cfgrib\")\n",
    "    pert_pl = xr.open_dataset(f'{path}fc_pf_{date}_pl.grb', engine = \"cfgrib\")\n",
    "    pert_sfc = xr.open_dataset(f'{path}fc_pf_{date}_sfc.grb', engine = \"cfgrib\")\n",
    "    dataset = xr.Dataset({\n",
    "    \"u10\": ([\"ics\", \"latitude\", \"longitude\"], np.concatenate([pert_sfc.u10.data, np.expand_dims(control_sfc.u10.data, axis = 0)])),\n",
    "    \"v10\": ([\"ics\", \"latitude\", \"longitude\"], np.concatenate([pert_sfc.v10.data, np.expand_dims(control_sfc.v10.data, axis = 0)])),\n",
    "    \"t2m\": ([\"ics\", \"latitude\", \"longitude\"], np.concatenate([pert_sfc.t2m.data, np.expand_dims(control_sfc.t2m.data, axis = 0)])),\n",
    "    \"sp\": ([\"ics\", \"latitude\", \"longitude\"], np.concatenate([pert_sfc.sp.data, np.expand_dims(control_sfc.sp.data, axis = 0)])),\n",
    "    \"mslp\": ([\"ics\", \"latitude\", \"longitude\"], np.concatenate([pert_sfc.msl.data, np.expand_dims(control_sfc.msl.data, axis = 0)])),\n",
    "    \"t850\": ([\"ics\", \"latitude\", \"longitude\"], np.concatenate([pert_pl.t.isel(isobaricInhPa = 1).data, np.expand_dims(control_pl.t.isel(isobaricInhPa = 1).data, axis = 0)])),\n",
    "    \"u1000\": ([\"ics\", \"latitude\", \"longitude\"], np.concatenate([pert_pl.u.isel(isobaricInhPa = 0).data, np.expand_dims(control_pl.u.isel(isobaricInhPa = 0).data, axis = 0)])),\n",
    "    \"v1000\": ([\"ics\", \"latitude\", \"longitude\"], np.concatenate([pert_pl.v.isel(isobaricInhPa = 0).data, np.expand_dims(control_pl.v.isel(isobaricInhPa = 0).data, axis = 0)])),\n",
    "    \"z1000\": ([\"ics\", \"latitude\", \"longitude\"], np.concatenate([pert_pl.z.isel(isobaricInhPa = 0).data, np.expand_dims(control_pl.z.isel(isobaricInhPa = 0).data, axis = 0)])),\n",
    "    \"u850\": ([\"ics\", \"latitude\", \"longitude\"], np.concatenate([pert_pl.u.isel(isobaricInhPa = 1).data, np.expand_dims(control_pl.u.isel(isobaricInhPa = 1).data, axis = 0)])),\n",
    "    \"v850\": ([\"ics\", \"latitude\", \"longitude\"], np.concatenate([pert_pl.v.isel(isobaricInhPa = 1).data, np.expand_dims(control_pl.v.isel(isobaricInhPa = 1).data, axis = 0)])),\n",
    "    \"z850\": ([\"ics\", \"latitude\", \"longitude\"], np.concatenate([pert_pl.z.isel(isobaricInhPa = 1).data, np.expand_dims(control_pl.z.isel(isobaricInhPa = 1).data, axis = 0)])),\n",
    "    \"u500\": ([\"ics\", \"latitude\", \"longitude\"], np.concatenate([pert_pl.u.isel(isobaricInhPa = 2).data, np.expand_dims(control_pl.u.isel(isobaricInhPa = 2).data, axis = 0)])),\n",
    "    \"v500\": ([\"ics\", \"latitude\", \"longitude\"], np.concatenate([pert_pl.v.isel(isobaricInhPa = 2).data, np.expand_dims(control_pl.v.isel(isobaricInhPa = 2).data, axis = 0)])),\n",
    "    \"z500\": ([\"ics\", \"latitude\", \"longitude\"], np.concatenate([pert_pl.z.isel(isobaricInhPa = 2).data, np.expand_dims(control_pl.z.isel(isobaricInhPa = 2).data, axis = 0)])),\n",
    "    \"t500\": ([\"ics\", \"latitude\", \"longitude\"], np.concatenate([pert_pl.t.isel(isobaricInhPa = 2).data, np.expand_dims(control_pl.t.isel(isobaricInhPa = 2).data, axis = 0)])),\n",
    "    \"z50\": ([\"ics\", \"latitude\", \"longitude\"], np.concatenate([pert_pl.z.isel(isobaricInhPa = 3).data, np.expand_dims(control_pl.z.isel(isobaricInhPa = 3).data, axis = 0)])),\n",
    "    \"r500\": ([\"ics\", \"latitude\", \"longitude\"], np.concatenate([pert_pl.r.isel(isobaricInhPa = 2).data, np.expand_dims(control_pl.r.isel(isobaricInhPa = 2).data, axis = 0)])),\n",
    "    \"r850\": ([\"ics\", \"latitude\", \"longitude\"], np.concatenate([pert_pl.r.isel(isobaricInhPa = 1).data, np.expand_dims(control_pl.r.isel(isobaricInhPa = 1).data, axis = 0)])),\n",
    "    \"tcwv\": ([\"ics\", \"latitude\", \"longitude\"], np.concatenate([pert_sfc.tcw.data, np.expand_dims(control_sfc.tcw.data, axis = 0)])),\n",
    "    })\n",
    "    data_array = dataset.to_stacked_array(new_dim = \"var\",sample_dims = [\"ics\", \"latitude\", \"longitude\"]).transpose(\"ics\", \"var\", \"latitude\", \"longitude\").reset_index(\"var\")\n",
    "    data_array = data_array.roll(longitude = -720).isel(latitude = slice(0,720))\n",
    "    return data_array"
   ]
  },
  {
   "cell_type": "code",
   "execution_count": 148,
   "id": "4848c91e-3189-40ac-8110-6a69ad9ee833",
   "metadata": {},
   "outputs": [],
   "source": [
    "data = get_ics_data(path, date)"
   ]
  },
  {
   "cell_type": "code",
   "execution_count": null,
   "id": "4d8f90fc-b253-4b90-a8a3-68071f749a5e",
   "metadata": {},
   "outputs": [],
   "source": []
  }
 ],
 "metadata": {
  "kernelspec": {
   "display_name": "Python (fcn)",
   "language": "python",
   "name": "fcn"
  },
  "language_info": {
   "codemirror_mode": {
    "name": "ipython",
    "version": 3
   },
   "file_extension": ".py",
   "mimetype": "text/x-python",
   "name": "python",
   "nbconvert_exporter": "python",
   "pygments_lexer": "ipython3",
   "version": "3.9.1"
  }
 },
 "nbformat": 4,
 "nbformat_minor": 5
}
