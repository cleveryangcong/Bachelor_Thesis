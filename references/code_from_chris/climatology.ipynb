{
 "cells": [
  {
   "cell_type": "code",
   "execution_count": 23,
   "id": "cfc1dd6e-4bf7-48cf-8231-46dcd9f6c1df",
   "metadata": {},
   "outputs": [],
   "source": [
    "import numpy as np\n",
    "import pandas as pd\n",
    "import xarray as xr\n",
    "import h5py\n",
    "import properscoring as ps"
   ]
  },
  {
   "cell_type": "code",
   "execution_count": 8,
   "id": "958113e1-357f-4ad6-bdb2-a6caea976813",
   "metadata": {},
   "outputs": [],
   "source": [
    "#Load indices\n",
    "idx = {\"u10\":0, \"v10\":1, \"t2m\":2, \"t850\":3, \"z500\":4}\n",
    "mean = np.load(\"../../data/stats_v0/global_means.npy\").squeeze()\n",
    "std = np.load(\"../../data/stats_v0/global_stds.npy\").squeeze()"
   ]
  },
  {
   "cell_type": "code",
   "execution_count": 9,
   "id": "86ee3958-e12a-4c99-bc18-abdf7b573afa",
   "metadata": {},
   "outputs": [],
   "source": [
    "# Open dataset\n",
    "path_test = \"../../data/predictions/ensemble_2022.h5\"\n",
    "test = xr.open_dataset(path_test)\n",
    "\n",
    "y_test = test.ground_truth\n",
    "x_single = test.predictions.isel(phony_dim_5 = 0)\n",
    "x_ens = test.predictions.isel(phony_dim_5 = slice(1,51))"
   ]
  },
  {
   "cell_type": "code",
   "execution_count": 30,
   "id": "d8da5d0a-93d2-46fa-afb8-6cc9e6003650",
   "metadata": {},
   "outputs": [],
   "source": [
    "n_var = len(idx) + 2 # Windspeed and precip\n",
    "length = y_test.shape[1]"
   ]
  },
  {
   "cell_type": "code",
   "execution_count": 31,
   "id": "1b483ab5-7b91-46df-aae3-f146ba4a71fa",
   "metadata": {},
   "outputs": [],
   "source": [
    "# Slicing of Era5 data\n",
    "variables = np.array([0,1,2,5,14])\n",
    "time_slice = np.arange(0,(365*4),4)\n",
    "time_slice_gap = np.arange(0,(366*4),4)\n",
    "\n",
    "#Use old slices for beginning\n",
    "lat_subset = slice(60,220)\n",
    "lon_subset = np.append(np.arange(1390, 1440), np.arange(0, 170))\n",
    "\n",
    "lat_range = lat_subset.stop - lat_subset.start\n",
    "lon_range= len(lon_subset)#img_y_subset.stop - img_y_subset.start"
   ]
  },
  {
   "cell_type": "markdown",
   "id": "59b30b9b-90e7-485e-9ea8-5a5f90dc6ac5",
   "metadata": {},
   "source": [
    "# Create h5 file"
   ]
  },
  {
   "cell_type": "code",
   "execution_count": 32,
   "id": "f24ff1a5-2814-4913-b5f7-116f7839779d",
   "metadata": {},
   "outputs": [],
   "source": [
    "filename = \"../../data/results/crps_metrics.h5\"\n",
    "f = h5py.File(filename, 'a')\n",
    "\n",
    "try:\n",
    "    data = f.create_dataset(name = \"climatology\", shape = (n_var, lat_range, lon_range), dtype = np.float32)\n",
    "except:\n",
    "    del f[\"climatology\"]\n",
    "    data = f.create_dataset(name = \"climatology\", shape = (n_var, lat_range, lon_range), dtype = np.float32)\n",
    "f.close()"
   ]
  },
  {
   "cell_type": "markdown",
   "id": "e46d4432-e196-4cec-aa49-432aa4dd64ca",
   "metadata": {},
   "source": [
    "# Era 5 data"
   ]
  },
  {
   "cell_type": "code",
   "execution_count": 17,
   "id": "a4c534a5-f6d4-4800-a9be-97b0950c0573",
   "metadata": {},
   "outputs": [],
   "source": [
    "#Load all data\n",
    "era5_2018 = xr.open_dataset(\"../../data/out_of_sample/2018.h5\").fields.isel(phony_dim_0 = time_slice, phony_dim_1 = variables, phony_dim_2 = lat_slice, phony_dim_3 = lon_slice)\n",
    "era5_2019 = xr.open_dataset(\"../../data/out_of_sample/2019.h5\").fields.isel(phony_dim_0 = time_slice, phony_dim_1 = variables, phony_dim_2 = lat_slice, phony_dim_3 = lon_slice)\n",
    "era5_2020 = xr.open_dataset(\"../../data/out_of_sample/2020.h5\").fields.isel(phony_dim_0 = time_slice_gap, phony_dim_1 = variables, phony_dim_2 = lat_slice, phony_dim_3 = lon_slice)\n",
    "era5_2021 = xr.open_dataset(\"../../data/out_of_sample/2021.h5\").fields.isel(phony_dim_0 = time_slice, phony_dim_1 = variables, phony_dim_2 = lat_slice, phony_dim_3 = lon_slice)\n",
    "\n",
    "#Merge\n",
    "climatology_data = xr.concat([era5_2018, era5_2019, era5_2020, era5_2021], dim = \"phony_dim_0\")\n",
    "\n",
    "#Standardize\n",
    "for j, var in enumerate(variables):\n",
    "    climatology_data[:,j] = (climatology_data[:,j] - mean[var]) / std[var]"
   ]
  },
  {
   "cell_type": "code",
   "execution_count": 21,
   "id": "6fc54e73-0970-4f4d-8dc0-134b782a529a",
   "metadata": {},
   "outputs": [],
   "source": [
    "#Define window\n",
    "window = 15\n",
    "n_pred = y_test.shape[0]\n",
    "n_obs = climatology_data.shape[0]"
   ]
  },
  {
   "cell_type": "code",
   "execution_count": 34,
   "id": "5b5994d5-e817-46af-bd72-12b29a254e39",
   "metadata": {},
   "outputs": [
    {
     "ename": "ValueError",
     "evalue": "operands could not be broadcast together with shapes (6,160,220) (6,120,130) (6,160,220) ",
     "output_type": "error",
     "traceback": [
      "\u001b[0;31m---------------------------------------------------------------------------\u001b[0m",
      "\u001b[0;31mValueError\u001b[0m                                Traceback (most recent call last)",
      "\u001b[0;32m/tmp/ipykernel_2986218/1401585664.py\u001b[0m in \u001b[0;36m<module>\u001b[0;34m\u001b[0m\n\u001b[1;32m     15\u001b[0m     \u001b[0mpred_wind\u001b[0m \u001b[0;34m=\u001b[0m \u001b[0mnp\u001b[0m\u001b[0;34m.\u001b[0m\u001b[0msqrt\u001b[0m\u001b[0;34m(\u001b[0m\u001b[0mnp\u001b[0m\u001b[0;34m.\u001b[0m\u001b[0mpower\u001b[0m\u001b[0;34m(\u001b[0m\u001b[0mpred\u001b[0m\u001b[0;34m.\u001b[0m\u001b[0misel\u001b[0m\u001b[0;34m(\u001b[0m\u001b[0mphony_dim_1\u001b[0m \u001b[0;34m=\u001b[0m \u001b[0;36m0\u001b[0m\u001b[0;34m)\u001b[0m\u001b[0;34m,\u001b[0m\u001b[0;36m2\u001b[0m\u001b[0;34m)\u001b[0m \u001b[0;34m+\u001b[0m \u001b[0mnp\u001b[0m\u001b[0;34m.\u001b[0m\u001b[0mpower\u001b[0m\u001b[0;34m(\u001b[0m\u001b[0mpred\u001b[0m\u001b[0;34m.\u001b[0m\u001b[0misel\u001b[0m\u001b[0;34m(\u001b[0m\u001b[0mphony_dim_1\u001b[0m \u001b[0;34m=\u001b[0m \u001b[0;36m1\u001b[0m\u001b[0;34m)\u001b[0m\u001b[0;34m,\u001b[0m\u001b[0;36m2\u001b[0m\u001b[0;34m)\u001b[0m\u001b[0;34m)\u001b[0m\u001b[0;34m\u001b[0m\u001b[0;34m\u001b[0m\u001b[0m\n\u001b[1;32m     16\u001b[0m     \u001b[0mcrps_wind\u001b[0m \u001b[0;34m=\u001b[0m \u001b[0mps\u001b[0m\u001b[0;34m.\u001b[0m\u001b[0mcrps_ensemble\u001b[0m\u001b[0;34m(\u001b[0m\u001b[0mtrue_wind\u001b[0m\u001b[0;34m,\u001b[0m \u001b[0mpred_wind\u001b[0m\u001b[0;34m)\u001b[0m\u001b[0;34m\u001b[0m\u001b[0;34m\u001b[0m\u001b[0m\n\u001b[0;32m---> 17\u001b[0;31m     \u001b[0mclima_crps\u001b[0m \u001b[0;34m+=\u001b[0m \u001b[0mnp\u001b[0m\u001b[0;34m.\u001b[0m\u001b[0mappend\u001b[0m\u001b[0;34m(\u001b[0m\u001b[0mcrps\u001b[0m\u001b[0;34m,\u001b[0m \u001b[0mnp\u001b[0m\u001b[0;34m.\u001b[0m\u001b[0mexpand_dims\u001b[0m\u001b[0;34m(\u001b[0m\u001b[0mcrps_wind\u001b[0m\u001b[0;34m,\u001b[0m \u001b[0maxis\u001b[0m \u001b[0;34m=\u001b[0m \u001b[0;36m0\u001b[0m\u001b[0;34m)\u001b[0m\u001b[0;34m,\u001b[0m \u001b[0maxis\u001b[0m \u001b[0;34m=\u001b[0m \u001b[0;36m0\u001b[0m\u001b[0;34m)\u001b[0m\u001b[0;34m\u001b[0m\u001b[0;34m\u001b[0m\u001b[0m\n\u001b[0m\u001b[1;32m     18\u001b[0m \u001b[0mclima_crps\u001b[0m \u001b[0;34m=\u001b[0m \u001b[0mclima_crps\u001b[0m \u001b[0;34m/\u001b[0m \u001b[0mn_pred\u001b[0m\u001b[0;34m\u001b[0m\u001b[0;34m\u001b[0m\u001b[0m\n\u001b[1;32m     19\u001b[0m \u001b[0;34m\u001b[0m\u001b[0m\n",
      "\u001b[0;31mValueError\u001b[0m: operands could not be broadcast together with shapes (6,160,220) (6,120,130) (6,160,220) "
     ]
    }
   ],
   "source": [
    "#Create output\n",
    "clima_crps = np.zeros(shape = ((n_var-1), lat_range, lon_range))\n",
    "#Generate slices\n",
    "for i in range(n_pred):    \n",
    "    window_slice = np.arange(-window, window+1) + i\n",
    "    clima_slice = np.append(window_slice, [(window_slice + 365), (window_slice + 2 * 365), (window_slice + 3*365+1)])\n",
    "    clima_slice = clima_slice[(clima_slice >= 0) & (clima_slice < n_obs)]\n",
    "    #CRPS for normal variables\n",
    "    truth = y_test.isel(phony_dim_0 = i, phony_dim_1 = 0)\n",
    "    pred = climatology_data.isel(phony_dim_0 = clima_slice).transpose(..., \"phony_dim_0\")\n",
    "    crps = ps.crps_ensemble(truth, pred)\n",
    "        \n",
    "    #CRPS for wind speed\n",
    "    true_wind = np.sqrt(np.power(truth.isel(phony_dim_2 = 0),2) + np.power(truth.isel(phony_dim_2 = 1),2))\n",
    "    pred_wind = np.sqrt(np.power(pred.isel(phony_dim_1 = 0),2) + np.power(pred.isel(phony_dim_1 = 1),2))\n",
    "    crps_wind = ps.crps_ensemble(true_wind, pred_wind)\n",
    "    clima_crps += np.append(crps, np.expand_dims(crps_wind, axis = 0), axis = 0)\n",
    "clima_crps = clima_crps / n_pred\n",
    "\n",
    "data[0:6,...] = clima_crps"
   ]
  },
  {
   "cell_type": "markdown",
   "id": "18326069-b23b-4af0-926f-0eee9db5c5f8",
   "metadata": {},
   "source": [
    "# Precip data"
   ]
  },
  {
   "cell_type": "code",
   "execution_count": null,
   "id": "d8ee2dff-25c6-4519-b26f-3383d66e0d34",
   "metadata": {},
   "outputs": [],
   "source": [
    "#Load all data\n",
    "tp_2018 = xr.open_dataset(\"../../data/precip/out_of_sample/2018.h5\").fields.isel(phony_dim_0 = time_slice, phony_dim_1 = variables, phony_dim_2 = lat_slice, phony_dim_3 = lon_slice)\n",
    "tp_2019 = xr.open_dataset(\"../../data/precip/out_of_sample/2019.h5\").fields.isel(phony_dim_0 = time_slice, phony_dim_1 = variables, phony_dim_2 = lat_slice, phony_dim_3 = lon_slice)\n",
    "tp_2020 = xr.open_dataset(\"../../data/precip/out_of_sample/2020.nc\").fields.isel(phony_dim_0 = time_slice_gap, phony_dim_1 = variables, phony_dim_2 = lat_slice, phony_dim_3 = lon_slice)\n",
    "tp_2021 = xr.open_dataset(\"../../data/precip/out_of_sample/2021.nc\").fields.isel(phony_dim_0 = time_slice, phony_dim_1 = variables, phony_dim_2 = lat_slice, phony_dim_3 = lon_slice)\n",
    "\n",
    "#Merge\n",
    "climatology_data = xr.concat([tp_2018, tp_2019, tp_2020, tp_2021], dim = \"phony_dim_0\")"
   ]
  },
  {
   "cell_type": "code",
   "execution_count": null,
   "id": "91715d87-d9c4-4ae1-9b05-acc2fffe6b26",
   "metadata": {},
   "outputs": [],
   "source": [
    "#Create output\n",
    "clima_crps = np.zeros(shape = (1, lat_range, lon_range))\n",
    "#Generate slices\n",
    "for i in range(n_pred):    \n",
    "    window_slice = np.arange(-window, window+1) + i\n",
    "    clima_slice = np.append(window_slice, [(window_slice + 365), (window_slice + 2 * 365), (window_slice + 3*365+1)])\n",
    "    clima_slice = clima_slice[(clima_slice >= 0) & (clima_slice < n_obs)]\n",
    "    #CRPS for normal variables\n",
    "    truth = y_test.isel(phony_dim_0 = i, phony_dim_1 = 0)\n",
    "    pred = climatology_data.isel(phony_dim_0 = clima_slice).transpose(..., \"phony_dim_0\")\n",
    "    crps = ps.crps_ensemble(truth, pred)\n",
    "        \n",
    "    #CRPS for wind speed\n",
    "    true_wind = np.sqrt(np.power(truth.isel(phony_dim_2 = 0),2) + np.power(truth.isel(phony_dim_2 = 1),2))\n",
    "    pred_wind = np.sqrt(np.power(pred.isel(phony_dim_1 = 0),2) + np.power(pred.isel(phony_dim_1 = 1),2))\n",
    "    crps_wind = ps.crps_ensemble(true_wind, pred_wind)\n",
    "    clima_crps += np.append(crps, np.expand_dims(crps_wind, axis = 0), axis = 0)\n",
    "clima_crps = clima_crps / n_pred\n",
    "\n",
    "data[6,...] = clima_crps"
   ]
  },
  {
   "cell_type": "code",
   "execution_count": 39,
   "id": "a33e6342-b555-43c9-bd5e-e938eae9415b",
   "metadata": {},
   "outputs": [],
   "source": [
    "f.close()"
   ]
  },
  {
   "cell_type": "code",
   "execution_count": null,
   "id": "3e5c2ea9-12a8-428a-9288-18b1aeda47fc",
   "metadata": {},
   "outputs": [],
   "source": []
  }
 ],
 "metadata": {
  "kernelspec": {
   "display_name": "Python 3 (ipykernel)",
   "language": "python",
   "name": "python3"
  },
  "language_info": {
   "codemirror_mode": {
    "name": "ipython",
    "version": 3
   },
   "file_extension": ".py",
   "mimetype": "text/x-python",
   "name": "python",
   "nbconvert_exporter": "python",
   "pygments_lexer": "ipython3",
   "version": "3.9.7"
  }
 },
 "nbformat": 4,
 "nbformat_minor": 5
}
