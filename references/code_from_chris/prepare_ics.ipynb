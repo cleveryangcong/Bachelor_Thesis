{
 "cells": [
  {
   "cell_type": "code",
   "execution_count": 9,
   "id": "2fe06d76-411c-4631-b537-e28334f84758",
   "metadata": {},
   "outputs": [],
   "source": [
    "from netCDF4 import Dataset\n",
    "import numpy as np\n",
    "import xarray as xr\n",
    "import os\n",
    "from datetime import datetime"
   ]
  },
  {
   "cell_type": "code",
   "execution_count": 10,
   "id": "e8397cf3-5bc0-432e-a0a1-747a84f1e903",
   "metadata": {},
   "outputs": [],
   "source": [
    "path = \"../../data/ecmwf_initial_test/\"\n",
    "output_path = \"\"\n",
    "date = datetime(year = 2022, month = 1, day = 1, hour = 0).strftime(\"%Y%m%d_%H\")"
   ]
  },
  {
   "cell_type": "code",
   "execution_count": 11,
   "id": "88e03338-a7e6-4140-a4bf-ba4515fcc8d3",
   "metadata": {},
   "outputs": [
    {
     "data": {
      "text/plain": [
       "'20220101_00'"
      ]
     },
     "execution_count": 11,
     "metadata": {},
     "output_type": "execute_result"
    }
   ],
   "source": [
    "date"
   ]
  },
  {
   "cell_type": "code",
   "execution_count": 6,
   "id": "a286bd0d-f313-45c3-b60f-6120a9dfe4e9",
   "metadata": {},
   "outputs": [
    {
     "data": {
      "text/plain": [
       "['fc_cf_20220101_00_sfc.grb.923a8.idx',\n",
       " 'fc_pf_20220102_00_sfc.grb',\n",
       " 'fc_pf_20220101_00_sfc.grb',\n",
       " 'fc_pf_20220102_00_pl.grb.923a8.idx',\n",
       " 'fc_cf_20220102_00_sfc.grb',\n",
       " 'fc_cf_20220101_00_pl.grb.90c91.idx',\n",
       " 'fc_cf_20220102_00_pl.grb',\n",
       " 'fc_pf_20220102_00_pl.grb',\n",
       " 'fc_cf_20220101_00_pl.grb',\n",
       " 'fc_pf_20220101_00_pl.grb',\n",
       " 'fc_pf_20220101_00_pl.grb.923a8.idx',\n",
       " 'fc_cf_20220102_00_sfc.grb.923a8.idx',\n",
       " 'fc_cf_20220102_00_pl.grb.923a8.idx',\n",
       " 'fc_cf_20220101_00_pl.grb.923a8.idx',\n",
       " 'fc_cf_20220101_00_sfc.grb',\n",
       " 'fc_pf_20220101_00_sfc.grb.923a8.idx',\n",
       " 'fc_pf_20220102_00_sfc.grb.923a8.idx']"
      ]
     },
     "execution_count": 6,
     "metadata": {},
     "output_type": "execute_result"
    }
   ],
   "source": [
    "files = os.listdir(path)\n",
    "files"
   ]
  },
  {
   "cell_type": "code",
   "execution_count": 7,
   "id": "05fe485c-8ca2-4e27-b594-3ab6063f6dad",
   "metadata": {},
   "outputs": [],
   "source": [
    "def get_ics_data(path, date, output_path):\n",
    "    control_pl = xr.open_dataset(f'{path}fc_cf_{date}_pl.grb', engine = \"cfgrib\")\n",
    "    control_sfc = xr.open_dataset(f'{path}fc_cf_{date}_sfc.grb', engine = \"cfgrib\")\n",
    "    pert_pl = xr.open_dataset(f'{path}fc_pf_{date}_pl.grb', engine = \"cfgrib\")\n",
    "    pert_sfc = xr.open_dataset(f'{path}fc_pf_{date}_sfc.grb', engine = \"cfgrib\")\n",
    "    dataset = xr.Dataset({\n",
    "    \"u10\": ([\"ics\", \"latitude\", \"longitude\"], np.concatenate([pert_sfc.u10.data, np.expand_dims(control_sfc.u10.data, axis = 0)])),\n",
    "    \"v10\": ([\"ics\", \"latitude\", \"longitude\"], np.concatenate([pert_sfc.v10.data, np.expand_dims(control_sfc.v10.data, axis = 0)])),\n",
    "    \"t2m\": ([\"ics\", \"latitude\", \"longitude\"], np.concatenate([pert_sfc.t2m.data, np.expand_dims(control_sfc.t2m.data, axis = 0)])),\n",
    "    \"sp\": ([\"ics\", \"latitude\", \"longitude\"], np.concatenate([pert_sfc.sp.data, np.expand_dims(control_sfc.sp.data, axis = 0)])),\n",
    "    \"mslp\": ([\"ics\", \"latitude\", \"longitude\"], np.concatenate([pert_sfc.msl.data, np.expand_dims(control_sfc.msl.data, axis = 0)])),\n",
    "    \"t850\": ([\"ics\", \"latitude\", \"longitude\"], np.concatenate([pert_pl.t.isel(isobaricInhPa = 1).data, np.expand_dims(control_pl.t.isel(isobaricInhPa = 1).data, axis = 0)])),\n",
    "    \"u1000\": ([\"ics\", \"latitude\", \"longitude\"], np.concatenate([pert_pl.u.isel(isobaricInhPa = 0).data, np.expand_dims(control_pl.u.isel(isobaricInhPa = 0).data, axis = 0)])),\n",
    "    \"v1000\": ([\"ics\", \"latitude\", \"longitude\"], np.concatenate([pert_pl.v.isel(isobaricInhPa = 0).data, np.expand_dims(control_pl.v.isel(isobaricInhPa = 0).data, axis = 0)])),\n",
    "    \"z1000\": ([\"ics\", \"latitude\", \"longitude\"], np.concatenate([pert_pl.z.isel(isobaricInhPa = 0).data, np.expand_dims(control_pl.z.isel(isobaricInhPa = 0).data, axis = 0)])),\n",
    "    \"u850\": ([\"ics\", \"latitude\", \"longitude\"], np.concatenate([pert_pl.u.isel(isobaricInhPa = 1).data, np.expand_dims(control_pl.u.isel(isobaricInhPa = 1).data, axis = 0)])),\n",
    "    \"v850\": ([\"ics\", \"latitude\", \"longitude\"], np.concatenate([pert_pl.v.isel(isobaricInhPa = 1).data, np.expand_dims(control_pl.v.isel(isobaricInhPa = 1).data, axis = 0)])),\n",
    "    \"z850\": ([\"ics\", \"latitude\", \"longitude\"], np.concatenate([pert_pl.z.isel(isobaricInhPa = 1).data, np.expand_dims(control_pl.z.isel(isobaricInhPa = 1).data, axis = 0)])),\n",
    "    \"u500\": ([\"ics\", \"latitude\", \"longitude\"], np.concatenate([pert_pl.u.isel(isobaricInhPa = 2).data, np.expand_dims(control_pl.u.isel(isobaricInhPa = 2).data, axis = 0)])),\n",
    "    \"v500\": ([\"ics\", \"latitude\", \"longitude\"], np.concatenate([pert_pl.v.isel(isobaricInhPa = 2).data, np.expand_dims(control_pl.v.isel(isobaricInhPa = 2).data, axis = 0)])),\n",
    "    \"z500\": ([\"ics\", \"latitude\", \"longitude\"], np.concatenate([pert_pl.z.isel(isobaricInhPa = 2).data, np.expand_dims(control_pl.z.isel(isobaricInhPa = 2).data, axis = 0)])),\n",
    "    \"t500\": ([\"ics\", \"latitude\", \"longitude\"], np.concatenate([pert_pl.t.isel(isobaricInhPa = 2).data, np.expand_dims(control_pl.t.isel(isobaricInhPa = 2).data, axis = 0)])),\n",
    "    \"z50\": ([\"ics\", \"latitude\", \"longitude\"], np.concatenate([pert_pl.z.isel(isobaricInhPa = 3).data, np.expand_dims(control_pl.z.isel(isobaricInhPa = 3).data, axis = 0)])),\n",
    "    \"r500\": ([\"ics\", \"latitude\", \"longitude\"], np.concatenate([pert_pl.r.isel(isobaricInhPa = 2).data, np.expand_dims(control_pl.r.isel(isobaricInhPa = 2).data, axis = 0)])),\n",
    "    \"r850\": ([\"ics\", \"latitude\", \"longitude\"], np.concatenate([pert_pl.r.isel(isobaricInhPa = 1).data, np.expand_dims(control_pl.r.isel(isobaricInhPa = 1).data, axis = 0)])),\n",
    "    \"tcwv\": ([\"ics\", \"latitude\", \"longitude\"], np.concatenate([pert_sfc.tcw.data, np.expand_dims(control_sfc.tcw.data, axis = 0)])),\n",
    "    })\n",
    "    data_array = dataset.to_stacked_array(new_dim = \"var\",sample_dims = [\"ics\", \"latitude\", \"longitude\"]).transpose(\"ics\", \"var\", \"latitude\", \"longitude\").reset_index(\"var\")\n",
    "    data_array = data_array.roll(longitude = -720).isel(latitude = slice(0,720))\n",
    "    xr.Dataset({\"fields\" : data_array}).to_netcdf(f\"{output_path}{date}.nc\")\n",
    "    print(f\"File {date} saved successfully\")"
   ]
  },
  {
   "cell_type": "code",
   "execution_count": 8,
   "id": "4848c91e-3189-40ac-8110-6a69ad9ee833",
   "metadata": {},
   "outputs": [
    {
     "name": "stdout",
     "output_type": "stream",
     "text": [
      "File 20220101_00 saved successfully\n",
      "--- 51.45341873168945 seconds ---\n"
     ]
    }
   ],
   "source": [
    "\n",
    "start_time = time.time()\n",
    "get_ics_data(path, date, output_path)\n",
    "print(\"--- %s seconds ---\" % (time.time() - start_time))"
   ]
  },
  {
   "cell_type": "code",
   "execution_count": null,
   "id": "966af4ef-432e-4762-8477-e17458515232",
   "metadata": {},
   "outputs": [],
   "source": []
  }
 ],
 "metadata": {
  "kernelspec": {
   "display_name": "Python 3 (ipykernel)",
   "language": "python",
   "name": "python3"
  },
  "language_info": {
   "codemirror_mode": {
    "name": "ipython",
    "version": 3
   },
   "file_extension": ".py",
   "mimetype": "text/x-python",
   "name": "python",
   "nbconvert_exporter": "python",
   "pygments_lexer": "ipython3",
   "version": "3.11.3"
  }
 },
 "nbformat": 4,
 "nbformat_minor": 5
}
