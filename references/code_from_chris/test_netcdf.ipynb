{
 "cells": [
  {
   "cell_type": "code",
   "execution_count": 1,
   "id": "6f9d60b8-85ae-4623-831d-8d9ce16f807a",
   "metadata": {},
   "outputs": [],
   "source": [
    "from netCDF4 import Dataset\n",
    "import numpy as np\n",
    "import xarray as xr\n",
    "import h5py\n",
    "import time"
   ]
  },
  {
   "cell_type": "markdown",
   "id": "313ed452-9ee8-474b-955b-572ee2b0629a",
   "metadata": {},
   "source": [
    "# Test NetCDF4 against H5py"
   ]
  },
  {
   "cell_type": "code",
   "execution_count": 2,
   "id": "5b228b06-f8f9-4f4d-890a-8105bb4bafae",
   "metadata": {},
   "outputs": [],
   "source": [
    "n_ics = 2\n",
    "step = 32\n",
    "pert = 50\n",
    "var = 5\n",
    "lat = 160\n",
    "lon = 230"
   ]
  },
  {
   "cell_type": "markdown",
   "id": "dfd1f2fb-dd04-4ccf-97d5-0c33d715cef6",
   "metadata": {},
   "source": [
    "## NetCDF4"
   ]
  },
  {
   "cell_type": "code",
   "execution_count": 3,
   "id": "049c1973-c19a-4f89-a1a2-707e501e5f22",
   "metadata": {},
   "outputs": [],
   "source": [
    "#Create Dataset\n",
    "root = Dataset(\"test.nc\", \"a\", format = \"NETCDF4\")"
   ]
  },
  {
   "cell_type": "code",
   "execution_count": 4,
   "id": "8042ce5d-662f-4600-b068-b03cf668bf12",
   "metadata": {},
   "outputs": [
    {
     "data": {
      "text/plain": [
       "<class 'netCDF4._netCDF4.Dimension'>: name = 'long', size = 230"
      ]
     },
     "execution_count": 4,
     "metadata": {},
     "output_type": "execute_result"
    }
   ],
   "source": [
    "# Create dimensions\n",
    "root.createDimension(\"ic\", n_ics)\n",
    "root.createDimension(\"step\", step)\n",
    "root.createDimension(\"pert\", pert)\n",
    "root.createDimension(\"var\", var)\n",
    "root.createDimension(\"lat\", lat)\n",
    "root.createDimension(\"long\", lon)"
   ]
  },
  {
   "cell_type": "code",
   "execution_count": 5,
   "id": "5afcd936-b65e-4479-b4e8-396125a6512f",
   "metadata": {},
   "outputs": [],
   "source": [
    "# Create variables\n",
    "fourcast = root.createVariable(\"fourcast\", \"f4\", (\"ic\", \"pert\", \"step\", \"var\", \"lat\", \"long\"), compression = \"zlib\")\n",
    "ground_truth = root.createVariable(\"ground_truth\", \"f4\", (\"ic\", \"step\", \"var\", \"lat\", \"long\"), compression = \"zlib\")"
   ]
  },
  {
   "cell_type": "code",
   "execution_count": 6,
   "id": "a38cbb8f-10cc-4405-acac-e50ab1fa4356",
   "metadata": {},
   "outputs": [
    {
     "name": "stdout",
     "output_type": "stream",
     "text": [
      "Time  = 29.05280303955078\n"
     ]
    }
   ],
   "source": [
    "norm1 = np.random.normal(size = (step, var, lat, lon))\n",
    "norm2 = np.random.normal(size = (pert, step, var, lat, lon))\n",
    "\n",
    "#Write file\n",
    "t1 = time.time()\n",
    "ground_truth[0] = norm1\n",
    "fourcast[0] = norm2\n",
    "t2 = time.time()-t1\n",
    "root.close()\n",
    "\n",
    "print(\"Time  = {}\".format(t2))"
   ]
  },
  {
   "cell_type": "markdown",
   "id": "16f7de3d-406e-4695-910c-41129a421414",
   "metadata": {},
   "source": [
    "## H5py"
   ]
  },
  {
   "cell_type": "code",
   "execution_count": 56,
   "id": "5be006f0-ca13-4596-ad2b-cdddee89a9e1",
   "metadata": {},
   "outputs": [],
   "source": [
    "f = h5py.File(\"test.h5\", 'a')"
   ]
  },
  {
   "cell_type": "code",
   "execution_count": 57,
   "id": "623d5d82-3622-4e93-981d-201c8eafb6d4",
   "metadata": {},
   "outputs": [],
   "source": [
    "try:\n",
    "    dataset_pred = f.create_dataset(name = \"predictions\", shape = (n_ics, pert, step, var, lat, lon), dtype = np.float32, compression = \"gzip\", compression_opts=9)\n",
    "except:\n",
    "    del f[\"predictions\"]\n",
    "    dataset_pred = f.create_dataset(name = \"predictions\", shape = (n_ics, pert, step, var, lat, lon), dtype = np.float32, compression = \"gzip\", compression_opts=9)\n",
    "\n",
    "#Create default dataset for real values\n",
    "try:\n",
    "    dataset_truth = f.create_dataset(name = \"ground_truth\", shape = (n_ics, step, var, lat, lon), dtype = np.float32, compression = \"gzip\", compression_opts=9)\n",
    "except:\n",
    "    del f[\"ground_truth\"]\n",
    "    dataset_truth = f.create_dataset(name = \"ground_truth\", shape = (n_ics, step, var, lat, lon), dtype = np.float32, compression = \"gzip\", compression_opts=9)"
   ]
  },
  {
   "cell_type": "code",
   "execution_count": 58,
   "id": "06d48dd9-8847-44d8-9862-43bf8c27acb9",
   "metadata": {},
   "outputs": [],
   "source": [
    "for i in range(n_ics):\n",
    "    norm1 = np.random.normal(size = (step, var, lat, lon))\n",
    "    norm2 = np.random.normal(size = (pert, step, var, lat, lon))\n",
    "    dataset_truth[i] = norm1\n",
    "    dataset_pred[i] = norm2\n",
    "f.close()"
   ]
  },
  {
   "cell_type": "code",
   "execution_count": null,
   "id": "ab96791b-08df-44d6-b8dc-9e64a8c43bb0",
   "metadata": {},
   "outputs": [],
   "source": []
  }
 ],
 "metadata": {
  "kernelspec": {
   "display_name": "Python 3 (ipykernel)",
   "language": "python",
   "name": "python3"
  },
  "language_info": {
   "codemirror_mode": {
    "name": "ipython",
    "version": 3
   },
   "file_extension": ".py",
   "mimetype": "text/x-python",
   "name": "python",
   "nbconvert_exporter": "python",
   "pygments_lexer": "ipython3",
   "version": "3.9.7"
  }
 },
 "nbformat": 4,
 "nbformat_minor": 5
}
