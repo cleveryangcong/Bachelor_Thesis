{
 "cells": [
  {
   "cell_type": "code",
   "execution_count": 1,
   "id": "9df86cd1",
   "metadata": {},
   "outputs": [
    {
     "data": {
      "application/javascript": [
       "\n",
       "            setTimeout(function() {\n",
       "                var nbb_cell_id = 1;\n",
       "                var nbb_unformatted_code = \"%load_ext nb_black\";\n",
       "                var nbb_formatted_code = \"%load_ext nb_black\";\n",
       "                var nbb_cells = Jupyter.notebook.get_cells();\n",
       "                for (var i = 0; i < nbb_cells.length; ++i) {\n",
       "                    if (nbb_cells[i].input_prompt_number == nbb_cell_id) {\n",
       "                        if (nbb_cells[i].get_text() == nbb_unformatted_code) {\n",
       "                             nbb_cells[i].set_text(nbb_formatted_code);\n",
       "                        }\n",
       "                        break;\n",
       "                    }\n",
       "                }\n",
       "            }, 500);\n",
       "            "
      ],
      "text/plain": [
       "<IPython.core.display.Javascript object>"
      ]
     },
     "metadata": {},
     "output_type": "display_data"
    }
   ],
   "source": [
    "%load_ext nb_black"
   ]
  },
  {
   "cell_type": "code",
   "execution_count": 2,
   "id": "f908b9dc",
   "metadata": {
    "scrolled": false
   },
   "outputs": [
    {
     "name": "stderr",
     "output_type": "stream",
     "text": [
      "2023-05-15 12:36:28.504290: W tensorflow/stream_executor/platform/default/dso_loader.cc:64] Could not load dynamic library 'libcudart.so.11.0'; dlerror: libcudart.so.11.0: cannot open shared object file: No such file or directory; LD_LIBRARY_PATH: :/opt/anaconda3/lib/\n",
      "2023-05-15 12:36:28.504326: I tensorflow/stream_executor/cuda/cudart_stub.cc:29] Ignore above cudart dlerror if you do not have a GPU set up on your machine.\n"
     ]
    },
    {
     "data": {
      "application/javascript": [
       "\n",
       "            setTimeout(function() {\n",
       "                var nbb_cell_id = 2;\n",
       "                var nbb_unformatted_code = \"# Basics\\nimport pandas as pd\\nimport numpy as np\\nimport matplotlib.pyplot as plt\\n\\n# Data\\nimport xarray as xr\\nimport h5py\\n\\n# Helpful\\nimport time\\nimport datetime\\nimport itertools\\nfrom itertools import product\\n\\n# My Methods\\nimport importlib\\nimport CRPS\\nimport EMOS\\nfrom CRPS import *\\nfrom EMOS import *\";\n",
       "                var nbb_formatted_code = \"# Basics\\nimport pandas as pd\\nimport numpy as np\\nimport matplotlib.pyplot as plt\\n\\n# Data\\nimport xarray as xr\\nimport h5py\\n\\n# Helpful\\nimport time\\nimport datetime\\nimport itertools\\nfrom itertools import product\\n\\n# My Methods\\nimport importlib\\nimport CRPS\\nimport EMOS\\nfrom CRPS import *\\nfrom EMOS import *\";\n",
       "                var nbb_cells = Jupyter.notebook.get_cells();\n",
       "                for (var i = 0; i < nbb_cells.length; ++i) {\n",
       "                    if (nbb_cells[i].input_prompt_number == nbb_cell_id) {\n",
       "                        if (nbb_cells[i].get_text() == nbb_unformatted_code) {\n",
       "                             nbb_cells[i].set_text(nbb_formatted_code);\n",
       "                        }\n",
       "                        break;\n",
       "                    }\n",
       "                }\n",
       "            }, 500);\n",
       "            "
      ],
      "text/plain": [
       "<IPython.core.display.Javascript object>"
      ]
     },
     "metadata": {},
     "output_type": "display_data"
    }
   ],
   "source": [
    "# Basics\n",
    "import pandas as pd\n",
    "import numpy as np\n",
    "import matplotlib.pyplot as plt\n",
    "\n",
    "# Data\n",
    "import xarray as xr\n",
    "import h5py\n",
    "\n",
    "# Helpful\n",
    "import time\n",
    "import datetime\n",
    "import itertools\n",
    "from itertools import product\n",
    "\n",
    "# My Methods\n",
    "import importlib\n",
    "import CRPS\n",
    "import EMOS\n",
    "from CRPS import *\n",
    "from EMOS import *"
   ]
  },
  {
   "cell_type": "code",
   "execution_count": 13,
   "id": "c64e26ab",
   "metadata": {},
   "outputs": [
    {
     "data": {
      "text/plain": [
       "<module 'EMOS' from '/home/dchen/BA_CH_EN/EMOS.py'>"
      ]
     },
     "execution_count": 13,
     "metadata": {},
     "output_type": "execute_result"
    },
    {
     "data": {
      "application/javascript": [
       "\n",
       "            setTimeout(function() {\n",
       "                var nbb_cell_id = 13;\n",
       "                var nbb_unformatted_code = \"importlib.reload(CRPS)\\nimportlib.reload(EMOS)\";\n",
       "                var nbb_formatted_code = \"importlib.reload(CRPS)\\nimportlib.reload(EMOS)\";\n",
       "                var nbb_cells = Jupyter.notebook.get_cells();\n",
       "                for (var i = 0; i < nbb_cells.length; ++i) {\n",
       "                    if (nbb_cells[i].input_prompt_number == nbb_cell_id) {\n",
       "                        if (nbb_cells[i].get_text() == nbb_unformatted_code) {\n",
       "                             nbb_cells[i].set_text(nbb_formatted_code);\n",
       "                        }\n",
       "                        break;\n",
       "                    }\n",
       "                }\n",
       "            }, 500);\n",
       "            "
      ],
      "text/plain": [
       "<IPython.core.display.Javascript object>"
      ]
     },
     "metadata": {},
     "output_type": "display_data"
    }
   ],
   "source": [
    "importlib.reload(CRPS)\n",
    "importlib.reload(EMOS)"
   ]
  },
  {
   "cell_type": "markdown",
   "id": "e935b1e1",
   "metadata": {},
   "source": [
    "### Goal of this notebook: Implement EMOS and train it on train dataset"
   ]
  },
  {
   "cell_type": "markdown",
   "id": "fa60fa63",
   "metadata": {},
   "source": [
    "#### 1. Load dataset"
   ]
  },
  {
   "cell_type": "code",
   "execution_count": 9,
   "id": "06eb437b",
   "metadata": {},
   "outputs": [
    {
     "data": {
      "application/javascript": [
       "\n",
       "            setTimeout(function() {\n",
       "                var nbb_cell_id = 9;\n",
       "                var nbb_unformatted_code = \"t2m_train = xr.open_dataset(\\\"/Data/Delong_BA_Data/Mean_ens_std/t2m_train.h5\\\")\\nt2m_X_train = t2m_train.t2m_train\\nt2m_y_train = t2m_train.t2m_truth\";\n",
       "                var nbb_formatted_code = \"t2m_train = xr.open_dataset(\\\"/Data/Delong_BA_Data/Mean_ens_std/t2m_train.h5\\\")\\nt2m_X_train = t2m_train.t2m_train\\nt2m_y_train = t2m_train.t2m_truth\";\n",
       "                var nbb_cells = Jupyter.notebook.get_cells();\n",
       "                for (var i = 0; i < nbb_cells.length; ++i) {\n",
       "                    if (nbb_cells[i].input_prompt_number == nbb_cell_id) {\n",
       "                        if (nbb_cells[i].get_text() == nbb_unformatted_code) {\n",
       "                             nbb_cells[i].set_text(nbb_formatted_code);\n",
       "                        }\n",
       "                        break;\n",
       "                    }\n",
       "                }\n",
       "            }, 500);\n",
       "            "
      ],
      "text/plain": [
       "<IPython.core.display.Javascript object>"
      ]
     },
     "metadata": {},
     "output_type": "display_data"
    }
   ],
   "source": [
    "t2m_train = xr.open_dataset(\"/Data/Delong_BA_Data/Mean_ens_std/t2m_train.h5\")\n",
    "t2m_X_train = t2m_train.t2m_train\n",
    "t2m_y_train = t2m_train.t2m_truth"
   ]
  },
  {
   "cell_type": "markdown",
   "id": "a860e26f",
   "metadata": {},
   "source": [
    "#### 2. Prepare Data\n",
    "Make datasets for all 32 lead times"
   ]
  },
  {
   "cell_type": "code",
   "execution_count": 164,
   "id": "68f847cb",
   "metadata": {},
   "outputs": [
    {
     "data": {
      "application/javascript": [
       "\n",
       "            setTimeout(function() {\n",
       "                var nbb_cell_id = 164;\n",
       "                var nbb_unformatted_code = \"t2m_X_train_glob_mean = []\\nt2m_X_train_glob_std = []\\nt2m_y_train_glob_truth = []\\nfor i in range(t2m_train.phony_dim_1.shape[0]):\\n    t2m_X_train_glob_mean.append(\\n        t2m_X_train.isel(phony_dim_4=0, phony_dim_1=i).values.flatten()\\n    )\\n    t2m_X_train_glob_std.append(\\n        t2m_X_train.isel(phony_dim_4=1, phony_dim_1=i).values.flatten()\\n    )\\n    t2m_y_train_glob_truth.append(\\n        t2m_y_train.isel(phony_dim_1=i).values.flatten()\\n    )\";\n",
       "                var nbb_formatted_code = \"t2m_X_train_glob_mean = []\\nt2m_X_train_glob_std = []\\nt2m_y_train_glob_truth = []\\nfor i in range(t2m_train.phony_dim_1.shape[0]):\\n    t2m_X_train_glob_mean.append(\\n        t2m_X_train.isel(phony_dim_4=0, phony_dim_1=i).values.flatten()\\n    )\\n    t2m_X_train_glob_std.append(\\n        t2m_X_train.isel(phony_dim_4=1, phony_dim_1=i).values.flatten()\\n    )\\n    t2m_y_train_glob_truth.append(t2m_y_train.isel(phony_dim_1=i).values.flatten())\";\n",
       "                var nbb_cells = Jupyter.notebook.get_cells();\n",
       "                for (var i = 0; i < nbb_cells.length; ++i) {\n",
       "                    if (nbb_cells[i].input_prompt_number == nbb_cell_id) {\n",
       "                        if (nbb_cells[i].get_text() == nbb_unformatted_code) {\n",
       "                             nbb_cells[i].set_text(nbb_formatted_code);\n",
       "                        }\n",
       "                        break;\n",
       "                    }\n",
       "                }\n",
       "            }, 500);\n",
       "            "
      ],
      "text/plain": [
       "<IPython.core.display.Javascript object>"
      ]
     },
     "metadata": {},
     "output_type": "display_data"
    }
   ],
   "source": [
    "t2m_X_train_glob_mean = []\n",
    "t2m_X_train_glob_std = []\n",
    "t2m_y_train_glob_truth = []\n",
    "for i in range(t2m_train.phony_dim_1.shape[0]):\n",
    "    t2m_X_train_glob_mean.append(\n",
    "        t2m_X_train.isel(phony_dim_4=0, phony_dim_1=i).values.flatten()\n",
    "    )\n",
    "    t2m_X_train_glob_std.append(\n",
    "        t2m_X_train.isel(phony_dim_4=1, phony_dim_1=i).values.flatten()\n",
    "    )\n",
    "    t2m_y_train_glob_truth.append(t2m_y_train.isel(phony_dim_1=i).values.flatten())"
   ]
  },
  {
   "cell_type": "code",
   "execution_count": 165,
   "id": "24f6b91b",
   "metadata": {},
   "outputs": [
    {
     "data": {
      "application/javascript": [
       "\n",
       "            setTimeout(function() {\n",
       "                var nbb_cell_id = 165;\n",
       "                var nbb_unformatted_code = \"# Only necessary for Baseline, not for EMOS\\n# Change all zeros in std to a small value epsilon\\nepsilon = 1e-9  # Small epsilon to add to zeros in std\\nfor i in range(len(t2m_X_train_glob_std)):\\n    t2m_X_train_glob_std[i][(t2m_X_train_glob_std[i] == 0)] += epsilon\";\n",
       "                var nbb_formatted_code = \"# Only necessary for Baseline, not for EMOS\\n# Change all zeros in std to a small value epsilon\\nepsilon = 1e-9  # Small epsilon to add to zeros in std\\nfor i in range(len(t2m_X_train_glob_std)):\\n    t2m_X_train_glob_std[i][(t2m_X_train_glob_std[i] == 0)] += epsilon\";\n",
       "                var nbb_cells = Jupyter.notebook.get_cells();\n",
       "                for (var i = 0; i < nbb_cells.length; ++i) {\n",
       "                    if (nbb_cells[i].input_prompt_number == nbb_cell_id) {\n",
       "                        if (nbb_cells[i].get_text() == nbb_unformatted_code) {\n",
       "                             nbb_cells[i].set_text(nbb_formatted_code);\n",
       "                        }\n",
       "                        break;\n",
       "                    }\n",
       "                }\n",
       "            }, 500);\n",
       "            "
      ],
      "text/plain": [
       "<IPython.core.display.Javascript object>"
      ]
     },
     "metadata": {},
     "output_type": "display_data"
    }
   ],
   "source": [
    "# Only necessary for Baseline, not for EMOS\n",
    "# Change all zeros in std to a small value epsilon\n",
    "epsilon = 1e-9  # Small epsilon to add to zeros in std\n",
    "for i in range(len(t2m_X_train_glob_std)):\n",
    "    t2m_X_train_glob_std[i][(t2m_X_train_glob_std[i] == 0)] += epsilon"
   ]
  },
  {
   "cell_type": "code",
   "execution_count": 177,
   "id": "921d3694",
   "metadata": {},
   "outputs": [
    {
     "data": {
      "application/javascript": [
       "\n",
       "            setTimeout(function() {\n",
       "                var nbb_cell_id = 177;\n",
       "                var nbb_unformatted_code = \"# Decide on which lead_time to test\\nlead_time = 1\";\n",
       "                var nbb_formatted_code = \"# Decide on which lead_time to test\\nlead_time = 1\";\n",
       "                var nbb_cells = Jupyter.notebook.get_cells();\n",
       "                for (var i = 0; i < nbb_cells.length; ++i) {\n",
       "                    if (nbb_cells[i].input_prompt_number == nbb_cell_id) {\n",
       "                        if (nbb_cells[i].get_text() == nbb_unformatted_code) {\n",
       "                             nbb_cells[i].set_text(nbb_formatted_code);\n",
       "                        }\n",
       "                        break;\n",
       "                    }\n",
       "                }\n",
       "            }, 500);\n",
       "            "
      ],
      "text/plain": [
       "<IPython.core.display.Javascript object>"
      ]
     },
     "metadata": {},
     "output_type": "display_data"
    }
   ],
   "source": [
    "# Decide on which lead_time to test\n",
    "lead_time = 1"
   ]
  },
  {
   "cell_type": "markdown",
   "id": "2c8e3e19",
   "metadata": {},
   "source": [
    "#### 3. Baseline"
   ]
  },
  {
   "cell_type": "code",
   "execution_count": 178,
   "id": "f269f4a2",
   "metadata": {},
   "outputs": [
    {
     "data": {
      "application/javascript": [
       "\n",
       "            setTimeout(function() {\n",
       "                var nbb_cell_id = 178;\n",
       "                var nbb_unformatted_code = \"crps_baseline = crps_normal(\\n    mu=t2m_X_train_glob_mean[lead_time],\\n    sigma=t2m_X_train_glob_std[lead_time],\\n    y=t2m_y_train_glob_truth[lead_time],\\n)\";\n",
       "                var nbb_formatted_code = \"crps_baseline = crps_normal(\\n    mu=t2m_X_train_glob_mean[lead_time],\\n    sigma=t2m_X_train_glob_std[lead_time],\\n    y=t2m_y_train_glob_truth[lead_time],\\n)\";\n",
       "                var nbb_cells = Jupyter.notebook.get_cells();\n",
       "                for (var i = 0; i < nbb_cells.length; ++i) {\n",
       "                    if (nbb_cells[i].input_prompt_number == nbb_cell_id) {\n",
       "                        if (nbb_cells[i].get_text() == nbb_unformatted_code) {\n",
       "                             nbb_cells[i].set_text(nbb_formatted_code);\n",
       "                        }\n",
       "                        break;\n",
       "                    }\n",
       "                }\n",
       "            }, 500);\n",
       "            "
      ],
      "text/plain": [
       "<IPython.core.display.Javascript object>"
      ]
     },
     "metadata": {},
     "output_type": "display_data"
    }
   ],
   "source": [
    "crps_baseline = crps_normal(\n",
    "    mu=t2m_X_train_glob_mean[lead_time],\n",
    "    sigma=t2m_X_train_glob_std[lead_time],\n",
    "    y=t2m_y_train_glob_truth[lead_time],\n",
    ")"
   ]
  },
  {
   "cell_type": "code",
   "execution_count": 179,
   "id": "78ecdd12",
   "metadata": {},
   "outputs": [
    {
     "data": {
      "text/plain": [
       "0.10622623690424136"
      ]
     },
     "execution_count": 179,
     "metadata": {},
     "output_type": "execute_result"
    },
    {
     "data": {
      "application/javascript": [
       "\n",
       "            setTimeout(function() {\n",
       "                var nbb_cell_id = 179;\n",
       "                var nbb_unformatted_code = \"crps_baseline.mean()\";\n",
       "                var nbb_formatted_code = \"crps_baseline.mean()\";\n",
       "                var nbb_cells = Jupyter.notebook.get_cells();\n",
       "                for (var i = 0; i < nbb_cells.length; ++i) {\n",
       "                    if (nbb_cells[i].input_prompt_number == nbb_cell_id) {\n",
       "                        if (nbb_cells[i].get_text() == nbb_unformatted_code) {\n",
       "                             nbb_cells[i].set_text(nbb_formatted_code);\n",
       "                        }\n",
       "                        break;\n",
       "                    }\n",
       "                }\n",
       "            }, 500);\n",
       "            "
      ],
      "text/plain": [
       "<IPython.core.display.Javascript object>"
      ]
     },
     "metadata": {},
     "output_type": "display_data"
    }
   ],
   "source": [
    "crps_baseline.mean()"
   ]
  },
  {
   "cell_type": "markdown",
   "id": "d819c7f6",
   "metadata": {},
   "source": [
    "#### 4. Train global Emos"
   ]
  },
  {
   "cell_type": "code",
   "execution_count": 180,
   "id": "94265d41",
   "metadata": {},
   "outputs": [
    {
     "data": {
      "application/javascript": [
       "\n",
       "            setTimeout(function() {\n",
       "                var nbb_cell_id = 180;\n",
       "                var nbb_unformatted_code = \"EMOS_glob = build_EMOS_network_keras(compile=True)\";\n",
       "                var nbb_formatted_code = \"EMOS_glob = build_EMOS_network_keras(compile=True)\";\n",
       "                var nbb_cells = Jupyter.notebook.get_cells();\n",
       "                for (var i = 0; i < nbb_cells.length; ++i) {\n",
       "                    if (nbb_cells[i].input_prompt_number == nbb_cell_id) {\n",
       "                        if (nbb_cells[i].get_text() == nbb_unformatted_code) {\n",
       "                             nbb_cells[i].set_text(nbb_formatted_code);\n",
       "                        }\n",
       "                        break;\n",
       "                    }\n",
       "                }\n",
       "            }, 500);\n",
       "            "
      ],
      "text/plain": [
       "<IPython.core.display.Javascript object>"
      ]
     },
     "metadata": {},
     "output_type": "display_data"
    }
   ],
   "source": [
    "EMOS_glob = build_EMOS_network_keras(compile=True)"
   ]
  },
  {
   "cell_type": "code",
   "execution_count": null,
   "id": "480b3851",
   "metadata": {
    "scrolled": true
   },
   "outputs": [
    {
     "name": "stdout",
     "output_type": "stream",
     "text": [
      "Epoch 1/5\n",
      "3567/3567 [==============================] - 10s 2ms/step - loss: 0.0987 - val_loss: 0.0991\n",
      "Epoch 2/5\n",
      "3567/3567 [==============================] - 9s 2ms/step - loss: 0.0983 - val_loss: 0.0991\n",
      "Epoch 3/5\n",
      "3567/3567 [==============================] - 9s 2ms/step - loss: 0.0983 - val_loss: 0.0991\n",
      "Epoch 4/5\n",
      "3567/3567 [==============================] - 9s 2ms/step - loss: 0.0983 - val_loss: 0.0991\n",
      "Epoch 5/5\n",
      "1088/3567 [========>.....................] - ETA: 5s - loss: 0.0983"
     ]
    }
   ],
   "source": [
    "EMOS_glob.fit(\n",
    "    [t2m_X_train_glob_mean[lead_time], t2m_X_train_glob_std[lead_time]],\n",
    "    t2m_y_train_glob_truth[lead_time],\n",
    "    batch_size=5000,\n",
    "    epochs=5,\n",
    "    validation_split=0.2,\n",
    ")"
   ]
  },
  {
   "cell_type": "code",
   "execution_count": 106,
   "id": "da0854b9",
   "metadata": {},
   "outputs": [
    {
     "data": {
      "application/javascript": [
       "\n",
       "            setTimeout(function() {\n",
       "                var nbb_cell_id = 106;\n",
       "                var nbb_unformatted_code = \"preds_train = EMOS_glob.predict(\\n    [t2m_X_train_glob_mean[:100], t2m_X_train_glob_std[:100]], batch_size=24\\n)\";\n",
       "                var nbb_formatted_code = \"preds_train = EMOS_glob.predict(\\n    [t2m_X_train_glob_mean[:100], t2m_X_train_glob_std[:100]], batch_size=24\\n)\";\n",
       "                var nbb_cells = Jupyter.notebook.get_cells();\n",
       "                for (var i = 0; i < nbb_cells.length; ++i) {\n",
       "                    if (nbb_cells[i].input_prompt_number == nbb_cell_id) {\n",
       "                        if (nbb_cells[i].get_text() == nbb_unformatted_code) {\n",
       "                             nbb_cells[i].set_text(nbb_formatted_code);\n",
       "                        }\n",
       "                        break;\n",
       "                    }\n",
       "                }\n",
       "            }, 500);\n",
       "            "
      ],
      "text/plain": [
       "<IPython.core.display.Javascript object>"
      ]
     },
     "metadata": {},
     "output_type": "display_data"
    }
   ],
   "source": [
    "preds_train = EMOS_glob.predict(\n",
    "    [t2m_X_train_glob_mean[:100], t2m_X_train_glob_std[:100]], batch_size=24\n",
    ")"
   ]
  },
  {
   "cell_type": "code",
   "execution_count": 109,
   "id": "82f9bf74",
   "metadata": {},
   "outputs": [
    {
     "data": {
      "text/plain": [
       "array([-2.1891024, -2.2118454, -2.2208047, -2.1900213, -2.1792243,\n",
       "       -2.1557922, -2.0930772, -2.0271459, -1.9798223, -1.9212422],\n",
       "      dtype=float32)"
      ]
     },
     "execution_count": 109,
     "metadata": {},
     "output_type": "execute_result"
    },
    {
     "data": {
      "application/javascript": [
       "\n",
       "            setTimeout(function() {\n",
       "                var nbb_cell_id = 109;\n",
       "                var nbb_unformatted_code = \"t2m_y_train_glob_truth[:10]\";\n",
       "                var nbb_formatted_code = \"t2m_y_train_glob_truth[:10]\";\n",
       "                var nbb_cells = Jupyter.notebook.get_cells();\n",
       "                for (var i = 0; i < nbb_cells.length; ++i) {\n",
       "                    if (nbb_cells[i].input_prompt_number == nbb_cell_id) {\n",
       "                        if (nbb_cells[i].get_text() == nbb_unformatted_code) {\n",
       "                             nbb_cells[i].set_text(nbb_formatted_code);\n",
       "                        }\n",
       "                        break;\n",
       "                    }\n",
       "                }\n",
       "            }, 500);\n",
       "            "
      ],
      "text/plain": [
       "<IPython.core.display.Javascript object>"
      ]
     },
     "metadata": {},
     "output_type": "display_data"
    }
   ],
   "source": [
    "t2m_y_train_glob_truth[:10]"
   ]
  },
  {
   "cell_type": "code",
   "execution_count": 110,
   "id": "5dc961b7",
   "metadata": {
    "scrolled": false
   },
   "outputs": [
    {
     "data": {
      "text/plain": [
       "array([-2.1891024, -2.2118454, -2.220804 , -2.1900198, -2.1792238,\n",
       "       -2.1557922, -2.093078 , -2.0271456, -1.979822 , -1.9212419],\n",
       "      dtype=float32)"
      ]
     },
     "execution_count": 110,
     "metadata": {},
     "output_type": "execute_result"
    },
    {
     "data": {
      "application/javascript": [
       "\n",
       "            setTimeout(function() {\n",
       "                var nbb_cell_id = 110;\n",
       "                var nbb_unformatted_code = \"t2m_X_train_glob_mean[:10]\";\n",
       "                var nbb_formatted_code = \"t2m_X_train_glob_mean[:10]\";\n",
       "                var nbb_cells = Jupyter.notebook.get_cells();\n",
       "                for (var i = 0; i < nbb_cells.length; ++i) {\n",
       "                    if (nbb_cells[i].input_prompt_number == nbb_cell_id) {\n",
       "                        if (nbb_cells[i].get_text() == nbb_unformatted_code) {\n",
       "                             nbb_cells[i].set_text(nbb_formatted_code);\n",
       "                        }\n",
       "                        break;\n",
       "                    }\n",
       "                }\n",
       "            }, 500);\n",
       "            "
      ],
      "text/plain": [
       "<IPython.core.display.Javascript object>"
      ]
     },
     "metadata": {},
     "output_type": "display_data"
    }
   ],
   "source": [
    "t2m_X_train_glob_mean[:10]"
   ]
  },
  {
   "cell_type": "code",
   "execution_count": null,
   "id": "7ab17f8e",
   "metadata": {},
   "outputs": [],
   "source": []
  }
 ],
 "metadata": {
  "kernelspec": {
   "display_name": "Python 3 (ipykernel)",
   "language": "python",
   "name": "python3"
  },
  "language_info": {
   "codemirror_mode": {
    "name": "ipython",
    "version": 3
   },
   "file_extension": ".py",
   "mimetype": "text/x-python",
   "name": "python",
   "nbconvert_exporter": "python",
   "pygments_lexer": "ipython3",
   "version": "3.9.7"
  }
 },
 "nbformat": 4,
 "nbformat_minor": 5
}
