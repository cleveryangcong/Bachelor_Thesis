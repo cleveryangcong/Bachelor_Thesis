{
 "cells": [
  {
   "cell_type": "code",
   "execution_count": null,
   "id": "eaa9ff3a",
   "metadata": {
    "scrolled": true
   },
   "outputs": [],
   "source": [
    "%load_ext nb_black"
   ]
  },
  {
   "cell_type": "code",
   "execution_count": null,
   "id": "367b56f9",
   "metadata": {
    "scrolled": false
   },
   "outputs": [],
   "source": [
    "# Basics\n",
    "import pandas as pd\n",
    "import numpy as np\n",
    "import matplotlib.pyplot as plt\n",
    "\n",
    "# Data\n",
    "import xarray as xr\n",
    "import h5py\n",
    "\n",
    "# Helpful\n",
    "import time\n",
    "import datetime\n",
    "import itertools\n",
    "from itertools import product\n",
    "\n",
    "# My Methods\n",
    "import importlib\n",
    "import CRPS\n",
    "import EMOS\n",
    "from CRPS import *\n",
    "from EMOS import *"
   ]
  },
  {
   "cell_type": "code",
   "execution_count": null,
   "id": "9f469b71",
   "metadata": {},
   "outputs": [],
   "source": [
    "importlib.reload(CRPS)\n",
    "importlib.reload(EMOS)"
   ]
  },
  {
   "cell_type": "markdown",
   "id": "0c15b4c6",
   "metadata": {},
   "source": [
    "### Goal of this notebook: Implement EMOS and train it on train dataset"
   ]
  },
  {
   "cell_type": "markdown",
   "id": "30220bda",
   "metadata": {},
   "source": [
    "#### 1. Load dataset"
   ]
  },
  {
   "cell_type": "code",
   "execution_count": null,
   "id": "88dcbc3e",
   "metadata": {},
   "outputs": [],
   "source": [
    "# Training Dataset\n",
    "t2m_train = xr.open_dataset(\"/Data/Delong_BA_Data/Mean_ens_std/t2m_train.h5\")\n",
    "t2m_X_train = t2m_train.t2m_train\n",
    "t2m_y_train = t2m_train.t2m_truth"
   ]
  },
  {
   "cell_type": "code",
   "execution_count": null,
   "id": "5ed6ad5a",
   "metadata": {},
   "outputs": [],
   "source": [
    "# Test Detaset\n",
    "t2m_test = xr.open_dataset(\"/Data/Delong_BA_Data/Mean_ens_std/t2m_test.h5\")\n",
    "t2m_X_test = t2m_test.t2m_test\n",
    "t2m_y_test = t2m_test.t2mtest_truth"
   ]
  },
  {
   "cell_type": "markdown",
   "id": "9b1af5a5",
   "metadata": {},
   "source": [
    "#### 2. Prepare Data\n",
    "Make datasets for all 32 lead times"
   ]
  },
  {
   "cell_type": "markdown",
   "id": "1a5ef592",
   "metadata": {},
   "source": [
    "##### 2.1 Train Dataset"
   ]
  },
  {
   "cell_type": "code",
   "execution_count": null,
   "id": "2aa96d58",
   "metadata": {},
   "outputs": [],
   "source": [
    "t2m_X_train_glob_mean = []\n",
    "t2m_X_train_glob_std = []\n",
    "t2m_y_train_glob_truth = []\n",
    "for i in range(t2m_train.phony_dim_1.shape[0]):\n",
    "    t2m_X_train_glob_mean.append(\n",
    "        t2m_X_train.isel(phony_dim_4=0, phony_dim_1=i).values.flatten()\n",
    "    )\n",
    "    t2m_X_train_glob_std.append(\n",
    "        t2m_X_train.isel(phony_dim_4=1, phony_dim_1=i).values.flatten()\n",
    "    )\n",
    "    t2m_y_train_glob_truth.append(t2m_y_train.isel(phony_dim_1=i).values.flatten())"
   ]
  },
  {
   "cell_type": "code",
   "execution_count": null,
   "id": "2d1c0fa1",
   "metadata": {},
   "outputs": [],
   "source": [
    "# Only necessary for Baseline, not for EMOS\n",
    "# Change all zeros in std to a small value epsilon\n",
    "epsilon = 1e-9  # Small epsilon to add to zeros in std\n",
    "for i in range(len(t2m_X_train_glob_std)):\n",
    "    t2m_X_train_glob_std[i][(t2m_X_train_glob_std[i] == 0)] += epsilon"
   ]
  },
  {
   "cell_type": "markdown",
   "id": "45fbeff0",
   "metadata": {},
   "source": [
    "##### 2.2 Test Dataset"
   ]
  },
  {
   "cell_type": "code",
   "execution_count": null,
   "id": "b2860024",
   "metadata": {},
   "outputs": [],
   "source": [
    "t2m_X_test_glob_mean = []\n",
    "t2m_X_test_glob_std = []\n",
    "t2m_y_test_glob_truth = []\n",
    "for i in range(t2m_test.phony_dim_1.shape[0]):\n",
    "    t2m_X_test_glob_mean.append(\n",
    "        t2m_X_test.isel(phony_dim_4=0, phony_dim_1=i).values.flatten()\n",
    "    )\n",
    "    t2m_X_test_glob_std.append(\n",
    "        t2m_X_test.isel(phony_dim_4=1, phony_dim_1=i).values.flatten()\n",
    "    )\n",
    "    t2m_y_test_glob_truth.append(t2m_y_test.isel(phony_dim_1=i).values.flatten())"
   ]
  },
  {
   "cell_type": "code",
   "execution_count": null,
   "id": "b76f6d49",
   "metadata": {},
   "outputs": [],
   "source": [
    "# Only necessary for Baseline, not for EMOS\n",
    "# Change all zeros in std to a small value epsilon\n",
    "epsilon = 1e-9  # Small epsilon to add to zeros in std\n",
    "for i in range(len(t2m_X_test_glob_std)):\n",
    "    t2m_X_test_glob_std[i][(t2m_X_test_glob_std[i] == 0)] += epsilon"
   ]
  },
  {
   "cell_type": "code",
   "execution_count": null,
   "id": "679e7763",
   "metadata": {
    "scrolled": true
   },
   "outputs": [],
   "source": [
    "# Decide on which lead_time to test\n",
    "lead_time = 8"
   ]
  },
  {
   "cell_type": "markdown",
   "id": "c940baba",
   "metadata": {},
   "source": [
    "#### 3. Baseline"
   ]
  },
  {
   "cell_type": "code",
   "execution_count": null,
   "id": "df0d5070",
   "metadata": {},
   "outputs": [],
   "source": [
    "crps_baseline = crps_normal(\n",
    "    mu=t2m_X_train_glob_mean[lead_time],\n",
    "    sigma=t2m_X_train_glob_std[lead_time],\n",
    "    y=t2m_y_train_glob_truth[lead_time],\n",
    ")"
   ]
  },
  {
   "cell_type": "code",
   "execution_count": null,
   "id": "19fa3997",
   "metadata": {},
   "outputs": [],
   "source": [
    "crps_baseline.mean()"
   ]
  },
  {
   "cell_type": "markdown",
   "id": "4a389490",
   "metadata": {},
   "source": [
    "#### 4. Train global Emos"
   ]
  },
  {
   "cell_type": "code",
   "execution_count": null,
   "id": "bf85f604",
   "metadata": {},
   "outputs": [],
   "source": [
    "EMOS_glob = build_EMOS_network_keras(compile=True)"
   ]
  },
  {
   "cell_type": "code",
   "execution_count": null,
   "id": "06c99f08",
   "metadata": {
    "scrolled": false
   },
   "outputs": [],
   "source": [
    "EMOS_glob.fit(\n",
    "    [t2m_X_train_glob_mean[lead_time], t2m_X_train_glob_std[lead_time]],\n",
    "    t2m_y_train_glob_truth[lead_time],\n",
    "    batch_size=5000,\n",
    "    epochs=5,\n",
    "    validation_split=0.2,\n",
    ")"
   ]
  },
  {
   "cell_type": "code",
   "execution_count": null,
   "id": "df3a4c8c",
   "metadata": {},
   "outputs": [],
   "source": [
    "t2m_31_preds = EMOS_glob.predict(\n",
    "    [t2m_X_test_glob_mean[lead_time], t2m_X_test_glob_std[lead_time]]\n",
    ")"
   ]
  },
  {
   "cell_type": "code",
   "execution_count": null,
   "id": "f5ed7b92",
   "metadata": {},
   "outputs": [],
   "source": [
    "crps_emos = crps_normal(\n",
    "    mu=t2m_31_preds[:, 0], sigma=t2m_31_preds[:, 0], y=t2m_y_test_glob_truth[lead_time]\n",
    ")"
   ]
  },
  {
   "cell_type": "code",
   "execution_count": null,
   "id": "666593aa",
   "metadata": {},
   "outputs": [],
   "source": [
    "crps_emos.mean()"
   ]
  },
  {
   "cell_type": "code",
   "execution_count": null,
   "id": "2a1e205c",
   "metadata": {},
   "outputs": [],
   "source": []
  }
 ],
 "metadata": {
  "kernelspec": {
   "display_name": "Python 3 (ipykernel)",
   "language": "python",
   "name": "python3"
  },
  "language_info": {
   "codemirror_mode": {
    "name": "ipython",
    "version": 3
   },
   "file_extension": ".py",
   "mimetype": "text/x-python",
   "name": "python",
   "nbconvert_exporter": "python",
   "pygments_lexer": "ipython3",
   "version": "3.9.7"
  }
 },
 "nbformat": 4,
 "nbformat_minor": 5
}
