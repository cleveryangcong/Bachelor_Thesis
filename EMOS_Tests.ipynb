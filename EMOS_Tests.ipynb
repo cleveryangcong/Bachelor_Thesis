{
 "cells": [
  {
   "cell_type": "code",
   "execution_count": 1,
   "id": "eaa9ff3a",
   "metadata": {},
   "outputs": [
    {
     "data": {
      "application/javascript": [
       "\n",
       "            setTimeout(function() {\n",
       "                var nbb_cell_id = 1;\n",
       "                var nbb_unformatted_code = \"%load_ext nb_black\";\n",
       "                var nbb_formatted_code = \"%load_ext nb_black\";\n",
       "                var nbb_cells = Jupyter.notebook.get_cells();\n",
       "                for (var i = 0; i < nbb_cells.length; ++i) {\n",
       "                    if (nbb_cells[i].input_prompt_number == nbb_cell_id) {\n",
       "                        if (nbb_cells[i].get_text() == nbb_unformatted_code) {\n",
       "                             nbb_cells[i].set_text(nbb_formatted_code);\n",
       "                        }\n",
       "                        break;\n",
       "                    }\n",
       "                }\n",
       "            }, 500);\n",
       "            "
      ],
      "text/plain": [
       "<IPython.core.display.Javascript object>"
      ]
     },
     "metadata": {},
     "output_type": "display_data"
    }
   ],
   "source": [
    "%load_ext nb_black"
   ]
  },
  {
   "cell_type": "code",
   "execution_count": 2,
   "id": "367b56f9",
   "metadata": {
    "scrolled": false
   },
   "outputs": [
    {
     "name": "stderr",
     "output_type": "stream",
     "text": [
      "2023-05-15 12:36:28.504290: W tensorflow/stream_executor/platform/default/dso_loader.cc:64] Could not load dynamic library 'libcudart.so.11.0'; dlerror: libcudart.so.11.0: cannot open shared object file: No such file or directory; LD_LIBRARY_PATH: :/opt/anaconda3/lib/\n",
      "2023-05-15 12:36:28.504326: I tensorflow/stream_executor/cuda/cudart_stub.cc:29] Ignore above cudart dlerror if you do not have a GPU set up on your machine.\n"
     ]
    },
    {
     "data": {
      "application/javascript": [
       "\n",
       "            setTimeout(function() {\n",
       "                var nbb_cell_id = 2;\n",
       "                var nbb_unformatted_code = \"# Basics\\nimport pandas as pd\\nimport numpy as np\\nimport matplotlib.pyplot as plt\\n\\n# Data\\nimport xarray as xr\\nimport h5py\\n\\n# Helpful\\nimport time\\nimport datetime\\nimport itertools\\nfrom itertools import product\\n\\n# My Methods\\nimport importlib\\nimport CRPS\\nimport EMOS\\nfrom CRPS import *\\nfrom EMOS import *\";\n",
       "                var nbb_formatted_code = \"# Basics\\nimport pandas as pd\\nimport numpy as np\\nimport matplotlib.pyplot as plt\\n\\n# Data\\nimport xarray as xr\\nimport h5py\\n\\n# Helpful\\nimport time\\nimport datetime\\nimport itertools\\nfrom itertools import product\\n\\n# My Methods\\nimport importlib\\nimport CRPS\\nimport EMOS\\nfrom CRPS import *\\nfrom EMOS import *\";\n",
       "                var nbb_cells = Jupyter.notebook.get_cells();\n",
       "                for (var i = 0; i < nbb_cells.length; ++i) {\n",
       "                    if (nbb_cells[i].input_prompt_number == nbb_cell_id) {\n",
       "                        if (nbb_cells[i].get_text() == nbb_unformatted_code) {\n",
       "                             nbb_cells[i].set_text(nbb_formatted_code);\n",
       "                        }\n",
       "                        break;\n",
       "                    }\n",
       "                }\n",
       "            }, 500);\n",
       "            "
      ],
      "text/plain": [
       "<IPython.core.display.Javascript object>"
      ]
     },
     "metadata": {},
     "output_type": "display_data"
    }
   ],
   "source": [
    "# Basics\n",
    "import pandas as pd\n",
    "import numpy as np\n",
    "import matplotlib.pyplot as plt\n",
    "\n",
    "# Data\n",
    "import xarray as xr\n",
    "import h5py\n",
    "\n",
    "# Helpful\n",
    "import time\n",
    "import datetime\n",
    "import itertools\n",
    "from itertools import product\n",
    "\n",
    "# My Methods\n",
    "import importlib\n",
    "import CRPS\n",
    "import EMOS\n",
    "from CRPS import *\n",
    "from EMOS import *"
   ]
  },
  {
   "cell_type": "code",
   "execution_count": 13,
   "id": "9f469b71",
   "metadata": {},
   "outputs": [
    {
     "data": {
      "text/plain": [
       "<module 'EMOS' from '/home/dchen/BA_CH_EN/EMOS.py'>"
      ]
     },
     "execution_count": 13,
     "metadata": {},
     "output_type": "execute_result"
    },
    {
     "data": {
      "application/javascript": [
       "\n",
       "            setTimeout(function() {\n",
       "                var nbb_cell_id = 13;\n",
       "                var nbb_unformatted_code = \"importlib.reload(CRPS)\\nimportlib.reload(EMOS)\";\n",
       "                var nbb_formatted_code = \"importlib.reload(CRPS)\\nimportlib.reload(EMOS)\";\n",
       "                var nbb_cells = Jupyter.notebook.get_cells();\n",
       "                for (var i = 0; i < nbb_cells.length; ++i) {\n",
       "                    if (nbb_cells[i].input_prompt_number == nbb_cell_id) {\n",
       "                        if (nbb_cells[i].get_text() == nbb_unformatted_code) {\n",
       "                             nbb_cells[i].set_text(nbb_formatted_code);\n",
       "                        }\n",
       "                        break;\n",
       "                    }\n",
       "                }\n",
       "            }, 500);\n",
       "            "
      ],
      "text/plain": [
       "<IPython.core.display.Javascript object>"
      ]
     },
     "metadata": {},
     "output_type": "display_data"
    }
   ],
   "source": [
    "importlib.reload(CRPS)\n",
    "importlib.reload(EMOS)"
   ]
  },
  {
   "cell_type": "markdown",
   "id": "0c15b4c6",
   "metadata": {},
   "source": [
    "### Goal of this notebook: Implement EMOS and train it on train dataset"
   ]
  },
  {
   "cell_type": "markdown",
   "id": "30220bda",
   "metadata": {},
   "source": [
    "#### 1. Load dataset"
   ]
  },
  {
   "cell_type": "code",
   "execution_count": 9,
   "id": "88dcbc3e",
   "metadata": {},
   "outputs": [
    {
     "data": {
      "application/javascript": [
       "\n",
       "            setTimeout(function() {\n",
       "                var nbb_cell_id = 9;\n",
       "                var nbb_unformatted_code = \"t2m_train = xr.open_dataset(\\\"/Data/Delong_BA_Data/Mean_ens_std/t2m_train.h5\\\")\\nt2m_X_train = t2m_train.t2m_train\\nt2m_y_train = t2m_train.t2m_truth\";\n",
       "                var nbb_formatted_code = \"t2m_train = xr.open_dataset(\\\"/Data/Delong_BA_Data/Mean_ens_std/t2m_train.h5\\\")\\nt2m_X_train = t2m_train.t2m_train\\nt2m_y_train = t2m_train.t2m_truth\";\n",
       "                var nbb_cells = Jupyter.notebook.get_cells();\n",
       "                for (var i = 0; i < nbb_cells.length; ++i) {\n",
       "                    if (nbb_cells[i].input_prompt_number == nbb_cell_id) {\n",
       "                        if (nbb_cells[i].get_text() == nbb_unformatted_code) {\n",
       "                             nbb_cells[i].set_text(nbb_formatted_code);\n",
       "                        }\n",
       "                        break;\n",
       "                    }\n",
       "                }\n",
       "            }, 500);\n",
       "            "
      ],
      "text/plain": [
       "<IPython.core.display.Javascript object>"
      ]
     },
     "metadata": {},
     "output_type": "display_data"
    }
   ],
   "source": [
    "t2m_train = xr.open_dataset(\"/Data/Delong_BA_Data/Mean_ens_std/t2m_train.h5\")\n",
    "t2m_X_train = t2m_train.t2m_train\n",
    "t2m_y_train = t2m_train.t2m_truth"
   ]
  },
  {
   "cell_type": "markdown",
   "id": "9b1af5a5",
   "metadata": {},
   "source": [
    "#### 2. Prepare Data\n",
    "Make datasets for all 32 lead times"
   ]
  },
  {
   "cell_type": "code",
   "execution_count": 164,
   "id": "2aa96d58",
   "metadata": {},
   "outputs": [
    {
     "data": {
      "application/javascript": [
       "\n",
       "            setTimeout(function() {\n",
       "                var nbb_cell_id = 164;\n",
       "                var nbb_unformatted_code = \"t2m_X_train_glob_mean = []\\nt2m_X_train_glob_std = []\\nt2m_y_train_glob_truth = []\\nfor i in range(t2m_train.phony_dim_1.shape[0]):\\n    t2m_X_train_glob_mean.append(\\n        t2m_X_train.isel(phony_dim_4=0, phony_dim_1=i).values.flatten()\\n    )\\n    t2m_X_train_glob_std.append(\\n        t2m_X_train.isel(phony_dim_4=1, phony_dim_1=i).values.flatten()\\n    )\\n    t2m_y_train_glob_truth.append(\\n        t2m_y_train.isel(phony_dim_1=i).values.flatten()\\n    )\";\n",
       "                var nbb_formatted_code = \"t2m_X_train_glob_mean = []\\nt2m_X_train_glob_std = []\\nt2m_y_train_glob_truth = []\\nfor i in range(t2m_train.phony_dim_1.shape[0]):\\n    t2m_X_train_glob_mean.append(\\n        t2m_X_train.isel(phony_dim_4=0, phony_dim_1=i).values.flatten()\\n    )\\n    t2m_X_train_glob_std.append(\\n        t2m_X_train.isel(phony_dim_4=1, phony_dim_1=i).values.flatten()\\n    )\\n    t2m_y_train_glob_truth.append(t2m_y_train.isel(phony_dim_1=i).values.flatten())\";\n",
       "                var nbb_cells = Jupyter.notebook.get_cells();\n",
       "                for (var i = 0; i < nbb_cells.length; ++i) {\n",
       "                    if (nbb_cells[i].input_prompt_number == nbb_cell_id) {\n",
       "                        if (nbb_cells[i].get_text() == nbb_unformatted_code) {\n",
       "                             nbb_cells[i].set_text(nbb_formatted_code);\n",
       "                        }\n",
       "                        break;\n",
       "                    }\n",
       "                }\n",
       "            }, 500);\n",
       "            "
      ],
      "text/plain": [
       "<IPython.core.display.Javascript object>"
      ]
     },
     "metadata": {},
     "output_type": "display_data"
    }
   ],
   "source": [
    "t2m_X_train_glob_mean = []\n",
    "t2m_X_train_glob_std = []\n",
    "t2m_y_train_glob_truth = []\n",
    "for i in range(t2m_train.phony_dim_1.shape[0]):\n",
    "    t2m_X_train_glob_mean.append(\n",
    "        t2m_X_train.isel(phony_dim_4=0, phony_dim_1=i).values.flatten()\n",
    "    )\n",
    "    t2m_X_train_glob_std.append(\n",
    "        t2m_X_train.isel(phony_dim_4=1, phony_dim_1=i).values.flatten()\n",
    "    )\n",
    "    t2m_y_train_glob_truth.append(t2m_y_train.isel(phony_dim_1=i).values.flatten())"
   ]
  },
  {
   "cell_type": "code",
   "execution_count": 165,
   "id": "2d1c0fa1",
   "metadata": {},
   "outputs": [
    {
     "data": {
      "application/javascript": [
       "\n",
       "            setTimeout(function() {\n",
       "                var nbb_cell_id = 165;\n",
       "                var nbb_unformatted_code = \"# Only necessary for Baseline, not for EMOS\\n# Change all zeros in std to a small value epsilon\\nepsilon = 1e-9  # Small epsilon to add to zeros in std\\nfor i in range(len(t2m_X_train_glob_std)):\\n    t2m_X_train_glob_std[i][(t2m_X_train_glob_std[i] == 0)] += epsilon\";\n",
       "                var nbb_formatted_code = \"# Only necessary for Baseline, not for EMOS\\n# Change all zeros in std to a small value epsilon\\nepsilon = 1e-9  # Small epsilon to add to zeros in std\\nfor i in range(len(t2m_X_train_glob_std)):\\n    t2m_X_train_glob_std[i][(t2m_X_train_glob_std[i] == 0)] += epsilon\";\n",
       "                var nbb_cells = Jupyter.notebook.get_cells();\n",
       "                for (var i = 0; i < nbb_cells.length; ++i) {\n",
       "                    if (nbb_cells[i].input_prompt_number == nbb_cell_id) {\n",
       "                        if (nbb_cells[i].get_text() == nbb_unformatted_code) {\n",
       "                             nbb_cells[i].set_text(nbb_formatted_code);\n",
       "                        }\n",
       "                        break;\n",
       "                    }\n",
       "                }\n",
       "            }, 500);\n",
       "            "
      ],
      "text/plain": [
       "<IPython.core.display.Javascript object>"
      ]
     },
     "metadata": {},
     "output_type": "display_data"
    }
   ],
   "source": [
    "# Only necessary for Baseline, not for EMOS\n",
    "# Change all zeros in std to a small value epsilon\n",
    "epsilon = 1e-9  # Small epsilon to add to zeros in std\n",
    "for i in range(len(t2m_X_train_glob_std)):\n",
    "    t2m_X_train_glob_std[i][(t2m_X_train_glob_std[i] == 0)] += epsilon"
   ]
  },
  {
   "cell_type": "code",
   "execution_count": 177,
   "id": "679e7763",
   "metadata": {},
   "outputs": [
    {
     "data": {
      "application/javascript": [
       "\n",
       "            setTimeout(function() {\n",
       "                var nbb_cell_id = 177;\n",
       "                var nbb_unformatted_code = \"# Decide on which lead_time to test\\nlead_time = 1\";\n",
       "                var nbb_formatted_code = \"# Decide on which lead_time to test\\nlead_time = 1\";\n",
       "                var nbb_cells = Jupyter.notebook.get_cells();\n",
       "                for (var i = 0; i < nbb_cells.length; ++i) {\n",
       "                    if (nbb_cells[i].input_prompt_number == nbb_cell_id) {\n",
       "                        if (nbb_cells[i].get_text() == nbb_unformatted_code) {\n",
       "                             nbb_cells[i].set_text(nbb_formatted_code);\n",
       "                        }\n",
       "                        break;\n",
       "                    }\n",
       "                }\n",
       "            }, 500);\n",
       "            "
      ],
      "text/plain": [
       "<IPython.core.display.Javascript object>"
      ]
     },
     "metadata": {},
     "output_type": "display_data"
    }
   ],
   "source": [
    "# Decide on which lead_time to test\n",
    "lead_time = 1"
   ]
  },
  {
   "cell_type": "markdown",
   "id": "c940baba",
   "metadata": {},
   "source": [
    "#### 3. Baseline"
   ]
  },
  {
   "cell_type": "code",
   "execution_count": 178,
   "id": "df0d5070",
   "metadata": {},
   "outputs": [
    {
     "data": {
      "application/javascript": [
       "\n",
       "            setTimeout(function() {\n",
       "                var nbb_cell_id = 178;\n",
       "                var nbb_unformatted_code = \"crps_baseline = crps_normal(\\n    mu=t2m_X_train_glob_mean[lead_time],\\n    sigma=t2m_X_train_glob_std[lead_time],\\n    y=t2m_y_train_glob_truth[lead_time],\\n)\";\n",
       "                var nbb_formatted_code = \"crps_baseline = crps_normal(\\n    mu=t2m_X_train_glob_mean[lead_time],\\n    sigma=t2m_X_train_glob_std[lead_time],\\n    y=t2m_y_train_glob_truth[lead_time],\\n)\";\n",
       "                var nbb_cells = Jupyter.notebook.get_cells();\n",
       "                for (var i = 0; i < nbb_cells.length; ++i) {\n",
       "                    if (nbb_cells[i].input_prompt_number == nbb_cell_id) {\n",
       "                        if (nbb_cells[i].get_text() == nbb_unformatted_code) {\n",
       "                             nbb_cells[i].set_text(nbb_formatted_code);\n",
       "                        }\n",
       "                        break;\n",
       "                    }\n",
       "                }\n",
       "            }, 500);\n",
       "            "
      ],
      "text/plain": [
       "<IPython.core.display.Javascript object>"
      ]
     },
     "metadata": {},
     "output_type": "display_data"
    }
   ],
   "source": [
    "crps_baseline = crps_normal(\n",
    "    mu=t2m_X_train_glob_mean[lead_time],\n",
    "    sigma=t2m_X_train_glob_std[lead_time],\n",
    "    y=t2m_y_train_glob_truth[lead_time],\n",
    ")"
   ]
  },
  {
   "cell_type": "code",
   "execution_count": 179,
   "id": "19fa3997",
   "metadata": {},
   "outputs": [
    {
     "data": {
      "text/plain": [
       "0.10622623690424136"
      ]
     },
     "execution_count": 179,
     "metadata": {},
     "output_type": "execute_result"
    },
    {
     "data": {
      "application/javascript": [
       "\n",
       "            setTimeout(function() {\n",
       "                var nbb_cell_id = 179;\n",
       "                var nbb_unformatted_code = \"crps_baseline.mean()\";\n",
       "                var nbb_formatted_code = \"crps_baseline.mean()\";\n",
       "                var nbb_cells = Jupyter.notebook.get_cells();\n",
       "                for (var i = 0; i < nbb_cells.length; ++i) {\n",
       "                    if (nbb_cells[i].input_prompt_number == nbb_cell_id) {\n",
       "                        if (nbb_cells[i].get_text() == nbb_unformatted_code) {\n",
       "                             nbb_cells[i].set_text(nbb_formatted_code);\n",
       "                        }\n",
       "                        break;\n",
       "                    }\n",
       "                }\n",
       "            }, 500);\n",
       "            "
      ],
      "text/plain": [
       "<IPython.core.display.Javascript object>"
      ]
     },
     "metadata": {},
     "output_type": "display_data"
    }
   ],
   "source": [
    "crps_baseline.mean()"
   ]
  },
  {
   "cell_type": "markdown",
   "id": "4a389490",
   "metadata": {},
   "source": [
    "#### 4. Train global Emos"
   ]
  },
  {
   "cell_type": "code",
   "execution_count": 180,
   "id": "bf85f604",
   "metadata": {},
   "outputs": [
    {
     "data": {
      "application/javascript": [
       "\n",
       "            setTimeout(function() {\n",
       "                var nbb_cell_id = 180;\n",
       "                var nbb_unformatted_code = \"EMOS_glob = build_EMOS_network_keras(compile=True)\";\n",
       "                var nbb_formatted_code = \"EMOS_glob = build_EMOS_network_keras(compile=True)\";\n",
       "                var nbb_cells = Jupyter.notebook.get_cells();\n",
       "                for (var i = 0; i < nbb_cells.length; ++i) {\n",
       "                    if (nbb_cells[i].input_prompt_number == nbb_cell_id) {\n",
       "                        if (nbb_cells[i].get_text() == nbb_unformatted_code) {\n",
       "                             nbb_cells[i].set_text(nbb_formatted_code);\n",
       "                        }\n",
       "                        break;\n",
       "                    }\n",
       "                }\n",
       "            }, 500);\n",
       "            "
      ],
      "text/plain": [
       "<IPython.core.display.Javascript object>"
      ]
     },
     "metadata": {},
     "output_type": "display_data"
    }
   ],
   "source": [
    "EMOS_glob = build_EMOS_network_keras(compile=True)"
   ]
  },
  {
   "cell_type": "code",
   "execution_count": 181,
   "id": "06c99f08",
   "metadata": {
    "scrolled": true
   },
   "outputs": [
    {
     "name": "stdout",
     "output_type": "stream",
     "text": [
      "Epoch 1/5\n",
      "3567/3567 [==============================] - 10s 2ms/step - loss: 0.0987 - val_loss: 0.0991\n",
      "Epoch 2/5\n",
      "3567/3567 [==============================] - 9s 2ms/step - loss: 0.0983 - val_loss: 0.0991\n",
      "Epoch 3/5\n",
      "3567/3567 [==============================] - 9s 2ms/step - loss: 0.0983 - val_loss: 0.0991\n",
      "Epoch 4/5\n",
      "3567/3567 [==============================] - 9s 2ms/step - loss: 0.0983 - val_loss: 0.0991\n",
      "Epoch 5/5\n",
      "3567/3567 [==============================] - 9s 2ms/step - loss: 0.0983 - val_loss: 0.0991\n"
     ]
    },
    {
     "data": {
      "text/plain": [
       "<keras.callbacks.History at 0x7fefd87d32b0>"
      ]
     },
     "execution_count": 181,
     "metadata": {},
     "output_type": "execute_result"
    },
    {
     "data": {
      "application/javascript": [
       "\n",
       "            setTimeout(function() {\n",
       "                var nbb_cell_id = 181;\n",
       "                var nbb_unformatted_code = \"EMOS_glob.fit(\\n    [t2m_X_train_glob_mean[lead_time], t2m_X_train_glob_std[lead_time]],\\n    t2m_y_train_glob_truth[lead_time],\\n    batch_size=5000,\\n    epochs=5,\\n    validation_split=0.2,\\n)\";\n",
       "                var nbb_formatted_code = \"EMOS_glob.fit(\\n    [t2m_X_train_glob_mean[lead_time], t2m_X_train_glob_std[lead_time]],\\n    t2m_y_train_glob_truth[lead_time],\\n    batch_size=5000,\\n    epochs=5,\\n    validation_split=0.2,\\n)\";\n",
       "                var nbb_cells = Jupyter.notebook.get_cells();\n",
       "                for (var i = 0; i < nbb_cells.length; ++i) {\n",
       "                    if (nbb_cells[i].input_prompt_number == nbb_cell_id) {\n",
       "                        if (nbb_cells[i].get_text() == nbb_unformatted_code) {\n",
       "                             nbb_cells[i].set_text(nbb_formatted_code);\n",
       "                        }\n",
       "                        break;\n",
       "                    }\n",
       "                }\n",
       "            }, 500);\n",
       "            "
      ],
      "text/plain": [
       "<IPython.core.display.Javascript object>"
      ]
     },
     "metadata": {},
     "output_type": "display_data"
    }
   ],
   "source": [
    "EMOS_glob.fit(\n",
    "    [t2m_X_train_glob_mean[lead_time], t2m_X_train_glob_std[lead_time]],\n",
    "    t2m_y_train_glob_truth[lead_time],\n",
    "    batch_size=5000,\n",
    "    epochs=5,\n",
    "    validation_split=0.2,\n",
    ")"
   ]
  }
 ],
 "metadata": {
  "kernelspec": {
   "display_name": "Python 3 (ipykernel)",
   "language": "python",
   "name": "python3"
  },
  "language_info": {
   "codemirror_mode": {
    "name": "ipython",
    "version": 3
   },
   "file_extension": ".py",
   "mimetype": "text/x-python",
   "name": "python",
   "nbconvert_exporter": "python",
   "pygments_lexer": "ipython3",
   "version": "3.9.7"
  }
 },
 "nbformat": 4,
 "nbformat_minor": 5
}
