{
 "cells": [
  {
   "cell_type": "code",
   "execution_count": 66,
   "id": "49d6b143",
   "metadata": {},
   "outputs": [
    {
     "name": "stdout",
     "output_type": "stream",
     "text": [
      "The nb_black extension is already loaded. To reload it, use:\n",
      "  %reload_ext nb_black\n"
     ]
    },
    {
     "data": {
      "application/javascript": [
       "\n",
       "            setTimeout(function() {\n",
       "                var nbb_cell_id = 66;\n",
       "                var nbb_unformatted_code = \"%load_ext nb_black\";\n",
       "                var nbb_formatted_code = \"%load_ext nb_black\";\n",
       "                var nbb_cells = Jupyter.notebook.get_cells();\n",
       "                for (var i = 0; i < nbb_cells.length; ++i) {\n",
       "                    if (nbb_cells[i].input_prompt_number == nbb_cell_id) {\n",
       "                        if (nbb_cells[i].get_text() == nbb_unformatted_code) {\n",
       "                             nbb_cells[i].set_text(nbb_formatted_code);\n",
       "                        }\n",
       "                        break;\n",
       "                    }\n",
       "                }\n",
       "            }, 500);\n",
       "            "
      ],
      "text/plain": [
       "<IPython.core.display.Javascript object>"
      ]
     },
     "metadata": {},
     "output_type": "display_data"
    }
   ],
   "source": [
    "%load_ext nb_black"
   ]
  },
  {
   "cell_type": "code",
   "execution_count": 67,
   "id": "8482a61c",
   "metadata": {},
   "outputs": [
    {
     "data": {
      "application/javascript": [
       "\n",
       "            setTimeout(function() {\n",
       "                var nbb_cell_id = 67;\n",
       "                var nbb_unformatted_code = \"# Basics\\nimport pandas as pd\\nimport numpy as np\\nimport matplotlib.pyplot as plt\\n\\n# Data\\nimport xarray as xr\\nimport h5py\\n\\n# Helpful\\nimport time\\nimport datetime\\nimport itertools\\nfrom itertools import product\\n\\n# My Methods\\nimport importlib\\nimport CRPS\\nimport EMOS\\nimport utils.check_data\\nfrom CRPS import *\\nfrom EMOS import *\\nfrom utils.check_data import *\";\n",
       "                var nbb_formatted_code = \"# Basics\\nimport pandas as pd\\nimport numpy as np\\nimport matplotlib.pyplot as plt\\n\\n# Data\\nimport xarray as xr\\nimport h5py\\n\\n# Helpful\\nimport time\\nimport datetime\\nimport itertools\\nfrom itertools import product\\n\\n# My Methods\\nimport importlib\\nimport CRPS\\nimport EMOS\\nimport utils.check_data\\nfrom CRPS import *\\nfrom EMOS import *\\nfrom utils.check_data import *\";\n",
       "                var nbb_cells = Jupyter.notebook.get_cells();\n",
       "                for (var i = 0; i < nbb_cells.length; ++i) {\n",
       "                    if (nbb_cells[i].input_prompt_number == nbb_cell_id) {\n",
       "                        if (nbb_cells[i].get_text() == nbb_unformatted_code) {\n",
       "                             nbb_cells[i].set_text(nbb_formatted_code);\n",
       "                        }\n",
       "                        break;\n",
       "                    }\n",
       "                }\n",
       "            }, 500);\n",
       "            "
      ],
      "text/plain": [
       "<IPython.core.display.Javascript object>"
      ]
     },
     "metadata": {},
     "output_type": "display_data"
    }
   ],
   "source": [
    "# Basics\n",
    "import pandas as pd\n",
    "import numpy as np\n",
    "import matplotlib.pyplot as plt\n",
    "\n",
    "# Data\n",
    "import xarray as xr\n",
    "import h5py\n",
    "\n",
    "# Helpful\n",
    "import time\n",
    "import datetime\n",
    "import itertools\n",
    "from itertools import product\n",
    "\n",
    "# My Methods\n",
    "import importlib\n",
    "import CRPS\n",
    "import EMOS\n",
    "import utils.check_data\n",
    "from CRPS import *\n",
    "from EMOS import *\n",
    "from utils.check_data import *"
   ]
  },
  {
   "cell_type": "code",
   "execution_count": 68,
   "id": "aa98942e",
   "metadata": {},
   "outputs": [
    {
     "data": {
      "text/plain": [
       "<module 'utils.check_data' from '/home/dchen/BA_CH_EN/utils/check_data.py'>"
      ]
     },
     "execution_count": 68,
     "metadata": {},
     "output_type": "execute_result"
    },
    {
     "data": {
      "application/javascript": [
       "\n",
       "            setTimeout(function() {\n",
       "                var nbb_cell_id = 68;\n",
       "                var nbb_unformatted_code = \"importlib.reload(CRPS)\\nimportlib.reload(EMOS)\\nimportlib.reload(utils.check_data)\";\n",
       "                var nbb_formatted_code = \"importlib.reload(CRPS)\\nimportlib.reload(EMOS)\\nimportlib.reload(utils.check_data)\";\n",
       "                var nbb_cells = Jupyter.notebook.get_cells();\n",
       "                for (var i = 0; i < nbb_cells.length; ++i) {\n",
       "                    if (nbb_cells[i].input_prompt_number == nbb_cell_id) {\n",
       "                        if (nbb_cells[i].get_text() == nbb_unformatted_code) {\n",
       "                             nbb_cells[i].set_text(nbb_formatted_code);\n",
       "                        }\n",
       "                        break;\n",
       "                    }\n",
       "                }\n",
       "            }, 500);\n",
       "            "
      ],
      "text/plain": [
       "<IPython.core.display.Javascript object>"
      ]
     },
     "metadata": {},
     "output_type": "display_data"
    }
   ],
   "source": [
    "importlib.reload(CRPS)\n",
    "importlib.reload(EMOS)\n",
    "importlib.reload(utils.check_data)"
   ]
  },
  {
   "cell_type": "markdown",
   "id": "bb920b59",
   "metadata": {},
   "source": [
    "### Goal: Check if all created datasets are correct:"
   ]
  },
  {
   "cell_type": "markdown",
   "id": "78dd67d6",
   "metadata": {},
   "source": [
    "#### 1. Load Data"
   ]
  },
  {
   "cell_type": "code",
   "execution_count": 69,
   "id": "e24bcac2",
   "metadata": {},
   "outputs": [
    {
     "data": {
      "application/javascript": [
       "\n",
       "            setTimeout(function() {\n",
       "                var nbb_cell_id = 69;\n",
       "                var nbb_unformatted_code = \"var_names = [\\\"u10\\\", \\\"v10\\\", \\\"t2m\\\", \\\"t850\\\", \\\"z500\\\"]\";\n",
       "                var nbb_formatted_code = \"var_names = [\\\"u10\\\", \\\"v10\\\", \\\"t2m\\\", \\\"t850\\\", \\\"z500\\\"]\";\n",
       "                var nbb_cells = Jupyter.notebook.get_cells();\n",
       "                for (var i = 0; i < nbb_cells.length; ++i) {\n",
       "                    if (nbb_cells[i].input_prompt_number == nbb_cell_id) {\n",
       "                        if (nbb_cells[i].get_text() == nbb_unformatted_code) {\n",
       "                             nbb_cells[i].set_text(nbb_formatted_code);\n",
       "                        }\n",
       "                        break;\n",
       "                    }\n",
       "                }\n",
       "            }, 500);\n",
       "            "
      ],
      "text/plain": [
       "<IPython.core.display.Javascript object>"
      ]
     },
     "metadata": {},
     "output_type": "display_data"
    }
   ],
   "source": [
    "var_names = [\"u10\", \"v10\", \"t2m\", \"t850\", \"z500\"]"
   ]
  },
  {
   "cell_type": "code",
   "execution_count": 5,
   "id": "36b7a022",
   "metadata": {},
   "outputs": [
    {
     "data": {
      "application/javascript": [
       "\n",
       "            setTimeout(function() {\n",
       "                var nbb_cell_id = 5;\n",
       "                var nbb_unformatted_code = \"# Need to check 10 datasets in total\\nds = (\\n    []\\n)  # List with 10 datasets, order: first all train datasets {\\\"u10\\\":0, \\\"v10\\\":1, \\\"t2m\\\":2, \\\"t850\\\":3, \\\"z500\\\":4} then test\\nfor i in range(5):\\n    ds.append(\\n        xr.open_dataset(\\n            \\\"/Data/Delong_BA_Data/Mean_ens_std/\\\" + var_names[i] + \\\"_train.h5\\\"\\n        )[var_names[i] + \\\"_train\\\"].isel(phony_dim_4=0)\\n    )\\nfor j in range(5):\\n    ds.append(\\n        xr.open_dataset(\\n            \\\"/Data/Delong_BA_Data/Mean_ens_std/\\\" + var_names[j] + \\\"_test.h5\\\"\\n        )[var_names[j] + \\\"_test\\\"].isel(phony_dim_4=0)\\n    )\";\n",
       "                var nbb_formatted_code = \"# Need to check 10 datasets in total\\nds = (\\n    []\\n)  # List with 10 datasets, order: first all train datasets {\\\"u10\\\":0, \\\"v10\\\":1, \\\"t2m\\\":2, \\\"t850\\\":3, \\\"z500\\\":4} then test\\nfor i in range(5):\\n    ds.append(\\n        xr.open_dataset(\\n            \\\"/Data/Delong_BA_Data/Mean_ens_std/\\\" + var_names[i] + \\\"_train.h5\\\"\\n        )[var_names[i] + \\\"_train\\\"].isel(phony_dim_4=0)\\n    )\\nfor j in range(5):\\n    ds.append(\\n        xr.open_dataset(\\n            \\\"/Data/Delong_BA_Data/Mean_ens_std/\\\" + var_names[j] + \\\"_test.h5\\\"\\n        )[var_names[j] + \\\"_test\\\"].isel(phony_dim_4=0)\\n    )\";\n",
       "                var nbb_cells = Jupyter.notebook.get_cells();\n",
       "                for (var i = 0; i < nbb_cells.length; ++i) {\n",
       "                    if (nbb_cells[i].input_prompt_number == nbb_cell_id) {\n",
       "                        if (nbb_cells[i].get_text() == nbb_unformatted_code) {\n",
       "                             nbb_cells[i].set_text(nbb_formatted_code);\n",
       "                        }\n",
       "                        break;\n",
       "                    }\n",
       "                }\n",
       "            }, 500);\n",
       "            "
      ],
      "text/plain": [
       "<IPython.core.display.Javascript object>"
      ]
     },
     "metadata": {},
     "output_type": "display_data"
    }
   ],
   "source": [
    "# Need to check 10 datasets in total\n",
    "ds = (\n",
    "    []\n",
    ")  # List with 10 datasets, order: first all train datasets {\"u10\":0, \"v10\":1, \"t2m\":2, \"t850\":3, \"z500\":4} then test\n",
    "for i in range(5):\n",
    "    ds.append(\n",
    "        xr.open_dataset(\n",
    "            \"/Data/Delong_BA_Data/Mean_ens_std/\" + var_names[i] + \"_train.h5\"\n",
    "        )[var_names[i] + \"_train\"].isel(phony_dim_4=0)\n",
    "    )\n",
    "for j in range(5):\n",
    "    ds.append(\n",
    "        xr.open_dataset(\n",
    "            \"/Data/Delong_BA_Data/Mean_ens_std/\" + var_names[j] + \"_test.h5\"\n",
    "        )[var_names[j] + \"_test\"].isel(phony_dim_4=0)\n",
    "    )"
   ]
  },
  {
   "cell_type": "code",
   "execution_count": 33,
   "id": "969fb47f",
   "metadata": {},
   "outputs": [
    {
     "data": {
      "application/javascript": [
       "\n",
       "            setTimeout(function() {\n",
       "                var nbb_cell_id = 33;\n",
       "                var nbb_unformatted_code = \"ds_raw = []  # Raw ensemble datsets, same order\\n\\nfor i in range(5):\\n    ds_raw.append(\\n        xr.open_dataset(\\\"/mnt/sda/Data2/fourcastnet/data/predictions/ensemble_2018.h5\\\")\\n        .isel(phony_dim_2=i, phony_dim_5=slice(1, 51))\\n        .predictions\\n    )\\nfor j in range(5):\\n    ds_raw.append(\\n        xr.open_dataset(\\\"/mnt/sda/Data2/fourcastnet/data/predictions/ensemble_2022.h5\\\")\\n        .isel(phony_dim_2=j, phony_dim_5=slice(1, 51))\\n        .predictions\\n    )\";\n",
       "                var nbb_formatted_code = \"ds_raw = []  # Raw ensemble datsets, same order\\n\\nfor i in range(5):\\n    ds_raw.append(\\n        xr.open_dataset(\\\"/mnt/sda/Data2/fourcastnet/data/predictions/ensemble_2018.h5\\\")\\n        .isel(phony_dim_2=i, phony_dim_5=slice(1, 51))\\n        .predictions\\n    )\\nfor j in range(5):\\n    ds_raw.append(\\n        xr.open_dataset(\\\"/mnt/sda/Data2/fourcastnet/data/predictions/ensemble_2022.h5\\\")\\n        .isel(phony_dim_2=j, phony_dim_5=slice(1, 51))\\n        .predictions\\n    )\";\n",
       "                var nbb_cells = Jupyter.notebook.get_cells();\n",
       "                for (var i = 0; i < nbb_cells.length; ++i) {\n",
       "                    if (nbb_cells[i].input_prompt_number == nbb_cell_id) {\n",
       "                        if (nbb_cells[i].get_text() == nbb_unformatted_code) {\n",
       "                             nbb_cells[i].set_text(nbb_formatted_code);\n",
       "                        }\n",
       "                        break;\n",
       "                    }\n",
       "                }\n",
       "            }, 500);\n",
       "            "
      ],
      "text/plain": [
       "<IPython.core.display.Javascript object>"
      ]
     },
     "metadata": {},
     "output_type": "display_data"
    }
   ],
   "source": [
    "ds_raw = []  # Raw ensemble datsets, same order\n",
    "\n",
    "for i in range(5):\n",
    "    ds_raw.append(\n",
    "        xr.open_dataset(\"/mnt/sda/Data2/fourcastnet/data/predictions/ensemble_2018.h5\")\n",
    "        .isel(phony_dim_2=i, phony_dim_5=slice(1, 51))\n",
    "        .predictions\n",
    "    )\n",
    "for j in range(5):\n",
    "    ds_raw.append(\n",
    "        xr.open_dataset(\"/mnt/sda/Data2/fourcastnet/data/predictions/ensemble_2022.h5\")\n",
    "        .isel(phony_dim_2=j, phony_dim_5=slice(1, 51))\n",
    "        .predictions\n",
    "    )"
   ]
  },
  {
   "cell_type": "code",
   "execution_count": 84,
   "id": "2c2dacd8",
   "metadata": {
    "scrolled": true
   },
   "outputs": [
    {
     "name": "stdout",
     "output_type": "stream",
     "text": [
      "50\n",
      "0\n",
      "0\n",
      "0\n",
      "0\n",
      "49\n",
      "50\n",
      "50\n",
      "50\n",
      "49\n"
     ]
    },
    {
     "data": {
      "application/javascript": [
       "\n",
       "            setTimeout(function() {\n",
       "                var nbb_cell_id = 84;\n",
       "                var nbb_unformatted_code = \"for i in range(10):\\n    check_dataset(ds_raw[i], ds[i], 50, p_all=False)\";\n",
       "                var nbb_formatted_code = \"for i in range(10):\\n    check_dataset(ds_raw[i], ds[i], 50, p_all=False)\";\n",
       "                var nbb_cells = Jupyter.notebook.get_cells();\n",
       "                for (var i = 0; i < nbb_cells.length; ++i) {\n",
       "                    if (nbb_cells[i].input_prompt_number == nbb_cell_id) {\n",
       "                        if (nbb_cells[i].get_text() == nbb_unformatted_code) {\n",
       "                             nbb_cells[i].set_text(nbb_formatted_code);\n",
       "                        }\n",
       "                        break;\n",
       "                    }\n",
       "                }\n",
       "            }, 500);\n",
       "            "
      ],
      "text/plain": [
       "<IPython.core.display.Javascript object>"
      ]
     },
     "metadata": {},
     "output_type": "display_data"
    }
   ],
   "source": [
    "for i in range(10):\n",
    "    check_dataset(ds_raw[i], ds[i], 50, p_all=False)"
   ]
  },
  {
   "cell_type": "code",
   "execution_count": null,
   "id": "6543c4df",
   "metadata": {},
   "outputs": [],
   "source": []
  },
  {
   "cell_type": "code",
   "execution_count": null,
   "id": "8bcb9738",
   "metadata": {},
   "outputs": [],
   "source": []
  },
  {
   "cell_type": "code",
   "execution_count": null,
   "id": "656565e8",
   "metadata": {},
   "outputs": [],
   "source": []
  },
  {
   "cell_type": "code",
   "execution_count": null,
   "id": "74cc988e",
   "metadata": {},
   "outputs": [],
   "source": []
  },
  {
   "cell_type": "code",
   "execution_count": null,
   "id": "59467880",
   "metadata": {},
   "outputs": [],
   "source": []
  },
  {
   "cell_type": "code",
   "execution_count": null,
   "id": "bc09cac2",
   "metadata": {},
   "outputs": [],
   "source": []
  }
 ],
 "metadata": {
  "kernelspec": {
   "display_name": "Python 3 (ipykernel)",
   "language": "python",
   "name": "python3"
  },
  "language_info": {
   "codemirror_mode": {
    "name": "ipython",
    "version": 3
   },
   "file_extension": ".py",
   "mimetype": "text/x-python",
   "name": "python",
   "nbconvert_exporter": "python",
   "pygments_lexer": "ipython3",
   "version": "3.9.7"
  }
 },
 "nbformat": 4,
 "nbformat_minor": 5
}
