{
 "cells": [
  {
   "cell_type": "code",
   "execution_count": 139,
   "id": "aea3dc9a",
   "metadata": {
    "scrolled": true
   },
   "outputs": [
    {
     "name": "stdout",
     "output_type": "stream",
     "text": [
      "The nb_black extension is already loaded. To reload it, use:\n",
      "  %reload_ext nb_black\n"
     ]
    },
    {
     "data": {
      "application/javascript": [
       "\n",
       "            setTimeout(function() {\n",
       "                var nbb_cell_id = 139;\n",
       "                var nbb_unformatted_code = \"%load_ext nb_black\";\n",
       "                var nbb_formatted_code = \"%load_ext nb_black\";\n",
       "                var nbb_cells = Jupyter.notebook.get_cells();\n",
       "                for (var i = 0; i < nbb_cells.length; ++i) {\n",
       "                    if (nbb_cells[i].input_prompt_number == nbb_cell_id) {\n",
       "                        if (nbb_cells[i].get_text() == nbb_unformatted_code) {\n",
       "                             nbb_cells[i].set_text(nbb_formatted_code);\n",
       "                        }\n",
       "                        break;\n",
       "                    }\n",
       "                }\n",
       "            }, 500);\n",
       "            "
      ],
      "text/plain": [
       "<IPython.core.display.Javascript object>"
      ]
     },
     "metadata": {},
     "output_type": "display_data"
    }
   ],
   "source": [
    "%load_ext nb_black"
   ]
  },
  {
   "cell_type": "code",
   "execution_count": 170,
   "id": "fa041085",
   "metadata": {
    "scrolled": true
   },
   "outputs": [
    {
     "data": {
      "application/javascript": [
       "\n",
       "            setTimeout(function() {\n",
       "                var nbb_cell_id = 170;\n",
       "                var nbb_unformatted_code = \"import pandas as pd\\nimport numpy as np\\nimport xarray as xr\\nimport matplotlib.pyplot as plt\\nimport itertools\\nfrom itertools import product\\nimport h5py\\nimport time\\nimport CRPS\\nimport EMOS\\nfrom CRPS import *\\nfrom EMOS import *\\nimport importlib\";\n",
       "                var nbb_formatted_code = \"import pandas as pd\\nimport numpy as np\\nimport xarray as xr\\nimport matplotlib.pyplot as plt\\nimport itertools\\nfrom itertools import product\\nimport h5py\\nimport time\\nimport CRPS\\nimport EMOS\\nfrom CRPS import *\\nfrom EMOS import *\\nimport importlib\";\n",
       "                var nbb_cells = Jupyter.notebook.get_cells();\n",
       "                for (var i = 0; i < nbb_cells.length; ++i) {\n",
       "                    if (nbb_cells[i].input_prompt_number == nbb_cell_id) {\n",
       "                        if (nbb_cells[i].get_text() == nbb_unformatted_code) {\n",
       "                             nbb_cells[i].set_text(nbb_formatted_code);\n",
       "                        }\n",
       "                        break;\n",
       "                    }\n",
       "                }\n",
       "            }, 500);\n",
       "            "
      ],
      "text/plain": [
       "<IPython.core.display.Javascript object>"
      ]
     },
     "metadata": {},
     "output_type": "display_data"
    }
   ],
   "source": [
    "# Basics\n",
    "import pandas as pd\n",
    "import numpy as np\n",
    "import matplotlib.pyplot as plt\n",
    "import time\n",
    "\n",
    "#Data\n",
    "import xarray as xr\n",
    "import h5py\n",
    "\n",
    "#Helpful\n",
    "import itertools\n",
    "from itertools import product\n",
    "\n",
    "#My Methods\n",
    "import importlib\n",
    "import CRPS\n",
    "import EMOS\n",
    "from CRPS import *\n",
    "from EMOS import *"
   ]
  },
  {
   "cell_type": "markdown",
   "id": "7be3e141",
   "metadata": {},
   "source": [
    "### Notebook Content: \n",
    "1. Make smaller DataArray for one variable, with ensemble mean and variance\n",
    "2. Pandas Dataframe of Variance, on first coordinate on Forecast_Date 1\n",
    "3. Test implementation EMOS on one coordinate for one lead time for one year\n",
    "4. Global mean and stds"
   ]
  },
  {
   "cell_type": "markdown",
   "id": "2e00e520",
   "metadata": {},
   "source": [
    "### Notes on the Dataset\n",
    "What must be inside: longitude, latitude, forecast_variable, ensemble, lead_time, forecast_time<br>\n",
    "\n",
    "0. phony_dim_0: 357 -> Forecast_date\n",
    "1. phony_dim_1: 32 -> Lead_time (6 * 1,...,32)\n",
    "2. phony_dim_2: 5 -> Different forecasted variables, {\"u10\":, \"v10\":1, \"t2m\":2, \"t850\":3, \"z500\":4}\n",
    "3. phony_dim_3: 120 -> latitude\n",
    "4. phony_dim_4: 130 -> longitude\n",
    "5. phony_dim_5: 51 -> Ensemble Forecast\n",
    "\n",
    "6. ground_truth: ERA 5 dataset, does not need an ensemble -> 5 = ensemble\n",
    "7. predictions: \n",
    "\n",
    "8. Variables: <br>\n",
    "    8.1 u10: zonal wind velocity 10m from the surface <br>\n",
    "    8.2 v10: meridonal wind velocity 10m from the surface <br>\n",
    "    8.3 t2m: Temperature at 2m from the surface <br>\n",
    "    8.4 t850: Temperature at 850m from the surface <br>\n",
    "    8.5 z500: geopotential at 500m from the surface"
   ]
  },
  {
   "cell_type": "code",
   "execution_count": 55,
   "id": "cf209de3",
   "metadata": {},
   "outputs": [
    {
     "data": {
      "application/javascript": [
       "\n",
       "            setTimeout(function() {\n",
       "                var nbb_cell_id = 55;\n",
       "                var nbb_unformatted_code = \"# Test things out with data for 2018\\npath = \\\"/mnt/sda/Data2/fourcastnet/data/predictions/ensemble_2018.h5\\\"\\ndat_2018 = xr.open_dataset(path,)\\npreds_2018 = dat_2018.predictions.isel(phony_dim_5 = slice(1,51))  # Only select 50 ensemble, as first one is control\\ntruth_2018 = dat_2018.ground_truth\";\n",
       "                var nbb_formatted_code = \"# Test things out with data for 2018\\npath = \\\"/mnt/sda/Data2/fourcastnet/data/predictions/ensemble_2018.h5\\\"\\ndat_2018 = xr.open_dataset(path,)\\npreds_2018 = dat_2018.predictions.isel(\\n    phony_dim_5=slice(1, 51)\\n)  # Only select 50 ensemble, as first one is control\\ntruth_2018 = dat_2018.ground_truth\";\n",
       "                var nbb_cells = Jupyter.notebook.get_cells();\n",
       "                for (var i = 0; i < nbb_cells.length; ++i) {\n",
       "                    if (nbb_cells[i].input_prompt_number == nbb_cell_id) {\n",
       "                        if (nbb_cells[i].get_text() == nbb_unformatted_code) {\n",
       "                             nbb_cells[i].set_text(nbb_formatted_code);\n",
       "                        }\n",
       "                        break;\n",
       "                    }\n",
       "                }\n",
       "            }, 500);\n",
       "            "
      ],
      "text/plain": [
       "<IPython.core.display.Javascript object>"
      ]
     },
     "metadata": {},
     "output_type": "display_data"
    }
   ],
   "source": [
    "# Test things out with data for 2018\n",
    "path = \"/mnt/sda/Data2/fourcastnet/data/predictions/ensemble_2018.h5\"\n",
    "dat_2018 = xr.open_dataset(path,)\n",
    "preds_2018 = dat_2018.predictions.isel(\n",
    "    phony_dim_5=slice(1, 51)\n",
    ")  # Only select 50 ensemble, as first one is control\n",
    "truth_2018 = dat_2018.ground_truth"
   ]
  },
  {
   "cell_type": "markdown",
   "id": "608d2d81",
   "metadata": {},
   "source": [
    "#### 1. Make smaller DataArray for one variable, with ensemble mean and variance"
   ]
  },
  {
   "cell_type": "code",
   "execution_count": 56,
   "id": "963f5f96",
   "metadata": {
    "scrolled": true
   },
   "outputs": [
    {
     "name": "stdout",
     "output_type": "stream",
     "text": [
      "Elapsed time: -513.880823135376 seconds\n"
     ]
    },
    {
     "data": {
      "application/javascript": [
       "\n",
       "            setTimeout(function() {\n",
       "                var nbb_cell_id = 56;\n",
       "                var nbb_unformatted_code = \"start_time = time.time()\\nens_mean_2018 = preds_2018.isel(phony_dim_2=2).mean(dim=\\\"phony_dim_5\\\")\\nens_var_2018 = preds_2018.isel(phony_dim_2=2).var(dim=\\\"phony_dim_5\\\")\\nend_time = time.time()\\nprint(f\\\"Elapsed time: {start_time - end_time} seconds\\\")\";\n",
       "                var nbb_formatted_code = \"start_time = time.time()\\nens_mean_2018 = preds_2018.isel(phony_dim_2=2).mean(dim=\\\"phony_dim_5\\\")\\nens_var_2018 = preds_2018.isel(phony_dim_2=2).var(dim=\\\"phony_dim_5\\\")\\nend_time = time.time()\\nprint(f\\\"Elapsed time: {start_time - end_time} seconds\\\")\";\n",
       "                var nbb_cells = Jupyter.notebook.get_cells();\n",
       "                for (var i = 0; i < nbb_cells.length; ++i) {\n",
       "                    if (nbb_cells[i].input_prompt_number == nbb_cell_id) {\n",
       "                        if (nbb_cells[i].get_text() == nbb_unformatted_code) {\n",
       "                             nbb_cells[i].set_text(nbb_formatted_code);\n",
       "                        }\n",
       "                        break;\n",
       "                    }\n",
       "                }\n",
       "            }, 500);\n",
       "            "
      ],
      "text/plain": [
       "<IPython.core.display.Javascript object>"
      ]
     },
     "metadata": {},
     "output_type": "display_data"
    }
   ],
   "source": [
    "start_time = time.time()\n",
    "ens_mean_2018 = preds_2018.isel(phony_dim_2=2).mean(dim=\"phony_dim_5\")\n",
    "ens_std_2018 = preds_2018.isel(phony_dim_2=2).std(dim=\"phony_dim_5\")\n",
    "end_time = time.time()\n",
    "print(f\"Elapsed time: {start_time - end_time} seconds\")"
   ]
  },
  {
   "cell_type": "code",
   "execution_count": 57,
   "id": "c357618f",
   "metadata": {},
   "outputs": [
    {
     "data": {
      "application/javascript": [
       "\n",
       "            setTimeout(function() {\n",
       "                var nbb_cell_id = 57;\n",
       "                var nbb_unformatted_code = \"ens_mean_var_u10_2018 = xr.concat([ens_mean_2018, ens_var_2018], dim=\\\"mean_var\\\")\";\n",
       "                var nbb_formatted_code = \"ens_mean_var_u10_2018 = xr.concat([ens_mean_2018, ens_var_2018], dim=\\\"mean_var\\\")\";\n",
       "                var nbb_cells = Jupyter.notebook.get_cells();\n",
       "                for (var i = 0; i < nbb_cells.length; ++i) {\n",
       "                    if (nbb_cells[i].input_prompt_number == nbb_cell_id) {\n",
       "                        if (nbb_cells[i].get_text() == nbb_unformatted_code) {\n",
       "                             nbb_cells[i].set_text(nbb_formatted_code);\n",
       "                        }\n",
       "                        break;\n",
       "                    }\n",
       "                }\n",
       "            }, 500);\n",
       "            "
      ],
      "text/plain": [
       "<IPython.core.display.Javascript object>"
      ]
     },
     "metadata": {},
     "output_type": "display_data"
    }
   ],
   "source": [
    "ens_mean_std_u10_2018 = xr.concat([ens_mean_2018, ens_std_2018], dim=\"mean_std\")"
   ]
  },
  {
   "cell_type": "code",
   "execution_count": 58,
   "id": "7551bcee",
   "metadata": {
    "scrolled": true
   },
   "outputs": [
    {
     "data": {
      "application/javascript": [
       "\n",
       "            setTimeout(function() {\n",
       "                var nbb_cell_id = 58;\n",
       "                var nbb_unformatted_code = \"ens_mean_var_u10_2018 = ens_mean_var_u10_2018.transpose(\\n    \\\"phony_dim_0\\\", \\\"phony_dim_1\\\", \\\"phony_dim_3\\\", \\\"phony_dim_4\\\", \\\"mean_var\\\"\\n)\";\n",
       "                var nbb_formatted_code = \"ens_mean_var_u10_2018 = ens_mean_var_u10_2018.transpose(\\n    \\\"phony_dim_0\\\", \\\"phony_dim_1\\\", \\\"phony_dim_3\\\", \\\"phony_dim_4\\\", \\\"mean_var\\\"\\n)\";\n",
       "                var nbb_cells = Jupyter.notebook.get_cells();\n",
       "                for (var i = 0; i < nbb_cells.length; ++i) {\n",
       "                    if (nbb_cells[i].input_prompt_number == nbb_cell_id) {\n",
       "                        if (nbb_cells[i].get_text() == nbb_unformatted_code) {\n",
       "                             nbb_cells[i].set_text(nbb_formatted_code);\n",
       "                        }\n",
       "                        break;\n",
       "                    }\n",
       "                }\n",
       "            }, 500);\n",
       "            "
      ],
      "text/plain": [
       "<IPython.core.display.Javascript object>"
      ]
     },
     "metadata": {},
     "output_type": "display_data"
    }
   ],
   "source": [
    "ens_mean_std_u10_2018 = ens_mean_std_u10_2018.transpose(\n",
    "    \"phony_dim_0\", \"phony_dim_1\", \"phony_dim_3\", \"phony_dim_4\", \"mean_std\"\n",
    ")"
   ]
  },
  {
   "cell_type": "code",
   "execution_count": 59,
   "id": "e154feef",
   "metadata": {
    "scrolled": true
   },
   "outputs": [
    {
     "name": "stdout",
     "output_type": "stream",
     "text": [
      "1.4257152 GB\n"
     ]
    },
    {
     "data": {
      "application/javascript": [
       "\n",
       "            setTimeout(function() {\n",
       "                var nbb_cell_id = 59;\n",
       "                var nbb_unformatted_code = \"print(f\\\"{ens_mean_var_u10_2018.nbytes / 10 ** 9} GB\\\")\";\n",
       "                var nbb_formatted_code = \"print(f\\\"{ens_mean_var_u10_2018.nbytes / 10 ** 9} GB\\\")\";\n",
       "                var nbb_cells = Jupyter.notebook.get_cells();\n",
       "                for (var i = 0; i < nbb_cells.length; ++i) {\n",
       "                    if (nbb_cells[i].input_prompt_number == nbb_cell_id) {\n",
       "                        if (nbb_cells[i].get_text() == nbb_unformatted_code) {\n",
       "                             nbb_cells[i].set_text(nbb_formatted_code);\n",
       "                        }\n",
       "                        break;\n",
       "                    }\n",
       "                }\n",
       "            }, 500);\n",
       "            "
      ],
      "text/plain": [
       "<IPython.core.display.Javascript object>"
      ]
     },
     "metadata": {},
     "output_type": "display_data"
    }
   ],
   "source": [
    "print(f\"{ens_mean_std_u10_2018.nbytes / 10 ** 9} GB\")"
   ]
  },
  {
   "cell_type": "code",
   "execution_count": 60,
   "id": "bdb0b2b2",
   "metadata": {},
   "outputs": [
    {
     "name": "stdout",
     "output_type": "stream",
     "text": [
      "35.64288 GB\n"
     ]
    },
    {
     "data": {
      "application/javascript": [
       "\n",
       "            setTimeout(function() {\n",
       "                var nbb_cell_id = 60;\n",
       "                var nbb_unformatted_code = \"# How much GB is to be expected\\nprint(f\\\"{(ens_mean_var_u10_2018.nbytes / 10 ** 9)* 25} GB\\\")\";\n",
       "                var nbb_formatted_code = \"# How much GB is to be expected\\nprint(f\\\"{(ens_mean_var_u10_2018.nbytes / 10 ** 9)* 25} GB\\\")\";\n",
       "                var nbb_cells = Jupyter.notebook.get_cells();\n",
       "                for (var i = 0; i < nbb_cells.length; ++i) {\n",
       "                    if (nbb_cells[i].input_prompt_number == nbb_cell_id) {\n",
       "                        if (nbb_cells[i].get_text() == nbb_unformatted_code) {\n",
       "                             nbb_cells[i].set_text(nbb_formatted_code);\n",
       "                        }\n",
       "                        break;\n",
       "                    }\n",
       "                }\n",
       "            }, 500);\n",
       "            "
      ],
      "text/plain": [
       "<IPython.core.display.Javascript object>"
      ]
     },
     "metadata": {},
     "output_type": "display_data"
    }
   ],
   "source": [
    "# How much GB is to be expected\n",
    "print(f\"{(ens_mean_std_u10_2018.nbytes / 10 ** 9)* 25} GB\")"
   ]
  },
  {
   "cell_type": "markdown",
   "id": "74f27cf8",
   "metadata": {},
   "source": [
    "#### 2. Pandas Dataframe of Variance, on first coordinate on Forecast_Date 1"
   ]
  },
  {
   "cell_type": "code",
   "execution_count": 61,
   "id": "e055ef74",
   "metadata": {},
   "outputs": [
    {
     "data": {
      "application/javascript": [
       "\n",
       "            setTimeout(function() {\n",
       "                var nbb_cell_id = 61;\n",
       "                var nbb_unformatted_code = \"variance_u10_day_1 = ens_mean_var_u10_2018.isel(\\n    phony_dim_0=0, phony_dim_1=0, mean_var=1\\n)\";\n",
       "                var nbb_formatted_code = \"variance_u10_day_1 = ens_mean_var_u10_2018.isel(\\n    phony_dim_0=0, phony_dim_1=0, mean_var=1\\n)\";\n",
       "                var nbb_cells = Jupyter.notebook.get_cells();\n",
       "                for (var i = 0; i < nbb_cells.length; ++i) {\n",
       "                    if (nbb_cells[i].input_prompt_number == nbb_cell_id) {\n",
       "                        if (nbb_cells[i].get_text() == nbb_unformatted_code) {\n",
       "                             nbb_cells[i].set_text(nbb_formatted_code);\n",
       "                        }\n",
       "                        break;\n",
       "                    }\n",
       "                }\n",
       "            }, 500);\n",
       "            "
      ],
      "text/plain": [
       "<IPython.core.display.Javascript object>"
      ]
     },
     "metadata": {},
     "output_type": "display_data"
    }
   ],
   "source": [
    "std_u10_day_1 = ens_mean_std_u10_2018.isel(\n",
    "    phony_dim_0=0, phony_dim_1=0, mean_std=1\n",
    ")"
   ]
  },
  {
   "cell_type": "code",
   "execution_count": 62,
   "id": "e97c8a8c",
   "metadata": {},
   "outputs": [
    {
     "data": {
      "application/javascript": [
       "\n",
       "            setTimeout(function() {\n",
       "                var nbb_cell_id = 62;\n",
       "                var nbb_unformatted_code = \"df_var_u10 = variance_u10_day_1.to_pandas()\";\n",
       "                var nbb_formatted_code = \"df_var_u10 = variance_u10_day_1.to_pandas()\";\n",
       "                var nbb_cells = Jupyter.notebook.get_cells();\n",
       "                for (var i = 0; i < nbb_cells.length; ++i) {\n",
       "                    if (nbb_cells[i].input_prompt_number == nbb_cell_id) {\n",
       "                        if (nbb_cells[i].get_text() == nbb_unformatted_code) {\n",
       "                             nbb_cells[i].set_text(nbb_formatted_code);\n",
       "                        }\n",
       "                        break;\n",
       "                    }\n",
       "                }\n",
       "            }, 500);\n",
       "            "
      ],
      "text/plain": [
       "<IPython.core.display.Javascript object>"
      ]
     },
     "metadata": {},
     "output_type": "display_data"
    }
   ],
   "source": [
    "df_std_u10 = std_u10_day_1.to_pandas()"
   ]
  },
  {
   "cell_type": "code",
   "execution_count": 63,
   "id": "4ae391d5",
   "metadata": {},
   "outputs": [
    {
     "data": {
      "application/javascript": [
       "\n",
       "            setTimeout(function() {\n",
       "                var nbb_cell_id = 63;\n",
       "                var nbb_unformatted_code = \"df_var_u10.rename_axis(columns={\\\"phony_dim_4\\\": \\\"lon\\\"}, inplace=True)\\ndf_var_u10.rename_axis(index={\\\"phony_dim_3\\\": \\\"lat\\\"}, inplace=True)\";\n",
       "                var nbb_formatted_code = \"df_var_u10.rename_axis(columns={\\\"phony_dim_4\\\": \\\"lon\\\"}, inplace=True)\\ndf_var_u10.rename_axis(index={\\\"phony_dim_3\\\": \\\"lat\\\"}, inplace=True)\";\n",
       "                var nbb_cells = Jupyter.notebook.get_cells();\n",
       "                for (var i = 0; i < nbb_cells.length; ++i) {\n",
       "                    if (nbb_cells[i].input_prompt_number == nbb_cell_id) {\n",
       "                        if (nbb_cells[i].get_text() == nbb_unformatted_code) {\n",
       "                             nbb_cells[i].set_text(nbb_formatted_code);\n",
       "                        }\n",
       "                        break;\n",
       "                    }\n",
       "                }\n",
       "            }, 500);\n",
       "            "
      ],
      "text/plain": [
       "<IPython.core.display.Javascript object>"
      ]
     },
     "metadata": {},
     "output_type": "display_data"
    }
   ],
   "source": [
    "df_std_u10.rename_axis(columns={\"phony_dim_4\": \"lon\"}, inplace=True)\n",
    "df_std_u10.rename_axis(index={\"phony_dim_3\": \"lat\"}, inplace=True)"
   ]
  },
  {
   "cell_type": "markdown",
   "id": "0acc7efa",
   "metadata": {},
   "source": [
    "#### 3. Test implementation EMOS on one coordinate for one lead time for one year"
   ]
  },
  {
   "cell_type": "code",
   "execution_count": 75,
   "id": "ce6216c6",
   "metadata": {},
   "outputs": [
    {
     "data": {
      "application/javascript": [
       "\n",
       "            setTimeout(function() {\n",
       "                var nbb_cell_id = 75;\n",
       "                var nbb_unformatted_code = \"ens_mean_var_loc = ens_mean_var_u10_2018.isel(\\n    phony_dim_3=0, phony_dim_4=0, phony_dim_1=7\\n)\\ny = truth_2018.isel(phony_dim_3=0, phony_dim_4=0, phony_dim_1=7, phony_dim_2 = 2)\\nens_mean_var_loc_mean = ens_mean_var_loc.isel(mean_var=0)\\nens_mean_var_loc_var = ens_mean_var_loc.isel(mean_var=1)\";\n",
       "                var nbb_formatted_code = \"ens_mean_var_loc = ens_mean_var_u10_2018.isel(\\n    phony_dim_3=0, phony_dim_4=0, phony_dim_1=7\\n)\\ny = truth_2018.isel(phony_dim_3=0, phony_dim_4=0, phony_dim_1=7, phony_dim_2=2)\\nens_mean_var_loc_mean = ens_mean_var_loc.isel(mean_var=0)\\nens_mean_var_loc_var = ens_mean_var_loc.isel(mean_var=1)\";\n",
       "                var nbb_cells = Jupyter.notebook.get_cells();\n",
       "                for (var i = 0; i < nbb_cells.length; ++i) {\n",
       "                    if (nbb_cells[i].input_prompt_number == nbb_cell_id) {\n",
       "                        if (nbb_cells[i].get_text() == nbb_unformatted_code) {\n",
       "                             nbb_cells[i].set_text(nbb_formatted_code);\n",
       "                        }\n",
       "                        break;\n",
       "                    }\n",
       "                }\n",
       "            }, 500);\n",
       "            "
      ],
      "text/plain": [
       "<IPython.core.display.Javascript object>"
      ]
     },
     "metadata": {},
     "output_type": "display_data"
    }
   ],
   "source": [
    "ens_mean_std_loc = ens_mean_std_u10_2018.isel(\n",
    "    phony_dim_3=0, phony_dim_4=0, phony_dim_1=7\n",
    ")\n",
    "y = truth_2018.isel(phony_dim_3=0, phony_dim_4=0, phony_dim_1=7, phony_dim_2=2)\n",
    "ens_mean_std_loc_mean = ens_mean_std_loc.isel(mean_std=0)\n",
    "ens_mean_std_loc_std = ens_mean_std_loc.isel(mean_std=1)"
   ]
  },
  {
   "cell_type": "code",
   "execution_count": 76,
   "id": "e2b638fe",
   "metadata": {},
   "outputs": [
    {
     "data": {
      "application/javascript": [
       "\n",
       "            setTimeout(function() {\n",
       "                var nbb_cell_id = 76;\n",
       "                var nbb_unformatted_code = \"df_mean_var = ens_mean_var_loc.to_pandas()\";\n",
       "                var nbb_formatted_code = \"df_mean_var = ens_mean_var_loc.to_pandas()\";\n",
       "                var nbb_cells = Jupyter.notebook.get_cells();\n",
       "                for (var i = 0; i < nbb_cells.length; ++i) {\n",
       "                    if (nbb_cells[i].input_prompt_number == nbb_cell_id) {\n",
       "                        if (nbb_cells[i].get_text() == nbb_unformatted_code) {\n",
       "                             nbb_cells[i].set_text(nbb_formatted_code);\n",
       "                        }\n",
       "                        break;\n",
       "                    }\n",
       "                }\n",
       "            }, 500);\n",
       "            "
      ],
      "text/plain": [
       "<IPython.core.display.Javascript object>"
      ]
     },
     "metadata": {},
     "output_type": "display_data"
    }
   ],
   "source": [
    "df_mean_std = ens_mean_std_loc.to_pandas()"
   ]
  },
  {
   "cell_type": "code",
   "execution_count": 77,
   "id": "5dbae76d",
   "metadata": {},
   "outputs": [
    {
     "data": {
      "application/javascript": [
       "\n",
       "            setTimeout(function() {\n",
       "                var nbb_cell_id = 77;\n",
       "                var nbb_unformatted_code = \"df_mean_var.rename_axis(index={\\\"phony_dim_0\\\": \\\"\\\"}, inplace=True)\\ndf_mean_var.rename(columns={0: \\\"mean\\\", 1: \\\"var\\\"}, inplace=True)\";\n",
       "                var nbb_formatted_code = \"df_mean_var.rename_axis(index={\\\"phony_dim_0\\\": \\\"\\\"}, inplace=True)\\ndf_mean_var.rename(columns={0: \\\"mean\\\", 1: \\\"var\\\"}, inplace=True)\";\n",
       "                var nbb_cells = Jupyter.notebook.get_cells();\n",
       "                for (var i = 0; i < nbb_cells.length; ++i) {\n",
       "                    if (nbb_cells[i].input_prompt_number == nbb_cell_id) {\n",
       "                        if (nbb_cells[i].get_text() == nbb_unformatted_code) {\n",
       "                             nbb_cells[i].set_text(nbb_formatted_code);\n",
       "                        }\n",
       "                        break;\n",
       "                    }\n",
       "                }\n",
       "            }, 500);\n",
       "            "
      ],
      "text/plain": [
       "<IPython.core.display.Javascript object>"
      ]
     },
     "metadata": {},
     "output_type": "display_data"
    }
   ],
   "source": [
    "df_mean_std.rename_axis(index={\"phony_dim_0\": \"\"}, inplace=True)\n",
    "df_mean_std.rename(columns={0: \"mean\", 1: \"std\"}, inplace=True)"
   ]
  },
  {
   "cell_type": "markdown",
   "id": "6a12f24f",
   "metadata": {},
   "source": [
    "##### 3.1 Baseline Model"
   ]
  },
  {
   "cell_type": "code",
   "execution_count": 118,
   "id": "c2265783",
   "metadata": {},
   "outputs": [
    {
     "data": {
      "application/javascript": [
       "\n",
       "            setTimeout(function() {\n",
       "                var nbb_cell_id = 118;\n",
       "                var nbb_unformatted_code = \"crps_baseline = crps_normal(mu=df_mean_var[\\\"mean\\\"], sigma=np.sqrt(df_mean_var[\\\"var\\\"]), y=y)\";\n",
       "                var nbb_formatted_code = \"crps_baseline = crps_normal(\\n    mu=df_mean_var[\\\"mean\\\"], sigma=np.sqrt(df_mean_var[\\\"var\\\"]), y=y\\n)\";\n",
       "                var nbb_cells = Jupyter.notebook.get_cells();\n",
       "                for (var i = 0; i < nbb_cells.length; ++i) {\n",
       "                    if (nbb_cells[i].input_prompt_number == nbb_cell_id) {\n",
       "                        if (nbb_cells[i].get_text() == nbb_unformatted_code) {\n",
       "                             nbb_cells[i].set_text(nbb_formatted_code);\n",
       "                        }\n",
       "                        break;\n",
       "                    }\n",
       "                }\n",
       "            }, 500);\n",
       "            "
      ],
      "text/plain": [
       "<IPython.core.display.Javascript object>"
      ]
     },
     "metadata": {},
     "output_type": "display_data"
    }
   ],
   "source": [
    "crps_baseline = crps_normal(\n",
    "    mu=df_mean_std[\"mean\"], sigma=df_mean_std[\"std\"], y=y\n",
    ")"
   ]
  },
  {
   "cell_type": "markdown",
   "id": "0a7e4fd6",
   "metadata": {},
   "source": [
    "##### 3.2 EMOS Model"
   ]
  },
  {
   "cell_type": "code",
   "execution_count": 173,
   "id": "230a69db",
   "metadata": {
    "scrolled": true
   },
   "outputs": [
    {
     "data": {
      "application/javascript": [
       "\n",
       "            setTimeout(function() {\n",
       "                var nbb_cell_id = 173;\n",
       "                var nbb_unformatted_code = \"EMOS_model = build_EMOS_network_keras(compile=True)\";\n",
       "                var nbb_formatted_code = \"EMOS_model = build_EMOS_network_keras(compile=True)\";\n",
       "                var nbb_cells = Jupyter.notebook.get_cells();\n",
       "                for (var i = 0; i < nbb_cells.length; ++i) {\n",
       "                    if (nbb_cells[i].input_prompt_number == nbb_cell_id) {\n",
       "                        if (nbb_cells[i].get_text() == nbb_unformatted_code) {\n",
       "                             nbb_cells[i].set_text(nbb_formatted_code);\n",
       "                        }\n",
       "                        break;\n",
       "                    }\n",
       "                }\n",
       "            }, 500);\n",
       "            "
      ],
      "text/plain": [
       "<IPython.core.display.Javascript object>"
      ]
     },
     "metadata": {},
     "output_type": "display_data"
    }
   ],
   "source": [
    "EMOS_model = build_EMOS_network_keras(compile=True)"
   ]
  },
  {
   "cell_type": "code",
   "execution_count": 175,
   "id": "ae66c001",
   "metadata": {},
   "outputs": [
    {
     "name": "stdout",
     "output_type": "stream",
     "text": [
      "Model: \"model_12\"\n",
      "__________________________________________________________________________________________________\n",
      " Layer (type)                   Output Shape         Param #     Connected to                     \n",
      "==================================================================================================\n",
      " input_25 (InputLayer)          [(None, 1)]          0           []                               \n",
      "                                                                                                  \n",
      " input_26 (InputLayer)          [(None, 1)]          0           []                               \n",
      "                                                                                                  \n",
      " dense_24 (Dense)               (None, 1)            2           ['input_25[0][0]']               \n",
      "                                                                                                  \n",
      " dense_25 (Dense)               (None, 1)            2           ['input_26[0][0]']               \n",
      "                                                                                                  \n",
      " concatenate_12 (Concatenate)   (None, 2)            0           ['dense_24[0][0]',               \n",
      "                                                                  'dense_25[0][0]']               \n",
      "                                                                                                  \n",
      "==================================================================================================\n",
      "Total params: 4\n",
      "Trainable params: 4\n",
      "Non-trainable params: 0\n",
      "__________________________________________________________________________________________________\n"
     ]
    },
    {
     "data": {
      "application/javascript": [
       "\n",
       "            setTimeout(function() {\n",
       "                var nbb_cell_id = 175;\n",
       "                var nbb_unformatted_code = \"EMOS_model.summary()\";\n",
       "                var nbb_formatted_code = \"EMOS_model.summary()\";\n",
       "                var nbb_cells = Jupyter.notebook.get_cells();\n",
       "                for (var i = 0; i < nbb_cells.length; ++i) {\n",
       "                    if (nbb_cells[i].input_prompt_number == nbb_cell_id) {\n",
       "                        if (nbb_cells[i].get_text() == nbb_unformatted_code) {\n",
       "                             nbb_cells[i].set_text(nbb_formatted_code);\n",
       "                        }\n",
       "                        break;\n",
       "                    }\n",
       "                }\n",
       "            }, 500);\n",
       "            "
      ],
      "text/plain": [
       "<IPython.core.display.Javascript object>"
      ]
     },
     "metadata": {},
     "output_type": "display_data"
    }
   ],
   "source": [
    "EMOS_model.summary()"
   ]
  },
  {
   "cell_type": "code",
   "execution_count": 176,
   "id": "4800f06a",
   "metadata": {
    "scrolled": true
   },
   "outputs": [
    {
     "name": "stdout",
     "output_type": "stream",
     "text": [
      "WARNING:tensorflow:Keras is training/fitting/evaluating on array-like data. Keras may not be optimized for this format, so if your input data format is supported by TensorFlow I/O (https://github.com/tensorflow/io) we recommend using that to load a Dataset instead.\n"
     ]
    },
    {
     "name": "stderr",
     "output_type": "stream",
     "text": [
      "WARNING:tensorflow:Keras is training/fitting/evaluating on array-like data. Keras may not be optimized for this format, so if your input data format is supported by TensorFlow I/O (https://github.com/tensorflow/io) we recommend using that to load a Dataset instead.\n"
     ]
    },
    {
     "name": "stdout",
     "output_type": "stream",
     "text": [
      "Epoch 1/10\n",
      "12/12 [==============================] - 1s 9ms/step - loss: 0.0206\n",
      "Epoch 2/10\n",
      "12/12 [==============================] - 0s 29ms/step - loss: 0.0205\n",
      "Epoch 3/10\n",
      "12/12 [==============================] - 0s 24ms/step - loss: 0.0192\n",
      "Epoch 4/10\n",
      "12/12 [==============================] - 0s 27ms/step - loss: 0.0204\n",
      "Epoch 5/10\n",
      "12/12 [==============================] - 0s 35ms/step - loss: 0.0188: 0s - loss: 0.01\n",
      "Epoch 6/10\n",
      "12/12 [==============================] - 0s 18ms/step - loss: 0.0198\n",
      "Epoch 7/10\n",
      "12/12 [==============================] - 0s 27ms/step - loss: 0.0205\n",
      "Epoch 8/10\n",
      "12/12 [==============================] - 0s 34ms/step - loss: 0.0216: 0s - loss: 0.\n",
      "Epoch 9/10\n",
      "12/12 [==============================] - 0s 12ms/step - loss: 0.0190\n",
      "Epoch 10/10\n",
      "12/12 [==============================] - 0s 2ms/step - loss: 0.0199\n"
     ]
    },
    {
     "data": {
      "text/plain": [
       "<keras.callbacks.History at 0x7faca02a25e0>"
      ]
     },
     "execution_count": 176,
     "metadata": {},
     "output_type": "execute_result"
    },
    {
     "data": {
      "application/javascript": [
       "\n",
       "            setTimeout(function() {\n",
       "                var nbb_cell_id = 176;\n",
       "                var nbb_unformatted_code = \"EMOS_model.fit([df_mean_var['mean'], np.sqrt(df_mean_var['var'])], y, epochs = 10)\";\n",
       "                var nbb_formatted_code = \"EMOS_model.fit([df_mean_var[\\\"mean\\\"], np.sqrt(df_mean_var[\\\"var\\\"])], y, epochs=10)\";\n",
       "                var nbb_cells = Jupyter.notebook.get_cells();\n",
       "                for (var i = 0; i < nbb_cells.length; ++i) {\n",
       "                    if (nbb_cells[i].input_prompt_number == nbb_cell_id) {\n",
       "                        if (nbb_cells[i].get_text() == nbb_unformatted_code) {\n",
       "                             nbb_cells[i].set_text(nbb_formatted_code);\n",
       "                        }\n",
       "                        break;\n",
       "                    }\n",
       "                }\n",
       "            }, 500);\n",
       "            "
      ],
      "text/plain": [
       "<IPython.core.display.Javascript object>"
      ]
     },
     "metadata": {},
     "output_type": "display_data"
    }
   ],
   "source": [
    "EMOS_model.fit([df_mean_std[\"mean\"], df_mean_std[\"std\"]], y, epochs=10)"
   ]
  },
  {
   "cell_type": "code",
   "execution_count": 178,
   "id": "33f5aa42",
   "metadata": {},
   "outputs": [
    {
     "data": {
      "text/plain": [
       "<keras.engine.functional.Functional at 0x7faca023db20>"
      ]
     },
     "execution_count": 178,
     "metadata": {},
     "output_type": "execute_result"
    },
    {
     "data": {
      "application/javascript": [
       "\n",
       "            setTimeout(function() {\n",
       "                var nbb_cell_id = 178;\n",
       "                var nbb_unformatted_code = \"EMOS_model\";\n",
       "                var nbb_formatted_code = \"EMOS_model\";\n",
       "                var nbb_cells = Jupyter.notebook.get_cells();\n",
       "                for (var i = 0; i < nbb_cells.length; ++i) {\n",
       "                    if (nbb_cells[i].input_prompt_number == nbb_cell_id) {\n",
       "                        if (nbb_cells[i].get_text() == nbb_unformatted_code) {\n",
       "                             nbb_cells[i].set_text(nbb_formatted_code);\n",
       "                        }\n",
       "                        break;\n",
       "                    }\n",
       "                }\n",
       "            }, 500);\n",
       "            "
      ],
      "text/plain": [
       "<IPython.core.display.Javascript object>"
      ]
     },
     "metadata": {},
     "output_type": "display_data"
    }
   ],
   "source": [
    "EMOS_model"
   ]
  },
  {
   "cell_type": "markdown",
   "id": "3e905972",
   "metadata": {},
   "source": [
    "#### 4. Global mean and stds\n",
    "1. Variable Index Positions:<br>\n",
    "    u10: 0 <br>\n",
    "    v10: 1 <br>\n",
    "    t2m: 2 <br>\n",
    "    t850: 5 <br>\n",
    "    z500: 14 <br>"
   ]
  },
  {
   "cell_type": "code",
   "execution_count": 4,
   "id": "220e2a86",
   "metadata": {},
   "outputs": [
    {
     "data": {
      "application/javascript": [
       "\n",
       "            setTimeout(function() {\n",
       "                var nbb_cell_id = 4;\n",
       "                var nbb_unformatted_code = \"path_global_means = '/mnt/sda/Data2/fourcastnet/data/stats_v0/global_means.npy'\\npath_global_stds = '/mnt/sda/Data2/fourcastnet/data/stats_v0/global_stds.npy'\";\n",
       "                var nbb_formatted_code = \"path_global_means = \\\"/mnt/sda/Data2/fourcastnet/data/stats_v0/global_means.npy\\\"\\npath_global_stds = \\\"/mnt/sda/Data2/fourcastnet/data/stats_v0/global_stds.npy\\\"\";\n",
       "                var nbb_cells = Jupyter.notebook.get_cells();\n",
       "                for (var i = 0; i < nbb_cells.length; ++i) {\n",
       "                    if (nbb_cells[i].input_prompt_number == nbb_cell_id) {\n",
       "                        if (nbb_cells[i].get_text() == nbb_unformatted_code) {\n",
       "                             nbb_cells[i].set_text(nbb_formatted_code);\n",
       "                        }\n",
       "                        break;\n",
       "                    }\n",
       "                }\n",
       "            }, 500);\n",
       "            "
      ],
      "text/plain": [
       "<IPython.core.display.Javascript object>"
      ]
     },
     "metadata": {},
     "output_type": "display_data"
    }
   ],
   "source": [
    "path_global_means = \"/mnt/sda/Data2/fourcastnet/data/stats_v0/global_means.npy\"\n",
    "path_global_stds = \"/mnt/sda/Data2/fourcastnet/data/stats_v0/global_stds.npy\""
   ]
  },
  {
   "cell_type": "code",
   "execution_count": 17,
   "id": "c59533d2",
   "metadata": {},
   "outputs": [
    {
     "data": {
      "application/javascript": [
       "\n",
       "            setTimeout(function() {\n",
       "                var nbb_cell_id = 17;\n",
       "                var nbb_unformatted_code = \"global_means = np.load(path_global_means).flatten()\\nglobal_stds = np.load(path_global_stds).flatten()\";\n",
       "                var nbb_formatted_code = \"global_means = np.load(path_global_means).flatten()\\nglobal_stds = np.load(path_global_stds).flatten()\";\n",
       "                var nbb_cells = Jupyter.notebook.get_cells();\n",
       "                for (var i = 0; i < nbb_cells.length; ++i) {\n",
       "                    if (nbb_cells[i].input_prompt_number == nbb_cell_id) {\n",
       "                        if (nbb_cells[i].get_text() == nbb_unformatted_code) {\n",
       "                             nbb_cells[i].set_text(nbb_formatted_code);\n",
       "                        }\n",
       "                        break;\n",
       "                    }\n",
       "                }\n",
       "            }, 500);\n",
       "            "
      ],
      "text/plain": [
       "<IPython.core.display.Javascript object>"
      ]
     },
     "metadata": {},
     "output_type": "display_data"
    }
   ],
   "source": [
    "global_means = np.load(path_global_means).flatten()\n",
    "global_stds = np.load(path_global_stds).flatten()"
   ]
  },
  {
   "cell_type": "code",
   "execution_count": null,
   "id": "8c35ef20",
   "metadata": {},
   "outputs": [],
   "source": []
  }
 ],
 "metadata": {
  "kernelspec": {
   "display_name": "Python 3 (ipykernel)",
   "language": "python",
   "name": "python3"
  },
  "language_info": {
   "codemirror_mode": {
    "name": "ipython",
    "version": 3
   },
   "file_extension": ".py",
   "mimetype": "text/x-python",
   "name": "python",
   "nbconvert_exporter": "python",
   "pygments_lexer": "ipython3",
   "version": "3.9.7"
  }
 },
 "nbformat": 4,
 "nbformat_minor": 5
}
