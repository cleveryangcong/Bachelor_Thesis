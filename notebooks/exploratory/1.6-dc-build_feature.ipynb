{
 "cells": [
  {
   "cell_type": "code",
   "execution_count": 1,
   "id": "45c7e9f3",
   "metadata": {},
   "outputs": [
    {
     "data": {
      "application/javascript": [
       "\n",
       "            setTimeout(function() {\n",
       "                var nbb_cell_id = 1;\n",
       "                var nbb_unformatted_code = \"%load_ext nb_black\";\n",
       "                var nbb_formatted_code = \"%load_ext nb_black\";\n",
       "                var nbb_cells = Jupyter.notebook.get_cells();\n",
       "                for (var i = 0; i < nbb_cells.length; ++i) {\n",
       "                    if (nbb_cells[i].input_prompt_number == nbb_cell_id) {\n",
       "                        if (nbb_cells[i].get_text() == nbb_unformatted_code) {\n",
       "                             nbb_cells[i].set_text(nbb_formatted_code);\n",
       "                        }\n",
       "                        break;\n",
       "                    }\n",
       "                }\n",
       "            }, 500);\n",
       "            "
      ],
      "text/plain": [
       "<IPython.core.display.Javascript object>"
      ]
     },
     "metadata": {},
     "output_type": "display_data"
    }
   ],
   "source": [
    "%load_ext nb_black"
   ]
  },
  {
   "cell_type": "code",
   "execution_count": 2,
   "id": "1bcfadd2",
   "metadata": {},
   "outputs": [
    {
     "name": "stderr",
     "output_type": "stream",
     "text": [
      "2023-05-24 12:19:19.598340: W tensorflow/stream_executor/platform/default/dso_loader.cc:64] Could not load dynamic library 'libcudart.so.11.0'; dlerror: libcudart.so.11.0: cannot open shared object file: No such file or directory; LD_LIBRARY_PATH: :/opt/anaconda3/lib/\n",
      "2023-05-24 12:19:19.598368: I tensorflow/stream_executor/cuda/cudart_stub.cc:29] Ignore above cudart dlerror if you do not have a GPU set up on your machine.\n"
     ]
    },
    {
     "data": {
      "application/javascript": [
       "\n",
       "            setTimeout(function() {\n",
       "                var nbb_cell_id = 2;\n",
       "                var nbb_unformatted_code = \"# Basics\\nimport pandas as pd\\nimport numpy as np\\nimport matplotlib.pyplot as plt\\nimport keras.backend as K\\nimport tensorflow as tf\\n\\n# Data\\nimport xarray as xr\\nimport h5py\\nimport pickle\\n\\n# Helpful\\nimport time\\nimport datetime\\nimport itertools\\nfrom itertools import product\\nfrom tqdm import tqdm\\nimport os\\n\\n# My Methods\\nimport importlib\\nfrom src.utils.CRPS import *\\nfrom src.utils.data_split import *\\nfrom src.models.EMOS import *\\nimport data.raw.load_data_raw as ldr\\nimport data.processed.load_data_processed as ldp\\nfrom src.models.EMOS_global.EMOS_global_load_models import *\";\n",
       "                var nbb_formatted_code = \"# Basics\\nimport pandas as pd\\nimport numpy as np\\nimport matplotlib.pyplot as plt\\nimport keras.backend as K\\nimport tensorflow as tf\\n\\n# Data\\nimport xarray as xr\\nimport h5py\\nimport pickle\\n\\n# Helpful\\nimport time\\nimport datetime\\nimport itertools\\nfrom itertools import product\\nfrom tqdm import tqdm\\nimport os\\n\\n# My Methods\\nimport importlib\\nfrom src.utils.CRPS import *\\nfrom src.utils.data_split import *\\nfrom src.models.EMOS import *\\nimport data.raw.load_data_raw as ldr\\nimport data.processed.load_data_processed as ldp\\nfrom src.models.EMOS_global.EMOS_global_load_models import *\";\n",
       "                var nbb_cells = Jupyter.notebook.get_cells();\n",
       "                for (var i = 0; i < nbb_cells.length; ++i) {\n",
       "                    if (nbb_cells[i].input_prompt_number == nbb_cell_id) {\n",
       "                        if (nbb_cells[i].get_text() == nbb_unformatted_code) {\n",
       "                             nbb_cells[i].set_text(nbb_formatted_code);\n",
       "                        }\n",
       "                        break;\n",
       "                    }\n",
       "                }\n",
       "            }, 500);\n",
       "            "
      ],
      "text/plain": [
       "<IPython.core.display.Javascript object>"
      ]
     },
     "metadata": {},
     "output_type": "display_data"
    }
   ],
   "source": [
    "# Basics\n",
    "import pandas as pd\n",
    "import numpy as np\n",
    "import matplotlib.pyplot as plt\n",
    "import keras.backend as K\n",
    "import tensorflow as tf\n",
    "\n",
    "# Data\n",
    "import xarray as xr\n",
    "import h5py\n",
    "import pickle\n",
    "\n",
    "# Helpful\n",
    "import time\n",
    "import datetime\n",
    "import itertools\n",
    "from itertools import product\n",
    "from tqdm import tqdm\n",
    "import os\n",
    "\n",
    "# My Methods\n",
    "import importlib\n",
    "from src.utils.CRPS import *\n",
    "from src.utils.data_split import *\n",
    "from src.models.EMOS import *\n",
    "import data.raw.load_data_raw as ldr\n",
    "import data.processed.load_data_processed as ldp\n",
    "from src.models.EMOS_global.EMOS_global_load_models import *"
   ]
  },
  {
   "cell_type": "markdown",
   "id": "2f71e657",
   "metadata": {},
   "source": [
    "## Goal: Make ws10 feature"
   ]
  },
  {
   "cell_type": "markdown",
   "id": "039d3ee4",
   "metadata": {},
   "source": [
    "### 0. Basics"
   ]
  },
  {
   "cell_type": "code",
   "execution_count": 3,
   "id": "6c57a2ef",
   "metadata": {},
   "outputs": [
    {
     "data": {
      "application/javascript": [
       "\n",
       "            setTimeout(function() {\n",
       "                var nbb_cell_id = 3;\n",
       "                var nbb_unformatted_code = \"var_names = [\\\"u10\\\", \\\"v10\\\", \\\"t2m\\\", \\\"t850\\\", \\\"z500\\\"]\";\n",
       "                var nbb_formatted_code = \"var_names = [\\\"u10\\\", \\\"v10\\\", \\\"t2m\\\", \\\"t850\\\", \\\"z500\\\"]\";\n",
       "                var nbb_cells = Jupyter.notebook.get_cells();\n",
       "                for (var i = 0; i < nbb_cells.length; ++i) {\n",
       "                    if (nbb_cells[i].input_prompt_number == nbb_cell_id) {\n",
       "                        if (nbb_cells[i].get_text() == nbb_unformatted_code) {\n",
       "                             nbb_cells[i].set_text(nbb_formatted_code);\n",
       "                        }\n",
       "                        break;\n",
       "                    }\n",
       "                }\n",
       "            }, 500);\n",
       "            "
      ],
      "text/plain": [
       "<IPython.core.display.Javascript object>"
      ]
     },
     "metadata": {},
     "output_type": "display_data"
    }
   ],
   "source": [
    "var_names = [\"u10\", \"v10\", \"t2m\", \"t850\", \"z500\"]"
   ]
  },
  {
   "cell_type": "code",
   "execution_count": 4,
   "id": "ba381f87",
   "metadata": {},
   "outputs": [
    {
     "data": {
      "application/javascript": [
       "\n",
       "            setTimeout(function() {\n",
       "                var nbb_cell_id = 4;\n",
       "                var nbb_unformatted_code = \"# Variables to make testing easier --> determines variable and lead_time\\nvar = 0  # 0,...,4\\nlead_time = 1  # 0,...,30\\nforecast_date = 0\\nlat = 0\\nlon = 0\";\n",
       "                var nbb_formatted_code = \"# Variables to make testing easier --> determines variable and lead_time\\nvar = 0  # 0,...,4\\nlead_time = 1  # 0,...,30\\nforecast_date = 0\\nlat = 0\\nlon = 0\";\n",
       "                var nbb_cells = Jupyter.notebook.get_cells();\n",
       "                for (var i = 0; i < nbb_cells.length; ++i) {\n",
       "                    if (nbb_cells[i].input_prompt_number == nbb_cell_id) {\n",
       "                        if (nbb_cells[i].get_text() == nbb_unformatted_code) {\n",
       "                             nbb_cells[i].set_text(nbb_formatted_code);\n",
       "                        }\n",
       "                        break;\n",
       "                    }\n",
       "                }\n",
       "            }, 500);\n",
       "            "
      ],
      "text/plain": [
       "<IPython.core.display.Javascript object>"
      ]
     },
     "metadata": {},
     "output_type": "display_data"
    }
   ],
   "source": [
    "# Variables to make testing easier --> determines variable and lead_time\n",
    "var = 0  # 0,...,4\n",
    "lead_time = 1  # 0,...,30\n",
    "forecast_date = 0\n",
    "lat = 0\n",
    "lon = 0"
   ]
  },
  {
   "cell_type": "markdown",
   "id": "927dbe78",
   "metadata": {},
   "source": [
    "### 1. Load Dataset"
   ]
  },
  {
   "cell_type": "code",
   "execution_count": 5,
   "id": "442244f4",
   "metadata": {},
   "outputs": [
    {
     "data": {
      "application/javascript": [
       "\n",
       "            setTimeout(function() {\n",
       "                var nbb_cell_id = 5;\n",
       "                var nbb_unformatted_code = \"dat_raw = ldr.load_data_raw()  # list length 5 with 2018 - 2022\\n\\n# processed data\\ndat_train_proc_norm = ldp.load_data_all_train_proc_norm()\\ndat_test_proc_norm = ldp.load_data_all_test_proc_norm()\";\n",
       "                var nbb_formatted_code = \"dat_raw = ldr.load_data_raw()  # list length 5 with 2018 - 2022\\n\\n# processed data\\ndat_train_proc_norm = ldp.load_data_all_train_proc_norm()\\ndat_test_proc_norm = ldp.load_data_all_test_proc_norm()\";\n",
       "                var nbb_cells = Jupyter.notebook.get_cells();\n",
       "                for (var i = 0; i < nbb_cells.length; ++i) {\n",
       "                    if (nbb_cells[i].input_prompt_number == nbb_cell_id) {\n",
       "                        if (nbb_cells[i].get_text() == nbb_unformatted_code) {\n",
       "                             nbb_cells[i].set_text(nbb_formatted_code);\n",
       "                        }\n",
       "                        break;\n",
       "                    }\n",
       "                }\n",
       "            }, 500);\n",
       "            "
      ],
      "text/plain": [
       "<IPython.core.display.Javascript object>"
      ]
     },
     "metadata": {},
     "output_type": "display_data"
    }
   ],
   "source": [
    "dat_raw = ldr.load_data_raw()  # list length 5 with 2018 - 2022\n",
    "\n",
    "# processed data\n",
    "dat_train_proc_norm = ldp.load_data_all_train_proc_norm()\n",
    "dat_test_proc_norm = ldp.load_data_all_test_proc_norm()"
   ]
  },
  {
   "cell_type": "markdown",
   "id": "a9f5a483",
   "metadata": {},
   "source": [
    "### 2. Test if mean is enough, or have to do everything from scratch?"
   ]
  },
  {
   "cell_type": "code",
   "execution_count": 6,
   "id": "67aabb6a",
   "metadata": {},
   "outputs": [
    {
     "data": {
      "application/javascript": [
       "\n",
       "            setTimeout(function() {\n",
       "                var nbb_cell_id = 6;\n",
       "                var nbb_unformatted_code = \"u10_test_ens = (\\n    dat_raw[0]\\n    .isel(forecast_date=forecast_date, lead_time=lead_time, var=0, lat=lat, lon=lon)\\n    .values\\n)\\nv10_test_ens = (\\n    dat_raw[0]\\n    .isel(forecast_date=forecast_date, lead_time=lead_time, var=1, lat=lat, lon=lon)\\n    .values\\n)\\nu10_test_mean = (\\n    dat_train_proc_norm[0]\\n    .u10_train.isel(\\n        forecast_date=forecast_date, lead_time=lead_time, lat=lat, lon=lon, mean_std=0\\n    )\\n    .values\\n)\\nv10_test_mean = (\\n    dat_train_proc_norm[1]\\n    .v10_train.isel(\\n        forecast_date=forecast_date, lead_time=lead_time, lat=lat, lon=lon, mean_std=0\\n    )\\n    .values\\n)\\nu10_test_std = (\\n    dat_train_proc_norm[0]\\n    .u10_train.isel(\\n        forecast_date=forecast_date, lead_time=lead_time, lat=lat, lon=lon, mean_std=1\\n    )\\n    .values\\n)\\nv10_test_std = (\\n    dat_train_proc_norm[1]\\n    .v10_train.isel(\\n        forecast_date=forecast_date, lead_time=lead_time, lat=lat, lon=lon, mean_std=1\\n    )\\n    .values\\n)\";\n",
       "                var nbb_formatted_code = \"u10_test_ens = (\\n    dat_raw[0]\\n    .isel(forecast_date=forecast_date, lead_time=lead_time, var=0, lat=lat, lon=lon)\\n    .values\\n)\\nv10_test_ens = (\\n    dat_raw[0]\\n    .isel(forecast_date=forecast_date, lead_time=lead_time, var=1, lat=lat, lon=lon)\\n    .values\\n)\\nu10_test_mean = (\\n    dat_train_proc_norm[0]\\n    .u10_train.isel(\\n        forecast_date=forecast_date, lead_time=lead_time, lat=lat, lon=lon, mean_std=0\\n    )\\n    .values\\n)\\nv10_test_mean = (\\n    dat_train_proc_norm[1]\\n    .v10_train.isel(\\n        forecast_date=forecast_date, lead_time=lead_time, lat=lat, lon=lon, mean_std=0\\n    )\\n    .values\\n)\\nu10_test_std = (\\n    dat_train_proc_norm[0]\\n    .u10_train.isel(\\n        forecast_date=forecast_date, lead_time=lead_time, lat=lat, lon=lon, mean_std=1\\n    )\\n    .values\\n)\\nv10_test_std = (\\n    dat_train_proc_norm[1]\\n    .v10_train.isel(\\n        forecast_date=forecast_date, lead_time=lead_time, lat=lat, lon=lon, mean_std=1\\n    )\\n    .values\\n)\";\n",
       "                var nbb_cells = Jupyter.notebook.get_cells();\n",
       "                for (var i = 0; i < nbb_cells.length; ++i) {\n",
       "                    if (nbb_cells[i].input_prompt_number == nbb_cell_id) {\n",
       "                        if (nbb_cells[i].get_text() == nbb_unformatted_code) {\n",
       "                             nbb_cells[i].set_text(nbb_formatted_code);\n",
       "                        }\n",
       "                        break;\n",
       "                    }\n",
       "                }\n",
       "            }, 500);\n",
       "            "
      ],
      "text/plain": [
       "<IPython.core.display.Javascript object>"
      ]
     },
     "metadata": {},
     "output_type": "display_data"
    }
   ],
   "source": [
    "u10_test_ens = (\n",
    "    dat_raw[0]\n",
    "    .isel(forecast_date=forecast_date, lead_time=lead_time, var=0, lat=lat, lon=lon)\n",
    "    .values\n",
    ")\n",
    "v10_test_ens = (\n",
    "    dat_raw[0]\n",
    "    .isel(forecast_date=forecast_date, lead_time=lead_time, var=1, lat=lat, lon=lon)\n",
    "    .values\n",
    ")\n",
    "u10_test_mean = (\n",
    "    dat_train_proc_norm[0]\n",
    "    .u10_train.isel(\n",
    "        forecast_date=forecast_date, lead_time=lead_time, lat=lat, lon=lon, mean_std=0\n",
    "    )\n",
    "    .values\n",
    ")\n",
    "v10_test_mean = (\n",
    "    dat_train_proc_norm[1]\n",
    "    .v10_train.isel(\n",
    "        forecast_date=forecast_date, lead_time=lead_time, lat=lat, lon=lon, mean_std=0\n",
    "    )\n",
    "    .values\n",
    ")\n",
    "u10_test_std = (\n",
    "    dat_train_proc_norm[0]\n",
    "    .u10_train.isel(\n",
    "        forecast_date=forecast_date, lead_time=lead_time, lat=lat, lon=lon, mean_std=1\n",
    "    )\n",
    "    .values\n",
    ")\n",
    "v10_test_std = (\n",
    "    dat_train_proc_norm[1]\n",
    "    .v10_train.isel(\n",
    "        forecast_date=forecast_date, lead_time=lead_time, lat=lat, lon=lon, mean_std=1\n",
    "    )\n",
    "    .values\n",
    ")"
   ]
  },
  {
   "cell_type": "markdown",
   "id": "d6c6b133",
   "metadata": {},
   "source": [
    "### 3. From raw data make ws10"
   ]
  },
  {
   "cell_type": "code",
   "execution_count": 8,
   "id": "874c1c35",
   "metadata": {
    "scrolled": true
   },
   "outputs": [
    {
     "data": {
      "text/html": [
       "<div><svg style=\"position: absolute; width: 0; height: 0; overflow: hidden\">\n",
       "<defs>\n",
       "<symbol id=\"icon-database\" viewBox=\"0 0 32 32\">\n",
       "<path d=\"M16 0c-8.837 0-16 2.239-16 5v4c0 2.761 7.163 5 16 5s16-2.239 16-5v-4c0-2.761-7.163-5-16-5z\"></path>\n",
       "<path d=\"M16 17c-8.837 0-16-2.239-16-5v6c0 2.761 7.163 5 16 5s16-2.239 16-5v-6c0 2.761-7.163 5-16 5z\"></path>\n",
       "<path d=\"M16 26c-8.837 0-16-2.239-16-5v6c0 2.761 7.163 5 16 5s16-2.239 16-5v-6c0 2.761-7.163 5-16 5z\"></path>\n",
       "</symbol>\n",
       "<symbol id=\"icon-file-text2\" viewBox=\"0 0 32 32\">\n",
       "<path d=\"M28.681 7.159c-0.694-0.947-1.662-2.053-2.724-3.116s-2.169-2.030-3.116-2.724c-1.612-1.182-2.393-1.319-2.841-1.319h-15.5c-1.378 0-2.5 1.121-2.5 2.5v27c0 1.378 1.122 2.5 2.5 2.5h23c1.378 0 2.5-1.122 2.5-2.5v-19.5c0-0.448-0.137-1.23-1.319-2.841zM24.543 5.457c0.959 0.959 1.712 1.825 2.268 2.543h-4.811v-4.811c0.718 0.556 1.584 1.309 2.543 2.268zM28 29.5c0 0.271-0.229 0.5-0.5 0.5h-23c-0.271 0-0.5-0.229-0.5-0.5v-27c0-0.271 0.229-0.5 0.5-0.5 0 0 15.499-0 15.5 0v7c0 0.552 0.448 1 1 1h7v19.5z\"></path>\n",
       "<path d=\"M23 26h-14c-0.552 0-1-0.448-1-1s0.448-1 1-1h14c0.552 0 1 0.448 1 1s-0.448 1-1 1z\"></path>\n",
       "<path d=\"M23 22h-14c-0.552 0-1-0.448-1-1s0.448-1 1-1h14c0.552 0 1 0.448 1 1s-0.448 1-1 1z\"></path>\n",
       "<path d=\"M23 18h-14c-0.552 0-1-0.448-1-1s0.448-1 1-1h14c0.552 0 1 0.448 1 1s-0.448 1-1 1z\"></path>\n",
       "</symbol>\n",
       "</defs>\n",
       "</svg>\n",
       "<style>/* CSS stylesheet for displaying xarray objects in jupyterlab.\n",
       " *\n",
       " */\n",
       "\n",
       ":root {\n",
       "  --xr-font-color0: var(--jp-content-font-color0, rgba(0, 0, 0, 1));\n",
       "  --xr-font-color2: var(--jp-content-font-color2, rgba(0, 0, 0, 0.54));\n",
       "  --xr-font-color3: var(--jp-content-font-color3, rgba(0, 0, 0, 0.38));\n",
       "  --xr-border-color: var(--jp-border-color2, #e0e0e0);\n",
       "  --xr-disabled-color: var(--jp-layout-color3, #bdbdbd);\n",
       "  --xr-background-color: var(--jp-layout-color0, white);\n",
       "  --xr-background-color-row-even: var(--jp-layout-color1, white);\n",
       "  --xr-background-color-row-odd: var(--jp-layout-color2, #eeeeee);\n",
       "}\n",
       "\n",
       "html[theme=dark],\n",
       "body[data-theme=dark],\n",
       "body.vscode-dark {\n",
       "  --xr-font-color0: rgba(255, 255, 255, 1);\n",
       "  --xr-font-color2: rgba(255, 255, 255, 0.54);\n",
       "  --xr-font-color3: rgba(255, 255, 255, 0.38);\n",
       "  --xr-border-color: #1F1F1F;\n",
       "  --xr-disabled-color: #515151;\n",
       "  --xr-background-color: #111111;\n",
       "  --xr-background-color-row-even: #111111;\n",
       "  --xr-background-color-row-odd: #313131;\n",
       "}\n",
       "\n",
       ".xr-wrap {\n",
       "  display: block !important;\n",
       "  min-width: 300px;\n",
       "  max-width: 700px;\n",
       "}\n",
       "\n",
       ".xr-text-repr-fallback {\n",
       "  /* fallback to plain text repr when CSS is not injected (untrusted notebook) */\n",
       "  display: none;\n",
       "}\n",
       "\n",
       ".xr-header {\n",
       "  padding-top: 6px;\n",
       "  padding-bottom: 6px;\n",
       "  margin-bottom: 4px;\n",
       "  border-bottom: solid 1px var(--xr-border-color);\n",
       "}\n",
       "\n",
       ".xr-header > div,\n",
       ".xr-header > ul {\n",
       "  display: inline;\n",
       "  margin-top: 0;\n",
       "  margin-bottom: 0;\n",
       "}\n",
       "\n",
       ".xr-obj-type,\n",
       ".xr-array-name {\n",
       "  margin-left: 2px;\n",
       "  margin-right: 10px;\n",
       "}\n",
       "\n",
       ".xr-obj-type {\n",
       "  color: var(--xr-font-color2);\n",
       "}\n",
       "\n",
       ".xr-sections {\n",
       "  padding-left: 0 !important;\n",
       "  display: grid;\n",
       "  grid-template-columns: 150px auto auto 1fr 20px 20px;\n",
       "}\n",
       "\n",
       ".xr-section-item {\n",
       "  display: contents;\n",
       "}\n",
       "\n",
       ".xr-section-item input {\n",
       "  display: none;\n",
       "}\n",
       "\n",
       ".xr-section-item input + label {\n",
       "  color: var(--xr-disabled-color);\n",
       "}\n",
       "\n",
       ".xr-section-item input:enabled + label {\n",
       "  cursor: pointer;\n",
       "  color: var(--xr-font-color2);\n",
       "}\n",
       "\n",
       ".xr-section-item input:enabled + label:hover {\n",
       "  color: var(--xr-font-color0);\n",
       "}\n",
       "\n",
       ".xr-section-summary {\n",
       "  grid-column: 1;\n",
       "  color: var(--xr-font-color2);\n",
       "  font-weight: 500;\n",
       "}\n",
       "\n",
       ".xr-section-summary > span {\n",
       "  display: inline-block;\n",
       "  padding-left: 0.5em;\n",
       "}\n",
       "\n",
       ".xr-section-summary-in:disabled + label {\n",
       "  color: var(--xr-font-color2);\n",
       "}\n",
       "\n",
       ".xr-section-summary-in + label:before {\n",
       "  display: inline-block;\n",
       "  content: '►';\n",
       "  font-size: 11px;\n",
       "  width: 15px;\n",
       "  text-align: center;\n",
       "}\n",
       "\n",
       ".xr-section-summary-in:disabled + label:before {\n",
       "  color: var(--xr-disabled-color);\n",
       "}\n",
       "\n",
       ".xr-section-summary-in:checked + label:before {\n",
       "  content: '▼';\n",
       "}\n",
       "\n",
       ".xr-section-summary-in:checked + label > span {\n",
       "  display: none;\n",
       "}\n",
       "\n",
       ".xr-section-summary,\n",
       ".xr-section-inline-details {\n",
       "  padding-top: 4px;\n",
       "  padding-bottom: 4px;\n",
       "}\n",
       "\n",
       ".xr-section-inline-details {\n",
       "  grid-column: 2 / -1;\n",
       "}\n",
       "\n",
       ".xr-section-details {\n",
       "  display: none;\n",
       "  grid-column: 1 / -1;\n",
       "  margin-bottom: 5px;\n",
       "}\n",
       "\n",
       ".xr-section-summary-in:checked ~ .xr-section-details {\n",
       "  display: contents;\n",
       "}\n",
       "\n",
       ".xr-array-wrap {\n",
       "  grid-column: 1 / -1;\n",
       "  display: grid;\n",
       "  grid-template-columns: 20px auto;\n",
       "}\n",
       "\n",
       ".xr-array-wrap > label {\n",
       "  grid-column: 1;\n",
       "  vertical-align: top;\n",
       "}\n",
       "\n",
       ".xr-preview {\n",
       "  color: var(--xr-font-color3);\n",
       "}\n",
       "\n",
       ".xr-array-preview,\n",
       ".xr-array-data {\n",
       "  padding: 0 5px !important;\n",
       "  grid-column: 2;\n",
       "}\n",
       "\n",
       ".xr-array-data,\n",
       ".xr-array-in:checked ~ .xr-array-preview {\n",
       "  display: none;\n",
       "}\n",
       "\n",
       ".xr-array-in:checked ~ .xr-array-data,\n",
       ".xr-array-preview {\n",
       "  display: inline-block;\n",
       "}\n",
       "\n",
       ".xr-dim-list {\n",
       "  display: inline-block !important;\n",
       "  list-style: none;\n",
       "  padding: 0 !important;\n",
       "  margin: 0;\n",
       "}\n",
       "\n",
       ".xr-dim-list li {\n",
       "  display: inline-block;\n",
       "  padding: 0;\n",
       "  margin: 0;\n",
       "}\n",
       "\n",
       ".xr-dim-list:before {\n",
       "  content: '(';\n",
       "}\n",
       "\n",
       ".xr-dim-list:after {\n",
       "  content: ')';\n",
       "}\n",
       "\n",
       ".xr-dim-list li:not(:last-child):after {\n",
       "  content: ',';\n",
       "  padding-right: 5px;\n",
       "}\n",
       "\n",
       ".xr-has-index {\n",
       "  font-weight: bold;\n",
       "}\n",
       "\n",
       ".xr-var-list,\n",
       ".xr-var-item {\n",
       "  display: contents;\n",
       "}\n",
       "\n",
       ".xr-var-item > div,\n",
       ".xr-var-item label,\n",
       ".xr-var-item > .xr-var-name span {\n",
       "  background-color: var(--xr-background-color-row-even);\n",
       "  margin-bottom: 0;\n",
       "}\n",
       "\n",
       ".xr-var-item > .xr-var-name:hover span {\n",
       "  padding-right: 5px;\n",
       "}\n",
       "\n",
       ".xr-var-list > li:nth-child(odd) > div,\n",
       ".xr-var-list > li:nth-child(odd) > label,\n",
       ".xr-var-list > li:nth-child(odd) > .xr-var-name span {\n",
       "  background-color: var(--xr-background-color-row-odd);\n",
       "}\n",
       "\n",
       ".xr-var-name {\n",
       "  grid-column: 1;\n",
       "}\n",
       "\n",
       ".xr-var-dims {\n",
       "  grid-column: 2;\n",
       "}\n",
       "\n",
       ".xr-var-dtype {\n",
       "  grid-column: 3;\n",
       "  text-align: right;\n",
       "  color: var(--xr-font-color2);\n",
       "}\n",
       "\n",
       ".xr-var-preview {\n",
       "  grid-column: 4;\n",
       "}\n",
       "\n",
       ".xr-index-preview {\n",
       "  grid-column: 2 / 5;\n",
       "  color: var(--xr-font-color2);\n",
       "}\n",
       "\n",
       ".xr-var-name,\n",
       ".xr-var-dims,\n",
       ".xr-var-dtype,\n",
       ".xr-preview,\n",
       ".xr-attrs dt {\n",
       "  white-space: nowrap;\n",
       "  overflow: hidden;\n",
       "  text-overflow: ellipsis;\n",
       "  padding-right: 10px;\n",
       "}\n",
       "\n",
       ".xr-var-name:hover,\n",
       ".xr-var-dims:hover,\n",
       ".xr-var-dtype:hover,\n",
       ".xr-attrs dt:hover {\n",
       "  overflow: visible;\n",
       "  width: auto;\n",
       "  z-index: 1;\n",
       "}\n",
       "\n",
       ".xr-var-attrs,\n",
       ".xr-var-data,\n",
       ".xr-index-data {\n",
       "  display: none;\n",
       "  background-color: var(--xr-background-color) !important;\n",
       "  padding-bottom: 5px !important;\n",
       "}\n",
       "\n",
       ".xr-var-attrs-in:checked ~ .xr-var-attrs,\n",
       ".xr-var-data-in:checked ~ .xr-var-data,\n",
       ".xr-index-data-in:checked ~ .xr-index-data {\n",
       "  display: block;\n",
       "}\n",
       "\n",
       ".xr-var-data > table {\n",
       "  float: right;\n",
       "}\n",
       "\n",
       ".xr-var-name span,\n",
       ".xr-var-data,\n",
       ".xr-index-name div,\n",
       ".xr-index-data,\n",
       ".xr-attrs {\n",
       "  padding-left: 25px !important;\n",
       "}\n",
       "\n",
       ".xr-attrs,\n",
       ".xr-var-attrs,\n",
       ".xr-var-data,\n",
       ".xr-index-data {\n",
       "  grid-column: 1 / -1;\n",
       "}\n",
       "\n",
       "dl.xr-attrs {\n",
       "  padding: 0;\n",
       "  margin: 0;\n",
       "  display: grid;\n",
       "  grid-template-columns: 125px auto;\n",
       "}\n",
       "\n",
       ".xr-attrs dt,\n",
       ".xr-attrs dd {\n",
       "  padding: 0;\n",
       "  margin: 0;\n",
       "  float: left;\n",
       "  padding-right: 10px;\n",
       "  width: auto;\n",
       "}\n",
       "\n",
       ".xr-attrs dt {\n",
       "  font-weight: normal;\n",
       "  grid-column: 1;\n",
       "}\n",
       "\n",
       ".xr-attrs dt:hover span {\n",
       "  display: inline-block;\n",
       "  background: var(--xr-background-color);\n",
       "  padding-right: 10px;\n",
       "}\n",
       "\n",
       ".xr-attrs dd {\n",
       "  grid-column: 2;\n",
       "  white-space: pre-wrap;\n",
       "  word-break: break-all;\n",
       "}\n",
       "\n",
       ".xr-icon-database,\n",
       ".xr-icon-file-text2,\n",
       ".xr-no-icon {\n",
       "  display: inline-block;\n",
       "  vertical-align: middle;\n",
       "  width: 1em;\n",
       "  height: 1.5em !important;\n",
       "  stroke-width: 0;\n",
       "  stroke: currentColor;\n",
       "  fill: currentColor;\n",
       "}\n",
       "</style><pre class='xr-text-repr-fallback'>&lt;xarray.DataArray &#x27;predictions&#x27; (forecast_date: 357, ens: 50, lead_time: 32,\n",
       "                                 var: 5, lat: 120, lon: 130)&gt;\n",
       "[44553600000 values with dtype=float32]\n",
       "Dimensions without coordinates: forecast_date, ens, lead_time, var, lat, lon</pre><div class='xr-wrap' style='display:none'><div class='xr-header'><div class='xr-obj-type'>xarray.DataArray</div><div class='xr-array-name'>'predictions'</div><ul class='xr-dim-list'><li><span>forecast_date</span>: 357</li><li><span>ens</span>: 50</li><li><span>lead_time</span>: 32</li><li><span>var</span>: 5</li><li><span>lat</span>: 120</li><li><span>lon</span>: 130</li></ul></div><ul class='xr-sections'><li class='xr-section-item'><div class='xr-array-wrap'><input id='section-ad67ce7d-431e-4198-ad57-18c81032d70d' class='xr-array-in' type='checkbox' checked><label for='section-ad67ce7d-431e-4198-ad57-18c81032d70d' title='Show/hide data repr'><svg class='icon xr-icon-database'><use xlink:href='#icon-database'></use></svg></label><div class='xr-array-preview xr-preview'><span>...</span></div><div class='xr-array-data'><pre>[44553600000 values with dtype=float32]</pre></div></div></li><li class='xr-section-item'><input id='section-08de604e-e4e0-4b6d-b515-6cb19c1330e5' class='xr-section-summary-in' type='checkbox' disabled ><label for='section-08de604e-e4e0-4b6d-b515-6cb19c1330e5' class='xr-section-summary'  title='Expand/collapse section'>Coordinates: <span>(0)</span></label><div class='xr-section-inline-details'></div><div class='xr-section-details'><ul class='xr-var-list'></ul></div></li><li class='xr-section-item'><input id='section-ff09dca1-e499-4fb8-b772-5649d7b10a64' class='xr-section-summary-in' type='checkbox' disabled ><label for='section-ff09dca1-e499-4fb8-b772-5649d7b10a64' class='xr-section-summary'  title='Expand/collapse section'>Indexes: <span>(0)</span></label><div class='xr-section-inline-details'></div><div class='xr-section-details'><ul class='xr-var-list'></ul></div></li><li class='xr-section-item'><input id='section-b5619363-4b0b-448d-a723-077ce05807de' class='xr-section-summary-in' type='checkbox' disabled ><label for='section-b5619363-4b0b-448d-a723-077ce05807de' class='xr-section-summary'  title='Expand/collapse section'>Attributes: <span>(0)</span></label><div class='xr-section-inline-details'></div><div class='xr-section-details'><dl class='xr-attrs'></dl></div></li></ul></div></div>"
      ],
      "text/plain": [
       "<xarray.DataArray 'predictions' (forecast_date: 357, ens: 50, lead_time: 32,\n",
       "                                 var: 5, lat: 120, lon: 130)>\n",
       "[44553600000 values with dtype=float32]\n",
       "Dimensions without coordinates: forecast_date, ens, lead_time, var, lat, lon"
      ]
     },
     "execution_count": 8,
     "metadata": {},
     "output_type": "execute_result"
    },
    {
     "data": {
      "application/javascript": [
       "\n",
       "            setTimeout(function() {\n",
       "                var nbb_cell_id = 8;\n",
       "                var nbb_unformatted_code = \"dat_raw[0].predictions\";\n",
       "                var nbb_formatted_code = \"dat_raw[0].predictions\";\n",
       "                var nbb_cells = Jupyter.notebook.get_cells();\n",
       "                for (var i = 0; i < nbb_cells.length; ++i) {\n",
       "                    if (nbb_cells[i].input_prompt_number == nbb_cell_id) {\n",
       "                        if (nbb_cells[i].get_text() == nbb_unformatted_code) {\n",
       "                             nbb_cells[i].set_text(nbb_formatted_code);\n",
       "                        }\n",
       "                        break;\n",
       "                    }\n",
       "                }\n",
       "            }, 500);\n",
       "            "
      ],
      "text/plain": [
       "<IPython.core.display.Javascript object>"
      ]
     },
     "metadata": {},
     "output_type": "display_data"
    }
   ],
   "source": [
    "dat_raw[0].predictions"
   ]
  },
  {
   "cell_type": "code",
   "execution_count": 9,
   "id": "e5af1426",
   "metadata": {},
   "outputs": [
    {
     "data": {
      "text/plain": [
       "(50, 120, 130)"
      ]
     },
     "execution_count": 9,
     "metadata": {},
     "output_type": "execute_result"
    },
    {
     "data": {
      "application/javascript": [
       "\n",
       "            setTimeout(function() {\n",
       "                var nbb_cell_id = 9;\n",
       "                var nbb_unformatted_code = \"dat_raw[0].predictions.isel(forecast_date=0, lead_time=0, var=0).shape\";\n",
       "                var nbb_formatted_code = \"dat_raw[0].predictions.isel(forecast_date=0, lead_time=0, var=0).shape\";\n",
       "                var nbb_cells = Jupyter.notebook.get_cells();\n",
       "                for (var i = 0; i < nbb_cells.length; ++i) {\n",
       "                    if (nbb_cells[i].input_prompt_number == nbb_cell_id) {\n",
       "                        if (nbb_cells[i].get_text() == nbb_unformatted_code) {\n",
       "                             nbb_cells[i].set_text(nbb_formatted_code);\n",
       "                        }\n",
       "                        break;\n",
       "                    }\n",
       "                }\n",
       "            }, 500);\n",
       "            "
      ],
      "text/plain": [
       "<IPython.core.display.Javascript object>"
      ]
     },
     "metadata": {},
     "output_type": "display_data"
    }
   ],
   "source": [
    "dat_raw[0].predictions.isel(forecast_date=0, lead_time=0, var=0).shape"
   ]
  },
  {
   "cell_type": "code",
   "execution_count": 10,
   "id": "5419b47a",
   "metadata": {},
   "outputs": [
    {
     "data": {
      "application/javascript": [
       "\n",
       "            setTimeout(function() {\n",
       "                var nbb_cell_id = 10;\n",
       "                var nbb_unformatted_code = \"ws10_2018 = np.hypot(\\n    dat_raw[0].predictions.isel(lead_time=0, var=0),\\n    dat_raw[0].predictions.isel(lead_time=0, var=1),\\n)\";\n",
       "                var nbb_formatted_code = \"ws10_2018 = np.hypot(\\n    dat_raw[0].predictions.isel(lead_time=0, var=0),\\n    dat_raw[0].predictions.isel(lead_time=0, var=1),\\n)\";\n",
       "                var nbb_cells = Jupyter.notebook.get_cells();\n",
       "                for (var i = 0; i < nbb_cells.length; ++i) {\n",
       "                    if (nbb_cells[i].input_prompt_number == nbb_cell_id) {\n",
       "                        if (nbb_cells[i].get_text() == nbb_unformatted_code) {\n",
       "                             nbb_cells[i].set_text(nbb_formatted_code);\n",
       "                        }\n",
       "                        break;\n",
       "                    }\n",
       "                }\n",
       "            }, 500);\n",
       "            "
      ],
      "text/plain": [
       "<IPython.core.display.Javascript object>"
      ]
     },
     "metadata": {},
     "output_type": "display_data"
    }
   ],
   "source": [
    "ws10_2018 = np.hypot(\n",
    "    dat_raw[0].predictions.isel(lead_time=0, var=0),\n",
    "    dat_raw[0].predictions.isel(lead_time=0, var=1),\n",
    ")"
   ]
  },
  {
   "cell_type": "code",
   "execution_count": 11,
   "id": "97b21fd5",
   "metadata": {},
   "outputs": [
    {
     "data": {
      "application/javascript": [
       "\n",
       "            setTimeout(function() {\n",
       "                var nbb_cell_id = 11;\n",
       "                var nbb_unformatted_code = \"ws10_2018_truth = np.hypot(\\n    dat_raw[0].ground_truth.isel(forecast_date=0, lead_time=0, var=0),\\n    dat_raw[0].ground_truth.isel(forecast_date=0, lead_time=0, var=1),\\n)\";\n",
       "                var nbb_formatted_code = \"ws10_2018_truth = np.hypot(\\n    dat_raw[0].ground_truth.isel(forecast_date=0, lead_time=0, var=0),\\n    dat_raw[0].ground_truth.isel(forecast_date=0, lead_time=0, var=1),\\n)\";\n",
       "                var nbb_cells = Jupyter.notebook.get_cells();\n",
       "                for (var i = 0; i < nbb_cells.length; ++i) {\n",
       "                    if (nbb_cells[i].input_prompt_number == nbb_cell_id) {\n",
       "                        if (nbb_cells[i].get_text() == nbb_unformatted_code) {\n",
       "                             nbb_cells[i].set_text(nbb_formatted_code);\n",
       "                        }\n",
       "                        break;\n",
       "                    }\n",
       "                }\n",
       "            }, 500);\n",
       "            "
      ],
      "text/plain": [
       "<IPython.core.display.Javascript object>"
      ]
     },
     "metadata": {},
     "output_type": "display_data"
    }
   ],
   "source": [
    "ws10_2018_truth = np.hypot(\n",
    "    dat_raw[0].ground_truth.isel(forecast_date=0, var=0),\n",
    "    dat_raw[0].ground_truth.isel(forecast_date=0, var=1),\n",
    ")"
   ]
  },
  {
   "cell_type": "code",
   "execution_count": 13,
   "id": "64bf759e",
   "metadata": {},
   "outputs": [
    {
     "data": {
      "text/plain": [
       "4"
      ]
     },
     "execution_count": 13,
     "metadata": {},
     "output_type": "execute_result"
    },
    {
     "data": {
      "application/javascript": [
       "\n",
       "            setTimeout(function() {\n",
       "                var nbb_cell_id = 13;\n",
       "                var nbb_unformatted_code = \"len(ldr.load_data_raw()[0:4])\";\n",
       "                var nbb_formatted_code = \"len(ldr.load_data_raw()[0:4])\";\n",
       "                var nbb_cells = Jupyter.notebook.get_cells();\n",
       "                for (var i = 0; i < nbb_cells.length; ++i) {\n",
       "                    if (nbb_cells[i].input_prompt_number == nbb_cell_id) {\n",
       "                        if (nbb_cells[i].get_text() == nbb_unformatted_code) {\n",
       "                             nbb_cells[i].set_text(nbb_formatted_code);\n",
       "                        }\n",
       "                        break;\n",
       "                    }\n",
       "                }\n",
       "            }, 500);\n",
       "            "
      ],
      "text/plain": [
       "<IPython.core.display.Javascript object>"
      ]
     },
     "metadata": {},
     "output_type": "display_data"
    }
   ],
   "source": [
    "len(ldr.load_data_raw()[0:4])"
   ]
  },
  {
   "cell_type": "code",
   "execution_count": 22,
   "id": "e69bd905",
   "metadata": {
    "scrolled": false
   },
   "outputs": [
    {
     "data": {
      "text/html": [
       "<div><svg style=\"position: absolute; width: 0; height: 0; overflow: hidden\">\n",
       "<defs>\n",
       "<symbol id=\"icon-database\" viewBox=\"0 0 32 32\">\n",
       "<path d=\"M16 0c-8.837 0-16 2.239-16 5v4c0 2.761 7.163 5 16 5s16-2.239 16-5v-4c0-2.761-7.163-5-16-5z\"></path>\n",
       "<path d=\"M16 17c-8.837 0-16-2.239-16-5v6c0 2.761 7.163 5 16 5s16-2.239 16-5v-6c0 2.761-7.163 5-16 5z\"></path>\n",
       "<path d=\"M16 26c-8.837 0-16-2.239-16-5v6c0 2.761 7.163 5 16 5s16-2.239 16-5v-6c0 2.761-7.163 5-16 5z\"></path>\n",
       "</symbol>\n",
       "<symbol id=\"icon-file-text2\" viewBox=\"0 0 32 32\">\n",
       "<path d=\"M28.681 7.159c-0.694-0.947-1.662-2.053-2.724-3.116s-2.169-2.030-3.116-2.724c-1.612-1.182-2.393-1.319-2.841-1.319h-15.5c-1.378 0-2.5 1.121-2.5 2.5v27c0 1.378 1.122 2.5 2.5 2.5h23c1.378 0 2.5-1.122 2.5-2.5v-19.5c0-0.448-0.137-1.23-1.319-2.841zM24.543 5.457c0.959 0.959 1.712 1.825 2.268 2.543h-4.811v-4.811c0.718 0.556 1.584 1.309 2.543 2.268zM28 29.5c0 0.271-0.229 0.5-0.5 0.5h-23c-0.271 0-0.5-0.229-0.5-0.5v-27c0-0.271 0.229-0.5 0.5-0.5 0 0 15.499-0 15.5 0v7c0 0.552 0.448 1 1 1h7v19.5z\"></path>\n",
       "<path d=\"M23 26h-14c-0.552 0-1-0.448-1-1s0.448-1 1-1h14c0.552 0 1 0.448 1 1s-0.448 1-1 1z\"></path>\n",
       "<path d=\"M23 22h-14c-0.552 0-1-0.448-1-1s0.448-1 1-1h14c0.552 0 1 0.448 1 1s-0.448 1-1 1z\"></path>\n",
       "<path d=\"M23 18h-14c-0.552 0-1-0.448-1-1s0.448-1 1-1h14c0.552 0 1 0.448 1 1s-0.448 1-1 1z\"></path>\n",
       "</symbol>\n",
       "</defs>\n",
       "</svg>\n",
       "<style>/* CSS stylesheet for displaying xarray objects in jupyterlab.\n",
       " *\n",
       " */\n",
       "\n",
       ":root {\n",
       "  --xr-font-color0: var(--jp-content-font-color0, rgba(0, 0, 0, 1));\n",
       "  --xr-font-color2: var(--jp-content-font-color2, rgba(0, 0, 0, 0.54));\n",
       "  --xr-font-color3: var(--jp-content-font-color3, rgba(0, 0, 0, 0.38));\n",
       "  --xr-border-color: var(--jp-border-color2, #e0e0e0);\n",
       "  --xr-disabled-color: var(--jp-layout-color3, #bdbdbd);\n",
       "  --xr-background-color: var(--jp-layout-color0, white);\n",
       "  --xr-background-color-row-even: var(--jp-layout-color1, white);\n",
       "  --xr-background-color-row-odd: var(--jp-layout-color2, #eeeeee);\n",
       "}\n",
       "\n",
       "html[theme=dark],\n",
       "body[data-theme=dark],\n",
       "body.vscode-dark {\n",
       "  --xr-font-color0: rgba(255, 255, 255, 1);\n",
       "  --xr-font-color2: rgba(255, 255, 255, 0.54);\n",
       "  --xr-font-color3: rgba(255, 255, 255, 0.38);\n",
       "  --xr-border-color: #1F1F1F;\n",
       "  --xr-disabled-color: #515151;\n",
       "  --xr-background-color: #111111;\n",
       "  --xr-background-color-row-even: #111111;\n",
       "  --xr-background-color-row-odd: #313131;\n",
       "}\n",
       "\n",
       ".xr-wrap {\n",
       "  display: block !important;\n",
       "  min-width: 300px;\n",
       "  max-width: 700px;\n",
       "}\n",
       "\n",
       ".xr-text-repr-fallback {\n",
       "  /* fallback to plain text repr when CSS is not injected (untrusted notebook) */\n",
       "  display: none;\n",
       "}\n",
       "\n",
       ".xr-header {\n",
       "  padding-top: 6px;\n",
       "  padding-bottom: 6px;\n",
       "  margin-bottom: 4px;\n",
       "  border-bottom: solid 1px var(--xr-border-color);\n",
       "}\n",
       "\n",
       ".xr-header > div,\n",
       ".xr-header > ul {\n",
       "  display: inline;\n",
       "  margin-top: 0;\n",
       "  margin-bottom: 0;\n",
       "}\n",
       "\n",
       ".xr-obj-type,\n",
       ".xr-array-name {\n",
       "  margin-left: 2px;\n",
       "  margin-right: 10px;\n",
       "}\n",
       "\n",
       ".xr-obj-type {\n",
       "  color: var(--xr-font-color2);\n",
       "}\n",
       "\n",
       ".xr-sections {\n",
       "  padding-left: 0 !important;\n",
       "  display: grid;\n",
       "  grid-template-columns: 150px auto auto 1fr 20px 20px;\n",
       "}\n",
       "\n",
       ".xr-section-item {\n",
       "  display: contents;\n",
       "}\n",
       "\n",
       ".xr-section-item input {\n",
       "  display: none;\n",
       "}\n",
       "\n",
       ".xr-section-item input + label {\n",
       "  color: var(--xr-disabled-color);\n",
       "}\n",
       "\n",
       ".xr-section-item input:enabled + label {\n",
       "  cursor: pointer;\n",
       "  color: var(--xr-font-color2);\n",
       "}\n",
       "\n",
       ".xr-section-item input:enabled + label:hover {\n",
       "  color: var(--xr-font-color0);\n",
       "}\n",
       "\n",
       ".xr-section-summary {\n",
       "  grid-column: 1;\n",
       "  color: var(--xr-font-color2);\n",
       "  font-weight: 500;\n",
       "}\n",
       "\n",
       ".xr-section-summary > span {\n",
       "  display: inline-block;\n",
       "  padding-left: 0.5em;\n",
       "}\n",
       "\n",
       ".xr-section-summary-in:disabled + label {\n",
       "  color: var(--xr-font-color2);\n",
       "}\n",
       "\n",
       ".xr-section-summary-in + label:before {\n",
       "  display: inline-block;\n",
       "  content: '►';\n",
       "  font-size: 11px;\n",
       "  width: 15px;\n",
       "  text-align: center;\n",
       "}\n",
       "\n",
       ".xr-section-summary-in:disabled + label:before {\n",
       "  color: var(--xr-disabled-color);\n",
       "}\n",
       "\n",
       ".xr-section-summary-in:checked + label:before {\n",
       "  content: '▼';\n",
       "}\n",
       "\n",
       ".xr-section-summary-in:checked + label > span {\n",
       "  display: none;\n",
       "}\n",
       "\n",
       ".xr-section-summary,\n",
       ".xr-section-inline-details {\n",
       "  padding-top: 4px;\n",
       "  padding-bottom: 4px;\n",
       "}\n",
       "\n",
       ".xr-section-inline-details {\n",
       "  grid-column: 2 / -1;\n",
       "}\n",
       "\n",
       ".xr-section-details {\n",
       "  display: none;\n",
       "  grid-column: 1 / -1;\n",
       "  margin-bottom: 5px;\n",
       "}\n",
       "\n",
       ".xr-section-summary-in:checked ~ .xr-section-details {\n",
       "  display: contents;\n",
       "}\n",
       "\n",
       ".xr-array-wrap {\n",
       "  grid-column: 1 / -1;\n",
       "  display: grid;\n",
       "  grid-template-columns: 20px auto;\n",
       "}\n",
       "\n",
       ".xr-array-wrap > label {\n",
       "  grid-column: 1;\n",
       "  vertical-align: top;\n",
       "}\n",
       "\n",
       ".xr-preview {\n",
       "  color: var(--xr-font-color3);\n",
       "}\n",
       "\n",
       ".xr-array-preview,\n",
       ".xr-array-data {\n",
       "  padding: 0 5px !important;\n",
       "  grid-column: 2;\n",
       "}\n",
       "\n",
       ".xr-array-data,\n",
       ".xr-array-in:checked ~ .xr-array-preview {\n",
       "  display: none;\n",
       "}\n",
       "\n",
       ".xr-array-in:checked ~ .xr-array-data,\n",
       ".xr-array-preview {\n",
       "  display: inline-block;\n",
       "}\n",
       "\n",
       ".xr-dim-list {\n",
       "  display: inline-block !important;\n",
       "  list-style: none;\n",
       "  padding: 0 !important;\n",
       "  margin: 0;\n",
       "}\n",
       "\n",
       ".xr-dim-list li {\n",
       "  display: inline-block;\n",
       "  padding: 0;\n",
       "  margin: 0;\n",
       "}\n",
       "\n",
       ".xr-dim-list:before {\n",
       "  content: '(';\n",
       "}\n",
       "\n",
       ".xr-dim-list:after {\n",
       "  content: ')';\n",
       "}\n",
       "\n",
       ".xr-dim-list li:not(:last-child):after {\n",
       "  content: ',';\n",
       "  padding-right: 5px;\n",
       "}\n",
       "\n",
       ".xr-has-index {\n",
       "  font-weight: bold;\n",
       "}\n",
       "\n",
       ".xr-var-list,\n",
       ".xr-var-item {\n",
       "  display: contents;\n",
       "}\n",
       "\n",
       ".xr-var-item > div,\n",
       ".xr-var-item label,\n",
       ".xr-var-item > .xr-var-name span {\n",
       "  background-color: var(--xr-background-color-row-even);\n",
       "  margin-bottom: 0;\n",
       "}\n",
       "\n",
       ".xr-var-item > .xr-var-name:hover span {\n",
       "  padding-right: 5px;\n",
       "}\n",
       "\n",
       ".xr-var-list > li:nth-child(odd) > div,\n",
       ".xr-var-list > li:nth-child(odd) > label,\n",
       ".xr-var-list > li:nth-child(odd) > .xr-var-name span {\n",
       "  background-color: var(--xr-background-color-row-odd);\n",
       "}\n",
       "\n",
       ".xr-var-name {\n",
       "  grid-column: 1;\n",
       "}\n",
       "\n",
       ".xr-var-dims {\n",
       "  grid-column: 2;\n",
       "}\n",
       "\n",
       ".xr-var-dtype {\n",
       "  grid-column: 3;\n",
       "  text-align: right;\n",
       "  color: var(--xr-font-color2);\n",
       "}\n",
       "\n",
       ".xr-var-preview {\n",
       "  grid-column: 4;\n",
       "}\n",
       "\n",
       ".xr-index-preview {\n",
       "  grid-column: 2 / 5;\n",
       "  color: var(--xr-font-color2);\n",
       "}\n",
       "\n",
       ".xr-var-name,\n",
       ".xr-var-dims,\n",
       ".xr-var-dtype,\n",
       ".xr-preview,\n",
       ".xr-attrs dt {\n",
       "  white-space: nowrap;\n",
       "  overflow: hidden;\n",
       "  text-overflow: ellipsis;\n",
       "  padding-right: 10px;\n",
       "}\n",
       "\n",
       ".xr-var-name:hover,\n",
       ".xr-var-dims:hover,\n",
       ".xr-var-dtype:hover,\n",
       ".xr-attrs dt:hover {\n",
       "  overflow: visible;\n",
       "  width: auto;\n",
       "  z-index: 1;\n",
       "}\n",
       "\n",
       ".xr-var-attrs,\n",
       ".xr-var-data,\n",
       ".xr-index-data {\n",
       "  display: none;\n",
       "  background-color: var(--xr-background-color) !important;\n",
       "  padding-bottom: 5px !important;\n",
       "}\n",
       "\n",
       ".xr-var-attrs-in:checked ~ .xr-var-attrs,\n",
       ".xr-var-data-in:checked ~ .xr-var-data,\n",
       ".xr-index-data-in:checked ~ .xr-index-data {\n",
       "  display: block;\n",
       "}\n",
       "\n",
       ".xr-var-data > table {\n",
       "  float: right;\n",
       "}\n",
       "\n",
       ".xr-var-name span,\n",
       ".xr-var-data,\n",
       ".xr-index-name div,\n",
       ".xr-index-data,\n",
       ".xr-attrs {\n",
       "  padding-left: 25px !important;\n",
       "}\n",
       "\n",
       ".xr-attrs,\n",
       ".xr-var-attrs,\n",
       ".xr-var-data,\n",
       ".xr-index-data {\n",
       "  grid-column: 1 / -1;\n",
       "}\n",
       "\n",
       "dl.xr-attrs {\n",
       "  padding: 0;\n",
       "  margin: 0;\n",
       "  display: grid;\n",
       "  grid-template-columns: 125px auto;\n",
       "}\n",
       "\n",
       ".xr-attrs dt,\n",
       ".xr-attrs dd {\n",
       "  padding: 0;\n",
       "  margin: 0;\n",
       "  float: left;\n",
       "  padding-right: 10px;\n",
       "  width: auto;\n",
       "}\n",
       "\n",
       ".xr-attrs dt {\n",
       "  font-weight: normal;\n",
       "  grid-column: 1;\n",
       "}\n",
       "\n",
       ".xr-attrs dt:hover span {\n",
       "  display: inline-block;\n",
       "  background: var(--xr-background-color);\n",
       "  padding-right: 10px;\n",
       "}\n",
       "\n",
       ".xr-attrs dd {\n",
       "  grid-column: 2;\n",
       "  white-space: pre-wrap;\n",
       "  word-break: break-all;\n",
       "}\n",
       "\n",
       ".xr-icon-database,\n",
       ".xr-icon-file-text2,\n",
       ".xr-no-icon {\n",
       "  display: inline-block;\n",
       "  vertical-align: middle;\n",
       "  width: 1em;\n",
       "  height: 1.5em !important;\n",
       "  stroke-width: 0;\n",
       "  stroke: currentColor;\n",
       "  fill: currentColor;\n",
       "}\n",
       "</style><pre class='xr-text-repr-fallback'>&lt;xarray.DataArray &#x27;predictions&#x27; (ens: 50, lead_time: 32, var: 5, lat: 120,\n",
       "                                 lon: 130)&gt;\n",
       "[124800000 values with dtype=float32]\n",
       "Dimensions without coordinates: ens, lead_time, var, lat, lon</pre><div class='xr-wrap' style='display:none'><div class='xr-header'><div class='xr-obj-type'>xarray.DataArray</div><div class='xr-array-name'>'predictions'</div><ul class='xr-dim-list'><li><span>ens</span>: 50</li><li><span>lead_time</span>: 32</li><li><span>var</span>: 5</li><li><span>lat</span>: 120</li><li><span>lon</span>: 130</li></ul></div><ul class='xr-sections'><li class='xr-section-item'><div class='xr-array-wrap'><input id='section-d12cfa89-0e49-4beb-a94d-6e76ef9ef4b8' class='xr-array-in' type='checkbox' checked><label for='section-d12cfa89-0e49-4beb-a94d-6e76ef9ef4b8' title='Show/hide data repr'><svg class='icon xr-icon-database'><use xlink:href='#icon-database'></use></svg></label><div class='xr-array-preview xr-preview'><span>...</span></div><div class='xr-array-data'><pre>[124800000 values with dtype=float32]</pre></div></div></li><li class='xr-section-item'><input id='section-15b6efa0-5d5f-4d78-9d64-987dd6e3d2b3' class='xr-section-summary-in' type='checkbox' disabled ><label for='section-15b6efa0-5d5f-4d78-9d64-987dd6e3d2b3' class='xr-section-summary'  title='Expand/collapse section'>Coordinates: <span>(0)</span></label><div class='xr-section-inline-details'></div><div class='xr-section-details'><ul class='xr-var-list'></ul></div></li><li class='xr-section-item'><input id='section-c371039c-616a-4601-b54a-4f3a944808bd' class='xr-section-summary-in' type='checkbox' disabled ><label for='section-c371039c-616a-4601-b54a-4f3a944808bd' class='xr-section-summary'  title='Expand/collapse section'>Indexes: <span>(0)</span></label><div class='xr-section-inline-details'></div><div class='xr-section-details'><ul class='xr-var-list'></ul></div></li><li class='xr-section-item'><input id='section-f6fcc3bf-fe45-409b-90b9-a1843d8c8aca' class='xr-section-summary-in' type='checkbox' disabled ><label for='section-f6fcc3bf-fe45-409b-90b9-a1843d8c8aca' class='xr-section-summary'  title='Expand/collapse section'>Attributes: <span>(0)</span></label><div class='xr-section-inline-details'></div><div class='xr-section-details'><dl class='xr-attrs'></dl></div></li></ul></div></div>"
      ],
      "text/plain": [
       "<xarray.DataArray 'predictions' (ens: 50, lead_time: 32, var: 5, lat: 120,\n",
       "                                 lon: 130)>\n",
       "[124800000 values with dtype=float32]\n",
       "Dimensions without coordinates: ens, lead_time, var, lat, lon"
      ]
     },
     "execution_count": 22,
     "metadata": {},
     "output_type": "execute_result"
    },
    {
     "data": {
      "application/javascript": [
       "\n",
       "            setTimeout(function() {\n",
       "                var nbb_cell_id = 22;\n",
       "                var nbb_unformatted_code = \"ldr.load_data_raw()[0].isel(forecast_date=0).predictions\";\n",
       "                var nbb_formatted_code = \"ldr.load_data_raw()[0].isel(forecast_date=0).predictions\";\n",
       "                var nbb_cells = Jupyter.notebook.get_cells();\n",
       "                for (var i = 0; i < nbb_cells.length; ++i) {\n",
       "                    if (nbb_cells[i].input_prompt_number == nbb_cell_id) {\n",
       "                        if (nbb_cells[i].get_text() == nbb_unformatted_code) {\n",
       "                             nbb_cells[i].set_text(nbb_formatted_code);\n",
       "                        }\n",
       "                        break;\n",
       "                    }\n",
       "                }\n",
       "            }, 500);\n",
       "            "
      ],
      "text/plain": [
       "<IPython.core.display.Javascript object>"
      ]
     },
     "metadata": {},
     "output_type": "display_data"
    }
   ],
   "source": [
    "ldr.load_data_raw()[0].isel(forecast_date=0).predictions"
   ]
  },
  {
   "cell_type": "code",
   "execution_count": 14,
   "id": "d8224b8e",
   "metadata": {},
   "outputs": [
    {
     "data": {
      "application/javascript": [
       "\n",
       "            setTimeout(function() {\n",
       "                var nbb_cell_id = 14;\n",
       "                var nbb_unformatted_code = \"def make_ws10_train_data():\\n    \\\"\\\"\\\"\\n    Function to process and save wind speed prediction and ground truth data.\\n    \\\"\\\"\\\"\\n\\n    # Initialize timer for performance tracking\\n    start_time = time.time()\\n\\n    # Define path and file names for the h5 file to be created\\n    path = \\\"/Data/Delong_BA_Data/Mean_ens_std/ws10_train.h5\\\"\\n    f = h5py.File(path, \\\"a\\\")\\n    name_train = \\\"ws10_train\\\"\\n    name_truth = \\\"ws10_truth\\\"\\n\\n    # Load raw data for the years 2018-2021\\n    dat_raw = ldr.load_data_raw()[0:4]\\n\\n    # Compute the magnitude (absolute value) of wind speed predictions and truths\\n    ws10_preds = []  # list to hold prediction data\\n    ws10_truth = []  # list to hold ground truth data\\n    for year in tqdm(range(4)):\\n        ws10_preds.append(\\n            np.hypot(\\n                dat_raw[year].predictions.isel(var=0),\\n                dat_raw[year].predictions.isel(var=1),\\n            )\\n        )\\n        ws10_truth.append(\\n            np.hypot(\\n                dat_raw[year].ground_truth.isel(var=0),\\n                dat_raw[year].ground_truth.isel(var=1),\\n            )\\n        )\\n\\n    # Calculate and concatenate mean and standard deviation of wind speed predictions\\n    ws10_preds_mean = xr.concat(\\n        [\\n            ws10_preds[0].mean(dim=\\\"ens\\\"),\\n            ws10_preds[1].mean(dim=\\\"ens\\\"),\\n            ws10_preds[2].mean(dim=\\\"ens\\\"),\\n            ws10_preds[3].mean(dim=\\\"ens\\\"),\\n        ],\\n        dim=\\\"forecast_date\\\",\\n    )\\n    ws10_preds_std = xr.concat(\\n        [\\n            ws10_preds[0].std(dim=\\\"ens\\\"),\\n            ws10_preds[1].std(dim=\\\"ens\\\"),\\n            ws10_preds[2].std(dim=\\\"ens\\\"),\\n            ws10_preds[3].std(dim=\\\"ens\\\"),\\n        ],\\n        dim=\\\"forecast_date\\\",\\n    )\\n\\n    # Concatenate mean and standard deviation data along new 'mean_std' dimension\\n    ws_train = xr.concat([ws10_preds_mean, ws10_preds_std], dim=\\\"mean_std\\\")\\n    ws_train = ws_train.transpose(\\n        \\\"forecast_date\\\", \\\"lead_time\\\", \\\"lat\\\", \\\"lon\\\", \\\"mean_std\\\"\\n    )\\n\\n    # Concatenate truth data\\n    y_train = xr.concat(\\n        [ws10_truth[0], ws10_truth[1], ws10_truth[2], ws10_truth[3]],\\n        dim=\\\"forecast_date\\\",\\n    )\\n\\n    # Extract shape of the data\\n    n_days, n_lead_times, lat, long, mean_var = ws_train.shape\\n\\n    # Calculate elapsed time and print it\\n    half_time = time.time()\\n    time_difference_half = half_time - start_time\\n    hours = int(time_difference_half // 3600)\\n    minutes = int((time_difference_half % 3600) // 60)\\n    seconds = int(time_difference_half % 60)\\n    formatted_time_half = f\\\" finished concatenation in:{hours} hours, {minutes} minutes, {seconds} seconds\\\"\\n    print(f\\\"{formatted_time_half}\\\")\\n\\n    # Create the datasets within the h5 file for 'train' and 'truth' data\\n    try:\\n        train = f.create_dataset(\\n            name_train,\\n            shape=(n_days, n_lead_times, lat, long, mean_var),\\n            dtype=np.float32,\\n            compression=\\\"gzip\\\",\\n            compression_opts=9,\\n        )\\n    except:\\n        del f[name_train]  # if dataset already exists, delete it\\n        train = f.create_dataset(\\n            name_train,\\n            shape=(n_days, n_lead_times, lat, long, mean_var),\\n            dtype=np.float32,\\n            compression=\\\"gzip\\\",\\n            compression_opts=9,\\n        )\\n    try:\\n        truth = f.create_dataset(\\n            name_truth,\\n            shape=(n_days, n_lead_times, lat, long),\\n            dtype=np.float32,\\n            compression=\\\"gzip\\\",\\n            compression_opts=9,\\n        )\\n    except:\\n        del f[name_truth]  # if dataset already exists, delete it\\n        truth = f.create_dataset(\\n            name_truth,\\n            shape=(n_days, n_lead_times, lat, long),\\n            dtype=np.float32,\\n            compression=\\\"gzip\\\",\\n            compression_opts=9,\\n        )\\n\\n    # Populate the h5 file with the data\\n    for i in range(n_days):\\n        train[i, ...] = ws_train.loc[i, ...]\\n        truth[i, ...] = y_train[i, ...]\\n\\n    # Close the h5 file\\n    f.close()\";\n",
       "                var nbb_formatted_code = \"def make_ws10_train_data():\\n    \\\"\\\"\\\"\\n    Function to process and save wind speed prediction and ground truth data.\\n    \\\"\\\"\\\"\\n\\n    # Initialize timer for performance tracking\\n    start_time = time.time()\\n\\n    # Define path and file names for the h5 file to be created\\n    path = \\\"/Data/Delong_BA_Data/Mean_ens_std/ws10_train.h5\\\"\\n    f = h5py.File(path, \\\"a\\\")\\n    name_train = \\\"ws10_train\\\"\\n    name_truth = \\\"ws10_truth\\\"\\n\\n    # Load raw data for the years 2018-2021\\n    dat_raw = ldr.load_data_raw()[0:4]\\n\\n    # Compute the magnitude (absolute value) of wind speed predictions and truths\\n    ws10_preds = []  # list to hold prediction data\\n    ws10_truth = []  # list to hold ground truth data\\n    for year in tqdm(range(4)):\\n        ws10_preds.append(\\n            np.hypot(\\n                dat_raw[year].predictions.isel(var=0),\\n                dat_raw[year].predictions.isel(var=1),\\n            )\\n        )\\n        ws10_truth.append(\\n            np.hypot(\\n                dat_raw[year].ground_truth.isel(var=0),\\n                dat_raw[year].ground_truth.isel(var=1),\\n            )\\n        )\\n\\n    # Calculate and concatenate mean and standard deviation of wind speed predictions\\n    ws10_preds_mean = xr.concat(\\n        [\\n            ws10_preds[0].mean(dim=\\\"ens\\\"),\\n            ws10_preds[1].mean(dim=\\\"ens\\\"),\\n            ws10_preds[2].mean(dim=\\\"ens\\\"),\\n            ws10_preds[3].mean(dim=\\\"ens\\\"),\\n        ],\\n        dim=\\\"forecast_date\\\",\\n    )\\n    ws10_preds_std = xr.concat(\\n        [\\n            ws10_preds[0].std(dim=\\\"ens\\\"),\\n            ws10_preds[1].std(dim=\\\"ens\\\"),\\n            ws10_preds[2].std(dim=\\\"ens\\\"),\\n            ws10_preds[3].std(dim=\\\"ens\\\"),\\n        ],\\n        dim=\\\"forecast_date\\\",\\n    )\\n\\n    # Concatenate mean and standard deviation data along new 'mean_std' dimension\\n    ws_train = xr.concat([ws10_preds_mean, ws10_preds_std], dim=\\\"mean_std\\\")\\n    ws_train = ws_train.transpose(\\n        \\\"forecast_date\\\", \\\"lead_time\\\", \\\"lat\\\", \\\"lon\\\", \\\"mean_std\\\"\\n    )\\n\\n    # Concatenate truth data\\n    y_train = xr.concat(\\n        [ws10_truth[0], ws10_truth[1], ws10_truth[2], ws10_truth[3]],\\n        dim=\\\"forecast_date\\\",\\n    )\\n\\n    # Extract shape of the data\\n    n_days, n_lead_times, lat, long, mean_var = ws_train.shape\\n\\n    # Calculate elapsed time and print it\\n    half_time = time.time()\\n    time_difference_half = half_time - start_time\\n    hours = int(time_difference_half // 3600)\\n    minutes = int((time_difference_half % 3600) // 60)\\n    seconds = int(time_difference_half % 60)\\n    formatted_time_half = f\\\" finished concatenation in:{hours} hours, {minutes} minutes, {seconds} seconds\\\"\\n    print(f\\\"{formatted_time_half}\\\")\\n\\n    # Create the datasets within the h5 file for 'train' and 'truth' data\\n    try:\\n        train = f.create_dataset(\\n            name_train,\\n            shape=(n_days, n_lead_times, lat, long, mean_var),\\n            dtype=np.float32,\\n            compression=\\\"gzip\\\",\\n            compression_opts=9,\\n        )\\n    except:\\n        del f[name_train]  # if dataset already exists, delete it\\n        train = f.create_dataset(\\n            name_train,\\n            shape=(n_days, n_lead_times, lat, long, mean_var),\\n            dtype=np.float32,\\n            compression=\\\"gzip\\\",\\n            compression_opts=9,\\n        )\\n    try:\\n        truth = f.create_dataset(\\n            name_truth,\\n            shape=(n_days, n_lead_times, lat, long),\\n            dtype=np.float32,\\n            compression=\\\"gzip\\\",\\n            compression_opts=9,\\n        )\\n    except:\\n        del f[name_truth]  # if dataset already exists, delete it\\n        truth = f.create_dataset(\\n            name_truth,\\n            shape=(n_days, n_lead_times, lat, long),\\n            dtype=np.float32,\\n            compression=\\\"gzip\\\",\\n            compression_opts=9,\\n        )\\n\\n    # Populate the h5 file with the data\\n    for i in range(n_days):\\n        train[i, ...] = ws_train.loc[i, ...]\\n        truth[i, ...] = y_train[i, ...]\\n\\n    # Close the h5 file\\n    f.close()\";\n",
       "                var nbb_cells = Jupyter.notebook.get_cells();\n",
       "                for (var i = 0; i < nbb_cells.length; ++i) {\n",
       "                    if (nbb_cells[i].input_prompt_number == nbb_cell_id) {\n",
       "                        if (nbb_cells[i].get_text() == nbb_unformatted_code) {\n",
       "                             nbb_cells[i].set_text(nbb_formatted_code);\n",
       "                        }\n",
       "                        break;\n",
       "                    }\n",
       "                }\n",
       "            }, 500);\n",
       "            "
      ],
      "text/plain": [
       "<IPython.core.display.Javascript object>"
      ]
     },
     "metadata": {},
     "output_type": "display_data"
    }
   ],
   "source": [
    "def create_test_data():\n",
    "\n",
    "    # Define path and file names for the h5 file to be created\n",
    "    path = \"/Data/Delong_BA_Data/Mean_ens_std/ws10_test.h5\"\n",
    "    f = h5py.File(path, \"a\")\n",
    "    name_test = \"ws10_test\"\n",
    "    name_truth = \"ws10_test_truth\"\n",
    "\n",
    "    # Load raw data for the year following the train data years\n",
    "    dat_raw = ldr.load_data_raw()[4]  # Assuming index 4 corresponds to the test year\n",
    "    n_days = dat_raw.predictions.shape[0]  # get number of days\n",
    "\n",
    "    # Create the datasets within the h5 file for 'test' and 'truth' data\n",
    "    # Create them once, before entering the forecast_date loop\n",
    "    if name_test in f:\n",
    "        del f[name_test]  # delete the dataset if it already exists\n",
    "    if name_truth in f:\n",
    "        del f[name_truth]  # delete the dataset if it already exists\n",
    "\n",
    "    test = f.create_dataset(name_test, (n_days, *dat_raw.predictions.isel(var=0, forecast_date=0).shape), dtype=np.float32, compression=\"gzip\", compression_opts=9)\n",
    "    truth = f.create_dataset(name_truth, (n_days, *dat_raw.ground_truth.isel(var=0, forecast_date=0).shape), dtype=np.float32, compression=\"gzip\", compression_opts=9)\n",
    "\n",
    "    for forecast_date in tqdm(range(n_days)):\n",
    "        # Compute the magnitude (absolute value) of wind speed predictions and truths\n",
    "        ws10_pred = np.hypot(dat_raw.predictions.isel(var=0, forecast_date=forecast_date), dat_raw.predictions.isel(var=1, forecast_date=forecast_date))\n",
    "        ws10_tru = np.hypot(dat_raw.ground_truth.isel(var=0, forecast_date=forecast_date), dat_raw.ground_truth.isel(var=1, forecast_date=forecast_date))\n",
    "\n",
    "        # Calculate mean and standard deviation of wind speed predictions\n",
    "        ws10_pred_mean = ws10_pred.mean(dim=\"ens\")\n",
    "        ws10_pred_std = ws10_pred.std(dim=\"ens\")\n",
    "\n",
    "        # Concatenate mean and standard deviation data along new 'mean_std' dimension\n",
    "        ws_test = xr.concat([ws10_pred_mean, ws10_pred_std], dim=\"mean_std\")\n",
    "        ws_test = ws_test.transpose(\"lead_time\", \"lat\", \"lon\", \"mean_std\")\n",
    "\n",
    "        # Populate the h5 file with the data\n",
    "        test[forecast_date, ...] = ws_test\n",
    "        truth[forecast_date, ...] = ws10_tru\n",
    "\n",
    "    # Close the h5 file\n",
    "    f.close()\n"
   ]
  },
  {
   "cell_type": "code",
   "execution_count": 48,
   "id": "7339ac6e",
   "metadata": {},
   "outputs": [
    {
     "data": {
      "text/plain": [
       "357"
      ]
     },
     "execution_count": 48,
     "metadata": {},
     "output_type": "execute_result"
    },
    {
     "data": {
      "application/javascript": [
       "\n",
       "            setTimeout(function() {\n",
       "                var nbb_cell_id = 48;\n",
       "                var nbb_unformatted_code = \"dat_raw[0].predictions.shape[0]\";\n",
       "                var nbb_formatted_code = \"dat_raw[0].predictions.shape[0]\";\n",
       "                var nbb_cells = Jupyter.notebook.get_cells();\n",
       "                for (var i = 0; i < nbb_cells.length; ++i) {\n",
       "                    if (nbb_cells[i].input_prompt_number == nbb_cell_id) {\n",
       "                        if (nbb_cells[i].get_text() == nbb_unformatted_code) {\n",
       "                             nbb_cells[i].set_text(nbb_formatted_code);\n",
       "                        }\n",
       "                        break;\n",
       "                    }\n",
       "                }\n",
       "            }, 500);\n",
       "            "
      ],
      "text/plain": [
       "<IPython.core.display.Javascript object>"
      ]
     },
     "metadata": {},
     "output_type": "display_data"
    }
   ],
   "source": [
    "dat_raw[0].predictions.shape[0]"
   ]
  },
  {
   "cell_type": "code",
   "execution_count": 50,
   "id": "75d05932",
   "metadata": {},
   "outputs": [
    {
     "data": {
      "application/javascript": [
       "\n",
       "            setTimeout(function() {\n",
       "                var nbb_cell_id = 50;\n",
       "                var nbb_unformatted_code = \"    n_days_shape = []\\n    for year in (range(4)):\\n        dat_raw = ldr.load_data_raw()[year]\\n        n_days_shape.append(dat_raw.predictions.shape[0])\";\n",
       "                var nbb_formatted_code = \"n_days_shape = []\\nfor year in range(4):\\n    dat_raw = ldr.load_data_raw()[year]\\n    n_days_shape.append(dat_raw.predictions.shape[0])\";\n",
       "                var nbb_cells = Jupyter.notebook.get_cells();\n",
       "                for (var i = 0; i < nbb_cells.length; ++i) {\n",
       "                    if (nbb_cells[i].input_prompt_number == nbb_cell_id) {\n",
       "                        if (nbb_cells[i].get_text() == nbb_unformatted_code) {\n",
       "                             nbb_cells[i].set_text(nbb_formatted_code);\n",
       "                        }\n",
       "                        break;\n",
       "                    }\n",
       "                }\n",
       "            }, 500);\n",
       "            "
      ],
      "text/plain": [
       "<IPython.core.display.Javascript object>"
      ]
     },
     "metadata": {},
     "output_type": "display_data"
    }
   ],
   "source": [
    "n_days_shape = []\n",
    "for year in range(4):\n",
    "    dat_raw = ldr.load_data_raw()[year]\n",
    "    n_days_shape.append(dat_raw.predictions.shape[0])"
   ]
  },
  {
   "cell_type": "code",
   "execution_count": 51,
   "id": "eca094da",
   "metadata": {
    "scrolled": true
   },
   "outputs": [
    {
     "data": {
      "text/plain": [
       "[357, 357, 358, 357]"
      ]
     },
     "execution_count": 51,
     "metadata": {},
     "output_type": "execute_result"
    },
    {
     "data": {
      "application/javascript": [
       "\n",
       "            setTimeout(function() {\n",
       "                var nbb_cell_id = 51;\n",
       "                var nbb_unformatted_code = \"n_days_shape\";\n",
       "                var nbb_formatted_code = \"n_days_shape\";\n",
       "                var nbb_cells = Jupyter.notebook.get_cells();\n",
       "                for (var i = 0; i < nbb_cells.length; ++i) {\n",
       "                    if (nbb_cells[i].input_prompt_number == nbb_cell_id) {\n",
       "                        if (nbb_cells[i].get_text() == nbb_unformatted_code) {\n",
       "                             nbb_cells[i].set_text(nbb_formatted_code);\n",
       "                        }\n",
       "                        break;\n",
       "                    }\n",
       "                }\n",
       "            }, 500);\n",
       "            "
      ],
      "text/plain": [
       "<IPython.core.display.Javascript object>"
      ]
     },
     "metadata": {},
     "output_type": "display_data"
    }
   ],
   "source": [
    "n_days_shape"
   ]
  },
  {
   "cell_type": "code",
   "execution_count": 62,
   "id": "99aa3ea9",
   "metadata": {},
   "outputs": [
    {
     "data": {
      "application/javascript": [
       "\n",
       "            setTimeout(function() {\n",
       "                var nbb_cell_id = 62;\n",
       "                var nbb_unformatted_code = \"import dask.array as da\";\n",
       "                var nbb_formatted_code = \"import dask.array as da\";\n",
       "                var nbb_cells = Jupyter.notebook.get_cells();\n",
       "                for (var i = 0; i < nbb_cells.length; ++i) {\n",
       "                    if (nbb_cells[i].input_prompt_number == nbb_cell_id) {\n",
       "                        if (nbb_cells[i].get_text() == nbb_unformatted_code) {\n",
       "                             nbb_cells[i].set_text(nbb_formatted_code);\n",
       "                        }\n",
       "                        break;\n",
       "                    }\n",
       "                }\n",
       "            }, 500);\n",
       "            "
      ],
      "text/plain": [
       "<IPython.core.display.Javascript object>"
      ]
     },
     "metadata": {},
     "output_type": "display_data"
    }
   ],
   "source": [
    "import dask.array as da"
   ]
  },
  {
   "cell_type": "code",
   "execution_count": null,
   "id": "8a0ae5c0",
   "metadata": {},
   "outputs": [],
   "source": [
    "def maini():\n",
    "    \"\"\"\n",
    "    Function to process and save wind speed prediction and ground truth data for test dataset.\n",
    "    \"\"\"\n",
    "\n",
    "    # Initialize timer for performance tracking\n",
    "    start_time = time.time()\n",
    "\n",
    "    # Define path and file names for the h5 file to be created\n",
    "    path = \"/Data/Delong_BA_Data/Mean_ens_std/ws10_test.h5\"\n",
    "    f = h5py.File(path, \"a\")\n",
    "    name_test = \"ws10_test\"\n",
    "    name_truth = \"ws10_test_truth\"\n",
    "\n",
    "    # Load raw data for the year 2022\n",
    "    dat_raw = ldr.load_data_raw()[4]\n",
    "\n",
    "    # Compute the magnitude (absolute value) of wind speed predictions and truths\n",
    "    ws10_preds = da.hypot(dat_raw.predictions.isel(var=0).data, dat_raw.predictions.isel(var=1).data)\n",
    "    ws10_truth = da.hypot(dat_raw.ground_truth.isel(var=0).data, dat_raw.ground_truth.isel(var=1).data)\n",
    "\n",
    "    ws10_preds = xr.DataArray(ws10_preds, dims=dat_raw.predictions.isel(var=0).dims, coords=dat_raw.predictions.isel(var=0).coords)\n",
    "    ws10_truth = xr.DataArray(ws10_truth, dims=dat_raw.ground_truth.isel(var=0).dims, coords=dat_raw.ground_truth.isel(var=0).coords)\n",
    "\n",
    "\n",
    "\n",
    "    # Concatenate mean and standard deviation data along new 'mean_std' dimension\n",
    "    ws_test = xr.concat([ws10_preds_mean, ws10_preds_std], dim=\"mean_std\")\n",
    "    ws_test = ws_test.transpose(\"forecast_date\", \"lead_time\", \"lat\", \"lon\", \"mean_std\")\n",
    "\n",
    "    # Truth data\n",
    "    y_test = ws10_truth\n",
    "\n",
    "    # Extract shape of the data\n",
    "    n_days, n_lead_times, lat, long, mean_var = ws_test.shape\n",
    "\n",
    "    # Calculate elapsed time and print it\n",
    "    half_time = time.time()\n",
    "    time_difference_half = half_time - start_time\n",
    "    hours = int(time_difference_half // 3600)\n",
    "    minutes = int((time_difference_half % 3600) // 60)\n",
    "    seconds = int(time_difference_half % 60)\n",
    "    formatted_time_half = f\" finished concatenation in:{hours} hours, {minutes} minutes, {seconds} seconds\"\n",
    "    print(f\"{formatted_time_half}\")\n",
    "\n",
    "    # Create the datasets within the h5 file for 'test' and 'truth' data\n",
    "    try:\n",
    "        test = f.create_dataset(\n",
    "            name_test,\n",
    "            shape=(n_days, n_lead_times, lat, long, mean_var),\n",
    "            dtype=np.float32,\n",
    "            compression=\"gzip\",\n",
    "            compression_opts=9,\n",
    "        )\n",
    "    except:\n",
    "        del f[name_test]  # if dataset already exists, delete it\n",
    "        test = f.create_dataset(\n",
    "            name_test,\n",
    "            shape=(n_days, n_lead_times, lat, long, mean_var),\n",
    "            dtype=np.float32,\n",
    "            compression=\"gzip\",\n",
    "            compression_opts=9,\n",
    "        )\n",
    "    try:\n",
    "        truth = f.create_dataset(\n",
    "            name_truth,\n",
    "            shape=(n_days, n_lead_times, lat, long),\n",
    "            dtype=np.float32,\n",
    "            compression=\"gzip\",\n",
    "            compression_opts=9,\n",
    "        )\n",
    "    except:\n",
    "        del f[name_truth]  # if dataset already exists, delete it\n",
    "        truth = f.create_dataset(\n",
    "            name_truth,\n",
    "            shape=(n_days, n_lead_times, lat, long),\n",
    "            dtype=np.float32,\n",
    "            compression=\"gzip\",\n",
    "            compression_opts=9,\n",
    "        )\n",
    "\n",
    "    # Populate the h5 file with the data\n",
    "    for i in range(n_days):\n",
    "        test[i, ...] = ws_test[i, ...]\n",
    "        truth[i, ...] = y_test[i, ...]\n",
    "\n",
    "    # Close the h5 file\n",
    "    f.close()\n",
    "    "
   ]
  },
  {
   "cell_type": "code",
   "execution_count": 49,
   "id": "8aa8435d",
   "metadata": {},
   "outputs": [
    {
     "data": {
      "text/plain": [
       "15"
      ]
     },
     "execution_count": 49,
     "metadata": {},
     "output_type": "execute_result"
    },
    {
     "data": {
      "application/javascript": [
       "\n",
       "            setTimeout(function() {\n",
       "                var nbb_cell_id = 49;\n",
       "                var nbb_unformatted_code = \"test = [0,1,2,3,4,5]\\nsum(test)\";\n",
       "                var nbb_formatted_code = \"test = [0, 1, 2, 3, 4, 5]\\nsum(test)\";\n",
       "                var nbb_cells = Jupyter.notebook.get_cells();\n",
       "                for (var i = 0; i < nbb_cells.length; ++i) {\n",
       "                    if (nbb_cells[i].input_prompt_number == nbb_cell_id) {\n",
       "                        if (nbb_cells[i].get_text() == nbb_unformatted_code) {\n",
       "                             nbb_cells[i].set_text(nbb_formatted_code);\n",
       "                        }\n",
       "                        break;\n",
       "                    }\n",
       "                }\n",
       "            }, 500);\n",
       "            "
      ],
      "text/plain": [
       "<IPython.core.display.Javascript object>"
      ]
     },
     "metadata": {},
     "output_type": "display_data"
    }
   ],
   "source": [
    "test = [0, 1, 2, 3, 4, 5]\n",
    "sum(test)"
   ]
  },
  {
   "cell_type": "code",
   "execution_count": 60,
   "id": "d9d0a568",
   "metadata": {},
   "outputs": [
    {
     "data": {
      "text/plain": [
       "0"
      ]
     },
     "execution_count": 60,
     "metadata": {},
     "output_type": "execute_result"
    },
    {
     "data": {
      "application/javascript": [
       "\n",
       "            setTimeout(function() {\n",
       "                var nbb_cell_id = 60;\n",
       "                var nbb_unformatted_code = \"sum(n_days_shape[0:0])\";\n",
       "                var nbb_formatted_code = \"sum(n_days_shape[0:0])\";\n",
       "                var nbb_cells = Jupyter.notebook.get_cells();\n",
       "                for (var i = 0; i < nbb_cells.length; ++i) {\n",
       "                    if (nbb_cells[i].input_prompt_number == nbb_cell_id) {\n",
       "                        if (nbb_cells[i].get_text() == nbb_unformatted_code) {\n",
       "                             nbb_cells[i].set_text(nbb_formatted_code);\n",
       "                        }\n",
       "                        break;\n",
       "                    }\n",
       "                }\n",
       "            }, 500);\n",
       "            "
      ],
      "text/plain": [
       "<IPython.core.display.Javascript object>"
      ]
     },
     "metadata": {},
     "output_type": "display_data"
    }
   ],
   "source": [
    "sum(n_days_shape[0:0])"
   ]
  },
  {
   "cell_type": "code",
   "execution_count": 61,
   "id": "bb385e50",
   "metadata": {},
   "outputs": [
    {
     "data": {
      "text/plain": [
       "357"
      ]
     },
     "execution_count": 61,
     "metadata": {},
     "output_type": "execute_result"
    },
    {
     "data": {
      "application/javascript": [
       "\n",
       "            setTimeout(function() {\n",
       "                var nbb_cell_id = 61;\n",
       "                var nbb_unformatted_code = \"sum(n_days_shape[0:1])\";\n",
       "                var nbb_formatted_code = \"sum(n_days_shape[0:1])\";\n",
       "                var nbb_cells = Jupyter.notebook.get_cells();\n",
       "                for (var i = 0; i < nbb_cells.length; ++i) {\n",
       "                    if (nbb_cells[i].input_prompt_number == nbb_cell_id) {\n",
       "                        if (nbb_cells[i].get_text() == nbb_unformatted_code) {\n",
       "                             nbb_cells[i].set_text(nbb_formatted_code);\n",
       "                        }\n",
       "                        break;\n",
       "                    }\n",
       "                }\n",
       "            }, 500);\n",
       "            "
      ],
      "text/plain": [
       "<IPython.core.display.Javascript object>"
      ]
     },
     "metadata": {},
     "output_type": "display_data"
    }
   ],
   "source": [
    "sum(n_days_shape[0:1])"
   ]
  },
  {
   "cell_type": "code",
   "execution_count": null,
   "id": "4c593614",
   "metadata": {},
   "outputs": [],
   "source": []
  }
 ],
 "metadata": {
  "kernelspec": {
   "display_name": "Python 3 (ipykernel)",
   "language": "python",
   "name": "python3"
  },
  "language_info": {
   "codemirror_mode": {
    "name": "ipython",
    "version": 3
   },
   "file_extension": ".py",
   "mimetype": "text/x-python",
   "name": "python",
   "nbconvert_exporter": "python",
   "pygments_lexer": "ipython3",
   "version": "3.9.7"
  }
 },
 "nbformat": 4,
 "nbformat_minor": 5
}
