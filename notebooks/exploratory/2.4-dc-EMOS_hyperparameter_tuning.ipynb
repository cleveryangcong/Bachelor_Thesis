{
 "cells": [
  {
   "cell_type": "code",
   "execution_count": 1,
   "id": "5b10a71e",
   "metadata": {},
   "outputs": [
    {
     "data": {
      "application/javascript": [
       "\n",
       "            setTimeout(function() {\n",
       "                var nbb_cell_id = 1;\n",
       "                var nbb_unformatted_code = \"%load_ext nb_black\";\n",
       "                var nbb_formatted_code = \"%load_ext nb_black\";\n",
       "                var nbb_cells = Jupyter.notebook.get_cells();\n",
       "                for (var i = 0; i < nbb_cells.length; ++i) {\n",
       "                    if (nbb_cells[i].input_prompt_number == nbb_cell_id) {\n",
       "                        if (nbb_cells[i].get_text() == nbb_unformatted_code) {\n",
       "                             nbb_cells[i].set_text(nbb_formatted_code);\n",
       "                        }\n",
       "                        break;\n",
       "                    }\n",
       "                }\n",
       "            }, 500);\n",
       "            "
      ],
      "text/plain": [
       "<IPython.core.display.Javascript object>"
      ]
     },
     "metadata": {},
     "output_type": "display_data"
    }
   ],
   "source": [
    "%load_ext nb_black"
   ]
  },
  {
   "cell_type": "code",
   "execution_count": 2,
   "id": "02f81271",
   "metadata": {},
   "outputs": [
    {
     "name": "stderr",
     "output_type": "stream",
     "text": [
      "2023-06-20 17:38:34.899655: W tensorflow/stream_executor/platform/default/dso_loader.cc:64] Could not load dynamic library 'libcudart.so.11.0'; dlerror: libcudart.so.11.0: cannot open shared object file: No such file or directory; LD_LIBRARY_PATH: :/opt/anaconda3/lib/\n",
      "2023-06-20 17:38:34.899678: I tensorflow/stream_executor/cuda/cudart_stub.cc:29] Ignore above cudart dlerror if you do not have a GPU set up on your machine.\n"
     ]
    },
    {
     "data": {
      "application/javascript": [
       "\n",
       "            setTimeout(function() {\n",
       "                var nbb_cell_id = 2;\n",
       "                var nbb_unformatted_code = \"# Helpful\\nimport tqdm\\n\\n# Visualization\\nimport matplotlib.pyplot as plt\\n\\n# My Methods\\nfrom src.utils.CRPS import *\\nfrom src.utils.data_split import *\\nfrom src.models.EMOS import *\\nfrom src.models.EMOS_global.EMOS_global_load_score import *\\nfrom src.models.EMOS_local.EMOS_local_load_score import *\\nfrom src.models.EMOS_local.EMOS_local_load_model import *\\nfrom src.models.EMOS_global.EMOS_global_load_model import *\\nfrom src.models.EMOS_local.EMOS_local_hyper_tune import *\\nimport data.raw.load_data_raw as ldr\\nimport data.processed.load_data_processed as ldp\\nimport data.processed.load_data_processed_denormed as ldpd\\nfrom src.models.CRPS_baseline.CRPS_load import *\\nfrom src.models.EMOS_local.EMOS_local_train import *\";\n",
       "                var nbb_formatted_code = \"# Helpful\\nimport tqdm\\n\\n# Visualization\\nimport matplotlib.pyplot as plt\\n\\n# My Methods\\nfrom src.utils.CRPS import *\\nfrom src.utils.data_split import *\\nfrom src.models.EMOS import *\\nfrom src.models.EMOS_global.EMOS_global_load_score import *\\nfrom src.models.EMOS_local.EMOS_local_load_score import *\\nfrom src.models.EMOS_local.EMOS_local_load_model import *\\nfrom src.models.EMOS_global.EMOS_global_load_model import *\\nfrom src.models.EMOS_local.EMOS_local_hyper_tune import *\\nimport data.raw.load_data_raw as ldr\\nimport data.processed.load_data_processed as ldp\\nimport data.processed.load_data_processed_denormed as ldpd\\nfrom src.models.CRPS_baseline.CRPS_load import *\\nfrom src.models.EMOS_local.EMOS_local_train import *\";\n",
       "                var nbb_cells = Jupyter.notebook.get_cells();\n",
       "                for (var i = 0; i < nbb_cells.length; ++i) {\n",
       "                    if (nbb_cells[i].input_prompt_number == nbb_cell_id) {\n",
       "                        if (nbb_cells[i].get_text() == nbb_unformatted_code) {\n",
       "                             nbb_cells[i].set_text(nbb_formatted_code);\n",
       "                        }\n",
       "                        break;\n",
       "                    }\n",
       "                }\n",
       "            }, 500);\n",
       "            "
      ],
      "text/plain": [
       "<IPython.core.display.Javascript object>"
      ]
     },
     "metadata": {},
     "output_type": "display_data"
    }
   ],
   "source": [
    "# Helpful\n",
    "import tqdm\n",
    "\n",
    "# Visualization\n",
    "import matplotlib.pyplot as plt\n",
    "\n",
    "# My Methods\n",
    "from src.utils.CRPS import *\n",
    "from src.utils.data_split import *\n",
    "from src.models.EMOS import *\n",
    "from src.models.EMOS_global.EMOS_global_load_score import *\n",
    "from src.models.EMOS_local.EMOS_local_load_score import *\n",
    "from src.models.EMOS_local.EMOS_local_load_model import *\n",
    "from src.models.EMOS_global.EMOS_global_load_model import *\n",
    "from src.models.EMOS_local.EMOS_local_hyper_tune import *\n",
    "import data.raw.load_data_raw as ldr\n",
    "import data.processed.load_data_processed as ldp\n",
    "import data.processed.load_data_processed_denormed as ldpd\n",
    "from src.models.CRPS_baseline.CRPS_load import *\n",
    "from src.models.EMOS_local.EMOS_local_train import *"
   ]
  },
  {
   "cell_type": "markdown",
   "id": "f10fc289",
   "metadata": {},
   "source": [
    "### 0. Set up"
   ]
  },
  {
   "cell_type": "code",
   "execution_count": 3,
   "id": "9a150fc0",
   "metadata": {},
   "outputs": [
    {
     "data": {
      "application/javascript": [
       "\n",
       "            setTimeout(function() {\n",
       "                var nbb_cell_id = 3;\n",
       "                var nbb_unformatted_code = \"def print_results(EMOS_global_t2m_hyper_scores, lead_num):\\n    print(\\n        f\\\"Best params {EMOS_global_t2m_hyper_scores[lead_num][0]} score: {EMOS_global_t2m_hyper_scores[lead_num][1]} ,in lead_time {EMOS_global_t2m_hyper_scores[lead_num][2]}\\\"\\n    )\\n\\n    for i in range(len(EMOS_global_t2m_hyper_scores[lead_num][3])):\\n        print(\\n            EMOS_global_t2m_hyper_scores[lead_num][3][i],\\n            EMOS_global_t2m_hyper_scores[lead_num][4][i],\\n        )\";\n",
       "                var nbb_formatted_code = \"def print_results(EMOS_global_t2m_hyper_scores, lead_num):\\n    print(\\n        f\\\"Best params {EMOS_global_t2m_hyper_scores[lead_num][0]} score: {EMOS_global_t2m_hyper_scores[lead_num][1]} ,in lead_time {EMOS_global_t2m_hyper_scores[lead_num][2]}\\\"\\n    )\\n\\n    for i in range(len(EMOS_global_t2m_hyper_scores[lead_num][3])):\\n        print(\\n            EMOS_global_t2m_hyper_scores[lead_num][3][i],\\n            EMOS_global_t2m_hyper_scores[lead_num][4][i],\\n        )\";\n",
       "                var nbb_cells = Jupyter.notebook.get_cells();\n",
       "                for (var i = 0; i < nbb_cells.length; ++i) {\n",
       "                    if (nbb_cells[i].input_prompt_number == nbb_cell_id) {\n",
       "                        if (nbb_cells[i].get_text() == nbb_unformatted_code) {\n",
       "                             nbb_cells[i].set_text(nbb_formatted_code);\n",
       "                        }\n",
       "                        break;\n",
       "                    }\n",
       "                }\n",
       "            }, 500);\n",
       "            "
      ],
      "text/plain": [
       "<IPython.core.display.Javascript object>"
      ]
     },
     "metadata": {},
     "output_type": "display_data"
    }
   ],
   "source": [
    "def print_results(EMOS_global_t2m_hyper_scores, lead_num):\n",
    "    print(\n",
    "        f\"Best params {EMOS_global_t2m_hyper_scores[lead_num][0]} score: {EMOS_global_t2m_hyper_scores[lead_num][1]} ,in lead_time {EMOS_global_t2m_hyper_scores[lead_num][2]}\"\n",
    "    )\n",
    "\n",
    "    for i in range(len(EMOS_global_t2m_hyper_scores[lead_num][3])):\n",
    "        print(\n",
    "            EMOS_global_t2m_hyper_scores[lead_num][3][i],\n",
    "            EMOS_global_t2m_hyper_scores[lead_num][4][i],\n",
    "        )"
   ]
  },
  {
   "cell_type": "markdown",
   "id": "9dc805db",
   "metadata": {},
   "source": [
    "### 1. Load Global Hyperparameter Scores"
   ]
  },
  {
   "cell_type": "code",
   "execution_count": 6,
   "id": "452a3a7b",
   "metadata": {},
   "outputs": [
    {
     "data": {
      "application/javascript": [
       "\n",
       "            setTimeout(function() {\n",
       "                var nbb_cell_id = 6;\n",
       "                var nbb_unformatted_code = \"EMOS_global_t2m_hyper_scores = EMOS_global_load_hyper_score(\\\"t2m\\\")\\nEMOS_global_ws10_hyper_scores = EMOS_global_load_hyper_score(\\\"ws10\\\")\";\n",
       "                var nbb_formatted_code = \"EMOS_global_t2m_hyper_scores = EMOS_global_load_hyper_score(\\\"t2m\\\")\\nEMOS_global_ws10_hyper_scores = EMOS_global_load_hyper_score(\\\"ws10\\\")\";\n",
       "                var nbb_cells = Jupyter.notebook.get_cells();\n",
       "                for (var i = 0; i < nbb_cells.length; ++i) {\n",
       "                    if (nbb_cells[i].input_prompt_number == nbb_cell_id) {\n",
       "                        if (nbb_cells[i].get_text() == nbb_unformatted_code) {\n",
       "                             nbb_cells[i].set_text(nbb_formatted_code);\n",
       "                        }\n",
       "                        break;\n",
       "                    }\n",
       "                }\n",
       "            }, 500);\n",
       "            "
      ],
      "text/plain": [
       "<IPython.core.display.Javascript object>"
      ]
     },
     "metadata": {},
     "output_type": "display_data"
    }
   ],
   "source": [
    "EMOS_global_t2m_hyper_scores = EMOS_global_load_hyper_score(\"t2m\")\n",
    "EMOS_global_ws10_hyper_scores = EMOS_global_load_hyper_score(\"ws10\")"
   ]
  },
  {
   "cell_type": "code",
   "execution_count": 7,
   "id": "49b20191",
   "metadata": {},
   "outputs": [
    {
     "name": "stdout",
     "output_type": "stream",
     "text": [
      "T2m-length:3, ws10-length:3\n"
     ]
    },
    {
     "data": {
      "application/javascript": [
       "\n",
       "            setTimeout(function() {\n",
       "                var nbb_cell_id = 7;\n",
       "                var nbb_unformatted_code = \"print(\\n    f\\\"T2m-length:{len(EMOS_global_t2m_hyper_scores)}, ws10-length:{len(EMOS_global_ws10_hyper_scores)}\\\"\\n)\";\n",
       "                var nbb_formatted_code = \"print(\\n    f\\\"T2m-length:{len(EMOS_global_t2m_hyper_scores)}, ws10-length:{len(EMOS_global_ws10_hyper_scores)}\\\"\\n)\";\n",
       "                var nbb_cells = Jupyter.notebook.get_cells();\n",
       "                for (var i = 0; i < nbb_cells.length; ++i) {\n",
       "                    if (nbb_cells[i].input_prompt_number == nbb_cell_id) {\n",
       "                        if (nbb_cells[i].get_text() == nbb_unformatted_code) {\n",
       "                             nbb_cells[i].set_text(nbb_formatted_code);\n",
       "                        }\n",
       "                        break;\n",
       "                    }\n",
       "                }\n",
       "            }, 500);\n",
       "            "
      ],
      "text/plain": [
       "<IPython.core.display.Javascript object>"
      ]
     },
     "metadata": {},
     "output_type": "display_data"
    }
   ],
   "source": [
    "print(\n",
    "    f\"T2m-length:{len(EMOS_global_t2m_hyper_scores)}, ws10-length:{len(EMOS_global_ws10_hyper_scores)}\"\n",
    ")"
   ]
  },
  {
   "cell_type": "markdown",
   "id": "ea6cc7f5",
   "metadata": {},
   "source": [
    "##### Temperature"
   ]
  },
  {
   "cell_type": "code",
   "execution_count": 6,
   "id": "d6d0483f",
   "metadata": {
    "collapsed": true
   },
   "outputs": [
    {
     "name": "stdout",
     "output_type": "stream",
     "text": [
      "Best params (4096, 10, 0.001, 'Adam') score: 0.45013427734375 ,in lead_time 0\n",
      "(1024, 10, 0.1, 'Adam') 0.4893634617328644\n",
      "(1024, 10, 0.05, 'Adam') 0.45485055446624756\n",
      "(1024, 10, 0.01, 'Adam') 0.4507754147052765\n",
      "(1024, 10, 0.005, 'Adam') 0.45106062293052673\n",
      "(1024, 10, 0.001, 'Adam') 0.4501516819000244\n",
      "(2048, 10, 0.1, 'Adam') 0.47946423292160034\n",
      "(2048, 10, 0.05, 'Adam') 0.4528166353702545\n",
      "(2048, 10, 0.01, 'Adam') 0.4508745074272156\n",
      "(2048, 10, 0.005, 'Adam') 0.450177401304245\n",
      "(2048, 10, 0.001, 'Adam') 0.4502573013305664\n",
      "(4096, 10, 0.1, 'Adam') 0.4852834939956665\n",
      "(4096, 10, 0.05, 'Adam') 0.45073962211608887\n",
      "(4096, 10, 0.01, 'Adam') 0.45114263892173767\n",
      "(4096, 10, 0.005, 'Adam') 0.4501672089099884\n",
      "(4096, 10, 0.001, 'Adam') 0.45013427734375\n",
      "(8192, 10, 0.1, 'Adam') 0.5087556838989258\n",
      "(8192, 10, 0.05, 'Adam') 0.45030805468559265\n",
      "(8192, 10, 0.01, 'Adam') 0.4503491222858429\n",
      "(8192, 10, 0.005, 'Adam') 0.45018625259399414\n",
      "(8192, 10, 0.001, 'Adam') 0.45037367939949036\n"
     ]
    },
    {
     "data": {
      "application/javascript": [
       "\n",
       "            setTimeout(function() {\n",
       "                var nbb_cell_id = 6;\n",
       "                var nbb_unformatted_code = \"print_results(EMOS_global_t2m_hyper_scores, 0)\";\n",
       "                var nbb_formatted_code = \"print_results(EMOS_global_t2m_hyper_scores, 0)\";\n",
       "                var nbb_cells = Jupyter.notebook.get_cells();\n",
       "                for (var i = 0; i < nbb_cells.length; ++i) {\n",
       "                    if (nbb_cells[i].input_prompt_number == nbb_cell_id) {\n",
       "                        if (nbb_cells[i].get_text() == nbb_unformatted_code) {\n",
       "                             nbb_cells[i].set_text(nbb_formatted_code);\n",
       "                        }\n",
       "                        break;\n",
       "                    }\n",
       "                }\n",
       "            }, 500);\n",
       "            "
      ],
      "text/plain": [
       "<IPython.core.display.Javascript object>"
      ]
     },
     "metadata": {},
     "output_type": "display_data"
    }
   ],
   "source": [
    "print_results(EMOS_global_t2m_hyper_scores, 0)"
   ]
  },
  {
   "cell_type": "code",
   "execution_count": 7,
   "id": "29fa8878",
   "metadata": {
    "collapsed": true
   },
   "outputs": [
    {
     "name": "stdout",
     "output_type": "stream",
     "text": [
      "Best params (8192, 10, 0.001, 'Adam') score: 0.7493733167648315 ,in lead_time 15\n",
      "(1024, 10, 0.1, 'Adam') 0.7904638648033142\n",
      "(1024, 10, 0.05, 'Adam') 0.7540763020515442\n",
      "(1024, 10, 0.01, 'Adam') 0.7501434683799744\n",
      "(1024, 10, 0.005, 'Adam') 0.7505483031272888\n",
      "(1024, 10, 0.001, 'Adam') 0.7497263550758362\n",
      "(2048, 10, 0.1, 'Adam') 0.7617718577384949\n",
      "(2048, 10, 0.05, 'Adam') 0.7501409649848938\n",
      "(2048, 10, 0.01, 'Adam') 0.7496245503425598\n",
      "(2048, 10, 0.005, 'Adam') 0.7502866387367249\n",
      "(2048, 10, 0.001, 'Adam') 0.7494620084762573\n",
      "(4096, 10, 0.1, 'Adam') 0.7718427181243896\n",
      "(4096, 10, 0.05, 'Adam') 0.7501612901687622\n",
      "(4096, 10, 0.01, 'Adam') 0.749976396560669\n",
      "(4096, 10, 0.005, 'Adam') 0.7494763135910034\n",
      "(4096, 10, 0.001, 'Adam') 0.7495089173316956\n",
      "(8192, 10, 0.1, 'Adam') 0.7810683846473694\n",
      "(8192, 10, 0.05, 'Adam') 0.7517670392990112\n",
      "(8192, 10, 0.01, 'Adam') 0.7497243285179138\n",
      "(8192, 10, 0.005, 'Adam') 0.7496926784515381\n",
      "(8192, 10, 0.001, 'Adam') 0.7493733167648315\n"
     ]
    },
    {
     "data": {
      "application/javascript": [
       "\n",
       "            setTimeout(function() {\n",
       "                var nbb_cell_id = 7;\n",
       "                var nbb_unformatted_code = \"print_results(EMOS_global_t2m_hyper_scores, 1)\";\n",
       "                var nbb_formatted_code = \"print_results(EMOS_global_t2m_hyper_scores, 1)\";\n",
       "                var nbb_cells = Jupyter.notebook.get_cells();\n",
       "                for (var i = 0; i < nbb_cells.length; ++i) {\n",
       "                    if (nbb_cells[i].input_prompt_number == nbb_cell_id) {\n",
       "                        if (nbb_cells[i].get_text() == nbb_unformatted_code) {\n",
       "                             nbb_cells[i].set_text(nbb_formatted_code);\n",
       "                        }\n",
       "                        break;\n",
       "                    }\n",
       "                }\n",
       "            }, 500);\n",
       "            "
      ],
      "text/plain": [
       "<IPython.core.display.Javascript object>"
      ]
     },
     "metadata": {},
     "output_type": "display_data"
    }
   ],
   "source": [
    "print_results(EMOS_global_t2m_hyper_scores, 1)"
   ]
  },
  {
   "cell_type": "code",
   "execution_count": 8,
   "id": "a87026ce",
   "metadata": {
    "collapsed": true
   },
   "outputs": [
    {
     "name": "stdout",
     "output_type": "stream",
     "text": [
      "Best params (2048, 10, 0.01, 'Adam') score: 1.14043390750885 ,in lead_time 30\n",
      "(1024, 10, 0.1, 'Adam') 1.1565638780593872\n",
      "(1024, 10, 0.05, 'Adam') 1.1418256759643555\n",
      "(1024, 10, 0.01, 'Adam') 1.1426897048950195\n",
      "(1024, 10, 0.005, 'Adam') 1.1411614418029785\n",
      "(1024, 10, 0.001, 'Adam') 1.1406571865081787\n",
      "(2048, 10, 0.1, 'Adam') 1.1456468105316162\n",
      "(2048, 10, 0.05, 'Adam') 1.141500473022461\n",
      "(2048, 10, 0.01, 'Adam') 1.14043390750885\n",
      "(2048, 10, 0.005, 'Adam') 1.1416186094284058\n",
      "(2048, 10, 0.001, 'Adam') 1.141808032989502\n",
      "(4096, 10, 0.1, 'Adam') 1.1449265480041504\n",
      "(4096, 10, 0.05, 'Adam') 1.1533310413360596\n",
      "(4096, 10, 0.01, 'Adam') 1.1412535905838013\n",
      "(4096, 10, 0.005, 'Adam') 1.1413679122924805\n",
      "(4096, 10, 0.001, 'Adam') 1.1412477493286133\n",
      "(8192, 10, 0.1, 'Adam') 1.1749733686447144\n",
      "(8192, 10, 0.05, 'Adam') 1.1452232599258423\n",
      "(8192, 10, 0.01, 'Adam') 1.14060640335083\n",
      "(8192, 10, 0.005, 'Adam') 1.1419819593429565\n",
      "(8192, 10, 0.001, 'Adam') 1.1423572301864624\n"
     ]
    },
    {
     "data": {
      "application/javascript": [
       "\n",
       "            setTimeout(function() {\n",
       "                var nbb_cell_id = 8;\n",
       "                var nbb_unformatted_code = \"print_results(EMOS_global_t2m_hyper_scores, 2)\";\n",
       "                var nbb_formatted_code = \"print_results(EMOS_global_t2m_hyper_scores, 2)\";\n",
       "                var nbb_cells = Jupyter.notebook.get_cells();\n",
       "                for (var i = 0; i < nbb_cells.length; ++i) {\n",
       "                    if (nbb_cells[i].input_prompt_number == nbb_cell_id) {\n",
       "                        if (nbb_cells[i].get_text() == nbb_unformatted_code) {\n",
       "                             nbb_cells[i].set_text(nbb_formatted_code);\n",
       "                        }\n",
       "                        break;\n",
       "                    }\n",
       "                }\n",
       "            }, 500);\n",
       "            "
      ],
      "text/plain": [
       "<IPython.core.display.Javascript object>"
      ]
     },
     "metadata": {},
     "output_type": "display_data"
    }
   ],
   "source": [
    "print_results(EMOS_global_t2m_hyper_scores, 2)"
   ]
  },
  {
   "cell_type": "markdown",
   "id": "63fae183",
   "metadata": {},
   "source": [
    "##### Wind speed"
   ]
  },
  {
   "cell_type": "code",
   "execution_count": 9,
   "id": "11bb2131",
   "metadata": {
    "collapsed": true
   },
   "outputs": [
    {
     "name": "stdout",
     "output_type": "stream",
     "text": [
      "Best params (2048, 10, 0.01, 'Adam') score: 0.42893150448799133 ,in lead_time 0\n",
      "(1024, 10, 0.01, 'Adam') 0.4297505021095276\n",
      "(1024, 10, 0.005, 'Adam') 0.4289378523826599\n",
      "(1024, 10, 0.001, 'Adam') 0.4290883541107178\n",
      "(2048, 10, 0.01, 'Adam') 0.42893150448799133\n",
      "(2048, 10, 0.005, 'Adam') 0.42907220125198364\n",
      "(2048, 10, 0.001, 'Adam') 0.4290500581264496\n",
      "(4096, 10, 0.01, 'Adam') 0.42906883358955383\n",
      "(4096, 10, 0.005, 'Adam') 0.4290091395378113\n",
      "(4096, 10, 0.001, 'Adam') 0.42906346917152405\n",
      "(8192, 10, 0.01, 'Adam') 0.4290763735771179\n",
      "(8192, 10, 0.005, 'Adam') 0.429036408662796\n",
      "(8192, 10, 0.001, 'Adam') 0.42912691831588745\n"
     ]
    },
    {
     "data": {
      "application/javascript": [
       "\n",
       "            setTimeout(function() {\n",
       "                var nbb_cell_id = 9;\n",
       "                var nbb_unformatted_code = \"print_results(EMOS_global_ws10_hyper_scores, 0)\";\n",
       "                var nbb_formatted_code = \"print_results(EMOS_global_ws10_hyper_scores, 0)\";\n",
       "                var nbb_cells = Jupyter.notebook.get_cells();\n",
       "                for (var i = 0; i < nbb_cells.length; ++i) {\n",
       "                    if (nbb_cells[i].input_prompt_number == nbb_cell_id) {\n",
       "                        if (nbb_cells[i].get_text() == nbb_unformatted_code) {\n",
       "                             nbb_cells[i].set_text(nbb_formatted_code);\n",
       "                        }\n",
       "                        break;\n",
       "                    }\n",
       "                }\n",
       "            }, 500);\n",
       "            "
      ],
      "text/plain": [
       "<IPython.core.display.Javascript object>"
      ]
     },
     "metadata": {},
     "output_type": "display_data"
    }
   ],
   "source": [
    "print_results(EMOS_global_ws10_hyper_scores, 0)"
   ]
  },
  {
   "cell_type": "code",
   "execution_count": 10,
   "id": "a8dcef0b",
   "metadata": {
    "collapsed": true
   },
   "outputs": [
    {
     "name": "stdout",
     "output_type": "stream",
     "text": [
      "Best params (8192, 10, 0.01, 'Adam') score: 1.0305900573730469 ,in lead_time 15\n",
      "(1024, 10, 0.01, 'Adam') 1.030940294265747\n",
      "(1024, 10, 0.005, 'Adam') 1.0306739807128906\n",
      "(1024, 10, 0.001, 'Adam') 1.030637502670288\n",
      "(2048, 10, 0.01, 'Adam') 1.030610203742981\n",
      "(2048, 10, 0.005, 'Adam') 1.030603289604187\n",
      "(2048, 10, 0.001, 'Adam') 1.0306410789489746\n",
      "(4096, 10, 0.01, 'Adam') 1.030664324760437\n",
      "(4096, 10, 0.005, 'Adam') 1.0305914878845215\n",
      "(4096, 10, 0.001, 'Adam') 1.0306750535964966\n",
      "(8192, 10, 0.01, 'Adam') 1.0305900573730469\n",
      "(8192, 10, 0.005, 'Adam') 1.0306018590927124\n",
      "(8192, 10, 0.001, 'Adam') 1.0306330919265747\n"
     ]
    },
    {
     "data": {
      "application/javascript": [
       "\n",
       "            setTimeout(function() {\n",
       "                var nbb_cell_id = 10;\n",
       "                var nbb_unformatted_code = \"print_results(EMOS_global_ws10_hyper_scores, 1)\";\n",
       "                var nbb_formatted_code = \"print_results(EMOS_global_ws10_hyper_scores, 1)\";\n",
       "                var nbb_cells = Jupyter.notebook.get_cells();\n",
       "                for (var i = 0; i < nbb_cells.length; ++i) {\n",
       "                    if (nbb_cells[i].input_prompt_number == nbb_cell_id) {\n",
       "                        if (nbb_cells[i].get_text() == nbb_unformatted_code) {\n",
       "                             nbb_cells[i].set_text(nbb_formatted_code);\n",
       "                        }\n",
       "                        break;\n",
       "                    }\n",
       "                }\n",
       "            }, 500);\n",
       "            "
      ],
      "text/plain": [
       "<IPython.core.display.Javascript object>"
      ]
     },
     "metadata": {},
     "output_type": "display_data"
    }
   ],
   "source": [
    "print_results(EMOS_global_ws10_hyper_scores, 1)"
   ]
  },
  {
   "cell_type": "code",
   "execution_count": 11,
   "id": "d1619c39",
   "metadata": {
    "collapsed": true
   },
   "outputs": [
    {
     "name": "stdout",
     "output_type": "stream",
     "text": [
      "Best params (2048, 10, 0.01, 'Adam') score: 1.340406894683838 ,in lead_time 30\n",
      "(1024, 10, 0.01, 'Adam') 1.3420257568359375\n",
      "(1024, 10, 0.005, 'Adam') 1.3411771059036255\n",
      "(1024, 10, 0.001, 'Adam') 1.3417695760726929\n",
      "(2048, 10, 0.01, 'Adam') 1.340406894683838\n",
      "(2048, 10, 0.005, 'Adam') 1.3428590297698975\n",
      "(2048, 10, 0.001, 'Adam') 1.3414874076843262\n",
      "(4096, 10, 0.01, 'Adam') 1.3410096168518066\n",
      "(4096, 10, 0.005, 'Adam') 1.3407288789749146\n",
      "(4096, 10, 0.001, 'Adam') 1.341736912727356\n",
      "(8192, 10, 0.01, 'Adam') 1.3415777683258057\n",
      "(8192, 10, 0.005, 'Adam') 1.340702772140503\n",
      "(8192, 10, 0.001, 'Adam') 1.3417181968688965\n"
     ]
    },
    {
     "data": {
      "application/javascript": [
       "\n",
       "            setTimeout(function() {\n",
       "                var nbb_cell_id = 11;\n",
       "                var nbb_unformatted_code = \"print_results(EMOS_global_ws10_hyper_scores, 2)\";\n",
       "                var nbb_formatted_code = \"print_results(EMOS_global_ws10_hyper_scores, 2)\";\n",
       "                var nbb_cells = Jupyter.notebook.get_cells();\n",
       "                for (var i = 0; i < nbb_cells.length; ++i) {\n",
       "                    if (nbb_cells[i].input_prompt_number == nbb_cell_id) {\n",
       "                        if (nbb_cells[i].get_text() == nbb_unformatted_code) {\n",
       "                             nbb_cells[i].set_text(nbb_formatted_code);\n",
       "                        }\n",
       "                        break;\n",
       "                    }\n",
       "                }\n",
       "            }, 500);\n",
       "            "
      ],
      "text/plain": [
       "<IPython.core.display.Javascript object>"
      ]
     },
     "metadata": {},
     "output_type": "display_data"
    }
   ],
   "source": [
    "print_results(EMOS_global_ws10_hyper_scores, 2)"
   ]
  },
  {
   "cell_type": "markdown",
   "id": "5701e50d",
   "metadata": {},
   "source": [
    "### 2. Load Local Hyperparameter Scores"
   ]
  },
  {
   "cell_type": "code",
   "execution_count": 8,
   "id": "a4037901",
   "metadata": {
    "scrolled": true
   },
   "outputs": [
    {
     "data": {
      "application/javascript": [
       "\n",
       "            setTimeout(function() {\n",
       "                var nbb_cell_id = 8;\n",
       "                var nbb_unformatted_code = \"EMOS_local_t2m_hyper_scores = EMOS_local_load_hyper_score(\\\"t2m\\\")\\nEMOS_local_ws10_hyper_scores = EMOS_local_load_hyper_score(\\\"ws10\\\")\";\n",
       "                var nbb_formatted_code = \"EMOS_local_t2m_hyper_scores = EMOS_local_load_hyper_score(\\\"t2m\\\")\\nEMOS_local_ws10_hyper_scores = EMOS_local_load_hyper_score(\\\"ws10\\\")\";\n",
       "                var nbb_cells = Jupyter.notebook.get_cells();\n",
       "                for (var i = 0; i < nbb_cells.length; ++i) {\n",
       "                    if (nbb_cells[i].input_prompt_number == nbb_cell_id) {\n",
       "                        if (nbb_cells[i].get_text() == nbb_unformatted_code) {\n",
       "                             nbb_cells[i].set_text(nbb_formatted_code);\n",
       "                        }\n",
       "                        break;\n",
       "                    }\n",
       "                }\n",
       "            }, 500);\n",
       "            "
      ],
      "text/plain": [
       "<IPython.core.display.Javascript object>"
      ]
     },
     "metadata": {},
     "output_type": "display_data"
    }
   ],
   "source": [
    "EMOS_local_t2m_hyper_scores = EMOS_local_load_hyper_score(\"t2m\")\n",
    "EMOS_local_ws10_hyper_scores = EMOS_local_load_hyper_score(\"ws10\")"
   ]
  },
  {
   "cell_type": "code",
   "execution_count": 9,
   "id": "e6dd2b85",
   "metadata": {
    "scrolled": false
   },
   "outputs": [
    {
     "name": "stdout",
     "output_type": "stream",
     "text": [
      "T2m-length:3, ws10-length:6\n"
     ]
    },
    {
     "data": {
      "application/javascript": [
       "\n",
       "            setTimeout(function() {\n",
       "                var nbb_cell_id = 9;\n",
       "                var nbb_unformatted_code = \"print(\\n    f\\\"T2m-length:{len(EMOS_local_t2m_hyper_scores)}, ws10-length:{len(EMOS_local_ws10_hyper_scores)}\\\"\\n)\";\n",
       "                var nbb_formatted_code = \"print(\\n    f\\\"T2m-length:{len(EMOS_local_t2m_hyper_scores)}, ws10-length:{len(EMOS_local_ws10_hyper_scores)}\\\"\\n)\";\n",
       "                var nbb_cells = Jupyter.notebook.get_cells();\n",
       "                for (var i = 0; i < nbb_cells.length; ++i) {\n",
       "                    if (nbb_cells[i].input_prompt_number == nbb_cell_id) {\n",
       "                        if (nbb_cells[i].get_text() == nbb_unformatted_code) {\n",
       "                             nbb_cells[i].set_text(nbb_formatted_code);\n",
       "                        }\n",
       "                        break;\n",
       "                    }\n",
       "                }\n",
       "            }, 500);\n",
       "            "
      ],
      "text/plain": [
       "<IPython.core.display.Javascript object>"
      ]
     },
     "metadata": {},
     "output_type": "display_data"
    }
   ],
   "source": [
    "print(\n",
    "    f\"T2m-length:{len(EMOS_local_t2m_hyper_scores)}, ws10-length:{len(EMOS_local_ws10_hyper_scores)}\"\n",
    ")"
   ]
  },
  {
   "cell_type": "markdown",
   "id": "08a658a9",
   "metadata": {},
   "source": [
    "##### Temperature:"
   ]
  },
  {
   "cell_type": "code",
   "execution_count": 34,
   "id": "e0182bb8",
   "metadata": {
    "collapsed": true
   },
   "outputs": [
    {
     "name": "stdout",
     "output_type": "stream",
     "text": [
      "Best params (16, 30, 0.005, 'Adam') score: 0.37988878824771977 ,in lead_time 0\n",
      "(16, 30, 0.1, 'Adam') 0.49627375191985035\n",
      "(16, 30, 0.05, 'Adam') 0.4216254285703867\n",
      "(16, 30, 0.01, 'Adam') 0.3831466698111632\n",
      "(16, 30, 0.005, 'Adam') 0.37988878824771977\n",
      "(16, 30, 0.001, 'Adam') 17.344419322525845\n",
      "(32, 30, 0.1, 'Adam') 0.45766198663757396\n",
      "(32, 30, 0.05, 'Adam') 0.40029029032358754\n",
      "(32, 30, 0.01, 'Adam') 0.38057279271575123\n",
      "(32, 30, 0.005, 'Adam') 0.47604186594104153\n",
      "(32, 30, 0.001, 'Adam') 114.26232341648294\n",
      "(64, 30, 0.1, 'Adam') 0.5142447502376177\n",
      "(64, 30, 0.05, 'Adam') 0.44653667777012557\n",
      "(64, 30, 0.01, 'Adam') 0.5151060394560679\n",
      "(64, 30, 0.005, 'Adam') 0.8507009725540112\n",
      "(64, 30, 0.001, 'Adam') 216.2162034266079\n",
      "(128, 30, 0.1, 'Adam') 0.9618315050044121\n",
      "(128, 30, 0.05, 'Adam') 0.7048312280422602\n",
      "(128, 30, 0.01, 'Adam') 1.0980231383672128\n",
      "(128, 30, 0.005, 'Adam') 74.58889908248034\n",
      "(128, 30, 0.001, 'Adam') 249.4008049772909\n",
      "(256, 30, 0.1, 'Adam') 2.834916726900981\n",
      "(256, 30, 0.05, 'Adam') 1.4633462037413547\n",
      "(256, 30, 0.01, 'Adam') 57.70785684071672\n",
      "(256, 30, 0.005, 'Adam') 167.9828360650975\n",
      "(256, 30, 0.001, 'Adam') 276.6492491184901\n"
     ]
    },
    {
     "data": {
      "application/javascript": [
       "\n",
       "            setTimeout(function() {\n",
       "                var nbb_cell_id = 34;\n",
       "                var nbb_unformatted_code = \"print_results(EMOS_local_t2m_hyper_scores, 0)\";\n",
       "                var nbb_formatted_code = \"print_results(EMOS_local_t2m_hyper_scores, 0)\";\n",
       "                var nbb_cells = Jupyter.notebook.get_cells();\n",
       "                for (var i = 0; i < nbb_cells.length; ++i) {\n",
       "                    if (nbb_cells[i].input_prompt_number == nbb_cell_id) {\n",
       "                        if (nbb_cells[i].get_text() == nbb_unformatted_code) {\n",
       "                             nbb_cells[i].set_text(nbb_formatted_code);\n",
       "                        }\n",
       "                        break;\n",
       "                    }\n",
       "                }\n",
       "            }, 500);\n",
       "            "
      ],
      "text/plain": [
       "<IPython.core.display.Javascript object>"
      ]
     },
     "metadata": {},
     "output_type": "display_data"
    }
   ],
   "source": [
    "print_results(EMOS_local_t2m_hyper_scores, 0)"
   ]
  },
  {
   "cell_type": "code",
   "execution_count": 35,
   "id": "3920d4b2",
   "metadata": {
    "collapsed": true
   },
   "outputs": [
    {
     "name": "stdout",
     "output_type": "stream",
     "text": [
      "Best params (16, 30, 0.005, 'Adam') score: 0.7063188764911431 ,in lead_time 15\n",
      "(16, 30, 0.1, 'Adam') 0.781379029345818\n",
      "(16, 30, 0.05, 'Adam') 0.7365562399992576\n",
      "(16, 30, 0.01, 'Adam') 0.7081086847644585\n",
      "(16, 30, 0.005, 'Adam') 0.7063188764911431\n",
      "(16, 30, 0.001, 'Adam') 17.594197237911896\n",
      "(32, 30, 0.1, 'Adam') 0.7446841379770865\n",
      "(32, 30, 0.05, 'Adam') 0.7179414452268527\n",
      "(32, 30, 0.01, 'Adam') 0.706347644329071\n",
      "(32, 30, 0.005, 'Adam') 0.7359531710927303\n",
      "(32, 30, 0.001, 'Adam') 128.0106144963931\n",
      "(64, 30, 0.1, 'Adam') 0.7903085488539475\n",
      "(64, 30, 0.05, 'Adam') 0.7300917301804591\n",
      "(64, 30, 0.01, 'Adam') 0.7576043812128214\n",
      "(64, 30, 0.005, 'Adam') 0.8920006274412839\n",
      "(64, 30, 0.001, 'Adam') 184.0715512767052\n",
      "(128, 30, 0.1, 'Adam') 1.3530094715265126\n",
      "(128, 30, 0.05, 'Adam') 0.8974096291722395\n",
      "(128, 30, 0.01, 'Adam') 1.0043515845751152\n",
      "(128, 30, 0.005, 'Adam') 87.53295544878794\n",
      "(128, 30, 0.001, 'Adam') 267.54757876178394\n",
      "(256, 30, 0.1, 'Adam') 3.2549329422987423\n",
      "(256, 30, 0.05, 'Adam') 1.7046045003793178\n",
      "(256, 30, 0.01, 'Adam') 54.41079867745821\n",
      "(256, 30, 0.005, 'Adam') 180.4925395704997\n",
      "(256, 30, 0.001, 'Adam') 302.1960828050207\n"
     ]
    },
    {
     "data": {
      "application/javascript": [
       "\n",
       "            setTimeout(function() {\n",
       "                var nbb_cell_id = 35;\n",
       "                var nbb_unformatted_code = \"print_results(EMOS_local_t2m_hyper_scores, 1)\";\n",
       "                var nbb_formatted_code = \"print_results(EMOS_local_t2m_hyper_scores, 1)\";\n",
       "                var nbb_cells = Jupyter.notebook.get_cells();\n",
       "                for (var i = 0; i < nbb_cells.length; ++i) {\n",
       "                    if (nbb_cells[i].input_prompt_number == nbb_cell_id) {\n",
       "                        if (nbb_cells[i].get_text() == nbb_unformatted_code) {\n",
       "                             nbb_cells[i].set_text(nbb_formatted_code);\n",
       "                        }\n",
       "                        break;\n",
       "                    }\n",
       "                }\n",
       "            }, 500);\n",
       "            "
      ],
      "text/plain": [
       "<IPython.core.display.Javascript object>"
      ]
     },
     "metadata": {},
     "output_type": "display_data"
    }
   ],
   "source": [
    "print_results(EMOS_local_t2m_hyper_scores, 1)"
   ]
  },
  {
   "cell_type": "code",
   "execution_count": 36,
   "id": "8217f864",
   "metadata": {
    "collapsed": true
   },
   "outputs": [
    {
     "name": "stdout",
     "output_type": "stream",
     "text": [
      "Best params (16, 30, 0.005, 'Adam') score: 1.0838735229693925 ,in lead_time 30\n",
      "(16, 30, 0.1, 'Adam') 1.1478227969163504\n",
      "(16, 30, 0.05, 'Adam') 1.1052566770559702\n",
      "(16, 30, 0.01, 'Adam') 1.0850750077993443\n",
      "(16, 30, 0.005, 'Adam') 1.0838735229693925\n",
      "(16, 30, 0.001, 'Adam') 15.558259987296202\n",
      "(32, 30, 0.1, 'Adam') 1.1079142334369512\n",
      "(32, 30, 0.05, 'Adam') 1.090742947963568\n",
      "(32, 30, 0.01, 'Adam') 1.0857606308582501\n",
      "(32, 30, 0.005, 'Adam') 1.1531194135164604\n",
      "(32, 30, 0.001, 'Adam') 109.61724732434138\n",
      "(64, 30, 0.1, 'Adam') 1.123578464373564\n",
      "(64, 30, 0.05, 'Adam') 1.0935281713803608\n",
      "(64, 30, 0.01, 'Adam') 1.1697963350094283\n",
      "(64, 30, 0.005, 'Adam') 1.320859425343\n",
      "(64, 30, 0.001, 'Adam') 194.04333809056342\n",
      "(128, 30, 0.1, 'Adam') 1.6871731460858614\n",
      "(128, 30, 0.05, 'Adam') 1.407067013856692\n",
      "(128, 30, 0.01, 'Adam') 1.4358300608702195\n",
      "(128, 30, 0.005, 'Adam') 83.94458062373675\n",
      "(128, 30, 0.001, 'Adam') 236.01420517342214\n",
      "(256, 30, 0.1, 'Adam') 3.0241014468364225\n",
      "(256, 30, 0.05, 'Adam') 2.124276435145965\n",
      "(256, 30, 0.01, 'Adam') 73.06352017361384\n",
      "(256, 30, 0.005, 'Adam') 152.97713040197507\n",
      "(256, 30, 0.001, 'Adam') 276.4663585730088\n"
     ]
    },
    {
     "data": {
      "application/javascript": [
       "\n",
       "            setTimeout(function() {\n",
       "                var nbb_cell_id = 36;\n",
       "                var nbb_unformatted_code = \"print_results(EMOS_local_t2m_hyper_scores, 2)\";\n",
       "                var nbb_formatted_code = \"print_results(EMOS_local_t2m_hyper_scores, 2)\";\n",
       "                var nbb_cells = Jupyter.notebook.get_cells();\n",
       "                for (var i = 0; i < nbb_cells.length; ++i) {\n",
       "                    if (nbb_cells[i].input_prompt_number == nbb_cell_id) {\n",
       "                        if (nbb_cells[i].get_text() == nbb_unformatted_code) {\n",
       "                             nbb_cells[i].set_text(nbb_formatted_code);\n",
       "                        }\n",
       "                        break;\n",
       "                    }\n",
       "                }\n",
       "            }, 500);\n",
       "            "
      ],
      "text/plain": [
       "<IPython.core.display.Javascript object>"
      ]
     },
     "metadata": {},
     "output_type": "display_data"
    }
   ],
   "source": [
    "print_results(EMOS_local_t2m_hyper_scores, 2)"
   ]
  },
  {
   "cell_type": "markdown",
   "id": "b79520f7",
   "metadata": {},
   "source": [
    "##### Wind Speed"
   ]
  },
  {
   "cell_type": "code",
   "execution_count": 10,
   "id": "da3a4af8",
   "metadata": {},
   "outputs": [
    {
     "name": "stdout",
     "output_type": "stream",
     "text": [
      "Best params (16, 30, 0.01, 'Adam') score: 0.41233436113748795 ,in lead_time 0\n",
      "(16, 30, 0.01, 'Adam') 0.41233436113748795\n",
      "(16, 30, 0.005, 'Adam') 0.41267349551885557\n",
      "(16, 30, 0.001, 'Adam') 0.41972746470799815\n",
      "(32, 30, 0.01, 'Adam') 0.41240349287788075\n",
      "(32, 30, 0.005, 'Adam') 0.4135815234711537\n",
      "(32, 30, 0.001, 'Adam') 0.44782405738265085\n",
      "(64, 30, 0.01, 'Adam') 0.4137448394336762\n",
      "(64, 30, 0.005, 'Adam') 0.41822804052096146\n",
      "(64, 30, 0.001, 'Adam') 0.6111389680359608\n"
     ]
    },
    {
     "data": {
      "application/javascript": [
       "\n",
       "            setTimeout(function() {\n",
       "                var nbb_cell_id = 10;\n",
       "                var nbb_unformatted_code = \"print_results(EMOS_local_ws10_hyper_scores, 0)\";\n",
       "                var nbb_formatted_code = \"print_results(EMOS_local_ws10_hyper_scores, 0)\";\n",
       "                var nbb_cells = Jupyter.notebook.get_cells();\n",
       "                for (var i = 0; i < nbb_cells.length; ++i) {\n",
       "                    if (nbb_cells[i].input_prompt_number == nbb_cell_id) {\n",
       "                        if (nbb_cells[i].get_text() == nbb_unformatted_code) {\n",
       "                             nbb_cells[i].set_text(nbb_formatted_code);\n",
       "                        }\n",
       "                        break;\n",
       "                    }\n",
       "                }\n",
       "            }, 500);\n",
       "            "
      ],
      "text/plain": [
       "<IPython.core.display.Javascript object>"
      ]
     },
     "metadata": {},
     "output_type": "display_data"
    }
   ],
   "source": [
    "print_results(EMOS_local_ws10_hyper_scores, 0)"
   ]
  },
  {
   "cell_type": "code",
   "execution_count": 11,
   "id": "5be0fcd5",
   "metadata": {},
   "outputs": [
    {
     "name": "stdout",
     "output_type": "stream",
     "text": [
      "Best params (16, 30, 0.05, 'Adam') score: 0.4122897151571054 ,in lead_time 0\n",
      "(8, 30, 0.05, 'Adam') 0.41375972512058723\n",
      "(8, 30, 0.01, 'Adam') 0.41248713901791817\n",
      "(16, 30, 0.05, 'Adam') 0.4122897151571054\n",
      "(16, 30, 0.01, 'Adam') 0.41235161458070463\n"
     ]
    },
    {
     "data": {
      "application/javascript": [
       "\n",
       "            setTimeout(function() {\n",
       "                var nbb_cell_id = 11;\n",
       "                var nbb_unformatted_code = \"print_results(EMOS_local_ws10_hyper_scores, 1)\";\n",
       "                var nbb_formatted_code = \"print_results(EMOS_local_ws10_hyper_scores, 1)\";\n",
       "                var nbb_cells = Jupyter.notebook.get_cells();\n",
       "                for (var i = 0; i < nbb_cells.length; ++i) {\n",
       "                    if (nbb_cells[i].input_prompt_number == nbb_cell_id) {\n",
       "                        if (nbb_cells[i].get_text() == nbb_unformatted_code) {\n",
       "                             nbb_cells[i].set_text(nbb_formatted_code);\n",
       "                        }\n",
       "                        break;\n",
       "                    }\n",
       "                }\n",
       "            }, 500);\n",
       "            "
      ],
      "text/plain": [
       "<IPython.core.display.Javascript object>"
      ]
     },
     "metadata": {},
     "output_type": "display_data"
    }
   ],
   "source": [
    "print_results(EMOS_local_ws10_hyper_scores, 1)"
   ]
  },
  {
   "cell_type": "code",
   "execution_count": 12,
   "id": "15c18cd9",
   "metadata": {},
   "outputs": [
    {
     "name": "stdout",
     "output_type": "stream",
     "text": [
      "Best params (16, 30, 0.05, 'Adam') score: 1.0552247057740505 ,in lead_time 15\n",
      "(8, 30, 0.05, 'Adam') 1.0557354082090733\n",
      "(8, 30, 0.01, 'Adam') 1.055309343032348\n",
      "(16, 30, 0.05, 'Adam') 1.0552247057740505\n",
      "(16, 30, 0.01, 'Adam') 1.0560063382562919\n"
     ]
    },
    {
     "data": {
      "application/javascript": [
       "\n",
       "            setTimeout(function() {\n",
       "                var nbb_cell_id = 12;\n",
       "                var nbb_unformatted_code = \"print_results(EMOS_local_ws10_hyper_scores, 2)\";\n",
       "                var nbb_formatted_code = \"print_results(EMOS_local_ws10_hyper_scores, 2)\";\n",
       "                var nbb_cells = Jupyter.notebook.get_cells();\n",
       "                for (var i = 0; i < nbb_cells.length; ++i) {\n",
       "                    if (nbb_cells[i].input_prompt_number == nbb_cell_id) {\n",
       "                        if (nbb_cells[i].get_text() == nbb_unformatted_code) {\n",
       "                             nbb_cells[i].set_text(nbb_formatted_code);\n",
       "                        }\n",
       "                        break;\n",
       "                    }\n",
       "                }\n",
       "            }, 500);\n",
       "            "
      ],
      "text/plain": [
       "<IPython.core.display.Javascript object>"
      ]
     },
     "metadata": {},
     "output_type": "display_data"
    }
   ],
   "source": [
    "print_results(EMOS_local_ws10_hyper_scores, 2)"
   ]
  },
  {
   "cell_type": "code",
   "execution_count": 13,
   "id": "df855dc6",
   "metadata": {},
   "outputs": [
    {
     "name": "stdout",
     "output_type": "stream",
     "text": [
      "Best params (16, 30, 0.01, 'Adam') score: 1.055085280098212 ,in lead_time 15\n",
      "(16, 30, 0.01, 'Adam') 1.055085280098212\n",
      "(16, 30, 0.005, 'Adam') 1.0569389292444937\n",
      "(16, 30, 0.001, 'Adam') 1.0632930683592956\n",
      "(32, 30, 0.01, 'Adam') 1.0565674543762817\n",
      "(32, 30, 0.005, 'Adam') 1.058431334220446\n",
      "(32, 30, 0.001, 'Adam') 1.0752999688952396\n",
      "(64, 30, 0.01, 'Adam') 1.0586963324592664\n",
      "(64, 30, 0.005, 'Adam') 1.0623093316188226\n",
      "(64, 30, 0.001, 'Adam') 1.169558541323894\n"
     ]
    },
    {
     "data": {
      "application/javascript": [
       "\n",
       "            setTimeout(function() {\n",
       "                var nbb_cell_id = 13;\n",
       "                var nbb_unformatted_code = \"print_results(EMOS_local_ws10_hyper_scores, 3)\";\n",
       "                var nbb_formatted_code = \"print_results(EMOS_local_ws10_hyper_scores, 3)\";\n",
       "                var nbb_cells = Jupyter.notebook.get_cells();\n",
       "                for (var i = 0; i < nbb_cells.length; ++i) {\n",
       "                    if (nbb_cells[i].input_prompt_number == nbb_cell_id) {\n",
       "                        if (nbb_cells[i].get_text() == nbb_unformatted_code) {\n",
       "                             nbb_cells[i].set_text(nbb_formatted_code);\n",
       "                        }\n",
       "                        break;\n",
       "                    }\n",
       "                }\n",
       "            }, 500);\n",
       "            "
      ],
      "text/plain": [
       "<IPython.core.display.Javascript object>"
      ]
     },
     "metadata": {},
     "output_type": "display_data"
    }
   ],
   "source": [
    "print_results(EMOS_local_ws10_hyper_scores, 3)"
   ]
  },
  {
   "cell_type": "code",
   "execution_count": 14,
   "id": "3469faca",
   "metadata": {},
   "outputs": [
    {
     "name": "stdout",
     "output_type": "stream",
     "text": [
      "Best params (16, 30, 0.01, 'Adam') score: 1.3794155380664728 ,in lead_time 30\n",
      "(16, 30, 0.01, 'Adam') 1.3794155380664728\n",
      "(16, 30, 0.005, 'Adam') 1.3834387461344402\n",
      "(16, 30, 0.001, 'Adam') 1.3930093663243146\n",
      "(32, 30, 0.01, 'Adam') 1.3822447741642976\n",
      "(32, 30, 0.005, 'Adam') 1.3867237208745418\n",
      "(32, 30, 0.001, 'Adam') 1.4020699209127672\n",
      "(64, 30, 0.01, 'Adam') 1.3860250988449805\n",
      "(64, 30, 0.005, 'Adam') 1.3901709839701653\n",
      "(64, 30, 0.001, 'Adam') 1.4885983788050139\n"
     ]
    },
    {
     "data": {
      "application/javascript": [
       "\n",
       "            setTimeout(function() {\n",
       "                var nbb_cell_id = 14;\n",
       "                var nbb_unformatted_code = \"print_results(EMOS_local_ws10_hyper_scores, 4)\";\n",
       "                var nbb_formatted_code = \"print_results(EMOS_local_ws10_hyper_scores, 4)\";\n",
       "                var nbb_cells = Jupyter.notebook.get_cells();\n",
       "                for (var i = 0; i < nbb_cells.length; ++i) {\n",
       "                    if (nbb_cells[i].input_prompt_number == nbb_cell_id) {\n",
       "                        if (nbb_cells[i].get_text() == nbb_unformatted_code) {\n",
       "                             nbb_cells[i].set_text(nbb_formatted_code);\n",
       "                        }\n",
       "                        break;\n",
       "                    }\n",
       "                }\n",
       "            }, 500);\n",
       "            "
      ],
      "text/plain": [
       "<IPython.core.display.Javascript object>"
      ]
     },
     "metadata": {},
     "output_type": "display_data"
    }
   ],
   "source": [
    "print_results(EMOS_local_ws10_hyper_scores, 4)"
   ]
  },
  {
   "cell_type": "code",
   "execution_count": 15,
   "id": "1cbee8c8",
   "metadata": {},
   "outputs": [
    {
     "name": "stdout",
     "output_type": "stream",
     "text": [
      "Best params (8, 30, 0.05, 'Adam') score: 1.373977230527462 ,in lead_time 30\n",
      "(8, 30, 0.05, 'Adam') 1.373977230527462\n",
      "(8, 30, 0.01, 'Adam') 1.3782877440635974\n",
      "(16, 30, 0.05, 'Adam') 1.3745246342359445\n",
      "(16, 30, 0.01, 'Adam') 1.3807548764042366\n"
     ]
    },
    {
     "data": {
      "application/javascript": [
       "\n",
       "            setTimeout(function() {\n",
       "                var nbb_cell_id = 15;\n",
       "                var nbb_unformatted_code = \"print_results(EMOS_local_ws10_hyper_scores, 5)\";\n",
       "                var nbb_formatted_code = \"print_results(EMOS_local_ws10_hyper_scores, 5)\";\n",
       "                var nbb_cells = Jupyter.notebook.get_cells();\n",
       "                for (var i = 0; i < nbb_cells.length; ++i) {\n",
       "                    if (nbb_cells[i].input_prompt_number == nbb_cell_id) {\n",
       "                        if (nbb_cells[i].get_text() == nbb_unformatted_code) {\n",
       "                             nbb_cells[i].set_text(nbb_formatted_code);\n",
       "                        }\n",
       "                        break;\n",
       "                    }\n",
       "                }\n",
       "            }, 500);\n",
       "            "
      ],
      "text/plain": [
       "<IPython.core.display.Javascript object>"
      ]
     },
     "metadata": {},
     "output_type": "display_data"
    }
   ],
   "source": [
    "print_results(EMOS_local_ws10_hyper_scores, 5)"
   ]
  },
  {
   "cell_type": "markdown",
   "id": "e390e535",
   "metadata": {},
   "source": [
    "### 3. Scores for comparison:"
   ]
  },
  {
   "cell_type": "code",
   "execution_count": 4,
   "id": "755b343f",
   "metadata": {},
   "outputs": [
    {
     "data": {
      "application/javascript": [
       "\n",
       "            setTimeout(function() {\n",
       "                var nbb_cell_id = 4;\n",
       "                var nbb_unformatted_code = \"# Load EMOS local scores\\nEMOS_local_t2m_scores = EMOS_local_load_score(\\\"t2m\\\")\\nEMOS_local_ws10_scores = EMOS_local_load_score(\\\"ws10\\\")\\n\\n# Load EMOS global scores\\nEMOS_global_t2m_scores = EMOS_global_load_score(\\\"t2m\\\")\\nEMOS_global_ws10_scores = EMOS_global_load_score(\\\"ws10\\\")\\n\\n# Load CRPS scores\\nCRPS_global_t2m_scores = crps_load_lead_lat_lon(\\\"t2m\\\")\\nCRPS_global_ws10_scores = crps_load_lead_lat_lon(\\\"ws10\\\")\";\n",
       "                var nbb_formatted_code = \"# Load EMOS local scores\\nEMOS_local_t2m_scores = EMOS_local_load_score(\\\"t2m\\\")\\nEMOS_local_ws10_scores = EMOS_local_load_score(\\\"ws10\\\")\\n\\n# Load EMOS global scores\\nEMOS_global_t2m_scores = EMOS_global_load_score(\\\"t2m\\\")\\nEMOS_global_ws10_scores = EMOS_global_load_score(\\\"ws10\\\")\\n\\n# Load CRPS scores\\nCRPS_global_t2m_scores = crps_load_lead_lat_lon(\\\"t2m\\\")\\nCRPS_global_ws10_scores = crps_load_lead_lat_lon(\\\"ws10\\\")\";\n",
       "                var nbb_cells = Jupyter.notebook.get_cells();\n",
       "                for (var i = 0; i < nbb_cells.length; ++i) {\n",
       "                    if (nbb_cells[i].input_prompt_number == nbb_cell_id) {\n",
       "                        if (nbb_cells[i].get_text() == nbb_unformatted_code) {\n",
       "                             nbb_cells[i].set_text(nbb_formatted_code);\n",
       "                        }\n",
       "                        break;\n",
       "                    }\n",
       "                }\n",
       "            }, 500);\n",
       "            "
      ],
      "text/plain": [
       "<IPython.core.display.Javascript object>"
      ]
     },
     "metadata": {},
     "output_type": "display_data"
    }
   ],
   "source": [
    "# Load EMOS local scores\n",
    "EMOS_local_t2m_scores = EMOS_local_load_score(\"t2m\")\n",
    "EMOS_local_ws10_scores = EMOS_local_load_score(\"ws10\")\n",
    "\n",
    "# Load EMOS global scores\n",
    "EMOS_global_t2m_scores = EMOS_global_load_score(\"t2m\")\n",
    "EMOS_global_ws10_scores = EMOS_global_load_score(\"ws10\")\n",
    "\n",
    "# Load CRPS scores\n",
    "CRPS_global_t2m_scores = crps_load_lead_lat_lon(\"t2m\")\n",
    "CRPS_global_ws10_scores = crps_load_lead_lat_lon(\"ws10\")"
   ]
  },
  {
   "cell_type": "code",
   "execution_count": 24,
   "id": "12544693",
   "metadata": {
    "collapsed": true
   },
   "outputs": [
    {
     "name": "stdout",
     "output_type": "stream",
     "text": [
      "Temperature:\n",
      "Lead 0:EMOS_loc: 0.415053105392251, EMOS_glob: 0.46703651029923665, CRPS: 0.5084816639136492\n",
      "Lead 1:EMOS_loc: 0.4570667604054852, EMOS_glob: 0.5298957333000098, CRPS: 0.5347707002046389\n",
      "Lead 2:EMOS_loc: 0.4764044947829555, EMOS_glob: 0.5111855084322628, CRPS: 0.5150757989800734\n",
      "Lead 3:EMOS_loc: 0.48515283096321316, EMOS_glob: 0.5183820239839588, CRPS: 0.5301602687833538\n",
      "Lead 4:EMOS_loc: 0.5089567601152319, EMOS_glob: 0.5376392532805744, CRPS: 0.5624034501418446\n",
      "Lead 5:EMOS_loc: 0.548447341694951, EMOS_glob: 0.5939897328842008, CRPS: 0.6306282599852645\n",
      "Lead 6:EMOS_loc: 0.5710812135540558, EMOS_glob: 0.5924088144510241, CRPS: 0.6316119778923832\n",
      "Lead 7:EMOS_loc: 0.5755256235342039, EMOS_glob: 0.6024678559619754, CRPS: 0.6454345388357919\n",
      "Lead 8:EMOS_loc: 0.6027694817392227, EMOS_glob: 0.6265648309789082, CRPS: 0.6802850949781106\n",
      "Lead 9:EMOS_loc: 0.6559653745022869, EMOS_glob: 0.6937458851013558, CRPS: 0.7561511514525252\n",
      "Lead 10:EMOS_loc: 0.6802171031411963, EMOS_glob: 0.6958467261895463, CRPS: 0.7596827249402444\n",
      "Lead 11:EMOS_loc: 0.6793467546496924, EMOS_glob: 0.7032838196351372, CRPS: 0.7671595364524374\n",
      "Lead 12:EMOS_loc: 0.7125745012498252, EMOS_glob: 0.7309746362686439, CRPS: 0.8087436349681829\n",
      "Lead 13:EMOS_loc: 0.7749779855395125, EMOS_glob: 0.8061964020303785, CRPS: 0.8907210185014609\n",
      "Lead 14:EMOS_loc: 0.7951062756172094, EMOS_glob: 0.8106952011303574, CRPS: 0.8895929183430251\n",
      "Lead 15:EMOS_loc: 0.7896939886240791, EMOS_glob: 0.8063593058476693, CRPS: 0.8913402208770865\n",
      "Lead 16:EMOS_loc: 0.824653898039369, EMOS_glob: 0.8396767227407256, CRPS: 0.9354666921537256\n",
      "Lead 17:EMOS_loc: 0.8991138613506323, EMOS_glob: 0.9253094152419413, CRPS: 1.030760697007392\n",
      "Lead 18:EMOS_loc: 0.9122335393543238, EMOS_glob: 0.9244103431114752, CRPS: 1.020928305756169\n",
      "Lead 19:EMOS_loc: 0.8980411414433244, EMOS_glob: 0.9158587177946148, CRPS: 1.011146119667486\n",
      "Lead 20:EMOS_loc: 0.9339109912917022, EMOS_glob: 0.9477237022814626, CRPS: 1.0559743772319934\n",
      "Lead 21:EMOS_loc: 1.0250725105240275, EMOS_glob: 1.0486241355164112, CRPS: 1.170507971000092\n",
      "Lead 22:EMOS_loc: 1.02768161320486, EMOS_glob: 1.0390171211692882, CRPS: 1.1471350159491147\n",
      "Lead 23:EMOS_loc: 1.0026194044589674, EMOS_glob: 1.0153090562183535, CRPS: 1.1231032795400633\n",
      "Lead 24:EMOS_loc: 1.038808348758008, EMOS_glob: 1.051807358420797, CRPS: 1.1665183732402151\n",
      "Lead 25:EMOS_loc: 1.1376150709404622, EMOS_glob: 1.1572987502464485, CRPS: 1.291409822220935\n",
      "Lead 26:EMOS_loc: 1.130741955961081, EMOS_glob: 1.1384145365151879, CRPS: 1.2553212202206236\n",
      "Lead 27:EMOS_loc: 1.0948988115823663, EMOS_glob: 1.1052877757773611, CRPS: 1.2185923742165932\n",
      "Lead 28:EMOS_loc: 1.1296306841630386, EMOS_glob: 1.137667713788714, CRPS: 1.261623224976432\n",
      "Lead 29:EMOS_loc: 1.245663048809305, EMOS_glob: 1.2721116780946715, CRPS: 1.4120354238676378\n",
      "Lead 30:EMOS_loc: 1.226442443735572, EMOS_glob: 1.2296079979755303, CRPS: 1.3563336012079834\n"
     ]
    },
    {
     "data": {
      "application/javascript": [
       "\n",
       "            setTimeout(function() {\n",
       "                var nbb_cell_id = 24;\n",
       "                var nbb_unformatted_code = \"print(\\\"Temperature:\\\")\\nfor lead_time in range(len(EMOS_local_t2m_scores)):\\n    print(\\n        f\\\"Lead {lead_time}:EMOS_loc: {EMOS_local_t2m_scores[lead_time].mean()}, EMOS_glob: {EMOS_global_t2m_scores[lead_time].mean()}, CRPS: {CRPS_global_t2m_scores[lead_time].mean()}\\\"\\n    )\";\n",
       "                var nbb_formatted_code = \"print(\\\"Temperature:\\\")\\nfor lead_time in range(len(EMOS_local_t2m_scores)):\\n    print(\\n        f\\\"Lead {lead_time}:EMOS_loc: {EMOS_local_t2m_scores[lead_time].mean()}, EMOS_glob: {EMOS_global_t2m_scores[lead_time].mean()}, CRPS: {CRPS_global_t2m_scores[lead_time].mean()}\\\"\\n    )\";\n",
       "                var nbb_cells = Jupyter.notebook.get_cells();\n",
       "                for (var i = 0; i < nbb_cells.length; ++i) {\n",
       "                    if (nbb_cells[i].input_prompt_number == nbb_cell_id) {\n",
       "                        if (nbb_cells[i].get_text() == nbb_unformatted_code) {\n",
       "                             nbb_cells[i].set_text(nbb_formatted_code);\n",
       "                        }\n",
       "                        break;\n",
       "                    }\n",
       "                }\n",
       "            }, 500);\n",
       "            "
      ],
      "text/plain": [
       "<IPython.core.display.Javascript object>"
      ]
     },
     "metadata": {},
     "output_type": "display_data"
    }
   ],
   "source": [
    "print(\"Temperature:\")\n",
    "for lead_time in range(len(EMOS_local_t2m_scores)):\n",
    "    print(\n",
    "        f\"Lead {lead_time}:EMOS_loc: {EMOS_local_t2m_scores[lead_time].mean()}, EMOS_glob: {EMOS_global_t2m_scores[lead_time].mean()}, CRPS: {CRPS_global_t2m_scores[lead_time].mean()}\"\n",
    "    )"
   ]
  },
  {
   "cell_type": "code",
   "execution_count": 5,
   "id": "898a9d43",
   "metadata": {},
   "outputs": [
    {
     "name": "stdout",
     "output_type": "stream",
     "text": [
      "wind speed:\n",
      "Lead 0: EMOS_loc: 0.4271906831870094, EMOS_glob: 0.444879412651062, CRPS: 0.4708288311958313\n",
      "Lead 1: EMOS_loc: 0.5230482925885381, EMOS_glob: 0.5332709550857544, CRPS: 0.5626273155212402\n",
      "Lead 2: EMOS_loc: 0.5066942776596317, EMOS_glob: 0.5201089382171631, CRPS: 0.5660684704780579\n",
      "Lead 3: EMOS_loc: 0.5536949359300809, EMOS_glob: 0.5701531171798706, CRPS: 0.6244665384292603\n",
      "Lead 4: EMOS_loc: 0.5715354402057635, EMOS_glob: 0.5852674245834351, CRPS: 0.6273626685142517\n",
      "Lead 5: EMOS_loc: 0.6812893462257508, EMOS_glob: 0.6913465261459351, CRPS: 0.7419385313987732\n",
      "Lead 6: EMOS_loc: 0.6788701902855283, EMOS_glob: 0.6907969117164612, CRPS: 0.7447009086608887\n",
      "Lead 7: EMOS_loc: 0.734385692985394, EMOS_glob: 0.7487615346908569, CRPS: 0.8054525852203369\n",
      "Lead 8: EMOS_loc: 0.7735546463918992, EMOS_glob: 0.7855799198150635, CRPS: 0.834025502204895\n",
      "Lead 9: EMOS_loc: 0.8894382009187188, EMOS_glob: 0.8979419469833374, CRPS: 0.9581987261772156\n",
      "Lead 10: EMOS_loc: 0.8763908323024711, EMOS_glob: 0.8870936036109924, CRPS: 0.9486294984817505\n",
      "Lead 11: EMOS_loc: 0.9210074516099233, EMOS_glob: 0.9349749684333801, CRPS: 0.997710645198822\n",
      "Lead 12: EMOS_loc: 0.9579390502530031, EMOS_glob: 0.9704568386077881, CRPS: 1.0248152017593384\n",
      "Lead 13: EMOS_loc: 1.0715392938705208, EMOS_glob: 1.080674409866333, CRPS: 1.147271752357483\n",
      "Lead 14: EMOS_loc: 1.0446885808232502, EMOS_glob: 1.0569790601730347, CRPS: 1.120965838432312\n",
      "Lead 15: EMOS_loc: 1.0771695727721238, EMOS_glob: 1.0927146673202515, CRPS: 1.1554666757583618\n",
      "Lead 16: EMOS_loc: 1.1041394612288629, EMOS_glob: 1.1194151639938354, CRPS: 1.1716784238815308\n",
      "Lead 17: EMOS_loc: 1.2064466494073471, EMOS_glob: 1.2182871103286743, CRPS: 1.2803926467895508\n",
      "Lead 18: EMOS_loc: 1.1683778396325233, EMOS_glob: 1.1828908920288086, CRPS: 1.2406598329544067\n",
      "Lead 19: EMOS_loc: 1.1899164315981743, EMOS_glob: 1.2084200382232666, CRPS: 1.2650195360183716\n",
      "Lead 20: EMOS_loc: 1.21425010064378, EMOS_glob: 1.231555700302124, CRPS: 1.2812318801879883\n",
      "Lead 21: EMOS_loc: 1.317311092937986, EMOS_glob: 1.3322447538375854, CRPS: 1.3930284976959229\n",
      "Lead 22: EMOS_loc: 1.2717454160043062, EMOS_glob: 1.2889653444290161, CRPS: 1.3470748662948608\n",
      "Lead 23: EMOS_loc: 1.2854799921590931, EMOS_glob: 1.3059484958648682, CRPS: 1.3625421524047852\n",
      "Lead 24: EMOS_loc: 1.3022538866809545, EMOS_glob: 1.3235145807266235, CRPS: 1.370863676071167\n",
      "Lead 25: EMOS_loc: 1.3995205745100976, EMOS_glob: 1.4156031608581543, CRPS: 1.476784110069275\n",
      "Lead 26: EMOS_loc: 1.3430649712280585, EMOS_glob: 1.3660496473312378, CRPS: 1.4213701486587524\n",
      "Lead 27: EMOS_loc: 1.3496244284634789, EMOS_glob: 1.37123441696167, CRPS: 1.4293179512023926\n",
      "Lead 28: EMOS_loc: 1.3615650633073006, EMOS_glob: 1.38380765914917, CRPS: 1.4322772026062012\n",
      "Lead 29: EMOS_loc: 1.4568916883204992, EMOS_glob: 1.4757462739944458, CRPS: 1.536927580833435\n",
      "Lead 30: EMOS_loc: 1.3912202588898632, EMOS_glob: 1.4133723974227905, CRPS: 1.4698940515518188\n"
     ]
    },
    {
     "data": {
      "application/javascript": [
       "\n",
       "            setTimeout(function() {\n",
       "                var nbb_cell_id = 5;\n",
       "                var nbb_unformatted_code = \"print(\\\"wind speed:\\\")\\nfor lead_time in range(len(EMOS_global_ws10_scores)):\\n    print(\\n        f\\\"Lead {lead_time}: EMOS_loc: {EMOS_local_ws10_scores[lead_time].mean()}, EMOS_glob: {EMOS_global_ws10_scores[lead_time].mean()}, CRPS: {CRPS_global_ws10_scores[lead_time].mean()}\\\"\\n    )\";\n",
       "                var nbb_formatted_code = \"print(\\\"wind speed:\\\")\\nfor lead_time in range(len(EMOS_global_ws10_scores)):\\n    print(\\n        f\\\"Lead {lead_time}: EMOS_loc: {EMOS_local_ws10_scores[lead_time].mean()}, EMOS_glob: {EMOS_global_ws10_scores[lead_time].mean()}, CRPS: {CRPS_global_ws10_scores[lead_time].mean()}\\\"\\n    )\";\n",
       "                var nbb_cells = Jupyter.notebook.get_cells();\n",
       "                for (var i = 0; i < nbb_cells.length; ++i) {\n",
       "                    if (nbb_cells[i].input_prompt_number == nbb_cell_id) {\n",
       "                        if (nbb_cells[i].get_text() == nbb_unformatted_code) {\n",
       "                             nbb_cells[i].set_text(nbb_formatted_code);\n",
       "                        }\n",
       "                        break;\n",
       "                    }\n",
       "                }\n",
       "            }, 500);\n",
       "            "
      ],
      "text/plain": [
       "<IPython.core.display.Javascript object>"
      ]
     },
     "metadata": {},
     "output_type": "display_data"
    }
   ],
   "source": [
    "print(\"wind speed:\")\n",
    "for lead_time in range(len(EMOS_global_ws10_scores)):\n",
    "    print(\n",
    "        f\"Lead {lead_time}: EMOS_loc: {EMOS_local_ws10_scores[lead_time].mean()}, EMOS_glob: {EMOS_global_ws10_scores[lead_time].mean()}, CRPS: {CRPS_global_ws10_scores[lead_time].mean()}\"\n",
    "    )"
   ]
  },
  {
   "cell_type": "code",
   "execution_count": null,
   "id": "70ae610d",
   "metadata": {},
   "outputs": [],
   "source": []
  },
  {
   "cell_type": "code",
   "execution_count": null,
   "id": "0cd5a542",
   "metadata": {},
   "outputs": [],
   "source": []
  },
  {
   "cell_type": "code",
   "execution_count": null,
   "id": "219a931b",
   "metadata": {},
   "outputs": [],
   "source": []
  },
  {
   "cell_type": "code",
   "execution_count": null,
   "id": "e55bb225",
   "metadata": {},
   "outputs": [],
   "source": []
  },
  {
   "cell_type": "code",
   "execution_count": null,
   "id": "8c4b02d5",
   "metadata": {},
   "outputs": [],
   "source": []
  },
  {
   "cell_type": "code",
   "execution_count": null,
   "id": "0166011f",
   "metadata": {},
   "outputs": [],
   "source": []
  },
  {
   "cell_type": "code",
   "execution_count": null,
   "id": "d40d1f06",
   "metadata": {},
   "outputs": [],
   "source": []
  },
  {
   "cell_type": "code",
   "execution_count": null,
   "id": "ae7ff1c5",
   "metadata": {},
   "outputs": [],
   "source": []
  },
  {
   "cell_type": "code",
   "execution_count": null,
   "id": "f94e77cd",
   "metadata": {},
   "outputs": [],
   "source": []
  },
  {
   "cell_type": "code",
   "execution_count": null,
   "id": "591a9b97",
   "metadata": {},
   "outputs": [],
   "source": []
  }
 ],
 "metadata": {
  "kernelspec": {
   "display_name": "Python 3 (ipykernel)",
   "language": "python",
   "name": "python3"
  },
  "language_info": {
   "codemirror_mode": {
    "name": "ipython",
    "version": 3
   },
   "file_extension": ".py",
   "mimetype": "text/x-python",
   "name": "python",
   "nbconvert_exporter": "python",
   "pygments_lexer": "ipython3",
   "version": "3.9.7"
  }
 },
 "nbformat": 4,
 "nbformat_minor": 5
}
