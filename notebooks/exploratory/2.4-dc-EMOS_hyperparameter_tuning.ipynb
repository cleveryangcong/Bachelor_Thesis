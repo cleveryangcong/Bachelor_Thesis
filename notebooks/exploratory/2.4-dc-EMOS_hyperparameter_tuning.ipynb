{
 "cells": [
  {
   "cell_type": "code",
   "execution_count": 1,
   "id": "5b10a71e",
   "metadata": {},
   "outputs": [
    {
     "data": {
      "application/javascript": [
       "\n",
       "            setTimeout(function() {\n",
       "                var nbb_cell_id = 1;\n",
       "                var nbb_unformatted_code = \"%load_ext nb_black\";\n",
       "                var nbb_formatted_code = \"%load_ext nb_black\";\n",
       "                var nbb_cells = Jupyter.notebook.get_cells();\n",
       "                for (var i = 0; i < nbb_cells.length; ++i) {\n",
       "                    if (nbb_cells[i].input_prompt_number == nbb_cell_id) {\n",
       "                        if (nbb_cells[i].get_text() == nbb_unformatted_code) {\n",
       "                             nbb_cells[i].set_text(nbb_formatted_code);\n",
       "                        }\n",
       "                        break;\n",
       "                    }\n",
       "                }\n",
       "            }, 500);\n",
       "            "
      ],
      "text/plain": [
       "<IPython.core.display.Javascript object>"
      ]
     },
     "metadata": {},
     "output_type": "display_data"
    }
   ],
   "source": [
    "%load_ext nb_black"
   ]
  },
  {
   "cell_type": "code",
   "execution_count": 2,
   "id": "02f81271",
   "metadata": {},
   "outputs": [
    {
     "name": "stderr",
     "output_type": "stream",
     "text": [
      "2023-06-02 16:34:04.107136: W tensorflow/stream_executor/platform/default/dso_loader.cc:64] Could not load dynamic library 'libcudart.so.11.0'; dlerror: libcudart.so.11.0: cannot open shared object file: No such file or directory; LD_LIBRARY_PATH: :/opt/anaconda3/lib/\n",
      "2023-06-02 16:34:04.107157: I tensorflow/stream_executor/cuda/cudart_stub.cc:29] Ignore above cudart dlerror if you do not have a GPU set up on your machine.\n"
     ]
    },
    {
     "data": {
      "application/javascript": [
       "\n",
       "            setTimeout(function() {\n",
       "                var nbb_cell_id = 2;\n",
       "                var nbb_unformatted_code = \"# Helpful\\nimport tqdm\\n\\n# Visualization\\nimport matplotlib.pyplot as plt\\n\\n# My Methods\\nfrom src.utils.CRPS import *\\nfrom src.utils.data_split import *\\nfrom src.models.EMOS import *\\nfrom src.models.EMOS_global.EMOS_global_load_score import *\\nfrom src.models.EMOS_local.EMOS_local_load_score import *\\nfrom src.models.EMOS_local.EMOS_local_load_model import *\\nfrom src.models.EMOS_global.EMOS_global_load_model import *\\nfrom src.models.EMOS_local.EMOS_local_hyper_tune import *\\nimport data.raw.load_data_raw as ldr\\nimport data.processed.load_data_processed as ldp\\nimport data.processed.load_data_processed_denormed as ldpd\\nfrom src.models.CRPS_baseline.CRPS_load import *\\nfrom src.models.EMOS_local.EMOS_local_train import *\";\n",
       "                var nbb_formatted_code = \"# Helpful\\nimport tqdm\\n\\n# Visualization\\nimport matplotlib.pyplot as plt\\n\\n# My Methods\\nfrom src.utils.CRPS import *\\nfrom src.utils.data_split import *\\nfrom src.models.EMOS import *\\nfrom src.models.EMOS_global.EMOS_global_load_score import *\\nfrom src.models.EMOS_local.EMOS_local_load_score import *\\nfrom src.models.EMOS_local.EMOS_local_load_model import *\\nfrom src.models.EMOS_global.EMOS_global_load_model import *\\nfrom src.models.EMOS_local.EMOS_local_hyper_tune import *\\nimport data.raw.load_data_raw as ldr\\nimport data.processed.load_data_processed as ldp\\nimport data.processed.load_data_processed_denormed as ldpd\\nfrom src.models.CRPS_baseline.CRPS_load import *\\nfrom src.models.EMOS_local.EMOS_local_train import *\";\n",
       "                var nbb_cells = Jupyter.notebook.get_cells();\n",
       "                for (var i = 0; i < nbb_cells.length; ++i) {\n",
       "                    if (nbb_cells[i].input_prompt_number == nbb_cell_id) {\n",
       "                        if (nbb_cells[i].get_text() == nbb_unformatted_code) {\n",
       "                             nbb_cells[i].set_text(nbb_formatted_code);\n",
       "                        }\n",
       "                        break;\n",
       "                    }\n",
       "                }\n",
       "            }, 500);\n",
       "            "
      ],
      "text/plain": [
       "<IPython.core.display.Javascript object>"
      ]
     },
     "metadata": {},
     "output_type": "display_data"
    }
   ],
   "source": [
    "# Helpful\n",
    "import tqdm\n",
    "\n",
    "# Visualization\n",
    "import matplotlib.pyplot as plt\n",
    "\n",
    "# My Methods\n",
    "from src.utils.CRPS import *\n",
    "from src.utils.data_split import *\n",
    "from src.models.EMOS import *\n",
    "from src.models.EMOS_global.EMOS_global_load_score import *\n",
    "from src.models.EMOS_local.EMOS_local_load_score import *\n",
    "from src.models.EMOS_local.EMOS_local_load_model import *\n",
    "from src.models.EMOS_global.EMOS_global_load_model import *\n",
    "from src.models.EMOS_local.EMOS_local_hyper_tune import *\n",
    "import data.raw.load_data_raw as ldr\n",
    "import data.processed.load_data_processed as ldp\n",
    "import data.processed.load_data_processed_denormed as ldpd\n",
    "from src.models.CRPS_baseline.CRPS_load import *\n",
    "from src.models.EMOS_local.EMOS_local_train import *"
   ]
  },
  {
   "cell_type": "markdown",
   "id": "9dc805db",
   "metadata": {},
   "source": [
    "### 1. Load Global Hyperparameter Scores"
   ]
  },
  {
   "cell_type": "code",
   "execution_count": null,
   "id": "452a3a7b",
   "metadata": {},
   "outputs": [],
   "source": [
    "EMOS_global_t2m_hyper_scores = EMOS_global_load_hyper_score(\"t2m\")\n",
    "EMOS_global_ws10_hyper_scores = EMOS_global_load_hyper_score(\"ws10\")"
   ]
  },
  {
   "cell_type": "code",
   "execution_count": null,
   "id": "49b20191",
   "metadata": {},
   "outputs": [],
   "source": [
    "EMOS_global_t2m_hyper_scores"
   ]
  },
  {
   "cell_type": "code",
   "execution_count": null,
   "id": "9bee4e96",
   "metadata": {},
   "outputs": [],
   "source": [
    "EMOS_global_ws10_hyper_scores"
   ]
  },
  {
   "cell_type": "markdown",
   "id": "5701e50d",
   "metadata": {},
   "source": [
    "### 2. Load Local Hyperparameter Scores"
   ]
  },
  {
   "cell_type": "code",
   "execution_count": 15,
   "id": "a4037901",
   "metadata": {},
   "outputs": [
    {
     "data": {
      "application/javascript": [
       "\n",
       "            setTimeout(function() {\n",
       "                var nbb_cell_id = 15;\n",
       "                var nbb_unformatted_code = \"EMOS_local_t2m_hyper_scores = EMOS_local_load_hyper_score(\\\"t2m\\\")\\nEMOS_local_ws10_hyper_scores = EMOS_local_load_hyper_score(\\\"ws10\\\")\";\n",
       "                var nbb_formatted_code = \"EMOS_local_t2m_hyper_scores = EMOS_local_load_hyper_score(\\\"t2m\\\")\\nEMOS_local_ws10_hyper_scores = EMOS_local_load_hyper_score(\\\"ws10\\\")\";\n",
       "                var nbb_cells = Jupyter.notebook.get_cells();\n",
       "                for (var i = 0; i < nbb_cells.length; ++i) {\n",
       "                    if (nbb_cells[i].input_prompt_number == nbb_cell_id) {\n",
       "                        if (nbb_cells[i].get_text() == nbb_unformatted_code) {\n",
       "                             nbb_cells[i].set_text(nbb_formatted_code);\n",
       "                        }\n",
       "                        break;\n",
       "                    }\n",
       "                }\n",
       "            }, 500);\n",
       "            "
      ],
      "text/plain": [
       "<IPython.core.display.Javascript object>"
      ]
     },
     "metadata": {},
     "output_type": "display_data"
    }
   ],
   "source": [
    "EMOS_local_t2m_hyper_scores = EMOS_local_load_hyper_score(\"t2m\")\n",
    "EMOS_local_ws10_hyper_scores = EMOS_local_load_hyper_score(\"ws10\")"
   ]
  },
  {
   "cell_type": "code",
   "execution_count": 16,
   "id": "e0182bb8",
   "metadata": {},
   "outputs": [
    {
     "data": {
      "text/plain": [
       "[[(32, 30, 0.01, 'Adam'), 0.3806851086899256],\n",
       " [(32, 30, 0.01, 'Adam'), 0.38007692008828503]]"
      ]
     },
     "execution_count": 16,
     "metadata": {},
     "output_type": "execute_result"
    },
    {
     "data": {
      "application/javascript": [
       "\n",
       "            setTimeout(function() {\n",
       "                var nbb_cell_id = 16;\n",
       "                var nbb_unformatted_code = \"EMOS_local_t2m_hyper_scores\";\n",
       "                var nbb_formatted_code = \"EMOS_local_t2m_hyper_scores\";\n",
       "                var nbb_cells = Jupyter.notebook.get_cells();\n",
       "                for (var i = 0; i < nbb_cells.length; ++i) {\n",
       "                    if (nbb_cells[i].input_prompt_number == nbb_cell_id) {\n",
       "                        if (nbb_cells[i].get_text() == nbb_unformatted_code) {\n",
       "                             nbb_cells[i].set_text(nbb_formatted_code);\n",
       "                        }\n",
       "                        break;\n",
       "                    }\n",
       "                }\n",
       "            }, 500);\n",
       "            "
      ],
      "text/plain": [
       "<IPython.core.display.Javascript object>"
      ]
     },
     "metadata": {},
     "output_type": "display_data"
    }
   ],
   "source": [
    "EMOS_local_t2m_hyper_scores"
   ]
  },
  {
   "cell_type": "code",
   "execution_count": 17,
   "id": "da3a4af8",
   "metadata": {},
   "outputs": [
    {
     "data": {
      "text/plain": [
       "[[(64, 30, 0.1, 'Adam'), 0.5994870296846597],\n",
       " [(32, 30, 0.1, 'Adam'), 0.5986838517471765]]"
      ]
     },
     "execution_count": 17,
     "metadata": {},
     "output_type": "execute_result"
    },
    {
     "data": {
      "application/javascript": [
       "\n",
       "            setTimeout(function() {\n",
       "                var nbb_cell_id = 17;\n",
       "                var nbb_unformatted_code = \"EMOS_local_ws10_hyper_scores\";\n",
       "                var nbb_formatted_code = \"EMOS_local_ws10_hyper_scores\";\n",
       "                var nbb_cells = Jupyter.notebook.get_cells();\n",
       "                for (var i = 0; i < nbb_cells.length; ++i) {\n",
       "                    if (nbb_cells[i].input_prompt_number == nbb_cell_id) {\n",
       "                        if (nbb_cells[i].get_text() == nbb_unformatted_code) {\n",
       "                             nbb_cells[i].set_text(nbb_formatted_code);\n",
       "                        }\n",
       "                        break;\n",
       "                    }\n",
       "                }\n",
       "            }, 500);\n",
       "            "
      ],
      "text/plain": [
       "<IPython.core.display.Javascript object>"
      ]
     },
     "metadata": {},
     "output_type": "display_data"
    }
   ],
   "source": [
    "EMOS_local_ws10_hyper_scores"
   ]
  },
  {
   "cell_type": "markdown",
   "id": "e390e535",
   "metadata": {},
   "source": [
    "### 3. Scores for comparison:"
   ]
  },
  {
   "cell_type": "code",
   "execution_count": 18,
   "id": "755b343f",
   "metadata": {},
   "outputs": [
    {
     "data": {
      "application/javascript": [
       "\n",
       "            setTimeout(function() {\n",
       "                var nbb_cell_id = 18;\n",
       "                var nbb_unformatted_code = \"# Load EMOS local scores\\nEMOS_local_t2m_scores = EMOS_local_load_score(\\\"t2m\\\")\\nEMOS_local_ws10_scores = EMOS_local_load_score(\\\"ws10\\\")\\n\\n# Load EMOS global scores\\nEMOS_global_t2m_scores = EMOS_global_load_score(\\\"t2m\\\")\\nEMOS_global_ws10_scores = EMOS_global_load_score(\\\"ws10\\\")\\n\\n# Load CRPS scores\\nCRPS_global_t2m_scores = crps_load_lead_lat_lon(\\\"t2m\\\")\\nCRPS_global_ws10_scores = crps_load_lead_lat_lon(\\\"ws10\\\")\";\n",
       "                var nbb_formatted_code = \"# Load EMOS local scores\\nEMOS_local_t2m_scores = EMOS_local_load_score(\\\"t2m\\\")\\nEMOS_local_ws10_scores = EMOS_local_load_score(\\\"ws10\\\")\\n\\n# Load EMOS global scores\\nEMOS_global_t2m_scores = EMOS_global_load_score(\\\"t2m\\\")\\nEMOS_global_ws10_scores = EMOS_global_load_score(\\\"ws10\\\")\\n\\n# Load CRPS scores\\nCRPS_global_t2m_scores = crps_load_lead_lat_lon(\\\"t2m\\\")\\nCRPS_global_ws10_scores = crps_load_lead_lat_lon(\\\"ws10\\\")\";\n",
       "                var nbb_cells = Jupyter.notebook.get_cells();\n",
       "                for (var i = 0; i < nbb_cells.length; ++i) {\n",
       "                    if (nbb_cells[i].input_prompt_number == nbb_cell_id) {\n",
       "                        if (nbb_cells[i].get_text() == nbb_unformatted_code) {\n",
       "                             nbb_cells[i].set_text(nbb_formatted_code);\n",
       "                        }\n",
       "                        break;\n",
       "                    }\n",
       "                }\n",
       "            }, 500);\n",
       "            "
      ],
      "text/plain": [
       "<IPython.core.display.Javascript object>"
      ]
     },
     "metadata": {},
     "output_type": "display_data"
    }
   ],
   "source": [
    "# Load EMOS local scores\n",
    "EMOS_local_t2m_scores = EMOS_local_load_score(\"t2m\")\n",
    "# EMOS_local_ws10_scores = EMOS_local_load_score(\"ws10\")\n",
    "\n",
    "# Load EMOS global scores\n",
    "EMOS_global_t2m_scores = EMOS_global_load_score(\"t2m\")\n",
    "EMOS_global_ws10_scores = EMOS_global_load_score(\"ws10\")\n",
    "\n",
    "# Load CRPS scores\n",
    "CRPS_global_t2m_scores = crps_load_lead_lat_lon(\"t2m\")\n",
    "CRPS_global_ws10_scores = crps_load_lead_lat_lon(\"ws10\")"
   ]
  },
  {
   "cell_type": "code",
   "execution_count": 19,
   "id": "12544693",
   "metadata": {},
   "outputs": [
    {
     "name": "stdout",
     "output_type": "stream",
     "text": [
      "Temperature:\n",
      "Lead 0:EMOS_loc: 0.4148695374260971, EMOS_glob: 0.4673401873320892, CRPS: 0.5084816639136492\n",
      "Lead 1:EMOS_loc: 0.4570583921154468, EMOS_glob: 0.5297212701322601, CRPS: 0.5347707002046389\n",
      "Lead 2:EMOS_loc: 0.4764913273333677, EMOS_glob: 0.5105776602793739, CRPS: 0.5150757989800734\n",
      "Lead 3:EMOS_loc: 0.4853422424293378, EMOS_glob: 0.5187042066593011, CRPS: 0.5301602687833538\n",
      "Lead 4:EMOS_loc: 0.5088349645341457, EMOS_glob: 0.5379253302273839, CRPS: 0.5624034501418446\n",
      "Lead 5:EMOS_loc: 0.5484872642343575, EMOS_glob: 0.5924092410007133, CRPS: 0.6306282599852645\n",
      "Lead 6:EMOS_loc: 0.5712123582837434, EMOS_glob: 0.5920924175090567, CRPS: 0.6316119778923832\n",
      "Lead 7:EMOS_loc: 0.5754663166502546, EMOS_glob: 0.6020434806248538, CRPS: 0.6454345388357919\n",
      "Lead 8:EMOS_loc: 0.6026712332169245, EMOS_glob: 0.6251029754078069, CRPS: 0.6802850949781106\n",
      "Lead 9:EMOS_loc: 0.6562236252654708, EMOS_glob: 0.6920910937109535, CRPS: 0.7561511514525252\n",
      "Lead 10:EMOS_loc: 0.6800776498304495, EMOS_glob: 0.6984210795617619, CRPS: 0.7596827249402444\n",
      "Lead 11:EMOS_loc: 0.6794425793146366, EMOS_glob: 0.7010491067649252, CRPS: 0.7671595364524374\n",
      "Lead 12:EMOS_loc: 0.7123190931150641, EMOS_glob: 0.7326259105215014, CRPS: 0.8087436349681829\n",
      "Lead 13:EMOS_loc: 0.7748360011670311, EMOS_glob: 0.8081989710473392, CRPS: 0.8907210185014609\n",
      "Lead 14:EMOS_loc: 0.7952009913101734, EMOS_glob: 0.8107418318323198, CRPS: 0.8895929183430251\n",
      "Lead 15:EMOS_loc: 0.7895533464906054, EMOS_glob: 0.8075659261587096, CRPS: 0.8913402208770865\n",
      "Lead 16:EMOS_loc: 0.8244157225737196, EMOS_glob: 0.8419100467688746, CRPS: 0.9354666921537256\n",
      "Lead 17:EMOS_loc: 0.8987535461063973, EMOS_glob: 0.9272685510719906, CRPS: 1.030760697007392\n",
      "Lead 18:EMOS_loc: 0.911990312493202, EMOS_glob: 0.9238354518379173, CRPS: 1.020928305756169\n",
      "Lead 19:EMOS_loc: 0.8980970378732857, EMOS_glob: 0.9149419408923763, CRPS: 1.011146119667486\n",
      "Lead 20:EMOS_loc: 0.9337742641433827, EMOS_glob: 0.9480856381547978, CRPS: 1.0559743772319934\n",
      "Lead 21:EMOS_loc: 1.024922979931499, EMOS_glob: 1.0535067163559073, CRPS: 1.170507971000092\n",
      "Lead 22:EMOS_loc: 1.0273314696568663, EMOS_glob: 1.0385039484335057, CRPS: 1.1471350159491147\n",
      "Lead 23:EMOS_loc: 1.0024411008446334, EMOS_glob: 1.0174896780726688, CRPS: 1.1231032795400633\n",
      "Lead 24:EMOS_loc: 1.0384650106563948, EMOS_glob: 1.049354167422327, CRPS: 1.1665183732402151\n",
      "Lead 25:EMOS_loc: 1.1369841677869823, EMOS_glob: 1.155104391351463, CRPS: 1.291409822220935\n",
      "Lead 26:EMOS_loc: 1.1309084264736469, EMOS_glob: 1.138138461370122, CRPS: 1.2553212202206236\n",
      "Lead 27:EMOS_loc: 1.0945496497467657, EMOS_glob: 1.1036528262859309, CRPS: 1.2185923742165932\n",
      "Lead 28:EMOS_loc: 1.1299233835071807, EMOS_glob: 1.1357242519091395, CRPS: 1.261623224976432\n",
      "Lead 29:EMOS_loc: 1.2459260186081393, EMOS_glob: 1.2656613124592335, CRPS: 1.4120354238676378\n",
      "Lead 30:EMOS_loc: 1.2266892901786237, EMOS_glob: 1.225492003591844, CRPS: 1.3563336012079834\n"
     ]
    },
    {
     "data": {
      "application/javascript": [
       "\n",
       "            setTimeout(function() {\n",
       "                var nbb_cell_id = 19;\n",
       "                var nbb_unformatted_code = \"print(\\\"Temperature:\\\")\\nfor lead_time in range(len(EMOS_local_t2m_scores)):\\n    print(\\n        f\\\"Lead {lead_time}:EMOS_loc: {EMOS_local_t2m_scores[lead_time].mean()}, EMOS_glob: {EMOS_global_t2m_scores[lead_time].mean()}, CRPS: {CRPS_global_t2m_scores[lead_time].mean()}\\\"\\n    )\";\n",
       "                var nbb_formatted_code = \"print(\\\"Temperature:\\\")\\nfor lead_time in range(len(EMOS_local_t2m_scores)):\\n    print(\\n        f\\\"Lead {lead_time}:EMOS_loc: {EMOS_local_t2m_scores[lead_time].mean()}, EMOS_glob: {EMOS_global_t2m_scores[lead_time].mean()}, CRPS: {CRPS_global_t2m_scores[lead_time].mean()}\\\"\\n    )\";\n",
       "                var nbb_cells = Jupyter.notebook.get_cells();\n",
       "                for (var i = 0; i < nbb_cells.length; ++i) {\n",
       "                    if (nbb_cells[i].input_prompt_number == nbb_cell_id) {\n",
       "                        if (nbb_cells[i].get_text() == nbb_unformatted_code) {\n",
       "                             nbb_cells[i].set_text(nbb_formatted_code);\n",
       "                        }\n",
       "                        break;\n",
       "                    }\n",
       "                }\n",
       "            }, 500);\n",
       "            "
      ],
      "text/plain": [
       "<IPython.core.display.Javascript object>"
      ]
     },
     "metadata": {},
     "output_type": "display_data"
    }
   ],
   "source": [
    "print(\"Temperature:\")\n",
    "for lead_time in range(len(EMOS_local_t2m_scores)):\n",
    "    print(\n",
    "        f\"Lead {lead_time}:EMOS_loc: {EMOS_local_t2m_scores[lead_time].mean()}, EMOS_glob: {EMOS_global_t2m_scores[lead_time].mean()}, CRPS: {CRPS_global_t2m_scores[lead_time].mean()}\"\n",
    "    )"
   ]
  },
  {
   "cell_type": "code",
   "execution_count": 13,
   "id": "898a9d43",
   "metadata": {},
   "outputs": [
    {
     "name": "stdout",
     "output_type": "stream",
     "text": [
      "wind speed:\n",
      "Lead 0: EMOS_glob: 0.4687979519367218, CRPS: 0.4708288311958313\n",
      "Lead 1: EMOS_glob: 0.5481671690940857, CRPS: 0.5626273155212402\n",
      "Lead 2: EMOS_glob: 0.5383585095405579, CRPS: 0.5660684704780579\n",
      "Lead 3: EMOS_glob: 0.5816507935523987, CRPS: 0.6244665384292603\n",
      "Lead 4: EMOS_glob: 0.5986496806144714, CRPS: 0.6273626685142517\n",
      "Lead 5: EMOS_glob: 0.6971593499183655, CRPS: 0.7419385313987732\n",
      "Lead 6: EMOS_glob: 0.6992777585983276, CRPS: 0.7447009086608887\n",
      "Lead 7: EMOS_glob: 0.7526292204856873, CRPS: 0.8054525852203369\n",
      "Lead 8: EMOS_glob: 0.791255533695221, CRPS: 0.834025502204895\n",
      "Lead 9: EMOS_glob: 0.8987031579017639, CRPS: 0.9581987261772156\n",
      "Lead 10: EMOS_glob: 0.8913975954055786, CRPS: 0.9486294984817505\n",
      "Lead 11: EMOS_glob: 0.9364757537841797, CRPS: 0.997710645198822\n",
      "Lead 12: EMOS_glob: 0.9739682078361511, CRPS: 1.0248152017593384\n",
      "Lead 13: EMOS_glob: 1.0816439390182495, CRPS: 1.147271752357483\n",
      "Lead 14: EMOS_glob: 1.061387538909912, CRPS: 1.120965838432312\n",
      "Lead 15: EMOS_glob: 1.0941627025604248, CRPS: 1.1554666757583618\n",
      "Lead 16: EMOS_glob: 1.122457504272461, CRPS: 1.1716784238815308\n",
      "Lead 17: EMOS_glob: 1.218828797340393, CRPS: 1.2803926467895508\n",
      "Lead 18: EMOS_glob: 1.186181664466858, CRPS: 1.2406598329544067\n",
      "Lead 19: EMOS_glob: 1.208435297012329, CRPS: 1.2650195360183716\n",
      "Lead 20: EMOS_glob: 1.233190655708313, CRPS: 1.2812318801879883\n",
      "Lead 21: EMOS_glob: 1.331240177154541, CRPS: 1.3930284976959229\n",
      "Lead 22: EMOS_glob: 1.2901597023010254, CRPS: 1.3470748662948608\n",
      "Lead 23: EMOS_glob: 1.3045237064361572, CRPS: 1.3625421524047852\n",
      "Lead 24: EMOS_glob: 1.3217682838439941, CRPS: 1.370863676071167\n",
      "Lead 25: EMOS_glob: 1.4142807722091675, CRPS: 1.476784110069275\n",
      "Lead 26: EMOS_glob: 1.3631004095077515, CRPS: 1.4213701486587524\n",
      "Lead 27: EMOS_glob: 1.3705699443817139, CRPS: 1.4293179512023926\n",
      "Lead 28: EMOS_glob: 1.382328987121582, CRPS: 1.4322772026062012\n",
      "Lead 29: EMOS_glob: 1.472295880317688, CRPS: 1.536927580833435\n",
      "Lead 30: EMOS_glob: 1.411036491394043, CRPS: 1.4698940515518188\n"
     ]
    },
    {
     "data": {
      "application/javascript": [
       "\n",
       "            setTimeout(function() {\n",
       "                var nbb_cell_id = 13;\n",
       "                var nbb_unformatted_code = \"print(\\\"wind speed:\\\")\\nfor lead_time in range(len(EMOS_global_ws10_scores)):\\n    print(\\n        f\\\"Lead {lead_time}: EMOS_glob: {EMOS_global_ws10_scores[lead_time].mean()}, CRPS: {CRPS_global_ws10_scores[lead_time].mean()}\\\"\\n    )\";\n",
       "                var nbb_formatted_code = \"print(\\\"wind speed:\\\")\\nfor lead_time in range(len(EMOS_global_ws10_scores)):\\n    print(\\n        f\\\"Lead {lead_time}: EMOS_glob: {EMOS_global_ws10_scores[lead_time].mean()}, CRPS: {CRPS_global_ws10_scores[lead_time].mean()}\\\"\\n    )\";\n",
       "                var nbb_cells = Jupyter.notebook.get_cells();\n",
       "                for (var i = 0; i < nbb_cells.length; ++i) {\n",
       "                    if (nbb_cells[i].input_prompt_number == nbb_cell_id) {\n",
       "                        if (nbb_cells[i].get_text() == nbb_unformatted_code) {\n",
       "                             nbb_cells[i].set_text(nbb_formatted_code);\n",
       "                        }\n",
       "                        break;\n",
       "                    }\n",
       "                }\n",
       "            }, 500);\n",
       "            "
      ],
      "text/plain": [
       "<IPython.core.display.Javascript object>"
      ]
     },
     "metadata": {},
     "output_type": "display_data"
    }
   ],
   "source": [
    "print(\"wind speed:\")\n",
    "for lead_time in range(len(EMOS_global_ws10_scores)):\n",
    "    print(\n",
    "        f\"Lead {lead_time}: EMOS_glob: {EMOS_global_ws10_scores[lead_time].mean()}, CRPS: {CRPS_global_ws10_scores[lead_time].mean()}\"\n",
    "    )"
   ]
  },
  {
   "cell_type": "code",
   "execution_count": null,
   "id": "70ae610d",
   "metadata": {},
   "outputs": [],
   "source": []
  }
 ],
 "metadata": {
  "kernelspec": {
   "display_name": "Python 3 (ipykernel)",
   "language": "python",
   "name": "python3"
  },
  "language_info": {
   "codemirror_mode": {
    "name": "ipython",
    "version": 3
   },
   "file_extension": ".py",
   "mimetype": "text/x-python",
   "name": "python",
   "nbconvert_exporter": "python",
   "pygments_lexer": "ipython3",
   "version": "3.9.7"
  }
 },
 "nbformat": 4,
 "nbformat_minor": 5
}
