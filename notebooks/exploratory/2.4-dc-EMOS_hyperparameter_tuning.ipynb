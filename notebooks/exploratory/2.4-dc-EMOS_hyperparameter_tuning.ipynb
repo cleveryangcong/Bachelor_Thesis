{
 "cells": [
  {
   "cell_type": "code",
   "execution_count": 21,
   "id": "5b10a71e",
   "metadata": {},
   "outputs": [
    {
     "name": "stdout",
     "output_type": "stream",
     "text": [
      "The nb_black extension is already loaded. To reload it, use:\n",
      "  %reload_ext nb_black\n"
     ]
    },
    {
     "data": {
      "application/javascript": [
       "\n",
       "            setTimeout(function() {\n",
       "                var nbb_cell_id = 21;\n",
       "                var nbb_unformatted_code = \"%load_ext nb_black\";\n",
       "                var nbb_formatted_code = \"%load_ext nb_black\";\n",
       "                var nbb_cells = Jupyter.notebook.get_cells();\n",
       "                for (var i = 0; i < nbb_cells.length; ++i) {\n",
       "                    if (nbb_cells[i].input_prompt_number == nbb_cell_id) {\n",
       "                        if (nbb_cells[i].get_text() == nbb_unformatted_code) {\n",
       "                             nbb_cells[i].set_text(nbb_formatted_code);\n",
       "                        }\n",
       "                        break;\n",
       "                    }\n",
       "                }\n",
       "            }, 500);\n",
       "            "
      ],
      "text/plain": [
       "<IPython.core.display.Javascript object>"
      ]
     },
     "metadata": {},
     "output_type": "display_data"
    }
   ],
   "source": [
    "%load_ext nb_black"
   ]
  },
  {
   "cell_type": "code",
   "execution_count": 22,
   "id": "02f81271",
   "metadata": {},
   "outputs": [
    {
     "data": {
      "application/javascript": [
       "\n",
       "            setTimeout(function() {\n",
       "                var nbb_cell_id = 22;\n",
       "                var nbb_unformatted_code = \"# Helpful\\nimport tqdm\\n\\n# Visualization\\nimport matplotlib.pyplot as plt\\n\\n# My Methods\\nfrom src.utils.CRPS import *\\nfrom src.utils.data_split import *\\nfrom src.models.EMOS import *\\nfrom src.models.EMOS_global.EMOS_global_load_score import *\\nfrom src.models.EMOS_local.EMOS_local_load_score import *\\nfrom src.models.EMOS_local.EMOS_local_load_model import *\\nfrom src.models.EMOS_global.EMOS_global_load_model import *\\nfrom src.models.EMOS_local.EMOS_local_hyper_tune import *\\nimport data.raw.load_data_raw as ldr\\nimport data.processed.load_data_processed as ldp\\nimport data.processed.load_data_processed_denormed as ldpd\\nfrom src.models.CRPS_baseline.CRPS_load import *\\nfrom src.models.EMOS_local.EMOS_local_train import *\";\n",
       "                var nbb_formatted_code = \"# Helpful\\nimport tqdm\\n\\n# Visualization\\nimport matplotlib.pyplot as plt\\n\\n# My Methods\\nfrom src.utils.CRPS import *\\nfrom src.utils.data_split import *\\nfrom src.models.EMOS import *\\nfrom src.models.EMOS_global.EMOS_global_load_score import *\\nfrom src.models.EMOS_local.EMOS_local_load_score import *\\nfrom src.models.EMOS_local.EMOS_local_load_model import *\\nfrom src.models.EMOS_global.EMOS_global_load_model import *\\nfrom src.models.EMOS_local.EMOS_local_hyper_tune import *\\nimport data.raw.load_data_raw as ldr\\nimport data.processed.load_data_processed as ldp\\nimport data.processed.load_data_processed_denormed as ldpd\\nfrom src.models.CRPS_baseline.CRPS_load import *\\nfrom src.models.EMOS_local.EMOS_local_train import *\";\n",
       "                var nbb_cells = Jupyter.notebook.get_cells();\n",
       "                for (var i = 0; i < nbb_cells.length; ++i) {\n",
       "                    if (nbb_cells[i].input_prompt_number == nbb_cell_id) {\n",
       "                        if (nbb_cells[i].get_text() == nbb_unformatted_code) {\n",
       "                             nbb_cells[i].set_text(nbb_formatted_code);\n",
       "                        }\n",
       "                        break;\n",
       "                    }\n",
       "                }\n",
       "            }, 500);\n",
       "            "
      ],
      "text/plain": [
       "<IPython.core.display.Javascript object>"
      ]
     },
     "metadata": {},
     "output_type": "display_data"
    }
   ],
   "source": [
    "# Helpful\n",
    "import tqdm\n",
    "\n",
    "# Visualization\n",
    "import matplotlib.pyplot as plt\n",
    "\n",
    "# My Methods\n",
    "from src.utils.CRPS import *\n",
    "from src.utils.data_split import *\n",
    "from src.models.EMOS import *\n",
    "from src.models.EMOS_global.EMOS_global_load_score import *\n",
    "from src.models.EMOS_local.EMOS_local_load_score import *\n",
    "from src.models.EMOS_local.EMOS_local_load_model import *\n",
    "from src.models.EMOS_global.EMOS_global_load_model import *\n",
    "from src.models.EMOS_local.EMOS_local_hyper_tune import *\n",
    "import data.raw.load_data_raw as ldr\n",
    "import data.processed.load_data_processed as ldp\n",
    "import data.processed.load_data_processed_denormed as ldpd\n",
    "from src.models.CRPS_baseline.CRPS_load import *\n",
    "from src.models.EMOS_local.EMOS_local_train import *"
   ]
  },
  {
   "cell_type": "markdown",
   "id": "f10fc289",
   "metadata": {},
   "source": [
    "### 0. Set up"
   ]
  },
  {
   "cell_type": "code",
   "execution_count": 23,
   "id": "9a150fc0",
   "metadata": {},
   "outputs": [
    {
     "data": {
      "application/javascript": [
       "\n",
       "            setTimeout(function() {\n",
       "                var nbb_cell_id = 23;\n",
       "                var nbb_unformatted_code = \"def print_results(EMOS_global_t2m_hyper_scores, lead_num):\\n    print(\\n        f\\\"Best params {EMOS_global_t2m_hyper_scores[lead_num][0]} score: {EMOS_global_t2m_hyper_scores[lead_num][1]} ,in lead_time {EMOS_global_t2m_hyper_scores[lead_num][2]}\\\"\\n    )\\n\\n    for i in range(len(EMOS_global_t2m_hyper_scores[lead_num][3])):\\n        print(\\n            EMOS_global_t2m_hyper_scores[lead_num][3][i],\\n            EMOS_global_t2m_hyper_scores[lead_num][4][i],\\n        )\";\n",
       "                var nbb_formatted_code = \"def print_results(EMOS_global_t2m_hyper_scores, lead_num):\\n    print(\\n        f\\\"Best params {EMOS_global_t2m_hyper_scores[lead_num][0]} score: {EMOS_global_t2m_hyper_scores[lead_num][1]} ,in lead_time {EMOS_global_t2m_hyper_scores[lead_num][2]}\\\"\\n    )\\n\\n    for i in range(len(EMOS_global_t2m_hyper_scores[lead_num][3])):\\n        print(\\n            EMOS_global_t2m_hyper_scores[lead_num][3][i],\\n            EMOS_global_t2m_hyper_scores[lead_num][4][i],\\n        )\";\n",
       "                var nbb_cells = Jupyter.notebook.get_cells();\n",
       "                for (var i = 0; i < nbb_cells.length; ++i) {\n",
       "                    if (nbb_cells[i].input_prompt_number == nbb_cell_id) {\n",
       "                        if (nbb_cells[i].get_text() == nbb_unformatted_code) {\n",
       "                             nbb_cells[i].set_text(nbb_formatted_code);\n",
       "                        }\n",
       "                        break;\n",
       "                    }\n",
       "                }\n",
       "            }, 500);\n",
       "            "
      ],
      "text/plain": [
       "<IPython.core.display.Javascript object>"
      ]
     },
     "metadata": {},
     "output_type": "display_data"
    }
   ],
   "source": [
    "def print_results(EMOS_global_t2m_hyper_scores, lead_num):\n",
    "    print(\n",
    "        f\"Best params {EMOS_global_t2m_hyper_scores[lead_num][0]} score: {EMOS_global_t2m_hyper_scores[lead_num][1]} ,in lead_time {EMOS_global_t2m_hyper_scores[lead_num][2]}\"\n",
    "    )\n",
    "\n",
    "    for i in range(len(EMOS_global_t2m_hyper_scores[lead_num][3])):\n",
    "        print(\n",
    "            EMOS_global_t2m_hyper_scores[lead_num][3][i],\n",
    "            EMOS_global_t2m_hyper_scores[lead_num][4][i],\n",
    "        )"
   ]
  },
  {
   "cell_type": "markdown",
   "id": "9dc805db",
   "metadata": {},
   "source": [
    "### 1. Load Global Hyperparameter Scores"
   ]
  },
  {
   "cell_type": "code",
   "execution_count": 24,
   "id": "452a3a7b",
   "metadata": {},
   "outputs": [
    {
     "data": {
      "application/javascript": [
       "\n",
       "            setTimeout(function() {\n",
       "                var nbb_cell_id = 24;\n",
       "                var nbb_unformatted_code = \"EMOS_global_t2m_hyper_scores = EMOS_global_load_hyper_score(\\\"t2m\\\")\\nEMOS_global_ws10_hyper_scores = EMOS_global_load_hyper_score(\\\"ws10\\\")\";\n",
       "                var nbb_formatted_code = \"EMOS_global_t2m_hyper_scores = EMOS_global_load_hyper_score(\\\"t2m\\\")\\nEMOS_global_ws10_hyper_scores = EMOS_global_load_hyper_score(\\\"ws10\\\")\";\n",
       "                var nbb_cells = Jupyter.notebook.get_cells();\n",
       "                for (var i = 0; i < nbb_cells.length; ++i) {\n",
       "                    if (nbb_cells[i].input_prompt_number == nbb_cell_id) {\n",
       "                        if (nbb_cells[i].get_text() == nbb_unformatted_code) {\n",
       "                             nbb_cells[i].set_text(nbb_formatted_code);\n",
       "                        }\n",
       "                        break;\n",
       "                    }\n",
       "                }\n",
       "            }, 500);\n",
       "            "
      ],
      "text/plain": [
       "<IPython.core.display.Javascript object>"
      ]
     },
     "metadata": {},
     "output_type": "display_data"
    }
   ],
   "source": [
    "EMOS_global_t2m_hyper_scores = EMOS_global_load_hyper_score(\"t2m\")\n",
    "EMOS_global_ws10_hyper_scores = EMOS_global_load_hyper_score(\"ws10\")"
   ]
  },
  {
   "cell_type": "code",
   "execution_count": 25,
   "id": "49b20191",
   "metadata": {},
   "outputs": [
    {
     "name": "stdout",
     "output_type": "stream",
     "text": [
      "T2m-length:3, ws10-length:3\n"
     ]
    },
    {
     "data": {
      "application/javascript": [
       "\n",
       "            setTimeout(function() {\n",
       "                var nbb_cell_id = 25;\n",
       "                var nbb_unformatted_code = \"print(\\n    f\\\"T2m-length:{len(EMOS_global_t2m_hyper_scores)}, ws10-length:{len(EMOS_global_ws10_hyper_scores)}\\\"\\n)\";\n",
       "                var nbb_formatted_code = \"print(\\n    f\\\"T2m-length:{len(EMOS_global_t2m_hyper_scores)}, ws10-length:{len(EMOS_global_ws10_hyper_scores)}\\\"\\n)\";\n",
       "                var nbb_cells = Jupyter.notebook.get_cells();\n",
       "                for (var i = 0; i < nbb_cells.length; ++i) {\n",
       "                    if (nbb_cells[i].input_prompt_number == nbb_cell_id) {\n",
       "                        if (nbb_cells[i].get_text() == nbb_unformatted_code) {\n",
       "                             nbb_cells[i].set_text(nbb_formatted_code);\n",
       "                        }\n",
       "                        break;\n",
       "                    }\n",
       "                }\n",
       "            }, 500);\n",
       "            "
      ],
      "text/plain": [
       "<IPython.core.display.Javascript object>"
      ]
     },
     "metadata": {},
     "output_type": "display_data"
    }
   ],
   "source": [
    "print(\n",
    "    f\"T2m-length:{len(EMOS_global_t2m_hyper_scores)}, ws10-length:{len(EMOS_global_ws10_hyper_scores)}\"\n",
    ")"
   ]
  },
  {
   "cell_type": "markdown",
   "id": "ea6cc7f5",
   "metadata": {},
   "source": [
    "##### Temperature"
   ]
  },
  {
   "cell_type": "code",
   "execution_count": 26,
   "id": "d6d0483f",
   "metadata": {},
   "outputs": [
    {
     "name": "stdout",
     "output_type": "stream",
     "text": [
      "Best params (4096, 10, 0.001, 'Adam') score: 0.45013427734375 ,in lead_time 0\n",
      "(1024, 10, 0.1, 'Adam') 0.4893634617328644\n",
      "(1024, 10, 0.05, 'Adam') 0.45485055446624756\n",
      "(1024, 10, 0.01, 'Adam') 0.4507754147052765\n",
      "(1024, 10, 0.005, 'Adam') 0.45106062293052673\n",
      "(1024, 10, 0.001, 'Adam') 0.4501516819000244\n",
      "(2048, 10, 0.1, 'Adam') 0.47946423292160034\n",
      "(2048, 10, 0.05, 'Adam') 0.4528166353702545\n",
      "(2048, 10, 0.01, 'Adam') 0.4508745074272156\n",
      "(2048, 10, 0.005, 'Adam') 0.450177401304245\n",
      "(2048, 10, 0.001, 'Adam') 0.4502573013305664\n",
      "(4096, 10, 0.1, 'Adam') 0.4852834939956665\n",
      "(4096, 10, 0.05, 'Adam') 0.45073962211608887\n",
      "(4096, 10, 0.01, 'Adam') 0.45114263892173767\n",
      "(4096, 10, 0.005, 'Adam') 0.4501672089099884\n",
      "(4096, 10, 0.001, 'Adam') 0.45013427734375\n",
      "(8192, 10, 0.1, 'Adam') 0.5087556838989258\n",
      "(8192, 10, 0.05, 'Adam') 0.45030805468559265\n",
      "(8192, 10, 0.01, 'Adam') 0.4503491222858429\n",
      "(8192, 10, 0.005, 'Adam') 0.45018625259399414\n",
      "(8192, 10, 0.001, 'Adam') 0.45037367939949036\n"
     ]
    },
    {
     "data": {
      "application/javascript": [
       "\n",
       "            setTimeout(function() {\n",
       "                var nbb_cell_id = 26;\n",
       "                var nbb_unformatted_code = \"print_results(EMOS_global_t2m_hyper_scores, 0)\";\n",
       "                var nbb_formatted_code = \"print_results(EMOS_global_t2m_hyper_scores, 0)\";\n",
       "                var nbb_cells = Jupyter.notebook.get_cells();\n",
       "                for (var i = 0; i < nbb_cells.length; ++i) {\n",
       "                    if (nbb_cells[i].input_prompt_number == nbb_cell_id) {\n",
       "                        if (nbb_cells[i].get_text() == nbb_unformatted_code) {\n",
       "                             nbb_cells[i].set_text(nbb_formatted_code);\n",
       "                        }\n",
       "                        break;\n",
       "                    }\n",
       "                }\n",
       "            }, 500);\n",
       "            "
      ],
      "text/plain": [
       "<IPython.core.display.Javascript object>"
      ]
     },
     "metadata": {},
     "output_type": "display_data"
    }
   ],
   "source": [
    "print_results(EMOS_global_t2m_hyper_scores, 0)"
   ]
  },
  {
   "cell_type": "code",
   "execution_count": 27,
   "id": "29fa8878",
   "metadata": {},
   "outputs": [
    {
     "name": "stdout",
     "output_type": "stream",
     "text": [
      "Best params (8192, 10, 0.001, 'Adam') score: 0.7493733167648315 ,in lead_time 15\n",
      "(1024, 10, 0.1, 'Adam') 0.7904638648033142\n",
      "(1024, 10, 0.05, 'Adam') 0.7540763020515442\n",
      "(1024, 10, 0.01, 'Adam') 0.7501434683799744\n",
      "(1024, 10, 0.005, 'Adam') 0.7505483031272888\n",
      "(1024, 10, 0.001, 'Adam') 0.7497263550758362\n",
      "(2048, 10, 0.1, 'Adam') 0.7617718577384949\n",
      "(2048, 10, 0.05, 'Adam') 0.7501409649848938\n",
      "(2048, 10, 0.01, 'Adam') 0.7496245503425598\n",
      "(2048, 10, 0.005, 'Adam') 0.7502866387367249\n",
      "(2048, 10, 0.001, 'Adam') 0.7494620084762573\n",
      "(4096, 10, 0.1, 'Adam') 0.7718427181243896\n",
      "(4096, 10, 0.05, 'Adam') 0.7501612901687622\n",
      "(4096, 10, 0.01, 'Adam') 0.749976396560669\n",
      "(4096, 10, 0.005, 'Adam') 0.7494763135910034\n",
      "(4096, 10, 0.001, 'Adam') 0.7495089173316956\n",
      "(8192, 10, 0.1, 'Adam') 0.7810683846473694\n",
      "(8192, 10, 0.05, 'Adam') 0.7517670392990112\n",
      "(8192, 10, 0.01, 'Adam') 0.7497243285179138\n",
      "(8192, 10, 0.005, 'Adam') 0.7496926784515381\n",
      "(8192, 10, 0.001, 'Adam') 0.7493733167648315\n"
     ]
    },
    {
     "data": {
      "application/javascript": [
       "\n",
       "            setTimeout(function() {\n",
       "                var nbb_cell_id = 27;\n",
       "                var nbb_unformatted_code = \"print_results(EMOS_global_t2m_hyper_scores, 1)\";\n",
       "                var nbb_formatted_code = \"print_results(EMOS_global_t2m_hyper_scores, 1)\";\n",
       "                var nbb_cells = Jupyter.notebook.get_cells();\n",
       "                for (var i = 0; i < nbb_cells.length; ++i) {\n",
       "                    if (nbb_cells[i].input_prompt_number == nbb_cell_id) {\n",
       "                        if (nbb_cells[i].get_text() == nbb_unformatted_code) {\n",
       "                             nbb_cells[i].set_text(nbb_formatted_code);\n",
       "                        }\n",
       "                        break;\n",
       "                    }\n",
       "                }\n",
       "            }, 500);\n",
       "            "
      ],
      "text/plain": [
       "<IPython.core.display.Javascript object>"
      ]
     },
     "metadata": {},
     "output_type": "display_data"
    }
   ],
   "source": [
    "print_results(EMOS_global_t2m_hyper_scores, 1)"
   ]
  },
  {
   "cell_type": "code",
   "execution_count": 28,
   "id": "a87026ce",
   "metadata": {},
   "outputs": [
    {
     "name": "stdout",
     "output_type": "stream",
     "text": [
      "Best params (2048, 10, 0.01, 'Adam') score: 1.14043390750885 ,in lead_time 30\n",
      "(1024, 10, 0.1, 'Adam') 1.1565638780593872\n",
      "(1024, 10, 0.05, 'Adam') 1.1418256759643555\n",
      "(1024, 10, 0.01, 'Adam') 1.1426897048950195\n",
      "(1024, 10, 0.005, 'Adam') 1.1411614418029785\n",
      "(1024, 10, 0.001, 'Adam') 1.1406571865081787\n",
      "(2048, 10, 0.1, 'Adam') 1.1456468105316162\n",
      "(2048, 10, 0.05, 'Adam') 1.141500473022461\n",
      "(2048, 10, 0.01, 'Adam') 1.14043390750885\n",
      "(2048, 10, 0.005, 'Adam') 1.1416186094284058\n",
      "(2048, 10, 0.001, 'Adam') 1.141808032989502\n",
      "(4096, 10, 0.1, 'Adam') 1.1449265480041504\n",
      "(4096, 10, 0.05, 'Adam') 1.1533310413360596\n",
      "(4096, 10, 0.01, 'Adam') 1.1412535905838013\n",
      "(4096, 10, 0.005, 'Adam') 1.1413679122924805\n",
      "(4096, 10, 0.001, 'Adam') 1.1412477493286133\n",
      "(8192, 10, 0.1, 'Adam') 1.1749733686447144\n",
      "(8192, 10, 0.05, 'Adam') 1.1452232599258423\n",
      "(8192, 10, 0.01, 'Adam') 1.14060640335083\n",
      "(8192, 10, 0.005, 'Adam') 1.1419819593429565\n",
      "(8192, 10, 0.001, 'Adam') 1.1423572301864624\n"
     ]
    },
    {
     "data": {
      "application/javascript": [
       "\n",
       "            setTimeout(function() {\n",
       "                var nbb_cell_id = 28;\n",
       "                var nbb_unformatted_code = \"print_results(EMOS_global_t2m_hyper_scores, 2)\";\n",
       "                var nbb_formatted_code = \"print_results(EMOS_global_t2m_hyper_scores, 2)\";\n",
       "                var nbb_cells = Jupyter.notebook.get_cells();\n",
       "                for (var i = 0; i < nbb_cells.length; ++i) {\n",
       "                    if (nbb_cells[i].input_prompt_number == nbb_cell_id) {\n",
       "                        if (nbb_cells[i].get_text() == nbb_unformatted_code) {\n",
       "                             nbb_cells[i].set_text(nbb_formatted_code);\n",
       "                        }\n",
       "                        break;\n",
       "                    }\n",
       "                }\n",
       "            }, 500);\n",
       "            "
      ],
      "text/plain": [
       "<IPython.core.display.Javascript object>"
      ]
     },
     "metadata": {},
     "output_type": "display_data"
    }
   ],
   "source": [
    "print_results(EMOS_global_t2m_hyper_scores, 2)"
   ]
  },
  {
   "cell_type": "markdown",
   "id": "63fae183",
   "metadata": {},
   "source": [
    "##### Wind speed"
   ]
  },
  {
   "cell_type": "code",
   "execution_count": 29,
   "id": "11bb2131",
   "metadata": {},
   "outputs": [
    {
     "name": "stdout",
     "output_type": "stream",
     "text": [
      "Best params (2048, 10, 0.1, 'SGD') score: 0.6247866153717041 ,in lead_time 0\n",
      "(1024, 10, 0.1, 'Adam') 0.6248735785484314\n",
      "(1024, 10, 0.1, 'SGD') 0.6248950958251953\n",
      "(1024, 10, 0.05, 'Adam') 0.6250014901161194\n",
      "(1024, 10, 0.05, 'SGD') 0.6278693079948425\n",
      "(1024, 10, 0.01, 'Adam') 0.626532793045044\n",
      "(1024, 10, 0.01, 'SGD') 0.6269963383674622\n",
      "(1024, 10, 0.005, 'Adam') 0.6275923848152161\n",
      "(1024, 10, 0.005, 'SGD') 0.6273010969161987\n",
      "(1024, 10, 0.001, 'Adam') 0.6270033717155457\n",
      "(1024, 10, 0.001, 'SGD') 0.6279010772705078\n",
      "(2048, 10, 0.1, 'Adam') 0.6256857514381409\n",
      "(2048, 10, 0.1, 'SGD') 0.6247866153717041\n",
      "(2048, 10, 0.05, 'Adam') 0.6279352903366089\n",
      "(2048, 10, 0.05, 'SGD') 0.6269434094429016\n",
      "(2048, 10, 0.01, 'Adam') 0.6261811852455139\n",
      "(2048, 10, 0.01, 'SGD') 0.6272349953651428\n",
      "(2048, 10, 0.005, 'Adam') 0.6268596053123474\n",
      "(2048, 10, 0.005, 'SGD') 0.6277083158493042\n",
      "(2048, 10, 0.001, 'Adam') 0.6272319555282593\n",
      "(2048, 10, 0.001, 'SGD') 0.6278863549232483\n",
      "(4096, 10, 0.1, 'Adam') 0.6264699101448059\n",
      "(4096, 10, 0.1, 'SGD') 0.6260725855827332\n",
      "(4096, 10, 0.05, 'Adam') 0.6250458359718323\n",
      "(4096, 10, 0.05, 'SGD') 0.6265668272972107\n",
      "(4096, 10, 0.01, 'Adam') 0.6263947486877441\n",
      "(4096, 10, 0.01, 'SGD') 0.626876711845398\n",
      "(4096, 10, 0.005, 'Adam') 0.6267732381820679\n",
      "(4096, 10, 0.005, 'SGD') 0.6272881031036377\n",
      "(4096, 10, 0.001, 'Adam') 0.6273700594902039\n",
      "(4096, 10, 0.001, 'SGD') 0.6278886198997498\n",
      "(8192, 10, 0.1, 'Adam') 0.6253103017807007\n",
      "(8192, 10, 0.1, 'SGD') 0.625112771987915\n",
      "(8192, 10, 0.05, 'Adam') 0.6265828609466553\n",
      "(8192, 10, 0.05, 'SGD') 0.6264730095863342\n",
      "(8192, 10, 0.01, 'Adam') 0.6271582245826721\n",
      "(8192, 10, 0.01, 'SGD') 0.6275083422660828\n",
      "(8192, 10, 0.005, 'Adam') 0.6271997690200806\n",
      "(8192, 10, 0.005, 'SGD') 0.6278068423271179\n",
      "(8192, 10, 0.001, 'Adam') 0.6276947259902954\n",
      "(8192, 10, 0.001, 'SGD') 0.6290066242218018\n"
     ]
    },
    {
     "data": {
      "application/javascript": [
       "\n",
       "            setTimeout(function() {\n",
       "                var nbb_cell_id = 29;\n",
       "                var nbb_unformatted_code = \"print_results(EMOS_global_ws10_hyper_scores, 0)\";\n",
       "                var nbb_formatted_code = \"print_results(EMOS_global_ws10_hyper_scores, 0)\";\n",
       "                var nbb_cells = Jupyter.notebook.get_cells();\n",
       "                for (var i = 0; i < nbb_cells.length; ++i) {\n",
       "                    if (nbb_cells[i].input_prompt_number == nbb_cell_id) {\n",
       "                        if (nbb_cells[i].get_text() == nbb_unformatted_code) {\n",
       "                             nbb_cells[i].set_text(nbb_formatted_code);\n",
       "                        }\n",
       "                        break;\n",
       "                    }\n",
       "                }\n",
       "            }, 500);\n",
       "            "
      ],
      "text/plain": [
       "<IPython.core.display.Javascript object>"
      ]
     },
     "metadata": {},
     "output_type": "display_data"
    }
   ],
   "source": [
    "print_results(EMOS_global_ws10_hyper_scores, 0)"
   ]
  },
  {
   "cell_type": "code",
   "execution_count": 30,
   "id": "a8dcef0b",
   "metadata": {},
   "outputs": [
    {
     "name": "stdout",
     "output_type": "stream",
     "text": [
      "Best params (1024, 10, 0.005, 'Adam') score: 1.1340234279632568 ,in lead_time 15\n",
      "(1024, 10, 0.1, 'Adam') 1.1340389251708984\n",
      "(1024, 10, 0.1, 'SGD') 1.1340711116790771\n",
      "(1024, 10, 0.05, 'Adam') 1.1341966390609741\n",
      "(1024, 10, 0.05, 'SGD') 1.134352684020996\n",
      "(1024, 10, 0.01, 'Adam') 1.1340503692626953\n",
      "(1024, 10, 0.01, 'SGD') 1.1342467069625854\n",
      "(1024, 10, 0.005, 'Adam') 1.1340234279632568\n",
      "(1024, 10, 0.005, 'SGD') 1.1342626810073853\n",
      "(1024, 10, 0.001, 'Adam') 1.13417649269104\n",
      "(1024, 10, 0.001, 'SGD') 1.1343666315078735\n",
      "(2048, 10, 0.1, 'Adam') 1.1349729299545288\n",
      "(2048, 10, 0.1, 'SGD') 1.1340763568878174\n",
      "(2048, 10, 0.05, 'Adam') 1.135208010673523\n",
      "(2048, 10, 0.05, 'SGD') 1.1342941522598267\n",
      "(2048, 10, 0.01, 'Adam') 1.1343153715133667\n",
      "(2048, 10, 0.01, 'SGD') 1.1343286037445068\n",
      "(2048, 10, 0.005, 'Adam') 1.1343283653259277\n",
      "(2048, 10, 0.005, 'SGD') 1.1342934370040894\n",
      "(2048, 10, 0.001, 'Adam') 1.1342017650604248\n",
      "(2048, 10, 0.001, 'SGD') 1.1343393325805664\n",
      "(4096, 10, 0.1, 'Adam') 1.134240984916687\n",
      "(4096, 10, 0.1, 'SGD') 1.134049415588379\n",
      "(4096, 10, 0.05, 'Adam') 1.134102702140808\n",
      "(4096, 10, 0.05, 'SGD') 1.1341233253479004\n",
      "(4096, 10, 0.01, 'Adam') 1.134155511856079\n",
      "(4096, 10, 0.01, 'SGD') 1.1341869831085205\n",
      "(4096, 10, 0.005, 'Adam') 1.1342087984085083\n",
      "(4096, 10, 0.005, 'SGD') 1.1342604160308838\n",
      "(4096, 10, 0.001, 'Adam') 1.1342252492904663\n",
      "(4096, 10, 0.001, 'SGD') 1.1344505548477173\n",
      "(8192, 10, 0.1, 'Adam') 1.1342421770095825\n",
      "(8192, 10, 0.1, 'SGD') 1.1340566873550415\n",
      "(8192, 10, 0.05, 'Adam') 1.1343307495117188\n",
      "(8192, 10, 0.05, 'SGD') 1.1342307329177856\n",
      "(8192, 10, 0.01, 'Adam') 1.1341391801834106\n",
      "(8192, 10, 0.01, 'SGD') 1.1343806982040405\n",
      "(8192, 10, 0.005, 'Adam') 1.1342087984085083\n",
      "(8192, 10, 0.005, 'SGD') 1.1343610286712646\n",
      "(8192, 10, 0.001, 'Adam') 1.1342651844024658\n",
      "(8192, 10, 0.001, 'SGD') 1.1348540782928467\n"
     ]
    },
    {
     "data": {
      "application/javascript": [
       "\n",
       "            setTimeout(function() {\n",
       "                var nbb_cell_id = 30;\n",
       "                var nbb_unformatted_code = \"print_results(EMOS_global_ws10_hyper_scores, 1)\";\n",
       "                var nbb_formatted_code = \"print_results(EMOS_global_ws10_hyper_scores, 1)\";\n",
       "                var nbb_cells = Jupyter.notebook.get_cells();\n",
       "                for (var i = 0; i < nbb_cells.length; ++i) {\n",
       "                    if (nbb_cells[i].input_prompt_number == nbb_cell_id) {\n",
       "                        if (nbb_cells[i].get_text() == nbb_unformatted_code) {\n",
       "                             nbb_cells[i].set_text(nbb_formatted_code);\n",
       "                        }\n",
       "                        break;\n",
       "                    }\n",
       "                }\n",
       "            }, 500);\n",
       "            "
      ],
      "text/plain": [
       "<IPython.core.display.Javascript object>"
      ]
     },
     "metadata": {},
     "output_type": "display_data"
    }
   ],
   "source": [
    "print_results(EMOS_global_ws10_hyper_scores, 1)"
   ]
  },
  {
   "cell_type": "code",
   "execution_count": 31,
   "id": "d1619c39",
   "metadata": {},
   "outputs": [
    {
     "name": "stdout",
     "output_type": "stream",
     "text": [
      "Best params (4096, 10, 0.05, 'Adam') score: 1.4301142692565918 ,in lead_time 30\n",
      "(1024, 10, 0.1, 'Adam') 1.431943655014038\n",
      "(1024, 10, 0.1, 'SGD') 1.430385708808899\n",
      "(1024, 10, 0.05, 'Adam') 1.4301594495773315\n",
      "(1024, 10, 0.05, 'SGD') 1.4302326440811157\n",
      "(1024, 10, 0.01, 'Adam') 1.430169939994812\n",
      "(1024, 10, 0.01, 'SGD') 1.4304792881011963\n",
      "(1024, 10, 0.005, 'Adam') 1.4301588535308838\n",
      "(1024, 10, 0.005, 'SGD') 1.4307491779327393\n",
      "(1024, 10, 0.001, 'Adam') 1.4306968450546265\n",
      "(1024, 10, 0.001, 'SGD') 1.4308412075042725\n",
      "(2048, 10, 0.1, 'Adam') 1.4304776191711426\n",
      "(2048, 10, 0.1, 'SGD') 1.43023681640625\n",
      "(2048, 10, 0.05, 'Adam') 1.4301786422729492\n",
      "(2048, 10, 0.05, 'SGD') 1.430361032485962\n",
      "(2048, 10, 0.01, 'Adam') 1.4303494691848755\n",
      "(2048, 10, 0.01, 'SGD') 1.4306875467300415\n",
      "(2048, 10, 0.005, 'Adam') 1.430583119392395\n",
      "(2048, 10, 0.005, 'SGD') 1.4307289123535156\n",
      "(2048, 10, 0.001, 'Adam') 1.4303778409957886\n",
      "(2048, 10, 0.001, 'SGD') 1.4308301210403442\n",
      "(4096, 10, 0.1, 'Adam') 1.43047034740448\n",
      "(4096, 10, 0.1, 'SGD') 1.4301751852035522\n",
      "(4096, 10, 0.05, 'Adam') 1.4301142692565918\n",
      "(4096, 10, 0.05, 'SGD') 1.4303624629974365\n",
      "(4096, 10, 0.01, 'Adam') 1.4306365251541138\n",
      "(4096, 10, 0.01, 'SGD') 1.430742621421814\n",
      "(4096, 10, 0.005, 'Adam') 1.4306644201278687\n",
      "(4096, 10, 0.005, 'SGD') 1.4307457208633423\n",
      "(4096, 10, 0.001, 'Adam') 1.4305219650268555\n",
      "(4096, 10, 0.001, 'SGD') 1.4308401346206665\n",
      "(8192, 10, 0.1, 'Adam') 1.4301279783248901\n",
      "(8192, 10, 0.1, 'SGD') 1.4303747415542603\n",
      "(8192, 10, 0.05, 'Adam') 1.4314998388290405\n",
      "(8192, 10, 0.05, 'SGD') 1.4303812980651855\n",
      "(8192, 10, 0.01, 'Adam') 1.4303407669067383\n",
      "(8192, 10, 0.01, 'SGD') 1.430777668952942\n",
      "(8192, 10, 0.005, 'Adam') 1.4301625490188599\n",
      "(8192, 10, 0.005, 'SGD') 1.430737853050232\n",
      "(8192, 10, 0.001, 'Adam') 1.4306583404541016\n",
      "(8192, 10, 0.001, 'SGD') 1.4315546751022339\n"
     ]
    },
    {
     "data": {
      "application/javascript": [
       "\n",
       "            setTimeout(function() {\n",
       "                var nbb_cell_id = 31;\n",
       "                var nbb_unformatted_code = \"print_results(EMOS_global_ws10_hyper_scores, 2)\";\n",
       "                var nbb_formatted_code = \"print_results(EMOS_global_ws10_hyper_scores, 2)\";\n",
       "                var nbb_cells = Jupyter.notebook.get_cells();\n",
       "                for (var i = 0; i < nbb_cells.length; ++i) {\n",
       "                    if (nbb_cells[i].input_prompt_number == nbb_cell_id) {\n",
       "                        if (nbb_cells[i].get_text() == nbb_unformatted_code) {\n",
       "                             nbb_cells[i].set_text(nbb_formatted_code);\n",
       "                        }\n",
       "                        break;\n",
       "                    }\n",
       "                }\n",
       "            }, 500);\n",
       "            "
      ],
      "text/plain": [
       "<IPython.core.display.Javascript object>"
      ]
     },
     "metadata": {},
     "output_type": "display_data"
    }
   ],
   "source": [
    "print_results(EMOS_global_ws10_hyper_scores, 2)"
   ]
  },
  {
   "cell_type": "markdown",
   "id": "5701e50d",
   "metadata": {},
   "source": [
    "### 2. Load Local Hyperparameter Scores"
   ]
  },
  {
   "cell_type": "code",
   "execution_count": 32,
   "id": "a4037901",
   "metadata": {
    "scrolled": true
   },
   "outputs": [
    {
     "data": {
      "application/javascript": [
       "\n",
       "            setTimeout(function() {\n",
       "                var nbb_cell_id = 32;\n",
       "                var nbb_unformatted_code = \"EMOS_local_t2m_hyper_scores = EMOS_local_load_hyper_score(\\\"t2m\\\")\\nEMOS_local_ws10_hyper_scores = EMOS_local_load_hyper_score(\\\"ws10\\\")\";\n",
       "                var nbb_formatted_code = \"EMOS_local_t2m_hyper_scores = EMOS_local_load_hyper_score(\\\"t2m\\\")\\nEMOS_local_ws10_hyper_scores = EMOS_local_load_hyper_score(\\\"ws10\\\")\";\n",
       "                var nbb_cells = Jupyter.notebook.get_cells();\n",
       "                for (var i = 0; i < nbb_cells.length; ++i) {\n",
       "                    if (nbb_cells[i].input_prompt_number == nbb_cell_id) {\n",
       "                        if (nbb_cells[i].get_text() == nbb_unformatted_code) {\n",
       "                             nbb_cells[i].set_text(nbb_formatted_code);\n",
       "                        }\n",
       "                        break;\n",
       "                    }\n",
       "                }\n",
       "            }, 500);\n",
       "            "
      ],
      "text/plain": [
       "<IPython.core.display.Javascript object>"
      ]
     },
     "metadata": {},
     "output_type": "display_data"
    }
   ],
   "source": [
    "EMOS_local_t2m_hyper_scores = EMOS_local_load_hyper_score(\"t2m\")\n",
    "EMOS_local_ws10_hyper_scores = EMOS_local_load_hyper_score(\"ws10\")"
   ]
  },
  {
   "cell_type": "code",
   "execution_count": 33,
   "id": "e6dd2b85",
   "metadata": {
    "scrolled": false
   },
   "outputs": [
    {
     "name": "stdout",
     "output_type": "stream",
     "text": [
      "T2m-length:3, ws10-length:6\n"
     ]
    },
    {
     "data": {
      "application/javascript": [
       "\n",
       "            setTimeout(function() {\n",
       "                var nbb_cell_id = 33;\n",
       "                var nbb_unformatted_code = \"print(\\n    f\\\"T2m-length:{len(EMOS_local_t2m_hyper_scores)}, ws10-length:{len(EMOS_local_ws10_hyper_scores)}\\\"\\n)\";\n",
       "                var nbb_formatted_code = \"print(\\n    f\\\"T2m-length:{len(EMOS_local_t2m_hyper_scores)}, ws10-length:{len(EMOS_local_ws10_hyper_scores)}\\\"\\n)\";\n",
       "                var nbb_cells = Jupyter.notebook.get_cells();\n",
       "                for (var i = 0; i < nbb_cells.length; ++i) {\n",
       "                    if (nbb_cells[i].input_prompt_number == nbb_cell_id) {\n",
       "                        if (nbb_cells[i].get_text() == nbb_unformatted_code) {\n",
       "                             nbb_cells[i].set_text(nbb_formatted_code);\n",
       "                        }\n",
       "                        break;\n",
       "                    }\n",
       "                }\n",
       "            }, 500);\n",
       "            "
      ],
      "text/plain": [
       "<IPython.core.display.Javascript object>"
      ]
     },
     "metadata": {},
     "output_type": "display_data"
    }
   ],
   "source": [
    "print(\n",
    "    f\"T2m-length:{len(EMOS_local_t2m_hyper_scores)}, ws10-length:{len(EMOS_local_ws10_hyper_scores)}\"\n",
    ")"
   ]
  },
  {
   "cell_type": "markdown",
   "id": "08a658a9",
   "metadata": {},
   "source": [
    "##### Temperature:"
   ]
  },
  {
   "cell_type": "code",
   "execution_count": 34,
   "id": "e0182bb8",
   "metadata": {},
   "outputs": [
    {
     "name": "stdout",
     "output_type": "stream",
     "text": [
      "Best params (16, 30, 0.005, 'Adam') score: 0.37988878824771977 ,in lead_time 0\n",
      "(16, 30, 0.1, 'Adam') 0.49627375191985035\n",
      "(16, 30, 0.05, 'Adam') 0.4216254285703867\n",
      "(16, 30, 0.01, 'Adam') 0.3831466698111632\n",
      "(16, 30, 0.005, 'Adam') 0.37988878824771977\n",
      "(16, 30, 0.001, 'Adam') 17.344419322525845\n",
      "(32, 30, 0.1, 'Adam') 0.45766198663757396\n",
      "(32, 30, 0.05, 'Adam') 0.40029029032358754\n",
      "(32, 30, 0.01, 'Adam') 0.38057279271575123\n",
      "(32, 30, 0.005, 'Adam') 0.47604186594104153\n",
      "(32, 30, 0.001, 'Adam') 114.26232341648294\n",
      "(64, 30, 0.1, 'Adam') 0.5142447502376177\n",
      "(64, 30, 0.05, 'Adam') 0.44653667777012557\n",
      "(64, 30, 0.01, 'Adam') 0.5151060394560679\n",
      "(64, 30, 0.005, 'Adam') 0.8507009725540112\n",
      "(64, 30, 0.001, 'Adam') 216.2162034266079\n",
      "(128, 30, 0.1, 'Adam') 0.9618315050044121\n",
      "(128, 30, 0.05, 'Adam') 0.7048312280422602\n",
      "(128, 30, 0.01, 'Adam') 1.0980231383672128\n",
      "(128, 30, 0.005, 'Adam') 74.58889908248034\n",
      "(128, 30, 0.001, 'Adam') 249.4008049772909\n",
      "(256, 30, 0.1, 'Adam') 2.834916726900981\n",
      "(256, 30, 0.05, 'Adam') 1.4633462037413547\n",
      "(256, 30, 0.01, 'Adam') 57.70785684071672\n",
      "(256, 30, 0.005, 'Adam') 167.9828360650975\n",
      "(256, 30, 0.001, 'Adam') 276.6492491184901\n"
     ]
    },
    {
     "data": {
      "application/javascript": [
       "\n",
       "            setTimeout(function() {\n",
       "                var nbb_cell_id = 34;\n",
       "                var nbb_unformatted_code = \"print_results(EMOS_local_t2m_hyper_scores, 0)\";\n",
       "                var nbb_formatted_code = \"print_results(EMOS_local_t2m_hyper_scores, 0)\";\n",
       "                var nbb_cells = Jupyter.notebook.get_cells();\n",
       "                for (var i = 0; i < nbb_cells.length; ++i) {\n",
       "                    if (nbb_cells[i].input_prompt_number == nbb_cell_id) {\n",
       "                        if (nbb_cells[i].get_text() == nbb_unformatted_code) {\n",
       "                             nbb_cells[i].set_text(nbb_formatted_code);\n",
       "                        }\n",
       "                        break;\n",
       "                    }\n",
       "                }\n",
       "            }, 500);\n",
       "            "
      ],
      "text/plain": [
       "<IPython.core.display.Javascript object>"
      ]
     },
     "metadata": {},
     "output_type": "display_data"
    }
   ],
   "source": [
    "print_results(EMOS_local_t2m_hyper_scores, 0)"
   ]
  },
  {
   "cell_type": "code",
   "execution_count": 35,
   "id": "3920d4b2",
   "metadata": {},
   "outputs": [
    {
     "name": "stdout",
     "output_type": "stream",
     "text": [
      "Best params (16, 30, 0.005, 'Adam') score: 0.7063188764911431 ,in lead_time 15\n",
      "(16, 30, 0.1, 'Adam') 0.781379029345818\n",
      "(16, 30, 0.05, 'Adam') 0.7365562399992576\n",
      "(16, 30, 0.01, 'Adam') 0.7081086847644585\n",
      "(16, 30, 0.005, 'Adam') 0.7063188764911431\n",
      "(16, 30, 0.001, 'Adam') 17.594197237911896\n",
      "(32, 30, 0.1, 'Adam') 0.7446841379770865\n",
      "(32, 30, 0.05, 'Adam') 0.7179414452268527\n",
      "(32, 30, 0.01, 'Adam') 0.706347644329071\n",
      "(32, 30, 0.005, 'Adam') 0.7359531710927303\n",
      "(32, 30, 0.001, 'Adam') 128.0106144963931\n",
      "(64, 30, 0.1, 'Adam') 0.7903085488539475\n",
      "(64, 30, 0.05, 'Adam') 0.7300917301804591\n",
      "(64, 30, 0.01, 'Adam') 0.7576043812128214\n",
      "(64, 30, 0.005, 'Adam') 0.8920006274412839\n",
      "(64, 30, 0.001, 'Adam') 184.0715512767052\n",
      "(128, 30, 0.1, 'Adam') 1.3530094715265126\n",
      "(128, 30, 0.05, 'Adam') 0.8974096291722395\n",
      "(128, 30, 0.01, 'Adam') 1.0043515845751152\n",
      "(128, 30, 0.005, 'Adam') 87.53295544878794\n",
      "(128, 30, 0.001, 'Adam') 267.54757876178394\n",
      "(256, 30, 0.1, 'Adam') 3.2549329422987423\n",
      "(256, 30, 0.05, 'Adam') 1.7046045003793178\n",
      "(256, 30, 0.01, 'Adam') 54.41079867745821\n",
      "(256, 30, 0.005, 'Adam') 180.4925395704997\n",
      "(256, 30, 0.001, 'Adam') 302.1960828050207\n"
     ]
    },
    {
     "data": {
      "application/javascript": [
       "\n",
       "            setTimeout(function() {\n",
       "                var nbb_cell_id = 35;\n",
       "                var nbb_unformatted_code = \"print_results(EMOS_local_t2m_hyper_scores, 1)\";\n",
       "                var nbb_formatted_code = \"print_results(EMOS_local_t2m_hyper_scores, 1)\";\n",
       "                var nbb_cells = Jupyter.notebook.get_cells();\n",
       "                for (var i = 0; i < nbb_cells.length; ++i) {\n",
       "                    if (nbb_cells[i].input_prompt_number == nbb_cell_id) {\n",
       "                        if (nbb_cells[i].get_text() == nbb_unformatted_code) {\n",
       "                             nbb_cells[i].set_text(nbb_formatted_code);\n",
       "                        }\n",
       "                        break;\n",
       "                    }\n",
       "                }\n",
       "            }, 500);\n",
       "            "
      ],
      "text/plain": [
       "<IPython.core.display.Javascript object>"
      ]
     },
     "metadata": {},
     "output_type": "display_data"
    }
   ],
   "source": [
    "print_results(EMOS_local_t2m_hyper_scores, 1)"
   ]
  },
  {
   "cell_type": "code",
   "execution_count": 36,
   "id": "8217f864",
   "metadata": {},
   "outputs": [
    {
     "name": "stdout",
     "output_type": "stream",
     "text": [
      "Best params (16, 30, 0.005, 'Adam') score: 1.0838735229693925 ,in lead_time 30\n",
      "(16, 30, 0.1, 'Adam') 1.1478227969163504\n",
      "(16, 30, 0.05, 'Adam') 1.1052566770559702\n",
      "(16, 30, 0.01, 'Adam') 1.0850750077993443\n",
      "(16, 30, 0.005, 'Adam') 1.0838735229693925\n",
      "(16, 30, 0.001, 'Adam') 15.558259987296202\n",
      "(32, 30, 0.1, 'Adam') 1.1079142334369512\n",
      "(32, 30, 0.05, 'Adam') 1.090742947963568\n",
      "(32, 30, 0.01, 'Adam') 1.0857606308582501\n",
      "(32, 30, 0.005, 'Adam') 1.1531194135164604\n",
      "(32, 30, 0.001, 'Adam') 109.61724732434138\n",
      "(64, 30, 0.1, 'Adam') 1.123578464373564\n",
      "(64, 30, 0.05, 'Adam') 1.0935281713803608\n",
      "(64, 30, 0.01, 'Adam') 1.1697963350094283\n",
      "(64, 30, 0.005, 'Adam') 1.320859425343\n",
      "(64, 30, 0.001, 'Adam') 194.04333809056342\n",
      "(128, 30, 0.1, 'Adam') 1.6871731460858614\n",
      "(128, 30, 0.05, 'Adam') 1.407067013856692\n",
      "(128, 30, 0.01, 'Adam') 1.4358300608702195\n",
      "(128, 30, 0.005, 'Adam') 83.94458062373675\n",
      "(128, 30, 0.001, 'Adam') 236.01420517342214\n",
      "(256, 30, 0.1, 'Adam') 3.0241014468364225\n",
      "(256, 30, 0.05, 'Adam') 2.124276435145965\n",
      "(256, 30, 0.01, 'Adam') 73.06352017361384\n",
      "(256, 30, 0.005, 'Adam') 152.97713040197507\n",
      "(256, 30, 0.001, 'Adam') 276.4663585730088\n"
     ]
    },
    {
     "data": {
      "application/javascript": [
       "\n",
       "            setTimeout(function() {\n",
       "                var nbb_cell_id = 36;\n",
       "                var nbb_unformatted_code = \"print_results(EMOS_local_t2m_hyper_scores, 2)\";\n",
       "                var nbb_formatted_code = \"print_results(EMOS_local_t2m_hyper_scores, 2)\";\n",
       "                var nbb_cells = Jupyter.notebook.get_cells();\n",
       "                for (var i = 0; i < nbb_cells.length; ++i) {\n",
       "                    if (nbb_cells[i].input_prompt_number == nbb_cell_id) {\n",
       "                        if (nbb_cells[i].get_text() == nbb_unformatted_code) {\n",
       "                             nbb_cells[i].set_text(nbb_formatted_code);\n",
       "                        }\n",
       "                        break;\n",
       "                    }\n",
       "                }\n",
       "            }, 500);\n",
       "            "
      ],
      "text/plain": [
       "<IPython.core.display.Javascript object>"
      ]
     },
     "metadata": {},
     "output_type": "display_data"
    }
   ],
   "source": [
    "print_results(EMOS_local_t2m_hyper_scores, 2)"
   ]
  },
  {
   "cell_type": "markdown",
   "id": "b79520f7",
   "metadata": {},
   "source": [
    "##### Wind Speed"
   ]
  },
  {
   "cell_type": "code",
   "execution_count": 46,
   "id": "da3a4af8",
   "metadata": {},
   "outputs": [
    {
     "name": "stdout",
     "output_type": "stream",
     "text": [
      "Best params (16, 15, 0.1, 'Adam') score: 0.5991352864373953 ,in lead_time 0\n",
      "(16, 15, 0.1, 'Adam') 0.5991352864373953\n",
      "(16, 15, 0.01, 'Adam') 0.6017783328126638\n",
      "(16, 15, 0.001, 'Adam') 0.6271854744125636\n",
      "(16, 30, 0.1, 'Adam') 0.5998413633459654\n",
      "(16, 30, 0.01, 'Adam') 0.6017763041532956\n",
      "(16, 30, 0.001, 'Adam') 0.6121218237930384\n",
      "(16, 50, 0.1, 'Adam') 0.599890757065553\n",
      "(16, 50, 0.01, 'Adam') 0.6011585024878\n",
      "(16, 50, 0.001, 'Adam') 0.6068725533401355\n",
      "(64, 15, 0.1, 'Adam') 0.5994004979729652\n",
      "(64, 15, 0.01, 'Adam') 0.608783685339567\n",
      "(64, 15, 0.001, 'Adam') 1.0872141575584044\n",
      "(64, 30, 0.1, 'Adam') 0.5999958508480818\n",
      "(64, 30, 0.01, 'Adam') 0.6054891284841758\n",
      "(64, 30, 0.001, 'Adam') 0.7684878529264376\n",
      "(64, 50, 0.1, 'Adam') 0.5994646620865052\n",
      "(64, 50, 0.01, 'Adam') 0.6053088794534023\n",
      "(64, 50, 0.001, 'Adam') 0.6440219416832312\n",
      "(512, 15, 0.1, 'Adam') 0.6874185833984461\n",
      "(512, 15, 0.01, 'Adam') 0.9063388648896645\n",
      "(512, 15, 0.001, 'Adam') 1.9086743205403671\n",
      "(512, 30, 0.1, 'Adam') 0.6585099023695176\n",
      "(512, 30, 0.01, 'Adam') 0.6390256368770049\n",
      "(512, 30, 0.001, 'Adam') 1.7416644938863242\n",
      "(512, 50, 0.1, 'Adam') 0.6748725790052842\n",
      "(512, 50, 0.01, 'Adam') 0.623831858810706\n",
      "(512, 50, 0.001, 'Adam') 1.5837515383385694\n",
      "(1024, 15, 0.1, 'Adam') 0.6672054080244822\n",
      "(1024, 15, 0.01, 'Adam') 1.195525904974112\n",
      "(1024, 15, 0.001, 'Adam') 1.8280317972485836\n",
      "(1024, 30, 0.1, 'Adam') 0.6695702885014888\n",
      "(1024, 30, 0.01, 'Adam') 0.6742581039285048\n",
      "(1024, 30, 0.001, 'Adam') 1.8850463879032013\n",
      "(1024, 50, 0.1, 'Adam') 0.6731807748094584\n",
      "(1024, 50, 0.01, 'Adam') 0.634158669373928\n",
      "(1024, 50, 0.001, 'Adam') 1.7869117559912877\n",
      "(2048, 15, 0.1, 'Adam') 0.6747742648690175\n",
      "(2048, 15, 0.01, 'Adam') 1.722082658073841\n",
      "(2048, 15, 0.001, 'Adam') 1.9763115957761421\n",
      "(2048, 30, 0.1, 'Adam') 0.6803067551973538\n",
      "(2048, 30, 0.01, 'Adam') 1.03576365342507\n",
      "(2048, 30, 0.001, 'Adam') 2.1155012326362805\n",
      "(2048, 50, 0.1, 'Adam') 0.665758171142676\n",
      "(2048, 50, 0.01, 'Adam') 0.8227778064707915\n",
      "(2048, 50, 0.001, 'Adam') 1.9725661562421384\n"
     ]
    },
    {
     "data": {
      "application/javascript": [
       "\n",
       "            setTimeout(function() {\n",
       "                var nbb_cell_id = 46;\n",
       "                var nbb_unformatted_code = \"print_results(EMOS_local_ws10_hyper_scores, 0)\";\n",
       "                var nbb_formatted_code = \"print_results(EMOS_local_ws10_hyper_scores, 0)\";\n",
       "                var nbb_cells = Jupyter.notebook.get_cells();\n",
       "                for (var i = 0; i < nbb_cells.length; ++i) {\n",
       "                    if (nbb_cells[i].input_prompt_number == nbb_cell_id) {\n",
       "                        if (nbb_cells[i].get_text() == nbb_unformatted_code) {\n",
       "                             nbb_cells[i].set_text(nbb_formatted_code);\n",
       "                        }\n",
       "                        break;\n",
       "                    }\n",
       "                }\n",
       "            }, 500);\n",
       "            "
      ],
      "text/plain": [
       "<IPython.core.display.Javascript object>"
      ]
     },
     "metadata": {},
     "output_type": "display_data"
    }
   ],
   "source": [
    "print_results(EMOS_local_ws10_hyper_scores, 0)"
   ]
  },
  {
   "cell_type": "code",
   "execution_count": 38,
   "id": "5be0fcd5",
   "metadata": {},
   "outputs": [
    {
     "name": "stdout",
     "output_type": "stream",
     "text": [
      "Best params (64, 30, 0.1, 'Adam') score: 0.5987810954833642 ,in lead_time 0\n",
      "(32, 30, 0.1, 'Adam') 0.5989483954050602\n",
      "(32, 30, 0.1, 'SGD') 0.6794286073209383\n",
      "(32, 30, 0.05, 'Adam') 0.5993755188507911\n",
      "(32, 30, 0.05, 'SGD') 0.6050876546173524\n",
      "(32, 30, 0.01, 'Adam') 0.6033720479179652\n",
      "(32, 30, 0.01, 'SGD') 0.6048767089079587\n",
      "(32, 30, 0.005, 'Adam') 0.606172231814036\n",
      "(32, 30, 0.005, 'SGD') 0.6074436995654534\n",
      "(32, 30, 0.001, 'Adam') 0.6225756370486357\n",
      "(32, 30, 0.001, 'SGD') 0.6208223901115931\n",
      "(64, 30, 0.1, 'Adam') 0.5987810954833642\n",
      "(64, 30, 0.1, 'SGD') 0.7279265223978422\n",
      "(64, 30, 0.05, 'Adam') 0.6001894321197119\n",
      "(64, 30, 0.05, 'SGD') 0.6032571896719627\n",
      "(64, 30, 0.01, 'Adam') 0.6049282004435858\n",
      "(64, 30, 0.01, 'SGD') 0.6073775272338818\n",
      "(64, 30, 0.005, 'Adam') 0.6102765940893919\n",
      "(64, 30, 0.005, 'SGD') 0.6134857069223355\n",
      "(64, 30, 0.001, 'Adam') 0.7704542474104807\n",
      "(64, 30, 0.001, 'SGD') 0.633939979932247\n",
      "(128, 30, 0.1, 'Adam') 0.6001739102678422\n",
      "(128, 30, 0.1, 'SGD') 0.7562125863937231\n",
      "(128, 30, 0.05, 'Adam') 0.6031126355131468\n",
      "(128, 30, 0.05, 'SGD') 0.605310859110875\n",
      "(128, 30, 0.01, 'Adam') 0.6100575796877726\n",
      "(128, 30, 0.01, 'SGD') 0.6122207629183928\n",
      "(128, 30, 0.005, 'Adam') 0.6230642861471727\n",
      "(128, 30, 0.005, 'SGD') 0.6193600559654908\n",
      "(128, 30, 0.001, 'Adam') 1.2530294962418385\n",
      "(128, 30, 0.001, 'SGD') 0.6574339967889663\n",
      "(256, 30, 0.1, 'Adam') 0.615864870735468\n",
      "(256, 30, 0.1, 'SGD') 0.8108517478864926\n",
      "(256, 30, 0.05, 'Adam') 0.6307663480058695\n",
      "(256, 30, 0.05, 'SGD') 0.6074161880100385\n",
      "(256, 30, 0.01, 'Adam') 0.6219085219005743\n",
      "(256, 30, 0.01, 'SGD') 0.6185232403759773\n",
      "(256, 30, 0.005, 'Adam') 0.6553333991040022\n",
      "(256, 30, 0.005, 'SGD') 0.6257915549362317\n",
      "(256, 30, 0.001, 'Adam') 1.5391710305061095\n",
      "(256, 30, 0.001, 'SGD') 0.73516579106068\n"
     ]
    },
    {
     "data": {
      "application/javascript": [
       "\n",
       "            setTimeout(function() {\n",
       "                var nbb_cell_id = 38;\n",
       "                var nbb_unformatted_code = \"print_results(EMOS_local_ws10_hyper_scores, 1)\";\n",
       "                var nbb_formatted_code = \"print_results(EMOS_local_ws10_hyper_scores, 1)\";\n",
       "                var nbb_cells = Jupyter.notebook.get_cells();\n",
       "                for (var i = 0; i < nbb_cells.length; ++i) {\n",
       "                    if (nbb_cells[i].input_prompt_number == nbb_cell_id) {\n",
       "                        if (nbb_cells[i].get_text() == nbb_unformatted_code) {\n",
       "                             nbb_cells[i].set_text(nbb_formatted_code);\n",
       "                        }\n",
       "                        break;\n",
       "                    }\n",
       "                }\n",
       "            }, 500);\n",
       "            "
      ],
      "text/plain": [
       "<IPython.core.display.Javascript object>"
      ]
     },
     "metadata": {},
     "output_type": "display_data"
    }
   ],
   "source": [
    "print_results(EMOS_local_ws10_hyper_scores, 1)"
   ]
  },
  {
   "cell_type": "code",
   "execution_count": 39,
   "id": "15c18cd9",
   "metadata": {},
   "outputs": [
    {
     "name": "stdout",
     "output_type": "stream",
     "text": [
      "Best params (64, 30, 0.1, 'Adam') score: 1.1464913334601965 ,in lead_time 15\n",
      "(32, 30, 0.1, 'Adam') 1.1471663965628698\n",
      "(32, 30, 0.1, 'SGD') 1.1529479882656\n",
      "(32, 30, 0.05, 'Adam') 1.1468491206566493\n",
      "(32, 30, 0.05, 'SGD') 1.1520089321793654\n",
      "(32, 30, 0.01, 'Adam') 1.148507986886379\n",
      "(32, 30, 0.01, 'SGD') 1.1567316525257552\n",
      "(32, 30, 0.005, 'Adam') 1.1508185116526408\n",
      "(32, 30, 0.005, 'SGD') 1.1601466924334183\n",
      "(32, 30, 0.001, 'Adam') 1.1677146445100124\n",
      "(32, 30, 0.001, 'SGD') 1.1990550834781084\n",
      "(64, 30, 0.1, 'Adam') 1.1464913334601965\n",
      "(64, 30, 0.1, 'SGD') 1.1521924821994243\n",
      "(64, 30, 0.05, 'Adam') 1.1466526618370643\n",
      "(64, 30, 0.05, 'SGD') 1.1526299225978363\n",
      "(64, 30, 0.01, 'Adam') 1.1500867475301793\n",
      "(64, 30, 0.01, 'SGD') 1.1602032518921754\n",
      "(64, 30, 0.005, 'Adam') 1.1535157994964185\n",
      "(64, 30, 0.005, 'SGD') 1.1697707590766442\n",
      "(64, 30, 0.001, 'Adam') 1.2652047228736756\n",
      "(64, 30, 0.001, 'SGD') 1.2275816226998966\n",
      "(128, 30, 0.1, 'Adam') 1.1477612532102144\n",
      "(128, 30, 0.1, 'SGD') 1.1543301896024973\n",
      "(128, 30, 0.05, 'Adam') 1.1492853886806047\n",
      "(128, 30, 0.05, 'SGD') 1.1555279067311532\n",
      "(128, 30, 0.01, 'Adam') 1.1551647660059807\n",
      "(128, 30, 0.01, 'SGD') 1.1704106527643325\n",
      "(128, 30, 0.005, 'Adam') 1.1603148096264937\n",
      "(128, 30, 0.005, 'SGD') 1.1917806575313592\n",
      "(128, 30, 0.001, 'Adam') 1.6082101206366832\n",
      "(128, 30, 0.001, 'SGD') 1.278617965678374\n",
      "(256, 30, 0.1, 'Adam') 1.1588124143771636\n",
      "(256, 30, 0.1, 'SGD') 1.1571606420553648\n",
      "(256, 30, 0.05, 'Adam') 1.1637103467797623\n",
      "(256, 30, 0.05, 'SGD') 1.1594439192842214\n",
      "(256, 30, 0.01, 'Adam') 1.1591434702277184\n",
      "(256, 30, 0.01, 'SGD') 1.1872708808917265\n",
      "(256, 30, 0.005, 'Adam') 1.1887335244279642\n",
      "(256, 30, 0.005, 'SGD') 1.2144308153253336\n",
      "(256, 30, 0.001, 'Adam') 1.7347042524279692\n",
      "(256, 30, 0.001, 'SGD') 1.3667611584831507\n"
     ]
    },
    {
     "data": {
      "application/javascript": [
       "\n",
       "            setTimeout(function() {\n",
       "                var nbb_cell_id = 39;\n",
       "                var nbb_unformatted_code = \"print_results(EMOS_local_ws10_hyper_scores, 2)\";\n",
       "                var nbb_formatted_code = \"print_results(EMOS_local_ws10_hyper_scores, 2)\";\n",
       "                var nbb_cells = Jupyter.notebook.get_cells();\n",
       "                for (var i = 0; i < nbb_cells.length; ++i) {\n",
       "                    if (nbb_cells[i].input_prompt_number == nbb_cell_id) {\n",
       "                        if (nbb_cells[i].get_text() == nbb_unformatted_code) {\n",
       "                             nbb_cells[i].set_text(nbb_formatted_code);\n",
       "                        }\n",
       "                        break;\n",
       "                    }\n",
       "                }\n",
       "            }, 500);\n",
       "            "
      ],
      "text/plain": [
       "<IPython.core.display.Javascript object>"
      ]
     },
     "metadata": {},
     "output_type": "display_data"
    }
   ],
   "source": [
    "print_results(EMOS_local_ws10_hyper_scores, 2)"
   ]
  },
  {
   "cell_type": "code",
   "execution_count": 40,
   "id": "df855dc6",
   "metadata": {},
   "outputs": [
    {
     "name": "stdout",
     "output_type": "stream",
     "text": [
      "Best params (64, 30, 0.1, 'Adam') score: 1.146133575301904 ,in lead_time 15\n",
      "(16, 15, 0.1, 'Adam') 1.148466974687882\n",
      "(16, 15, 0.01, 'Adam') 1.1481310375607932\n",
      "(16, 15, 0.001, 'Adam') 1.1694996435290728\n",
      "(16, 30, 0.1, 'Adam') 1.1488090610274901\n",
      "(16, 30, 0.01, 'Adam') 1.1473205586274464\n",
      "(16, 30, 0.001, 'Adam') 1.156684243144133\n",
      "(16, 50, 0.1, 'Adam') 1.1489991262937203\n",
      "(16, 50, 0.01, 'Adam') 1.1469719509283702\n",
      "(16, 50, 0.001, 'Adam') 1.1527726327379544\n",
      "(64, 15, 0.1, 'Adam') 1.1463579329160543\n",
      "(64, 15, 0.01, 'Adam') 1.1543684269373233\n",
      "(64, 15, 0.001, 'Adam') 1.6422612712933466\n",
      "(64, 30, 0.1, 'Adam') 1.146133575301904\n",
      "(64, 30, 0.01, 'Adam') 1.1515622681532152\n",
      "(64, 30, 0.001, 'Adam') 1.293312703187649\n",
      "(64, 50, 0.1, 'Adam') 1.1467173892336013\n",
      "(64, 50, 0.01, 'Adam') 1.1498873279644892\n",
      "(64, 50, 0.001, 'Adam') 1.1791125916135616\n",
      "(512, 15, 0.1, 'Adam') 1.1823633594008593\n",
      "(512, 15, 0.01, 'Adam') 1.3141517060307355\n",
      "(512, 15, 0.001, 'Adam') 2.2383334287084065\n",
      "(512, 30, 0.1, 'Adam') 1.173473976743527\n",
      "(512, 30, 0.01, 'Adam') 1.1737404001446872\n",
      "(512, 30, 0.001, 'Adam') 1.9708566537652261\n",
      "(512, 50, 0.1, 'Adam') 1.172965783912402\n",
      "(512, 50, 0.01, 'Adam') 1.1583546000795486\n",
      "(512, 50, 0.001, 'Adam') 1.8765205360758\n",
      "(1024, 15, 0.1, 'Adam') 1.1817333243596249\n",
      "(1024, 15, 0.01, 'Adam') 1.4581492921480765\n",
      "(1024, 15, 0.001, 'Adam') 2.3580125134724836\n",
      "(1024, 30, 0.1, 'Adam') 1.1755891323853762\n",
      "(1024, 30, 0.01, 'Adam') 1.2235635274495833\n",
      "(1024, 30, 0.001, 'Adam') 2.0891236804234676\n",
      "(1024, 50, 0.1, 'Adam') 1.1806762094299\n",
      "(1024, 50, 0.01, 'Adam') 1.1664358855057986\n",
      "(1024, 50, 0.001, 'Adam') 1.9526680016364806\n",
      "(2048, 15, 0.1, 'Adam') 1.182375435072642\n",
      "(2048, 15, 0.01, 'Adam') 1.865052465444956\n",
      "(2048, 15, 0.001, 'Adam') 2.243471311835142\n",
      "(2048, 30, 0.1, 'Adam') 1.1787275998638227\n",
      "(2048, 30, 0.01, 'Adam') 1.5565572019952993\n",
      "(2048, 30, 0.001, 'Adam') 2.2844662238390017\n",
      "(2048, 50, 0.1, 'Adam') 1.1796257683099844\n",
      "(2048, 50, 0.01, 'Adam') 1.2855644701765134\n",
      "(2048, 50, 0.001, 'Adam') 2.2190095180502305\n"
     ]
    },
    {
     "data": {
      "application/javascript": [
       "\n",
       "            setTimeout(function() {\n",
       "                var nbb_cell_id = 40;\n",
       "                var nbb_unformatted_code = \"print_results(EMOS_local_ws10_hyper_scores, 3)\";\n",
       "                var nbb_formatted_code = \"print_results(EMOS_local_ws10_hyper_scores, 3)\";\n",
       "                var nbb_cells = Jupyter.notebook.get_cells();\n",
       "                for (var i = 0; i < nbb_cells.length; ++i) {\n",
       "                    if (nbb_cells[i].input_prompt_number == nbb_cell_id) {\n",
       "                        if (nbb_cells[i].get_text() == nbb_unformatted_code) {\n",
       "                             nbb_cells[i].set_text(nbb_formatted_code);\n",
       "                        }\n",
       "                        break;\n",
       "                    }\n",
       "                }\n",
       "            }, 500);\n",
       "            "
      ],
      "text/plain": [
       "<IPython.core.display.Javascript object>"
      ]
     },
     "metadata": {},
     "output_type": "display_data"
    }
   ],
   "source": [
    "print_results(EMOS_local_ws10_hyper_scores, 3)"
   ]
  },
  {
   "cell_type": "code",
   "execution_count": 41,
   "id": "3469faca",
   "metadata": {},
   "outputs": [
    {
     "name": "stdout",
     "output_type": "stream",
     "text": [
      "Best params (32, 30, 0.05, 'Adam') score: 1.460105578486736 ,in lead_time 30\n",
      "(32, 30, 0.1, 'Adam') 1.4606935576750681\n",
      "(32, 30, 0.1, 'SGD') 1.4727443806253946\n",
      "(32, 30, 0.05, 'Adam') 1.460105578486736\n",
      "(32, 30, 0.05, 'SGD') 1.4736094400286674\n",
      "(32, 30, 0.01, 'Adam') 1.4657837135287433\n",
      "(32, 30, 0.01, 'SGD') 1.4796271983247538\n",
      "(32, 30, 0.005, 'Adam') 1.4703167569942963\n",
      "(32, 30, 0.005, 'SGD') 1.4820695632161238\n",
      "(32, 30, 0.001, 'Adam') 1.490070137840051\n",
      "(32, 30, 0.001, 'SGD') 1.510183056195577\n",
      "(64, 30, 0.1, 'Adam') 1.4605731188486784\n",
      "(64, 30, 0.1, 'SGD') 1.4734687969470635\n",
      "(64, 30, 0.05, 'Adam') 1.4618235759628124\n",
      "(64, 30, 0.05, 'SGD') 1.4766312984701915\n",
      "(64, 30, 0.01, 'Adam') 1.470451527681106\n",
      "(64, 30, 0.01, 'SGD') 1.4826093421150477\n",
      "(64, 30, 0.005, 'Adam') 1.4758542543038344\n",
      "(64, 30, 0.005, 'SGD') 1.4884808756984198\n",
      "(64, 30, 0.001, 'Adam') 1.5738424599552765\n",
      "(64, 30, 0.001, 'SGD') 1.5468422017800503\n",
      "(128, 30, 0.1, 'Adam') 1.46449460203831\n",
      "(128, 30, 0.1, 'SGD') 1.4761654692582595\n",
      "(128, 30, 0.05, 'Adam') 1.4661894536171205\n",
      "(128, 30, 0.05, 'SGD') 1.4786894185802875\n",
      "(128, 30, 0.01, 'Adam') 1.4759634989194381\n",
      "(128, 30, 0.01, 'SGD') 1.4873720499185414\n",
      "(128, 30, 0.005, 'Adam') 1.4838391282619574\n",
      "(128, 30, 0.005, 'SGD') 1.5006944777873845\n",
      "(128, 30, 0.001, 'Adam') 1.8081223632280643\n",
      "(128, 30, 0.001, 'SGD') 1.6105480942970667\n",
      "(256, 30, 0.1, 'Adam') 1.4797132576887424\n",
      "(256, 30, 0.1, 'SGD') 1.478377671769032\n",
      "(256, 30, 0.05, 'Adam') 1.4818439298333266\n",
      "(256, 30, 0.05, 'SGD') 1.4821449640469673\n",
      "(256, 30, 0.01, 'Adam') 1.4813236756584582\n",
      "(256, 30, 0.01, 'SGD') 1.4979674823773212\n",
      "(256, 30, 0.005, 'Adam') 1.511270363934529\n",
      "(256, 30, 0.005, 'SGD') 1.5328462079931529\n",
      "(256, 30, 0.001, 'Adam') 1.9774326233145518\n",
      "(256, 30, 0.001, 'SGD') 1.7380333223786109\n"
     ]
    },
    {
     "data": {
      "application/javascript": [
       "\n",
       "            setTimeout(function() {\n",
       "                var nbb_cell_id = 41;\n",
       "                var nbb_unformatted_code = \"print_results(EMOS_local_ws10_hyper_scores, 4)\";\n",
       "                var nbb_formatted_code = \"print_results(EMOS_local_ws10_hyper_scores, 4)\";\n",
       "                var nbb_cells = Jupyter.notebook.get_cells();\n",
       "                for (var i = 0; i < nbb_cells.length; ++i) {\n",
       "                    if (nbb_cells[i].input_prompt_number == nbb_cell_id) {\n",
       "                        if (nbb_cells[i].get_text() == nbb_unformatted_code) {\n",
       "                             nbb_cells[i].set_text(nbb_formatted_code);\n",
       "                        }\n",
       "                        break;\n",
       "                    }\n",
       "                }\n",
       "            }, 500);\n",
       "            "
      ],
      "text/plain": [
       "<IPython.core.display.Javascript object>"
      ]
     },
     "metadata": {},
     "output_type": "display_data"
    }
   ],
   "source": [
    "print_results(EMOS_local_ws10_hyper_scores, 4)"
   ]
  },
  {
   "cell_type": "code",
   "execution_count": 42,
   "id": "1cbee8c8",
   "metadata": {},
   "outputs": [
    {
     "name": "stdout",
     "output_type": "stream",
     "text": [
      "Best params (64, 30, 0.1, 'Adam') score: 1.4604532317473338 ,in lead_time 30\n",
      "(16, 15, 0.1, 'Adam') 1.4605946579040625\n",
      "(16, 15, 0.01, 'Adam') 1.466197634736697\n",
      "(16, 15, 0.001, 'Adam') 1.4892995009819667\n",
      "(16, 30, 0.1, 'Adam') 1.4610863509468544\n",
      "(16, 30, 0.01, 'Adam') 1.463785847601218\n",
      "(16, 30, 0.001, 'Adam') 1.477451706543947\n",
      "(16, 50, 0.1, 'Adam') 1.4613825315848374\n",
      "(16, 50, 0.01, 'Adam') 1.4642540418948882\n",
      "(16, 50, 0.001, 'Adam') 1.475491270231895\n",
      "(64, 15, 0.1, 'Adam') 1.461838068297276\n",
      "(64, 15, 0.01, 'Adam') 1.475994626298929\n",
      "(64, 15, 0.001, 'Adam') 1.73963413387537\n",
      "(64, 30, 0.1, 'Adam') 1.4604532317473338\n",
      "(64, 30, 0.01, 'Adam') 1.4697506935932698\n",
      "(64, 30, 0.001, 'Adam') 1.5883338340581992\n",
      "(64, 50, 0.1, 'Adam') 1.4607817507707155\n",
      "(64, 50, 0.01, 'Adam') 1.467220895565473\n",
      "(64, 50, 0.001, 'Adam') 1.4967874995408914\n",
      "(512, 15, 0.1, 'Adam') 1.4956031248737605\n",
      "(512, 15, 0.01, 'Adam') 1.600809140656239\n",
      "(512, 15, 0.001, 'Adam') 2.2783089324067802\n",
      "(512, 30, 0.1, 'Adam') 1.49058943375563\n",
      "(512, 30, 0.01, 'Adam') 1.4930293147380536\n",
      "(512, 30, 0.001, 'Adam') 2.2840744249331646\n",
      "(512, 50, 0.1, 'Adam') 1.4911404697176738\n",
      "(512, 50, 0.01, 'Adam') 1.4825672537852557\n",
      "(512, 50, 0.001, 'Adam') 1.9224979075101705\n",
      "(1024, 15, 0.1, 'Adam') 1.495905621502644\n",
      "(1024, 15, 0.01, 'Adam') 1.7562791645908966\n",
      "(1024, 15, 0.001, 'Adam') 2.40507870587783\n",
      "(1024, 30, 0.1, 'Adam') 1.4974633663510666\n",
      "(1024, 30, 0.01, 'Adam') 1.5338177940784357\n",
      "(1024, 30, 0.001, 'Adam') 2.2759731620168075\n",
      "(1024, 50, 0.1, 'Adam') 1.494749835668466\n",
      "(1024, 50, 0.01, 'Adam') 1.4881847777809851\n",
      "(1024, 50, 0.001, 'Adam') 2.037597333964629\n",
      "(2048, 15, 0.1, 'Adam') 1.4960052495201428\n",
      "(2048, 15, 0.01, 'Adam') 2.0505412597304735\n",
      "(2048, 15, 0.001, 'Adam') 2.5786275002054677\n",
      "(2048, 30, 0.1, 'Adam') 1.498195196955632\n",
      "(2048, 30, 0.01, 'Adam') 1.6753419702633834\n",
      "(2048, 30, 0.001, 'Adam') 2.4109270750330043\n",
      "(2048, 50, 0.1, 'Adam') 1.4952874428186662\n",
      "(2048, 50, 0.01, 'Adam') 1.5611270901102285\n",
      "(2048, 50, 0.001, 'Adam') 2.2528179331849785\n"
     ]
    },
    {
     "data": {
      "application/javascript": [
       "\n",
       "            setTimeout(function() {\n",
       "                var nbb_cell_id = 42;\n",
       "                var nbb_unformatted_code = \"print_results(EMOS_local_ws10_hyper_scores, 5)\";\n",
       "                var nbb_formatted_code = \"print_results(EMOS_local_ws10_hyper_scores, 5)\";\n",
       "                var nbb_cells = Jupyter.notebook.get_cells();\n",
       "                for (var i = 0; i < nbb_cells.length; ++i) {\n",
       "                    if (nbb_cells[i].input_prompt_number == nbb_cell_id) {\n",
       "                        if (nbb_cells[i].get_text() == nbb_unformatted_code) {\n",
       "                             nbb_cells[i].set_text(nbb_formatted_code);\n",
       "                        }\n",
       "                        break;\n",
       "                    }\n",
       "                }\n",
       "            }, 500);\n",
       "            "
      ],
      "text/plain": [
       "<IPython.core.display.Javascript object>"
      ]
     },
     "metadata": {},
     "output_type": "display_data"
    }
   ],
   "source": [
    "print_results(EMOS_local_ws10_hyper_scores, 5)"
   ]
  },
  {
   "cell_type": "markdown",
   "id": "e390e535",
   "metadata": {},
   "source": [
    "### 3. Scores for comparison:"
   ]
  },
  {
   "cell_type": "code",
   "execution_count": 43,
   "id": "755b343f",
   "metadata": {},
   "outputs": [
    {
     "data": {
      "application/javascript": [
       "\n",
       "            setTimeout(function() {\n",
       "                var nbb_cell_id = 43;\n",
       "                var nbb_unformatted_code = \"# Load EMOS local scores\\nEMOS_local_t2m_scores = EMOS_local_load_score(\\\"t2m\\\")\\n# EMOS_local_ws10_scores = EMOS_local_load_score(\\\"ws10\\\")\\n\\n# Load EMOS global scores\\nEMOS_global_t2m_scores = EMOS_global_load_score(\\\"t2m\\\")\\nEMOS_global_ws10_scores = EMOS_global_load_score(\\\"ws10\\\")\\n\\n# Load CRPS scores\\nCRPS_global_t2m_scores = crps_load_lead_lat_lon(\\\"t2m\\\")\\nCRPS_global_ws10_scores = crps_load_lead_lat_lon(\\\"ws10\\\")\";\n",
       "                var nbb_formatted_code = \"# Load EMOS local scores\\nEMOS_local_t2m_scores = EMOS_local_load_score(\\\"t2m\\\")\\n# EMOS_local_ws10_scores = EMOS_local_load_score(\\\"ws10\\\")\\n\\n# Load EMOS global scores\\nEMOS_global_t2m_scores = EMOS_global_load_score(\\\"t2m\\\")\\nEMOS_global_ws10_scores = EMOS_global_load_score(\\\"ws10\\\")\\n\\n# Load CRPS scores\\nCRPS_global_t2m_scores = crps_load_lead_lat_lon(\\\"t2m\\\")\\nCRPS_global_ws10_scores = crps_load_lead_lat_lon(\\\"ws10\\\")\";\n",
       "                var nbb_cells = Jupyter.notebook.get_cells();\n",
       "                for (var i = 0; i < nbb_cells.length; ++i) {\n",
       "                    if (nbb_cells[i].input_prompt_number == nbb_cell_id) {\n",
       "                        if (nbb_cells[i].get_text() == nbb_unformatted_code) {\n",
       "                             nbb_cells[i].set_text(nbb_formatted_code);\n",
       "                        }\n",
       "                        break;\n",
       "                    }\n",
       "                }\n",
       "            }, 500);\n",
       "            "
      ],
      "text/plain": [
       "<IPython.core.display.Javascript object>"
      ]
     },
     "metadata": {},
     "output_type": "display_data"
    }
   ],
   "source": [
    "# Load EMOS local scores\n",
    "EMOS_local_t2m_scores = EMOS_local_load_score(\"t2m\")\n",
    "# EMOS_local_ws10_scores = EMOS_local_load_score(\"ws10\")\n",
    "\n",
    "# Load EMOS global scores\n",
    "EMOS_global_t2m_scores = EMOS_global_load_score(\"t2m\")\n",
    "EMOS_global_ws10_scores = EMOS_global_load_score(\"ws10\")\n",
    "\n",
    "# Load CRPS scores\n",
    "CRPS_global_t2m_scores = crps_load_lead_lat_lon(\"t2m\")\n",
    "CRPS_global_ws10_scores = crps_load_lead_lat_lon(\"ws10\")"
   ]
  },
  {
   "cell_type": "code",
   "execution_count": 44,
   "id": "12544693",
   "metadata": {
    "collapsed": true
   },
   "outputs": [
    {
     "name": "stdout",
     "output_type": "stream",
     "text": [
      "Temperature:\n",
      "Lead 0:EMOS_loc: 0.415053105392251, EMOS_glob: 0.46703651029923665, CRPS: 0.5084816639136492\n",
      "Lead 1:EMOS_loc: 0.4570667604054852, EMOS_glob: 0.5298957333000098, CRPS: 0.5347707002046389\n",
      "Lead 2:EMOS_loc: 0.4764044947829555, EMOS_glob: 0.5111855084322628, CRPS: 0.5150757989800734\n",
      "Lead 3:EMOS_loc: 0.48515283096321316, EMOS_glob: 0.5183820239839588, CRPS: 0.5301602687833538\n",
      "Lead 4:EMOS_loc: 0.5089567601152319, EMOS_glob: 0.5376392532805744, CRPS: 0.5624034501418446\n",
      "Lead 5:EMOS_loc: 0.548447341694951, EMOS_glob: 0.5939897328842008, CRPS: 0.6306282599852645\n",
      "Lead 6:EMOS_loc: 0.5710812135540558, EMOS_glob: 0.5924088144510241, CRPS: 0.6316119778923832\n",
      "Lead 7:EMOS_loc: 0.5755256235342039, EMOS_glob: 0.6024678559619754, CRPS: 0.6454345388357919\n",
      "Lead 8:EMOS_loc: 0.6027694817392227, EMOS_glob: 0.6265648309789082, CRPS: 0.6802850949781106\n",
      "Lead 9:EMOS_loc: 0.6559653745022869, EMOS_glob: 0.6937458851013558, CRPS: 0.7561511514525252\n",
      "Lead 10:EMOS_loc: 0.6802171031411963, EMOS_glob: 0.6958467261895463, CRPS: 0.7596827249402444\n",
      "Lead 11:EMOS_loc: 0.6793467546496924, EMOS_glob: 0.7032838196351372, CRPS: 0.7671595364524374\n",
      "Lead 12:EMOS_loc: 0.7125745012498252, EMOS_glob: 0.7309746362686439, CRPS: 0.8087436349681829\n",
      "Lead 13:EMOS_loc: 0.7749779855395125, EMOS_glob: 0.8061964020303785, CRPS: 0.8907210185014609\n",
      "Lead 14:EMOS_loc: 0.7951062756172094, EMOS_glob: 0.8106952011303574, CRPS: 0.8895929183430251\n",
      "Lead 15:EMOS_loc: 0.7896939886240791, EMOS_glob: 0.8063593058476693, CRPS: 0.8913402208770865\n",
      "Lead 16:EMOS_loc: 0.824653898039369, EMOS_glob: 0.8396767227407256, CRPS: 0.9354666921537256\n",
      "Lead 17:EMOS_loc: 0.8991138613506323, EMOS_glob: 0.9253094152419413, CRPS: 1.030760697007392\n",
      "Lead 18:EMOS_loc: 0.9122335393543238, EMOS_glob: 0.9244103431114752, CRPS: 1.020928305756169\n",
      "Lead 19:EMOS_loc: 0.8980411414433244, EMOS_glob: 0.9158587177946148, CRPS: 1.011146119667486\n",
      "Lead 20:EMOS_loc: 0.9339109912917022, EMOS_glob: 0.9477237022814626, CRPS: 1.0559743772319934\n",
      "Lead 21:EMOS_loc: 1.0250725105240275, EMOS_glob: 1.0486241355164112, CRPS: 1.170507971000092\n",
      "Lead 22:EMOS_loc: 1.02768161320486, EMOS_glob: 1.0390171211692882, CRPS: 1.1471350159491147\n",
      "Lead 23:EMOS_loc: 1.0026194044589674, EMOS_glob: 1.0153090562183535, CRPS: 1.1231032795400633\n",
      "Lead 24:EMOS_loc: 1.038808348758008, EMOS_glob: 1.051807358420797, CRPS: 1.1665183732402151\n",
      "Lead 25:EMOS_loc: 1.1376150709404622, EMOS_glob: 1.1572987502464485, CRPS: 1.291409822220935\n",
      "Lead 26:EMOS_loc: 1.130741955961081, EMOS_glob: 1.1384145365151879, CRPS: 1.2553212202206236\n",
      "Lead 27:EMOS_loc: 1.0948988115823663, EMOS_glob: 1.1052877757773611, CRPS: 1.2185923742165932\n",
      "Lead 28:EMOS_loc: 1.1296306841630386, EMOS_glob: 1.137667713788714, CRPS: 1.261623224976432\n",
      "Lead 29:EMOS_loc: 1.245663048809305, EMOS_glob: 1.2721116780946715, CRPS: 1.4120354238676378\n",
      "Lead 30:EMOS_loc: 1.226442443735572, EMOS_glob: 1.2296079979755303, CRPS: 1.3563336012079834\n"
     ]
    },
    {
     "data": {
      "application/javascript": [
       "\n",
       "            setTimeout(function() {\n",
       "                var nbb_cell_id = 44;\n",
       "                var nbb_unformatted_code = \"print(\\\"Temperature:\\\")\\nfor lead_time in range(len(EMOS_local_t2m_scores)):\\n    print(\\n        f\\\"Lead {lead_time}:EMOS_loc: {EMOS_local_t2m_scores[lead_time].mean()}, EMOS_glob: {EMOS_global_t2m_scores[lead_time].mean()}, CRPS: {CRPS_global_t2m_scores[lead_time].mean()}\\\"\\n    )\";\n",
       "                var nbb_formatted_code = \"print(\\\"Temperature:\\\")\\nfor lead_time in range(len(EMOS_local_t2m_scores)):\\n    print(\\n        f\\\"Lead {lead_time}:EMOS_loc: {EMOS_local_t2m_scores[lead_time].mean()}, EMOS_glob: {EMOS_global_t2m_scores[lead_time].mean()}, CRPS: {CRPS_global_t2m_scores[lead_time].mean()}\\\"\\n    )\";\n",
       "                var nbb_cells = Jupyter.notebook.get_cells();\n",
       "                for (var i = 0; i < nbb_cells.length; ++i) {\n",
       "                    if (nbb_cells[i].input_prompt_number == nbb_cell_id) {\n",
       "                        if (nbb_cells[i].get_text() == nbb_unformatted_code) {\n",
       "                             nbb_cells[i].set_text(nbb_formatted_code);\n",
       "                        }\n",
       "                        break;\n",
       "                    }\n",
       "                }\n",
       "            }, 500);\n",
       "            "
      ],
      "text/plain": [
       "<IPython.core.display.Javascript object>"
      ]
     },
     "metadata": {},
     "output_type": "display_data"
    }
   ],
   "source": [
    "print(\"Temperature:\")\n",
    "for lead_time in range(len(EMOS_local_t2m_scores)):\n",
    "    print(\n",
    "        f\"Lead {lead_time}:EMOS_loc: {EMOS_local_t2m_scores[lead_time].mean()}, EMOS_glob: {EMOS_global_t2m_scores[lead_time].mean()}, CRPS: {CRPS_global_t2m_scores[lead_time].mean()}\"\n",
    "    )"
   ]
  },
  {
   "cell_type": "code",
   "execution_count": 45,
   "id": "898a9d43",
   "metadata": {},
   "outputs": [
    {
     "name": "stdout",
     "output_type": "stream",
     "text": [
      "wind speed:\n",
      "Lead 0: EMOS_glob: 0.4689788520336151, CRPS: 0.4708288311958313\n",
      "Lead 1: EMOS_glob: 0.5485468506813049, CRPS: 0.5626273155212402\n",
      "Lead 2: EMOS_glob: 0.5387235879898071, CRPS: 0.5660684704780579\n",
      "Lead 3: EMOS_glob: 0.5810754895210266, CRPS: 0.6244665384292603\n",
      "Lead 4: EMOS_glob: 0.5985533595085144, CRPS: 0.6273626685142517\n",
      "Lead 5: EMOS_glob: 0.6974762082099915, CRPS: 0.7419385313987732\n",
      "Lead 6: EMOS_glob: 0.6999446153640747, CRPS: 0.7447009086608887\n",
      "Lead 7: EMOS_glob: 0.7532394528388977, CRPS: 0.8054525852203369\n",
      "Lead 8: EMOS_glob: 0.7907955646514893, CRPS: 0.834025502204895\n",
      "Lead 9: EMOS_glob: 0.8990633487701416, CRPS: 0.9581987261772156\n",
      "Lead 10: EMOS_glob: 0.8921324610710144, CRPS: 0.9486294984817505\n",
      "Lead 11: EMOS_glob: 0.9365354776382446, CRPS: 0.997710645198822\n",
      "Lead 12: EMOS_glob: 0.9743002653121948, CRPS: 1.0248152017593384\n",
      "Lead 13: EMOS_glob: 1.0819379091262817, CRPS: 1.147271752357483\n",
      "Lead 14: EMOS_glob: 1.0613116025924683, CRPS: 1.120965838432312\n",
      "Lead 15: EMOS_glob: 1.094346523284912, CRPS: 1.1554666757583618\n",
      "Lead 16: EMOS_glob: 1.1219733953475952, CRPS: 1.1716784238815308\n",
      "Lead 17: EMOS_glob: 1.2190592288970947, CRPS: 1.2803926467895508\n",
      "Lead 18: EMOS_glob: 1.1862679719924927, CRPS: 1.2406598329544067\n",
      "Lead 19: EMOS_glob: 1.2086464166641235, CRPS: 1.2650195360183716\n",
      "Lead 20: EMOS_glob: 1.2336655855178833, CRPS: 1.2812318801879883\n",
      "Lead 21: EMOS_glob: 1.3313162326812744, CRPS: 1.3930284976959229\n",
      "Lead 22: EMOS_glob: 1.2902032136917114, CRPS: 1.3470748662948608\n",
      "Lead 23: EMOS_glob: 1.304429531097412, CRPS: 1.3625421524047852\n",
      "Lead 24: EMOS_glob: 1.3217800855636597, CRPS: 1.370863676071167\n",
      "Lead 25: EMOS_glob: 1.4142732620239258, CRPS: 1.476784110069275\n",
      "Lead 26: EMOS_glob: 1.3629432916641235, CRPS: 1.4213701486587524\n",
      "Lead 27: EMOS_glob: 1.3705626726150513, CRPS: 1.4293179512023926\n",
      "Lead 28: EMOS_glob: 1.3824900388717651, CRPS: 1.4322772026062012\n",
      "Lead 29: EMOS_glob: 1.4722537994384766, CRPS: 1.536927580833435\n",
      "Lead 30: EMOS_glob: 1.411123275756836, CRPS: 1.4698940515518188\n"
     ]
    },
    {
     "data": {
      "application/javascript": [
       "\n",
       "            setTimeout(function() {\n",
       "                var nbb_cell_id = 45;\n",
       "                var nbb_unformatted_code = \"print(\\\"wind speed:\\\")\\nfor lead_time in range(len(EMOS_global_ws10_scores)):\\n    print(\\n        f\\\"Lead {lead_time}: EMOS_glob: {EMOS_global_ws10_scores[lead_time].mean()}, CRPS: {CRPS_global_ws10_scores[lead_time].mean()}\\\"\\n    )\";\n",
       "                var nbb_formatted_code = \"print(\\\"wind speed:\\\")\\nfor lead_time in range(len(EMOS_global_ws10_scores)):\\n    print(\\n        f\\\"Lead {lead_time}: EMOS_glob: {EMOS_global_ws10_scores[lead_time].mean()}, CRPS: {CRPS_global_ws10_scores[lead_time].mean()}\\\"\\n    )\";\n",
       "                var nbb_cells = Jupyter.notebook.get_cells();\n",
       "                for (var i = 0; i < nbb_cells.length; ++i) {\n",
       "                    if (nbb_cells[i].input_prompt_number == nbb_cell_id) {\n",
       "                        if (nbb_cells[i].get_text() == nbb_unformatted_code) {\n",
       "                             nbb_cells[i].set_text(nbb_formatted_code);\n",
       "                        }\n",
       "                        break;\n",
       "                    }\n",
       "                }\n",
       "            }, 500);\n",
       "            "
      ],
      "text/plain": [
       "<IPython.core.display.Javascript object>"
      ]
     },
     "metadata": {},
     "output_type": "display_data"
    }
   ],
   "source": [
    "print(\"wind speed:\")\n",
    "for lead_time in range(len(EMOS_global_ws10_scores)):\n",
    "    print(\n",
    "        f\"Lead {lead_time}: EMOS_glob: {EMOS_global_ws10_scores[lead_time].mean()}, CRPS: {CRPS_global_ws10_scores[lead_time].mean()}\"\n",
    "    )"
   ]
  },
  {
   "cell_type": "code",
   "execution_count": null,
   "id": "70ae610d",
   "metadata": {},
   "outputs": [],
   "source": []
  },
  {
   "cell_type": "code",
   "execution_count": null,
   "id": "0cd5a542",
   "metadata": {},
   "outputs": [],
   "source": []
  },
  {
   "cell_type": "code",
   "execution_count": null,
   "id": "219a931b",
   "metadata": {},
   "outputs": [],
   "source": []
  },
  {
   "cell_type": "code",
   "execution_count": null,
   "id": "e55bb225",
   "metadata": {},
   "outputs": [],
   "source": []
  },
  {
   "cell_type": "code",
   "execution_count": null,
   "id": "8c4b02d5",
   "metadata": {},
   "outputs": [],
   "source": []
  },
  {
   "cell_type": "code",
   "execution_count": null,
   "id": "0166011f",
   "metadata": {},
   "outputs": [],
   "source": []
  },
  {
   "cell_type": "code",
   "execution_count": null,
   "id": "d40d1f06",
   "metadata": {},
   "outputs": [],
   "source": []
  },
  {
   "cell_type": "code",
   "execution_count": null,
   "id": "ae7ff1c5",
   "metadata": {},
   "outputs": [],
   "source": []
  },
  {
   "cell_type": "code",
   "execution_count": null,
   "id": "f94e77cd",
   "metadata": {},
   "outputs": [],
   "source": []
  },
  {
   "cell_type": "code",
   "execution_count": null,
   "id": "591a9b97",
   "metadata": {},
   "outputs": [],
   "source": []
  }
 ],
 "metadata": {
  "kernelspec": {
   "display_name": "Python 3 (ipykernel)",
   "language": "python",
   "name": "python3"
  },
  "language_info": {
   "codemirror_mode": {
    "name": "ipython",
    "version": 3
   },
   "file_extension": ".py",
   "mimetype": "text/x-python",
   "name": "python",
   "nbconvert_exporter": "python",
   "pygments_lexer": "ipython3",
   "version": "3.9.7"
  }
 },
 "nbformat": 4,
 "nbformat_minor": 5
}
