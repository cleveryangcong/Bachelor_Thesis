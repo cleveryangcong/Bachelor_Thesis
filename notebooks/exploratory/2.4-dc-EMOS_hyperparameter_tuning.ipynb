{
 "cells": [
  {
   "cell_type": "code",
   "execution_count": 1,
   "id": "5b10a71e",
   "metadata": {},
   "outputs": [
    {
     "data": {
      "application/javascript": [
       "\n",
       "            setTimeout(function() {\n",
       "                var nbb_cell_id = 1;\n",
       "                var nbb_unformatted_code = \"%load_ext nb_black\";\n",
       "                var nbb_formatted_code = \"%load_ext nb_black\";\n",
       "                var nbb_cells = Jupyter.notebook.get_cells();\n",
       "                for (var i = 0; i < nbb_cells.length; ++i) {\n",
       "                    if (nbb_cells[i].input_prompt_number == nbb_cell_id) {\n",
       "                        if (nbb_cells[i].get_text() == nbb_unformatted_code) {\n",
       "                             nbb_cells[i].set_text(nbb_formatted_code);\n",
       "                        }\n",
       "                        break;\n",
       "                    }\n",
       "                }\n",
       "            }, 500);\n",
       "            "
      ],
      "text/plain": [
       "<IPython.core.display.Javascript object>"
      ]
     },
     "metadata": {},
     "output_type": "display_data"
    }
   ],
   "source": [
    "%load_ext nb_black"
   ]
  },
  {
   "cell_type": "code",
   "execution_count": 3,
   "id": "02f81271",
   "metadata": {},
   "outputs": [
    {
     "data": {
      "application/javascript": [
       "\n",
       "            setTimeout(function() {\n",
       "                var nbb_cell_id = 3;\n",
       "                var nbb_unformatted_code = \"# Helpful\\nimport tqdm\\n\\n# Visualization\\nimport matplotlib.pyplot as plt\\n\\n# My Methods\\nfrom src.utils.CRPS import *\\nfrom src.utils.data_split import *\\nfrom src.models.EMOS import *\\nfrom src.models.EMOS_global.EMOS_global_load_score import *\\nfrom src.models.EMOS_local.EMOS_local_load_score import *\\nfrom src.models.EMOS_local.EMOS_local_load_model import *\\nfrom src.models.EMOS_global.EMOS_global_load_model import *\\nfrom src.models.EMOS_local.EMOS_local_hyper_tune import *\\nimport data.raw.load_data_raw as ldr\\nimport data.processed.load_data_processed as ldp\\nimport data.processed.load_data_processed_denormed as ldpd\\nfrom src.models.CRPS_baseline.CRPS_load import *\\nfrom src.models.EMOS_local.EMOS_local_train import *\";\n",
       "                var nbb_formatted_code = \"# Helpful\\nimport tqdm\\n\\n# Visualization\\nimport matplotlib.pyplot as plt\\n\\n# My Methods\\nfrom src.utils.CRPS import *\\nfrom src.utils.data_split import *\\nfrom src.models.EMOS import *\\nfrom src.models.EMOS_global.EMOS_global_load_score import *\\nfrom src.models.EMOS_local.EMOS_local_load_score import *\\nfrom src.models.EMOS_local.EMOS_local_load_model import *\\nfrom src.models.EMOS_global.EMOS_global_load_model import *\\nfrom src.models.EMOS_local.EMOS_local_hyper_tune import *\\nimport data.raw.load_data_raw as ldr\\nimport data.processed.load_data_processed as ldp\\nimport data.processed.load_data_processed_denormed as ldpd\\nfrom src.models.CRPS_baseline.CRPS_load import *\\nfrom src.models.EMOS_local.EMOS_local_train import *\";\n",
       "                var nbb_cells = Jupyter.notebook.get_cells();\n",
       "                for (var i = 0; i < nbb_cells.length; ++i) {\n",
       "                    if (nbb_cells[i].input_prompt_number == nbb_cell_id) {\n",
       "                        if (nbb_cells[i].get_text() == nbb_unformatted_code) {\n",
       "                             nbb_cells[i].set_text(nbb_formatted_code);\n",
       "                        }\n",
       "                        break;\n",
       "                    }\n",
       "                }\n",
       "            }, 500);\n",
       "            "
      ],
      "text/plain": [
       "<IPython.core.display.Javascript object>"
      ]
     },
     "metadata": {},
     "output_type": "display_data"
    }
   ],
   "source": [
    "# Helpful\n",
    "import tqdm\n",
    "\n",
    "# Visualization\n",
    "import matplotlib.pyplot as plt\n",
    "\n",
    "# My Methods\n",
    "from src.utils.CRPS import *\n",
    "from src.utils.data_split import *\n",
    "from src.models.EMOS import *\n",
    "from src.models.EMOS_global.EMOS_global_load_score import *\n",
    "from src.models.EMOS_local.EMOS_local_load_score import *\n",
    "from src.models.EMOS_local.EMOS_local_load_model import *\n",
    "from src.models.EMOS_global.EMOS_global_load_model import *\n",
    "from src.models.EMOS_local.EMOS_local_hyper_tune import *\n",
    "import data.raw.load_data_raw as ldr\n",
    "import data.processed.load_data_processed as ldp\n",
    "import data.processed.load_data_processed_denormed as ldpd\n",
    "from src.models.CRPS_baseline.CRPS_load import *\n",
    "from src.models.EMOS_local.EMOS_local_train import *"
   ]
  },
  {
   "cell_type": "markdown",
   "id": "cdce041e",
   "metadata": {},
   "source": [
    "### 0. Testing until Global Hyperparameter tuning works:"
   ]
  },
  {
   "cell_type": "code",
   "execution_count": 18,
   "id": "622712ab",
   "metadata": {},
   "outputs": [
    {
     "data": {
      "application/javascript": [
       "\n",
       "            setTimeout(function() {\n",
       "                var nbb_cell_id = 18;\n",
       "                var nbb_unformatted_code = \"from src.models.EMOS_global.EMOS_global_hyper_tune import *\";\n",
       "                var nbb_formatted_code = \"from src.models.EMOS_global.EMOS_global_hyper_tune import *\";\n",
       "                var nbb_cells = Jupyter.notebook.get_cells();\n",
       "                for (var i = 0; i < nbb_cells.length; ++i) {\n",
       "                    if (nbb_cells[i].input_prompt_number == nbb_cell_id) {\n",
       "                        if (nbb_cells[i].get_text() == nbb_unformatted_code) {\n",
       "                             nbb_cells[i].set_text(nbb_formatted_code);\n",
       "                        }\n",
       "                        break;\n",
       "                    }\n",
       "                }\n",
       "            }, 500);\n",
       "            "
      ],
      "text/plain": [
       "<IPython.core.display.Javascript object>"
      ]
     },
     "metadata": {},
     "output_type": "display_data"
    }
   ],
   "source": [
    "from src.models.EMOS_global.EMOS_global_hyper_tune import *"
   ]
  },
  {
   "cell_type": "code",
   "execution_count": 19,
   "id": "0d2c1527",
   "metadata": {},
   "outputs": [
    {
     "name": "stderr",
     "output_type": "stream",
     "text": [
      "  0%|                                                                                | 0/1 [00:00<?, ?it/s]2023-06-02 18:56:47.480358: W tensorflow/stream_executor/platform/default/dso_loader.cc:64] Could not load dynamic library 'libcudart.so.11.0'; dlerror: libcudart.so.11.0: cannot open shared object file: No such file or directory; LD_LIBRARY_PATH: :/opt/anaconda3/lib/\n",
      "2023-06-02 18:56:47.480460: W tensorflow/stream_executor/platform/default/dso_loader.cc:64] Could not load dynamic library 'libcublas.so.11'; dlerror: libcublas.so.11: cannot open shared object file: No such file or directory; LD_LIBRARY_PATH: :/opt/anaconda3/lib/\n",
      "2023-06-02 18:56:47.480506: W tensorflow/stream_executor/platform/default/dso_loader.cc:64] Could not load dynamic library 'libcublasLt.so.11'; dlerror: libcublasLt.so.11: cannot open shared object file: No such file or directory; LD_LIBRARY_PATH: :/opt/anaconda3/lib/\n",
      "2023-06-02 18:56:47.480549: W tensorflow/stream_executor/platform/default/dso_loader.cc:64] Could not load dynamic library 'libcufft.so.10'; dlerror: libcufft.so.10: cannot open shared object file: No such file or directory; LD_LIBRARY_PATH: :/opt/anaconda3/lib/\n",
      "2023-06-02 18:56:47.506557: W tensorflow/stream_executor/platform/default/dso_loader.cc:64] Could not load dynamic library 'libcusparse.so.11'; dlerror: libcusparse.so.11: cannot open shared object file: No such file or directory; LD_LIBRARY_PATH: :/opt/anaconda3/lib/\n",
      "2023-06-02 18:56:47.506757: W tensorflow/core/common_runtime/gpu/gpu_device.cc:1850] Cannot dlopen some GPU libraries. Please make sure the missing libraries mentioned above are installed properly if you would like to use GPU. Follow the guide at https://www.tensorflow.org/install/gpu for how to download and setup the required libraries for your platform.\n",
      "Skipping registering GPU devices...\n",
      "2023-06-02 18:56:47.507163: I tensorflow/core/platform/cpu_feature_guard.cc:151] This TensorFlow binary is optimized with oneAPI Deep Neural Network Library (oneDNN) to use the following CPU instructions in performance-critical operations:  AVX2 AVX512F FMA\n",
      "To enable them in other operations, rebuild TensorFlow with the appropriate compiler flags.\n",
      "100%|███████████████████████████████████████████████████████████████████████| 1/1 [02:09<00:00, 129.93s/it]"
     ]
    },
    {
     "name": "stdout",
     "output_type": "stream",
     "text": [
      "[(1024, 10, 0.1, 'Adam'), 0.49581706523895264]\n"
     ]
    },
    {
     "name": "stderr",
     "output_type": "stream",
     "text": [
      "\n"
     ]
    },
    {
     "data": {
      "application/javascript": [
       "\n",
       "            setTimeout(function() {\n",
       "                var nbb_cell_id = 19;\n",
       "                var nbb_unformatted_code = \"var_names = [\\\"u10\\\", \\\"v10\\\", \\\"t2m\\\", \\\"t850\\\", \\\"z500\\\", \\\"ws10\\\"]\\nvar_num = 2\\nlead_time = 0 \\nepochs = [10]\\nbatch_sizes = [1024]\\nlrs = [0.1]\\noptimizers = ['Adam']\\nbest_params, best_score = EMOS_global_hyper_tune(var_num, lead_time, batch_sizes = batch_sizes, epochs = epochs, lrs = lrs, optimizers = optimizers)\\nbest_parms_score = [best_params, best_score]\\nprint(best_parms_score)\";\n",
       "                var nbb_formatted_code = \"var_names = [\\\"u10\\\", \\\"v10\\\", \\\"t2m\\\", \\\"t850\\\", \\\"z500\\\", \\\"ws10\\\"]\\nvar_num = 2\\nlead_time = 0\\nepochs = [10]\\nbatch_sizes = [1024]\\nlrs = [0.1]\\noptimizers = [\\\"Adam\\\"]\\nbest_params, best_score = EMOS_global_hyper_tune(\\n    var_num,\\n    lead_time,\\n    batch_sizes=batch_sizes,\\n    epochs=epochs,\\n    lrs=lrs,\\n    optimizers=optimizers,\\n)\\nbest_parms_score = [best_params, best_score]\\nprint(best_parms_score)\";\n",
       "                var nbb_cells = Jupyter.notebook.get_cells();\n",
       "                for (var i = 0; i < nbb_cells.length; ++i) {\n",
       "                    if (nbb_cells[i].input_prompt_number == nbb_cell_id) {\n",
       "                        if (nbb_cells[i].get_text() == nbb_unformatted_code) {\n",
       "                             nbb_cells[i].set_text(nbb_formatted_code);\n",
       "                        }\n",
       "                        break;\n",
       "                    }\n",
       "                }\n",
       "            }, 500);\n",
       "            "
      ],
      "text/plain": [
       "<IPython.core.display.Javascript object>"
      ]
     },
     "metadata": {},
     "output_type": "display_data"
    }
   ],
   "source": [
    "var_names = [\"u10\", \"v10\", \"t2m\", \"t850\", \"z500\", \"ws10\"]\n",
    "var_num = 2\n",
    "lead_time = 0\n",
    "epochs = [10]\n",
    "batch_sizes = [1024]\n",
    "lrs = [0.1]\n",
    "optimizers = [\"Adam\"]\n",
    "best_params, best_score = EMOS_global_hyper_tune(\n",
    "    var_num,\n",
    "    lead_time,\n",
    "    batch_sizes=batch_sizes,\n",
    "    epochs=epochs,\n",
    "    lrs=lrs,\n",
    "    optimizers=optimizers,\n",
    ")\n",
    "best_parms_score = [best_params, best_score]\n",
    "print(best_parms_score)"
   ]
  },
  {
   "cell_type": "code",
   "execution_count": 21,
   "id": "998437d8",
   "metadata": {},
   "outputs": [
    {
     "data": {
      "application/javascript": [
       "\n",
       "            setTimeout(function() {\n",
       "                var nbb_cell_id = 21;\n",
       "                var nbb_unformatted_code = \"path = f\\\"/Data/Delong_BA_Data/scores/EMOS_global_hyper_scores/EMOS_global_hyper_{var_names[var_num]}_{lead_time}_{best_score}.pkl\\\"\\nwith open(path, \\\"wb\\\") as file:\\n    pickle.dump(best_parms_score, file)\";\n",
       "                var nbb_formatted_code = \"path = f\\\"/Data/Delong_BA_Data/scores/EMOS_global_hyper_scores/EMOS_global_hyper_{var_names[var_num]}_{lead_time}_{best_score}.pkl\\\"\\nwith open(path, \\\"wb\\\") as file:\\n    pickle.dump(best_parms_score, file)\";\n",
       "                var nbb_cells = Jupyter.notebook.get_cells();\n",
       "                for (var i = 0; i < nbb_cells.length; ++i) {\n",
       "                    if (nbb_cells[i].input_prompt_number == nbb_cell_id) {\n",
       "                        if (nbb_cells[i].get_text() == nbb_unformatted_code) {\n",
       "                             nbb_cells[i].set_text(nbb_formatted_code);\n",
       "                        }\n",
       "                        break;\n",
       "                    }\n",
       "                }\n",
       "            }, 500);\n",
       "            "
      ],
      "text/plain": [
       "<IPython.core.display.Javascript object>"
      ]
     },
     "metadata": {},
     "output_type": "display_data"
    }
   ],
   "source": [
    "path = f\"/Data/Delong_BA_Data/scores/EMOS_global_hyper_scores/EMOS_global_hyper_{var_names[var_num]}_{lead_time}_{best_score}.pkl\"\n",
    "with open(path, \"wb\") as file:\n",
    "    pickle.dump(best_parms_score, file)"
   ]
  },
  {
   "cell_type": "code",
   "execution_count": null,
   "id": "07018d36",
   "metadata": {},
   "outputs": [],
   "source": []
  },
  {
   "cell_type": "markdown",
   "id": "f10fc289",
   "metadata": {},
   "source": [
    "### 0. Set up"
   ]
  },
  {
   "cell_type": "code",
   "execution_count": 45,
   "id": "9a150fc0",
   "metadata": {},
   "outputs": [
    {
     "data": {
      "application/javascript": [
       "\n",
       "            setTimeout(function() {\n",
       "                var nbb_cell_id = 45;\n",
       "                var nbb_unformatted_code = \"def print_results(EMOS_global_t2m_hyper_scores, lead_num):\\n    print(\\n        f\\\"Best params {EMOS_global_t2m_hyper_scores[lead_num][0]} score: {EMOS_global_t2m_hyper_scores[lead_num][1]} ,in lead_time {EMOS_global_t2m_hyper_scores[lead_num][2]}\\\"\\n    )\\n\\n    for i in range(len(EMOS_global_t2m_hyper_scores[lead_num][3])):\\n        print(\\n            EMOS_global_t2m_hyper_scores[lead_num][3][i],\\n            EMOS_global_t2m_hyper_scores[lead_num][4][i],\\n        )\";\n",
       "                var nbb_formatted_code = \"def print_results(EMOS_global_t2m_hyper_scores, lead_num):\\n    print(\\n        f\\\"Best params {EMOS_global_t2m_hyper_scores[lead_num][0]} score: {EMOS_global_t2m_hyper_scores[lead_num][1]} ,in lead_time {EMOS_global_t2m_hyper_scores[lead_num][2]}\\\"\\n    )\\n\\n    for i in range(len(EMOS_global_t2m_hyper_scores[lead_num][3])):\\n        print(\\n            EMOS_global_t2m_hyper_scores[lead_num][3][i],\\n            EMOS_global_t2m_hyper_scores[lead_num][4][i],\\n        )\";\n",
       "                var nbb_cells = Jupyter.notebook.get_cells();\n",
       "                for (var i = 0; i < nbb_cells.length; ++i) {\n",
       "                    if (nbb_cells[i].input_prompt_number == nbb_cell_id) {\n",
       "                        if (nbb_cells[i].get_text() == nbb_unformatted_code) {\n",
       "                             nbb_cells[i].set_text(nbb_formatted_code);\n",
       "                        }\n",
       "                        break;\n",
       "                    }\n",
       "                }\n",
       "            }, 500);\n",
       "            "
      ],
      "text/plain": [
       "<IPython.core.display.Javascript object>"
      ]
     },
     "metadata": {},
     "output_type": "display_data"
    }
   ],
   "source": [
    "def print_results(EMOS_global_t2m_hyper_scores, lead_num):\n",
    "    print(\n",
    "        f\"Best params {EMOS_global_t2m_hyper_scores[lead_num][0]} score: {EMOS_global_t2m_hyper_scores[lead_num][1]} ,in lead_time {EMOS_global_t2m_hyper_scores[lead_num][2]}\"\n",
    "    )\n",
    "\n",
    "    for i in range(len(EMOS_global_t2m_hyper_scores[lead_num][3])):\n",
    "        print(\n",
    "            EMOS_global_t2m_hyper_scores[lead_num][3][i],\n",
    "            EMOS_global_t2m_hyper_scores[lead_num][4][i],\n",
    "        )"
   ]
  },
  {
   "cell_type": "markdown",
   "id": "9dc805db",
   "metadata": {},
   "source": [
    "### 1. Load Global Hyperparameter Scores"
   ]
  },
  {
   "cell_type": "code",
   "execution_count": 50,
   "id": "452a3a7b",
   "metadata": {},
   "outputs": [
    {
     "data": {
      "application/javascript": [
       "\n",
       "            setTimeout(function() {\n",
       "                var nbb_cell_id = 50;\n",
       "                var nbb_unformatted_code = \"EMOS_global_t2m_hyper_scores = EMOS_global_load_hyper_score(\\\"t2m\\\")\\nEMOS_global_ws10_hyper_scores = EMOS_global_load_hyper_score(\\\"ws10\\\")\";\n",
       "                var nbb_formatted_code = \"EMOS_global_t2m_hyper_scores = EMOS_global_load_hyper_score(\\\"t2m\\\")\\nEMOS_global_ws10_hyper_scores = EMOS_global_load_hyper_score(\\\"ws10\\\")\";\n",
       "                var nbb_cells = Jupyter.notebook.get_cells();\n",
       "                for (var i = 0; i < nbb_cells.length; ++i) {\n",
       "                    if (nbb_cells[i].input_prompt_number == nbb_cell_id) {\n",
       "                        if (nbb_cells[i].get_text() == nbb_unformatted_code) {\n",
       "                             nbb_cells[i].set_text(nbb_formatted_code);\n",
       "                        }\n",
       "                        break;\n",
       "                    }\n",
       "                }\n",
       "            }, 500);\n",
       "            "
      ],
      "text/plain": [
       "<IPython.core.display.Javascript object>"
      ]
     },
     "metadata": {},
     "output_type": "display_data"
    }
   ],
   "source": [
    "EMOS_global_t2m_hyper_scores = EMOS_global_load_hyper_score(\"t2m\")\n",
    "EMOS_global_ws10_hyper_scores = EMOS_global_load_hyper_score(\"ws10\")"
   ]
  },
  {
   "cell_type": "code",
   "execution_count": 51,
   "id": "49b20191",
   "metadata": {},
   "outputs": [
    {
     "name": "stdout",
     "output_type": "stream",
     "text": [
      "T2m-length:3, ws10-length:1\n"
     ]
    },
    {
     "data": {
      "application/javascript": [
       "\n",
       "            setTimeout(function() {\n",
       "                var nbb_cell_id = 51;\n",
       "                var nbb_unformatted_code = \"print(\\n    f\\\"T2m-length:{len(EMOS_global_t2m_hyper_scores)}, ws10-length:{len(EMOS_global_ws10_hyper_scores)}\\\"\\n)\";\n",
       "                var nbb_formatted_code = \"print(\\n    f\\\"T2m-length:{len(EMOS_global_t2m_hyper_scores)}, ws10-length:{len(EMOS_global_ws10_hyper_scores)}\\\"\\n)\";\n",
       "                var nbb_cells = Jupyter.notebook.get_cells();\n",
       "                for (var i = 0; i < nbb_cells.length; ++i) {\n",
       "                    if (nbb_cells[i].input_prompt_number == nbb_cell_id) {\n",
       "                        if (nbb_cells[i].get_text() == nbb_unformatted_code) {\n",
       "                             nbb_cells[i].set_text(nbb_formatted_code);\n",
       "                        }\n",
       "                        break;\n",
       "                    }\n",
       "                }\n",
       "            }, 500);\n",
       "            "
      ],
      "text/plain": [
       "<IPython.core.display.Javascript object>"
      ]
     },
     "metadata": {},
     "output_type": "display_data"
    }
   ],
   "source": [
    "print(\n",
    "    f\"T2m-length:{len(EMOS_global_t2m_hyper_scores)}, ws10-length:{len(EMOS_global_ws10_hyper_scores)}\"\n",
    ")"
   ]
  },
  {
   "cell_type": "markdown",
   "id": "ea6cc7f5",
   "metadata": {},
   "source": [
    "##### Temperature"
   ]
  },
  {
   "cell_type": "code",
   "execution_count": 73,
   "id": "d6d0483f",
   "metadata": {
    "collapsed": true
   },
   "outputs": [
    {
     "name": "stdout",
     "output_type": "stream",
     "text": [
      "Best params (4096, 10, 0.001, 'Adam') score: 0.45013427734375 ,in lead_time 0\n",
      "(1024, 10, 0.1, 'Adam') 0.4893634617328644\n",
      "(1024, 10, 0.05, 'Adam') 0.45485055446624756\n",
      "(1024, 10, 0.01, 'Adam') 0.4507754147052765\n",
      "(1024, 10, 0.005, 'Adam') 0.45106062293052673\n",
      "(1024, 10, 0.001, 'Adam') 0.4501516819000244\n",
      "(2048, 10, 0.1, 'Adam') 0.47946423292160034\n",
      "(2048, 10, 0.05, 'Adam') 0.4528166353702545\n",
      "(2048, 10, 0.01, 'Adam') 0.4508745074272156\n",
      "(2048, 10, 0.005, 'Adam') 0.450177401304245\n",
      "(2048, 10, 0.001, 'Adam') 0.4502573013305664\n",
      "(4096, 10, 0.1, 'Adam') 0.4852834939956665\n",
      "(4096, 10, 0.05, 'Adam') 0.45073962211608887\n",
      "(4096, 10, 0.01, 'Adam') 0.45114263892173767\n",
      "(4096, 10, 0.005, 'Adam') 0.4501672089099884\n",
      "(4096, 10, 0.001, 'Adam') 0.45013427734375\n",
      "(8192, 10, 0.1, 'Adam') 0.5087556838989258\n",
      "(8192, 10, 0.05, 'Adam') 0.45030805468559265\n",
      "(8192, 10, 0.01, 'Adam') 0.4503491222858429\n",
      "(8192, 10, 0.005, 'Adam') 0.45018625259399414\n",
      "(8192, 10, 0.001, 'Adam') 0.45037367939949036\n"
     ]
    },
    {
     "data": {
      "application/javascript": [
       "\n",
       "            setTimeout(function() {\n",
       "                var nbb_cell_id = 73;\n",
       "                var nbb_unformatted_code = \"print_results(EMOS_global_t2m_hyper_scores, 0)\";\n",
       "                var nbb_formatted_code = \"print_results(EMOS_global_t2m_hyper_scores, 0)\";\n",
       "                var nbb_cells = Jupyter.notebook.get_cells();\n",
       "                for (var i = 0; i < nbb_cells.length; ++i) {\n",
       "                    if (nbb_cells[i].input_prompt_number == nbb_cell_id) {\n",
       "                        if (nbb_cells[i].get_text() == nbb_unformatted_code) {\n",
       "                             nbb_cells[i].set_text(nbb_formatted_code);\n",
       "                        }\n",
       "                        break;\n",
       "                    }\n",
       "                }\n",
       "            }, 500);\n",
       "            "
      ],
      "text/plain": [
       "<IPython.core.display.Javascript object>"
      ]
     },
     "metadata": {},
     "output_type": "display_data"
    }
   ],
   "source": [
    "print_results(EMOS_global_t2m_hyper_scores, 0)"
   ]
  },
  {
   "cell_type": "code",
   "execution_count": 74,
   "id": "29fa8878",
   "metadata": {
    "collapsed": true
   },
   "outputs": [
    {
     "name": "stdout",
     "output_type": "stream",
     "text": [
      "Best params (8192, 10, 0.001, 'Adam') score: 0.7493733167648315 ,in lead_time 15\n",
      "(1024, 10, 0.1, 'Adam') 0.7904638648033142\n",
      "(1024, 10, 0.05, 'Adam') 0.7540763020515442\n",
      "(1024, 10, 0.01, 'Adam') 0.7501434683799744\n",
      "(1024, 10, 0.005, 'Adam') 0.7505483031272888\n",
      "(1024, 10, 0.001, 'Adam') 0.7497263550758362\n",
      "(2048, 10, 0.1, 'Adam') 0.7617718577384949\n",
      "(2048, 10, 0.05, 'Adam') 0.7501409649848938\n",
      "(2048, 10, 0.01, 'Adam') 0.7496245503425598\n",
      "(2048, 10, 0.005, 'Adam') 0.7502866387367249\n",
      "(2048, 10, 0.001, 'Adam') 0.7494620084762573\n",
      "(4096, 10, 0.1, 'Adam') 0.7718427181243896\n",
      "(4096, 10, 0.05, 'Adam') 0.7501612901687622\n",
      "(4096, 10, 0.01, 'Adam') 0.749976396560669\n",
      "(4096, 10, 0.005, 'Adam') 0.7494763135910034\n",
      "(4096, 10, 0.001, 'Adam') 0.7495089173316956\n",
      "(8192, 10, 0.1, 'Adam') 0.7810683846473694\n",
      "(8192, 10, 0.05, 'Adam') 0.7517670392990112\n",
      "(8192, 10, 0.01, 'Adam') 0.7497243285179138\n",
      "(8192, 10, 0.005, 'Adam') 0.7496926784515381\n",
      "(8192, 10, 0.001, 'Adam') 0.7493733167648315\n"
     ]
    },
    {
     "data": {
      "application/javascript": [
       "\n",
       "            setTimeout(function() {\n",
       "                var nbb_cell_id = 74;\n",
       "                var nbb_unformatted_code = \"print_results(EMOS_global_t2m_hyper_scores, 1)\";\n",
       "                var nbb_formatted_code = \"print_results(EMOS_global_t2m_hyper_scores, 1)\";\n",
       "                var nbb_cells = Jupyter.notebook.get_cells();\n",
       "                for (var i = 0; i < nbb_cells.length; ++i) {\n",
       "                    if (nbb_cells[i].input_prompt_number == nbb_cell_id) {\n",
       "                        if (nbb_cells[i].get_text() == nbb_unformatted_code) {\n",
       "                             nbb_cells[i].set_text(nbb_formatted_code);\n",
       "                        }\n",
       "                        break;\n",
       "                    }\n",
       "                }\n",
       "            }, 500);\n",
       "            "
      ],
      "text/plain": [
       "<IPython.core.display.Javascript object>"
      ]
     },
     "metadata": {},
     "output_type": "display_data"
    }
   ],
   "source": [
    "print_results(EMOS_global_t2m_hyper_scores, 1)"
   ]
  },
  {
   "cell_type": "code",
   "execution_count": 75,
   "id": "a87026ce",
   "metadata": {
    "collapsed": true
   },
   "outputs": [
    {
     "name": "stdout",
     "output_type": "stream",
     "text": [
      "Best params (2048, 10, 0.01, 'Adam') score: 1.14043390750885 ,in lead_time 30\n",
      "(1024, 10, 0.1, 'Adam') 1.1565638780593872\n",
      "(1024, 10, 0.05, 'Adam') 1.1418256759643555\n",
      "(1024, 10, 0.01, 'Adam') 1.1426897048950195\n",
      "(1024, 10, 0.005, 'Adam') 1.1411614418029785\n",
      "(1024, 10, 0.001, 'Adam') 1.1406571865081787\n",
      "(2048, 10, 0.1, 'Adam') 1.1456468105316162\n",
      "(2048, 10, 0.05, 'Adam') 1.141500473022461\n",
      "(2048, 10, 0.01, 'Adam') 1.14043390750885\n",
      "(2048, 10, 0.005, 'Adam') 1.1416186094284058\n",
      "(2048, 10, 0.001, 'Adam') 1.141808032989502\n",
      "(4096, 10, 0.1, 'Adam') 1.1449265480041504\n",
      "(4096, 10, 0.05, 'Adam') 1.1533310413360596\n",
      "(4096, 10, 0.01, 'Adam') 1.1412535905838013\n",
      "(4096, 10, 0.005, 'Adam') 1.1413679122924805\n",
      "(4096, 10, 0.001, 'Adam') 1.1412477493286133\n",
      "(8192, 10, 0.1, 'Adam') 1.1749733686447144\n",
      "(8192, 10, 0.05, 'Adam') 1.1452232599258423\n",
      "(8192, 10, 0.01, 'Adam') 1.14060640335083\n",
      "(8192, 10, 0.005, 'Adam') 1.1419819593429565\n",
      "(8192, 10, 0.001, 'Adam') 1.1423572301864624\n"
     ]
    },
    {
     "data": {
      "application/javascript": [
       "\n",
       "            setTimeout(function() {\n",
       "                var nbb_cell_id = 75;\n",
       "                var nbb_unformatted_code = \"print_results(EMOS_global_t2m_hyper_scores, 2)\";\n",
       "                var nbb_formatted_code = \"print_results(EMOS_global_t2m_hyper_scores, 2)\";\n",
       "                var nbb_cells = Jupyter.notebook.get_cells();\n",
       "                for (var i = 0; i < nbb_cells.length; ++i) {\n",
       "                    if (nbb_cells[i].input_prompt_number == nbb_cell_id) {\n",
       "                        if (nbb_cells[i].get_text() == nbb_unformatted_code) {\n",
       "                             nbb_cells[i].set_text(nbb_formatted_code);\n",
       "                        }\n",
       "                        break;\n",
       "                    }\n",
       "                }\n",
       "            }, 500);\n",
       "            "
      ],
      "text/plain": [
       "<IPython.core.display.Javascript object>"
      ]
     },
     "metadata": {},
     "output_type": "display_data"
    }
   ],
   "source": [
    "print_results(EMOS_global_t2m_hyper_scores, 2)"
   ]
  },
  {
   "cell_type": "markdown",
   "id": "63fae183",
   "metadata": {},
   "source": [
    "##### Wind speed"
   ]
  },
  {
   "cell_type": "code",
   "execution_count": 49,
   "id": "11bb2131",
   "metadata": {
    "collapsed": true
   },
   "outputs": [
    {
     "name": "stdout",
     "output_type": "stream",
     "text": [
      "Best params (2048, 10, 0.1, 'SGD') score: 0.6247866153717041 ,in lead_time 0\n",
      "(1024, 10, 0.1, 'Adam') 0.6248735785484314\n",
      "(1024, 10, 0.1, 'SGD') 0.6248950958251953\n",
      "(1024, 10, 0.05, 'Adam') 0.6250014901161194\n",
      "(1024, 10, 0.05, 'SGD') 0.6278693079948425\n",
      "(1024, 10, 0.01, 'Adam') 0.626532793045044\n",
      "(1024, 10, 0.01, 'SGD') 0.6269963383674622\n",
      "(1024, 10, 0.005, 'Adam') 0.6275923848152161\n",
      "(1024, 10, 0.005, 'SGD') 0.6273010969161987\n",
      "(1024, 10, 0.001, 'Adam') 0.6270033717155457\n",
      "(1024, 10, 0.001, 'SGD') 0.6279010772705078\n",
      "(2048, 10, 0.1, 'Adam') 0.6256857514381409\n",
      "(2048, 10, 0.1, 'SGD') 0.6247866153717041\n",
      "(2048, 10, 0.05, 'Adam') 0.6279352903366089\n",
      "(2048, 10, 0.05, 'SGD') 0.6269434094429016\n",
      "(2048, 10, 0.01, 'Adam') 0.6261811852455139\n",
      "(2048, 10, 0.01, 'SGD') 0.6272349953651428\n",
      "(2048, 10, 0.005, 'Adam') 0.6268596053123474\n",
      "(2048, 10, 0.005, 'SGD') 0.6277083158493042\n",
      "(2048, 10, 0.001, 'Adam') 0.6272319555282593\n",
      "(2048, 10, 0.001, 'SGD') 0.6278863549232483\n",
      "(4096, 10, 0.1, 'Adam') 0.6264699101448059\n",
      "(4096, 10, 0.1, 'SGD') 0.6260725855827332\n",
      "(4096, 10, 0.05, 'Adam') 0.6250458359718323\n",
      "(4096, 10, 0.05, 'SGD') 0.6265668272972107\n",
      "(4096, 10, 0.01, 'Adam') 0.6263947486877441\n",
      "(4096, 10, 0.01, 'SGD') 0.626876711845398\n",
      "(4096, 10, 0.005, 'Adam') 0.6267732381820679\n",
      "(4096, 10, 0.005, 'SGD') 0.6272881031036377\n",
      "(4096, 10, 0.001, 'Adam') 0.6273700594902039\n",
      "(4096, 10, 0.001, 'SGD') 0.6278886198997498\n",
      "(8192, 10, 0.1, 'Adam') 0.6253103017807007\n",
      "(8192, 10, 0.1, 'SGD') 0.625112771987915\n",
      "(8192, 10, 0.05, 'Adam') 0.6265828609466553\n",
      "(8192, 10, 0.05, 'SGD') 0.6264730095863342\n",
      "(8192, 10, 0.01, 'Adam') 0.6271582245826721\n",
      "(8192, 10, 0.01, 'SGD') 0.6275083422660828\n",
      "(8192, 10, 0.005, 'Adam') 0.6271997690200806\n",
      "(8192, 10, 0.005, 'SGD') 0.6278068423271179\n",
      "(8192, 10, 0.001, 'Adam') 0.6276947259902954\n",
      "(8192, 10, 0.001, 'SGD') 0.6290066242218018\n"
     ]
    },
    {
     "data": {
      "application/javascript": [
       "\n",
       "            setTimeout(function() {\n",
       "                var nbb_cell_id = 49;\n",
       "                var nbb_unformatted_code = \"print_results(EMOS_global_ws10_hyper_scores, 0)\";\n",
       "                var nbb_formatted_code = \"print_results(EMOS_global_ws10_hyper_scores, 0)\";\n",
       "                var nbb_cells = Jupyter.notebook.get_cells();\n",
       "                for (var i = 0; i < nbb_cells.length; ++i) {\n",
       "                    if (nbb_cells[i].input_prompt_number == nbb_cell_id) {\n",
       "                        if (nbb_cells[i].get_text() == nbb_unformatted_code) {\n",
       "                             nbb_cells[i].set_text(nbb_formatted_code);\n",
       "                        }\n",
       "                        break;\n",
       "                    }\n",
       "                }\n",
       "            }, 500);\n",
       "            "
      ],
      "text/plain": [
       "<IPython.core.display.Javascript object>"
      ]
     },
     "metadata": {},
     "output_type": "display_data"
    }
   ],
   "source": [
    "print_results(EMOS_global_ws10_hyper_scores, 0)"
   ]
  },
  {
   "cell_type": "markdown",
   "id": "5701e50d",
   "metadata": {},
   "source": [
    "### 2. Load Local Hyperparameter Scores"
   ]
  },
  {
   "cell_type": "code",
   "execution_count": 76,
   "id": "a4037901",
   "metadata": {
    "scrolled": true
   },
   "outputs": [
    {
     "data": {
      "application/javascript": [
       "\n",
       "            setTimeout(function() {\n",
       "                var nbb_cell_id = 76;\n",
       "                var nbb_unformatted_code = \"EMOS_local_t2m_hyper_scores = EMOS_local_load_hyper_score(\\\"t2m\\\")\\nEMOS_local_ws10_hyper_scores = EMOS_local_load_hyper_score(\\\"ws10\\\")\";\n",
       "                var nbb_formatted_code = \"EMOS_local_t2m_hyper_scores = EMOS_local_load_hyper_score(\\\"t2m\\\")\\nEMOS_local_ws10_hyper_scores = EMOS_local_load_hyper_score(\\\"ws10\\\")\";\n",
       "                var nbb_cells = Jupyter.notebook.get_cells();\n",
       "                for (var i = 0; i < nbb_cells.length; ++i) {\n",
       "                    if (nbb_cells[i].input_prompt_number == nbb_cell_id) {\n",
       "                        if (nbb_cells[i].get_text() == nbb_unformatted_code) {\n",
       "                             nbb_cells[i].set_text(nbb_formatted_code);\n",
       "                        }\n",
       "                        break;\n",
       "                    }\n",
       "                }\n",
       "            }, 500);\n",
       "            "
      ],
      "text/plain": [
       "<IPython.core.display.Javascript object>"
      ]
     },
     "metadata": {},
     "output_type": "display_data"
    }
   ],
   "source": [
    "EMOS_local_t2m_hyper_scores = EMOS_local_load_hyper_score(\"t2m\")\n",
    "EMOS_local_ws10_hyper_scores = EMOS_local_load_hyper_score(\"ws10\")"
   ]
  },
  {
   "cell_type": "code",
   "execution_count": 77,
   "id": "e6dd2b85",
   "metadata": {
    "scrolled": false
   },
   "outputs": [
    {
     "name": "stdout",
     "output_type": "stream",
     "text": [
      "T2m-length:3, ws10-length:1\n"
     ]
    },
    {
     "data": {
      "application/javascript": [
       "\n",
       "            setTimeout(function() {\n",
       "                var nbb_cell_id = 77;\n",
       "                var nbb_unformatted_code = \"print(\\n    f\\\"T2m-length:{len(EMOS_local_t2m_hyper_scores)}, ws10-length:{len(EMOS_local_ws10_hyper_scores)}\\\"\\n)\";\n",
       "                var nbb_formatted_code = \"print(\\n    f\\\"T2m-length:{len(EMOS_local_t2m_hyper_scores)}, ws10-length:{len(EMOS_local_ws10_hyper_scores)}\\\"\\n)\";\n",
       "                var nbb_cells = Jupyter.notebook.get_cells();\n",
       "                for (var i = 0; i < nbb_cells.length; ++i) {\n",
       "                    if (nbb_cells[i].input_prompt_number == nbb_cell_id) {\n",
       "                        if (nbb_cells[i].get_text() == nbb_unformatted_code) {\n",
       "                             nbb_cells[i].set_text(nbb_formatted_code);\n",
       "                        }\n",
       "                        break;\n",
       "                    }\n",
       "                }\n",
       "            }, 500);\n",
       "            "
      ],
      "text/plain": [
       "<IPython.core.display.Javascript object>"
      ]
     },
     "metadata": {},
     "output_type": "display_data"
    }
   ],
   "source": [
    "print(\n",
    "    f\"T2m-length:{len(EMOS_local_t2m_hyper_scores)}, ws10-length:{len(EMOS_local_ws10_hyper_scores)}\"\n",
    ")"
   ]
  },
  {
   "cell_type": "markdown",
   "id": "08a658a9",
   "metadata": {},
   "source": [
    "##### Temperature:"
   ]
  },
  {
   "cell_type": "code",
   "execution_count": 78,
   "id": "e0182bb8",
   "metadata": {
    "scrolled": false
   },
   "outputs": [
    {
     "name": "stdout",
     "output_type": "stream",
     "text": [
      "Best params (16, 30, 0.005, 'Adam') score: 0.37988878824771977 ,in lead_time 0\n",
      "(16, 30, 0.1, 'Adam') 0.49627375191985035\n",
      "(16, 30, 0.05, 'Adam') 0.4216254285703867\n",
      "(16, 30, 0.01, 'Adam') 0.3831466698111632\n",
      "(16, 30, 0.005, 'Adam') 0.37988878824771977\n",
      "(16, 30, 0.001, 'Adam') 17.344419322525845\n",
      "(32, 30, 0.1, 'Adam') 0.45766198663757396\n",
      "(32, 30, 0.05, 'Adam') 0.40029029032358754\n",
      "(32, 30, 0.01, 'Adam') 0.38057279271575123\n",
      "(32, 30, 0.005, 'Adam') 0.47604186594104153\n",
      "(32, 30, 0.001, 'Adam') 114.26232341648294\n",
      "(64, 30, 0.1, 'Adam') 0.5142447502376177\n",
      "(64, 30, 0.05, 'Adam') 0.44653667777012557\n",
      "(64, 30, 0.01, 'Adam') 0.5151060394560679\n",
      "(64, 30, 0.005, 'Adam') 0.8507009725540112\n",
      "(64, 30, 0.001, 'Adam') 216.2162034266079\n",
      "(128, 30, 0.1, 'Adam') 0.9618315050044121\n",
      "(128, 30, 0.05, 'Adam') 0.7048312280422602\n",
      "(128, 30, 0.01, 'Adam') 1.0980231383672128\n",
      "(128, 30, 0.005, 'Adam') 74.58889908248034\n",
      "(128, 30, 0.001, 'Adam') 249.4008049772909\n",
      "(256, 30, 0.1, 'Adam') 2.834916726900981\n",
      "(256, 30, 0.05, 'Adam') 1.4633462037413547\n",
      "(256, 30, 0.01, 'Adam') 57.70785684071672\n",
      "(256, 30, 0.005, 'Adam') 167.9828360650975\n",
      "(256, 30, 0.001, 'Adam') 276.6492491184901\n"
     ]
    },
    {
     "data": {
      "application/javascript": [
       "\n",
       "            setTimeout(function() {\n",
       "                var nbb_cell_id = 78;\n",
       "                var nbb_unformatted_code = \"print_results(EMOS_local_t2m_hyper_scores, 0)\";\n",
       "                var nbb_formatted_code = \"print_results(EMOS_local_t2m_hyper_scores, 0)\";\n",
       "                var nbb_cells = Jupyter.notebook.get_cells();\n",
       "                for (var i = 0; i < nbb_cells.length; ++i) {\n",
       "                    if (nbb_cells[i].input_prompt_number == nbb_cell_id) {\n",
       "                        if (nbb_cells[i].get_text() == nbb_unformatted_code) {\n",
       "                             nbb_cells[i].set_text(nbb_formatted_code);\n",
       "                        }\n",
       "                        break;\n",
       "                    }\n",
       "                }\n",
       "            }, 500);\n",
       "            "
      ],
      "text/plain": [
       "<IPython.core.display.Javascript object>"
      ]
     },
     "metadata": {},
     "output_type": "display_data"
    }
   ],
   "source": [
    "print_results(EMOS_local_t2m_hyper_scores, 0)"
   ]
  },
  {
   "cell_type": "code",
   "execution_count": 79,
   "id": "3920d4b2",
   "metadata": {},
   "outputs": [
    {
     "name": "stdout",
     "output_type": "stream",
     "text": [
      "Best params (16, 30, 0.005, 'Adam') score: 0.7063188764911431 ,in lead_time 15\n",
      "(16, 30, 0.1, 'Adam') 0.781379029345818\n",
      "(16, 30, 0.05, 'Adam') 0.7365562399992576\n",
      "(16, 30, 0.01, 'Adam') 0.7081086847644585\n",
      "(16, 30, 0.005, 'Adam') 0.7063188764911431\n",
      "(16, 30, 0.001, 'Adam') 17.594197237911896\n",
      "(32, 30, 0.1, 'Adam') 0.7446841379770865\n",
      "(32, 30, 0.05, 'Adam') 0.7179414452268527\n",
      "(32, 30, 0.01, 'Adam') 0.706347644329071\n",
      "(32, 30, 0.005, 'Adam') 0.7359531710927303\n",
      "(32, 30, 0.001, 'Adam') 128.0106144963931\n",
      "(64, 30, 0.1, 'Adam') 0.7903085488539475\n",
      "(64, 30, 0.05, 'Adam') 0.7300917301804591\n",
      "(64, 30, 0.01, 'Adam') 0.7576043812128214\n",
      "(64, 30, 0.005, 'Adam') 0.8920006274412839\n",
      "(64, 30, 0.001, 'Adam') 184.0715512767052\n",
      "(128, 30, 0.1, 'Adam') 1.3530094715265126\n",
      "(128, 30, 0.05, 'Adam') 0.8974096291722395\n",
      "(128, 30, 0.01, 'Adam') 1.0043515845751152\n",
      "(128, 30, 0.005, 'Adam') 87.53295544878794\n",
      "(128, 30, 0.001, 'Adam') 267.54757876178394\n",
      "(256, 30, 0.1, 'Adam') 3.2549329422987423\n",
      "(256, 30, 0.05, 'Adam') 1.7046045003793178\n",
      "(256, 30, 0.01, 'Adam') 54.41079867745821\n",
      "(256, 30, 0.005, 'Adam') 180.4925395704997\n",
      "(256, 30, 0.001, 'Adam') 302.1960828050207\n"
     ]
    },
    {
     "data": {
      "application/javascript": [
       "\n",
       "            setTimeout(function() {\n",
       "                var nbb_cell_id = 79;\n",
       "                var nbb_unformatted_code = \"print_results(EMOS_local_t2m_hyper_scores, 1)\";\n",
       "                var nbb_formatted_code = \"print_results(EMOS_local_t2m_hyper_scores, 1)\";\n",
       "                var nbb_cells = Jupyter.notebook.get_cells();\n",
       "                for (var i = 0; i < nbb_cells.length; ++i) {\n",
       "                    if (nbb_cells[i].input_prompt_number == nbb_cell_id) {\n",
       "                        if (nbb_cells[i].get_text() == nbb_unformatted_code) {\n",
       "                             nbb_cells[i].set_text(nbb_formatted_code);\n",
       "                        }\n",
       "                        break;\n",
       "                    }\n",
       "                }\n",
       "            }, 500);\n",
       "            "
      ],
      "text/plain": [
       "<IPython.core.display.Javascript object>"
      ]
     },
     "metadata": {},
     "output_type": "display_data"
    }
   ],
   "source": [
    "print_results(EMOS_local_t2m_hyper_scores, 1)"
   ]
  },
  {
   "cell_type": "code",
   "execution_count": 80,
   "id": "8217f864",
   "metadata": {},
   "outputs": [
    {
     "name": "stdout",
     "output_type": "stream",
     "text": [
      "Best params (16, 30, 0.005, 'Adam') score: 1.0838735229693925 ,in lead_time 30\n",
      "(16, 30, 0.1, 'Adam') 1.1478227969163504\n",
      "(16, 30, 0.05, 'Adam') 1.1052566770559702\n",
      "(16, 30, 0.01, 'Adam') 1.0850750077993443\n",
      "(16, 30, 0.005, 'Adam') 1.0838735229693925\n",
      "(16, 30, 0.001, 'Adam') 15.558259987296202\n",
      "(32, 30, 0.1, 'Adam') 1.1079142334369512\n",
      "(32, 30, 0.05, 'Adam') 1.090742947963568\n",
      "(32, 30, 0.01, 'Adam') 1.0857606308582501\n",
      "(32, 30, 0.005, 'Adam') 1.1531194135164604\n",
      "(32, 30, 0.001, 'Adam') 109.61724732434138\n",
      "(64, 30, 0.1, 'Adam') 1.123578464373564\n",
      "(64, 30, 0.05, 'Adam') 1.0935281713803608\n",
      "(64, 30, 0.01, 'Adam') 1.1697963350094283\n",
      "(64, 30, 0.005, 'Adam') 1.320859425343\n",
      "(64, 30, 0.001, 'Adam') 194.04333809056342\n",
      "(128, 30, 0.1, 'Adam') 1.6871731460858614\n",
      "(128, 30, 0.05, 'Adam') 1.407067013856692\n",
      "(128, 30, 0.01, 'Adam') 1.4358300608702195\n",
      "(128, 30, 0.005, 'Adam') 83.94458062373675\n",
      "(128, 30, 0.001, 'Adam') 236.01420517342214\n",
      "(256, 30, 0.1, 'Adam') 3.0241014468364225\n",
      "(256, 30, 0.05, 'Adam') 2.124276435145965\n",
      "(256, 30, 0.01, 'Adam') 73.06352017361384\n",
      "(256, 30, 0.005, 'Adam') 152.97713040197507\n",
      "(256, 30, 0.001, 'Adam') 276.4663585730088\n"
     ]
    },
    {
     "data": {
      "application/javascript": [
       "\n",
       "            setTimeout(function() {\n",
       "                var nbb_cell_id = 80;\n",
       "                var nbb_unformatted_code = \"print_results(EMOS_local_t2m_hyper_scores, 2)\";\n",
       "                var nbb_formatted_code = \"print_results(EMOS_local_t2m_hyper_scores, 2)\";\n",
       "                var nbb_cells = Jupyter.notebook.get_cells();\n",
       "                for (var i = 0; i < nbb_cells.length; ++i) {\n",
       "                    if (nbb_cells[i].input_prompt_number == nbb_cell_id) {\n",
       "                        if (nbb_cells[i].get_text() == nbb_unformatted_code) {\n",
       "                             nbb_cells[i].set_text(nbb_formatted_code);\n",
       "                        }\n",
       "                        break;\n",
       "                    }\n",
       "                }\n",
       "            }, 500);\n",
       "            "
      ],
      "text/plain": [
       "<IPython.core.display.Javascript object>"
      ]
     },
     "metadata": {},
     "output_type": "display_data"
    }
   ],
   "source": [
    "print_results(EMOS_local_t2m_hyper_scores, 2)"
   ]
  },
  {
   "cell_type": "markdown",
   "id": "b79520f7",
   "metadata": {},
   "source": [
    "##### Wind Speed"
   ]
  },
  {
   "cell_type": "code",
   "execution_count": 69,
   "id": "da3a4af8",
   "metadata": {},
   "outputs": [
    {
     "name": "stdout",
     "output_type": "stream",
     "text": [
      "Best params (64, 30, 0.1, 'Adam') score: 0.5987810954833642 ,in lead_time 0\n",
      "(32, 30, 0.1, 'Adam') 0.5989483954050602\n",
      "(32, 30, 0.1, 'SGD') 0.6794286073209383\n",
      "(32, 30, 0.05, 'Adam') 0.5993755188507911\n",
      "(32, 30, 0.05, 'SGD') 0.6050876546173524\n",
      "(32, 30, 0.01, 'Adam') 0.6033720479179652\n",
      "(32, 30, 0.01, 'SGD') 0.6048767089079587\n",
      "(32, 30, 0.005, 'Adam') 0.606172231814036\n",
      "(32, 30, 0.005, 'SGD') 0.6074436995654534\n",
      "(32, 30, 0.001, 'Adam') 0.6225756370486357\n",
      "(32, 30, 0.001, 'SGD') 0.6208223901115931\n",
      "(64, 30, 0.1, 'Adam') 0.5987810954833642\n",
      "(64, 30, 0.1, 'SGD') 0.7279265223978422\n",
      "(64, 30, 0.05, 'Adam') 0.6001894321197119\n",
      "(64, 30, 0.05, 'SGD') 0.6032571896719627\n",
      "(64, 30, 0.01, 'Adam') 0.6049282004435858\n",
      "(64, 30, 0.01, 'SGD') 0.6073775272338818\n",
      "(64, 30, 0.005, 'Adam') 0.6102765940893919\n",
      "(64, 30, 0.005, 'SGD') 0.6134857069223355\n",
      "(64, 30, 0.001, 'Adam') 0.7704542474104807\n",
      "(64, 30, 0.001, 'SGD') 0.633939979932247\n",
      "(128, 30, 0.1, 'Adam') 0.6001739102678422\n",
      "(128, 30, 0.1, 'SGD') 0.7562125863937231\n",
      "(128, 30, 0.05, 'Adam') 0.6031126355131468\n",
      "(128, 30, 0.05, 'SGD') 0.605310859110875\n",
      "(128, 30, 0.01, 'Adam') 0.6100575796877726\n",
      "(128, 30, 0.01, 'SGD') 0.6122207629183928\n",
      "(128, 30, 0.005, 'Adam') 0.6230642861471727\n",
      "(128, 30, 0.005, 'SGD') 0.6193600559654908\n",
      "(128, 30, 0.001, 'Adam') 1.2530294962418385\n",
      "(128, 30, 0.001, 'SGD') 0.6574339967889663\n",
      "(256, 30, 0.1, 'Adam') 0.615864870735468\n",
      "(256, 30, 0.1, 'SGD') 0.8108517478864926\n",
      "(256, 30, 0.05, 'Adam') 0.6307663480058695\n",
      "(256, 30, 0.05, 'SGD') 0.6074161880100385\n",
      "(256, 30, 0.01, 'Adam') 0.6219085219005743\n",
      "(256, 30, 0.01, 'SGD') 0.6185232403759773\n",
      "(256, 30, 0.005, 'Adam') 0.6553333991040022\n",
      "(256, 30, 0.005, 'SGD') 0.6257915549362317\n",
      "(256, 30, 0.001, 'Adam') 1.5391710305061095\n",
      "(256, 30, 0.001, 'SGD') 0.73516579106068\n"
     ]
    },
    {
     "data": {
      "application/javascript": [
       "\n",
       "            setTimeout(function() {\n",
       "                var nbb_cell_id = 69;\n",
       "                var nbb_unformatted_code = \"print_results(EMOS_local_ws10_hyper_scores,0)\";\n",
       "                var nbb_formatted_code = \"print_results(EMOS_local_ws10_hyper_scores, 0)\";\n",
       "                var nbb_cells = Jupyter.notebook.get_cells();\n",
       "                for (var i = 0; i < nbb_cells.length; ++i) {\n",
       "                    if (nbb_cells[i].input_prompt_number == nbb_cell_id) {\n",
       "                        if (nbb_cells[i].get_text() == nbb_unformatted_code) {\n",
       "                             nbb_cells[i].set_text(nbb_formatted_code);\n",
       "                        }\n",
       "                        break;\n",
       "                    }\n",
       "                }\n",
       "            }, 500);\n",
       "            "
      ],
      "text/plain": [
       "<IPython.core.display.Javascript object>"
      ]
     },
     "metadata": {},
     "output_type": "display_data"
    }
   ],
   "source": [
    "print_results(EMOS_local_ws10_hyper_scores, 0)"
   ]
  },
  {
   "cell_type": "markdown",
   "id": "e390e535",
   "metadata": {},
   "source": [
    "### 3. Scores for comparison:"
   ]
  },
  {
   "cell_type": "code",
   "execution_count": 70,
   "id": "755b343f",
   "metadata": {},
   "outputs": [
    {
     "data": {
      "application/javascript": [
       "\n",
       "            setTimeout(function() {\n",
       "                var nbb_cell_id = 70;\n",
       "                var nbb_unformatted_code = \"# Load EMOS local scores\\nEMOS_local_t2m_scores = EMOS_local_load_score(\\\"t2m\\\")\\n# EMOS_local_ws10_scores = EMOS_local_load_score(\\\"ws10\\\")\\n\\n# Load EMOS global scores\\nEMOS_global_t2m_scores = EMOS_global_load_score(\\\"t2m\\\")\\nEMOS_global_ws10_scores = EMOS_global_load_score(\\\"ws10\\\")\\n\\n# Load CRPS scores\\nCRPS_global_t2m_scores = crps_load_lead_lat_lon(\\\"t2m\\\")\\nCRPS_global_ws10_scores = crps_load_lead_lat_lon(\\\"ws10\\\")\";\n",
       "                var nbb_formatted_code = \"# Load EMOS local scores\\nEMOS_local_t2m_scores = EMOS_local_load_score(\\\"t2m\\\")\\n# EMOS_local_ws10_scores = EMOS_local_load_score(\\\"ws10\\\")\\n\\n# Load EMOS global scores\\nEMOS_global_t2m_scores = EMOS_global_load_score(\\\"t2m\\\")\\nEMOS_global_ws10_scores = EMOS_global_load_score(\\\"ws10\\\")\\n\\n# Load CRPS scores\\nCRPS_global_t2m_scores = crps_load_lead_lat_lon(\\\"t2m\\\")\\nCRPS_global_ws10_scores = crps_load_lead_lat_lon(\\\"ws10\\\")\";\n",
       "                var nbb_cells = Jupyter.notebook.get_cells();\n",
       "                for (var i = 0; i < nbb_cells.length; ++i) {\n",
       "                    if (nbb_cells[i].input_prompt_number == nbb_cell_id) {\n",
       "                        if (nbb_cells[i].get_text() == nbb_unformatted_code) {\n",
       "                             nbb_cells[i].set_text(nbb_formatted_code);\n",
       "                        }\n",
       "                        break;\n",
       "                    }\n",
       "                }\n",
       "            }, 500);\n",
       "            "
      ],
      "text/plain": [
       "<IPython.core.display.Javascript object>"
      ]
     },
     "metadata": {},
     "output_type": "display_data"
    }
   ],
   "source": [
    "# Load EMOS local scores\n",
    "EMOS_local_t2m_scores = EMOS_local_load_score(\"t2m\")\n",
    "# EMOS_local_ws10_scores = EMOS_local_load_score(\"ws10\")\n",
    "\n",
    "# Load EMOS global scores\n",
    "EMOS_global_t2m_scores = EMOS_global_load_score(\"t2m\")\n",
    "EMOS_global_ws10_scores = EMOS_global_load_score(\"ws10\")\n",
    "\n",
    "# Load CRPS scores\n",
    "CRPS_global_t2m_scores = crps_load_lead_lat_lon(\"t2m\")\n",
    "CRPS_global_ws10_scores = crps_load_lead_lat_lon(\"ws10\")"
   ]
  },
  {
   "cell_type": "code",
   "execution_count": 71,
   "id": "12544693",
   "metadata": {},
   "outputs": [
    {
     "name": "stdout",
     "output_type": "stream",
     "text": [
      "Temperature:\n",
      "Lead 0:EMOS_loc: 0.4148695374260971, EMOS_glob: 0.4673401873320892, CRPS: 0.5084816639136492\n",
      "Lead 1:EMOS_loc: 0.4570583921154468, EMOS_glob: 0.5297212701322601, CRPS: 0.5347707002046389\n",
      "Lead 2:EMOS_loc: 0.4764913273333677, EMOS_glob: 0.5105776602793739, CRPS: 0.5150757989800734\n",
      "Lead 3:EMOS_loc: 0.4853422424293378, EMOS_glob: 0.5187042066593011, CRPS: 0.5301602687833538\n",
      "Lead 4:EMOS_loc: 0.5088349645341457, EMOS_glob: 0.5379253302273839, CRPS: 0.5624034501418446\n",
      "Lead 5:EMOS_loc: 0.5484872642343575, EMOS_glob: 0.5924092410007133, CRPS: 0.6306282599852645\n",
      "Lead 6:EMOS_loc: 0.5712123582837434, EMOS_glob: 0.5920924175090567, CRPS: 0.6316119778923832\n",
      "Lead 7:EMOS_loc: 0.5754663166502546, EMOS_glob: 0.6020434806248538, CRPS: 0.6454345388357919\n",
      "Lead 8:EMOS_loc: 0.6026712332169245, EMOS_glob: 0.6251029754078069, CRPS: 0.6802850949781106\n",
      "Lead 9:EMOS_loc: 0.6562236252654708, EMOS_glob: 0.6920910937109535, CRPS: 0.7561511514525252\n",
      "Lead 10:EMOS_loc: 0.6800776498304495, EMOS_glob: 0.6984210795617619, CRPS: 0.7596827249402444\n",
      "Lead 11:EMOS_loc: 0.6794425793146366, EMOS_glob: 0.7010491067649252, CRPS: 0.7671595364524374\n",
      "Lead 12:EMOS_loc: 0.7123190931150641, EMOS_glob: 0.7326259105215014, CRPS: 0.8087436349681829\n",
      "Lead 13:EMOS_loc: 0.7748360011670311, EMOS_glob: 0.8081989710473392, CRPS: 0.8907210185014609\n",
      "Lead 14:EMOS_loc: 0.7952009913101734, EMOS_glob: 0.8107418318323198, CRPS: 0.8895929183430251\n",
      "Lead 15:EMOS_loc: 0.7895533464906054, EMOS_glob: 0.8075659261587096, CRPS: 0.8913402208770865\n",
      "Lead 16:EMOS_loc: 0.8244157225737196, EMOS_glob: 0.8419100467688746, CRPS: 0.9354666921537256\n",
      "Lead 17:EMOS_loc: 0.8987535461063973, EMOS_glob: 0.9272685510719906, CRPS: 1.030760697007392\n",
      "Lead 18:EMOS_loc: 0.911990312493202, EMOS_glob: 0.9238354518379173, CRPS: 1.020928305756169\n",
      "Lead 19:EMOS_loc: 0.8980970378732857, EMOS_glob: 0.9149419408923763, CRPS: 1.011146119667486\n",
      "Lead 20:EMOS_loc: 0.9337742641433827, EMOS_glob: 0.9480856381547978, CRPS: 1.0559743772319934\n",
      "Lead 21:EMOS_loc: 1.024922979931499, EMOS_glob: 1.0535067163559073, CRPS: 1.170507971000092\n",
      "Lead 22:EMOS_loc: 1.0273314696568663, EMOS_glob: 1.0385039484335057, CRPS: 1.1471350159491147\n",
      "Lead 23:EMOS_loc: 1.0024411008446334, EMOS_glob: 1.0174896780726688, CRPS: 1.1231032795400633\n",
      "Lead 24:EMOS_loc: 1.0384650106563948, EMOS_glob: 1.049354167422327, CRPS: 1.1665183732402151\n",
      "Lead 25:EMOS_loc: 1.1369841677869823, EMOS_glob: 1.155104391351463, CRPS: 1.291409822220935\n",
      "Lead 26:EMOS_loc: 1.1309084264736469, EMOS_glob: 1.138138461370122, CRPS: 1.2553212202206236\n",
      "Lead 27:EMOS_loc: 1.0945496497467657, EMOS_glob: 1.1036528262859309, CRPS: 1.2185923742165932\n",
      "Lead 28:EMOS_loc: 1.1299233835071807, EMOS_glob: 1.1357242519091395, CRPS: 1.261623224976432\n",
      "Lead 29:EMOS_loc: 1.2459260186081393, EMOS_glob: 1.2656613124592335, CRPS: 1.4120354238676378\n",
      "Lead 30:EMOS_loc: 1.2266892901786237, EMOS_glob: 1.225492003591844, CRPS: 1.3563336012079834\n"
     ]
    },
    {
     "data": {
      "application/javascript": [
       "\n",
       "            setTimeout(function() {\n",
       "                var nbb_cell_id = 71;\n",
       "                var nbb_unformatted_code = \"print(\\\"Temperature:\\\")\\nfor lead_time in range(len(EMOS_local_t2m_scores)):\\n    print(\\n        f\\\"Lead {lead_time}:EMOS_loc: {EMOS_local_t2m_scores[lead_time].mean()}, EMOS_glob: {EMOS_global_t2m_scores[lead_time].mean()}, CRPS: {CRPS_global_t2m_scores[lead_time].mean()}\\\"\\n    )\";\n",
       "                var nbb_formatted_code = \"print(\\\"Temperature:\\\")\\nfor lead_time in range(len(EMOS_local_t2m_scores)):\\n    print(\\n        f\\\"Lead {lead_time}:EMOS_loc: {EMOS_local_t2m_scores[lead_time].mean()}, EMOS_glob: {EMOS_global_t2m_scores[lead_time].mean()}, CRPS: {CRPS_global_t2m_scores[lead_time].mean()}\\\"\\n    )\";\n",
       "                var nbb_cells = Jupyter.notebook.get_cells();\n",
       "                for (var i = 0; i < nbb_cells.length; ++i) {\n",
       "                    if (nbb_cells[i].input_prompt_number == nbb_cell_id) {\n",
       "                        if (nbb_cells[i].get_text() == nbb_unformatted_code) {\n",
       "                             nbb_cells[i].set_text(nbb_formatted_code);\n",
       "                        }\n",
       "                        break;\n",
       "                    }\n",
       "                }\n",
       "            }, 500);\n",
       "            "
      ],
      "text/plain": [
       "<IPython.core.display.Javascript object>"
      ]
     },
     "metadata": {},
     "output_type": "display_data"
    }
   ],
   "source": [
    "print(\"Temperature:\")\n",
    "for lead_time in range(len(EMOS_local_t2m_scores)):\n",
    "    print(\n",
    "        f\"Lead {lead_time}:EMOS_loc: {EMOS_local_t2m_scores[lead_time].mean()}, EMOS_glob: {EMOS_global_t2m_scores[lead_time].mean()}, CRPS: {CRPS_global_t2m_scores[lead_time].mean()}\"\n",
    "    )"
   ]
  },
  {
   "cell_type": "code",
   "execution_count": 13,
   "id": "898a9d43",
   "metadata": {},
   "outputs": [
    {
     "name": "stdout",
     "output_type": "stream",
     "text": [
      "wind speed:\n",
      "Lead 0: EMOS_glob: 0.4687979519367218, CRPS: 0.4708288311958313\n",
      "Lead 1: EMOS_glob: 0.5481671690940857, CRPS: 0.5626273155212402\n",
      "Lead 2: EMOS_glob: 0.5383585095405579, CRPS: 0.5660684704780579\n",
      "Lead 3: EMOS_glob: 0.5816507935523987, CRPS: 0.6244665384292603\n",
      "Lead 4: EMOS_glob: 0.5986496806144714, CRPS: 0.6273626685142517\n",
      "Lead 5: EMOS_glob: 0.6971593499183655, CRPS: 0.7419385313987732\n",
      "Lead 6: EMOS_glob: 0.6992777585983276, CRPS: 0.7447009086608887\n",
      "Lead 7: EMOS_glob: 0.7526292204856873, CRPS: 0.8054525852203369\n",
      "Lead 8: EMOS_glob: 0.791255533695221, CRPS: 0.834025502204895\n",
      "Lead 9: EMOS_glob: 0.8987031579017639, CRPS: 0.9581987261772156\n",
      "Lead 10: EMOS_glob: 0.8913975954055786, CRPS: 0.9486294984817505\n",
      "Lead 11: EMOS_glob: 0.9364757537841797, CRPS: 0.997710645198822\n",
      "Lead 12: EMOS_glob: 0.9739682078361511, CRPS: 1.0248152017593384\n",
      "Lead 13: EMOS_glob: 1.0816439390182495, CRPS: 1.147271752357483\n",
      "Lead 14: EMOS_glob: 1.061387538909912, CRPS: 1.120965838432312\n",
      "Lead 15: EMOS_glob: 1.0941627025604248, CRPS: 1.1554666757583618\n",
      "Lead 16: EMOS_glob: 1.122457504272461, CRPS: 1.1716784238815308\n",
      "Lead 17: EMOS_glob: 1.218828797340393, CRPS: 1.2803926467895508\n",
      "Lead 18: EMOS_glob: 1.186181664466858, CRPS: 1.2406598329544067\n",
      "Lead 19: EMOS_glob: 1.208435297012329, CRPS: 1.2650195360183716\n",
      "Lead 20: EMOS_glob: 1.233190655708313, CRPS: 1.2812318801879883\n",
      "Lead 21: EMOS_glob: 1.331240177154541, CRPS: 1.3930284976959229\n",
      "Lead 22: EMOS_glob: 1.2901597023010254, CRPS: 1.3470748662948608\n",
      "Lead 23: EMOS_glob: 1.3045237064361572, CRPS: 1.3625421524047852\n",
      "Lead 24: EMOS_glob: 1.3217682838439941, CRPS: 1.370863676071167\n",
      "Lead 25: EMOS_glob: 1.4142807722091675, CRPS: 1.476784110069275\n",
      "Lead 26: EMOS_glob: 1.3631004095077515, CRPS: 1.4213701486587524\n",
      "Lead 27: EMOS_glob: 1.3705699443817139, CRPS: 1.4293179512023926\n",
      "Lead 28: EMOS_glob: 1.382328987121582, CRPS: 1.4322772026062012\n",
      "Lead 29: EMOS_glob: 1.472295880317688, CRPS: 1.536927580833435\n",
      "Lead 30: EMOS_glob: 1.411036491394043, CRPS: 1.4698940515518188\n"
     ]
    },
    {
     "data": {
      "application/javascript": [
       "\n",
       "            setTimeout(function() {\n",
       "                var nbb_cell_id = 13;\n",
       "                var nbb_unformatted_code = \"print(\\\"wind speed:\\\")\\nfor lead_time in range(len(EMOS_global_ws10_scores)):\\n    print(\\n        f\\\"Lead {lead_time}: EMOS_glob: {EMOS_global_ws10_scores[lead_time].mean()}, CRPS: {CRPS_global_ws10_scores[lead_time].mean()}\\\"\\n    )\";\n",
       "                var nbb_formatted_code = \"print(\\\"wind speed:\\\")\\nfor lead_time in range(len(EMOS_global_ws10_scores)):\\n    print(\\n        f\\\"Lead {lead_time}: EMOS_glob: {EMOS_global_ws10_scores[lead_time].mean()}, CRPS: {CRPS_global_ws10_scores[lead_time].mean()}\\\"\\n    )\";\n",
       "                var nbb_cells = Jupyter.notebook.get_cells();\n",
       "                for (var i = 0; i < nbb_cells.length; ++i) {\n",
       "                    if (nbb_cells[i].input_prompt_number == nbb_cell_id) {\n",
       "                        if (nbb_cells[i].get_text() == nbb_unformatted_code) {\n",
       "                             nbb_cells[i].set_text(nbb_formatted_code);\n",
       "                        }\n",
       "                        break;\n",
       "                    }\n",
       "                }\n",
       "            }, 500);\n",
       "            "
      ],
      "text/plain": [
       "<IPython.core.display.Javascript object>"
      ]
     },
     "metadata": {},
     "output_type": "display_data"
    }
   ],
   "source": [
    "print(\"wind speed:\")\n",
    "for lead_time in range(len(EMOS_global_ws10_scores)):\n",
    "    print(\n",
    "        f\"Lead {lead_time}: EMOS_glob: {EMOS_global_ws10_scores[lead_time].mean()}, CRPS: {CRPS_global_ws10_scores[lead_time].mean()}\"\n",
    "    )"
   ]
  },
  {
   "cell_type": "code",
   "execution_count": null,
   "id": "70ae610d",
   "metadata": {},
   "outputs": [],
   "source": []
  }
 ],
 "metadata": {
  "kernelspec": {
   "display_name": "Python 3 (ipykernel)",
   "language": "python",
   "name": "python3"
  },
  "language_info": {
   "codemirror_mode": {
    "name": "ipython",
    "version": 3
   },
   "file_extension": ".py",
   "mimetype": "text/x-python",
   "name": "python",
   "nbconvert_exporter": "python",
   "pygments_lexer": "ipython3",
   "version": "3.9.7"
  }
 },
 "nbformat": 4,
 "nbformat_minor": 5
}
