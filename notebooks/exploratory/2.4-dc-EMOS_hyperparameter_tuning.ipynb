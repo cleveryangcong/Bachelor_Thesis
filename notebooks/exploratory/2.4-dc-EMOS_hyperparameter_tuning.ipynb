{
 "cells": [
  {
   "cell_type": "code",
   "execution_count": 1,
   "id": "5b10a71e",
   "metadata": {},
   "outputs": [
    {
     "data": {
      "application/javascript": [
       "\n",
       "            setTimeout(function() {\n",
       "                var nbb_cell_id = 1;\n",
       "                var nbb_unformatted_code = \"%load_ext nb_black\";\n",
       "                var nbb_formatted_code = \"%load_ext nb_black\";\n",
       "                var nbb_cells = Jupyter.notebook.get_cells();\n",
       "                for (var i = 0; i < nbb_cells.length; ++i) {\n",
       "                    if (nbb_cells[i].input_prompt_number == nbb_cell_id) {\n",
       "                        if (nbb_cells[i].get_text() == nbb_unformatted_code) {\n",
       "                             nbb_cells[i].set_text(nbb_formatted_code);\n",
       "                        }\n",
       "                        break;\n",
       "                    }\n",
       "                }\n",
       "            }, 500);\n",
       "            "
      ],
      "text/plain": [
       "<IPython.core.display.Javascript object>"
      ]
     },
     "metadata": {},
     "output_type": "display_data"
    }
   ],
   "source": [
    "%load_ext nb_black"
   ]
  },
  {
   "cell_type": "code",
   "execution_count": 2,
   "id": "02f81271",
   "metadata": {},
   "outputs": [
    {
     "name": "stderr",
     "output_type": "stream",
     "text": [
      "2023-06-05 12:59:05.944468: W tensorflow/stream_executor/platform/default/dso_loader.cc:64] Could not load dynamic library 'libcudart.so.11.0'; dlerror: libcudart.so.11.0: cannot open shared object file: No such file or directory; LD_LIBRARY_PATH: :/opt/anaconda3/lib/\n",
      "2023-06-05 12:59:05.944488: I tensorflow/stream_executor/cuda/cudart_stub.cc:29] Ignore above cudart dlerror if you do not have a GPU set up on your machine.\n"
     ]
    },
    {
     "data": {
      "application/javascript": [
       "\n",
       "            setTimeout(function() {\n",
       "                var nbb_cell_id = 2;\n",
       "                var nbb_unformatted_code = \"# Helpful\\nimport tqdm\\n\\n# Visualization\\nimport matplotlib.pyplot as plt\\n\\n# My Methods\\nfrom src.utils.CRPS import *\\nfrom src.utils.data_split import *\\nfrom src.models.EMOS import *\\nfrom src.models.EMOS_global.EMOS_global_load_score import *\\nfrom src.models.EMOS_local.EMOS_local_load_score import *\\nfrom src.models.EMOS_local.EMOS_local_load_model import *\\nfrom src.models.EMOS_global.EMOS_global_load_model import *\\nfrom src.models.EMOS_local.EMOS_local_hyper_tune import *\\nimport data.raw.load_data_raw as ldr\\nimport data.processed.load_data_processed as ldp\\nimport data.processed.load_data_processed_denormed as ldpd\\nfrom src.models.CRPS_baseline.CRPS_load import *\\nfrom src.models.EMOS_local.EMOS_local_train import *\";\n",
       "                var nbb_formatted_code = \"# Helpful\\nimport tqdm\\n\\n# Visualization\\nimport matplotlib.pyplot as plt\\n\\n# My Methods\\nfrom src.utils.CRPS import *\\nfrom src.utils.data_split import *\\nfrom src.models.EMOS import *\\nfrom src.models.EMOS_global.EMOS_global_load_score import *\\nfrom src.models.EMOS_local.EMOS_local_load_score import *\\nfrom src.models.EMOS_local.EMOS_local_load_model import *\\nfrom src.models.EMOS_global.EMOS_global_load_model import *\\nfrom src.models.EMOS_local.EMOS_local_hyper_tune import *\\nimport data.raw.load_data_raw as ldr\\nimport data.processed.load_data_processed as ldp\\nimport data.processed.load_data_processed_denormed as ldpd\\nfrom src.models.CRPS_baseline.CRPS_load import *\\nfrom src.models.EMOS_local.EMOS_local_train import *\";\n",
       "                var nbb_cells = Jupyter.notebook.get_cells();\n",
       "                for (var i = 0; i < nbb_cells.length; ++i) {\n",
       "                    if (nbb_cells[i].input_prompt_number == nbb_cell_id) {\n",
       "                        if (nbb_cells[i].get_text() == nbb_unformatted_code) {\n",
       "                             nbb_cells[i].set_text(nbb_formatted_code);\n",
       "                        }\n",
       "                        break;\n",
       "                    }\n",
       "                }\n",
       "            }, 500);\n",
       "            "
      ],
      "text/plain": [
       "<IPython.core.display.Javascript object>"
      ]
     },
     "metadata": {},
     "output_type": "display_data"
    }
   ],
   "source": [
    "# Helpful\n",
    "import tqdm\n",
    "\n",
    "# Visualization\n",
    "import matplotlib.pyplot as plt\n",
    "\n",
    "# My Methods\n",
    "from src.utils.CRPS import *\n",
    "from src.utils.data_split import *\n",
    "from src.models.EMOS import *\n",
    "from src.models.EMOS_global.EMOS_global_load_score import *\n",
    "from src.models.EMOS_local.EMOS_local_load_score import *\n",
    "from src.models.EMOS_local.EMOS_local_load_model import *\n",
    "from src.models.EMOS_global.EMOS_global_load_model import *\n",
    "from src.models.EMOS_local.EMOS_local_hyper_tune import *\n",
    "import data.raw.load_data_raw as ldr\n",
    "import data.processed.load_data_processed as ldp\n",
    "import data.processed.load_data_processed_denormed as ldpd\n",
    "from src.models.CRPS_baseline.CRPS_load import *\n",
    "from src.models.EMOS_local.EMOS_local_train import *"
   ]
  },
  {
   "cell_type": "markdown",
   "id": "cdce041e",
   "metadata": {},
   "source": [
    "### 0. Testing until Global Hyperparameter tuning works:"
   ]
  },
  {
   "cell_type": "code",
   "execution_count": 3,
   "id": "622712ab",
   "metadata": {},
   "outputs": [
    {
     "data": {
      "application/javascript": [
       "\n",
       "            setTimeout(function() {\n",
       "                var nbb_cell_id = 3;\n",
       "                var nbb_unformatted_code = \"from src.models.EMOS_global.EMOS_global_hyper_tune import *\";\n",
       "                var nbb_formatted_code = \"from src.models.EMOS_global.EMOS_global_hyper_tune import *\";\n",
       "                var nbb_cells = Jupyter.notebook.get_cells();\n",
       "                for (var i = 0; i < nbb_cells.length; ++i) {\n",
       "                    if (nbb_cells[i].input_prompt_number == nbb_cell_id) {\n",
       "                        if (nbb_cells[i].get_text() == nbb_unformatted_code) {\n",
       "                             nbb_cells[i].set_text(nbb_formatted_code);\n",
       "                        }\n",
       "                        break;\n",
       "                    }\n",
       "                }\n",
       "            }, 500);\n",
       "            "
      ],
      "text/plain": [
       "<IPython.core.display.Javascript object>"
      ]
     },
     "metadata": {},
     "output_type": "display_data"
    }
   ],
   "source": [
    "from src.models.EMOS_global.EMOS_global_hyper_tune import *"
   ]
  },
  {
   "cell_type": "code",
   "execution_count": 4,
   "id": "0d2c1527",
   "metadata": {},
   "outputs": [
    {
     "name": "stderr",
     "output_type": "stream",
     "text": [
      "  0%|                                                                                | 0/1 [00:00<?, ?it/s]2023-06-05 12:59:13.354258: W tensorflow/stream_executor/platform/default/dso_loader.cc:64] Could not load dynamic library 'libcudart.so.11.0'; dlerror: libcudart.so.11.0: cannot open shared object file: No such file or directory; LD_LIBRARY_PATH: :/opt/anaconda3/lib/\n",
      "2023-06-05 12:59:13.354419: W tensorflow/stream_executor/platform/default/dso_loader.cc:64] Could not load dynamic library 'libcublas.so.11'; dlerror: libcublas.so.11: cannot open shared object file: No such file or directory; LD_LIBRARY_PATH: :/opt/anaconda3/lib/\n",
      "2023-06-05 12:59:13.354548: W tensorflow/stream_executor/platform/default/dso_loader.cc:64] Could not load dynamic library 'libcublasLt.so.11'; dlerror: libcublasLt.so.11: cannot open shared object file: No such file or directory; LD_LIBRARY_PATH: :/opt/anaconda3/lib/\n",
      "2023-06-05 12:59:13.354672: W tensorflow/stream_executor/platform/default/dso_loader.cc:64] Could not load dynamic library 'libcufft.so.10'; dlerror: libcufft.so.10: cannot open shared object file: No such file or directory; LD_LIBRARY_PATH: :/opt/anaconda3/lib/\n",
      "2023-06-05 12:59:13.415563: W tensorflow/stream_executor/platform/default/dso_loader.cc:64] Could not load dynamic library 'libcusparse.so.11'; dlerror: libcusparse.so.11: cannot open shared object file: No such file or directory; LD_LIBRARY_PATH: :/opt/anaconda3/lib/\n",
      "2023-06-05 12:59:13.415868: W tensorflow/core/common_runtime/gpu/gpu_device.cc:1850] Cannot dlopen some GPU libraries. Please make sure the missing libraries mentioned above are installed properly if you would like to use GPU. Follow the guide at https://www.tensorflow.org/install/gpu for how to download and setup the required libraries for your platform.\n",
      "Skipping registering GPU devices...\n",
      "2023-06-05 12:59:13.416417: I tensorflow/core/platform/cpu_feature_guard.cc:151] This TensorFlow binary is optimized with oneAPI Deep Neural Network Library (oneDNN) to use the following CPU instructions in performance-critical operations:  AVX2 AVX512F FMA\n",
      "To enable them in other operations, rebuild TensorFlow with the appropriate compiler flags.\n",
      "  0%|                                                                                | 0/1 [00:03<?, ?it/s]\n"
     ]
    },
    {
     "ename": "KeyboardInterrupt",
     "evalue": "",
     "output_type": "error",
     "traceback": [
      "\u001b[0;31m---------------------------------------------------------------------------\u001b[0m",
      "\u001b[0;31mKeyboardInterrupt\u001b[0m                         Traceback (most recent call last)",
      "\u001b[0;32m/tmp/ipykernel_26316/203719589.py\u001b[0m in \u001b[0;36m<module>\u001b[0;34m\u001b[0m\n\u001b[1;32m      6\u001b[0m \u001b[0mlrs\u001b[0m \u001b[0;34m=\u001b[0m \u001b[0;34m[\u001b[0m\u001b[0;36m0.1\u001b[0m\u001b[0;34m]\u001b[0m\u001b[0;34m\u001b[0m\u001b[0;34m\u001b[0m\u001b[0m\n\u001b[1;32m      7\u001b[0m \u001b[0moptimizers\u001b[0m \u001b[0;34m=\u001b[0m \u001b[0;34m[\u001b[0m\u001b[0;34m\"Adam\"\u001b[0m\u001b[0;34m]\u001b[0m\u001b[0;34m\u001b[0m\u001b[0;34m\u001b[0m\u001b[0m\n\u001b[0;32m----> 8\u001b[0;31m best_params, best_score = EMOS_global_hyper_tune(\n\u001b[0m\u001b[1;32m      9\u001b[0m     \u001b[0mvar_num\u001b[0m\u001b[0;34m,\u001b[0m\u001b[0;34m\u001b[0m\u001b[0;34m\u001b[0m\u001b[0m\n\u001b[1;32m     10\u001b[0m     \u001b[0mlead_time\u001b[0m\u001b[0;34m,\u001b[0m\u001b[0;34m\u001b[0m\u001b[0;34m\u001b[0m\u001b[0m\n",
      "\u001b[0;32m~/BA_CH_EN/src/models/EMOS_global/EMOS_global_hyper_tune.py\u001b[0m in \u001b[0;36mEMOS_global_hyper_tune\u001b[0;34m(var_num, lead_time, batch_sizes, epochs, lrs, optimizers, validation_split)\u001b[0m\n\u001b[1;32m    145\u001b[0m     \u001b[0;32mfor\u001b[0m \u001b[0mparams\u001b[0m \u001b[0;32min\u001b[0m \u001b[0mtqdm\u001b[0m\u001b[0;34m(\u001b[0m\u001b[0mcombinations\u001b[0m\u001b[0;34m)\u001b[0m\u001b[0;34m:\u001b[0m\u001b[0;34m\u001b[0m\u001b[0;34m\u001b[0m\u001b[0m\n\u001b[1;32m    146\u001b[0m         \u001b[0;31m# Train your model with the current parameters and obtain a score\u001b[0m\u001b[0;34m\u001b[0m\u001b[0;34m\u001b[0m\u001b[0m\n\u001b[0;32m--> 147\u001b[0;31m         \u001b[0mscore\u001b[0m \u001b[0;34m=\u001b[0m \u001b[0mEMOS_global_train_hyper\u001b[0m\u001b[0;34m(\u001b[0m\u001b[0mvar_num\u001b[0m\u001b[0;34m,\u001b[0m \u001b[0mlead_time\u001b[0m\u001b[0;34m,\u001b[0m \u001b[0mbatch_size\u001b[0m \u001b[0;34m=\u001b[0m \u001b[0mparams\u001b[0m\u001b[0;34m[\u001b[0m\u001b[0;36m0\u001b[0m\u001b[0;34m]\u001b[0m\u001b[0;34m,\u001b[0m \u001b[0mepochs\u001b[0m \u001b[0;34m=\u001b[0m \u001b[0mparams\u001b[0m\u001b[0;34m[\u001b[0m\u001b[0;36m1\u001b[0m\u001b[0;34m]\u001b[0m\u001b[0;34m,\u001b[0m \u001b[0mlr\u001b[0m \u001b[0;34m=\u001b[0m \u001b[0mparams\u001b[0m\u001b[0;34m[\u001b[0m\u001b[0;36m2\u001b[0m\u001b[0;34m]\u001b[0m\u001b[0;34m,\u001b[0m \u001b[0moptimizer\u001b[0m \u001b[0;34m=\u001b[0m \u001b[0mparams\u001b[0m\u001b[0;34m[\u001b[0m\u001b[0;36m3\u001b[0m\u001b[0;34m]\u001b[0m\u001b[0;34m,\u001b[0m \u001b[0msave\u001b[0m \u001b[0;34m=\u001b[0m \u001b[0;32mFalse\u001b[0m\u001b[0;34m)\u001b[0m\u001b[0;34m\u001b[0m\u001b[0;34m\u001b[0m\u001b[0m\n\u001b[0m\u001b[1;32m    148\u001b[0m         \u001b[0mall_scores\u001b[0m\u001b[0;34m.\u001b[0m\u001b[0mappend\u001b[0m\u001b[0;34m(\u001b[0m\u001b[0mscore\u001b[0m\u001b[0;34m)\u001b[0m\u001b[0;34m\u001b[0m\u001b[0;34m\u001b[0m\u001b[0m\n\u001b[1;32m    149\u001b[0m         \u001b[0mall_params\u001b[0m\u001b[0;34m.\u001b[0m\u001b[0mappend\u001b[0m\u001b[0;34m(\u001b[0m\u001b[0mparams\u001b[0m\u001b[0;34m)\u001b[0m\u001b[0;34m\u001b[0m\u001b[0;34m\u001b[0m\u001b[0m\n",
      "\u001b[0;32m~/BA_CH_EN/src/models/EMOS_global/EMOS_global_hyper_tune.py\u001b[0m in \u001b[0;36mEMOS_global_train_hyper\u001b[0;34m(var_num, lead_time, batch_size, epochs, lr, validation_split, optimizer, save)\u001b[0m\n\u001b[1;32m    116\u001b[0m         \u001b[0mcallbacks\u001b[0m\u001b[0;34m.\u001b[0m\u001b[0mappend\u001b[0m\u001b[0;34m(\u001b[0m\u001b[0mmodel_checkpoint\u001b[0m\u001b[0;34m)\u001b[0m\u001b[0;34m\u001b[0m\u001b[0;34m\u001b[0m\u001b[0m\n\u001b[1;32m    117\u001b[0m     \u001b[0;31m# Fit the model to the training data\u001b[0m\u001b[0;34m\u001b[0m\u001b[0;34m\u001b[0m\u001b[0m\n\u001b[0;32m--> 118\u001b[0;31m     EMOS_glob.fit(\n\u001b[0m\u001b[1;32m    119\u001b[0m         [\n\u001b[1;32m    120\u001b[0m             \u001b[0mX_train_var_denormed\u001b[0m\u001b[0;34m.\u001b[0m\u001b[0misel\u001b[0m\u001b[0;34m(\u001b[0m\u001b[0mmean_std\u001b[0m\u001b[0;34m=\u001b[0m\u001b[0;36m0\u001b[0m\u001b[0;34m)\u001b[0m\u001b[0;34m.\u001b[0m\u001b[0mvalues\u001b[0m\u001b[0;34m.\u001b[0m\u001b[0mflatten\u001b[0m\u001b[0;34m(\u001b[0m\u001b[0;34m)\u001b[0m\u001b[0;34m,\u001b[0m\u001b[0;34m\u001b[0m\u001b[0;34m\u001b[0m\u001b[0m\n",
      "\u001b[0;32m~/.conda/envs/Bach_Del/lib/python3.9/site-packages/keras/utils/traceback_utils.py\u001b[0m in \u001b[0;36merror_handler\u001b[0;34m(*args, **kwargs)\u001b[0m\n\u001b[1;32m     62\u001b[0m     \u001b[0mfiltered_tb\u001b[0m \u001b[0;34m=\u001b[0m \u001b[0;32mNone\u001b[0m\u001b[0;34m\u001b[0m\u001b[0;34m\u001b[0m\u001b[0m\n\u001b[1;32m     63\u001b[0m     \u001b[0;32mtry\u001b[0m\u001b[0;34m:\u001b[0m\u001b[0;34m\u001b[0m\u001b[0;34m\u001b[0m\u001b[0m\n\u001b[0;32m---> 64\u001b[0;31m       \u001b[0;32mreturn\u001b[0m \u001b[0mfn\u001b[0m\u001b[0;34m(\u001b[0m\u001b[0;34m*\u001b[0m\u001b[0margs\u001b[0m\u001b[0;34m,\u001b[0m \u001b[0;34m**\u001b[0m\u001b[0mkwargs\u001b[0m\u001b[0;34m)\u001b[0m\u001b[0;34m\u001b[0m\u001b[0;34m\u001b[0m\u001b[0m\n\u001b[0m\u001b[1;32m     65\u001b[0m     \u001b[0;32mexcept\u001b[0m \u001b[0mException\u001b[0m \u001b[0;32mas\u001b[0m \u001b[0me\u001b[0m\u001b[0;34m:\u001b[0m  \u001b[0;31m# pylint: disable=broad-except\u001b[0m\u001b[0;34m\u001b[0m\u001b[0;34m\u001b[0m\u001b[0m\n\u001b[1;32m     66\u001b[0m       \u001b[0mfiltered_tb\u001b[0m \u001b[0;34m=\u001b[0m \u001b[0m_process_traceback_frames\u001b[0m\u001b[0;34m(\u001b[0m\u001b[0me\u001b[0m\u001b[0;34m.\u001b[0m\u001b[0m__traceback__\u001b[0m\u001b[0;34m)\u001b[0m\u001b[0;34m\u001b[0m\u001b[0;34m\u001b[0m\u001b[0m\n",
      "\u001b[0;32m~/.conda/envs/Bach_Del/lib/python3.9/site-packages/keras/engine/training.py\u001b[0m in \u001b[0;36mfit\u001b[0;34m(self, x, y, batch_size, epochs, verbose, callbacks, validation_split, validation_data, shuffle, class_weight, sample_weight, initial_epoch, steps_per_epoch, validation_steps, validation_batch_size, validation_freq, max_queue_size, workers, use_multiprocessing)\u001b[0m\n\u001b[1;32m   1214\u001b[0m                 _r=1):\n\u001b[1;32m   1215\u001b[0m               \u001b[0mcallbacks\u001b[0m\u001b[0;34m.\u001b[0m\u001b[0mon_train_batch_begin\u001b[0m\u001b[0;34m(\u001b[0m\u001b[0mstep\u001b[0m\u001b[0;34m)\u001b[0m\u001b[0;34m\u001b[0m\u001b[0;34m\u001b[0m\u001b[0m\n\u001b[0;32m-> 1216\u001b[0;31m               \u001b[0mtmp_logs\u001b[0m \u001b[0;34m=\u001b[0m \u001b[0mself\u001b[0m\u001b[0;34m.\u001b[0m\u001b[0mtrain_function\u001b[0m\u001b[0;34m(\u001b[0m\u001b[0miterator\u001b[0m\u001b[0;34m)\u001b[0m\u001b[0;34m\u001b[0m\u001b[0;34m\u001b[0m\u001b[0m\n\u001b[0m\u001b[1;32m   1217\u001b[0m               \u001b[0;32mif\u001b[0m \u001b[0mdata_handler\u001b[0m\u001b[0;34m.\u001b[0m\u001b[0mshould_sync\u001b[0m\u001b[0;34m:\u001b[0m\u001b[0;34m\u001b[0m\u001b[0;34m\u001b[0m\u001b[0m\n\u001b[1;32m   1218\u001b[0m                 \u001b[0mcontext\u001b[0m\u001b[0;34m.\u001b[0m\u001b[0masync_wait\u001b[0m\u001b[0;34m(\u001b[0m\u001b[0;34m)\u001b[0m\u001b[0;34m\u001b[0m\u001b[0;34m\u001b[0m\u001b[0m\n",
      "\u001b[0;32m~/.conda/envs/Bach_Del/lib/python3.9/site-packages/tensorflow/python/util/traceback_utils.py\u001b[0m in \u001b[0;36merror_handler\u001b[0;34m(*args, **kwargs)\u001b[0m\n\u001b[1;32m    148\u001b[0m     \u001b[0mfiltered_tb\u001b[0m \u001b[0;34m=\u001b[0m \u001b[0;32mNone\u001b[0m\u001b[0;34m\u001b[0m\u001b[0;34m\u001b[0m\u001b[0m\n\u001b[1;32m    149\u001b[0m     \u001b[0;32mtry\u001b[0m\u001b[0;34m:\u001b[0m\u001b[0;34m\u001b[0m\u001b[0;34m\u001b[0m\u001b[0m\n\u001b[0;32m--> 150\u001b[0;31m       \u001b[0;32mreturn\u001b[0m \u001b[0mfn\u001b[0m\u001b[0;34m(\u001b[0m\u001b[0;34m*\u001b[0m\u001b[0margs\u001b[0m\u001b[0;34m,\u001b[0m \u001b[0;34m**\u001b[0m\u001b[0mkwargs\u001b[0m\u001b[0;34m)\u001b[0m\u001b[0;34m\u001b[0m\u001b[0;34m\u001b[0m\u001b[0m\n\u001b[0m\u001b[1;32m    151\u001b[0m     \u001b[0;32mexcept\u001b[0m \u001b[0mException\u001b[0m \u001b[0;32mas\u001b[0m \u001b[0me\u001b[0m\u001b[0;34m:\u001b[0m\u001b[0;34m\u001b[0m\u001b[0;34m\u001b[0m\u001b[0m\n\u001b[1;32m    152\u001b[0m       \u001b[0mfiltered_tb\u001b[0m \u001b[0;34m=\u001b[0m \u001b[0m_process_traceback_frames\u001b[0m\u001b[0;34m(\u001b[0m\u001b[0me\u001b[0m\u001b[0;34m.\u001b[0m\u001b[0m__traceback__\u001b[0m\u001b[0;34m)\u001b[0m\u001b[0;34m\u001b[0m\u001b[0;34m\u001b[0m\u001b[0m\n",
      "\u001b[0;32m~/.conda/envs/Bach_Del/lib/python3.9/site-packages/tensorflow/python/eager/def_function.py\u001b[0m in \u001b[0;36m__call__\u001b[0;34m(self, *args, **kwds)\u001b[0m\n\u001b[1;32m    908\u001b[0m \u001b[0;34m\u001b[0m\u001b[0m\n\u001b[1;32m    909\u001b[0m       \u001b[0;32mwith\u001b[0m \u001b[0mOptionalXlaContext\u001b[0m\u001b[0;34m(\u001b[0m\u001b[0mself\u001b[0m\u001b[0;34m.\u001b[0m\u001b[0m_jit_compile\u001b[0m\u001b[0;34m)\u001b[0m\u001b[0;34m:\u001b[0m\u001b[0;34m\u001b[0m\u001b[0;34m\u001b[0m\u001b[0m\n\u001b[0;32m--> 910\u001b[0;31m         \u001b[0mresult\u001b[0m \u001b[0;34m=\u001b[0m \u001b[0mself\u001b[0m\u001b[0;34m.\u001b[0m\u001b[0m_call\u001b[0m\u001b[0;34m(\u001b[0m\u001b[0;34m*\u001b[0m\u001b[0margs\u001b[0m\u001b[0;34m,\u001b[0m \u001b[0;34m**\u001b[0m\u001b[0mkwds\u001b[0m\u001b[0;34m)\u001b[0m\u001b[0;34m\u001b[0m\u001b[0;34m\u001b[0m\u001b[0m\n\u001b[0m\u001b[1;32m    911\u001b[0m \u001b[0;34m\u001b[0m\u001b[0m\n\u001b[1;32m    912\u001b[0m       \u001b[0mnew_tracing_count\u001b[0m \u001b[0;34m=\u001b[0m \u001b[0mself\u001b[0m\u001b[0;34m.\u001b[0m\u001b[0mexperimental_get_tracing_count\u001b[0m\u001b[0;34m(\u001b[0m\u001b[0;34m)\u001b[0m\u001b[0;34m\u001b[0m\u001b[0;34m\u001b[0m\u001b[0m\n",
      "\u001b[0;32m~/.conda/envs/Bach_Del/lib/python3.9/site-packages/tensorflow/python/eager/def_function.py\u001b[0m in \u001b[0;36m_call\u001b[0;34m(self, *args, **kwds)\u001b[0m\n\u001b[1;32m    940\u001b[0m       \u001b[0;31m# In this case we have created variables on the first call, so we run the\u001b[0m\u001b[0;34m\u001b[0m\u001b[0;34m\u001b[0m\u001b[0m\n\u001b[1;32m    941\u001b[0m       \u001b[0;31m# defunned version which is guaranteed to never create variables.\u001b[0m\u001b[0;34m\u001b[0m\u001b[0;34m\u001b[0m\u001b[0m\n\u001b[0;32m--> 942\u001b[0;31m       \u001b[0;32mreturn\u001b[0m \u001b[0mself\u001b[0m\u001b[0;34m.\u001b[0m\u001b[0m_stateless_fn\u001b[0m\u001b[0;34m(\u001b[0m\u001b[0;34m*\u001b[0m\u001b[0margs\u001b[0m\u001b[0;34m,\u001b[0m \u001b[0;34m**\u001b[0m\u001b[0mkwds\u001b[0m\u001b[0;34m)\u001b[0m  \u001b[0;31m# pylint: disable=not-callable\u001b[0m\u001b[0;34m\u001b[0m\u001b[0;34m\u001b[0m\u001b[0m\n\u001b[0m\u001b[1;32m    943\u001b[0m     \u001b[0;32melif\u001b[0m \u001b[0mself\u001b[0m\u001b[0;34m.\u001b[0m\u001b[0m_stateful_fn\u001b[0m \u001b[0;32mis\u001b[0m \u001b[0;32mnot\u001b[0m \u001b[0;32mNone\u001b[0m\u001b[0;34m:\u001b[0m\u001b[0;34m\u001b[0m\u001b[0;34m\u001b[0m\u001b[0m\n\u001b[1;32m    944\u001b[0m       \u001b[0;31m# Release the lock early so that multiple threads can perform the call\u001b[0m\u001b[0;34m\u001b[0m\u001b[0;34m\u001b[0m\u001b[0m\n",
      "\u001b[0;32m~/.conda/envs/Bach_Del/lib/python3.9/site-packages/tensorflow/python/eager/function.py\u001b[0m in \u001b[0;36m__call__\u001b[0;34m(self, *args, **kwargs)\u001b[0m\n\u001b[1;32m   3128\u001b[0m       (graph_function,\n\u001b[1;32m   3129\u001b[0m        filtered_flat_args) = self._maybe_define_function(args, kwargs)\n\u001b[0;32m-> 3130\u001b[0;31m     return graph_function._call_flat(\n\u001b[0m\u001b[1;32m   3131\u001b[0m         filtered_flat_args, captured_inputs=graph_function.captured_inputs)  # pylint: disable=protected-access\n\u001b[1;32m   3132\u001b[0m \u001b[0;34m\u001b[0m\u001b[0m\n",
      "\u001b[0;32m~/.conda/envs/Bach_Del/lib/python3.9/site-packages/tensorflow/python/eager/function.py\u001b[0m in \u001b[0;36m_call_flat\u001b[0;34m(self, args, captured_inputs, cancellation_manager)\u001b[0m\n\u001b[1;32m   1957\u001b[0m         and executing_eagerly):\n\u001b[1;32m   1958\u001b[0m       \u001b[0;31m# No tape is watching; skip to running the function.\u001b[0m\u001b[0;34m\u001b[0m\u001b[0;34m\u001b[0m\u001b[0m\n\u001b[0;32m-> 1959\u001b[0;31m       return self._build_call_outputs(self._inference_function.call(\n\u001b[0m\u001b[1;32m   1960\u001b[0m           ctx, args, cancellation_manager=cancellation_manager))\n\u001b[1;32m   1961\u001b[0m     forward_backward = self._select_forward_and_backward_functions(\n",
      "\u001b[0;32m~/.conda/envs/Bach_Del/lib/python3.9/site-packages/tensorflow/python/eager/function.py\u001b[0m in \u001b[0;36mcall\u001b[0;34m(self, ctx, args, cancellation_manager)\u001b[0m\n\u001b[1;32m    596\u001b[0m       \u001b[0;32mwith\u001b[0m \u001b[0m_InterpolateFunctionError\u001b[0m\u001b[0;34m(\u001b[0m\u001b[0mself\u001b[0m\u001b[0;34m)\u001b[0m\u001b[0;34m:\u001b[0m\u001b[0;34m\u001b[0m\u001b[0;34m\u001b[0m\u001b[0m\n\u001b[1;32m    597\u001b[0m         \u001b[0;32mif\u001b[0m \u001b[0mcancellation_manager\u001b[0m \u001b[0;32mis\u001b[0m \u001b[0;32mNone\u001b[0m\u001b[0;34m:\u001b[0m\u001b[0;34m\u001b[0m\u001b[0;34m\u001b[0m\u001b[0m\n\u001b[0;32m--> 598\u001b[0;31m           outputs = execute.execute(\n\u001b[0m\u001b[1;32m    599\u001b[0m               \u001b[0mstr\u001b[0m\u001b[0;34m(\u001b[0m\u001b[0mself\u001b[0m\u001b[0;34m.\u001b[0m\u001b[0msignature\u001b[0m\u001b[0;34m.\u001b[0m\u001b[0mname\u001b[0m\u001b[0;34m)\u001b[0m\u001b[0;34m,\u001b[0m\u001b[0;34m\u001b[0m\u001b[0;34m\u001b[0m\u001b[0m\n\u001b[1;32m    600\u001b[0m               \u001b[0mnum_outputs\u001b[0m\u001b[0;34m=\u001b[0m\u001b[0mself\u001b[0m\u001b[0;34m.\u001b[0m\u001b[0m_num_outputs\u001b[0m\u001b[0;34m,\u001b[0m\u001b[0;34m\u001b[0m\u001b[0;34m\u001b[0m\u001b[0m\n",
      "\u001b[0;32m~/.conda/envs/Bach_Del/lib/python3.9/site-packages/tensorflow/python/eager/execute.py\u001b[0m in \u001b[0;36mquick_execute\u001b[0;34m(op_name, num_outputs, inputs, attrs, ctx, name)\u001b[0m\n\u001b[1;32m     56\u001b[0m   \u001b[0;32mtry\u001b[0m\u001b[0;34m:\u001b[0m\u001b[0;34m\u001b[0m\u001b[0;34m\u001b[0m\u001b[0m\n\u001b[1;32m     57\u001b[0m     \u001b[0mctx\u001b[0m\u001b[0;34m.\u001b[0m\u001b[0mensure_initialized\u001b[0m\u001b[0;34m(\u001b[0m\u001b[0;34m)\u001b[0m\u001b[0;34m\u001b[0m\u001b[0;34m\u001b[0m\u001b[0m\n\u001b[0;32m---> 58\u001b[0;31m     tensors = pywrap_tfe.TFE_Py_Execute(ctx._handle, device_name, op_name,\n\u001b[0m\u001b[1;32m     59\u001b[0m                                         inputs, attrs, num_outputs)\n\u001b[1;32m     60\u001b[0m   \u001b[0;32mexcept\u001b[0m \u001b[0mcore\u001b[0m\u001b[0;34m.\u001b[0m\u001b[0m_NotOkStatusException\u001b[0m \u001b[0;32mas\u001b[0m \u001b[0me\u001b[0m\u001b[0;34m:\u001b[0m\u001b[0;34m\u001b[0m\u001b[0;34m\u001b[0m\u001b[0m\n",
      "\u001b[0;31mKeyboardInterrupt\u001b[0m: "
     ]
    },
    {
     "data": {
      "application/javascript": [
       "\n",
       "            setTimeout(function() {\n",
       "                var nbb_cell_id = 4;\n",
       "                var nbb_unformatted_code = \"var_names = [\\\"u10\\\", \\\"v10\\\", \\\"t2m\\\", \\\"t850\\\", \\\"z500\\\", \\\"ws10\\\"]\\nvar_num = 2\\nlead_time = 0\\nepochs = [10]\\nbatch_sizes = [1024]\\nlrs = [0.1]\\noptimizers = [\\\"Adam\\\"]\\nbest_params, best_score = EMOS_global_hyper_tune(\\n    var_num,\\n    lead_time,\\n    batch_sizes=batch_sizes,\\n    epochs=epochs,\\n    lrs=lrs,\\n    optimizers=optimizers,\\n)\\nbest_parms_score = [best_params, best_score]\\nprint(best_parms_score)\";\n",
       "                var nbb_formatted_code = \"var_names = [\\\"u10\\\", \\\"v10\\\", \\\"t2m\\\", \\\"t850\\\", \\\"z500\\\", \\\"ws10\\\"]\\nvar_num = 2\\nlead_time = 0\\nepochs = [10]\\nbatch_sizes = [1024]\\nlrs = [0.1]\\noptimizers = [\\\"Adam\\\"]\\nbest_params, best_score = EMOS_global_hyper_tune(\\n    var_num,\\n    lead_time,\\n    batch_sizes=batch_sizes,\\n    epochs=epochs,\\n    lrs=lrs,\\n    optimizers=optimizers,\\n)\\nbest_parms_score = [best_params, best_score]\\nprint(best_parms_score)\";\n",
       "                var nbb_cells = Jupyter.notebook.get_cells();\n",
       "                for (var i = 0; i < nbb_cells.length; ++i) {\n",
       "                    if (nbb_cells[i].input_prompt_number == nbb_cell_id) {\n",
       "                        if (nbb_cells[i].get_text() == nbb_unformatted_code) {\n",
       "                             nbb_cells[i].set_text(nbb_formatted_code);\n",
       "                        }\n",
       "                        break;\n",
       "                    }\n",
       "                }\n",
       "            }, 500);\n",
       "            "
      ],
      "text/plain": [
       "<IPython.core.display.Javascript object>"
      ]
     },
     "metadata": {},
     "output_type": "display_data"
    }
   ],
   "source": [
    "var_names = [\"u10\", \"v10\", \"t2m\", \"t850\", \"z500\", \"ws10\"]\n",
    "var_num = 2\n",
    "lead_time = 0\n",
    "epochs = [10]\n",
    "batch_sizes = [1024]\n",
    "lrs = [0.1]\n",
    "optimizers = [\"Adam\"]\n",
    "best_params, best_score = EMOS_global_hyper_tune(\n",
    "    var_num,\n",
    "    lead_time,\n",
    "    batch_sizes=batch_sizes,\n",
    "    epochs=epochs,\n",
    "    lrs=lrs,\n",
    "    optimizers=optimizers,\n",
    ")\n",
    "best_parms_score = [best_params, best_score]\n",
    "print(best_parms_score)"
   ]
  },
  {
   "cell_type": "code",
   "execution_count": 21,
   "id": "998437d8",
   "metadata": {},
   "outputs": [
    {
     "data": {
      "application/javascript": [
       "\n",
       "            setTimeout(function() {\n",
       "                var nbb_cell_id = 21;\n",
       "                var nbb_unformatted_code = \"path = f\\\"/Data/Delong_BA_Data/scores/EMOS_global_hyper_scores/EMOS_global_hyper_{var_names[var_num]}_{lead_time}_{best_score}.pkl\\\"\\nwith open(path, \\\"wb\\\") as file:\\n    pickle.dump(best_parms_score, file)\";\n",
       "                var nbb_formatted_code = \"path = f\\\"/Data/Delong_BA_Data/scores/EMOS_global_hyper_scores/EMOS_global_hyper_{var_names[var_num]}_{lead_time}_{best_score}.pkl\\\"\\nwith open(path, \\\"wb\\\") as file:\\n    pickle.dump(best_parms_score, file)\";\n",
       "                var nbb_cells = Jupyter.notebook.get_cells();\n",
       "                for (var i = 0; i < nbb_cells.length; ++i) {\n",
       "                    if (nbb_cells[i].input_prompt_number == nbb_cell_id) {\n",
       "                        if (nbb_cells[i].get_text() == nbb_unformatted_code) {\n",
       "                             nbb_cells[i].set_text(nbb_formatted_code);\n",
       "                        }\n",
       "                        break;\n",
       "                    }\n",
       "                }\n",
       "            }, 500);\n",
       "            "
      ],
      "text/plain": [
       "<IPython.core.display.Javascript object>"
      ]
     },
     "metadata": {},
     "output_type": "display_data"
    }
   ],
   "source": [
    "path = f\"/Data/Delong_BA_Data/scores/EMOS_global_hyper_scores/EMOS_global_hyper_{var_names[var_num]}_{lead_time}_{best_score}.pkl\"\n",
    "with open(path, \"wb\") as file:\n",
    "    pickle.dump(best_parms_score, file)"
   ]
  },
  {
   "cell_type": "code",
   "execution_count": null,
   "id": "07018d36",
   "metadata": {},
   "outputs": [],
   "source": []
  },
  {
   "cell_type": "markdown",
   "id": "f10fc289",
   "metadata": {},
   "source": [
    "### 0. Set up"
   ]
  },
  {
   "cell_type": "code",
   "execution_count": 5,
   "id": "9a150fc0",
   "metadata": {},
   "outputs": [
    {
     "data": {
      "application/javascript": [
       "\n",
       "            setTimeout(function() {\n",
       "                var nbb_cell_id = 5;\n",
       "                var nbb_unformatted_code = \"def print_results(EMOS_global_t2m_hyper_scores, lead_num):\\n    print(\\n        f\\\"Best params {EMOS_global_t2m_hyper_scores[lead_num][0]} score: {EMOS_global_t2m_hyper_scores[lead_num][1]} ,in lead_time {EMOS_global_t2m_hyper_scores[lead_num][2]}\\\"\\n    )\\n\\n    for i in range(len(EMOS_global_t2m_hyper_scores[lead_num][3])):\\n        print(\\n            EMOS_global_t2m_hyper_scores[lead_num][3][i],\\n            EMOS_global_t2m_hyper_scores[lead_num][4][i],\\n        )\";\n",
       "                var nbb_formatted_code = \"def print_results(EMOS_global_t2m_hyper_scores, lead_num):\\n    print(\\n        f\\\"Best params {EMOS_global_t2m_hyper_scores[lead_num][0]} score: {EMOS_global_t2m_hyper_scores[lead_num][1]} ,in lead_time {EMOS_global_t2m_hyper_scores[lead_num][2]}\\\"\\n    )\\n\\n    for i in range(len(EMOS_global_t2m_hyper_scores[lead_num][3])):\\n        print(\\n            EMOS_global_t2m_hyper_scores[lead_num][3][i],\\n            EMOS_global_t2m_hyper_scores[lead_num][4][i],\\n        )\";\n",
       "                var nbb_cells = Jupyter.notebook.get_cells();\n",
       "                for (var i = 0; i < nbb_cells.length; ++i) {\n",
       "                    if (nbb_cells[i].input_prompt_number == nbb_cell_id) {\n",
       "                        if (nbb_cells[i].get_text() == nbb_unformatted_code) {\n",
       "                             nbb_cells[i].set_text(nbb_formatted_code);\n",
       "                        }\n",
       "                        break;\n",
       "                    }\n",
       "                }\n",
       "            }, 500);\n",
       "            "
      ],
      "text/plain": [
       "<IPython.core.display.Javascript object>"
      ]
     },
     "metadata": {},
     "output_type": "display_data"
    }
   ],
   "source": [
    "def print_results(EMOS_global_t2m_hyper_scores, lead_num):\n",
    "    print(\n",
    "        f\"Best params {EMOS_global_t2m_hyper_scores[lead_num][0]} score: {EMOS_global_t2m_hyper_scores[lead_num][1]} ,in lead_time {EMOS_global_t2m_hyper_scores[lead_num][2]}\"\n",
    "    )\n",
    "\n",
    "    for i in range(len(EMOS_global_t2m_hyper_scores[lead_num][3])):\n",
    "        print(\n",
    "            EMOS_global_t2m_hyper_scores[lead_num][3][i],\n",
    "            EMOS_global_t2m_hyper_scores[lead_num][4][i],\n",
    "        )"
   ]
  },
  {
   "cell_type": "markdown",
   "id": "9dc805db",
   "metadata": {},
   "source": [
    "### 1. Load Global Hyperparameter Scores"
   ]
  },
  {
   "cell_type": "code",
   "execution_count": 7,
   "id": "452a3a7b",
   "metadata": {},
   "outputs": [
    {
     "data": {
      "application/javascript": [
       "\n",
       "            setTimeout(function() {\n",
       "                var nbb_cell_id = 7;\n",
       "                var nbb_unformatted_code = \"EMOS_global_t2m_hyper_scores = EMOS_global_load_hyper_score(\\\"t2m\\\")\\nEMOS_global_ws10_hyper_scores = EMOS_global_load_hyper_score(\\\"ws10\\\")\";\n",
       "                var nbb_formatted_code = \"EMOS_global_t2m_hyper_scores = EMOS_global_load_hyper_score(\\\"t2m\\\")\\nEMOS_global_ws10_hyper_scores = EMOS_global_load_hyper_score(\\\"ws10\\\")\";\n",
       "                var nbb_cells = Jupyter.notebook.get_cells();\n",
       "                for (var i = 0; i < nbb_cells.length; ++i) {\n",
       "                    if (nbb_cells[i].input_prompt_number == nbb_cell_id) {\n",
       "                        if (nbb_cells[i].get_text() == nbb_unformatted_code) {\n",
       "                             nbb_cells[i].set_text(nbb_formatted_code);\n",
       "                        }\n",
       "                        break;\n",
       "                    }\n",
       "                }\n",
       "            }, 500);\n",
       "            "
      ],
      "text/plain": [
       "<IPython.core.display.Javascript object>"
      ]
     },
     "metadata": {},
     "output_type": "display_data"
    }
   ],
   "source": [
    "EMOS_global_t2m_hyper_scores = EMOS_global_load_hyper_score(\"t2m\")\n",
    "EMOS_global_ws10_hyper_scores = EMOS_global_load_hyper_score(\"ws10\")"
   ]
  },
  {
   "cell_type": "code",
   "execution_count": 8,
   "id": "49b20191",
   "metadata": {},
   "outputs": [
    {
     "name": "stdout",
     "output_type": "stream",
     "text": [
      "T2m-length:3, ws10-length:3\n"
     ]
    },
    {
     "data": {
      "application/javascript": [
       "\n",
       "            setTimeout(function() {\n",
       "                var nbb_cell_id = 8;\n",
       "                var nbb_unformatted_code = \"print(\\n    f\\\"T2m-length:{len(EMOS_global_t2m_hyper_scores)}, ws10-length:{len(EMOS_global_ws10_hyper_scores)}\\\"\\n)\";\n",
       "                var nbb_formatted_code = \"print(\\n    f\\\"T2m-length:{len(EMOS_global_t2m_hyper_scores)}, ws10-length:{len(EMOS_global_ws10_hyper_scores)}\\\"\\n)\";\n",
       "                var nbb_cells = Jupyter.notebook.get_cells();\n",
       "                for (var i = 0; i < nbb_cells.length; ++i) {\n",
       "                    if (nbb_cells[i].input_prompt_number == nbb_cell_id) {\n",
       "                        if (nbb_cells[i].get_text() == nbb_unformatted_code) {\n",
       "                             nbb_cells[i].set_text(nbb_formatted_code);\n",
       "                        }\n",
       "                        break;\n",
       "                    }\n",
       "                }\n",
       "            }, 500);\n",
       "            "
      ],
      "text/plain": [
       "<IPython.core.display.Javascript object>"
      ]
     },
     "metadata": {},
     "output_type": "display_data"
    }
   ],
   "source": [
    "print(\n",
    "    f\"T2m-length:{len(EMOS_global_t2m_hyper_scores)}, ws10-length:{len(EMOS_global_ws10_hyper_scores)}\"\n",
    ")"
   ]
  },
  {
   "cell_type": "markdown",
   "id": "ea6cc7f5",
   "metadata": {},
   "source": [
    "##### Temperature"
   ]
  },
  {
   "cell_type": "code",
   "execution_count": 9,
   "id": "d6d0483f",
   "metadata": {},
   "outputs": [
    {
     "name": "stdout",
     "output_type": "stream",
     "text": [
      "Best params (4096, 10, 0.001, 'Adam') score: 0.45013427734375 ,in lead_time 0\n",
      "(1024, 10, 0.1, 'Adam') 0.4893634617328644\n",
      "(1024, 10, 0.05, 'Adam') 0.45485055446624756\n",
      "(1024, 10, 0.01, 'Adam') 0.4507754147052765\n",
      "(1024, 10, 0.005, 'Adam') 0.45106062293052673\n",
      "(1024, 10, 0.001, 'Adam') 0.4501516819000244\n",
      "(2048, 10, 0.1, 'Adam') 0.47946423292160034\n",
      "(2048, 10, 0.05, 'Adam') 0.4528166353702545\n",
      "(2048, 10, 0.01, 'Adam') 0.4508745074272156\n",
      "(2048, 10, 0.005, 'Adam') 0.450177401304245\n",
      "(2048, 10, 0.001, 'Adam') 0.4502573013305664\n",
      "(4096, 10, 0.1, 'Adam') 0.4852834939956665\n",
      "(4096, 10, 0.05, 'Adam') 0.45073962211608887\n",
      "(4096, 10, 0.01, 'Adam') 0.45114263892173767\n",
      "(4096, 10, 0.005, 'Adam') 0.4501672089099884\n",
      "(4096, 10, 0.001, 'Adam') 0.45013427734375\n",
      "(8192, 10, 0.1, 'Adam') 0.5087556838989258\n",
      "(8192, 10, 0.05, 'Adam') 0.45030805468559265\n",
      "(8192, 10, 0.01, 'Adam') 0.4503491222858429\n",
      "(8192, 10, 0.005, 'Adam') 0.45018625259399414\n",
      "(8192, 10, 0.001, 'Adam') 0.45037367939949036\n"
     ]
    },
    {
     "data": {
      "application/javascript": [
       "\n",
       "            setTimeout(function() {\n",
       "                var nbb_cell_id = 9;\n",
       "                var nbb_unformatted_code = \"print_results(EMOS_global_t2m_hyper_scores, 0)\";\n",
       "                var nbb_formatted_code = \"print_results(EMOS_global_t2m_hyper_scores, 0)\";\n",
       "                var nbb_cells = Jupyter.notebook.get_cells();\n",
       "                for (var i = 0; i < nbb_cells.length; ++i) {\n",
       "                    if (nbb_cells[i].input_prompt_number == nbb_cell_id) {\n",
       "                        if (nbb_cells[i].get_text() == nbb_unformatted_code) {\n",
       "                             nbb_cells[i].set_text(nbb_formatted_code);\n",
       "                        }\n",
       "                        break;\n",
       "                    }\n",
       "                }\n",
       "            }, 500);\n",
       "            "
      ],
      "text/plain": [
       "<IPython.core.display.Javascript object>"
      ]
     },
     "metadata": {},
     "output_type": "display_data"
    }
   ],
   "source": [
    "print_results(EMOS_global_t2m_hyper_scores, 0)"
   ]
  },
  {
   "cell_type": "code",
   "execution_count": 10,
   "id": "29fa8878",
   "metadata": {},
   "outputs": [
    {
     "name": "stdout",
     "output_type": "stream",
     "text": [
      "Best params (8192, 10, 0.001, 'Adam') score: 0.7493733167648315 ,in lead_time 15\n",
      "(1024, 10, 0.1, 'Adam') 0.7904638648033142\n",
      "(1024, 10, 0.05, 'Adam') 0.7540763020515442\n",
      "(1024, 10, 0.01, 'Adam') 0.7501434683799744\n",
      "(1024, 10, 0.005, 'Adam') 0.7505483031272888\n",
      "(1024, 10, 0.001, 'Adam') 0.7497263550758362\n",
      "(2048, 10, 0.1, 'Adam') 0.7617718577384949\n",
      "(2048, 10, 0.05, 'Adam') 0.7501409649848938\n",
      "(2048, 10, 0.01, 'Adam') 0.7496245503425598\n",
      "(2048, 10, 0.005, 'Adam') 0.7502866387367249\n",
      "(2048, 10, 0.001, 'Adam') 0.7494620084762573\n",
      "(4096, 10, 0.1, 'Adam') 0.7718427181243896\n",
      "(4096, 10, 0.05, 'Adam') 0.7501612901687622\n",
      "(4096, 10, 0.01, 'Adam') 0.749976396560669\n",
      "(4096, 10, 0.005, 'Adam') 0.7494763135910034\n",
      "(4096, 10, 0.001, 'Adam') 0.7495089173316956\n",
      "(8192, 10, 0.1, 'Adam') 0.7810683846473694\n",
      "(8192, 10, 0.05, 'Adam') 0.7517670392990112\n",
      "(8192, 10, 0.01, 'Adam') 0.7497243285179138\n",
      "(8192, 10, 0.005, 'Adam') 0.7496926784515381\n",
      "(8192, 10, 0.001, 'Adam') 0.7493733167648315\n"
     ]
    },
    {
     "data": {
      "application/javascript": [
       "\n",
       "            setTimeout(function() {\n",
       "                var nbb_cell_id = 10;\n",
       "                var nbb_unformatted_code = \"print_results(EMOS_global_t2m_hyper_scores, 1)\";\n",
       "                var nbb_formatted_code = \"print_results(EMOS_global_t2m_hyper_scores, 1)\";\n",
       "                var nbb_cells = Jupyter.notebook.get_cells();\n",
       "                for (var i = 0; i < nbb_cells.length; ++i) {\n",
       "                    if (nbb_cells[i].input_prompt_number == nbb_cell_id) {\n",
       "                        if (nbb_cells[i].get_text() == nbb_unformatted_code) {\n",
       "                             nbb_cells[i].set_text(nbb_formatted_code);\n",
       "                        }\n",
       "                        break;\n",
       "                    }\n",
       "                }\n",
       "            }, 500);\n",
       "            "
      ],
      "text/plain": [
       "<IPython.core.display.Javascript object>"
      ]
     },
     "metadata": {},
     "output_type": "display_data"
    }
   ],
   "source": [
    "print_results(EMOS_global_t2m_hyper_scores, 1)"
   ]
  },
  {
   "cell_type": "code",
   "execution_count": 11,
   "id": "a87026ce",
   "metadata": {},
   "outputs": [
    {
     "name": "stdout",
     "output_type": "stream",
     "text": [
      "Best params (2048, 10, 0.01, 'Adam') score: 1.14043390750885 ,in lead_time 30\n",
      "(1024, 10, 0.1, 'Adam') 1.1565638780593872\n",
      "(1024, 10, 0.05, 'Adam') 1.1418256759643555\n",
      "(1024, 10, 0.01, 'Adam') 1.1426897048950195\n",
      "(1024, 10, 0.005, 'Adam') 1.1411614418029785\n",
      "(1024, 10, 0.001, 'Adam') 1.1406571865081787\n",
      "(2048, 10, 0.1, 'Adam') 1.1456468105316162\n",
      "(2048, 10, 0.05, 'Adam') 1.141500473022461\n",
      "(2048, 10, 0.01, 'Adam') 1.14043390750885\n",
      "(2048, 10, 0.005, 'Adam') 1.1416186094284058\n",
      "(2048, 10, 0.001, 'Adam') 1.141808032989502\n",
      "(4096, 10, 0.1, 'Adam') 1.1449265480041504\n",
      "(4096, 10, 0.05, 'Adam') 1.1533310413360596\n",
      "(4096, 10, 0.01, 'Adam') 1.1412535905838013\n",
      "(4096, 10, 0.005, 'Adam') 1.1413679122924805\n",
      "(4096, 10, 0.001, 'Adam') 1.1412477493286133\n",
      "(8192, 10, 0.1, 'Adam') 1.1749733686447144\n",
      "(8192, 10, 0.05, 'Adam') 1.1452232599258423\n",
      "(8192, 10, 0.01, 'Adam') 1.14060640335083\n",
      "(8192, 10, 0.005, 'Adam') 1.1419819593429565\n",
      "(8192, 10, 0.001, 'Adam') 1.1423572301864624\n"
     ]
    },
    {
     "data": {
      "application/javascript": [
       "\n",
       "            setTimeout(function() {\n",
       "                var nbb_cell_id = 11;\n",
       "                var nbb_unformatted_code = \"print_results(EMOS_global_t2m_hyper_scores, 2)\";\n",
       "                var nbb_formatted_code = \"print_results(EMOS_global_t2m_hyper_scores, 2)\";\n",
       "                var nbb_cells = Jupyter.notebook.get_cells();\n",
       "                for (var i = 0; i < nbb_cells.length; ++i) {\n",
       "                    if (nbb_cells[i].input_prompt_number == nbb_cell_id) {\n",
       "                        if (nbb_cells[i].get_text() == nbb_unformatted_code) {\n",
       "                             nbb_cells[i].set_text(nbb_formatted_code);\n",
       "                        }\n",
       "                        break;\n",
       "                    }\n",
       "                }\n",
       "            }, 500);\n",
       "            "
      ],
      "text/plain": [
       "<IPython.core.display.Javascript object>"
      ]
     },
     "metadata": {},
     "output_type": "display_data"
    }
   ],
   "source": [
    "print_results(EMOS_global_t2m_hyper_scores, 2)"
   ]
  },
  {
   "cell_type": "markdown",
   "id": "63fae183",
   "metadata": {},
   "source": [
    "##### Wind speed"
   ]
  },
  {
   "cell_type": "code",
   "execution_count": 12,
   "id": "11bb2131",
   "metadata": {
    "scrolled": false
   },
   "outputs": [
    {
     "name": "stdout",
     "output_type": "stream",
     "text": [
      "Best params (2048, 10, 0.1, 'SGD') score: 0.6247866153717041 ,in lead_time 0\n",
      "(1024, 10, 0.1, 'Adam') 0.6248735785484314\n",
      "(1024, 10, 0.1, 'SGD') 0.6248950958251953\n",
      "(1024, 10, 0.05, 'Adam') 0.6250014901161194\n",
      "(1024, 10, 0.05, 'SGD') 0.6278693079948425\n",
      "(1024, 10, 0.01, 'Adam') 0.626532793045044\n",
      "(1024, 10, 0.01, 'SGD') 0.6269963383674622\n",
      "(1024, 10, 0.005, 'Adam') 0.6275923848152161\n",
      "(1024, 10, 0.005, 'SGD') 0.6273010969161987\n",
      "(1024, 10, 0.001, 'Adam') 0.6270033717155457\n",
      "(1024, 10, 0.001, 'SGD') 0.6279010772705078\n",
      "(2048, 10, 0.1, 'Adam') 0.6256857514381409\n",
      "(2048, 10, 0.1, 'SGD') 0.6247866153717041\n",
      "(2048, 10, 0.05, 'Adam') 0.6279352903366089\n",
      "(2048, 10, 0.05, 'SGD') 0.6269434094429016\n",
      "(2048, 10, 0.01, 'Adam') 0.6261811852455139\n",
      "(2048, 10, 0.01, 'SGD') 0.6272349953651428\n",
      "(2048, 10, 0.005, 'Adam') 0.6268596053123474\n",
      "(2048, 10, 0.005, 'SGD') 0.6277083158493042\n",
      "(2048, 10, 0.001, 'Adam') 0.6272319555282593\n",
      "(2048, 10, 0.001, 'SGD') 0.6278863549232483\n",
      "(4096, 10, 0.1, 'Adam') 0.6264699101448059\n",
      "(4096, 10, 0.1, 'SGD') 0.6260725855827332\n",
      "(4096, 10, 0.05, 'Adam') 0.6250458359718323\n",
      "(4096, 10, 0.05, 'SGD') 0.6265668272972107\n",
      "(4096, 10, 0.01, 'Adam') 0.6263947486877441\n",
      "(4096, 10, 0.01, 'SGD') 0.626876711845398\n",
      "(4096, 10, 0.005, 'Adam') 0.6267732381820679\n",
      "(4096, 10, 0.005, 'SGD') 0.6272881031036377\n",
      "(4096, 10, 0.001, 'Adam') 0.6273700594902039\n",
      "(4096, 10, 0.001, 'SGD') 0.6278886198997498\n",
      "(8192, 10, 0.1, 'Adam') 0.6253103017807007\n",
      "(8192, 10, 0.1, 'SGD') 0.625112771987915\n",
      "(8192, 10, 0.05, 'Adam') 0.6265828609466553\n",
      "(8192, 10, 0.05, 'SGD') 0.6264730095863342\n",
      "(8192, 10, 0.01, 'Adam') 0.6271582245826721\n",
      "(8192, 10, 0.01, 'SGD') 0.6275083422660828\n",
      "(8192, 10, 0.005, 'Adam') 0.6271997690200806\n",
      "(8192, 10, 0.005, 'SGD') 0.6278068423271179\n",
      "(8192, 10, 0.001, 'Adam') 0.6276947259902954\n",
      "(8192, 10, 0.001, 'SGD') 0.6290066242218018\n"
     ]
    },
    {
     "data": {
      "application/javascript": [
       "\n",
       "            setTimeout(function() {\n",
       "                var nbb_cell_id = 12;\n",
       "                var nbb_unformatted_code = \"print_results(EMOS_global_ws10_hyper_scores, 0)\";\n",
       "                var nbb_formatted_code = \"print_results(EMOS_global_ws10_hyper_scores, 0)\";\n",
       "                var nbb_cells = Jupyter.notebook.get_cells();\n",
       "                for (var i = 0; i < nbb_cells.length; ++i) {\n",
       "                    if (nbb_cells[i].input_prompt_number == nbb_cell_id) {\n",
       "                        if (nbb_cells[i].get_text() == nbb_unformatted_code) {\n",
       "                             nbb_cells[i].set_text(nbb_formatted_code);\n",
       "                        }\n",
       "                        break;\n",
       "                    }\n",
       "                }\n",
       "            }, 500);\n",
       "            "
      ],
      "text/plain": [
       "<IPython.core.display.Javascript object>"
      ]
     },
     "metadata": {},
     "output_type": "display_data"
    }
   ],
   "source": [
    "print_results(EMOS_global_ws10_hyper_scores, 0)"
   ]
  },
  {
   "cell_type": "code",
   "execution_count": 13,
   "id": "a8dcef0b",
   "metadata": {},
   "outputs": [
    {
     "name": "stdout",
     "output_type": "stream",
     "text": [
      "Best params (1024, 10, 0.005, 'Adam') score: 1.1340234279632568 ,in lead_time 15\n",
      "(1024, 10, 0.1, 'Adam') 1.1340389251708984\n",
      "(1024, 10, 0.1, 'SGD') 1.1340711116790771\n",
      "(1024, 10, 0.05, 'Adam') 1.1341966390609741\n",
      "(1024, 10, 0.05, 'SGD') 1.134352684020996\n",
      "(1024, 10, 0.01, 'Adam') 1.1340503692626953\n",
      "(1024, 10, 0.01, 'SGD') 1.1342467069625854\n",
      "(1024, 10, 0.005, 'Adam') 1.1340234279632568\n",
      "(1024, 10, 0.005, 'SGD') 1.1342626810073853\n",
      "(1024, 10, 0.001, 'Adam') 1.13417649269104\n",
      "(1024, 10, 0.001, 'SGD') 1.1343666315078735\n",
      "(2048, 10, 0.1, 'Adam') 1.1349729299545288\n",
      "(2048, 10, 0.1, 'SGD') 1.1340763568878174\n",
      "(2048, 10, 0.05, 'Adam') 1.135208010673523\n",
      "(2048, 10, 0.05, 'SGD') 1.1342941522598267\n",
      "(2048, 10, 0.01, 'Adam') 1.1343153715133667\n",
      "(2048, 10, 0.01, 'SGD') 1.1343286037445068\n",
      "(2048, 10, 0.005, 'Adam') 1.1343283653259277\n",
      "(2048, 10, 0.005, 'SGD') 1.1342934370040894\n",
      "(2048, 10, 0.001, 'Adam') 1.1342017650604248\n",
      "(2048, 10, 0.001, 'SGD') 1.1343393325805664\n",
      "(4096, 10, 0.1, 'Adam') 1.134240984916687\n",
      "(4096, 10, 0.1, 'SGD') 1.134049415588379\n",
      "(4096, 10, 0.05, 'Adam') 1.134102702140808\n",
      "(4096, 10, 0.05, 'SGD') 1.1341233253479004\n",
      "(4096, 10, 0.01, 'Adam') 1.134155511856079\n",
      "(4096, 10, 0.01, 'SGD') 1.1341869831085205\n",
      "(4096, 10, 0.005, 'Adam') 1.1342087984085083\n",
      "(4096, 10, 0.005, 'SGD') 1.1342604160308838\n",
      "(4096, 10, 0.001, 'Adam') 1.1342252492904663\n",
      "(4096, 10, 0.001, 'SGD') 1.1344505548477173\n",
      "(8192, 10, 0.1, 'Adam') 1.1342421770095825\n",
      "(8192, 10, 0.1, 'SGD') 1.1340566873550415\n",
      "(8192, 10, 0.05, 'Adam') 1.1343307495117188\n",
      "(8192, 10, 0.05, 'SGD') 1.1342307329177856\n",
      "(8192, 10, 0.01, 'Adam') 1.1341391801834106\n",
      "(8192, 10, 0.01, 'SGD') 1.1343806982040405\n",
      "(8192, 10, 0.005, 'Adam') 1.1342087984085083\n",
      "(8192, 10, 0.005, 'SGD') 1.1343610286712646\n",
      "(8192, 10, 0.001, 'Adam') 1.1342651844024658\n",
      "(8192, 10, 0.001, 'SGD') 1.1348540782928467\n"
     ]
    },
    {
     "data": {
      "application/javascript": [
       "\n",
       "            setTimeout(function() {\n",
       "                var nbb_cell_id = 13;\n",
       "                var nbb_unformatted_code = \"print_results(EMOS_global_ws10_hyper_scores, 1)\";\n",
       "                var nbb_formatted_code = \"print_results(EMOS_global_ws10_hyper_scores, 1)\";\n",
       "                var nbb_cells = Jupyter.notebook.get_cells();\n",
       "                for (var i = 0; i < nbb_cells.length; ++i) {\n",
       "                    if (nbb_cells[i].input_prompt_number == nbb_cell_id) {\n",
       "                        if (nbb_cells[i].get_text() == nbb_unformatted_code) {\n",
       "                             nbb_cells[i].set_text(nbb_formatted_code);\n",
       "                        }\n",
       "                        break;\n",
       "                    }\n",
       "                }\n",
       "            }, 500);\n",
       "            "
      ],
      "text/plain": [
       "<IPython.core.display.Javascript object>"
      ]
     },
     "metadata": {},
     "output_type": "display_data"
    }
   ],
   "source": [
    "print_results(EMOS_global_ws10_hyper_scores, 1)"
   ]
  },
  {
   "cell_type": "code",
   "execution_count": 14,
   "id": "d1619c39",
   "metadata": {
    "scrolled": false
   },
   "outputs": [
    {
     "name": "stdout",
     "output_type": "stream",
     "text": [
      "Best params (4096, 10, 0.05, 'Adam') score: 1.4301142692565918 ,in lead_time 30\n",
      "(1024, 10, 0.1, 'Adam') 1.431943655014038\n",
      "(1024, 10, 0.1, 'SGD') 1.430385708808899\n",
      "(1024, 10, 0.05, 'Adam') 1.4301594495773315\n",
      "(1024, 10, 0.05, 'SGD') 1.4302326440811157\n",
      "(1024, 10, 0.01, 'Adam') 1.430169939994812\n",
      "(1024, 10, 0.01, 'SGD') 1.4304792881011963\n",
      "(1024, 10, 0.005, 'Adam') 1.4301588535308838\n",
      "(1024, 10, 0.005, 'SGD') 1.4307491779327393\n",
      "(1024, 10, 0.001, 'Adam') 1.4306968450546265\n",
      "(1024, 10, 0.001, 'SGD') 1.4308412075042725\n",
      "(2048, 10, 0.1, 'Adam') 1.4304776191711426\n",
      "(2048, 10, 0.1, 'SGD') 1.43023681640625\n",
      "(2048, 10, 0.05, 'Adam') 1.4301786422729492\n",
      "(2048, 10, 0.05, 'SGD') 1.430361032485962\n",
      "(2048, 10, 0.01, 'Adam') 1.4303494691848755\n",
      "(2048, 10, 0.01, 'SGD') 1.4306875467300415\n",
      "(2048, 10, 0.005, 'Adam') 1.430583119392395\n",
      "(2048, 10, 0.005, 'SGD') 1.4307289123535156\n",
      "(2048, 10, 0.001, 'Adam') 1.4303778409957886\n",
      "(2048, 10, 0.001, 'SGD') 1.4308301210403442\n",
      "(4096, 10, 0.1, 'Adam') 1.43047034740448\n",
      "(4096, 10, 0.1, 'SGD') 1.4301751852035522\n",
      "(4096, 10, 0.05, 'Adam') 1.4301142692565918\n",
      "(4096, 10, 0.05, 'SGD') 1.4303624629974365\n",
      "(4096, 10, 0.01, 'Adam') 1.4306365251541138\n",
      "(4096, 10, 0.01, 'SGD') 1.430742621421814\n",
      "(4096, 10, 0.005, 'Adam') 1.4306644201278687\n",
      "(4096, 10, 0.005, 'SGD') 1.4307457208633423\n",
      "(4096, 10, 0.001, 'Adam') 1.4305219650268555\n",
      "(4096, 10, 0.001, 'SGD') 1.4308401346206665\n",
      "(8192, 10, 0.1, 'Adam') 1.4301279783248901\n",
      "(8192, 10, 0.1, 'SGD') 1.4303747415542603\n",
      "(8192, 10, 0.05, 'Adam') 1.4314998388290405\n",
      "(8192, 10, 0.05, 'SGD') 1.4303812980651855\n",
      "(8192, 10, 0.01, 'Adam') 1.4303407669067383\n",
      "(8192, 10, 0.01, 'SGD') 1.430777668952942\n",
      "(8192, 10, 0.005, 'Adam') 1.4301625490188599\n",
      "(8192, 10, 0.005, 'SGD') 1.430737853050232\n",
      "(8192, 10, 0.001, 'Adam') 1.4306583404541016\n",
      "(8192, 10, 0.001, 'SGD') 1.4315546751022339\n"
     ]
    },
    {
     "data": {
      "application/javascript": [
       "\n",
       "            setTimeout(function() {\n",
       "                var nbb_cell_id = 14;\n",
       "                var nbb_unformatted_code = \"print_results(EMOS_global_ws10_hyper_scores, 2)\";\n",
       "                var nbb_formatted_code = \"print_results(EMOS_global_ws10_hyper_scores, 2)\";\n",
       "                var nbb_cells = Jupyter.notebook.get_cells();\n",
       "                for (var i = 0; i < nbb_cells.length; ++i) {\n",
       "                    if (nbb_cells[i].input_prompt_number == nbb_cell_id) {\n",
       "                        if (nbb_cells[i].get_text() == nbb_unformatted_code) {\n",
       "                             nbb_cells[i].set_text(nbb_formatted_code);\n",
       "                        }\n",
       "                        break;\n",
       "                    }\n",
       "                }\n",
       "            }, 500);\n",
       "            "
      ],
      "text/plain": [
       "<IPython.core.display.Javascript object>"
      ]
     },
     "metadata": {},
     "output_type": "display_data"
    }
   ],
   "source": [
    "print_results(EMOS_global_ws10_hyper_scores, 2)"
   ]
  },
  {
   "cell_type": "markdown",
   "id": "5701e50d",
   "metadata": {},
   "source": [
    "### 2. Load Local Hyperparameter Scores"
   ]
  },
  {
   "cell_type": "code",
   "execution_count": 20,
   "id": "a4037901",
   "metadata": {
    "scrolled": true
   },
   "outputs": [
    {
     "data": {
      "application/javascript": [
       "\n",
       "            setTimeout(function() {\n",
       "                var nbb_cell_id = 20;\n",
       "                var nbb_unformatted_code = \"EMOS_local_t2m_hyper_scores = EMOS_local_load_hyper_score(\\\"t2m\\\")\\nEMOS_local_ws10_hyper_scores = EMOS_local_load_hyper_score(\\\"ws10\\\")\";\n",
       "                var nbb_formatted_code = \"EMOS_local_t2m_hyper_scores = EMOS_local_load_hyper_score(\\\"t2m\\\")\\nEMOS_local_ws10_hyper_scores = EMOS_local_load_hyper_score(\\\"ws10\\\")\";\n",
       "                var nbb_cells = Jupyter.notebook.get_cells();\n",
       "                for (var i = 0; i < nbb_cells.length; ++i) {\n",
       "                    if (nbb_cells[i].input_prompt_number == nbb_cell_id) {\n",
       "                        if (nbb_cells[i].get_text() == nbb_unformatted_code) {\n",
       "                             nbb_cells[i].set_text(nbb_formatted_code);\n",
       "                        }\n",
       "                        break;\n",
       "                    }\n",
       "                }\n",
       "            }, 500);\n",
       "            "
      ],
      "text/plain": [
       "<IPython.core.display.Javascript object>"
      ]
     },
     "metadata": {},
     "output_type": "display_data"
    }
   ],
   "source": [
    "EMOS_local_t2m_hyper_scores = EMOS_local_load_hyper_score(\"t2m\")\n",
    "EMOS_local_ws10_hyper_scores = EMOS_local_load_hyper_score(\"ws10\")"
   ]
  },
  {
   "cell_type": "code",
   "execution_count": 21,
   "id": "e6dd2b85",
   "metadata": {
    "scrolled": false
   },
   "outputs": [
    {
     "name": "stdout",
     "output_type": "stream",
     "text": [
      "T2m-length:3, ws10-length:3\n"
     ]
    },
    {
     "data": {
      "application/javascript": [
       "\n",
       "            setTimeout(function() {\n",
       "                var nbb_cell_id = 21;\n",
       "                var nbb_unformatted_code = \"print(\\n    f\\\"T2m-length:{len(EMOS_local_t2m_hyper_scores)}, ws10-length:{len(EMOS_local_ws10_hyper_scores)}\\\"\\n)\";\n",
       "                var nbb_formatted_code = \"print(\\n    f\\\"T2m-length:{len(EMOS_local_t2m_hyper_scores)}, ws10-length:{len(EMOS_local_ws10_hyper_scores)}\\\"\\n)\";\n",
       "                var nbb_cells = Jupyter.notebook.get_cells();\n",
       "                for (var i = 0; i < nbb_cells.length; ++i) {\n",
       "                    if (nbb_cells[i].input_prompt_number == nbb_cell_id) {\n",
       "                        if (nbb_cells[i].get_text() == nbb_unformatted_code) {\n",
       "                             nbb_cells[i].set_text(nbb_formatted_code);\n",
       "                        }\n",
       "                        break;\n",
       "                    }\n",
       "                }\n",
       "            }, 500);\n",
       "            "
      ],
      "text/plain": [
       "<IPython.core.display.Javascript object>"
      ]
     },
     "metadata": {},
     "output_type": "display_data"
    }
   ],
   "source": [
    "print(\n",
    "    f\"T2m-length:{len(EMOS_local_t2m_hyper_scores)}, ws10-length:{len(EMOS_local_ws10_hyper_scores)}\"\n",
    ")"
   ]
  },
  {
   "cell_type": "markdown",
   "id": "08a658a9",
   "metadata": {},
   "source": [
    "##### Temperature:"
   ]
  },
  {
   "cell_type": "code",
   "execution_count": 22,
   "id": "e0182bb8",
   "metadata": {
    "collapsed": true
   },
   "outputs": [
    {
     "name": "stdout",
     "output_type": "stream",
     "text": [
      "Best params (16, 30, 0.005, 'Adam') score: 0.37988878824771977 ,in lead_time 0\n",
      "(16, 30, 0.1, 'Adam') 0.49627375191985035\n",
      "(16, 30, 0.05, 'Adam') 0.4216254285703867\n",
      "(16, 30, 0.01, 'Adam') 0.3831466698111632\n",
      "(16, 30, 0.005, 'Adam') 0.37988878824771977\n",
      "(16, 30, 0.001, 'Adam') 17.344419322525845\n",
      "(32, 30, 0.1, 'Adam') 0.45766198663757396\n",
      "(32, 30, 0.05, 'Adam') 0.40029029032358754\n",
      "(32, 30, 0.01, 'Adam') 0.38057279271575123\n",
      "(32, 30, 0.005, 'Adam') 0.47604186594104153\n",
      "(32, 30, 0.001, 'Adam') 114.26232341648294\n",
      "(64, 30, 0.1, 'Adam') 0.5142447502376177\n",
      "(64, 30, 0.05, 'Adam') 0.44653667777012557\n",
      "(64, 30, 0.01, 'Adam') 0.5151060394560679\n",
      "(64, 30, 0.005, 'Adam') 0.8507009725540112\n",
      "(64, 30, 0.001, 'Adam') 216.2162034266079\n",
      "(128, 30, 0.1, 'Adam') 0.9618315050044121\n",
      "(128, 30, 0.05, 'Adam') 0.7048312280422602\n",
      "(128, 30, 0.01, 'Adam') 1.0980231383672128\n",
      "(128, 30, 0.005, 'Adam') 74.58889908248034\n",
      "(128, 30, 0.001, 'Adam') 249.4008049772909\n",
      "(256, 30, 0.1, 'Adam') 2.834916726900981\n",
      "(256, 30, 0.05, 'Adam') 1.4633462037413547\n",
      "(256, 30, 0.01, 'Adam') 57.70785684071672\n",
      "(256, 30, 0.005, 'Adam') 167.9828360650975\n",
      "(256, 30, 0.001, 'Adam') 276.6492491184901\n"
     ]
    },
    {
     "data": {
      "application/javascript": [
       "\n",
       "            setTimeout(function() {\n",
       "                var nbb_cell_id = 22;\n",
       "                var nbb_unformatted_code = \"print_results(EMOS_local_t2m_hyper_scores, 0)\";\n",
       "                var nbb_formatted_code = \"print_results(EMOS_local_t2m_hyper_scores, 0)\";\n",
       "                var nbb_cells = Jupyter.notebook.get_cells();\n",
       "                for (var i = 0; i < nbb_cells.length; ++i) {\n",
       "                    if (nbb_cells[i].input_prompt_number == nbb_cell_id) {\n",
       "                        if (nbb_cells[i].get_text() == nbb_unformatted_code) {\n",
       "                             nbb_cells[i].set_text(nbb_formatted_code);\n",
       "                        }\n",
       "                        break;\n",
       "                    }\n",
       "                }\n",
       "            }, 500);\n",
       "            "
      ],
      "text/plain": [
       "<IPython.core.display.Javascript object>"
      ]
     },
     "metadata": {},
     "output_type": "display_data"
    }
   ],
   "source": [
    "print_results(EMOS_local_t2m_hyper_scores, 0)"
   ]
  },
  {
   "cell_type": "code",
   "execution_count": 23,
   "id": "3920d4b2",
   "metadata": {
    "collapsed": true
   },
   "outputs": [
    {
     "name": "stdout",
     "output_type": "stream",
     "text": [
      "Best params (16, 30, 0.005, 'Adam') score: 0.7063188764911431 ,in lead_time 15\n",
      "(16, 30, 0.1, 'Adam') 0.781379029345818\n",
      "(16, 30, 0.05, 'Adam') 0.7365562399992576\n",
      "(16, 30, 0.01, 'Adam') 0.7081086847644585\n",
      "(16, 30, 0.005, 'Adam') 0.7063188764911431\n",
      "(16, 30, 0.001, 'Adam') 17.594197237911896\n",
      "(32, 30, 0.1, 'Adam') 0.7446841379770865\n",
      "(32, 30, 0.05, 'Adam') 0.7179414452268527\n",
      "(32, 30, 0.01, 'Adam') 0.706347644329071\n",
      "(32, 30, 0.005, 'Adam') 0.7359531710927303\n",
      "(32, 30, 0.001, 'Adam') 128.0106144963931\n",
      "(64, 30, 0.1, 'Adam') 0.7903085488539475\n",
      "(64, 30, 0.05, 'Adam') 0.7300917301804591\n",
      "(64, 30, 0.01, 'Adam') 0.7576043812128214\n",
      "(64, 30, 0.005, 'Adam') 0.8920006274412839\n",
      "(64, 30, 0.001, 'Adam') 184.0715512767052\n",
      "(128, 30, 0.1, 'Adam') 1.3530094715265126\n",
      "(128, 30, 0.05, 'Adam') 0.8974096291722395\n",
      "(128, 30, 0.01, 'Adam') 1.0043515845751152\n",
      "(128, 30, 0.005, 'Adam') 87.53295544878794\n",
      "(128, 30, 0.001, 'Adam') 267.54757876178394\n",
      "(256, 30, 0.1, 'Adam') 3.2549329422987423\n",
      "(256, 30, 0.05, 'Adam') 1.7046045003793178\n",
      "(256, 30, 0.01, 'Adam') 54.41079867745821\n",
      "(256, 30, 0.005, 'Adam') 180.4925395704997\n",
      "(256, 30, 0.001, 'Adam') 302.1960828050207\n"
     ]
    },
    {
     "data": {
      "application/javascript": [
       "\n",
       "            setTimeout(function() {\n",
       "                var nbb_cell_id = 23;\n",
       "                var nbb_unformatted_code = \"print_results(EMOS_local_t2m_hyper_scores, 1)\";\n",
       "                var nbb_formatted_code = \"print_results(EMOS_local_t2m_hyper_scores, 1)\";\n",
       "                var nbb_cells = Jupyter.notebook.get_cells();\n",
       "                for (var i = 0; i < nbb_cells.length; ++i) {\n",
       "                    if (nbb_cells[i].input_prompt_number == nbb_cell_id) {\n",
       "                        if (nbb_cells[i].get_text() == nbb_unformatted_code) {\n",
       "                             nbb_cells[i].set_text(nbb_formatted_code);\n",
       "                        }\n",
       "                        break;\n",
       "                    }\n",
       "                }\n",
       "            }, 500);\n",
       "            "
      ],
      "text/plain": [
       "<IPython.core.display.Javascript object>"
      ]
     },
     "metadata": {},
     "output_type": "display_data"
    }
   ],
   "source": [
    "print_results(EMOS_local_t2m_hyper_scores, 1)"
   ]
  },
  {
   "cell_type": "code",
   "execution_count": 24,
   "id": "8217f864",
   "metadata": {
    "collapsed": true
   },
   "outputs": [
    {
     "name": "stdout",
     "output_type": "stream",
     "text": [
      "Best params (16, 30, 0.005, 'Adam') score: 1.0838735229693925 ,in lead_time 30\n",
      "(16, 30, 0.1, 'Adam') 1.1478227969163504\n",
      "(16, 30, 0.05, 'Adam') 1.1052566770559702\n",
      "(16, 30, 0.01, 'Adam') 1.0850750077993443\n",
      "(16, 30, 0.005, 'Adam') 1.0838735229693925\n",
      "(16, 30, 0.001, 'Adam') 15.558259987296202\n",
      "(32, 30, 0.1, 'Adam') 1.1079142334369512\n",
      "(32, 30, 0.05, 'Adam') 1.090742947963568\n",
      "(32, 30, 0.01, 'Adam') 1.0857606308582501\n",
      "(32, 30, 0.005, 'Adam') 1.1531194135164604\n",
      "(32, 30, 0.001, 'Adam') 109.61724732434138\n",
      "(64, 30, 0.1, 'Adam') 1.123578464373564\n",
      "(64, 30, 0.05, 'Adam') 1.0935281713803608\n",
      "(64, 30, 0.01, 'Adam') 1.1697963350094283\n",
      "(64, 30, 0.005, 'Adam') 1.320859425343\n",
      "(64, 30, 0.001, 'Adam') 194.04333809056342\n",
      "(128, 30, 0.1, 'Adam') 1.6871731460858614\n",
      "(128, 30, 0.05, 'Adam') 1.407067013856692\n",
      "(128, 30, 0.01, 'Adam') 1.4358300608702195\n",
      "(128, 30, 0.005, 'Adam') 83.94458062373675\n",
      "(128, 30, 0.001, 'Adam') 236.01420517342214\n",
      "(256, 30, 0.1, 'Adam') 3.0241014468364225\n",
      "(256, 30, 0.05, 'Adam') 2.124276435145965\n",
      "(256, 30, 0.01, 'Adam') 73.06352017361384\n",
      "(256, 30, 0.005, 'Adam') 152.97713040197507\n",
      "(256, 30, 0.001, 'Adam') 276.4663585730088\n"
     ]
    },
    {
     "data": {
      "application/javascript": [
       "\n",
       "            setTimeout(function() {\n",
       "                var nbb_cell_id = 24;\n",
       "                var nbb_unformatted_code = \"print_results(EMOS_local_t2m_hyper_scores, 2)\";\n",
       "                var nbb_formatted_code = \"print_results(EMOS_local_t2m_hyper_scores, 2)\";\n",
       "                var nbb_cells = Jupyter.notebook.get_cells();\n",
       "                for (var i = 0; i < nbb_cells.length; ++i) {\n",
       "                    if (nbb_cells[i].input_prompt_number == nbb_cell_id) {\n",
       "                        if (nbb_cells[i].get_text() == nbb_unformatted_code) {\n",
       "                             nbb_cells[i].set_text(nbb_formatted_code);\n",
       "                        }\n",
       "                        break;\n",
       "                    }\n",
       "                }\n",
       "            }, 500);\n",
       "            "
      ],
      "text/plain": [
       "<IPython.core.display.Javascript object>"
      ]
     },
     "metadata": {},
     "output_type": "display_data"
    }
   ],
   "source": [
    "print_results(EMOS_local_t2m_hyper_scores, 2)"
   ]
  },
  {
   "cell_type": "markdown",
   "id": "b79520f7",
   "metadata": {},
   "source": [
    "##### Wind Speed"
   ]
  },
  {
   "cell_type": "code",
   "execution_count": 25,
   "id": "da3a4af8",
   "metadata": {
    "scrolled": false
   },
   "outputs": [
    {
     "name": "stdout",
     "output_type": "stream",
     "text": [
      "Best params (64, 30, 0.1, 'Adam') score: 0.5987810954833642 ,in lead_time 0\n",
      "(32, 30, 0.1, 'Adam') 0.5989483954050602\n",
      "(32, 30, 0.1, 'SGD') 0.6794286073209383\n",
      "(32, 30, 0.05, 'Adam') 0.5993755188507911\n",
      "(32, 30, 0.05, 'SGD') 0.6050876546173524\n",
      "(32, 30, 0.01, 'Adam') 0.6033720479179652\n",
      "(32, 30, 0.01, 'SGD') 0.6048767089079587\n",
      "(32, 30, 0.005, 'Adam') 0.606172231814036\n",
      "(32, 30, 0.005, 'SGD') 0.6074436995654534\n",
      "(32, 30, 0.001, 'Adam') 0.6225756370486357\n",
      "(32, 30, 0.001, 'SGD') 0.6208223901115931\n",
      "(64, 30, 0.1, 'Adam') 0.5987810954833642\n",
      "(64, 30, 0.1, 'SGD') 0.7279265223978422\n",
      "(64, 30, 0.05, 'Adam') 0.6001894321197119\n",
      "(64, 30, 0.05, 'SGD') 0.6032571896719627\n",
      "(64, 30, 0.01, 'Adam') 0.6049282004435858\n",
      "(64, 30, 0.01, 'SGD') 0.6073775272338818\n",
      "(64, 30, 0.005, 'Adam') 0.6102765940893919\n",
      "(64, 30, 0.005, 'SGD') 0.6134857069223355\n",
      "(64, 30, 0.001, 'Adam') 0.7704542474104807\n",
      "(64, 30, 0.001, 'SGD') 0.633939979932247\n",
      "(128, 30, 0.1, 'Adam') 0.6001739102678422\n",
      "(128, 30, 0.1, 'SGD') 0.7562125863937231\n",
      "(128, 30, 0.05, 'Adam') 0.6031126355131468\n",
      "(128, 30, 0.05, 'SGD') 0.605310859110875\n",
      "(128, 30, 0.01, 'Adam') 0.6100575796877726\n",
      "(128, 30, 0.01, 'SGD') 0.6122207629183928\n",
      "(128, 30, 0.005, 'Adam') 0.6230642861471727\n",
      "(128, 30, 0.005, 'SGD') 0.6193600559654908\n",
      "(128, 30, 0.001, 'Adam') 1.2530294962418385\n",
      "(128, 30, 0.001, 'SGD') 0.6574339967889663\n",
      "(256, 30, 0.1, 'Adam') 0.615864870735468\n",
      "(256, 30, 0.1, 'SGD') 0.8108517478864926\n",
      "(256, 30, 0.05, 'Adam') 0.6307663480058695\n",
      "(256, 30, 0.05, 'SGD') 0.6074161880100385\n",
      "(256, 30, 0.01, 'Adam') 0.6219085219005743\n",
      "(256, 30, 0.01, 'SGD') 0.6185232403759773\n",
      "(256, 30, 0.005, 'Adam') 0.6553333991040022\n",
      "(256, 30, 0.005, 'SGD') 0.6257915549362317\n",
      "(256, 30, 0.001, 'Adam') 1.5391710305061095\n",
      "(256, 30, 0.001, 'SGD') 0.73516579106068\n"
     ]
    },
    {
     "data": {
      "application/javascript": [
       "\n",
       "            setTimeout(function() {\n",
       "                var nbb_cell_id = 25;\n",
       "                var nbb_unformatted_code = \"print_results(EMOS_local_ws10_hyper_scores, 0)\";\n",
       "                var nbb_formatted_code = \"print_results(EMOS_local_ws10_hyper_scores, 0)\";\n",
       "                var nbb_cells = Jupyter.notebook.get_cells();\n",
       "                for (var i = 0; i < nbb_cells.length; ++i) {\n",
       "                    if (nbb_cells[i].input_prompt_number == nbb_cell_id) {\n",
       "                        if (nbb_cells[i].get_text() == nbb_unformatted_code) {\n",
       "                             nbb_cells[i].set_text(nbb_formatted_code);\n",
       "                        }\n",
       "                        break;\n",
       "                    }\n",
       "                }\n",
       "            }, 500);\n",
       "            "
      ],
      "text/plain": [
       "<IPython.core.display.Javascript object>"
      ]
     },
     "metadata": {},
     "output_type": "display_data"
    }
   ],
   "source": [
    "print_results(EMOS_local_ws10_hyper_scores, 0)"
   ]
  },
  {
   "cell_type": "code",
   "execution_count": 27,
   "id": "5be0fcd5",
   "metadata": {},
   "outputs": [
    {
     "name": "stdout",
     "output_type": "stream",
     "text": [
      "Best params (64, 30, 0.1, 'Adam') score: 1.1464913334601965 ,in lead_time 15\n",
      "(32, 30, 0.1, 'Adam') 1.1471663965628698\n",
      "(32, 30, 0.1, 'SGD') 1.1529479882656\n",
      "(32, 30, 0.05, 'Adam') 1.1468491206566493\n",
      "(32, 30, 0.05, 'SGD') 1.1520089321793654\n",
      "(32, 30, 0.01, 'Adam') 1.148507986886379\n",
      "(32, 30, 0.01, 'SGD') 1.1567316525257552\n",
      "(32, 30, 0.005, 'Adam') 1.1508185116526408\n",
      "(32, 30, 0.005, 'SGD') 1.1601466924334183\n",
      "(32, 30, 0.001, 'Adam') 1.1677146445100124\n",
      "(32, 30, 0.001, 'SGD') 1.1990550834781084\n",
      "(64, 30, 0.1, 'Adam') 1.1464913334601965\n",
      "(64, 30, 0.1, 'SGD') 1.1521924821994243\n",
      "(64, 30, 0.05, 'Adam') 1.1466526618370643\n",
      "(64, 30, 0.05, 'SGD') 1.1526299225978363\n",
      "(64, 30, 0.01, 'Adam') 1.1500867475301793\n",
      "(64, 30, 0.01, 'SGD') 1.1602032518921754\n",
      "(64, 30, 0.005, 'Adam') 1.1535157994964185\n",
      "(64, 30, 0.005, 'SGD') 1.1697707590766442\n",
      "(64, 30, 0.001, 'Adam') 1.2652047228736756\n",
      "(64, 30, 0.001, 'SGD') 1.2275816226998966\n",
      "(128, 30, 0.1, 'Adam') 1.1477612532102144\n",
      "(128, 30, 0.1, 'SGD') 1.1543301896024973\n",
      "(128, 30, 0.05, 'Adam') 1.1492853886806047\n",
      "(128, 30, 0.05, 'SGD') 1.1555279067311532\n",
      "(128, 30, 0.01, 'Adam') 1.1551647660059807\n",
      "(128, 30, 0.01, 'SGD') 1.1704106527643325\n",
      "(128, 30, 0.005, 'Adam') 1.1603148096264937\n",
      "(128, 30, 0.005, 'SGD') 1.1917806575313592\n",
      "(128, 30, 0.001, 'Adam') 1.6082101206366832\n",
      "(128, 30, 0.001, 'SGD') 1.278617965678374\n",
      "(256, 30, 0.1, 'Adam') 1.1588124143771636\n",
      "(256, 30, 0.1, 'SGD') 1.1571606420553648\n",
      "(256, 30, 0.05, 'Adam') 1.1637103467797623\n",
      "(256, 30, 0.05, 'SGD') 1.1594439192842214\n",
      "(256, 30, 0.01, 'Adam') 1.1591434702277184\n",
      "(256, 30, 0.01, 'SGD') 1.1872708808917265\n",
      "(256, 30, 0.005, 'Adam') 1.1887335244279642\n",
      "(256, 30, 0.005, 'SGD') 1.2144308153253336\n",
      "(256, 30, 0.001, 'Adam') 1.7347042524279692\n",
      "(256, 30, 0.001, 'SGD') 1.3667611584831507\n"
     ]
    },
    {
     "data": {
      "application/javascript": [
       "\n",
       "            setTimeout(function() {\n",
       "                var nbb_cell_id = 27;\n",
       "                var nbb_unformatted_code = \"print_results(EMOS_local_ws10_hyper_scores, 1)\";\n",
       "                var nbb_formatted_code = \"print_results(EMOS_local_ws10_hyper_scores, 1)\";\n",
       "                var nbb_cells = Jupyter.notebook.get_cells();\n",
       "                for (var i = 0; i < nbb_cells.length; ++i) {\n",
       "                    if (nbb_cells[i].input_prompt_number == nbb_cell_id) {\n",
       "                        if (nbb_cells[i].get_text() == nbb_unformatted_code) {\n",
       "                             nbb_cells[i].set_text(nbb_formatted_code);\n",
       "                        }\n",
       "                        break;\n",
       "                    }\n",
       "                }\n",
       "            }, 500);\n",
       "            "
      ],
      "text/plain": [
       "<IPython.core.display.Javascript object>"
      ]
     },
     "metadata": {},
     "output_type": "display_data"
    }
   ],
   "source": [
    "print_results(EMOS_local_ws10_hyper_scores, 1)"
   ]
  },
  {
   "cell_type": "code",
   "execution_count": 28,
   "id": "15c18cd9",
   "metadata": {},
   "outputs": [
    {
     "name": "stdout",
     "output_type": "stream",
     "text": [
      "Best params (32, 30, 0.05, 'Adam') score: 1.460105578486736 ,in lead_time 30\n",
      "(32, 30, 0.1, 'Adam') 1.4606935576750681\n",
      "(32, 30, 0.1, 'SGD') 1.4727443806253946\n",
      "(32, 30, 0.05, 'Adam') 1.460105578486736\n",
      "(32, 30, 0.05, 'SGD') 1.4736094400286674\n",
      "(32, 30, 0.01, 'Adam') 1.4657837135287433\n",
      "(32, 30, 0.01, 'SGD') 1.4796271983247538\n",
      "(32, 30, 0.005, 'Adam') 1.4703167569942963\n",
      "(32, 30, 0.005, 'SGD') 1.4820695632161238\n",
      "(32, 30, 0.001, 'Adam') 1.490070137840051\n",
      "(32, 30, 0.001, 'SGD') 1.510183056195577\n",
      "(64, 30, 0.1, 'Adam') 1.4605731188486784\n",
      "(64, 30, 0.1, 'SGD') 1.4734687969470635\n",
      "(64, 30, 0.05, 'Adam') 1.4618235759628124\n",
      "(64, 30, 0.05, 'SGD') 1.4766312984701915\n",
      "(64, 30, 0.01, 'Adam') 1.470451527681106\n",
      "(64, 30, 0.01, 'SGD') 1.4826093421150477\n",
      "(64, 30, 0.005, 'Adam') 1.4758542543038344\n",
      "(64, 30, 0.005, 'SGD') 1.4884808756984198\n",
      "(64, 30, 0.001, 'Adam') 1.5738424599552765\n",
      "(64, 30, 0.001, 'SGD') 1.5468422017800503\n",
      "(128, 30, 0.1, 'Adam') 1.46449460203831\n",
      "(128, 30, 0.1, 'SGD') 1.4761654692582595\n",
      "(128, 30, 0.05, 'Adam') 1.4661894536171205\n",
      "(128, 30, 0.05, 'SGD') 1.4786894185802875\n",
      "(128, 30, 0.01, 'Adam') 1.4759634989194381\n",
      "(128, 30, 0.01, 'SGD') 1.4873720499185414\n",
      "(128, 30, 0.005, 'Adam') 1.4838391282619574\n",
      "(128, 30, 0.005, 'SGD') 1.5006944777873845\n",
      "(128, 30, 0.001, 'Adam') 1.8081223632280643\n",
      "(128, 30, 0.001, 'SGD') 1.6105480942970667\n",
      "(256, 30, 0.1, 'Adam') 1.4797132576887424\n",
      "(256, 30, 0.1, 'SGD') 1.478377671769032\n",
      "(256, 30, 0.05, 'Adam') 1.4818439298333266\n",
      "(256, 30, 0.05, 'SGD') 1.4821449640469673\n",
      "(256, 30, 0.01, 'Adam') 1.4813236756584582\n",
      "(256, 30, 0.01, 'SGD') 1.4979674823773212\n",
      "(256, 30, 0.005, 'Adam') 1.511270363934529\n",
      "(256, 30, 0.005, 'SGD') 1.5328462079931529\n",
      "(256, 30, 0.001, 'Adam') 1.9774326233145518\n",
      "(256, 30, 0.001, 'SGD') 1.7380333223786109\n"
     ]
    },
    {
     "data": {
      "application/javascript": [
       "\n",
       "            setTimeout(function() {\n",
       "                var nbb_cell_id = 28;\n",
       "                var nbb_unformatted_code = \"print_results(EMOS_local_ws10_hyper_scores, 2)\";\n",
       "                var nbb_formatted_code = \"print_results(EMOS_local_ws10_hyper_scores, 2)\";\n",
       "                var nbb_cells = Jupyter.notebook.get_cells();\n",
       "                for (var i = 0; i < nbb_cells.length; ++i) {\n",
       "                    if (nbb_cells[i].input_prompt_number == nbb_cell_id) {\n",
       "                        if (nbb_cells[i].get_text() == nbb_unformatted_code) {\n",
       "                             nbb_cells[i].set_text(nbb_formatted_code);\n",
       "                        }\n",
       "                        break;\n",
       "                    }\n",
       "                }\n",
       "            }, 500);\n",
       "            "
      ],
      "text/plain": [
       "<IPython.core.display.Javascript object>"
      ]
     },
     "metadata": {},
     "output_type": "display_data"
    }
   ],
   "source": [
    "print_results(EMOS_local_ws10_hyper_scores, 2)"
   ]
  },
  {
   "cell_type": "markdown",
   "id": "e390e535",
   "metadata": {},
   "source": [
    "### 3. Scores for comparison:"
   ]
  },
  {
   "cell_type": "code",
   "execution_count": 29,
   "id": "755b343f",
   "metadata": {},
   "outputs": [
    {
     "data": {
      "application/javascript": [
       "\n",
       "            setTimeout(function() {\n",
       "                var nbb_cell_id = 29;\n",
       "                var nbb_unformatted_code = \"# Load EMOS local scores\\nEMOS_local_t2m_scores = EMOS_local_load_score(\\\"t2m\\\")\\n# EMOS_local_ws10_scores = EMOS_local_load_score(\\\"ws10\\\")\\n\\n# Load EMOS global scores\\nEMOS_global_t2m_scores = EMOS_global_load_score(\\\"t2m\\\")\\nEMOS_global_ws10_scores = EMOS_global_load_score(\\\"ws10\\\")\\n\\n# Load CRPS scores\\nCRPS_global_t2m_scores = crps_load_lead_lat_lon(\\\"t2m\\\")\\nCRPS_global_ws10_scores = crps_load_lead_lat_lon(\\\"ws10\\\")\";\n",
       "                var nbb_formatted_code = \"# Load EMOS local scores\\nEMOS_local_t2m_scores = EMOS_local_load_score(\\\"t2m\\\")\\n# EMOS_local_ws10_scores = EMOS_local_load_score(\\\"ws10\\\")\\n\\n# Load EMOS global scores\\nEMOS_global_t2m_scores = EMOS_global_load_score(\\\"t2m\\\")\\nEMOS_global_ws10_scores = EMOS_global_load_score(\\\"ws10\\\")\\n\\n# Load CRPS scores\\nCRPS_global_t2m_scores = crps_load_lead_lat_lon(\\\"t2m\\\")\\nCRPS_global_ws10_scores = crps_load_lead_lat_lon(\\\"ws10\\\")\";\n",
       "                var nbb_cells = Jupyter.notebook.get_cells();\n",
       "                for (var i = 0; i < nbb_cells.length; ++i) {\n",
       "                    if (nbb_cells[i].input_prompt_number == nbb_cell_id) {\n",
       "                        if (nbb_cells[i].get_text() == nbb_unformatted_code) {\n",
       "                             nbb_cells[i].set_text(nbb_formatted_code);\n",
       "                        }\n",
       "                        break;\n",
       "                    }\n",
       "                }\n",
       "            }, 500);\n",
       "            "
      ],
      "text/plain": [
       "<IPython.core.display.Javascript object>"
      ]
     },
     "metadata": {},
     "output_type": "display_data"
    }
   ],
   "source": [
    "# Load EMOS local scores\n",
    "EMOS_local_t2m_scores = EMOS_local_load_score(\"t2m\")\n",
    "# EMOS_local_ws10_scores = EMOS_local_load_score(\"ws10\")\n",
    "\n",
    "# Load EMOS global scores\n",
    "EMOS_global_t2m_scores = EMOS_global_load_score(\"t2m\")\n",
    "EMOS_global_ws10_scores = EMOS_global_load_score(\"ws10\")\n",
    "\n",
    "# Load CRPS scores\n",
    "CRPS_global_t2m_scores = crps_load_lead_lat_lon(\"t2m\")\n",
    "CRPS_global_ws10_scores = crps_load_lead_lat_lon(\"ws10\")"
   ]
  },
  {
   "cell_type": "code",
   "execution_count": 30,
   "id": "12544693",
   "metadata": {},
   "outputs": [
    {
     "name": "stdout",
     "output_type": "stream",
     "text": [
      "Temperature:\n",
      "Lead 0:EMOS_loc: 0.4148695374260971, EMOS_glob: 0.46703651029923665, CRPS: 0.5084816639136492\n",
      "Lead 1:EMOS_loc: 0.4570583921154468, EMOS_glob: 0.5298957333000098, CRPS: 0.5347707002046389\n",
      "Lead 2:EMOS_loc: 0.4764913273333677, EMOS_glob: 0.5111855084322628, CRPS: 0.5150757989800734\n",
      "Lead 3:EMOS_loc: 0.4853422424293378, EMOS_glob: 0.5183820239839588, CRPS: 0.5301602687833538\n",
      "Lead 4:EMOS_loc: 0.5088349645341457, EMOS_glob: 0.5376392532805744, CRPS: 0.5624034501418446\n",
      "Lead 5:EMOS_loc: 0.5484872642343575, EMOS_glob: 0.5939897328842008, CRPS: 0.6306282599852645\n",
      "Lead 6:EMOS_loc: 0.5712123582837434, EMOS_glob: 0.5924088144510241, CRPS: 0.6316119778923832\n",
      "Lead 7:EMOS_loc: 0.5754663166502546, EMOS_glob: 0.6024678559619754, CRPS: 0.6454345388357919\n",
      "Lead 8:EMOS_loc: 0.6026712332169245, EMOS_glob: 0.6265648309789082, CRPS: 0.6802850949781106\n",
      "Lead 9:EMOS_loc: 0.6562236252654708, EMOS_glob: 0.6937458851013558, CRPS: 0.7561511514525252\n",
      "Lead 10:EMOS_loc: 0.6800776498304495, EMOS_glob: 0.6958467261895463, CRPS: 0.7596827249402444\n",
      "Lead 11:EMOS_loc: 0.6794425793146366, EMOS_glob: 0.7032838196351372, CRPS: 0.7671595364524374\n",
      "Lead 12:EMOS_loc: 0.7123190931150641, EMOS_glob: 0.7309746362686439, CRPS: 0.8087436349681829\n",
      "Lead 13:EMOS_loc: 0.7748360011670311, EMOS_glob: 0.8061964020303785, CRPS: 0.8907210185014609\n",
      "Lead 14:EMOS_loc: 0.7952009913101734, EMOS_glob: 0.8106952011303574, CRPS: 0.8895929183430251\n",
      "Lead 15:EMOS_loc: 0.7895533464906054, EMOS_glob: 0.8063593058476693, CRPS: 0.8913402208770865\n",
      "Lead 16:EMOS_loc: 0.8244157225737196, EMOS_glob: 0.8396767227407256, CRPS: 0.9354666921537256\n",
      "Lead 17:EMOS_loc: 0.8987535461063973, EMOS_glob: 0.9253094152419413, CRPS: 1.030760697007392\n",
      "Lead 18:EMOS_loc: 0.911990312493202, EMOS_glob: 0.9244103431114752, CRPS: 1.020928305756169\n",
      "Lead 19:EMOS_loc: 0.8980970378732857, EMOS_glob: 0.9158587177946148, CRPS: 1.011146119667486\n",
      "Lead 20:EMOS_loc: 0.9337742641433827, EMOS_glob: 0.9477237022814626, CRPS: 1.0559743772319934\n",
      "Lead 21:EMOS_loc: 1.024922979931499, EMOS_glob: 1.0486241355164112, CRPS: 1.170507971000092\n",
      "Lead 22:EMOS_loc: 1.0273314696568663, EMOS_glob: 1.0390171211692882, CRPS: 1.1471350159491147\n",
      "Lead 23:EMOS_loc: 1.0024411008446334, EMOS_glob: 1.0153090562183535, CRPS: 1.1231032795400633\n",
      "Lead 24:EMOS_loc: 1.0384650106563948, EMOS_glob: 1.051807358420797, CRPS: 1.1665183732402151\n",
      "Lead 25:EMOS_loc: 1.1369841677869823, EMOS_glob: 1.1572987502464485, CRPS: 1.291409822220935\n",
      "Lead 26:EMOS_loc: 1.1309084264736469, EMOS_glob: 1.1384145365151879, CRPS: 1.2553212202206236\n",
      "Lead 27:EMOS_loc: 1.0945496497467657, EMOS_glob: 1.1052877757773611, CRPS: 1.2185923742165932\n",
      "Lead 28:EMOS_loc: 1.1299233835071807, EMOS_glob: 1.137667713788714, CRPS: 1.261623224976432\n",
      "Lead 29:EMOS_loc: 1.2459260186081393, EMOS_glob: 1.2721116780946715, CRPS: 1.4120354238676378\n",
      "Lead 30:EMOS_loc: 1.2266892901786237, EMOS_glob: 1.2296079979755303, CRPS: 1.3563336012079834\n"
     ]
    },
    {
     "data": {
      "application/javascript": [
       "\n",
       "            setTimeout(function() {\n",
       "                var nbb_cell_id = 30;\n",
       "                var nbb_unformatted_code = \"print(\\\"Temperature:\\\")\\nfor lead_time in range(len(EMOS_local_t2m_scores)):\\n    print(\\n        f\\\"Lead {lead_time}:EMOS_loc: {EMOS_local_t2m_scores[lead_time].mean()}, EMOS_glob: {EMOS_global_t2m_scores[lead_time].mean()}, CRPS: {CRPS_global_t2m_scores[lead_time].mean()}\\\"\\n    )\";\n",
       "                var nbb_formatted_code = \"print(\\\"Temperature:\\\")\\nfor lead_time in range(len(EMOS_local_t2m_scores)):\\n    print(\\n        f\\\"Lead {lead_time}:EMOS_loc: {EMOS_local_t2m_scores[lead_time].mean()}, EMOS_glob: {EMOS_global_t2m_scores[lead_time].mean()}, CRPS: {CRPS_global_t2m_scores[lead_time].mean()}\\\"\\n    )\";\n",
       "                var nbb_cells = Jupyter.notebook.get_cells();\n",
       "                for (var i = 0; i < nbb_cells.length; ++i) {\n",
       "                    if (nbb_cells[i].input_prompt_number == nbb_cell_id) {\n",
       "                        if (nbb_cells[i].get_text() == nbb_unformatted_code) {\n",
       "                             nbb_cells[i].set_text(nbb_formatted_code);\n",
       "                        }\n",
       "                        break;\n",
       "                    }\n",
       "                }\n",
       "            }, 500);\n",
       "            "
      ],
      "text/plain": [
       "<IPython.core.display.Javascript object>"
      ]
     },
     "metadata": {},
     "output_type": "display_data"
    }
   ],
   "source": [
    "print(\"Temperature:\")\n",
    "for lead_time in range(len(EMOS_local_t2m_scores)):\n",
    "    print(\n",
    "        f\"Lead {lead_time}:EMOS_loc: {EMOS_local_t2m_scores[lead_time].mean()}, EMOS_glob: {EMOS_global_t2m_scores[lead_time].mean()}, CRPS: {CRPS_global_t2m_scores[lead_time].mean()}\"\n",
    "    )"
   ]
  },
  {
   "cell_type": "code",
   "execution_count": 31,
   "id": "898a9d43",
   "metadata": {},
   "outputs": [
    {
     "name": "stdout",
     "output_type": "stream",
     "text": [
      "wind speed:\n"
     ]
    },
    {
     "data": {
      "application/javascript": [
       "\n",
       "            setTimeout(function() {\n",
       "                var nbb_cell_id = 31;\n",
       "                var nbb_unformatted_code = \"print(\\\"wind speed:\\\")\\nfor lead_time in range(len(EMOS_global_ws10_scores)):\\n    print(\\n        f\\\"Lead {lead_time}: EMOS_glob: {EMOS_global_ws10_scores[lead_time].mean()}, CRPS: {CRPS_global_ws10_scores[lead_time].mean()}\\\"\\n    )\";\n",
       "                var nbb_formatted_code = \"print(\\\"wind speed:\\\")\\nfor lead_time in range(len(EMOS_global_ws10_scores)):\\n    print(\\n        f\\\"Lead {lead_time}: EMOS_glob: {EMOS_global_ws10_scores[lead_time].mean()}, CRPS: {CRPS_global_ws10_scores[lead_time].mean()}\\\"\\n    )\";\n",
       "                var nbb_cells = Jupyter.notebook.get_cells();\n",
       "                for (var i = 0; i < nbb_cells.length; ++i) {\n",
       "                    if (nbb_cells[i].input_prompt_number == nbb_cell_id) {\n",
       "                        if (nbb_cells[i].get_text() == nbb_unformatted_code) {\n",
       "                             nbb_cells[i].set_text(nbb_formatted_code);\n",
       "                        }\n",
       "                        break;\n",
       "                    }\n",
       "                }\n",
       "            }, 500);\n",
       "            "
      ],
      "text/plain": [
       "<IPython.core.display.Javascript object>"
      ]
     },
     "metadata": {},
     "output_type": "display_data"
    }
   ],
   "source": [
    "print(\"wind speed:\")\n",
    "for lead_time in range(len(EMOS_global_ws10_scores)):\n",
    "    print(\n",
    "        f\"Lead {lead_time}: EMOS_glob: {EMOS_global_ws10_scores[lead_time].mean()}, CRPS: {CRPS_global_ws10_scores[lead_time].mean()}\"\n",
    "    )"
   ]
  },
  {
   "cell_type": "code",
   "execution_count": null,
   "id": "70ae610d",
   "metadata": {},
   "outputs": [],
   "source": []
  }
 ],
 "metadata": {
  "kernelspec": {
   "display_name": "Python 3 (ipykernel)",
   "language": "python",
   "name": "python3"
  },
  "language_info": {
   "codemirror_mode": {
    "name": "ipython",
    "version": 3
   },
   "file_extension": ".py",
   "mimetype": "text/x-python",
   "name": "python",
   "nbconvert_exporter": "python",
   "pygments_lexer": "ipython3",
   "version": "3.9.7"
  }
 },
 "nbformat": 4,
 "nbformat_minor": 5
}
