{
 "cells": [
  {
   "cell_type": "code",
   "execution_count": 3,
   "id": "eaa9ff3a",
   "metadata": {
    "scrolled": true
   },
   "outputs": [
    {
     "name": "stdout",
     "output_type": "stream",
     "text": [
      "The nb_black extension is already loaded. To reload it, use:\n",
      "  %reload_ext nb_black\n"
     ]
    },
    {
     "data": {
      "application/javascript": [
       "\n",
       "            setTimeout(function() {\n",
       "                var nbb_cell_id = 3;\n",
       "                var nbb_unformatted_code = \"%load_ext nb_black\";\n",
       "                var nbb_formatted_code = \"%load_ext nb_black\";\n",
       "                var nbb_cells = Jupyter.notebook.get_cells();\n",
       "                for (var i = 0; i < nbb_cells.length; ++i) {\n",
       "                    if (nbb_cells[i].input_prompt_number == nbb_cell_id) {\n",
       "                        if (nbb_cells[i].get_text() == nbb_unformatted_code) {\n",
       "                             nbb_cells[i].set_text(nbb_formatted_code);\n",
       "                        }\n",
       "                        break;\n",
       "                    }\n",
       "                }\n",
       "            }, 500);\n",
       "            "
      ],
      "text/plain": [
       "<IPython.core.display.Javascript object>"
      ]
     },
     "metadata": {},
     "output_type": "display_data"
    }
   ],
   "source": [
    "%load_ext nb_black"
   ]
  },
  {
   "cell_type": "code",
   "execution_count": 5,
   "id": "367b56f9",
   "metadata": {
    "scrolled": false
   },
   "outputs": [
    {
     "data": {
      "application/javascript": [
       "\n",
       "            setTimeout(function() {\n",
       "                var nbb_cell_id = 5;\n",
       "                var nbb_unformatted_code = \"# Basics\\nimport pandas as pd\\nimport numpy as np\\nimport matplotlib.pyplot as plt\\n\\n# Data\\nimport xarray as xr\\nimport h5py\\n\\n# Helpful\\nimport time\\nimport datetime\\nimport itertools\\nfrom itertools import product\\n\\n# My Methods\\nfrom src.utils.CRPS import *\\nfrom src.utils.data_split import *\\nfrom src.models.EMOS import *\";\n",
       "                var nbb_formatted_code = \"# Basics\\nimport pandas as pd\\nimport numpy as np\\nimport matplotlib.pyplot as plt\\n\\n# Data\\nimport xarray as xr\\nimport h5py\\n\\n# Helpful\\nimport time\\nimport datetime\\nimport itertools\\nfrom itertools import product\\n\\n# My Methods\\nfrom src.utils.CRPS import *\\nfrom src.utils.data_split import *\\nfrom src.models.EMOS import *\";\n",
       "                var nbb_cells = Jupyter.notebook.get_cells();\n",
       "                for (var i = 0; i < nbb_cells.length; ++i) {\n",
       "                    if (nbb_cells[i].input_prompt_number == nbb_cell_id) {\n",
       "                        if (nbb_cells[i].get_text() == nbb_unformatted_code) {\n",
       "                             nbb_cells[i].set_text(nbb_formatted_code);\n",
       "                        }\n",
       "                        break;\n",
       "                    }\n",
       "                }\n",
       "            }, 500);\n",
       "            "
      ],
      "text/plain": [
       "<IPython.core.display.Javascript object>"
      ]
     },
     "metadata": {},
     "output_type": "display_data"
    }
   ],
   "source": [
    "# Basics\n",
    "import pandas as pd\n",
    "import numpy as np\n",
    "import matplotlib.pyplot as plt\n",
    "\n",
    "# Data\n",
    "import xarray as xr\n",
    "import h5py\n",
    "\n",
    "# Helpful\n",
    "import time\n",
    "import datetime\n",
    "import itertools\n",
    "from itertools import product\n",
    "\n",
    "# My Methods\n",
    "from src.utils.CRPS import *\n",
    "from src.utils.data_split import *\n",
    "from src.models.EMOS import *"
   ]
  },
  {
   "cell_type": "code",
   "execution_count": 6,
   "id": "9f469b71",
   "metadata": {},
   "outputs": [
    {
     "ename": "NameError",
     "evalue": "name 'CRPS' is not defined",
     "output_type": "error",
     "traceback": [
      "\u001b[0;31m---------------------------------------------------------------------------\u001b[0m",
      "\u001b[0;31mNameError\u001b[0m                                 Traceback (most recent call last)",
      "\u001b[0;32m/tmp/ipykernel_3530274/1618466448.py\u001b[0m in \u001b[0;36m<module>\u001b[0;34m\u001b[0m\n\u001b[0;32m----> 1\u001b[0;31m \u001b[0mimportlib\u001b[0m\u001b[0;34m.\u001b[0m\u001b[0mreload\u001b[0m\u001b[0;34m(\u001b[0m\u001b[0mCRPS\u001b[0m\u001b[0;34m)\u001b[0m\u001b[0;34m\u001b[0m\u001b[0;34m\u001b[0m\u001b[0m\n\u001b[0m\u001b[1;32m      2\u001b[0m \u001b[0mimportlib\u001b[0m\u001b[0;34m.\u001b[0m\u001b[0mreload\u001b[0m\u001b[0;34m(\u001b[0m\u001b[0mEMOS\u001b[0m\u001b[0;34m)\u001b[0m\u001b[0;34m\u001b[0m\u001b[0;34m\u001b[0m\u001b[0m\n",
      "\u001b[0;31mNameError\u001b[0m: name 'CRPS' is not defined"
     ]
    },
    {
     "data": {
      "application/javascript": [
       "\n",
       "            setTimeout(function() {\n",
       "                var nbb_cell_id = 6;\n",
       "                var nbb_unformatted_code = \"importlib.reload(CRPS)\\nimportlib.reload(EMOS)\";\n",
       "                var nbb_formatted_code = \"importlib.reload(CRPS)\\nimportlib.reload(EMOS)\";\n",
       "                var nbb_cells = Jupyter.notebook.get_cells();\n",
       "                for (var i = 0; i < nbb_cells.length; ++i) {\n",
       "                    if (nbb_cells[i].input_prompt_number == nbb_cell_id) {\n",
       "                        if (nbb_cells[i].get_text() == nbb_unformatted_code) {\n",
       "                             nbb_cells[i].set_text(nbb_formatted_code);\n",
       "                        }\n",
       "                        break;\n",
       "                    }\n",
       "                }\n",
       "            }, 500);\n",
       "            "
      ],
      "text/plain": [
       "<IPython.core.display.Javascript object>"
      ]
     },
     "metadata": {},
     "output_type": "display_data"
    }
   ],
   "source": [
    "importlib.reload(CRPS)\n",
    "importlib.reload(EMOS)"
   ]
  },
  {
   "cell_type": "markdown",
   "id": "0c15b4c6",
   "metadata": {},
   "source": [
    "### Goal of this notebook: Implement EMOS and train it on train dataset"
   ]
  },
  {
   "cell_type": "markdown",
   "id": "30220bda",
   "metadata": {},
   "source": [
    "#### 1. Load dataset"
   ]
  },
  {
   "cell_type": "code",
   "execution_count": 7,
   "id": "88dcbc3e",
   "metadata": {},
   "outputs": [
    {
     "data": {
      "application/javascript": [
       "\n",
       "            setTimeout(function() {\n",
       "                var nbb_cell_id = 7;\n",
       "                var nbb_unformatted_code = \"# Training Dataset\\nt2m_train = xr.open_dataset(\\\"/Data/Delong_BA_Data/Mean_ens_std/t2m_train.h5\\\")\\nt2m_X_train = t2m_train.t2m_train\\nt2m_y_train = t2m_train.t2m_truth\";\n",
       "                var nbb_formatted_code = \"# Training Dataset\\nt2m_train = xr.open_dataset(\\\"/Data/Delong_BA_Data/Mean_ens_std/t2m_train.h5\\\")\\nt2m_X_train = t2m_train.t2m_train\\nt2m_y_train = t2m_train.t2m_truth\";\n",
       "                var nbb_cells = Jupyter.notebook.get_cells();\n",
       "                for (var i = 0; i < nbb_cells.length; ++i) {\n",
       "                    if (nbb_cells[i].input_prompt_number == nbb_cell_id) {\n",
       "                        if (nbb_cells[i].get_text() == nbb_unformatted_code) {\n",
       "                             nbb_cells[i].set_text(nbb_formatted_code);\n",
       "                        }\n",
       "                        break;\n",
       "                    }\n",
       "                }\n",
       "            }, 500);\n",
       "            "
      ],
      "text/plain": [
       "<IPython.core.display.Javascript object>"
      ]
     },
     "metadata": {},
     "output_type": "display_data"
    }
   ],
   "source": [
    "# Training Dataset\n",
    "t2m_train = xr.open_dataset(\"/Data/Delong_BA_Data/Mean_ens_std/t2m_train.h5\")\n",
    "t2m_X_train = t2m_train.t2m_train\n",
    "t2m_y_train = t2m_train.t2m_truth"
   ]
  },
  {
   "cell_type": "code",
   "execution_count": 8,
   "id": "5ed6ad5a",
   "metadata": {},
   "outputs": [
    {
     "data": {
      "application/javascript": [
       "\n",
       "            setTimeout(function() {\n",
       "                var nbb_cell_id = 8;\n",
       "                var nbb_unformatted_code = \"# Test Detaset\\nt2m_test = xr.open_dataset(\\\"/Data/Delong_BA_Data/Mean_ens_std/t2m_test.h5\\\")\\nt2m_X_test = t2m_test.t2m_test\\nt2m_y_test = t2m_test.t2mtest_truth\";\n",
       "                var nbb_formatted_code = \"# Test Detaset\\nt2m_test = xr.open_dataset(\\\"/Data/Delong_BA_Data/Mean_ens_std/t2m_test.h5\\\")\\nt2m_X_test = t2m_test.t2m_test\\nt2m_y_test = t2m_test.t2mtest_truth\";\n",
       "                var nbb_cells = Jupyter.notebook.get_cells();\n",
       "                for (var i = 0; i < nbb_cells.length; ++i) {\n",
       "                    if (nbb_cells[i].input_prompt_number == nbb_cell_id) {\n",
       "                        if (nbb_cells[i].get_text() == nbb_unformatted_code) {\n",
       "                             nbb_cells[i].set_text(nbb_formatted_code);\n",
       "                        }\n",
       "                        break;\n",
       "                    }\n",
       "                }\n",
       "            }, 500);\n",
       "            "
      ],
      "text/plain": [
       "<IPython.core.display.Javascript object>"
      ]
     },
     "metadata": {},
     "output_type": "display_data"
    }
   ],
   "source": [
    "# Test Detaset\n",
    "t2m_test = xr.open_dataset(\"/Data/Delong_BA_Data/Mean_ens_std/t2m_test.h5\")\n",
    "t2m_X_test = t2m_test.t2m_test\n",
    "t2m_y_test = t2m_test.t2mtest_truth"
   ]
  },
  {
   "cell_type": "markdown",
   "id": "9b1af5a5",
   "metadata": {},
   "source": [
    "#### 2. Prepare Data\n",
    "Make datasets for all 32 lead times"
   ]
  },
  {
   "cell_type": "markdown",
   "id": "1a5ef592",
   "metadata": {},
   "source": [
    "##### 2.1 Train Dataset"
   ]
  },
  {
   "cell_type": "code",
   "execution_count": 9,
   "id": "2aa96d58",
   "metadata": {},
   "outputs": [
    {
     "data": {
      "application/javascript": [
       "\n",
       "            setTimeout(function() {\n",
       "                var nbb_cell_id = 9;\n",
       "                var nbb_unformatted_code = \"t2m_X_train_glob_mean = []\\nt2m_X_train_glob_std = []\\nt2m_y_train_glob_truth = []\\nfor i in range(t2m_train.phony_dim_1.shape[0]):\\n    t2m_X_train_glob_mean.append(\\n        t2m_X_train.isel(phony_dim_4=0, phony_dim_1=i).values.flatten()\\n    )\\n    t2m_X_train_glob_std.append(\\n        t2m_X_train.isel(phony_dim_4=1, phony_dim_1=i).values.flatten()\\n    )\\n    t2m_y_train_glob_truth.append(t2m_y_train.isel(phony_dim_1=i).values.flatten())\";\n",
       "                var nbb_formatted_code = \"t2m_X_train_glob_mean = []\\nt2m_X_train_glob_std = []\\nt2m_y_train_glob_truth = []\\nfor i in range(t2m_train.phony_dim_1.shape[0]):\\n    t2m_X_train_glob_mean.append(\\n        t2m_X_train.isel(phony_dim_4=0, phony_dim_1=i).values.flatten()\\n    )\\n    t2m_X_train_glob_std.append(\\n        t2m_X_train.isel(phony_dim_4=1, phony_dim_1=i).values.flatten()\\n    )\\n    t2m_y_train_glob_truth.append(t2m_y_train.isel(phony_dim_1=i).values.flatten())\";\n",
       "                var nbb_cells = Jupyter.notebook.get_cells();\n",
       "                for (var i = 0; i < nbb_cells.length; ++i) {\n",
       "                    if (nbb_cells[i].input_prompt_number == nbb_cell_id) {\n",
       "                        if (nbb_cells[i].get_text() == nbb_unformatted_code) {\n",
       "                             nbb_cells[i].set_text(nbb_formatted_code);\n",
       "                        }\n",
       "                        break;\n",
       "                    }\n",
       "                }\n",
       "            }, 500);\n",
       "            "
      ],
      "text/plain": [
       "<IPython.core.display.Javascript object>"
      ]
     },
     "metadata": {},
     "output_type": "display_data"
    }
   ],
   "source": [
    "t2m_X_train_glob_mean = []\n",
    "t2m_X_train_glob_std = []\n",
    "t2m_y_train_glob_truth = []\n",
    "for i in range(t2m_train.phony_dim_1.shape[0]):\n",
    "    t2m_X_train_glob_mean.append(\n",
    "        t2m_X_train.isel(phony_dim_4=0, phony_dim_1=i).values.flatten()\n",
    "    )\n",
    "    t2m_X_train_glob_std.append(\n",
    "        t2m_X_train.isel(phony_dim_4=1, phony_dim_1=i).values.flatten()\n",
    "    )\n",
    "    t2m_y_train_glob_truth.append(t2m_y_train.isel(phony_dim_1=i).values.flatten())"
   ]
  },
  {
   "cell_type": "code",
   "execution_count": 10,
   "id": "2d1c0fa1",
   "metadata": {},
   "outputs": [
    {
     "data": {
      "application/javascript": [
       "\n",
       "            setTimeout(function() {\n",
       "                var nbb_cell_id = 10;\n",
       "                var nbb_unformatted_code = \"# Only necessary for Baseline, not for EMOS\\n# Change all zeros in std to a small value epsilon\\nepsilon = 1e-9  # Small epsilon to add to zeros in std\\nfor i in range(len(t2m_X_train_glob_std)):\\n    t2m_X_train_glob_std[i][(t2m_X_train_glob_std[i] == 0)] += epsilon\";\n",
       "                var nbb_formatted_code = \"# Only necessary for Baseline, not for EMOS\\n# Change all zeros in std to a small value epsilon\\nepsilon = 1e-9  # Small epsilon to add to zeros in std\\nfor i in range(len(t2m_X_train_glob_std)):\\n    t2m_X_train_glob_std[i][(t2m_X_train_glob_std[i] == 0)] += epsilon\";\n",
       "                var nbb_cells = Jupyter.notebook.get_cells();\n",
       "                for (var i = 0; i < nbb_cells.length; ++i) {\n",
       "                    if (nbb_cells[i].input_prompt_number == nbb_cell_id) {\n",
       "                        if (nbb_cells[i].get_text() == nbb_unformatted_code) {\n",
       "                             nbb_cells[i].set_text(nbb_formatted_code);\n",
       "                        }\n",
       "                        break;\n",
       "                    }\n",
       "                }\n",
       "            }, 500);\n",
       "            "
      ],
      "text/plain": [
       "<IPython.core.display.Javascript object>"
      ]
     },
     "metadata": {},
     "output_type": "display_data"
    }
   ],
   "source": [
    "# Only necessary for Baseline, not for EMOS\n",
    "# Change all zeros in std to a small value epsilon\n",
    "epsilon = 1e-9  # Small epsilon to add to zeros in std\n",
    "for i in range(len(t2m_X_train_glob_std)):\n",
    "    t2m_X_train_glob_std[i][(t2m_X_train_glob_std[i] == 0)] += epsilon"
   ]
  },
  {
   "cell_type": "markdown",
   "id": "45fbeff0",
   "metadata": {},
   "source": [
    "##### 2.2 Test Dataset"
   ]
  },
  {
   "cell_type": "code",
   "execution_count": 11,
   "id": "b2860024",
   "metadata": {},
   "outputs": [
    {
     "data": {
      "application/javascript": [
       "\n",
       "            setTimeout(function() {\n",
       "                var nbb_cell_id = 11;\n",
       "                var nbb_unformatted_code = \"t2m_X_test_glob_mean = []\\nt2m_X_test_glob_std = []\\nt2m_y_test_glob_truth = []\\nfor i in range(t2m_test.phony_dim_1.shape[0]):\\n    t2m_X_test_glob_mean.append(\\n        t2m_X_test.isel(phony_dim_4=0, phony_dim_1=i).values.flatten()\\n    )\\n    t2m_X_test_glob_std.append(\\n        t2m_X_test.isel(phony_dim_4=1, phony_dim_1=i).values.flatten()\\n    )\\n    t2m_y_test_glob_truth.append(t2m_y_test.isel(phony_dim_1=i).values.flatten())\";\n",
       "                var nbb_formatted_code = \"t2m_X_test_glob_mean = []\\nt2m_X_test_glob_std = []\\nt2m_y_test_glob_truth = []\\nfor i in range(t2m_test.phony_dim_1.shape[0]):\\n    t2m_X_test_glob_mean.append(\\n        t2m_X_test.isel(phony_dim_4=0, phony_dim_1=i).values.flatten()\\n    )\\n    t2m_X_test_glob_std.append(\\n        t2m_X_test.isel(phony_dim_4=1, phony_dim_1=i).values.flatten()\\n    )\\n    t2m_y_test_glob_truth.append(t2m_y_test.isel(phony_dim_1=i).values.flatten())\";\n",
       "                var nbb_cells = Jupyter.notebook.get_cells();\n",
       "                for (var i = 0; i < nbb_cells.length; ++i) {\n",
       "                    if (nbb_cells[i].input_prompt_number == nbb_cell_id) {\n",
       "                        if (nbb_cells[i].get_text() == nbb_unformatted_code) {\n",
       "                             nbb_cells[i].set_text(nbb_formatted_code);\n",
       "                        }\n",
       "                        break;\n",
       "                    }\n",
       "                }\n",
       "            }, 500);\n",
       "            "
      ],
      "text/plain": [
       "<IPython.core.display.Javascript object>"
      ]
     },
     "metadata": {},
     "output_type": "display_data"
    }
   ],
   "source": [
    "t2m_X_test_glob_mean = []\n",
    "t2m_X_test_glob_std = []\n",
    "t2m_y_test_glob_truth = []\n",
    "for i in range(t2m_test.phony_dim_1.shape[0]):\n",
    "    t2m_X_test_glob_mean.append(\n",
    "        t2m_X_test.isel(phony_dim_4=0, phony_dim_1=i).values.flatten()\n",
    "    )\n",
    "    t2m_X_test_glob_std.append(\n",
    "        t2m_X_test.isel(phony_dim_4=1, phony_dim_1=i).values.flatten()\n",
    "    )\n",
    "    t2m_y_test_glob_truth.append(t2m_y_test.isel(phony_dim_1=i).values.flatten())"
   ]
  },
  {
   "cell_type": "code",
   "execution_count": 12,
   "id": "b76f6d49",
   "metadata": {},
   "outputs": [
    {
     "data": {
      "application/javascript": [
       "\n",
       "            setTimeout(function() {\n",
       "                var nbb_cell_id = 12;\n",
       "                var nbb_unformatted_code = \"# Only necessary for Baseline, not for EMOS\\n# Change all zeros in std to a small value epsilon\\nepsilon = 1e-9  # Small epsilon to add to zeros in std\\nfor i in range(len(t2m_X_test_glob_std)):\\n    t2m_X_test_glob_std[i][(t2m_X_test_glob_std[i] == 0)] += epsilon\";\n",
       "                var nbb_formatted_code = \"# Only necessary for Baseline, not for EMOS\\n# Change all zeros in std to a small value epsilon\\nepsilon = 1e-9  # Small epsilon to add to zeros in std\\nfor i in range(len(t2m_X_test_glob_std)):\\n    t2m_X_test_glob_std[i][(t2m_X_test_glob_std[i] == 0)] += epsilon\";\n",
       "                var nbb_cells = Jupyter.notebook.get_cells();\n",
       "                for (var i = 0; i < nbb_cells.length; ++i) {\n",
       "                    if (nbb_cells[i].input_prompt_number == nbb_cell_id) {\n",
       "                        if (nbb_cells[i].get_text() == nbb_unformatted_code) {\n",
       "                             nbb_cells[i].set_text(nbb_formatted_code);\n",
       "                        }\n",
       "                        break;\n",
       "                    }\n",
       "                }\n",
       "            }, 500);\n",
       "            "
      ],
      "text/plain": [
       "<IPython.core.display.Javascript object>"
      ]
     },
     "metadata": {},
     "output_type": "display_data"
    }
   ],
   "source": [
    "# Only necessary for Baseline, not for EMOS\n",
    "# Change all zeros in std to a small value epsilon\n",
    "epsilon = 1e-9  # Small epsilon to add to zeros in std\n",
    "for i in range(len(t2m_X_test_glob_std)):\n",
    "    t2m_X_test_glob_std[i][(t2m_X_test_glob_std[i] == 0)] += epsilon"
   ]
  },
  {
   "cell_type": "code",
   "execution_count": 13,
   "id": "679e7763",
   "metadata": {
    "scrolled": true
   },
   "outputs": [
    {
     "data": {
      "application/javascript": [
       "\n",
       "            setTimeout(function() {\n",
       "                var nbb_cell_id = 13;\n",
       "                var nbb_unformatted_code = \"# Decide on which lead_time to test\\nlead_time = 8\";\n",
       "                var nbb_formatted_code = \"# Decide on which lead_time to test\\nlead_time = 8\";\n",
       "                var nbb_cells = Jupyter.notebook.get_cells();\n",
       "                for (var i = 0; i < nbb_cells.length; ++i) {\n",
       "                    if (nbb_cells[i].input_prompt_number == nbb_cell_id) {\n",
       "                        if (nbb_cells[i].get_text() == nbb_unformatted_code) {\n",
       "                             nbb_cells[i].set_text(nbb_formatted_code);\n",
       "                        }\n",
       "                        break;\n",
       "                    }\n",
       "                }\n",
       "            }, 500);\n",
       "            "
      ],
      "text/plain": [
       "<IPython.core.display.Javascript object>"
      ]
     },
     "metadata": {},
     "output_type": "display_data"
    }
   ],
   "source": [
    "# Decide on which lead_time to test\n",
    "lead_time = 8"
   ]
  },
  {
   "cell_type": "markdown",
   "id": "c940baba",
   "metadata": {},
   "source": [
    "#### 3. Baseline"
   ]
  },
  {
   "cell_type": "code",
   "execution_count": 14,
   "id": "df0d5070",
   "metadata": {},
   "outputs": [
    {
     "data": {
      "application/javascript": [
       "\n",
       "            setTimeout(function() {\n",
       "                var nbb_cell_id = 14;\n",
       "                var nbb_unformatted_code = \"crps_baseline = crps_normal(\\n    mu=t2m_X_train_glob_mean[lead_time],\\n    sigma=t2m_X_train_glob_std[lead_time],\\n    y=t2m_y_train_glob_truth[lead_time],\\n)\";\n",
       "                var nbb_formatted_code = \"crps_baseline = crps_normal(\\n    mu=t2m_X_train_glob_mean[lead_time],\\n    sigma=t2m_X_train_glob_std[lead_time],\\n    y=t2m_y_train_glob_truth[lead_time],\\n)\";\n",
       "                var nbb_cells = Jupyter.notebook.get_cells();\n",
       "                for (var i = 0; i < nbb_cells.length; ++i) {\n",
       "                    if (nbb_cells[i].input_prompt_number == nbb_cell_id) {\n",
       "                        if (nbb_cells[i].get_text() == nbb_unformatted_code) {\n",
       "                             nbb_cells[i].set_text(nbb_formatted_code);\n",
       "                        }\n",
       "                        break;\n",
       "                    }\n",
       "                }\n",
       "            }, 500);\n",
       "            "
      ],
      "text/plain": [
       "<IPython.core.display.Javascript object>"
      ]
     },
     "metadata": {},
     "output_type": "display_data"
    }
   ],
   "source": [
    "crps_baseline = crps_normal(\n",
    "    mu=t2m_X_train_glob_mean[lead_time],\n",
    "    sigma=t2m_X_train_glob_std[lead_time],\n",
    "    y=t2m_y_train_glob_truth[lead_time],\n",
    ")"
   ]
  },
  {
   "cell_type": "code",
   "execution_count": 15,
   "id": "19fa3997",
   "metadata": {},
   "outputs": [
    {
     "data": {
      "text/plain": [
       "0.028882670428874848"
      ]
     },
     "execution_count": 15,
     "metadata": {},
     "output_type": "execute_result"
    },
    {
     "data": {
      "application/javascript": [
       "\n",
       "            setTimeout(function() {\n",
       "                var nbb_cell_id = 15;\n",
       "                var nbb_unformatted_code = \"crps_baseline.mean()\";\n",
       "                var nbb_formatted_code = \"crps_baseline.mean()\";\n",
       "                var nbb_cells = Jupyter.notebook.get_cells();\n",
       "                for (var i = 0; i < nbb_cells.length; ++i) {\n",
       "                    if (nbb_cells[i].input_prompt_number == nbb_cell_id) {\n",
       "                        if (nbb_cells[i].get_text() == nbb_unformatted_code) {\n",
       "                             nbb_cells[i].set_text(nbb_formatted_code);\n",
       "                        }\n",
       "                        break;\n",
       "                    }\n",
       "                }\n",
       "            }, 500);\n",
       "            "
      ],
      "text/plain": [
       "<IPython.core.display.Javascript object>"
      ]
     },
     "metadata": {},
     "output_type": "display_data"
    }
   ],
   "source": [
    "crps_baseline.mean()"
   ]
  },
  {
   "cell_type": "markdown",
   "id": "4a389490",
   "metadata": {},
   "source": [
    "#### 4. Train global Emos"
   ]
  },
  {
   "cell_type": "code",
   "execution_count": 17,
   "id": "bf85f604",
   "metadata": {},
   "outputs": [
    {
     "data": {
      "application/javascript": [
       "\n",
       "            setTimeout(function() {\n",
       "                var nbb_cell_id = 17;\n",
       "                var nbb_unformatted_code = \"EMOS_glob = build_EMOS_network_keras(compile=True)\";\n",
       "                var nbb_formatted_code = \"EMOS_glob = build_EMOS_network_keras(compile=True)\";\n",
       "                var nbb_cells = Jupyter.notebook.get_cells();\n",
       "                for (var i = 0; i < nbb_cells.length; ++i) {\n",
       "                    if (nbb_cells[i].input_prompt_number == nbb_cell_id) {\n",
       "                        if (nbb_cells[i].get_text() == nbb_unformatted_code) {\n",
       "                             nbb_cells[i].set_text(nbb_formatted_code);\n",
       "                        }\n",
       "                        break;\n",
       "                    }\n",
       "                }\n",
       "            }, 500);\n",
       "            "
      ],
      "text/plain": [
       "<IPython.core.display.Javascript object>"
      ]
     },
     "metadata": {},
     "output_type": "display_data"
    }
   ],
   "source": [
    "EMOS_glob = build_EMOS_network_keras(compile=True)"
   ]
  },
  {
   "cell_type": "code",
   "execution_count": 18,
   "id": "74c736f5",
   "metadata": {},
   "outputs": [
    {
     "data": {
      "text/plain": [
       "array([-0.0249654 , -0.02140305, -0.02148053, ...,  0.38360298,\n",
       "        0.40706664,  0.4334942 ], dtype=float32)"
      ]
     },
     "execution_count": 18,
     "metadata": {},
     "output_type": "execute_result"
    },
    {
     "data": {
      "application/javascript": [
       "\n",
       "            setTimeout(function() {\n",
       "                var nbb_cell_id = 18;\n",
       "                var nbb_unformatted_code = \"t2m_X_train_glob_mean[lead_time]\";\n",
       "                var nbb_formatted_code = \"t2m_X_train_glob_mean[lead_time]\";\n",
       "                var nbb_cells = Jupyter.notebook.get_cells();\n",
       "                for (var i = 0; i < nbb_cells.length; ++i) {\n",
       "                    if (nbb_cells[i].input_prompt_number == nbb_cell_id) {\n",
       "                        if (nbb_cells[i].get_text() == nbb_unformatted_code) {\n",
       "                             nbb_cells[i].set_text(nbb_formatted_code);\n",
       "                        }\n",
       "                        break;\n",
       "                    }\n",
       "                }\n",
       "            }, 500);\n",
       "            "
      ],
      "text/plain": [
       "<IPython.core.display.Javascript object>"
      ]
     },
     "metadata": {},
     "output_type": "display_data"
    }
   ],
   "source": [
    "t2m_X_train_glob_mean[lead_time]"
   ]
  },
  {
   "cell_type": "code",
   "execution_count": null,
   "id": "06c99f08",
   "metadata": {
    "scrolled": false
   },
   "outputs": [],
   "source": [
    "EMOS_glob.fit(\n",
    "    [t2m_X_train_glob_mean[lead_time], t2m_X_train_glob_std[lead_time]],\n",
    "    t2m_y_train_glob_truth[lead_time],\n",
    "    batch_size=5000,\n",
    "    epochs=5,\n",
    "    validation_split=0.2,\n",
    ")"
   ]
  },
  {
   "cell_type": "code",
   "execution_count": null,
   "id": "df3a4c8c",
   "metadata": {},
   "outputs": [],
   "source": [
    "t2m_31_preds = EMOS_glob.predict(\n",
    "    [t2m_X_test_glob_mean[lead_time], t2m_X_test_glob_std[lead_time]]\n",
    ")"
   ]
  },
  {
   "cell_type": "code",
   "execution_count": null,
   "id": "f5ed7b92",
   "metadata": {},
   "outputs": [],
   "source": [
    "crps_emos = crps_normal(\n",
    "    mu=t2m_31_preds[:, 0], sigma=t2m_31_preds[:, 0], y=t2m_y_test_glob_truth[lead_time]\n",
    ")"
   ]
  },
  {
   "cell_type": "code",
   "execution_count": null,
   "id": "666593aa",
   "metadata": {},
   "outputs": [],
   "source": [
    "crps_emos.mean()"
   ]
  },
  {
   "cell_type": "code",
   "execution_count": null,
   "id": "2a1e205c",
   "metadata": {},
   "outputs": [],
   "source": []
  }
 ],
 "metadata": {
  "kernelspec": {
   "display_name": "Python 3 (ipykernel)",
   "language": "python",
   "name": "python3"
  },
  "language_info": {
   "codemirror_mode": {
    "name": "ipython",
    "version": 3
   },
   "file_extension": ".py",
   "mimetype": "text/x-python",
   "name": "python",
   "nbconvert_exporter": "python",
   "pygments_lexer": "ipython3",
   "version": "3.9.7"
  }
 },
 "nbformat": 4,
 "nbformat_minor": 5
}
