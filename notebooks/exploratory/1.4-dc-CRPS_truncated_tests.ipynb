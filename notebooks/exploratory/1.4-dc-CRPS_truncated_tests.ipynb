{
 "cells": [
  {
   "cell_type": "code",
   "execution_count": 2,
   "id": "8bd88618",
   "metadata": {},
   "outputs": [
    {
     "data": {
      "application/javascript": [
       "\n",
       "            setTimeout(function() {\n",
       "                var nbb_cell_id = 2;\n",
       "                var nbb_unformatted_code = \"%load_ext nb_black\";\n",
       "                var nbb_formatted_code = \"%load_ext nb_black\";\n",
       "                var nbb_cells = Jupyter.notebook.get_cells();\n",
       "                for (var i = 0; i < nbb_cells.length; ++i) {\n",
       "                    if (nbb_cells[i].input_prompt_number == nbb_cell_id) {\n",
       "                        if (nbb_cells[i].get_text() == nbb_unformatted_code) {\n",
       "                             nbb_cells[i].set_text(nbb_formatted_code);\n",
       "                        }\n",
       "                        break;\n",
       "                    }\n",
       "                }\n",
       "            }, 500);\n",
       "            "
      ],
      "text/plain": [
       "<IPython.core.display.Javascript object>"
      ]
     },
     "metadata": {},
     "output_type": "display_data"
    }
   ],
   "source": [
    "%load_ext nb_black"
   ]
  },
  {
   "cell_type": "code",
   "execution_count": 3,
   "id": "d17c8c41",
   "metadata": {},
   "outputs": [
    {
     "name": "stderr",
     "output_type": "stream",
     "text": [
      "2023-05-22 15:01:25.848776: W tensorflow/stream_executor/platform/default/dso_loader.cc:64] Could not load dynamic library 'libcudart.so.11.0'; dlerror: libcudart.so.11.0: cannot open shared object file: No such file or directory; LD_LIBRARY_PATH: :/opt/anaconda3/lib/\n",
      "2023-05-22 15:01:25.848823: I tensorflow/stream_executor/cuda/cudart_stub.cc:29] Ignore above cudart dlerror if you do not have a GPU set up on your machine.\n"
     ]
    },
    {
     "data": {
      "application/javascript": [
       "\n",
       "            setTimeout(function() {\n",
       "                var nbb_cell_id = 3;\n",
       "                var nbb_unformatted_code = \"# Basics\\nimport pandas as pd\\nimport numpy as np\\nimport matplotlib.pyplot as plt\\nimport keras.backend as K\\nimport tensorflow as tf\\n\\n# Data\\nimport xarray as xr\\nimport h5py\\nimport pickle\\n\\n# Helpful\\nimport time\\nimport datetime\\nimport itertools\\nfrom itertools import product\\nfrom tqdm import tqdm\\nimport os\\n\\n# My Methods\\nimport importlib\\nfrom src.utils.CRPS import *\\nfrom src.utils.data_split import *\\nfrom src.models.EMOS import *\\nimport data.raw.load_data_raw as ldr\\nimport data.processed.load_data_processed as ldp\\nfrom src.models.EMOS_global.EMOS_global_load_models import *\";\n",
       "                var nbb_formatted_code = \"# Basics\\nimport pandas as pd\\nimport numpy as np\\nimport matplotlib.pyplot as plt\\nimport keras.backend as K\\nimport tensorflow as tf\\n\\n# Data\\nimport xarray as xr\\nimport h5py\\nimport pickle\\n\\n# Helpful\\nimport time\\nimport datetime\\nimport itertools\\nfrom itertools import product\\nfrom tqdm import tqdm\\nimport os\\n\\n# My Methods\\nimport importlib\\nfrom src.utils.CRPS import *\\nfrom src.utils.data_split import *\\nfrom src.models.EMOS import *\\nimport data.raw.load_data_raw as ldr\\nimport data.processed.load_data_processed as ldp\\nfrom src.models.EMOS_global.EMOS_global_load_models import *\";\n",
       "                var nbb_cells = Jupyter.notebook.get_cells();\n",
       "                for (var i = 0; i < nbb_cells.length; ++i) {\n",
       "                    if (nbb_cells[i].input_prompt_number == nbb_cell_id) {\n",
       "                        if (nbb_cells[i].get_text() == nbb_unformatted_code) {\n",
       "                             nbb_cells[i].set_text(nbb_formatted_code);\n",
       "                        }\n",
       "                        break;\n",
       "                    }\n",
       "                }\n",
       "            }, 500);\n",
       "            "
      ],
      "text/plain": [
       "<IPython.core.display.Javascript object>"
      ]
     },
     "metadata": {},
     "output_type": "display_data"
    }
   ],
   "source": [
    "# Basics\n",
    "import pandas as pd\n",
    "import numpy as np\n",
    "import matplotlib.pyplot as plt\n",
    "import keras.backend as K\n",
    "import tensorflow as tf\n",
    "\n",
    "# Data\n",
    "import xarray as xr\n",
    "import h5py\n",
    "import pickle\n",
    "\n",
    "# Helpful\n",
    "import time\n",
    "import datetime\n",
    "import itertools\n",
    "from itertools import product\n",
    "from tqdm import tqdm\n",
    "import os\n",
    "\n",
    "# My Methods\n",
    "import importlib\n",
    "from src.utils.CRPS import *\n",
    "from src.utils.data_split import *\n",
    "from src.models.EMOS import *\n",
    "import data.raw.load_data_raw as ldr\n",
    "import data.processed.load_data_processed as ldp\n",
    "from src.models.EMOS_global.EMOS_global_load_models import *"
   ]
  },
  {
   "cell_type": "markdown",
   "id": "9df007cc",
   "metadata": {},
   "source": [
    "#### 0. Basics"
   ]
  },
  {
   "cell_type": "code",
   "execution_count": 4,
   "id": "00733ae4",
   "metadata": {},
   "outputs": [
    {
     "data": {
      "application/javascript": [
       "\n",
       "            setTimeout(function() {\n",
       "                var nbb_cell_id = 4;\n",
       "                var nbb_unformatted_code = \"var_names = [\\\"u10\\\", \\\"v10\\\", \\\"t2m\\\", \\\"t850\\\", \\\"z500\\\"]\";\n",
       "                var nbb_formatted_code = \"var_names = [\\\"u10\\\", \\\"v10\\\", \\\"t2m\\\", \\\"t850\\\", \\\"z500\\\"]\";\n",
       "                var nbb_cells = Jupyter.notebook.get_cells();\n",
       "                for (var i = 0; i < nbb_cells.length; ++i) {\n",
       "                    if (nbb_cells[i].input_prompt_number == nbb_cell_id) {\n",
       "                        if (nbb_cells[i].get_text() == nbb_unformatted_code) {\n",
       "                             nbb_cells[i].set_text(nbb_formatted_code);\n",
       "                        }\n",
       "                        break;\n",
       "                    }\n",
       "                }\n",
       "            }, 500);\n",
       "            "
      ],
      "text/plain": [
       "<IPython.core.display.Javascript object>"
      ]
     },
     "metadata": {},
     "output_type": "display_data"
    }
   ],
   "source": [
    "var_names = [\"u10\", \"v10\", \"t2m\", \"t850\", \"z500\"]"
   ]
  },
  {
   "cell_type": "code",
   "execution_count": 5,
   "id": "fc4e14ea",
   "metadata": {},
   "outputs": [
    {
     "data": {
      "application/javascript": [
       "\n",
       "            setTimeout(function() {\n",
       "                var nbb_cell_id = 5;\n",
       "                var nbb_unformatted_code = \"# Variables to make testing easier --> determines variable and lead_time\\nvar = 0  # 0,...,4\\nlead_time = 0  # 0,...,30\";\n",
       "                var nbb_formatted_code = \"# Variables to make testing easier --> determines variable and lead_time\\nvar = 0  # 0,...,4\\nlead_time = 0  # 0,...,30\";\n",
       "                var nbb_cells = Jupyter.notebook.get_cells();\n",
       "                for (var i = 0; i < nbb_cells.length; ++i) {\n",
       "                    if (nbb_cells[i].input_prompt_number == nbb_cell_id) {\n",
       "                        if (nbb_cells[i].get_text() == nbb_unformatted_code) {\n",
       "                             nbb_cells[i].set_text(nbb_formatted_code);\n",
       "                        }\n",
       "                        break;\n",
       "                    }\n",
       "                }\n",
       "            }, 500);\n",
       "            "
      ],
      "text/plain": [
       "<IPython.core.display.Javascript object>"
      ]
     },
     "metadata": {},
     "output_type": "display_data"
    }
   ],
   "source": [
    "# Variables to make testing easier --> determines variable and lead_time\n",
    "var = 0  # 0,...,4\n",
    "lead_time = 0  # 0,...,30"
   ]
  },
  {
   "cell_type": "markdown",
   "id": "14176ef0",
   "metadata": {},
   "source": [
    "#### 1. Load Dataset"
   ]
  },
  {
   "cell_type": "code",
   "execution_count": 6,
   "id": "fe3bee04",
   "metadata": {},
   "outputs": [
    {
     "data": {
      "application/javascript": [
       "\n",
       "            setTimeout(function() {\n",
       "                var nbb_cell_id = 6;\n",
       "                var nbb_unformatted_code = \"dat_train_proc = ldp.load_data_all_train_proc_norm()\\ndat_test_proc = ldp.load_data_all_test_proc_norm()\";\n",
       "                var nbb_formatted_code = \"dat_train_proc = ldp.load_data_all_train_proc_norm()\\ndat_test_proc = ldp.load_data_all_test_proc_norm()\";\n",
       "                var nbb_cells = Jupyter.notebook.get_cells();\n",
       "                for (var i = 0; i < nbb_cells.length; ++i) {\n",
       "                    if (nbb_cells[i].input_prompt_number == nbb_cell_id) {\n",
       "                        if (nbb_cells[i].get_text() == nbb_unformatted_code) {\n",
       "                             nbb_cells[i].set_text(nbb_formatted_code);\n",
       "                        }\n",
       "                        break;\n",
       "                    }\n",
       "                }\n",
       "            }, 500);\n",
       "            "
      ],
      "text/plain": [
       "<IPython.core.display.Javascript object>"
      ]
     },
     "metadata": {},
     "output_type": "display_data"
    }
   ],
   "source": [
    "dat_train_proc = ldp.load_data_all_train_proc_norm()\n",
    "dat_test_proc = ldp.load_data_all_test_proc_norm()"
   ]
  },
  {
   "cell_type": "markdown",
   "id": "8085fe14",
   "metadata": {},
   "source": [
    "#### 2. Data Split"
   ]
  },
  {
   "cell_type": "code",
   "execution_count": 7,
   "id": "3c661cf1",
   "metadata": {},
   "outputs": [
    {
     "data": {
      "application/javascript": [
       "\n",
       "            setTimeout(function() {\n",
       "                var nbb_cell_id = 7;\n",
       "                var nbb_unformatted_code = \"X_train_var_lead_all, y_train_var_lead_all = split_var_lead(dat_train_proc)\\nX_test_lead_all, y_test_var_lead_all = split_var_lead(dat_test_proc)\";\n",
       "                var nbb_formatted_code = \"X_train_var_lead_all, y_train_var_lead_all = split_var_lead(dat_train_proc)\\nX_test_lead_all, y_test_var_lead_all = split_var_lead(dat_test_proc)\";\n",
       "                var nbb_cells = Jupyter.notebook.get_cells();\n",
       "                for (var i = 0; i < nbb_cells.length; ++i) {\n",
       "                    if (nbb_cells[i].input_prompt_number == nbb_cell_id) {\n",
       "                        if (nbb_cells[i].get_text() == nbb_unformatted_code) {\n",
       "                             nbb_cells[i].set_text(nbb_formatted_code);\n",
       "                        }\n",
       "                        break;\n",
       "                    }\n",
       "                }\n",
       "            }, 500);\n",
       "            "
      ],
      "text/plain": [
       "<IPython.core.display.Javascript object>"
      ]
     },
     "metadata": {},
     "output_type": "display_data"
    }
   ],
   "source": [
    "X_train_var_lead_all, y_train_var_lead_all = split_var_lead(dat_train_proc)\n",
    "X_test_lead_all, y_test_var_lead_all = split_var_lead(dat_test_proc)"
   ]
  },
  {
   "cell_type": "markdown",
   "id": "dad626ff",
   "metadata": {},
   "source": [
    "#### 3. Calculate CRPS Baseline"
   ]
  },
  {
   "cell_type": "code",
   "execution_count": 8,
   "id": "e9ac7d69",
   "metadata": {},
   "outputs": [
    {
     "data": {
      "application/javascript": [
       "\n",
       "            setTimeout(function() {\n",
       "                var nbb_cell_id = 8;\n",
       "                var nbb_unformatted_code = \"mu = X_test_lead_all[var][lead_time].isel(mean_std=0).values\\nsigma = X_test_lead_all[var][lead_time].isel(mean_std=1).values\\ny = y_test_var_lead_all[var][lead_time].values\";\n",
       "                var nbb_formatted_code = \"mu = X_test_lead_all[var][lead_time].isel(mean_std=0).values\\nsigma = X_test_lead_all[var][lead_time].isel(mean_std=1).values\\ny = y_test_var_lead_all[var][lead_time].values\";\n",
       "                var nbb_cells = Jupyter.notebook.get_cells();\n",
       "                for (var i = 0; i < nbb_cells.length; ++i) {\n",
       "                    if (nbb_cells[i].input_prompt_number == nbb_cell_id) {\n",
       "                        if (nbb_cells[i].get_text() == nbb_unformatted_code) {\n",
       "                             nbb_cells[i].set_text(nbb_formatted_code);\n",
       "                        }\n",
       "                        break;\n",
       "                    }\n",
       "                }\n",
       "            }, 500);\n",
       "            "
      ],
      "text/plain": [
       "<IPython.core.display.Javascript object>"
      ]
     },
     "metadata": {},
     "output_type": "display_data"
    }
   ],
   "source": [
    "mu = X_test_lead_all[var][lead_time].isel(mean_std=0).values\n",
    "sigma = X_test_lead_all[var][lead_time].isel(mean_std=1).values\n",
    "y = y_test_var_lead_all[var][lead_time].values"
   ]
  },
  {
   "cell_type": "code",
   "execution_count": 9,
   "id": "bfb94a64",
   "metadata": {},
   "outputs": [
    {
     "data": {
      "application/javascript": [
       "\n",
       "            setTimeout(function() {\n",
       "                var nbb_cell_id = 9;\n",
       "                var nbb_unformatted_code = \"combined_array = np.stack((mu, sigma), axis=1)\";\n",
       "                var nbb_formatted_code = \"combined_array = np.stack((mu, sigma), axis=1)\";\n",
       "                var nbb_cells = Jupyter.notebook.get_cells();\n",
       "                for (var i = 0; i < nbb_cells.length; ++i) {\n",
       "                    if (nbb_cells[i].input_prompt_number == nbb_cell_id) {\n",
       "                        if (nbb_cells[i].get_text() == nbb_unformatted_code) {\n",
       "                             nbb_cells[i].set_text(nbb_formatted_code);\n",
       "                        }\n",
       "                        break;\n",
       "                    }\n",
       "                }\n",
       "            }, 500);\n",
       "            "
      ],
      "text/plain": [
       "<IPython.core.display.Javascript object>"
      ]
     },
     "metadata": {},
     "output_type": "display_data"
    }
   ],
   "source": [
    "combined_array = np.stack((mu, sigma), axis=1)"
   ]
  },
  {
   "cell_type": "code",
   "execution_count": 16,
   "id": "83060ab0",
   "metadata": {},
   "outputs": [
    {
     "data": {
      "application/javascript": [
       "\n",
       "            setTimeout(function() {\n",
       "                var nbb_cell_id = 16;\n",
       "                var nbb_unformatted_code = \"crps_tensor = crps_cost_function_trunc(y, combined_array, theano=True)\";\n",
       "                var nbb_formatted_code = \"crps_tensor = crps_cost_function_trunc(y, combined_array, theano=True)\";\n",
       "                var nbb_cells = Jupyter.notebook.get_cells();\n",
       "                for (var i = 0; i < nbb_cells.length; ++i) {\n",
       "                    if (nbb_cells[i].input_prompt_number == nbb_cell_id) {\n",
       "                        if (nbb_cells[i].get_text() == nbb_unformatted_code) {\n",
       "                             nbb_cells[i].set_text(nbb_formatted_code);\n",
       "                        }\n",
       "                        break;\n",
       "                    }\n",
       "                }\n",
       "            }, 500);\n",
       "            "
      ],
      "text/plain": [
       "<IPython.core.display.Javascript object>"
      ]
     },
     "metadata": {},
     "output_type": "display_data"
    }
   ],
   "source": [
    "crps_tensor = crps_cost_function_trunc(y, combined_array, theano=True)"
   ]
  },
  {
   "cell_type": "code",
   "execution_count": 13,
   "id": "a5129371",
   "metadata": {},
   "outputs": [
    {
     "data": {
      "application/javascript": [
       "\n",
       "            setTimeout(function() {\n",
       "                var nbb_cell_id = 13;\n",
       "                var nbb_unformatted_code = \"crps_trunc_numpy = crps_trunc(mu=mu, sigma=sigma, y=y)\";\n",
       "                var nbb_formatted_code = \"crps_trunc_numpy = crps_trunc(mu=mu, sigma=sigma, y=y)\";\n",
       "                var nbb_cells = Jupyter.notebook.get_cells();\n",
       "                for (var i = 0; i < nbb_cells.length; ++i) {\n",
       "                    if (nbb_cells[i].input_prompt_number == nbb_cell_id) {\n",
       "                        if (nbb_cells[i].get_text() == nbb_unformatted_code) {\n",
       "                             nbb_cells[i].set_text(nbb_formatted_code);\n",
       "                        }\n",
       "                        break;\n",
       "                    }\n",
       "                }\n",
       "            }, 500);\n",
       "            "
      ],
      "text/plain": [
       "<IPython.core.display.Javascript object>"
      ]
     },
     "metadata": {},
     "output_type": "display_data"
    }
   ],
   "source": [
    "crps_trunc_numpy = crps_trunc(mu=mu, sigma=sigma, y=y)"
   ]
  },
  {
   "cell_type": "code",
   "execution_count": 14,
   "id": "1e313f85",
   "metadata": {},
   "outputs": [
    {
     "data": {
      "text/plain": [
       "0.50713784"
      ]
     },
     "execution_count": 14,
     "metadata": {},
     "output_type": "execute_result"
    },
    {
     "data": {
      "application/javascript": [
       "\n",
       "            setTimeout(function() {\n",
       "                var nbb_cell_id = 14;\n",
       "                var nbb_unformatted_code = \"crps_trunc_numpy.mean()\";\n",
       "                var nbb_formatted_code = \"crps_trunc_numpy.mean()\";\n",
       "                var nbb_cells = Jupyter.notebook.get_cells();\n",
       "                for (var i = 0; i < nbb_cells.length; ++i) {\n",
       "                    if (nbb_cells[i].input_prompt_number == nbb_cell_id) {\n",
       "                        if (nbb_cells[i].get_text() == nbb_unformatted_code) {\n",
       "                             nbb_cells[i].set_text(nbb_formatted_code);\n",
       "                        }\n",
       "                        break;\n",
       "                    }\n",
       "                }\n",
       "            }, 500);\n",
       "            "
      ],
      "text/plain": [
       "<IPython.core.display.Javascript object>"
      ]
     },
     "metadata": {},
     "output_type": "display_data"
    }
   ],
   "source": [
    "crps_trunc_numpy.mean()"
   ]
  },
  {
   "cell_type": "code",
   "execution_count": 15,
   "id": "ad03f4a3",
   "metadata": {},
   "outputs": [
    {
     "data": {
      "text/plain": [
       "<tf.Tensor: shape=(), dtype=float32, numpy=0.50713766>"
      ]
     },
     "execution_count": 15,
     "metadata": {},
     "output_type": "execute_result"
    },
    {
     "data": {
      "application/javascript": [
       "\n",
       "            setTimeout(function() {\n",
       "                var nbb_cell_id = 15;\n",
       "                var nbb_unformatted_code = \"crps_tensor\";\n",
       "                var nbb_formatted_code = \"crps_tensor\";\n",
       "                var nbb_cells = Jupyter.notebook.get_cells();\n",
       "                for (var i = 0; i < nbb_cells.length; ++i) {\n",
       "                    if (nbb_cells[i].input_prompt_number == nbb_cell_id) {\n",
       "                        if (nbb_cells[i].get_text() == nbb_unformatted_code) {\n",
       "                             nbb_cells[i].set_text(nbb_formatted_code);\n",
       "                        }\n",
       "                        break;\n",
       "                    }\n",
       "                }\n",
       "            }, 500);\n",
       "            "
      ],
      "text/plain": [
       "<IPython.core.display.Javascript object>"
      ]
     },
     "metadata": {},
     "output_type": "display_data"
    }
   ],
   "source": [
    "crps_tensor"
   ]
  },
  {
   "cell_type": "markdown",
   "id": "238c556d",
   "metadata": {},
   "source": [
    "#### 4. Load CRPS Baseline Scores"
   ]
  },
  {
   "cell_type": "code",
   "execution_count": 17,
   "id": "beb17f68",
   "metadata": {},
   "outputs": [
    {
     "data": {
      "application/javascript": [
       "\n",
       "            setTimeout(function() {\n",
       "                var nbb_cell_id = 17;\n",
       "                var nbb_unformatted_code = \"# Load all scores:\\nwith open(\\n    \\\"/Data/Delong_BA_Data/scores/crps_benchmark_scores/crps_var_lead_test.pkl\\\", \\\"rb\\\"\\n) as f:\\n    crps_var_lead_test_scores = pickle.load(f)\";\n",
       "                var nbb_formatted_code = \"# Load all scores:\\nwith open(\\n    \\\"/Data/Delong_BA_Data/scores/crps_benchmark_scores/crps_var_lead_test.pkl\\\", \\\"rb\\\"\\n) as f:\\n    crps_var_lead_test_scores = pickle.load(f)\";\n",
       "                var nbb_cells = Jupyter.notebook.get_cells();\n",
       "                for (var i = 0; i < nbb_cells.length; ++i) {\n",
       "                    if (nbb_cells[i].input_prompt_number == nbb_cell_id) {\n",
       "                        if (nbb_cells[i].get_text() == nbb_unformatted_code) {\n",
       "                             nbb_cells[i].set_text(nbb_formatted_code);\n",
       "                        }\n",
       "                        break;\n",
       "                    }\n",
       "                }\n",
       "            }, 500);\n",
       "            "
      ],
      "text/plain": [
       "<IPython.core.display.Javascript object>"
      ]
     },
     "metadata": {},
     "output_type": "display_data"
    }
   ],
   "source": [
    "# Load all scores:\n",
    "with open(\n",
    "    \"/Data/Delong_BA_Data/scores/crps_benchmark_scores/crps_var_lead_test.pkl\", \"rb\"\n",
    ") as f:\n",
    "    crps_var_lead_test_scores = pickle.load(f)"
   ]
  },
  {
   "cell_type": "code",
   "execution_count": 18,
   "id": "dc3764f5",
   "metadata": {},
   "outputs": [
    {
     "data": {
      "application/javascript": [
       "\n",
       "            setTimeout(function() {\n",
       "                var nbb_cell_id = 18;\n",
       "                var nbb_unformatted_code = \"# Load mean scores:\\nwith open(\\n    \\\"/Data/Delong_BA_Data/scores/crps_benchmark_scores/crps_var_lead_mean_test.pkl\\\",\\n    \\\"rb\\\",\\n) as f:\\n    crps_var_lead_mean_test_scores = pickle.load(f)\";\n",
       "                var nbb_formatted_code = \"# Load mean scores:\\nwith open(\\n    \\\"/Data/Delong_BA_Data/scores/crps_benchmark_scores/crps_var_lead_mean_test.pkl\\\",\\n    \\\"rb\\\",\\n) as f:\\n    crps_var_lead_mean_test_scores = pickle.load(f)\";\n",
       "                var nbb_cells = Jupyter.notebook.get_cells();\n",
       "                for (var i = 0; i < nbb_cells.length; ++i) {\n",
       "                    if (nbb_cells[i].input_prompt_number == nbb_cell_id) {\n",
       "                        if (nbb_cells[i].get_text() == nbb_unformatted_code) {\n",
       "                             nbb_cells[i].set_text(nbb_formatted_code);\n",
       "                        }\n",
       "                        break;\n",
       "                    }\n",
       "                }\n",
       "            }, 500);\n",
       "            "
      ],
      "text/plain": [
       "<IPython.core.display.Javascript object>"
      ]
     },
     "metadata": {},
     "output_type": "display_data"
    }
   ],
   "source": [
    "# Load mean scores:\n",
    "with open(\n",
    "    \"/Data/Delong_BA_Data/scores/crps_benchmark_scores/crps_var_lead_mean_test.pkl\",\n",
    "    \"rb\",\n",
    ") as f:\n",
    "    crps_var_lead_mean_test_scores = pickle.load(f)"
   ]
  },
  {
   "cell_type": "code",
   "execution_count": null,
   "id": "bed20199",
   "metadata": {},
   "outputs": [],
   "source": []
  },
  {
   "cell_type": "code",
   "execution_count": null,
   "id": "12287920",
   "metadata": {},
   "outputs": [],
   "source": []
  }
 ],
 "metadata": {
  "kernelspec": {
   "display_name": "Python 3 (ipykernel)",
   "language": "python",
   "name": "python3"
  },
  "language_info": {
   "codemirror_mode": {
    "name": "ipython",
    "version": 3
   },
   "file_extension": ".py",
   "mimetype": "text/x-python",
   "name": "python",
   "nbconvert_exporter": "python",
   "pygments_lexer": "ipython3",
   "version": "3.9.7"
  }
 },
 "nbformat": 4,
 "nbformat_minor": 5
}
