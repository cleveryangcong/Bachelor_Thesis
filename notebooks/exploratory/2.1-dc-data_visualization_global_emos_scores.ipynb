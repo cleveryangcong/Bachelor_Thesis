{
 "cells": [
  {
   "cell_type": "code",
   "execution_count": 2,
   "id": "084352ee",
   "metadata": {},
   "outputs": [
    {
     "name": "stdout",
     "output_type": "stream",
     "text": [
      "The nb_black extension is already loaded. To reload it, use:\n",
      "  %reload_ext nb_black\n"
     ]
    },
    {
     "data": {
      "application/javascript": [
       "\n",
       "            setTimeout(function() {\n",
       "                var nbb_cell_id = 2;\n",
       "                var nbb_unformatted_code = \"%load_ext nb_black\";\n",
       "                var nbb_formatted_code = \"%load_ext nb_black\";\n",
       "                var nbb_cells = Jupyter.notebook.get_cells();\n",
       "                for (var i = 0; i < nbb_cells.length; ++i) {\n",
       "                    if (nbb_cells[i].input_prompt_number == nbb_cell_id) {\n",
       "                        if (nbb_cells[i].get_text() == nbb_unformatted_code) {\n",
       "                             nbb_cells[i].set_text(nbb_formatted_code);\n",
       "                        }\n",
       "                        break;\n",
       "                    }\n",
       "                }\n",
       "            }, 500);\n",
       "            "
      ],
      "text/plain": [
       "<IPython.core.display.Javascript object>"
      ]
     },
     "metadata": {},
     "output_type": "display_data"
    }
   ],
   "source": [
    "%load_ext nb_black"
   ]
  },
  {
   "cell_type": "code",
   "execution_count": 4,
   "id": "67b9f340",
   "metadata": {},
   "outputs": [
    {
     "data": {
      "application/javascript": [
       "\n",
       "            setTimeout(function() {\n",
       "                var nbb_cell_id = 4;\n",
       "                var nbb_unformatted_code = \"# Helpful\\nimport tqdm\\n\\n# Visualization\\nimport matplotlib.pyplot as plt\\n\\n# My Methods\\nfrom src.utils.CRPS import *\\nfrom src.utils.data_split import *\\nfrom src.models.EMOS import *\\nfrom src.models.EMOS_global.EMOS_global_load_score import *\\nfrom src.models.EMOS_global.EMOS_global_load_model import *\\nimport data.raw.load_data_raw as ldr\\nimport data.processed.load_data_processed as ldp\\nimport data.processed.load_data_processed_denormed as ldpd\\nfrom src.models.CRPS_baseline.CRPS_load import *\";\n",
       "                var nbb_formatted_code = \"# Helpful\\nimport tqdm\\n\\n# Visualization\\nimport matplotlib.pyplot as plt\\n\\n# My Methods\\nfrom src.utils.CRPS import *\\nfrom src.utils.data_split import *\\nfrom src.models.EMOS import *\\nfrom src.models.EMOS_global.EMOS_global_load_score import *\\nfrom src.models.EMOS_global.EMOS_global_load_model import *\\nimport data.raw.load_data_raw as ldr\\nimport data.processed.load_data_processed as ldp\\nimport data.processed.load_data_processed_denormed as ldpd\\nfrom src.models.CRPS_baseline.CRPS_load import *\";\n",
       "                var nbb_cells = Jupyter.notebook.get_cells();\n",
       "                for (var i = 0; i < nbb_cells.length; ++i) {\n",
       "                    if (nbb_cells[i].input_prompt_number == nbb_cell_id) {\n",
       "                        if (nbb_cells[i].get_text() == nbb_unformatted_code) {\n",
       "                             nbb_cells[i].set_text(nbb_formatted_code);\n",
       "                        }\n",
       "                        break;\n",
       "                    }\n",
       "                }\n",
       "            }, 500);\n",
       "            "
      ],
      "text/plain": [
       "<IPython.core.display.Javascript object>"
      ]
     },
     "metadata": {},
     "output_type": "display_data"
    }
   ],
   "source": [
    "# Helpful\n",
    "import tqdm\n",
    "\n",
    "# Visualization\n",
    "import matplotlib.pyplot as plt\n",
    "\n",
    "# My Methods\n",
    "from src.utils.CRPS import *\n",
    "from src.utils.data_split import *\n",
    "from src.models.EMOS import *\n",
    "from src.models.EMOS_global.EMOS_global_load_score import *\n",
    "from src.models.EMOS_global.EMOS_global_load_model import *\n",
    "import data.raw.load_data_raw as ldr\n",
    "import data.processed.load_data_processed as ldp\n",
    "import data.processed.load_data_processed_denormed as ldpd\n",
    "from src.models.CRPS_baseline.CRPS_load import *"
   ]
  },
  {
   "cell_type": "markdown",
   "id": "fe96a5a5",
   "metadata": {},
   "source": [
    "### 1. Load scores"
   ]
  },
  {
   "cell_type": "code",
   "execution_count": 9,
   "id": "b1115584",
   "metadata": {},
   "outputs": [
    {
     "data": {
      "application/javascript": [
       "\n",
       "            setTimeout(function() {\n",
       "                var nbb_cell_id = 9;\n",
       "                var nbb_unformatted_code = \"EMOS_glob_scores_t2m = EMOS_global_load_score(\\\"t2m\\\")\\nEMOS_glob_scores_ws10 = EMOS_global_load_score(\\\"ws10\\\")\";\n",
       "                var nbb_formatted_code = \"EMOS_glob_scores_t2m = EMOS_global_load_score(\\\"t2m\\\")\\nEMOS_glob_scores_ws10 = EMOS_global_load_score(\\\"ws10\\\")\";\n",
       "                var nbb_cells = Jupyter.notebook.get_cells();\n",
       "                for (var i = 0; i < nbb_cells.length; ++i) {\n",
       "                    if (nbb_cells[i].input_prompt_number == nbb_cell_id) {\n",
       "                        if (nbb_cells[i].get_text() == nbb_unformatted_code) {\n",
       "                             nbb_cells[i].set_text(nbb_formatted_code);\n",
       "                        }\n",
       "                        break;\n",
       "                    }\n",
       "                }\n",
       "            }, 500);\n",
       "            "
      ],
      "text/plain": [
       "<IPython.core.display.Javascript object>"
      ]
     },
     "metadata": {},
     "output_type": "display_data"
    }
   ],
   "source": [
    "EMOS_glob_scores_t2m = EMOS_global_load_score(\"t2m\")\n",
    "EMOS_glob_scores_ws10 = EMOS_global_load_score(\"ws10\")"
   ]
  },
  {
   "cell_type": "markdown",
   "id": "58d11c20",
   "metadata": {},
   "source": [
    "###  2. EMOS global scores worse with lead_time?"
   ]
  },
  {
   "cell_type": "markdown",
   "id": "c14c6d08",
   "metadata": {},
   "source": [
    "#### 2.1 t2m - visualization"
   ]
  },
  {
   "cell_type": "code",
   "execution_count": 40,
   "id": "45592303",
   "metadata": {},
   "outputs": [
    {
     "data": {
      "application/javascript": [
       "\n",
       "            setTimeout(function() {\n",
       "                var nbb_cell_id = 40;\n",
       "                var nbb_unformatted_code = \"def lead_time_score(score, title):\\n    scores = []\\n    for i in range(len(score)):\\n        scores.append(score[i].mean())\\n    fig, ax = plt.subplots()\\n    ax.scatter(range(31), scores)\\n    ax.set_title(title)\\n    ax.set_xlabel(\\\"lead_time\\\")\\n    ax.set_ylabel(\\\"mean_score\\\")\\n    plt.show()\\n    return scores\\n\\n\\ndef lead_time_score_chunks(ax, score_means, title):\\n    chunks = [score_means[i : i + 5] for i in range(0, 25, 5)] + [score_means[-6:]]\\n    score_means_5 = [np.mean(chunk) for chunk in chunks]\\n\\n    # Plot horizontal lines\\n    for i, mean in enumerate(score_means_5):\\n        if i != len(score_means_5) - 1:\\n            ax.hlines(mean, i * 5, i * 5 + 5, colors=\\\"b\\\")\\n        else:  # the last line should span 6 points\\n            ax.hlines(mean, i * 5, i * 5 + 6, colors=\\\"b\\\")\\n\\n    # Set the title and labels\\n    ax.set_title(title)\\n    ax.set_xlabel(\\\"Lead_time\\\")\\n    ax.set_ylabel(\\\"Mean 5 scores\\\")\\n\\n    # Show the plot\\n    plt.show()\\n    return score_means_5\";\n",
       "                var nbb_formatted_code = \"def lead_time_score(score, title):\\n    scores = []\\n    for i in range(len(score)):\\n        scores.append(score[i].mean())\\n    fig, ax = plt.subplots()\\n    ax.scatter(range(31), scores)\\n    ax.set_title(title)\\n    ax.set_xlabel(\\\"lead_time\\\")\\n    ax.set_ylabel(\\\"mean_score\\\")\\n    plt.show()\\n    return scores\\n\\n\\ndef lead_time_score_chunks(ax, score_means, title):\\n    chunks = [score_means[i : i + 5] for i in range(0, 25, 5)] + [score_means[-6:]]\\n    score_means_5 = [np.mean(chunk) for chunk in chunks]\\n\\n    # Plot horizontal lines\\n    for i, mean in enumerate(score_means_5):\\n        if i != len(score_means_5) - 1:\\n            ax.hlines(mean, i * 5, i * 5 + 5, colors=\\\"b\\\")\\n        else:  # the last line should span 6 points\\n            ax.hlines(mean, i * 5, i * 5 + 6, colors=\\\"b\\\")\\n\\n    # Set the title and labels\\n    ax.set_title(title)\\n    ax.set_xlabel(\\\"Lead_time\\\")\\n    ax.set_ylabel(\\\"Mean 5 scores\\\")\\n\\n    # Show the plot\\n    plt.show()\\n    return score_means_5\";\n",
       "                var nbb_cells = Jupyter.notebook.get_cells();\n",
       "                for (var i = 0; i < nbb_cells.length; ++i) {\n",
       "                    if (nbb_cells[i].input_prompt_number == nbb_cell_id) {\n",
       "                        if (nbb_cells[i].get_text() == nbb_unformatted_code) {\n",
       "                             nbb_cells[i].set_text(nbb_formatted_code);\n",
       "                        }\n",
       "                        break;\n",
       "                    }\n",
       "                }\n",
       "            }, 500);\n",
       "            "
      ],
      "text/plain": [
       "<IPython.core.display.Javascript object>"
      ]
     },
     "metadata": {},
     "output_type": "display_data"
    }
   ],
   "source": [
    "def lead_time_score(score, title):\n",
    "    scores = []\n",
    "    for i in range(len(score)):\n",
    "        scores.append(score[i].mean())\n",
    "    fig, ax = plt.subplots()\n",
    "    ax.scatter(range(31), scores)\n",
    "    ax.set_title(title)\n",
    "    ax.set_xlabel(\"lead_time\")\n",
    "    ax.set_ylabel(\"mean_score\")\n",
    "    plt.show()\n",
    "    return scores\n",
    "\n",
    "\n",
    "def lead_time_score_chunks(ax, score_means, title):\n",
    "    chunks = [score_means[i : i + 5] for i in range(0, 25, 5)] + [score_means[-6:]]\n",
    "    score_means_5 = [np.mean(chunk) for chunk in chunks]\n",
    "\n",
    "    # Plot horizontal lines\n",
    "    for i, mean in enumerate(score_means_5):\n",
    "        if i != len(score_means_5) - 1:\n",
    "            ax.hlines(mean, i * 5, i * 5 + 5, colors=\"b\")\n",
    "        else:  # the last line should span 6 points\n",
    "            ax.hlines(mean, i * 5, i * 5 + 6, colors=\"b\")\n",
    "\n",
    "    # Set the title and labels\n",
    "    ax.set_title(title)\n",
    "    ax.set_xlabel(\"Lead_time\")\n",
    "    ax.set_ylabel(\"Mean 5 scores\")\n",
    "\n",
    "    # Show the plot\n",
    "    plt.show()\n",
    "    return score_means_5\n",
    "\n",
    "def score_means(score):\n",
    "    scores = []\n",
    "    for i in range(len(score)):\n",
    "        scores.append(score[i].mean())\n",
    "    chunks = [scores[i : i + 5] for i in range(0, 25, 5)] + [scores[-6:]]\n",
    "    score_means_5 = [np.mean(chunk) for chunk in chunks]\n",
    "    return scores, score_means_5"
   ]
  },
  {
   "cell_type": "code",
   "execution_count": 41,
   "id": "86ac55d8",
   "metadata": {
    "scrolled": false
   },
   "outputs": [
    {
     "data": {
      "image/png": "[encoded data removed]",
      "text/plain": [
       "<Figure size 432x288 with 1 Axes>"
      ]
     },
     "metadata": {
      "needs_background": "light"
     },
     "output_type": "display_data"
    },
    {
     "data": {
      "application/javascript": [
       "\n",
       "            setTimeout(function() {\n",
       "                var nbb_cell_id = 41;\n",
       "                var nbb_unformatted_code = \"t2m_mean_scores = lead_time_score(EMOS_glob_scores_t2m, \\\"lead_time-t2m_mean_score\\\")\";\n",
       "                var nbb_formatted_code = \"t2m_mean_scores = lead_time_score(EMOS_glob_scores_t2m, \\\"lead_time-t2m_mean_score\\\")\";\n",
       "                var nbb_cells = Jupyter.notebook.get_cells();\n",
       "                for (var i = 0; i < nbb_cells.length; ++i) {\n",
       "                    if (nbb_cells[i].input_prompt_number == nbb_cell_id) {\n",
       "                        if (nbb_cells[i].get_text() == nbb_unformatted_code) {\n",
       "                             nbb_cells[i].set_text(nbb_formatted_code);\n",
       "                        }\n",
       "                        break;\n",
       "                    }\n",
       "                }\n",
       "            }, 500);\n",
       "            "
      ],
      "text/plain": [
       "<IPython.core.display.Javascript object>"
      ]
     },
     "metadata": {},
     "output_type": "display_data"
    }
   ],
   "source": [
    "t2m_mean_scores = lead_time_score(EMOS_glob_scores_t2m, \"lead_time-t2m_mean_score\")"
   ]
  },
  {
   "cell_type": "code",
   "execution_count": 42,
   "id": "e2ab48e7",
   "metadata": {},
   "outputs": [
    {
     "data": {
      "image/png": "[encoded data removed]",
      "text/plain": [
       "<Figure size 432x288 with 1 Axes>"
      ]
     },
     "metadata": {
      "needs_background": "light"
     },
     "output_type": "display_data"
    },
    {
     "data": {
      "application/javascript": [
       "\n",
       "            setTimeout(function() {\n",
       "                var nbb_cell_id = 42;\n",
       "                var nbb_unformatted_code = \"fig, ax = plt.subplots()\\nt2m_score_chunks = lead_time_score_chunks(ax, t2m_mean_scores, \\\"t2m_5mean_scores\\\")\";\n",
       "                var nbb_formatted_code = \"fig, ax = plt.subplots()\\nt2m_score_chunks = lead_time_score_chunks(ax, t2m_mean_scores, \\\"t2m_5mean_scores\\\")\";\n",
       "                var nbb_cells = Jupyter.notebook.get_cells();\n",
       "                for (var i = 0; i < nbb_cells.length; ++i) {\n",
       "                    if (nbb_cells[i].input_prompt_number == nbb_cell_id) {\n",
       "                        if (nbb_cells[i].get_text() == nbb_unformatted_code) {\n",
       "                             nbb_cells[i].set_text(nbb_formatted_code);\n",
       "                        }\n",
       "                        break;\n",
       "                    }\n",
       "                }\n",
       "            }, 500);\n",
       "            "
      ],
      "text/plain": [
       "<IPython.core.display.Javascript object>"
      ]
     },
     "metadata": {},
     "output_type": "display_data"
    }
   ],
   "source": [
    "fig, ax = plt.subplots()\n",
    "t2m_score_chunks = lead_time_score_chunks(ax, t2m_mean_scores, \"t2m_5mean_scores\")"
   ]
  },
  {
   "cell_type": "markdown",
   "id": "4c2ad309",
   "metadata": {},
   "source": [
    "#### 2.2 ws10 - visualization"
   ]
  },
  {
   "cell_type": "code",
   "execution_count": 43,
   "id": "e2b2995f",
   "metadata": {
    "scrolled": true
   },
   "outputs": [
    {
     "data": {
      "image/png": "[encoded data removed]",
      "text/plain": [
       "<Figure size 432x288 with 1 Axes>"
      ]
     },
     "metadata": {
      "needs_background": "light"
     },
     "output_type": "display_data"
    },
    {
     "data": {
      "application/javascript": [
       "\n",
       "            setTimeout(function() {\n",
       "                var nbb_cell_id = 43;\n",
       "                var nbb_unformatted_code = \"ws10_mean_scores = lead_time_score(EMOS_glob_scores_ws10, \\\"lead_time-ws10_mean_score\\\")\";\n",
       "                var nbb_formatted_code = \"ws10_mean_scores = lead_time_score(EMOS_glob_scores_ws10, \\\"lead_time-ws10_mean_score\\\")\";\n",
       "                var nbb_cells = Jupyter.notebook.get_cells();\n",
       "                for (var i = 0; i < nbb_cells.length; ++i) {\n",
       "                    if (nbb_cells[i].input_prompt_number == nbb_cell_id) {\n",
       "                        if (nbb_cells[i].get_text() == nbb_unformatted_code) {\n",
       "                             nbb_cells[i].set_text(nbb_formatted_code);\n",
       "                        }\n",
       "                        break;\n",
       "                    }\n",
       "                }\n",
       "            }, 500);\n",
       "            "
      ],
      "text/plain": [
       "<IPython.core.display.Javascript object>"
      ]
     },
     "metadata": {},
     "output_type": "display_data"
    }
   ],
   "source": [
    "ws10_mean_scores = lead_time_score(EMOS_glob_scores_ws10, \"lead_time-ws10_mean_score\")"
   ]
  },
  {
   "cell_type": "code",
   "execution_count": 44,
   "id": "242fde3d",
   "metadata": {
    "scrolled": true
   },
   "outputs": [
    {
     "data": {
      "image/png": "[encoded data removed]",
      "text/plain": [
       "<Figure size 432x288 with 1 Axes>"
      ]
     },
     "metadata": {
      "needs_background": "light"
     },
     "output_type": "display_data"
    },
    {
     "data": {
      "application/javascript": [
       "\n",
       "            setTimeout(function() {\n",
       "                var nbb_cell_id = 44;\n",
       "                var nbb_unformatted_code = \"fig, ax = plt.subplots()\\nws10_score_chunks = lead_time_score_chunks(ax, ws10_mean_scores, \\\"ws10_5mean_scores\\\")\";\n",
       "                var nbb_formatted_code = \"fig, ax = plt.subplots()\\nws10_score_chunks = lead_time_score_chunks(ax, ws10_mean_scores, \\\"ws10_5mean_scores\\\")\";\n",
       "                var nbb_cells = Jupyter.notebook.get_cells();\n",
       "                for (var i = 0; i < nbb_cells.length; ++i) {\n",
       "                    if (nbb_cells[i].input_prompt_number == nbb_cell_id) {\n",
       "                        if (nbb_cells[i].get_text() == nbb_unformatted_code) {\n",
       "                             nbb_cells[i].set_text(nbb_formatted_code);\n",
       "                        }\n",
       "                        break;\n",
       "                    }\n",
       "                }\n",
       "            }, 500);\n",
       "            "
      ],
      "text/plain": [
       "<IPython.core.display.Javascript object>"
      ]
     },
     "metadata": {},
     "output_type": "display_data"
    }
   ],
   "source": [
    "fig, ax = plt.subplots()\n",
    "ws10_score_chunks = lead_time_score_chunks(ax, ws10_mean_scores, \"ws10_5mean_scores\")"
   ]
  },
  {
   "cell_type": "markdown",
   "id": "0cdb27e6",
   "metadata": {},
   "source": [
    "### 3. Bar Chart to compare scores"
   ]
  },
  {
   "cell_type": "code",
   "execution_count": 62,
   "id": "ce9915d4",
   "metadata": {},
   "outputs": [
    {
     "data": {
      "application/javascript": [
       "\n",
       "            setTimeout(function() {\n",
       "                var nbb_cell_id = 62;\n",
       "                var nbb_unformatted_code = \"t2m_crps_scores = crps_load_lead_lat_lon(\\\"t2m\\\")\\nws10_crps_scores = crps_load_lead_lat_lon(\\\"ws10\\\")\\nt2m_crps_scores_mean, t2m_crps_scores_mean_5 = score_means(t2m_crps_scores)\\nws10_crps_scores_mean, ws10_crps_scores_mean_5 = score_means(ws10_crps_scores)\";\n",
       "                var nbb_formatted_code = \"t2m_crps_scores = crps_load_lead_lat_lon(\\\"t2m\\\")\\nws10_crps_scores = crps_load_lead_lat_lon(\\\"ws10\\\")\\nt2m_crps_scores_mean, t2m_crps_scores_mean_5 = score_means(t2m_crps_scores)\\nws10_crps_scores_mean, ws10_crps_scores_mean_5 = score_means(ws10_crps_scores)\";\n",
       "                var nbb_cells = Jupyter.notebook.get_cells();\n",
       "                for (var i = 0; i < nbb_cells.length; ++i) {\n",
       "                    if (nbb_cells[i].input_prompt_number == nbb_cell_id) {\n",
       "                        if (nbb_cells[i].get_text() == nbb_unformatted_code) {\n",
       "                             nbb_cells[i].set_text(nbb_formatted_code);\n",
       "                        }\n",
       "                        break;\n",
       "                    }\n",
       "                }\n",
       "            }, 500);\n",
       "            "
      ],
      "text/plain": [
       "<IPython.core.display.Javascript object>"
      ]
     },
     "metadata": {},
     "output_type": "display_data"
    }
   ],
   "source": [
    "t2m_crps_scores = crps_load_lead_lat_lon(\"t2m\")\n",
    "ws10_crps_scores = crps_load_lead_lat_lon(\"ws10\")\n",
    "t2m_crps_scores_mean, t2m_crps_scores_mean_5 = score_means(t2m_crps_scores)\n",
    "ws10_crps_scores_mean, ws10_crps_scores_mean_5 = score_means(ws10_crps_scores)"
   ]
  },
  {
   "cell_type": "markdown",
   "id": "7d70683c",
   "metadata": {},
   "source": [
    "#### 3.1 Bar Chart for all lead_times"
   ]
  },
  {
   "cell_type": "code",
   "execution_count": 68,
   "id": "6b43ca67",
   "metadata": {},
   "outputs": [
    {
     "data": {
      "application/javascript": [
       "\n",
       "            setTimeout(function() {\n",
       "                var nbb_cell_id = 68;\n",
       "                var nbb_unformatted_code = \"import matplotlib.pyplot as plt\\nimport numpy as np\\n\\n\\nimport matplotlib.pyplot as plt\\nimport numpy as np\\n\\ndef plt_bar_chart_arrays(array1, array2, N, label_1, label_2):\\n    if len(array1) != N or len(array2) != N:\\n        print(f\\\"Expected arrays of length {N}, but got {len(array1)} and {len(array2)}\\\")\\n        return\\n    \\n    ind = np.arange(N)  # the x locations for the groups\\n    width = 0.35        # the width of the bars\\n\\n    fig, ax = plt.subplots()\\n\\n    rects1 = ax.bar(ind - width/2, array1, width, label=label_1)\\n    rects2 = ax.bar(ind + width/2, array2, width, label=label_2)\\n\\n    # Add some text for labels, title and custom x-axis tick labels, etc.\\n    ax.set_xlabel('Scores')\\n    ax.set_title('Scores by Array and Index')\\n    ax.set_xticks(ind)\\n    ax.set_xticklabels([str(i) for i in range(N)])\\n    ax.legend()\\n\\n    plt.show()\";\n",
       "                var nbb_formatted_code = \"import matplotlib.pyplot as plt\\nimport numpy as np\\n\\n\\nimport matplotlib.pyplot as plt\\nimport numpy as np\\n\\n\\ndef plt_bar_chart_arrays(array1, array2, N, label_1, label_2):\\n    if len(array1) != N or len(array2) != N:\\n        print(f\\\"Expected arrays of length {N}, but got {len(array1)} and {len(array2)}\\\")\\n        return\\n\\n    ind = np.arange(N)  # the x locations for the groups\\n    width = 0.35  # the width of the bars\\n\\n    fig, ax = plt.subplots()\\n\\n    rects1 = ax.bar(ind - width / 2, array1, width, label=label_1)\\n    rects2 = ax.bar(ind + width / 2, array2, width, label=label_2)\\n\\n    # Add some text for labels, title and custom x-axis tick labels, etc.\\n    ax.set_xlabel(\\\"Scores\\\")\\n    ax.set_title(\\\"Scores by Array and Index\\\")\\n    ax.set_xticks(ind)\\n    ax.set_xticklabels([str(i) for i in range(N)])\\n    ax.legend()\\n\\n    plt.show()\";\n",
       "                var nbb_cells = Jupyter.notebook.get_cells();\n",
       "                for (var i = 0; i < nbb_cells.length; ++i) {\n",
       "                    if (nbb_cells[i].input_prompt_number == nbb_cell_id) {\n",
       "                        if (nbb_cells[i].get_text() == nbb_unformatted_code) {\n",
       "                             nbb_cells[i].set_text(nbb_formatted_code);\n",
       "                        }\n",
       "                        break;\n",
       "                    }\n",
       "                }\n",
       "            }, 500);\n",
       "            "
      ],
      "text/plain": [
       "<IPython.core.display.Javascript object>"
      ]
     },
     "metadata": {},
     "output_type": "display_data"
    }
   ],
   "source": [
    "import matplotlib.pyplot as plt\n",
    "import numpy as np\n",
    "\n",
    "\n",
    "import matplotlib.pyplot as plt\n",
    "import numpy as np\n",
    "\n",
    "def plt_bar_chart_arrays(array1, array2, N, label_1, label_2):\n",
    "    if len(array1) != N or len(array2) != N:\n",
    "        print(f\"Expected arrays of length {N}, but got {len(array1)} and {len(array2)}\")\n",
    "        return\n",
    "    \n",
    "    ind = np.arange(N)  # the x locations for the groups\n",
    "    width = 0.35        # the width of the bars\n",
    "\n",
    "    fig, ax = plt.subplots()\n",
    "\n",
    "    rects1 = ax.bar(ind - width/2, array1, width, label=label_1)\n",
    "    rects2 = ax.bar(ind + width/2, array2, width, label=label_2)\n",
    "\n",
    "    # Add some text for labels, title and custom x-axis tick labels, etc.\n",
    "    ax.set_xlabel('Scores')\n",
    "    ax.set_title('Scores by Array and Index')\n",
    "    ax.set_xticks(ind)\n",
    "    ax.set_xticklabels([str(i) for i in range(N)])\n",
    "    ax.legend()\n",
    "\n",
    "    plt.show()\n"
   ]
  },
  {
   "cell_type": "code",
   "execution_count": 69,
   "id": "b086d7cc",
   "metadata": {},
   "outputs": [
    {
     "data": {
      "image/png": "[encoded data removed]",
      "text/plain": [
       "<Figure size 432x288 with 1 Axes>"
      ]
     },
     "metadata": {
      "needs_background": "light"
     },
     "output_type": "display_data"
    },
    {
     "data": {
      "application/javascript": [
       "\n",
       "            setTimeout(function() {\n",
       "                var nbb_cell_id = 69;\n",
       "                var nbb_unformatted_code = \"# 1. t2m\\nplt_bar_chart_arrays(t2m_mean_scores, t2m_crps_scores_mean, 31, \\\"EMOS\\\", \\\"CRPS\\\")\";\n",
       "                var nbb_formatted_code = \"# 1. t2m\\nplt_bar_chart_arrays(t2m_mean_scores, t2m_crps_scores_mean, 31, \\\"EMOS\\\", \\\"CRPS\\\")\";\n",
       "                var nbb_cells = Jupyter.notebook.get_cells();\n",
       "                for (var i = 0; i < nbb_cells.length; ++i) {\n",
       "                    if (nbb_cells[i].input_prompt_number == nbb_cell_id) {\n",
       "                        if (nbb_cells[i].get_text() == nbb_unformatted_code) {\n",
       "                             nbb_cells[i].set_text(nbb_formatted_code);\n",
       "                        }\n",
       "                        break;\n",
       "                    }\n",
       "                }\n",
       "            }, 500);\n",
       "            "
      ],
      "text/plain": [
       "<IPython.core.display.Javascript object>"
      ]
     },
     "metadata": {},
     "output_type": "display_data"
    }
   ],
   "source": [
    "# 1. t2m\n",
    "plt_bar_chart_arrays(t2m_mean_scores, t2m_crps_scores_mean, 31, \"EMOS\", \"CRPS\")"
   ]
  },
  {
   "cell_type": "code",
   "execution_count": 70,
   "id": "a57a8f05",
   "metadata": {},
   "outputs": [
    {
     "data": {
      "image/png": "[encoded data removed]",
      "text/plain": [
       "<Figure size 432x288 with 1 Axes>"
      ]
     },
     "metadata": {
      "needs_background": "light"
     },
     "output_type": "display_data"
    },
    {
     "data": {
      "application/javascript": [
       "\n",
       "            setTimeout(function() {\n",
       "                var nbb_cell_id = 70;\n",
       "                var nbb_unformatted_code = \"# 2. ws10\\nplt_bar_chart_arrays(ws10_mean_scores, ws10_crps_scores_mean, 31, \\\"EMOS\\\", \\\"CRPS\\\")\";\n",
       "                var nbb_formatted_code = \"# 2. ws10\\nplt_bar_chart_arrays(ws10_mean_scores, ws10_crps_scores_mean, 31, \\\"EMOS\\\", \\\"CRPS\\\")\";\n",
       "                var nbb_cells = Jupyter.notebook.get_cells();\n",
       "                for (var i = 0; i < nbb_cells.length; ++i) {\n",
       "                    if (nbb_cells[i].input_prompt_number == nbb_cell_id) {\n",
       "                        if (nbb_cells[i].get_text() == nbb_unformatted_code) {\n",
       "                             nbb_cells[i].set_text(nbb_formatted_code);\n",
       "                        }\n",
       "                        break;\n",
       "                    }\n",
       "                }\n",
       "            }, 500);\n",
       "            "
      ],
      "text/plain": [
       "<IPython.core.display.Javascript object>"
      ]
     },
     "metadata": {},
     "output_type": "display_data"
    }
   ],
   "source": [
    "# 2. ws10\n",
    "plt_bar_chart_arrays(ws10_mean_scores, ws10_crps_scores_mean, 31, \"EMOS\", \"CRPS\")"
   ]
  },
  {
   "cell_type": "markdown",
   "id": "bcefec00",
   "metadata": {},
   "source": [
    "#### 3.2 Bar Chart for 5 mean lead_times"
   ]
  },
  {
   "cell_type": "code",
   "execution_count": 72,
   "id": "dfbb1c5c",
   "metadata": {},
   "outputs": [
    {
     "data": {
      "image/png": "[encoded data removed]",
      "text/plain": [
       "<Figure size 432x288 with 1 Axes>"
      ]
     },
     "metadata": {
      "needs_background": "light"
     },
     "output_type": "display_data"
    },
    {
     "data": {
      "application/javascript": [
       "\n",
       "            setTimeout(function() {\n",
       "                var nbb_cell_id = 72;\n",
       "                var nbb_unformatted_code = \"# 1. t2m\\nplt_bar_chart_arrays(t2m_score_chunks, t2m_crps_scores_mean_5, 6, \\\"EMOS\\\", \\\"CRPS\\\")\";\n",
       "                var nbb_formatted_code = \"# 1. t2m\\nplt_bar_chart_arrays(t2m_score_chunks, t2m_crps_scores_mean_5, 6, \\\"EMOS\\\", \\\"CRPS\\\")\";\n",
       "                var nbb_cells = Jupyter.notebook.get_cells();\n",
       "                for (var i = 0; i < nbb_cells.length; ++i) {\n",
       "                    if (nbb_cells[i].input_prompt_number == nbb_cell_id) {\n",
       "                        if (nbb_cells[i].get_text() == nbb_unformatted_code) {\n",
       "                             nbb_cells[i].set_text(nbb_formatted_code);\n",
       "                        }\n",
       "                        break;\n",
       "                    }\n",
       "                }\n",
       "            }, 500);\n",
       "            "
      ],
      "text/plain": [
       "<IPython.core.display.Javascript object>"
      ]
     },
     "metadata": {},
     "output_type": "display_data"
    }
   ],
   "source": [
    "# 1. t2m\n",
    "plt_bar_chart_arrays(t2m_score_chunks, t2m_crps_scores_mean_5, 6, \"EMOS\", \"CRPS\")"
   ]
  },
  {
   "cell_type": "code",
   "execution_count": 73,
   "id": "09ce59e9",
   "metadata": {},
   "outputs": [
    {
     "data": {
      "image/png": "[encoded data removed]",
      "text/plain": [
       "<Figure size 432x288 with 1 Axes>"
      ]
     },
     "metadata": {
      "needs_background": "light"
     },
     "output_type": "display_data"
    },
    {
     "data": {
      "application/javascript": [
       "\n",
       "            setTimeout(function() {\n",
       "                var nbb_cell_id = 73;\n",
       "                var nbb_unformatted_code = \"# 2. ws10\\nplt_bar_chart_arrays(ws10_score_chunks, ws10_crps_scores_mean_5, 6, \\\"EMOS\\\", \\\"CRPS\\\")\";\n",
       "                var nbb_formatted_code = \"# 2. ws10\\nplt_bar_chart_arrays(ws10_score_chunks, ws10_crps_scores_mean_5, 6, \\\"EMOS\\\", \\\"CRPS\\\")\";\n",
       "                var nbb_cells = Jupyter.notebook.get_cells();\n",
       "                for (var i = 0; i < nbb_cells.length; ++i) {\n",
       "                    if (nbb_cells[i].input_prompt_number == nbb_cell_id) {\n",
       "                        if (nbb_cells[i].get_text() == nbb_unformatted_code) {\n",
       "                             nbb_cells[i].set_text(nbb_formatted_code);\n",
       "                        }\n",
       "                        break;\n",
       "                    }\n",
       "                }\n",
       "            }, 500);\n",
       "            "
      ],
      "text/plain": [
       "<IPython.core.display.Javascript object>"
      ]
     },
     "metadata": {},
     "output_type": "display_data"
    }
   ],
   "source": [
    "# 2. ws10\n",
    "plt_bar_chart_arrays(ws10_score_chunks, ws10_crps_scores_mean_5, 6, \"EMOS\", \"CRPS\")"
   ]
  },
  {
   "cell_type": "code",
   "execution_count": null,
   "id": "054e6d14",
   "metadata": {},
   "outputs": [],
   "source": []
  }
 ],
 "metadata": {
  "kernelspec": {
   "display_name": "Python 3 (ipykernel)",
   "language": "python",
   "name": "python3"
  },
  "language_info": {
   "codemirror_mode": {
    "name": "ipython",
    "version": 3
   },
   "file_extension": ".py",
   "mimetype": "text/x-python",
   "name": "python",
   "nbconvert_exporter": "python",
   "pygments_lexer": "ipython3",
   "version": "3.9.7"
  }
 },
 "nbformat": 4,
 "nbformat_minor": 5
}
