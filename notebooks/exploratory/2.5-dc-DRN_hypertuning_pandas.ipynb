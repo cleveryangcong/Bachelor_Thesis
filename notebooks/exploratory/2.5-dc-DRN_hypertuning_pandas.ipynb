{
 "cells": [
  {
   "cell_type": "code",
   "execution_count": 1,
   "id": "0488f3ba",
   "metadata": {},
   "outputs": [
    {
     "data": {
      "application/javascript": [
       "\n",
       "            setTimeout(function() {\n",
       "                var nbb_cell_id = 1;\n",
       "                var nbb_unformatted_code = \"%load_ext nb_black\";\n",
       "                var nbb_formatted_code = \"%load_ext nb_black\";\n",
       "                var nbb_cells = Jupyter.notebook.get_cells();\n",
       "                for (var i = 0; i < nbb_cells.length; ++i) {\n",
       "                    if (nbb_cells[i].input_prompt_number == nbb_cell_id) {\n",
       "                        if (nbb_cells[i].get_text() == nbb_unformatted_code) {\n",
       "                             nbb_cells[i].set_text(nbb_formatted_code);\n",
       "                        }\n",
       "                        break;\n",
       "                    }\n",
       "                }\n",
       "            }, 500);\n",
       "            "
      ],
      "text/plain": [
       "<IPython.core.display.Javascript object>"
      ]
     },
     "metadata": {},
     "output_type": "display_data"
    }
   ],
   "source": [
    "%load_ext nb_black"
   ]
  },
  {
   "cell_type": "code",
   "execution_count": 2,
   "id": "33f7213a",
   "metadata": {
    "scrolled": true
   },
   "outputs": [
    {
     "name": "stderr",
     "output_type": "stream",
     "text": [
      "2023-06-08 12:44:47.575604: W tensorflow/stream_executor/platform/default/dso_loader.cc:64] Could not load dynamic library 'libcudart.so.11.0'; dlerror: libcudart.so.11.0: cannot open shared object file: No such file or directory; LD_LIBRARY_PATH: :/opt/anaconda3/lib/\n",
      "2023-06-08 12:44:47.575624: I tensorflow/stream_executor/cuda/cudart_stub.cc:29] Ignore above cudart dlerror if you do not have a GPU set up on your machine.\n"
     ]
    },
    {
     "data": {
      "application/javascript": [
       "\n",
       "            setTimeout(function() {\n",
       "                var nbb_cell_id = 2;\n",
       "                var nbb_unformatted_code = \"# Basics\\nimport tensorflow as tf\\nimport pandas as pd\\nimport xarray as xr\\n\\n# Helpful\\nfrom tqdm import tqdm\\n\\n# Visualization\\nimport matplotlib.pyplot as plt\\n\\n# My Methods\\nfrom src.utils.CRPS import *  # CRPS metrics\\nfrom src.utils.data_split import *  # Splitting data into X and y\\nfrom src.utils.drn_make_X_array import *  # Import make train array functions (make_X_array)\\nfrom src.models.EMOS import *  # EMOS implementation\\nfrom src.models.DRN.DRN_model import *  # DRN implementation\\nfrom src.models.DRN.DRN_load_score import *  # Load DRN_scores\\nfrom src.models.EMOS_local.EMOS_local_load_score import *  # Load EMOS_local_scores\\nfrom src.models.EMOS_global.EMOS_global_load_score import *  # Load EMOS_global_scores\\nfrom src.models.EMOS_global.EMOS_global_load_model import *  # Load EMOS_global_models#\\nimport data.raw.load_data_raw as ldr  # Load raw data\\nimport data.processed.load_data_processed as ldp  # Load processed data normed\\nimport data.processed.load_data_processed_denormed as ldpd  # Load processed data denormed\\nfrom src.models.CRPS_baseline.CRPS_load import *  # Load CRPS scores\";\n",
       "                var nbb_formatted_code = \"# Basics\\nimport tensorflow as tf\\nimport pandas as pd\\nimport xarray as xr\\n\\n# Helpful\\nfrom tqdm import tqdm\\n\\n# Visualization\\nimport matplotlib.pyplot as plt\\n\\n# My Methods\\nfrom src.utils.CRPS import *  # CRPS metrics\\nfrom src.utils.data_split import *  # Splitting data into X and y\\nfrom src.utils.drn_make_X_array import *  # Import make train array functions (make_X_array)\\nfrom src.models.EMOS import *  # EMOS implementation\\nfrom src.models.DRN.DRN_model import *  # DRN implementation\\nfrom src.models.DRN.DRN_load_score import *  # Load DRN_scores\\nfrom src.models.EMOS_local.EMOS_local_load_score import *  # Load EMOS_local_scores\\nfrom src.models.EMOS_global.EMOS_global_load_score import *  # Load EMOS_global_scores\\nfrom src.models.EMOS_global.EMOS_global_load_model import *  # Load EMOS_global_models#\\nimport data.raw.load_data_raw as ldr  # Load raw data\\nimport data.processed.load_data_processed as ldp  # Load processed data normed\\nimport data.processed.load_data_processed_denormed as ldpd  # Load processed data denormed\\nfrom src.models.CRPS_baseline.CRPS_load import *  # Load CRPS scores\";\n",
       "                var nbb_cells = Jupyter.notebook.get_cells();\n",
       "                for (var i = 0; i < nbb_cells.length; ++i) {\n",
       "                    if (nbb_cells[i].input_prompt_number == nbb_cell_id) {\n",
       "                        if (nbb_cells[i].get_text() == nbb_unformatted_code) {\n",
       "                             nbb_cells[i].set_text(nbb_formatted_code);\n",
       "                        }\n",
       "                        break;\n",
       "                    }\n",
       "                }\n",
       "            }, 500);\n",
       "            "
      ],
      "text/plain": [
       "<IPython.core.display.Javascript object>"
      ]
     },
     "metadata": {},
     "output_type": "display_data"
    }
   ],
   "source": [
    "# Basics\n",
    "import tensorflow as tf\n",
    "import pandas as pd\n",
    "import xarray as xr\n",
    "\n",
    "# Helpful\n",
    "from tqdm import tqdm\n",
    "\n",
    "# Visualization\n",
    "import matplotlib.pyplot as plt\n",
    "\n",
    "# My Methods\n",
    "from src.utils.CRPS import *  # CRPS metrics\n",
    "from src.utils.data_split import *  # Splitting data into X and y\n",
    "from src.utils.drn_make_X_array import *  # Import make train array functions (make_X_array)\n",
    "from src.models.EMOS import *  # EMOS implementation\n",
    "from src.models.DRN.DRN_model import *  # DRN implementation\n",
    "from src.models.DRN.DRN_load_score import *  # Load DRN_scores\n",
    "from src.models.EMOS_local.EMOS_local_load_score import *  # Load EMOS_local_scores\n",
    "from src.models.EMOS_global.EMOS_global_load_score import *  # Load EMOS_global_scores\n",
    "from src.models.EMOS_global.EMOS_global_load_model import *  # Load EMOS_global_models#\n",
    "import data.raw.load_data_raw as ldr  # Load raw data\n",
    "import data.processed.load_data_processed as ldp  # Load processed data normed\n",
    "import data.processed.load_data_processed_denormed as ldpd  # Load processed data denormed\n",
    "from src.models.CRPS_baseline.CRPS_load import *  # Load CRPS scores"
   ]
  },
  {
   "cell_type": "markdown",
   "id": "003a43a8",
   "metadata": {},
   "source": [
    "### 0. Setup"
   ]
  },
  {
   "cell_type": "code",
   "execution_count": 3,
   "id": "c3e83a18",
   "metadata": {},
   "outputs": [
    {
     "data": {
      "application/javascript": [
       "\n",
       "            setTimeout(function() {\n",
       "                var nbb_cell_id = 3;\n",
       "                var nbb_unformatted_code = \"run = 0\\npath = f\\\"/Data/Delong_BA_Data/scores/DRN_hyper_scores/DRN_hyper_scores_dataframe_run_{run}.csv\\\"\";\n",
       "                var nbb_formatted_code = \"run = 0\\npath = f\\\"/Data/Delong_BA_Data/scores/DRN_hyper_scores/DRN_hyper_scores_dataframe_run_{run}.csv\\\"\";\n",
       "                var nbb_cells = Jupyter.notebook.get_cells();\n",
       "                for (var i = 0; i < nbb_cells.length; ++i) {\n",
       "                    if (nbb_cells[i].input_prompt_number == nbb_cell_id) {\n",
       "                        if (nbb_cells[i].get_text() == nbb_unformatted_code) {\n",
       "                             nbb_cells[i].set_text(nbb_formatted_code);\n",
       "                        }\n",
       "                        break;\n",
       "                    }\n",
       "                }\n",
       "            }, 500);\n",
       "            "
      ],
      "text/plain": [
       "<IPython.core.display.Javascript object>"
      ]
     },
     "metadata": {},
     "output_type": "display_data"
    }
   ],
   "source": [
    "run = 0\n",
    "path = f\"/Data/Delong_BA_Data/scores/DRN_hyper_scores/DRN_hyper_scores_dataframe_run_{run}.csv\""
   ]
  },
  {
   "cell_type": "code",
   "execution_count": null,
   "id": "0645d835",
   "metadata": {},
   "outputs": [],
   "source": [
    "df_DRN_hyper_scores = pd.read_csv(path)"
   ]
  },
  {
   "cell_type": "markdown",
   "id": "3c573d6c",
   "metadata": {},
   "source": [
    "### 1. Functions"
   ]
  },
  {
   "cell_type": "code",
   "execution_count": 11,
   "id": "b43e4a37",
   "metadata": {},
   "outputs": [
    {
     "data": {
      "application/javascript": [
       "\n",
       "            setTimeout(function() {\n",
       "                var nbb_cell_id = 11;\n",
       "                var nbb_unformatted_code = \"def df_split_lead(df):\\n    return [df.loc[df['lead_time'] == 0], df.loc[df['lead_time'] == 15], df.loc[df['lead_time'] == 30]]\";\n",
       "                var nbb_formatted_code = \"def df_split_lead(df):\\n    return [\\n        df.loc[df[\\\"lead_time\\\"] == 0],\\n        df.loc[df[\\\"lead_time\\\"] == 15],\\n        df.loc[df[\\\"lead_time\\\"] == 30],\\n    ]\";\n",
       "                var nbb_cells = Jupyter.notebook.get_cells();\n",
       "                for (var i = 0; i < nbb_cells.length; ++i) {\n",
       "                    if (nbb_cells[i].input_prompt_number == nbb_cell_id) {\n",
       "                        if (nbb_cells[i].get_text() == nbb_unformatted_code) {\n",
       "                             nbb_cells[i].set_text(nbb_formatted_code);\n",
       "                        }\n",
       "                        break;\n",
       "                    }\n",
       "                }\n",
       "            }, 500);\n",
       "            "
      ],
      "text/plain": [
       "<IPython.core.display.Javascript object>"
      ]
     },
     "metadata": {},
     "output_type": "display_data"
    }
   ],
   "source": [
    "def df_split_lead(df):\n",
    "    return [\n",
    "        df.loc[df[\"lead_time\"] == 0],\n",
    "        df.loc[df[\"lead_time\"] == 15],\n",
    "        df.loc[df[\"lead_time\"] == 30],\n",
    "    ]"
   ]
  },
  {
   "cell_type": "code",
   "execution_count": 12,
   "id": "8d963059",
   "metadata": {},
   "outputs": [
    {
     "data": {
      "application/javascript": [
       "\n",
       "            setTimeout(function() {\n",
       "                var nbb_cell_id = 12;\n",
       "                var nbb_unformatted_code = \"df_DRN_hyper_split_0= df_split_lead(df_DRN_hyper_scores)\";\n",
       "                var nbb_formatted_code = \"df_DRN_hyper_split_0 = df_split_lead(df_DRN_hyper_scores)\";\n",
       "                var nbb_cells = Jupyter.notebook.get_cells();\n",
       "                for (var i = 0; i < nbb_cells.length; ++i) {\n",
       "                    if (nbb_cells[i].input_prompt_number == nbb_cell_id) {\n",
       "                        if (nbb_cells[i].get_text() == nbb_unformatted_code) {\n",
       "                             nbb_cells[i].set_text(nbb_formatted_code);\n",
       "                        }\n",
       "                        break;\n",
       "                    }\n",
       "                }\n",
       "            }, 500);\n",
       "            "
      ],
      "text/plain": [
       "<IPython.core.display.Javascript object>"
      ]
     },
     "metadata": {},
     "output_type": "display_data"
    }
   ],
   "source": [
    "df_DRN_hyper_split_0 = df_split_lead(df_DRN_hyper_scores)"
   ]
  },
  {
   "cell_type": "code",
   "execution_count": 15,
   "id": "3d179e25",
   "metadata": {},
   "outputs": [
    {
     "data": {
      "text/html": [
       "<div>\n",
       "<style scoped>\n",
       "    .dataframe tbody tr th:only-of-type {\n",
       "        vertical-align: middle;\n",
       "    }\n",
       "\n",
       "    .dataframe tbody tr th {\n",
       "        vertical-align: top;\n",
       "    }\n",
       "\n",
       "    .dataframe thead th {\n",
       "        text-align: right;\n",
       "    }\n",
       "</style>\n",
       "<table border=\"1\" class=\"dataframe\">\n",
       "  <thead>\n",
       "    <tr style=\"text-align: right;\">\n",
       "      <th></th>\n",
       "      <th>lead_time</th>\n",
       "      <th>hidden_layer</th>\n",
       "      <th>emb_size</th>\n",
       "      <th>batch_size</th>\n",
       "      <th>epochs</th>\n",
       "      <th>lr</th>\n",
       "      <th>optimizer</th>\n",
       "      <th>activation</th>\n",
       "      <th>score</th>\n",
       "    </tr>\n",
       "  </thead>\n",
       "  <tbody>\n",
       "    <tr>\n",
       "      <th>13</th>\n",
       "      <td>0</td>\n",
       "      <td>[]</td>\n",
       "      <td>10</td>\n",
       "      <td>512</td>\n",
       "      <td>10</td>\n",
       "      <td>0.01</td>\n",
       "      <td>Adam</td>\n",
       "      <td>relu</td>\n",
       "      <td>0.386404</td>\n",
       "    </tr>\n",
       "    <tr>\n",
       "      <th>1</th>\n",
       "      <td>0</td>\n",
       "      <td>[]</td>\n",
       "      <td>5</td>\n",
       "      <td>512</td>\n",
       "      <td>10</td>\n",
       "      <td>0.01</td>\n",
       "      <td>Adam</td>\n",
       "      <td>relu</td>\n",
       "      <td>0.387213</td>\n",
       "    </tr>\n",
       "    <tr>\n",
       "      <th>25</th>\n",
       "      <td>0</td>\n",
       "      <td>[]</td>\n",
       "      <td>20</td>\n",
       "      <td>512</td>\n",
       "      <td>10</td>\n",
       "      <td>0.01</td>\n",
       "      <td>Adam</td>\n",
       "      <td>relu</td>\n",
       "      <td>0.388308</td>\n",
       "    </tr>\n",
       "    <tr>\n",
       "      <th>6</th>\n",
       "      <td>0</td>\n",
       "      <td>[]</td>\n",
       "      <td>5</td>\n",
       "      <td>2048</td>\n",
       "      <td>10</td>\n",
       "      <td>0.10</td>\n",
       "      <td>Adam</td>\n",
       "      <td>relu</td>\n",
       "      <td>0.389648</td>\n",
       "    </tr>\n",
       "    <tr>\n",
       "      <th>3</th>\n",
       "      <td>0</td>\n",
       "      <td>[]</td>\n",
       "      <td>5</td>\n",
       "      <td>1024</td>\n",
       "      <td>10</td>\n",
       "      <td>0.10</td>\n",
       "      <td>Adam</td>\n",
       "      <td>relu</td>\n",
       "      <td>0.395332</td>\n",
       "    </tr>\n",
       "  </tbody>\n",
       "</table>\n",
       "</div>"
      ],
      "text/plain": [
       "    lead_time hidden_layer  emb_size  batch_size  epochs    lr optimizer  \\\n",
       "13          0           []        10         512      10  0.01      Adam   \n",
       "1           0           []         5         512      10  0.01      Adam   \n",
       "25          0           []        20         512      10  0.01      Adam   \n",
       "6           0           []         5        2048      10  0.10      Adam   \n",
       "3           0           []         5        1024      10  0.10      Adam   \n",
       "\n",
       "   activation     score  \n",
       "13       relu  0.386404  \n",
       "1        relu  0.387213  \n",
       "25       relu  0.388308  \n",
       "6        relu  0.389648  \n",
       "3        relu  0.395332  "
      ]
     },
     "execution_count": 15,
     "metadata": {},
     "output_type": "execute_result"
    },
    {
     "data": {
      "application/javascript": [
       "\n",
       "            setTimeout(function() {\n",
       "                var nbb_cell_id = 15;\n",
       "                var nbb_unformatted_code = \"df_DRN_hyper_split_0[0].sort_values(\\\"score\\\").head()\";\n",
       "                var nbb_formatted_code = \"df_DRN_hyper_split_0[0].sort_values(\\\"score\\\").head()\";\n",
       "                var nbb_cells = Jupyter.notebook.get_cells();\n",
       "                for (var i = 0; i < nbb_cells.length; ++i) {\n",
       "                    if (nbb_cells[i].input_prompt_number == nbb_cell_id) {\n",
       "                        if (nbb_cells[i].get_text() == nbb_unformatted_code) {\n",
       "                             nbb_cells[i].set_text(nbb_formatted_code);\n",
       "                        }\n",
       "                        break;\n",
       "                    }\n",
       "                }\n",
       "            }, 500);\n",
       "            "
      ],
      "text/plain": [
       "<IPython.core.display.Javascript object>"
      ]
     },
     "metadata": {},
     "output_type": "display_data"
    }
   ],
   "source": [
    "df_DRN_hyper_split_0[0].sort_values(\"score\").head()"
   ]
  },
  {
   "cell_type": "code",
   "execution_count": 18,
   "id": "943585ee",
   "metadata": {},
   "outputs": [
    {
     "data": {
      "text/html": [
       "<div>\n",
       "<style scoped>\n",
       "    .dataframe tbody tr th:only-of-type {\n",
       "        vertical-align: middle;\n",
       "    }\n",
       "\n",
       "    .dataframe tbody tr th {\n",
       "        vertical-align: top;\n",
       "    }\n",
       "\n",
       "    .dataframe thead th {\n",
       "        text-align: right;\n",
       "    }\n",
       "</style>\n",
       "<table border=\"1\" class=\"dataframe\">\n",
       "  <thead>\n",
       "    <tr style=\"text-align: right;\">\n",
       "      <th></th>\n",
       "      <th>lead_time</th>\n",
       "      <th>hidden_layer</th>\n",
       "      <th>emb_size</th>\n",
       "      <th>batch_size</th>\n",
       "      <th>epochs</th>\n",
       "      <th>lr</th>\n",
       "      <th>optimizer</th>\n",
       "      <th>activation</th>\n",
       "      <th>score</th>\n",
       "    </tr>\n",
       "  </thead>\n",
       "  <tbody>\n",
       "    <tr>\n",
       "      <th>37</th>\n",
       "      <td>15</td>\n",
       "      <td>[]</td>\n",
       "      <td>5</td>\n",
       "      <td>512</td>\n",
       "      <td>10</td>\n",
       "      <td>0.01</td>\n",
       "      <td>Adam</td>\n",
       "      <td>relu</td>\n",
       "      <td>0.726175</td>\n",
       "    </tr>\n",
       "    <tr>\n",
       "      <th>49</th>\n",
       "      <td>15</td>\n",
       "      <td>[]</td>\n",
       "      <td>10</td>\n",
       "      <td>512</td>\n",
       "      <td>10</td>\n",
       "      <td>0.01</td>\n",
       "      <td>Adam</td>\n",
       "      <td>relu</td>\n",
       "      <td>0.727317</td>\n",
       "    </tr>\n",
       "    <tr>\n",
       "      <th>61</th>\n",
       "      <td>15</td>\n",
       "      <td>[]</td>\n",
       "      <td>20</td>\n",
       "      <td>512</td>\n",
       "      <td>10</td>\n",
       "      <td>0.01</td>\n",
       "      <td>Adam</td>\n",
       "      <td>relu</td>\n",
       "      <td>0.728629</td>\n",
       "    </tr>\n",
       "    <tr>\n",
       "      <th>42</th>\n",
       "      <td>15</td>\n",
       "      <td>[]</td>\n",
       "      <td>5</td>\n",
       "      <td>2048</td>\n",
       "      <td>10</td>\n",
       "      <td>0.10</td>\n",
       "      <td>Adam</td>\n",
       "      <td>relu</td>\n",
       "      <td>0.729627</td>\n",
       "    </tr>\n",
       "    <tr>\n",
       "      <th>54</th>\n",
       "      <td>15</td>\n",
       "      <td>[]</td>\n",
       "      <td>10</td>\n",
       "      <td>2048</td>\n",
       "      <td>10</td>\n",
       "      <td>0.10</td>\n",
       "      <td>Adam</td>\n",
       "      <td>relu</td>\n",
       "      <td>0.731774</td>\n",
       "    </tr>\n",
       "  </tbody>\n",
       "</table>\n",
       "</div>"
      ],
      "text/plain": [
       "    lead_time hidden_layer  emb_size  batch_size  epochs    lr optimizer  \\\n",
       "37         15           []         5         512      10  0.01      Adam   \n",
       "49         15           []        10         512      10  0.01      Adam   \n",
       "61         15           []        20         512      10  0.01      Adam   \n",
       "42         15           []         5        2048      10  0.10      Adam   \n",
       "54         15           []        10        2048      10  0.10      Adam   \n",
       "\n",
       "   activation     score  \n",
       "37       relu  0.726175  \n",
       "49       relu  0.727317  \n",
       "61       relu  0.728629  \n",
       "42       relu  0.729627  \n",
       "54       relu  0.731774  "
      ]
     },
     "execution_count": 18,
     "metadata": {},
     "output_type": "execute_result"
    },
    {
     "data": {
      "application/javascript": [
       "\n",
       "            setTimeout(function() {\n",
       "                var nbb_cell_id = 18;\n",
       "                var nbb_unformatted_code = \"df_DRN_hyper_split_0[1].sort_values(\\\"score\\\").head()\";\n",
       "                var nbb_formatted_code = \"df_DRN_hyper_split_0[1].sort_values(\\\"score\\\").head()\";\n",
       "                var nbb_cells = Jupyter.notebook.get_cells();\n",
       "                for (var i = 0; i < nbb_cells.length; ++i) {\n",
       "                    if (nbb_cells[i].input_prompt_number == nbb_cell_id) {\n",
       "                        if (nbb_cells[i].get_text() == nbb_unformatted_code) {\n",
       "                             nbb_cells[i].set_text(nbb_formatted_code);\n",
       "                        }\n",
       "                        break;\n",
       "                    }\n",
       "                }\n",
       "            }, 500);\n",
       "            "
      ],
      "text/plain": [
       "<IPython.core.display.Javascript object>"
      ]
     },
     "metadata": {},
     "output_type": "display_data"
    }
   ],
   "source": [
    "df_DRN_hyper_split_0[1].sort_values(\"score\").head()"
   ]
  },
  {
   "cell_type": "code",
   "execution_count": 17,
   "id": "ddb55082",
   "metadata": {},
   "outputs": [
    {
     "data": {
      "text/html": [
       "<div>\n",
       "<style scoped>\n",
       "    .dataframe tbody tr th:only-of-type {\n",
       "        vertical-align: middle;\n",
       "    }\n",
       "\n",
       "    .dataframe tbody tr th {\n",
       "        vertical-align: top;\n",
       "    }\n",
       "\n",
       "    .dataframe thead th {\n",
       "        text-align: right;\n",
       "    }\n",
       "</style>\n",
       "<table border=\"1\" class=\"dataframe\">\n",
       "  <thead>\n",
       "    <tr style=\"text-align: right;\">\n",
       "      <th></th>\n",
       "      <th>lead_time</th>\n",
       "      <th>hidden_layer</th>\n",
       "      <th>emb_size</th>\n",
       "      <th>batch_size</th>\n",
       "      <th>epochs</th>\n",
       "      <th>lr</th>\n",
       "      <th>optimizer</th>\n",
       "      <th>activation</th>\n",
       "      <th>score</th>\n",
       "    </tr>\n",
       "  </thead>\n",
       "  <tbody>\n",
       "    <tr>\n",
       "      <th>73</th>\n",
       "      <td>30</td>\n",
       "      <td>[]</td>\n",
       "      <td>5</td>\n",
       "      <td>512</td>\n",
       "      <td>10</td>\n",
       "      <td>0.01</td>\n",
       "      <td>Adam</td>\n",
       "      <td>relu</td>\n",
       "      <td>1.121562</td>\n",
       "    </tr>\n",
       "    <tr>\n",
       "      <th>81</th>\n",
       "      <td>30</td>\n",
       "      <td>[]</td>\n",
       "      <td>5</td>\n",
       "      <td>4096</td>\n",
       "      <td>10</td>\n",
       "      <td>0.10</td>\n",
       "      <td>Adam</td>\n",
       "      <td>relu</td>\n",
       "      <td>1.122448</td>\n",
       "    </tr>\n",
       "    <tr>\n",
       "      <th>85</th>\n",
       "      <td>30</td>\n",
       "      <td>[]</td>\n",
       "      <td>10</td>\n",
       "      <td>512</td>\n",
       "      <td>10</td>\n",
       "      <td>0.01</td>\n",
       "      <td>Adam</td>\n",
       "      <td>relu</td>\n",
       "      <td>1.122678</td>\n",
       "    </tr>\n",
       "    <tr>\n",
       "      <th>97</th>\n",
       "      <td>30</td>\n",
       "      <td>[]</td>\n",
       "      <td>20</td>\n",
       "      <td>512</td>\n",
       "      <td>10</td>\n",
       "      <td>0.01</td>\n",
       "      <td>Adam</td>\n",
       "      <td>relu</td>\n",
       "      <td>1.125796</td>\n",
       "    </tr>\n",
       "    <tr>\n",
       "      <th>75</th>\n",
       "      <td>30</td>\n",
       "      <td>[]</td>\n",
       "      <td>5</td>\n",
       "      <td>1024</td>\n",
       "      <td>10</td>\n",
       "      <td>0.10</td>\n",
       "      <td>Adam</td>\n",
       "      <td>relu</td>\n",
       "      <td>1.127924</td>\n",
       "    </tr>\n",
       "  </tbody>\n",
       "</table>\n",
       "</div>"
      ],
      "text/plain": [
       "    lead_time hidden_layer  emb_size  batch_size  epochs    lr optimizer  \\\n",
       "73         30           []         5         512      10  0.01      Adam   \n",
       "81         30           []         5        4096      10  0.10      Adam   \n",
       "85         30           []        10         512      10  0.01      Adam   \n",
       "97         30           []        20         512      10  0.01      Adam   \n",
       "75         30           []         5        1024      10  0.10      Adam   \n",
       "\n",
       "   activation     score  \n",
       "73       relu  1.121562  \n",
       "81       relu  1.122448  \n",
       "85       relu  1.122678  \n",
       "97       relu  1.125796  \n",
       "75       relu  1.127924  "
      ]
     },
     "execution_count": 17,
     "metadata": {},
     "output_type": "execute_result"
    },
    {
     "data": {
      "application/javascript": [
       "\n",
       "            setTimeout(function() {\n",
       "                var nbb_cell_id = 17;\n",
       "                var nbb_unformatted_code = \"df_DRN_hyper_split_0[2].sort_values(\\\"score\\\").head()\";\n",
       "                var nbb_formatted_code = \"df_DRN_hyper_split_0[2].sort_values(\\\"score\\\").head()\";\n",
       "                var nbb_cells = Jupyter.notebook.get_cells();\n",
       "                for (var i = 0; i < nbb_cells.length; ++i) {\n",
       "                    if (nbb_cells[i].input_prompt_number == nbb_cell_id) {\n",
       "                        if (nbb_cells[i].get_text() == nbb_unformatted_code) {\n",
       "                             nbb_cells[i].set_text(nbb_formatted_code);\n",
       "                        }\n",
       "                        break;\n",
       "                    }\n",
       "                }\n",
       "            }, 500);\n",
       "            "
      ],
      "text/plain": [
       "<IPython.core.display.Javascript object>"
      ]
     },
     "metadata": {},
     "output_type": "display_data"
    }
   ],
   "source": [
    "df_DRN_hyper_split_0[2].sort_values(\"score\").head()"
   ]
  }
 ],
 "metadata": {
  "kernelspec": {
   "display_name": "Python 3 (ipykernel)",
   "language": "python",
   "name": "python3"
  },
  "language_info": {
   "codemirror_mode": {
    "name": "ipython",
    "version": 3
   },
   "file_extension": ".py",
   "mimetype": "text/x-python",
   "name": "python",
   "nbconvert_exporter": "python",
   "pygments_lexer": "ipython3",
   "version": "3.9.7"
  }
 },
 "nbformat": 4,
 "nbformat_minor": 5
}
