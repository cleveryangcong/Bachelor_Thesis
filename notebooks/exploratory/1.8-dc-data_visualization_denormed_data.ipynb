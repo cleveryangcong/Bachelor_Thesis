{
 "cells": [
  {
   "cell_type": "code",
   "execution_count": 1,
   "id": "48c76719",
   "metadata": {},
   "outputs": [
    {
     "data": {
      "application/javascript": [
       "\n",
       "            setTimeout(function() {\n",
       "                var nbb_cell_id = 1;\n",
       "                var nbb_unformatted_code = \"%load_ext nb_black\";\n",
       "                var nbb_formatted_code = \"%load_ext nb_black\";\n",
       "                var nbb_cells = Jupyter.notebook.get_cells();\n",
       "                for (var i = 0; i < nbb_cells.length; ++i) {\n",
       "                    if (nbb_cells[i].input_prompt_number == nbb_cell_id) {\n",
       "                        if (nbb_cells[i].get_text() == nbb_unformatted_code) {\n",
       "                             nbb_cells[i].set_text(nbb_formatted_code);\n",
       "                        }\n",
       "                        break;\n",
       "                    }\n",
       "                }\n",
       "            }, 500);\n",
       "            "
      ],
      "text/plain": [
       "<IPython.core.display.Javascript object>"
      ]
     },
     "metadata": {},
     "output_type": "display_data"
    }
   ],
   "source": [
    "%load_ext nb_black"
   ]
  },
  {
   "cell_type": "code",
   "execution_count": 2,
   "id": "128a8983",
   "metadata": {},
   "outputs": [
    {
     "data": {
      "application/javascript": [
       "\n",
       "            setTimeout(function() {\n",
       "                var nbb_cell_id = 2;\n",
       "                var nbb_unformatted_code = \"# Basics\\nimport pandas as pd\\nimport numpy as np\\nimport matplotlib.pyplot as plt\\n\\n# Data\\nimport xarray as xr\\nimport h5py\\n\\n# Visualization\\nimport matplotlib.pyplot as plt\\nimport seaborn as sns\\n\\n# Helpful\\nimport time\\nimport datetime\\nimport random\\n\\n# My Methods\\nimport importlib\\nimport data.raw.load_data_raw as ldr\\nimport data.processed.load_data_processed as ldp\\nimport data.processed.load_data_processed_denormed as ldpd\";\n",
       "                var nbb_formatted_code = \"# Basics\\nimport pandas as pd\\nimport numpy as np\\nimport matplotlib.pyplot as plt\\n\\n# Data\\nimport xarray as xr\\nimport h5py\\n\\n# Visualization\\nimport matplotlib.pyplot as plt\\nimport seaborn as sns\\n\\n# Helpful\\nimport time\\nimport datetime\\nimport random\\n\\n# My Methods\\nimport importlib\\nimport data.raw.load_data_raw as ldr\\nimport data.processed.load_data_processed as ldp\\nimport data.processed.load_data_processed_denormed as ldpd\";\n",
       "                var nbb_cells = Jupyter.notebook.get_cells();\n",
       "                for (var i = 0; i < nbb_cells.length; ++i) {\n",
       "                    if (nbb_cells[i].input_prompt_number == nbb_cell_id) {\n",
       "                        if (nbb_cells[i].get_text() == nbb_unformatted_code) {\n",
       "                             nbb_cells[i].set_text(nbb_formatted_code);\n",
       "                        }\n",
       "                        break;\n",
       "                    }\n",
       "                }\n",
       "            }, 500);\n",
       "            "
      ],
      "text/plain": [
       "<IPython.core.display.Javascript object>"
      ]
     },
     "metadata": {},
     "output_type": "display_data"
    }
   ],
   "source": [
    "# Basics\n",
    "import pandas as pd\n",
    "import numpy as np\n",
    "import matplotlib.pyplot as plt\n",
    "\n",
    "# Data\n",
    "import xarray as xr\n",
    "import h5py\n",
    "\n",
    "# Visualization\n",
    "import matplotlib.pyplot as plt\n",
    "import seaborn as sns\n",
    "\n",
    "# Helpful\n",
    "import time\n",
    "import datetime\n",
    "import random\n",
    "\n",
    "# My Methods\n",
    "import importlib\n",
    "import data.raw.load_data_raw as ldr\n",
    "import data.processed.load_data_processed as ldp\n",
    "import data.processed.load_data_processed_denormed as ldpd"
   ]
  },
  {
   "cell_type": "markdown",
   "id": "3d8cac58",
   "metadata": {},
   "source": [
    "### 0. Basics"
   ]
  },
  {
   "cell_type": "code",
   "execution_count": 6,
   "id": "69a4e201",
   "metadata": {},
   "outputs": [
    {
     "data": {
      "application/javascript": [
       "\n",
       "            setTimeout(function() {\n",
       "                var nbb_cell_id = 6;\n",
       "                var nbb_unformatted_code = \"var_names = ['u10','v10', 't2m', 't850', 'z500', 'ws10']\";\n",
       "                var nbb_formatted_code = \"var_names = [\\\"u10\\\", \\\"v10\\\", \\\"t2m\\\", \\\"t850\\\", \\\"z500\\\", \\\"ws10\\\"]\";\n",
       "                var nbb_cells = Jupyter.notebook.get_cells();\n",
       "                for (var i = 0; i < nbb_cells.length; ++i) {\n",
       "                    if (nbb_cells[i].input_prompt_number == nbb_cell_id) {\n",
       "                        if (nbb_cells[i].get_text() == nbb_unformatted_code) {\n",
       "                             nbb_cells[i].set_text(nbb_formatted_code);\n",
       "                        }\n",
       "                        break;\n",
       "                    }\n",
       "                }\n",
       "            }, 500);\n",
       "            "
      ],
      "text/plain": [
       "<IPython.core.display.Javascript object>"
      ]
     },
     "metadata": {},
     "output_type": "display_data"
    }
   ],
   "source": [
    "var_names = [\"u10\", \"v10\", \"t2m\", \"t850\", \"z500\", \"ws10\"]"
   ]
  },
  {
   "cell_type": "code",
   "execution_count": 10,
   "id": "437917ee",
   "metadata": {},
   "outputs": [
    {
     "data": {
      "application/javascript": [
       "\n",
       "            setTimeout(function() {\n",
       "                var nbb_cell_id = 10;\n",
       "                var nbb_unformatted_code = \"# setup:\\nran_lat = random.randint(0, 119)\\nran_lon = random.randint(0, 129)\\nran_forecast_date = random.randint(0, 1428)\\nlead_times = [1, 15, 31] # Lead times to plot boxplot with\";\n",
       "                var nbb_formatted_code = \"# setup:\\nran_lat = random.randint(0, 119)\\nran_lon = random.randint(0, 129)\\nran_forecast_date = random.randint(0, 1428)\\nlead_times = [1, 15, 31]  # Lead times to plot boxplot with\";\n",
       "                var nbb_cells = Jupyter.notebook.get_cells();\n",
       "                for (var i = 0; i < nbb_cells.length; ++i) {\n",
       "                    if (nbb_cells[i].input_prompt_number == nbb_cell_id) {\n",
       "                        if (nbb_cells[i].get_text() == nbb_unformatted_code) {\n",
       "                             nbb_cells[i].set_text(nbb_formatted_code);\n",
       "                        }\n",
       "                        break;\n",
       "                    }\n",
       "                }\n",
       "            }, 500);\n",
       "            "
      ],
      "text/plain": [
       "<IPython.core.display.Javascript object>"
      ]
     },
     "metadata": {},
     "output_type": "display_data"
    }
   ],
   "source": [
    "# setup:\n",
    "ran_lat = random.randint(0, 119)\n",
    "ran_lon = random.randint(0, 129)\n",
    "ran_forecast_date = random.randint(0, 1428)\n",
    "lead_times = [1, 15, 31]  # Lead times to plot boxplot with"
   ]
  },
  {
   "cell_type": "markdown",
   "id": "83627839",
   "metadata": {},
   "source": [
    "### 1. Load Data"
   ]
  },
  {
   "cell_type": "code",
   "execution_count": 3,
   "id": "54406164",
   "metadata": {},
   "outputs": [
    {
     "data": {
      "application/javascript": [
       "\n",
       "            setTimeout(function() {\n",
       "                var nbb_cell_id = 3;\n",
       "                var nbb_unformatted_code = \"dat_train_norm = ldp.load_data_all_train_proc_norm()\\ndat_test_norm = ldp.load_data_all_test_proc_norm()\\ndat_train_denorm = ldpd.load_data_all_train_proc_denorm()\\ndat_test_denorm = ldpd.load_data_all_test_proc_denorm()\\ndat_raw = ldr.load_data_raw()\";\n",
       "                var nbb_formatted_code = \"dat_train_norm = ldp.load_data_all_train_proc_norm()\\ndat_test_norm = ldp.load_data_all_test_proc_norm()\\ndat_train_denorm = ldpd.load_data_all_train_proc_denorm()\\ndat_test_denorm = ldpd.load_data_all_test_proc_denorm()\\ndat_raw = ldr.load_data_raw()\";\n",
       "                var nbb_cells = Jupyter.notebook.get_cells();\n",
       "                for (var i = 0; i < nbb_cells.length; ++i) {\n",
       "                    if (nbb_cells[i].input_prompt_number == nbb_cell_id) {\n",
       "                        if (nbb_cells[i].get_text() == nbb_unformatted_code) {\n",
       "                             nbb_cells[i].set_text(nbb_formatted_code);\n",
       "                        }\n",
       "                        break;\n",
       "                    }\n",
       "                }\n",
       "            }, 500);\n",
       "            "
      ],
      "text/plain": [
       "<IPython.core.display.Javascript object>"
      ]
     },
     "metadata": {},
     "output_type": "display_data"
    }
   ],
   "source": [
    "dat_train_norm = ldp.load_data_all_train_proc_norm()\n",
    "dat_test_norm = ldp.load_data_all_test_proc_norm()\n",
    "dat_train_denorm = ldpd.load_data_all_train_proc_denorm()\n",
    "dat_test_denorm = ldpd.load_data_all_test_proc_denorm()\n",
    "dat_raw = ldr.load_data_raw()"
   ]
  },
  {
   "cell_type": "markdown",
   "id": "6d78f528",
   "metadata": {},
   "source": [
    "### 2. Boxplot Denormed mean and std"
   ]
  },
  {
   "cell_type": "markdown",
   "id": "ead09825",
   "metadata": {},
   "source": [
    "#### 2.1 Boxplot for t2m"
   ]
  },
  {
   "cell_type": "code",
   "execution_count": 18,
   "id": "a3430951",
   "metadata": {},
   "outputs": [
    {
     "data": {
      "application/javascript": [
       "\n",
       "            setTimeout(function() {\n",
       "                var nbb_cell_id = 18;\n",
       "                var nbb_unformatted_code = \"dat_train_denorm_t2m =  dat_train_denorm[2]\";\n",
       "                var nbb_formatted_code = \"dat_train_denorm_t2m = dat_train_denorm[2]\";\n",
       "                var nbb_cells = Jupyter.notebook.get_cells();\n",
       "                for (var i = 0; i < nbb_cells.length; ++i) {\n",
       "                    if (nbb_cells[i].input_prompt_number == nbb_cell_id) {\n",
       "                        if (nbb_cells[i].get_text() == nbb_unformatted_code) {\n",
       "                             nbb_cells[i].set_text(nbb_formatted_code);\n",
       "                        }\n",
       "                        break;\n",
       "                    }\n",
       "                }\n",
       "            }, 500);\n",
       "            "
      ],
      "text/plain": [
       "<IPython.core.display.Javascript object>"
      ]
     },
     "metadata": {},
     "output_type": "display_data"
    }
   ],
   "source": [
    "dat_train_denorm_t2m = dat_train_denorm[2]"
   ]
  },
  {
   "cell_type": "code",
   "execution_count": 25,
   "id": "6e2724a0",
   "metadata": {},
   "outputs": [
    {
     "data": {
      "application/javascript": [
       "\n",
       "            setTimeout(function() {\n",
       "                var nbb_cell_id = 25;\n",
       "                var nbb_unformatted_code = \"# The values of the mean and stds\\nmeans_t2m = dat_train_denorm_t2m.t2m_train.isel(\\n    lat=ran_lat, lon=ran_lon, lead_time=lead_times, mean_std=0\\n)\\nstds_t2m = dat_train_denorm_t2m.t2m_train.isel(\\n    lat=ran_lat, lon=ran_lon, lead_time=lead_times, mean_std=1\\n)\";\n",
       "                var nbb_formatted_code = \"# The values of the mean and stds\\nmeans_t2m = dat_train_denorm_t2m.t2m_train.isel(\\n    lat=ran_lat, lon=ran_lon, lead_time=lead_times, mean_std=0\\n)\\nstds_t2m = dat_train_denorm_t2m.t2m_train.isel(\\n    lat=ran_lat, lon=ran_lon, lead_time=lead_times, mean_std=1\\n)\";\n",
       "                var nbb_cells = Jupyter.notebook.get_cells();\n",
       "                for (var i = 0; i < nbb_cells.length; ++i) {\n",
       "                    if (nbb_cells[i].input_prompt_number == nbb_cell_id) {\n",
       "                        if (nbb_cells[i].get_text() == nbb_unformatted_code) {\n",
       "                             nbb_cells[i].set_text(nbb_formatted_code);\n",
       "                        }\n",
       "                        break;\n",
       "                    }\n",
       "                }\n",
       "            }, 500);\n",
       "            "
      ],
      "text/plain": [
       "<IPython.core.display.Javascript object>"
      ]
     },
     "metadata": {},
     "output_type": "display_data"
    }
   ],
   "source": [
    "# The values of the mean and stds\n",
    "means_t2m = dat_train_denorm_t2m.t2m_train.isel(\n",
    "    lat=ran_lat, lon=ran_lon, lead_time=lead_times, mean_std=0\n",
    ")\n",
    "stds_t2m = dat_train_denorm_t2m.t2m_train.isel(\n",
    "    lat=ran_lat, lon=ran_lon, lead_time=lead_times, mean_std=1\n",
    ")"
   ]
  },
  {
   "cell_type": "code",
   "execution_count": 46,
   "id": "db561903",
   "metadata": {},
   "outputs": [
    {
     "data": {
      "image/png": "[encoded data removed]",
      "text/plain": [
       "<Figure size 1080x720 with 2 Axes>"
      ]
     },
     "metadata": {
      "needs_background": "light"
     },
     "output_type": "display_data"
    },
    {
     "data": {
      "application/javascript": [
       "\n",
       "            setTimeout(function() {\n",
       "                var nbb_cell_id = 46;\n",
       "                var nbb_unformatted_code = \"fig, axs = plt.subplots(2, 1, figsize=(15, 10))\\n\\n# Create an empty lists to store the data for each boxplot\\nboxplot_means = []\\nboxplot_stds = []\\n\\n# Fill the list with data\\nfor i in range(3):\\n    boxplot_means.append(means_t2m.isel(lead_time=i))\\n    boxplot_stds.append(stds_t2m.isel(lead_time=i))\\n\\n# Create boxplots from the data list\\naxs[0].boxplot(boxplot_means)\\naxs[1].boxplot(boxplot_stds)\\n\\n# Add x-axis labels if necessary\\naxs[0].set_xticklabels(['Lead Time 0', 'Lead Time 15', 'Lead Time 31'])\\naxs[0].set_title('Mean (Kelvin)')\\n\\naxs[1].set_xticklabels(['Lead Time 0', 'Lead Time 15', 'Lead Time 31'])\\naxs[1].set_title('Standard Deviation (Kelvin)')\\n\\nplt.show()\";\n",
       "                var nbb_formatted_code = \"fig, axs = plt.subplots(2, 1, figsize=(15, 10))\\n\\n# Create an empty lists to store the data for each boxplot\\nboxplot_means = []\\nboxplot_stds = []\\n\\n# Fill the list with data\\nfor i in range(3):\\n    boxplot_means.append(means_t2m.isel(lead_time=i))\\n    boxplot_stds.append(stds_t2m.isel(lead_time=i))\\n\\n# Create boxplots from the data list\\naxs[0].boxplot(boxplot_means)\\naxs[1].boxplot(boxplot_stds)\\n\\n# Add x-axis labels if necessary\\naxs[0].set_xticklabels([\\\"Lead Time 0\\\", \\\"Lead Time 15\\\", \\\"Lead Time 31\\\"])\\naxs[0].set_title(\\\"Mean (Kelvin)\\\")\\n\\naxs[1].set_xticklabels([\\\"Lead Time 0\\\", \\\"Lead Time 15\\\", \\\"Lead Time 31\\\"])\\naxs[1].set_title(\\\"Standard Deviation (Kelvin)\\\")\\n\\nplt.show()\";\n",
       "                var nbb_cells = Jupyter.notebook.get_cells();\n",
       "                for (var i = 0; i < nbb_cells.length; ++i) {\n",
       "                    if (nbb_cells[i].input_prompt_number == nbb_cell_id) {\n",
       "                        if (nbb_cells[i].get_text() == nbb_unformatted_code) {\n",
       "                             nbb_cells[i].set_text(nbb_formatted_code);\n",
       "                        }\n",
       "                        break;\n",
       "                    }\n",
       "                }\n",
       "            }, 500);\n",
       "            "
      ],
      "text/plain": [
       "<IPython.core.display.Javascript object>"
      ]
     },
     "metadata": {},
     "output_type": "display_data"
    }
   ],
   "source": [
    "fig, axs = plt.subplots(2, 1, figsize=(15, 10))\n",
    "\n",
    "# Create an empty lists to store the data for each boxplot\n",
    "boxplot_means = []\n",
    "boxplot_stds = []\n",
    "\n",
    "# Fill the list with data\n",
    "for i in range(3):\n",
    "    boxplot_means.append(means_t2m.isel(lead_time=i))\n",
    "    boxplot_stds.append(stds_t2m.isel(lead_time=i))\n",
    "\n",
    "# Create boxplots from the data list\n",
    "axs[0].boxplot(boxplot_means)\n",
    "axs[1].boxplot(boxplot_stds)\n",
    "\n",
    "# Add x-axis labels if necessary\n",
    "axs[0].set_xticklabels([\"Lead Time 0\", \"Lead Time 15\", \"Lead Time 31\"])\n",
    "axs[0].set_title(\"Mean (Kelvin)\")\n",
    "\n",
    "axs[1].set_xticklabels([\"Lead Time 0\", \"Lead Time 15\", \"Lead Time 31\"])\n",
    "axs[1].set_title(\"Standard Deviation (Kelvin)\")\n",
    "\n",
    "plt.show()"
   ]
  },
  {
   "cell_type": "markdown",
   "id": "b17027a6",
   "metadata": {},
   "source": [
    "#### 2.2 Boxplot for ws10"
   ]
  },
  {
   "cell_type": "code",
   "execution_count": 47,
   "id": "8ed6b609",
   "metadata": {},
   "outputs": [
    {
     "data": {
      "application/javascript": [
       "\n",
       "            setTimeout(function() {\n",
       "                var nbb_cell_id = 47;\n",
       "                var nbb_unformatted_code = \"dat_train_denorm_ws10 = dat_train_denorm[5]\";\n",
       "                var nbb_formatted_code = \"dat_train_denorm_ws10 = dat_train_denorm[5]\";\n",
       "                var nbb_cells = Jupyter.notebook.get_cells();\n",
       "                for (var i = 0; i < nbb_cells.length; ++i) {\n",
       "                    if (nbb_cells[i].input_prompt_number == nbb_cell_id) {\n",
       "                        if (nbb_cells[i].get_text() == nbb_unformatted_code) {\n",
       "                             nbb_cells[i].set_text(nbb_formatted_code);\n",
       "                        }\n",
       "                        break;\n",
       "                    }\n",
       "                }\n",
       "            }, 500);\n",
       "            "
      ],
      "text/plain": [
       "<IPython.core.display.Javascript object>"
      ]
     },
     "metadata": {},
     "output_type": "display_data"
    }
   ],
   "source": [
    "dat_train_denorm_ws10 = dat_train_denorm[5]"
   ]
  },
  {
   "cell_type": "code",
   "execution_count": 49,
   "id": "ce879921",
   "metadata": {},
   "outputs": [
    {
     "data": {
      "application/javascript": [
       "\n",
       "            setTimeout(function() {\n",
       "                var nbb_cell_id = 49;\n",
       "                var nbb_unformatted_code = \"# The values of the mean and stds\\nmeans_ws10 = dat_train_denorm_ws10.ws10_train.isel(\\n    lat=ran_lat, lon=ran_lon, lead_time=lead_times, mean_std=0\\n)\\nstds_ws10 = dat_train_denorm_ws10.ws10_train.isel(\\n    lat=ran_lat, lon=ran_lon, lead_time=lead_times, mean_std=1\\n)\";\n",
       "                var nbb_formatted_code = \"# The values of the mean and stds\\nmeans_ws10 = dat_train_denorm_ws10.ws10_train.isel(\\n    lat=ran_lat, lon=ran_lon, lead_time=lead_times, mean_std=0\\n)\\nstds_ws10 = dat_train_denorm_ws10.ws10_train.isel(\\n    lat=ran_lat, lon=ran_lon, lead_time=lead_times, mean_std=1\\n)\";\n",
       "                var nbb_cells = Jupyter.notebook.get_cells();\n",
       "                for (var i = 0; i < nbb_cells.length; ++i) {\n",
       "                    if (nbb_cells[i].input_prompt_number == nbb_cell_id) {\n",
       "                        if (nbb_cells[i].get_text() == nbb_unformatted_code) {\n",
       "                             nbb_cells[i].set_text(nbb_formatted_code);\n",
       "                        }\n",
       "                        break;\n",
       "                    }\n",
       "                }\n",
       "            }, 500);\n",
       "            "
      ],
      "text/plain": [
       "<IPython.core.display.Javascript object>"
      ]
     },
     "metadata": {},
     "output_type": "display_data"
    }
   ],
   "source": [
    "# The values of the mean and stds\n",
    "means_ws10 = dat_train_denorm_ws10.ws10_train.isel(\n",
    "    lat=ran_lat, lon=ran_lon, lead_time=lead_times, mean_std=0\n",
    ")\n",
    "stds_ws10 = dat_train_denorm_ws10.ws10_train.isel(\n",
    "    lat=ran_lat, lon=ran_lon, lead_time=lead_times, mean_std=1\n",
    ")"
   ]
  },
  {
   "cell_type": "code",
   "execution_count": 54,
   "id": "1814fd8e",
   "metadata": {},
   "outputs": [
    {
     "data": {
      "image/png": "[encoded data removed]",
      "text/plain": [
       "<Figure size 1080x720 with 2 Axes>"
      ]
     },
     "metadata": {
      "needs_background": "light"
     },
     "output_type": "display_data"
    },
    {
     "data": {
      "application/javascript": [
       "\n",
       "            setTimeout(function() {\n",
       "                var nbb_cell_id = 54;\n",
       "                var nbb_unformatted_code = \"fig, axs = plt.subplots(2, 1, figsize=(15, 10))\\n\\n# Create an empty lists to store the data for each boxplot\\nboxplot_means = []\\nboxplot_stds = []\\n\\n# Fill the list with data\\nfor i in range(3):\\n    boxplot_means.append(means_ws10.isel(lead_time=i))\\n    boxplot_stds.append(stds_ws10.isel(lead_time=i))\\n\\n# Create boxplots from the data list\\naxs[0].boxplot(boxplot_means)\\naxs[1].boxplot(boxplot_stds)\\n\\n# Add x-axis labels if necessary\\naxs[0].set_xticklabels([\\\"Lead Time 0\\\", \\\"Lead Time 15\\\", \\\"Lead Time 31\\\"])\\naxs[0].set_title(\\\"Mean (m/s)\\\")\\n\\naxs[1].set_xticklabels([\\\"Lead Time 0\\\", \\\"Lead Time 15\\\", \\\"Lead Time 31\\\"])\\naxs[1].set_title(\\\"Standard Deviation (m/s)\\\")\\n\\nplt.show()\";\n",
       "                var nbb_formatted_code = \"fig, axs = plt.subplots(2, 1, figsize=(15, 10))\\n\\n# Create an empty lists to store the data for each boxplot\\nboxplot_means = []\\nboxplot_stds = []\\n\\n# Fill the list with data\\nfor i in range(3):\\n    boxplot_means.append(means_ws10.isel(lead_time=i))\\n    boxplot_stds.append(stds_ws10.isel(lead_time=i))\\n\\n# Create boxplots from the data list\\naxs[0].boxplot(boxplot_means)\\naxs[1].boxplot(boxplot_stds)\\n\\n# Add x-axis labels if necessary\\naxs[0].set_xticklabels([\\\"Lead Time 0\\\", \\\"Lead Time 15\\\", \\\"Lead Time 31\\\"])\\naxs[0].set_title(\\\"Mean (m/s)\\\")\\n\\naxs[1].set_xticklabels([\\\"Lead Time 0\\\", \\\"Lead Time 15\\\", \\\"Lead Time 31\\\"])\\naxs[1].set_title(\\\"Standard Deviation (m/s)\\\")\\n\\nplt.show()\";\n",
       "                var nbb_cells = Jupyter.notebook.get_cells();\n",
       "                for (var i = 0; i < nbb_cells.length; ++i) {\n",
       "                    if (nbb_cells[i].input_prompt_number == nbb_cell_id) {\n",
       "                        if (nbb_cells[i].get_text() == nbb_unformatted_code) {\n",
       "                             nbb_cells[i].set_text(nbb_formatted_code);\n",
       "                        }\n",
       "                        break;\n",
       "                    }\n",
       "                }\n",
       "            }, 500);\n",
       "            "
      ],
      "text/plain": [
       "<IPython.core.display.Javascript object>"
      ]
     },
     "metadata": {},
     "output_type": "display_data"
    }
   ],
   "source": [
    "fig, axs = plt.subplots(2, 1, figsize=(15, 10))\n",
    "\n",
    "# Create an empty lists to store the data for each boxplot\n",
    "boxplot_means = []\n",
    "boxplot_stds = []\n",
    "\n",
    "# Fill the list with data\n",
    "for i in range(3):\n",
    "    boxplot_means.append(means_ws10.isel(lead_time=i))\n",
    "    boxplot_stds.append(stds_ws10.isel(lead_time=i))\n",
    "\n",
    "# Create boxplots from the data list\n",
    "axs[0].boxplot(boxplot_means)\n",
    "axs[1].boxplot(boxplot_stds)\n",
    "\n",
    "# Add x-axis labels if necessary\n",
    "axs[0].set_xticklabels([\"Lead Time 0\", \"Lead Time 15\", \"Lead Time 31\"])\n",
    "axs[0].set_title(\"Mean (m/s)\")\n",
    "\n",
    "axs[1].set_xticklabels([\"Lead Time 0\", \"Lead Time 15\", \"Lead Time 31\"])\n",
    "axs[1].set_title(\"Standard Deviation (m/s)\")\n",
    "\n",
    "plt.show()"
   ]
  },
  {
   "cell_type": "code",
   "execution_count": null,
   "id": "df4579d1",
   "metadata": {},
   "outputs": [],
   "source": []
  }
 ],
 "metadata": {
  "kernelspec": {
   "display_name": "Python 3 (ipykernel)",
   "language": "python",
   "name": "python3"
  },
  "language_info": {
   "codemirror_mode": {
    "name": "ipython",
    "version": 3
   },
   "file_extension": ".py",
   "mimetype": "text/x-python",
   "name": "python",
   "nbconvert_exporter": "python",
   "pygments_lexer": "ipython3",
   "version": "3.9.7"
  }
 },
 "nbformat": 4,
 "nbformat_minor": 5
}
