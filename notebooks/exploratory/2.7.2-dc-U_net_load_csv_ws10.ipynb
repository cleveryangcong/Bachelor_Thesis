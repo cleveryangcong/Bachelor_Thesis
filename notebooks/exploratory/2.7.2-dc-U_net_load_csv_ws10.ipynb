{
 "cells": [
  {
   "cell_type": "code",
   "execution_count": 1,
   "id": "3c54516a",
   "metadata": {},
   "outputs": [
    {
     "data": {
      "application/javascript": [
       "\n",
       "            setTimeout(function() {\n",
       "                var nbb_cell_id = 1;\n",
       "                var nbb_unformatted_code = \"%load_ext nb_black\";\n",
       "                var nbb_formatted_code = \"%load_ext nb_black\";\n",
       "                var nbb_cells = Jupyter.notebook.get_cells();\n",
       "                for (var i = 0; i < nbb_cells.length; ++i) {\n",
       "                    if (nbb_cells[i].input_prompt_number == nbb_cell_id) {\n",
       "                        if (nbb_cells[i].get_text() == nbb_unformatted_code) {\n",
       "                             nbb_cells[i].set_text(nbb_formatted_code);\n",
       "                        }\n",
       "                        break;\n",
       "                    }\n",
       "                }\n",
       "            }, 500);\n",
       "            "
      ],
      "text/plain": [
       "<IPython.core.display.Javascript object>"
      ]
     },
     "metadata": {},
     "output_type": "display_data"
    }
   ],
   "source": [
    "%load_ext nb_black"
   ]
  },
  {
   "cell_type": "code",
   "execution_count": 24,
   "id": "72d114f1",
   "metadata": {
    "scrolled": false
   },
   "outputs": [
    {
     "data": {
      "application/javascript": [
       "\n",
       "            setTimeout(function() {\n",
       "                var nbb_cell_id = 24;\n",
       "                var nbb_unformatted_code = \"import sys\\n\\nsys.path.append(\\\"/home/dchen/BA_CH_EN/\\\")\\n\\n\\nimport os\\n\\nos.environ[\\n    \\\"CUDA_VISIBLE_DEVICES\\\"\\n] = \\\"-1\\\"  # this line tells TensorFlow not to use any GPU\\n# Basics\\nimport tensorflow as tf\\nimport xarray as xr\\nimport pandas as pd\\n\\n# Helpful\\nfrom tqdm import tqdm\\n\\n# Visualization\\nimport matplotlib.pyplot as plt\\n\\n# My Methods\\nfrom src.utils.CRPS import *  # CRPS metrics\\nfrom src.utils.data_split import *  # Splitting data into X and y\\nfrom src.utils.drn_make_X_array import *  # Import make train array functions (make_X_array)\\nfrom src.models.EMOS import *  # EMOS implementation\\nfrom src.models.DRN.DRN_model import *  # DRN implementation\\nfrom src.models.EMOS_global.EMOS_global_load_score import *  # Load EMOS_global_scores\\nfrom src.models.EMOS_local.EMOS_local_load_score import *  # Load EMOS_global_scores\\nfrom src.models.DRN.DRN_load_score import *  # Load DRN_scores\\nfrom src.models.EMOS_global.EMOS_global_load_model import *  # Load EMOS_global_models\\nfrom src.models.DRN.DRN_load_score_dummy_10 import *  # Load DRN_scores_10\\nimport data.raw.load_data_raw as ldr  # Load raw data\\nimport data.processed.load_data_processed as ldp  # Load processed data normed\\nimport data.processed.load_data_processed_denormed as ldpd  # Load processed data denormed\\nfrom src.models.CRPS_baseline.CRPS_load import *  # Load CRPS scores\\nfrom src.models.U_net.unet import Unet\\nfrom src.models.U_net.u_net_tests_params import *\\nfrom src.models.U_net.unet import *\\nfrom src.models.U_net.u_net_predict_evaluate import *\\nfrom src.models.U_net.u_net_load_score import *\";\n",
       "                var nbb_formatted_code = \"import sys\\n\\nsys.path.append(\\\"/home/dchen/BA_CH_EN/\\\")\\n\\n\\nimport os\\n\\nos.environ[\\n    \\\"CUDA_VISIBLE_DEVICES\\\"\\n] = \\\"-1\\\"  # this line tells TensorFlow not to use any GPU\\n# Basics\\nimport tensorflow as tf\\nimport xarray as xr\\nimport pandas as pd\\n\\n# Helpful\\nfrom tqdm import tqdm\\n\\n# Visualization\\nimport matplotlib.pyplot as plt\\n\\n# My Methods\\nfrom src.utils.CRPS import *  # CRPS metrics\\nfrom src.utils.data_split import *  # Splitting data into X and y\\nfrom src.utils.drn_make_X_array import *  # Import make train array functions (make_X_array)\\nfrom src.models.EMOS import *  # EMOS implementation\\nfrom src.models.DRN.DRN_model import *  # DRN implementation\\nfrom src.models.EMOS_global.EMOS_global_load_score import *  # Load EMOS_global_scores\\nfrom src.models.EMOS_local.EMOS_local_load_score import *  # Load EMOS_global_scores\\nfrom src.models.DRN.DRN_load_score import *  # Load DRN_scores\\nfrom src.models.EMOS_global.EMOS_global_load_model import *  # Load EMOS_global_models\\nfrom src.models.DRN.DRN_load_score_dummy_10 import *  # Load DRN_scores_10\\nimport data.raw.load_data_raw as ldr  # Load raw data\\nimport data.processed.load_data_processed as ldp  # Load processed data normed\\nimport data.processed.load_data_processed_denormed as ldpd  # Load processed data denormed\\nfrom src.models.CRPS_baseline.CRPS_load import *  # Load CRPS scores\\nfrom src.models.U_net.unet import Unet\\nfrom src.models.U_net.u_net_tests_params import *\\nfrom src.models.U_net.unet import *\\nfrom src.models.U_net.u_net_predict_evaluate import *\\nfrom src.models.U_net.u_net_load_score import *\";\n",
       "                var nbb_cells = Jupyter.notebook.get_cells();\n",
       "                for (var i = 0; i < nbb_cells.length; ++i) {\n",
       "                    if (nbb_cells[i].input_prompt_number == nbb_cell_id) {\n",
       "                        if (nbb_cells[i].get_text() == nbb_unformatted_code) {\n",
       "                             nbb_cells[i].set_text(nbb_formatted_code);\n",
       "                        }\n",
       "                        break;\n",
       "                    }\n",
       "                }\n",
       "            }, 500);\n",
       "            "
      ],
      "text/plain": [
       "<IPython.core.display.Javascript object>"
      ]
     },
     "metadata": {},
     "output_type": "display_data"
    }
   ],
   "source": [
    "import sys\n",
    "\n",
    "sys.path.append(\"/home/dchen/BA_CH_EN/\")\n",
    "\n",
    "\n",
    "import os\n",
    "\n",
    "os.environ[\n",
    "    \"CUDA_VISIBLE_DEVICES\"\n",
    "] = \"-1\"  # this line tells TensorFlow not to use any GPU\n",
    "# Basics\n",
    "import tensorflow as tf\n",
    "import xarray as xr\n",
    "import pandas as pd\n",
    "\n",
    "# Helpful\n",
    "from tqdm import tqdm\n",
    "\n",
    "# Visualization\n",
    "import matplotlib.pyplot as plt\n",
    "\n",
    "# My Methods\n",
    "from src.utils.CRPS import *  # CRPS metrics\n",
    "from src.utils.data_split import *  # Splitting data into X and y\n",
    "from src.utils.drn_make_X_array import *  # Import make train array functions (make_X_array)\n",
    "from src.models.EMOS import *  # EMOS implementation\n",
    "from src.models.DRN.DRN_model import *  # DRN implementation\n",
    "from src.models.EMOS_global.EMOS_global_load_score import *  # Load EMOS_global_scores\n",
    "from src.models.EMOS_local.EMOS_local_load_score import *  # Load EMOS_global_scores\n",
    "from src.models.DRN.DRN_load_score import *  # Load DRN_scores\n",
    "from src.models.EMOS_global.EMOS_global_load_model import *  # Load EMOS_global_models\n",
    "from src.models.DRN.DRN_load_score_dummy_10 import *  # Load DRN_scores_10\n",
    "import data.raw.load_data_raw as ldr  # Load raw data\n",
    "import data.processed.load_data_processed as ldp  # Load processed data normed\n",
    "import data.processed.load_data_processed_denormed as ldpd  # Load processed data denormed\n",
    "from src.models.CRPS_baseline.CRPS_load import *  # Load CRPS scores\n",
    "from src.models.U_net.unet import Unet\n",
    "from src.models.U_net.u_net_tests_params import *\n",
    "from src.models.U_net.unet import *\n",
    "from src.models.U_net.u_net_predict_evaluate import *\n",
    "from src.models.U_net.u_net_load_score import *"
   ]
  },
  {
   "cell_type": "markdown",
   "id": "5b6a2ff0",
   "metadata": {},
   "source": [
    "### 0. Set Up"
   ]
  },
  {
   "cell_type": "code",
   "execution_count": 3,
   "id": "d49c6878",
   "metadata": {},
   "outputs": [
    {
     "data": {
      "application/javascript": [
       "\n",
       "            setTimeout(function() {\n",
       "                var nbb_cell_id = 3;\n",
       "                var nbb_unformatted_code = \"lead_time = 0\\nvar_num = 5\\n\\nland_sea_mask_dummy = np.load(\\n    \\\"/Data/Delong_BA_Data/land_sea_mask_dummy/land_sea_mask_dummy.npy\\\"\\n)\\nland_sea_mask_dummy = pad_land_sea_mask(land_sea_mask_dummy)\\nland_sea_mask_dummy = np.repeat(land_sea_mask_dummy[np.newaxis, ...], 357, axis=0)\\n\\n# load data\\ntest_var_mean = []\\ntest_var_std = []\\ntest_var_y = []\\nfor var in range(6):\\n    (\\n        padded_test_data_mean,\\n        padded_test_data_std,\\n        padded_test_data_y,\\n    ) = u_net_load_test_data(var, lead_time)\\n    test_var_mean.append(padded_test_data_mean)\\n    test_var_std.append(padded_test_data_std)\\n    test_var_y.append(padded_test_data_y)\\n\\n# Then, pack all of your input data into a list\\ntest_inputs = test_var_mean + test_var_std + [land_sea_mask_dummy]\\n\\ntest_target = test_var_y[var_num]\";\n",
       "                var nbb_formatted_code = \"lead_time = 0\\nvar_num = 5\\n\\nland_sea_mask_dummy = np.load(\\n    \\\"/Data/Delong_BA_Data/land_sea_mask_dummy/land_sea_mask_dummy.npy\\\"\\n)\\nland_sea_mask_dummy = pad_land_sea_mask(land_sea_mask_dummy)\\nland_sea_mask_dummy = np.repeat(land_sea_mask_dummy[np.newaxis, ...], 357, axis=0)\\n\\n# load data\\ntest_var_mean = []\\ntest_var_std = []\\ntest_var_y = []\\nfor var in range(6):\\n    (\\n        padded_test_data_mean,\\n        padded_test_data_std,\\n        padded_test_data_y,\\n    ) = u_net_load_test_data(var, lead_time)\\n    test_var_mean.append(padded_test_data_mean)\\n    test_var_std.append(padded_test_data_std)\\n    test_var_y.append(padded_test_data_y)\\n\\n# Then, pack all of your input data into a list\\ntest_inputs = test_var_mean + test_var_std + [land_sea_mask_dummy]\\n\\ntest_target = test_var_y[var_num]\";\n",
       "                var nbb_cells = Jupyter.notebook.get_cells();\n",
       "                for (var i = 0; i < nbb_cells.length; ++i) {\n",
       "                    if (nbb_cells[i].input_prompt_number == nbb_cell_id) {\n",
       "                        if (nbb_cells[i].get_text() == nbb_unformatted_code) {\n",
       "                             nbb_cells[i].set_text(nbb_formatted_code);\n",
       "                        }\n",
       "                        break;\n",
       "                    }\n",
       "                }\n",
       "            }, 500);\n",
       "            "
      ],
      "text/plain": [
       "<IPython.core.display.Javascript object>"
      ]
     },
     "metadata": {},
     "output_type": "display_data"
    }
   ],
   "source": [
    "lead_time = 0\n",
    "var_num = 5\n",
    "\n",
    "land_sea_mask_dummy = np.load(\n",
    "    \"/Data/Delong_BA_Data/land_sea_mask_dummy/land_sea_mask_dummy.npy\"\n",
    ")\n",
    "land_sea_mask_dummy = pad_land_sea_mask(land_sea_mask_dummy)\n",
    "land_sea_mask_dummy = np.repeat(land_sea_mask_dummy[np.newaxis, ...], 357, axis=0)\n",
    "\n",
    "# load data\n",
    "test_var_mean = []\n",
    "test_var_std = []\n",
    "test_var_y = []\n",
    "for var in range(6):\n",
    "    (\n",
    "        padded_test_data_mean,\n",
    "        padded_test_data_std,\n",
    "        padded_test_data_y,\n",
    "    ) = u_net_load_test_data(var, lead_time)\n",
    "    test_var_mean.append(padded_test_data_mean)\n",
    "    test_var_std.append(padded_test_data_std)\n",
    "    test_var_y.append(padded_test_data_y)\n",
    "\n",
    "# Then, pack all of your input data into a list\n",
    "test_inputs = test_var_mean + test_var_std + [land_sea_mask_dummy]\n",
    "\n",
    "test_target = test_var_y[var_num]"
   ]
  },
  {
   "cell_type": "code",
   "execution_count": 4,
   "id": "acc4d0b3",
   "metadata": {},
   "outputs": [
    {
     "data": {
      "application/javascript": [
       "\n",
       "            setTimeout(function() {\n",
       "                var nbb_cell_id = 4;\n",
       "                var nbb_unformatted_code = \"def plot_losses(csv_filepath, starting_epoch=0, ending_epoch=1000000000):\\n    # Load the csv file into a pandas DataFrame\\n    data = pd.read_csv(csv_filepath).iloc[starting_epoch:ending_epoch]\\n\\n    # Create a new figure\\n    plt.figure(figsize=(10, 5))\\n\\n    # Plot the training loss\\n    plt.plot(data[\\\"epoch\\\"], data[\\\"loss\\\"], label=\\\"Train Loss\\\")\\n\\n    # Plot the validation loss\\n    plt.plot(data[\\\"epoch\\\"], data[\\\"val_loss\\\"], label=\\\"Validation Loss\\\")\\n\\n    # Set the labels for the x and y axes\\n    plt.xlabel(\\\"Epochs\\\")\\n    plt.ylabel(\\\"Loss\\\")\\n\\n    # Set the title for the plot\\n    plt.title(\\\"Training and Validation Loss\\\")\\n\\n    # Enable the legend\\n    plt.legend()\\n\\n    # Display the plot\\n    plt.show()\\n    return data\";\n",
       "                var nbb_formatted_code = \"def plot_losses(csv_filepath, starting_epoch=0, ending_epoch=1000000000):\\n    # Load the csv file into a pandas DataFrame\\n    data = pd.read_csv(csv_filepath).iloc[starting_epoch:ending_epoch]\\n\\n    # Create a new figure\\n    plt.figure(figsize=(10, 5))\\n\\n    # Plot the training loss\\n    plt.plot(data[\\\"epoch\\\"], data[\\\"loss\\\"], label=\\\"Train Loss\\\")\\n\\n    # Plot the validation loss\\n    plt.plot(data[\\\"epoch\\\"], data[\\\"val_loss\\\"], label=\\\"Validation Loss\\\")\\n\\n    # Set the labels for the x and y axes\\n    plt.xlabel(\\\"Epochs\\\")\\n    plt.ylabel(\\\"Loss\\\")\\n\\n    # Set the title for the plot\\n    plt.title(\\\"Training and Validation Loss\\\")\\n\\n    # Enable the legend\\n    plt.legend()\\n\\n    # Display the plot\\n    plt.show()\\n    return data\";\n",
       "                var nbb_cells = Jupyter.notebook.get_cells();\n",
       "                for (var i = 0; i < nbb_cells.length; ++i) {\n",
       "                    if (nbb_cells[i].input_prompt_number == nbb_cell_id) {\n",
       "                        if (nbb_cells[i].get_text() == nbb_unformatted_code) {\n",
       "                             nbb_cells[i].set_text(nbb_formatted_code);\n",
       "                        }\n",
       "                        break;\n",
       "                    }\n",
       "                }\n",
       "            }, 500);\n",
       "            "
      ],
      "text/plain": [
       "<IPython.core.display.Javascript object>"
      ]
     },
     "metadata": {},
     "output_type": "display_data"
    }
   ],
   "source": [
    "def plot_losses(csv_filepath, starting_epoch=0, ending_epoch=1000000000):\n",
    "    # Load the csv file into a pandas DataFrame\n",
    "    data = pd.read_csv(csv_filepath).iloc[starting_epoch:ending_epoch]\n",
    "\n",
    "    # Create a new figure\n",
    "    plt.figure(figsize=(10, 5))\n",
    "\n",
    "    # Plot the training loss\n",
    "    plt.plot(data[\"epoch\"], data[\"loss\"], label=\"Train Loss\")\n",
    "\n",
    "    # Plot the validation loss\n",
    "    plt.plot(data[\"epoch\"], data[\"val_loss\"], label=\"Validation Loss\")\n",
    "\n",
    "    # Set the labels for the x and y axes\n",
    "    plt.xlabel(\"Epochs\")\n",
    "    plt.ylabel(\"Loss\")\n",
    "\n",
    "    # Set the title for the plot\n",
    "    plt.title(\"Training and Validation Loss\")\n",
    "\n",
    "    # Enable the legend\n",
    "    plt.legend()\n",
    "\n",
    "    # Display the plot\n",
    "    plt.show()\n",
    "    return data"
   ]
  },
  {
   "cell_type": "code",
   "execution_count": 5,
   "id": "04cba359",
   "metadata": {},
   "outputs": [
    {
     "data": {
      "application/javascript": [
       "\n",
       "            setTimeout(function() {\n",
       "                var nbb_cell_id = 5;\n",
       "                var nbb_unformatted_code = \"def test_best_model(path, var_num, lead_time):\\n\\n    model = tf.keras.models.load_model(\\n        path,\\n        custom_objects={\\n            \\\"crps_cost_function_U\\\": crps_cost_function_U,\\n            \\\"crps_cost_function_trunc_U\\\": crps_cost_function_trunc_U,\\n            \\\"CustomSchedule\\\": CustomSchedule,\\n        },\\n    )\\n    # load land_sea_mask\\n    land_sea_mask_dummy = np.load(\\n        \\\"/Data/Delong_BA_Data/land_sea_mask_dummy/land_sea_mask_dummy.npy\\\"\\n    )\\n    land_sea_mask_dummy = pad_land_sea_mask(land_sea_mask_dummy)\\n    land_sea_mask_dummy = np.repeat(land_sea_mask_dummy[np.newaxis, ...], 357, axis=0)\\n    # load data\\n    test_var_mean = []\\n    test_var_std = []\\n    test_var_y = []\\n    for var in range(6):\\n        (\\n            padded_test_data_mean,\\n            padded_test_data_std,\\n            padded_test_data_y,\\n        ) = u_net_load_test_data(var, lead_time)\\n        test_var_mean.append(padded_test_data_mean)\\n        test_var_std.append(padded_test_data_std)\\n        test_var_y.append(padded_test_data_y)\\n\\n    # Then, pack all of your input data into a list\\n    test_inputs = test_var_mean + test_var_std + [land_sea_mask_dummy]\\n\\n    test_target = test_var_y[var_num]\\n    test_target_unpad = unpad_images_y(test_target)\\n\\n    preds = model.predict(test_inputs, verbose=1)\\n    predictions_unpad = unpad_images(preds)\\n    if var_num in [5]:\\n        crps = crps_trunc\\n    else:\\n        crps = crps_normal\\n\\n    scores = crps(\\n        mu=predictions_unpad[:, :, :, 0].flatten(),\\n        sigma=predictions_unpad[:, :, :, 1].flatten(),\\n        y=test_target_unpad.flatten(),\\n    )\\n    scores = scores.reshape((357, 120, 130)).mean(axis=0)\\n    return predictions_unpad, scores\";\n",
       "                var nbb_formatted_code = \"def test_best_model(path, var_num, lead_time):\\n\\n    model = tf.keras.models.load_model(\\n        path,\\n        custom_objects={\\n            \\\"crps_cost_function_U\\\": crps_cost_function_U,\\n            \\\"crps_cost_function_trunc_U\\\": crps_cost_function_trunc_U,\\n            \\\"CustomSchedule\\\": CustomSchedule,\\n        },\\n    )\\n    # load land_sea_mask\\n    land_sea_mask_dummy = np.load(\\n        \\\"/Data/Delong_BA_Data/land_sea_mask_dummy/land_sea_mask_dummy.npy\\\"\\n    )\\n    land_sea_mask_dummy = pad_land_sea_mask(land_sea_mask_dummy)\\n    land_sea_mask_dummy = np.repeat(land_sea_mask_dummy[np.newaxis, ...], 357, axis=0)\\n    # load data\\n    test_var_mean = []\\n    test_var_std = []\\n    test_var_y = []\\n    for var in range(6):\\n        (\\n            padded_test_data_mean,\\n            padded_test_data_std,\\n            padded_test_data_y,\\n        ) = u_net_load_test_data(var, lead_time)\\n        test_var_mean.append(padded_test_data_mean)\\n        test_var_std.append(padded_test_data_std)\\n        test_var_y.append(padded_test_data_y)\\n\\n    # Then, pack all of your input data into a list\\n    test_inputs = test_var_mean + test_var_std + [land_sea_mask_dummy]\\n\\n    test_target = test_var_y[var_num]\\n    test_target_unpad = unpad_images_y(test_target)\\n\\n    preds = model.predict(test_inputs, verbose=1)\\n    predictions_unpad = unpad_images(preds)\\n    if var_num in [5]:\\n        crps = crps_trunc\\n    else:\\n        crps = crps_normal\\n\\n    scores = crps(\\n        mu=predictions_unpad[:, :, :, 0].flatten(),\\n        sigma=predictions_unpad[:, :, :, 1].flatten(),\\n        y=test_target_unpad.flatten(),\\n    )\\n    scores = scores.reshape((357, 120, 130)).mean(axis=0)\\n    return predictions_unpad, scores\";\n",
       "                var nbb_cells = Jupyter.notebook.get_cells();\n",
       "                for (var i = 0; i < nbb_cells.length; ++i) {\n",
       "                    if (nbb_cells[i].input_prompt_number == nbb_cell_id) {\n",
       "                        if (nbb_cells[i].get_text() == nbb_unformatted_code) {\n",
       "                             nbb_cells[i].set_text(nbb_formatted_code);\n",
       "                        }\n",
       "                        break;\n",
       "                    }\n",
       "                }\n",
       "            }, 500);\n",
       "            "
      ],
      "text/plain": [
       "<IPython.core.display.Javascript object>"
      ]
     },
     "metadata": {},
     "output_type": "display_data"
    }
   ],
   "source": [
    "def test_best_model(path, var_num, lead_time):\n",
    "\n",
    "    model = tf.keras.models.load_model(\n",
    "        path,\n",
    "        custom_objects={\n",
    "            \"crps_cost_function_U\": crps_cost_function_U,\n",
    "            \"crps_cost_function_trunc_U\": crps_cost_function_trunc_U,\n",
    "            \"CustomSchedule\": CustomSchedule,\n",
    "        },\n",
    "    )\n",
    "    # load land_sea_mask\n",
    "    land_sea_mask_dummy = np.load(\n",
    "        \"/Data/Delong_BA_Data/land_sea_mask_dummy/land_sea_mask_dummy.npy\"\n",
    "    )\n",
    "    land_sea_mask_dummy = pad_land_sea_mask(land_sea_mask_dummy)\n",
    "    land_sea_mask_dummy = np.repeat(land_sea_mask_dummy[np.newaxis, ...], 357, axis=0)\n",
    "    # load data\n",
    "    test_var_mean = []\n",
    "    test_var_std = []\n",
    "    test_var_y = []\n",
    "    for var in range(6):\n",
    "        (\n",
    "            padded_test_data_mean,\n",
    "            padded_test_data_std,\n",
    "            padded_test_data_y,\n",
    "        ) = u_net_load_test_data(var, lead_time)\n",
    "        test_var_mean.append(padded_test_data_mean)\n",
    "        test_var_std.append(padded_test_data_std)\n",
    "        test_var_y.append(padded_test_data_y)\n",
    "\n",
    "    # Then, pack all of your input data into a list\n",
    "    test_inputs = test_var_mean + test_var_std + [land_sea_mask_dummy]\n",
    "\n",
    "    test_target = test_var_y[var_num]\n",
    "    test_target_unpad = unpad_images_y(test_target)\n",
    "\n",
    "    preds = model.predict(test_inputs, verbose=1)\n",
    "    predictions_unpad = unpad_images(preds)\n",
    "    if var_num in [5]:\n",
    "        crps = crps_trunc\n",
    "    else:\n",
    "        crps = crps_normal\n",
    "\n",
    "    scores = crps(\n",
    "        mu=predictions_unpad[:, :, :, 0].flatten(),\n",
    "        sigma=predictions_unpad[:, :, :, 1].flatten(),\n",
    "        y=test_target_unpad.flatten(),\n",
    "    )\n",
    "    scores = scores.reshape((357, 120, 130)).mean(axis=0)\n",
    "    return predictions_unpad, scores"
   ]
  },
  {
   "cell_type": "code",
   "execution_count": 6,
   "id": "bc74ffd9",
   "metadata": {},
   "outputs": [
    {
     "data": {
      "application/javascript": [
       "\n",
       "            setTimeout(function() {\n",
       "                var nbb_cell_id = 6;\n",
       "                var nbb_unformatted_code = \"def train_best_model(path, var_num, lead_time):\\n\\n    model = tf.keras.models.load_model(\\n        path,\\n        custom_objects={\\n            \\\"crps_cost_function_U\\\": crps_cost_function_U,\\n            \\\"crps_cost_function_trunc_U\\\": crps_cost_function_trunc_U,\\n            \\\"CustomSchedule\\\": CustomSchedule,\\n        },\\n    )\\n    # load land_sea_mask\\n    land_sea_mask_dummy = np.load(\\n        \\\"/Data/Delong_BA_Data/land_sea_mask_dummy/land_sea_mask_dummy.npy\\\"\\n    )\\n    land_sea_mask_dummy = pad_land_sea_mask(land_sea_mask_dummy)\\n    land_sea_mask_dummy = np.repeat(land_sea_mask_dummy[np.newaxis, ...], 1429, axis=0)\\n    # load data\\n    train_var_mean = []\\n    train_var_std = []\\n    train_var_y = []\\n    for var in range(6):\\n        (\\n            padded_train_data_mean,\\n            padded_train_data_std,\\n            padded_train_data_y,\\n        ) = u_net_load_train_data(var, lead_time)\\n        train_var_mean.append(padded_train_data_mean)\\n        train_var_std.append(padded_train_data_std)\\n        train_var_y.append(padded_train_data_y)\\n\\n    # Then, pack all of your input data into a list\\n    train_inputs = train_var_mean + train_var_std + [land_sea_mask_dummy]\\n\\n    train_target = train_var_y[var_num]\\n    train_target_unpad = unpad_images_y(train_target)\\n\\n    preds = model.predict(train_inputs, verbose=1)\\n    predictions_unpad = unpad_images(preds)\\n    if var_num in [5]:\\n        crps = crps_trunc\\n    else:\\n        crps = crps_normal\\n\\n    scores = crps(\\n        mu=predictions_unpad[:, :, :, 0].flatten(),\\n        sigma=predictions_unpad[:, :, :, 1].flatten(),\\n        y=train_target_unpad.flatten(),\\n    )\\n    scores = scores.reshape((1429, 120, 130)).mean(axis=0)\\n    return predictions_unpad, scores\";\n",
       "                var nbb_formatted_code = \"def train_best_model(path, var_num, lead_time):\\n\\n    model = tf.keras.models.load_model(\\n        path,\\n        custom_objects={\\n            \\\"crps_cost_function_U\\\": crps_cost_function_U,\\n            \\\"crps_cost_function_trunc_U\\\": crps_cost_function_trunc_U,\\n            \\\"CustomSchedule\\\": CustomSchedule,\\n        },\\n    )\\n    # load land_sea_mask\\n    land_sea_mask_dummy = np.load(\\n        \\\"/Data/Delong_BA_Data/land_sea_mask_dummy/land_sea_mask_dummy.npy\\\"\\n    )\\n    land_sea_mask_dummy = pad_land_sea_mask(land_sea_mask_dummy)\\n    land_sea_mask_dummy = np.repeat(land_sea_mask_dummy[np.newaxis, ...], 1429, axis=0)\\n    # load data\\n    train_var_mean = []\\n    train_var_std = []\\n    train_var_y = []\\n    for var in range(6):\\n        (\\n            padded_train_data_mean,\\n            padded_train_data_std,\\n            padded_train_data_y,\\n        ) = u_net_load_train_data(var, lead_time)\\n        train_var_mean.append(padded_train_data_mean)\\n        train_var_std.append(padded_train_data_std)\\n        train_var_y.append(padded_train_data_y)\\n\\n    # Then, pack all of your input data into a list\\n    train_inputs = train_var_mean + train_var_std + [land_sea_mask_dummy]\\n\\n    train_target = train_var_y[var_num]\\n    train_target_unpad = unpad_images_y(train_target)\\n\\n    preds = model.predict(train_inputs, verbose=1)\\n    predictions_unpad = unpad_images(preds)\\n    if var_num in [5]:\\n        crps = crps_trunc\\n    else:\\n        crps = crps_normal\\n\\n    scores = crps(\\n        mu=predictions_unpad[:, :, :, 0].flatten(),\\n        sigma=predictions_unpad[:, :, :, 1].flatten(),\\n        y=train_target_unpad.flatten(),\\n    )\\n    scores = scores.reshape((1429, 120, 130)).mean(axis=0)\\n    return predictions_unpad, scores\";\n",
       "                var nbb_cells = Jupyter.notebook.get_cells();\n",
       "                for (var i = 0; i < nbb_cells.length; ++i) {\n",
       "                    if (nbb_cells[i].input_prompt_number == nbb_cell_id) {\n",
       "                        if (nbb_cells[i].get_text() == nbb_unformatted_code) {\n",
       "                             nbb_cells[i].set_text(nbb_formatted_code);\n",
       "                        }\n",
       "                        break;\n",
       "                    }\n",
       "                }\n",
       "            }, 500);\n",
       "            "
      ],
      "text/plain": [
       "<IPython.core.display.Javascript object>"
      ]
     },
     "metadata": {},
     "output_type": "display_data"
    }
   ],
   "source": [
    "def train_best_model(path, var_num, lead_time):\n",
    "\n",
    "    model = tf.keras.models.load_model(\n",
    "        path,\n",
    "        custom_objects={\n",
    "            \"crps_cost_function_U\": crps_cost_function_U,\n",
    "            \"crps_cost_function_trunc_U\": crps_cost_function_trunc_U,\n",
    "            \"CustomSchedule\": CustomSchedule,\n",
    "        },\n",
    "    )\n",
    "    # load land_sea_mask\n",
    "    land_sea_mask_dummy = np.load(\n",
    "        \"/Data/Delong_BA_Data/land_sea_mask_dummy/land_sea_mask_dummy.npy\"\n",
    "    )\n",
    "    land_sea_mask_dummy = pad_land_sea_mask(land_sea_mask_dummy)\n",
    "    land_sea_mask_dummy = np.repeat(land_sea_mask_dummy[np.newaxis, ...], 1429, axis=0)\n",
    "    # load data\n",
    "    train_var_mean = []\n",
    "    train_var_std = []\n",
    "    train_var_y = []\n",
    "    for var in range(6):\n",
    "        (\n",
    "            padded_train_data_mean,\n",
    "            padded_train_data_std,\n",
    "            padded_train_data_y,\n",
    "        ) = u_net_load_train_data(var, lead_time)\n",
    "        train_var_mean.append(padded_train_data_mean)\n",
    "        train_var_std.append(padded_train_data_std)\n",
    "        train_var_y.append(padded_train_data_y)\n",
    "\n",
    "    # Then, pack all of your input data into a list\n",
    "    train_inputs = train_var_mean + train_var_std + [land_sea_mask_dummy]\n",
    "\n",
    "    train_target = train_var_y[var_num]\n",
    "    train_target_unpad = unpad_images_y(train_target)\n",
    "\n",
    "    preds = model.predict(train_inputs, verbose=1)\n",
    "    predictions_unpad = unpad_images(preds)\n",
    "    if var_num in [5]:\n",
    "        crps = crps_trunc\n",
    "    else:\n",
    "        crps = crps_normal\n",
    "\n",
    "    scores = crps(\n",
    "        mu=predictions_unpad[:, :, :, 0].flatten(),\n",
    "        sigma=predictions_unpad[:, :, :, 1].flatten(),\n",
    "        y=train_target_unpad.flatten(),\n",
    "    )\n",
    "    scores = scores.reshape((1429, 120, 130)).mean(axis=0)\n",
    "    return predictions_unpad, scores\n"
   ]
  },
  {
   "cell_type": "markdown",
   "id": "01432389",
   "metadata": {},
   "source": [
    "### Run 1"
   ]
  },
  {
   "cell_type": "markdown",
   "id": "9443fed2",
   "metadata": {},
   "source": [
    "### Run 2"
   ]
  },
  {
   "cell_type": "code",
   "execution_count": 20,
   "id": "624e453d",
   "metadata": {
    "scrolled": false
   },
   "outputs": [
    {
     "data": {
      "image/png": "[encoded data removed]",
      "text/plain": [
       "<Figure size 720x360 with 1 Axes>"
      ]
     },
     "metadata": {
      "needs_background": "light"
     },
     "output_type": "display_data"
    },
    {
     "data": {
      "application/javascript": [
       "\n",
       "            setTimeout(function() {\n",
       "                var nbb_cell_id = 20;\n",
       "                var nbb_unformatted_code = \"df_run_1_0 = plot_losses(\\n    \\\"/Data/Delong_BA_Data/models/U_net/csv_log/_training_log_var_5_lead_0_lr_1e-05_ep_3000_bs_32_filters24.csv\\\"\\n)\";\n",
       "                var nbb_formatted_code = \"df_run_1_0 = plot_losses(\\n    \\\"/Data/Delong_BA_Data/models/U_net/csv_log/_training_log_var_5_lead_0_lr_1e-05_ep_3000_bs_32_filters24.csv\\\"\\n)\";\n",
       "                var nbb_cells = Jupyter.notebook.get_cells();\n",
       "                for (var i = 0; i < nbb_cells.length; ++i) {\n",
       "                    if (nbb_cells[i].input_prompt_number == nbb_cell_id) {\n",
       "                        if (nbb_cells[i].get_text() == nbb_unformatted_code) {\n",
       "                             nbb_cells[i].set_text(nbb_formatted_code);\n",
       "                        }\n",
       "                        break;\n",
       "                    }\n",
       "                }\n",
       "            }, 500);\n",
       "            "
      ],
      "text/plain": [
       "<IPython.core.display.Javascript object>"
      ]
     },
     "metadata": {},
     "output_type": "display_data"
    }
   ],
   "source": [
    "df_run_1_0 = plot_losses(\n",
    "    \"/Data/Delong_BA_Data/models/U_net/csv_log/_training_log_var_5_lead_0_lr_1e-05_ep_3000_bs_32_filters24.csv\"\n",
    ")"
   ]
  },
  {
   "cell_type": "code",
   "execution_count": 21,
   "id": "56d29694",
   "metadata": {},
   "outputs": [
    {
     "data": {
      "text/html": [
       "<div>\n",
       "<style scoped>\n",
       "    .dataframe tbody tr th:only-of-type {\n",
       "        vertical-align: middle;\n",
       "    }\n",
       "\n",
       "    .dataframe tbody tr th {\n",
       "        vertical-align: top;\n",
       "    }\n",
       "\n",
       "    .dataframe thead th {\n",
       "        text-align: right;\n",
       "    }\n",
       "</style>\n",
       "<table border=\"1\" class=\"dataframe\">\n",
       "  <thead>\n",
       "    <tr style=\"text-align: right;\">\n",
       "      <th></th>\n",
       "      <th>epoch</th>\n",
       "      <th>loss</th>\n",
       "      <th>val_loss</th>\n",
       "    </tr>\n",
       "  </thead>\n",
       "  <tbody>\n",
       "    <tr>\n",
       "      <th>0</th>\n",
       "      <td>0</td>\n",
       "      <td>3.928156</td>\n",
       "      <td>4.677352</td>\n",
       "    </tr>\n",
       "    <tr>\n",
       "      <th>1</th>\n",
       "      <td>1</td>\n",
       "      <td>3.454916</td>\n",
       "      <td>4.594439</td>\n",
       "    </tr>\n",
       "    <tr>\n",
       "      <th>2</th>\n",
       "      <td>2</td>\n",
       "      <td>2.977125</td>\n",
       "      <td>4.468586</td>\n",
       "    </tr>\n",
       "    <tr>\n",
       "      <th>3</th>\n",
       "      <td>3</td>\n",
       "      <td>2.543129</td>\n",
       "      <td>4.281043</td>\n",
       "    </tr>\n",
       "    <tr>\n",
       "      <th>4</th>\n",
       "      <td>4</td>\n",
       "      <td>2.184974</td>\n",
       "      <td>4.018570</td>\n",
       "    </tr>\n",
       "    <tr>\n",
       "      <th>...</th>\n",
       "      <td>...</td>\n",
       "      <td>...</td>\n",
       "      <td>...</td>\n",
       "    </tr>\n",
       "    <tr>\n",
       "      <th>228</th>\n",
       "      <td>228</td>\n",
       "      <td>0.442098</td>\n",
       "      <td>0.436115</td>\n",
       "    </tr>\n",
       "    <tr>\n",
       "      <th>229</th>\n",
       "      <td>229</td>\n",
       "      <td>0.436643</td>\n",
       "      <td>0.449190</td>\n",
       "    </tr>\n",
       "    <tr>\n",
       "      <th>230</th>\n",
       "      <td>230</td>\n",
       "      <td>0.435661</td>\n",
       "      <td>0.440575</td>\n",
       "    </tr>\n",
       "    <tr>\n",
       "      <th>231</th>\n",
       "      <td>231</td>\n",
       "      <td>0.444317</td>\n",
       "      <td>0.439872</td>\n",
       "    </tr>\n",
       "    <tr>\n",
       "      <th>232</th>\n",
       "      <td>232</td>\n",
       "      <td>0.443119</td>\n",
       "      <td>0.437538</td>\n",
       "    </tr>\n",
       "  </tbody>\n",
       "</table>\n",
       "<p>233 rows × 3 columns</p>\n",
       "</div>"
      ],
      "text/plain": [
       "     epoch      loss  val_loss\n",
       "0        0  3.928156  4.677352\n",
       "1        1  3.454916  4.594439\n",
       "2        2  2.977125  4.468586\n",
       "3        3  2.543129  4.281043\n",
       "4        4  2.184974  4.018570\n",
       "..     ...       ...       ...\n",
       "228    228  0.442098  0.436115\n",
       "229    229  0.436643  0.449190\n",
       "230    230  0.435661  0.440575\n",
       "231    231  0.444317  0.439872\n",
       "232    232  0.443119  0.437538\n",
       "\n",
       "[233 rows x 3 columns]"
      ]
     },
     "execution_count": 21,
     "metadata": {},
     "output_type": "execute_result"
    },
    {
     "data": {
      "application/javascript": [
       "\n",
       "            setTimeout(function() {\n",
       "                var nbb_cell_id = 21;\n",
       "                var nbb_unformatted_code = \"df_run_1_0\";\n",
       "                var nbb_formatted_code = \"df_run_1_0\";\n",
       "                var nbb_cells = Jupyter.notebook.get_cells();\n",
       "                for (var i = 0; i < nbb_cells.length; ++i) {\n",
       "                    if (nbb_cells[i].input_prompt_number == nbb_cell_id) {\n",
       "                        if (nbb_cells[i].get_text() == nbb_unformatted_code) {\n",
       "                             nbb_cells[i].set_text(nbb_formatted_code);\n",
       "                        }\n",
       "                        break;\n",
       "                    }\n",
       "                }\n",
       "            }, 500);\n",
       "            "
      ],
      "text/plain": [
       "<IPython.core.display.Javascript object>"
      ]
     },
     "metadata": {},
     "output_type": "display_data"
    }
   ],
   "source": [
    "df_run_1_0"
   ]
  },
  {
   "cell_type": "code",
   "execution_count": 22,
   "id": "3313e3b9",
   "metadata": {
    "scrolled": false
   },
   "outputs": [
    {
     "name": "stdout",
     "output_type": "stream",
     "text": [
      "12/12 [==============================] - 23s 2s/step\n",
      "Number of Nan Values: 0\n",
      "Number of inf Values: 0\n"
     ]
    },
    {
     "data": {
      "text/plain": [
       "0.44332018"
      ]
     },
     "execution_count": 22,
     "metadata": {},
     "output_type": "execute_result"
    },
    {
     "data": {
      "application/javascript": [
       "\n",
       "            setTimeout(function() {\n",
       "                var nbb_cell_id = 22;\n",
       "                var nbb_unformatted_code = \"test_preds, test_scores = test_best_model(\\n    \\\"/Data/Delong_BA_Data/models/U_net/models/_unet_model_var_5_lead_0_lr_1e-05_ep_3000_bs_32_filters24.h5\\\",\\n    5,\\n    0,\\n)\\n\\nprint(f\\\"Number of Nan Values: {np.isnan(test_scores).sum()}\\\")\\nprint(f\\\"Number of inf Values: {np.isinf(test_scores).sum()}\\\")\\ntesting = test_scores[~np.isnan(test_scores)]\\ntesting = testing[~np.isinf(testing)]\\ntesting.mean()\";\n",
       "                var nbb_formatted_code = \"test_preds, test_scores = test_best_model(\\n    \\\"/Data/Delong_BA_Data/models/U_net/models/_unet_model_var_5_lead_0_lr_1e-05_ep_3000_bs_32_filters24.h5\\\",\\n    5,\\n    0,\\n)\\n\\nprint(f\\\"Number of Nan Values: {np.isnan(test_scores).sum()}\\\")\\nprint(f\\\"Number of inf Values: {np.isinf(test_scores).sum()}\\\")\\ntesting = test_scores[~np.isnan(test_scores)]\\ntesting = testing[~np.isinf(testing)]\\ntesting.mean()\";\n",
       "                var nbb_cells = Jupyter.notebook.get_cells();\n",
       "                for (var i = 0; i < nbb_cells.length; ++i) {\n",
       "                    if (nbb_cells[i].input_prompt_number == nbb_cell_id) {\n",
       "                        if (nbb_cells[i].get_text() == nbb_unformatted_code) {\n",
       "                             nbb_cells[i].set_text(nbb_formatted_code);\n",
       "                        }\n",
       "                        break;\n",
       "                    }\n",
       "                }\n",
       "            }, 500);\n",
       "            "
      ],
      "text/plain": [
       "<IPython.core.display.Javascript object>"
      ]
     },
     "metadata": {},
     "output_type": "display_data"
    }
   ],
   "source": [
    "test_preds, test_scores = test_best_model(\n",
    "    \"/Data/Delong_BA_Data/models/U_net/models/_unet_model_var_5_lead_0_lr_1e-05_ep_3000_bs_32_filters24.h5\",\n",
    "    5,\n",
    "    0,\n",
    ")\n",
    "\n",
    "print(f\"Number of Nan Values: {np.isnan(test_scores).sum()}\")\n",
    "print(f\"Number of inf Values: {np.isinf(test_scores).sum()}\")\n",
    "testing = test_scores[~np.isnan(test_scores)]\n",
    "testing = testing[~np.isinf(testing)]\n",
    "testing.mean()"
   ]
  },
  {
   "cell_type": "code",
   "execution_count": 83,
   "id": "e1c34e73",
   "metadata": {},
   "outputs": [
    {
     "data": {
      "image/png": "[encoded data removed]",
      "text/plain": [
       "<Figure size 720x360 with 1 Axes>"
      ]
     },
     "metadata": {
      "needs_background": "light"
     },
     "output_type": "display_data"
    },
    {
     "data": {
      "application/javascript": [
       "\n",
       "            setTimeout(function() {\n",
       "                var nbb_cell_id = 83;\n",
       "                var nbb_unformatted_code = \"df_run_2_15 = plot_losses(\\n    \\\"/Data/Delong_BA_Data/models/U_net/csv_log/_training_log_var_5_lead_15_lr_0.001_ep_3000_bs_64_filters16.csv\\\"\\n)\";\n",
       "                var nbb_formatted_code = \"df_run_2_15 = plot_losses(\\n    \\\"/Data/Delong_BA_Data/models/U_net/csv_log/_training_log_var_5_lead_15_lr_0.001_ep_3000_bs_64_filters16.csv\\\"\\n)\";\n",
       "                var nbb_cells = Jupyter.notebook.get_cells();\n",
       "                for (var i = 0; i < nbb_cells.length; ++i) {\n",
       "                    if (nbb_cells[i].input_prompt_number == nbb_cell_id) {\n",
       "                        if (nbb_cells[i].get_text() == nbb_unformatted_code) {\n",
       "                             nbb_cells[i].set_text(nbb_formatted_code);\n",
       "                        }\n",
       "                        break;\n",
       "                    }\n",
       "                }\n",
       "            }, 500);\n",
       "            "
      ],
      "text/plain": [
       "<IPython.core.display.Javascript object>"
      ]
     },
     "metadata": {},
     "output_type": "display_data"
    }
   ],
   "source": [
    "df_run_1_15 = plot_losses(\n",
    "    \"/Data/Delong_BA_Data/models/U_net/csv_log/_training_log_var_5_lead_15_lr_1e-05_ep_3000_bs_32_filters24.csv\"\n",
    ")"
   ]
  },
  {
   "cell_type": "code",
   "execution_count": 84,
   "id": "7b3fe5cf",
   "metadata": {
    "collapsed": true
   },
   "outputs": [
    {
     "data": {
      "text/html": [
       "<div>\n",
       "<style scoped>\n",
       "    .dataframe tbody tr th:only-of-type {\n",
       "        vertical-align: middle;\n",
       "    }\n",
       "\n",
       "    .dataframe tbody tr th {\n",
       "        vertical-align: top;\n",
       "    }\n",
       "\n",
       "    .dataframe thead th {\n",
       "        text-align: right;\n",
       "    }\n",
       "</style>\n",
       "<table border=\"1\" class=\"dataframe\">\n",
       "  <thead>\n",
       "    <tr style=\"text-align: right;\">\n",
       "      <th></th>\n",
       "      <th>epoch</th>\n",
       "      <th>loss</th>\n",
       "      <th>val_loss</th>\n",
       "    </tr>\n",
       "  </thead>\n",
       "  <tbody>\n",
       "    <tr>\n",
       "      <th>0</th>\n",
       "      <td>0</td>\n",
       "      <td>2.466026</td>\n",
       "      <td>3.950325</td>\n",
       "    </tr>\n",
       "    <tr>\n",
       "      <th>1</th>\n",
       "      <td>1</td>\n",
       "      <td>1.534103</td>\n",
       "      <td>2.675113</td>\n",
       "    </tr>\n",
       "    <tr>\n",
       "      <th>2</th>\n",
       "      <td>2</td>\n",
       "      <td>1.383894</td>\n",
       "      <td>2.377306</td>\n",
       "    </tr>\n",
       "    <tr>\n",
       "      <th>3</th>\n",
       "      <td>3</td>\n",
       "      <td>1.319317</td>\n",
       "      <td>2.335824</td>\n",
       "    </tr>\n",
       "    <tr>\n",
       "      <th>4</th>\n",
       "      <td>4</td>\n",
       "      <td>1.256530</td>\n",
       "      <td>2.330908</td>\n",
       "    </tr>\n",
       "    <tr>\n",
       "      <th>5</th>\n",
       "      <td>5</td>\n",
       "      <td>1.211649</td>\n",
       "      <td>2.351944</td>\n",
       "    </tr>\n",
       "    <tr>\n",
       "      <th>6</th>\n",
       "      <td>6</td>\n",
       "      <td>1.182606</td>\n",
       "      <td>2.259700</td>\n",
       "    </tr>\n",
       "    <tr>\n",
       "      <th>7</th>\n",
       "      <td>7</td>\n",
       "      <td>1.157447</td>\n",
       "      <td>2.315699</td>\n",
       "    </tr>\n",
       "    <tr>\n",
       "      <th>8</th>\n",
       "      <td>8</td>\n",
       "      <td>1.147681</td>\n",
       "      <td>2.061188</td>\n",
       "    </tr>\n",
       "    <tr>\n",
       "      <th>9</th>\n",
       "      <td>9</td>\n",
       "      <td>1.140817</td>\n",
       "      <td>2.083678</td>\n",
       "    </tr>\n",
       "    <tr>\n",
       "      <th>10</th>\n",
       "      <td>10</td>\n",
       "      <td>1.129555</td>\n",
       "      <td>2.215821</td>\n",
       "    </tr>\n",
       "    <tr>\n",
       "      <th>11</th>\n",
       "      <td>11</td>\n",
       "      <td>1.123728</td>\n",
       "      <td>2.043926</td>\n",
       "    </tr>\n",
       "    <tr>\n",
       "      <th>12</th>\n",
       "      <td>12</td>\n",
       "      <td>1.117528</td>\n",
       "      <td>1.914832</td>\n",
       "    </tr>\n",
       "    <tr>\n",
       "      <th>13</th>\n",
       "      <td>13</td>\n",
       "      <td>1.116804</td>\n",
       "      <td>1.868264</td>\n",
       "    </tr>\n",
       "    <tr>\n",
       "      <th>14</th>\n",
       "      <td>14</td>\n",
       "      <td>1.111120</td>\n",
       "      <td>1.749222</td>\n",
       "    </tr>\n",
       "    <tr>\n",
       "      <th>15</th>\n",
       "      <td>15</td>\n",
       "      <td>1.108813</td>\n",
       "      <td>1.755738</td>\n",
       "    </tr>\n",
       "    <tr>\n",
       "      <th>16</th>\n",
       "      <td>16</td>\n",
       "      <td>1.109544</td>\n",
       "      <td>1.819439</td>\n",
       "    </tr>\n",
       "    <tr>\n",
       "      <th>17</th>\n",
       "      <td>17</td>\n",
       "      <td>1.102724</td>\n",
       "      <td>1.702422</td>\n",
       "    </tr>\n",
       "    <tr>\n",
       "      <th>18</th>\n",
       "      <td>18</td>\n",
       "      <td>1.102200</td>\n",
       "      <td>1.550651</td>\n",
       "    </tr>\n",
       "    <tr>\n",
       "      <th>19</th>\n",
       "      <td>19</td>\n",
       "      <td>1.103081</td>\n",
       "      <td>1.539277</td>\n",
       "    </tr>\n",
       "    <tr>\n",
       "      <th>20</th>\n",
       "      <td>20</td>\n",
       "      <td>1.096571</td>\n",
       "      <td>1.510975</td>\n",
       "    </tr>\n",
       "    <tr>\n",
       "      <th>21</th>\n",
       "      <td>21</td>\n",
       "      <td>1.091986</td>\n",
       "      <td>1.526634</td>\n",
       "    </tr>\n",
       "    <tr>\n",
       "      <th>22</th>\n",
       "      <td>22</td>\n",
       "      <td>1.089328</td>\n",
       "      <td>1.412450</td>\n",
       "    </tr>\n",
       "    <tr>\n",
       "      <th>23</th>\n",
       "      <td>23</td>\n",
       "      <td>1.088258</td>\n",
       "      <td>1.314736</td>\n",
       "    </tr>\n",
       "    <tr>\n",
       "      <th>24</th>\n",
       "      <td>24</td>\n",
       "      <td>1.082985</td>\n",
       "      <td>1.304059</td>\n",
       "    </tr>\n",
       "    <tr>\n",
       "      <th>25</th>\n",
       "      <td>25</td>\n",
       "      <td>1.078639</td>\n",
       "      <td>1.247807</td>\n",
       "    </tr>\n",
       "    <tr>\n",
       "      <th>26</th>\n",
       "      <td>26</td>\n",
       "      <td>1.081959</td>\n",
       "      <td>1.291346</td>\n",
       "    </tr>\n",
       "    <tr>\n",
       "      <th>27</th>\n",
       "      <td>27</td>\n",
       "      <td>1.083326</td>\n",
       "      <td>1.283383</td>\n",
       "    </tr>\n",
       "    <tr>\n",
       "      <th>28</th>\n",
       "      <td>28</td>\n",
       "      <td>1.076283</td>\n",
       "      <td>1.229787</td>\n",
       "    </tr>\n",
       "    <tr>\n",
       "      <th>29</th>\n",
       "      <td>29</td>\n",
       "      <td>1.069194</td>\n",
       "      <td>1.263721</td>\n",
       "    </tr>\n",
       "    <tr>\n",
       "      <th>30</th>\n",
       "      <td>30</td>\n",
       "      <td>1.067550</td>\n",
       "      <td>1.345712</td>\n",
       "    </tr>\n",
       "    <tr>\n",
       "      <th>31</th>\n",
       "      <td>31</td>\n",
       "      <td>1.061562</td>\n",
       "      <td>1.278890</td>\n",
       "    </tr>\n",
       "    <tr>\n",
       "      <th>32</th>\n",
       "      <td>32</td>\n",
       "      <td>1.061034</td>\n",
       "      <td>1.321694</td>\n",
       "    </tr>\n",
       "    <tr>\n",
       "      <th>33</th>\n",
       "      <td>33</td>\n",
       "      <td>1.053272</td>\n",
       "      <td>1.337990</td>\n",
       "    </tr>\n",
       "    <tr>\n",
       "      <th>34</th>\n",
       "      <td>34</td>\n",
       "      <td>1.048470</td>\n",
       "      <td>1.163295</td>\n",
       "    </tr>\n",
       "    <tr>\n",
       "      <th>35</th>\n",
       "      <td>35</td>\n",
       "      <td>1.035749</td>\n",
       "      <td>1.170678</td>\n",
       "    </tr>\n",
       "    <tr>\n",
       "      <th>36</th>\n",
       "      <td>36</td>\n",
       "      <td>1.029483</td>\n",
       "      <td>1.233561</td>\n",
       "    </tr>\n",
       "    <tr>\n",
       "      <th>37</th>\n",
       "      <td>37</td>\n",
       "      <td>1.010453</td>\n",
       "      <td>1.368878</td>\n",
       "    </tr>\n",
       "    <tr>\n",
       "      <th>38</th>\n",
       "      <td>38</td>\n",
       "      <td>0.994300</td>\n",
       "      <td>1.224211</td>\n",
       "    </tr>\n",
       "    <tr>\n",
       "      <th>39</th>\n",
       "      <td>39</td>\n",
       "      <td>0.981768</td>\n",
       "      <td>1.210677</td>\n",
       "    </tr>\n",
       "    <tr>\n",
       "      <th>40</th>\n",
       "      <td>40</td>\n",
       "      <td>0.967794</td>\n",
       "      <td>1.629174</td>\n",
       "    </tr>\n",
       "    <tr>\n",
       "      <th>41</th>\n",
       "      <td>41</td>\n",
       "      <td>0.947673</td>\n",
       "      <td>1.484742</td>\n",
       "    </tr>\n",
       "    <tr>\n",
       "      <th>42</th>\n",
       "      <td>42</td>\n",
       "      <td>0.926242</td>\n",
       "      <td>1.436449</td>\n",
       "    </tr>\n",
       "    <tr>\n",
       "      <th>43</th>\n",
       "      <td>43</td>\n",
       "      <td>0.903602</td>\n",
       "      <td>1.473417</td>\n",
       "    </tr>\n",
       "    <tr>\n",
       "      <th>44</th>\n",
       "      <td>44</td>\n",
       "      <td>0.885456</td>\n",
       "      <td>1.699188</td>\n",
       "    </tr>\n",
       "    <tr>\n",
       "      <th>45</th>\n",
       "      <td>45</td>\n",
       "      <td>0.843788</td>\n",
       "      <td>1.954910</td>\n",
       "    </tr>\n",
       "    <tr>\n",
       "      <th>46</th>\n",
       "      <td>46</td>\n",
       "      <td>0.817928</td>\n",
       "      <td>1.432212</td>\n",
       "    </tr>\n",
       "    <tr>\n",
       "      <th>47</th>\n",
       "      <td>47</td>\n",
       "      <td>0.790968</td>\n",
       "      <td>1.603736</td>\n",
       "    </tr>\n",
       "    <tr>\n",
       "      <th>48</th>\n",
       "      <td>48</td>\n",
       "      <td>0.762481</td>\n",
       "      <td>1.670761</td>\n",
       "    </tr>\n",
       "    <tr>\n",
       "      <th>49</th>\n",
       "      <td>49</td>\n",
       "      <td>0.742837</td>\n",
       "      <td>1.742373</td>\n",
       "    </tr>\n",
       "    <tr>\n",
       "      <th>50</th>\n",
       "      <td>50</td>\n",
       "      <td>0.708235</td>\n",
       "      <td>1.564709</td>\n",
       "    </tr>\n",
       "    <tr>\n",
       "      <th>51</th>\n",
       "      <td>51</td>\n",
       "      <td>0.675632</td>\n",
       "      <td>1.583031</td>\n",
       "    </tr>\n",
       "    <tr>\n",
       "      <th>52</th>\n",
       "      <td>52</td>\n",
       "      <td>0.667071</td>\n",
       "      <td>1.727720</td>\n",
       "    </tr>\n",
       "    <tr>\n",
       "      <th>53</th>\n",
       "      <td>53</td>\n",
       "      <td>0.644944</td>\n",
       "      <td>1.723700</td>\n",
       "    </tr>\n",
       "    <tr>\n",
       "      <th>54</th>\n",
       "      <td>54</td>\n",
       "      <td>0.629239</td>\n",
       "      <td>1.701328</td>\n",
       "    </tr>\n",
       "    <tr>\n",
       "      <th>55</th>\n",
       "      <td>55</td>\n",
       "      <td>0.612380</td>\n",
       "      <td>1.789651</td>\n",
       "    </tr>\n",
       "    <tr>\n",
       "      <th>56</th>\n",
       "      <td>56</td>\n",
       "      <td>0.594675</td>\n",
       "      <td>1.713195</td>\n",
       "    </tr>\n",
       "    <tr>\n",
       "      <th>57</th>\n",
       "      <td>57</td>\n",
       "      <td>0.575146</td>\n",
       "      <td>1.592102</td>\n",
       "    </tr>\n",
       "    <tr>\n",
       "      <th>58</th>\n",
       "      <td>58</td>\n",
       "      <td>0.568819</td>\n",
       "      <td>1.678953</td>\n",
       "    </tr>\n",
       "    <tr>\n",
       "      <th>59</th>\n",
       "      <td>59</td>\n",
       "      <td>0.559099</td>\n",
       "      <td>1.591620</td>\n",
       "    </tr>\n",
       "  </tbody>\n",
       "</table>\n",
       "</div>"
      ],
      "text/plain": [
       "    epoch      loss  val_loss\n",
       "0       0  2.466026  3.950325\n",
       "1       1  1.534103  2.675113\n",
       "2       2  1.383894  2.377306\n",
       "3       3  1.319317  2.335824\n",
       "4       4  1.256530  2.330908\n",
       "5       5  1.211649  2.351944\n",
       "6       6  1.182606  2.259700\n",
       "7       7  1.157447  2.315699\n",
       "8       8  1.147681  2.061188\n",
       "9       9  1.140817  2.083678\n",
       "10     10  1.129555  2.215821\n",
       "11     11  1.123728  2.043926\n",
       "12     12  1.117528  1.914832\n",
       "13     13  1.116804  1.868264\n",
       "14     14  1.111120  1.749222\n",
       "15     15  1.108813  1.755738\n",
       "16     16  1.109544  1.819439\n",
       "17     17  1.102724  1.702422\n",
       "18     18  1.102200  1.550651\n",
       "19     19  1.103081  1.539277\n",
       "20     20  1.096571  1.510975\n",
       "21     21  1.091986  1.526634\n",
       "22     22  1.089328  1.412450\n",
       "23     23  1.088258  1.314736\n",
       "24     24  1.082985  1.304059\n",
       "25     25  1.078639  1.247807\n",
       "26     26  1.081959  1.291346\n",
       "27     27  1.083326  1.283383\n",
       "28     28  1.076283  1.229787\n",
       "29     29  1.069194  1.263721\n",
       "30     30  1.067550  1.345712\n",
       "31     31  1.061562  1.278890\n",
       "32     32  1.061034  1.321694\n",
       "33     33  1.053272  1.337990\n",
       "34     34  1.048470  1.163295\n",
       "35     35  1.035749  1.170678\n",
       "36     36  1.029483  1.233561\n",
       "37     37  1.010453  1.368878\n",
       "38     38  0.994300  1.224211\n",
       "39     39  0.981768  1.210677\n",
       "40     40  0.967794  1.629174\n",
       "41     41  0.947673  1.484742\n",
       "42     42  0.926242  1.436449\n",
       "43     43  0.903602  1.473417\n",
       "44     44  0.885456  1.699188\n",
       "45     45  0.843788  1.954910\n",
       "46     46  0.817928  1.432212\n",
       "47     47  0.790968  1.603736\n",
       "48     48  0.762481  1.670761\n",
       "49     49  0.742837  1.742373\n",
       "50     50  0.708235  1.564709\n",
       "51     51  0.675632  1.583031\n",
       "52     52  0.667071  1.727720\n",
       "53     53  0.644944  1.723700\n",
       "54     54  0.629239  1.701328\n",
       "55     55  0.612380  1.789651\n",
       "56     56  0.594675  1.713195\n",
       "57     57  0.575146  1.592102\n",
       "58     58  0.568819  1.678953\n",
       "59     59  0.559099  1.591620"
      ]
     },
     "execution_count": 84,
     "metadata": {},
     "output_type": "execute_result"
    },
    {
     "data": {
      "application/javascript": [
       "\n",
       "            setTimeout(function() {\n",
       "                var nbb_cell_id = 84;\n",
       "                var nbb_unformatted_code = \"df_run_2_15\";\n",
       "                var nbb_formatted_code = \"df_run_2_15\";\n",
       "                var nbb_cells = Jupyter.notebook.get_cells();\n",
       "                for (var i = 0; i < nbb_cells.length; ++i) {\n",
       "                    if (nbb_cells[i].input_prompt_number == nbb_cell_id) {\n",
       "                        if (nbb_cells[i].get_text() == nbb_unformatted_code) {\n",
       "                             nbb_cells[i].set_text(nbb_formatted_code);\n",
       "                        }\n",
       "                        break;\n",
       "                    }\n",
       "                }\n",
       "            }, 500);\n",
       "            "
      ],
      "text/plain": [
       "<IPython.core.display.Javascript object>"
      ]
     },
     "metadata": {},
     "output_type": "display_data"
    }
   ],
   "source": [
    "df_run_1_15"
   ]
  },
  {
   "cell_type": "code",
   "execution_count": 34,
   "id": "81e5af05",
   "metadata": {
    "scrolled": true
   },
   "outputs": [
    {
     "name": "stdout",
     "output_type": "stream",
     "text": [
      "12/12 [==============================] - 13s 1s/step\n",
      "Number of Nan Values: 0\n",
      "Number of inf Values: 0\n"
     ]
    },
    {
     "data": {
      "text/plain": [
       "2.083296"
      ]
     },
     "execution_count": 34,
     "metadata": {},
     "output_type": "execute_result"
    },
    {
     "data": {
      "application/javascript": [
       "\n",
       "            setTimeout(function() {\n",
       "                var nbb_cell_id = 34;\n",
       "                var nbb_unformatted_code = \"test_preds, test_scores = test_best_model(\\n    \\\"/Data/Delong_BA_Data/models/U_net/models/_unet_model_var_5_lead_15_lr_0.001_ep_3000_bs_64_filters16.h5\\\",\\n    5,\\n    15,\\n)\\n\\nprint(f\\\"Number of Nan Values: {np.isnan(test_scores).sum()}\\\")\\nprint(f\\\"Number of inf Values: {np.isinf(test_scores).sum()}\\\")\\ntesting = test_scores[~np.isnan(test_scores)]\\ntesting = testing[~np.isinf(testing)]\\ntesting.mean()\";\n",
       "                var nbb_formatted_code = \"test_preds, test_scores = test_best_model(\\n    \\\"/Data/Delong_BA_Data/models/U_net/models/_unet_model_var_5_lead_15_lr_0.001_ep_3000_bs_64_filters16.h5\\\",\\n    5,\\n    15,\\n)\\n\\nprint(f\\\"Number of Nan Values: {np.isnan(test_scores).sum()}\\\")\\nprint(f\\\"Number of inf Values: {np.isinf(test_scores).sum()}\\\")\\ntesting = test_scores[~np.isnan(test_scores)]\\ntesting = testing[~np.isinf(testing)]\\ntesting.mean()\";\n",
       "                var nbb_cells = Jupyter.notebook.get_cells();\n",
       "                for (var i = 0; i < nbb_cells.length; ++i) {\n",
       "                    if (nbb_cells[i].input_prompt_number == nbb_cell_id) {\n",
       "                        if (nbb_cells[i].get_text() == nbb_unformatted_code) {\n",
       "                             nbb_cells[i].set_text(nbb_formatted_code);\n",
       "                        }\n",
       "                        break;\n",
       "                    }\n",
       "                }\n",
       "            }, 500);\n",
       "            "
      ],
      "text/plain": [
       "<IPython.core.display.Javascript object>"
      ]
     },
     "metadata": {},
     "output_type": "display_data"
    }
   ],
   "source": [
    "test_preds, test_scores = test_best_model(\n",
    "    \"/Data/Delong_BA_Data/models/U_net/models/_unet_model_var_5_lead_15_lr_1e-05_ep_3000_bs_32_filters24.h5\",\n",
    "    5,\n",
    "    15,\n",
    ")\n",
    "\n",
    "print(f\"Number of Nan Values: {np.isnan(test_scores).sum()}\")\n",
    "print(f\"Number of inf Values: {np.isinf(test_scores).sum()}\")\n",
    "testing = test_scores[~np.isnan(test_scores)]\n",
    "testing = testing[~np.isinf(testing)]\n",
    "testing.mean()"
   ]
  },
  {
   "cell_type": "code",
   "execution_count": null,
   "id": "dc366737",
   "metadata": {},
   "outputs": [],
   "source": [
    "df_run_1_30 = plot_losses(\n",
    "    \"/Data/Delong_BA_Data/models/U_net/csv_log/_training_log_var_5_lead_30_lr_1e-05_ep_3000_bs_32_filters24.csv\"\n",
    ")"
   ]
  },
  {
   "cell_type": "code",
   "execution_count": null,
   "id": "bea1b27f",
   "metadata": {},
   "outputs": [],
   "source": [
    "df_run_1_30"
   ]
  },
  {
   "cell_type": "code",
   "execution_count": null,
   "id": "4fa22c29",
   "metadata": {},
   "outputs": [],
   "source": [
    "test_preds, test_scores = test_best_model(\n",
    "    \"/Data/Delong_BA_Data/models/U_net/models/_unet_model_var_5_lead_30_lr_1e-05_ep_3000_bs_32_filters24.h5\",\n",
    "    5,\n",
    "    15,\n",
    ")\n",
    "\n",
    "print(f\"Number of Nan Values: {np.isnan(test_scores).sum()}\")\n",
    "print(f\"Number of inf Values: {np.isinf(test_scores).sum()}\")\n",
    "testing = test_scores[~np.isnan(test_scores)]\n",
    "testing = testing[~np.isinf(testing)]\n",
    "testing.mean()"
   ]
  },
  {
   "cell_type": "markdown",
   "id": "861177b0",
   "metadata": {},
   "source": [
    "### Test Final model"
   ]
  },
  {
   "cell_type": "code",
   "execution_count": 15,
   "id": "30ebcc77",
   "metadata": {},
   "outputs": [
    {
     "data": {
      "application/javascript": [
       "\n",
       "            setTimeout(function() {\n",
       "                var nbb_cell_id = 15;\n",
       "                var nbb_unformatted_code = \"def final_model_run(lead_time, test=False, starting_epoch=0, ending_epoch=1000000000):\\n    df_run_final = plot_losses(\\n        f\\\"/Data/Delong_BA_Data/models/U_net/csv_log_final/training_log_var_5_lead_{lead_time}.csv\\\",\\n        starting_epoch,\\n        ending_epoch,\\n    )\\n    if test:\\n        test_preds, test_scores = test_best_model(\\n            f\\\"/Data/Delong_BA_Data/models/U_net/models_final/unet_model_var_5_lead_{lead_time}.h5\\\",\\n            5,\\n            lead_time,\\n        )\\n\\n        print(f\\\"Number of Nan Values: {np.isnan(test_scores).sum()}\\\")\\n        print(f\\\"Number of inf Values: {np.isinf(test_scores).sum()}\\\")\\n        testing = test_scores[~np.isnan(test_scores)]\\n        testing = testing[~np.isinf(testing)]\\n        print(testing.mean())\\n\\n    return df_run_final\";\n",
       "                var nbb_formatted_code = \"def final_model_run(lead_time, test=False, starting_epoch=0, ending_epoch=1000000000):\\n    df_run_final = plot_losses(\\n        f\\\"/Data/Delong_BA_Data/models/U_net/csv_log_final/training_log_var_5_lead_{lead_time}.csv\\\",\\n        starting_epoch,\\n        ending_epoch,\\n    )\\n    if test:\\n        test_preds, test_scores = test_best_model(\\n            f\\\"/Data/Delong_BA_Data/models/U_net/models_final/unet_model_var_5_lead_{lead_time}.h5\\\",\\n            5,\\n            lead_time,\\n        )\\n\\n        print(f\\\"Number of Nan Values: {np.isnan(test_scores).sum()}\\\")\\n        print(f\\\"Number of inf Values: {np.isinf(test_scores).sum()}\\\")\\n        testing = test_scores[~np.isnan(test_scores)]\\n        testing = testing[~np.isinf(testing)]\\n        print(testing.mean())\\n\\n    return df_run_final\";\n",
       "                var nbb_cells = Jupyter.notebook.get_cells();\n",
       "                for (var i = 0; i < nbb_cells.length; ++i) {\n",
       "                    if (nbb_cells[i].input_prompt_number == nbb_cell_id) {\n",
       "                        if (nbb_cells[i].get_text() == nbb_unformatted_code) {\n",
       "                             nbb_cells[i].set_text(nbb_formatted_code);\n",
       "                        }\n",
       "                        break;\n",
       "                    }\n",
       "                }\n",
       "            }, 500);\n",
       "            "
      ],
      "text/plain": [
       "<IPython.core.display.Javascript object>"
      ]
     },
     "metadata": {},
     "output_type": "display_data"
    }
   ],
   "source": [
    "def final_model_run(lead_time, test=False, starting_epoch=0, ending_epoch=1000000000):\n",
    "    df_run_final = plot_losses(\n",
    "        f\"/Data/Delong_BA_Data/models/U_net/csv_log_final/training_log_var_5_lead_{lead_time}.csv\",\n",
    "        starting_epoch,\n",
    "        ending_epoch,\n",
    "    )\n",
    "    if test:\n",
    "        test_preds, test_scores = test_best_model(\n",
    "            f\"/Data/Delong_BA_Data/models/U_net/models_final/unet_model_var_5_lead_{lead_time}.h5\",\n",
    "            5,\n",
    "            lead_time,\n",
    "        )\n",
    "\n",
    "        print(f\"Number of Nan Values: {np.isnan(test_scores).sum()}\")\n",
    "        print(f\"Number of inf Values: {np.isinf(test_scores).sum()}\")\n",
    "        testing = test_scores[~np.isnan(test_scores)]\n",
    "        testing = testing[~np.isinf(testing)]\n",
    "        print(testing.mean())\n",
    "\n",
    "    return df_run_final"
   ]
  },
  {
   "cell_type": "code",
   "execution_count": 16,
   "id": "d947dd22",
   "metadata": {
    "scrolled": false
   },
   "outputs": [
    {
     "data": {
      "image/png": "[encoded data removed]",
      "text/plain": [
       "<Figure size 720x360 with 1 Axes>"
      ]
     },
     "metadata": {
      "needs_background": "light"
     },
     "output_type": "display_data"
    },
    {
     "data": {
      "application/javascript": [
       "\n",
       "            setTimeout(function() {\n",
       "                var nbb_cell_id = 16;\n",
       "                var nbb_unformatted_code = \"df_run_final = final_model_run(0, test=False)\";\n",
       "                var nbb_formatted_code = \"df_run_final = final_model_run(0, test=False)\";\n",
       "                var nbb_cells = Jupyter.notebook.get_cells();\n",
       "                for (var i = 0; i < nbb_cells.length; ++i) {\n",
       "                    if (nbb_cells[i].input_prompt_number == nbb_cell_id) {\n",
       "                        if (nbb_cells[i].get_text() == nbb_unformatted_code) {\n",
       "                             nbb_cells[i].set_text(nbb_formatted_code);\n",
       "                        }\n",
       "                        break;\n",
       "                    }\n",
       "                }\n",
       "            }, 500);\n",
       "            "
      ],
      "text/plain": [
       "<IPython.core.display.Javascript object>"
      ]
     },
     "metadata": {},
     "output_type": "display_data"
    }
   ],
   "source": [
    "df_run_final = final_model_run(0, test=False)"
   ]
  },
  {
   "cell_type": "code",
   "execution_count": 17,
   "id": "eee07aef",
   "metadata": {
    "scrolled": true
   },
   "outputs": [
    {
     "data": {
      "text/plain": [
       "epoch       0.000000\n",
       "loss        0.387507\n",
       "val_loss    0.429526\n",
       "dtype: float64"
      ]
     },
     "execution_count": 17,
     "metadata": {},
     "output_type": "execute_result"
    },
    {
     "data": {
      "application/javascript": [
       "\n",
       "            setTimeout(function() {\n",
       "                var nbb_cell_id = 17;\n",
       "                var nbb_unformatted_code = \"df_run_final.min()\";\n",
       "                var nbb_formatted_code = \"df_run_final.min()\";\n",
       "                var nbb_cells = Jupyter.notebook.get_cells();\n",
       "                for (var i = 0; i < nbb_cells.length; ++i) {\n",
       "                    if (nbb_cells[i].input_prompt_number == nbb_cell_id) {\n",
       "                        if (nbb_cells[i].get_text() == nbb_unformatted_code) {\n",
       "                             nbb_cells[i].set_text(nbb_formatted_code);\n",
       "                        }\n",
       "                        break;\n",
       "                    }\n",
       "                }\n",
       "            }, 500);\n",
       "            "
      ],
      "text/plain": [
       "<IPython.core.display.Javascript object>"
      ]
     },
     "metadata": {},
     "output_type": "display_data"
    }
   ],
   "source": [
    "df_run_final.min()"
   ]
  },
  {
   "cell_type": "code",
   "execution_count": 19,
   "id": "6657805f",
   "metadata": {},
   "outputs": [
    {
     "data": {
      "text/plain": [
       "0.47082883"
      ]
     },
     "execution_count": 19,
     "metadata": {},
     "output_type": "execute_result"
    },
    {
     "data": {
      "application/javascript": [
       "\n",
       "            setTimeout(function() {\n",
       "                var nbb_cell_id = 19;\n",
       "                var nbb_unformatted_code = \"CRPS_baseline_scores_ws10[0].mean()\";\n",
       "                var nbb_formatted_code = \"CRPS_baseline_scores_ws10[0].mean()\";\n",
       "                var nbb_cells = Jupyter.notebook.get_cells();\n",
       "                for (var i = 0; i < nbb_cells.length; ++i) {\n",
       "                    if (nbb_cells[i].input_prompt_number == nbb_cell_id) {\n",
       "                        if (nbb_cells[i].get_text() == nbb_unformatted_code) {\n",
       "                             nbb_cells[i].set_text(nbb_formatted_code);\n",
       "                        }\n",
       "                        break;\n",
       "                    }\n",
       "                }\n",
       "            }, 500);\n",
       "            "
      ],
      "text/plain": [
       "<IPython.core.display.Javascript object>"
      ]
     },
     "metadata": {},
     "output_type": "display_data"
    }
   ],
   "source": [
    "CRPS_baseline_scores_ws10[0].mean()"
   ]
  },
  {
   "cell_type": "code",
   "execution_count": 26,
   "id": "8c62b019",
   "metadata": {},
   "outputs": [
    {
     "data": {
      "text/plain": [
       "0.42495161003237986"
      ]
     },
     "execution_count": 26,
     "metadata": {},
     "output_type": "execute_result"
    },
    {
     "data": {
      "application/javascript": [
       "\n",
       "            setTimeout(function() {\n",
       "                var nbb_cell_id = 26;\n",
       "                var nbb_unformatted_code = \"u_net_scores_t2m[0].mean()\";\n",
       "                var nbb_formatted_code = \"u_net_scores_t2m[0].mean()\";\n",
       "                var nbb_cells = Jupyter.notebook.get_cells();\n",
       "                for (var i = 0; i < nbb_cells.length; ++i) {\n",
       "                    if (nbb_cells[i].input_prompt_number == nbb_cell_id) {\n",
       "                        if (nbb_cells[i].get_text() == nbb_unformatted_code) {\n",
       "                             nbb_cells[i].set_text(nbb_formatted_code);\n",
       "                        }\n",
       "                        break;\n",
       "                    }\n",
       "                }\n",
       "            }, 500);\n",
       "            "
      ],
      "text/plain": [
       "<IPython.core.display.Javascript object>"
      ]
     },
     "metadata": {},
     "output_type": "display_data"
    }
   ],
   "source": [
    "u_net_scores_t2m[0].mean()"
   ]
  },
  {
   "cell_type": "code",
   "execution_count": 25,
   "id": "7c5c2956",
   "metadata": {},
   "outputs": [
    {
     "data": {
      "application/javascript": [
       "\n",
       "            setTimeout(function() {\n",
       "                var nbb_cell_id = 25;\n",
       "                var nbb_unformatted_code = \"# Baseline Scores\\nCRPS_baseline_scores_t2m = crps_load_lead_lat_lon(\\\"t2m\\\")\\nCRPS_baseline_scores_ws10 = crps_load_lead_lat_lon(\\\"ws10\\\")\\n\\n# Global Scores:\\nEMOS_glob_scores_t2m = EMOS_global_load_score(\\\"t2m\\\")\\nEMOS_glob_scores_ws10 = EMOS_global_load_score(\\\"ws10\\\")\\n\\n# Local Scores:\\nEMOS_loc_scores_t2m = EMOS_local_load_score(\\\"t2m\\\")\\nEMOS_loc_scores_ws10 = EMOS_local_load_score(\\\"ws10\\\")\\n\\n# DRN 10 dummy scores:\\nDRN_scores_t2m_dummy_10 = DRN_load_score_dummy_10(\\\"t2m\\\")\\nDRN_scores_ws10_dummy_10 = DRN_load_score_dummy_10(\\\"ws10\\\")\\n\\n# U-net scores:\\nu_net_scores_t2m = u_net_load_score(\\\"t2m\\\")\\nu_net_scores_ws10 = u_net_load_score(\\\"ws10\\\")\";\n",
       "                var nbb_formatted_code = \"# Baseline Scores\\nCRPS_baseline_scores_t2m = crps_load_lead_lat_lon(\\\"t2m\\\")\\nCRPS_baseline_scores_ws10 = crps_load_lead_lat_lon(\\\"ws10\\\")\\n\\n# Global Scores:\\nEMOS_glob_scores_t2m = EMOS_global_load_score(\\\"t2m\\\")\\nEMOS_glob_scores_ws10 = EMOS_global_load_score(\\\"ws10\\\")\\n\\n# Local Scores:\\nEMOS_loc_scores_t2m = EMOS_local_load_score(\\\"t2m\\\")\\nEMOS_loc_scores_ws10 = EMOS_local_load_score(\\\"ws10\\\")\\n\\n# DRN 10 dummy scores:\\nDRN_scores_t2m_dummy_10 = DRN_load_score_dummy_10(\\\"t2m\\\")\\nDRN_scores_ws10_dummy_10 = DRN_load_score_dummy_10(\\\"ws10\\\")\\n\\n# U-net scores:\\nu_net_scores_t2m = u_net_load_score(\\\"t2m\\\")\\nu_net_scores_ws10 = u_net_load_score(\\\"ws10\\\")\";\n",
       "                var nbb_cells = Jupyter.notebook.get_cells();\n",
       "                for (var i = 0; i < nbb_cells.length; ++i) {\n",
       "                    if (nbb_cells[i].input_prompt_number == nbb_cell_id) {\n",
       "                        if (nbb_cells[i].get_text() == nbb_unformatted_code) {\n",
       "                             nbb_cells[i].set_text(nbb_formatted_code);\n",
       "                        }\n",
       "                        break;\n",
       "                    }\n",
       "                }\n",
       "            }, 500);\n",
       "            "
      ],
      "text/plain": [
       "<IPython.core.display.Javascript object>"
      ]
     },
     "metadata": {},
     "output_type": "display_data"
    }
   ],
   "source": [
    "# Baseline Scores\n",
    "CRPS_baseline_scores_t2m = crps_load_lead_lat_lon(\"t2m\")\n",
    "CRPS_baseline_scores_ws10 = crps_load_lead_lat_lon(\"ws10\")\n",
    "\n",
    "# Global Scores:\n",
    "EMOS_glob_scores_t2m = EMOS_global_load_score(\"t2m\")\n",
    "EMOS_glob_scores_ws10 = EMOS_global_load_score(\"ws10\")\n",
    "\n",
    "# Local Scores:\n",
    "EMOS_loc_scores_t2m = EMOS_local_load_score(\"t2m\")\n",
    "EMOS_loc_scores_ws10 = EMOS_local_load_score(\"ws10\")\n",
    "\n",
    "# DRN 10 dummy scores:\n",
    "DRN_scores_t2m_dummy_10 = DRN_load_score_dummy_10(\"t2m\")\n",
    "DRN_scores_ws10_dummy_10 = DRN_load_score_dummy_10(\"ws10\")\n",
    "\n",
    "# U-net scores:\n",
    "u_net_scores_t2m = u_net_load_score(\"t2m\")\n",
    "u_net_scores_ws10 = u_net_load_score(\"ws10\")"
   ]
  },
  {
   "cell_type": "code",
   "execution_count": null,
   "id": "c373b433",
   "metadata": {},
   "outputs": [],
   "source": []
  }
 ],
 "metadata": {
  "kernelspec": {
   "display_name": "Python 3 (ipykernel)",
   "language": "python",
   "name": "python3"
  },
  "language_info": {
   "codemirror_mode": {
    "name": "ipython",
    "version": 3
   },
   "file_extension": ".py",
   "mimetype": "text/x-python",
   "name": "python",
   "nbconvert_exporter": "python",
   "pygments_lexer": "ipython3",
   "version": "3.9.7"
  }
 },
 "nbformat": 4,
 "nbformat_minor": 5
}
