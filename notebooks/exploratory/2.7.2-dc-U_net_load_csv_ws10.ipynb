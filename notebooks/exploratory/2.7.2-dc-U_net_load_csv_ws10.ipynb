{
 "cells": [
  {
   "cell_type": "code",
   "execution_count": 27,
   "id": "3c54516a",
   "metadata": {},
   "outputs": [
    {
     "name": "stdout",
     "output_type": "stream",
     "text": [
      "The nb_black extension is already loaded. To reload it, use:\n",
      "  %reload_ext nb_black\n"
     ]
    },
    {
     "data": {
      "application/javascript": [
       "\n",
       "            setTimeout(function() {\n",
       "                var nbb_cell_id = 27;\n",
       "                var nbb_unformatted_code = \"%load_ext nb_black\";\n",
       "                var nbb_formatted_code = \"%load_ext nb_black\";\n",
       "                var nbb_cells = Jupyter.notebook.get_cells();\n",
       "                for (var i = 0; i < nbb_cells.length; ++i) {\n",
       "                    if (nbb_cells[i].input_prompt_number == nbb_cell_id) {\n",
       "                        if (nbb_cells[i].get_text() == nbb_unformatted_code) {\n",
       "                             nbb_cells[i].set_text(nbb_formatted_code);\n",
       "                        }\n",
       "                        break;\n",
       "                    }\n",
       "                }\n",
       "            }, 500);\n",
       "            "
      ],
      "text/plain": [
       "<IPython.core.display.Javascript object>"
      ]
     },
     "metadata": {},
     "output_type": "display_data"
    }
   ],
   "source": [
    "%load_ext nb_black"
   ]
  },
  {
   "cell_type": "code",
   "execution_count": 28,
   "id": "72d114f1",
   "metadata": {
    "scrolled": false
   },
   "outputs": [
    {
     "data": {
      "application/javascript": [
       "\n",
       "            setTimeout(function() {\n",
       "                var nbb_cell_id = 28;\n",
       "                var nbb_unformatted_code = \"import sys\\n\\nsys.path.append(\\\"/home/dchen/BA_CH_EN/\\\")\\n\\n\\nimport os\\n\\nos.environ[\\n    \\\"CUDA_VISIBLE_DEVICES\\\"\\n] = \\\"-1\\\"  # this line tells TensorFlow not to use any GPU\\n# Basics\\nimport tensorflow as tf\\nimport xarray as xr\\nimport pandas as pd\\n\\n# Helpful\\nfrom tqdm import tqdm\\n\\n# Visualization\\nimport matplotlib.pyplot as plt\\n\\n# My Methods\\nfrom src.utils.CRPS import *  # CRPS metrics\\nfrom src.utils.data_split import *  # Splitting data into X and y\\nfrom src.utils.drn_make_X_array import *  # Import make train array functions (make_X_array)\\nfrom src.models.EMOS import *  # EMOS implementation\\nfrom src.models.DRN.DRN_model import *  # DRN implementation\\nfrom src.models.EMOS_global.EMOS_global_load_score import *  # Load EMOS_global_scores\\nfrom src.models.EMOS_local.EMOS_local_load_score import *  # Load EMOS_global_scores\\nfrom src.models.DRN.DRN_load_score import *  # Load DRN_scores\\nfrom src.models.EMOS_global.EMOS_global_load_model import *  # Load EMOS_global_models\\nfrom src.models.DRN.DRN_load_score_dummy_10 import *  # Load DRN_scores_10\\nimport data.raw.load_data_raw as ldr  # Load raw data\\nimport data.processed.load_data_processed as ldp  # Load processed data normed\\nimport data.processed.load_data_processed_denormed as ldpd  # Load processed data denormed\\nfrom src.models.CRPS_baseline.CRPS_load import *  # Load CRPS scores\\nfrom src.models.U_net.unet import Unet\\nfrom src.models.U_net.u_net_tests_params import *\\nfrom src.models.U_net.unet import *\\nfrom src.models.U_net.u_net_predict_evaluate import *\\nfrom src.models.U_net.u_net_load_score import *\";\n",
       "                var nbb_formatted_code = \"import sys\\n\\nsys.path.append(\\\"/home/dchen/BA_CH_EN/\\\")\\n\\n\\nimport os\\n\\nos.environ[\\n    \\\"CUDA_VISIBLE_DEVICES\\\"\\n] = \\\"-1\\\"  # this line tells TensorFlow not to use any GPU\\n# Basics\\nimport tensorflow as tf\\nimport xarray as xr\\nimport pandas as pd\\n\\n# Helpful\\nfrom tqdm import tqdm\\n\\n# Visualization\\nimport matplotlib.pyplot as plt\\n\\n# My Methods\\nfrom src.utils.CRPS import *  # CRPS metrics\\nfrom src.utils.data_split import *  # Splitting data into X and y\\nfrom src.utils.drn_make_X_array import *  # Import make train array functions (make_X_array)\\nfrom src.models.EMOS import *  # EMOS implementation\\nfrom src.models.DRN.DRN_model import *  # DRN implementation\\nfrom src.models.EMOS_global.EMOS_global_load_score import *  # Load EMOS_global_scores\\nfrom src.models.EMOS_local.EMOS_local_load_score import *  # Load EMOS_global_scores\\nfrom src.models.DRN.DRN_load_score import *  # Load DRN_scores\\nfrom src.models.EMOS_global.EMOS_global_load_model import *  # Load EMOS_global_models\\nfrom src.models.DRN.DRN_load_score_dummy_10 import *  # Load DRN_scores_10\\nimport data.raw.load_data_raw as ldr  # Load raw data\\nimport data.processed.load_data_processed as ldp  # Load processed data normed\\nimport data.processed.load_data_processed_denormed as ldpd  # Load processed data denormed\\nfrom src.models.CRPS_baseline.CRPS_load import *  # Load CRPS scores\\nfrom src.models.U_net.unet import Unet\\nfrom src.models.U_net.u_net_tests_params import *\\nfrom src.models.U_net.unet import *\\nfrom src.models.U_net.u_net_predict_evaluate import *\\nfrom src.models.U_net.u_net_load_score import *\";\n",
       "                var nbb_cells = Jupyter.notebook.get_cells();\n",
       "                for (var i = 0; i < nbb_cells.length; ++i) {\n",
       "                    if (nbb_cells[i].input_prompt_number == nbb_cell_id) {\n",
       "                        if (nbb_cells[i].get_text() == nbb_unformatted_code) {\n",
       "                             nbb_cells[i].set_text(nbb_formatted_code);\n",
       "                        }\n",
       "                        break;\n",
       "                    }\n",
       "                }\n",
       "            }, 500);\n",
       "            "
      ],
      "text/plain": [
       "<IPython.core.display.Javascript object>"
      ]
     },
     "metadata": {},
     "output_type": "display_data"
    }
   ],
   "source": [
    "import sys\n",
    "\n",
    "sys.path.append(\"/home/dchen/BA_CH_EN/\")\n",
    "\n",
    "\n",
    "import os\n",
    "\n",
    "os.environ[\n",
    "    \"CUDA_VISIBLE_DEVICES\"\n",
    "] = \"-1\"  # this line tells TensorFlow not to use any GPU\n",
    "# Basics\n",
    "import tensorflow as tf\n",
    "import xarray as xr\n",
    "import pandas as pd\n",
    "\n",
    "# Helpful\n",
    "from tqdm import tqdm\n",
    "\n",
    "# Visualization\n",
    "import matplotlib.pyplot as plt\n",
    "\n",
    "# My Methods\n",
    "from src.utils.CRPS import *  # CRPS metrics\n",
    "from src.utils.data_split import *  # Splitting data into X and y\n",
    "from src.utils.drn_make_X_array import *  # Import make train array functions (make_X_array)\n",
    "from src.models.EMOS import *  # EMOS implementation\n",
    "from src.models.DRN.DRN_model import *  # DRN implementation\n",
    "from src.models.EMOS_global.EMOS_global_load_score import *  # Load EMOS_global_scores\n",
    "from src.models.EMOS_local.EMOS_local_load_score import *  # Load EMOS_global_scores\n",
    "from src.models.DRN.DRN_load_score import *  # Load DRN_scores\n",
    "from src.models.EMOS_global.EMOS_global_load_model import *  # Load EMOS_global_models\n",
    "from src.models.DRN.DRN_load_score_dummy_10 import *  # Load DRN_scores_10\n",
    "import data.raw.load_data_raw as ldr  # Load raw data\n",
    "import data.processed.load_data_processed as ldp  # Load processed data normed\n",
    "import data.processed.load_data_processed_denormed as ldpd  # Load processed data denormed\n",
    "from src.models.CRPS_baseline.CRPS_load import *  # Load CRPS scores\n",
    "from src.models.U_net.unet import Unet\n",
    "from src.models.U_net.u_net_tests_params import *\n",
    "from src.models.U_net.unet import *\n",
    "from src.models.U_net.u_net_predict_evaluate import *\n",
    "from src.models.U_net.u_net_load_score import *"
   ]
  },
  {
   "cell_type": "markdown",
   "id": "5b6a2ff0",
   "metadata": {},
   "source": [
    "### 0. Set Up"
   ]
  },
  {
   "cell_type": "code",
   "execution_count": 3,
   "id": "d49c6878",
   "metadata": {},
   "outputs": [
    {
     "data": {
      "application/javascript": [
       "\n",
       "            setTimeout(function() {\n",
       "                var nbb_cell_id = 3;\n",
       "                var nbb_unformatted_code = \"lead_time = 0\\nvar_num = 5\\n\\nland_sea_mask_dummy = np.load(\\n    \\\"/Data/Delong_BA_Data/land_sea_mask_dummy/land_sea_mask_dummy.npy\\\"\\n)\\nland_sea_mask_dummy = pad_land_sea_mask(land_sea_mask_dummy)\\nland_sea_mask_dummy = np.repeat(land_sea_mask_dummy[np.newaxis, ...], 357, axis=0)\\n\\n# load data\\ntest_var_mean = []\\ntest_var_std = []\\ntest_var_y = []\\nfor var in range(6):\\n    (\\n        padded_test_data_mean,\\n        padded_test_data_std,\\n        padded_test_data_y,\\n    ) = u_net_load_test_data(var, lead_time)\\n    test_var_mean.append(padded_test_data_mean)\\n    test_var_std.append(padded_test_data_std)\\n    test_var_y.append(padded_test_data_y)\\n\\n# Then, pack all of your input data into a list\\ntest_inputs = test_var_mean + test_var_std + [land_sea_mask_dummy]\\n\\ntest_target = test_var_y[var_num]\";\n",
       "                var nbb_formatted_code = \"lead_time = 0\\nvar_num = 5\\n\\nland_sea_mask_dummy = np.load(\\n    \\\"/Data/Delong_BA_Data/land_sea_mask_dummy/land_sea_mask_dummy.npy\\\"\\n)\\nland_sea_mask_dummy = pad_land_sea_mask(land_sea_mask_dummy)\\nland_sea_mask_dummy = np.repeat(land_sea_mask_dummy[np.newaxis, ...], 357, axis=0)\\n\\n# load data\\ntest_var_mean = []\\ntest_var_std = []\\ntest_var_y = []\\nfor var in range(6):\\n    (\\n        padded_test_data_mean,\\n        padded_test_data_std,\\n        padded_test_data_y,\\n    ) = u_net_load_test_data(var, lead_time)\\n    test_var_mean.append(padded_test_data_mean)\\n    test_var_std.append(padded_test_data_std)\\n    test_var_y.append(padded_test_data_y)\\n\\n# Then, pack all of your input data into a list\\ntest_inputs = test_var_mean + test_var_std + [land_sea_mask_dummy]\\n\\ntest_target = test_var_y[var_num]\";\n",
       "                var nbb_cells = Jupyter.notebook.get_cells();\n",
       "                for (var i = 0; i < nbb_cells.length; ++i) {\n",
       "                    if (nbb_cells[i].input_prompt_number == nbb_cell_id) {\n",
       "                        if (nbb_cells[i].get_text() == nbb_unformatted_code) {\n",
       "                             nbb_cells[i].set_text(nbb_formatted_code);\n",
       "                        }\n",
       "                        break;\n",
       "                    }\n",
       "                }\n",
       "            }, 500);\n",
       "            "
      ],
      "text/plain": [
       "<IPython.core.display.Javascript object>"
      ]
     },
     "metadata": {},
     "output_type": "display_data"
    }
   ],
   "source": [
    "lead_time = 0\n",
    "var_num = 5\n",
    "\n",
    "land_sea_mask_dummy = np.load(\n",
    "    \"/Data/Delong_BA_Data/land_sea_mask_dummy/land_sea_mask_dummy.npy\"\n",
    ")\n",
    "land_sea_mask_dummy = pad_land_sea_mask(land_sea_mask_dummy)\n",
    "land_sea_mask_dummy = np.repeat(land_sea_mask_dummy[np.newaxis, ...], 357, axis=0)\n",
    "\n",
    "# load data\n",
    "test_var_mean = []\n",
    "test_var_std = []\n",
    "test_var_y = []\n",
    "for var in range(6):\n",
    "    (\n",
    "        padded_test_data_mean,\n",
    "        padded_test_data_std,\n",
    "        padded_test_data_y,\n",
    "    ) = u_net_load_test_data(var, lead_time)\n",
    "    test_var_mean.append(padded_test_data_mean)\n",
    "    test_var_std.append(padded_test_data_std)\n",
    "    test_var_y.append(padded_test_data_y)\n",
    "\n",
    "# Then, pack all of your input data into a list\n",
    "test_inputs = test_var_mean + test_var_std + [land_sea_mask_dummy]\n",
    "\n",
    "test_target = test_var_y[var_num]"
   ]
  },
  {
   "cell_type": "code",
   "execution_count": 4,
   "id": "acc4d0b3",
   "metadata": {},
   "outputs": [
    {
     "data": {
      "application/javascript": [
       "\n",
       "            setTimeout(function() {\n",
       "                var nbb_cell_id = 4;\n",
       "                var nbb_unformatted_code = \"def plot_losses(csv_filepath, starting_epoch=0, ending_epoch=1000000000):\\n    # Load the csv file into a pandas DataFrame\\n    data = pd.read_csv(csv_filepath).iloc[starting_epoch:ending_epoch]\\n\\n    # Create a new figure\\n    plt.figure(figsize=(10, 5))\\n\\n    # Plot the training loss\\n    plt.plot(data[\\\"epoch\\\"], data[\\\"loss\\\"], label=\\\"Train Loss\\\")\\n\\n    # Plot the validation loss\\n    plt.plot(data[\\\"epoch\\\"], data[\\\"val_loss\\\"], label=\\\"Validation Loss\\\")\\n\\n    # Set the labels for the x and y axes\\n    plt.xlabel(\\\"Epochs\\\")\\n    plt.ylabel(\\\"Loss\\\")\\n\\n    # Set the title for the plot\\n    plt.title(\\\"Training and Validation Loss\\\")\\n\\n    # Enable the legend\\n    plt.legend()\\n\\n    # Display the plot\\n    plt.show()\\n    return data\";\n",
       "                var nbb_formatted_code = \"def plot_losses(csv_filepath, starting_epoch=0, ending_epoch=1000000000):\\n    # Load the csv file into a pandas DataFrame\\n    data = pd.read_csv(csv_filepath).iloc[starting_epoch:ending_epoch]\\n\\n    # Create a new figure\\n    plt.figure(figsize=(10, 5))\\n\\n    # Plot the training loss\\n    plt.plot(data[\\\"epoch\\\"], data[\\\"loss\\\"], label=\\\"Train Loss\\\")\\n\\n    # Plot the validation loss\\n    plt.plot(data[\\\"epoch\\\"], data[\\\"val_loss\\\"], label=\\\"Validation Loss\\\")\\n\\n    # Set the labels for the x and y axes\\n    plt.xlabel(\\\"Epochs\\\")\\n    plt.ylabel(\\\"Loss\\\")\\n\\n    # Set the title for the plot\\n    plt.title(\\\"Training and Validation Loss\\\")\\n\\n    # Enable the legend\\n    plt.legend()\\n\\n    # Display the plot\\n    plt.show()\\n    return data\";\n",
       "                var nbb_cells = Jupyter.notebook.get_cells();\n",
       "                for (var i = 0; i < nbb_cells.length; ++i) {\n",
       "                    if (nbb_cells[i].input_prompt_number == nbb_cell_id) {\n",
       "                        if (nbb_cells[i].get_text() == nbb_unformatted_code) {\n",
       "                             nbb_cells[i].set_text(nbb_formatted_code);\n",
       "                        }\n",
       "                        break;\n",
       "                    }\n",
       "                }\n",
       "            }, 500);\n",
       "            "
      ],
      "text/plain": [
       "<IPython.core.display.Javascript object>"
      ]
     },
     "metadata": {},
     "output_type": "display_data"
    }
   ],
   "source": [
    "def plot_losses(csv_filepath, starting_epoch=0, ending_epoch=1000000000):\n",
    "    # Load the csv file into a pandas DataFrame\n",
    "    data = pd.read_csv(csv_filepath).iloc[starting_epoch:ending_epoch]\n",
    "\n",
    "    # Create a new figure\n",
    "    plt.figure(figsize=(10, 5))\n",
    "\n",
    "    # Plot the training loss\n",
    "    plt.plot(data[\"epoch\"], data[\"loss\"], label=\"Train Loss\")\n",
    "\n",
    "    # Plot the validation loss\n",
    "    plt.plot(data[\"epoch\"], data[\"val_loss\"], label=\"Validation Loss\")\n",
    "\n",
    "    # Set the labels for the x and y axes\n",
    "    plt.xlabel(\"Epochs\")\n",
    "    plt.ylabel(\"Loss\")\n",
    "\n",
    "    # Set the title for the plot\n",
    "    plt.title(\"Training and Validation Loss\")\n",
    "\n",
    "    # Enable the legend\n",
    "    plt.legend()\n",
    "\n",
    "    # Display the plot\n",
    "    plt.show()\n",
    "    return data"
   ]
  },
  {
   "cell_type": "code",
   "execution_count": 5,
   "id": "04cba359",
   "metadata": {},
   "outputs": [
    {
     "data": {
      "application/javascript": [
       "\n",
       "            setTimeout(function() {\n",
       "                var nbb_cell_id = 5;\n",
       "                var nbb_unformatted_code = \"def test_best_model(path, var_num, lead_time):\\n\\n    model = tf.keras.models.load_model(\\n        path,\\n        custom_objects={\\n            \\\"crps_cost_function_U\\\": crps_cost_function_U,\\n            \\\"crps_cost_function_trunc_U\\\": crps_cost_function_trunc_U,\\n            \\\"CustomSchedule\\\": CustomSchedule,\\n        },\\n    )\\n    # load land_sea_mask\\n    land_sea_mask_dummy = np.load(\\n        \\\"/Data/Delong_BA_Data/land_sea_mask_dummy/land_sea_mask_dummy.npy\\\"\\n    )\\n    land_sea_mask_dummy = pad_land_sea_mask(land_sea_mask_dummy)\\n    land_sea_mask_dummy = np.repeat(land_sea_mask_dummy[np.newaxis, ...], 357, axis=0)\\n    # load data\\n    test_var_mean = []\\n    test_var_std = []\\n    test_var_y = []\\n    for var in range(6):\\n        (\\n            padded_test_data_mean,\\n            padded_test_data_std,\\n            padded_test_data_y,\\n        ) = u_net_load_test_data(var, lead_time)\\n        test_var_mean.append(padded_test_data_mean)\\n        test_var_std.append(padded_test_data_std)\\n        test_var_y.append(padded_test_data_y)\\n\\n    # Then, pack all of your input data into a list\\n    test_inputs = test_var_mean + test_var_std + [land_sea_mask_dummy]\\n\\n    test_target = test_var_y[var_num]\\n    test_target_unpad = unpad_images_y(test_target)\\n\\n    preds = model.predict(test_inputs, verbose=1)\\n    predictions_unpad = unpad_images(preds)\\n    if var_num in [5]:\\n        crps = crps_trunc\\n    else:\\n        crps = crps_normal\\n\\n    scores = crps(\\n        mu=predictions_unpad[:, :, :, 0].flatten(),\\n        sigma=predictions_unpad[:, :, :, 1].flatten(),\\n        y=test_target_unpad.flatten(),\\n    )\\n    scores = scores.reshape((357, 120, 130)).mean(axis=0)\\n    return predictions_unpad, scores\";\n",
       "                var nbb_formatted_code = \"def test_best_model(path, var_num, lead_time):\\n\\n    model = tf.keras.models.load_model(\\n        path,\\n        custom_objects={\\n            \\\"crps_cost_function_U\\\": crps_cost_function_U,\\n            \\\"crps_cost_function_trunc_U\\\": crps_cost_function_trunc_U,\\n            \\\"CustomSchedule\\\": CustomSchedule,\\n        },\\n    )\\n    # load land_sea_mask\\n    land_sea_mask_dummy = np.load(\\n        \\\"/Data/Delong_BA_Data/land_sea_mask_dummy/land_sea_mask_dummy.npy\\\"\\n    )\\n    land_sea_mask_dummy = pad_land_sea_mask(land_sea_mask_dummy)\\n    land_sea_mask_dummy = np.repeat(land_sea_mask_dummy[np.newaxis, ...], 357, axis=0)\\n    # load data\\n    test_var_mean = []\\n    test_var_std = []\\n    test_var_y = []\\n    for var in range(6):\\n        (\\n            padded_test_data_mean,\\n            padded_test_data_std,\\n            padded_test_data_y,\\n        ) = u_net_load_test_data(var, lead_time)\\n        test_var_mean.append(padded_test_data_mean)\\n        test_var_std.append(padded_test_data_std)\\n        test_var_y.append(padded_test_data_y)\\n\\n    # Then, pack all of your input data into a list\\n    test_inputs = test_var_mean + test_var_std + [land_sea_mask_dummy]\\n\\n    test_target = test_var_y[var_num]\\n    test_target_unpad = unpad_images_y(test_target)\\n\\n    preds = model.predict(test_inputs, verbose=1)\\n    predictions_unpad = unpad_images(preds)\\n    if var_num in [5]:\\n        crps = crps_trunc\\n    else:\\n        crps = crps_normal\\n\\n    scores = crps(\\n        mu=predictions_unpad[:, :, :, 0].flatten(),\\n        sigma=predictions_unpad[:, :, :, 1].flatten(),\\n        y=test_target_unpad.flatten(),\\n    )\\n    scores = scores.reshape((357, 120, 130)).mean(axis=0)\\n    return predictions_unpad, scores\";\n",
       "                var nbb_cells = Jupyter.notebook.get_cells();\n",
       "                for (var i = 0; i < nbb_cells.length; ++i) {\n",
       "                    if (nbb_cells[i].input_prompt_number == nbb_cell_id) {\n",
       "                        if (nbb_cells[i].get_text() == nbb_unformatted_code) {\n",
       "                             nbb_cells[i].set_text(nbb_formatted_code);\n",
       "                        }\n",
       "                        break;\n",
       "                    }\n",
       "                }\n",
       "            }, 500);\n",
       "            "
      ],
      "text/plain": [
       "<IPython.core.display.Javascript object>"
      ]
     },
     "metadata": {},
     "output_type": "display_data"
    }
   ],
   "source": [
    "def test_best_model(path, var_num, lead_time):\n",
    "\n",
    "    model = tf.keras.models.load_model(\n",
    "        path,\n",
    "        custom_objects={\n",
    "            \"crps_cost_function_U\": crps_cost_function_U,\n",
    "            \"crps_cost_function_trunc_U\": crps_cost_function_trunc_U,\n",
    "            \"CustomSchedule\": CustomSchedule,\n",
    "        },\n",
    "    )\n",
    "    # load land_sea_mask\n",
    "    land_sea_mask_dummy = np.load(\n",
    "        \"/Data/Delong_BA_Data/land_sea_mask_dummy/land_sea_mask_dummy.npy\"\n",
    "    )\n",
    "    land_sea_mask_dummy = pad_land_sea_mask(land_sea_mask_dummy)\n",
    "    land_sea_mask_dummy = np.repeat(land_sea_mask_dummy[np.newaxis, ...], 357, axis=0)\n",
    "    # load data\n",
    "    test_var_mean = []\n",
    "    test_var_std = []\n",
    "    test_var_y = []\n",
    "    for var in range(6):\n",
    "        (\n",
    "            padded_test_data_mean,\n",
    "            padded_test_data_std,\n",
    "            padded_test_data_y,\n",
    "        ) = u_net_load_test_data(var, lead_time)\n",
    "        test_var_mean.append(padded_test_data_mean)\n",
    "        test_var_std.append(padded_test_data_std)\n",
    "        test_var_y.append(padded_test_data_y)\n",
    "\n",
    "    # Then, pack all of your input data into a list\n",
    "    test_inputs = test_var_mean + test_var_std + [land_sea_mask_dummy]\n",
    "\n",
    "    test_target = test_var_y[var_num]\n",
    "    test_target_unpad = unpad_images_y(test_target)\n",
    "\n",
    "    preds = model.predict(test_inputs, verbose=1)\n",
    "    predictions_unpad = unpad_images(preds)\n",
    "    if var_num in [5]:\n",
    "        crps = crps_trunc\n",
    "    else:\n",
    "        crps = crps_normal\n",
    "\n",
    "    scores = crps(\n",
    "        mu=predictions_unpad[:, :, :, 0].flatten(),\n",
    "        sigma=predictions_unpad[:, :, :, 1].flatten(),\n",
    "        y=test_target_unpad.flatten(),\n",
    "    )\n",
    "    scores = scores.reshape((357, 120, 130)).mean(axis=0)\n",
    "    return predictions_unpad, scores"
   ]
  },
  {
   "cell_type": "code",
   "execution_count": 6,
   "id": "bc74ffd9",
   "metadata": {},
   "outputs": [
    {
     "data": {
      "application/javascript": [
       "\n",
       "            setTimeout(function() {\n",
       "                var nbb_cell_id = 6;\n",
       "                var nbb_unformatted_code = \"def train_best_model(path, var_num, lead_time):\\n\\n    model = tf.keras.models.load_model(\\n        path,\\n        custom_objects={\\n            \\\"crps_cost_function_U\\\": crps_cost_function_U,\\n            \\\"crps_cost_function_trunc_U\\\": crps_cost_function_trunc_U,\\n            \\\"CustomSchedule\\\": CustomSchedule,\\n        },\\n    )\\n    # load land_sea_mask\\n    land_sea_mask_dummy = np.load(\\n        \\\"/Data/Delong_BA_Data/land_sea_mask_dummy/land_sea_mask_dummy.npy\\\"\\n    )\\n    land_sea_mask_dummy = pad_land_sea_mask(land_sea_mask_dummy)\\n    land_sea_mask_dummy = np.repeat(land_sea_mask_dummy[np.newaxis, ...], 1429, axis=0)\\n    # load data\\n    train_var_mean = []\\n    train_var_std = []\\n    train_var_y = []\\n    for var in range(6):\\n        (\\n            padded_train_data_mean,\\n            padded_train_data_std,\\n            padded_train_data_y,\\n        ) = u_net_load_train_data(var, lead_time)\\n        train_var_mean.append(padded_train_data_mean)\\n        train_var_std.append(padded_train_data_std)\\n        train_var_y.append(padded_train_data_y)\\n\\n    # Then, pack all of your input data into a list\\n    train_inputs = train_var_mean + train_var_std + [land_sea_mask_dummy]\\n\\n    train_target = train_var_y[var_num]\\n    train_target_unpad = unpad_images_y(train_target)\\n\\n    preds = model.predict(train_inputs, verbose=1)\\n    predictions_unpad = unpad_images(preds)\\n    if var_num in [5]:\\n        crps = crps_trunc\\n    else:\\n        crps = crps_normal\\n\\n    scores = crps(\\n        mu=predictions_unpad[:, :, :, 0].flatten(),\\n        sigma=predictions_unpad[:, :, :, 1].flatten(),\\n        y=train_target_unpad.flatten(),\\n    )\\n    scores = scores.reshape((1429, 120, 130)).mean(axis=0)\\n    return predictions_unpad, scores\";\n",
       "                var nbb_formatted_code = \"def train_best_model(path, var_num, lead_time):\\n\\n    model = tf.keras.models.load_model(\\n        path,\\n        custom_objects={\\n            \\\"crps_cost_function_U\\\": crps_cost_function_U,\\n            \\\"crps_cost_function_trunc_U\\\": crps_cost_function_trunc_U,\\n            \\\"CustomSchedule\\\": CustomSchedule,\\n        },\\n    )\\n    # load land_sea_mask\\n    land_sea_mask_dummy = np.load(\\n        \\\"/Data/Delong_BA_Data/land_sea_mask_dummy/land_sea_mask_dummy.npy\\\"\\n    )\\n    land_sea_mask_dummy = pad_land_sea_mask(land_sea_mask_dummy)\\n    land_sea_mask_dummy = np.repeat(land_sea_mask_dummy[np.newaxis, ...], 1429, axis=0)\\n    # load data\\n    train_var_mean = []\\n    train_var_std = []\\n    train_var_y = []\\n    for var in range(6):\\n        (\\n            padded_train_data_mean,\\n            padded_train_data_std,\\n            padded_train_data_y,\\n        ) = u_net_load_train_data(var, lead_time)\\n        train_var_mean.append(padded_train_data_mean)\\n        train_var_std.append(padded_train_data_std)\\n        train_var_y.append(padded_train_data_y)\\n\\n    # Then, pack all of your input data into a list\\n    train_inputs = train_var_mean + train_var_std + [land_sea_mask_dummy]\\n\\n    train_target = train_var_y[var_num]\\n    train_target_unpad = unpad_images_y(train_target)\\n\\n    preds = model.predict(train_inputs, verbose=1)\\n    predictions_unpad = unpad_images(preds)\\n    if var_num in [5]:\\n        crps = crps_trunc\\n    else:\\n        crps = crps_normal\\n\\n    scores = crps(\\n        mu=predictions_unpad[:, :, :, 0].flatten(),\\n        sigma=predictions_unpad[:, :, :, 1].flatten(),\\n        y=train_target_unpad.flatten(),\\n    )\\n    scores = scores.reshape((1429, 120, 130)).mean(axis=0)\\n    return predictions_unpad, scores\";\n",
       "                var nbb_cells = Jupyter.notebook.get_cells();\n",
       "                for (var i = 0; i < nbb_cells.length; ++i) {\n",
       "                    if (nbb_cells[i].input_prompt_number == nbb_cell_id) {\n",
       "                        if (nbb_cells[i].get_text() == nbb_unformatted_code) {\n",
       "                             nbb_cells[i].set_text(nbb_formatted_code);\n",
       "                        }\n",
       "                        break;\n",
       "                    }\n",
       "                }\n",
       "            }, 500);\n",
       "            "
      ],
      "text/plain": [
       "<IPython.core.display.Javascript object>"
      ]
     },
     "metadata": {},
     "output_type": "display_data"
    }
   ],
   "source": [
    "def train_best_model(path, var_num, lead_time):\n",
    "\n",
    "    model = tf.keras.models.load_model(\n",
    "        path,\n",
    "        custom_objects={\n",
    "            \"crps_cost_function_U\": crps_cost_function_U,\n",
    "            \"crps_cost_function_trunc_U\": crps_cost_function_trunc_U,\n",
    "            \"CustomSchedule\": CustomSchedule,\n",
    "        },\n",
    "    )\n",
    "    # load land_sea_mask\n",
    "    land_sea_mask_dummy = np.load(\n",
    "        \"/Data/Delong_BA_Data/land_sea_mask_dummy/land_sea_mask_dummy.npy\"\n",
    "    )\n",
    "    land_sea_mask_dummy = pad_land_sea_mask(land_sea_mask_dummy)\n",
    "    land_sea_mask_dummy = np.repeat(land_sea_mask_dummy[np.newaxis, ...], 1429, axis=0)\n",
    "    # load data\n",
    "    train_var_mean = []\n",
    "    train_var_std = []\n",
    "    train_var_y = []\n",
    "    for var in range(6):\n",
    "        (\n",
    "            padded_train_data_mean,\n",
    "            padded_train_data_std,\n",
    "            padded_train_data_y,\n",
    "        ) = u_net_load_train_data(var, lead_time)\n",
    "        train_var_mean.append(padded_train_data_mean)\n",
    "        train_var_std.append(padded_train_data_std)\n",
    "        train_var_y.append(padded_train_data_y)\n",
    "\n",
    "    # Then, pack all of your input data into a list\n",
    "    train_inputs = train_var_mean + train_var_std + [land_sea_mask_dummy]\n",
    "\n",
    "    train_target = train_var_y[var_num]\n",
    "    train_target_unpad = unpad_images_y(train_target)\n",
    "\n",
    "    preds = model.predict(train_inputs, verbose=1)\n",
    "    predictions_unpad = unpad_images(preds)\n",
    "    if var_num in [5]:\n",
    "        crps = crps_trunc\n",
    "    else:\n",
    "        crps = crps_normal\n",
    "\n",
    "    scores = crps(\n",
    "        mu=predictions_unpad[:, :, :, 0].flatten(),\n",
    "        sigma=predictions_unpad[:, :, :, 1].flatten(),\n",
    "        y=train_target_unpad.flatten(),\n",
    "    )\n",
    "    scores = scores.reshape((1429, 120, 130)).mean(axis=0)\n",
    "    return predictions_unpad, scores\n"
   ]
  },
  {
   "cell_type": "markdown",
   "id": "01432389",
   "metadata": {},
   "source": [
    "### Run 1"
   ]
  },
  {
   "cell_type": "code",
   "execution_count": 52,
   "id": "624e453d",
   "metadata": {
    "scrolled": true
   },
   "outputs": [
    {
     "data": {
      "image/png": "[encoded data removed]",
      "text/plain": [
       "<Figure size 720x360 with 1 Axes>"
      ]
     },
     "metadata": {
      "needs_background": "light"
     },
     "output_type": "display_data"
    },
    {
     "data": {
      "application/javascript": [
       "\n",
       "            setTimeout(function() {\n",
       "                var nbb_cell_id = 52;\n",
       "                var nbb_unformatted_code = \"df_run_1_0 = plot_losses(\\n    \\\"/Data/Delong_BA_Data/models/U_net/csv_log/_training_log_var_5_lead_0_lr_1e-05_ep_3000_bs_32_filters24.csv\\\",\\n)\";\n",
       "                var nbb_formatted_code = \"df_run_1_0 = plot_losses(\\n    \\\"/Data/Delong_BA_Data/models/U_net/csv_log/_training_log_var_5_lead_0_lr_1e-05_ep_3000_bs_32_filters24.csv\\\",\\n)\";\n",
       "                var nbb_cells = Jupyter.notebook.get_cells();\n",
       "                for (var i = 0; i < nbb_cells.length; ++i) {\n",
       "                    if (nbb_cells[i].input_prompt_number == nbb_cell_id) {\n",
       "                        if (nbb_cells[i].get_text() == nbb_unformatted_code) {\n",
       "                             nbb_cells[i].set_text(nbb_formatted_code);\n",
       "                        }\n",
       "                        break;\n",
       "                    }\n",
       "                }\n",
       "            }, 500);\n",
       "            "
      ],
      "text/plain": [
       "<IPython.core.display.Javascript object>"
      ]
     },
     "metadata": {},
     "output_type": "display_data"
    }
   ],
   "source": [
    "df_run_1_0 = plot_losses(\n",
    "    \"/Data/Delong_BA_Data/models/U_net/csv_log/_training_log_var_5_lead_0_lr_1e-05_ep_3000_bs_32_filters24.csv\",\n",
    ")"
   ]
  },
  {
   "cell_type": "code",
   "execution_count": 47,
   "id": "20176bcc",
   "metadata": {
    "scrolled": false
   },
   "outputs": [
    {
     "data": {
      "text/html": [
       "<div>\n",
       "<style scoped>\n",
       "    .dataframe tbody tr th:only-of-type {\n",
       "        vertical-align: middle;\n",
       "    }\n",
       "\n",
       "    .dataframe tbody tr th {\n",
       "        vertical-align: top;\n",
       "    }\n",
       "\n",
       "    .dataframe thead th {\n",
       "        text-align: right;\n",
       "    }\n",
       "</style>\n",
       "<table border=\"1\" class=\"dataframe\">\n",
       "  <thead>\n",
       "    <tr style=\"text-align: right;\">\n",
       "      <th></th>\n",
       "      <th>epoch</th>\n",
       "      <th>loss</th>\n",
       "      <th>val_loss</th>\n",
       "    </tr>\n",
       "  </thead>\n",
       "  <tbody>\n",
       "    <tr>\n",
       "      <th>0</th>\n",
       "      <td>0</td>\n",
       "      <td>3.928156</td>\n",
       "      <td>4.677352</td>\n",
       "    </tr>\n",
       "    <tr>\n",
       "      <th>1</th>\n",
       "      <td>1</td>\n",
       "      <td>3.454916</td>\n",
       "      <td>4.594439</td>\n",
       "    </tr>\n",
       "    <tr>\n",
       "      <th>2</th>\n",
       "      <td>2</td>\n",
       "      <td>2.977125</td>\n",
       "      <td>4.468586</td>\n",
       "    </tr>\n",
       "    <tr>\n",
       "      <th>3</th>\n",
       "      <td>3</td>\n",
       "      <td>2.543129</td>\n",
       "      <td>4.281043</td>\n",
       "    </tr>\n",
       "    <tr>\n",
       "      <th>4</th>\n",
       "      <td>4</td>\n",
       "      <td>2.184974</td>\n",
       "      <td>4.018570</td>\n",
       "    </tr>\n",
       "    <tr>\n",
       "      <th>...</th>\n",
       "      <td>...</td>\n",
       "      <td>...</td>\n",
       "      <td>...</td>\n",
       "    </tr>\n",
       "    <tr>\n",
       "      <th>468</th>\n",
       "      <td>468</td>\n",
       "      <td>0.402281</td>\n",
       "      <td>0.427000</td>\n",
       "    </tr>\n",
       "    <tr>\n",
       "      <th>469</th>\n",
       "      <td>469</td>\n",
       "      <td>0.398157</td>\n",
       "      <td>0.422255</td>\n",
       "    </tr>\n",
       "    <tr>\n",
       "      <th>470</th>\n",
       "      <td>470</td>\n",
       "      <td>0.400951</td>\n",
       "      <td>0.422900</td>\n",
       "    </tr>\n",
       "    <tr>\n",
       "      <th>471</th>\n",
       "      <td>471</td>\n",
       "      <td>0.399093</td>\n",
       "      <td>0.422065</td>\n",
       "    </tr>\n",
       "    <tr>\n",
       "      <th>472</th>\n",
       "      <td>472</td>\n",
       "      <td>0.398523</td>\n",
       "      <td>0.421042</td>\n",
       "    </tr>\n",
       "  </tbody>\n",
       "</table>\n",
       "<p>473 rows × 3 columns</p>\n",
       "</div>"
      ],
      "text/plain": [
       "     epoch      loss  val_loss\n",
       "0        0  3.928156  4.677352\n",
       "1        1  3.454916  4.594439\n",
       "2        2  2.977125  4.468586\n",
       "3        3  2.543129  4.281043\n",
       "4        4  2.184974  4.018570\n",
       "..     ...       ...       ...\n",
       "468    468  0.402281  0.427000\n",
       "469    469  0.398157  0.422255\n",
       "470    470  0.400951  0.422900\n",
       "471    471  0.399093  0.422065\n",
       "472    472  0.398523  0.421042\n",
       "\n",
       "[473 rows x 3 columns]"
      ]
     },
     "execution_count": 47,
     "metadata": {},
     "output_type": "execute_result"
    },
    {
     "data": {
      "application/javascript": [
       "\n",
       "            setTimeout(function() {\n",
       "                var nbb_cell_id = 47;\n",
       "                var nbb_unformatted_code = \"df_run_1_0\";\n",
       "                var nbb_formatted_code = \"df_run_1_0\";\n",
       "                var nbb_cells = Jupyter.notebook.get_cells();\n",
       "                for (var i = 0; i < nbb_cells.length; ++i) {\n",
       "                    if (nbb_cells[i].input_prompt_number == nbb_cell_id) {\n",
       "                        if (nbb_cells[i].get_text() == nbb_unformatted_code) {\n",
       "                             nbb_cells[i].set_text(nbb_formatted_code);\n",
       "                        }\n",
       "                        break;\n",
       "                    }\n",
       "                }\n",
       "            }, 500);\n",
       "            "
      ],
      "text/plain": [
       "<IPython.core.display.Javascript object>"
      ]
     },
     "metadata": {},
     "output_type": "display_data"
    }
   ],
   "source": [
    "df_run_1_0"
   ]
  },
  {
   "cell_type": "code",
   "execution_count": 57,
   "id": "3313e3b9",
   "metadata": {
    "scrolled": false
   },
   "outputs": [
    {
     "name": "stdout",
     "output_type": "stream",
     "text": [
      "12/12 [==============================] - 23s 2s/step\n",
      "Number of Nan Values: 0\n",
      "Number of inf Values: 0\n"
     ]
    },
    {
     "data": {
      "text/plain": [
       "0.4324438"
      ]
     },
     "execution_count": 57,
     "metadata": {},
     "output_type": "execute_result"
    },
    {
     "data": {
      "application/javascript": [
       "\n",
       "            setTimeout(function() {\n",
       "                var nbb_cell_id = 57;\n",
       "                var nbb_unformatted_code = \"test_preds, test_scores = test_best_model(\\n    \\\"/Data/Delong_BA_Data/models/U_net/models/_unet_model_var_5_lead_0_lr_1e-05_ep_3000_bs_32_filters24.h5\\\",\\n    5,\\n    0,\\n)\\n\\nprint(f\\\"Number of Nan Values: {np.isnan(test_scores).sum()}\\\")\\nprint(f\\\"Number of inf Values: {np.isinf(test_scores).sum()}\\\")\\ntesting = test_scores[~np.isnan(test_scores)]\\ntesting = testing[~np.isinf(testing)]\\ntesting.mean()\";\n",
       "                var nbb_formatted_code = \"test_preds, test_scores = test_best_model(\\n    \\\"/Data/Delong_BA_Data/models/U_net/models/_unet_model_var_5_lead_0_lr_1e-05_ep_3000_bs_32_filters24.h5\\\",\\n    5,\\n    0,\\n)\\n\\nprint(f\\\"Number of Nan Values: {np.isnan(test_scores).sum()}\\\")\\nprint(f\\\"Number of inf Values: {np.isinf(test_scores).sum()}\\\")\\ntesting = test_scores[~np.isnan(test_scores)]\\ntesting = testing[~np.isinf(testing)]\\ntesting.mean()\";\n",
       "                var nbb_cells = Jupyter.notebook.get_cells();\n",
       "                for (var i = 0; i < nbb_cells.length; ++i) {\n",
       "                    if (nbb_cells[i].input_prompt_number == nbb_cell_id) {\n",
       "                        if (nbb_cells[i].get_text() == nbb_unformatted_code) {\n",
       "                             nbb_cells[i].set_text(nbb_formatted_code);\n",
       "                        }\n",
       "                        break;\n",
       "                    }\n",
       "                }\n",
       "            }, 500);\n",
       "            "
      ],
      "text/plain": [
       "<IPython.core.display.Javascript object>"
      ]
     },
     "metadata": {},
     "output_type": "display_data"
    }
   ],
   "source": [
    "test_preds, test_scores = test_best_model(\n",
    "    \"/Data/Delong_BA_Data/models/U_net/models/_unet_model_var_5_lead_0_lr_1e-05_ep_3000_bs_32_filters24.h5\",\n",
    "    5,\n",
    "    0,\n",
    ")\n",
    "\n",
    "print(f\"Number of Nan Values: {np.isnan(test_scores).sum()}\")\n",
    "print(f\"Number of inf Values: {np.isinf(test_scores).sum()}\")\n",
    "testing = test_scores[~np.isnan(test_scores)]\n",
    "testing = testing[~np.isinf(testing)]\n",
    "testing.mean()"
   ]
  },
  {
   "cell_type": "code",
   "execution_count": 33,
   "id": "e1c34e73",
   "metadata": {
    "collapsed": true
   },
   "outputs": [
    {
     "ename": "FileNotFoundError",
     "evalue": "[Errno 2] No such file or directory: '/Data/Delong_BA_Data/models/U_net/models/_unet_model_var_5_lead_15_lr_1e-05_ep_3000_bs_32_filters24.h5'",
     "output_type": "error",
     "traceback": [
      "\u001b[0;31m---------------------------------------------------------------------------\u001b[0m",
      "\u001b[0;31mFileNotFoundError\u001b[0m                         Traceback (most recent call last)",
      "\u001b[0;32m/tmp/ipykernel_4037892/4008915132.py\u001b[0m in \u001b[0;36m<module>\u001b[0;34m\u001b[0m\n\u001b[0;32m----> 1\u001b[0;31m df_run_1_15 = plot_losses(\n\u001b[0m\u001b[1;32m      2\u001b[0m     \u001b[0;34m\"/Data/Delong_BA_Data/models/U_net/models/_unet_model_var_5_lead_15_lr_1e-05_ep_3000_bs_32_filters24.h5\"\u001b[0m\u001b[0;34m\u001b[0m\u001b[0;34m\u001b[0m\u001b[0m\n\u001b[1;32m      3\u001b[0m )\n",
      "\u001b[0;32m/tmp/ipykernel_4037892/1825448587.py\u001b[0m in \u001b[0;36mplot_losses\u001b[0;34m(csv_filepath, starting_epoch, ending_epoch)\u001b[0m\n\u001b[1;32m      1\u001b[0m \u001b[0;32mdef\u001b[0m \u001b[0mplot_losses\u001b[0m\u001b[0;34m(\u001b[0m\u001b[0mcsv_filepath\u001b[0m\u001b[0;34m,\u001b[0m \u001b[0mstarting_epoch\u001b[0m\u001b[0;34m=\u001b[0m\u001b[0;36m0\u001b[0m\u001b[0;34m,\u001b[0m \u001b[0mending_epoch\u001b[0m\u001b[0;34m=\u001b[0m\u001b[0;36m1000000000\u001b[0m\u001b[0;34m)\u001b[0m\u001b[0;34m:\u001b[0m\u001b[0;34m\u001b[0m\u001b[0;34m\u001b[0m\u001b[0m\n\u001b[1;32m      2\u001b[0m     \u001b[0;31m# Load the csv file into a pandas DataFrame\u001b[0m\u001b[0;34m\u001b[0m\u001b[0;34m\u001b[0m\u001b[0m\n\u001b[0;32m----> 3\u001b[0;31m     \u001b[0mdata\u001b[0m \u001b[0;34m=\u001b[0m \u001b[0mpd\u001b[0m\u001b[0;34m.\u001b[0m\u001b[0mread_csv\u001b[0m\u001b[0;34m(\u001b[0m\u001b[0mcsv_filepath\u001b[0m\u001b[0;34m)\u001b[0m\u001b[0;34m.\u001b[0m\u001b[0miloc\u001b[0m\u001b[0;34m[\u001b[0m\u001b[0mstarting_epoch\u001b[0m\u001b[0;34m:\u001b[0m\u001b[0mending_epoch\u001b[0m\u001b[0;34m]\u001b[0m\u001b[0;34m\u001b[0m\u001b[0;34m\u001b[0m\u001b[0m\n\u001b[0m\u001b[1;32m      4\u001b[0m \u001b[0;34m\u001b[0m\u001b[0m\n\u001b[1;32m      5\u001b[0m     \u001b[0;31m# Create a new figure\u001b[0m\u001b[0;34m\u001b[0m\u001b[0;34m\u001b[0m\u001b[0m\n",
      "\u001b[0;32m~/.conda/envs/Bach_Del_new/lib/python3.9/site-packages/pandas/util/_decorators.py\u001b[0m in \u001b[0;36mwrapper\u001b[0;34m(*args, **kwargs)\u001b[0m\n\u001b[1;32m    309\u001b[0m                     \u001b[0mstacklevel\u001b[0m\u001b[0;34m=\u001b[0m\u001b[0mstacklevel\u001b[0m\u001b[0;34m,\u001b[0m\u001b[0;34m\u001b[0m\u001b[0;34m\u001b[0m\u001b[0m\n\u001b[1;32m    310\u001b[0m                 )\n\u001b[0;32m--> 311\u001b[0;31m             \u001b[0;32mreturn\u001b[0m \u001b[0mfunc\u001b[0m\u001b[0;34m(\u001b[0m\u001b[0;34m*\u001b[0m\u001b[0margs\u001b[0m\u001b[0;34m,\u001b[0m \u001b[0;34m**\u001b[0m\u001b[0mkwargs\u001b[0m\u001b[0;34m)\u001b[0m\u001b[0;34m\u001b[0m\u001b[0;34m\u001b[0m\u001b[0m\n\u001b[0m\u001b[1;32m    312\u001b[0m \u001b[0;34m\u001b[0m\u001b[0m\n\u001b[1;32m    313\u001b[0m         \u001b[0;32mreturn\u001b[0m \u001b[0mwrapper\u001b[0m\u001b[0;34m\u001b[0m\u001b[0;34m\u001b[0m\u001b[0m\n",
      "\u001b[0;32m~/.conda/envs/Bach_Del_new/lib/python3.9/site-packages/pandas/io/parsers/readers.py\u001b[0m in \u001b[0;36mread_csv\u001b[0;34m(filepath_or_buffer, sep, delimiter, header, names, index_col, usecols, squeeze, prefix, mangle_dupe_cols, dtype, engine, converters, true_values, false_values, skipinitialspace, skiprows, skipfooter, nrows, na_values, keep_default_na, na_filter, verbose, skip_blank_lines, parse_dates, infer_datetime_format, keep_date_col, date_parser, dayfirst, cache_dates, iterator, chunksize, compression, thousands, decimal, lineterminator, quotechar, quoting, doublequote, escapechar, comment, encoding, encoding_errors, dialect, error_bad_lines, warn_bad_lines, on_bad_lines, delim_whitespace, low_memory, memory_map, float_precision, storage_options)\u001b[0m\n\u001b[1;32m    584\u001b[0m     \u001b[0mkwds\u001b[0m\u001b[0;34m.\u001b[0m\u001b[0mupdate\u001b[0m\u001b[0;34m(\u001b[0m\u001b[0mkwds_defaults\u001b[0m\u001b[0;34m)\u001b[0m\u001b[0;34m\u001b[0m\u001b[0;34m\u001b[0m\u001b[0m\n\u001b[1;32m    585\u001b[0m \u001b[0;34m\u001b[0m\u001b[0m\n\u001b[0;32m--> 586\u001b[0;31m     \u001b[0;32mreturn\u001b[0m \u001b[0m_read\u001b[0m\u001b[0;34m(\u001b[0m\u001b[0mfilepath_or_buffer\u001b[0m\u001b[0;34m,\u001b[0m \u001b[0mkwds\u001b[0m\u001b[0;34m)\u001b[0m\u001b[0;34m\u001b[0m\u001b[0;34m\u001b[0m\u001b[0m\n\u001b[0m\u001b[1;32m    587\u001b[0m \u001b[0;34m\u001b[0m\u001b[0m\n\u001b[1;32m    588\u001b[0m \u001b[0;34m\u001b[0m\u001b[0m\n",
      "\u001b[0;32m~/.conda/envs/Bach_Del_new/lib/python3.9/site-packages/pandas/io/parsers/readers.py\u001b[0m in \u001b[0;36m_read\u001b[0;34m(filepath_or_buffer, kwds)\u001b[0m\n\u001b[1;32m    480\u001b[0m \u001b[0;34m\u001b[0m\u001b[0m\n\u001b[1;32m    481\u001b[0m     \u001b[0;31m# Create the parser.\u001b[0m\u001b[0;34m\u001b[0m\u001b[0;34m\u001b[0m\u001b[0m\n\u001b[0;32m--> 482\u001b[0;31m     \u001b[0mparser\u001b[0m \u001b[0;34m=\u001b[0m \u001b[0mTextFileReader\u001b[0m\u001b[0;34m(\u001b[0m\u001b[0mfilepath_or_buffer\u001b[0m\u001b[0;34m,\u001b[0m \u001b[0;34m**\u001b[0m\u001b[0mkwds\u001b[0m\u001b[0;34m)\u001b[0m\u001b[0;34m\u001b[0m\u001b[0;34m\u001b[0m\u001b[0m\n\u001b[0m\u001b[1;32m    483\u001b[0m \u001b[0;34m\u001b[0m\u001b[0m\n\u001b[1;32m    484\u001b[0m     \u001b[0;32mif\u001b[0m \u001b[0mchunksize\u001b[0m \u001b[0;32mor\u001b[0m \u001b[0miterator\u001b[0m\u001b[0;34m:\u001b[0m\u001b[0;34m\u001b[0m\u001b[0;34m\u001b[0m\u001b[0m\n",
      "\u001b[0;32m~/.conda/envs/Bach_Del_new/lib/python3.9/site-packages/pandas/io/parsers/readers.py\u001b[0m in \u001b[0;36m__init__\u001b[0;34m(self, f, engine, **kwds)\u001b[0m\n\u001b[1;32m    809\u001b[0m             \u001b[0mself\u001b[0m\u001b[0;34m.\u001b[0m\u001b[0moptions\u001b[0m\u001b[0;34m[\u001b[0m\u001b[0;34m\"has_index_names\"\u001b[0m\u001b[0;34m]\u001b[0m \u001b[0;34m=\u001b[0m \u001b[0mkwds\u001b[0m\u001b[0;34m[\u001b[0m\u001b[0;34m\"has_index_names\"\u001b[0m\u001b[0;34m]\u001b[0m\u001b[0;34m\u001b[0m\u001b[0;34m\u001b[0m\u001b[0m\n\u001b[1;32m    810\u001b[0m \u001b[0;34m\u001b[0m\u001b[0m\n\u001b[0;32m--> 811\u001b[0;31m         \u001b[0mself\u001b[0m\u001b[0;34m.\u001b[0m\u001b[0m_engine\u001b[0m \u001b[0;34m=\u001b[0m \u001b[0mself\u001b[0m\u001b[0;34m.\u001b[0m\u001b[0m_make_engine\u001b[0m\u001b[0;34m(\u001b[0m\u001b[0mself\u001b[0m\u001b[0;34m.\u001b[0m\u001b[0mengine\u001b[0m\u001b[0;34m)\u001b[0m\u001b[0;34m\u001b[0m\u001b[0;34m\u001b[0m\u001b[0m\n\u001b[0m\u001b[1;32m    812\u001b[0m \u001b[0;34m\u001b[0m\u001b[0m\n\u001b[1;32m    813\u001b[0m     \u001b[0;32mdef\u001b[0m \u001b[0mclose\u001b[0m\u001b[0;34m(\u001b[0m\u001b[0mself\u001b[0m\u001b[0;34m)\u001b[0m\u001b[0;34m:\u001b[0m\u001b[0;34m\u001b[0m\u001b[0;34m\u001b[0m\u001b[0m\n",
      "\u001b[0;32m~/.conda/envs/Bach_Del_new/lib/python3.9/site-packages/pandas/io/parsers/readers.py\u001b[0m in \u001b[0;36m_make_engine\u001b[0;34m(self, engine)\u001b[0m\n\u001b[1;32m   1038\u001b[0m             )\n\u001b[1;32m   1039\u001b[0m         \u001b[0;31m# error: Too many arguments for \"ParserBase\"\u001b[0m\u001b[0;34m\u001b[0m\u001b[0;34m\u001b[0m\u001b[0m\n\u001b[0;32m-> 1040\u001b[0;31m         \u001b[0;32mreturn\u001b[0m \u001b[0mmapping\u001b[0m\u001b[0;34m[\u001b[0m\u001b[0mengine\u001b[0m\u001b[0;34m]\u001b[0m\u001b[0;34m(\u001b[0m\u001b[0mself\u001b[0m\u001b[0;34m.\u001b[0m\u001b[0mf\u001b[0m\u001b[0;34m,\u001b[0m \u001b[0;34m**\u001b[0m\u001b[0mself\u001b[0m\u001b[0;34m.\u001b[0m\u001b[0moptions\u001b[0m\u001b[0;34m)\u001b[0m  \u001b[0;31m# type: ignore[call-arg]\u001b[0m\u001b[0;34m\u001b[0m\u001b[0;34m\u001b[0m\u001b[0m\n\u001b[0m\u001b[1;32m   1041\u001b[0m \u001b[0;34m\u001b[0m\u001b[0m\n\u001b[1;32m   1042\u001b[0m     \u001b[0;32mdef\u001b[0m \u001b[0m_failover_to_python\u001b[0m\u001b[0;34m(\u001b[0m\u001b[0mself\u001b[0m\u001b[0;34m)\u001b[0m\u001b[0;34m:\u001b[0m\u001b[0;34m\u001b[0m\u001b[0;34m\u001b[0m\u001b[0m\n",
      "\u001b[0;32m~/.conda/envs/Bach_Del_new/lib/python3.9/site-packages/pandas/io/parsers/c_parser_wrapper.py\u001b[0m in \u001b[0;36m__init__\u001b[0;34m(self, src, **kwds)\u001b[0m\n\u001b[1;32m     49\u001b[0m \u001b[0;34m\u001b[0m\u001b[0m\n\u001b[1;32m     50\u001b[0m         \u001b[0;31m# open handles\u001b[0m\u001b[0;34m\u001b[0m\u001b[0;34m\u001b[0m\u001b[0m\n\u001b[0;32m---> 51\u001b[0;31m         \u001b[0mself\u001b[0m\u001b[0;34m.\u001b[0m\u001b[0m_open_handles\u001b[0m\u001b[0;34m(\u001b[0m\u001b[0msrc\u001b[0m\u001b[0;34m,\u001b[0m \u001b[0mkwds\u001b[0m\u001b[0;34m)\u001b[0m\u001b[0;34m\u001b[0m\u001b[0;34m\u001b[0m\u001b[0m\n\u001b[0m\u001b[1;32m     52\u001b[0m         \u001b[0;32massert\u001b[0m \u001b[0mself\u001b[0m\u001b[0;34m.\u001b[0m\u001b[0mhandles\u001b[0m \u001b[0;32mis\u001b[0m \u001b[0;32mnot\u001b[0m \u001b[0;32mNone\u001b[0m\u001b[0;34m\u001b[0m\u001b[0;34m\u001b[0m\u001b[0m\n\u001b[1;32m     53\u001b[0m \u001b[0;34m\u001b[0m\u001b[0m\n",
      "\u001b[0;32m~/.conda/envs/Bach_Del_new/lib/python3.9/site-packages/pandas/io/parsers/base_parser.py\u001b[0m in \u001b[0;36m_open_handles\u001b[0;34m(self, src, kwds)\u001b[0m\n\u001b[1;32m    220\u001b[0m         \u001b[0mLet\u001b[0m \u001b[0mthe\u001b[0m \u001b[0mreaders\u001b[0m \u001b[0mopen\u001b[0m \u001b[0mIOHandles\u001b[0m \u001b[0mafter\u001b[0m \u001b[0mthey\u001b[0m \u001b[0mare\u001b[0m \u001b[0mdone\u001b[0m \u001b[0;32mwith\u001b[0m \u001b[0mtheir\u001b[0m \u001b[0mpotential\u001b[0m \u001b[0mraises\u001b[0m\u001b[0;34m.\u001b[0m\u001b[0;34m\u001b[0m\u001b[0;34m\u001b[0m\u001b[0m\n\u001b[1;32m    221\u001b[0m         \"\"\"\n\u001b[0;32m--> 222\u001b[0;31m         self.handles = get_handle(\n\u001b[0m\u001b[1;32m    223\u001b[0m             \u001b[0msrc\u001b[0m\u001b[0;34m,\u001b[0m\u001b[0;34m\u001b[0m\u001b[0;34m\u001b[0m\u001b[0m\n\u001b[1;32m    224\u001b[0m             \u001b[0;34m\"r\"\u001b[0m\u001b[0;34m,\u001b[0m\u001b[0;34m\u001b[0m\u001b[0;34m\u001b[0m\u001b[0m\n",
      "\u001b[0;32m~/.conda/envs/Bach_Del_new/lib/python3.9/site-packages/pandas/io/common.py\u001b[0m in \u001b[0;36mget_handle\u001b[0;34m(path_or_buf, mode, encoding, compression, memory_map, is_text, errors, storage_options)\u001b[0m\n\u001b[1;32m    700\u001b[0m         \u001b[0;32mif\u001b[0m \u001b[0mioargs\u001b[0m\u001b[0;34m.\u001b[0m\u001b[0mencoding\u001b[0m \u001b[0;32mand\u001b[0m \u001b[0;34m\"b\"\u001b[0m \u001b[0;32mnot\u001b[0m \u001b[0;32min\u001b[0m \u001b[0mioargs\u001b[0m\u001b[0;34m.\u001b[0m\u001b[0mmode\u001b[0m\u001b[0;34m:\u001b[0m\u001b[0;34m\u001b[0m\u001b[0;34m\u001b[0m\u001b[0m\n\u001b[1;32m    701\u001b[0m             \u001b[0;31m# Encoding\u001b[0m\u001b[0;34m\u001b[0m\u001b[0;34m\u001b[0m\u001b[0m\n\u001b[0;32m--> 702\u001b[0;31m             handle = open(\n\u001b[0m\u001b[1;32m    703\u001b[0m                 \u001b[0mhandle\u001b[0m\u001b[0;34m,\u001b[0m\u001b[0;34m\u001b[0m\u001b[0;34m\u001b[0m\u001b[0m\n\u001b[1;32m    704\u001b[0m                 \u001b[0mioargs\u001b[0m\u001b[0;34m.\u001b[0m\u001b[0mmode\u001b[0m\u001b[0;34m,\u001b[0m\u001b[0;34m\u001b[0m\u001b[0;34m\u001b[0m\u001b[0m\n",
      "\u001b[0;31mFileNotFoundError\u001b[0m: [Errno 2] No such file or directory: '/Data/Delong_BA_Data/models/U_net/models/_unet_model_var_5_lead_15_lr_1e-05_ep_3000_bs_32_filters24.h5'"
     ]
    },
    {
     "data": {
      "application/javascript": [
       "\n",
       "            setTimeout(function() {\n",
       "                var nbb_cell_id = 33;\n",
       "                var nbb_unformatted_code = \"df_run_1_15 = plot_losses(\\n    \\\"/Data/Delong_BA_Data/models/U_net/models/_unet_model_var_5_lead_15_lr_1e-05_ep_3000_bs_32_filters24.h5\\\"\\n)\";\n",
       "                var nbb_formatted_code = \"df_run_1_15 = plot_losses(\\n    \\\"/Data/Delong_BA_Data/models/U_net/models/_unet_model_var_5_lead_15_lr_1e-05_ep_3000_bs_32_filters24.h5\\\"\\n)\";\n",
       "                var nbb_cells = Jupyter.notebook.get_cells();\n",
       "                for (var i = 0; i < nbb_cells.length; ++i) {\n",
       "                    if (nbb_cells[i].input_prompt_number == nbb_cell_id) {\n",
       "                        if (nbb_cells[i].get_text() == nbb_unformatted_code) {\n",
       "                             nbb_cells[i].set_text(nbb_formatted_code);\n",
       "                        }\n",
       "                        break;\n",
       "                    }\n",
       "                }\n",
       "            }, 500);\n",
       "            "
      ],
      "text/plain": [
       "<IPython.core.display.Javascript object>"
      ]
     },
     "metadata": {},
     "output_type": "display_data"
    }
   ],
   "source": [
    "df_run_1_15 = plot_losses(\n",
    "    \"/Data/Delong_BA_Data/models/U_net/models/_unet_model_var_5_lead_15_lr_1e-05_ep_3000_bs_32_filters24.h5\"\n",
    ")"
   ]
  },
  {
   "cell_type": "code",
   "execution_count": null,
   "id": "7b3fe5cf",
   "metadata": {},
   "outputs": [],
   "source": [
    "df_run_1_15"
   ]
  },
  {
   "cell_type": "code",
   "execution_count": 34,
   "id": "81e5af05",
   "metadata": {
    "scrolled": true
   },
   "outputs": [
    {
     "name": "stdout",
     "output_type": "stream",
     "text": [
      "12/12 [==============================] - 13s 1s/step\n",
      "Number of Nan Values: 0\n",
      "Number of inf Values: 0\n"
     ]
    },
    {
     "data": {
      "text/plain": [
       "2.083296"
      ]
     },
     "execution_count": 34,
     "metadata": {},
     "output_type": "execute_result"
    },
    {
     "data": {
      "application/javascript": [
       "\n",
       "            setTimeout(function() {\n",
       "                var nbb_cell_id = 34;\n",
       "                var nbb_unformatted_code = \"test_preds, test_scores = test_best_model(\\n    \\\"/Data/Delong_BA_Data/models/U_net/models/_unet_model_var_5_lead_15_lr_0.001_ep_3000_bs_64_filters16.h5\\\",\\n    5,\\n    15,\\n)\\n\\nprint(f\\\"Number of Nan Values: {np.isnan(test_scores).sum()}\\\")\\nprint(f\\\"Number of inf Values: {np.isinf(test_scores).sum()}\\\")\\ntesting = test_scores[~np.isnan(test_scores)]\\ntesting = testing[~np.isinf(testing)]\\ntesting.mean()\";\n",
       "                var nbb_formatted_code = \"test_preds, test_scores = test_best_model(\\n    \\\"/Data/Delong_BA_Data/models/U_net/models/_unet_model_var_5_lead_15_lr_0.001_ep_3000_bs_64_filters16.h5\\\",\\n    5,\\n    15,\\n)\\n\\nprint(f\\\"Number of Nan Values: {np.isnan(test_scores).sum()}\\\")\\nprint(f\\\"Number of inf Values: {np.isinf(test_scores).sum()}\\\")\\ntesting = test_scores[~np.isnan(test_scores)]\\ntesting = testing[~np.isinf(testing)]\\ntesting.mean()\";\n",
       "                var nbb_cells = Jupyter.notebook.get_cells();\n",
       "                for (var i = 0; i < nbb_cells.length; ++i) {\n",
       "                    if (nbb_cells[i].input_prompt_number == nbb_cell_id) {\n",
       "                        if (nbb_cells[i].get_text() == nbb_unformatted_code) {\n",
       "                             nbb_cells[i].set_text(nbb_formatted_code);\n",
       "                        }\n",
       "                        break;\n",
       "                    }\n",
       "                }\n",
       "            }, 500);\n",
       "            "
      ],
      "text/plain": [
       "<IPython.core.display.Javascript object>"
      ]
     },
     "metadata": {},
     "output_type": "display_data"
    }
   ],
   "source": [
    "test_preds, test_scores = test_best_model(\n",
    "    \"/Data/Delong_BA_Data/models/U_net/models/_unet_model_var_5_lead_15_lr_1e-05_ep_3000_bs_32_filters24.h5\",\n",
    "    5,\n",
    "    15,\n",
    ")\n",
    "\n",
    "print(f\"Number of Nan Values: {np.isnan(test_scores).sum()}\")\n",
    "print(f\"Number of inf Values: {np.isinf(test_scores).sum()}\")\n",
    "testing = test_scores[~np.isnan(test_scores)]\n",
    "testing = testing[~np.isinf(testing)]\n",
    "testing.mean()"
   ]
  },
  {
   "cell_type": "code",
   "execution_count": null,
   "id": "dc366737",
   "metadata": {},
   "outputs": [],
   "source": [
    "df_run_1_30 = plot_losses(\n",
    "    \"/Data/Delong_BA_Data/models/U_net/csv_log/_training_log_var_5_lead_30_lr_1e-05_ep_3000_bs_32_filters24.csv\"\n",
    ")"
   ]
  },
  {
   "cell_type": "code",
   "execution_count": null,
   "id": "bea1b27f",
   "metadata": {},
   "outputs": [],
   "source": [
    "df_run_1_30"
   ]
  },
  {
   "cell_type": "code",
   "execution_count": null,
   "id": "4fa22c29",
   "metadata": {},
   "outputs": [],
   "source": [
    "test_preds, test_scores = test_best_model(\n",
    "    \"/Data/Delong_BA_Data/models/U_net/models/_unet_model_var_5_lead_30_lr_1e-05_ep_3000_bs_32_filters24.h5\",\n",
    "    5,\n",
    "    15,\n",
    ")\n",
    "\n",
    "print(f\"Number of Nan Values: {np.isnan(test_scores).sum()}\")\n",
    "print(f\"Number of inf Values: {np.isinf(test_scores).sum()}\")\n",
    "testing = test_scores[~np.isnan(test_scores)]\n",
    "testing = testing[~np.isinf(testing)]\n",
    "testing.mean()"
   ]
  },
  {
   "cell_type": "markdown",
   "id": "861177b0",
   "metadata": {},
   "source": [
    "### Test Final model"
   ]
  },
  {
   "cell_type": "code",
   "execution_count": 53,
   "id": "30ebcc77",
   "metadata": {},
   "outputs": [
    {
     "data": {
      "application/javascript": [
       "\n",
       "            setTimeout(function() {\n",
       "                var nbb_cell_id = 53;\n",
       "                var nbb_unformatted_code = \"def final_model_run(lead_time, test=False, starting_epoch=0, ending_epoch=1000000000):\\n    df_run_final = plot_losses(\\n        f\\\"/Data/Delong_BA_Data/models/U_net/csv_log_final/training_log_var_5_lead_{lead_time}.csv\\\",\\n        starting_epoch,\\n        ending_epoch,\\n    )\\n    if test:\\n        test_preds, test_scores = test_best_model(\\n            f\\\"/Data/Delong_BA_Data/models/U_net/models_final/unet_model_var_5_lead_{lead_time}.h5\\\",\\n            5,\\n            lead_time,\\n        )\\n\\n        print(f\\\"Number of Nan Values: {np.isnan(test_scores).sum()}\\\")\\n        print(f\\\"Number of inf Values: {np.isinf(test_scores).sum()}\\\")\\n        testing = test_scores[~np.isnan(test_scores)]\\n        testing = testing[~np.isinf(testing)]\\n        print(testing.mean())\\n\\n    return df_run_final\";\n",
       "                var nbb_formatted_code = \"def final_model_run(lead_time, test=False, starting_epoch=0, ending_epoch=1000000000):\\n    df_run_final = plot_losses(\\n        f\\\"/Data/Delong_BA_Data/models/U_net/csv_log_final/training_log_var_5_lead_{lead_time}.csv\\\",\\n        starting_epoch,\\n        ending_epoch,\\n    )\\n    if test:\\n        test_preds, test_scores = test_best_model(\\n            f\\\"/Data/Delong_BA_Data/models/U_net/models_final/unet_model_var_5_lead_{lead_time}.h5\\\",\\n            5,\\n            lead_time,\\n        )\\n\\n        print(f\\\"Number of Nan Values: {np.isnan(test_scores).sum()}\\\")\\n        print(f\\\"Number of inf Values: {np.isinf(test_scores).sum()}\\\")\\n        testing = test_scores[~np.isnan(test_scores)]\\n        testing = testing[~np.isinf(testing)]\\n        print(testing.mean())\\n\\n    return df_run_final\";\n",
       "                var nbb_cells = Jupyter.notebook.get_cells();\n",
       "                for (var i = 0; i < nbb_cells.length; ++i) {\n",
       "                    if (nbb_cells[i].input_prompt_number == nbb_cell_id) {\n",
       "                        if (nbb_cells[i].get_text() == nbb_unformatted_code) {\n",
       "                             nbb_cells[i].set_text(nbb_formatted_code);\n",
       "                        }\n",
       "                        break;\n",
       "                    }\n",
       "                }\n",
       "            }, 500);\n",
       "            "
      ],
      "text/plain": [
       "<IPython.core.display.Javascript object>"
      ]
     },
     "metadata": {},
     "output_type": "display_data"
    }
   ],
   "source": [
    "def final_model_run(lead_time, test=False, starting_epoch=0, ending_epoch=1000000000):\n",
    "    df_run_final = plot_losses(\n",
    "        f\"/Data/Delong_BA_Data/models/U_net/csv_log_final/training_log_var_5_lead_{lead_time}.csv\",\n",
    "        starting_epoch,\n",
    "        ending_epoch,\n",
    "    )\n",
    "    if test:\n",
    "        test_preds, test_scores = test_best_model(\n",
    "            f\"/Data/Delong_BA_Data/models/U_net/models_final/unet_model_var_5_lead_{lead_time}.h5\",\n",
    "            5,\n",
    "            lead_time,\n",
    "        )\n",
    "\n",
    "        print(f\"Number of Nan Values: {np.isnan(test_scores).sum()}\")\n",
    "        print(f\"Number of inf Values: {np.isinf(test_scores).sum()}\")\n",
    "        testing = test_scores[~np.isnan(test_scores)]\n",
    "        testing = testing[~np.isinf(testing)]\n",
    "        print(testing.mean())\n",
    "\n",
    "    return df_run_final"
   ]
  },
  {
   "cell_type": "code",
   "execution_count": 54,
   "id": "d947dd22",
   "metadata": {
    "scrolled": false
   },
   "outputs": [
    {
     "data": {
      "image/png": "[encoded data removed]",
      "text/plain": [
       "<Figure size 720x360 with 1 Axes>"
      ]
     },
     "metadata": {
      "needs_background": "light"
     },
     "output_type": "display_data"
    },
    {
     "data": {
      "application/javascript": [
       "\n",
       "            setTimeout(function() {\n",
       "                var nbb_cell_id = 54;\n",
       "                var nbb_unformatted_code = \"df_run_final = final_model_run(0, test=False)\";\n",
       "                var nbb_formatted_code = \"df_run_final = final_model_run(0, test=False)\";\n",
       "                var nbb_cells = Jupyter.notebook.get_cells();\n",
       "                for (var i = 0; i < nbb_cells.length; ++i) {\n",
       "                    if (nbb_cells[i].input_prompt_number == nbb_cell_id) {\n",
       "                        if (nbb_cells[i].get_text() == nbb_unformatted_code) {\n",
       "                             nbb_cells[i].set_text(nbb_formatted_code);\n",
       "                        }\n",
       "                        break;\n",
       "                    }\n",
       "                }\n",
       "            }, 500);\n",
       "            "
      ],
      "text/plain": [
       "<IPython.core.display.Javascript object>"
      ]
     },
     "metadata": {},
     "output_type": "display_data"
    }
   ],
   "source": [
    "df_run_final = final_model_run(0, test=False)"
   ]
  },
  {
   "cell_type": "code",
   "execution_count": 55,
   "id": "eee07aef",
   "metadata": {
    "scrolled": true
   },
   "outputs": [
    {
     "data": {
      "text/plain": [
       "epoch       0.000000\n",
       "loss        0.387507\n",
       "val_loss    0.429526\n",
       "dtype: float64"
      ]
     },
     "execution_count": 55,
     "metadata": {},
     "output_type": "execute_result"
    },
    {
     "data": {
      "application/javascript": [
       "\n",
       "            setTimeout(function() {\n",
       "                var nbb_cell_id = 55;\n",
       "                var nbb_unformatted_code = \"df_run_final.min()\";\n",
       "                var nbb_formatted_code = \"df_run_final.min()\";\n",
       "                var nbb_cells = Jupyter.notebook.get_cells();\n",
       "                for (var i = 0; i < nbb_cells.length; ++i) {\n",
       "                    if (nbb_cells[i].input_prompt_number == nbb_cell_id) {\n",
       "                        if (nbb_cells[i].get_text() == nbb_unformatted_code) {\n",
       "                             nbb_cells[i].set_text(nbb_formatted_code);\n",
       "                        }\n",
       "                        break;\n",
       "                    }\n",
       "                }\n",
       "            }, 500);\n",
       "            "
      ],
      "text/plain": [
       "<IPython.core.display.Javascript object>"
      ]
     },
     "metadata": {},
     "output_type": "display_data"
    }
   ],
   "source": [
    "df_run_final.min()"
   ]
  },
  {
   "cell_type": "code",
   "execution_count": 19,
   "id": "6657805f",
   "metadata": {},
   "outputs": [
    {
     "data": {
      "text/plain": [
       "0.47082883"
      ]
     },
     "execution_count": 19,
     "metadata": {},
     "output_type": "execute_result"
    },
    {
     "data": {
      "application/javascript": [
       "\n",
       "            setTimeout(function() {\n",
       "                var nbb_cell_id = 19;\n",
       "                var nbb_unformatted_code = \"CRPS_baseline_scores_ws10[0].mean()\";\n",
       "                var nbb_formatted_code = \"CRPS_baseline_scores_ws10[0].mean()\";\n",
       "                var nbb_cells = Jupyter.notebook.get_cells();\n",
       "                for (var i = 0; i < nbb_cells.length; ++i) {\n",
       "                    if (nbb_cells[i].input_prompt_number == nbb_cell_id) {\n",
       "                        if (nbb_cells[i].get_text() == nbb_unformatted_code) {\n",
       "                             nbb_cells[i].set_text(nbb_formatted_code);\n",
       "                        }\n",
       "                        break;\n",
       "                    }\n",
       "                }\n",
       "            }, 500);\n",
       "            "
      ],
      "text/plain": [
       "<IPython.core.display.Javascript object>"
      ]
     },
     "metadata": {},
     "output_type": "display_data"
    }
   ],
   "source": [
    "CRPS_baseline_scores_ws10[0].mean()"
   ]
  },
  {
   "cell_type": "code",
   "execution_count": 56,
   "id": "8c62b019",
   "metadata": {},
   "outputs": [
    {
     "data": {
      "text/plain": [
       "0.43954682"
      ]
     },
     "execution_count": 56,
     "metadata": {},
     "output_type": "execute_result"
    },
    {
     "data": {
      "application/javascript": [
       "\n",
       "            setTimeout(function() {\n",
       "                var nbb_cell_id = 56;\n",
       "                var nbb_unformatted_code = \"u_net_scores_ws10[0].mean()\";\n",
       "                var nbb_formatted_code = \"u_net_scores_ws10[0].mean()\";\n",
       "                var nbb_cells = Jupyter.notebook.get_cells();\n",
       "                for (var i = 0; i < nbb_cells.length; ++i) {\n",
       "                    if (nbb_cells[i].input_prompt_number == nbb_cell_id) {\n",
       "                        if (nbb_cells[i].get_text() == nbb_unformatted_code) {\n",
       "                             nbb_cells[i].set_text(nbb_formatted_code);\n",
       "                        }\n",
       "                        break;\n",
       "                    }\n",
       "                }\n",
       "            }, 500);\n",
       "            "
      ],
      "text/plain": [
       "<IPython.core.display.Javascript object>"
      ]
     },
     "metadata": {},
     "output_type": "display_data"
    }
   ],
   "source": [
    "u_net_scores_ws10[0].mean()"
   ]
  },
  {
   "cell_type": "code",
   "execution_count": 25,
   "id": "7c5c2956",
   "metadata": {},
   "outputs": [
    {
     "data": {
      "application/javascript": [
       "\n",
       "            setTimeout(function() {\n",
       "                var nbb_cell_id = 25;\n",
       "                var nbb_unformatted_code = \"# Baseline Scores\\nCRPS_baseline_scores_t2m = crps_load_lead_lat_lon(\\\"t2m\\\")\\nCRPS_baseline_scores_ws10 = crps_load_lead_lat_lon(\\\"ws10\\\")\\n\\n# Global Scores:\\nEMOS_glob_scores_t2m = EMOS_global_load_score(\\\"t2m\\\")\\nEMOS_glob_scores_ws10 = EMOS_global_load_score(\\\"ws10\\\")\\n\\n# Local Scores:\\nEMOS_loc_scores_t2m = EMOS_local_load_score(\\\"t2m\\\")\\nEMOS_loc_scores_ws10 = EMOS_local_load_score(\\\"ws10\\\")\\n\\n# DRN 10 dummy scores:\\nDRN_scores_t2m_dummy_10 = DRN_load_score_dummy_10(\\\"t2m\\\")\\nDRN_scores_ws10_dummy_10 = DRN_load_score_dummy_10(\\\"ws10\\\")\\n\\n# U-net scores:\\nu_net_scores_t2m = u_net_load_score(\\\"t2m\\\")\\nu_net_scores_ws10 = u_net_load_score(\\\"ws10\\\")\";\n",
       "                var nbb_formatted_code = \"# Baseline Scores\\nCRPS_baseline_scores_t2m = crps_load_lead_lat_lon(\\\"t2m\\\")\\nCRPS_baseline_scores_ws10 = crps_load_lead_lat_lon(\\\"ws10\\\")\\n\\n# Global Scores:\\nEMOS_glob_scores_t2m = EMOS_global_load_score(\\\"t2m\\\")\\nEMOS_glob_scores_ws10 = EMOS_global_load_score(\\\"ws10\\\")\\n\\n# Local Scores:\\nEMOS_loc_scores_t2m = EMOS_local_load_score(\\\"t2m\\\")\\nEMOS_loc_scores_ws10 = EMOS_local_load_score(\\\"ws10\\\")\\n\\n# DRN 10 dummy scores:\\nDRN_scores_t2m_dummy_10 = DRN_load_score_dummy_10(\\\"t2m\\\")\\nDRN_scores_ws10_dummy_10 = DRN_load_score_dummy_10(\\\"ws10\\\")\\n\\n# U-net scores:\\nu_net_scores_t2m = u_net_load_score(\\\"t2m\\\")\\nu_net_scores_ws10 = u_net_load_score(\\\"ws10\\\")\";\n",
       "                var nbb_cells = Jupyter.notebook.get_cells();\n",
       "                for (var i = 0; i < nbb_cells.length; ++i) {\n",
       "                    if (nbb_cells[i].input_prompt_number == nbb_cell_id) {\n",
       "                        if (nbb_cells[i].get_text() == nbb_unformatted_code) {\n",
       "                             nbb_cells[i].set_text(nbb_formatted_code);\n",
       "                        }\n",
       "                        break;\n",
       "                    }\n",
       "                }\n",
       "            }, 500);\n",
       "            "
      ],
      "text/plain": [
       "<IPython.core.display.Javascript object>"
      ]
     },
     "metadata": {},
     "output_type": "display_data"
    }
   ],
   "source": [
    "# Baseline Scores\n",
    "CRPS_baseline_scores_t2m = crps_load_lead_lat_lon(\"t2m\")\n",
    "CRPS_baseline_scores_ws10 = crps_load_lead_lat_lon(\"ws10\")\n",
    "\n",
    "# Global Scores:\n",
    "EMOS_glob_scores_t2m = EMOS_global_load_score(\"t2m\")\n",
    "EMOS_glob_scores_ws10 = EMOS_global_load_score(\"ws10\")\n",
    "\n",
    "# Local Scores:\n",
    "EMOS_loc_scores_t2m = EMOS_local_load_score(\"t2m\")\n",
    "EMOS_loc_scores_ws10 = EMOS_local_load_score(\"ws10\")\n",
    "\n",
    "# DRN 10 dummy scores:\n",
    "DRN_scores_t2m_dummy_10 = DRN_load_score_dummy_10(\"t2m\")\n",
    "DRN_scores_ws10_dummy_10 = DRN_load_score_dummy_10(\"ws10\")\n",
    "\n",
    "# U-net scores:\n",
    "u_net_scores_t2m = u_net_load_score(\"t2m\")\n",
    "u_net_scores_ws10 = u_net_load_score(\"ws10\")"
   ]
  },
  {
   "cell_type": "code",
   "execution_count": null,
   "id": "c373b433",
   "metadata": {},
   "outputs": [],
   "source": []
  }
 ],
 "metadata": {
  "kernelspec": {
   "display_name": "Python 3 (ipykernel)",
   "language": "python",
   "name": "python3"
  },
  "language_info": {
   "codemirror_mode": {
    "name": "ipython",
    "version": 3
   },
   "file_extension": ".py",
   "mimetype": "text/x-python",
   "name": "python",
   "nbconvert_exporter": "python",
   "pygments_lexer": "ipython3",
   "version": "3.9.7"
  }
 },
 "nbformat": 4,
 "nbformat_minor": 5
}
