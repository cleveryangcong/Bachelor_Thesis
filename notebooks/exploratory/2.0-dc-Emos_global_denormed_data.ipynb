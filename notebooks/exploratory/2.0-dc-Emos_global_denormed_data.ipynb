{
 "cells": [
  {
   "cell_type": "code",
   "execution_count": 1,
   "id": "12765866",
   "metadata": {},
   "outputs": [
    {
     "data": {
      "application/javascript": [
       "\n",
       "            setTimeout(function() {\n",
       "                var nbb_cell_id = 1;\n",
       "                var nbb_unformatted_code = \"%load_ext nb_black\";\n",
       "                var nbb_formatted_code = \"%load_ext nb_black\";\n",
       "                var nbb_cells = Jupyter.notebook.get_cells();\n",
       "                for (var i = 0; i < nbb_cells.length; ++i) {\n",
       "                    if (nbb_cells[i].input_prompt_number == nbb_cell_id) {\n",
       "                        if (nbb_cells[i].get_text() == nbb_unformatted_code) {\n",
       "                             nbb_cells[i].set_text(nbb_formatted_code);\n",
       "                        }\n",
       "                        break;\n",
       "                    }\n",
       "                }\n",
       "            }, 500);\n",
       "            "
      ],
      "text/plain": [
       "<IPython.core.display.Javascript object>"
      ]
     },
     "metadata": {},
     "output_type": "display_data"
    }
   ],
   "source": [
    "%load_ext nb_black"
   ]
  },
  {
   "cell_type": "code",
   "execution_count": 2,
   "id": "10108375",
   "metadata": {},
   "outputs": [
    {
     "name": "stderr",
     "output_type": "stream",
     "text": [
      "2023-05-29 15:34:03.929328: W tensorflow/stream_executor/platform/default/dso_loader.cc:64] Could not load dynamic library 'libcudart.so.11.0'; dlerror: libcudart.so.11.0: cannot open shared object file: No such file or directory; LD_LIBRARY_PATH: :/opt/anaconda3/lib/\n",
      "2023-05-29 15:34:03.929353: I tensorflow/stream_executor/cuda/cudart_stub.cc:29] Ignore above cudart dlerror if you do not have a GPU set up on your machine.\n"
     ]
    },
    {
     "data": {
      "application/javascript": [
       "\n",
       "            setTimeout(function() {\n",
       "                var nbb_cell_id = 2;\n",
       "                var nbb_unformatted_code = \"# Helpful\\nimport tqdm\\n\\n# Visualization\\nimport matplotlib.pyplot as plt\\n\\n# My Methods\\nfrom src.utils.CRPS import *\\nfrom src.utils.data_split import *\\nfrom src.models.EMOS import *\\nfrom src.models.EMOS_global.EMOS_global_load_score import *\\nfrom src.models.EMOS_global.EMOS_global_load_model import *\\nimport data.raw.load_data_raw as ldr\\nimport data.processed.load_data_processed as ldp\\nimport data.processed.load_data_processed_denormed as ldpd\\nfrom src.models.CRPS_baseline.CRPS_load import *\";\n",
       "                var nbb_formatted_code = \"# Helpful\\nimport tqdm\\n\\n# Visualization\\nimport matplotlib.pyplot as plt\\n\\n# My Methods\\nfrom src.utils.CRPS import *\\nfrom src.utils.data_split import *\\nfrom src.models.EMOS import *\\nfrom src.models.EMOS_global.EMOS_global_load_score import *\\nfrom src.models.EMOS_global.EMOS_global_load_model import *\\nimport data.raw.load_data_raw as ldr\\nimport data.processed.load_data_processed as ldp\\nimport data.processed.load_data_processed_denormed as ldpd\\nfrom src.models.CRPS_baseline.CRPS_load import *\";\n",
       "                var nbb_cells = Jupyter.notebook.get_cells();\n",
       "                for (var i = 0; i < nbb_cells.length; ++i) {\n",
       "                    if (nbb_cells[i].input_prompt_number == nbb_cell_id) {\n",
       "                        if (nbb_cells[i].get_text() == nbb_unformatted_code) {\n",
       "                             nbb_cells[i].set_text(nbb_formatted_code);\n",
       "                        }\n",
       "                        break;\n",
       "                    }\n",
       "                }\n",
       "            }, 500);\n",
       "            "
      ],
      "text/plain": [
       "<IPython.core.display.Javascript object>"
      ]
     },
     "metadata": {},
     "output_type": "display_data"
    }
   ],
   "source": [
    "# Helpful\n",
    "import tqdm\n",
    "\n",
    "# Visualization\n",
    "import matplotlib.pyplot as plt\n",
    "\n",
    "# My Methods\n",
    "from src.utils.CRPS import *\n",
    "from src.utils.data_split import *\n",
    "from src.models.EMOS import *\n",
    "from src.models.EMOS_global.EMOS_global_load_score import *\n",
    "from src.models.EMOS_global.EMOS_global_load_model import *\n",
    "import data.raw.load_data_raw as ldr\n",
    "import data.processed.load_data_processed as ldp\n",
    "import data.processed.load_data_processed_denormed as ldpd\n",
    "from src.models.CRPS_baseline.CRPS_load import *"
   ]
  },
  {
   "cell_type": "code",
   "execution_count": 3,
   "id": "2d399b30",
   "metadata": {},
   "outputs": [
    {
     "data": {
      "application/javascript": [
       "\n",
       "            setTimeout(function() {\n",
       "                var nbb_cell_id = 3;\n",
       "                var nbb_unformatted_code = \"# Basics\\nimport numpy as np\\nimport keras.backend as K\\nimport tensorflow as tf\\n\\n# Norms\\nfrom scipy.stats import norm\\n\\n# Helpful\\nfrom tqdm import tqdm\";\n",
       "                var nbb_formatted_code = \"# Basics\\nimport numpy as np\\nimport keras.backend as K\\nimport tensorflow as tf\\n\\n# Norms\\nfrom scipy.stats import norm\\n\\n# Helpful\\nfrom tqdm import tqdm\";\n",
       "                var nbb_cells = Jupyter.notebook.get_cells();\n",
       "                for (var i = 0; i < nbb_cells.length; ++i) {\n",
       "                    if (nbb_cells[i].input_prompt_number == nbb_cell_id) {\n",
       "                        if (nbb_cells[i].get_text() == nbb_unformatted_code) {\n",
       "                             nbb_cells[i].set_text(nbb_formatted_code);\n",
       "                        }\n",
       "                        break;\n",
       "                    }\n",
       "                }\n",
       "            }, 500);\n",
       "            "
      ],
      "text/plain": [
       "<IPython.core.display.Javascript object>"
      ]
     },
     "metadata": {},
     "output_type": "display_data"
    }
   ],
   "source": [
    "# Basics\n",
    "import numpy as np\n",
    "import keras.backend as K\n",
    "import tensorflow as tf\n",
    "\n",
    "# Norms\n",
    "from scipy.stats import norm\n",
    "\n",
    "# Helpful\n",
    "from tqdm import tqdm"
   ]
  },
  {
   "cell_type": "markdown",
   "id": "d1e63dc4",
   "metadata": {},
   "source": [
    "### 1. Load Raw Data"
   ]
  },
  {
   "cell_type": "code",
   "execution_count": 4,
   "id": "b9bb0b1c",
   "metadata": {},
   "outputs": [
    {
     "data": {
      "application/javascript": [
       "\n",
       "            setTimeout(function() {\n",
       "                var nbb_cell_id = 4;\n",
       "                var nbb_unformatted_code = \"# Load train data for variables t2m and ws10\\ntrain_t2m_ws10_denormed = ldpd.load_data_t2m_ws10_train_proc_denorm()\\ntrain_t2m_denormed = train_t2m_ws10_denormed[0]\\ntrain_ws10_denormed = train_t2m_ws10_denormed[1]\\n\\n# Load test data for variables t2m and ws10\\ntest_t2m_ws10_denormed = ldpd.load_data_t2m_ws10_test_proc_denorm()\\ntest_t2m_denormed = test_t2m_ws10_denormed[0]\\ntest_ws10_denormed = test_t2m_ws10_denormed[1]\\n\\n# Load train and test data for normed t2m:\\ntrain_t2m_normed = ldp.load_data_t2m_train_proc_norm()\\ntest_t2m_normed = ldp.load_data_t2m_test_proc_norm()\";\n",
       "                var nbb_formatted_code = \"# Load train data for variables t2m and ws10\\ntrain_t2m_ws10_denormed = ldpd.load_data_t2m_ws10_train_proc_denorm()\\ntrain_t2m_denormed = train_t2m_ws10_denormed[0]\\ntrain_ws10_denormed = train_t2m_ws10_denormed[1]\\n\\n# Load test data for variables t2m and ws10\\ntest_t2m_ws10_denormed = ldpd.load_data_t2m_ws10_test_proc_denorm()\\ntest_t2m_denormed = test_t2m_ws10_denormed[0]\\ntest_ws10_denormed = test_t2m_ws10_denormed[1]\\n\\n# Load train and test data for normed t2m:\\ntrain_t2m_normed = ldp.load_data_t2m_train_proc_norm()\\ntest_t2m_normed = ldp.load_data_t2m_test_proc_norm()\";\n",
       "                var nbb_cells = Jupyter.notebook.get_cells();\n",
       "                for (var i = 0; i < nbb_cells.length; ++i) {\n",
       "                    if (nbb_cells[i].input_prompt_number == nbb_cell_id) {\n",
       "                        if (nbb_cells[i].get_text() == nbb_unformatted_code) {\n",
       "                             nbb_cells[i].set_text(nbb_formatted_code);\n",
       "                        }\n",
       "                        break;\n",
       "                    }\n",
       "                }\n",
       "            }, 500);\n",
       "            "
      ],
      "text/plain": [
       "<IPython.core.display.Javascript object>"
      ]
     },
     "metadata": {},
     "output_type": "display_data"
    }
   ],
   "source": [
    "# Load train data for variables t2m and ws10\n",
    "train_t2m_ws10_denormed = ldpd.load_data_t2m_ws10_train_proc_denorm()\n",
    "train_t2m_denormed = train_t2m_ws10_denormed[0]\n",
    "train_ws10_denormed = train_t2m_ws10_denormed[1]\n",
    "\n",
    "# Load test data for variables t2m and ws10\n",
    "test_t2m_ws10_denormed = ldpd.load_data_t2m_ws10_test_proc_denorm()\n",
    "test_t2m_denormed = test_t2m_ws10_denormed[0]\n",
    "test_ws10_denormed = test_t2m_ws10_denormed[1]\n",
    "\n",
    "# Load train and test data for normed t2m:\n",
    "train_t2m_normed = ldp.load_data_t2m_train_proc_norm()\n",
    "test_t2m_normed = ldp.load_data_t2m_test_proc_norm()"
   ]
  },
  {
   "cell_type": "markdown",
   "id": "ddb86ac2",
   "metadata": {},
   "source": [
    "###  2. Data Split"
   ]
  },
  {
   "cell_type": "code",
   "execution_count": 5,
   "id": "3174fc3c",
   "metadata": {
    "scrolled": true
   },
   "outputs": [
    {
     "data": {
      "application/javascript": [
       "\n",
       "            setTimeout(function() {\n",
       "                var nbb_cell_id = 5;\n",
       "                var nbb_unformatted_code = \"# Train-test split into lead_times for t2m\\nX_train_t2m_denormed, y_train_t2m_denormed = split_var_lead_one(train_t2m_denormed)\\nX_test_t2m_denormed, y_test_t2m_denormed = split_var_lead_one(test_t2m_denormed)\\n# Train-test split into lead_times for ws10\\nX_train_ws10_denormed, y_train_ws10_denormed = split_var_lead_one(train_ws10_denormed)\\nX_test_ws10_denormed, y_test_ws10_denormed = split_var_lead_one(test_ws10_denormed)\\n\\n# Train-test split into lead_times for t2m normed\\nX_train_t2m_normed, y_train_t2m_normed = split_var_lead_one(train_t2m_normed)\\nX_test_t2m_normed, y_test_t2m_normed = split_var_lead_one(test_t2m_normed)\";\n",
       "                var nbb_formatted_code = \"# Train-test split into lead_times for t2m\\nX_train_t2m_denormed, y_train_t2m_denormed = split_var_lead_one(train_t2m_denormed)\\nX_test_t2m_denormed, y_test_t2m_denormed = split_var_lead_one(test_t2m_denormed)\\n# Train-test split into lead_times for ws10\\nX_train_ws10_denormed, y_train_ws10_denormed = split_var_lead_one(train_ws10_denormed)\\nX_test_ws10_denormed, y_test_ws10_denormed = split_var_lead_one(test_ws10_denormed)\\n\\n# Train-test split into lead_times for t2m normed\\nX_train_t2m_normed, y_train_t2m_normed = split_var_lead_one(train_t2m_normed)\\nX_test_t2m_normed, y_test_t2m_normed = split_var_lead_one(test_t2m_normed)\";\n",
       "                var nbb_cells = Jupyter.notebook.get_cells();\n",
       "                for (var i = 0; i < nbb_cells.length; ++i) {\n",
       "                    if (nbb_cells[i].input_prompt_number == nbb_cell_id) {\n",
       "                        if (nbb_cells[i].get_text() == nbb_unformatted_code) {\n",
       "                             nbb_cells[i].set_text(nbb_formatted_code);\n",
       "                        }\n",
       "                        break;\n",
       "                    }\n",
       "                }\n",
       "            }, 500);\n",
       "            "
      ],
      "text/plain": [
       "<IPython.core.display.Javascript object>"
      ]
     },
     "metadata": {},
     "output_type": "display_data"
    }
   ],
   "source": [
    "# Train-test split into lead_times for t2m\n",
    "X_train_t2m_denormed, y_train_t2m_denormed = split_var_lead_one(train_t2m_denormed)\n",
    "X_test_t2m_denormed, y_test_t2m_denormed = split_var_lead_one(test_t2m_denormed)\n",
    "# Train-test split into lead_times for ws10\n",
    "X_train_ws10_denormed, y_train_ws10_denormed = split_var_lead_one(train_ws10_denormed)\n",
    "X_test_ws10_denormed, y_test_ws10_denormed = split_var_lead_one(test_ws10_denormed)\n",
    "\n",
    "# Train-test split into lead_times for t2m normed\n",
    "X_train_t2m_normed, y_train_t2m_normed = split_var_lead_one(train_t2m_normed)\n",
    "X_test_t2m_normed, y_test_t2m_normed = split_var_lead_one(test_t2m_normed)"
   ]
  },
  {
   "cell_type": "markdown",
   "id": "cc6124c3",
   "metadata": {},
   "source": [
    "Test with z500 denormed, to see whether it also leads to bad results:"
   ]
  },
  {
   "cell_type": "code",
   "execution_count": 6,
   "id": "7aee7aa9",
   "metadata": {},
   "outputs": [
    {
     "data": {
      "application/javascript": [
       "\n",
       "            setTimeout(function() {\n",
       "                var nbb_cell_id = 6;\n",
       "                var nbb_unformatted_code = \"train_z500_denormed = ldpd.load_data_z500_train_proc_denorm()\\nX_train_z500_denormed, y_train_z500_denormed = split_var_lead_one(train_z500_denormed)\\ntrain_u10_denormed = ldpd.load_data_u10_train_proc_denorm()\\nX_train_u10_denormed, y_train_u10_denormed = split_var_lead_one(train_u10_denormed)\\ntrain_v10_denormed = ldpd.load_data_v10_train_proc_denorm()\\nX_train_v10_denormed, y_train_v10_denormed = split_var_lead_one(train_v10_denormed)\\ntrain_t850_denormed = ldpd.load_data_t850_train_proc_denorm()\\nX_train_t850_denormed, y_train_t850_denormed = split_var_lead_one(train_t850_denormed)\";\n",
       "                var nbb_formatted_code = \"train_z500_denormed = ldpd.load_data_z500_train_proc_denorm()\\nX_train_z500_denormed, y_train_z500_denormed = split_var_lead_one(train_z500_denormed)\\ntrain_u10_denormed = ldpd.load_data_u10_train_proc_denorm()\\nX_train_u10_denormed, y_train_u10_denormed = split_var_lead_one(train_u10_denormed)\\ntrain_v10_denormed = ldpd.load_data_v10_train_proc_denorm()\\nX_train_v10_denormed, y_train_v10_denormed = split_var_lead_one(train_v10_denormed)\\ntrain_t850_denormed = ldpd.load_data_t850_train_proc_denorm()\\nX_train_t850_denormed, y_train_t850_denormed = split_var_lead_one(train_t850_denormed)\";\n",
       "                var nbb_cells = Jupyter.notebook.get_cells();\n",
       "                for (var i = 0; i < nbb_cells.length; ++i) {\n",
       "                    if (nbb_cells[i].input_prompt_number == nbb_cell_id) {\n",
       "                        if (nbb_cells[i].get_text() == nbb_unformatted_code) {\n",
       "                             nbb_cells[i].set_text(nbb_formatted_code);\n",
       "                        }\n",
       "                        break;\n",
       "                    }\n",
       "                }\n",
       "            }, 500);\n",
       "            "
      ],
      "text/plain": [
       "<IPython.core.display.Javascript object>"
      ]
     },
     "metadata": {},
     "output_type": "display_data"
    }
   ],
   "source": [
    "train_z500_denormed = ldpd.load_data_z500_train_proc_denorm()\n",
    "X_train_z500_denormed, y_train_z500_denormed = split_var_lead_one(train_z500_denormed)\n",
    "train_u10_denormed = ldpd.load_data_u10_train_proc_denorm()\n",
    "X_train_u10_denormed, y_train_u10_denormed = split_var_lead_one(train_u10_denormed)\n",
    "train_v10_denormed = ldpd.load_data_v10_train_proc_denorm()\n",
    "X_train_v10_denormed, y_train_v10_denormed = split_var_lead_one(train_v10_denormed)\n",
    "train_t850_denormed = ldpd.load_data_t850_train_proc_denorm()\n",
    "X_train_t850_denormed, y_train_t850_denormed = split_var_lead_one(train_t850_denormed)"
   ]
  },
  {
   "cell_type": "markdown",
   "id": "d45bba8c",
   "metadata": {},
   "source": [
    "### 3. Train EMOS model"
   ]
  },
  {
   "cell_type": "markdown",
   "id": "c04b49e5",
   "metadata": {},
   "source": [
    "##### Checking that crps_cost_function and crps_normal are equivalent:"
   ]
  },
  {
   "cell_type": "code",
   "execution_count": 11,
   "id": "c9ca9f74",
   "metadata": {},
   "outputs": [
    {
     "data": {
      "text/plain": [
       "<tf.Tensor: shape=(), dtype=float32, numpy=0.5084816>"
      ]
     },
     "execution_count": 11,
     "metadata": {},
     "output_type": "execute_result"
    },
    {
     "data": {
      "application/javascript": [
       "\n",
       "            setTimeout(function() {\n",
       "                var nbb_cell_id = 11;\n",
       "                var nbb_unformatted_code = \"crps_cost_function(\\n    y_test_t2m_denormed[0].values.flatten(),\\n    np.column_stack(\\n        (\\n            X_test_t2m_denormed[0].isel(mean_std=0).values.flatten(),\\n            X_test_t2m_denormed[0].isel(mean_std=1).values.flatten(),\\n        )\\n    ),theano = True\\n)\";\n",
       "                var nbb_formatted_code = \"crps_cost_function(\\n    y_test_t2m_denormed[0].values.flatten(),\\n    np.column_stack(\\n        (\\n            X_test_t2m_denormed[0].isel(mean_std=0).values.flatten(),\\n            X_test_t2m_denormed[0].isel(mean_std=1).values.flatten(),\\n        )\\n    ),\\n    theano=True,\\n)\";\n",
       "                var nbb_cells = Jupyter.notebook.get_cells();\n",
       "                for (var i = 0; i < nbb_cells.length; ++i) {\n",
       "                    if (nbb_cells[i].input_prompt_number == nbb_cell_id) {\n",
       "                        if (nbb_cells[i].get_text() == nbb_unformatted_code) {\n",
       "                             nbb_cells[i].set_text(nbb_formatted_code);\n",
       "                        }\n",
       "                        break;\n",
       "                    }\n",
       "                }\n",
       "            }, 500);\n",
       "            "
      ],
      "text/plain": [
       "<IPython.core.display.Javascript object>"
      ]
     },
     "metadata": {},
     "output_type": "display_data"
    }
   ],
   "source": [
    "crps_cost_function(\n",
    "    y_test_t2m_denormed[0].values.flatten(),\n",
    "    np.column_stack(\n",
    "        (\n",
    "            X_test_t2m_denormed[0].isel(mean_std=0).values.flatten(),\n",
    "            X_test_t2m_denormed[0].isel(mean_std=1).values.flatten(),\n",
    "        )\n",
    "    ),\n",
    "    theano=True,\n",
    ")"
   ]
  },
  {
   "cell_type": "code",
   "execution_count": 12,
   "id": "98d6cb23",
   "metadata": {},
   "outputs": [
    {
     "data": {
      "text/plain": [
       "0.5084816639136494"
      ]
     },
     "execution_count": 12,
     "metadata": {},
     "output_type": "execute_result"
    },
    {
     "data": {
      "application/javascript": [
       "\n",
       "            setTimeout(function() {\n",
       "                var nbb_cell_id = 12;\n",
       "                var nbb_unformatted_code = \"crps_normal(\\n    mu=X_test_t2m_denormed[0].isel(mean_std=0).values.flatten(),\\n    sigma=X_test_t2m_denormed[0].isel(mean_std=1).values.flatten(),\\n    y=y_test_t2m_denormed[0].values.flatten(),\\n).mean()\";\n",
       "                var nbb_formatted_code = \"crps_normal(\\n    mu=X_test_t2m_denormed[0].isel(mean_std=0).values.flatten(),\\n    sigma=X_test_t2m_denormed[0].isel(mean_std=1).values.flatten(),\\n    y=y_test_t2m_denormed[0].values.flatten(),\\n).mean()\";\n",
       "                var nbb_cells = Jupyter.notebook.get_cells();\n",
       "                for (var i = 0; i < nbb_cells.length; ++i) {\n",
       "                    if (nbb_cells[i].input_prompt_number == nbb_cell_id) {\n",
       "                        if (nbb_cells[i].get_text() == nbb_unformatted_code) {\n",
       "                             nbb_cells[i].set_text(nbb_formatted_code);\n",
       "                        }\n",
       "                        break;\n",
       "                    }\n",
       "                }\n",
       "            }, 500);\n",
       "            "
      ],
      "text/plain": [
       "<IPython.core.display.Javascript object>"
      ]
     },
     "metadata": {},
     "output_type": "display_data"
    }
   ],
   "source": [
    "crps_normal(\n",
    "    mu=X_test_t2m_denormed[0].isel(mean_std=0).values.flatten(),\n",
    "    sigma=X_test_t2m_denormed[0].isel(mean_std=1).values.flatten(),\n",
    "    y=y_test_t2m_denormed[0].values.flatten(),\n",
    ").mean()"
   ]
  },
  {
   "cell_type": "markdown",
   "id": "ed7bd3cd",
   "metadata": {},
   "source": [
    "#### 3.1 Loading baseline to compare"
   ]
  },
  {
   "cell_type": "code",
   "execution_count": 57,
   "id": "26d080e1",
   "metadata": {},
   "outputs": [
    {
     "data": {
      "application/javascript": [
       "\n",
       "            setTimeout(function() {\n",
       "                var nbb_cell_id = 57;\n",
       "                var nbb_unformatted_code = \"ws10_crps_baseline = crps_load_lead_lat_lon(\\\"ws10\\\")\\nt2m_crps_baseline = crps_load_lead_lat_lon(\\\"t2m\\\")\";\n",
       "                var nbb_formatted_code = \"ws10_crps_baseline = crps_load_lead_lat_lon(\\\"ws10\\\")\\nt2m_crps_baseline = crps_load_lead_lat_lon(\\\"t2m\\\")\";\n",
       "                var nbb_cells = Jupyter.notebook.get_cells();\n",
       "                for (var i = 0; i < nbb_cells.length; ++i) {\n",
       "                    if (nbb_cells[i].input_prompt_number == nbb_cell_id) {\n",
       "                        if (nbb_cells[i].get_text() == nbb_unformatted_code) {\n",
       "                             nbb_cells[i].set_text(nbb_formatted_code);\n",
       "                        }\n",
       "                        break;\n",
       "                    }\n",
       "                }\n",
       "            }, 500);\n",
       "            "
      ],
      "text/plain": [
       "<IPython.core.display.Javascript object>"
      ]
     },
     "metadata": {},
     "output_type": "display_data"
    }
   ],
   "source": [
    "ws10_crps_baseline = crps_load_lead_lat_lon(\"ws10\")\n",
    "t2m_crps_baseline = crps_load_lead_lat_lon(\"t2m\")"
   ]
  },
  {
   "cell_type": "code",
   "execution_count": 59,
   "id": "6885f980",
   "metadata": {},
   "outputs": [
    {
     "name": "stdout",
     "output_type": "stream",
     "text": [
      "Wind baseline: 0.7447009086608887\n",
      "T2m baseline: 0.9354666921537256\n"
     ]
    },
    {
     "data": {
      "application/javascript": [
       "\n",
       "            setTimeout(function() {\n",
       "                var nbb_cell_id = 59;\n",
       "                var nbb_unformatted_code = \"print(f\\\"Wind baseline: {ws10_crps_baseline[0].mean()}\\\")\\nprint(f\\\"T2m baseline: {t2m_crps_baseline[0].mean()}\\\")\";\n",
       "                var nbb_formatted_code = \"print(f\\\"Wind baseline: {ws10_crps_baseline[0].mean()}\\\")\\nprint(f\\\"T2m baseline: {t2m_crps_baseline[0].mean()}\\\")\";\n",
       "                var nbb_cells = Jupyter.notebook.get_cells();\n",
       "                for (var i = 0; i < nbb_cells.length; ++i) {\n",
       "                    if (nbb_cells[i].input_prompt_number == nbb_cell_id) {\n",
       "                        if (nbb_cells[i].get_text() == nbb_unformatted_code) {\n",
       "                             nbb_cells[i].set_text(nbb_formatted_code);\n",
       "                        }\n",
       "                        break;\n",
       "                    }\n",
       "                }\n",
       "            }, 500);\n",
       "            "
      ],
      "text/plain": [
       "<IPython.core.display.Javascript object>"
      ]
     },
     "metadata": {},
     "output_type": "display_data"
    }
   ],
   "source": [
    "print(f\"Wind baseline: {ws10_crps_baseline[0].mean()}\")\n",
    "print(f\"T2m baseline: {t2m_crps_baseline[0].mean()}\")"
   ]
  },
  {
   "cell_type": "markdown",
   "id": "47347a07",
   "metadata": {},
   "source": [
    "### 3. Load EMOS global scores"
   ]
  },
  {
   "cell_type": "code",
   "execution_count": 4,
   "id": "29abc83e",
   "metadata": {},
   "outputs": [
    {
     "data": {
      "application/javascript": [
       "\n",
       "            setTimeout(function() {\n",
       "                var nbb_cell_id = 4;\n",
       "                var nbb_unformatted_code = \"EMOS_glob_scores_t2m = EMOS_global_load_score(\\\"t2m\\\")\\nEMOS_glob_scores_ws10 = EMOS_global_load_score(\\\"ws10\\\")\";\n",
       "                var nbb_formatted_code = \"EMOS_glob_scores_t2m = EMOS_global_load_score(\\\"t2m\\\")\\nEMOS_glob_scores_ws10 = EMOS_global_load_score(\\\"ws10\\\")\";\n",
       "                var nbb_cells = Jupyter.notebook.get_cells();\n",
       "                for (var i = 0; i < nbb_cells.length; ++i) {\n",
       "                    if (nbb_cells[i].input_prompt_number == nbb_cell_id) {\n",
       "                        if (nbb_cells[i].get_text() == nbb_unformatted_code) {\n",
       "                             nbb_cells[i].set_text(nbb_formatted_code);\n",
       "                        }\n",
       "                        break;\n",
       "                    }\n",
       "                }\n",
       "            }, 500);\n",
       "            "
      ],
      "text/plain": [
       "<IPython.core.display.Javascript object>"
      ]
     },
     "metadata": {},
     "output_type": "display_data"
    }
   ],
   "source": [
    "EMOS_glob_scores_t2m = EMOS_global_load_score(\"t2m\")\n",
    "EMOS_glob_scores_ws10 = EMOS_global_load_score(\"ws10\")"
   ]
  },
  {
   "cell_type": "markdown",
   "id": "6eee68f2",
   "metadata": {},
   "source": [
    "### 4. Load EMOS global models:"
   ]
  },
  {
   "cell_type": "code",
   "execution_count": 6,
   "id": "0385787c",
   "metadata": {},
   "outputs": [
    {
     "data": {
      "application/javascript": [
       "\n",
       "            setTimeout(function() {\n",
       "                var nbb_cell_id = 6;\n",
       "                var nbb_unformatted_code = \"EMOS_glob_models_t2m = EMOS_global_load_model_t2m()\";\n",
       "                var nbb_formatted_code = \"EMOS_glob_models_t2m = EMOS_global_load_model_t2m()\";\n",
       "                var nbb_cells = Jupyter.notebook.get_cells();\n",
       "                for (var i = 0; i < nbb_cells.length; ++i) {\n",
       "                    if (nbb_cells[i].input_prompt_number == nbb_cell_id) {\n",
       "                        if (nbb_cells[i].get_text() == nbb_unformatted_code) {\n",
       "                             nbb_cells[i].set_text(nbb_formatted_code);\n",
       "                        }\n",
       "                        break;\n",
       "                    }\n",
       "                }\n",
       "            }, 500);\n",
       "            "
      ],
      "text/plain": [
       "<IPython.core.display.Javascript object>"
      ]
     },
     "metadata": {},
     "output_type": "display_data"
    }
   ],
   "source": [
    "EMOS_glob_models_t2m = EMOS_global_load_model_t2m()"
   ]
  },
  {
   "cell_type": "code",
   "execution_count": 8,
   "id": "e7223c87",
   "metadata": {},
   "outputs": [
    {
     "data": {
      "text/plain": [
       "31"
      ]
     },
     "execution_count": 8,
     "metadata": {},
     "output_type": "execute_result"
    },
    {
     "data": {
      "application/javascript": [
       "\n",
       "            setTimeout(function() {\n",
       "                var nbb_cell_id = 8;\n",
       "                var nbb_unformatted_code = \"len(EMOS_glob_models_t2m)\";\n",
       "                var nbb_formatted_code = \"len(EMOS_glob_models_t2m)\";\n",
       "                var nbb_cells = Jupyter.notebook.get_cells();\n",
       "                for (var i = 0; i < nbb_cells.length; ++i) {\n",
       "                    if (nbb_cells[i].input_prompt_number == nbb_cell_id) {\n",
       "                        if (nbb_cells[i].get_text() == nbb_unformatted_code) {\n",
       "                             nbb_cells[i].set_text(nbb_formatted_code);\n",
       "                        }\n",
       "                        break;\n",
       "                    }\n",
       "                }\n",
       "            }, 500);\n",
       "            "
      ],
      "text/plain": [
       "<IPython.core.display.Javascript object>"
      ]
     },
     "metadata": {},
     "output_type": "display_data"
    }
   ],
   "source": [
    "len(EMOS_glob_models_t2m)"
   ]
  },
  {
   "cell_type": "code",
   "execution_count": 11,
   "id": "cfcd3063",
   "metadata": {
    "scrolled": true
   },
   "outputs": [
    {
     "data": {
      "text/plain": [
       "[array([[0.9957687]], dtype=float32),\n",
       " array([1.5915295], dtype=float32),\n",
       " array([[1.1350194]], dtype=float32),\n",
       " array([0.426182], dtype=float32)]"
      ]
     },
     "execution_count": 11,
     "metadata": {},
     "output_type": "execute_result"
    },
    {
     "data": {
      "application/javascript": [
       "\n",
       "            setTimeout(function() {\n",
       "                var nbb_cell_id = 11;\n",
       "                var nbb_unformatted_code = \"EMOS_glob_models_t2m[20].get_weights()\";\n",
       "                var nbb_formatted_code = \"EMOS_glob_models_t2m[20].get_weights()\";\n",
       "                var nbb_cells = Jupyter.notebook.get_cells();\n",
       "                for (var i = 0; i < nbb_cells.length; ++i) {\n",
       "                    if (nbb_cells[i].input_prompt_number == nbb_cell_id) {\n",
       "                        if (nbb_cells[i].get_text() == nbb_unformatted_code) {\n",
       "                             nbb_cells[i].set_text(nbb_formatted_code);\n",
       "                        }\n",
       "                        break;\n",
       "                    }\n",
       "                }\n",
       "            }, 500);\n",
       "            "
      ],
      "text/plain": [
       "<IPython.core.display.Javascript object>"
      ]
     },
     "metadata": {},
     "output_type": "display_data"
    }
   ],
   "source": [
    "EMOS_glob_models_t2m[20].get_weights()"
   ]
  }
 ],
 "metadata": {
  "kernelspec": {
   "display_name": "Python 3 (ipykernel)",
   "language": "python",
   "name": "python3"
  },
  "language_info": {
   "codemirror_mode": {
    "name": "ipython",
    "version": 3
   },
   "file_extension": ".py",
   "mimetype": "text/x-python",
   "name": "python",
   "nbconvert_exporter": "python",
   "pygments_lexer": "ipython3",
   "version": "3.9.7"
  }
 },
 "nbformat": 4,
 "nbformat_minor": 5
}
