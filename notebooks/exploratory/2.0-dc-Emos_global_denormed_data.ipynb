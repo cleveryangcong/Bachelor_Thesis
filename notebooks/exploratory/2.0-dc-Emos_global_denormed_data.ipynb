{
 "cells": [
  {
   "cell_type": "code",
   "execution_count": 1,
   "id": "12765866",
   "metadata": {},
   "outputs": [
    {
     "data": {
      "application/javascript": [
       "\n",
       "            setTimeout(function() {\n",
       "                var nbb_cell_id = 1;\n",
       "                var nbb_unformatted_code = \"%load_ext nb_black\";\n",
       "                var nbb_formatted_code = \"%load_ext nb_black\";\n",
       "                var nbb_cells = Jupyter.notebook.get_cells();\n",
       "                for (var i = 0; i < nbb_cells.length; ++i) {\n",
       "                    if (nbb_cells[i].input_prompt_number == nbb_cell_id) {\n",
       "                        if (nbb_cells[i].get_text() == nbb_unformatted_code) {\n",
       "                             nbb_cells[i].set_text(nbb_formatted_code);\n",
       "                        }\n",
       "                        break;\n",
       "                    }\n",
       "                }\n",
       "            }, 500);\n",
       "            "
      ],
      "text/plain": [
       "<IPython.core.display.Javascript object>"
      ]
     },
     "metadata": {},
     "output_type": "display_data"
    }
   ],
   "source": [
    "%load_ext nb_black"
   ]
  },
  {
   "cell_type": "code",
   "execution_count": 2,
   "id": "10108375",
   "metadata": {},
   "outputs": [
    {
     "name": "stderr",
     "output_type": "stream",
     "text": [
      "2023-05-29 13:04:28.830719: W tensorflow/stream_executor/platform/default/dso_loader.cc:64] Could not load dynamic library 'libcudart.so.11.0'; dlerror: libcudart.so.11.0: cannot open shared object file: No such file or directory; LD_LIBRARY_PATH: :/opt/anaconda3/lib/\n",
      "2023-05-29 13:04:28.830740: I tensorflow/stream_executor/cuda/cudart_stub.cc:29] Ignore above cudart dlerror if you do not have a GPU set up on your machine.\n"
     ]
    },
    {
     "data": {
      "application/javascript": [
       "\n",
       "            setTimeout(function() {\n",
       "                var nbb_cell_id = 2;\n",
       "                var nbb_unformatted_code = \"# Helpful\\nimport tqdm\\n\\n# Visualization\\nimport matplotlib.pyplot as plt\\n\\n# My Methods\\nfrom src.utils.CRPS import *\\nfrom src.utils.data_split import *\\nfrom src.models.EMOS import *\\nimport data.raw.load_data_raw as ldr\\nimport data.processed.load_data_processed as ldp\\nimport data.processed.load_data_processed_denormed as ldpd\\nfrom src.models.CRPS_baseline.CRPS_load import *\";\n",
       "                var nbb_formatted_code = \"# Helpful\\nimport tqdm\\n\\n# Visualization\\nimport matplotlib.pyplot as plt\\n\\n# My Methods\\nfrom src.utils.CRPS import *\\nfrom src.utils.data_split import *\\nfrom src.models.EMOS import *\\nimport data.raw.load_data_raw as ldr\\nimport data.processed.load_data_processed as ldp\\nimport data.processed.load_data_processed_denormed as ldpd\\nfrom src.models.CRPS_baseline.CRPS_load import *\";\n",
       "                var nbb_cells = Jupyter.notebook.get_cells();\n",
       "                for (var i = 0; i < nbb_cells.length; ++i) {\n",
       "                    if (nbb_cells[i].input_prompt_number == nbb_cell_id) {\n",
       "                        if (nbb_cells[i].get_text() == nbb_unformatted_code) {\n",
       "                             nbb_cells[i].set_text(nbb_formatted_code);\n",
       "                        }\n",
       "                        break;\n",
       "                    }\n",
       "                }\n",
       "            }, 500);\n",
       "            "
      ],
      "text/plain": [
       "<IPython.core.display.Javascript object>"
      ]
     },
     "metadata": {},
     "output_type": "display_data"
    }
   ],
   "source": [
    "# Helpful\n",
    "import tqdm\n",
    "\n",
    "# Visualization\n",
    "import matplotlib.pyplot as plt\n",
    "\n",
    "# My Methods\n",
    "from src.utils.CRPS import *\n",
    "from src.utils.data_split import *\n",
    "from src.models.EMOS import *\n",
    "import data.raw.load_data_raw as ldr\n",
    "import data.processed.load_data_processed as ldp\n",
    "import data.processed.load_data_processed_denormed as ldpd\n",
    "from src.models.CRPS_baseline.CRPS_load import *"
   ]
  },
  {
   "cell_type": "code",
   "execution_count": 3,
   "id": "2d399b30",
   "metadata": {},
   "outputs": [
    {
     "data": {
      "application/javascript": [
       "\n",
       "            setTimeout(function() {\n",
       "                var nbb_cell_id = 3;\n",
       "                var nbb_unformatted_code = \"# Basics\\nimport numpy as np\\nimport keras.backend as K\\nimport tensorflow as tf\\n#Norms\\nfrom scipy.stats import norm\\n#Helpful\\nfrom tqdm import tqdm\";\n",
       "                var nbb_formatted_code = \"# Basics\\nimport numpy as np\\nimport keras.backend as K\\nimport tensorflow as tf\\n\\n# Norms\\nfrom scipy.stats import norm\\n\\n# Helpful\\nfrom tqdm import tqdm\";\n",
       "                var nbb_cells = Jupyter.notebook.get_cells();\n",
       "                for (var i = 0; i < nbb_cells.length; ++i) {\n",
       "                    if (nbb_cells[i].input_prompt_number == nbb_cell_id) {\n",
       "                        if (nbb_cells[i].get_text() == nbb_unformatted_code) {\n",
       "                             nbb_cells[i].set_text(nbb_formatted_code);\n",
       "                        }\n",
       "                        break;\n",
       "                    }\n",
       "                }\n",
       "            }, 500);\n",
       "            "
      ],
      "text/plain": [
       "<IPython.core.display.Javascript object>"
      ]
     },
     "metadata": {},
     "output_type": "display_data"
    }
   ],
   "source": [
    "# Basics\n",
    "import numpy as np\n",
    "import keras.backend as K\n",
    "import tensorflow as tf\n",
    "\n",
    "# Norms\n",
    "from scipy.stats import norm\n",
    "\n",
    "# Helpful\n",
    "from tqdm import tqdm"
   ]
  },
  {
   "cell_type": "markdown",
   "id": "d1e63dc4",
   "metadata": {},
   "source": [
    "### 1. Load Raw Data"
   ]
  },
  {
   "cell_type": "code",
   "execution_count": 4,
   "id": "b9bb0b1c",
   "metadata": {},
   "outputs": [
    {
     "data": {
      "application/javascript": [
       "\n",
       "            setTimeout(function() {\n",
       "                var nbb_cell_id = 4;\n",
       "                var nbb_unformatted_code = \"# Load train data for variables t2m and ws10\\ntrain_t2m_ws10_denormed = ldpd.load_data_t2m_ws10_train_proc_denorm()\\ntrain_t2m_denormed = train_t2m_ws10_denormed[0]\\ntrain_ws10_denormed = train_t2m_ws10_denormed[1]\\n\\n# Load test data for variables t2m and ws10\\ntest_t2m_ws10_denormed = ldpd.load_data_t2m_ws10_test_proc_denorm()\\ntest_t2m_denormed = test_t2m_ws10_denormed[0]\\ntest_ws10_denormed = test_t2m_ws10_denormed[1]\\n\\n# Load train and test data for normed t2m:\\ntrain_t2m_normed = ldp.load_data_t2m_train_proc_norm()\\ntest_t2m_normed = ldp.load_data_t2m_test_proc_norm()\";\n",
       "                var nbb_formatted_code = \"# Load train data for variables t2m and ws10\\ntrain_t2m_ws10_denormed = ldpd.load_data_t2m_ws10_train_proc_denorm()\\ntrain_t2m_denormed = train_t2m_ws10_denormed[0]\\ntrain_ws10_denormed = train_t2m_ws10_denormed[1]\\n\\n# Load test data for variables t2m and ws10\\ntest_t2m_ws10_denormed = ldpd.load_data_t2m_ws10_test_proc_denorm()\\ntest_t2m_denormed = test_t2m_ws10_denormed[0]\\ntest_ws10_denormed = test_t2m_ws10_denormed[1]\\n\\n# Load train and test data for normed t2m:\\ntrain_t2m_normed = ldp.load_data_t2m_train_proc_norm()\\ntest_t2m_normed = ldp.load_data_t2m_test_proc_norm()\";\n",
       "                var nbb_cells = Jupyter.notebook.get_cells();\n",
       "                for (var i = 0; i < nbb_cells.length; ++i) {\n",
       "                    if (nbb_cells[i].input_prompt_number == nbb_cell_id) {\n",
       "                        if (nbb_cells[i].get_text() == nbb_unformatted_code) {\n",
       "                             nbb_cells[i].set_text(nbb_formatted_code);\n",
       "                        }\n",
       "                        break;\n",
       "                    }\n",
       "                }\n",
       "            }, 500);\n",
       "            "
      ],
      "text/plain": [
       "<IPython.core.display.Javascript object>"
      ]
     },
     "metadata": {},
     "output_type": "display_data"
    }
   ],
   "source": [
    "# Load train data for variables t2m and ws10\n",
    "train_t2m_ws10_denormed = ldpd.load_data_t2m_ws10_train_proc_denorm()\n",
    "train_t2m_denormed = train_t2m_ws10_denormed[0]\n",
    "train_ws10_denormed = train_t2m_ws10_denormed[1]\n",
    "\n",
    "# Load test data for variables t2m and ws10\n",
    "test_t2m_ws10_denormed = ldpd.load_data_t2m_ws10_test_proc_denorm()\n",
    "test_t2m_denormed = test_t2m_ws10_denormed[0]\n",
    "test_ws10_denormed = test_t2m_ws10_denormed[1]\n",
    "\n",
    "# Load train and test data for normed t2m:\n",
    "train_t2m_normed = ldp.load_data_t2m_train_proc_norm()\n",
    "test_t2m_normed = ldp.load_data_t2m_test_proc_norm()"
   ]
  },
  {
   "cell_type": "markdown",
   "id": "ddb86ac2",
   "metadata": {},
   "source": [
    "###  2. Data Split"
   ]
  },
  {
   "cell_type": "code",
   "execution_count": 5,
   "id": "3174fc3c",
   "metadata": {},
   "outputs": [
    {
     "data": {
      "application/javascript": [
       "\n",
       "            setTimeout(function() {\n",
       "                var nbb_cell_id = 5;\n",
       "                var nbb_unformatted_code = \"# Train-test split into lead_times for t2m\\nX_train_t2m_denormed, y_train_t2m_denormed = split_var_lead_one(train_t2m_denormed)\\nX_test_t2m_denormed, y_test_t2m_denormed = split_var_lead_one(test_t2m_denormed)\\n# Train-test split into lead_times for ws10\\nX_train_ws10_denormed, y_train_ws10_denormed = split_var_lead_one(train_ws10_denormed)\\nX_test_ws10_denormed, y_test_ws10_denormed = split_var_lead_one(test_ws10_denormed)\\n\\n# Train-test split into lead_times for t2m normed\\nX_train_t2m_normed, y_train_t2m_normed = split_var_lead_one(train_t2m_normed)\\nX_test_t2m_normed, y_test_t2m_normed = split_var_lead_one(test_t2m_normed)\";\n",
       "                var nbb_formatted_code = \"# Train-test split into lead_times for t2m\\nX_train_t2m_denormed, y_train_t2m_denormed = split_var_lead_one(train_t2m_denormed)\\nX_test_t2m_denormed, y_test_t2m_denormed = split_var_lead_one(test_t2m_denormed)\\n# Train-test split into lead_times for ws10\\nX_train_ws10_denormed, y_train_ws10_denormed = split_var_lead_one(train_ws10_denormed)\\nX_test_ws10_denormed, y_test_ws10_denormed = split_var_lead_one(test_ws10_denormed)\\n\\n# Train-test split into lead_times for t2m normed\\nX_train_t2m_normed, y_train_t2m_normed = split_var_lead_one(train_t2m_normed)\\nX_test_t2m_normed, y_test_t2m_normed = split_var_lead_one(test_t2m_normed)\";\n",
       "                var nbb_cells = Jupyter.notebook.get_cells();\n",
       "                for (var i = 0; i < nbb_cells.length; ++i) {\n",
       "                    if (nbb_cells[i].input_prompt_number == nbb_cell_id) {\n",
       "                        if (nbb_cells[i].get_text() == nbb_unformatted_code) {\n",
       "                             nbb_cells[i].set_text(nbb_formatted_code);\n",
       "                        }\n",
       "                        break;\n",
       "                    }\n",
       "                }\n",
       "            }, 500);\n",
       "            "
      ],
      "text/plain": [
       "<IPython.core.display.Javascript object>"
      ]
     },
     "metadata": {},
     "output_type": "display_data"
    }
   ],
   "source": [
    "# Train-test split into lead_times for t2m\n",
    "X_train_t2m_denormed, y_train_t2m_denormed = split_var_lead_one(train_t2m_denormed)\n",
    "X_test_t2m_denormed, y_test_t2m_denormed = split_var_lead_one(test_t2m_denormed)\n",
    "# Train-test split into lead_times for ws10\n",
    "X_train_ws10_denormed, y_train_ws10_denormed = split_var_lead_one(train_ws10_denormed)\n",
    "X_test_ws10_denormed, y_test_ws10_denormed = split_var_lead_one(test_ws10_denormed)\n",
    "\n",
    "# Train-test split into lead_times for t2m normed\n",
    "X_train_t2m_normed, y_train_t2m_normed = split_var_lead_one(train_t2m_normed)\n",
    "X_test_t2m_normed, y_test_t2m_normed = split_var_lead_one(test_t2m_normed)"
   ]
  },
  {
   "cell_type": "markdown",
   "id": "cc6124c3",
   "metadata": {},
   "source": [
    "Test with z500 denormed, to see whether it also leads to bad results:"
   ]
  },
  {
   "cell_type": "code",
   "execution_count": 6,
   "id": "7aee7aa9",
   "metadata": {},
   "outputs": [
    {
     "data": {
      "application/javascript": [
       "\n",
       "            setTimeout(function() {\n",
       "                var nbb_cell_id = 6;\n",
       "                var nbb_unformatted_code = \"train_z500_denormed = ldpd.load_data_z500_train_proc_denorm()\\nX_train_z500_denormed, y_train_z500_denormed = split_var_lead_one(train_z500_denormed)\\ntrain_u10_denormed = ldpd.load_data_u10_train_proc_denorm()\\nX_train_u10_denormed, y_train_u10_denormed = split_var_lead_one(train_u10_denormed)\\ntrain_v10_denormed = ldpd.load_data_v10_train_proc_denorm()\\nX_train_v10_denormed, y_train_v10_denormed = split_var_lead_one(train_v10_denormed)\\ntrain_t850_denormed = ldpd.load_data_t850_train_proc_denorm()\\nX_train_t850_denormed, y_train_t850_denormed = split_var_lead_one(train_t850_denormed)\";\n",
       "                var nbb_formatted_code = \"train_z500_denormed = ldpd.load_data_z500_train_proc_denorm()\\nX_train_z500_denormed, y_train_z500_denormed = split_var_lead_one(train_z500_denormed)\\ntrain_u10_denormed = ldpd.load_data_u10_train_proc_denorm()\\nX_train_u10_denormed, y_train_u10_denormed = split_var_lead_one(train_u10_denormed)\\ntrain_v10_denormed = ldpd.load_data_v10_train_proc_denorm()\\nX_train_v10_denormed, y_train_v10_denormed = split_var_lead_one(train_v10_denormed)\\ntrain_t850_denormed = ldpd.load_data_t850_train_proc_denorm()\\nX_train_t850_denormed, y_train_t850_denormed = split_var_lead_one(train_t850_denormed)\";\n",
       "                var nbb_cells = Jupyter.notebook.get_cells();\n",
       "                for (var i = 0; i < nbb_cells.length; ++i) {\n",
       "                    if (nbb_cells[i].input_prompt_number == nbb_cell_id) {\n",
       "                        if (nbb_cells[i].get_text() == nbb_unformatted_code) {\n",
       "                             nbb_cells[i].set_text(nbb_formatted_code);\n",
       "                        }\n",
       "                        break;\n",
       "                    }\n",
       "                }\n",
       "            }, 500);\n",
       "            "
      ],
      "text/plain": [
       "<IPython.core.display.Javascript object>"
      ]
     },
     "metadata": {},
     "output_type": "display_data"
    }
   ],
   "source": [
    "train_z500_denormed = ldpd.load_data_z500_train_proc_denorm()\n",
    "X_train_z500_denormed, y_train_z500_denormed = split_var_lead_one(train_z500_denormed)\n",
    "train_u10_denormed = ldpd.load_data_u10_train_proc_denorm()\n",
    "X_train_u10_denormed, y_train_u10_denormed = split_var_lead_one(train_u10_denormed)\n",
    "train_v10_denormed = ldpd.load_data_v10_train_proc_denorm()\n",
    "X_train_v10_denormed, y_train_v10_denormed = split_var_lead_one(train_v10_denormed)\n",
    "train_t850_denormed = ldpd.load_data_t850_train_proc_denorm()\n",
    "X_train_t850_denormed, y_train_t850_denormed = split_var_lead_one(train_t850_denormed)"
   ]
  },
  {
   "cell_type": "markdown",
   "id": "d45bba8c",
   "metadata": {},
   "source": [
    "### 3. Train EMOS model"
   ]
  },
  {
   "cell_type": "code",
   "execution_count": 7,
   "id": "ab64a52c",
   "metadata": {},
   "outputs": [
    {
     "data": {
      "text/plain": [
       "0.49815792585237906"
      ]
     },
     "execution_count": 7,
     "metadata": {},
     "output_type": "execute_result"
    },
    {
     "data": {
      "application/javascript": [
       "\n",
       "            setTimeout(function() {\n",
       "                var nbb_cell_id = 7;\n",
       "                var nbb_unformatted_code = \"crps_normal(\\n    mu=X_train_t2m_denormed[0].isel(mean_std=0).values,\\n    sigma=X_train_t2m_denormed[0].isel(mean_std=1).values,\\n    y=y_train_t2m_denormed[0].values,\\n).mean()\";\n",
       "                var nbb_formatted_code = \"crps_normal(\\n    mu=X_train_t2m_denormed[0].isel(mean_std=0).values,\\n    sigma=X_train_t2m_denormed[0].isel(mean_std=1).values,\\n    y=y_train_t2m_denormed[0].values,\\n).mean()\";\n",
       "                var nbb_cells = Jupyter.notebook.get_cells();\n",
       "                for (var i = 0; i < nbb_cells.length; ++i) {\n",
       "                    if (nbb_cells[i].input_prompt_number == nbb_cell_id) {\n",
       "                        if (nbb_cells[i].get_text() == nbb_unformatted_code) {\n",
       "                             nbb_cells[i].set_text(nbb_formatted_code);\n",
       "                        }\n",
       "                        break;\n",
       "                    }\n",
       "                }\n",
       "            }, 500);\n",
       "            "
      ],
      "text/plain": [
       "<IPython.core.display.Javascript object>"
      ]
     },
     "metadata": {},
     "output_type": "display_data"
    }
   ],
   "source": [
    "crps_normal(\n",
    "    mu=X_train_t2m_denormed[0].isel(mean_std=0).values,\n",
    "    sigma=X_train_t2m_denormed[0].isel(mean_std=1).values,\n",
    "    y=y_train_t2m_denormed[0].values,\n",
    ").mean()"
   ]
  },
  {
   "cell_type": "code",
   "execution_count": 8,
   "id": "fd49c63e",
   "metadata": {
    "scrolled": false
   },
   "outputs": [
    {
     "name": "stderr",
     "output_type": "stream",
     "text": [
      "2023-05-29 13:04:39.901652: W tensorflow/stream_executor/platform/default/dso_loader.cc:64] Could not load dynamic library 'libcudart.so.11.0'; dlerror: libcudart.so.11.0: cannot open shared object file: No such file or directory; LD_LIBRARY_PATH: :/opt/anaconda3/lib/\n",
      "2023-05-29 13:04:39.901796: W tensorflow/stream_executor/platform/default/dso_loader.cc:64] Could not load dynamic library 'libcublas.so.11'; dlerror: libcublas.so.11: cannot open shared object file: No such file or directory; LD_LIBRARY_PATH: :/opt/anaconda3/lib/\n",
      "2023-05-29 13:04:39.901902: W tensorflow/stream_executor/platform/default/dso_loader.cc:64] Could not load dynamic library 'libcublasLt.so.11'; dlerror: libcublasLt.so.11: cannot open shared object file: No such file or directory; LD_LIBRARY_PATH: :/opt/anaconda3/lib/\n",
      "2023-05-29 13:04:39.902005: W tensorflow/stream_executor/platform/default/dso_loader.cc:64] Could not load dynamic library 'libcufft.so.10'; dlerror: libcufft.so.10: cannot open shared object file: No such file or directory; LD_LIBRARY_PATH: :/opt/anaconda3/lib/\n",
      "2023-05-29 13:04:39.937943: W tensorflow/stream_executor/platform/default/dso_loader.cc:64] Could not load dynamic library 'libcusparse.so.11'; dlerror: libcusparse.so.11: cannot open shared object file: No such file or directory; LD_LIBRARY_PATH: :/opt/anaconda3/lib/\n",
      "2023-05-29 13:04:39.938297: W tensorflow/core/common_runtime/gpu/gpu_device.cc:1850] Cannot dlopen some GPU libraries. Please make sure the missing libraries mentioned above are installed properly if you would like to use GPU. Follow the guide at https://www.tensorflow.org/install/gpu for how to download and setup the required libraries for your platform.\n",
      "Skipping registering GPU devices...\n",
      "2023-05-29 13:04:39.938658: I tensorflow/core/platform/cpu_feature_guard.cc:151] This TensorFlow binary is optimized with oneAPI Deep Neural Network Library (oneDNN) to use the following CPU instructions in performance-critical operations:  AVX2 AVX512F FMA\n",
      "To enable them in other operations, rebuild TensorFlow with the appropriate compiler flags.\n"
     ]
    },
    {
     "name": "stdout",
     "output_type": "stream",
     "text": [
      "Epoch 1/10\n",
      "1/1 [==============================] - 3s 3s/step - loss: 733.1121\n",
      "Epoch 2/10\n",
      "1/1 [==============================] - 1s 1s/step - loss: 6559.7266\n",
      "Epoch 3/10\n",
      "1/1 [==============================] - 1s 1s/step - loss: 732.9309\n",
      "Epoch 4/10\n",
      "1/1 [==============================] - 1s 1s/step - loss: 6559.5449\n",
      "Epoch 5/10\n",
      "1/1 [==============================] - 1s 998ms/step - loss: 732.7493\n",
      "Epoch 6/10\n",
      "1/1 [==============================] - 1s 1s/step - loss: 6559.3638\n",
      "Epoch 7/10\n",
      "1/1 [==============================] - 1s 1s/step - loss: 732.5679\n",
      "Epoch 8/10\n",
      "1/1 [==============================] - 1s 1s/step - loss: 6559.1821\n",
      "Epoch 9/10\n",
      "1/1 [==============================] - 1s 992ms/step - loss: 732.3863\n",
      "Epoch 10/10\n",
      "1/1 [==============================] - 1s 974ms/step - loss: 6559.0005\n"
     ]
    },
    {
     "data": {
      "text/plain": [
       "<keras.callbacks.History at 0x7f73584eba00>"
      ]
     },
     "execution_count": 8,
     "metadata": {},
     "output_type": "execute_result"
    },
    {
     "data": {
      "application/javascript": [
       "\n",
       "            setTimeout(function() {\n",
       "                var nbb_cell_id = 8;\n",
       "                var nbb_unformatted_code = \"EMOS_model = build_EMOS_network_keras(compile=True, lr=0.1)\\nEMOS_model.fit(\\n    [\\n        X_train_t2m_denormed[0].isel(mean_std=0).values.flatten(),\\n        X_train_t2m_denormed[0].isel(mean_std=1).values.flatten(),\\n    ],\\n    y_train_t2m_denormed[0].values.flatten(),\\n    epochs=10,\\n    batch_size=y_train_t2m_denormed[0].values.flatten().shape[0],\\n)\";\n",
       "                var nbb_formatted_code = \"EMOS_model = build_EMOS_network_keras(compile=True, lr=0.1)\\nEMOS_model.fit(\\n    [\\n        X_train_t2m_denormed[0].isel(mean_std=0).values.flatten(),\\n        X_train_t2m_denormed[0].isel(mean_std=1).values.flatten(),\\n    ],\\n    y_train_t2m_denormed[0].values.flatten(),\\n    epochs=10,\\n    batch_size=y_train_t2m_denormed[0].values.flatten().shape[0],\\n)\";\n",
       "                var nbb_cells = Jupyter.notebook.get_cells();\n",
       "                for (var i = 0; i < nbb_cells.length; ++i) {\n",
       "                    if (nbb_cells[i].input_prompt_number == nbb_cell_id) {\n",
       "                        if (nbb_cells[i].get_text() == nbb_unformatted_code) {\n",
       "                             nbb_cells[i].set_text(nbb_formatted_code);\n",
       "                        }\n",
       "                        break;\n",
       "                    }\n",
       "                }\n",
       "            }, 500);\n",
       "            "
      ],
      "text/plain": [
       "<IPython.core.display.Javascript object>"
      ]
     },
     "metadata": {},
     "output_type": "display_data"
    }
   ],
   "source": [
    "EMOS_model = build_EMOS_network_keras(compile=True, lr=0.1)\n",
    "EMOS_model.fit(\n",
    "    [\n",
    "        X_train_t2m_denormed[0].isel(mean_std=0).values.flatten(),\n",
    "        X_train_t2m_denormed[0].isel(mean_std=1).values.flatten(),\n",
    "    ],\n",
    "    y_train_t2m_denormed[0].values.flatten(),\n",
    "    epochs=10,\n",
    "    batch_size=y_train_t2m_denormed[0].values.flatten().shape[0],\n",
    ")"
   ]
  },
  {
   "cell_type": "code",
   "execution_count": 9,
   "id": "5a40d7c0",
   "metadata": {},
   "outputs": [
    {
     "data": {
      "text/plain": [
       "[array([[-1.5755901]], dtype=float32),\n",
       " array([0.], dtype=float32),\n",
       " array([[1.8109722]], dtype=float32),\n",
       " array([0.5681561], dtype=float32)]"
      ]
     },
     "execution_count": 9,
     "metadata": {},
     "output_type": "execute_result"
    },
    {
     "data": {
      "application/javascript": [
       "\n",
       "            setTimeout(function() {\n",
       "                var nbb_cell_id = 9;\n",
       "                var nbb_unformatted_code = \"EMOS_model.get_weights()\";\n",
       "                var nbb_formatted_code = \"EMOS_model.get_weights()\";\n",
       "                var nbb_cells = Jupyter.notebook.get_cells();\n",
       "                for (var i = 0; i < nbb_cells.length; ++i) {\n",
       "                    if (nbb_cells[i].input_prompt_number == nbb_cell_id) {\n",
       "                        if (nbb_cells[i].get_text() == nbb_unformatted_code) {\n",
       "                             nbb_cells[i].set_text(nbb_formatted_code);\n",
       "                        }\n",
       "                        break;\n",
       "                    }\n",
       "                }\n",
       "            }, 500);\n",
       "            "
      ],
      "text/plain": [
       "<IPython.core.display.Javascript object>"
      ]
     },
     "metadata": {},
     "output_type": "display_data"
    }
   ],
   "source": [
    "EMOS_model.get_weights()"
   ]
  },
  {
   "cell_type": "markdown",
   "id": "c04b49e5",
   "metadata": {},
   "source": [
    "##### Checking that crps_cost_function and crps_normal are equivalent:"
   ]
  },
  {
   "cell_type": "code",
   "execution_count": 11,
   "id": "c9ca9f74",
   "metadata": {},
   "outputs": [
    {
     "data": {
      "text/plain": [
       "<tf.Tensor: shape=(), dtype=float32, numpy=0.5084816>"
      ]
     },
     "execution_count": 11,
     "metadata": {},
     "output_type": "execute_result"
    },
    {
     "data": {
      "application/javascript": [
       "\n",
       "            setTimeout(function() {\n",
       "                var nbb_cell_id = 11;\n",
       "                var nbb_unformatted_code = \"crps_cost_function(\\n    y_test_t2m_denormed[0].values.flatten(),\\n    np.column_stack(\\n        (\\n            X_test_t2m_denormed[0].isel(mean_std=0).values.flatten(),\\n            X_test_t2m_denormed[0].isel(mean_std=1).values.flatten(),\\n        )\\n    ),theano = True\\n)\";\n",
       "                var nbb_formatted_code = \"crps_cost_function(\\n    y_test_t2m_denormed[0].values.flatten(),\\n    np.column_stack(\\n        (\\n            X_test_t2m_denormed[0].isel(mean_std=0).values.flatten(),\\n            X_test_t2m_denormed[0].isel(mean_std=1).values.flatten(),\\n        )\\n    ),\\n    theano=True,\\n)\";\n",
       "                var nbb_cells = Jupyter.notebook.get_cells();\n",
       "                for (var i = 0; i < nbb_cells.length; ++i) {\n",
       "                    if (nbb_cells[i].input_prompt_number == nbb_cell_id) {\n",
       "                        if (nbb_cells[i].get_text() == nbb_unformatted_code) {\n",
       "                             nbb_cells[i].set_text(nbb_formatted_code);\n",
       "                        }\n",
       "                        break;\n",
       "                    }\n",
       "                }\n",
       "            }, 500);\n",
       "            "
      ],
      "text/plain": [
       "<IPython.core.display.Javascript object>"
      ]
     },
     "metadata": {},
     "output_type": "display_data"
    }
   ],
   "source": [
    "crps_cost_function(\n",
    "    y_test_t2m_denormed[0].values.flatten(),\n",
    "    np.column_stack(\n",
    "        (\n",
    "            X_test_t2m_denormed[0].isel(mean_std=0).values.flatten(),\n",
    "            X_test_t2m_denormed[0].isel(mean_std=1).values.flatten(),\n",
    "        )\n",
    "    ),\n",
    "    theano=True,\n",
    ")"
   ]
  },
  {
   "cell_type": "code",
   "execution_count": 12,
   "id": "98d6cb23",
   "metadata": {},
   "outputs": [
    {
     "data": {
      "text/plain": [
       "0.5084816639136494"
      ]
     },
     "execution_count": 12,
     "metadata": {},
     "output_type": "execute_result"
    },
    {
     "data": {
      "application/javascript": [
       "\n",
       "            setTimeout(function() {\n",
       "                var nbb_cell_id = 12;\n",
       "                var nbb_unformatted_code = \"crps_normal(\\n    mu=X_test_t2m_denormed[0].isel(mean_std=0).values.flatten(),\\n    sigma=X_test_t2m_denormed[0].isel(mean_std=1).values.flatten(),\\n    y=y_test_t2m_denormed[0].values.flatten(),\\n).mean()\";\n",
       "                var nbb_formatted_code = \"crps_normal(\\n    mu=X_test_t2m_denormed[0].isel(mean_std=0).values.flatten(),\\n    sigma=X_test_t2m_denormed[0].isel(mean_std=1).values.flatten(),\\n    y=y_test_t2m_denormed[0].values.flatten(),\\n).mean()\";\n",
       "                var nbb_cells = Jupyter.notebook.get_cells();\n",
       "                for (var i = 0; i < nbb_cells.length; ++i) {\n",
       "                    if (nbb_cells[i].input_prompt_number == nbb_cell_id) {\n",
       "                        if (nbb_cells[i].get_text() == nbb_unformatted_code) {\n",
       "                             nbb_cells[i].set_text(nbb_formatted_code);\n",
       "                        }\n",
       "                        break;\n",
       "                    }\n",
       "                }\n",
       "            }, 500);\n",
       "            "
      ],
      "text/plain": [
       "<IPython.core.display.Javascript object>"
      ]
     },
     "metadata": {},
     "output_type": "display_data"
    }
   ],
   "source": [
    "crps_normal(\n",
    "    mu=X_test_t2m_denormed[0].isel(mean_std=0).values.flatten(),\n",
    "    sigma=X_test_t2m_denormed[0].isel(mean_std=1).values.flatten(),\n",
    "    y=y_test_t2m_denormed[0].values.flatten(),\n",
    ").mean()"
   ]
  },
  {
   "cell_type": "code",
   "execution_count": 38,
   "id": "29d253c6",
   "metadata": {
    "scrolled": true
   },
   "outputs": [
    {
     "name": "stdout",
     "output_type": "stream",
     "text": [
      "Epoch 1/5\n",
      "5443/5443 [==============================] - 14s 2ms/step - loss: 1.3556\n",
      "Epoch 2/5\n",
      "5443/5443 [==============================] - 12s 2ms/step - loss: 0.4755\n",
      "Epoch 3/5\n",
      "5443/5443 [==============================] - 13s 2ms/step - loss: 0.4649\n",
      "Epoch 4/5\n",
      "5443/5443 [==============================] - 12s 2ms/step - loss: 0.4643\n",
      "Epoch 5/5\n",
      "5443/5443 [==============================] - 13s 2ms/step - loss: 0.4745\n",
      "0.29842925\n"
     ]
    },
    {
     "data": {
      "application/javascript": [
       "\n",
       "            setTimeout(function() {\n",
       "                var nbb_cell_id = 38;\n",
       "                var nbb_unformatted_code = \"EMOS_model = build_EMOS_network_keras(\\n    compile=True, lr=0.01, loss=crps_cost_function_trunc, optimizer=\\\"Adam\\\"\\n)\\nEMOS_model.fit(\\n    [\\n        X_train_t2m_denormed[0].isel(mean_std=0).values.flatten(),\\n        X_train_t2m_denormed[0].isel(mean_std=0).values.flatten(),\\n    ],\\n    y_train_t2m_denormed[0].values.flatten(),\\n    epochs=5,\\n    batch_size=4096,\\n)\\n\\nEMOS_preds = EMOS_model.predict(\\n    [\\n        X_test_t2m_denormed[0][:, 0, 0, 0].values.flatten(),\\n        X_test_t2m_denormed[0][:, 0, 0, 1].values.flatten(),\\n    ]\\n)\\n\\n\\nEMOS_crps = crps_trunc(\\n    mu=EMOS_preds[:, 0],\\n    sigma=EMOS_preds[:, 1],\\n    y=y_test_t2m_denormed[0][:, 0, 0].values.flatten(),\\n)\\n\\nEMOS_preds_train = EMOS_model.predict(\\n    [\\n        X_train_t2m_denormed[0][:, 0, 0, 0].values.flatten(),\\n        X_train_t2m_denormed[0][:, 0, 0, 1].values.flatten(),\\n    ]\\n)\\n\\nEMOS_crps_train = crps_trunc(\\n    mu=EMOS_preds_train[:, 0],\\n    sigma=EMOS_preds_train[:, 1],\\n    y=y_train_t2m_denormed[0][:, 0, 0].values.flatten(),\\n)\\n\\nprint(EMOS_crps.mean())\";\n",
       "                var nbb_formatted_code = \"EMOS_model = build_EMOS_network_keras(\\n    compile=True, lr=0.01, loss=crps_cost_function_trunc, optimizer=\\\"Adam\\\"\\n)\\nEMOS_model.fit(\\n    [\\n        X_train_t2m_denormed[0].isel(mean_std=0).values.flatten(),\\n        X_train_t2m_denormed[0].isel(mean_std=0).values.flatten(),\\n    ],\\n    y_train_t2m_denormed[0].values.flatten(),\\n    epochs=5,\\n    batch_size=4096,\\n)\\n\\nEMOS_preds = EMOS_model.predict(\\n    [\\n        X_test_t2m_denormed[0][:, 0, 0, 0].values.flatten(),\\n        X_test_t2m_denormed[0][:, 0, 0, 1].values.flatten(),\\n    ]\\n)\\n\\n\\nEMOS_crps = crps_trunc(\\n    mu=EMOS_preds[:, 0],\\n    sigma=EMOS_preds[:, 1],\\n    y=y_test_t2m_denormed[0][:, 0, 0].values.flatten(),\\n)\\n\\nEMOS_preds_train = EMOS_model.predict(\\n    [\\n        X_train_t2m_denormed[0][:, 0, 0, 0].values.flatten(),\\n        X_train_t2m_denormed[0][:, 0, 0, 1].values.flatten(),\\n    ]\\n)\\n\\nEMOS_crps_train = crps_trunc(\\n    mu=EMOS_preds_train[:, 0],\\n    sigma=EMOS_preds_train[:, 1],\\n    y=y_train_t2m_denormed[0][:, 0, 0].values.flatten(),\\n)\\n\\nprint(EMOS_crps.mean())\";\n",
       "                var nbb_cells = Jupyter.notebook.get_cells();\n",
       "                for (var i = 0; i < nbb_cells.length; ++i) {\n",
       "                    if (nbb_cells[i].input_prompt_number == nbb_cell_id) {\n",
       "                        if (nbb_cells[i].get_text() == nbb_unformatted_code) {\n",
       "                             nbb_cells[i].set_text(nbb_formatted_code);\n",
       "                        }\n",
       "                        break;\n",
       "                    }\n",
       "                }\n",
       "            }, 500);\n",
       "            "
      ],
      "text/plain": [
       "<IPython.core.display.Javascript object>"
      ]
     },
     "metadata": {},
     "output_type": "display_data"
    }
   ],
   "source": [
    "EMOS_model = build_EMOS_network_keras(\n",
    "    compile=True, lr=0.01, loss=crps_cost_function_trunc, optimizer=\"Adam\"\n",
    ")\n",
    "EMOS_model.fit(\n",
    "    [\n",
    "        X_train_t2m_denormed[0].isel(mean_std=0).values.flatten(),\n",
    "        X_train_t2m_denormed[0].isel(mean_std=0).values.flatten(),\n",
    "    ],\n",
    "    y_train_t2m_denormed[0].values.flatten(),\n",
    "    epochs=5,\n",
    "    batch_size=4096,\n",
    ")\n",
    "\n",
    "EMOS_preds = EMOS_model.predict(\n",
    "    [\n",
    "        X_test_t2m_denormed[0][:, 0, 0, 0].values.flatten(),\n",
    "        X_test_t2m_denormed[0][:, 0, 0, 1].values.flatten(),\n",
    "    ]\n",
    ")\n",
    "\n",
    "\n",
    "EMOS_crps = crps_trunc(\n",
    "    mu=EMOS_preds[:, 0],\n",
    "    sigma=EMOS_preds[:, 1],\n",
    "    y=y_test_t2m_denormed[0][:, 0, 0].values.flatten(),\n",
    ")\n",
    "\n",
    "EMOS_preds_train = EMOS_model.predict(\n",
    "    [\n",
    "        X_train_t2m_denormed[0][:, 0, 0, 0].values.flatten(),\n",
    "        X_train_t2m_denormed[0][:, 0, 0, 1].values.flatten(),\n",
    "    ]\n",
    ")\n",
    "\n",
    "EMOS_crps_train = crps_trunc(\n",
    "    mu=EMOS_preds_train[:, 0],\n",
    "    sigma=EMOS_preds_train[:, 1],\n",
    "    y=y_train_t2m_denormed[0][:, 0, 0].values.flatten(),\n",
    ")\n",
    "\n",
    "print(EMOS_crps.mean())"
   ]
  },
  {
   "cell_type": "code",
   "execution_count": 32,
   "id": "411f4d31",
   "metadata": {},
   "outputs": [
    {
     "data": {
      "text/plain": [
       "0.3002926"
      ]
     },
     "execution_count": 32,
     "metadata": {},
     "output_type": "execute_result"
    },
    {
     "data": {
      "application/javascript": [
       "\n",
       "            setTimeout(function() {\n",
       "                var nbb_cell_id = 32;\n",
       "                var nbb_unformatted_code = \"EMOS_crps_train.mean()\";\n",
       "                var nbb_formatted_code = \"EMOS_crps_train.mean()\";\n",
       "                var nbb_cells = Jupyter.notebook.get_cells();\n",
       "                for (var i = 0; i < nbb_cells.length; ++i) {\n",
       "                    if (nbb_cells[i].input_prompt_number == nbb_cell_id) {\n",
       "                        if (nbb_cells[i].get_text() == nbb_unformatted_code) {\n",
       "                             nbb_cells[i].set_text(nbb_formatted_code);\n",
       "                        }\n",
       "                        break;\n",
       "                    }\n",
       "                }\n",
       "            }, 500);\n",
       "            "
      ],
      "text/plain": [
       "<IPython.core.display.Javascript object>"
      ]
     },
     "metadata": {},
     "output_type": "display_data"
    }
   ],
   "source": [
    "EMOS_crps_train.mean()"
   ]
  },
  {
   "cell_type": "code",
   "execution_count": 33,
   "id": "d123aa2d",
   "metadata": {},
   "outputs": [
    {
     "data": {
      "text/plain": [
       "[array([[1.0012704]], dtype=float32),\n",
       " array([-0.3395547], dtype=float32),\n",
       " array([[-0.00136477]], dtype=float32),\n",
       " array([-0.42161223], dtype=float32)]"
      ]
     },
     "execution_count": 33,
     "metadata": {},
     "output_type": "execute_result"
    },
    {
     "data": {
      "application/javascript": [
       "\n",
       "            setTimeout(function() {\n",
       "                var nbb_cell_id = 33;\n",
       "                var nbb_unformatted_code = \"EMOS_model.get_weights()\";\n",
       "                var nbb_formatted_code = \"EMOS_model.get_weights()\";\n",
       "                var nbb_cells = Jupyter.notebook.get_cells();\n",
       "                for (var i = 0; i < nbb_cells.length; ++i) {\n",
       "                    if (nbb_cells[i].input_prompt_number == nbb_cell_id) {\n",
       "                        if (nbb_cells[i].get_text() == nbb_unformatted_code) {\n",
       "                             nbb_cells[i].set_text(nbb_formatted_code);\n",
       "                        }\n",
       "                        break;\n",
       "                    }\n",
       "                }\n",
       "            }, 500);\n",
       "            "
      ],
      "text/plain": [
       "<IPython.core.display.Javascript object>"
      ]
     },
     "metadata": {},
     "output_type": "display_data"
    }
   ],
   "source": [
    "EMOS_model.get_weights()"
   ]
  },
  {
   "cell_type": "code",
   "execution_count": 34,
   "id": "b0eef710",
   "metadata": {
    "scrolled": true
   },
   "outputs": [
    {
     "data": {
      "text/plain": [
       "array([[279.56125   ,  -0.42320257],\n",
       "       [274.85236   ,  -0.42331877],\n",
       "       [274.09467   ,  -0.4234879 ],\n",
       "       [277.13617   ,  -0.4233884 ],\n",
       "       [277.06296   ,  -0.42338008],\n",
       "       [280.60995   ,  -0.42284018],\n",
       "       [278.09607   ,  -0.42313257],\n",
       "       [279.27286   ,  -0.4231175 ],\n",
       "       [280.07468   ,  -0.42352486],\n",
       "       [279.84708   ,  -0.42279232]], dtype=float32)"
      ]
     },
     "execution_count": 34,
     "metadata": {},
     "output_type": "execute_result"
    },
    {
     "data": {
      "application/javascript": [
       "\n",
       "            setTimeout(function() {\n",
       "                var nbb_cell_id = 34;\n",
       "                var nbb_unformatted_code = \"EMOS_preds[:10]\";\n",
       "                var nbb_formatted_code = \"EMOS_preds[:10]\";\n",
       "                var nbb_cells = Jupyter.notebook.get_cells();\n",
       "                for (var i = 0; i < nbb_cells.length; ++i) {\n",
       "                    if (nbb_cells[i].input_prompt_number == nbb_cell_id) {\n",
       "                        if (nbb_cells[i].get_text() == nbb_unformatted_code) {\n",
       "                             nbb_cells[i].set_text(nbb_formatted_code);\n",
       "                        }\n",
       "                        break;\n",
       "                    }\n",
       "                }\n",
       "            }, 500);\n",
       "            "
      ],
      "text/plain": [
       "<IPython.core.display.Javascript object>"
      ]
     },
     "metadata": {},
     "output_type": "display_data"
    }
   ],
   "source": [
    "EMOS_preds[:10]"
   ]
  },
  {
   "cell_type": "code",
   "execution_count": 35,
   "id": "fd4ef879",
   "metadata": {
    "scrolled": true
   },
   "outputs": [
    {
     "data": {
      "text/plain": [
       "array([279.10947, 274.3845 , 274.365  , 276.21277, 277.36887, 279.84338,\n",
       "       277.7407 , 280.20386, 280.0431 , 279.68265], dtype=float32)"
      ]
     },
     "execution_count": 35,
     "metadata": {},
     "output_type": "execute_result"
    },
    {
     "data": {
      "application/javascript": [
       "\n",
       "            setTimeout(function() {\n",
       "                var nbb_cell_id = 35;\n",
       "                var nbb_unformatted_code = \"(y_test_t2m_denormed[0][:, 0, 0].values.flatten())[:10]\";\n",
       "                var nbb_formatted_code = \"(y_test_t2m_denormed[0][:, 0, 0].values.flatten())[:10]\";\n",
       "                var nbb_cells = Jupyter.notebook.get_cells();\n",
       "                for (var i = 0; i < nbb_cells.length; ++i) {\n",
       "                    if (nbb_cells[i].input_prompt_number == nbb_cell_id) {\n",
       "                        if (nbb_cells[i].get_text() == nbb_unformatted_code) {\n",
       "                             nbb_cells[i].set_text(nbb_formatted_code);\n",
       "                        }\n",
       "                        break;\n",
       "                    }\n",
       "                }\n",
       "            }, 500);\n",
       "            "
      ],
      "text/plain": [
       "<IPython.core.display.Javascript object>"
      ]
     },
     "metadata": {},
     "output_type": "display_data"
    }
   ],
   "source": [
    "(y_test_t2m_denormed[0][:, 0, 0].values.flatten())[:10]"
   ]
  },
  {
   "cell_type": "markdown",
   "id": "8def0e5f",
   "metadata": {},
   "source": [
    "Things seem to work for ws10 data"
   ]
  },
  {
   "cell_type": "code",
   "execution_count": 37,
   "id": "9ea44028",
   "metadata": {
    "scrolled": false
   },
   "outputs": [
    {
     "name": "stdout",
     "output_type": "stream",
     "text": [
      "Epoch 1/5\n",
      "2722/2722 [==============================] - 9s 3ms/step - loss: 0.7460\n",
      "Epoch 2/5\n",
      "2722/2722 [==============================] - 8s 3ms/step - loss: 0.6382\n",
      "Epoch 3/5\n",
      "2722/2722 [==============================] - 8s 3ms/step - loss: 0.6381\n",
      "Epoch 4/5\n",
      "2722/2722 [==============================] - 8s 3ms/step - loss: 0.6381\n",
      "Epoch 5/5\n",
      "2722/2722 [==============================] - 8s 3ms/step - loss: 0.6381\n",
      "174038/174038 [==============================] - 109s 626us/step\n",
      "0.4714637\n"
     ]
    },
    {
     "data": {
      "application/javascript": [
       "\n",
       "            setTimeout(function() {\n",
       "                var nbb_cell_id = 37;\n",
       "                var nbb_unformatted_code = \"EMOS_model = build_EMOS_network_keras(\\n    compile=True, lr=0.001, loss=crps_cost_function_trunc, optimizer=\\\"Adam\\\"\\n)\\nEMOS_model.fit(\\n    [\\n        X_train_ws10_denormed[0].isel(mean_std=0).values.flatten(),\\n        X_train_ws10_denormed[0].isel(mean_std=1).values.flatten(),\\n    ],\\n    y_train_ws10_denormed[0].values.flatten(),\\n    epochs=5,\\n    batch_size=8192,\\n)\\n\\nEMOS_preds = EMOS_model.predict(\\n    [\\n        X_test_ws10_denormed[0].isel(mean_std=0).values.flatten(),\\n        X_test_ws10_denormed[0].isel(mean_std=1).values.flatten(),\\n    ],\\n    verbose=1,\\n)\\n### I think\\n\\nEMOS_crps = crps_trunc(\\n    mu=EMOS_preds[:, 0],\\n    sigma=EMOS_preds[:, 1],\\n    y=y_test_ws10_denormed[0].values.flatten(),\\n)\\n\\n# EMOS_preds_train = EMOS_model.predict(\\n#     [\\n#         X_train_ws10_denormed[0].isel(mean_std=0).values.flatten(),\\n#         X_train_ws10_denormed[0].isel(mean_std=1).values.flatten(),\\n#     ],\\n#     verbose=1,\\n# )\\n\\n# EMOS_crps_train = crps_trunc(\\n#     mu=EMOS_preds_train[:, 0],\\n#     sigma=EMOS_preds_train[:, 1],\\n#     y=y_train_ws10_denormed[0].values.flatten(),\\n# )\\n\\nprint(EMOS_crps.mean())\";\n",
       "                var nbb_formatted_code = \"EMOS_model = build_EMOS_network_keras(\\n    compile=True, lr=0.001, loss=crps_cost_function_trunc, optimizer=\\\"Adam\\\"\\n)\\nEMOS_model.fit(\\n    [\\n        X_train_ws10_denormed[0].isel(mean_std=0).values.flatten(),\\n        X_train_ws10_denormed[0].isel(mean_std=1).values.flatten(),\\n    ],\\n    y_train_ws10_denormed[0].values.flatten(),\\n    epochs=5,\\n    batch_size=8192,\\n)\\n\\nEMOS_preds = EMOS_model.predict(\\n    [\\n        X_test_ws10_denormed[0].isel(mean_std=0).values.flatten(),\\n        X_test_ws10_denormed[0].isel(mean_std=1).values.flatten(),\\n    ],\\n    verbose=1,\\n)\\n### I think\\n\\nEMOS_crps = crps_trunc(\\n    mu=EMOS_preds[:, 0],\\n    sigma=EMOS_preds[:, 1],\\n    y=y_test_ws10_denormed[0].values.flatten(),\\n)\\n\\n# EMOS_preds_train = EMOS_model.predict(\\n#     [\\n#         X_train_ws10_denormed[0].isel(mean_std=0).values.flatten(),\\n#         X_train_ws10_denormed[0].isel(mean_std=1).values.flatten(),\\n#     ],\\n#     verbose=1,\\n# )\\n\\n# EMOS_crps_train = crps_trunc(\\n#     mu=EMOS_preds_train[:, 0],\\n#     sigma=EMOS_preds_train[:, 1],\\n#     y=y_train_ws10_denormed[0].values.flatten(),\\n# )\\n\\nprint(EMOS_crps.mean())\";\n",
       "                var nbb_cells = Jupyter.notebook.get_cells();\n",
       "                for (var i = 0; i < nbb_cells.length; ++i) {\n",
       "                    if (nbb_cells[i].input_prompt_number == nbb_cell_id) {\n",
       "                        if (nbb_cells[i].get_text() == nbb_unformatted_code) {\n",
       "                             nbb_cells[i].set_text(nbb_formatted_code);\n",
       "                        }\n",
       "                        break;\n",
       "                    }\n",
       "                }\n",
       "            }, 500);\n",
       "            "
      ],
      "text/plain": [
       "<IPython.core.display.Javascript object>"
      ]
     },
     "metadata": {},
     "output_type": "display_data"
    }
   ],
   "source": [
    "EMOS_model = build_EMOS_network_keras(\n",
    "    compile=True, lr=0.001, loss=crps_cost_function_trunc, optimizer=\"Adam\"\n",
    ")\n",
    "EMOS_model.fit(\n",
    "    [\n",
    "        X_train_ws10_denormed[0].isel(mean_std=0).values.flatten(),\n",
    "        X_train_ws10_denormed[0].isel(mean_std=1).values.flatten(),\n",
    "    ],\n",
    "    y_train_ws10_denormed[0].values.flatten(),\n",
    "    epochs=5,\n",
    "    batch_size=8192,\n",
    ")\n",
    "\n",
    "EMOS_preds = EMOS_model.predict(\n",
    "    [\n",
    "        X_test_ws10_denormed[0].isel(mean_std=0).values.flatten(),\n",
    "        X_test_ws10_denormed[0].isel(mean_std=1).values.flatten(),\n",
    "    ],\n",
    "    verbose=1,\n",
    ")\n",
    "### I think\n",
    "\n",
    "EMOS_crps = crps_trunc(\n",
    "    mu=EMOS_preds[:, 0],\n",
    "    sigma=EMOS_preds[:, 1],\n",
    "    y=y_test_ws10_denormed[0].values.flatten(),\n",
    ")\n",
    "\n",
    "# EMOS_preds_train = EMOS_model.predict(\n",
    "#     [\n",
    "#         X_train_ws10_denormed[0].isel(mean_std=0).values.flatten(),\n",
    "#         X_train_ws10_denormed[0].isel(mean_std=1).values.flatten(),\n",
    "#     ],\n",
    "#     verbose=1,\n",
    "# )\n",
    "\n",
    "# EMOS_crps_train = crps_trunc(\n",
    "#     mu=EMOS_preds_train[:, 0],\n",
    "#     sigma=EMOS_preds_train[:, 1],\n",
    "#     y=y_train_ws10_denormed[0].values.flatten(),\n",
    "# )\n",
    "\n",
    "print(EMOS_crps.mean())"
   ]
  },
  {
   "cell_type": "code",
   "execution_count": 21,
   "id": "5d121f20",
   "metadata": {},
   "outputs": [
    {
     "data": {
      "text/plain": [
       "[array([[1.0570519]], dtype=float32),\n",
       " array([-0.00596516], dtype=float32),\n",
       " array([[-0.69789577]], dtype=float32),\n",
       " array([-0.36045372], dtype=float32)]"
      ]
     },
     "execution_count": 21,
     "metadata": {},
     "output_type": "execute_result"
    },
    {
     "data": {
      "application/javascript": [
       "\n",
       "            setTimeout(function() {\n",
       "                var nbb_cell_id = 21;\n",
       "                var nbb_unformatted_code = \"EMOS_model.get_weights()\";\n",
       "                var nbb_formatted_code = \"EMOS_model.get_weights()\";\n",
       "                var nbb_cells = Jupyter.notebook.get_cells();\n",
       "                for (var i = 0; i < nbb_cells.length; ++i) {\n",
       "                    if (nbb_cells[i].input_prompt_number == nbb_cell_id) {\n",
       "                        if (nbb_cells[i].get_text() == nbb_unformatted_code) {\n",
       "                             nbb_cells[i].set_text(nbb_formatted_code);\n",
       "                        }\n",
       "                        break;\n",
       "                    }\n",
       "                }\n",
       "            }, 500);\n",
       "            "
      ],
      "text/plain": [
       "<IPython.core.display.Javascript object>"
      ]
     },
     "metadata": {},
     "output_type": "display_data"
    }
   ],
   "source": [
    "EMOS_model.get_weights()"
   ]
  },
  {
   "cell_type": "code",
   "execution_count": 28,
   "id": "799ef06d",
   "metadata": {},
   "outputs": [
    {
     "data": {
      "application/javascript": [
       "\n",
       "            setTimeout(function() {\n",
       "                var nbb_cell_id = 28;\n",
       "                var nbb_unformatted_code = \"EMOS_crps = crps_trunc(\\n    mu=EMOS_preds[:, 0],\\n    sigma=EMOS_preds[:, 1],\\n    y=y_test_ws10_denormed[0].values.flatten(),\\n)\";\n",
       "                var nbb_formatted_code = \"EMOS_crps = crps_trunc(\\n    mu=EMOS_preds[:, 0],\\n    sigma=EMOS_preds[:, 1],\\n    y=y_test_ws10_denormed[0].values.flatten(),\\n)\";\n",
       "                var nbb_cells = Jupyter.notebook.get_cells();\n",
       "                for (var i = 0; i < nbb_cells.length; ++i) {\n",
       "                    if (nbb_cells[i].input_prompt_number == nbb_cell_id) {\n",
       "                        if (nbb_cells[i].get_text() == nbb_unformatted_code) {\n",
       "                             nbb_cells[i].set_text(nbb_formatted_code);\n",
       "                        }\n",
       "                        break;\n",
       "                    }\n",
       "                }\n",
       "            }, 500);\n",
       "            "
      ],
      "text/plain": [
       "<IPython.core.display.Javascript object>"
      ]
     },
     "metadata": {},
     "output_type": "display_data"
    }
   ],
   "source": [
    "EMOS_crps = crps_trunc(\n",
    "    mu=EMOS_preds[:, 0],\n",
    "    sigma=EMOS_preds[:, 1],\n",
    "    y=y_test_ws10_denormed[0].values.flatten(),\n",
    ")"
   ]
  },
  {
   "cell_type": "code",
   "execution_count": 29,
   "id": "e28df40d",
   "metadata": {
    "scrolled": true
   },
   "outputs": [
    {
     "data": {
      "text/plain": [
       "0.46506056"
      ]
     },
     "execution_count": 29,
     "metadata": {},
     "output_type": "execute_result"
    },
    {
     "data": {
      "application/javascript": [
       "\n",
       "            setTimeout(function() {\n",
       "                var nbb_cell_id = 29;\n",
       "                var nbb_unformatted_code = \"EMOS_crps.mean()\";\n",
       "                var nbb_formatted_code = \"EMOS_crps.mean()\";\n",
       "                var nbb_cells = Jupyter.notebook.get_cells();\n",
       "                for (var i = 0; i < nbb_cells.length; ++i) {\n",
       "                    if (nbb_cells[i].input_prompt_number == nbb_cell_id) {\n",
       "                        if (nbb_cells[i].get_text() == nbb_unformatted_code) {\n",
       "                             nbb_cells[i].set_text(nbb_formatted_code);\n",
       "                        }\n",
       "                        break;\n",
       "                    }\n",
       "                }\n",
       "            }, 500);\n",
       "            "
      ],
      "text/plain": [
       "<IPython.core.display.Javascript object>"
      ]
     },
     "metadata": {},
     "output_type": "display_data"
    }
   ],
   "source": [
    "EMOS_crps.mean()"
   ]
  },
  {
   "cell_type": "code",
   "execution_count": 24,
   "id": "03a83630",
   "metadata": {},
   "outputs": [
    {
     "data": {
      "text/plain": [
       "array([21.866837, 21.810654, 21.780798, ...,  8.717077,  9.446845,\n",
       "        9.298131], dtype=float32)"
      ]
     },
     "execution_count": 24,
     "metadata": {},
     "output_type": "execute_result"
    },
    {
     "data": {
      "application/javascript": [
       "\n",
       "            setTimeout(function() {\n",
       "                var nbb_cell_id = 24;\n",
       "                var nbb_unformatted_code = \"y_test_ws10_denormed[0].values.flatten()\";\n",
       "                var nbb_formatted_code = \"y_test_ws10_denormed[0].values.flatten()\";\n",
       "                var nbb_cells = Jupyter.notebook.get_cells();\n",
       "                for (var i = 0; i < nbb_cells.length; ++i) {\n",
       "                    if (nbb_cells[i].input_prompt_number == nbb_cell_id) {\n",
       "                        if (nbb_cells[i].get_text() == nbb_unformatted_code) {\n",
       "                             nbb_cells[i].set_text(nbb_formatted_code);\n",
       "                        }\n",
       "                        break;\n",
       "                    }\n",
       "                }\n",
       "            }, 500);\n",
       "            "
      ],
      "text/plain": [
       "<IPython.core.display.Javascript object>"
      ]
     },
     "metadata": {},
     "output_type": "display_data"
    }
   ],
   "source": [
    "y_test_ws10_denormed[0].values.flatten()"
   ]
  },
  {
   "cell_type": "markdown",
   "id": "ed7bd3cd",
   "metadata": {},
   "source": [
    "#### 3.1 Loading baseline to compare"
   ]
  },
  {
   "cell_type": "code",
   "execution_count": 57,
   "id": "26d080e1",
   "metadata": {},
   "outputs": [
    {
     "data": {
      "application/javascript": [
       "\n",
       "            setTimeout(function() {\n",
       "                var nbb_cell_id = 57;\n",
       "                var nbb_unformatted_code = \"ws10_crps_baseline = crps_load_lead_lat_lon(\\\"ws10\\\")\\nt2m_crps_baseline = crps_load_lead_lat_lon(\\\"t2m\\\")\";\n",
       "                var nbb_formatted_code = \"ws10_crps_baseline = crps_load_lead_lat_lon(\\\"ws10\\\")\\nt2m_crps_baseline = crps_load_lead_lat_lon(\\\"t2m\\\")\";\n",
       "                var nbb_cells = Jupyter.notebook.get_cells();\n",
       "                for (var i = 0; i < nbb_cells.length; ++i) {\n",
       "                    if (nbb_cells[i].input_prompt_number == nbb_cell_id) {\n",
       "                        if (nbb_cells[i].get_text() == nbb_unformatted_code) {\n",
       "                             nbb_cells[i].set_text(nbb_formatted_code);\n",
       "                        }\n",
       "                        break;\n",
       "                    }\n",
       "                }\n",
       "            }, 500);\n",
       "            "
      ],
      "text/plain": [
       "<IPython.core.display.Javascript object>"
      ]
     },
     "metadata": {},
     "output_type": "display_data"
    }
   ],
   "source": [
    "ws10_crps_baseline = crps_load_lead_lat_lon(\"ws10\")\n",
    "t2m_crps_baseline = crps_load_lead_lat_lon(\"t2m\")"
   ]
  },
  {
   "cell_type": "code",
   "execution_count": 59,
   "id": "6885f980",
   "metadata": {},
   "outputs": [
    {
     "name": "stdout",
     "output_type": "stream",
     "text": [
      "Wind baseline: 0.7447009086608887\n",
      "T2m baseline: 0.9354666921537256\n"
     ]
    },
    {
     "data": {
      "application/javascript": [
       "\n",
       "            setTimeout(function() {\n",
       "                var nbb_cell_id = 59;\n",
       "                var nbb_unformatted_code = \"print(f\\\"Wind baseline: {ws10_crps_baseline[0].mean()}\\\")\\nprint(f\\\"T2m baseline: {t2m_crps_baseline[0].mean()}\\\")\";\n",
       "                var nbb_formatted_code = \"print(f\\\"Wind baseline: {ws10_crps_baseline[0].mean()}\\\")\\nprint(f\\\"T2m baseline: {t2m_crps_baseline[0].mean()}\\\")\";\n",
       "                var nbb_cells = Jupyter.notebook.get_cells();\n",
       "                for (var i = 0; i < nbb_cells.length; ++i) {\n",
       "                    if (nbb_cells[i].input_prompt_number == nbb_cell_id) {\n",
       "                        if (nbb_cells[i].get_text() == nbb_unformatted_code) {\n",
       "                             nbb_cells[i].set_text(nbb_formatted_code);\n",
       "                        }\n",
       "                        break;\n",
       "                    }\n",
       "                }\n",
       "            }, 500);\n",
       "            "
      ],
      "text/plain": [
       "<IPython.core.display.Javascript object>"
      ]
     },
     "metadata": {},
     "output_type": "display_data"
    }
   ],
   "source": [
    "print(f\"Wind baseline: {ws10_crps_baseline[0].mean()}\")\n",
    "print(f\"T2m baseline: {t2m_crps_baseline[0].mean()}\")"
   ]
  },
  {
   "cell_type": "markdown",
   "id": "47347a07",
   "metadata": {},
   "source": [
    "### 3. Train EMOS_global model for each lead_time and variable"
   ]
  },
  {
   "cell_type": "code",
   "execution_count": 87,
   "id": "21bf7a9b",
   "metadata": {},
   "outputs": [
    {
     "data": {
      "application/javascript": [
       "\n",
       "            setTimeout(function() {\n",
       "                var nbb_cell_id = 87;\n",
       "                var nbb_unformatted_code = \"def EMOS_global_train(\\n    var_num,\\n    lead_time,\\n    batch_size=4096,\\n    epochs=10,\\n    lr=0.001,\\n    validation_split=0.2,\\n    optimizer=\\\"Adam\\\",\\n):\\n    \\\"\\\"\\\"\\n    Train all global EMOS models for a specific variable and lead_time\\n\\n    Args: \\n        var_num (integer): number between 0 - 5 for each of the variables[\\\"u10\\\", \\\"v10\\\", \\\"t2m\\\", \\\"t850\\\", \\\"z500\\\", \\\"ws10\\\"]\\n        lead_time (integer): number between 0 - 30 for each lead_time\\n    \\\"\\\"\\\"\\n\\n    # Adjust lead_time for 1-based indexing\\n    lead_time = lead_time + 1\\n\\n    # Define the names of the variables\\n    var_names = [\\\"u10\\\", \\\"v10\\\", \\\"t2m\\\", \\\"t850\\\", \\\"z500\\\", \\\"ws10\\\"]\\n\\n    # Load the training data\\n    train_var_denormed = ldpd.load_data_all_train_proc_denorm()[var_num]\\n\\n    # Split the data into features and target\\n    X_train_var_denormed = train_var_denormed[\\n        list(train_var_denormed.data_vars.keys())[0]\\n    ].isel(lead_time=lead_time)\\n    y_train_var_denormed = train_var_denormed[\\n        list(train_var_denormed.data_vars.keys())[1]\\n    ].isel(lead_time=lead_time)\\n\\n    # Define the cost function depending on the variable number\\n    if var_num in [5]:\\n        crps = crps_cost_function_trunc\\n    else:\\n        crps = crps_cost_function\\n\\n    # Build and compile the model\\n    EMOS_glob = build_EMOS_network_keras(\\n        compile=True, lr=lr, loss=crps, optimizer=optimizer\\n    )\\n\\n    # Define the filename for the model checkpoint\\n    model_filename = (\\n        \\\"/home/dchen/BA_CH_EN/models/EMOS_global_models/denormed/EMOS_glob_\\\"\\n        + var_names[var_num]\\n        + \\\"_lead_time_\\\"\\n        + str(lead_time - 1)\\n        + \\\"_denormed.h5\\\"\\n    )\\n\\n    # Define callbacks for early stopping and model checkpointing\\n    early_stopping = EarlyStopping(monitor=\\\"val_loss\\\", patience=3)\\n    model_checkpoint = ModelCheckpoint(\\n        model_filename, monitor=\\\"val_loss\\\", mode=\\\"min\\\", save_best_only=True\\n    )\\n\\n    # Fit the model to the training data\\n    EMOS_glob.fit(\\n        [\\n            X_train_var_denormed.isel(mean_std=0).values.flatten(),\\n            X_train_var_denormed.isel(mean_std=1).values.flatten(),\\n        ],\\n        y_train_var_denormed.values.flatten(),\\n        batch_size=batch_size,\\n        epochs=epochs,\\n        validation_split=validation_split,\\n        callbacks=[early_stopping, model_checkpoint],\\n    )\\n\\n    # Load the best model and return\\n    best_model = tf.keras.models.load_model(\\n        model_filename, \\n        custom_objects={\\n            \\\"crps_cost_function\\\": crps_cost_function,\\n            \\\"crps_cost_function_trunc\\\": crps_cost_function_trunc\\n        }\\n    )\\n\\n    return best_model\";\n",
       "                var nbb_formatted_code = \"def EMOS_global_train(\\n    var_num,\\n    lead_time,\\n    batch_size=4096,\\n    epochs=10,\\n    lr=0.001,\\n    validation_split=0.2,\\n    optimizer=\\\"Adam\\\",\\n):\\n    \\\"\\\"\\\"\\n    Train all global EMOS models for a specific variable and lead_time\\n\\n    Args: \\n        var_num (integer): number between 0 - 5 for each of the variables[\\\"u10\\\", \\\"v10\\\", \\\"t2m\\\", \\\"t850\\\", \\\"z500\\\", \\\"ws10\\\"]\\n        lead_time (integer): number between 0 - 30 for each lead_time\\n    \\\"\\\"\\\"\\n\\n    # Adjust lead_time for 1-based indexing\\n    lead_time = lead_time + 1\\n\\n    # Define the names of the variables\\n    var_names = [\\\"u10\\\", \\\"v10\\\", \\\"t2m\\\", \\\"t850\\\", \\\"z500\\\", \\\"ws10\\\"]\\n\\n    # Load the training data\\n    train_var_denormed = ldpd.load_data_all_train_proc_denorm()[var_num]\\n\\n    # Split the data into features and target\\n    X_train_var_denormed = train_var_denormed[\\n        list(train_var_denormed.data_vars.keys())[0]\\n    ].isel(lead_time=lead_time)\\n    y_train_var_denormed = train_var_denormed[\\n        list(train_var_denormed.data_vars.keys())[1]\\n    ].isel(lead_time=lead_time)\\n\\n    # Define the cost function depending on the variable number\\n    if var_num in [5]:\\n        crps = crps_cost_function_trunc\\n    else:\\n        crps = crps_cost_function\\n\\n    # Build and compile the model\\n    EMOS_glob = build_EMOS_network_keras(\\n        compile=True, lr=lr, loss=crps, optimizer=optimizer\\n    )\\n\\n    # Define the filename for the model checkpoint\\n    model_filename = (\\n        \\\"/home/dchen/BA_CH_EN/models/EMOS_global_models/denormed/EMOS_glob_\\\"\\n        + var_names[var_num]\\n        + \\\"_lead_time_\\\"\\n        + str(lead_time - 1)\\n        + \\\"_denormed.h5\\\"\\n    )\\n\\n    # Define callbacks for early stopping and model checkpointing\\n    early_stopping = EarlyStopping(monitor=\\\"val_loss\\\", patience=3)\\n    model_checkpoint = ModelCheckpoint(\\n        model_filename, monitor=\\\"val_loss\\\", mode=\\\"min\\\", save_best_only=True\\n    )\\n\\n    # Fit the model to the training data\\n    EMOS_glob.fit(\\n        [\\n            X_train_var_denormed.isel(mean_std=0).values.flatten(),\\n            X_train_var_denormed.isel(mean_std=1).values.flatten(),\\n        ],\\n        y_train_var_denormed.values.flatten(),\\n        batch_size=batch_size,\\n        epochs=epochs,\\n        validation_split=validation_split,\\n        callbacks=[early_stopping, model_checkpoint],\\n    )\\n\\n    # Load the best model and return\\n    best_model = tf.keras.models.load_model(\\n        model_filename,\\n        custom_objects={\\n            \\\"crps_cost_function\\\": crps_cost_function,\\n            \\\"crps_cost_function_trunc\\\": crps_cost_function_trunc,\\n        },\\n    )\\n\\n    return best_model\";\n",
       "                var nbb_cells = Jupyter.notebook.get_cells();\n",
       "                for (var i = 0; i < nbb_cells.length; ++i) {\n",
       "                    if (nbb_cells[i].input_prompt_number == nbb_cell_id) {\n",
       "                        if (nbb_cells[i].get_text() == nbb_unformatted_code) {\n",
       "                             nbb_cells[i].set_text(nbb_formatted_code);\n",
       "                        }\n",
       "                        break;\n",
       "                    }\n",
       "                }\n",
       "            }, 500);\n",
       "            "
      ],
      "text/plain": [
       "<IPython.core.display.Javascript object>"
      ]
     },
     "metadata": {},
     "output_type": "display_data"
    }
   ],
   "source": [
    "def EMOS_global_train(\n",
    "    var_num,\n",
    "    lead_time,\n",
    "    batch_size=4096,\n",
    "    epochs=10,\n",
    "    lr=0.001,\n",
    "    validation_split=0.2,\n",
    "    optimizer=\"Adam\",\n",
    "):\n",
    "    \"\"\"\n",
    "    Train all global EMOS models for a specific variable and lead_time\n",
    "\n",
    "    Args: \n",
    "        var_num (integer): number between 0 - 5 for each of the variables[\"u10\", \"v10\", \"t2m\", \"t850\", \"z500\", \"ws10\"]\n",
    "        lead_time (integer): number between 0 - 30 for each lead_time\n",
    "    \"\"\"\n",
    "\n",
    "    # Adjust lead_time for 1-based indexing\n",
    "    lead_time = lead_time + 1\n",
    "\n",
    "    # Define the names of the variables\n",
    "    var_names = [\"u10\", \"v10\", \"t2m\", \"t850\", \"z500\", \"ws10\"]\n",
    "\n",
    "    # Load the training data\n",
    "    train_var_denormed = ldpd.load_data_all_train_proc_denorm()[var_num]\n",
    "\n",
    "    # Split the data into features and target\n",
    "    X_train_var_denormed = train_var_denormed[\n",
    "        list(train_var_denormed.data_vars.keys())[0]\n",
    "    ].isel(lead_time=lead_time)\n",
    "    y_train_var_denormed = train_var_denormed[\n",
    "        list(train_var_denormed.data_vars.keys())[1]\n",
    "    ].isel(lead_time=lead_time)\n",
    "\n",
    "    # Define the cost function depending on the variable number\n",
    "    if var_num in [5]:\n",
    "        crps = crps_cost_function_trunc\n",
    "    else:\n",
    "        crps = crps_cost_function\n",
    "\n",
    "    # Build and compile the model\n",
    "    EMOS_glob = build_EMOS_network_keras(\n",
    "        compile=True, lr=lr, loss=crps, optimizer=optimizer\n",
    "    )\n",
    "\n",
    "    # Define the filename for the model checkpoint\n",
    "    model_filename = (\n",
    "        \"/home/dchen/BA_CH_EN/models/EMOS_global_models/denormed/EMOS_glob_\"\n",
    "        + var_names[var_num]\n",
    "        + \"_lead_time_\"\n",
    "        + str(lead_time - 1)\n",
    "        + \"_denormed.h5\"\n",
    "    )\n",
    "\n",
    "    # Define callbacks for early stopping and model checkpointing\n",
    "    early_stopping = EarlyStopping(monitor=\"val_loss\", patience=3)\n",
    "    model_checkpoint = ModelCheckpoint(\n",
    "        model_filename, monitor=\"val_loss\", mode=\"min\", save_best_only=True\n",
    "    )\n",
    "\n",
    "    # Fit the model to the training data\n",
    "    EMOS_glob.fit(\n",
    "        [\n",
    "            X_train_var_denormed.isel(mean_std=0).values.flatten(),\n",
    "            X_train_var_denormed.isel(mean_std=1).values.flatten(),\n",
    "        ],\n",
    "        y_train_var_denormed.values.flatten(),\n",
    "        batch_size=batch_size,\n",
    "        epochs=epochs,\n",
    "        validation_split=validation_split,\n",
    "        callbacks=[early_stopping, model_checkpoint],\n",
    "    )\n",
    "\n",
    "    # Load the best model and return\n",
    "    best_model = tf.keras.models.load_model(\n",
    "        model_filename, \n",
    "        custom_objects={\n",
    "            \"crps_cost_function\": crps_cost_function,\n",
    "            \"crps_cost_function_trunc\": crps_cost_function_trunc\n",
    "        }\n",
    "    )\n",
    "\n",
    "    return best_model\n"
   ]
  },
  {
   "cell_type": "code",
   "execution_count": 88,
   "id": "5a7cac15",
   "metadata": {},
   "outputs": [
    {
     "data": {
      "application/javascript": [
       "\n",
       "            setTimeout(function() {\n",
       "                var nbb_cell_id = 88;\n",
       "                var nbb_unformatted_code = \"def EMOS_global_predict_evaluate(EMOS_glob, var_num, lead_time):\\n    \\\"\\\"\\\"\\n    Use the given EMOS_global model to predict and evaluate on a test dataset\\n    \\\"\\\"\\\"\\n    # 0. Set up\\n    lead_time = lead_time + 1\\n    var_names = [\\\"u10\\\", \\\"v10\\\", \\\"t2m\\\", \\\"t850\\\", \\\"z500\\\", \\\"ws10\\\"]\\n    # 1. Load test data\\n    test_var_denormed = ldpd.load_data_all_test_proc_denorm()[var_num]\\n\\n    # 2. Split test data\\n    X_test_var_denormed = test_var_denormed[\\n        list(test_var_denormed.data_vars.keys())[0]\\n    ].isel(lead_time=lead_time)\\n\\n    y_test_var_denormed = test_var_denormed[\\n        list(test_var_denormed.data_vars.keys())[1]\\n    ].isel(lead_time=lead_time)\\n\\n    # 3. Defining cost function\\n    if var_num in [5]:\\n        crps = crps_trunc\\n    else:\\n        crps = crps_normal\\n\\n    # 4. Predict\\n    EMOS_glob_preds = EMOS_glob.predict(\\n        [\\n            X_test_var_denormed.isel(mean_std=0).values.flatten(),\\n            X_test_var_denormed.isel(mean_std=1).values.flatten(),\\n        ],\\n        verbose=1,\\n    )\\n    # 5. Evaluate based on CRPS\\n    EMOS_glob_crps = crps(\\n        mu=EMOS_glob_preds[:, 0],\\n        sigma=EMOS_glob_preds[:, 1],\\n        y=y_test_var_denormed.values.flatten(),\\n    )\\n    EMOS_glob_crps = EMOS_glob_crps.reshape(y_test_var_denormed.shape).mean(axis=0)\\n    return (\\n        EMOS_glob_crps,\\n        EMOS_glob_preds.reshape(y_test_var_denormed.shape[0], 120, 130, 2),\\n    )\";\n",
       "                var nbb_formatted_code = \"def EMOS_global_predict_evaluate(EMOS_glob, var_num, lead_time):\\n    \\\"\\\"\\\"\\n    Use the given EMOS_global model to predict and evaluate on a test dataset\\n    \\\"\\\"\\\"\\n    # 0. Set up\\n    lead_time = lead_time + 1\\n    var_names = [\\\"u10\\\", \\\"v10\\\", \\\"t2m\\\", \\\"t850\\\", \\\"z500\\\", \\\"ws10\\\"]\\n    # 1. Load test data\\n    test_var_denormed = ldpd.load_data_all_test_proc_denorm()[var_num]\\n\\n    # 2. Split test data\\n    X_test_var_denormed = test_var_denormed[\\n        list(test_var_denormed.data_vars.keys())[0]\\n    ].isel(lead_time=lead_time)\\n\\n    y_test_var_denormed = test_var_denormed[\\n        list(test_var_denormed.data_vars.keys())[1]\\n    ].isel(lead_time=lead_time)\\n\\n    # 3. Defining cost function\\n    if var_num in [5]:\\n        crps = crps_trunc\\n    else:\\n        crps = crps_normal\\n\\n    # 4. Predict\\n    EMOS_glob_preds = EMOS_glob.predict(\\n        [\\n            X_test_var_denormed.isel(mean_std=0).values.flatten(),\\n            X_test_var_denormed.isel(mean_std=1).values.flatten(),\\n        ],\\n        verbose=1,\\n    )\\n    # 5. Evaluate based on CRPS\\n    EMOS_glob_crps = crps(\\n        mu=EMOS_glob_preds[:, 0],\\n        sigma=EMOS_glob_preds[:, 1],\\n        y=y_test_var_denormed.values.flatten(),\\n    )\\n    EMOS_glob_crps = EMOS_glob_crps.reshape(y_test_var_denormed.shape).mean(axis=0)\\n    return (\\n        EMOS_glob_crps,\\n        EMOS_glob_preds.reshape(y_test_var_denormed.shape[0], 120, 130, 2),\\n    )\";\n",
       "                var nbb_cells = Jupyter.notebook.get_cells();\n",
       "                for (var i = 0; i < nbb_cells.length; ++i) {\n",
       "                    if (nbb_cells[i].input_prompt_number == nbb_cell_id) {\n",
       "                        if (nbb_cells[i].get_text() == nbb_unformatted_code) {\n",
       "                             nbb_cells[i].set_text(nbb_formatted_code);\n",
       "                        }\n",
       "                        break;\n",
       "                    }\n",
       "                }\n",
       "            }, 500);\n",
       "            "
      ],
      "text/plain": [
       "<IPython.core.display.Javascript object>"
      ]
     },
     "metadata": {},
     "output_type": "display_data"
    }
   ],
   "source": [
    "def EMOS_global_predict_evaluate(EMOS_glob, var_num, lead_time):\n",
    "    \"\"\"\n",
    "    Use the given EMOS_global model to predict and evaluate on a test dataset.\n",
    "    Args:\n",
    "        EMOS_glob: the EMOS global model\n",
    "        var_num (integer): number between 0 - 5 for each of the variables[\"u10\", \"v10\", \"t2m\", \"t850\", \"z500\", \"ws10\"]\n",
    "        lead_time (integer): number between 0 - 30 for each lead_time\n",
    "    \"\"\"\n",
    "\n",
    "    # Increment lead_time by one to use in indexing\n",
    "    lead_time = lead_time + 1\n",
    "\n",
    "    # Define the variable names\n",
    "    var_names = [\"u10\", \"v10\", \"t2m\", \"t850\", \"z500\", \"ws10\"]\n",
    "\n",
    "    # Load test data\n",
    "    test_var_denormed = ldpd.load_data_all_test_proc_denorm()[var_num]\n",
    "\n",
    "    # Split test data into features and targets\n",
    "    X_test_var_denormed = test_var_denormed[\n",
    "        list(test_var_denormed.data_vars.keys())[0]\n",
    "    ].isel(lead_time=lead_time)\n",
    "\n",
    "    y_test_var_denormed = test_var_denormed[\n",
    "        list(test_var_denormed.data_vars.keys())[1]\n",
    "    ].isel(lead_time=lead_time)\n",
    "\n",
    "    # Choose the CRPS cost function based on variable number\n",
    "    if var_num in [5]:\n",
    "        crps = crps_trunc\n",
    "    else:\n",
    "        crps = crps_normal\n",
    "\n",
    "    # Use the EMOS model to make predictions\n",
    "    EMOS_glob_preds = EMOS_glob.predict(\n",
    "        [\n",
    "            X_test_var_denormed.isel(mean_std=0).values.flatten(),\n",
    "            X_test_var_denormed.isel(mean_std=1).values.flatten(),\n",
    "        ],\n",
    "        verbose=1,\n",
    "    )\n",
    "\n",
    "    # Evaluate the model predictions using the chosen CRPS function\n",
    "    EMOS_glob_crps = crps(\n",
    "        mu=EMOS_glob_preds[:, 0],\n",
    "        sigma=EMOS_glob_preds[:, 1],\n",
    "        y=y_test_var_denormed.values.flatten(),\n",
    "    )\n",
    "    \n",
    "    # Reshape the CRPS scores and compute the mean along the first axis\n",
    "    EMOS_glob_crps = EMOS_glob_crps.reshape(y_test_var_denormed.shape).mean(axis=0)\n",
    "\n",
    "    # Save the average CRPS score over all days for 120 x 130 grid\n",
    "    model_filename = f\"/Data/Delong_BA_Data/scores/EMOS_global_scores/EMOS_global_{var_names[var_num]}_lead_{lead_time}_scores.npy\"\n",
    "    np.save(model_filename, EMOS_glob_crps)"
   ]
  },
  {
   "cell_type": "code",
   "execution_count": 89,
   "id": "dc072226",
   "metadata": {},
   "outputs": [
    {
     "data": {
      "application/javascript": [
       "\n",
       "            setTimeout(function() {\n",
       "                var nbb_cell_id = 89;\n",
       "                var nbb_unformatted_code = \"def run_all(\\n    var_num, lead_time, batch_size=4096, epochs=10, lr=0.001, validation_split=0.2\\n):\\n    EMOS_glob = EMOS_global_train(\\n        var_num,\\n        lead_time,\\n        batch_size=batch_size,\\n        epochs=epochs,\\n        lr=lr,\\n        validation_split=validation_split,\\n    )\\n    return EMOS_global_predict_evaluate(EMOS_glob, var_num, lead_time)\";\n",
       "                var nbb_formatted_code = \"def run_all(\\n    var_num, lead_time, batch_size=4096, epochs=10, lr=0.001, validation_split=0.2\\n):\\n    EMOS_glob = EMOS_global_train(\\n        var_num,\\n        lead_time,\\n        batch_size=batch_size,\\n        epochs=epochs,\\n        lr=lr,\\n        validation_split=validation_split,\\n    )\\n    return EMOS_global_predict_evaluate(EMOS_glob, var_num, lead_time)\";\n",
       "                var nbb_cells = Jupyter.notebook.get_cells();\n",
       "                for (var i = 0; i < nbb_cells.length; ++i) {\n",
       "                    if (nbb_cells[i].input_prompt_number == nbb_cell_id) {\n",
       "                        if (nbb_cells[i].get_text() == nbb_unformatted_code) {\n",
       "                             nbb_cells[i].set_text(nbb_formatted_code);\n",
       "                        }\n",
       "                        break;\n",
       "                    }\n",
       "                }\n",
       "            }, 500);\n",
       "            "
      ],
      "text/plain": [
       "<IPython.core.display.Javascript object>"
      ]
     },
     "metadata": {},
     "output_type": "display_data"
    }
   ],
   "source": [
    "def run_all(\n",
    "    var_num, lead_time, batch_size=4096, epochs=10, lr=0.001, validation_split=0.2\n",
    "):\n",
    "    EMOS_glob = EMOS_global_train(\n",
    "        var_num,\n",
    "        lead_time,\n",
    "        batch_size=batch_size,\n",
    "        epochs=epochs,\n",
    "        lr=lr,\n",
    "        validation_split=validation_split,\n",
    "    )\n",
    "    EMOS_global_predict_evaluate(EMOS_glob, var_num, lead_time)"
   ]
  },
  {
   "cell_type": "code",
   "execution_count": 90,
   "id": "1eae706a",
   "metadata": {
    "scrolled": false
   },
   "outputs": [
    {
     "name": "stdout",
     "output_type": "stream",
     "text": [
      "Epoch 1/10\n",
      "4354/4354 [==============================] - 13s 3ms/step - loss: 0.7619 - val_loss: 0.6286\n",
      "Epoch 2/10\n",
      "4354/4354 [==============================] - 11s 3ms/step - loss: 0.6409 - val_loss: 0.6287\n",
      "Epoch 3/10\n",
      "4354/4354 [==============================] - 12s 3ms/step - loss: 0.6408 - val_loss: 0.6277\n",
      "Epoch 4/10\n",
      "4354/4354 [==============================] - 11s 3ms/step - loss: 0.6408 - val_loss: 0.6285\n",
      "Epoch 5/10\n",
      "4354/4354 [==============================] - 11s 3ms/step - loss: 0.6408 - val_loss: 0.6278\n",
      "Epoch 6/10\n",
      "4354/4354 [==============================] - 11s 3ms/step - loss: 0.6408 - val_loss: 0.6274\n",
      "Epoch 7/10\n",
      "4354/4354 [==============================] - 11s 3ms/step - loss: 0.6408 - val_loss: 0.6275\n",
      "Epoch 8/10\n",
      "4354/4354 [==============================] - 11s 3ms/step - loss: 0.6408 - val_loss: 0.6276\n",
      "Epoch 9/10\n",
      "4354/4354 [==============================] - 11s 3ms/step - loss: 0.6408 - val_loss: 0.6287\n",
      "174038/174038 [==============================] - 106s 610us/step\n"
     ]
    },
    {
     "data": {
      "application/javascript": [
       "\n",
       "            setTimeout(function() {\n",
       "                var nbb_cell_id = 90;\n",
       "                var nbb_unformatted_code = \"EMOS_glob_t2m_0_scores, EMOS_glob_t2m_0_preds = run_all(5, 0, epochs=10)\";\n",
       "                var nbb_formatted_code = \"EMOS_glob_t2m_0_scores, EMOS_glob_t2m_0_preds = run_all(5, 0, epochs=10)\";\n",
       "                var nbb_cells = Jupyter.notebook.get_cells();\n",
       "                for (var i = 0; i < nbb_cells.length; ++i) {\n",
       "                    if (nbb_cells[i].input_prompt_number == nbb_cell_id) {\n",
       "                        if (nbb_cells[i].get_text() == nbb_unformatted_code) {\n",
       "                             nbb_cells[i].set_text(nbb_formatted_code);\n",
       "                        }\n",
       "                        break;\n",
       "                    }\n",
       "                }\n",
       "            }, 500);\n",
       "            "
      ],
      "text/plain": [
       "<IPython.core.display.Javascript object>"
      ]
     },
     "metadata": {},
     "output_type": "display_data"
    }
   ],
   "source": [
    "EMOS_glob_t2m_0_scores, EMOS_glob_t2m_0_preds = run_all(5, 0, epochs=10)"
   ]
  },
  {
   "cell_type": "code",
   "execution_count": 91,
   "id": "37c1509f",
   "metadata": {},
   "outputs": [
    {
     "data": {
      "text/plain": [
       "0.4697708"
      ]
     },
     "execution_count": 91,
     "metadata": {},
     "output_type": "execute_result"
    },
    {
     "data": {
      "application/javascript": [
       "\n",
       "            setTimeout(function() {\n",
       "                var nbb_cell_id = 91;\n",
       "                var nbb_unformatted_code = \"EMOS_glob_t2m_0_scores.mean()\";\n",
       "                var nbb_formatted_code = \"EMOS_glob_t2m_0_scores.mean()\";\n",
       "                var nbb_cells = Jupyter.notebook.get_cells();\n",
       "                for (var i = 0; i < nbb_cells.length; ++i) {\n",
       "                    if (nbb_cells[i].input_prompt_number == nbb_cell_id) {\n",
       "                        if (nbb_cells[i].get_text() == nbb_unformatted_code) {\n",
       "                             nbb_cells[i].set_text(nbb_formatted_code);\n",
       "                        }\n",
       "                        break;\n",
       "                    }\n",
       "                }\n",
       "            }, 500);\n",
       "            "
      ],
      "text/plain": [
       "<IPython.core.display.Javascript object>"
      ]
     },
     "metadata": {},
     "output_type": "display_data"
    }
   ],
   "source": [
    "EMOS_glob_t2m_0_scores.mean()"
   ]
  },
  {
   "cell_type": "code",
   "execution_count": 69,
   "id": "91c56bc7",
   "metadata": {
    "scrolled": true
   },
   "outputs": [
    {
     "data": {
      "text/plain": [
       "0.46876928"
      ]
     },
     "execution_count": 69,
     "metadata": {},
     "output_type": "execute_result"
    },
    {
     "data": {
      "application/javascript": [
       "\n",
       "            setTimeout(function() {\n",
       "                var nbb_cell_id = 69;\n",
       "                var nbb_unformatted_code = \"EMOS_glob_t2m_0_scores.mean()\";\n",
       "                var nbb_formatted_code = \"EMOS_glob_t2m_0_scores.mean()\";\n",
       "                var nbb_cells = Jupyter.notebook.get_cells();\n",
       "                for (var i = 0; i < nbb_cells.length; ++i) {\n",
       "                    if (nbb_cells[i].input_prompt_number == nbb_cell_id) {\n",
       "                        if (nbb_cells[i].get_text() == nbb_unformatted_code) {\n",
       "                             nbb_cells[i].set_text(nbb_formatted_code);\n",
       "                        }\n",
       "                        break;\n",
       "                    }\n",
       "                }\n",
       "            }, 500);\n",
       "            "
      ],
      "text/plain": [
       "<IPython.core.display.Javascript object>"
      ]
     },
     "metadata": {},
     "output_type": "display_data"
    }
   ],
   "source": [
    "EMOS_glob_t2m_0_scores.mean()"
   ]
  },
  {
   "cell_type": "code",
   "execution_count": 71,
   "id": "df47faad",
   "metadata": {},
   "outputs": [
    {
     "data": {
      "text/plain": [
       "(357, 120, 130, 2)"
      ]
     },
     "execution_count": 71,
     "metadata": {},
     "output_type": "execute_result"
    },
    {
     "data": {
      "application/javascript": [
       "\n",
       "            setTimeout(function() {\n",
       "                var nbb_cell_id = 71;\n",
       "                var nbb_unformatted_code = \"EMOS_glob_t2m_0_preds.shape\";\n",
       "                var nbb_formatted_code = \"EMOS_glob_t2m_0_preds.shape\";\n",
       "                var nbb_cells = Jupyter.notebook.get_cells();\n",
       "                for (var i = 0; i < nbb_cells.length; ++i) {\n",
       "                    if (nbb_cells[i].input_prompt_number == nbb_cell_id) {\n",
       "                        if (nbb_cells[i].get_text() == nbb_unformatted_code) {\n",
       "                             nbb_cells[i].set_text(nbb_formatted_code);\n",
       "                        }\n",
       "                        break;\n",
       "                    }\n",
       "                }\n",
       "            }, 500);\n",
       "            "
      ],
      "text/plain": [
       "<IPython.core.display.Javascript object>"
      ]
     },
     "metadata": {},
     "output_type": "display_data"
    }
   ],
   "source": [
    "EMOS_glob_t2m_0_preds.shape"
   ]
  },
  {
   "cell_type": "code",
   "execution_count": 72,
   "id": "8d6f65c9",
   "metadata": {},
   "outputs": [
    {
     "data": {
      "text/plain": [
       "(120, 130)"
      ]
     },
     "execution_count": 72,
     "metadata": {},
     "output_type": "execute_result"
    },
    {
     "data": {
      "application/javascript": [
       "\n",
       "            setTimeout(function() {\n",
       "                var nbb_cell_id = 72;\n",
       "                var nbb_unformatted_code = \"EMOS_glob_t2m_0_scores.shape\";\n",
       "                var nbb_formatted_code = \"EMOS_glob_t2m_0_scores.shape\";\n",
       "                var nbb_cells = Jupyter.notebook.get_cells();\n",
       "                for (var i = 0; i < nbb_cells.length; ++i) {\n",
       "                    if (nbb_cells[i].input_prompt_number == nbb_cell_id) {\n",
       "                        if (nbb_cells[i].get_text() == nbb_unformatted_code) {\n",
       "                             nbb_cells[i].set_text(nbb_formatted_code);\n",
       "                        }\n",
       "                        break;\n",
       "                    }\n",
       "                }\n",
       "            }, 500);\n",
       "            "
      ],
      "text/plain": [
       "<IPython.core.display.Javascript object>"
      ]
     },
     "metadata": {},
     "output_type": "display_data"
    }
   ],
   "source": [
    "EMOS_glob_t2m_0_scores.shape"
   ]
  },
  {
   "cell_type": "code",
   "execution_count": 73,
   "id": "b8485716",
   "metadata": {},
   "outputs": [
    {
     "data": {
      "text/plain": [
       "array([[0.6543617 , 0.6332479 , 0.6167404 , ..., 0.31890804, 0.30976433,\n",
       "        0.30422524],\n",
       "       [0.6369018 , 0.6295203 , 0.6334581 , ..., 0.3348354 , 0.31547937,\n",
       "        0.3043394 ],\n",
       "       [0.57872915, 0.5657393 , 0.5672672 , ..., 0.28843513, 0.28858635,\n",
       "        0.28958994],\n",
       "       ...,\n",
       "       [0.4628801 , 0.4697256 , 0.48701125, ..., 0.60685045, 0.62224823,\n",
       "        0.6275593 ],\n",
       "       [0.549715  , 0.6716716 , 0.4389424 , ..., 0.63595545, 0.6325761 ,\n",
       "        0.6329455 ],\n",
       "       [0.6199186 , 0.50849265, 0.96981126, ..., 0.62486637, 0.62932765,\n",
       "        0.6119128 ]], dtype=float32)"
      ]
     },
     "execution_count": 73,
     "metadata": {},
     "output_type": "execute_result"
    },
    {
     "data": {
      "application/javascript": [
       "\n",
       "            setTimeout(function() {\n",
       "                var nbb_cell_id = 73;\n",
       "                var nbb_unformatted_code = \"EMOS_glob_t2m_0_scores\";\n",
       "                var nbb_formatted_code = \"EMOS_glob_t2m_0_scores\";\n",
       "                var nbb_cells = Jupyter.notebook.get_cells();\n",
       "                for (var i = 0; i < nbb_cells.length; ++i) {\n",
       "                    if (nbb_cells[i].input_prompt_number == nbb_cell_id) {\n",
       "                        if (nbb_cells[i].get_text() == nbb_unformatted_code) {\n",
       "                             nbb_cells[i].set_text(nbb_formatted_code);\n",
       "                        }\n",
       "                        break;\n",
       "                    }\n",
       "                }\n",
       "            }, 500);\n",
       "            "
      ],
      "text/plain": [
       "<IPython.core.display.Javascript object>"
      ]
     },
     "metadata": {},
     "output_type": "display_data"
    }
   ],
   "source": [
    "EMOS_glob_t2m_0_scores"
   ]
  },
  {
   "cell_type": "code",
   "execution_count": 60,
   "id": "fa2e0195",
   "metadata": {},
   "outputs": [
    {
     "data": {
      "text/plain": [
       "15600"
      ]
     },
     "execution_count": 60,
     "metadata": {},
     "output_type": "execute_result"
    },
    {
     "data": {
      "application/javascript": [
       "\n",
       "            setTimeout(function() {\n",
       "                var nbb_cell_id = 60;\n",
       "                var nbb_unformatted_code = \"120 * 130\";\n",
       "                var nbb_formatted_code = \"120 * 130\";\n",
       "                var nbb_cells = Jupyter.notebook.get_cells();\n",
       "                for (var i = 0; i < nbb_cells.length; ++i) {\n",
       "                    if (nbb_cells[i].input_prompt_number == nbb_cell_id) {\n",
       "                        if (nbb_cells[i].get_text() == nbb_unformatted_code) {\n",
       "                             nbb_cells[i].set_text(nbb_formatted_code);\n",
       "                        }\n",
       "                        break;\n",
       "                    }\n",
       "                }\n",
       "            }, 500);\n",
       "            "
      ],
      "text/plain": [
       "<IPython.core.display.Javascript object>"
      ]
     },
     "metadata": {},
     "output_type": "display_data"
    }
   ],
   "source": [
    "120 * 130"
   ]
  },
  {
   "cell_type": "code",
   "execution_count": null,
   "id": "b375991f",
   "metadata": {},
   "outputs": [],
   "source": []
  }
 ],
 "metadata": {
  "kernelspec": {
   "display_name": "Python 3 (ipykernel)",
   "language": "python",
   "name": "python3"
  },
  "language_info": {
   "codemirror_mode": {
    "name": "ipython",
    "version": 3
   },
   "file_extension": ".py",
   "mimetype": "text/x-python",
   "name": "python",
   "nbconvert_exporter": "python",
   "pygments_lexer": "ipython3",
   "version": "3.9.7"
  }
 },
 "nbformat": 4,
 "nbformat_minor": 5
}
