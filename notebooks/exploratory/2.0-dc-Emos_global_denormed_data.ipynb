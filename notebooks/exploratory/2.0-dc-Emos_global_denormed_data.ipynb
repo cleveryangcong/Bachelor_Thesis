{
 "cells": [
  {
   "cell_type": "code",
   "execution_count": 1,
   "id": "12765866",
   "metadata": {},
   "outputs": [
    {
     "data": {
      "application/javascript": [
       "\n",
       "            setTimeout(function() {\n",
       "                var nbb_cell_id = 1;\n",
       "                var nbb_unformatted_code = \"%load_ext nb_black\";\n",
       "                var nbb_formatted_code = \"%load_ext nb_black\";\n",
       "                var nbb_cells = Jupyter.notebook.get_cells();\n",
       "                for (var i = 0; i < nbb_cells.length; ++i) {\n",
       "                    if (nbb_cells[i].input_prompt_number == nbb_cell_id) {\n",
       "                        if (nbb_cells[i].get_text() == nbb_unformatted_code) {\n",
       "                             nbb_cells[i].set_text(nbb_formatted_code);\n",
       "                        }\n",
       "                        break;\n",
       "                    }\n",
       "                }\n",
       "            }, 500);\n",
       "            "
      ],
      "text/plain": [
       "<IPython.core.display.Javascript object>"
      ]
     },
     "metadata": {},
     "output_type": "display_data"
    }
   ],
   "source": [
    "%load_ext nb_black"
   ]
  },
  {
   "cell_type": "code",
   "execution_count": 2,
   "id": "10108375",
   "metadata": {},
   "outputs": [
    {
     "name": "stderr",
     "output_type": "stream",
     "text": [
      "2023-05-28 14:42:00.274943: W tensorflow/stream_executor/platform/default/dso_loader.cc:64] Could not load dynamic library 'libcudart.so.11.0'; dlerror: libcudart.so.11.0: cannot open shared object file: No such file or directory; LD_LIBRARY_PATH: :/opt/anaconda3/lib/\n",
      "2023-05-28 14:42:00.274962: I tensorflow/stream_executor/cuda/cudart_stub.cc:29] Ignore above cudart dlerror if you do not have a GPU set up on your machine.\n"
     ]
    },
    {
     "data": {
      "application/javascript": [
       "\n",
       "            setTimeout(function() {\n",
       "                var nbb_cell_id = 2;\n",
       "                var nbb_unformatted_code = \"# Helpful\\nimport tqdm\\n\\n# Visualization\\nimport matplotlib.pyplot as plt\\n\\n# My Methods\\nfrom src.utils.CRPS import *\\nfrom src.utils.data_split import *\\nfrom src.models.EMOS import *\\nimport data.raw.load_data_raw as ldr\\nimport data.processed.load_data_processed as ldp\\nimport data.processed.load_data_processed_denormed as ldpd\\nfrom src.models.CRPS_baseline.CRPS_load import *\";\n",
       "                var nbb_formatted_code = \"# Helpful\\nimport tqdm\\n\\n# Visualization\\nimport matplotlib.pyplot as plt\\n\\n# My Methods\\nfrom src.utils.CRPS import *\\nfrom src.utils.data_split import *\\nfrom src.models.EMOS import *\\nimport data.raw.load_data_raw as ldr\\nimport data.processed.load_data_processed as ldp\\nimport data.processed.load_data_processed_denormed as ldpd\\nfrom src.models.CRPS_baseline.CRPS_load import *\";\n",
       "                var nbb_cells = Jupyter.notebook.get_cells();\n",
       "                for (var i = 0; i < nbb_cells.length; ++i) {\n",
       "                    if (nbb_cells[i].input_prompt_number == nbb_cell_id) {\n",
       "                        if (nbb_cells[i].get_text() == nbb_unformatted_code) {\n",
       "                             nbb_cells[i].set_text(nbb_formatted_code);\n",
       "                        }\n",
       "                        break;\n",
       "                    }\n",
       "                }\n",
       "            }, 500);\n",
       "            "
      ],
      "text/plain": [
       "<IPython.core.display.Javascript object>"
      ]
     },
     "metadata": {},
     "output_type": "display_data"
    }
   ],
   "source": [
    "# Helpful\n",
    "import tqdm\n",
    "\n",
    "# Visualization\n",
    "import matplotlib.pyplot as plt\n",
    "\n",
    "# My Methods\n",
    "from src.utils.CRPS import *\n",
    "from src.utils.data_split import *\n",
    "from src.models.EMOS import *\n",
    "import data.raw.load_data_raw as ldr\n",
    "import data.processed.load_data_processed as ldp\n",
    "import data.processed.load_data_processed_denormed as ldpd\n",
    "from src.models.CRPS_baseline.CRPS_load import *"
   ]
  },
  {
   "cell_type": "markdown",
   "id": "d1e63dc4",
   "metadata": {},
   "source": [
    "### 1. Load Raw Data"
   ]
  },
  {
   "cell_type": "code",
   "execution_count": 13,
   "id": "b9bb0b1c",
   "metadata": {},
   "outputs": [
    {
     "data": {
      "application/javascript": [
       "\n",
       "            setTimeout(function() {\n",
       "                var nbb_cell_id = 13;\n",
       "                var nbb_unformatted_code = \"# Load train data for variables t2m and ws10\\ntrain_t2m_ws10_denormed = ldpd.load_data_t2m_ws10_train_proc_denorm()\\ntrain_t2m_denormed = train_t2m_ws10_denormed[0]\\ntrain_ws10_denormed = train_t2m_ws10_denormed[1]\\n\\n# Load test data for variables t2m and ws10\\ntest_t2m_ws10_denormed = ldpd.load_data_t2m_ws10_test_proc_denorm()\\ntest_ws10_denormed = test_t2m_ws10_denormed[0]\\ntest = test_t2m_w10_denormed[1]\";\n",
       "                var nbb_formatted_code = \"# Load train data for variables t2m and ws10\\ntrain_t2m_ws10_denormed = ldpd.load_data_t2m_ws10_train_proc_denorm()\\ntrain_t2m_denormed = train_t2m_ws10_denormed[0]\\ntrain_ws10_denormed = train_t2m_ws10_denormed[1]\\n\\n# Load test data for variables t2m and ws10\\ntest_t2m_ws10_denormed = ldpd.load_data_t2m_ws10_test_proc_denorm()\\ntest_ws10_denormed = test_t2m_ws10_denormed[0]\\ntest = test_t2m_w10_denormed[1]\";\n",
       "                var nbb_cells = Jupyter.notebook.get_cells();\n",
       "                for (var i = 0; i < nbb_cells.length; ++i) {\n",
       "                    if (nbb_cells[i].input_prompt_number == nbb_cell_id) {\n",
       "                        if (nbb_cells[i].get_text() == nbb_unformatted_code) {\n",
       "                             nbb_cells[i].set_text(nbb_formatted_code);\n",
       "                        }\n",
       "                        break;\n",
       "                    }\n",
       "                }\n",
       "            }, 500);\n",
       "            "
      ],
      "text/plain": [
       "<IPython.core.display.Javascript object>"
      ]
     },
     "metadata": {},
     "output_type": "display_data"
    }
   ],
   "source": [
    "# Load train data for variables t2m and ws10\n",
    "train_t2m_ws10_denormed = ldpd.load_data_t2m_ws10_train_proc_denorm()\n",
    "train_t2m_denormed = train_t2m_ws10_denormed[0]\n",
    "train_ws10_denormed = train_t2m_ws10_denormed[1]\n",
    "\n",
    "# Load test data for variables t2m and ws10\n",
    "test_t2m_ws10_denormed = ldpd.load_data_t2m_ws10_test_proc_denorm()\n",
    "test_ws10_denormed = test_t2m_ws10_denormed[0]\n",
    "test = test_t2m_w10_denormed[1]"
   ]
  },
  {
   "cell_type": "markdown",
   "id": "ddb86ac2",
   "metadata": {},
   "source": [
    "###  2. Data Split"
   ]
  },
  {
   "cell_type": "code",
   "execution_count": 15,
   "id": "3174fc3c",
   "metadata": {},
   "outputs": [
    {
     "data": {
      "application/javascript": [
       "\n",
       "            setTimeout(function() {\n",
       "                var nbb_cell_id = 15;\n",
       "                var nbb_unformatted_code = \"# Train-test split into lead_times for t2m\\nX_train_t2m_denormed, y_train_t2m_denormed = split_var_lead_one(train_t2m_denormed)\\nX_test_t2m_denormed, y_test_t2m_denormed = split_var_lead_one(test_t2m_denormed)\\n# Train-test split into lead_times for ws10\\nX_train_ws10_denormed, y_train_ws10_denormed = split_var_lead_one(train_ws10_denormed)\\nX_test_ws10_denormed, y_test_ws10_denormed = split_var_lead_one(test_ws10_denormed)\";\n",
       "                var nbb_formatted_code = \"# Train-test split into lead_times for t2m\\nX_train_t2m_denormed, y_train_t2m_denormed = split_var_lead_one(train_t2m_denormed)\\nX_test_t2m_denormed, y_test_t2m_denormed = split_var_lead_one(test_t2m_denormed)\\n# Train-test split into lead_times for ws10\\nX_train_ws10_denormed, y_train_ws10_denormed = split_var_lead_one(train_ws10_denormed)\\nX_test_ws10_denormed, y_test_ws10_denormed = split_var_lead_one(test_ws10_denormed)\";\n",
       "                var nbb_cells = Jupyter.notebook.get_cells();\n",
       "                for (var i = 0; i < nbb_cells.length; ++i) {\n",
       "                    if (nbb_cells[i].input_prompt_number == nbb_cell_id) {\n",
       "                        if (nbb_cells[i].get_text() == nbb_unformatted_code) {\n",
       "                             nbb_cells[i].set_text(nbb_formatted_code);\n",
       "                        }\n",
       "                        break;\n",
       "                    }\n",
       "                }\n",
       "            }, 500);\n",
       "            "
      ],
      "text/plain": [
       "<IPython.core.display.Javascript object>"
      ]
     },
     "metadata": {},
     "output_type": "display_data"
    }
   ],
   "source": [
    "# Train-test split into lead_times for t2m\n",
    "X_train_t2m_denormed, y_train_t2m_denormed = split_var_lead_one(train_t2m_denormed)\n",
    "X_test_t2m_denormed, y_test_t2m_denormed = split_var_lead_one(test_t2m_denormed)\n",
    "# Train-test split into lead_times for ws10\n",
    "X_train_ws10_denormed, y_train_ws10_denormed = split_var_lead_one(train_ws10_denormed)\n",
    "X_test_ws10_denormed, y_test_ws10_denormed = split_var_lead_one(test_ws10_denormed)"
   ]
  },
  {
   "cell_type": "code",
   "execution_count": null,
   "id": "d9d3cf32",
   "metadata": {},
   "outputs": [],
   "source": []
  }
 ],
 "metadata": {
  "kernelspec": {
   "display_name": "Python 3 (ipykernel)",
   "language": "python",
   "name": "python3"
  },
  "language_info": {
   "codemirror_mode": {
    "name": "ipython",
    "version": 3
   },
   "file_extension": ".py",
   "mimetype": "text/x-python",
   "name": "python",
   "nbconvert_exporter": "python",
   "pygments_lexer": "ipython3",
   "version": "3.9.7"
  }
 },
 "nbformat": 4,
 "nbformat_minor": 5
}
