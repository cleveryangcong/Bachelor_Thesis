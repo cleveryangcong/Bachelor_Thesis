{
 "cells": [
  {
   "cell_type": "code",
   "execution_count": 1,
   "id": "31959ff3",
   "metadata": {},
   "outputs": [
    {
     "data": {
      "application/javascript": [
       "\n",
       "            setTimeout(function() {\n",
       "                var nbb_cell_id = 1;\n",
       "                var nbb_unformatted_code = \"%load_ext nb_black\";\n",
       "                var nbb_formatted_code = \"%load_ext nb_black\";\n",
       "                var nbb_cells = Jupyter.notebook.get_cells();\n",
       "                for (var i = 0; i < nbb_cells.length; ++i) {\n",
       "                    if (nbb_cells[i].input_prompt_number == nbb_cell_id) {\n",
       "                        if (nbb_cells[i].get_text() == nbb_unformatted_code) {\n",
       "                             nbb_cells[i].set_text(nbb_formatted_code);\n",
       "                        }\n",
       "                        break;\n",
       "                    }\n",
       "                }\n",
       "            }, 500);\n",
       "            "
      ],
      "text/plain": [
       "<IPython.core.display.Javascript object>"
      ]
     },
     "metadata": {},
     "output_type": "display_data"
    }
   ],
   "source": [
    "%load_ext nb_black"
   ]
  },
  {
   "cell_type": "code",
   "execution_count": 2,
   "id": "5f2cad0d",
   "metadata": {},
   "outputs": [
    {
     "name": "stderr",
     "output_type": "stream",
     "text": [
      "2023-05-30 15:04:51.518615: W tensorflow/stream_executor/platform/default/dso_loader.cc:64] Could not load dynamic library 'libcudart.so.11.0'; dlerror: libcudart.so.11.0: cannot open shared object file: No such file or directory; LD_LIBRARY_PATH: :/opt/anaconda3/lib/\n",
      "2023-05-30 15:04:51.518635: I tensorflow/stream_executor/cuda/cudart_stub.cc:29] Ignore above cudart dlerror if you do not have a GPU set up on your machine.\n"
     ]
    },
    {
     "data": {
      "application/javascript": [
       "\n",
       "            setTimeout(function() {\n",
       "                var nbb_cell_id = 2;\n",
       "                var nbb_unformatted_code = \"# Data\\nimport pickle\\n\\n# Helpful\\nimport tqdm\\n\\n# Visualization\\nimport matplotlib.pyplot as plt\\n\\n# My Methods\\nfrom src.utils.CRPS import *\\nfrom src.utils.data_split import *\\nfrom src.models.EMOS import *\\nimport data.raw.load_data_raw as ldr\\nimport data.processed.load_data_processed as ldp\\nimport data.processed.load_data_processed_denormed as ldpd\\nfrom src.models.CRPS_baseline.CRPS_load import *\";\n",
       "                var nbb_formatted_code = \"# Data\\nimport pickle\\n\\n# Helpful\\nimport tqdm\\n\\n# Visualization\\nimport matplotlib.pyplot as plt\\n\\n# My Methods\\nfrom src.utils.CRPS import *\\nfrom src.utils.data_split import *\\nfrom src.models.EMOS import *\\nimport data.raw.load_data_raw as ldr\\nimport data.processed.load_data_processed as ldp\\nimport data.processed.load_data_processed_denormed as ldpd\\nfrom src.models.CRPS_baseline.CRPS_load import *\";\n",
       "                var nbb_cells = Jupyter.notebook.get_cells();\n",
       "                for (var i = 0; i < nbb_cells.length; ++i) {\n",
       "                    if (nbb_cells[i].input_prompt_number == nbb_cell_id) {\n",
       "                        if (nbb_cells[i].get_text() == nbb_unformatted_code) {\n",
       "                             nbb_cells[i].set_text(nbb_formatted_code);\n",
       "                        }\n",
       "                        break;\n",
       "                    }\n",
       "                }\n",
       "            }, 500);\n",
       "            "
      ],
      "text/plain": [
       "<IPython.core.display.Javascript object>"
      ]
     },
     "metadata": {},
     "output_type": "display_data"
    }
   ],
   "source": [
    "# Data\n",
    "import pickle\n",
    "\n",
    "# Helpful\n",
    "import tqdm\n",
    "\n",
    "# Visualization\n",
    "import matplotlib.pyplot as plt\n",
    "\n",
    "# My Methods\n",
    "from src.utils.CRPS import *\n",
    "from src.utils.data_split import *\n",
    "from src.models.EMOS import *\n",
    "import data.raw.load_data_raw as ldr\n",
    "import data.processed.load_data_processed as ldp\n",
    "import data.processed.load_data_processed_denormed as ldpd\n",
    "from src.models.CRPS_baseline.CRPS_load import *"
   ]
  },
  {
   "cell_type": "markdown",
   "id": "7f163721",
   "metadata": {},
   "source": [
    "### 1. Load data"
   ]
  },
  {
   "cell_type": "code",
   "execution_count": 3,
   "id": "8bb87fcb",
   "metadata": {},
   "outputs": [
    {
     "data": {
      "application/javascript": [
       "\n",
       "            setTimeout(function() {\n",
       "                var nbb_cell_id = 3;\n",
       "                var nbb_unformatted_code = \"test_t2m_ws10_denormed = ldpd.load_data_t2m_ws10_test_proc_denorm()\";\n",
       "                var nbb_formatted_code = \"test_t2m_ws10_denormed = ldpd.load_data_t2m_ws10_test_proc_denorm()\";\n",
       "                var nbb_cells = Jupyter.notebook.get_cells();\n",
       "                for (var i = 0; i < nbb_cells.length; ++i) {\n",
       "                    if (nbb_cells[i].input_prompt_number == nbb_cell_id) {\n",
       "                        if (nbb_cells[i].get_text() == nbb_unformatted_code) {\n",
       "                             nbb_cells[i].set_text(nbb_formatted_code);\n",
       "                        }\n",
       "                        break;\n",
       "                    }\n",
       "                }\n",
       "            }, 500);\n",
       "            "
      ],
      "text/plain": [
       "<IPython.core.display.Javascript object>"
      ]
     },
     "metadata": {},
     "output_type": "display_data"
    }
   ],
   "source": [
    "test_t2m_ws10_denormed = ldpd.load_data_t2m_ws10_test_proc_denorm()"
   ]
  },
  {
   "cell_type": "markdown",
   "id": "7cdeee96",
   "metadata": {},
   "source": [
    "### 2. Load CRPS Score test"
   ]
  },
  {
   "cell_type": "code",
   "execution_count": 4,
   "id": "739b2b67",
   "metadata": {},
   "outputs": [
    {
     "data": {
      "application/javascript": [
       "\n",
       "            setTimeout(function() {\n",
       "                var nbb_cell_id = 4;\n",
       "                var nbb_unformatted_code = \"t2m_crps_score_array = crps_load_lead_lat_lon(\\\"t2m\\\")\";\n",
       "                var nbb_formatted_code = \"t2m_crps_score_array = crps_load_lead_lat_lon(\\\"t2m\\\")\";\n",
       "                var nbb_cells = Jupyter.notebook.get_cells();\n",
       "                for (var i = 0; i < nbb_cells.length; ++i) {\n",
       "                    if (nbb_cells[i].input_prompt_number == nbb_cell_id) {\n",
       "                        if (nbb_cells[i].get_text() == nbb_unformatted_code) {\n",
       "                             nbb_cells[i].set_text(nbb_formatted_code);\n",
       "                        }\n",
       "                        break;\n",
       "                    }\n",
       "                }\n",
       "            }, 500);\n",
       "            "
      ],
      "text/plain": [
       "<IPython.core.display.Javascript object>"
      ]
     },
     "metadata": {},
     "output_type": "display_data"
    }
   ],
   "source": [
    "t2m_crps_score_array = crps_load_lead_lat_lon(\"t2m\")"
   ]
  },
  {
   "cell_type": "code",
   "execution_count": 5,
   "id": "596ad0c7",
   "metadata": {},
   "outputs": [
    {
     "data": {
      "application/javascript": [
       "\n",
       "            setTimeout(function() {\n",
       "                var nbb_cell_id = 5;\n",
       "                var nbb_unformatted_code = \"# If I want to visualize the CRPS for ws10 variable\\n# t2m_crps_score_array = crps_load_lead_lat_lon('ws10')\";\n",
       "                var nbb_formatted_code = \"# If I want to visualize the CRPS for ws10 variable\\n# t2m_crps_score_array = crps_load_lead_lat_lon('ws10')\";\n",
       "                var nbb_cells = Jupyter.notebook.get_cells();\n",
       "                for (var i = 0; i < nbb_cells.length; ++i) {\n",
       "                    if (nbb_cells[i].input_prompt_number == nbb_cell_id) {\n",
       "                        if (nbb_cells[i].get_text() == nbb_unformatted_code) {\n",
       "                             nbb_cells[i].set_text(nbb_formatted_code);\n",
       "                        }\n",
       "                        break;\n",
       "                    }\n",
       "                }\n",
       "            }, 500);\n",
       "            "
      ],
      "text/plain": [
       "<IPython.core.display.Javascript object>"
      ]
     },
     "metadata": {},
     "output_type": "display_data"
    }
   ],
   "source": [
    "# If I want to visualize the CRPS for ws10 variable\n",
    "# t2m_crps_score_array = crps_load_lead_lat_lon('ws10')"
   ]
  },
  {
   "cell_type": "code",
   "execution_count": 6,
   "id": "5e243d42",
   "metadata": {},
   "outputs": [
    {
     "data": {
      "text/plain": [
       "0.5084816639136492"
      ]
     },
     "execution_count": 6,
     "metadata": {},
     "output_type": "execute_result"
    },
    {
     "data": {
      "application/javascript": [
       "\n",
       "            setTimeout(function() {\n",
       "                var nbb_cell_id = 6;\n",
       "                var nbb_unformatted_code = \"t2m_crps_score_array[0].mean()\";\n",
       "                var nbb_formatted_code = \"t2m_crps_score_array[0].mean()\";\n",
       "                var nbb_cells = Jupyter.notebook.get_cells();\n",
       "                for (var i = 0; i < nbb_cells.length; ++i) {\n",
       "                    if (nbb_cells[i].input_prompt_number == nbb_cell_id) {\n",
       "                        if (nbb_cells[i].get_text() == nbb_unformatted_code) {\n",
       "                             nbb_cells[i].set_text(nbb_formatted_code);\n",
       "                        }\n",
       "                        break;\n",
       "                    }\n",
       "                }\n",
       "            }, 500);\n",
       "            "
      ],
      "text/plain": [
       "<IPython.core.display.Javascript object>"
      ]
     },
     "metadata": {},
     "output_type": "display_data"
    }
   ],
   "source": [
    "t2m_crps_score_array[0].mean()"
   ]
  },
  {
   "cell_type": "markdown",
   "id": "a9c03d4d",
   "metadata": {},
   "source": [
    "###  3. CRPS scores worse with lead_time?"
   ]
  },
  {
   "cell_type": "code",
   "execution_count": 8,
   "id": "b802a881",
   "metadata": {
    "scrolled": true
   },
   "outputs": [
    {
     "data": {
      "image/png": "[encoded data removed]",
      "text/plain": [
       "<Figure size 432x288 with 1 Axes>"
      ]
     },
     "metadata": {
      "needs_background": "light"
     },
     "output_type": "display_data"
    },
    {
     "data": {
      "application/javascript": [
       "\n",
       "            setTimeout(function() {\n",
       "                var nbb_cell_id = 8;\n",
       "                var nbb_unformatted_code = \"# Visualization Lead_time - CRPS_mean\\nt2m_crps_score_lead_time_mean = []\\nfor i in range(len(t2m_crps_score_array)):\\n    t2m_crps_score_lead_time_mean.append(t2m_crps_score_array[i].mean())\\n\\nfig, ax = plt.subplots()\\nax.scatter(range(31), t2m_crps_score_lead_time_mean)\\nax.set_title(\\\"Lead_time - CRPS_mean\\\")\\nax.set_xlabel(\\\"lead_time\\\")\\nax.set_ylabel(\\\"CRPS_mean_score\\\")\\nplt.show()\";\n",
       "                var nbb_formatted_code = \"# Visualization Lead_time - CRPS_mean\\nt2m_crps_score_lead_time_mean = []\\nfor i in range(len(t2m_crps_score_array)):\\n    t2m_crps_score_lead_time_mean.append(t2m_crps_score_array[i].mean())\\n\\nfig, ax = plt.subplots()\\nax.scatter(range(31), t2m_crps_score_lead_time_mean)\\nax.set_title(\\\"Lead_time - CRPS_mean\\\")\\nax.set_xlabel(\\\"lead_time\\\")\\nax.set_ylabel(\\\"CRPS_mean_score\\\")\\nplt.show()\";\n",
       "                var nbb_cells = Jupyter.notebook.get_cells();\n",
       "                for (var i = 0; i < nbb_cells.length; ++i) {\n",
       "                    if (nbb_cells[i].input_prompt_number == nbb_cell_id) {\n",
       "                        if (nbb_cells[i].get_text() == nbb_unformatted_code) {\n",
       "                             nbb_cells[i].set_text(nbb_formatted_code);\n",
       "                        }\n",
       "                        break;\n",
       "                    }\n",
       "                }\n",
       "            }, 500);\n",
       "            "
      ],
      "text/plain": [
       "<IPython.core.display.Javascript object>"
      ]
     },
     "metadata": {},
     "output_type": "display_data"
    }
   ],
   "source": [
    "# Visualization Lead_time - CRPS_mean\n",
    "t2m_crps_score_lead_time_mean = []\n",
    "for i in range(len(t2m_crps_score_array)):\n",
    "    t2m_crps_score_lead_time_mean.append(t2m_crps_score_array[i].mean())\n",
    "\n",
    "fig, ax = plt.subplots()\n",
    "ax.scatter(range(31), t2m_crps_score_lead_time_mean)\n",
    "ax.set_title(\"Lead_time - CRPS_mean\")\n",
    "ax.set_xlabel(\"lead_time\")\n",
    "ax.set_ylabel(\"CRPS_mean_score\")\n",
    "plt.show()"
   ]
  },
  {
   "cell_type": "code",
   "execution_count": 9,
   "id": "02afef08",
   "metadata": {},
   "outputs": [
    {
     "data": {
      "image/png": "[encoded data removed]",
      "text/plain": [
       "<Figure size 432x288 with 1 Axes>"
      ]
     },
     "metadata": {
      "needs_background": "light"
     },
     "output_type": "display_data"
    },
    {
     "data": {
      "application/javascript": [
       "\n",
       "            setTimeout(function() {\n",
       "                var nbb_cell_id = 9;\n",
       "                var nbb_unformatted_code = \"chunks = [t2m_crps_score_lead_time_mean[i:i+5] for i in range(0, 25, 5)] + [t2m_crps_score_lead_time_mean[-6:]]\\nt2m_crps_score_lead_time_mean_5 = [np.mean(chunk) for chunk in chunks]\\n\\nfig, ax = plt.subplots()\\n\\n# Plot horizontal lines\\nfor i, mean in enumerate(t2m_crps_score_lead_time_mean_5):\\n    if i != len(t2m_crps_score_lead_time_mean_5) - 1:\\n        ax.hlines(mean, i*5, i*5+5, colors='b')\\n    else:  # the last line should span 6 points\\n        ax.hlines(mean, i*5, i*5+6, colors='b')\\n\\n# Set the title and labels\\nax.set_title('Mean of 5 CRPS_Values')\\nax.set_xlabel('Lead_time')\\nax.set_ylabel('Mean 5 CRPS')\\n\\n# Show the plot\\nplt.show()\";\n",
       "                var nbb_formatted_code = \"chunks = [t2m_crps_score_lead_time_mean[i : i + 5] for i in range(0, 25, 5)] + [\\n    t2m_crps_score_lead_time_mean[-6:]\\n]\\nt2m_crps_score_lead_time_mean_5 = [np.mean(chunk) for chunk in chunks]\\n\\nfig, ax = plt.subplots()\\n\\n# Plot horizontal lines\\nfor i, mean in enumerate(t2m_crps_score_lead_time_mean_5):\\n    if i != len(t2m_crps_score_lead_time_mean_5) - 1:\\n        ax.hlines(mean, i * 5, i * 5 + 5, colors=\\\"b\\\")\\n    else:  # the last line should span 6 points\\n        ax.hlines(mean, i * 5, i * 5 + 6, colors=\\\"b\\\")\\n\\n# Set the title and labels\\nax.set_title(\\\"Mean of 5 CRPS_Values\\\")\\nax.set_xlabel(\\\"Lead_time\\\")\\nax.set_ylabel(\\\"Mean 5 CRPS\\\")\\n\\n# Show the plot\\nplt.show()\";\n",
       "                var nbb_cells = Jupyter.notebook.get_cells();\n",
       "                for (var i = 0; i < nbb_cells.length; ++i) {\n",
       "                    if (nbb_cells[i].input_prompt_number == nbb_cell_id) {\n",
       "                        if (nbb_cells[i].get_text() == nbb_unformatted_code) {\n",
       "                             nbb_cells[i].set_text(nbb_formatted_code);\n",
       "                        }\n",
       "                        break;\n",
       "                    }\n",
       "                }\n",
       "            }, 500);\n",
       "            "
      ],
      "text/plain": [
       "<IPython.core.display.Javascript object>"
      ]
     },
     "metadata": {},
     "output_type": "display_data"
    }
   ],
   "source": [
    "chunks = [t2m_crps_score_lead_time_mean[i : i + 5] for i in range(0, 25, 5)] + [\n",
    "    t2m_crps_score_lead_time_mean[-6:]\n",
    "]\n",
    "t2m_crps_score_lead_time_mean_5 = [np.mean(chunk) for chunk in chunks]\n",
    "\n",
    "fig, ax = plt.subplots()\n",
    "\n",
    "# Plot horizontal lines\n",
    "for i, mean in enumerate(t2m_crps_score_lead_time_mean_5):\n",
    "    if i != len(t2m_crps_score_lead_time_mean_5) - 1:\n",
    "        ax.hlines(mean, i * 5, i * 5 + 5, colors=\"b\")\n",
    "    else:  # the last line should span 6 points\n",
    "        ax.hlines(mean, i * 5, i * 5 + 6, colors=\"b\")\n",
    "\n",
    "# Set the title and labels\n",
    "ax.set_title(\"Mean of 5 CRPS_Values\")\n",
    "ax.set_xlabel(\"Lead_time\")\n",
    "ax.set_ylabel(\"Mean 5 CRPS\")\n",
    "\n",
    "# Show the plot\n",
    "plt.show()"
   ]
  },
  {
   "cell_type": "code",
   "execution_count": null,
   "id": "99319de5",
   "metadata": {},
   "outputs": [],
   "source": []
  }
 ],
 "metadata": {
  "kernelspec": {
   "display_name": "Python 3 (ipykernel)",
   "language": "python",
   "name": "python3"
  },
  "language_info": {
   "codemirror_mode": {
    "name": "ipython",
    "version": 3
   },
   "file_extension": ".py",
   "mimetype": "text/x-python",
   "name": "python",
   "nbconvert_exporter": "python",
   "pygments_lexer": "ipython3",
   "version": "3.9.7"
  }
 },
 "nbformat": 4,
 "nbformat_minor": 5
}
