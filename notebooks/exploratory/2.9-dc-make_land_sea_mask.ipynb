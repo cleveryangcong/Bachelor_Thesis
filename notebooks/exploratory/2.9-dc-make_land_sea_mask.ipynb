{
 "cells": [
  {
   "cell_type": "code",
   "execution_count": 1,
   "id": "4e89e842",
   "metadata": {},
   "outputs": [
    {
     "data": {
      "application/javascript": [
       "\n",
       "            setTimeout(function() {\n",
       "                var nbb_cell_id = 1;\n",
       "                var nbb_unformatted_code = \"%load_ext nb_black\";\n",
       "                var nbb_formatted_code = \"%load_ext nb_black\";\n",
       "                var nbb_cells = Jupyter.notebook.get_cells();\n",
       "                for (var i = 0; i < nbb_cells.length; ++i) {\n",
       "                    if (nbb_cells[i].input_prompt_number == nbb_cell_id) {\n",
       "                        if (nbb_cells[i].get_text() == nbb_unformatted_code) {\n",
       "                             nbb_cells[i].set_text(nbb_formatted_code);\n",
       "                        }\n",
       "                        break;\n",
       "                    }\n",
       "                }\n",
       "            }, 500);\n",
       "            "
      ],
      "text/plain": [
       "<IPython.core.display.Javascript object>"
      ]
     },
     "metadata": {},
     "output_type": "display_data"
    }
   ],
   "source": [
    "%load_ext nb_black"
   ]
  },
  {
   "cell_type": "code",
   "execution_count": 2,
   "id": "05529511",
   "metadata": {},
   "outputs": [
    {
     "name": "stderr",
     "output_type": "stream",
     "text": [
      "2023-06-29 13:31:28.261801: W tensorflow/stream_executor/platform/default/dso_loader.cc:64] Could not load dynamic library 'libcudart.so.11.0'; dlerror: libcudart.so.11.0: cannot open shared object file: No such file or directory; LD_LIBRARY_PATH: :/opt/anaconda3/lib/\n",
      "2023-06-29 13:31:28.261820: I tensorflow/stream_executor/cuda/cudart_stub.cc:29] Ignore above cudart dlerror if you do not have a GPU set up on your machine.\n"
     ]
    },
    {
     "data": {
      "application/javascript": [
       "\n",
       "            setTimeout(function() {\n",
       "                var nbb_cell_id = 2;\n",
       "                var nbb_unformatted_code = \"# Set up\\nimport sys\\n\\nsys.path.append(\\\"/home/dchen/BA_CH_EN/\\\")\\n\\n# Basics\\nimport tensorflow as tf\\nimport xarray as xr\\n\\n# Helpful\\nfrom tqdm import tqdm\\n\\n# Visualization\\nimport matplotlib.pyplot as plt\\n\\n# My Methods\\nfrom src.utils.CRPS import *  # CRPS metrics\\nfrom src.utils.data_split import *  # Splitting data into X and y\\nfrom src.utils.drn_make_X_array import *  # Import make train array functions (make_X_array)\\nfrom src.models.EMOS import *  # EMOS implementation\\nfrom src.models.DRN.DRN_model import *  # DRN implementation\\nfrom src.models.DRN.DRN_load_preds import *\\nfrom src.models.EMOS_local.EMOS_local_load_preds import *  # Load EMOS_global_preds\\nfrom src.models.EMOS_global.EMOS_global_load_score import *  # Load EMOS_global_scores\\nfrom src.models.EMOS_global.EMOS_global_load_preds import *  # Load EMOS_global_preds\\nfrom src.models.EMOS_global.EMOS_global_load_model import *  # Load EMOS_global_models\\nimport data.raw.load_data_raw as ldr  # Load raw data\\nimport data.processed.load_data_processed as ldp  # Load processed data normed\\nimport data.processed.load_data_processed_denormed as ldpd  # Load processed data denormed\\nfrom src.models.CRPS_baseline.CRPS_load import *  # Load CRPS scores\";\n",
       "                var nbb_formatted_code = \"# Set up\\nimport sys\\n\\nsys.path.append(\\\"/home/dchen/BA_CH_EN/\\\")\\n\\n# Basics\\nimport tensorflow as tf\\nimport xarray as xr\\n\\n# Helpful\\nfrom tqdm import tqdm\\n\\n# Visualization\\nimport matplotlib.pyplot as plt\\n\\n# My Methods\\nfrom src.utils.CRPS import *  # CRPS metrics\\nfrom src.utils.data_split import *  # Splitting data into X and y\\nfrom src.utils.drn_make_X_array import *  # Import make train array functions (make_X_array)\\nfrom src.models.EMOS import *  # EMOS implementation\\nfrom src.models.DRN.DRN_model import *  # DRN implementation\\nfrom src.models.DRN.DRN_load_preds import *\\nfrom src.models.EMOS_local.EMOS_local_load_preds import *  # Load EMOS_global_preds\\nfrom src.models.EMOS_global.EMOS_global_load_score import *  # Load EMOS_global_scores\\nfrom src.models.EMOS_global.EMOS_global_load_preds import *  # Load EMOS_global_preds\\nfrom src.models.EMOS_global.EMOS_global_load_model import *  # Load EMOS_global_models\\nimport data.raw.load_data_raw as ldr  # Load raw data\\nimport data.processed.load_data_processed as ldp  # Load processed data normed\\nimport data.processed.load_data_processed_denormed as ldpd  # Load processed data denormed\\nfrom src.models.CRPS_baseline.CRPS_load import *  # Load CRPS scores\";\n",
       "                var nbb_cells = Jupyter.notebook.get_cells();\n",
       "                for (var i = 0; i < nbb_cells.length; ++i) {\n",
       "                    if (nbb_cells[i].input_prompt_number == nbb_cell_id) {\n",
       "                        if (nbb_cells[i].get_text() == nbb_unformatted_code) {\n",
       "                             nbb_cells[i].set_text(nbb_formatted_code);\n",
       "                        }\n",
       "                        break;\n",
       "                    }\n",
       "                }\n",
       "            }, 500);\n",
       "            "
      ],
      "text/plain": [
       "<IPython.core.display.Javascript object>"
      ]
     },
     "metadata": {},
     "output_type": "display_data"
    }
   ],
   "source": [
    "# Set up\n",
    "import sys\n",
    "\n",
    "sys.path.append(\"/home/dchen/BA_CH_EN/\")\n",
    "\n",
    "# Basics\n",
    "import tensorflow as tf\n",
    "import xarray as xr\n",
    "\n",
    "# Helpful\n",
    "from tqdm import tqdm\n",
    "\n",
    "# Visualization\n",
    "import matplotlib.pyplot as plt\n",
    "\n",
    "# My Methods\n",
    "from src.utils.CRPS import *  # CRPS metrics\n",
    "from src.utils.data_split import *  # Splitting data into X and y\n",
    "from src.utils.drn_make_X_array import *  # Import make train array functions (make_X_array)\n",
    "from src.models.EMOS import *  # EMOS implementation\n",
    "from src.models.DRN.DRN_model import *  # DRN implementation\n",
    "from src.models.DRN.DRN_load_preds import *\n",
    "from src.models.EMOS_local.EMOS_local_load_preds import *  # Load EMOS_global_preds\n",
    "from src.models.EMOS_global.EMOS_global_load_score import *  # Load EMOS_global_scores\n",
    "from src.models.EMOS_global.EMOS_global_load_preds import *  # Load EMOS_global_preds\n",
    "from src.models.EMOS_global.EMOS_global_load_model import *  # Load EMOS_global_models\n",
    "import data.raw.load_data_raw as ldr  # Load raw data\n",
    "import data.processed.load_data_processed as ldp  # Load processed data normed\n",
    "import data.processed.load_data_processed_denormed as ldpd  # Load processed data denormed\n",
    "from src.models.CRPS_baseline.CRPS_load import *  # Load CRPS scores"
   ]
  },
  {
   "cell_type": "markdown",
   "id": "45775e41",
   "metadata": {},
   "source": [
    "### 1. Load Data"
   ]
  },
  {
   "cell_type": "code",
   "execution_count": 3,
   "id": "90780f59",
   "metadata": {},
   "outputs": [
    {
     "data": {
      "application/javascript": [
       "\n",
       "            setTimeout(function() {\n",
       "                var nbb_cell_id = 3;\n",
       "                var nbb_unformatted_code = \"land_sea_mask_global = np.load(\\n    \\\"/mnt/sda/Data2/fourcastnet/data/stats_v0/land_sea_mask.npy\\\"\\n)\";\n",
       "                var nbb_formatted_code = \"land_sea_mask_global = np.load(\\n    \\\"/mnt/sda/Data2/fourcastnet/data/stats_v0/land_sea_mask.npy\\\"\\n)\";\n",
       "                var nbb_cells = Jupyter.notebook.get_cells();\n",
       "                for (var i = 0; i < nbb_cells.length; ++i) {\n",
       "                    if (nbb_cells[i].input_prompt_number == nbb_cell_id) {\n",
       "                        if (nbb_cells[i].get_text() == nbb_unformatted_code) {\n",
       "                             nbb_cells[i].set_text(nbb_formatted_code);\n",
       "                        }\n",
       "                        break;\n",
       "                    }\n",
       "                }\n",
       "            }, 500);\n",
       "            "
      ],
      "text/plain": [
       "<IPython.core.display.Javascript object>"
      ]
     },
     "metadata": {},
     "output_type": "display_data"
    }
   ],
   "source": [
    "land_sea_mask_global = np.load(\n",
    "    \"/mnt/sda/Data2/fourcastnet/data/stats_v0/land_sea_mask.npy\"\n",
    ")"
   ]
  },
  {
   "cell_type": "markdown",
   "id": "9e93b5b1",
   "metadata": {},
   "source": [
    "### 2. Visualize Correct Map"
   ]
  },
  {
   "cell_type": "code",
   "execution_count": 4,
   "id": "99c33cef",
   "metadata": {},
   "outputs": [
    {
     "data": {
      "application/javascript": [
       "\n",
       "            setTimeout(function() {\n",
       "                var nbb_cell_id = 4;\n",
       "                var nbb_unformatted_code = \"img_x_subset = slice(110, 230)\\nimg_y_subset = np.append(np.arange(1370, 1440), np.arange(0, 60))\";\n",
       "                var nbb_formatted_code = \"img_x_subset = slice(110, 230)\\nimg_y_subset = np.append(np.arange(1370, 1440), np.arange(0, 60))\";\n",
       "                var nbb_cells = Jupyter.notebook.get_cells();\n",
       "                for (var i = 0; i < nbb_cells.length; ++i) {\n",
       "                    if (nbb_cells[i].input_prompt_number == nbb_cell_id) {\n",
       "                        if (nbb_cells[i].get_text() == nbb_unformatted_code) {\n",
       "                             nbb_cells[i].set_text(nbb_formatted_code);\n",
       "                        }\n",
       "                        break;\n",
       "                    }\n",
       "                }\n",
       "            }, 500);\n",
       "            "
      ],
      "text/plain": [
       "<IPython.core.display.Javascript object>"
      ]
     },
     "metadata": {},
     "output_type": "display_data"
    }
   ],
   "source": [
    "img_x_subset = slice(110, 230)\n",
    "img_y_subset = np.append(np.arange(1370, 1440), np.arange(0, 60))"
   ]
  },
  {
   "cell_type": "code",
   "execution_count": 5,
   "id": "7781895f",
   "metadata": {},
   "outputs": [
    {
     "data": {
      "application/javascript": [
       "\n",
       "            setTimeout(function() {\n",
       "                var nbb_cell_id = 5;\n",
       "                var nbb_unformatted_code = \"land_sea_mask_eu = land_sea_mask_global[img_x_subset, img_y_subset]\";\n",
       "                var nbb_formatted_code = \"land_sea_mask_eu = land_sea_mask_global[img_x_subset, img_y_subset]\";\n",
       "                var nbb_cells = Jupyter.notebook.get_cells();\n",
       "                for (var i = 0; i < nbb_cells.length; ++i) {\n",
       "                    if (nbb_cells[i].input_prompt_number == nbb_cell_id) {\n",
       "                        if (nbb_cells[i].get_text() == nbb_unformatted_code) {\n",
       "                             nbb_cells[i].set_text(nbb_formatted_code);\n",
       "                        }\n",
       "                        break;\n",
       "                    }\n",
       "                }\n",
       "            }, 500);\n",
       "            "
      ],
      "text/plain": [
       "<IPython.core.display.Javascript object>"
      ]
     },
     "metadata": {},
     "output_type": "display_data"
    }
   ],
   "source": [
    "land_sea_mask_eu = land_sea_mask_global[img_x_subset, img_y_subset]"
   ]
  },
  {
   "cell_type": "code",
   "execution_count": 14,
   "id": "df11de64",
   "metadata": {},
   "outputs": [
    {
     "data": {
      "application/javascript": [
       "\n",
       "            setTimeout(function() {\n",
       "                var nbb_cell_id = 14;\n",
       "                var nbb_unformatted_code = \"land_sea_mask_eu_dummy = np.round(land_sea_mask_eu)\";\n",
       "                var nbb_formatted_code = \"land_sea_mask_eu_dummy = np.round(land_sea_mask_eu)\";\n",
       "                var nbb_cells = Jupyter.notebook.get_cells();\n",
       "                for (var i = 0; i < nbb_cells.length; ++i) {\n",
       "                    if (nbb_cells[i].input_prompt_number == nbb_cell_id) {\n",
       "                        if (nbb_cells[i].get_text() == nbb_unformatted_code) {\n",
       "                             nbb_cells[i].set_text(nbb_formatted_code);\n",
       "                        }\n",
       "                        break;\n",
       "                    }\n",
       "                }\n",
       "            }, 500);\n",
       "            "
      ],
      "text/plain": [
       "<IPython.core.display.Javascript object>"
      ]
     },
     "metadata": {},
     "output_type": "display_data"
    }
   ],
   "source": [
    "land_sea_mask_eu_dummy = np.round(land_sea_mask_eu)"
   ]
  },
  {
   "cell_type": "code",
   "execution_count": 18,
   "id": "89d7a178",
   "metadata": {
    "scrolled": false
   },
   "outputs": [
    {
     "data": {
      "text/plain": [
       "<matplotlib.image.AxesImage at 0x7f104d0eff10>"
      ]
     },
     "execution_count": 18,
     "metadata": {},
     "output_type": "execute_result"
    },
    {
     "data": {
      "image/png": "[encoded data removed]",
      "text/plain": [
       "<Figure size 432x288 with 1 Axes>"
      ]
     },
     "metadata": {
      "needs_background": "light"
     },
     "output_type": "display_data"
    },
    {
     "data": {
      "application/javascript": [
       "\n",
       "            setTimeout(function() {\n",
       "                var nbb_cell_id = 18;\n",
       "                var nbb_unformatted_code = \"plt.imshow(land_sea_mask_eu_dummy)\";\n",
       "                var nbb_formatted_code = \"plt.imshow(land_sea_mask_eu_dummy)\";\n",
       "                var nbb_cells = Jupyter.notebook.get_cells();\n",
       "                for (var i = 0; i < nbb_cells.length; ++i) {\n",
       "                    if (nbb_cells[i].input_prompt_number == nbb_cell_id) {\n",
       "                        if (nbb_cells[i].get_text() == nbb_unformatted_code) {\n",
       "                             nbb_cells[i].set_text(nbb_formatted_code);\n",
       "                        }\n",
       "                        break;\n",
       "                    }\n",
       "                }\n",
       "            }, 500);\n",
       "            "
      ],
      "text/plain": [
       "<IPython.core.display.Javascript object>"
      ]
     },
     "metadata": {},
     "output_type": "display_data"
    }
   ],
   "source": [
    "plt.imshow(land_sea_mask_eu_dummy)"
   ]
  },
  {
   "cell_type": "code",
   "execution_count": 19,
   "id": "1289655f",
   "metadata": {},
   "outputs": [
    {
     "data": {
      "application/javascript": [
       "\n",
       "            setTimeout(function() {\n",
       "                var nbb_cell_id = 19;\n",
       "                var nbb_unformatted_code = \"np.save(\\\"/Data/Delong_BA_Data/land_sea_mask_dummy/land_sea_mask_dummy.npy\\\",land_sea_mask_eu_dummy)\";\n",
       "                var nbb_formatted_code = \"np.save(\\n    \\\"/Data/Delong_BA_Data/land_sea_mask_dummy/land_sea_mask_dummy.npy\\\",\\n    land_sea_mask_eu_dummy,\\n)\";\n",
       "                var nbb_cells = Jupyter.notebook.get_cells();\n",
       "                for (var i = 0; i < nbb_cells.length; ++i) {\n",
       "                    if (nbb_cells[i].input_prompt_number == nbb_cell_id) {\n",
       "                        if (nbb_cells[i].get_text() == nbb_unformatted_code) {\n",
       "                             nbb_cells[i].set_text(nbb_formatted_code);\n",
       "                        }\n",
       "                        break;\n",
       "                    }\n",
       "                }\n",
       "            }, 500);\n",
       "            "
      ],
      "text/plain": [
       "<IPython.core.display.Javascript object>"
      ]
     },
     "metadata": {},
     "output_type": "display_data"
    }
   ],
   "source": [
    "np.save(\n",
    "    \"/Data/Delong_BA_Data/land_sea_mask_dummy/land_sea_mask_dummy.npy\",\n",
    "    land_sea_mask_eu_dummy,\n",
    ")"
   ]
  }
 ],
 "metadata": {
  "kernelspec": {
   "display_name": "Python 3 (ipykernel)",
   "language": "python",
   "name": "python3"
  },
  "language_info": {
   "codemirror_mode": {
    "name": "ipython",
    "version": 3
   },
   "file_extension": ".py",
   "mimetype": "text/x-python",
   "name": "python",
   "nbconvert_exporter": "python",
   "pygments_lexer": "ipython3",
   "version": "3.9.7"
  }
 },
 "nbformat": 4,
 "nbformat_minor": 5
}
