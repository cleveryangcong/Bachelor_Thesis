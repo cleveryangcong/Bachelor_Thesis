{
 "cells": [
  {
   "cell_type": "code",
   "execution_count": 18,
   "id": "da87ff63",
   "metadata": {},
   "outputs": [
    {
     "name": "stdout",
     "output_type": "stream",
     "text": [
      "The nb_black extension is already loaded. To reload it, use:\n",
      "  %reload_ext nb_black\n"
     ]
    },
    {
     "data": {
      "application/javascript": [
       "\n",
       "            setTimeout(function() {\n",
       "                var nbb_cell_id = 18;\n",
       "                var nbb_unformatted_code = \"%load_ext nb_black\";\n",
       "                var nbb_formatted_code = \"%load_ext nb_black\";\n",
       "                var nbb_cells = Jupyter.notebook.get_cells();\n",
       "                for (var i = 0; i < nbb_cells.length; ++i) {\n",
       "                    if (nbb_cells[i].input_prompt_number == nbb_cell_id) {\n",
       "                        if (nbb_cells[i].get_text() == nbb_unformatted_code) {\n",
       "                             nbb_cells[i].set_text(nbb_formatted_code);\n",
       "                        }\n",
       "                        break;\n",
       "                    }\n",
       "                }\n",
       "            }, 500);\n",
       "            "
      ],
      "text/plain": [
       "<IPython.core.display.Javascript object>"
      ]
     },
     "metadata": {},
     "output_type": "display_data"
    }
   ],
   "source": [
    "%load_ext nb_black"
   ]
  },
  {
   "cell_type": "code",
   "execution_count": 19,
   "id": "1a7dc258",
   "metadata": {},
   "outputs": [
    {
     "data": {
      "application/javascript": [
       "\n",
       "            setTimeout(function() {\n",
       "                var nbb_cell_id = 19;\n",
       "                var nbb_unformatted_code = \"# Basics\\nimport tensorflow as tf\\nimport pandas as pd\\nimport xarray as xr\\n\\n# Helpful\\nfrom tqdm import tqdm\\n\\n# Visualization\\nimport matplotlib.pyplot as plt\\n\\n# My Methods\\nfrom src.utils.CRPS import *  # CRPS metrics\\nfrom src.utils.data_split import *  # Splitting data into X and y\\nfrom src.utils.drn_make_X_array import *  # Import make train array functions (make_X_array)\\nfrom src.models.EMOS import *  # EMOS implementation\\nfrom src.models.DRN.DRN_model import *  # DRN implementation\\nfrom src.models.DRN.DRN_load_score import *  # Load DRN_scores\\nfrom src.models.DRN.DRN_load_model import *  # Load Models\\nfrom src.models.DRN.DRN_train import *\\nfrom src.models.EMOS_local.EMOS_local_load_score import *  # Load EMOS_local_scores\\nfrom src.models.EMOS_global.EMOS_global_load_score import *  # Load EMOS_global_scores\\nfrom src.models.EMOS_global.EMOS_global_load_model import *  # Load EMOS_global_models#\\nimport data.raw.load_data_raw as ldr  # Load raw data\\nimport data.processed.load_data_processed as ldp  # Load processed data normed\\nimport data.processed.load_data_processed_denormed as ldpd  # Load processed data denormed\\nfrom src.models.CRPS_baseline.CRPS_load import *  # Load CRPS scores\";\n",
       "                var nbb_formatted_code = \"# Basics\\nimport tensorflow as tf\\nimport pandas as pd\\nimport xarray as xr\\n\\n# Helpful\\nfrom tqdm import tqdm\\n\\n# Visualization\\nimport matplotlib.pyplot as plt\\n\\n# My Methods\\nfrom src.utils.CRPS import *  # CRPS metrics\\nfrom src.utils.data_split import *  # Splitting data into X and y\\nfrom src.utils.drn_make_X_array import *  # Import make train array functions (make_X_array)\\nfrom src.models.EMOS import *  # EMOS implementation\\nfrom src.models.DRN.DRN_model import *  # DRN implementation\\nfrom src.models.DRN.DRN_load_score import *  # Load DRN_scores\\nfrom src.models.DRN.DRN_load_model import *  # Load Models\\nfrom src.models.DRN.DRN_train import *\\nfrom src.models.EMOS_local.EMOS_local_load_score import *  # Load EMOS_local_scores\\nfrom src.models.EMOS_global.EMOS_global_load_score import *  # Load EMOS_global_scores\\nfrom src.models.EMOS_global.EMOS_global_load_model import *  # Load EMOS_global_models#\\nimport data.raw.load_data_raw as ldr  # Load raw data\\nimport data.processed.load_data_processed as ldp  # Load processed data normed\\nimport data.processed.load_data_processed_denormed as ldpd  # Load processed data denormed\\nfrom src.models.CRPS_baseline.CRPS_load import *  # Load CRPS scores\";\n",
       "                var nbb_cells = Jupyter.notebook.get_cells();\n",
       "                for (var i = 0; i < nbb_cells.length; ++i) {\n",
       "                    if (nbb_cells[i].input_prompt_number == nbb_cell_id) {\n",
       "                        if (nbb_cells[i].get_text() == nbb_unformatted_code) {\n",
       "                             nbb_cells[i].set_text(nbb_formatted_code);\n",
       "                        }\n",
       "                        break;\n",
       "                    }\n",
       "                }\n",
       "            }, 500);\n",
       "            "
      ],
      "text/plain": [
       "<IPython.core.display.Javascript object>"
      ]
     },
     "metadata": {},
     "output_type": "display_data"
    }
   ],
   "source": [
    "# Basics\n",
    "import tensorflow as tf\n",
    "import pandas as pd\n",
    "import xarray as xr\n",
    "\n",
    "# Helpful\n",
    "from tqdm import tqdm\n",
    "\n",
    "# Visualization\n",
    "import matplotlib.pyplot as plt\n",
    "\n",
    "# My Methods\n",
    "from src.utils.CRPS import *  # CRPS metrics\n",
    "from src.utils.data_split import *  # Splitting data into X and y\n",
    "from src.utils.drn_make_X_array import *  # Import make train array functions (make_X_array)\n",
    "from src.models.EMOS import *  # EMOS implementation\n",
    "from src.models.DRN.DRN_model import *  # DRN implementation\n",
    "from src.models.DRN.DRN_load_score import *  # Load DRN_scores\n",
    "from src.models.DRN.DRN_load_model import *  # Load Models\n",
    "from src.models.DRN.DRN_train import *\n",
    "from src.models.EMOS_local.EMOS_local_load_score import *  # Load EMOS_local_scores\n",
    "from src.models.EMOS_global.EMOS_global_load_score import *  # Load EMOS_global_scores\n",
    "from src.models.EMOS_global.EMOS_global_load_model import *  # Load EMOS_global_models#\n",
    "import data.raw.load_data_raw as ldr  # Load raw data\n",
    "import data.processed.load_data_processed as ldp  # Load processed data normed\n",
    "import data.processed.load_data_processed_denormed as ldpd  # Load processed data denormed\n",
    "from src.models.CRPS_baseline.CRPS_load import *  # Load CRPS scores"
   ]
  },
  {
   "cell_type": "markdown",
   "id": "a9870964",
   "metadata": {},
   "source": [
    "### 1. Load train-test_data"
   ]
  },
  {
   "cell_type": "code",
   "execution_count": 20,
   "id": "ace03925",
   "metadata": {},
   "outputs": [
    {
     "data": {
      "application/javascript": [
       "\n",
       "            setTimeout(function() {\n",
       "                var nbb_cell_id = 20;\n",
       "                var nbb_unformatted_code = \"lead_time = 0\\nvar_num = 5\";\n",
       "                var nbb_formatted_code = \"lead_time = 0\\nvar_num = 5\";\n",
       "                var nbb_cells = Jupyter.notebook.get_cells();\n",
       "                for (var i = 0; i < nbb_cells.length; ++i) {\n",
       "                    if (nbb_cells[i].input_prompt_number == nbb_cell_id) {\n",
       "                        if (nbb_cells[i].get_text() == nbb_unformatted_code) {\n",
       "                             nbb_cells[i].set_text(nbb_formatted_code);\n",
       "                        }\n",
       "                        break;\n",
       "                    }\n",
       "                }\n",
       "            }, 500);\n",
       "            "
      ],
      "text/plain": [
       "<IPython.core.display.Javascript object>"
      ]
     },
     "metadata": {},
     "output_type": "display_data"
    }
   ],
   "source": [
    "lead_time = 0\n",
    "var_num = 5"
   ]
  },
  {
   "cell_type": "code",
   "execution_count": 21,
   "id": "3263bf26",
   "metadata": {},
   "outputs": [
    {
     "data": {
      "application/javascript": [
       "\n",
       "            setTimeout(function() {\n",
       "                var nbb_cell_id = 21;\n",
       "                var nbb_unformatted_code = \"# Load all training data of each variable\\ntrain_var_denormed, val_var_denormed = ldpd.load_data_all_train_val_proc_denorm()\\n\\n# Split the loaded data into features (X) and target (y)\\n# also adjusts for lead_time\\ndat_X_train_lead_all_denorm, dat_y_train_lead_all_denorm = split_var_lead(\\n    train_var_denormed\\n)\\n\\n# Split the loaded data into features (X) and target (y)\\n# also adjusts for lead_time\\ndat_X_val_lead_all_denorm, dat_y_val_lead_all_denorm = split_var_lead(val_var_denormed)\\n\\n# Preprocess the features for Neural Network and scale them\\ndrn_X_train_lead_array, drn_embedding_train_lead_array = make_X_array(\\n    dat_X_train_lead_all_denorm, lead_time\\n)\\n\\n# Preprocess the features for Neural Network and scale them\\ndrn_X_val_lead_array, drn_embedding_val_lead_array = make_X_array(\\n    dat_X_val_lead_all_denorm, lead_time\\n)\\n\\n# Reshape target values into a 1D array\\nt2m_y_train = dat_y_train_lead_all_denorm[var_num][lead_time].values.flatten()\\n\\n\\n# Reshape target values into a 1D array\\nt2m_y_val = dat_y_val_lead_all_denorm[var_num][lead_time].values.flatten()\\n\\n# load test data\\ntest_var_denormed = ldpd.load_data_all_test_proc_denorm()\\ndat_X_test_lead_all_denorm, dat_y_test_lead_all_denorm = split_var_lead(\\n    test_var_denormed\\n)\\ndrn_X_test_lead_array, drn_embedding_test_lead_array = make_X_array(\\n    dat_X_test_lead_all_denorm, 0\\n)\\n# Reshape target values into a 1D array\\nt2m_y_test = dat_y_test_lead_all_denorm[5][0].values.flatten()\";\n",
       "                var nbb_formatted_code = \"# Load all training data of each variable\\ntrain_var_denormed, val_var_denormed = ldpd.load_data_all_train_val_proc_denorm()\\n\\n# Split the loaded data into features (X) and target (y)\\n# also adjusts for lead_time\\ndat_X_train_lead_all_denorm, dat_y_train_lead_all_denorm = split_var_lead(\\n    train_var_denormed\\n)\\n\\n# Split the loaded data into features (X) and target (y)\\n# also adjusts for lead_time\\ndat_X_val_lead_all_denorm, dat_y_val_lead_all_denorm = split_var_lead(val_var_denormed)\\n\\n# Preprocess the features for Neural Network and scale them\\ndrn_X_train_lead_array, drn_embedding_train_lead_array = make_X_array(\\n    dat_X_train_lead_all_denorm, lead_time\\n)\\n\\n# Preprocess the features for Neural Network and scale them\\ndrn_X_val_lead_array, drn_embedding_val_lead_array = make_X_array(\\n    dat_X_val_lead_all_denorm, lead_time\\n)\\n\\n# Reshape target values into a 1D array\\nt2m_y_train = dat_y_train_lead_all_denorm[var_num][lead_time].values.flatten()\\n\\n\\n# Reshape target values into a 1D array\\nt2m_y_val = dat_y_val_lead_all_denorm[var_num][lead_time].values.flatten()\\n\\n# load test data\\ntest_var_denormed = ldpd.load_data_all_test_proc_denorm()\\ndat_X_test_lead_all_denorm, dat_y_test_lead_all_denorm = split_var_lead(\\n    test_var_denormed\\n)\\ndrn_X_test_lead_array, drn_embedding_test_lead_array = make_X_array(\\n    dat_X_test_lead_all_denorm, 0\\n)\\n# Reshape target values into a 1D array\\nt2m_y_test = dat_y_test_lead_all_denorm[5][0].values.flatten()\";\n",
       "                var nbb_cells = Jupyter.notebook.get_cells();\n",
       "                for (var i = 0; i < nbb_cells.length; ++i) {\n",
       "                    if (nbb_cells[i].input_prompt_number == nbb_cell_id) {\n",
       "                        if (nbb_cells[i].get_text() == nbb_unformatted_code) {\n",
       "                             nbb_cells[i].set_text(nbb_formatted_code);\n",
       "                        }\n",
       "                        break;\n",
       "                    }\n",
       "                }\n",
       "            }, 500);\n",
       "            "
      ],
      "text/plain": [
       "<IPython.core.display.Javascript object>"
      ]
     },
     "metadata": {},
     "output_type": "display_data"
    }
   ],
   "source": [
    "# Load all training data of each variable\n",
    "train_var_denormed, val_var_denormed = ldpd.load_data_all_train_val_proc_denorm()\n",
    "\n",
    "# Split the loaded data into features (X) and target (y)\n",
    "# also adjusts for lead_time\n",
    "dat_X_train_lead_all_denorm, dat_y_train_lead_all_denorm = split_var_lead(\n",
    "    train_var_denormed\n",
    ")\n",
    "\n",
    "# Split the loaded data into features (X) and target (y)\n",
    "# also adjusts for lead_time\n",
    "dat_X_val_lead_all_denorm, dat_y_val_lead_all_denorm = split_var_lead(val_var_denormed)\n",
    "\n",
    "# Preprocess the features for Neural Network and scale them\n",
    "drn_X_train_lead_array, drn_embedding_train_lead_array = make_X_array(\n",
    "    dat_X_train_lead_all_denorm, lead_time\n",
    ")\n",
    "\n",
    "# Preprocess the features for Neural Network and scale them\n",
    "drn_X_val_lead_array, drn_embedding_val_lead_array = make_X_array(\n",
    "    dat_X_val_lead_all_denorm, lead_time\n",
    ")\n",
    "\n",
    "# Reshape target values into a 1D array\n",
    "t2m_y_train = dat_y_train_lead_all_denorm[var_num][lead_time].values.flatten()\n",
    "\n",
    "\n",
    "# Reshape target values into a 1D array\n",
    "t2m_y_val = dat_y_val_lead_all_denorm[var_num][lead_time].values.flatten()\n",
    "\n",
    "# load test data\n",
    "test_var_denormed = ldpd.load_data_all_test_proc_denorm()\n",
    "dat_X_test_lead_all_denorm, dat_y_test_lead_all_denorm = split_var_lead(\n",
    "    test_var_denormed\n",
    ")\n",
    "drn_X_test_lead_array, drn_embedding_test_lead_array = make_X_array(\n",
    "    dat_X_test_lead_all_denorm, 0\n",
    ")\n",
    "# Reshape target values into a 1D array\n",
    "t2m_y_test = dat_y_test_lead_all_denorm[5][0].values.flatten()"
   ]
  },
  {
   "cell_type": "markdown",
   "id": "92bddca8",
   "metadata": {},
   "source": [
    "### 2. Try train model:"
   ]
  },
  {
   "cell_type": "code",
   "execution_count": 22,
   "id": "e181dfc1",
   "metadata": {},
   "outputs": [
    {
     "name": "stdout",
     "output_type": "stream",
     "text": [
      "Epoch 1/5\n",
      "4083/4083 [==============================] - ETA: 0s - loss: 0.7029WARNING:tensorflow:Early stopping conditioned on metric `val_loss` which is not available. Available metrics are: loss\n",
      "4083/4083 [==============================] - 43s 10ms/step - loss: 0.7029\n",
      "Epoch 2/5\n",
      "4079/4083 [============================>.] - ETA: 0s - loss: 0.4977WARNING:tensorflow:Early stopping conditioned on metric `val_loss` which is not available. Available metrics are: loss\n",
      "4083/4083 [==============================] - 42s 10ms/step - loss: 0.4976\n",
      "Epoch 3/5\n",
      "4079/4083 [============================>.] - ETA: 0s - loss: 0.4289WARNING:tensorflow:Early stopping conditioned on metric `val_loss` which is not available. Available metrics are: loss\n",
      "4083/4083 [==============================] - 42s 10ms/step - loss: 0.4289\n",
      "Epoch 4/5\n",
      "4082/4083 [============================>.] - ETA: 0s - loss: 0.4172WARNING:tensorflow:Early stopping conditioned on metric `val_loss` which is not available. Available metrics are: loss\n",
      "4083/4083 [==============================] - 42s 10ms/step - loss: 0.4172\n",
      "Epoch 5/5\n",
      "4082/4083 [============================>.] - ETA: 0s - loss: 0.4126WARNING:tensorflow:Early stopping conditioned on metric `val_loss` which is not available. Available metrics are: loss\n",
      "4083/4083 [==============================] - 42s 10ms/step - loss: 0.4126\n"
     ]
    },
    {
     "data": {
      "application/javascript": [
       "\n",
       "            setTimeout(function() {\n",
       "                var nbb_cell_id = 22;\n",
       "                var nbb_unformatted_code = \"DRN_0_model_test = DRN_train(\\n    5,\\n    0,\\n    hidden_layer=[1024],\\n    emb_size=10,\\n    batch_size=4096,\\n    epochs=5,\\n    lr=0.001,\\n    save=False,\\n    validation_split=0,\\n)\";\n",
       "                var nbb_formatted_code = \"DRN_0_model_test = DRN_train(\\n    5,\\n    0,\\n    hidden_layer=[1024],\\n    emb_size=10,\\n    batch_size=4096,\\n    epochs=5,\\n    lr=0.001,\\n    save=False,\\n    validation_split=0,\\n)\";\n",
       "                var nbb_cells = Jupyter.notebook.get_cells();\n",
       "                for (var i = 0; i < nbb_cells.length; ++i) {\n",
       "                    if (nbb_cells[i].input_prompt_number == nbb_cell_id) {\n",
       "                        if (nbb_cells[i].get_text() == nbb_unformatted_code) {\n",
       "                             nbb_cells[i].set_text(nbb_formatted_code);\n",
       "                        }\n",
       "                        break;\n",
       "                    }\n",
       "                }\n",
       "            }, 500);\n",
       "            "
      ],
      "text/plain": [
       "<IPython.core.display.Javascript object>"
      ]
     },
     "metadata": {},
     "output_type": "display_data"
    }
   ],
   "source": [
    "DRN_0_model_test = DRN_train(\n",
    "    5,\n",
    "    0,\n",
    "    hidden_layer=[1024],\n",
    "    emb_size=10,\n",
    "    batch_size=4096,\n",
    "    epochs=5,\n",
    "    lr=0.001,\n",
    "    save=False,\n",
    "    validation_split=0,\n",
    ")"
   ]
  },
  {
   "cell_type": "code",
   "execution_count": 11,
   "id": "b3bc3e71",
   "metadata": {},
   "outputs": [
    {
     "name": "stdout",
     "output_type": "stream",
     "text": [
      "174038/174038 [==============================] - 220s 1ms/step - loss: 0.4251\n"
     ]
    },
    {
     "data": {
      "application/javascript": [
       "\n",
       "            setTimeout(function() {\n",
       "                var nbb_cell_id = 11;\n",
       "                var nbb_unformatted_code = \"# Evaluate\\nDRN_0_test_score = DRN_0_model_test.evaluate(\\n    [drn_X_val_lead_array, drn_embedding_val_lead_array], t2m_y_val\\n)\";\n",
       "                var nbb_formatted_code = \"# Evaluate\\nDRN_0_test_score = DRN_0_model_test.evaluate(\\n    [drn_X_val_lead_array, drn_embedding_val_lead_array], t2m_y_val\\n)\";\n",
       "                var nbb_cells = Jupyter.notebook.get_cells();\n",
       "                for (var i = 0; i < nbb_cells.length; ++i) {\n",
       "                    if (nbb_cells[i].input_prompt_number == nbb_cell_id) {\n",
       "                        if (nbb_cells[i].get_text() == nbb_unformatted_code) {\n",
       "                             nbb_cells[i].set_text(nbb_formatted_code);\n",
       "                        }\n",
       "                        break;\n",
       "                    }\n",
       "                }\n",
       "            }, 500);\n",
       "            "
      ],
      "text/plain": [
       "<IPython.core.display.Javascript object>"
      ]
     },
     "metadata": {},
     "output_type": "display_data"
    }
   ],
   "source": [
    "# Evaluate\n",
    "DRN_0_test_score = DRN_0_model_test.evaluate(\n",
    "    [drn_X_val_lead_array, drn_embedding_val_lead_array], t2m_y_val\n",
    ")"
   ]
  },
  {
   "cell_type": "code",
   "execution_count": 13,
   "id": "5b756e58",
   "metadata": {
    "scrolled": true
   },
   "outputs": [
    {
     "name": "stdout",
     "output_type": "stream",
     "text": [
      "174038/174038 [==============================] - 220s 1ms/step - loss: 0.6160\n"
     ]
    },
    {
     "data": {
      "application/javascript": [
       "\n",
       "            setTimeout(function() {\n",
       "                var nbb_cell_id = 13;\n",
       "                var nbb_unformatted_code = \"# Evaluate\\nDRN_0_test_score = DRN_0_model_test.evaluate(\\n    [drn_X_test_lead_array, drn_embedding_test_lead_array], t2m_y_test\\n)\";\n",
       "                var nbb_formatted_code = \"# Evaluate\\nDRN_0_test_score = DRN_0_model_test.evaluate(\\n    [drn_X_test_lead_array, drn_embedding_test_lead_array], t2m_y_test\\n)\";\n",
       "                var nbb_cells = Jupyter.notebook.get_cells();\n",
       "                for (var i = 0; i < nbb_cells.length; ++i) {\n",
       "                    if (nbb_cells[i].input_prompt_number == nbb_cell_id) {\n",
       "                        if (nbb_cells[i].get_text() == nbb_unformatted_code) {\n",
       "                             nbb_cells[i].set_text(nbb_formatted_code);\n",
       "                        }\n",
       "                        break;\n",
       "                    }\n",
       "                }\n",
       "            }, 500);\n",
       "            "
      ],
      "text/plain": [
       "<IPython.core.display.Javascript object>"
      ]
     },
     "metadata": {},
     "output_type": "display_data"
    }
   ],
   "source": [
    "# Evaluate\n",
    "DRN_0_test_score = DRN_0_model_test.evaluate(\n",
    "    [drn_X_test_lead_array, drn_embedding_test_lead_array], t2m_y_test\n",
    ")"
   ]
  }
 ],
 "metadata": {
  "kernelspec": {
   "display_name": "Python 3 (ipykernel)",
   "language": "python",
   "name": "python3"
  },
  "language_info": {
   "codemirror_mode": {
    "name": "ipython",
    "version": 3
   },
   "file_extension": ".py",
   "mimetype": "text/x-python",
   "name": "python",
   "nbconvert_exporter": "python",
   "pygments_lexer": "ipython3",
   "version": "3.9.7"
  }
 },
 "nbformat": 4,
 "nbformat_minor": 5
}
