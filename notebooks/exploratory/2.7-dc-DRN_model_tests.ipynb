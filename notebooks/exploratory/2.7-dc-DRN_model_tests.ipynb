{
 "cells": [
  {
   "cell_type": "code",
   "execution_count": 1,
   "id": "c60c5dd9",
   "metadata": {},
   "outputs": [
    {
     "data": {
      "application/javascript": [
       "\n",
       "            setTimeout(function() {\n",
       "                var nbb_cell_id = 1;\n",
       "                var nbb_unformatted_code = \"%load_ext nb_black\";\n",
       "                var nbb_formatted_code = \"%load_ext nb_black\";\n",
       "                var nbb_cells = Jupyter.notebook.get_cells();\n",
       "                for (var i = 0; i < nbb_cells.length; ++i) {\n",
       "                    if (nbb_cells[i].input_prompt_number == nbb_cell_id) {\n",
       "                        if (nbb_cells[i].get_text() == nbb_unformatted_code) {\n",
       "                             nbb_cells[i].set_text(nbb_formatted_code);\n",
       "                        }\n",
       "                        break;\n",
       "                    }\n",
       "                }\n",
       "            }, 500);\n",
       "            "
      ],
      "text/plain": [
       "<IPython.core.display.Javascript object>"
      ]
     },
     "metadata": {},
     "output_type": "display_data"
    }
   ],
   "source": [
    "%load_ext nb_black"
   ]
  },
  {
   "cell_type": "code",
   "execution_count": null,
   "id": "0e87c52f",
   "metadata": {},
   "outputs": [
    {
     "name": "stderr",
     "output_type": "stream",
     "text": [
      "2023-06-10 16:51:16.739238: W tensorflow/stream_executor/platform/default/dso_loader.cc:64] Could not load dynamic library 'libcudart.so.11.0'; dlerror: libcudart.so.11.0: cannot open shared object file: No such file or directory; LD_LIBRARY_PATH: :/opt/anaconda3/lib/\n",
      "2023-06-10 16:51:16.739261: I tensorflow/stream_executor/cuda/cudart_stub.cc:29] Ignore above cudart dlerror if you do not have a GPU set up on your machine.\n"
     ]
    }
   ],
   "source": [
    "# Basics\n",
    "import tensorflow as tf\n",
    "import pandas as pd\n",
    "import xarray as xr\n",
    "\n",
    "# Helpful\n",
    "from tqdm import tqdm\n",
    "\n",
    "# Visualization\n",
    "import matplotlib.pyplot as plt\n",
    "\n",
    "# My Methods\n",
    "from src.utils.CRPS import *  # CRPS metrics\n",
    "from src.utils.data_split import *  # Splitting data into X and y\n",
    "from src.utils.drn_make_X_array import *  # Import make train array functions (make_X_array)\n",
    "from src.models.EMOS import *  # EMOS implementation\n",
    "from src.models.DRN.DRN_model import *  # DRN implementation\n",
    "from src.models.DRN.DRN_load_score import *  # Load DRN_scores\n",
    "from src.models.DRN.DRN_load_model import *  # Load Models\n",
    "from src.models.DRN.DRN_train import *\n",
    "from src.models.EMOS_local.EMOS_local_load_score import *  # Load EMOS_local_scores\n",
    "from src.models.EMOS_global.EMOS_global_load_score import *  # Load EMOS_global_scores\n",
    "from src.models.EMOS_global.EMOS_global_load_model import *  # Load EMOS_global_models#\n",
    "import data.raw.load_data_raw as ldr  # Load raw data\n",
    "import data.processed.load_data_processed as ldp  # Load processed data normed\n",
    "import data.processed.load_data_processed_denormed as ldpd  # Load processed data denormed\n",
    "from src.models.CRPS_baseline.CRPS_load import *  # Load CRPS scores"
   ]
  },
  {
   "cell_type": "markdown",
   "id": "dc2d613d",
   "metadata": {},
   "source": [
    "### 1. Load train-test_data"
   ]
  },
  {
   "cell_type": "code",
   "execution_count": null,
   "id": "dcbec085",
   "metadata": {},
   "outputs": [],
   "source": [
    "# load train and test data\n",
    "train_var_denormed = ldpd.load_data_all_train_proc_denorm()\n",
    "dat_X_train_lead_all_denorm, dat_y_train_lead_all_denorm = split_var_lead(\n",
    "    train_var_denormed\n",
    ")\n",
    "drn_X_train_lead_array, drn_embedding_train_lead_array = make_X_array(\n",
    "    dat_X_train_lead_all_denorm, 0\n",
    ")\n",
    "# Reshape target values into a 1D array\n",
    "t2m_y_train = dat_y_train_lead_all_denorm[5][0].values.flatten()\n",
    "\n",
    "# load test data\n",
    "test_var_denormed = ldpd.load_data_all_test_proc_denorm()\n",
    "dat_X_test_lead_all_denorm, dat_y_test_lead_all_denorm = split_var_lead(\n",
    "    test_var_denormed\n",
    ")\n",
    "drn_X_test_lead_array, drn_embedding_test_lead_array = make_X_array(\n",
    "    dat_X_test_lead_all_denorm, 0\n",
    ")\n",
    "# Reshape target values into a 1D array\n",
    "t2m_y_test = dat_y_test_lead_all_denorm[5][0].values.flatten()\n"
   ]
  },
  {
   "cell_type": "code",
   "execution_count": null,
   "id": "ca011248",
   "metadata": {},
   "outputs": [],
   "source": [
    "# Load trained models\n",
    "DRN_ws10_models = DRN_load_model(\"ws10\")"
   ]
  },
  {
   "cell_type": "markdown",
   "id": "c5a1d0c8",
   "metadata": {},
   "source": [
    "### 2. Try train model:"
   ]
  },
  {
   "cell_type": "code",
   "execution_count": null,
   "id": "e558eb21",
   "metadata": {},
   "outputs": [],
   "source": [
    "DRN_0_model_test = DRN_train(\n",
    "    5,\n",
    "    0,\n",
    "    hidden_layer=[1024],\n",
    "    emb_size=10,\n",
    "    batch_size=2048,\n",
    "    epochs=1,\n",
    "    lr=0.001,\n",
    "    save=False,\n",
    ")"
   ]
  },
  {
   "cell_type": "code",
   "execution_count": null,
   "id": "e7c19870",
   "metadata": {},
   "outputs": [],
   "source": [
    "# Evaluate\n",
    "DRN_0_test_score = DRN_0_model_test.evaluate(\n",
    "    [drn_X_test_lead_array, drn_embedding_test_lead_array], t2m_y_test\n",
    ")"
   ]
  }
 ],
 "metadata": {
  "kernelspec": {
   "display_name": "Python 3 (ipykernel)",
   "language": "python",
   "name": "python3"
  },
  "language_info": {
   "codemirror_mode": {
    "name": "ipython",
    "version": 3
   },
   "file_extension": ".py",
   "mimetype": "text/x-python",
   "name": "python",
   "nbconvert_exporter": "python",
   "pygments_lexer": "ipython3",
   "version": "3.9.7"
  }
 },
 "nbformat": 4,
 "nbformat_minor": 5
}
