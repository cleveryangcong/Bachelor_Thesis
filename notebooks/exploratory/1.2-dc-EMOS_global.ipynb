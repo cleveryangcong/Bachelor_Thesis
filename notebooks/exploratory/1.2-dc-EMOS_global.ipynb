{
 "cells": [
  {
   "cell_type": "code",
   "execution_count": 5,
   "id": "6ff13e78",
   "metadata": {},
   "outputs": [
    {
     "name": "stdout",
     "output_type": "stream",
     "text": [
      "The nb_black extension is already loaded. To reload it, use:\n",
      "  %reload_ext nb_black\n"
     ]
    },
    {
     "data": {
      "application/javascript": [
       "\n",
       "            setTimeout(function() {\n",
       "                var nbb_cell_id = 5;\n",
       "                var nbb_unformatted_code = \"%load_ext nb_black\";\n",
       "                var nbb_formatted_code = \"%load_ext nb_black\";\n",
       "                var nbb_cells = Jupyter.notebook.get_cells();\n",
       "                for (var i = 0; i < nbb_cells.length; ++i) {\n",
       "                    if (nbb_cells[i].input_prompt_number == nbb_cell_id) {\n",
       "                        if (nbb_cells[i].get_text() == nbb_unformatted_code) {\n",
       "                             nbb_cells[i].set_text(nbb_formatted_code);\n",
       "                        }\n",
       "                        break;\n",
       "                    }\n",
       "                }\n",
       "            }, 500);\n",
       "            "
      ],
      "text/plain": [
       "<IPython.core.display.Javascript object>"
      ]
     },
     "metadata": {},
     "output_type": "display_data"
    }
   ],
   "source": [
    "%load_ext nb_black"
   ]
  },
  {
   "cell_type": "code",
   "execution_count": 82,
   "id": "71b97ae5",
   "metadata": {},
   "outputs": [
    {
     "data": {
      "application/javascript": [
       "\n",
       "            setTimeout(function() {\n",
       "                var nbb_cell_id = 82;\n",
       "                var nbb_unformatted_code = \"# Basics\\nimport pandas as pd\\nimport numpy as np\\nimport matplotlib.pyplot as plt\\n\\n# Data\\nimport xarray as xr\\nimport h5py\\n\\n# Helpful\\nimport time\\nimport datetime\\nimport itertools\\nfrom itertools import product\\n\\n# My Methods\\nimport importlib\\nfrom src.utils.CRPS import *\\nfrom src.utils.data_split import *\\nfrom src.models.EMOS import *\\nimport data.raw.load_data_raw as ldr\\nimport data.processed.load_data_processed as ldp\";\n",
       "                var nbb_formatted_code = \"# Basics\\nimport pandas as pd\\nimport numpy as np\\nimport matplotlib.pyplot as plt\\n\\n# Data\\nimport xarray as xr\\nimport h5py\\n\\n# Helpful\\nimport time\\nimport datetime\\nimport itertools\\nfrom itertools import product\\n\\n# My Methods\\nimport importlib\\nfrom src.utils.CRPS import *\\nfrom src.utils.data_split import *\\nfrom src.models.EMOS import *\\nimport data.raw.load_data_raw as ldr\\nimport data.processed.load_data_processed as ldp\";\n",
       "                var nbb_cells = Jupyter.notebook.get_cells();\n",
       "                for (var i = 0; i < nbb_cells.length; ++i) {\n",
       "                    if (nbb_cells[i].input_prompt_number == nbb_cell_id) {\n",
       "                        if (nbb_cells[i].get_text() == nbb_unformatted_code) {\n",
       "                             nbb_cells[i].set_text(nbb_formatted_code);\n",
       "                        }\n",
       "                        break;\n",
       "                    }\n",
       "                }\n",
       "            }, 500);\n",
       "            "
      ],
      "text/plain": [
       "<IPython.core.display.Javascript object>"
      ]
     },
     "metadata": {},
     "output_type": "display_data"
    }
   ],
   "source": [
    "# Basics\n",
    "import pandas as pd\n",
    "import numpy as np\n",
    "import matplotlib.pyplot as plt\n",
    "\n",
    "# Data\n",
    "import xarray as xr\n",
    "import h5py\n",
    "\n",
    "# Helpful\n",
    "import time\n",
    "import datetime\n",
    "import itertools\n",
    "from itertools import product\n",
    "\n",
    "# My Methods\n",
    "import importlib\n",
    "from src.utils.CRPS import *\n",
    "from src.utils.data_split import *\n",
    "from src.models.EMOS import *\n",
    "import data.raw.load_data_raw as ldr\n",
    "import data.processed.load_data_processed as ldp"
   ]
  },
  {
   "cell_type": "markdown",
   "id": "e1ad4b7a",
   "metadata": {},
   "source": [
    "### Goal of this notebook: Train EMOS global\n",
    "1. Train one EMOS model globally on the whole grid for each lead time (1...31) and variable(0...4) total 155 Models"
   ]
  },
  {
   "cell_type": "markdown",
   "id": "60ca0772",
   "metadata": {},
   "source": [
    "#### 0. Basics"
   ]
  },
  {
   "cell_type": "code",
   "execution_count": 16,
   "id": "7695cb2f",
   "metadata": {},
   "outputs": [
    {
     "data": {
      "application/javascript": [
       "\n",
       "            setTimeout(function() {\n",
       "                var nbb_cell_id = 16;\n",
       "                var nbb_unformatted_code = \"var_names = [\\\"u10\\\", \\\"v10\\\", \\\"t2m\\\", \\\"t850\\\", \\\"z500\\\"]\";\n",
       "                var nbb_formatted_code = \"var_names = [\\\"u10\\\", \\\"v10\\\", \\\"t2m\\\", \\\"t850\\\", \\\"z500\\\"]\";\n",
       "                var nbb_cells = Jupyter.notebook.get_cells();\n",
       "                for (var i = 0; i < nbb_cells.length; ++i) {\n",
       "                    if (nbb_cells[i].input_prompt_number == nbb_cell_id) {\n",
       "                        if (nbb_cells[i].get_text() == nbb_unformatted_code) {\n",
       "                             nbb_cells[i].set_text(nbb_formatted_code);\n",
       "                        }\n",
       "                        break;\n",
       "                    }\n",
       "                }\n",
       "            }, 500);\n",
       "            "
      ],
      "text/plain": [
       "<IPython.core.display.Javascript object>"
      ]
     },
     "metadata": {},
     "output_type": "display_data"
    }
   ],
   "source": [
    "var_names = [\"u10\", \"v10\", \"t2m\", \"t850\", \"z500\"]"
   ]
  },
  {
   "cell_type": "code",
   "execution_count": 85,
   "id": "0390f469",
   "metadata": {},
   "outputs": [
    {
     "data": {
      "application/javascript": [
       "\n",
       "            setTimeout(function() {\n",
       "                var nbb_cell_id = 85;\n",
       "                var nbb_unformatted_code = \"# Variable to make testing easier --> determines lead_time\\nlead_time = 0\";\n",
       "                var nbb_formatted_code = \"# Variable to make testing easier --> determines lead_time\\nlead_time = 0\";\n",
       "                var nbb_cells = Jupyter.notebook.get_cells();\n",
       "                for (var i = 0; i < nbb_cells.length; ++i) {\n",
       "                    if (nbb_cells[i].input_prompt_number == nbb_cell_id) {\n",
       "                        if (nbb_cells[i].get_text() == nbb_unformatted_code) {\n",
       "                             nbb_cells[i].set_text(nbb_formatted_code);\n",
       "                        }\n",
       "                        break;\n",
       "                    }\n",
       "                }\n",
       "            }, 500);\n",
       "            "
      ],
      "text/plain": [
       "<IPython.core.display.Javascript object>"
      ]
     },
     "metadata": {},
     "output_type": "display_data"
    }
   ],
   "source": [
    "# Variables to make testing easier --> determines variable and lead_time\n",
    "var = 0 # 0,...,4\n",
    "lead_time = 0 # 0,...,30"
   ]
  },
  {
   "cell_type": "markdown",
   "id": "7d5a21a4",
   "metadata": {},
   "source": [
    "#### 1. Load Dataset"
   ]
  },
  {
   "cell_type": "code",
   "execution_count": 13,
   "id": "ab502662",
   "metadata": {},
   "outputs": [
    {
     "data": {
      "application/javascript": [
       "\n",
       "            setTimeout(function() {\n",
       "                var nbb_cell_id = 13;\n",
       "                var nbb_unformatted_code = \"dat_train_proc = ldp.load_data_all_train_proc_norm()\\ndat_test_proc = ldp.load_data_all_test_proc_norm()\";\n",
       "                var nbb_formatted_code = \"dat_train_proc = ldp.load_data_all_train_proc_norm()\\ndat_test_proc = ldp.load_data_all_test_proc_norm()\";\n",
       "                var nbb_cells = Jupyter.notebook.get_cells();\n",
       "                for (var i = 0; i < nbb_cells.length; ++i) {\n",
       "                    if (nbb_cells[i].input_prompt_number == nbb_cell_id) {\n",
       "                        if (nbb_cells[i].get_text() == nbb_unformatted_code) {\n",
       "                             nbb_cells[i].set_text(nbb_formatted_code);\n",
       "                        }\n",
       "                        break;\n",
       "                    }\n",
       "                }\n",
       "            }, 500);\n",
       "            "
      ],
      "text/plain": [
       "<IPython.core.display.Javascript object>"
      ]
     },
     "metadata": {},
     "output_type": "display_data"
    }
   ],
   "source": [
    "dat_train_proc = ldp.load_data_all_train_proc_norm()\n",
    "dat_test_proc = ldp.load_data_all_test_proc_norm()"
   ]
  },
  {
   "cell_type": "markdown",
   "id": "f68a40c0",
   "metadata": {},
   "source": [
    "#### 2. Data Split"
   ]
  },
  {
   "cell_type": "code",
   "execution_count": 83,
   "id": "5700359d",
   "metadata": {},
   "outputs": [
    {
     "data": {
      "application/javascript": [
       "\n",
       "            setTimeout(function() {\n",
       "                var nbb_cell_id = 83;\n",
       "                var nbb_unformatted_code = \"X_train_var_lead_all, y_train_var_lead_all = split_var_lead(dat_train_proc)\\nX_test_lead_all, y_test_var_lead_all = split_var_lead(dat_test_proc)\";\n",
       "                var nbb_formatted_code = \"X_train_var_lead_all, y_train_var_lead_all = split_var_lead(dat_train_proc)\\nX_test_lead_all, y_test_var_lead_all = split_var_lead(dat_test_proc)\";\n",
       "                var nbb_cells = Jupyter.notebook.get_cells();\n",
       "                for (var i = 0; i < nbb_cells.length; ++i) {\n",
       "                    if (nbb_cells[i].input_prompt_number == nbb_cell_id) {\n",
       "                        if (nbb_cells[i].get_text() == nbb_unformatted_code) {\n",
       "                             nbb_cells[i].set_text(nbb_formatted_code);\n",
       "                        }\n",
       "                        break;\n",
       "                    }\n",
       "                }\n",
       "            }, 500);\n",
       "            "
      ],
      "text/plain": [
       "<IPython.core.display.Javascript object>"
      ]
     },
     "metadata": {},
     "output_type": "display_data"
    }
   ],
   "source": [
    "X_train_var_lead_all, y_train_var_lead_all = split_var_lead(dat_train_proc)\n",
    "X_test_lead_all, y_test_var_lead_all = split_var_lead(dat_test_proc)"
   ]
  },
  {
   "cell_type": "markdown",
   "id": "6694624f",
   "metadata": {},
   "source": [
    "#### 3. Baseline"
   ]
  },
  {
   "cell_type": "code",
   "execution_count": 92,
   "id": "d97d1013",
   "metadata": {},
   "outputs": [
    {
     "data": {
      "application/javascript": [
       "\n",
       "            setTimeout(function() {\n",
       "                var nbb_cell_id = 92;\n",
       "                var nbb_unformatted_code = \"crps_baseline = crps_normal(\\n    mu=X_test_lead_all[var][lead_time].isel(mean_std=0).values,\\n    sigma=X_test_lead_all[var][lead_time].isel(mean_std=1).values,\\n    y=y_test_var_lead_all[var][lead_time].values,\\n)\";\n",
       "                var nbb_formatted_code = \"crps_baseline = crps_normal(\\n    mu=X_test_lead_all[var][lead_time].isel(mean_std=0).values,\\n    sigma=X_test_lead_all[var][lead_time].isel(mean_std=1).values,\\n    y=y_test_var_lead_all[var][lead_time].values,\\n)\";\n",
       "                var nbb_cells = Jupyter.notebook.get_cells();\n",
       "                for (var i = 0; i < nbb_cells.length; ++i) {\n",
       "                    if (nbb_cells[i].input_prompt_number == nbb_cell_id) {\n",
       "                        if (nbb_cells[i].get_text() == nbb_unformatted_code) {\n",
       "                             nbb_cells[i].set_text(nbb_formatted_code);\n",
       "                        }\n",
       "                        break;\n",
       "                    }\n",
       "                }\n",
       "            }, 500);\n",
       "            "
      ],
      "text/plain": [
       "<IPython.core.display.Javascript object>"
      ]
     },
     "metadata": {},
     "output_type": "display_data"
    }
   ],
   "source": [
    "crps_baseline = crps_normal(\n",
    "    mu=X_test_lead_all[var][lead_time].isel(mean_std=0).values,\n",
    "    sigma=X_test_lead_all[var][lead_time].isel(mean_std=1).values,\n",
    "    y=y_test_var_lead_all[var][lead_time].values,\n",
    ") # Can use .values or simply the dataArrray"
   ]
  },
  {
   "cell_type": "code",
   "execution_count": 94,
   "id": "70286ccf",
   "metadata": {
    "scrolled": true
   },
   "outputs": [
    {
     "data": {
      "text/plain": [
       "0.011513211987230255"
      ]
     },
     "execution_count": 94,
     "metadata": {},
     "output_type": "execute_result"
    },
    {
     "data": {
      "application/javascript": [
       "\n",
       "            setTimeout(function() {\n",
       "                var nbb_cell_id = 94;\n",
       "                var nbb_unformatted_code = \"crps_baseline.mean()\";\n",
       "                var nbb_formatted_code = \"crps_baseline.mean()\";\n",
       "                var nbb_cells = Jupyter.notebook.get_cells();\n",
       "                for (var i = 0; i < nbb_cells.length; ++i) {\n",
       "                    if (nbb_cells[i].input_prompt_number == nbb_cell_id) {\n",
       "                        if (nbb_cells[i].get_text() == nbb_unformatted_code) {\n",
       "                             nbb_cells[i].set_text(nbb_formatted_code);\n",
       "                        }\n",
       "                        break;\n",
       "                    }\n",
       "                }\n",
       "            }, 500);\n",
       "            "
      ],
      "text/plain": [
       "<IPython.core.display.Javascript object>"
      ]
     },
     "metadata": {},
     "output_type": "display_data"
    }
   ],
   "source": [
    "crps_baseline.mean()"
   ]
  },
  {
   "cell_type": "markdown",
   "id": "a1d6c615",
   "metadata": {},
   "source": [
    "#### 4. Train global Emos"
   ]
  },
  {
   "cell_type": "code",
   "execution_count": 103,
   "id": "1c815795",
   "metadata": {},
   "outputs": [
    {
     "data": {
      "application/javascript": [
       "\n",
       "            setTimeout(function() {\n",
       "                var nbb_cell_id = 103;\n",
       "                var nbb_unformatted_code = \"EMOS_glob = build_EMOS_network_keras(compile=True)\";\n",
       "                var nbb_formatted_code = \"EMOS_glob = build_EMOS_network_keras(compile=True)\";\n",
       "                var nbb_cells = Jupyter.notebook.get_cells();\n",
       "                for (var i = 0; i < nbb_cells.length; ++i) {\n",
       "                    if (nbb_cells[i].input_prompt_number == nbb_cell_id) {\n",
       "                        if (nbb_cells[i].get_text() == nbb_unformatted_code) {\n",
       "                             nbb_cells[i].set_text(nbb_formatted_code);\n",
       "                        }\n",
       "                        break;\n",
       "                    }\n",
       "                }\n",
       "            }, 500);\n",
       "            "
      ],
      "text/plain": [
       "<IPython.core.display.Javascript object>"
      ]
     },
     "metadata": {},
     "output_type": "display_data"
    }
   ],
   "source": [
    "EMOS_glob = build_EMOS_network_keras(compile=True)"
   ]
  },
  {
   "cell_type": "code",
   "execution_count": 106,
   "id": "31b2225d",
   "metadata": {},
   "outputs": [
    {
     "name": "stdout",
     "output_type": "stream",
     "text": [
      "Epoch 1/5\n",
      "3567/3567 [==============================] - 11s 3ms/step - loss: 0.0191 - val_loss: 0.0131\n",
      "Epoch 2/5\n",
      "3567/3567 [==============================] - 11s 3ms/step - loss: 0.0191 - val_loss: 0.0132\n",
      "Epoch 3/5\n",
      "3567/3567 [==============================] - 11s 3ms/step - loss: 0.0191 - val_loss: 0.0109\n",
      "Epoch 4/5\n",
      "3567/3567 [==============================] - 11s 3ms/step - loss: 0.0191 - val_loss: 0.0195\n",
      "Epoch 5/5\n",
      "3567/3567 [==============================] - 11s 3ms/step - loss: 0.0190 - val_loss: 0.0108\n"
     ]
    },
    {
     "data": {
      "text/plain": [
       "<keras.callbacks.History at 0x7fc304473cd0>"
      ]
     },
     "execution_count": 106,
     "metadata": {},
     "output_type": "execute_result"
    },
    {
     "data": {
      "application/javascript": [
       "\n",
       "            setTimeout(function() {\n",
       "                var nbb_cell_id = 106;\n",
       "                var nbb_unformatted_code = \"EMOS_glob.fit(\\n    [\\n        X_train_var_lead_all[var][lead_time].isel(mean_std=0).values.flatten(),\\n        X_train_var_lead_all[var][lead_time].isel(mean_std=1).values.flatten(),\\n    ],\\n    y_train_var_lead_all[var][lead_time].values.flatten(),\\n    batch_size=5000,\\n    epochs=5,\\n    validation_split=0.2,\\n)\";\n",
       "                var nbb_formatted_code = \"EMOS_glob.fit(\\n    [\\n        X_train_var_lead_all[var][lead_time].isel(mean_std=0).values.flatten(),\\n        X_train_var_lead_all[var][lead_time].isel(mean_std=1).values.flatten(),\\n    ],\\n    y_train_var_lead_all[var][lead_time].values.flatten(),\\n    batch_size=5000,\\n    epochs=5,\\n    validation_split=0.2,\\n)\";\n",
       "                var nbb_cells = Jupyter.notebook.get_cells();\n",
       "                for (var i = 0; i < nbb_cells.length; ++i) {\n",
       "                    if (nbb_cells[i].input_prompt_number == nbb_cell_id) {\n",
       "                        if (nbb_cells[i].get_text() == nbb_unformatted_code) {\n",
       "                             nbb_cells[i].set_text(nbb_formatted_code);\n",
       "                        }\n",
       "                        break;\n",
       "                    }\n",
       "                }\n",
       "            }, 500);\n",
       "            "
      ],
      "text/plain": [
       "<IPython.core.display.Javascript object>"
      ]
     },
     "metadata": {},
     "output_type": "display_data"
    }
   ],
   "source": [
    "EMOS_glob.fit(\n",
    "    [\n",
    "        X_train_var_lead_all[var][lead_time].isel(mean_std=0).values.flatten(),\n",
    "        X_train_var_lead_all[var][lead_time].isel(mean_std=1).values.flatten(),\n",
    "    ],\n",
    "    y_train_var_lead_all[var][lead_time].values.flatten(),\n",
    "    batch_size=5000,\n",
    "    epochs=5,\n",
    "    validation_split=0.2,\n",
    ")"
   ]
  },
  {
   "cell_type": "code",
   "execution_count": null,
   "id": "25d916c7",
   "metadata": {},
   "outputs": [
    {
     "name": "stdout",
     "output_type": "stream",
     "text": [
      "148581/174038 [========================>.....] - ETA: 32s"
     ]
    }
   ],
   "source": [
    "preds = EMOS_glob.predict(\n",
    "    [\n",
    "        X_test_lead_all[var][lead_time].isel(mean_std=0).values.flatten(),\n",
    "        X_test_lead_all[var][lead_time].isel(mean_std=1).values.flatten(),\n",
    "    ], verbose = 1\n",
    ")"
   ]
  },
  {
   "cell_type": "code",
   "execution_count": null,
   "id": "53f8d178",
   "metadata": {},
   "outputs": [],
   "source": [
    "crps_emos = crps_normal(\n",
    "    mu=preds[:, 0], sigma=preds[:, 1], y=y_test_var_lead_all[var][lead_time].values.flatten()\n",
    ")"
   ]
  },
  {
   "cell_type": "code",
   "execution_count": null,
   "id": "ca4dbc5b",
   "metadata": {},
   "outputs": [],
   "source": [
    "crps_emos.mean()"
   ]
  }
 ],
 "metadata": {
  "kernelspec": {
   "display_name": "Python 3 (ipykernel)",
   "language": "python",
   "name": "python3"
  },
  "language_info": {
   "codemirror_mode": {
    "name": "ipython",
    "version": 3
   },
   "file_extension": ".py",
   "mimetype": "text/x-python",
   "name": "python",
   "nbconvert_exporter": "python",
   "pygments_lexer": "ipython3",
   "version": "3.9.7"
  }
 },
 "nbformat": 4,
 "nbformat_minor": 5
}
