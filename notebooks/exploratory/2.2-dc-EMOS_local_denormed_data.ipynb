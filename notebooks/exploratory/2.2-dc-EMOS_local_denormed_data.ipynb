{
 "cells": [
  {
   "cell_type": "code",
   "execution_count": 36,
   "id": "38f0f79c",
   "metadata": {},
   "outputs": [
    {
     "name": "stdout",
     "output_type": "stream",
     "text": [
      "The nb_black extension is already loaded. To reload it, use:\n",
      "  %reload_ext nb_black\n"
     ]
    },
    {
     "data": {
      "application/javascript": [
       "\n",
       "            setTimeout(function() {\n",
       "                var nbb_cell_id = 36;\n",
       "                var nbb_unformatted_code = \"%load_ext nb_black\";\n",
       "                var nbb_formatted_code = \"%load_ext nb_black\";\n",
       "                var nbb_cells = Jupyter.notebook.get_cells();\n",
       "                for (var i = 0; i < nbb_cells.length; ++i) {\n",
       "                    if (nbb_cells[i].input_prompt_number == nbb_cell_id) {\n",
       "                        if (nbb_cells[i].get_text() == nbb_unformatted_code) {\n",
       "                             nbb_cells[i].set_text(nbb_formatted_code);\n",
       "                        }\n",
       "                        break;\n",
       "                    }\n",
       "                }\n",
       "            }, 500);\n",
       "            "
      ],
      "text/plain": [
       "<IPython.core.display.Javascript object>"
      ]
     },
     "metadata": {},
     "output_type": "display_data"
    }
   ],
   "source": [
    "%load_ext nb_black"
   ]
  },
  {
   "cell_type": "code",
   "execution_count": 37,
   "id": "d997b9ed",
   "metadata": {},
   "outputs": [
    {
     "data": {
      "application/javascript": [
       "\n",
       "            setTimeout(function() {\n",
       "                var nbb_cell_id = 37;\n",
       "                var nbb_unformatted_code = \"# Helpful\\nimport tqdm\\n\\n# Visualization\\nimport matplotlib.pyplot as plt\\n\\n# My Methods\\nfrom src.utils.CRPS import *\\nfrom src.utils.data_split import *\\nfrom src.models.EMOS import *\\nfrom src.models.EMOS_global.EMOS_global_load_score import *\\nfrom src.models.EMOS_local.EMOS_local_load_score import *\\nfrom src.models.EMOS_local.EMOS_local_load_model import *\\nfrom src.models.EMOS_global.EMOS_global_load_model import *\\nfrom src.models.EMOS_local.EMOS_local_hyper_tune import *\\nimport data.raw.load_data_raw as ldr\\nimport data.processed.load_data_processed as ldp\\nimport data.processed.load_data_processed_denormed as ldpd\\nfrom src.models.CRPS_baseline.CRPS_load import *\\nfrom src.models.EMOS_local.EMOS_local_train import *\";\n",
       "                var nbb_formatted_code = \"# Helpful\\nimport tqdm\\n\\n# Visualization\\nimport matplotlib.pyplot as plt\\n\\n# My Methods\\nfrom src.utils.CRPS import *\\nfrom src.utils.data_split import *\\nfrom src.models.EMOS import *\\nfrom src.models.EMOS_global.EMOS_global_load_score import *\\nfrom src.models.EMOS_local.EMOS_local_load_score import *\\nfrom src.models.EMOS_local.EMOS_local_load_model import *\\nfrom src.models.EMOS_global.EMOS_global_load_model import *\\nfrom src.models.EMOS_local.EMOS_local_hyper_tune import *\\nimport data.raw.load_data_raw as ldr\\nimport data.processed.load_data_processed as ldp\\nimport data.processed.load_data_processed_denormed as ldpd\\nfrom src.models.CRPS_baseline.CRPS_load import *\\nfrom src.models.EMOS_local.EMOS_local_train import *\";\n",
       "                var nbb_cells = Jupyter.notebook.get_cells();\n",
       "                for (var i = 0; i < nbb_cells.length; ++i) {\n",
       "                    if (nbb_cells[i].input_prompt_number == nbb_cell_id) {\n",
       "                        if (nbb_cells[i].get_text() == nbb_unformatted_code) {\n",
       "                             nbb_cells[i].set_text(nbb_formatted_code);\n",
       "                        }\n",
       "                        break;\n",
       "                    }\n",
       "                }\n",
       "            }, 500);\n",
       "            "
      ],
      "text/plain": [
       "<IPython.core.display.Javascript object>"
      ]
     },
     "metadata": {},
     "output_type": "display_data"
    }
   ],
   "source": [
    "# Helpful\n",
    "import tqdm\n",
    "\n",
    "# Visualization\n",
    "import matplotlib.pyplot as plt\n",
    "\n",
    "# My Methods\n",
    "from src.utils.CRPS import *\n",
    "from src.utils.data_split import *\n",
    "from src.models.EMOS import *\n",
    "from src.models.EMOS_global.EMOS_global_load_score import *\n",
    "from src.models.EMOS_local.EMOS_local_load_score import *\n",
    "from src.models.EMOS_local.EMOS_local_load_model import *\n",
    "from src.models.EMOS_global.EMOS_global_load_model import *\n",
    "from src.models.EMOS_local.EMOS_local_hyper_tune import *\n",
    "import data.raw.load_data_raw as ldr\n",
    "import data.processed.load_data_processed as ldp\n",
    "import data.processed.load_data_processed_denormed as ldpd\n",
    "from src.models.CRPS_baseline.CRPS_load import *\n",
    "from src.models.EMOS_local.EMOS_local_train import *"
   ]
  },
  {
   "cell_type": "markdown",
   "id": "527aa811",
   "metadata": {},
   "source": [
    "### 1. Load Scores"
   ]
  },
  {
   "cell_type": "code",
   "execution_count": 38,
   "id": "a0dcce10",
   "metadata": {},
   "outputs": [
    {
     "data": {
      "application/javascript": [
       "\n",
       "            setTimeout(function() {\n",
       "                var nbb_cell_id = 38;\n",
       "                var nbb_unformatted_code = \"# Load EMOS local scores\\nEMOS_local_t2m_scores = EMOS_local_load_score(\\\"t2m\\\")\\n# EMOS_local_ws10_scores = EMOS_local_load_score(\\\"ws10\\\")\\n\\n# Load EMOS global scores\\nEMOS_global_t2m_scores = EMOS_global_load_score(\\\"t2m\\\")\\nEMOS_global_ws10_scores = EMOS_global_load_score(\\\"ws10\\\")\\n\\n# Load CRPS scores\\nCRPS_global_t2m_scores = crps_load_lead_lat_lon(\\\"t2m\\\")\\nCRPS_global_ws10_scores = crps_load_lead_lat_lon(\\\"ws10\\\")\";\n",
       "                var nbb_formatted_code = \"# Load EMOS local scores\\nEMOS_local_t2m_scores = EMOS_local_load_score(\\\"t2m\\\")\\n# EMOS_local_ws10_scores = EMOS_local_load_score(\\\"ws10\\\")\\n\\n# Load EMOS global scores\\nEMOS_global_t2m_scores = EMOS_global_load_score(\\\"t2m\\\")\\nEMOS_global_ws10_scores = EMOS_global_load_score(\\\"ws10\\\")\\n\\n# Load CRPS scores\\nCRPS_global_t2m_scores = crps_load_lead_lat_lon(\\\"t2m\\\")\\nCRPS_global_ws10_scores = crps_load_lead_lat_lon(\\\"ws10\\\")\";\n",
       "                var nbb_cells = Jupyter.notebook.get_cells();\n",
       "                for (var i = 0; i < nbb_cells.length; ++i) {\n",
       "                    if (nbb_cells[i].input_prompt_number == nbb_cell_id) {\n",
       "                        if (nbb_cells[i].get_text() == nbb_unformatted_code) {\n",
       "                             nbb_cells[i].set_text(nbb_formatted_code);\n",
       "                        }\n",
       "                        break;\n",
       "                    }\n",
       "                }\n",
       "            }, 500);\n",
       "            "
      ],
      "text/plain": [
       "<IPython.core.display.Javascript object>"
      ]
     },
     "metadata": {},
     "output_type": "display_data"
    }
   ],
   "source": [
    "# Load EMOS local scores\n",
    "EMOS_local_t2m_scores = EMOS_local_load_score(\"t2m\")\n",
    "# EMOS_local_ws10_scores = EMOS_local_load_score(\"ws10\")\n",
    "\n",
    "# Load EMOS global scores\n",
    "EMOS_global_t2m_scores = EMOS_global_load_score(\"t2m\")\n",
    "EMOS_global_ws10_scores = EMOS_global_load_score(\"ws10\")\n",
    "\n",
    "# Load CRPS scores\n",
    "CRPS_global_t2m_scores = crps_load_lead_lat_lon(\"t2m\")\n",
    "CRPS_global_ws10_scores = crps_load_lead_lat_lon(\"ws10\")"
   ]
  },
  {
   "cell_type": "code",
   "execution_count": 39,
   "id": "2ad884d6",
   "metadata": {},
   "outputs": [
    {
     "data": {
      "text/plain": [
       "31"
      ]
     },
     "execution_count": 39,
     "metadata": {},
     "output_type": "execute_result"
    },
    {
     "data": {
      "application/javascript": [
       "\n",
       "            setTimeout(function() {\n",
       "                var nbb_cell_id = 39;\n",
       "                var nbb_unformatted_code = \"len(EMOS_local_t2m_scores)\";\n",
       "                var nbb_formatted_code = \"len(EMOS_local_t2m_scores)\";\n",
       "                var nbb_cells = Jupyter.notebook.get_cells();\n",
       "                for (var i = 0; i < nbb_cells.length; ++i) {\n",
       "                    if (nbb_cells[i].input_prompt_number == nbb_cell_id) {\n",
       "                        if (nbb_cells[i].get_text() == nbb_unformatted_code) {\n",
       "                             nbb_cells[i].set_text(nbb_formatted_code);\n",
       "                        }\n",
       "                        break;\n",
       "                    }\n",
       "                }\n",
       "            }, 500);\n",
       "            "
      ],
      "text/plain": [
       "<IPython.core.display.Javascript object>"
      ]
     },
     "metadata": {},
     "output_type": "display_data"
    }
   ],
   "source": [
    "len(EMOS_local_t2m_scores)"
   ]
  },
  {
   "cell_type": "code",
   "execution_count": 40,
   "id": "01cc1afd",
   "metadata": {},
   "outputs": [
    {
     "name": "stdout",
     "output_type": "stream",
     "text": [
      "EMOS_local: 0.4148695374260971, EMOS_global: 0.4673401873320892, CRPS: 0.5084816639136492\n",
      "EMOS_local: 0.4570583921154468, EMOS_global: 0.5297212701322601, CRPS: 0.5347707002046389\n",
      "EMOS_local: 0.4764913273333677, EMOS_global: 0.5105776602793739, CRPS: 0.5150757989800734\n",
      "EMOS_local: 0.4853422424293378, EMOS_global: 0.5187042066593011, CRPS: 0.5301602687833538\n",
      "EMOS_local: 0.5088349645341457, EMOS_global: 0.5379253302273839, CRPS: 0.5624034501418446\n",
      "EMOS_local: 0.5484872642343575, EMOS_global: 0.5924092410007133, CRPS: 0.6306282599852645\n",
      "EMOS_local: 0.5712123582837434, EMOS_global: 0.5920924175090567, CRPS: 0.6316119778923832\n",
      "EMOS_local: 0.5754663166502546, EMOS_global: 0.6020434806248538, CRPS: 0.6454345388357919\n",
      "EMOS_local: 0.6026712332169245, EMOS_global: 0.6251029754078069, CRPS: 0.6802850949781106\n",
      "EMOS_local: 0.6562236252654708, EMOS_global: 0.6920910937109535, CRPS: 0.7561511514525252\n",
      "EMOS_local: 0.6800776498304495, EMOS_global: 0.6984210795617619, CRPS: 0.7596827249402444\n",
      "EMOS_local: 0.6794425793146366, EMOS_global: 0.7010491067649252, CRPS: 0.7671595364524374\n",
      "EMOS_local: 0.7123190931150641, EMOS_global: 0.7326259105215014, CRPS: 0.8087436349681829\n",
      "EMOS_local: 0.7748360011670311, EMOS_global: 0.8081989710473392, CRPS: 0.8907210185014609\n",
      "EMOS_local: 0.7952009913101734, EMOS_global: 0.8107418318323198, CRPS: 0.8895929183430251\n",
      "EMOS_local: 0.7895533464906054, EMOS_global: 0.8075659261587096, CRPS: 0.8913402208770865\n",
      "EMOS_local: 0.8244157225737196, EMOS_global: 0.8419100467688746, CRPS: 0.9354666921537256\n",
      "EMOS_local: 0.8987535461063973, EMOS_global: 0.9272685510719906, CRPS: 1.030760697007392\n",
      "EMOS_local: 0.911990312493202, EMOS_global: 0.9238354518379173, CRPS: 1.020928305756169\n",
      "EMOS_local: 0.8980970378732857, EMOS_global: 0.9149419408923763, CRPS: 1.011146119667486\n",
      "EMOS_local: 0.9337742641433827, EMOS_global: 0.9480856381547978, CRPS: 1.0559743772319934\n",
      "EMOS_local: 1.024922979931499, EMOS_global: 1.0535067163559073, CRPS: 1.170507971000092\n",
      "EMOS_local: 1.0273314696568663, EMOS_global: 1.0385039484335057, CRPS: 1.1471350159491147\n",
      "EMOS_local: 1.0024411008446334, EMOS_global: 1.0174896780726688, CRPS: 1.1231032795400633\n",
      "EMOS_local: 1.0384650106563948, EMOS_global: 1.049354167422327, CRPS: 1.1665183732402151\n",
      "EMOS_local: 1.1369841677869823, EMOS_global: 1.155104391351463, CRPS: 1.291409822220935\n",
      "EMOS_local: 1.1309084264736469, EMOS_global: 1.138138461370122, CRPS: 1.2553212202206236\n",
      "EMOS_local: 1.0945496497467657, EMOS_global: 1.1036528262859309, CRPS: 1.2185923742165932\n",
      "EMOS_local: 1.1299233835071807, EMOS_global: 1.1357242519091395, CRPS: 1.261623224976432\n",
      "EMOS_local: 1.2459260186081393, EMOS_global: 1.2656613124592335, CRPS: 1.4120354238676378\n",
      "EMOS_local: 1.2266892901786237, EMOS_global: 1.225492003591844, CRPS: 1.3563336012079834\n"
     ]
    },
    {
     "data": {
      "application/javascript": [
       "\n",
       "            setTimeout(function() {\n",
       "                var nbb_cell_id = 40;\n",
       "                var nbb_unformatted_code = \"for lead_time in range(len(EMOS_local_t2m_scores)):\\n    print(\\n        f\\\"EMOS_local: {EMOS_local_t2m_scores[lead_time].mean()}, EMOS_global: {EMOS_global_t2m_scores[lead_time].mean()}, CRPS: {CRPS_global_t2m_scores[lead_time].mean()}\\\"\\n    )\";\n",
       "                var nbb_formatted_code = \"for lead_time in range(len(EMOS_local_t2m_scores)):\\n    print(\\n        f\\\"EMOS_local: {EMOS_local_t2m_scores[lead_time].mean()}, EMOS_global: {EMOS_global_t2m_scores[lead_time].mean()}, CRPS: {CRPS_global_t2m_scores[lead_time].mean()}\\\"\\n    )\";\n",
       "                var nbb_cells = Jupyter.notebook.get_cells();\n",
       "                for (var i = 0; i < nbb_cells.length; ++i) {\n",
       "                    if (nbb_cells[i].input_prompt_number == nbb_cell_id) {\n",
       "                        if (nbb_cells[i].get_text() == nbb_unformatted_code) {\n",
       "                             nbb_cells[i].set_text(nbb_formatted_code);\n",
       "                        }\n",
       "                        break;\n",
       "                    }\n",
       "                }\n",
       "            }, 500);\n",
       "            "
      ],
      "text/plain": [
       "<IPython.core.display.Javascript object>"
      ]
     },
     "metadata": {},
     "output_type": "display_data"
    }
   ],
   "source": [
    "for lead_time in range(len(EMOS_local_t2m_scores)):\n",
    "    print(\n",
    "        f\"EMOS_local: {EMOS_local_t2m_scores[lead_time].mean()}, EMOS_global: {EMOS_global_t2m_scores[lead_time].mean()}, CRPS: {CRPS_global_t2m_scores[lead_time].mean()}\"\n",
    "    )"
   ]
  },
  {
   "cell_type": "code",
   "execution_count": 35,
   "id": "8d8b7c4e",
   "metadata": {},
   "outputs": [
    {
     "name": "stdout",
     "output_type": "stream",
     "text": [
      "EMOS_global: 0.4687979519367218, CRPS: 0.4708288311958313\n",
      "EMOS_global: 0.5481671690940857, CRPS: 0.5626273155212402\n",
      "EMOS_global: 0.5383585095405579, CRPS: 0.5660684704780579\n",
      "EMOS_global: 0.5816507935523987, CRPS: 0.6244665384292603\n",
      "EMOS_global: 0.5986496806144714, CRPS: 0.6273626685142517\n",
      "EMOS_global: 0.6971593499183655, CRPS: 0.7419385313987732\n",
      "EMOS_global: 0.6992777585983276, CRPS: 0.7447009086608887\n",
      "EMOS_global: 0.7526292204856873, CRPS: 0.8054525852203369\n",
      "EMOS_global: 0.791255533695221, CRPS: 0.834025502204895\n",
      "EMOS_global: 0.8987031579017639, CRPS: 0.9581987261772156\n",
      "EMOS_global: 0.8913975954055786, CRPS: 0.9486294984817505\n",
      "EMOS_global: 0.9364757537841797, CRPS: 0.997710645198822\n",
      "EMOS_global: 0.9739682078361511, CRPS: 1.0248152017593384\n",
      "EMOS_global: 1.0816439390182495, CRPS: 1.147271752357483\n",
      "EMOS_global: 1.061387538909912, CRPS: 1.120965838432312\n",
      "EMOS_global: 1.0941627025604248, CRPS: 1.1554666757583618\n",
      "EMOS_global: 1.122457504272461, CRPS: 1.1716784238815308\n",
      "EMOS_global: 1.218828797340393, CRPS: 1.2803926467895508\n",
      "EMOS_global: 1.186181664466858, CRPS: 1.2406598329544067\n",
      "EMOS_global: 1.208435297012329, CRPS: 1.2650195360183716\n",
      "EMOS_global: 1.233190655708313, CRPS: 1.2812318801879883\n",
      "EMOS_global: 1.331240177154541, CRPS: 1.3930284976959229\n",
      "EMOS_global: 1.2901597023010254, CRPS: 1.3470748662948608\n",
      "EMOS_global: 1.3045237064361572, CRPS: 1.3625421524047852\n",
      "EMOS_global: 1.3217682838439941, CRPS: 1.370863676071167\n",
      "EMOS_global: 1.4142807722091675, CRPS: 1.476784110069275\n",
      "EMOS_global: 1.3631004095077515, CRPS: 1.4213701486587524\n",
      "EMOS_global: 1.3705699443817139, CRPS: 1.4293179512023926\n",
      "EMOS_global: 1.382328987121582, CRPS: 1.4322772026062012\n",
      "EMOS_global: 1.472295880317688, CRPS: 1.536927580833435\n",
      "EMOS_global: 1.411036491394043, CRPS: 1.4698940515518188\n"
     ]
    },
    {
     "data": {
      "application/javascript": [
       "\n",
       "            setTimeout(function() {\n",
       "                var nbb_cell_id = 35;\n",
       "                var nbb_unformatted_code = \"for lead_time in range(len(EMOS_global_ws10_scores)):\\n    print(\\n        f\\\"EMOS_global: {EMOS_global_ws10_scores[lead_time].mean()}, CRPS: {CRPS_global_ws10_scores[lead_time].mean()}\\\"\\n    )\";\n",
       "                var nbb_formatted_code = \"for lead_time in range(len(EMOS_global_ws10_scores)):\\n    print(\\n        f\\\"EMOS_global: {EMOS_global_ws10_scores[lead_time].mean()}, CRPS: {CRPS_global_ws10_scores[lead_time].mean()}\\\"\\n    )\";\n",
       "                var nbb_cells = Jupyter.notebook.get_cells();\n",
       "                for (var i = 0; i < nbb_cells.length; ++i) {\n",
       "                    if (nbb_cells[i].input_prompt_number == nbb_cell_id) {\n",
       "                        if (nbb_cells[i].get_text() == nbb_unformatted_code) {\n",
       "                             nbb_cells[i].set_text(nbb_formatted_code);\n",
       "                        }\n",
       "                        break;\n",
       "                    }\n",
       "                }\n",
       "            }, 500);\n",
       "            "
      ],
      "text/plain": [
       "<IPython.core.display.Javascript object>"
      ]
     },
     "metadata": {},
     "output_type": "display_data"
    }
   ],
   "source": [
    "for lead_time in range(len(EMOS_global_ws10_scores)):\n",
    "    print(\n",
    "        f\"EMOS_global: {EMOS_global_ws10_scores[lead_time].mean()}, CRPS: {CRPS_global_ws10_scores[lead_time].mean()}\"\n",
    "    )"
   ]
  },
  {
   "cell_type": "code",
   "execution_count": null,
   "id": "39642ebd",
   "metadata": {},
   "outputs": [],
   "source": []
  },
  {
   "cell_type": "code",
   "execution_count": null,
   "id": "a29ad130",
   "metadata": {},
   "outputs": [],
   "source": []
  },
  {
   "cell_type": "markdown",
   "id": "c02d9543",
   "metadata": {},
   "source": [
    "### 3. Load Hyperparameter tuning scores:"
   ]
  },
  {
   "cell_type": "code",
   "execution_count": 32,
   "id": "e0e85715",
   "metadata": {},
   "outputs": [
    {
     "data": {
      "application/javascript": [
       "\n",
       "            setTimeout(function() {\n",
       "                var nbb_cell_id = 32;\n",
       "                var nbb_unformatted_code = \"EMOS_local_ws10_hyper_scores = EMOS_local_load_hyper_score(\\\"ws10\\\")\";\n",
       "                var nbb_formatted_code = \"EMOS_local_ws10_hyper_scores = EMOS_local_load_hyper_score(\\\"ws10\\\")\";\n",
       "                var nbb_cells = Jupyter.notebook.get_cells();\n",
       "                for (var i = 0; i < nbb_cells.length; ++i) {\n",
       "                    if (nbb_cells[i].input_prompt_number == nbb_cell_id) {\n",
       "                        if (nbb_cells[i].get_text() == nbb_unformatted_code) {\n",
       "                             nbb_cells[i].set_text(nbb_formatted_code);\n",
       "                        }\n",
       "                        break;\n",
       "                    }\n",
       "                }\n",
       "            }, 500);\n",
       "            "
      ],
      "text/plain": [
       "<IPython.core.display.Javascript object>"
      ]
     },
     "metadata": {},
     "output_type": "display_data"
    }
   ],
   "source": [
    "EMOS_local_ws10_hyper_scores = EMOS_local_load_hyper_score(\"ws10\")"
   ]
  },
  {
   "cell_type": "code",
   "execution_count": 33,
   "id": "dfec8e96",
   "metadata": {},
   "outputs": [
    {
     "data": {
      "text/plain": [
       "3"
      ]
     },
     "execution_count": 33,
     "metadata": {},
     "output_type": "execute_result"
    },
    {
     "data": {
      "application/javascript": [
       "\n",
       "            setTimeout(function() {\n",
       "                var nbb_cell_id = 33;\n",
       "                var nbb_unformatted_code = \"len(EMOS_local_ws10_hyper_scores)\";\n",
       "                var nbb_formatted_code = \"len(EMOS_local_ws10_hyper_scores)\";\n",
       "                var nbb_cells = Jupyter.notebook.get_cells();\n",
       "                for (var i = 0; i < nbb_cells.length; ++i) {\n",
       "                    if (nbb_cells[i].input_prompt_number == nbb_cell_id) {\n",
       "                        if (nbb_cells[i].get_text() == nbb_unformatted_code) {\n",
       "                             nbb_cells[i].set_text(nbb_formatted_code);\n",
       "                        }\n",
       "                        break;\n",
       "                    }\n",
       "                }\n",
       "            }, 500);\n",
       "            "
      ],
      "text/plain": [
       "<IPython.core.display.Javascript object>"
      ]
     },
     "metadata": {},
     "output_type": "display_data"
    }
   ],
   "source": [
    "len(EMOS_local_ws10_hyper_scores)"
   ]
  },
  {
   "cell_type": "code",
   "execution_count": 34,
   "id": "2f90f89f",
   "metadata": {},
   "outputs": [
    {
     "data": {
      "text/plain": [
       "[[(512, 30, 0.001, 'Adam'), 1.740081858749573],\n",
       " [(64, 30, 0.1, 'Adam'), 0.5994870296846597],\n",
       " [(32, 30, 0.1, 'Adam'), 0.5986838517471765]]"
      ]
     },
     "execution_count": 34,
     "metadata": {},
     "output_type": "execute_result"
    },
    {
     "data": {
      "application/javascript": [
       "\n",
       "            setTimeout(function() {\n",
       "                var nbb_cell_id = 34;\n",
       "                var nbb_unformatted_code = \"EMOS_local_ws10_hyper_scores\";\n",
       "                var nbb_formatted_code = \"EMOS_local_ws10_hyper_scores\";\n",
       "                var nbb_cells = Jupyter.notebook.get_cells();\n",
       "                for (var i = 0; i < nbb_cells.length; ++i) {\n",
       "                    if (nbb_cells[i].input_prompt_number == nbb_cell_id) {\n",
       "                        if (nbb_cells[i].get_text() == nbb_unformatted_code) {\n",
       "                             nbb_cells[i].set_text(nbb_formatted_code);\n",
       "                        }\n",
       "                        break;\n",
       "                    }\n",
       "                }\n",
       "            }, 500);\n",
       "            "
      ],
      "text/plain": [
       "<IPython.core.display.Javascript object>"
      ]
     },
     "metadata": {},
     "output_type": "display_data"
    }
   ],
   "source": [
    "EMOS_local_ws10_hyper_scores"
   ]
  },
  {
   "cell_type": "code",
   "execution_count": null,
   "id": "faa55db4",
   "metadata": {},
   "outputs": [],
   "source": []
  },
  {
   "cell_type": "markdown",
   "id": "fa688879",
   "metadata": {},
   "source": [
    "### 3. Trying to load models:"
   ]
  },
  {
   "cell_type": "code",
   "execution_count": null,
   "id": "4a0e035d",
   "metadata": {},
   "outputs": [],
   "source": [
    "EMOS_local_t2m_0 = EMOS_local_load_model(2, 0)"
   ]
  },
  {
   "cell_type": "code",
   "execution_count": 24,
   "id": "3537c3f4",
   "metadata": {},
   "outputs": [
    {
     "data": {
      "application/javascript": [
       "\n",
       "            setTimeout(function() {\n",
       "                var nbb_cell_id = 24;\n",
       "                var nbb_unformatted_code = \"lat = 2\\nlon = 2\\nlead_time = 0\";\n",
       "                var nbb_formatted_code = \"lat = 2\\nlon = 2\\nlead_time = 0\";\n",
       "                var nbb_cells = Jupyter.notebook.get_cells();\n",
       "                for (var i = 0; i < nbb_cells.length; ++i) {\n",
       "                    if (nbb_cells[i].input_prompt_number == nbb_cell_id) {\n",
       "                        if (nbb_cells[i].get_text() == nbb_unformatted_code) {\n",
       "                             nbb_cells[i].set_text(nbb_formatted_code);\n",
       "                        }\n",
       "                        break;\n",
       "                    }\n",
       "                }\n",
       "            }, 500);\n",
       "            "
      ],
      "text/plain": [
       "<IPython.core.display.Javascript object>"
      ]
     },
     "metadata": {},
     "output_type": "display_data"
    }
   ],
   "source": [
    "lat = 2\n",
    "lon = 2\n",
    "lead_time = 0"
   ]
  },
  {
   "cell_type": "code",
   "execution_count": 28,
   "id": "5adeb0b9",
   "metadata": {},
   "outputs": [
    {
     "data": {
      "application/javascript": [
       "\n",
       "            setTimeout(function() {\n",
       "                var nbb_cell_id = 28;\n",
       "                var nbb_unformatted_code = \"test_var_denormed = ldpd.load_data_all_train_proc_denorm()[2]\";\n",
       "                var nbb_formatted_code = \"test_var_denormed = ldpd.load_data_all_train_proc_denorm()[2]\";\n",
       "                var nbb_cells = Jupyter.notebook.get_cells();\n",
       "                for (var i = 0; i < nbb_cells.length; ++i) {\n",
       "                    if (nbb_cells[i].input_prompt_number == nbb_cell_id) {\n",
       "                        if (nbb_cells[i].get_text() == nbb_unformatted_code) {\n",
       "                             nbb_cells[i].set_text(nbb_formatted_code);\n",
       "                        }\n",
       "                        break;\n",
       "                    }\n",
       "                }\n",
       "            }, 500);\n",
       "            "
      ],
      "text/plain": [
       "<IPython.core.display.Javascript object>"
      ]
     },
     "metadata": {},
     "output_type": "display_data"
    }
   ],
   "source": [
    "test_var_denormed = ldpd.load_data_all_train_proc_denorm()[2]"
   ]
  },
  {
   "cell_type": "code",
   "execution_count": 29,
   "id": "3b624f57",
   "metadata": {},
   "outputs": [
    {
     "data": {
      "application/javascript": [
       "\n",
       "            setTimeout(function() {\n",
       "                var nbb_cell_id = 29;\n",
       "                var nbb_unformatted_code = \"X_test_var_denormed = test_var_denormed[\\n    list(test_var_denormed.data_vars.keys())[0]\\n].isel(lead_time=lead_time, lat=lat, lon=lon)\\ny_test_var_denormed = test_var_denormed[\\n    list(test_var_denormed.data_vars.keys())[1]\\n].isel(lead_time=lead_time, lat=lat, lon=lon)\";\n",
       "                var nbb_formatted_code = \"X_test_var_denormed = test_var_denormed[\\n    list(test_var_denormed.data_vars.keys())[0]\\n].isel(lead_time=lead_time, lat=lat, lon=lon)\\ny_test_var_denormed = test_var_denormed[\\n    list(test_var_denormed.data_vars.keys())[1]\\n].isel(lead_time=lead_time, lat=lat, lon=lon)\";\n",
       "                var nbb_cells = Jupyter.notebook.get_cells();\n",
       "                for (var i = 0; i < nbb_cells.length; ++i) {\n",
       "                    if (nbb_cells[i].input_prompt_number == nbb_cell_id) {\n",
       "                        if (nbb_cells[i].get_text() == nbb_unformatted_code) {\n",
       "                             nbb_cells[i].set_text(nbb_formatted_code);\n",
       "                        }\n",
       "                        break;\n",
       "                    }\n",
       "                }\n",
       "            }, 500);\n",
       "            "
      ],
      "text/plain": [
       "<IPython.core.display.Javascript object>"
      ]
     },
     "metadata": {},
     "output_type": "display_data"
    }
   ],
   "source": [
    "X_test_var_denormed = test_var_denormed[\n",
    "    list(test_var_denormed.data_vars.keys())[0]\n",
    "].isel(lead_time=lead_time, lat=lat, lon=lon)\n",
    "y_test_var_denormed = test_var_denormed[\n",
    "    list(test_var_denormed.data_vars.keys())[1]\n",
    "].isel(lead_time=lead_time, lat=lat, lon=lon)"
   ]
  },
  {
   "cell_type": "code",
   "execution_count": 30,
   "id": "9a89a1df",
   "metadata": {},
   "outputs": [
    {
     "name": "stdout",
     "output_type": "stream",
     "text": [
      "45/45 [==============================] - 0s 927us/step - loss: 402.3280\n"
     ]
    },
    {
     "data": {
      "text/plain": [
       "402.3279724121094"
      ]
     },
     "execution_count": 30,
     "metadata": {},
     "output_type": "execute_result"
    },
    {
     "data": {
      "application/javascript": [
       "\n",
       "            setTimeout(function() {\n",
       "                var nbb_cell_id = 30;\n",
       "                var nbb_unformatted_code = \"EMOS_local_t2m_0[lat][lon].evaluate(\\n    [\\n        X_test_var_denormed.isel(mean_std=0).values.flatten(),\\n        X_test_var_denormed.isel(mean_std=1).values.flatten(),\\n    ],\\n    y_test_var_denormed.values.flatten(),\\n)\";\n",
       "                var nbb_formatted_code = \"EMOS_local_t2m_0[lat][lon].evaluate(\\n    [\\n        X_test_var_denormed.isel(mean_std=0).values.flatten(),\\n        X_test_var_denormed.isel(mean_std=1).values.flatten(),\\n    ],\\n    y_test_var_denormed.values.flatten(),\\n)\";\n",
       "                var nbb_cells = Jupyter.notebook.get_cells();\n",
       "                for (var i = 0; i < nbb_cells.length; ++i) {\n",
       "                    if (nbb_cells[i].input_prompt_number == nbb_cell_id) {\n",
       "                        if (nbb_cells[i].get_text() == nbb_unformatted_code) {\n",
       "                             nbb_cells[i].set_text(nbb_formatted_code);\n",
       "                        }\n",
       "                        break;\n",
       "                    }\n",
       "                }\n",
       "            }, 500);\n",
       "            "
      ],
      "text/plain": [
       "<IPython.core.display.Javascript object>"
      ]
     },
     "metadata": {},
     "output_type": "display_data"
    }
   ],
   "source": [
    "EMOS_local_t2m_0[lat][lon].evaluate(\n",
    "    [\n",
    "        X_test_var_denormed.isel(mean_std=0).values.flatten(),\n",
    "        X_test_var_denormed.isel(mean_std=1).values.flatten(),\n",
    "    ],\n",
    "    y_test_var_denormed.values.flatten(),\n",
    ")"
   ]
  },
  {
   "cell_type": "code",
   "execution_count": null,
   "id": "aa76ef68",
   "metadata": {},
   "outputs": [],
   "source": []
  }
 ],
 "metadata": {
  "kernelspec": {
   "display_name": "Python 3 (ipykernel)",
   "language": "python",
   "name": "python3"
  },
  "language_info": {
   "codemirror_mode": {
    "name": "ipython",
    "version": 3
   },
   "file_extension": ".py",
   "mimetype": "text/x-python",
   "name": "python",
   "nbconvert_exporter": "python",
   "pygments_lexer": "ipython3",
   "version": "3.9.7"
  }
 },
 "nbformat": 4,
 "nbformat_minor": 5
}
