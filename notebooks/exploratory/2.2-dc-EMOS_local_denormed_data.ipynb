{
 "cells": [
  {
   "cell_type": "code",
   "execution_count": 1,
   "id": "38f0f79c",
   "metadata": {},
   "outputs": [
    {
     "data": {
      "application/javascript": [
       "\n",
       "            setTimeout(function() {\n",
       "                var nbb_cell_id = 1;\n",
       "                var nbb_unformatted_code = \"%load_ext nb_black\";\n",
       "                var nbb_formatted_code = \"%load_ext nb_black\";\n",
       "                var nbb_cells = Jupyter.notebook.get_cells();\n",
       "                for (var i = 0; i < nbb_cells.length; ++i) {\n",
       "                    if (nbb_cells[i].input_prompt_number == nbb_cell_id) {\n",
       "                        if (nbb_cells[i].get_text() == nbb_unformatted_code) {\n",
       "                             nbb_cells[i].set_text(nbb_formatted_code);\n",
       "                        }\n",
       "                        break;\n",
       "                    }\n",
       "                }\n",
       "            }, 500);\n",
       "            "
      ],
      "text/plain": [
       "<IPython.core.display.Javascript object>"
      ]
     },
     "metadata": {},
     "output_type": "display_data"
    }
   ],
   "source": [
    "%load_ext nb_black"
   ]
  },
  {
   "cell_type": "code",
   "execution_count": 2,
   "id": "d997b9ed",
   "metadata": {},
   "outputs": [
    {
     "name": "stderr",
     "output_type": "stream",
     "text": [
      "2023-05-31 19:55:12.697367: W tensorflow/stream_executor/platform/default/dso_loader.cc:64] Could not load dynamic library 'libcudart.so.11.0'; dlerror: libcudart.so.11.0: cannot open shared object file: No such file or directory; LD_LIBRARY_PATH: :/opt/anaconda3/lib/\n",
      "2023-05-31 19:55:12.697388: I tensorflow/stream_executor/cuda/cudart_stub.cc:29] Ignore above cudart dlerror if you do not have a GPU set up on your machine.\n"
     ]
    },
    {
     "data": {
      "application/javascript": [
       "\n",
       "            setTimeout(function() {\n",
       "                var nbb_cell_id = 2;\n",
       "                var nbb_unformatted_code = \"# Helpful\\nimport tqdm\\n\\n# Visualization\\nimport matplotlib.pyplot as plt\\n\\n# My Methods\\nfrom src.utils.CRPS import *\\nfrom src.utils.data_split import *\\nfrom src.models.EMOS import *\\nfrom src.models.EMOS_global.EMOS_global_load_score import *\\nfrom src.models.EMOS_local.EMOS_local_load_score import *\\nfrom src.models.EMOS_global.EMOS_global_load_model import *\\nimport data.raw.load_data_raw as ldr\\nimport data.processed.load_data_processed as ldp\\nimport data.processed.load_data_processed_denormed as ldpd\\nfrom src.models.CRPS_baseline.CRPS_load import *\\nfrom src.models.EMOS_local.EMOS_local_train import *\";\n",
       "                var nbb_formatted_code = \"# Helpful\\nimport tqdm\\n\\n# Visualization\\nimport matplotlib.pyplot as plt\\n\\n# My Methods\\nfrom src.utils.CRPS import *\\nfrom src.utils.data_split import *\\nfrom src.models.EMOS import *\\nfrom src.models.EMOS_global.EMOS_global_load_score import *\\nfrom src.models.EMOS_local.EMOS_local_load_score import *\\nfrom src.models.EMOS_global.EMOS_global_load_model import *\\nimport data.raw.load_data_raw as ldr\\nimport data.processed.load_data_processed as ldp\\nimport data.processed.load_data_processed_denormed as ldpd\\nfrom src.models.CRPS_baseline.CRPS_load import *\\nfrom src.models.EMOS_local.EMOS_local_train import *\";\n",
       "                var nbb_cells = Jupyter.notebook.get_cells();\n",
       "                for (var i = 0; i < nbb_cells.length; ++i) {\n",
       "                    if (nbb_cells[i].input_prompt_number == nbb_cell_id) {\n",
       "                        if (nbb_cells[i].get_text() == nbb_unformatted_code) {\n",
       "                             nbb_cells[i].set_text(nbb_formatted_code);\n",
       "                        }\n",
       "                        break;\n",
       "                    }\n",
       "                }\n",
       "            }, 500);\n",
       "            "
      ],
      "text/plain": [
       "<IPython.core.display.Javascript object>"
      ]
     },
     "metadata": {},
     "output_type": "display_data"
    }
   ],
   "source": [
    "# Helpful\n",
    "import tqdm\n",
    "\n",
    "# Visualization\n",
    "import matplotlib.pyplot as plt\n",
    "\n",
    "# My Methods\n",
    "from src.utils.CRPS import *\n",
    "from src.utils.data_split import *\n",
    "from src.models.EMOS import *\n",
    "from src.models.EMOS_global.EMOS_global_load_score import *\n",
    "from src.models.EMOS_local.EMOS_local_load_score import *\n",
    "from src.models.EMOS_global.EMOS_global_load_model import *\n",
    "import data.raw.load_data_raw as ldr\n",
    "import data.processed.load_data_processed as ldp\n",
    "import data.processed.load_data_processed_denormed as ldpd\n",
    "from src.models.CRPS_baseline.CRPS_load import *\n",
    "from src.models.EMOS_local.EMOS_local_train import *"
   ]
  },
  {
   "cell_type": "markdown",
   "id": "527aa811",
   "metadata": {},
   "source": [
    "### 1. Load Raw Data"
   ]
  },
  {
   "cell_type": "code",
   "execution_count": 3,
   "id": "a0dcce10",
   "metadata": {},
   "outputs": [
    {
     "data": {
      "application/javascript": [
       "\n",
       "            setTimeout(function() {\n",
       "                var nbb_cell_id = 3;\n",
       "                var nbb_unformatted_code = \"EMOS_local_t2m_scores = EMOS_local_load_score(\\\"t2m\\\")\\nEMOS_global_t2m_scores = EMOS_global_load_score(\\\"t2m\\\")\";\n",
       "                var nbb_formatted_code = \"EMOS_local_t2m_scores = EMOS_local_load_score(\\\"t2m\\\")\\nEMOS_global_t2m_scores = EMOS_global_load_score(\\\"t2m\\\")\";\n",
       "                var nbb_cells = Jupyter.notebook.get_cells();\n",
       "                for (var i = 0; i < nbb_cells.length; ++i) {\n",
       "                    if (nbb_cells[i].input_prompt_number == nbb_cell_id) {\n",
       "                        if (nbb_cells[i].get_text() == nbb_unformatted_code) {\n",
       "                             nbb_cells[i].set_text(nbb_formatted_code);\n",
       "                        }\n",
       "                        break;\n",
       "                    }\n",
       "                }\n",
       "            }, 500);\n",
       "            "
      ],
      "text/plain": [
       "<IPython.core.display.Javascript object>"
      ]
     },
     "metadata": {},
     "output_type": "display_data"
    }
   ],
   "source": [
    "EMOS_local_t2m_scores = EMOS_local_load_score(\"t2m\")\n",
    "EMOS_global_t2m_scores = EMOS_global_load_score(\"t2m\")"
   ]
  },
  {
   "cell_type": "code",
   "execution_count": 4,
   "id": "74d228cf",
   "metadata": {},
   "outputs": [
    {
     "data": {
      "text/plain": [
       "31"
      ]
     },
     "execution_count": 4,
     "metadata": {},
     "output_type": "execute_result"
    },
    {
     "data": {
      "application/javascript": [
       "\n",
       "            setTimeout(function() {\n",
       "                var nbb_cell_id = 4;\n",
       "                var nbb_unformatted_code = \"len(EMOS_local_t2m_scores)\";\n",
       "                var nbb_formatted_code = \"len(EMOS_local_t2m_scores)\";\n",
       "                var nbb_cells = Jupyter.notebook.get_cells();\n",
       "                for (var i = 0; i < nbb_cells.length; ++i) {\n",
       "                    if (nbb_cells[i].input_prompt_number == nbb_cell_id) {\n",
       "                        if (nbb_cells[i].get_text() == nbb_unformatted_code) {\n",
       "                             nbb_cells[i].set_text(nbb_formatted_code);\n",
       "                        }\n",
       "                        break;\n",
       "                    }\n",
       "                }\n",
       "            }, 500);\n",
       "            "
      ],
      "text/plain": [
       "<IPython.core.display.Javascript object>"
      ]
     },
     "metadata": {},
     "output_type": "display_data"
    }
   ],
   "source": [
    "len(EMOS_local_t2m_scores)"
   ]
  },
  {
   "cell_type": "code",
   "execution_count": 5,
   "id": "bb6cb826",
   "metadata": {},
   "outputs": [
    {
     "data": {
      "text/plain": [
       "(120, 130)"
      ]
     },
     "execution_count": 5,
     "metadata": {},
     "output_type": "execute_result"
    },
    {
     "data": {
      "application/javascript": [
       "\n",
       "            setTimeout(function() {\n",
       "                var nbb_cell_id = 5;\n",
       "                var nbb_unformatted_code = \"EMOS_local_t2m_scores[0].shape\";\n",
       "                var nbb_formatted_code = \"EMOS_local_t2m_scores[0].shape\";\n",
       "                var nbb_cells = Jupyter.notebook.get_cells();\n",
       "                for (var i = 0; i < nbb_cells.length; ++i) {\n",
       "                    if (nbb_cells[i].input_prompt_number == nbb_cell_id) {\n",
       "                        if (nbb_cells[i].get_text() == nbb_unformatted_code) {\n",
       "                             nbb_cells[i].set_text(nbb_formatted_code);\n",
       "                        }\n",
       "                        break;\n",
       "                    }\n",
       "                }\n",
       "            }, 500);\n",
       "            "
      ],
      "text/plain": [
       "<IPython.core.display.Javascript object>"
      ]
     },
     "metadata": {},
     "output_type": "display_data"
    }
   ],
   "source": [
    "EMOS_local_t2m_scores[0].shape"
   ]
  },
  {
   "cell_type": "code",
   "execution_count": 7,
   "id": "c0a6ad99",
   "metadata": {},
   "outputs": [
    {
     "data": {
      "text/plain": [
       "array([[0., 0., 0., ..., 0., 0., 0.],\n",
       "       [0., 0., 0., ..., 0., 0., 0.],\n",
       "       [0., 0., 0., ..., 0., 0., 0.],\n",
       "       ...,\n",
       "       [0., 0., 0., ..., 0., 0., 0.],\n",
       "       [0., 0., 0., ..., 0., 0., 0.],\n",
       "       [0., 0., 0., ..., 0., 0., 0.]])"
      ]
     },
     "execution_count": 7,
     "metadata": {},
     "output_type": "execute_result"
    },
    {
     "data": {
      "application/javascript": [
       "\n",
       "            setTimeout(function() {\n",
       "                var nbb_cell_id = 7;\n",
       "                var nbb_unformatted_code = \"EMOS_local_t2m_scores[30]\";\n",
       "                var nbb_formatted_code = \"EMOS_local_t2m_scores[30]\";\n",
       "                var nbb_cells = Jupyter.notebook.get_cells();\n",
       "                for (var i = 0; i < nbb_cells.length; ++i) {\n",
       "                    if (nbb_cells[i].input_prompt_number == nbb_cell_id) {\n",
       "                        if (nbb_cells[i].get_text() == nbb_unformatted_code) {\n",
       "                             nbb_cells[i].set_text(nbb_formatted_code);\n",
       "                        }\n",
       "                        break;\n",
       "                    }\n",
       "                }\n",
       "            }, 500);\n",
       "            "
      ],
      "text/plain": [
       "<IPython.core.display.Javascript object>"
      ]
     },
     "metadata": {},
     "output_type": "display_data"
    }
   ],
   "source": [
    "EMOS_local_t2m_scores[30]"
   ]
  },
  {
   "cell_type": "code",
   "execution_count": 6,
   "id": "d63411f9",
   "metadata": {
    "scrolled": true
   },
   "outputs": [
    {
     "name": "stdout",
     "output_type": "stream",
     "text": [
      "328.4947446075649\n",
      "330.23082720595545\n",
      "327.9483725371961\n",
      "327.4246856143493\n",
      "325.12237542186887\n",
      "329.68265990216054\n",
      "328.4815737422798\n",
      "327.80967964218854\n",
      "326.97397396183334\n",
      "332.5469142508466\n",
      "327.98502607177977\n",
      "328.61883506726286\n",
      "326.3603014033997\n",
      "327.59675320344036\n",
      "329.88643152674564\n",
      "328.0712323588493\n",
      "325.48345232737216\n",
      "330.7377808812805\n",
      "328.6731864870094\n",
      "324.91899653014787\n",
      "323.73391273756556\n",
      "329.8773844068397\n",
      "331.857066076039\n",
      "326.8387646587133\n",
      "323.4507281165549\n",
      "324.2752901651796\n",
      "324.22444877192015\n",
      "328.4363450070129\n",
      "324.48297908063785\n",
      "330.94390141942785\n",
      "0.0\n"
     ]
    },
    {
     "data": {
      "application/javascript": [
       "\n",
       "            setTimeout(function() {\n",
       "                var nbb_cell_id = 6;\n",
       "                var nbb_unformatted_code = \"for i in range(len(EMOS_local_t2m_scores)):\\n    print(np.mean(EMOS_local_t2m_scores[i]))\";\n",
       "                var nbb_formatted_code = \"for i in range(len(EMOS_local_t2m_scores)):\\n    print(np.mean(EMOS_local_t2m_scores[i]))\";\n",
       "                var nbb_cells = Jupyter.notebook.get_cells();\n",
       "                for (var i = 0; i < nbb_cells.length; ++i) {\n",
       "                    if (nbb_cells[i].input_prompt_number == nbb_cell_id) {\n",
       "                        if (nbb_cells[i].get_text() == nbb_unformatted_code) {\n",
       "                             nbb_cells[i].set_text(nbb_formatted_code);\n",
       "                        }\n",
       "                        break;\n",
       "                    }\n",
       "                }\n",
       "            }, 500);\n",
       "            "
      ],
      "text/plain": [
       "<IPython.core.display.Javascript object>"
      ]
     },
     "metadata": {},
     "output_type": "display_data"
    }
   ],
   "source": [
    "for i in range(len(EMOS_local_t2m_scores)):\n",
    "    print(np.mean(EMOS_local_t2m_scores[i]))"
   ]
  },
  {
   "cell_type": "code",
   "execution_count": 8,
   "id": "97b2a666",
   "metadata": {},
   "outputs": [
    {
     "name": "stdout",
     "output_type": "stream",
     "text": [
      "0.3579158720675525\n",
      "0.4294854308486648\n",
      "0.43580610345285276\n",
      "0.46634451031549323\n",
      "0.4805410959290852\n",
      "0.5147794461997237\n",
      "0.5319366754911081\n",
      "0.5655238974572119\n",
      "0.5731764403980474\n",
      "0.5984597704946297\n",
      "0.6204348943894081\n",
      "0.6523478367241466\n",
      "0.6587426287984816\n",
      "0.6819800091642969\n",
      "0.7016747915923386\n",
      "0.7306790653307432\n",
      "0.7344800723014707\n",
      "0.7602097936026542\n",
      "0.7728042089225389\n",
      "0.8031066091325454\n",
      "0.8045481476610289\n",
      "0.838901271578145\n",
      "0.8489514579129032\n",
      "0.8728372701922087\n",
      "0.8741058417649076\n",
      "0.8986773938169144\n",
      "0.9177029102092923\n",
      "0.9431298210736898\n",
      "0.9401560790901858\n",
      "0.969711973380655\n",
      "0.980268295618246\n"
     ]
    },
    {
     "data": {
      "application/javascript": [
       "\n",
       "            setTimeout(function() {\n",
       "                var nbb_cell_id = 8;\n",
       "                var nbb_unformatted_code = \"for i in range(len(EMOS_global_t2m_scores)):\\n    print(np.median(EMOS_global_t2m_scores[i]))\";\n",
       "                var nbb_formatted_code = \"for i in range(len(EMOS_global_t2m_scores)):\\n    print(np.median(EMOS_global_t2m_scores[i]))\";\n",
       "                var nbb_cells = Jupyter.notebook.get_cells();\n",
       "                for (var i = 0; i < nbb_cells.length; ++i) {\n",
       "                    if (nbb_cells[i].input_prompt_number == nbb_cell_id) {\n",
       "                        if (nbb_cells[i].get_text() == nbb_unformatted_code) {\n",
       "                             nbb_cells[i].set_text(nbb_formatted_code);\n",
       "                        }\n",
       "                        break;\n",
       "                    }\n",
       "                }\n",
       "            }, 500);\n",
       "            "
      ],
      "text/plain": [
       "<IPython.core.display.Javascript object>"
      ]
     },
     "metadata": {},
     "output_type": "display_data"
    }
   ],
   "source": [
    "for i in range(len(EMOS_global_t2m_scores)):\n",
    "    print(np.median(EMOS_global_t2m_scores[i]))"
   ]
  },
  {
   "cell_type": "markdown",
   "id": "3efdc4ba",
   "metadata": {},
   "source": [
    "### 2. Hyperparameter tuning:"
   ]
  },
  {
   "cell_type": "code",
   "execution_count": 9,
   "id": "90a54fe3",
   "metadata": {},
   "outputs": [
    {
     "data": {
      "application/javascript": [
       "\n",
       "            setTimeout(function() {\n",
       "                var nbb_cell_id = 9;\n",
       "                var nbb_unformatted_code = \"var_num = 2\\nlead_time = 0\\nbatch_size = 128\\nepochs = 10\\nlr = 0.01\\nvalidation_split = 0.2\\noptimizer = \\\"Adam\\\"\";\n",
       "                var nbb_formatted_code = \"var_num = 2\\nlead_time = 0\\nbatch_size = 128\\nepochs = 10\\nlr = 0.01\\nvalidation_split = 0.2\\noptimizer = \\\"Adam\\\"\";\n",
       "                var nbb_cells = Jupyter.notebook.get_cells();\n",
       "                for (var i = 0; i < nbb_cells.length; ++i) {\n",
       "                    if (nbb_cells[i].input_prompt_number == nbb_cell_id) {\n",
       "                        if (nbb_cells[i].get_text() == nbb_unformatted_code) {\n",
       "                             nbb_cells[i].set_text(nbb_formatted_code);\n",
       "                        }\n",
       "                        break;\n",
       "                    }\n",
       "                }\n",
       "            }, 500);\n",
       "            "
      ],
      "text/plain": [
       "<IPython.core.display.Javascript object>"
      ]
     },
     "metadata": {},
     "output_type": "display_data"
    }
   ],
   "source": [
    "var_num = 2\n",
    "lead_time = 0\n",
    "batch_size = 128\n",
    "epochs = 10\n",
    "lr = 0.01\n",
    "validation_split = 0.2\n",
    "optimizer = \"Adam\""
   ]
  },
  {
   "cell_type": "code",
   "execution_count": null,
   "id": "b8359f76",
   "metadata": {
    "scrolled": false
   },
   "outputs": [
    {
     "name": "stdout",
     "output_type": "stream",
     "text": [
      "Epoch 1/10\n",
      "9/9 [==============================] - 0s 14ms/step - loss: 83.8699 - val_loss: 69.7883\n",
      "Epoch 2/10\n",
      "9/9 [==============================] - 0s 4ms/step - loss: 58.3929 - val_loss: 44.2366\n",
      "Epoch 3/10\n",
      "9/9 [==============================] - 0s 4ms/step - loss: 32.9202 - val_loss: 18.6839\n",
      "Epoch 4/10\n",
      "9/9 [==============================] - 0s 4ms/step - loss: 8.2230 - val_loss: 3.1666\n",
      "Epoch 5/10\n",
      "9/9 [==============================] - 0s 4ms/step - loss: 5.8497 - val_loss: 4.5275\n",
      "Epoch 6/10\n",
      "9/9 [==============================] - 0s 5ms/step - loss: 1.9953 - val_loss: 2.4351\n",
      "Epoch 7/10\n",
      "9/9 [==============================] - 0s 3ms/step - loss: 1.5582 - val_loss: 0.9555\n",
      "Epoch 8/10\n",
      "9/9 [==============================] - 0s 3ms/step - loss: 1.0444 - val_loss: 0.6923\n",
      "Epoch 9/10\n",
      "9/9 [==============================] - 0s 4ms/step - loss: 0.8047 - val_loss: 0.6807\n",
      "Epoch 10/10\n",
      "9/9 [==============================] - 0s 3ms/step - loss: 0.7168 - val_loss: 0.6684\n",
      "Epoch 1/10\n",
      "9/9 [==============================] - 1s 17ms/step - loss: 280.1628 - val_loss: 266.7464\n",
      "Epoch 2/10\n",
      "9/9 [==============================] - 0s 5ms/step - loss: 254.6866 - val_loss: 241.1919\n",
      "Epoch 3/10\n",
      "9/9 [==============================] - 0s 3ms/step - loss: 229.2079 - val_loss: 215.6381\n",
      "Epoch 4/10\n",
      "9/9 [==============================] - 0s 4ms/step - loss: 203.7309 - val_loss: 190.0837\n",
      "Epoch 5/10\n",
      "9/9 [==============================] - 0s 4ms/step - loss: 178.2549 - val_loss: 164.5285\n",
      "Epoch 6/10\n",
      "9/9 [==============================] - 0s 4ms/step - loss: 152.7771 - val_loss: 138.9732\n",
      "Epoch 7/10\n",
      "9/9 [==============================] - 0s 5ms/step - loss: 127.3020 - val_loss: 113.4170\n",
      "Epoch 8/10\n",
      "9/9 [==============================] - 0s 3ms/step - loss: 101.8272 - val_loss: 87.8597\n",
      "Epoch 9/10\n",
      "9/9 [==============================] - 0s 3ms/step - loss: 76.3480 - val_loss: 62.3047\n",
      "Epoch 10/10\n",
      "9/9 [==============================] - 0s 5ms/step - loss: 50.8706 - val_loss: 36.7506\n",
      "Epoch 1/10\n",
      "9/9 [==============================] - 1s 20ms/step - loss: 639.7691 - val_loss: 627.4930\n",
      "Epoch 2/10\n",
      "9/9 [==============================] - 0s 6ms/step - loss: 614.2973 - val_loss: 601.9414\n",
      "Epoch 3/10\n",
      "9/9 [==============================] - 0s 3ms/step - loss: 588.8230 - val_loss: 576.3904\n",
      "Epoch 4/10\n",
      "9/9 [==============================] - 0s 3ms/step - loss: 563.3544 - val_loss: 550.8372\n",
      "Epoch 5/10\n",
      "9/9 [==============================] - 0s 4ms/step - loss: 537.8828 - val_loss: 525.2849\n",
      "Epoch 6/10\n",
      "9/9 [==============================] - 0s 4ms/step - loss: 512.4105 - val_loss: 499.7330\n",
      "Epoch 7/10\n",
      "9/9 [==============================] - 0s 3ms/step - loss: 486.9392 - val_loss: 474.1812\n",
      "Epoch 8/10\n",
      "9/9 [==============================] - 0s 3ms/step - loss: 461.4680 - val_loss: 448.6293\n",
      "Epoch 9/10\n",
      "9/9 [==============================] - 0s 3ms/step - loss: 435.9975 - val_loss: 423.0771\n",
      "Epoch 10/10\n",
      "9/9 [==============================] - 0s 3ms/step - loss: 410.5263 - val_loss: 397.5248\n",
      "Epoch 1/10\n",
      "9/9 [==============================] - 1s 15ms/step - loss: 721.8032 - val_loss: 709.8195\n",
      "Epoch 2/10\n",
      "9/9 [==============================] - 0s 4ms/step - loss: 696.3328 - val_loss: 684.2625\n",
      "Epoch 3/10\n",
      "9/9 [==============================] - 0s 4ms/step - loss: 670.8537 - val_loss: 658.7084\n",
      "Epoch 4/10\n",
      "9/9 [==============================] - 0s 3ms/step - loss: 645.3830 - val_loss: 633.1516\n",
      "Epoch 5/10\n",
      "9/9 [==============================] - 0s 4ms/step - loss: 619.9100 - val_loss: 607.5947\n",
      "Epoch 6/10\n",
      "9/9 [==============================] - 0s 3ms/step - loss: 594.4390 - val_loss: 582.0365\n",
      "Epoch 7/10\n",
      "9/9 [==============================] - 0s 3ms/step - loss: 568.9613 - val_loss: 556.4818\n",
      "Epoch 8/10\n",
      "9/9 [==============================] - 0s 3ms/step - loss: 543.4905 - val_loss: 530.9250\n",
      "Epoch 9/10\n",
      "9/9 [==============================] - 0s 4ms/step - loss: 518.0184 - val_loss: 505.3680\n",
      "Epoch 10/10\n",
      "9/9 [==============================] - 0s 6ms/step - loss: 492.5425 - val_loss: 479.8129\n",
      "Epoch 1/10\n",
      "9/9 [==============================] - 1s 14ms/step - loss: 126.0498 - val_loss: 112.1982\n",
      "Epoch 2/10\n",
      "9/9 [==============================] - 0s 4ms/step - loss: 100.5886 - val_loss: 86.6509\n",
      "Epoch 3/10\n",
      "9/9 [==============================] - 0s 3ms/step - loss: 75.1250 - val_loss: 61.1046\n",
      "Epoch 4/10\n",
      "9/9 [==============================] - 0s 4ms/step - loss: 49.6591 - val_loss: 35.5591\n",
      "Epoch 5/10\n",
      "9/9 [==============================] - 0s 4ms/step - loss: 24.1978 - val_loss: 10.0120\n",
      "Epoch 6/10\n",
      "9/9 [==============================] - 0s 4ms/step - loss: 4.7314 - val_loss: 7.2660\n",
      "Epoch 7/10\n",
      "9/9 [==============================] - 0s 4ms/step - loss: 5.7669 - val_loss: 0.8435\n",
      "Epoch 8/10\n",
      "9/9 [==============================] - 0s 4ms/step - loss: 1.8274 - val_loss: 1.3689\n",
      "Epoch 9/10\n",
      "9/9 [==============================] - 0s 3ms/step - loss: 1.0120 - val_loss: 0.8361\n",
      "Epoch 10/10\n",
      "9/9 [==============================] - 0s 4ms/step - loss: 0.6727 - val_loss: 0.5821\n",
      "Epoch 1/10\n",
      "9/9 [==============================] - 1s 20ms/step - loss: 534.7839 - val_loss: 522.2089\n",
      "Epoch 2/10\n",
      "9/9 [==============================] - 0s 4ms/step - loss: 509.3140 - val_loss: 496.6613\n",
      "Epoch 3/10\n",
      "9/9 [==============================] - 0s 4ms/step - loss: 483.8533 - val_loss: 471.1101\n",
      "Epoch 4/10\n",
      "9/9 [==============================] - 0s 4ms/step - loss: 458.3838 - val_loss: 445.5616\n",
      "Epoch 5/10\n",
      "9/9 [==============================] - 0s 5ms/step - loss: 432.9184 - val_loss: 420.0123\n",
      "Epoch 6/10\n",
      "9/9 [==============================] - 0s 3ms/step - loss: 407.4544 - val_loss: 394.4615\n",
      "Epoch 7/10\n",
      "9/9 [==============================] - 0s 5ms/step - loss: 381.9856 - val_loss: 368.9126\n",
      "Epoch 8/10\n",
      "9/9 [==============================] - 0s 3ms/step - loss: 356.5200 - val_loss: 343.3630\n",
      "Epoch 9/10\n",
      "9/9 [==============================] - 0s 4ms/step - loss: 331.0509 - val_loss: 317.8152\n",
      "Epoch 10/10\n",
      "9/9 [==============================] - 0s 4ms/step - loss: 305.5905 - val_loss: 292.2629\n",
      "Epoch 1/10\n"
     ]
    }
   ],
   "source": [
    "EMOS_local_train(\n",
    "    var_num,\n",
    "    lead_time,\n",
    "    batch_size=batch_size,\n",
    "    epochs=epochs,\n",
    "    lr=lr,\n",
    "    validation_split=validation_split,\n",
    "    optimizer=optimizer,\n",
    "    save=False,\n",
    ")"
   ]
  },
  {
   "cell_type": "code",
   "execution_count": null,
   "id": "c670b560",
   "metadata": {},
   "outputs": [],
   "source": []
  },
  {
   "cell_type": "code",
   "execution_count": null,
   "id": "07e193e0",
   "metadata": {},
   "outputs": [],
   "source": []
  },
  {
   "cell_type": "markdown",
   "id": "fa688879",
   "metadata": {},
   "source": [
    "### 3. Trying to load models:"
   ]
  }
 ],
 "metadata": {
  "kernelspec": {
   "display_name": "Python 3 (ipykernel)",
   "language": "python",
   "name": "python3"
  },
  "language_info": {
   "codemirror_mode": {
    "name": "ipython",
    "version": 3
   },
   "file_extension": ".py",
   "mimetype": "text/x-python",
   "name": "python",
   "nbconvert_exporter": "python",
   "pygments_lexer": "ipython3",
   "version": "3.9.7"
  }
 },
 "nbformat": 4,
 "nbformat_minor": 5
}
