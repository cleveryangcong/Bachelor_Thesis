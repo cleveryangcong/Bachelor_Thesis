{
 "cells": [
  {
   "cell_type": "code",
   "execution_count": 17,
   "id": "38f0f79c",
   "metadata": {},
   "outputs": [
    {
     "name": "stdout",
     "output_type": "stream",
     "text": [
      "The nb_black extension is already loaded. To reload it, use:\n",
      "  %reload_ext nb_black\n"
     ]
    },
    {
     "data": {
      "application/javascript": [
       "\n",
       "            setTimeout(function() {\n",
       "                var nbb_cell_id = 17;\n",
       "                var nbb_unformatted_code = \"%load_ext nb_black\";\n",
       "                var nbb_formatted_code = \"%load_ext nb_black\";\n",
       "                var nbb_cells = Jupyter.notebook.get_cells();\n",
       "                for (var i = 0; i < nbb_cells.length; ++i) {\n",
       "                    if (nbb_cells[i].input_prompt_number == nbb_cell_id) {\n",
       "                        if (nbb_cells[i].get_text() == nbb_unformatted_code) {\n",
       "                             nbb_cells[i].set_text(nbb_formatted_code);\n",
       "                        }\n",
       "                        break;\n",
       "                    }\n",
       "                }\n",
       "            }, 500);\n",
       "            "
      ],
      "text/plain": [
       "<IPython.core.display.Javascript object>"
      ]
     },
     "metadata": {},
     "output_type": "display_data"
    }
   ],
   "source": [
    "%load_ext nb_black"
   ]
  },
  {
   "cell_type": "code",
   "execution_count": 18,
   "id": "d997b9ed",
   "metadata": {},
   "outputs": [
    {
     "data": {
      "application/javascript": [
       "\n",
       "            setTimeout(function() {\n",
       "                var nbb_cell_id = 18;\n",
       "                var nbb_unformatted_code = \"# Helpful\\nimport tqdm\\n\\n# Visualization\\nimport matplotlib.pyplot as plt\\n\\n# My Methods\\nfrom src.utils.CRPS import *\\nfrom src.utils.data_split import *\\nfrom src.models.EMOS import *\\nfrom src.models.EMOS_global.EMOS_global_load_score import *\\nfrom src.models.EMOS_local.EMOS_local_load_score import *\\nfrom src.models.EMOS_local.EMOS_local_load_model import *\\nfrom src.models.EMOS_global.EMOS_global_load_model import *\\nfrom src.models.EMOS_local.EMOS_local_hyper_tune import *\\nimport data.raw.load_data_raw as ldr\\nimport data.processed.load_data_processed as ldp\\nimport data.processed.load_data_processed_denormed as ldpd\\nfrom src.models.CRPS_baseline.CRPS_load import *\\nfrom src.models.EMOS_local.EMOS_local_train import *\";\n",
       "                var nbb_formatted_code = \"# Helpful\\nimport tqdm\\n\\n# Visualization\\nimport matplotlib.pyplot as plt\\n\\n# My Methods\\nfrom src.utils.CRPS import *\\nfrom src.utils.data_split import *\\nfrom src.models.EMOS import *\\nfrom src.models.EMOS_global.EMOS_global_load_score import *\\nfrom src.models.EMOS_local.EMOS_local_load_score import *\\nfrom src.models.EMOS_local.EMOS_local_load_model import *\\nfrom src.models.EMOS_global.EMOS_global_load_model import *\\nfrom src.models.EMOS_local.EMOS_local_hyper_tune import *\\nimport data.raw.load_data_raw as ldr\\nimport data.processed.load_data_processed as ldp\\nimport data.processed.load_data_processed_denormed as ldpd\\nfrom src.models.CRPS_baseline.CRPS_load import *\\nfrom src.models.EMOS_local.EMOS_local_train import *\";\n",
       "                var nbb_cells = Jupyter.notebook.get_cells();\n",
       "                for (var i = 0; i < nbb_cells.length; ++i) {\n",
       "                    if (nbb_cells[i].input_prompt_number == nbb_cell_id) {\n",
       "                        if (nbb_cells[i].get_text() == nbb_unformatted_code) {\n",
       "                             nbb_cells[i].set_text(nbb_formatted_code);\n",
       "                        }\n",
       "                        break;\n",
       "                    }\n",
       "                }\n",
       "            }, 500);\n",
       "            "
      ],
      "text/plain": [
       "<IPython.core.display.Javascript object>"
      ]
     },
     "metadata": {},
     "output_type": "display_data"
    }
   ],
   "source": [
    "# Helpful\n",
    "import tqdm\n",
    "\n",
    "# Visualization\n",
    "import matplotlib.pyplot as plt\n",
    "\n",
    "# My Methods\n",
    "from src.utils.CRPS import *\n",
    "from src.utils.data_split import *\n",
    "from src.models.EMOS import *\n",
    "from src.models.EMOS_global.EMOS_global_load_score import *\n",
    "from src.models.EMOS_local.EMOS_local_load_score import *\n",
    "from src.models.EMOS_local.EMOS_local_load_model import *\n",
    "from src.models.EMOS_global.EMOS_global_load_model import *\n",
    "from src.models.EMOS_local.EMOS_local_hyper_tune import *\n",
    "import data.raw.load_data_raw as ldr\n",
    "import data.processed.load_data_processed as ldp\n",
    "import data.processed.load_data_processed_denormed as ldpd\n",
    "from src.models.CRPS_baseline.CRPS_load import *\n",
    "from src.models.EMOS_local.EMOS_local_train import *"
   ]
  },
  {
   "cell_type": "markdown",
   "id": "527aa811",
   "metadata": {},
   "source": [
    "### 1. Load Scores"
   ]
  },
  {
   "cell_type": "code",
   "execution_count": 19,
   "id": "a0dcce10",
   "metadata": {},
   "outputs": [
    {
     "data": {
      "application/javascript": [
       "\n",
       "            setTimeout(function() {\n",
       "                var nbb_cell_id = 19;\n",
       "                var nbb_unformatted_code = \"# Load EMOS local scores\\nEMOS_local_t2m_scores = EMOS_local_load_score(\\\"t2m\\\")\\n# EMOS_local_ws10_scores = EMOS_local_load_score(\\\"ws10\\\")\\n\\n# Load EMOS global scores\\nEMOS_global_t2m_scores = EMOS_global_load_score(\\\"t2m\\\")\\nEMOS_global_ws10_scores = EMOS_global_load_score(\\\"ws10\\\")\\n\\n# Load CRPS scores\\nCRPS_global_t2m_scores = crps_load_lead_lat_lon(\\\"t2m\\\")\\nCRPS_global_ws10_scores = crps_load_lead_lat_lon(\\\"ws10\\\")\";\n",
       "                var nbb_formatted_code = \"# Load EMOS local scores\\nEMOS_local_t2m_scores = EMOS_local_load_score(\\\"t2m\\\")\\n# EMOS_local_ws10_scores = EMOS_local_load_score(\\\"ws10\\\")\\n\\n# Load EMOS global scores\\nEMOS_global_t2m_scores = EMOS_global_load_score(\\\"t2m\\\")\\nEMOS_global_ws10_scores = EMOS_global_load_score(\\\"ws10\\\")\\n\\n# Load CRPS scores\\nCRPS_global_t2m_scores = crps_load_lead_lat_lon(\\\"t2m\\\")\\nCRPS_global_ws10_scores = crps_load_lead_lat_lon(\\\"ws10\\\")\";\n",
       "                var nbb_cells = Jupyter.notebook.get_cells();\n",
       "                for (var i = 0; i < nbb_cells.length; ++i) {\n",
       "                    if (nbb_cells[i].input_prompt_number == nbb_cell_id) {\n",
       "                        if (nbb_cells[i].get_text() == nbb_unformatted_code) {\n",
       "                             nbb_cells[i].set_text(nbb_formatted_code);\n",
       "                        }\n",
       "                        break;\n",
       "                    }\n",
       "                }\n",
       "            }, 500);\n",
       "            "
      ],
      "text/plain": [
       "<IPython.core.display.Javascript object>"
      ]
     },
     "metadata": {},
     "output_type": "display_data"
    }
   ],
   "source": [
    "# Load EMOS local scores\n",
    "EMOS_local_t2m_scores = EMOS_local_load_score(\"t2m\")\n",
    "# EMOS_local_ws10_scores = EMOS_local_load_score(\"ws10\")\n",
    "\n",
    "# Load EMOS global scores\n",
    "EMOS_global_t2m_scores = EMOS_global_load_score(\"t2m\")\n",
    "EMOS_global_ws10_scores = EMOS_global_load_score(\"ws10\")\n",
    "\n",
    "# Load CRPS scores\n",
    "CRPS_global_t2m_scores = crps_load_lead_lat_lon(\"t2m\")\n",
    "CRPS_global_ws10_scores = crps_load_lead_lat_lon(\"ws10\")"
   ]
  },
  {
   "cell_type": "code",
   "execution_count": 22,
   "id": "2ad884d6",
   "metadata": {},
   "outputs": [
    {
     "data": {
      "text/plain": [
       "31"
      ]
     },
     "execution_count": 22,
     "metadata": {},
     "output_type": "execute_result"
    },
    {
     "data": {
      "application/javascript": [
       "\n",
       "            setTimeout(function() {\n",
       "                var nbb_cell_id = 22;\n",
       "                var nbb_unformatted_code = \"len(EMOS_local_t2m_scores)\";\n",
       "                var nbb_formatted_code = \"len(EMOS_local_t2m_scores)\";\n",
       "                var nbb_cells = Jupyter.notebook.get_cells();\n",
       "                for (var i = 0; i < nbb_cells.length; ++i) {\n",
       "                    if (nbb_cells[i].input_prompt_number == nbb_cell_id) {\n",
       "                        if (nbb_cells[i].get_text() == nbb_unformatted_code) {\n",
       "                             nbb_cells[i].set_text(nbb_formatted_code);\n",
       "                        }\n",
       "                        break;\n",
       "                    }\n",
       "                }\n",
       "            }, 500);\n",
       "            "
      ],
      "text/plain": [
       "<IPython.core.display.Javascript object>"
      ]
     },
     "metadata": {},
     "output_type": "display_data"
    }
   ],
   "source": [
    "len(EMOS_local_t2m_scores)"
   ]
  },
  {
   "cell_type": "code",
   "execution_count": 26,
   "id": "01cc1afd",
   "metadata": {},
   "outputs": [
    {
     "name": "stdout",
     "output_type": "stream",
     "text": [
      "EMOS_local: 0.5444882826810865, EMOS_global: 0.4673401873320892, CRPS: 0.5084816639136492\n",
      "EMOS_local: 0.5053172433515578, EMOS_global: 0.5297212701322601, CRPS: 0.5347707002046389\n",
      "EMOS_local: 0.5141073081029861, EMOS_global: 0.5105776602793739, CRPS: 0.5150757989800734\n",
      "EMOS_local: 0.49568416761621475, EMOS_global: 0.5187042066593011, CRPS: 0.5301602687833538\n",
      "EMOS_local: 0.5764168723142572, EMOS_global: 0.5379253302273839, CRPS: 0.5624034501418446\n",
      "EMOS_local: 0.5760648372527605, EMOS_global: 0.5924092410007133, CRPS: 0.6306282599852645\n",
      "EMOS_local: 0.5965537768976911, EMOS_global: 0.5920924175090567, CRPS: 0.6316119778923832\n",
      "EMOS_local: 0.5809833473325556, EMOS_global: 0.6020434806248538, CRPS: 0.6454345388357919\n",
      "EMOS_local: 0.6659074363281077, EMOS_global: 0.6251029754078069, CRPS: 0.6802850949781106\n",
      "EMOS_local: 0.6791068504334168, EMOS_global: 0.6920910937109535, CRPS: 0.7561511514525252\n",
      "EMOS_local: 0.7012070763260327, EMOS_global: 0.6984210795617619, CRPS: 0.7596827249402444\n",
      "EMOS_local: 0.6825359300202064, EMOS_global: 0.7010491067649252, CRPS: 0.7671595364524374\n",
      "EMOS_local: 0.7713391252012092, EMOS_global: 0.7326259105215014, CRPS: 0.8087436349681829\n",
      "EMOS_local: 0.7964419777083005, EMOS_global: 0.8081989710473392, CRPS: 0.8907210185014609\n",
      "EMOS_local: 0.8130560964558451, EMOS_global: 0.8107418318323198, CRPS: 0.8895929183430251\n",
      "EMOS_local: 0.791360610161699, EMOS_global: 0.8075659261587096, CRPS: 0.8913402208770865\n",
      "EMOS_local: 0.878496665162258, EMOS_global: 0.8419100467688746, CRPS: 0.9354666921537256\n",
      "EMOS_local: 0.9196015704580028, EMOS_global: 0.9272685510719906, CRPS: 1.030760697007392\n",
      "EMOS_local: 0.9275937609226926, EMOS_global: 0.9238354518379173, CRPS: 1.020928305756169\n",
      "EMOS_local: 0.8987232693985949, EMOS_global: 0.9149419408923763, CRPS: 1.011146119667486\n",
      "EMOS_local: 0.983519250184496, EMOS_global: 0.9480856381547978, CRPS: 1.0559743772319934\n",
      "EMOS_local: 1.0464143390685179, EMOS_global: 1.0535067163559073, CRPS: 1.170507971000092\n",
      "EMOS_local: 1.041802310089591, EMOS_global: 1.0385039484335057, CRPS: 1.1471350159491147\n",
      "EMOS_local: 1.0041480170512107, EMOS_global: 1.0174896780726688, CRPS: 1.1231032795400633\n",
      "EMOS_local: 1.083762693644618, EMOS_global: 1.049354167422327, CRPS: 1.1665183732402151\n",
      "EMOS_local: 1.1614073329017087, EMOS_global: 1.155104391351463, CRPS: 1.291409822220935\n",
      "EMOS_local: 1.1461418132212673, EMOS_global: 1.138138461370122, CRPS: 1.2553212202206236\n",
      "EMOS_local: 1.0964628123192737, EMOS_global: 1.1036528262859309, CRPS: 1.2185923742165932\n",
      "EMOS_local: 1.1704287733235792, EMOS_global: 1.1357242519091395, CRPS: 1.261623224976432\n",
      "EMOS_local: 1.2741407753590124, EMOS_global: 1.2656613124592335, CRPS: 1.4120354238676378\n",
      "EMOS_local: 0.0, EMOS_global: 1.225492003591844, CRPS: 1.3563336012079834\n"
     ]
    },
    {
     "data": {
      "application/javascript": [
       "\n",
       "            setTimeout(function() {\n",
       "                var nbb_cell_id = 26;\n",
       "                var nbb_unformatted_code = \"for lead_time in range(len(EMOS_local_t2m_scores)):\\n    print(f'EMOS_local: {EMOS_local_t2m_scores[lead_time].mean()}, EMOS_global: {EMOS_global_t2m_scores[lead_time].mean()}, CRPS: {CRPS_global_t2m_scores[lead_time].mean()}')\";\n",
       "                var nbb_formatted_code = \"for lead_time in range(len(EMOS_local_t2m_scores)):\\n    print(\\n        f\\\"EMOS_local: {EMOS_local_t2m_scores[lead_time].mean()}, EMOS_global: {EMOS_global_t2m_scores[lead_time].mean()}, CRPS: {CRPS_global_t2m_scores[lead_time].mean()}\\\"\\n    )\";\n",
       "                var nbb_cells = Jupyter.notebook.get_cells();\n",
       "                for (var i = 0; i < nbb_cells.length; ++i) {\n",
       "                    if (nbb_cells[i].input_prompt_number == nbb_cell_id) {\n",
       "                        if (nbb_cells[i].get_text() == nbb_unformatted_code) {\n",
       "                             nbb_cells[i].set_text(nbb_formatted_code);\n",
       "                        }\n",
       "                        break;\n",
       "                    }\n",
       "                }\n",
       "            }, 500);\n",
       "            "
      ],
      "text/plain": [
       "<IPython.core.display.Javascript object>"
      ]
     },
     "metadata": {},
     "output_type": "display_data"
    }
   ],
   "source": [
    "for lead_time in range(len(EMOS_local_t2m_scores)):\n",
    "    print(\n",
    "        f\"EMOS_local: {EMOS_local_t2m_scores[lead_time].mean()}, EMOS_global: {EMOS_global_t2m_scores[lead_time].mean()}, CRPS: {CRPS_global_t2m_scores[lead_time].mean()}\"\n",
    "    )"
   ]
  },
  {
   "cell_type": "code",
   "execution_count": null,
   "id": "8d8b7c4e",
   "metadata": {},
   "outputs": [],
   "source": []
  },
  {
   "cell_type": "code",
   "execution_count": null,
   "id": "39642ebd",
   "metadata": {},
   "outputs": [],
   "source": []
  },
  {
   "cell_type": "code",
   "execution_count": null,
   "id": "a29ad130",
   "metadata": {},
   "outputs": [],
   "source": []
  },
  {
   "cell_type": "markdown",
   "id": "c02d9543",
   "metadata": {},
   "source": [
    "### 3. Load Hyperparameter tuning scores:"
   ]
  },
  {
   "cell_type": "code",
   "execution_count": 12,
   "id": "e0e85715",
   "metadata": {},
   "outputs": [
    {
     "data": {
      "application/javascript": [
       "\n",
       "            setTimeout(function() {\n",
       "                var nbb_cell_id = 12;\n",
       "                var nbb_unformatted_code = \"EMOS_local_ws10_hyper_scores = EMOS_local_load_hyper_score(\\\"ws10\\\")\";\n",
       "                var nbb_formatted_code = \"EMOS_local_ws10_hyper_scores = EMOS_local_load_hyper_score(\\\"ws10\\\")\";\n",
       "                var nbb_cells = Jupyter.notebook.get_cells();\n",
       "                for (var i = 0; i < nbb_cells.length; ++i) {\n",
       "                    if (nbb_cells[i].input_prompt_number == nbb_cell_id) {\n",
       "                        if (nbb_cells[i].get_text() == nbb_unformatted_code) {\n",
       "                             nbb_cells[i].set_text(nbb_formatted_code);\n",
       "                        }\n",
       "                        break;\n",
       "                    }\n",
       "                }\n",
       "            }, 500);\n",
       "            "
      ],
      "text/plain": [
       "<IPython.core.display.Javascript object>"
      ]
     },
     "metadata": {},
     "output_type": "display_data"
    }
   ],
   "source": [
    "EMOS_local_ws10_hyper_scores = EMOS_local_load_hyper_score(\"ws10\")"
   ]
  },
  {
   "cell_type": "code",
   "execution_count": 15,
   "id": "dfec8e96",
   "metadata": {},
   "outputs": [
    {
     "data": {
      "text/plain": [
       "2"
      ]
     },
     "execution_count": 15,
     "metadata": {},
     "output_type": "execute_result"
    },
    {
     "data": {
      "application/javascript": [
       "\n",
       "            setTimeout(function() {\n",
       "                var nbb_cell_id = 15;\n",
       "                var nbb_unformatted_code = \"len(EMOS_local_ws10_hyper_scores)\";\n",
       "                var nbb_formatted_code = \"len(EMOS_local_ws10_hyper_scores)\";\n",
       "                var nbb_cells = Jupyter.notebook.get_cells();\n",
       "                for (var i = 0; i < nbb_cells.length; ++i) {\n",
       "                    if (nbb_cells[i].input_prompt_number == nbb_cell_id) {\n",
       "                        if (nbb_cells[i].get_text() == nbb_unformatted_code) {\n",
       "                             nbb_cells[i].set_text(nbb_formatted_code);\n",
       "                        }\n",
       "                        break;\n",
       "                    }\n",
       "                }\n",
       "            }, 500);\n",
       "            "
      ],
      "text/plain": [
       "<IPython.core.display.Javascript object>"
      ]
     },
     "metadata": {},
     "output_type": "display_data"
    }
   ],
   "source": [
    "len(EMOS_local_ws10_hyper_scores)"
   ]
  },
  {
   "cell_type": "code",
   "execution_count": 16,
   "id": "2f90f89f",
   "metadata": {},
   "outputs": [
    {
     "data": {
      "text/plain": [
       "[[(512, 30, 0.001, 'Adam'), 1.740081858749573],\n",
       " [(32, 30, 0.1, 'Adam'), 0.5986838517471765]]"
      ]
     },
     "execution_count": 16,
     "metadata": {},
     "output_type": "execute_result"
    },
    {
     "data": {
      "application/javascript": [
       "\n",
       "            setTimeout(function() {\n",
       "                var nbb_cell_id = 16;\n",
       "                var nbb_unformatted_code = \"EMOS_local_ws10_hyper_scores\";\n",
       "                var nbb_formatted_code = \"EMOS_local_ws10_hyper_scores\";\n",
       "                var nbb_cells = Jupyter.notebook.get_cells();\n",
       "                for (var i = 0; i < nbb_cells.length; ++i) {\n",
       "                    if (nbb_cells[i].input_prompt_number == nbb_cell_id) {\n",
       "                        if (nbb_cells[i].get_text() == nbb_unformatted_code) {\n",
       "                             nbb_cells[i].set_text(nbb_formatted_code);\n",
       "                        }\n",
       "                        break;\n",
       "                    }\n",
       "                }\n",
       "            }, 500);\n",
       "            "
      ],
      "text/plain": [
       "<IPython.core.display.Javascript object>"
      ]
     },
     "metadata": {},
     "output_type": "display_data"
    }
   ],
   "source": [
    "EMOS_local_ws10_hyper_scores"
   ]
  },
  {
   "cell_type": "code",
   "execution_count": null,
   "id": "faa55db4",
   "metadata": {},
   "outputs": [],
   "source": []
  },
  {
   "cell_type": "markdown",
   "id": "fa688879",
   "metadata": {},
   "source": [
    "### 3. Trying to load models:"
   ]
  },
  {
   "cell_type": "code",
   "execution_count": null,
   "id": "4a0e035d",
   "metadata": {},
   "outputs": [],
   "source": [
    "EMOS_local_t2m_0 = EMOS_local_load_model(2, 0)"
   ]
  },
  {
   "cell_type": "code",
   "execution_count": 24,
   "id": "3537c3f4",
   "metadata": {},
   "outputs": [
    {
     "data": {
      "application/javascript": [
       "\n",
       "            setTimeout(function() {\n",
       "                var nbb_cell_id = 24;\n",
       "                var nbb_unformatted_code = \"lat = 2\\nlon = 2\\nlead_time = 0\";\n",
       "                var nbb_formatted_code = \"lat = 2\\nlon = 2\\nlead_time = 0\";\n",
       "                var nbb_cells = Jupyter.notebook.get_cells();\n",
       "                for (var i = 0; i < nbb_cells.length; ++i) {\n",
       "                    if (nbb_cells[i].input_prompt_number == nbb_cell_id) {\n",
       "                        if (nbb_cells[i].get_text() == nbb_unformatted_code) {\n",
       "                             nbb_cells[i].set_text(nbb_formatted_code);\n",
       "                        }\n",
       "                        break;\n",
       "                    }\n",
       "                }\n",
       "            }, 500);\n",
       "            "
      ],
      "text/plain": [
       "<IPython.core.display.Javascript object>"
      ]
     },
     "metadata": {},
     "output_type": "display_data"
    }
   ],
   "source": [
    "lat = 2\n",
    "lon = 2\n",
    "lead_time = 0"
   ]
  },
  {
   "cell_type": "code",
   "execution_count": 28,
   "id": "5adeb0b9",
   "metadata": {},
   "outputs": [
    {
     "data": {
      "application/javascript": [
       "\n",
       "            setTimeout(function() {\n",
       "                var nbb_cell_id = 28;\n",
       "                var nbb_unformatted_code = \"test_var_denormed = ldpd.load_data_all_train_proc_denorm()[2]\";\n",
       "                var nbb_formatted_code = \"test_var_denormed = ldpd.load_data_all_train_proc_denorm()[2]\";\n",
       "                var nbb_cells = Jupyter.notebook.get_cells();\n",
       "                for (var i = 0; i < nbb_cells.length; ++i) {\n",
       "                    if (nbb_cells[i].input_prompt_number == nbb_cell_id) {\n",
       "                        if (nbb_cells[i].get_text() == nbb_unformatted_code) {\n",
       "                             nbb_cells[i].set_text(nbb_formatted_code);\n",
       "                        }\n",
       "                        break;\n",
       "                    }\n",
       "                }\n",
       "            }, 500);\n",
       "            "
      ],
      "text/plain": [
       "<IPython.core.display.Javascript object>"
      ]
     },
     "metadata": {},
     "output_type": "display_data"
    }
   ],
   "source": [
    "test_var_denormed = ldpd.load_data_all_train_proc_denorm()[2]"
   ]
  },
  {
   "cell_type": "code",
   "execution_count": 29,
   "id": "3b624f57",
   "metadata": {},
   "outputs": [
    {
     "data": {
      "application/javascript": [
       "\n",
       "            setTimeout(function() {\n",
       "                var nbb_cell_id = 29;\n",
       "                var nbb_unformatted_code = \"X_test_var_denormed = test_var_denormed[\\n    list(test_var_denormed.data_vars.keys())[0]\\n].isel(lead_time=lead_time, lat=lat, lon=lon)\\ny_test_var_denormed = test_var_denormed[\\n    list(test_var_denormed.data_vars.keys())[1]\\n].isel(lead_time=lead_time, lat=lat, lon=lon)\";\n",
       "                var nbb_formatted_code = \"X_test_var_denormed = test_var_denormed[\\n    list(test_var_denormed.data_vars.keys())[0]\\n].isel(lead_time=lead_time, lat=lat, lon=lon)\\ny_test_var_denormed = test_var_denormed[\\n    list(test_var_denormed.data_vars.keys())[1]\\n].isel(lead_time=lead_time, lat=lat, lon=lon)\";\n",
       "                var nbb_cells = Jupyter.notebook.get_cells();\n",
       "                for (var i = 0; i < nbb_cells.length; ++i) {\n",
       "                    if (nbb_cells[i].input_prompt_number == nbb_cell_id) {\n",
       "                        if (nbb_cells[i].get_text() == nbb_unformatted_code) {\n",
       "                             nbb_cells[i].set_text(nbb_formatted_code);\n",
       "                        }\n",
       "                        break;\n",
       "                    }\n",
       "                }\n",
       "            }, 500);\n",
       "            "
      ],
      "text/plain": [
       "<IPython.core.display.Javascript object>"
      ]
     },
     "metadata": {},
     "output_type": "display_data"
    }
   ],
   "source": [
    "X_test_var_denormed = test_var_denormed[\n",
    "    list(test_var_denormed.data_vars.keys())[0]\n",
    "].isel(lead_time=lead_time, lat=lat, lon=lon)\n",
    "y_test_var_denormed = test_var_denormed[\n",
    "    list(test_var_denormed.data_vars.keys())[1]\n",
    "].isel(lead_time=lead_time, lat=lat, lon=lon)"
   ]
  },
  {
   "cell_type": "code",
   "execution_count": 30,
   "id": "9a89a1df",
   "metadata": {},
   "outputs": [
    {
     "name": "stdout",
     "output_type": "stream",
     "text": [
      "45/45 [==============================] - 0s 927us/step - loss: 402.3280\n"
     ]
    },
    {
     "data": {
      "text/plain": [
       "402.3279724121094"
      ]
     },
     "execution_count": 30,
     "metadata": {},
     "output_type": "execute_result"
    },
    {
     "data": {
      "application/javascript": [
       "\n",
       "            setTimeout(function() {\n",
       "                var nbb_cell_id = 30;\n",
       "                var nbb_unformatted_code = \"EMOS_local_t2m_0[lat][lon].evaluate(\\n    [\\n        X_test_var_denormed.isel(mean_std=0).values.flatten(),\\n        X_test_var_denormed.isel(mean_std=1).values.flatten(),\\n    ],\\n    y_test_var_denormed.values.flatten(),\\n)\";\n",
       "                var nbb_formatted_code = \"EMOS_local_t2m_0[lat][lon].evaluate(\\n    [\\n        X_test_var_denormed.isel(mean_std=0).values.flatten(),\\n        X_test_var_denormed.isel(mean_std=1).values.flatten(),\\n    ],\\n    y_test_var_denormed.values.flatten(),\\n)\";\n",
       "                var nbb_cells = Jupyter.notebook.get_cells();\n",
       "                for (var i = 0; i < nbb_cells.length; ++i) {\n",
       "                    if (nbb_cells[i].input_prompt_number == nbb_cell_id) {\n",
       "                        if (nbb_cells[i].get_text() == nbb_unformatted_code) {\n",
       "                             nbb_cells[i].set_text(nbb_formatted_code);\n",
       "                        }\n",
       "                        break;\n",
       "                    }\n",
       "                }\n",
       "            }, 500);\n",
       "            "
      ],
      "text/plain": [
       "<IPython.core.display.Javascript object>"
      ]
     },
     "metadata": {},
     "output_type": "display_data"
    }
   ],
   "source": [
    "EMOS_local_t2m_0[lat][lon].evaluate(\n",
    "    [\n",
    "        X_test_var_denormed.isel(mean_std=0).values.flatten(),\n",
    "        X_test_var_denormed.isel(mean_std=1).values.flatten(),\n",
    "    ],\n",
    "    y_test_var_denormed.values.flatten(),\n",
    ")"
   ]
  },
  {
   "cell_type": "code",
   "execution_count": null,
   "id": "aa76ef68",
   "metadata": {},
   "outputs": [],
   "source": []
  }
 ],
 "metadata": {
  "kernelspec": {
   "display_name": "Python 3 (ipykernel)",
   "language": "python",
   "name": "python3"
  },
  "language_info": {
   "codemirror_mode": {
    "name": "ipython",
    "version": 3
   },
   "file_extension": ".py",
   "mimetype": "text/x-python",
   "name": "python",
   "nbconvert_exporter": "python",
   "pygments_lexer": "ipython3",
   "version": "3.9.7"
  }
 },
 "nbformat": 4,
 "nbformat_minor": 5
}
