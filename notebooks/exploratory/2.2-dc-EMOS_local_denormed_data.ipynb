{
 "cells": [
  {
   "cell_type": "code",
   "execution_count": 27,
   "id": "38f0f79c",
   "metadata": {},
   "outputs": [
    {
     "name": "stdout",
     "output_type": "stream",
     "text": [
      "The nb_black extension is already loaded. To reload it, use:\n",
      "  %reload_ext nb_black\n"
     ]
    },
    {
     "data": {
      "application/javascript": [
       "\n",
       "            setTimeout(function() {\n",
       "                var nbb_cell_id = 27;\n",
       "                var nbb_unformatted_code = \"%load_ext nb_black\";\n",
       "                var nbb_formatted_code = \"%load_ext nb_black\";\n",
       "                var nbb_cells = Jupyter.notebook.get_cells();\n",
       "                for (var i = 0; i < nbb_cells.length; ++i) {\n",
       "                    if (nbb_cells[i].input_prompt_number == nbb_cell_id) {\n",
       "                        if (nbb_cells[i].get_text() == nbb_unformatted_code) {\n",
       "                             nbb_cells[i].set_text(nbb_formatted_code);\n",
       "                        }\n",
       "                        break;\n",
       "                    }\n",
       "                }\n",
       "            }, 500);\n",
       "            "
      ],
      "text/plain": [
       "<IPython.core.display.Javascript object>"
      ]
     },
     "metadata": {},
     "output_type": "display_data"
    }
   ],
   "source": [
    "%load_ext nb_black"
   ]
  },
  {
   "cell_type": "code",
   "execution_count": 28,
   "id": "d997b9ed",
   "metadata": {},
   "outputs": [
    {
     "data": {
      "application/javascript": [
       "\n",
       "            setTimeout(function() {\n",
       "                var nbb_cell_id = 28;\n",
       "                var nbb_unformatted_code = \"# Helpful\\nimport tqdm\\n\\n# Visualization\\nimport matplotlib.pyplot as plt\\n\\n# My Methods\\nfrom src.utils.CRPS import *\\nfrom src.utils.data_split import *\\nfrom src.models.EMOS import *\\nfrom src.models.EMOS_global.EMOS_global_load_score import *\\nfrom src.models.EMOS_local.EMOS_local_load_score import *\\nfrom src.models.EMOS_local.EMOS_local_load_model import *\\nfrom src.models.EMOS_global.EMOS_global_load_model import *\\nfrom src.models.EMOS_local.EMOS_local_hyper_tune import *\\nimport data.raw.load_data_raw as ldr\\nimport data.processed.load_data_processed as ldp\\nimport data.processed.load_data_processed_denormed as ldpd\\nfrom src.models.CRPS_baseline.CRPS_load import *\\nfrom src.models.EMOS_local.EMOS_local_train import *\";\n",
       "                var nbb_formatted_code = \"# Helpful\\nimport tqdm\\n\\n# Visualization\\nimport matplotlib.pyplot as plt\\n\\n# My Methods\\nfrom src.utils.CRPS import *\\nfrom src.utils.data_split import *\\nfrom src.models.EMOS import *\\nfrom src.models.EMOS_global.EMOS_global_load_score import *\\nfrom src.models.EMOS_local.EMOS_local_load_score import *\\nfrom src.models.EMOS_local.EMOS_local_load_model import *\\nfrom src.models.EMOS_global.EMOS_global_load_model import *\\nfrom src.models.EMOS_local.EMOS_local_hyper_tune import *\\nimport data.raw.load_data_raw as ldr\\nimport data.processed.load_data_processed as ldp\\nimport data.processed.load_data_processed_denormed as ldpd\\nfrom src.models.CRPS_baseline.CRPS_load import *\\nfrom src.models.EMOS_local.EMOS_local_train import *\";\n",
       "                var nbb_cells = Jupyter.notebook.get_cells();\n",
       "                for (var i = 0; i < nbb_cells.length; ++i) {\n",
       "                    if (nbb_cells[i].input_prompt_number == nbb_cell_id) {\n",
       "                        if (nbb_cells[i].get_text() == nbb_unformatted_code) {\n",
       "                             nbb_cells[i].set_text(nbb_formatted_code);\n",
       "                        }\n",
       "                        break;\n",
       "                    }\n",
       "                }\n",
       "            }, 500);\n",
       "            "
      ],
      "text/plain": [
       "<IPython.core.display.Javascript object>"
      ]
     },
     "metadata": {},
     "output_type": "display_data"
    }
   ],
   "source": [
    "# Helpful\n",
    "import tqdm\n",
    "\n",
    "# Visualization\n",
    "import matplotlib.pyplot as plt\n",
    "\n",
    "# My Methods\n",
    "from src.utils.CRPS import *\n",
    "from src.utils.data_split import *\n",
    "from src.models.EMOS import *\n",
    "from src.models.EMOS_global.EMOS_global_load_score import *\n",
    "from src.models.EMOS_local.EMOS_local_load_score import *\n",
    "from src.models.EMOS_local.EMOS_local_load_model import *\n",
    "from src.models.EMOS_global.EMOS_global_load_model import *\n",
    "from src.models.EMOS_local.EMOS_local_hyper_tune import *\n",
    "import data.raw.load_data_raw as ldr\n",
    "import data.processed.load_data_processed as ldp\n",
    "import data.processed.load_data_processed_denormed as ldpd\n",
    "from src.models.CRPS_baseline.CRPS_load import *\n",
    "from src.models.EMOS_local.EMOS_local_train import *"
   ]
  },
  {
   "cell_type": "markdown",
   "id": "527aa811",
   "metadata": {},
   "source": [
    "### 1. Load Scores"
   ]
  },
  {
   "cell_type": "code",
   "execution_count": 29,
   "id": "a0dcce10",
   "metadata": {},
   "outputs": [
    {
     "data": {
      "application/javascript": [
       "\n",
       "            setTimeout(function() {\n",
       "                var nbb_cell_id = 29;\n",
       "                var nbb_unformatted_code = \"# Load EMOS local scores\\nEMOS_local_t2m_scores = EMOS_local_load_score(\\\"t2m\\\")\\n# EMOS_local_ws10_scores = EMOS_local_load_score(\\\"ws10\\\")\\n\\n# Load EMOS global scores\\nEMOS_global_t2m_scores = EMOS_global_load_score(\\\"t2m\\\")\\nEMOS_global_ws10_scores = EMOS_global_load_score(\\\"ws10\\\")\\n\\n# Load CRPS scores\\nCRPS_global_t2m_scores = crps_load_lead_lat_lon(\\\"t2m\\\")\\nCRPS_global_ws10_scores = crps_load_lead_lat_lon(\\\"ws10\\\")\";\n",
       "                var nbb_formatted_code = \"# Load EMOS local scores\\nEMOS_local_t2m_scores = EMOS_local_load_score(\\\"t2m\\\")\\n# EMOS_local_ws10_scores = EMOS_local_load_score(\\\"ws10\\\")\\n\\n# Load EMOS global scores\\nEMOS_global_t2m_scores = EMOS_global_load_score(\\\"t2m\\\")\\nEMOS_global_ws10_scores = EMOS_global_load_score(\\\"ws10\\\")\\n\\n# Load CRPS scores\\nCRPS_global_t2m_scores = crps_load_lead_lat_lon(\\\"t2m\\\")\\nCRPS_global_ws10_scores = crps_load_lead_lat_lon(\\\"ws10\\\")\";\n",
       "                var nbb_cells = Jupyter.notebook.get_cells();\n",
       "                for (var i = 0; i < nbb_cells.length; ++i) {\n",
       "                    if (nbb_cells[i].input_prompt_number == nbb_cell_id) {\n",
       "                        if (nbb_cells[i].get_text() == nbb_unformatted_code) {\n",
       "                             nbb_cells[i].set_text(nbb_formatted_code);\n",
       "                        }\n",
       "                        break;\n",
       "                    }\n",
       "                }\n",
       "            }, 500);\n",
       "            "
      ],
      "text/plain": [
       "<IPython.core.display.Javascript object>"
      ]
     },
     "metadata": {},
     "output_type": "display_data"
    }
   ],
   "source": [
    "# Load EMOS local scores\n",
    "EMOS_local_t2m_scores = EMOS_local_load_score(\"t2m\")\n",
    "# EMOS_local_ws10_scores = EMOS_local_load_score(\"ws10\")\n",
    "\n",
    "# Load EMOS global scores\n",
    "EMOS_global_t2m_scores = EMOS_global_load_score(\"t2m\")\n",
    "EMOS_global_ws10_scores = EMOS_global_load_score(\"ws10\")\n",
    "\n",
    "# Load CRPS scores\n",
    "CRPS_global_t2m_scores = crps_load_lead_lat_lon(\"t2m\")\n",
    "CRPS_global_ws10_scores = crps_load_lead_lat_lon(\"ws10\")"
   ]
  },
  {
   "cell_type": "code",
   "execution_count": 30,
   "id": "2ad884d6",
   "metadata": {},
   "outputs": [
    {
     "data": {
      "text/plain": [
       "0"
      ]
     },
     "execution_count": 30,
     "metadata": {},
     "output_type": "execute_result"
    },
    {
     "data": {
      "application/javascript": [
       "\n",
       "            setTimeout(function() {\n",
       "                var nbb_cell_id = 30;\n",
       "                var nbb_unformatted_code = \"len(EMOS_local_t2m_scores)\";\n",
       "                var nbb_formatted_code = \"len(EMOS_local_t2m_scores)\";\n",
       "                var nbb_cells = Jupyter.notebook.get_cells();\n",
       "                for (var i = 0; i < nbb_cells.length; ++i) {\n",
       "                    if (nbb_cells[i].input_prompt_number == nbb_cell_id) {\n",
       "                        if (nbb_cells[i].get_text() == nbb_unformatted_code) {\n",
       "                             nbb_cells[i].set_text(nbb_formatted_code);\n",
       "                        }\n",
       "                        break;\n",
       "                    }\n",
       "                }\n",
       "            }, 500);\n",
       "            "
      ],
      "text/plain": [
       "<IPython.core.display.Javascript object>"
      ]
     },
     "metadata": {},
     "output_type": "display_data"
    }
   ],
   "source": [
    "len(EMOS_local_t2m_scores)"
   ]
  },
  {
   "cell_type": "code",
   "execution_count": 31,
   "id": "01cc1afd",
   "metadata": {},
   "outputs": [
    {
     "data": {
      "application/javascript": [
       "\n",
       "            setTimeout(function() {\n",
       "                var nbb_cell_id = 31;\n",
       "                var nbb_unformatted_code = \"for lead_time in range(len(EMOS_local_t2m_scores)):\\n    print(\\n        f\\\"EMOS_local: {EMOS_local_t2m_scores[lead_time].mean()}, EMOS_global: {EMOS_global_t2m_scores[lead_time].mean()}, CRPS: {CRPS_global_t2m_scores[lead_time].mean()}\\\"\\n    )\";\n",
       "                var nbb_formatted_code = \"for lead_time in range(len(EMOS_local_t2m_scores)):\\n    print(\\n        f\\\"EMOS_local: {EMOS_local_t2m_scores[lead_time].mean()}, EMOS_global: {EMOS_global_t2m_scores[lead_time].mean()}, CRPS: {CRPS_global_t2m_scores[lead_time].mean()}\\\"\\n    )\";\n",
       "                var nbb_cells = Jupyter.notebook.get_cells();\n",
       "                for (var i = 0; i < nbb_cells.length; ++i) {\n",
       "                    if (nbb_cells[i].input_prompt_number == nbb_cell_id) {\n",
       "                        if (nbb_cells[i].get_text() == nbb_unformatted_code) {\n",
       "                             nbb_cells[i].set_text(nbb_formatted_code);\n",
       "                        }\n",
       "                        break;\n",
       "                    }\n",
       "                }\n",
       "            }, 500);\n",
       "            "
      ],
      "text/plain": [
       "<IPython.core.display.Javascript object>"
      ]
     },
     "metadata": {},
     "output_type": "display_data"
    }
   ],
   "source": [
    "for lead_time in range(len(EMOS_local_t2m_scores)):\n",
    "    print(\n",
    "        f\"EMOS_local: {EMOS_local_t2m_scores[lead_time].mean()}, EMOS_global: {EMOS_global_t2m_scores[lead_time].mean()}, CRPS: {CRPS_global_t2m_scores[lead_time].mean()}\"\n",
    "    )"
   ]
  },
  {
   "cell_type": "code",
   "execution_count": 35,
   "id": "8d8b7c4e",
   "metadata": {},
   "outputs": [
    {
     "name": "stdout",
     "output_type": "stream",
     "text": [
      "EMOS_global: 0.4687979519367218, CRPS: 0.4708288311958313\n",
      "EMOS_global: 0.5481671690940857, CRPS: 0.5626273155212402\n",
      "EMOS_global: 0.5383585095405579, CRPS: 0.5660684704780579\n",
      "EMOS_global: 0.5816507935523987, CRPS: 0.6244665384292603\n",
      "EMOS_global: 0.5986496806144714, CRPS: 0.6273626685142517\n",
      "EMOS_global: 0.6971593499183655, CRPS: 0.7419385313987732\n",
      "EMOS_global: 0.6992777585983276, CRPS: 0.7447009086608887\n",
      "EMOS_global: 0.7526292204856873, CRPS: 0.8054525852203369\n",
      "EMOS_global: 0.791255533695221, CRPS: 0.834025502204895\n",
      "EMOS_global: 0.8987031579017639, CRPS: 0.9581987261772156\n",
      "EMOS_global: 0.8913975954055786, CRPS: 0.9486294984817505\n",
      "EMOS_global: 0.9364757537841797, CRPS: 0.997710645198822\n",
      "EMOS_global: 0.9739682078361511, CRPS: 1.0248152017593384\n",
      "EMOS_global: 1.0816439390182495, CRPS: 1.147271752357483\n",
      "EMOS_global: 1.061387538909912, CRPS: 1.120965838432312\n",
      "EMOS_global: 1.0941627025604248, CRPS: 1.1554666757583618\n",
      "EMOS_global: 1.122457504272461, CRPS: 1.1716784238815308\n",
      "EMOS_global: 1.218828797340393, CRPS: 1.2803926467895508\n",
      "EMOS_global: 1.186181664466858, CRPS: 1.2406598329544067\n",
      "EMOS_global: 1.208435297012329, CRPS: 1.2650195360183716\n",
      "EMOS_global: 1.233190655708313, CRPS: 1.2812318801879883\n",
      "EMOS_global: 1.331240177154541, CRPS: 1.3930284976959229\n",
      "EMOS_global: 1.2901597023010254, CRPS: 1.3470748662948608\n",
      "EMOS_global: 1.3045237064361572, CRPS: 1.3625421524047852\n",
      "EMOS_global: 1.3217682838439941, CRPS: 1.370863676071167\n",
      "EMOS_global: 1.4142807722091675, CRPS: 1.476784110069275\n",
      "EMOS_global: 1.3631004095077515, CRPS: 1.4213701486587524\n",
      "EMOS_global: 1.3705699443817139, CRPS: 1.4293179512023926\n",
      "EMOS_global: 1.382328987121582, CRPS: 1.4322772026062012\n",
      "EMOS_global: 1.472295880317688, CRPS: 1.536927580833435\n",
      "EMOS_global: 1.411036491394043, CRPS: 1.4698940515518188\n"
     ]
    },
    {
     "data": {
      "application/javascript": [
       "\n",
       "            setTimeout(function() {\n",
       "                var nbb_cell_id = 35;\n",
       "                var nbb_unformatted_code = \"for lead_time in range(len(EMOS_global_ws10_scores)):\\n    print(\\n        f\\\"EMOS_global: {EMOS_global_ws10_scores[lead_time].mean()}, CRPS: {CRPS_global_ws10_scores[lead_time].mean()}\\\"\\n    )\";\n",
       "                var nbb_formatted_code = \"for lead_time in range(len(EMOS_global_ws10_scores)):\\n    print(\\n        f\\\"EMOS_global: {EMOS_global_ws10_scores[lead_time].mean()}, CRPS: {CRPS_global_ws10_scores[lead_time].mean()}\\\"\\n    )\";\n",
       "                var nbb_cells = Jupyter.notebook.get_cells();\n",
       "                for (var i = 0; i < nbb_cells.length; ++i) {\n",
       "                    if (nbb_cells[i].input_prompt_number == nbb_cell_id) {\n",
       "                        if (nbb_cells[i].get_text() == nbb_unformatted_code) {\n",
       "                             nbb_cells[i].set_text(nbb_formatted_code);\n",
       "                        }\n",
       "                        break;\n",
       "                    }\n",
       "                }\n",
       "            }, 500);\n",
       "            "
      ],
      "text/plain": [
       "<IPython.core.display.Javascript object>"
      ]
     },
     "metadata": {},
     "output_type": "display_data"
    }
   ],
   "source": [
    "for lead_time in range(len(EMOS_global_ws10_scores)):\n",
    "    print(\n",
    "        f\"EMOS_global: {EMOS_global_ws10_scores[lead_time].mean()}, CRPS: {CRPS_global_ws10_scores[lead_time].mean()}\"\n",
    "    )"
   ]
  },
  {
   "cell_type": "code",
   "execution_count": null,
   "id": "39642ebd",
   "metadata": {},
   "outputs": [],
   "source": []
  },
  {
   "cell_type": "code",
   "execution_count": null,
   "id": "a29ad130",
   "metadata": {},
   "outputs": [],
   "source": []
  },
  {
   "cell_type": "markdown",
   "id": "c02d9543",
   "metadata": {},
   "source": [
    "### 3. Load Hyperparameter tuning scores:"
   ]
  },
  {
   "cell_type": "code",
   "execution_count": 32,
   "id": "e0e85715",
   "metadata": {},
   "outputs": [
    {
     "data": {
      "application/javascript": [
       "\n",
       "            setTimeout(function() {\n",
       "                var nbb_cell_id = 32;\n",
       "                var nbb_unformatted_code = \"EMOS_local_ws10_hyper_scores = EMOS_local_load_hyper_score(\\\"ws10\\\")\";\n",
       "                var nbb_formatted_code = \"EMOS_local_ws10_hyper_scores = EMOS_local_load_hyper_score(\\\"ws10\\\")\";\n",
       "                var nbb_cells = Jupyter.notebook.get_cells();\n",
       "                for (var i = 0; i < nbb_cells.length; ++i) {\n",
       "                    if (nbb_cells[i].input_prompt_number == nbb_cell_id) {\n",
       "                        if (nbb_cells[i].get_text() == nbb_unformatted_code) {\n",
       "                             nbb_cells[i].set_text(nbb_formatted_code);\n",
       "                        }\n",
       "                        break;\n",
       "                    }\n",
       "                }\n",
       "            }, 500);\n",
       "            "
      ],
      "text/plain": [
       "<IPython.core.display.Javascript object>"
      ]
     },
     "metadata": {},
     "output_type": "display_data"
    }
   ],
   "source": [
    "EMOS_local_ws10_hyper_scores = EMOS_local_load_hyper_score(\"ws10\")"
   ]
  },
  {
   "cell_type": "code",
   "execution_count": 33,
   "id": "dfec8e96",
   "metadata": {},
   "outputs": [
    {
     "data": {
      "text/plain": [
       "3"
      ]
     },
     "execution_count": 33,
     "metadata": {},
     "output_type": "execute_result"
    },
    {
     "data": {
      "application/javascript": [
       "\n",
       "            setTimeout(function() {\n",
       "                var nbb_cell_id = 33;\n",
       "                var nbb_unformatted_code = \"len(EMOS_local_ws10_hyper_scores)\";\n",
       "                var nbb_formatted_code = \"len(EMOS_local_ws10_hyper_scores)\";\n",
       "                var nbb_cells = Jupyter.notebook.get_cells();\n",
       "                for (var i = 0; i < nbb_cells.length; ++i) {\n",
       "                    if (nbb_cells[i].input_prompt_number == nbb_cell_id) {\n",
       "                        if (nbb_cells[i].get_text() == nbb_unformatted_code) {\n",
       "                             nbb_cells[i].set_text(nbb_formatted_code);\n",
       "                        }\n",
       "                        break;\n",
       "                    }\n",
       "                }\n",
       "            }, 500);\n",
       "            "
      ],
      "text/plain": [
       "<IPython.core.display.Javascript object>"
      ]
     },
     "metadata": {},
     "output_type": "display_data"
    }
   ],
   "source": [
    "len(EMOS_local_ws10_hyper_scores)"
   ]
  },
  {
   "cell_type": "code",
   "execution_count": 34,
   "id": "2f90f89f",
   "metadata": {},
   "outputs": [
    {
     "data": {
      "text/plain": [
       "[[(512, 30, 0.001, 'Adam'), 1.740081858749573],\n",
       " [(64, 30, 0.1, 'Adam'), 0.5994870296846597],\n",
       " [(32, 30, 0.1, 'Adam'), 0.5986838517471765]]"
      ]
     },
     "execution_count": 34,
     "metadata": {},
     "output_type": "execute_result"
    },
    {
     "data": {
      "application/javascript": [
       "\n",
       "            setTimeout(function() {\n",
       "                var nbb_cell_id = 34;\n",
       "                var nbb_unformatted_code = \"EMOS_local_ws10_hyper_scores\";\n",
       "                var nbb_formatted_code = \"EMOS_local_ws10_hyper_scores\";\n",
       "                var nbb_cells = Jupyter.notebook.get_cells();\n",
       "                for (var i = 0; i < nbb_cells.length; ++i) {\n",
       "                    if (nbb_cells[i].input_prompt_number == nbb_cell_id) {\n",
       "                        if (nbb_cells[i].get_text() == nbb_unformatted_code) {\n",
       "                             nbb_cells[i].set_text(nbb_formatted_code);\n",
       "                        }\n",
       "                        break;\n",
       "                    }\n",
       "                }\n",
       "            }, 500);\n",
       "            "
      ],
      "text/plain": [
       "<IPython.core.display.Javascript object>"
      ]
     },
     "metadata": {},
     "output_type": "display_data"
    }
   ],
   "source": [
    "EMOS_local_ws10_hyper_scores"
   ]
  },
  {
   "cell_type": "code",
   "execution_count": null,
   "id": "faa55db4",
   "metadata": {},
   "outputs": [],
   "source": []
  },
  {
   "cell_type": "markdown",
   "id": "fa688879",
   "metadata": {},
   "source": [
    "### 3. Trying to load models:"
   ]
  },
  {
   "cell_type": "code",
   "execution_count": null,
   "id": "4a0e035d",
   "metadata": {},
   "outputs": [],
   "source": [
    "EMOS_local_t2m_0 = EMOS_local_load_model(2, 0)"
   ]
  },
  {
   "cell_type": "code",
   "execution_count": 24,
   "id": "3537c3f4",
   "metadata": {},
   "outputs": [
    {
     "data": {
      "application/javascript": [
       "\n",
       "            setTimeout(function() {\n",
       "                var nbb_cell_id = 24;\n",
       "                var nbb_unformatted_code = \"lat = 2\\nlon = 2\\nlead_time = 0\";\n",
       "                var nbb_formatted_code = \"lat = 2\\nlon = 2\\nlead_time = 0\";\n",
       "                var nbb_cells = Jupyter.notebook.get_cells();\n",
       "                for (var i = 0; i < nbb_cells.length; ++i) {\n",
       "                    if (nbb_cells[i].input_prompt_number == nbb_cell_id) {\n",
       "                        if (nbb_cells[i].get_text() == nbb_unformatted_code) {\n",
       "                             nbb_cells[i].set_text(nbb_formatted_code);\n",
       "                        }\n",
       "                        break;\n",
       "                    }\n",
       "                }\n",
       "            }, 500);\n",
       "            "
      ],
      "text/plain": [
       "<IPython.core.display.Javascript object>"
      ]
     },
     "metadata": {},
     "output_type": "display_data"
    }
   ],
   "source": [
    "lat = 2\n",
    "lon = 2\n",
    "lead_time = 0"
   ]
  },
  {
   "cell_type": "code",
   "execution_count": 28,
   "id": "5adeb0b9",
   "metadata": {},
   "outputs": [
    {
     "data": {
      "application/javascript": [
       "\n",
       "            setTimeout(function() {\n",
       "                var nbb_cell_id = 28;\n",
       "                var nbb_unformatted_code = \"test_var_denormed = ldpd.load_data_all_train_proc_denorm()[2]\";\n",
       "                var nbb_formatted_code = \"test_var_denormed = ldpd.load_data_all_train_proc_denorm()[2]\";\n",
       "                var nbb_cells = Jupyter.notebook.get_cells();\n",
       "                for (var i = 0; i < nbb_cells.length; ++i) {\n",
       "                    if (nbb_cells[i].input_prompt_number == nbb_cell_id) {\n",
       "                        if (nbb_cells[i].get_text() == nbb_unformatted_code) {\n",
       "                             nbb_cells[i].set_text(nbb_formatted_code);\n",
       "                        }\n",
       "                        break;\n",
       "                    }\n",
       "                }\n",
       "            }, 500);\n",
       "            "
      ],
      "text/plain": [
       "<IPython.core.display.Javascript object>"
      ]
     },
     "metadata": {},
     "output_type": "display_data"
    }
   ],
   "source": [
    "test_var_denormed = ldpd.load_data_all_train_proc_denorm()[2]"
   ]
  },
  {
   "cell_type": "code",
   "execution_count": 29,
   "id": "3b624f57",
   "metadata": {},
   "outputs": [
    {
     "data": {
      "application/javascript": [
       "\n",
       "            setTimeout(function() {\n",
       "                var nbb_cell_id = 29;\n",
       "                var nbb_unformatted_code = \"X_test_var_denormed = test_var_denormed[\\n    list(test_var_denormed.data_vars.keys())[0]\\n].isel(lead_time=lead_time, lat=lat, lon=lon)\\ny_test_var_denormed = test_var_denormed[\\n    list(test_var_denormed.data_vars.keys())[1]\\n].isel(lead_time=lead_time, lat=lat, lon=lon)\";\n",
       "                var nbb_formatted_code = \"X_test_var_denormed = test_var_denormed[\\n    list(test_var_denormed.data_vars.keys())[0]\\n].isel(lead_time=lead_time, lat=lat, lon=lon)\\ny_test_var_denormed = test_var_denormed[\\n    list(test_var_denormed.data_vars.keys())[1]\\n].isel(lead_time=lead_time, lat=lat, lon=lon)\";\n",
       "                var nbb_cells = Jupyter.notebook.get_cells();\n",
       "                for (var i = 0; i < nbb_cells.length; ++i) {\n",
       "                    if (nbb_cells[i].input_prompt_number == nbb_cell_id) {\n",
       "                        if (nbb_cells[i].get_text() == nbb_unformatted_code) {\n",
       "                             nbb_cells[i].set_text(nbb_formatted_code);\n",
       "                        }\n",
       "                        break;\n",
       "                    }\n",
       "                }\n",
       "            }, 500);\n",
       "            "
      ],
      "text/plain": [
       "<IPython.core.display.Javascript object>"
      ]
     },
     "metadata": {},
     "output_type": "display_data"
    }
   ],
   "source": [
    "X_test_var_denormed = test_var_denormed[\n",
    "    list(test_var_denormed.data_vars.keys())[0]\n",
    "].isel(lead_time=lead_time, lat=lat, lon=lon)\n",
    "y_test_var_denormed = test_var_denormed[\n",
    "    list(test_var_denormed.data_vars.keys())[1]\n",
    "].isel(lead_time=lead_time, lat=lat, lon=lon)"
   ]
  },
  {
   "cell_type": "code",
   "execution_count": 30,
   "id": "9a89a1df",
   "metadata": {},
   "outputs": [
    {
     "name": "stdout",
     "output_type": "stream",
     "text": [
      "45/45 [==============================] - 0s 927us/step - loss: 402.3280\n"
     ]
    },
    {
     "data": {
      "text/plain": [
       "402.3279724121094"
      ]
     },
     "execution_count": 30,
     "metadata": {},
     "output_type": "execute_result"
    },
    {
     "data": {
      "application/javascript": [
       "\n",
       "            setTimeout(function() {\n",
       "                var nbb_cell_id = 30;\n",
       "                var nbb_unformatted_code = \"EMOS_local_t2m_0[lat][lon].evaluate(\\n    [\\n        X_test_var_denormed.isel(mean_std=0).values.flatten(),\\n        X_test_var_denormed.isel(mean_std=1).values.flatten(),\\n    ],\\n    y_test_var_denormed.values.flatten(),\\n)\";\n",
       "                var nbb_formatted_code = \"EMOS_local_t2m_0[lat][lon].evaluate(\\n    [\\n        X_test_var_denormed.isel(mean_std=0).values.flatten(),\\n        X_test_var_denormed.isel(mean_std=1).values.flatten(),\\n    ],\\n    y_test_var_denormed.values.flatten(),\\n)\";\n",
       "                var nbb_cells = Jupyter.notebook.get_cells();\n",
       "                for (var i = 0; i < nbb_cells.length; ++i) {\n",
       "                    if (nbb_cells[i].input_prompt_number == nbb_cell_id) {\n",
       "                        if (nbb_cells[i].get_text() == nbb_unformatted_code) {\n",
       "                             nbb_cells[i].set_text(nbb_formatted_code);\n",
       "                        }\n",
       "                        break;\n",
       "                    }\n",
       "                }\n",
       "            }, 500);\n",
       "            "
      ],
      "text/plain": [
       "<IPython.core.display.Javascript object>"
      ]
     },
     "metadata": {},
     "output_type": "display_data"
    }
   ],
   "source": [
    "EMOS_local_t2m_0[lat][lon].evaluate(\n",
    "    [\n",
    "        X_test_var_denormed.isel(mean_std=0).values.flatten(),\n",
    "        X_test_var_denormed.isel(mean_std=1).values.flatten(),\n",
    "    ],\n",
    "    y_test_var_denormed.values.flatten(),\n",
    ")"
   ]
  },
  {
   "cell_type": "code",
   "execution_count": null,
   "id": "aa76ef68",
   "metadata": {},
   "outputs": [],
   "source": []
  }
 ],
 "metadata": {
  "kernelspec": {
   "display_name": "Python 3 (ipykernel)",
   "language": "python",
   "name": "python3"
  },
  "language_info": {
   "codemirror_mode": {
    "name": "ipython",
    "version": 3
   },
   "file_extension": ".py",
   "mimetype": "text/x-python",
   "name": "python",
   "nbconvert_exporter": "python",
   "pygments_lexer": "ipython3",
   "version": "3.9.7"
  }
 },
 "nbformat": 4,
 "nbformat_minor": 5
}
