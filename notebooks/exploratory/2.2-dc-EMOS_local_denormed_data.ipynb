{
 "cells": [
  {
   "cell_type": "code",
   "execution_count": 1,
   "id": "38f0f79c",
   "metadata": {},
   "outputs": [
    {
     "data": {
      "application/javascript": [
       "\n",
       "            setTimeout(function() {\n",
       "                var nbb_cell_id = 1;\n",
       "                var nbb_unformatted_code = \"%load_ext nb_black\";\n",
       "                var nbb_formatted_code = \"%load_ext nb_black\";\n",
       "                var nbb_cells = Jupyter.notebook.get_cells();\n",
       "                for (var i = 0; i < nbb_cells.length; ++i) {\n",
       "                    if (nbb_cells[i].input_prompt_number == nbb_cell_id) {\n",
       "                        if (nbb_cells[i].get_text() == nbb_unformatted_code) {\n",
       "                             nbb_cells[i].set_text(nbb_formatted_code);\n",
       "                        }\n",
       "                        break;\n",
       "                    }\n",
       "                }\n",
       "            }, 500);\n",
       "            "
      ],
      "text/plain": [
       "<IPython.core.display.Javascript object>"
      ]
     },
     "metadata": {},
     "output_type": "display_data"
    }
   ],
   "source": [
    "%load_ext nb_black"
   ]
  },
  {
   "cell_type": "code",
   "execution_count": 3,
   "id": "d997b9ed",
   "metadata": {},
   "outputs": [
    {
     "data": {
      "application/javascript": [
       "\n",
       "            setTimeout(function() {\n",
       "                var nbb_cell_id = 3;\n",
       "                var nbb_unformatted_code = \"# Helpful\\nimport tqdm\\n\\n# Visualization\\nimport matplotlib.pyplot as plt\\n\\n# My Methods\\nfrom src.utils.CRPS import *\\nfrom src.utils.data_split import *\\nfrom src.models.EMOS import *\\nfrom src.models.EMOS_global.EMOS_global_load_score import *\\nfrom src.models.EMOS_local.EMOS_local_load_score import *\\nfrom src.models.EMOS_local.EMOS_local_load_model import *\\nfrom src.models.EMOS_global.EMOS_global_load_model import *\\nfrom src.models.EMOS_local.EMOS_local_hyper_tune import *\\nimport data.raw.load_data_raw as ldr\\nimport data.processed.load_data_processed as ldp\\nimport data.processed.load_data_processed_denormed as ldpd\\nfrom src.models.CRPS_baseline.CRPS_load import *\\nfrom src.models.EMOS_local.EMOS_local_train import *\";\n",
       "                var nbb_formatted_code = \"# Helpful\\nimport tqdm\\n\\n# Visualization\\nimport matplotlib.pyplot as plt\\n\\n# My Methods\\nfrom src.utils.CRPS import *\\nfrom src.utils.data_split import *\\nfrom src.models.EMOS import *\\nfrom src.models.EMOS_global.EMOS_global_load_score import *\\nfrom src.models.EMOS_local.EMOS_local_load_score import *\\nfrom src.models.EMOS_local.EMOS_local_load_model import *\\nfrom src.models.EMOS_global.EMOS_global_load_model import *\\nfrom src.models.EMOS_local.EMOS_local_hyper_tune import *\\nimport data.raw.load_data_raw as ldr\\nimport data.processed.load_data_processed as ldp\\nimport data.processed.load_data_processed_denormed as ldpd\\nfrom src.models.CRPS_baseline.CRPS_load import *\\nfrom src.models.EMOS_local.EMOS_local_train import *\";\n",
       "                var nbb_cells = Jupyter.notebook.get_cells();\n",
       "                for (var i = 0; i < nbb_cells.length; ++i) {\n",
       "                    if (nbb_cells[i].input_prompt_number == nbb_cell_id) {\n",
       "                        if (nbb_cells[i].get_text() == nbb_unformatted_code) {\n",
       "                             nbb_cells[i].set_text(nbb_formatted_code);\n",
       "                        }\n",
       "                        break;\n",
       "                    }\n",
       "                }\n",
       "            }, 500);\n",
       "            "
      ],
      "text/plain": [
       "<IPython.core.display.Javascript object>"
      ]
     },
     "metadata": {},
     "output_type": "display_data"
    }
   ],
   "source": [
    "# Helpful\n",
    "import tqdm\n",
    "\n",
    "# Visualization\n",
    "import matplotlib.pyplot as plt\n",
    "\n",
    "# My Methods\n",
    "from src.utils.CRPS import *\n",
    "from src.utils.data_split import *\n",
    "from src.models.EMOS import *\n",
    "from src.models.EMOS_global.EMOS_global_load_score import *\n",
    "from src.models.EMOS_local.EMOS_local_load_score import *\n",
    "from src.models.EMOS_local.EMOS_local_load_model import *\n",
    "from src.models.EMOS_global.EMOS_global_load_model import *\n",
    "from src.models.EMOS_local.EMOS_local_hyper_tune import *\n",
    "import data.raw.load_data_raw as ldr\n",
    "import data.processed.load_data_processed as ldp\n",
    "import data.processed.load_data_processed_denormed as ldpd\n",
    "from src.models.CRPS_baseline.CRPS_load import *\n",
    "from src.models.EMOS_local.EMOS_local_train import *"
   ]
  },
  {
   "cell_type": "markdown",
   "id": "527aa811",
   "metadata": {},
   "source": [
    "### 1. Load Scores"
   ]
  },
  {
   "cell_type": "code",
   "execution_count": 7,
   "id": "a0dcce10",
   "metadata": {},
   "outputs": [
    {
     "data": {
      "application/javascript": [
       "\n",
       "            setTimeout(function() {\n",
       "                var nbb_cell_id = 7;\n",
       "                var nbb_unformatted_code = \"# Load EMOS local scores\\nEMOS_local_t2m_scores = EMOS_local_load_score(\\\"t2m\\\")\\n# EMOS_local_ws10_scores = EMOS_local_load_score(\\\"ws10\\\")\\n\\n# Load EMOS global scores\\nEMOS_global_t2m_scores = EMOS_global_load_score(\\\"t2m\\\")\\nEMOS_global_ws10_scores = EMOS_global_load_score(\\\"ws10\\\")\\n\\n# Load CRPS scores\\nCRPS_global_t2m_scores = crps_load_lead_lat_lon(\\\"t2m\\\")\\nCRPS_global_ws10_scores = crps_load_lead_lat_lon(\\\"ws10\\\")\";\n",
       "                var nbb_formatted_code = \"# Load EMOS local scores\\nEMOS_local_t2m_scores = EMOS_local_load_score(\\\"t2m\\\")\\n# EMOS_local_ws10_scores = EMOS_local_load_score(\\\"ws10\\\")\\n\\n# Load EMOS global scores\\nEMOS_global_t2m_scores = EMOS_global_load_score(\\\"t2m\\\")\\nEMOS_global_ws10_scores = EMOS_global_load_score(\\\"ws10\\\")\\n\\n# Load CRPS scores\\nCRPS_global_t2m_scores = crps_load_lead_lat_lon(\\\"t2m\\\")\\nCRPS_global_ws10_scores = crps_load_lead_lat_lon(\\\"ws10\\\")\";\n",
       "                var nbb_cells = Jupyter.notebook.get_cells();\n",
       "                for (var i = 0; i < nbb_cells.length; ++i) {\n",
       "                    if (nbb_cells[i].input_prompt_number == nbb_cell_id) {\n",
       "                        if (nbb_cells[i].get_text() == nbb_unformatted_code) {\n",
       "                             nbb_cells[i].set_text(nbb_formatted_code);\n",
       "                        }\n",
       "                        break;\n",
       "                    }\n",
       "                }\n",
       "            }, 500);\n",
       "            "
      ],
      "text/plain": [
       "<IPython.core.display.Javascript object>"
      ]
     },
     "metadata": {},
     "output_type": "display_data"
    }
   ],
   "source": [
    "# Load EMOS local scores\n",
    "EMOS_local_t2m_scores = EMOS_local_load_score(\"t2m\")\n",
    "# EMOS_local_ws10_scores = EMOS_local_load_score(\"ws10\")\n",
    "\n",
    "# Load EMOS global scores\n",
    "EMOS_global_t2m_scores = EMOS_global_load_score(\"t2m\")\n",
    "EMOS_global_ws10_scores = EMOS_global_load_score(\"ws10\")\n",
    "\n",
    "# Load CRPS scores\n",
    "CRPS_global_t2m_scores = crps_load_lead_lat_lon(\"t2m\")\n",
    "CRPS_global_ws10_scores = crps_load_lead_lat_lon(\"ws10\")"
   ]
  },
  {
   "cell_type": "code",
   "execution_count": 8,
   "id": "74d228cf",
   "metadata": {},
   "outputs": [
    {
     "data": {
      "text/plain": [
       "0"
      ]
     },
     "execution_count": 8,
     "metadata": {},
     "output_type": "execute_result"
    },
    {
     "data": {
      "application/javascript": [
       "\n",
       "            setTimeout(function() {\n",
       "                var nbb_cell_id = 8;\n",
       "                var nbb_unformatted_code = \"len(EMOS_local_t2m_scores)\";\n",
       "                var nbb_formatted_code = \"len(EMOS_local_t2m_scores)\";\n",
       "                var nbb_cells = Jupyter.notebook.get_cells();\n",
       "                for (var i = 0; i < nbb_cells.length; ++i) {\n",
       "                    if (nbb_cells[i].input_prompt_number == nbb_cell_id) {\n",
       "                        if (nbb_cells[i].get_text() == nbb_unformatted_code) {\n",
       "                             nbb_cells[i].set_text(nbb_formatted_code);\n",
       "                        }\n",
       "                        break;\n",
       "                    }\n",
       "                }\n",
       "            }, 500);\n",
       "            "
      ],
      "text/plain": [
       "<IPython.core.display.Javascript object>"
      ]
     },
     "metadata": {},
     "output_type": "display_data"
    }
   ],
   "source": [
    "len(EMOS_local_t2m_scores)"
   ]
  },
  {
   "cell_type": "code",
   "execution_count": 14,
   "id": "bb6cb826",
   "metadata": {},
   "outputs": [
    {
     "ename": "IndexError",
     "evalue": "list index out of range",
     "output_type": "error",
     "traceback": [
      "\u001b[0;31m---------------------------------------------------------------------------\u001b[0m",
      "\u001b[0;31mIndexError\u001b[0m                                Traceback (most recent call last)",
      "\u001b[0;32m/tmp/ipykernel_3410793/3423436418.py\u001b[0m in \u001b[0;36m<module>\u001b[0;34m\u001b[0m\n\u001b[0;32m----> 1\u001b[0;31m \u001b[0mEMOS_local_t2m_scores\u001b[0m\u001b[0;34m[\u001b[0m\u001b[0;36m0\u001b[0m\u001b[0;34m]\u001b[0m\u001b[0;34m.\u001b[0m\u001b[0mshape\u001b[0m\u001b[0;34m\u001b[0m\u001b[0;34m\u001b[0m\u001b[0m\n\u001b[0m",
      "\u001b[0;31mIndexError\u001b[0m: list index out of range"
     ]
    },
    {
     "data": {
      "application/javascript": [
       "\n",
       "            setTimeout(function() {\n",
       "                var nbb_cell_id = 14;\n",
       "                var nbb_unformatted_code = \"EMOS_local_t2m_scores[0].shape\";\n",
       "                var nbb_formatted_code = \"EMOS_local_t2m_scores[0].shape\";\n",
       "                var nbb_cells = Jupyter.notebook.get_cells();\n",
       "                for (var i = 0; i < nbb_cells.length; ++i) {\n",
       "                    if (nbb_cells[i].input_prompt_number == nbb_cell_id) {\n",
       "                        if (nbb_cells[i].get_text() == nbb_unformatted_code) {\n",
       "                             nbb_cells[i].set_text(nbb_formatted_code);\n",
       "                        }\n",
       "                        break;\n",
       "                    }\n",
       "                }\n",
       "            }, 500);\n",
       "            "
      ],
      "text/plain": [
       "<IPython.core.display.Javascript object>"
      ]
     },
     "metadata": {},
     "output_type": "display_data"
    }
   ],
   "source": [
    "EMOS_local_t2m_scores[0].shape"
   ]
  },
  {
   "cell_type": "code",
   "execution_count": 15,
   "id": "c0a6ad99",
   "metadata": {},
   "outputs": [
    {
     "ename": "IndexError",
     "evalue": "list index out of range",
     "output_type": "error",
     "traceback": [
      "\u001b[0;31m---------------------------------------------------------------------------\u001b[0m",
      "\u001b[0;31mIndexError\u001b[0m                                Traceback (most recent call last)",
      "\u001b[0;32m/tmp/ipykernel_3410793/252196717.py\u001b[0m in \u001b[0;36m<module>\u001b[0;34m\u001b[0m\n\u001b[0;32m----> 1\u001b[0;31m \u001b[0mEMOS_local_t2m_scores\u001b[0m\u001b[0;34m[\u001b[0m\u001b[0;36m0\u001b[0m\u001b[0;34m]\u001b[0m\u001b[0;34m\u001b[0m\u001b[0;34m\u001b[0m\u001b[0m\n\u001b[0m",
      "\u001b[0;31mIndexError\u001b[0m: list index out of range"
     ]
    },
    {
     "data": {
      "application/javascript": [
       "\n",
       "            setTimeout(function() {\n",
       "                var nbb_cell_id = 15;\n",
       "                var nbb_unformatted_code = \"EMOS_local_t2m_scores[0]\";\n",
       "                var nbb_formatted_code = \"EMOS_local_t2m_scores[0]\";\n",
       "                var nbb_cells = Jupyter.notebook.get_cells();\n",
       "                for (var i = 0; i < nbb_cells.length; ++i) {\n",
       "                    if (nbb_cells[i].input_prompt_number == nbb_cell_id) {\n",
       "                        if (nbb_cells[i].get_text() == nbb_unformatted_code) {\n",
       "                             nbb_cells[i].set_text(nbb_formatted_code);\n",
       "                        }\n",
       "                        break;\n",
       "                    }\n",
       "                }\n",
       "            }, 500);\n",
       "            "
      ],
      "text/plain": [
       "<IPython.core.display.Javascript object>"
      ]
     },
     "metadata": {},
     "output_type": "display_data"
    }
   ],
   "source": [
    "EMOS_local_t2m_scores[0]"
   ]
  },
  {
   "cell_type": "markdown",
   "id": "c02d9543",
   "metadata": {},
   "source": [
    "### 3. Load Hyperparameter tuning:"
   ]
  },
  {
   "cell_type": "code",
   "execution_count": 4,
   "id": "e0e85715",
   "metadata": {},
   "outputs": [
    {
     "data": {
      "application/javascript": [
       "\n",
       "            setTimeout(function() {\n",
       "                var nbb_cell_id = 4;\n",
       "                var nbb_unformatted_code = \"EMOS_local_ws10_hyper_scores = EMOS_local_load_hyper_score(\\\"ws10\\\")\";\n",
       "                var nbb_formatted_code = \"EMOS_local_ws10_hyper_scores = EMOS_local_load_hyper_score(\\\"ws10\\\")\";\n",
       "                var nbb_cells = Jupyter.notebook.get_cells();\n",
       "                for (var i = 0; i < nbb_cells.length; ++i) {\n",
       "                    if (nbb_cells[i].input_prompt_number == nbb_cell_id) {\n",
       "                        if (nbb_cells[i].get_text() == nbb_unformatted_code) {\n",
       "                             nbb_cells[i].set_text(nbb_formatted_code);\n",
       "                        }\n",
       "                        break;\n",
       "                    }\n",
       "                }\n",
       "            }, 500);\n",
       "            "
      ],
      "text/plain": [
       "<IPython.core.display.Javascript object>"
      ]
     },
     "metadata": {},
     "output_type": "display_data"
    }
   ],
   "source": [
    "EMOS_local_ws10_hyper_scores = EMOS_local_load_hyper_score(\"ws10\")"
   ]
  },
  {
   "cell_type": "code",
   "execution_count": 5,
   "id": "dfec8e96",
   "metadata": {},
   "outputs": [
    {
     "data": {
      "text/plain": [
       "[[(32, 30, 0.1, 'Adam'), 0.5986838517471765]]"
      ]
     },
     "execution_count": 5,
     "metadata": {},
     "output_type": "execute_result"
    },
    {
     "data": {
      "application/javascript": [
       "\n",
       "            setTimeout(function() {\n",
       "                var nbb_cell_id = 5;\n",
       "                var nbb_unformatted_code = \"EMOS_local_ws10_hyper_scores\";\n",
       "                var nbb_formatted_code = \"EMOS_local_ws10_hyper_scores\";\n",
       "                var nbb_cells = Jupyter.notebook.get_cells();\n",
       "                for (var i = 0; i < nbb_cells.length; ++i) {\n",
       "                    if (nbb_cells[i].input_prompt_number == nbb_cell_id) {\n",
       "                        if (nbb_cells[i].get_text() == nbb_unformatted_code) {\n",
       "                             nbb_cells[i].set_text(nbb_formatted_code);\n",
       "                        }\n",
       "                        break;\n",
       "                    }\n",
       "                }\n",
       "            }, 500);\n",
       "            "
      ],
      "text/plain": [
       "<IPython.core.display.Javascript object>"
      ]
     },
     "metadata": {},
     "output_type": "display_data"
    }
   ],
   "source": [
    "EMOS_local_ws10_hyper_scores"
   ]
  },
  {
   "cell_type": "code",
   "execution_count": null,
   "id": "2f90f89f",
   "metadata": {},
   "outputs": [],
   "source": []
  },
  {
   "cell_type": "code",
   "execution_count": null,
   "id": "faa55db4",
   "metadata": {},
   "outputs": [],
   "source": []
  },
  {
   "cell_type": "markdown",
   "id": "fa688879",
   "metadata": {},
   "source": [
    "### 3. Trying to load models:"
   ]
  },
  {
   "cell_type": "code",
   "execution_count": null,
   "id": "4a0e035d",
   "metadata": {},
   "outputs": [],
   "source": [
    "EMOS_local_t2m_0 = EMOS_local_load_model(2, 0)"
   ]
  },
  {
   "cell_type": "code",
   "execution_count": 24,
   "id": "3537c3f4",
   "metadata": {},
   "outputs": [
    {
     "data": {
      "application/javascript": [
       "\n",
       "            setTimeout(function() {\n",
       "                var nbb_cell_id = 24;\n",
       "                var nbb_unformatted_code = \"lat = 2\\nlon = 2\\nlead_time = 0\";\n",
       "                var nbb_formatted_code = \"lat = 2\\nlon = 2\\nlead_time = 0\";\n",
       "                var nbb_cells = Jupyter.notebook.get_cells();\n",
       "                for (var i = 0; i < nbb_cells.length; ++i) {\n",
       "                    if (nbb_cells[i].input_prompt_number == nbb_cell_id) {\n",
       "                        if (nbb_cells[i].get_text() == nbb_unformatted_code) {\n",
       "                             nbb_cells[i].set_text(nbb_formatted_code);\n",
       "                        }\n",
       "                        break;\n",
       "                    }\n",
       "                }\n",
       "            }, 500);\n",
       "            "
      ],
      "text/plain": [
       "<IPython.core.display.Javascript object>"
      ]
     },
     "metadata": {},
     "output_type": "display_data"
    }
   ],
   "source": [
    "lat = 2\n",
    "lon = 2\n",
    "lead_time = 0"
   ]
  },
  {
   "cell_type": "code",
   "execution_count": 28,
   "id": "5adeb0b9",
   "metadata": {},
   "outputs": [
    {
     "data": {
      "application/javascript": [
       "\n",
       "            setTimeout(function() {\n",
       "                var nbb_cell_id = 28;\n",
       "                var nbb_unformatted_code = \"test_var_denormed = ldpd.load_data_all_train_proc_denorm()[2]\";\n",
       "                var nbb_formatted_code = \"test_var_denormed = ldpd.load_data_all_train_proc_denorm()[2]\";\n",
       "                var nbb_cells = Jupyter.notebook.get_cells();\n",
       "                for (var i = 0; i < nbb_cells.length; ++i) {\n",
       "                    if (nbb_cells[i].input_prompt_number == nbb_cell_id) {\n",
       "                        if (nbb_cells[i].get_text() == nbb_unformatted_code) {\n",
       "                             nbb_cells[i].set_text(nbb_formatted_code);\n",
       "                        }\n",
       "                        break;\n",
       "                    }\n",
       "                }\n",
       "            }, 500);\n",
       "            "
      ],
      "text/plain": [
       "<IPython.core.display.Javascript object>"
      ]
     },
     "metadata": {},
     "output_type": "display_data"
    }
   ],
   "source": [
    "test_var_denormed = ldpd.load_data_all_train_proc_denorm()[2]"
   ]
  },
  {
   "cell_type": "code",
   "execution_count": 29,
   "id": "3b624f57",
   "metadata": {},
   "outputs": [
    {
     "data": {
      "application/javascript": [
       "\n",
       "            setTimeout(function() {\n",
       "                var nbb_cell_id = 29;\n",
       "                var nbb_unformatted_code = \"X_test_var_denormed = test_var_denormed[\\n    list(test_var_denormed.data_vars.keys())[0]\\n].isel(lead_time=lead_time, lat=lat, lon=lon)\\ny_test_var_denormed = test_var_denormed[\\n    list(test_var_denormed.data_vars.keys())[1]\\n].isel(lead_time=lead_time, lat=lat, lon=lon)\";\n",
       "                var nbb_formatted_code = \"X_test_var_denormed = test_var_denormed[\\n    list(test_var_denormed.data_vars.keys())[0]\\n].isel(lead_time=lead_time, lat=lat, lon=lon)\\ny_test_var_denormed = test_var_denormed[\\n    list(test_var_denormed.data_vars.keys())[1]\\n].isel(lead_time=lead_time, lat=lat, lon=lon)\";\n",
       "                var nbb_cells = Jupyter.notebook.get_cells();\n",
       "                for (var i = 0; i < nbb_cells.length; ++i) {\n",
       "                    if (nbb_cells[i].input_prompt_number == nbb_cell_id) {\n",
       "                        if (nbb_cells[i].get_text() == nbb_unformatted_code) {\n",
       "                             nbb_cells[i].set_text(nbb_formatted_code);\n",
       "                        }\n",
       "                        break;\n",
       "                    }\n",
       "                }\n",
       "            }, 500);\n",
       "            "
      ],
      "text/plain": [
       "<IPython.core.display.Javascript object>"
      ]
     },
     "metadata": {},
     "output_type": "display_data"
    }
   ],
   "source": [
    "X_test_var_denormed = test_var_denormed[\n",
    "    list(test_var_denormed.data_vars.keys())[0]\n",
    "].isel(lead_time=lead_time, lat=lat, lon=lon)\n",
    "y_test_var_denormed = test_var_denormed[\n",
    "    list(test_var_denormed.data_vars.keys())[1]\n",
    "].isel(lead_time=lead_time, lat=lat, lon=lon)"
   ]
  },
  {
   "cell_type": "code",
   "execution_count": 30,
   "id": "9a89a1df",
   "metadata": {},
   "outputs": [
    {
     "name": "stdout",
     "output_type": "stream",
     "text": [
      "45/45 [==============================] - 0s 927us/step - loss: 402.3280\n"
     ]
    },
    {
     "data": {
      "text/plain": [
       "402.3279724121094"
      ]
     },
     "execution_count": 30,
     "metadata": {},
     "output_type": "execute_result"
    },
    {
     "data": {
      "application/javascript": [
       "\n",
       "            setTimeout(function() {\n",
       "                var nbb_cell_id = 30;\n",
       "                var nbb_unformatted_code = \"EMOS_local_t2m_0[lat][lon].evaluate(\\n    [\\n        X_test_var_denormed.isel(mean_std=0).values.flatten(),\\n        X_test_var_denormed.isel(mean_std=1).values.flatten(),\\n    ],\\n    y_test_var_denormed.values.flatten(),\\n)\";\n",
       "                var nbb_formatted_code = \"EMOS_local_t2m_0[lat][lon].evaluate(\\n    [\\n        X_test_var_denormed.isel(mean_std=0).values.flatten(),\\n        X_test_var_denormed.isel(mean_std=1).values.flatten(),\\n    ],\\n    y_test_var_denormed.values.flatten(),\\n)\";\n",
       "                var nbb_cells = Jupyter.notebook.get_cells();\n",
       "                for (var i = 0; i < nbb_cells.length; ++i) {\n",
       "                    if (nbb_cells[i].input_prompt_number == nbb_cell_id) {\n",
       "                        if (nbb_cells[i].get_text() == nbb_unformatted_code) {\n",
       "                             nbb_cells[i].set_text(nbb_formatted_code);\n",
       "                        }\n",
       "                        break;\n",
       "                    }\n",
       "                }\n",
       "            }, 500);\n",
       "            "
      ],
      "text/plain": [
       "<IPython.core.display.Javascript object>"
      ]
     },
     "metadata": {},
     "output_type": "display_data"
    }
   ],
   "source": [
    "EMOS_local_t2m_0[lat][lon].evaluate(\n",
    "    [\n",
    "        X_test_var_denormed.isel(mean_std=0).values.flatten(),\n",
    "        X_test_var_denormed.isel(mean_std=1).values.flatten(),\n",
    "    ],\n",
    "    y_test_var_denormed.values.flatten(),\n",
    ")"
   ]
  },
  {
   "cell_type": "code",
   "execution_count": null,
   "id": "aa76ef68",
   "metadata": {},
   "outputs": [],
   "source": []
  }
 ],
 "metadata": {
  "kernelspec": {
   "display_name": "Python 3 (ipykernel)",
   "language": "python",
   "name": "python3"
  },
  "language_info": {
   "codemirror_mode": {
    "name": "ipython",
    "version": 3
   },
   "file_extension": ".py",
   "mimetype": "text/x-python",
   "name": "python",
   "nbconvert_exporter": "python",
   "pygments_lexer": "ipython3",
   "version": "3.9.7"
  }
 },
 "nbformat": 4,
 "nbformat_minor": 5
}
