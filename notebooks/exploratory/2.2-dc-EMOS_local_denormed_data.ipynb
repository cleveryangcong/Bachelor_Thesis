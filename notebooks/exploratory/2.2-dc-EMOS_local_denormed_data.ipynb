{
 "cells": [
  {
   "cell_type": "code",
   "execution_count": 1,
   "id": "38f0f79c",
   "metadata": {},
   "outputs": [
    {
     "data": {
      "application/javascript": [
       "\n",
       "            setTimeout(function() {\n",
       "                var nbb_cell_id = 1;\n",
       "                var nbb_unformatted_code = \"%load_ext nb_black\";\n",
       "                var nbb_formatted_code = \"%load_ext nb_black\";\n",
       "                var nbb_cells = Jupyter.notebook.get_cells();\n",
       "                for (var i = 0; i < nbb_cells.length; ++i) {\n",
       "                    if (nbb_cells[i].input_prompt_number == nbb_cell_id) {\n",
       "                        if (nbb_cells[i].get_text() == nbb_unformatted_code) {\n",
       "                             nbb_cells[i].set_text(nbb_formatted_code);\n",
       "                        }\n",
       "                        break;\n",
       "                    }\n",
       "                }\n",
       "            }, 500);\n",
       "            "
      ],
      "text/plain": [
       "<IPython.core.display.Javascript object>"
      ]
     },
     "metadata": {},
     "output_type": "display_data"
    }
   ],
   "source": [
    "%load_ext nb_black"
   ]
  },
  {
   "cell_type": "code",
   "execution_count": 3,
   "id": "d997b9ed",
   "metadata": {},
   "outputs": [
    {
     "data": {
      "application/javascript": [
       "\n",
       "            setTimeout(function() {\n",
       "                var nbb_cell_id = 3;\n",
       "                var nbb_unformatted_code = \"# Helpful\\nimport tqdm\\n\\n# Visualization\\nimport matplotlib.pyplot as plt\\n\\n# My Methods\\nfrom src.utils.CRPS import *\\nfrom src.utils.data_split import *\\nfrom src.models.EMOS import *\\nfrom src.models.EMOS_global.EMOS_global_load_score import *\\nfrom src.models.EMOS_global.EMOS_global_load_model import *\\nimport data.raw.load_data_raw as ldr\\nimport data.processed.load_data_processed as ldp\\nimport data.processed.load_data_processed_denormed as ldpd\\nfrom src.models.CRPS_baseline.CRPS_load import *\";\n",
       "                var nbb_formatted_code = \"# Helpful\\nimport tqdm\\n\\n# Visualization\\nimport matplotlib.pyplot as plt\\n\\n# My Methods\\nfrom src.utils.CRPS import *\\nfrom src.utils.data_split import *\\nfrom src.models.EMOS import *\\nfrom src.models.EMOS_global.EMOS_global_load_score import *\\nfrom src.models.EMOS_global.EMOS_global_load_model import *\\nimport data.raw.load_data_raw as ldr\\nimport data.processed.load_data_processed as ldp\\nimport data.processed.load_data_processed_denormed as ldpd\\nfrom src.models.CRPS_baseline.CRPS_load import *\";\n",
       "                var nbb_cells = Jupyter.notebook.get_cells();\n",
       "                for (var i = 0; i < nbb_cells.length; ++i) {\n",
       "                    if (nbb_cells[i].input_prompt_number == nbb_cell_id) {\n",
       "                        if (nbb_cells[i].get_text() == nbb_unformatted_code) {\n",
       "                             nbb_cells[i].set_text(nbb_formatted_code);\n",
       "                        }\n",
       "                        break;\n",
       "                    }\n",
       "                }\n",
       "            }, 500);\n",
       "            "
      ],
      "text/plain": [
       "<IPython.core.display.Javascript object>"
      ]
     },
     "metadata": {},
     "output_type": "display_data"
    }
   ],
   "source": [
    "# Helpful\n",
    "import tqdm\n",
    "\n",
    "# Visualization\n",
    "import matplotlib.pyplot as plt\n",
    "\n",
    "# My Methods\n",
    "from src.utils.CRPS import *\n",
    "from src.utils.data_split import *\n",
    "from src.models.EMOS import *\n",
    "from src.models.EMOS_global.EMOS_global_load_score import *\n",
    "from src.models.EMOS_global.EMOS_global_load_model import *\n",
    "import data.raw.load_data_raw as ldr\n",
    "import data.processed.load_data_processed as ldp\n",
    "import data.processed.load_data_processed_denormed as ldpd\n",
    "from src.models.CRPS_baseline.CRPS_load import *"
   ]
  },
  {
   "cell_type": "markdown",
   "id": "527aa811",
   "metadata": {},
   "source": [
    "### 1. Load Raw Data"
   ]
  },
  {
   "cell_type": "code",
   "execution_count": null,
   "id": "a0dcce10",
   "metadata": {},
   "outputs": [],
   "source": []
  },
  {
   "cell_type": "code",
   "execution_count": null,
   "id": "74d228cf",
   "metadata": {},
   "outputs": [],
   "source": []
  },
  {
   "cell_type": "code",
   "execution_count": null,
   "id": "bb6cb826",
   "metadata": {},
   "outputs": [],
   "source": []
  },
  {
   "cell_type": "code",
   "execution_count": null,
   "id": "afdfb7f4",
   "metadata": {},
   "outputs": [],
   "source": []
  },
  {
   "cell_type": "markdown",
   "id": "38eec476",
   "metadata": {},
   "source": [
    "### 3. Implementation:"
   ]
  },
  {
   "cell_type": "code",
   "execution_count": 16,
   "id": "4be10f47",
   "metadata": {},
   "outputs": [
    {
     "data": {
      "application/javascript": [
       "\n",
       "            setTimeout(function() {\n",
       "                var nbb_cell_id = 14;\n",
       "                var nbb_unformatted_code = \"def EMOS_global_train(\\n    var_num,\\n    lead_time,\\n    batch_size=4096,\\n    epochs=10,\\n    lr=0.001,\\n    validation_split=0.2,\\n    optimizer=\\\"Adam\\\",\\n):\\n    \\\"\\\"\\\"\\n    Train all global EMOS models for a specific variable and lead_time\\n\\n    Args: \\n        var_num (integer): number between 0 - 5 for each of the variables[\\\"u10\\\", \\\"v10\\\", \\\"t2m\\\", \\\"t850\\\", \\\"z500\\\", \\\"ws10\\\"]\\n        lead_time (integer): number between 0 - 30 for each lead_time\\n    \\\"\\\"\\\"\\n\\n    # Adjust lead_time for 1-based indexing\\n    lead_time = lead_time + 1\\n\\n    # Define the names of the variables\\n    var_names = [\\\"u10\\\", \\\"v10\\\", \\\"t2m\\\", \\\"t850\\\", \\\"z500\\\", \\\"ws10\\\"]\\n\\n    # Load the training data\\n    train_var_denormed = ldpd.load_data_all_train_proc_denorm()[var_num]\\n\\n    # Split the data into features and target\\n    X_train_var_denormed = train_var_denormed[\\n        list(train_var_denormed.data_vars.keys())[0]\\n    ].isel(lead_time=lead_time)\\n    y_train_var_denormed = train_var_denormed[\\n        list(train_var_denormed.data_vars.keys())[1]\\n    ].isel(lead_time=lead_time)\\n\\n    # Define the cost function depending on the variable number\\n    if var_num in [5]:\\n        crps = crps_cost_function_trunc\\n    else:\\n        crps = crps_cost_function\\n\\n    # Build and compile the model\\n    EMOS_glob = build_EMOS_network_keras(\\n        compile=True, lr=lr, loss=crps, optimizer=optimizer\\n    )\\n\\n    # Define the filename for the model checkpoint\\n    model_filename = (\\n        \\\"/home/dchen/BA_CH_EN/models/EMOS_global_models/denormed/EMOS_glob_\\\"\\n        + var_names[var_num]\\n        + \\\"_lead_time_\\\"\\n        + str(lead_time - 1)\\n        + \\\"_denormed.h5\\\"\\n    )\\n\\n    # Define callbacks for early stopping and model checkpointing\\n    early_stopping = EarlyStopping(monitor=\\\"val_loss\\\", patience=3)\\n    model_checkpoint = ModelCheckpoint(\\n        model_filename, monitor=\\\"val_loss\\\", mode=\\\"min\\\", save_best_only=True\\n    )\\n\\n    # Fit the model to the training data\\n    EMOS_glob.fit(\\n        [\\n            X_train_var_denormed.isel(mean_std=0).values.flatten(),\\n            X_train_var_denormed.isel(mean_std=1).values.flatten(),\\n        ],\\n        y_train_var_denormed.values.flatten(),\\n        batch_size=batch_size,\\n        epochs=epochs,\\n        validation_split=validation_split,\\n        callbacks=[early_stopping, model_checkpoint],\\n    )\\n\\n    # Load the best model and return\\n    best_model = tf.keras.models.load_model(\\n        model_filename, \\n        custom_objects={\\n            \\\"crps_cost_function\\\": crps_cost_function,\\n            \\\"crps_cost_function_trunc\\\": crps_cost_function_trunc\\n        }\\n    )\\n\\n    return best_model\";\n",
       "                var nbb_formatted_code = \"def EMOS_global_train(\\n    var_num,\\n    lead_time,\\n    batch_size=4096,\\n    epochs=10,\\n    lr=0.001,\\n    validation_split=0.2,\\n    optimizer=\\\"Adam\\\",\\n):\\n    \\\"\\\"\\\"\\n    Train all global EMOS models for a specific variable and lead_time\\n\\n    Args: \\n        var_num (integer): number between 0 - 5 for each of the variables[\\\"u10\\\", \\\"v10\\\", \\\"t2m\\\", \\\"t850\\\", \\\"z500\\\", \\\"ws10\\\"]\\n        lead_time (integer): number between 0 - 30 for each lead_time\\n    \\\"\\\"\\\"\\n\\n    # Adjust lead_time for 1-based indexing\\n    lead_time = lead_time + 1\\n\\n    # Define the names of the variables\\n    var_names = [\\\"u10\\\", \\\"v10\\\", \\\"t2m\\\", \\\"t850\\\", \\\"z500\\\", \\\"ws10\\\"]\\n\\n    # Load the training data\\n    train_var_denormed = ldpd.load_data_all_train_proc_denorm()[var_num]\\n\\n    # Split the data into features and target\\n    X_train_var_denormed = train_var_denormed[\\n        list(train_var_denormed.data_vars.keys())[0]\\n    ].isel(lead_time=lead_time)\\n    y_train_var_denormed = train_var_denormed[\\n        list(train_var_denormed.data_vars.keys())[1]\\n    ].isel(lead_time=lead_time)\\n\\n    # Define the cost function depending on the variable number\\n    if var_num in [5]:\\n        crps = crps_cost_function_trunc\\n    else:\\n        crps = crps_cost_function\\n\\n    # Build and compile the model\\n    EMOS_glob = build_EMOS_network_keras(\\n        compile=True, lr=lr, loss=crps, optimizer=optimizer\\n    )\\n\\n    # Define the filename for the model checkpoint\\n    model_filename = (\\n        \\\"/home/dchen/BA_CH_EN/models/EMOS_global_models/denormed/EMOS_glob_\\\"\\n        + var_names[var_num]\\n        + \\\"_lead_time_\\\"\\n        + str(lead_time - 1)\\n        + \\\"_denormed.h5\\\"\\n    )\\n\\n    # Define callbacks for early stopping and model checkpointing\\n    early_stopping = EarlyStopping(monitor=\\\"val_loss\\\", patience=3)\\n    model_checkpoint = ModelCheckpoint(\\n        model_filename, monitor=\\\"val_loss\\\", mode=\\\"min\\\", save_best_only=True\\n    )\\n\\n    # Fit the model to the training data\\n    EMOS_glob.fit(\\n        [\\n            X_train_var_denormed.isel(mean_std=0).values.flatten(),\\n            X_train_var_denormed.isel(mean_std=1).values.flatten(),\\n        ],\\n        y_train_var_denormed.values.flatten(),\\n        batch_size=batch_size,\\n        epochs=epochs,\\n        validation_split=validation_split,\\n        callbacks=[early_stopping, model_checkpoint],\\n    )\\n\\n    # Load the best model and return\\n    best_model = tf.keras.models.load_model(\\n        model_filename,\\n        custom_objects={\\n            \\\"crps_cost_function\\\": crps_cost_function,\\n            \\\"crps_cost_function_trunc\\\": crps_cost_function_trunc,\\n        },\\n    )\\n\\n    return best_model\";\n",
       "                var nbb_cells = Jupyter.notebook.get_cells();\n",
       "                for (var i = 0; i < nbb_cells.length; ++i) {\n",
       "                    if (nbb_cells[i].input_prompt_number == nbb_cell_id) {\n",
       "                        if (nbb_cells[i].get_text() == nbb_unformatted_code) {\n",
       "                             nbb_cells[i].set_text(nbb_formatted_code);\n",
       "                        }\n",
       "                        break;\n",
       "                    }\n",
       "                }\n",
       "            }, 500);\n",
       "            "
      ],
      "text/plain": [
       "<IPython.core.display.Javascript object>"
      ]
     },
     "metadata": {},
     "output_type": "display_data"
    }
   ],
   "source": [
    "def EMOS_local_train(var_num, lead_time, batch_size=4096, epochs=10, lr=0.001, validation_split=0.2, optimizer=\"Adam\"):\n",
    "    \"\"\"\n",
    "    Train a global EMOS models for a specific variable and lead_time for all individual gridpoints\n",
    "\n",
    "    Args: \n",
    "        var_num (integer): number between 0 - 5 for each of the variables[\"u10\", \"v10\", \"t2m\", \"t850\", \"z500\", \"ws10\"]\n",
    "        lead_time (integer): number between 0 - 30 for each lead_time\n",
    "    \"\"\"\n",
    "    # Adjust lead_time for 1-based indexing\n",
    "    lead_time = lead_time + 1\n",
    "\n",
    "    # Define the cost function depending on the variable number\n",
    "    crps = crps_cost_function_trunc if var_num in [5] else crps_cost_function\n",
    "\n",
    "    # Define the names of the variables\n",
    "    var_names = [\"u10\", \"v10\", \"t2m\", \"t850\", \"z500\", \"ws10\"]\n",
    "\n",
    "    # Load the training data for gridpoint\n",
    "    train_var_denormed = ldpd.load_data_all_train_proc_denorm()[var_num]\n",
    "\n",
    "    # Split the data into features and target\n",
    "    for lat in range(120):\n",
    "        for lon in range(130):\n",
    "            # Split the data into features and target\n",
    "            X_train_var_denormed = train_var_denormed[\n",
    "                list(train_var_denormed.data_vars.keys())[0]\n",
    "            ].isel(lead_time=lead_time, lat=lat, lon=lon)\n",
    "            y_train_var_denormed = train_var_denormed[\n",
    "                list(train_var_denormed.data_vars.keys())[1]\n",
    "            ].isel(lead_time=lead_time, lat=lat, lon=lon)\n",
    "\n",
    "            # Build and compile the model\n",
    "            EMOS_loc = build_EMOS_network_keras(\n",
    "                compile=True, lr=lr, loss=crps, optimizer=optimizer\n",
    "            )\n",
    "\n",
    "            # Save the model\n",
    "            model_filename = f\"/home/dchen/BA_CH_EN/models/EMOS_local_models/denormed/EMOS_loc_{var_names[var_num]}_lead_time_{lead_time - 1}_{lat}_{lon}_denormed.h5\"\n",
    "            \n",
    "            # Define callbacks for early stopping and model checkpointing\n",
    "            early_stopping = EarlyStopping(monitor=\"val_loss\", patience=3)\n",
    "            model_checkpoint = ModelCheckpoint(\n",
    "                model_filename, monitor=\"val_loss\", mode=\"min\", save_best_only=True\n",
    "            )\n",
    "            \n",
    "            # Fit the model to the training data\n",
    "            EMOS_loc.fit(\n",
    "                [\n",
    "                    X_train_var_denormed.isel(mean_std=0).values.flatten(),\n",
    "                    X_train_var_denormed.isel(mean_std=1).values.flatten(),\n",
    "                ],\n",
    "                y_train_var_denormed.values.flatten(),\n",
    "                batch_size=batch_size,\n",
    "                epochs=epochs,\n",
    "                validation_split=validation_split,\n",
    "                callbacks=[early_stopping, model_checkpoint],\n",
    "            )"
   ]
  },
  {
   "cell_type": "code",
   "execution_count": 17,
   "id": "71014236",
   "metadata": {},
   "outputs": [
    {
     "data": {
      "application/javascript": [
       "\n",
       "            setTimeout(function() {\n",
       "                var nbb_cell_id = 15;\n",
       "                var nbb_unformatted_code = \"def EMOS_local_train(var_num, lead_time, batch_size=4096, epochs=10, lr=0.001, validation_split=0.2, optimizer=\\\"Adam\\\"):\\n    \\\"\\\"\\\"\\n    Train a global EMOS models for a specific variable and lead_time for all individual gridpoints\\n\\n    Args: \\n        var_num (integer): number between 0 - 5 for each of the variables[\\\"u10\\\", \\\"v10\\\", \\\"t2m\\\", \\\"t850\\\", \\\"z500\\\", \\\"ws10\\\"]\\n        lead_time (integer): number between 0 - 30 for each lead_time\\n    \\\"\\\"\\\"\\n    # Adjust lead_time for 1-based indexing\\n    lead_time = lead_time + 1\\n\\n    # Define the cost function depending on the variable number\\n    crps = crps_cost_function_trunc if var_num in [5] else crps_cost_function\\n\\n    # Define the names of the variables\\n    var_names = [\\\"u10\\\", \\\"v10\\\", \\\"t2m\\\", \\\"t850\\\", \\\"z500\\\", \\\"ws10\\\"]\\n\\n    # Load the training data for gridpoint\\n    train_var_denormed = ldpd.load_data_all_train_proc_denorm()[var_num]\\n\\n    # Split the data into features and target\\n    for lat in range(120):\\n        for lon in range(130):\\n            # Split the data into features and target\\n            X_train_var_denormed = train_var_denormed[\\n                list(train_var_denormed.data_vars.keys())[0]\\n            ].isel(lead_time=lead_time, lat=lat, lon=lon)\\n            y_train_var_denormed = train_var_denormed[\\n                list(train_var_denormed.data_vars.keys())[1]\\n            ].isel(lead_time=lead_time, lat=lat, lon=lon)\\n\\n            # Build and compile the model\\n            EMOS_glob = build_EMOS_network_keras(\\n                compile=True, lr=lr, loss=crps, optimizer=optimizer\\n            )\\n\\n            # Train the model\\n            EMOS_glob.fit(X_train_var_denormed, y_train_var_denormed, batch_size=batch_size, epochs=epochs, validation_split=validation_split)\\n\\n            # Save the model\\n            model_filename = f\\\"/home/dchen/BA_CH_EN/models/EMOS_local_models/denormed/EMOS_loc_{var_names[var_num]}_lead_time_{lead_time - 1}_{lat}_{lon}_denormed.h5\\\"\\n            EMOS_glob.save(model_filename)\";\n",
       "                var nbb_formatted_code = \"def EMOS_local_train(\\n    var_num,\\n    lead_time,\\n    batch_size=4096,\\n    epochs=10,\\n    lr=0.001,\\n    validation_split=0.2,\\n    optimizer=\\\"Adam\\\",\\n):\\n    \\\"\\\"\\\"\\n    Train a global EMOS models for a specific variable and lead_time for all individual gridpoints\\n\\n    Args: \\n        var_num (integer): number between 0 - 5 for each of the variables[\\\"u10\\\", \\\"v10\\\", \\\"t2m\\\", \\\"t850\\\", \\\"z500\\\", \\\"ws10\\\"]\\n        lead_time (integer): number between 0 - 30 for each lead_time\\n    \\\"\\\"\\\"\\n    # Adjust lead_time for 1-based indexing\\n    lead_time = lead_time + 1\\n\\n    # Define the cost function depending on the variable number\\n    crps = crps_cost_function_trunc if var_num in [5] else crps_cost_function\\n\\n    # Define the names of the variables\\n    var_names = [\\\"u10\\\", \\\"v10\\\", \\\"t2m\\\", \\\"t850\\\", \\\"z500\\\", \\\"ws10\\\"]\\n\\n    # Load the training data for gridpoint\\n    train_var_denormed = ldpd.load_data_all_train_proc_denorm()[var_num]\\n\\n    # Split the data into features and target\\n    for lat in range(120):\\n        for lon in range(130):\\n            # Split the data into features and target\\n            X_train_var_denormed = train_var_denormed[\\n                list(train_var_denormed.data_vars.keys())[0]\\n            ].isel(lead_time=lead_time, lat=lat, lon=lon)\\n            y_train_var_denormed = train_var_denormed[\\n                list(train_var_denormed.data_vars.keys())[1]\\n            ].isel(lead_time=lead_time, lat=lat, lon=lon)\\n\\n            # Build and compile the model\\n            EMOS_glob = build_EMOS_network_keras(\\n                compile=True, lr=lr, loss=crps, optimizer=optimizer\\n            )\\n\\n            # Train the model\\n            EMOS_glob.fit(\\n                X_train_var_denormed,\\n                y_train_var_denormed,\\n                batch_size=batch_size,\\n                epochs=epochs,\\n                validation_split=validation_split,\\n            )\\n\\n            # Save the model\\n            model_filename = f\\\"/home/dchen/BA_CH_EN/models/EMOS_local_models/denormed/EMOS_loc_{var_names[var_num]}_lead_time_{lead_time - 1}_{lat}_{lon}_denormed.h5\\\"\\n            EMOS_glob.save(model_filename)\";\n",
       "                var nbb_cells = Jupyter.notebook.get_cells();\n",
       "                for (var i = 0; i < nbb_cells.length; ++i) {\n",
       "                    if (nbb_cells[i].input_prompt_number == nbb_cell_id) {\n",
       "                        if (nbb_cells[i].get_text() == nbb_unformatted_code) {\n",
       "                             nbb_cells[i].set_text(nbb_formatted_code);\n",
       "                        }\n",
       "                        break;\n",
       "                    }\n",
       "                }\n",
       "            }, 500);\n",
       "            "
      ],
      "text/plain": [
       "<IPython.core.display.Javascript object>"
      ]
     },
     "metadata": {},
     "output_type": "display_data"
    }
   ],
   "source": [
    "def EMOS_local_load_model_var_lead(var_num, lead_time):\n",
    "    \"\"\"\n",
    "    Load all the saved EMOS global models for a specific variable and arrange them in a 2D list.\n",
    "\n",
    "    Args:\n",
    "        var_name (str): The variable name used in the model files.\n",
    "\n",
    "    Returns:\n",
    "        list: A 2D list (120 x 130) of TensorFlow models.\n",
    "    \"\"\"\n",
    "    var_names = [\"u10\", \"v10\", \"t2m\", \"t850\", \"z500\", \"ws10\"]\n",
    "    var_name = var_names[var_num]\n",
    "    path = \"/home/dchen/BA_CH_EN/models/EMOS_local_models/denormed/\"\n",
    "\n",
    "    # Create a 2D list for the models\n",
    "    models = [[None for _ in range(130)] for _ in range(120)]\n",
    "\n",
    "    # Load each model file and store it in the 2D list\n",
    "    for lat in range(120):\n",
    "        for lon in range(130):\n",
    "            # Create the filename\n",
    "            filename = f\"EMOS_loc_{var_name}_lead_time_{lead_time - 1}_{lat}_{lon}_denormed.h5\"\n",
    "            model_path = os.path.join(path, filename)\n",
    "\n",
    "            # Load the model and store it in the list\n",
    "            if os.path.isfile(model_path):\n",
    "                models[lat][lon] = tf.keras.models.load_model(\n",
    "                    model_path,\n",
    "                    custom_objects={\n",
    "                        \"crps_cost_function\": crps_cost_function,\n",
    "                        \"crps_cost_function_trunc\": crps_cost_function_trunc,\n",
    "                    },\n",
    "                )\n",
    "    return models"
   ]
  },
  {
   "cell_type": "code",
   "execution_count": 23,
   "id": "caa2ec1a",
   "metadata": {},
   "outputs": [
    {
     "data": {
      "application/javascript": [
       "\n",
       "            setTimeout(function() {\n",
       "                var nbb_cell_id = 21;\n",
       "                var nbb_unformatted_code = \"test\";\n",
       "                var nbb_formatted_code = \"test\";\n",
       "                var nbb_cells = Jupyter.notebook.get_cells();\n",
       "                for (var i = 0; i < nbb_cells.length; ++i) {\n",
       "                    if (nbb_cells[i].input_prompt_number == nbb_cell_id) {\n",
       "                        if (nbb_cells[i].get_text() == nbb_unformatted_code) {\n",
       "                             nbb_cells[i].set_text(nbb_formatted_code);\n",
       "                        }\n",
       "                        break;\n",
       "                    }\n",
       "                }\n",
       "            }, 500);\n",
       "            "
      ],
      "text/plain": [
       "<IPython.core.display.Javascript object>"
      ]
     },
     "metadata": {},
     "output_type": "display_data"
    }
   ],
   "source": [
    "def EMOS_local_predict_evaluate(var_num, lead_time):\n",
    "    \"\"\"\n",
    "    Use stored EMOS_local model to predict and evaluate on a test dataset.\n",
    "    Args:\n",
    "        var_num (integer): number between 0 - 5 for each of the variables[\"u10\", \"v10\", \"t2m\", \"t850\", \"z500\", \"ws10\"]\n",
    "        lead_time (integer): number between 0 - 30 for each lead_time\n",
    "    \"\"\"\n",
    "    # Load Models\n",
    "    EMOS_local_models = EMOS_local_load_model_var_lead(var_num, lead_time)\n",
    "\n",
    "    # Adjust lead_time for 1-based indexing\n",
    "    lead_time += 1\n",
    "\n",
    "    # Define the variable names\n",
    "    var_names = [\"u10\", \"v10\", \"t2m\", \"t850\", \"z500\", \"ws10\"]\n",
    "\n",
    "    # Load test data\n",
    "    test_var_denormed = ldpd.load_data_all_test_proc_denorm()[var_num]\n",
    "\n",
    "    # Choose the CRPS cost function based on variable number\n",
    "    crps = crps_trunc if var_num == 5 else crps_normal\n",
    "\n",
    "    # Initialize the array for CRPS scores for each grid point\n",
    "    EMOS_loc_crps_all = np.zeros([120, 130])\n",
    "\n",
    "    for lat in range(120):\n",
    "        for lon in range(130):\n",
    "            # Extract the data for the specific lead_time and grid point\n",
    "            X_test_var_denormed = test_var_denormed[\n",
    "                list(test_var_denormed.data_vars.keys())[0]\n",
    "            ].isel(lead_time=lead_time, lat=lat, lon=lon)\n",
    "            y_test_var_denormed = test_var_denormed[\n",
    "                list(test_var_denormed.data_vars.keys())[1]\n",
    "            ].isel(lead_time=lead_time, lat=lat, lon=lon)\n",
    "\n",
    "            # Predict using the local model for the grid point\n",
    "            EMOS_loc_preds = EMOS_local_models[lat][lon].predict(\n",
    "                [\n",
    "                    X_test_var_denormed.isel(mean_std=0).values.flatten(),\n",
    "                    X_test_var_denormed.isel(mean_std=1).values.flatten(),\n",
    "                ],\n",
    "                verbose=1,\n",
    "            )\n",
    "\n",
    "            # Compute CRPS for the predictions\n",
    "            EMOS_loc_crps = crps(\n",
    "                mu=EMOS_loc_preds[:, 0],\n",
    "                sigma=EMOS_loc_preds[:, 1],\n",
    "                y=y_test_var_denormed.values.flatten(),\n",
    "            )\n",
    "\n",
    "            # Reshape the CRPS scores to match the shape of the target data, then compute the mean along the first axis\n",
    "            EMOS_loc_crps = EMOS_loc_crps.reshape(y_test_var_denormed.shape).mean(\n",
    "                axis=0\n",
    "            )\n",
    "\n",
    "            # Store the mean CRPS for the grid point\n",
    "            EMOS_loc_crps_all[lat][lon] = EMOS_loc_crps\n",
    "\n",
    "    # Save the grid of mean CRPS scores\n",
    "    model_filename = f\"/Data/Delong_BA_Data/scores/EMOS_local_scores/EMOS_local_{var_names[var_num]}_lead_{lead_time - 1}_scores.npy\"\n",
    "    np.save(model_filename, EMOS_loc_crps_all)"
   ]
  },
  {
   "cell_type": "code",
   "execution_count": 25,
   "id": "eb3576b9",
   "metadata": {},
   "outputs": [
    {
     "data": {
      "application/javascript": [
       "\n",
       "            setTimeout(function() {\n",
       "                var nbb_cell_id = 23;\n",
       "                var nbb_unformatted_code = \"def EMOS_local_predict_evaluate(var_num, lead_time):\\n    \\\"\\\"\\\"\\n    Use stored EMOS_local model to predict and evaluate on a test dataset.\\n    Args:\\n        var_num (integer): number between 0 - 5 for each of the variables[\\\"u10\\\", \\\"v10\\\", \\\"t2m\\\", \\\"t850\\\", \\\"z500\\\", \\\"ws10\\\"]\\n        lead_time (integer): number between 0 - 30 for each lead_time\\n    \\\"\\\"\\\"\\n    # Load Models\\n    EMOS_local_models = EMOS_local_load_model_var_lead(var_num, lead_time)\\n    \\n    # Adjust lead_time for 1-based indexing\\n    lead_time += 1\\n    \\n    # Define the variable names\\n    var_names = [\\\"u10\\\", \\\"v10\\\", \\\"t2m\\\", \\\"t850\\\", \\\"z500\\\", \\\"ws10\\\"]\\n    \\n    # Load test data\\n    test_var_denormed = ldpd.load_data_all_test_proc_denorm()[var_num]\\n    \\n    # Choose the CRPS cost function based on variable number\\n    crps = crps_trunc if var_num == 5 else crps_normal\\n    \\n    # Initialize the array for CRPS scores for each grid point\\n    EMOS_loc_crps_all = np.zeros([120, 130])\\n    \\n    for lat in range(120):\\n        for lon in range(130):\\n            # Extract the data for the specific lead_time and grid point\\n            X_test_var_denormed = test_var_denormed[list(test_var_denormed.data_vars.keys())[0]].isel(lead_time=lead_time, lat=lat, lon=lon)\\n            y_test_var_denormed = test_var_denormed[list(test_var_denormed.data_vars.keys())[1]].isel(lead_time=lead_time, lat=lat, lon=lon)\\n            \\n            # Predict using the local model for the grid point\\n            EMOS_loc_preds = EMOS_local_models[lat][lon].predict([X_test_var_denormed.isel(mean_std=0).values.flatten(), X_test_var_denormed.isel(mean_std=1).values.flatten()], verbose=1)\\n            \\n            # Compute CRPS for the predictions\\n            EMOS_loc_crps = crps(mu=EMOS_loc_preds[:, 0], sigma=EMOS_loc_preds[:, 1], y=y_test_var_denormed.values.flatten())\\n            \\n            # Reshape the CRPS scores to match the shape of the target data, then compute the mean along the first axis\\n            EMOS_loc_crps = EMOS_loc_crps.reshape(y_test_var_denormed.shape).mean(axis=0)\\n            \\n            # Store the mean CRPS for the grid point\\n            EMOS_loc_crps_all[lat][lon] = EMOS_loc_crps\\n            \\n    # Save the grid of mean CRPS scores\\n    model_filename = f\\\"/Data/Delong_BA_Data/scores/EMOS_local_scores/EMOS_local_{var_names[var_num]}_lead_{lead_time - 1}_scores.npy\\\"\\n    np.save(model_filename, EMOS_loc_crps_all)\";\n",
       "                var nbb_formatted_code = \"def EMOS_local_predict_evaluate(var_num, lead_time):\\n    \\\"\\\"\\\"\\n    Use stored EMOS_local model to predict and evaluate on a test dataset.\\n    Args:\\n        var_num (integer): number between 0 - 5 for each of the variables[\\\"u10\\\", \\\"v10\\\", \\\"t2m\\\", \\\"t850\\\", \\\"z500\\\", \\\"ws10\\\"]\\n        lead_time (integer): number between 0 - 30 for each lead_time\\n    \\\"\\\"\\\"\\n    # Load Models\\n    EMOS_local_models = EMOS_local_load_model_var_lead(var_num, lead_time)\\n\\n    # Adjust lead_time for 1-based indexing\\n    lead_time += 1\\n\\n    # Define the variable names\\n    var_names = [\\\"u10\\\", \\\"v10\\\", \\\"t2m\\\", \\\"t850\\\", \\\"z500\\\", \\\"ws10\\\"]\\n\\n    # Load test data\\n    test_var_denormed = ldpd.load_data_all_test_proc_denorm()[var_num]\\n\\n    # Choose the CRPS cost function based on variable number\\n    crps = crps_trunc if var_num == 5 else crps_normal\\n\\n    # Initialize the array for CRPS scores for each grid point\\n    EMOS_loc_crps_all = np.zeros([120, 130])\\n\\n    for lat in range(120):\\n        for lon in range(130):\\n            # Extract the data for the specific lead_time and grid point\\n            X_test_var_denormed = test_var_denormed[\\n                list(test_var_denormed.data_vars.keys())[0]\\n            ].isel(lead_time=lead_time, lat=lat, lon=lon)\\n            y_test_var_denormed = test_var_denormed[\\n                list(test_var_denormed.data_vars.keys())[1]\\n            ].isel(lead_time=lead_time, lat=lat, lon=lon)\\n\\n            # Predict using the local model for the grid point\\n            EMOS_loc_preds = EMOS_local_models[lat][lon].predict(\\n                [\\n                    X_test_var_denormed.isel(mean_std=0).values.flatten(),\\n                    X_test_var_denormed.isel(mean_std=1).values.flatten(),\\n                ],\\n                verbose=1,\\n            )\\n\\n            # Compute CRPS for the predictions\\n            EMOS_loc_crps = crps(\\n                mu=EMOS_loc_preds[:, 0],\\n                sigma=EMOS_loc_preds[:, 1],\\n                y=y_test_var_denormed.values.flatten(),\\n            )\\n\\n            # Reshape the CRPS scores to match the shape of the target data, then compute the mean along the first axis\\n            EMOS_loc_crps = EMOS_loc_crps.reshape(y_test_var_denormed.shape).mean(\\n                axis=0\\n            )\\n\\n            # Store the mean CRPS for the grid point\\n            EMOS_loc_crps_all[lat][lon] = EMOS_loc_crps\\n\\n    # Save the grid of mean CRPS scores\\n    model_filename = f\\\"/Data/Delong_BA_Data/scores/EMOS_local_scores/EMOS_local_{var_names[var_num]}_lead_{lead_time - 1}_scores.npy\\\"\\n    np.save(model_filename, EMOS_loc_crps_all)\";\n",
       "                var nbb_cells = Jupyter.notebook.get_cells();\n",
       "                for (var i = 0; i < nbb_cells.length; ++i) {\n",
       "                    if (nbb_cells[i].input_prompt_number == nbb_cell_id) {\n",
       "                        if (nbb_cells[i].get_text() == nbb_unformatted_code) {\n",
       "                             nbb_cells[i].set_text(nbb_formatted_code);\n",
       "                        }\n",
       "                        break;\n",
       "                    }\n",
       "                }\n",
       "            }, 500);\n",
       "            "
      ],
      "text/plain": [
       "<IPython.core.display.Javascript object>"
      ]
     },
     "metadata": {},
     "output_type": "display_data"
    }
   ],
   "source": [
    "def main(\n",
    "    var_num, lead_time, batch_size=4096, epochs=10, lr=0.001, validation_split=0.2, optimizer=\"Adam\"\n",
    "):\n",
    "    EMOS_local_train(\n",
    "        var_num,\n",
    "        lead_time,\n",
    "        batch_size=batch_size,\n",
    "        epochs=epochs,\n",
    "        lr=lr,\n",
    "        validation_split=validation_split,\n",
    "        optimizer=optimizer\n",
    "    )\n",
    "    EMOS_local_predict_evaluate(var_num, lead_time)"
   ]
  },
  {
   "cell_type": "code",
   "execution_count": null,
   "id": "5b10df1c",
   "metadata": {},
   "outputs": [],
   "source": []
  },
  {
   "cell_type": "code",
   "execution_count": null,
   "id": "92646fd9",
   "metadata": {},
   "outputs": [],
   "source": []
  },
  {
   "cell_type": "code",
   "execution_count": null,
   "id": "6edeb64f",
   "metadata": {},
   "outputs": [],
   "source": []
  },
  {
   "cell_type": "code",
   "execution_count": null,
   "id": "d4bc94db",
   "metadata": {},
   "outputs": [],
   "source": []
  },
  {
   "cell_type": "code",
   "execution_count": null,
   "id": "cb453a54",
   "metadata": {},
   "outputs": [],
   "source": []
  }
 ],
 "metadata": {
  "kernelspec": {
   "display_name": "Python 3 (ipykernel)",
   "language": "python",
   "name": "python3"
  },
  "language_info": {
   "codemirror_mode": {
    "name": "ipython",
    "version": 3
   },
   "file_extension": ".py",
   "mimetype": "text/x-python",
   "name": "python",
   "nbconvert_exporter": "python",
   "pygments_lexer": "ipython3",
   "version": "3.9.7"
  }
 },
 "nbformat": 4,
 "nbformat_minor": 5
}
