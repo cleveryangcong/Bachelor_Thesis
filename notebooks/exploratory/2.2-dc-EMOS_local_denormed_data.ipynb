{
 "cells": [
  {
   "cell_type": "code",
   "execution_count": 2,
   "id": "38f0f79c",
   "metadata": {},
   "outputs": [
    {
     "data": {
      "application/javascript": [
       "\n",
       "            setTimeout(function() {\n",
       "                var nbb_cell_id = 2;\n",
       "                var nbb_unformatted_code = \"%load_ext nb_black\";\n",
       "                var nbb_formatted_code = \"%load_ext nb_black\";\n",
       "                var nbb_cells = Jupyter.notebook.get_cells();\n",
       "                for (var i = 0; i < nbb_cells.length; ++i) {\n",
       "                    if (nbb_cells[i].input_prompt_number == nbb_cell_id) {\n",
       "                        if (nbb_cells[i].get_text() == nbb_unformatted_code) {\n",
       "                             nbb_cells[i].set_text(nbb_formatted_code);\n",
       "                        }\n",
       "                        break;\n",
       "                    }\n",
       "                }\n",
       "            }, 500);\n",
       "            "
      ],
      "text/plain": [
       "<IPython.core.display.Javascript object>"
      ]
     },
     "metadata": {},
     "output_type": "display_data"
    }
   ],
   "source": [
    "%load_ext nb_black"
   ]
  },
  {
   "cell_type": "code",
   "execution_count": 3,
   "id": "d997b9ed",
   "metadata": {},
   "outputs": [
    {
     "name": "stderr",
     "output_type": "stream",
     "text": [
      "2023-05-30 12:31:14.288440: W tensorflow/stream_executor/platform/default/dso_loader.cc:64] Could not load dynamic library 'libcudart.so.11.0'; dlerror: libcudart.so.11.0: cannot open shared object file: No such file or directory; LD_LIBRARY_PATH: :/opt/anaconda3/lib/\n",
      "2023-05-30 12:31:14.288461: I tensorflow/stream_executor/cuda/cudart_stub.cc:29] Ignore above cudart dlerror if you do not have a GPU set up on your machine.\n"
     ]
    },
    {
     "data": {
      "application/javascript": [
       "\n",
       "            setTimeout(function() {\n",
       "                var nbb_cell_id = 3;\n",
       "                var nbb_unformatted_code = \"# Helpful\\nimport tqdm\\n\\n# Visualization\\nimport matplotlib.pyplot as plt\\n\\n# My Methods\\nfrom src.utils.CRPS import *\\nfrom src.utils.data_split import *\\nfrom src.models.EMOS import *\\nfrom src.models.EMOS_global.EMOS_global_load_score import *\\nfrom src.models.EMOS_global.EMOS_global_load_model import *\\nimport data.raw.load_data_raw as ldr\\nimport data.processed.load_data_processed as ldp\\nimport data.processed.load_data_processed_denormed as ldpd\\nfrom src.models.CRPS_baseline.CRPS_load import *\";\n",
       "                var nbb_formatted_code = \"# Helpful\\nimport tqdm\\n\\n# Visualization\\nimport matplotlib.pyplot as plt\\n\\n# My Methods\\nfrom src.utils.CRPS import *\\nfrom src.utils.data_split import *\\nfrom src.models.EMOS import *\\nfrom src.models.EMOS_global.EMOS_global_load_score import *\\nfrom src.models.EMOS_global.EMOS_global_load_model import *\\nimport data.raw.load_data_raw as ldr\\nimport data.processed.load_data_processed as ldp\\nimport data.processed.load_data_processed_denormed as ldpd\\nfrom src.models.CRPS_baseline.CRPS_load import *\";\n",
       "                var nbb_cells = Jupyter.notebook.get_cells();\n",
       "                for (var i = 0; i < nbb_cells.length; ++i) {\n",
       "                    if (nbb_cells[i].input_prompt_number == nbb_cell_id) {\n",
       "                        if (nbb_cells[i].get_text() == nbb_unformatted_code) {\n",
       "                             nbb_cells[i].set_text(nbb_formatted_code);\n",
       "                        }\n",
       "                        break;\n",
       "                    }\n",
       "                }\n",
       "            }, 500);\n",
       "            "
      ],
      "text/plain": [
       "<IPython.core.display.Javascript object>"
      ]
     },
     "metadata": {},
     "output_type": "display_data"
    }
   ],
   "source": [
    "# Helpful\n",
    "import tqdm\n",
    "\n",
    "# Visualization\n",
    "import matplotlib.pyplot as plt\n",
    "\n",
    "# My Methods\n",
    "from src.utils.CRPS import *\n",
    "from src.utils.data_split import *\n",
    "from src.models.EMOS import *\n",
    "from src.models.EMOS_global.EMOS_global_load_score import *\n",
    "from src.models.EMOS_global.EMOS_global_load_model import *\n",
    "import data.raw.load_data_raw as ldr\n",
    "import data.processed.load_data_processed as ldp\n",
    "import data.processed.load_data_processed_denormed as ldpd\n",
    "from src.models.CRPS_baseline.CRPS_load import *"
   ]
  },
  {
   "cell_type": "markdown",
   "id": "527aa811",
   "metadata": {},
   "source": [
    "### 1. Load Raw Data"
   ]
  },
  {
   "cell_type": "code",
   "execution_count": null,
   "id": "a0dcce10",
   "metadata": {},
   "outputs": [],
   "source": []
  },
  {
   "cell_type": "code",
   "execution_count": null,
   "id": "74d228cf",
   "metadata": {},
   "outputs": [],
   "source": []
  },
  {
   "cell_type": "code",
   "execution_count": null,
   "id": "bb6cb826",
   "metadata": {},
   "outputs": [],
   "source": []
  },
  {
   "cell_type": "code",
   "execution_count": null,
   "id": "afdfb7f4",
   "metadata": {},
   "outputs": [],
   "source": []
  },
  {
   "cell_type": "markdown",
   "id": "38eec476",
   "metadata": {},
   "source": [
    "### 3. Implementation:"
   ]
  },
  {
   "cell_type": "code",
   "execution_count": 25,
   "id": "eb3576b9",
   "metadata": {
    "scrolled": true
   },
   "outputs": [
    {
     "data": {
      "application/javascript": [
       "\n",
       "            setTimeout(function() {\n",
       "                var nbb_cell_id = 23;\n",
       "                var nbb_unformatted_code = \"def EMOS_local_predict_evaluate(var_num, lead_time):\\n    \\\"\\\"\\\"\\n    Use stored EMOS_local model to predict and evaluate on a test dataset.\\n    Args:\\n        var_num (integer): number between 0 - 5 for each of the variables[\\\"u10\\\", \\\"v10\\\", \\\"t2m\\\", \\\"t850\\\", \\\"z500\\\", \\\"ws10\\\"]\\n        lead_time (integer): number between 0 - 30 for each lead_time\\n    \\\"\\\"\\\"\\n    # Load Models\\n    EMOS_local_models = EMOS_local_load_model_var_lead(var_num, lead_time)\\n    \\n    # Adjust lead_time for 1-based indexing\\n    lead_time += 1\\n    \\n    # Define the variable names\\n    var_names = [\\\"u10\\\", \\\"v10\\\", \\\"t2m\\\", \\\"t850\\\", \\\"z500\\\", \\\"ws10\\\"]\\n    \\n    # Load test data\\n    test_var_denormed = ldpd.load_data_all_test_proc_denorm()[var_num]\\n    \\n    # Choose the CRPS cost function based on variable number\\n    crps = crps_trunc if var_num == 5 else crps_normal\\n    \\n    # Initialize the array for CRPS scores for each grid point\\n    EMOS_loc_crps_all = np.zeros([120, 130])\\n    \\n    for lat in range(120):\\n        for lon in range(130):\\n            # Extract the data for the specific lead_time and grid point\\n            X_test_var_denormed = test_var_denormed[list(test_var_denormed.data_vars.keys())[0]].isel(lead_time=lead_time, lat=lat, lon=lon)\\n            y_test_var_denormed = test_var_denormed[list(test_var_denormed.data_vars.keys())[1]].isel(lead_time=lead_time, lat=lat, lon=lon)\\n            \\n            # Predict using the local model for the grid point\\n            EMOS_loc_preds = EMOS_local_models[lat][lon].predict([X_test_var_denormed.isel(mean_std=0).values.flatten(), X_test_var_denormed.isel(mean_std=1).values.flatten()], verbose=1)\\n            \\n            # Compute CRPS for the predictions\\n            EMOS_loc_crps = crps(mu=EMOS_loc_preds[:, 0], sigma=EMOS_loc_preds[:, 1], y=y_test_var_denormed.values.flatten())\\n            \\n            # Reshape the CRPS scores to match the shape of the target data, then compute the mean along the first axis\\n            EMOS_loc_crps = EMOS_loc_crps.reshape(y_test_var_denormed.shape).mean(axis=0)\\n            \\n            # Store the mean CRPS for the grid point\\n            EMOS_loc_crps_all[lat][lon] = EMOS_loc_crps\\n            \\n    # Save the grid of mean CRPS scores\\n    model_filename = f\\\"/Data/Delong_BA_Data/scores/EMOS_local_scores/EMOS_local_{var_names[var_num]}_lead_{lead_time - 1}_scores.npy\\\"\\n    np.save(model_filename, EMOS_loc_crps_all)\";\n",
       "                var nbb_formatted_code = \"def EMOS_local_predict_evaluate(var_num, lead_time):\\n    \\\"\\\"\\\"\\n    Use stored EMOS_local model to predict and evaluate on a test dataset.\\n    Args:\\n        var_num (integer): number between 0 - 5 for each of the variables[\\\"u10\\\", \\\"v10\\\", \\\"t2m\\\", \\\"t850\\\", \\\"z500\\\", \\\"ws10\\\"]\\n        lead_time (integer): number between 0 - 30 for each lead_time\\n    \\\"\\\"\\\"\\n    # Load Models\\n    EMOS_local_models = EMOS_local_load_model_var_lead(var_num, lead_time)\\n\\n    # Adjust lead_time for 1-based indexing\\n    lead_time += 1\\n\\n    # Define the variable names\\n    var_names = [\\\"u10\\\", \\\"v10\\\", \\\"t2m\\\", \\\"t850\\\", \\\"z500\\\", \\\"ws10\\\"]\\n\\n    # Load test data\\n    test_var_denormed = ldpd.load_data_all_test_proc_denorm()[var_num]\\n\\n    # Choose the CRPS cost function based on variable number\\n    crps = crps_trunc if var_num == 5 else crps_normal\\n\\n    # Initialize the array for CRPS scores for each grid point\\n    EMOS_loc_crps_all = np.zeros([120, 130])\\n\\n    for lat in range(120):\\n        for lon in range(130):\\n            # Extract the data for the specific lead_time and grid point\\n            X_test_var_denormed = test_var_denormed[\\n                list(test_var_denormed.data_vars.keys())[0]\\n            ].isel(lead_time=lead_time, lat=lat, lon=lon)\\n            y_test_var_denormed = test_var_denormed[\\n                list(test_var_denormed.data_vars.keys())[1]\\n            ].isel(lead_time=lead_time, lat=lat, lon=lon)\\n\\n            # Predict using the local model for the grid point\\n            EMOS_loc_preds = EMOS_local_models[lat][lon].predict(\\n                [\\n                    X_test_var_denormed.isel(mean_std=0).values.flatten(),\\n                    X_test_var_denormed.isel(mean_std=1).values.flatten(),\\n                ],\\n                verbose=1,\\n            )\\n\\n            # Compute CRPS for the predictions\\n            EMOS_loc_crps = crps(\\n                mu=EMOS_loc_preds[:, 0],\\n                sigma=EMOS_loc_preds[:, 1],\\n                y=y_test_var_denormed.values.flatten(),\\n            )\\n\\n            # Reshape the CRPS scores to match the shape of the target data, then compute the mean along the first axis\\n            EMOS_loc_crps = EMOS_loc_crps.reshape(y_test_var_denormed.shape).mean(\\n                axis=0\\n            )\\n\\n            # Store the mean CRPS for the grid point\\n            EMOS_loc_crps_all[lat][lon] = EMOS_loc_crps\\n\\n    # Save the grid of mean CRPS scores\\n    model_filename = f\\\"/Data/Delong_BA_Data/scores/EMOS_local_scores/EMOS_local_{var_names[var_num]}_lead_{lead_time - 1}_scores.npy\\\"\\n    np.save(model_filename, EMOS_loc_crps_all)\";\n",
       "                var nbb_cells = Jupyter.notebook.get_cells();\n",
       "                for (var i = 0; i < nbb_cells.length; ++i) {\n",
       "                    if (nbb_cells[i].input_prompt_number == nbb_cell_id) {\n",
       "                        if (nbb_cells[i].get_text() == nbb_unformatted_code) {\n",
       "                             nbb_cells[i].set_text(nbb_formatted_code);\n",
       "                        }\n",
       "                        break;\n",
       "                    }\n",
       "                }\n",
       "            }, 500);\n",
       "            "
      ],
      "text/plain": [
       "<IPython.core.display.Javascript object>"
      ]
     },
     "metadata": {},
     "output_type": "display_data"
    }
   ],
   "source": [
    "def main(\n",
    "    var_num, lead_time, batch_size=4096, epochs=10, lr=0.001, validation_split=0.2, optimizer=\"Adam\"\n",
    "):\n",
    "    EMOS_local_train(\n",
    "        var_num,\n",
    "        lead_time,\n",
    "        batch_size=batch_size,\n",
    "        epochs=epochs,\n",
    "        lr=lr,\n",
    "        validation_split=validation_split,\n",
    "        optimizer=optimizer\n",
    "    )\n",
    "    EMOS_local_predict_evaluate(var_num, lead_time)"
   ]
  },
  {
   "cell_type": "code",
   "execution_count": 10,
   "id": "24b3f780",
   "metadata": {},
   "outputs": [
    {
     "data": {
      "application/javascript": [
       "\n",
       "            setTimeout(function() {\n",
       "                var nbb_cell_id = 10;\n",
       "                var nbb_unformatted_code = \"# Basics\\nimport numpy as np\\nimport argparse\\nimport multiprocessing as mp\\n\\n# TensorFlow and Keras\\nimport keras.backend as K\\nimport tensorflow as tf\\nfrom tensorflow.keras.callbacks import EarlyStopping, ModelCheckpoint\\n\\n# Visualization\\nimport matplotlib.pyplot as plt\\n\\n# Statistical Functions\\nfrom scipy.stats import norm\\n\\n# Progress Bar\\nfrom tqdm import tqdm\\n\\n# My Methods\\nfrom src.utils.CRPS import *\\nfrom src.utils.data_split import *\\nfrom src.models.EMOS import *\\nimport data.raw.load_data_raw as ldr\\nimport data.processed.load_data_processed as ldp\\nimport data.processed.load_data_processed_denormed as ldpd\\nfrom src.models.CRPS_baseline.CRPS_load import *\\n\\n\\ndef EMOS_local_train(\\n    var_num,\\n    lead_time,\\n    batch_size=4096,\\n    epochs=10,\\n    lr=0.001,\\n    validation_split=0.2,\\n    optimizer=\\\"Adam\\\",\\n):\\n    \\\"\\\"\\\"\\n    Train a local EMOS model for a specific variable and lead time for all individual grid points.\\n\\n    Args: \\n        var_num (int): Variable number between 0 - 5 corresponding to the variables [\\\"u10\\\", \\\"v10\\\", \\\"t2m\\\", \\\"t850\\\", \\\"z500\\\", \\\"ws10\\\"].\\n        lead_time (int): Lead time number between 0 - 30.\\n        batch_size (int): The number of samples per gradient update for training the model.\\n        epochs (int): The number of epochs to train the model.\\n        lr (float): Learning rate for the optimizer.\\n        validation_split (float): The fraction of the training data to be used as validation data.\\n        optimizer (str): The optimizer to use. Default is \\\"Adam\\\".\\n\\n    Returns:\\n        None\\n    \\\"\\\"\\\"\\n    # Adjust lead_time for 1-based indexing\\n    lead_time = lead_time + 1\\n\\n    # Define the cost function depending on the variable number\\n    crps = crps_cost_function_trunc if var_num in [5] else crps_cost_function\\n\\n    # Define the names of the variables\\n    var_names = [\\\"u10\\\", \\\"v10\\\", \\\"t2m\\\", \\\"t850\\\", \\\"z500\\\", \\\"ws10\\\"]\\n\\n    # Load the training data for gridpoint\\n    train_var_denormed = ldpd.load_data_all_train_proc_denorm()[var_num]\\n\\n    # Split the data into features and target\\n    for lat in range(120):\\n        for lon in range(130):\\n            # Split the data into features and target\\n            X_train_var_denormed = train_var_denormed[\\n                list(train_var_denormed.data_vars.keys())[0]\\n            ].isel(lead_time=lead_time, lat=lat, lon=lon)\\n            y_train_var_denormed = train_var_denormed[\\n                list(train_var_denormed.data_vars.keys())[1]\\n            ].isel(lead_time=lead_time, lat=lat, lon=lon)\\n\\n            # Build and compile the model\\n            EMOS_loc = build_EMOS_network_keras(\\n                compile=True, lr=lr, loss=crps, optimizer=optimizer\\n            )\\n\\n            # Save the model\\n            model_filename = f\\\"/Data/Delong_BA_Data/models/EMOS_local/EMOS_loc_{var_names[var_num]}_lead_time_{lead_time - 1}_{lat}_{lon}_denormed.h5\\\"\\n\\n            # Define callbacks for early stopping and model checkpointing\\n            early_stopping = EarlyStopping(monitor=\\\"val_loss\\\", patience=3)\\n            model_checkpoint = ModelCheckpoint(\\n                model_filename, monitor=\\\"val_loss\\\", mode=\\\"min\\\", save_best_only=True\\n            )\\n\\n            # Fit the model to the training data\\n            EMOS_loc.fit(\\n                [\\n                    X_train_var_denormed.isel(mean_std=0).values.flatten(),\\n                    X_train_var_denormed.isel(mean_std=1).values.flatten(),\\n                ],\\n                y_train_var_denormed.values.flatten(),\\n                batch_size=batch_size,\\n                epochs=epochs,\\n                validation_split=validation_split,\\n                callbacks=[early_stopping, model_checkpoint],\\n                verbose=0,\\n            )\\n\\n\\ndef EMOS_local_load_model_var_lead(var_num, lead_time):\\n    \\\"\\\"\\\"\\n    Load all the saved local EMOS models for a specific variable and arrange them in a 2D list.\\n\\n    Args:\\n        var_num (int): Variable number between 0 - 5 corresponding to the variables [\\\"u10\\\", \\\"v10\\\", \\\"t2m\\\", \\\"t850\\\", \\\"z500\\\", \\\"ws10\\\"].\\n        lead_time (int): Lead time number between 0 - 30.\\n\\n    Returns:\\n        list: A 2D list (120 x 130) of TensorFlow models.\\n    \\\"\\\"\\\"\\n    var_names = [\\\"u10\\\", \\\"v10\\\", \\\"t2m\\\", \\\"t850\\\", \\\"z500\\\", \\\"ws10\\\"]\\n    var_name = var_names[var_num]\\n    path = \\\"/Data/Delong_BA_Data/models/EMOS_local/\\\"\\n\\n    # Create a 2D list for the models\\n    models = [[None for _ in range(130)] for _ in range(120)]\\n\\n    # Load each model file and store it in the 2D list\\n    for lat in range(120):\\n        for lon in range(130):\\n            # Create the filename\\n            filename = (\\n                f\\\"EMOS_loc_{var_name}_lead_time_{lead_time - 1}_{lat}_{lon}_denormed.h5\\\"\\n            )\\n            model_path = os.path.join(path, filename)\\n\\n            # Load the model and store it in the list\\n            if os.path.isfile(model_path):\\n                models[lat][lon] = tf.keras.models.load_model(\\n                    model_path,\\n                    custom_objects={\\n                        \\\"crps_cost_function\\\": crps_cost_function,\\n                        \\\"crps_cost_function_trunc\\\": crps_cost_function_trunc,\\n                    },\\n                )\\n    return models\\n\\n\\ndef EMOS_local_predict_evaluate(var_num, lead_time):\\n    \\\"\\\"\\\"\\n    Use stored local EMOS model to predict and evaluate on a test dataset.\\n\\n    Args:\\n        var_num (int): Variable number between 0 - 5 corresponding to the variables [\\\"u10\\\", \\\"v10\\\", \\\"t2m\\\", \\\"t850\\\", \\\"z500\\\", \\\"ws10\\\"].\\n        lead_time (int): Lead time number between 0 - 30.\\n\\n    Returns:\\n        None\\n    \\\"\\\"\\\"\\n    # Load Models\\n    EMOS_local_models = EMOS_local_load_model_var_lead(var_num, lead_time)\\n\\n    # Adjust lead_time for 1-based indexing\\n    lead_time += 1\\n\\n    # Define the variable names\\n    var_names = [\\\"u10\\\", \\\"v10\\\", \\\"t2m\\\", \\\"t850\\\", \\\"z500\\\", \\\"ws10\\\"]\\n\\n    # Load test data\\n    test_var_denormed = ldpd.load_data_all_test_proc_denorm()[var_num]\\n\\n    # Choose the CRPS cost function based on variable number\\n    crps = crps_trunc if var_num == 5 else crps_normal\\n\\n    # Initialize the array for CRPS scores for each grid point\\n    EMOS_loc_crps_all = np.zeros([120, 130])\\n\\n    for lat in range(120):\\n        for lon in range(130):\\n            # Extract the data for the specific lead_time and grid point\\n            X_test_var_denormed = test_var_denormed[\\n                list(test_var_denormed.data_vars.keys())[0]\\n            ].isel(lead_time=lead_time, lat=lat, lon=lon)\\n            y_test_var_denormed = test_var_denormed[\\n                list(test_var_denormed.data_vars.keys())[1]\\n            ].isel(lead_time=lead_time, lat=lat, lon=lon)\\n\\n            # Predict using the local model for the grid point\\n            EMOS_loc_preds = EMOS_local_models[lat][lon].predict(\\n                [\\n                    X_test_var_denormed.isel(mean_std=0).values.flatten(),\\n                    X_test_var_denormed.isel(mean_std=1).values.flatten(),\\n                ],\\n            )\\n\\n            # Compute CRPS for the predictions\\n            EMOS_loc_crps = crps(\\n                mu=EMOS_loc_preds[:, 0],\\n                sigma=EMOS_loc_preds[:, 1],\\n                y=y_test_var_denormed.values.flatten(),\\n            )\\n\\n            # Reshape the CRPS scores to match the shape of the target data, then compute the mean along the first axis\\n            EMOS_loc_crps = EMOS_loc_crps.reshape(y_test_var_denormed.shape).mean(\\n                axis=0\\n            )\\n\\n            # Store the mean CRPS for the grid point\\n            EMOS_loc_crps_all[lat][lon] = EMOS_loc_crps\\n\\n    # Save the grid of mean CRPS scores\\n    model_filename = f\\\"/Data/Delong_BA_Data/scores/EMOS_local_scores/EMOS_local_{var_names[var_num]}_lead_{lead_time - 1}_scores.npy\\\"\\n    np.save(model_filename, EMOS_loc_crps_all)\\ndef main(\\n    var_num, lead_time, batch_size=4096, epochs=10, lr=0.001, validation_split=0.2, optimizer=\\\"Adam\\\"\\n):\\n    EMOS_local_train(\\n        var_num,\\n        lead_time,\\n        batch_size=batch_size,\\n        epochs=epochs,\\n        lr=lr,\\n        validation_split=validation_split,\\n        optimizer=optimizer\\n    )\\n    EMOS_local_predict_evaluate(var_num, lead_time)\";\n",
       "                var nbb_formatted_code = \"# Basics\\nimport numpy as np\\nimport argparse\\nimport multiprocessing as mp\\n\\n# TensorFlow and Keras\\nimport keras.backend as K\\nimport tensorflow as tf\\nfrom tensorflow.keras.callbacks import EarlyStopping, ModelCheckpoint\\n\\n# Visualization\\nimport matplotlib.pyplot as plt\\n\\n# Statistical Functions\\nfrom scipy.stats import norm\\n\\n# Progress Bar\\nfrom tqdm import tqdm\\n\\n# My Methods\\nfrom src.utils.CRPS import *\\nfrom src.utils.data_split import *\\nfrom src.models.EMOS import *\\nimport data.raw.load_data_raw as ldr\\nimport data.processed.load_data_processed as ldp\\nimport data.processed.load_data_processed_denormed as ldpd\\nfrom src.models.CRPS_baseline.CRPS_load import *\\n\\n\\ndef EMOS_local_train(\\n    var_num,\\n    lead_time,\\n    batch_size=4096,\\n    epochs=10,\\n    lr=0.001,\\n    validation_split=0.2,\\n    optimizer=\\\"Adam\\\",\\n):\\n    \\\"\\\"\\\"\\n    Train a local EMOS model for a specific variable and lead time for all individual grid points.\\n\\n    Args: \\n        var_num (int): Variable number between 0 - 5 corresponding to the variables [\\\"u10\\\", \\\"v10\\\", \\\"t2m\\\", \\\"t850\\\", \\\"z500\\\", \\\"ws10\\\"].\\n        lead_time (int): Lead time number between 0 - 30.\\n        batch_size (int): The number of samples per gradient update for training the model.\\n        epochs (int): The number of epochs to train the model.\\n        lr (float): Learning rate for the optimizer.\\n        validation_split (float): The fraction of the training data to be used as validation data.\\n        optimizer (str): The optimizer to use. Default is \\\"Adam\\\".\\n\\n    Returns:\\n        None\\n    \\\"\\\"\\\"\\n    # Adjust lead_time for 1-based indexing\\n    lead_time = lead_time + 1\\n\\n    # Define the cost function depending on the variable number\\n    crps = crps_cost_function_trunc if var_num in [5] else crps_cost_function\\n\\n    # Define the names of the variables\\n    var_names = [\\\"u10\\\", \\\"v10\\\", \\\"t2m\\\", \\\"t850\\\", \\\"z500\\\", \\\"ws10\\\"]\\n\\n    # Load the training data for gridpoint\\n    train_var_denormed = ldpd.load_data_all_train_proc_denorm()[var_num]\\n\\n    # Split the data into features and target\\n    for lat in range(120):\\n        for lon in range(130):\\n            # Split the data into features and target\\n            X_train_var_denormed = train_var_denormed[\\n                list(train_var_denormed.data_vars.keys())[0]\\n            ].isel(lead_time=lead_time, lat=lat, lon=lon)\\n            y_train_var_denormed = train_var_denormed[\\n                list(train_var_denormed.data_vars.keys())[1]\\n            ].isel(lead_time=lead_time, lat=lat, lon=lon)\\n\\n            # Build and compile the model\\n            EMOS_loc = build_EMOS_network_keras(\\n                compile=True, lr=lr, loss=crps, optimizer=optimizer\\n            )\\n\\n            # Save the model\\n            model_filename = f\\\"/Data/Delong_BA_Data/models/EMOS_local/EMOS_loc_{var_names[var_num]}_lead_time_{lead_time - 1}_{lat}_{lon}_denormed.h5\\\"\\n\\n            # Define callbacks for early stopping and model checkpointing\\n            early_stopping = EarlyStopping(monitor=\\\"val_loss\\\", patience=3)\\n            model_checkpoint = ModelCheckpoint(\\n                model_filename, monitor=\\\"val_loss\\\", mode=\\\"min\\\", save_best_only=True\\n            )\\n\\n            # Fit the model to the training data\\n            EMOS_loc.fit(\\n                [\\n                    X_train_var_denormed.isel(mean_std=0).values.flatten(),\\n                    X_train_var_denormed.isel(mean_std=1).values.flatten(),\\n                ],\\n                y_train_var_denormed.values.flatten(),\\n                batch_size=batch_size,\\n                epochs=epochs,\\n                validation_split=validation_split,\\n                callbacks=[early_stopping, model_checkpoint],\\n                verbose=0,\\n            )\\n\\n\\ndef EMOS_local_load_model_var_lead(var_num, lead_time):\\n    \\\"\\\"\\\"\\n    Load all the saved local EMOS models for a specific variable and arrange them in a 2D list.\\n\\n    Args:\\n        var_num (int): Variable number between 0 - 5 corresponding to the variables [\\\"u10\\\", \\\"v10\\\", \\\"t2m\\\", \\\"t850\\\", \\\"z500\\\", \\\"ws10\\\"].\\n        lead_time (int): Lead time number between 0 - 30.\\n\\n    Returns:\\n        list: A 2D list (120 x 130) of TensorFlow models.\\n    \\\"\\\"\\\"\\n    var_names = [\\\"u10\\\", \\\"v10\\\", \\\"t2m\\\", \\\"t850\\\", \\\"z500\\\", \\\"ws10\\\"]\\n    var_name = var_names[var_num]\\n    path = \\\"/Data/Delong_BA_Data/models/EMOS_local/\\\"\\n\\n    # Create a 2D list for the models\\n    models = [[None for _ in range(130)] for _ in range(120)]\\n\\n    # Load each model file and store it in the 2D list\\n    for lat in range(120):\\n        for lon in range(130):\\n            # Create the filename\\n            filename = (\\n                f\\\"EMOS_loc_{var_name}_lead_time_{lead_time - 1}_{lat}_{lon}_denormed.h5\\\"\\n            )\\n            model_path = os.path.join(path, filename)\\n\\n            # Load the model and store it in the list\\n            if os.path.isfile(model_path):\\n                models[lat][lon] = tf.keras.models.load_model(\\n                    model_path,\\n                    custom_objects={\\n                        \\\"crps_cost_function\\\": crps_cost_function,\\n                        \\\"crps_cost_function_trunc\\\": crps_cost_function_trunc,\\n                    },\\n                )\\n    return models\\n\\n\\ndef EMOS_local_predict_evaluate(var_num, lead_time):\\n    \\\"\\\"\\\"\\n    Use stored local EMOS model to predict and evaluate on a test dataset.\\n\\n    Args:\\n        var_num (int): Variable number between 0 - 5 corresponding to the variables [\\\"u10\\\", \\\"v10\\\", \\\"t2m\\\", \\\"t850\\\", \\\"z500\\\", \\\"ws10\\\"].\\n        lead_time (int): Lead time number between 0 - 30.\\n\\n    Returns:\\n        None\\n    \\\"\\\"\\\"\\n    # Load Models\\n    EMOS_local_models = EMOS_local_load_model_var_lead(var_num, lead_time)\\n\\n    # Adjust lead_time for 1-based indexing\\n    lead_time += 1\\n\\n    # Define the variable names\\n    var_names = [\\\"u10\\\", \\\"v10\\\", \\\"t2m\\\", \\\"t850\\\", \\\"z500\\\", \\\"ws10\\\"]\\n\\n    # Load test data\\n    test_var_denormed = ldpd.load_data_all_test_proc_denorm()[var_num]\\n\\n    # Choose the CRPS cost function based on variable number\\n    crps = crps_trunc if var_num == 5 else crps_normal\\n\\n    # Initialize the array for CRPS scores for each grid point\\n    EMOS_loc_crps_all = np.zeros([120, 130])\\n\\n    for lat in range(120):\\n        for lon in range(130):\\n            # Extract the data for the specific lead_time and grid point\\n            X_test_var_denormed = test_var_denormed[\\n                list(test_var_denormed.data_vars.keys())[0]\\n            ].isel(lead_time=lead_time, lat=lat, lon=lon)\\n            y_test_var_denormed = test_var_denormed[\\n                list(test_var_denormed.data_vars.keys())[1]\\n            ].isel(lead_time=lead_time, lat=lat, lon=lon)\\n\\n            # Predict using the local model for the grid point\\n            EMOS_loc_preds = EMOS_local_models[lat][lon].predict(\\n                [\\n                    X_test_var_denormed.isel(mean_std=0).values.flatten(),\\n                    X_test_var_denormed.isel(mean_std=1).values.flatten(),\\n                ],\\n            )\\n\\n            # Compute CRPS for the predictions\\n            EMOS_loc_crps = crps(\\n                mu=EMOS_loc_preds[:, 0],\\n                sigma=EMOS_loc_preds[:, 1],\\n                y=y_test_var_denormed.values.flatten(),\\n            )\\n\\n            # Reshape the CRPS scores to match the shape of the target data, then compute the mean along the first axis\\n            EMOS_loc_crps = EMOS_loc_crps.reshape(y_test_var_denormed.shape).mean(\\n                axis=0\\n            )\\n\\n            # Store the mean CRPS for the grid point\\n            EMOS_loc_crps_all[lat][lon] = EMOS_loc_crps\\n\\n    # Save the grid of mean CRPS scores\\n    model_filename = f\\\"/Data/Delong_BA_Data/scores/EMOS_local_scores/EMOS_local_{var_names[var_num]}_lead_{lead_time - 1}_scores.npy\\\"\\n    np.save(model_filename, EMOS_loc_crps_all)\\n\\n\\ndef main(\\n    var_num,\\n    lead_time,\\n    batch_size=4096,\\n    epochs=10,\\n    lr=0.001,\\n    validation_split=0.2,\\n    optimizer=\\\"Adam\\\",\\n):\\n    EMOS_local_train(\\n        var_num,\\n        lead_time,\\n        batch_size=batch_size,\\n        epochs=epochs,\\n        lr=lr,\\n        validation_split=validation_split,\\n        optimizer=optimizer,\\n    )\\n    EMOS_local_predict_evaluate(var_num, lead_time)\";\n",
       "                var nbb_cells = Jupyter.notebook.get_cells();\n",
       "                for (var i = 0; i < nbb_cells.length; ++i) {\n",
       "                    if (nbb_cells[i].input_prompt_number == nbb_cell_id) {\n",
       "                        if (nbb_cells[i].get_text() == nbb_unformatted_code) {\n",
       "                             nbb_cells[i].set_text(nbb_formatted_code);\n",
       "                        }\n",
       "                        break;\n",
       "                    }\n",
       "                }\n",
       "            }, 500);\n",
       "            "
      ],
      "text/plain": [
       "<IPython.core.display.Javascript object>"
      ]
     },
     "metadata": {},
     "output_type": "display_data"
    }
   ],
   "source": [
    "# Basics\n",
    "import numpy as np\n",
    "import argparse\n",
    "import multiprocessing as mp\n",
    "\n",
    "# TensorFlow and Keras\n",
    "import keras.backend as K\n",
    "import tensorflow as tf\n",
    "from tensorflow.keras.callbacks import EarlyStopping, ModelCheckpoint\n",
    "\n",
    "# Visualization\n",
    "import matplotlib.pyplot as plt\n",
    "\n",
    "# Statistical Functions\n",
    "from scipy.stats import norm\n",
    "\n",
    "# Progress Bar\n",
    "from tqdm import tqdm\n",
    "\n",
    "# My Methods\n",
    "from src.utils.CRPS import *\n",
    "from src.utils.data_split import *\n",
    "from src.models.EMOS import *\n",
    "import data.raw.load_data_raw as ldr\n",
    "import data.processed.load_data_processed as ldp\n",
    "import data.processed.load_data_processed_denormed as ldpd\n",
    "from src.models.CRPS_baseline.CRPS_load import *\n",
    "\n",
    "\n",
    "def EMOS_local_train(\n",
    "    var_num,\n",
    "    lead_time,\n",
    "    batch_size=4096,\n",
    "    epochs=10,\n",
    "    lr=0.001,\n",
    "    validation_split=0.2,\n",
    "    optimizer=\"Adam\",\n",
    "):\n",
    "    \"\"\"\n",
    "    Train a local EMOS model for a specific variable and lead time for all individual grid points.\n",
    "\n",
    "    Args: \n",
    "        var_num (int): Variable number between 0 - 5 corresponding to the variables [\"u10\", \"v10\", \"t2m\", \"t850\", \"z500\", \"ws10\"].\n",
    "        lead_time (int): Lead time number between 0 - 30.\n",
    "        batch_size (int): The number of samples per gradient update for training the model.\n",
    "        epochs (int): The number of epochs to train the model.\n",
    "        lr (float): Learning rate for the optimizer.\n",
    "        validation_split (float): The fraction of the training data to be used as validation data.\n",
    "        optimizer (str): The optimizer to use. Default is \"Adam\".\n",
    "\n",
    "    Returns:\n",
    "        None\n",
    "    \"\"\"\n",
    "    # Adjust lead_time for 1-based indexing\n",
    "    lead_time = lead_time + 1\n",
    "\n",
    "    # Define the cost function depending on the variable number\n",
    "    crps = crps_cost_function_trunc if var_num in [5] else crps_cost_function\n",
    "\n",
    "    # Define the names of the variables\n",
    "    var_names = [\"u10\", \"v10\", \"t2m\", \"t850\", \"z500\", \"ws10\"]\n",
    "\n",
    "    # Load the training data for gridpoint\n",
    "    train_var_denormed = ldpd.load_data_all_train_proc_denorm()[var_num]\n",
    "\n",
    "    # Split the data into features and target\n",
    "    for lat in range(120):\n",
    "        for lon in range(130):\n",
    "            # Split the data into features and target\n",
    "            X_train_var_denormed = train_var_denormed[\n",
    "                list(train_var_denormed.data_vars.keys())[0]\n",
    "            ].isel(lead_time=lead_time, lat=lat, lon=lon)\n",
    "            y_train_var_denormed = train_var_denormed[\n",
    "                list(train_var_denormed.data_vars.keys())[1]\n",
    "            ].isel(lead_time=lead_time, lat=lat, lon=lon)\n",
    "\n",
    "            # Build and compile the model\n",
    "            EMOS_loc = build_EMOS_network_keras(\n",
    "                compile=True, lr=lr, loss=crps, optimizer=optimizer\n",
    "            )\n",
    "\n",
    "            # Save the model\n",
    "            model_filename = f\"/Data/Delong_BA_Data/models/EMOS_local/EMOS_loc_{var_names[var_num]}_lead_time_{lead_time - 1}_{lat}_{lon}_denormed.h5\"\n",
    "\n",
    "            # Define callbacks for early stopping and model checkpointing\n",
    "            early_stopping = EarlyStopping(monitor=\"val_loss\", patience=3)\n",
    "            model_checkpoint = ModelCheckpoint(\n",
    "                model_filename, monitor=\"val_loss\", mode=\"min\", save_best_only=True\n",
    "            )\n",
    "\n",
    "            # Fit the model to the training data\n",
    "            EMOS_loc.fit(\n",
    "                [\n",
    "                    X_train_var_denormed.isel(mean_std=0).values.flatten(),\n",
    "                    X_train_var_denormed.isel(mean_std=1).values.flatten(),\n",
    "                ],\n",
    "                y_train_var_denormed.values.flatten(),\n",
    "                batch_size=batch_size,\n",
    "                epochs=epochs,\n",
    "                validation_split=validation_split,\n",
    "                callbacks=[early_stopping, model_checkpoint],\n",
    "                verbose=0,\n",
    "            )\n",
    "\n",
    "\n",
    "def EMOS_local_load_model_var_lead(var_num, lead_time):\n",
    "    \"\"\"\n",
    "    Load all the saved local EMOS models for a specific variable and arrange them in a 2D list.\n",
    "\n",
    "    Args:\n",
    "        var_num (int): Variable number between 0 - 5 corresponding to the variables [\"u10\", \"v10\", \"t2m\", \"t850\", \"z500\", \"ws10\"].\n",
    "        lead_time (int): Lead time number between 0 - 30.\n",
    "\n",
    "    Returns:\n",
    "        list: A 2D list (120 x 130) of TensorFlow models.\n",
    "    \"\"\"\n",
    "    var_names = [\"u10\", \"v10\", \"t2m\", \"t850\", \"z500\", \"ws10\"]\n",
    "    var_name = var_names[var_num]\n",
    "    path = \"/Data/Delong_BA_Data/models/EMOS_local/\"\n",
    "\n",
    "    # Create a 2D list for the models\n",
    "    models = [[None for _ in range(130)] for _ in range(120)]\n",
    "\n",
    "    # Load each model file and store it in the 2D list\n",
    "    for lat in range(120):\n",
    "        for lon in range(130):\n",
    "            # Create the filename\n",
    "            filename = (\n",
    "                f\"EMOS_loc_{var_name}_lead_time_{lead_time - 1}_{lat}_{lon}_denormed.h5\"\n",
    "            )\n",
    "            model_path = os.path.join(path, filename)\n",
    "\n",
    "            # Load the model and store it in the list\n",
    "            if os.path.isfile(model_path):\n",
    "                models[lat][lon] = tf.keras.models.load_model(\n",
    "                    model_path,\n",
    "                    custom_objects={\n",
    "                        \"crps_cost_function\": crps_cost_function,\n",
    "                        \"crps_cost_function_trunc\": crps_cost_function_trunc,\n",
    "                    },\n",
    "                )\n",
    "    return models\n",
    "\n",
    "\n",
    "def EMOS_local_predict_evaluate(var_num, lead_time):\n",
    "    \"\"\"\n",
    "    Use stored local EMOS model to predict and evaluate on a test dataset.\n",
    "\n",
    "    Args:\n",
    "        var_num (int): Variable number between 0 - 5 corresponding to the variables [\"u10\", \"v10\", \"t2m\", \"t850\", \"z500\", \"ws10\"].\n",
    "        lead_time (int): Lead time number between 0 - 30.\n",
    "\n",
    "    Returns:\n",
    "        None\n",
    "    \"\"\"\n",
    "    # Load Models\n",
    "    EMOS_local_models = EMOS_local_load_model_var_lead(var_num, lead_time)\n",
    "\n",
    "    # Adjust lead_time for 1-based indexing\n",
    "    lead_time += 1\n",
    "\n",
    "    # Define the variable names\n",
    "    var_names = [\"u10\", \"v10\", \"t2m\", \"t850\", \"z500\", \"ws10\"]\n",
    "\n",
    "    # Load test data\n",
    "    test_var_denormed = ldpd.load_data_all_test_proc_denorm()[var_num]\n",
    "\n",
    "    # Choose the CRPS cost function based on variable number\n",
    "    crps = crps_trunc if var_num == 5 else crps_normal\n",
    "\n",
    "    # Initialize the array for CRPS scores for each grid point\n",
    "    EMOS_loc_crps_all = np.zeros([120, 130])\n",
    "\n",
    "    for lat in range(120):\n",
    "        for lon in range(130):\n",
    "            # Extract the data for the specific lead_time and grid point\n",
    "            X_test_var_denormed = test_var_denormed[\n",
    "                list(test_var_denormed.data_vars.keys())[0]\n",
    "            ].isel(lead_time=lead_time, lat=lat, lon=lon)\n",
    "            y_test_var_denormed = test_var_denormed[\n",
    "                list(test_var_denormed.data_vars.keys())[1]\n",
    "            ].isel(lead_time=lead_time, lat=lat, lon=lon)\n",
    "\n",
    "            # Predict using the local model for the grid point\n",
    "            EMOS_loc_preds = EMOS_local_models[lat][lon].predict(\n",
    "                [\n",
    "                    X_test_var_denormed.isel(mean_std=0).values.flatten(),\n",
    "                    X_test_var_denormed.isel(mean_std=1).values.flatten(),\n",
    "                ],\n",
    "            )\n",
    "\n",
    "            # Compute CRPS for the predictions\n",
    "            EMOS_loc_crps = crps(\n",
    "                mu=EMOS_loc_preds[:, 0],\n",
    "                sigma=EMOS_loc_preds[:, 1],\n",
    "                y=y_test_var_denormed.values.flatten(),\n",
    "            )\n",
    "\n",
    "            # Reshape the CRPS scores to match the shape of the target data, then compute the mean along the first axis\n",
    "            EMOS_loc_crps = EMOS_loc_crps.reshape(y_test_var_denormed.shape).mean(\n",
    "                axis=0\n",
    "            )\n",
    "\n",
    "            # Store the mean CRPS for the grid point\n",
    "            EMOS_loc_crps_all[lat][lon] = EMOS_loc_crps\n",
    "\n",
    "    # Save the grid of mean CRPS scores\n",
    "    model_filename = f\"/Data/Delong_BA_Data/scores/EMOS_local_scores/EMOS_local_{var_names[var_num]}_lead_{lead_time - 1}_scores.npy\"\n",
    "    np.save(model_filename, EMOS_loc_crps_all)\n",
    "\n",
    "\n",
    "def main(\n",
    "    var_num,\n",
    "    lead_time,\n",
    "    batch_size=4096,\n",
    "    epochs=10,\n",
    "    lr=0.001,\n",
    "    validation_split=0.2,\n",
    "    optimizer=\"Adam\",\n",
    "):\n",
    "    EMOS_local_train(\n",
    "        var_num,\n",
    "        lead_time,\n",
    "        batch_size=batch_size,\n",
    "        epochs=epochs,\n",
    "        lr=lr,\n",
    "        validation_split=validation_split,\n",
    "        optimizer=optimizer,\n",
    "    )\n",
    "    EMOS_local_predict_evaluate(var_num, lead_time)"
   ]
  },
  {
   "cell_type": "code",
   "execution_count": 11,
   "id": "47acce2e",
   "metadata": {},
   "outputs": [
    {
     "name": "stderr",
     "output_type": "stream",
     "text": [
      "2023-05-30 12:55:49.540040: W tensorflow/stream_executor/platform/default/dso_loader.cc:64] Could not load dynamic library 'libcudart.so.11.0'; dlerror: libcudart.so.11.0: cannot open shared object file: No such file or directory; LD_LIBRARY_PATH: :/opt/anaconda3/lib/\n",
      "2023-05-30 12:55:49.540137: W tensorflow/stream_executor/platform/default/dso_loader.cc:64] Could not load dynamic library 'libcublas.so.11'; dlerror: libcublas.so.11: cannot open shared object file: No such file or directory; LD_LIBRARY_PATH: :/opt/anaconda3/lib/\n",
      "2023-05-30 12:55:49.540204: W tensorflow/stream_executor/platform/default/dso_loader.cc:64] Could not load dynamic library 'libcublasLt.so.11'; dlerror: libcublasLt.so.11: cannot open shared object file: No such file or directory; LD_LIBRARY_PATH: :/opt/anaconda3/lib/\n",
      "2023-05-30 12:55:49.540269: W tensorflow/stream_executor/platform/default/dso_loader.cc:64] Could not load dynamic library 'libcufft.so.10'; dlerror: libcufft.so.10: cannot open shared object file: No such file or directory; LD_LIBRARY_PATH: :/opt/anaconda3/lib/\n",
      "2023-05-30 12:55:49.565711: W tensorflow/stream_executor/platform/default/dso_loader.cc:64] Could not load dynamic library 'libcusparse.so.11'; dlerror: libcusparse.so.11: cannot open shared object file: No such file or directory; LD_LIBRARY_PATH: :/opt/anaconda3/lib/\n",
      "2023-05-30 12:55:49.565892: W tensorflow/core/common_runtime/gpu/gpu_device.cc:1850] Cannot dlopen some GPU libraries. Please make sure the missing libraries mentioned above are installed properly if you would like to use GPU. Follow the guide at https://www.tensorflow.org/install/gpu for how to download and setup the required libraries for your platform.\n",
      "Skipping registering GPU devices...\n",
      "2023-05-30 12:55:49.566246: I tensorflow/core/platform/cpu_feature_guard.cc:151] This TensorFlow binary is optimized with oneAPI Deep Neural Network Library (oneDNN) to use the following CPU instructions in performance-critical operations:  AVX2 AVX512F FMA\n",
      "To enable them in other operations, rebuild TensorFlow with the appropriate compiler flags.\n"
     ]
    },
    {
     "ename": "AttributeError",
     "evalue": "'NoneType' object has no attribute 'predict'",
     "output_type": "error",
     "traceback": [
      "\u001b[0;31m---------------------------------------------------------------------------\u001b[0m",
      "\u001b[0;31mAttributeError\u001b[0m                            Traceback (most recent call last)",
      "\u001b[0;32m/tmp/ipykernel_590448/3284389140.py\u001b[0m in \u001b[0;36m<module>\u001b[0;34m\u001b[0m\n\u001b[1;32m      1\u001b[0m \u001b[0;31m# Running main as a test with t2m and lead_time = 0\u001b[0m\u001b[0;34m\u001b[0m\u001b[0;34m\u001b[0m\u001b[0m\n\u001b[0;32m----> 2\u001b[0;31m \u001b[0mmain\u001b[0m\u001b[0;34m(\u001b[0m\u001b[0;36m2\u001b[0m\u001b[0;34m,\u001b[0m\u001b[0;36m0\u001b[0m\u001b[0;34m)\u001b[0m\u001b[0;34m\u001b[0m\u001b[0;34m\u001b[0m\u001b[0m\n\u001b[0m",
      "\u001b[0;32m/tmp/ipykernel_590448/2241061483.py\u001b[0m in \u001b[0;36mmain\u001b[0;34m(var_num, lead_time, batch_size, epochs, lr, validation_split, optimizer)\u001b[0m\n\u001b[1;32m    220\u001b[0m         \u001b[0moptimizer\u001b[0m\u001b[0;34m=\u001b[0m\u001b[0moptimizer\u001b[0m\u001b[0;34m\u001b[0m\u001b[0;34m\u001b[0m\u001b[0m\n\u001b[1;32m    221\u001b[0m     )\n\u001b[0;32m--> 222\u001b[0;31m     \u001b[0mEMOS_local_predict_evaluate\u001b[0m\u001b[0;34m(\u001b[0m\u001b[0mvar_num\u001b[0m\u001b[0;34m,\u001b[0m \u001b[0mlead_time\u001b[0m\u001b[0;34m)\u001b[0m\u001b[0;34m\u001b[0m\u001b[0;34m\u001b[0m\u001b[0m\n\u001b[0m",
      "\u001b[0;32m/tmp/ipykernel_590448/2241061483.py\u001b[0m in \u001b[0;36mEMOS_local_predict_evaluate\u001b[0;34m(var_num, lead_time)\u001b[0m\n\u001b[1;32m    183\u001b[0m \u001b[0;34m\u001b[0m\u001b[0m\n\u001b[1;32m    184\u001b[0m             \u001b[0;31m# Predict using the local model for the grid point\u001b[0m\u001b[0;34m\u001b[0m\u001b[0;34m\u001b[0m\u001b[0m\n\u001b[0;32m--> 185\u001b[0;31m             EMOS_loc_preds = EMOS_local_models[lat][lon].predict(\n\u001b[0m\u001b[1;32m    186\u001b[0m                 [\n\u001b[1;32m    187\u001b[0m                     \u001b[0mX_test_var_denormed\u001b[0m\u001b[0;34m.\u001b[0m\u001b[0misel\u001b[0m\u001b[0;34m(\u001b[0m\u001b[0mmean_std\u001b[0m\u001b[0;34m=\u001b[0m\u001b[0;36m0\u001b[0m\u001b[0;34m)\u001b[0m\u001b[0;34m.\u001b[0m\u001b[0mvalues\u001b[0m\u001b[0;34m.\u001b[0m\u001b[0mflatten\u001b[0m\u001b[0;34m(\u001b[0m\u001b[0;34m)\u001b[0m\u001b[0;34m,\u001b[0m\u001b[0;34m\u001b[0m\u001b[0;34m\u001b[0m\u001b[0m\n",
      "\u001b[0;31mAttributeError\u001b[0m: 'NoneType' object has no attribute 'predict'"
     ]
    },
    {
     "data": {
      "application/javascript": [
       "\n",
       "            setTimeout(function() {\n",
       "                var nbb_cell_id = 11;\n",
       "                var nbb_unformatted_code = \"# Running main as a test with t2m and lead_time = 0\\nmain(2,0)\";\n",
       "                var nbb_formatted_code = \"# Running main as a test with t2m and lead_time = 0\\nmain(2, 0)\";\n",
       "                var nbb_cells = Jupyter.notebook.get_cells();\n",
       "                for (var i = 0; i < nbb_cells.length; ++i) {\n",
       "                    if (nbb_cells[i].input_prompt_number == nbb_cell_id) {\n",
       "                        if (nbb_cells[i].get_text() == nbb_unformatted_code) {\n",
       "                             nbb_cells[i].set_text(nbb_formatted_code);\n",
       "                        }\n",
       "                        break;\n",
       "                    }\n",
       "                }\n",
       "            }, 500);\n",
       "            "
      ],
      "text/plain": [
       "<IPython.core.display.Javascript object>"
      ]
     },
     "metadata": {},
     "output_type": "display_data"
    }
   ],
   "source": [
    "# Running main as a test with t2m and lead_time = 0\n",
    "main(2, 0)"
   ]
  },
  {
   "cell_type": "markdown",
   "id": "e1d043d2",
   "metadata": {},
   "source": [
    "### 3. Trying to load models:"
   ]
  },
  {
   "cell_type": "code",
   "execution_count": 18,
   "id": "5b10df1c",
   "metadata": {},
   "outputs": [
    {
     "data": {
      "application/javascript": [
       "\n",
       "            setTimeout(function() {\n",
       "                var nbb_cell_id = 18;\n",
       "                var nbb_unformatted_code = \"def EMOS_local_load_model_var_lead(var_num, lead_time):\\n    \\\"\\\"\\\"\\n    Load all the saved local EMOS models for a specific variable and arrange them in a 2D list.\\n\\n    Args:\\n        var_num (int): Variable number between 0 - 5 corresponding to the variables [\\\"u10\\\", \\\"v10\\\", \\\"t2m\\\", \\\"t850\\\", \\\"z500\\\", \\\"ws10\\\"].\\n        lead_time (int): Lead time number between 0 - 30.\\n\\n    Returns:\\n        list: A 2D list (120 x 130) of TensorFlow models.\\n    \\\"\\\"\\\"\\n    var_names = [\\\"u10\\\", \\\"v10\\\", \\\"t2m\\\", \\\"t850\\\", \\\"z500\\\", \\\"ws10\\\"]\\n    var_name = var_names[var_num]\\n    path = \\\"/Data/Delong_BA_Data/models/EMOS_local/\\\"\\n\\n    # Create a 2D list for the models\\n    models = [[None for _ in range(130)] for _ in range(120)]\\n\\n    # Load each model file and store it in the 2D list\\n    for lat in tqdm(range(120)):\\n        for lon in range(130):\\n            # Create the filename\\n            filename = f\\\"EMOS_loc_{var_name}_lead_time_{lead_time}_{lat}_{lon}_denormed.h5\\\"\\n            model_path = os.path.join(path, filename)\\n\\n            # Load the model and store it in the list\\n            if os.path.isfile(model_path):\\n                models[lat][lon] = tf.keras.models.load_model(\\n                    model_path,\\n                    custom_objects={\\n                        \\\"crps_cost_function\\\": crps_cost_function,\\n                        \\\"crps_cost_function_trunc\\\": crps_cost_function_trunc,\\n                    },\\n                )\\n    return models\";\n",
       "                var nbb_formatted_code = \"def EMOS_local_load_model_var_lead(var_num, lead_time):\\n    \\\"\\\"\\\"\\n    Load all the saved local EMOS models for a specific variable and arrange them in a 2D list.\\n\\n    Args:\\n        var_num (int): Variable number between 0 - 5 corresponding to the variables [\\\"u10\\\", \\\"v10\\\", \\\"t2m\\\", \\\"t850\\\", \\\"z500\\\", \\\"ws10\\\"].\\n        lead_time (int): Lead time number between 0 - 30.\\n\\n    Returns:\\n        list: A 2D list (120 x 130) of TensorFlow models.\\n    \\\"\\\"\\\"\\n    var_names = [\\\"u10\\\", \\\"v10\\\", \\\"t2m\\\", \\\"t850\\\", \\\"z500\\\", \\\"ws10\\\"]\\n    var_name = var_names[var_num]\\n    path = \\\"/Data/Delong_BA_Data/models/EMOS_local/\\\"\\n\\n    # Create a 2D list for the models\\n    models = [[None for _ in range(130)] for _ in range(120)]\\n\\n    # Load each model file and store it in the 2D list\\n    for lat in tqdm(range(120)):\\n        for lon in range(130):\\n            # Create the filename\\n            filename = (\\n                f\\\"EMOS_loc_{var_name}_lead_time_{lead_time}_{lat}_{lon}_denormed.h5\\\"\\n            )\\n            model_path = os.path.join(path, filename)\\n\\n            # Load the model and store it in the list\\n            if os.path.isfile(model_path):\\n                models[lat][lon] = tf.keras.models.load_model(\\n                    model_path,\\n                    custom_objects={\\n                        \\\"crps_cost_function\\\": crps_cost_function,\\n                        \\\"crps_cost_function_trunc\\\": crps_cost_function_trunc,\\n                    },\\n                )\\n    return models\";\n",
       "                var nbb_cells = Jupyter.notebook.get_cells();\n",
       "                for (var i = 0; i < nbb_cells.length; ++i) {\n",
       "                    if (nbb_cells[i].input_prompt_number == nbb_cell_id) {\n",
       "                        if (nbb_cells[i].get_text() == nbb_unformatted_code) {\n",
       "                             nbb_cells[i].set_text(nbb_formatted_code);\n",
       "                        }\n",
       "                        break;\n",
       "                    }\n",
       "                }\n",
       "            }, 500);\n",
       "            "
      ],
      "text/plain": [
       "<IPython.core.display.Javascript object>"
      ]
     },
     "metadata": {},
     "output_type": "display_data"
    }
   ],
   "source": [
    "def EMOS_local_load_model_var_lead(var_num, lead_time):\n",
    "    \"\"\"\n",
    "    Load all the saved local EMOS models for a specific variable and arrange them in a 2D list.\n",
    "\n",
    "    Args:\n",
    "        var_num (int): Variable number between 0 - 5 corresponding to the variables [\"u10\", \"v10\", \"t2m\", \"t850\", \"z500\", \"ws10\"].\n",
    "        lead_time (int): Lead time number between 0 - 30.\n",
    "\n",
    "    Returns:\n",
    "        list: A 2D list (120 x 130) of TensorFlow models.\n",
    "    \"\"\"\n",
    "    var_names = [\"u10\", \"v10\", \"t2m\", \"t850\", \"z500\", \"ws10\"]\n",
    "    var_name = var_names[var_num]\n",
    "    path = \"/Data/Delong_BA_Data/models/EMOS_local/\"\n",
    "\n",
    "    # Create a 2D list for the models\n",
    "    models = [[None for _ in range(130)] for _ in range(120)]\n",
    "\n",
    "    # Load each model file and store it in the 2D list\n",
    "    for lat in tqdm(range(120)):\n",
    "        for lon in range(130):\n",
    "            # Create the filename\n",
    "            filename = (\n",
    "                f\"EMOS_loc_{var_name}_lead_time_{lead_time}_{lat}_{lon}_denormed.h5\"\n",
    "            )\n",
    "            model_path = os.path.join(path, filename)\n",
    "\n",
    "            # Load the model and store it in the list\n",
    "            if os.path.isfile(model_path):\n",
    "                models[lat][lon] = tf.keras.models.load_model(\n",
    "                    model_path,\n",
    "                    custom_objects={\n",
    "                        \"crps_cost_function\": crps_cost_function,\n",
    "                        \"crps_cost_function_trunc\": crps_cost_function_trunc,\n",
    "                    },\n",
    "                )\n",
    "    return models"
   ]
  },
  {
   "cell_type": "code",
   "execution_count": null,
   "id": "92646fd9",
   "metadata": {},
   "outputs": [
    {
     "name": "stderr",
     "output_type": "stream",
     "text": [
      "  2%|██▊                                                                                                           | 3/120 [00:11<07:14,  3.72s/it]"
     ]
    }
   ],
   "source": [
    "EMOS_local_load_model_var_lead(2, 0)"
   ]
  },
  {
   "cell_type": "code",
   "execution_count": null,
   "id": "d4bc94db",
   "metadata": {},
   "outputs": [],
   "source": [
    "path = \"/Data/Delong_BA_Data/models/EMOS_local/\""
   ]
  },
  {
   "cell_type": "code",
   "execution_count": 13,
   "id": "5d12fccd",
   "metadata": {},
   "outputs": [
    {
     "data": {
      "application/javascript": [
       "\n",
       "            setTimeout(function() {\n",
       "                var nbb_cell_id = 13;\n",
       "                var nbb_unformatted_code = \"model_path = \\\"/Data/Delong_BA_Data/models/EMOS_local/EMOS_loc_t2m_lead_time_0_0_0_denormed.h5\\\"\";\n",
       "                var nbb_formatted_code = \"model_path = (\\n    \\\"/Data/Delong_BA_Data/models/EMOS_local/EMOS_loc_t2m_lead_time_0_0_0_denormed.h5\\\"\\n)\";\n",
       "                var nbb_cells = Jupyter.notebook.get_cells();\n",
       "                for (var i = 0; i < nbb_cells.length; ++i) {\n",
       "                    if (nbb_cells[i].input_prompt_number == nbb_cell_id) {\n",
       "                        if (nbb_cells[i].get_text() == nbb_unformatted_code) {\n",
       "                             nbb_cells[i].set_text(nbb_formatted_code);\n",
       "                        }\n",
       "                        break;\n",
       "                    }\n",
       "                }\n",
       "            }, 500);\n",
       "            "
      ],
      "text/plain": [
       "<IPython.core.display.Javascript object>"
      ]
     },
     "metadata": {},
     "output_type": "display_data"
    }
   ],
   "source": [
    "model_path = (\n",
    "    \"/Data/Delong_BA_Data/models/EMOS_local/EMOS_loc_t2m_lead_time_0_0_0_denormed.h5\"\n",
    ")"
   ]
  },
  {
   "cell_type": "code",
   "execution_count": 15,
   "id": "cb453a54",
   "metadata": {},
   "outputs": [
    {
     "data": {
      "application/javascript": [
       "\n",
       "            setTimeout(function() {\n",
       "                var nbb_cell_id = 15;\n",
       "                var nbb_unformatted_code = \"t2m_0_0_0 =  tf.keras.models.load_model(\\n    model_path,\\n    custom_objects={\\n        \\\"crps_cost_function\\\": crps_cost_function,\\n        \\\"crps_cost_function_trunc\\\": crps_cost_function_trunc,\\n    },\\n)\";\n",
       "                var nbb_formatted_code = \"t2m_0_0_0 = tf.keras.models.load_model(\\n    model_path,\\n    custom_objects={\\n        \\\"crps_cost_function\\\": crps_cost_function,\\n        \\\"crps_cost_function_trunc\\\": crps_cost_function_trunc,\\n    },\\n)\";\n",
       "                var nbb_cells = Jupyter.notebook.get_cells();\n",
       "                for (var i = 0; i < nbb_cells.length; ++i) {\n",
       "                    if (nbb_cells[i].input_prompt_number == nbb_cell_id) {\n",
       "                        if (nbb_cells[i].get_text() == nbb_unformatted_code) {\n",
       "                             nbb_cells[i].set_text(nbb_formatted_code);\n",
       "                        }\n",
       "                        break;\n",
       "                    }\n",
       "                }\n",
       "            }, 500);\n",
       "            "
      ],
      "text/plain": [
       "<IPython.core.display.Javascript object>"
      ]
     },
     "metadata": {},
     "output_type": "display_data"
    }
   ],
   "source": [
    "t2m_0_0_0 = tf.keras.models.load_model(\n",
    "    model_path,\n",
    "    custom_objects={\n",
    "        \"crps_cost_function\": crps_cost_function,\n",
    "        \"crps_cost_function_trunc\": crps_cost_function_trunc,\n",
    "    },\n",
    ")"
   ]
  },
  {
   "cell_type": "code",
   "execution_count": 16,
   "id": "b04b702e",
   "metadata": {},
   "outputs": [
    {
     "ename": "TypeError",
     "evalue": "predict() missing 1 required positional argument: 'x'",
     "output_type": "error",
     "traceback": [
      "\u001b[0;31m---------------------------------------------------------------------------\u001b[0m",
      "\u001b[0;31mTypeError\u001b[0m                                 Traceback (most recent call last)",
      "\u001b[0;32m/tmp/ipykernel_590448/2379521697.py\u001b[0m in \u001b[0;36m<module>\u001b[0;34m\u001b[0m\n\u001b[0;32m----> 1\u001b[0;31m \u001b[0mt2m_0_0_0\u001b[0m\u001b[0;34m.\u001b[0m\u001b[0mpredict\u001b[0m\u001b[0;34m(\u001b[0m\u001b[0;34m)\u001b[0m\u001b[0;34m\u001b[0m\u001b[0;34m\u001b[0m\u001b[0m\n\u001b[0m",
      "\u001b[0;32m~/.conda/envs/Bach_Del/lib/python3.9/site-packages/keras/utils/traceback_utils.py\u001b[0m in \u001b[0;36merror_handler\u001b[0;34m(*args, **kwargs)\u001b[0m\n\u001b[1;32m     65\u001b[0m     \u001b[0;32mexcept\u001b[0m \u001b[0mException\u001b[0m \u001b[0;32mas\u001b[0m \u001b[0me\u001b[0m\u001b[0;34m:\u001b[0m  \u001b[0;31m# pylint: disable=broad-except\u001b[0m\u001b[0;34m\u001b[0m\u001b[0;34m\u001b[0m\u001b[0m\n\u001b[1;32m     66\u001b[0m       \u001b[0mfiltered_tb\u001b[0m \u001b[0;34m=\u001b[0m \u001b[0m_process_traceback_frames\u001b[0m\u001b[0;34m(\u001b[0m\u001b[0me\u001b[0m\u001b[0;34m.\u001b[0m\u001b[0m__traceback__\u001b[0m\u001b[0;34m)\u001b[0m\u001b[0;34m\u001b[0m\u001b[0;34m\u001b[0m\u001b[0m\n\u001b[0;32m---> 67\u001b[0;31m       \u001b[0;32mraise\u001b[0m \u001b[0me\u001b[0m\u001b[0;34m.\u001b[0m\u001b[0mwith_traceback\u001b[0m\u001b[0;34m(\u001b[0m\u001b[0mfiltered_tb\u001b[0m\u001b[0;34m)\u001b[0m \u001b[0;32mfrom\u001b[0m \u001b[0;32mNone\u001b[0m\u001b[0;34m\u001b[0m\u001b[0;34m\u001b[0m\u001b[0m\n\u001b[0m\u001b[1;32m     68\u001b[0m     \u001b[0;32mfinally\u001b[0m\u001b[0;34m:\u001b[0m\u001b[0;34m\u001b[0m\u001b[0;34m\u001b[0m\u001b[0m\n\u001b[1;32m     69\u001b[0m       \u001b[0;32mdel\u001b[0m \u001b[0mfiltered_tb\u001b[0m\u001b[0;34m\u001b[0m\u001b[0;34m\u001b[0m\u001b[0m\n",
      "\u001b[0;32m~/.conda/envs/Bach_Del/lib/python3.9/site-packages/keras/utils/traceback_utils.py\u001b[0m in \u001b[0;36merror_handler\u001b[0;34m(*args, **kwargs)\u001b[0m\n\u001b[1;32m     62\u001b[0m     \u001b[0mfiltered_tb\u001b[0m \u001b[0;34m=\u001b[0m \u001b[0;32mNone\u001b[0m\u001b[0;34m\u001b[0m\u001b[0;34m\u001b[0m\u001b[0m\n\u001b[1;32m     63\u001b[0m     \u001b[0;32mtry\u001b[0m\u001b[0;34m:\u001b[0m\u001b[0;34m\u001b[0m\u001b[0;34m\u001b[0m\u001b[0m\n\u001b[0;32m---> 64\u001b[0;31m       \u001b[0;32mreturn\u001b[0m \u001b[0mfn\u001b[0m\u001b[0;34m(\u001b[0m\u001b[0;34m*\u001b[0m\u001b[0margs\u001b[0m\u001b[0;34m,\u001b[0m \u001b[0;34m**\u001b[0m\u001b[0mkwargs\u001b[0m\u001b[0;34m)\u001b[0m\u001b[0;34m\u001b[0m\u001b[0;34m\u001b[0m\u001b[0m\n\u001b[0m\u001b[1;32m     65\u001b[0m     \u001b[0;32mexcept\u001b[0m \u001b[0mException\u001b[0m \u001b[0;32mas\u001b[0m \u001b[0me\u001b[0m\u001b[0;34m:\u001b[0m  \u001b[0;31m# pylint: disable=broad-except\u001b[0m\u001b[0;34m\u001b[0m\u001b[0;34m\u001b[0m\u001b[0m\n\u001b[1;32m     66\u001b[0m       \u001b[0mfiltered_tb\u001b[0m \u001b[0;34m=\u001b[0m \u001b[0m_process_traceback_frames\u001b[0m\u001b[0;34m(\u001b[0m\u001b[0me\u001b[0m\u001b[0;34m.\u001b[0m\u001b[0m__traceback__\u001b[0m\u001b[0;34m)\u001b[0m\u001b[0;34m\u001b[0m\u001b[0;34m\u001b[0m\u001b[0m\n",
      "\u001b[0;31mTypeError\u001b[0m: predict() missing 1 required positional argument: 'x'"
     ]
    },
    {
     "data": {
      "application/javascript": [
       "\n",
       "            setTimeout(function() {\n",
       "                var nbb_cell_id = 16;\n",
       "                var nbb_unformatted_code = \"t2m_0_0_0.predict()\";\n",
       "                var nbb_formatted_code = \"t2m_0_0_0.predict()\";\n",
       "                var nbb_cells = Jupyter.notebook.get_cells();\n",
       "                for (var i = 0; i < nbb_cells.length; ++i) {\n",
       "                    if (nbb_cells[i].input_prompt_number == nbb_cell_id) {\n",
       "                        if (nbb_cells[i].get_text() == nbb_unformatted_code) {\n",
       "                             nbb_cells[i].set_text(nbb_formatted_code);\n",
       "                        }\n",
       "                        break;\n",
       "                    }\n",
       "                }\n",
       "            }, 500);\n",
       "            "
      ],
      "text/plain": [
       "<IPython.core.display.Javascript object>"
      ]
     },
     "metadata": {},
     "output_type": "display_data"
    }
   ],
   "source": [
    "t2m_0_0_0.predict()"
   ]
  },
  {
   "cell_type": "code",
   "execution_count": null,
   "id": "1688b330",
   "metadata": {},
   "outputs": [],
   "source": []
  }
 ],
 "metadata": {
  "kernelspec": {
   "display_name": "Python 3 (ipykernel)",
   "language": "python",
   "name": "python3"
  },
  "language_info": {
   "codemirror_mode": {
    "name": "ipython",
    "version": 3
   },
   "file_extension": ".py",
   "mimetype": "text/x-python",
   "name": "python",
   "nbconvert_exporter": "python",
   "pygments_lexer": "ipython3",
   "version": "3.9.7"
  }
 },
 "nbformat": 4,
 "nbformat_minor": 5
}
