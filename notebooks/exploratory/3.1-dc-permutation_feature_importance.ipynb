{
 "cells": [
  {
   "cell_type": "code",
   "execution_count": 1,
   "id": "324e7448",
   "metadata": {},
   "outputs": [
    {
     "data": {
      "application/javascript": [
       "\n",
       "            setTimeout(function() {\n",
       "                var nbb_cell_id = 1;\n",
       "                var nbb_unformatted_code = \"%load_ext nb_black\";\n",
       "                var nbb_formatted_code = \"%load_ext nb_black\";\n",
       "                var nbb_cells = Jupyter.notebook.get_cells();\n",
       "                for (var i = 0; i < nbb_cells.length; ++i) {\n",
       "                    if (nbb_cells[i].input_prompt_number == nbb_cell_id) {\n",
       "                        if (nbb_cells[i].get_text() == nbb_unformatted_code) {\n",
       "                             nbb_cells[i].set_text(nbb_formatted_code);\n",
       "                        }\n",
       "                        break;\n",
       "                    }\n",
       "                }\n",
       "            }, 500);\n",
       "            "
      ],
      "text/plain": [
       "<IPython.core.display.Javascript object>"
      ]
     },
     "metadata": {},
     "output_type": "display_data"
    }
   ],
   "source": [
    "%load_ext nb_black"
   ]
  },
  {
   "cell_type": "code",
   "execution_count": 2,
   "id": "e6b3d4fc",
   "metadata": {},
   "outputs": [
    {
     "data": {
      "application/javascript": [
       "\n",
       "            setTimeout(function() {\n",
       "                var nbb_cell_id = 2;\n",
       "                var nbb_unformatted_code = \"import os\\n\\nos.environ[\\n    \\\"CUDA_VISIBLE_DEVICES\\\"\\n] = \\\"-1\\\"  # this line tells TensorFlow not to use any GPU\\n# Basics\\n# Basics\\nimport tensorflow as tf\\nimport xarray as xr\\nimport random\\n\\n# Helpful\\nimport tqdm\\n\\n# Visualization\\nimport matplotlib.pyplot as plt\\n\\n# Path setup\\nimport sys\\n\\nsys.path.append(\\\"/home/dchen/BA_CH_EN/\\\")\\n\\n\\n\\n# My Methods\\nfrom src.utils.CRPS import *  # CRPS metrics\\nfrom src.utils.data_split import *  # Splitting data into X and y\\nfrom src.utils.drn_make_X_array import *  # Import make train array functions (make_X_array)\\nfrom src.models.EMOS import *  # EMOS implementation\\nfrom src.models.EMOS_global.EMOS_global_load_score import *  # Load EMOS_global_scores\\nfrom src.models.EMOS_global.EMOS_global_load_model import *  # Load EMOS_global_models\\nfrom src.models.EMOS_local.EMOS_local_load_score import *  # Load EMOS_local_scores\\nfrom src.models.EMOS_local.EMOS_local_load_model import *  # Load EMOS_local_models\\nfrom src.models.DRN.DRN_model import *  # DRN implementation\\nfrom src.models.DRN.DRN_load_score import *  # Load DRN_scores\\nfrom src.models.DRN.DRN_load_score_10 import *  # Load DRN_scores_10\\nfrom src.models.DRN.DRN_load_score_dummy_10 import *  # Load DRN_scores_10\\nimport data.raw.load_data_raw as ldr  # Load raw data\\nimport data.processed.load_data_processed as ldp  # Load processed data normed\\nimport data.processed.load_data_processed_denormed as ldpd  # Load processed data denormed\\nfrom src.models.CRPS_baseline.CRPS_load import *  # Load CRPS scores\\nfrom src.models.U_net.u_net_load_score import *\\nfrom src.models.U_net.u_net_load_preds import *\";\n",
       "                var nbb_formatted_code = \"import os\\n\\nos.environ[\\n    \\\"CUDA_VISIBLE_DEVICES\\\"\\n] = \\\"-1\\\"  # this line tells TensorFlow not to use any GPU\\n# Basics\\n# Basics\\nimport tensorflow as tf\\nimport xarray as xr\\nimport random\\n\\n# Helpful\\nimport tqdm\\n\\n# Visualization\\nimport matplotlib.pyplot as plt\\n\\n# Path setup\\nimport sys\\n\\nsys.path.append(\\\"/home/dchen/BA_CH_EN/\\\")\\n\\n\\n# My Methods\\nfrom src.utils.CRPS import *  # CRPS metrics\\nfrom src.utils.data_split import *  # Splitting data into X and y\\nfrom src.utils.drn_make_X_array import *  # Import make train array functions (make_X_array)\\nfrom src.models.EMOS import *  # EMOS implementation\\nfrom src.models.EMOS_global.EMOS_global_load_score import *  # Load EMOS_global_scores\\nfrom src.models.EMOS_global.EMOS_global_load_model import *  # Load EMOS_global_models\\nfrom src.models.EMOS_local.EMOS_local_load_score import *  # Load EMOS_local_scores\\nfrom src.models.EMOS_local.EMOS_local_load_model import *  # Load EMOS_local_models\\nfrom src.models.DRN.DRN_model import *  # DRN implementation\\nfrom src.models.DRN.DRN_load_score import *  # Load DRN_scores\\nfrom src.models.DRN.DRN_load_score_10 import *  # Load DRN_scores_10\\nfrom src.models.DRN.DRN_load_score_dummy_10 import *  # Load DRN_scores_10\\nimport data.raw.load_data_raw as ldr  # Load raw data\\nimport data.processed.load_data_processed as ldp  # Load processed data normed\\nimport data.processed.load_data_processed_denormed as ldpd  # Load processed data denormed\\nfrom src.models.CRPS_baseline.CRPS_load import *  # Load CRPS scores\\nfrom src.models.U_net.u_net_load_score import *\\nfrom src.models.U_net.u_net_load_preds import *\";\n",
       "                var nbb_cells = Jupyter.notebook.get_cells();\n",
       "                for (var i = 0; i < nbb_cells.length; ++i) {\n",
       "                    if (nbb_cells[i].input_prompt_number == nbb_cell_id) {\n",
       "                        if (nbb_cells[i].get_text() == nbb_unformatted_code) {\n",
       "                             nbb_cells[i].set_text(nbb_formatted_code);\n",
       "                        }\n",
       "                        break;\n",
       "                    }\n",
       "                }\n",
       "            }, 500);\n",
       "            "
      ],
      "text/plain": [
       "<IPython.core.display.Javascript object>"
      ]
     },
     "metadata": {},
     "output_type": "display_data"
    }
   ],
   "source": [
    "import os\n",
    "\n",
    "os.environ[\n",
    "    \"CUDA_VISIBLE_DEVICES\"\n",
    "] = \"-1\"  # this line tells TensorFlow not to use any GPU\n",
    "# Basics\n",
    "# Basics\n",
    "import tensorflow as tf\n",
    "import xarray as xr\n",
    "import random\n",
    "\n",
    "# Helpful\n",
    "import tqdm\n",
    "\n",
    "# Visualization\n",
    "import matplotlib.pyplot as plt\n",
    "\n",
    "# Path setup\n",
    "import sys\n",
    "\n",
    "sys.path.append(\"/home/dchen/BA_CH_EN/\")\n",
    "\n",
    "\n",
    "# My Methods\n",
    "from src.utils.CRPS import *  # CRPS metrics\n",
    "from src.utils.data_split import *  # Splitting data into X and y\n",
    "from src.utils.drn_make_X_array import *  # Import make train array functions (make_X_array)\n",
    "from src.models.EMOS import *  # EMOS implementation\n",
    "from src.models.EMOS_global.EMOS_global_load_score import *  # Load EMOS_global_scores\n",
    "from src.models.EMOS_global.EMOS_global_load_model import *  # Load EMOS_global_models\n",
    "from src.models.EMOS_local.EMOS_local_load_score import *  # Load EMOS_local_scores\n",
    "from src.models.EMOS_local.EMOS_local_load_model import *  # Load EMOS_local_models\n",
    "from src.models.DRN.DRN_model import *  # DRN implementation\n",
    "from src.models.DRN.DRN_load_score import *  # Load DRN_scores\n",
    "from src.models.DRN.DRN_load_score_10 import *  # Load DRN_scores_10\n",
    "from src.models.DRN.DRN_load_score_dummy_10 import *  # Load DRN_scores_10\n",
    "import data.raw.load_data_raw as ldr  # Load raw data\n",
    "import data.processed.load_data_processed as ldp  # Load processed data normed\n",
    "import data.processed.load_data_processed_denormed as ldpd  # Load processed data denormed\n",
    "from src.models.CRPS_baseline.CRPS_load import *  # Load CRPS scores\n",
    "from src.models.U_net.u_net_load_score import *\n",
    "from src.models.U_net.u_net_load_preds import *"
   ]
  },
  {
   "cell_type": "markdown",
   "id": "93c3e862",
   "metadata": {},
   "source": [
    "### 0. Set up"
   ]
  },
  {
   "cell_type": "code",
   "execution_count": 3,
   "id": "92c6ac6a",
   "metadata": {},
   "outputs": [
    {
     "data": {
      "application/javascript": [
       "\n",
       "            setTimeout(function() {\n",
       "                var nbb_cell_id = 3;\n",
       "                var nbb_unformatted_code = \"lead_time = 11\\nvar_num = 2\";\n",
       "                var nbb_formatted_code = \"lead_time = 11\\nvar_num = 2\";\n",
       "                var nbb_cells = Jupyter.notebook.get_cells();\n",
       "                for (var i = 0; i < nbb_cells.length; ++i) {\n",
       "                    if (nbb_cells[i].input_prompt_number == nbb_cell_id) {\n",
       "                        if (nbb_cells[i].get_text() == nbb_unformatted_code) {\n",
       "                             nbb_cells[i].set_text(nbb_formatted_code);\n",
       "                        }\n",
       "                        break;\n",
       "                    }\n",
       "                }\n",
       "            }, 500);\n",
       "            "
      ],
      "text/plain": [
       "<IPython.core.display.Javascript object>"
      ]
     },
     "metadata": {},
     "output_type": "display_data"
    }
   ],
   "source": [
    "lead_time = 11\n",
    "var_num = 2"
   ]
  },
  {
   "cell_type": "markdown",
   "id": "12f170da",
   "metadata": {},
   "source": [
    "### 1. Loading"
   ]
  },
  {
   "cell_type": "markdown",
   "id": "05c6a2f6",
   "metadata": {},
   "source": [
    "#### 1.1 Load Data"
   ]
  },
  {
   "cell_type": "code",
   "execution_count": 27,
   "id": "a51ffe2f",
   "metadata": {},
   "outputs": [
    {
     "data": {
      "application/javascript": [
       "\n",
       "            setTimeout(function() {\n",
       "                var nbb_cell_id = 27;\n",
       "                var nbb_unformatted_code = \"# Define the names of the variables\\nvar_names = [\\\"u10\\\", \\\"v10\\\", \\\"t2m\\\", \\\"t850\\\", \\\"z500\\\", \\\"ws10\\\"]\\n    \\n\\n# Load all test data of each variable\\ntest_var_denormed = (\\n    ldpd.load_data_all_test_proc_denorm()\\n)\\n\\n# Split the loaded data into features (X) and target (y)\\ndat_X_test_lead_all_denorm, dat_y_test_lead_all_denorm = split_var_lead(\\n    test_var_denormed\\n)\\n\\n# Preprocess the features for Neural Network and scale them\\ndrn_X_test_lead_array, drn_embedding_test_lead_array = make_X_array(\\n    dat_X_test_lead_all_denorm, lead_time\\n) \\n\\ndrn_X_test_lead_array_reshaped = drn_X_test_lead_array.reshape(357, 120, 130, 12)\\ndrn_embedding_test_lead_array_reshaped = drn_embedding_test_lead_array.reshape(\\n    357, 120, 130\\n)\\n# Reshape target values into a 1D array\\nt2m_y_test_reshaped = dat_y_test_lead_all_denorm[var_num][lead_time].values\";\n",
       "                var nbb_formatted_code = \"# Define the names of the variables\\nvar_names = [\\\"u10\\\", \\\"v10\\\", \\\"t2m\\\", \\\"t850\\\", \\\"z500\\\", \\\"ws10\\\"]\\n\\n\\n# Load all test data of each variable\\ntest_var_denormed = ldpd.load_data_all_test_proc_denorm()\\n\\n# Split the loaded data into features (X) and target (y)\\ndat_X_test_lead_all_denorm, dat_y_test_lead_all_denorm = split_var_lead(\\n    test_var_denormed\\n)\\n\\n# Preprocess the features for Neural Network and scale them\\ndrn_X_test_lead_array, drn_embedding_test_lead_array = make_X_array(\\n    dat_X_test_lead_all_denorm, lead_time\\n)\\n\\ndrn_X_test_lead_array_reshaped = drn_X_test_lead_array.reshape(357, 120, 130, 12)\\ndrn_embedding_test_lead_array_reshaped = drn_embedding_test_lead_array.reshape(\\n    357, 120, 130\\n)\\n# Reshape target values into a 1D array\\nt2m_y_test_reshaped = dat_y_test_lead_all_denorm[var_num][lead_time].values\";\n",
       "                var nbb_cells = Jupyter.notebook.get_cells();\n",
       "                for (var i = 0; i < nbb_cells.length; ++i) {\n",
       "                    if (nbb_cells[i].input_prompt_number == nbb_cell_id) {\n",
       "                        if (nbb_cells[i].get_text() == nbb_unformatted_code) {\n",
       "                             nbb_cells[i].set_text(nbb_formatted_code);\n",
       "                        }\n",
       "                        break;\n",
       "                    }\n",
       "                }\n",
       "            }, 500);\n",
       "            "
      ],
      "text/plain": [
       "<IPython.core.display.Javascript object>"
      ]
     },
     "metadata": {},
     "output_type": "display_data"
    }
   ],
   "source": [
    "# Define the names of the variables\n",
    "var_names = [\"u10\", \"v10\", \"t2m\", \"t850\", \"z500\", \"ws10\"]\n",
    "\n",
    "\n",
    "# Load all test data of each variable\n",
    "test_var_denormed = ldpd.load_data_all_test_proc_denorm()\n",
    "\n",
    "# Split the loaded data into features (X) and target (y)\n",
    "dat_X_test_lead_all_denorm, dat_y_test_lead_all_denorm = split_var_lead(\n",
    "    test_var_denormed\n",
    ")\n",
    "\n",
    "# Preprocess the features for Neural Network and scale them\n",
    "drn_X_test_lead_array, drn_embedding_test_lead_array = make_X_array(\n",
    "    dat_X_test_lead_all_denorm, lead_time\n",
    ")\n",
    "\n",
    "drn_X_test_lead_array_reshaped = drn_X_test_lead_array.reshape(357, 120, 130, 12)\n",
    "drn_embedding_test_lead_array_reshaped = drn_embedding_test_lead_array.reshape(\n",
    "    357, 120, 130\n",
    ")\n",
    "# Reshape target values into a 1D array\n",
    "t2m_y_test_reshaped = dat_y_test_lead_all_denorm[var_num][lead_time].values"
   ]
  },
  {
   "cell_type": "markdown",
   "id": "de21ca07",
   "metadata": {},
   "source": [
    "#### 1.2 Load Model"
   ]
  },
  {
   "cell_type": "code",
   "execution_count": 19,
   "id": "ca263caf",
   "metadata": {},
   "outputs": [
    {
     "data": {
      "application/javascript": [
       "\n",
       "            setTimeout(function() {\n",
       "                var nbb_cell_id = 19;\n",
       "                var nbb_unformatted_code = \"# Load the trained model to use:\\npath = f\\\"/Data/Delong_BA_Data/models/DRN/DRN_{var_names[var_num]}_lead_time_{lead_time}_denormed.h5\\\"\\nDRN_model = tf.keras.models.load_model(\\n    path,\\n    custom_objects={\\n        \\\"crps_cost_function\\\": crps_cost_function,\\n        \\\"crps_cost_function_trunc\\\": crps_cost_function_trunc,\\n    },\\n)\";\n",
       "                var nbb_formatted_code = \"# Load the trained model to use:\\npath = f\\\"/Data/Delong_BA_Data/models/DRN/DRN_{var_names[var_num]}_lead_time_{lead_time}_denormed.h5\\\"\\nDRN_model = tf.keras.models.load_model(\\n    path,\\n    custom_objects={\\n        \\\"crps_cost_function\\\": crps_cost_function,\\n        \\\"crps_cost_function_trunc\\\": crps_cost_function_trunc,\\n    },\\n)\";\n",
       "                var nbb_cells = Jupyter.notebook.get_cells();\n",
       "                for (var i = 0; i < nbb_cells.length; ++i) {\n",
       "                    if (nbb_cells[i].input_prompt_number == nbb_cell_id) {\n",
       "                        if (nbb_cells[i].get_text() == nbb_unformatted_code) {\n",
       "                             nbb_cells[i].set_text(nbb_formatted_code);\n",
       "                        }\n",
       "                        break;\n",
       "                    }\n",
       "                }\n",
       "            }, 500);\n",
       "            "
      ],
      "text/plain": [
       "<IPython.core.display.Javascript object>"
      ]
     },
     "metadata": {},
     "output_type": "display_data"
    }
   ],
   "source": [
    "# Load the trained model to use:\n",
    "path = f\"/Data/Delong_BA_Data/models/DRN/DRN_{var_names[var_num]}_lead_time_{lead_time}_denormed.h5\"\n",
    "DRN_model = tf.keras.models.load_model(\n",
    "    path,\n",
    "    custom_objects={\n",
    "        \"crps_cost_function\": crps_cost_function,\n",
    "        \"crps_cost_function_trunc\": crps_cost_function_trunc,\n",
    "    },\n",
    ")"
   ]
  },
  {
   "cell_type": "markdown",
   "id": "70e54d7e",
   "metadata": {},
   "source": [
    "#### 1.3 Load Original Score"
   ]
  },
  {
   "cell_type": "code",
   "execution_count": 30,
   "id": "5356aa32",
   "metadata": {},
   "outputs": [
    {
     "data": {
      "application/javascript": [
       "\n",
       "            setTimeout(function() {\n",
       "                var nbb_cell_id = 30;\n",
       "                var nbb_unformatted_code = \"DRN_scores_t2m_dummy_10 = DRN_load_score_dummy_10(\\\"t2m\\\")\";\n",
       "                var nbb_formatted_code = \"DRN_scores_t2m_dummy_10 = DRN_load_score_dummy_10(\\\"t2m\\\")\";\n",
       "                var nbb_cells = Jupyter.notebook.get_cells();\n",
       "                for (var i = 0; i < nbb_cells.length; ++i) {\n",
       "                    if (nbb_cells[i].input_prompt_number == nbb_cell_id) {\n",
       "                        if (nbb_cells[i].get_text() == nbb_unformatted_code) {\n",
       "                             nbb_cells[i].set_text(nbb_formatted_code);\n",
       "                        }\n",
       "                        break;\n",
       "                    }\n",
       "                }\n",
       "            }, 500);\n",
       "            "
      ],
      "text/plain": [
       "<IPython.core.display.Javascript object>"
      ]
     },
     "metadata": {},
     "output_type": "display_data"
    }
   ],
   "source": [
    "DRN_scores_t2m_dummy_10 = DRN_load_score_dummy_10(\"t2m\")"
   ]
  },
  {
   "cell_type": "code",
   "execution_count": 35,
   "id": "efb6bb39",
   "metadata": {},
   "outputs": [
    {
     "data": {
      "text/plain": [
       "0.5471469141021699"
      ]
     },
     "execution_count": 35,
     "metadata": {},
     "output_type": "execute_result"
    },
    {
     "data": {
      "application/javascript": [
       "\n",
       "            setTimeout(function() {\n",
       "                var nbb_cell_id = 35;\n",
       "                var nbb_unformatted_code = \"DRN_scores_t2m_dummy_10[lead_time][0, 0]\";\n",
       "                var nbb_formatted_code = \"DRN_scores_t2m_dummy_10[lead_time][0, 0]\";\n",
       "                var nbb_cells = Jupyter.notebook.get_cells();\n",
       "                for (var i = 0; i < nbb_cells.length; ++i) {\n",
       "                    if (nbb_cells[i].input_prompt_number == nbb_cell_id) {\n",
       "                        if (nbb_cells[i].get_text() == nbb_unformatted_code) {\n",
       "                             nbb_cells[i].set_text(nbb_formatted_code);\n",
       "                        }\n",
       "                        break;\n",
       "                    }\n",
       "                }\n",
       "            }, 500);\n",
       "            "
      ],
      "text/plain": [
       "<IPython.core.display.Javascript object>"
      ]
     },
     "metadata": {},
     "output_type": "display_data"
    }
   ],
   "source": [
    "DRN_scores_t2m_dummy_10[lead_time][0, 0]"
   ]
  },
  {
   "cell_type": "code",
   "execution_count": 94,
   "id": "49878200",
   "metadata": {},
   "outputs": [
    {
     "data": {
      "application/javascript": [
       "\n",
       "            setTimeout(function() {\n",
       "                var nbb_cell_id = 94;\n",
       "                var nbb_unformatted_code = \"# Add dummy variable for land sea mask\\nland_sea_mask_dummy = np.load(\\n    \\\"/Data/Delong_BA_Data/land_sea_mask_dummy/land_sea_mask_dummy.npy\\\"\\n)\\nland_sea_mask_input = np.tile(land_sea_mask_dummy.flatten(), 357)\";\n",
       "                var nbb_formatted_code = \"# Add dummy variable for land sea mask\\nland_sea_mask_dummy = np.load(\\n    \\\"/Data/Delong_BA_Data/land_sea_mask_dummy/land_sea_mask_dummy.npy\\\"\\n)\\nland_sea_mask_input = np.tile(land_sea_mask_dummy.flatten(), 357)\";\n",
       "                var nbb_cells = Jupyter.notebook.get_cells();\n",
       "                for (var i = 0; i < nbb_cells.length; ++i) {\n",
       "                    if (nbb_cells[i].input_prompt_number == nbb_cell_id) {\n",
       "                        if (nbb_cells[i].get_text() == nbb_unformatted_code) {\n",
       "                             nbb_cells[i].set_text(nbb_formatted_code);\n",
       "                        }\n",
       "                        break;\n",
       "                    }\n",
       "                }\n",
       "            }, 500);\n",
       "            "
      ],
      "text/plain": [
       "<IPython.core.display.Javascript object>"
      ]
     },
     "metadata": {},
     "output_type": "display_data"
    }
   ],
   "source": [
    "# Add dummy variable for land sea mask\n",
    "land_sea_mask_dummy = np.load(\n",
    "    \"/Data/Delong_BA_Data/land_sea_mask_dummy/land_sea_mask_dummy.npy\"\n",
    ")\n",
    "land_sea_mask_input = np.tile(land_sea_mask_dummy.flatten(), 357)"
   ]
  },
  {
   "cell_type": "code",
   "execution_count": 95,
   "id": "e761b463",
   "metadata": {},
   "outputs": [
    {
     "data": {
      "application/javascript": [
       "\n",
       "            setTimeout(function() {\n",
       "                var nbb_cell_id = 95;\n",
       "                var nbb_unformatted_code = \"drn_X_test_lead_array_mask = np.column_stack(\\n    (drn_X_test_lead_array, land_sea_mask_input)\\n)\";\n",
       "                var nbb_formatted_code = \"drn_X_test_lead_array_mask = np.column_stack(\\n    (drn_X_test_lead_array, land_sea_mask_input)\\n)\";\n",
       "                var nbb_cells = Jupyter.notebook.get_cells();\n",
       "                for (var i = 0; i < nbb_cells.length; ++i) {\n",
       "                    if (nbb_cells[i].input_prompt_number == nbb_cell_id) {\n",
       "                        if (nbb_cells[i].get_text() == nbb_unformatted_code) {\n",
       "                             nbb_cells[i].set_text(nbb_formatted_code);\n",
       "                        }\n",
       "                        break;\n",
       "                    }\n",
       "                }\n",
       "            }, 500);\n",
       "            "
      ],
      "text/plain": [
       "<IPython.core.display.Javascript object>"
      ]
     },
     "metadata": {},
     "output_type": "display_data"
    }
   ],
   "source": [
    "drn_X_test_lead_array_mask = np.column_stack(\n",
    "    (drn_X_test_lead_array, land_sea_mask_input)\n",
    ")"
   ]
  },
  {
   "cell_type": "code",
   "execution_count": 100,
   "id": "373361ea",
   "metadata": {},
   "outputs": [
    {
     "data": {
      "text/plain": [
       "(357, 120, 130, 13)"
      ]
     },
     "execution_count": 100,
     "metadata": {},
     "output_type": "execute_result"
    },
    {
     "data": {
      "application/javascript": [
       "\n",
       "            setTimeout(function() {\n",
       "                var nbb_cell_id = 100;\n",
       "                var nbb_unformatted_code = \"drn_X_test_lead_array_mask.reshape(357, 120, 130, 13).shape\";\n",
       "                var nbb_formatted_code = \"drn_X_test_lead_array_mask.reshape(357, 120, 130, 13).shape\";\n",
       "                var nbb_cells = Jupyter.notebook.get_cells();\n",
       "                for (var i = 0; i < nbb_cells.length; ++i) {\n",
       "                    if (nbb_cells[i].input_prompt_number == nbb_cell_id) {\n",
       "                        if (nbb_cells[i].get_text() == nbb_unformatted_code) {\n",
       "                             nbb_cells[i].set_text(nbb_formatted_code);\n",
       "                        }\n",
       "                        break;\n",
       "                    }\n",
       "                }\n",
       "            }, 500);\n",
       "            "
      ],
      "text/plain": [
       "<IPython.core.display.Javascript object>"
      ]
     },
     "metadata": {},
     "output_type": "display_data"
    }
   ],
   "source": [
    "drn_X_test_lead_array_mask.reshape(357, 120, 130, 13).shape"
   ]
  },
  {
   "cell_type": "markdown",
   "id": "31d7b2e5",
   "metadata": {},
   "source": [
    "### 2. Make Permutated Scores"
   ]
  },
  {
   "cell_type": "code",
   "execution_count": 142,
   "id": "14d6bcb2",
   "metadata": {},
   "outputs": [
    {
     "data": {
      "application/javascript": [
       "\n",
       "            setTimeout(function() {\n",
       "                var nbb_cell_id = 142;\n",
       "                var nbb_unformatted_code = \"def permutation_feature_importance(var_num, lead_time, variable):\\n    \\\"\\\"\\\"\\n    Calculate feature importance based on permutations feature importance\\n    Args:\\n        var_num: 0 - 5\\n        lead_time: 0 - 31\\n        variable: 0 - 12 with order (u10_mean, u10_std, v10_mean, v10_std, t2m_mean ... grid_embedding)\\n    \\\"\\\"\\\"\\n    # Define the names of the variables\\n    var_names = [\\\"u10\\\", \\\"v10\\\", \\\"t2m\\\", \\\"t850\\\", \\\"z500\\\", \\\"ws10\\\"]\\n\\n    path = f\\\"/Data/Delong_BA_Data/models/DRN_10_dummy/DRN_{var_names[var_num]}_lead_time_{lead_time}_0_denormed_dummy.h5\\\"\\n    DRN_model = tf.keras.models.load_model(\\n        path,\\n        custom_objects={\\n            \\\"crps_cost_function\\\": crps_cost_function,\\n            \\\"crps_cost_function_trunc\\\": crps_cost_function_trunc,\\n        },\\n    )\\n\\n    # Add dummy variable for land sea mask\\n    land_sea_mask_dummy = np.load(\\n        \\\"/Data/Delong_BA_Data/land_sea_mask_dummy/land_sea_mask_dummy.npy\\\"\\n    )\\n    land_sea_mask_input = np.tile(land_sea_mask_dummy.flatten(), 357)\\n    # Load all test data of each variable\\n    test_var_denormed = ldpd.load_data_all_test_proc_denorm()\\n\\n    # Split the loaded data into features (X) and target (y)\\n    dat_X_test_lead_all_denorm, dat_y_test_lead_all_denorm = split_var_lead(\\n        test_var_denormed\\n    )\\n\\n    # Preprocess the features for Neural Network and scale them\\n    drn_X_test_lead_array, drn_embedding_test_lead_array = make_X_array(\\n        dat_X_test_lead_all_denorm, lead_time\\n    )\\n    drn_X_test_lead_array_mask = np.column_stack(\\n        (drn_X_test_lead_array, land_sea_mask_input)\\n    )\\n    drn_X_test_lead_array_reshaped = drn_X_test_lead_array_mask.reshape(\\n        357, 120, 130, 13\\n    )\\n    drn_embedding_test_lead_array_reshaped = drn_embedding_test_lead_array.reshape(\\n        357, 120, 130\\n    )\\n    # Reshape target values into a 1D array\\n    t2m_y_test_reshaped = dat_y_test_lead_all_denorm[var_num][lead_time].values\\n\\n    # Load dummy scores:\\n    DRN_scores_t2m_dummy_10 = DRN_load_score_dummy_10(\\\"t2m\\\")\\n\\n    permutation_feature_importance = np.zeros([120, 130])\\n    for lat in tqdm(range(120)):\\n        for lon in range(130):\\n            helper_array = np.copy(drn_X_test_lead_array_reshaped)\\n            helper_array[:, lat, lon, variable] = np.random.permutation(\\n                drn_X_test_lead_array_reshaped[:, lat, lon, variable]\\n            )\\n\\n            DRN_score_grid_point = DRN_model.evaluate(\\n                [\\n                    helper_array[:, lat, lon, :],\\n                    drn_embedding_test_lead_array_reshaped[:, lat, lon],\\n                ],\\n                t2m_y_test_reshaped[:, lat, lon],\\n                verbose=0,\\n            )\\n            permutation_feature_grid = (\\n                DRN_score_grid_point - DRN_scores_t2m_dummy_10[lead_time][lat, lon]\\n            )\\n            permutation_feature_importance[lat, lon] = permutation_feature_grid\\n\\n    return permutation_feature_importance\";\n",
       "                var nbb_formatted_code = \"def permutation_feature_importance(var_num, lead_time, variable):\\n    \\\"\\\"\\\"\\n    Calculate feature importance based on permutations feature importance\\n    Args:\\n        var_num: 0 - 5\\n        lead_time: 0 - 31\\n        variable: 0 - 12 with order (u10_mean, u10_std, v10_mean, v10_std, t2m_mean ... grid_embedding)\\n    \\\"\\\"\\\"\\n    # Define the names of the variables\\n    var_names = [\\\"u10\\\", \\\"v10\\\", \\\"t2m\\\", \\\"t850\\\", \\\"z500\\\", \\\"ws10\\\"]\\n\\n    path = f\\\"/Data/Delong_BA_Data/models/DRN_10_dummy/DRN_{var_names[var_num]}_lead_time_{lead_time}_0_denormed_dummy.h5\\\"\\n    DRN_model = tf.keras.models.load_model(\\n        path,\\n        custom_objects={\\n            \\\"crps_cost_function\\\": crps_cost_function,\\n            \\\"crps_cost_function_trunc\\\": crps_cost_function_trunc,\\n        },\\n    )\\n\\n    # Add dummy variable for land sea mask\\n    land_sea_mask_dummy = np.load(\\n        \\\"/Data/Delong_BA_Data/land_sea_mask_dummy/land_sea_mask_dummy.npy\\\"\\n    )\\n    land_sea_mask_input = np.tile(land_sea_mask_dummy.flatten(), 357)\\n    # Load all test data of each variable\\n    test_var_denormed = ldpd.load_data_all_test_proc_denorm()\\n\\n    # Split the loaded data into features (X) and target (y)\\n    dat_X_test_lead_all_denorm, dat_y_test_lead_all_denorm = split_var_lead(\\n        test_var_denormed\\n    )\\n\\n    # Preprocess the features for Neural Network and scale them\\n    drn_X_test_lead_array, drn_embedding_test_lead_array = make_X_array(\\n        dat_X_test_lead_all_denorm, lead_time\\n    )\\n    drn_X_test_lead_array_mask = np.column_stack(\\n        (drn_X_test_lead_array, land_sea_mask_input)\\n    )\\n    drn_X_test_lead_array_reshaped = drn_X_test_lead_array_mask.reshape(\\n        357, 120, 130, 13\\n    )\\n    drn_embedding_test_lead_array_reshaped = drn_embedding_test_lead_array.reshape(\\n        357, 120, 130\\n    )\\n    # Reshape target values into a 1D array\\n    t2m_y_test_reshaped = dat_y_test_lead_all_denorm[var_num][lead_time].values\\n\\n    # Load dummy scores:\\n    DRN_scores_t2m_dummy_10 = DRN_load_score_dummy_10(\\\"t2m\\\")\\n\\n    permutation_feature_importance = np.zeros([120, 130])\\n    for lat in tqdm(range(120)):\\n        for lon in range(130):\\n            helper_array = np.copy(drn_X_test_lead_array_reshaped)\\n            helper_array[:, lat, lon, variable] = np.random.permutation(\\n                drn_X_test_lead_array_reshaped[:, lat, lon, variable]\\n            )\\n\\n            DRN_score_grid_point = DRN_model.evaluate(\\n                [\\n                    helper_array[:, lat, lon, :],\\n                    drn_embedding_test_lead_array_reshaped[:, lat, lon],\\n                ],\\n                t2m_y_test_reshaped[:, lat, lon],\\n                verbose=0,\\n            )\\n            permutation_feature_grid = (\\n                DRN_score_grid_point - DRN_scores_t2m_dummy_10[lead_time][lat, lon]\\n            )\\n            permutation_feature_importance[lat, lon] = permutation_feature_grid\\n\\n    return permutation_feature_importance\";\n",
       "                var nbb_cells = Jupyter.notebook.get_cells();\n",
       "                for (var i = 0; i < nbb_cells.length; ++i) {\n",
       "                    if (nbb_cells[i].input_prompt_number == nbb_cell_id) {\n",
       "                        if (nbb_cells[i].get_text() == nbb_unformatted_code) {\n",
       "                             nbb_cells[i].set_text(nbb_formatted_code);\n",
       "                        }\n",
       "                        break;\n",
       "                    }\n",
       "                }\n",
       "            }, 500);\n",
       "            "
      ],
      "text/plain": [
       "<IPython.core.display.Javascript object>"
      ]
     },
     "metadata": {},
     "output_type": "display_data"
    }
   ],
   "source": [
    "def permutation_feature_importance(var_num, lead_time, variable):\n",
    "    \"\"\"\n",
    "    Calculate feature importance based on permutations feature importance\n",
    "    Args:\n",
    "        var_num: 0 - 5\n",
    "        lead_time: 0 - 31\n",
    "        variable: 0 - 12 with order (u10_mean, u10_std, v10_mean, v10_std, t2m_mean ... grid_embedding)\n",
    "    \"\"\"\n",
    "    # Define the names of the variables\n",
    "    var_names = [\"u10\", \"v10\", \"t2m\", \"t850\", \"z500\", \"ws10\"]\n",
    "\n",
    "    path = f\"/Data/Delong_BA_Data/models/DRN_10_dummy/DRN_{var_names[var_num]}_lead_time_{lead_time}_0_denormed_dummy.h5\"\n",
    "    DRN_model = tf.keras.models.load_model(\n",
    "        path,\n",
    "        custom_objects={\n",
    "            \"crps_cost_function\": crps_cost_function,\n",
    "            \"crps_cost_function_trunc\": crps_cost_function_trunc,\n",
    "        },\n",
    "    )\n",
    "\n",
    "    # Add dummy variable for land sea mask\n",
    "    land_sea_mask_dummy = np.load(\n",
    "        \"/Data/Delong_BA_Data/land_sea_mask_dummy/land_sea_mask_dummy.npy\"\n",
    "    )\n",
    "    land_sea_mask_input = np.tile(land_sea_mask_dummy.flatten(), 357)\n",
    "    # Load all test data of each variable\n",
    "    test_var_denormed = ldpd.load_data_all_test_proc_denorm()\n",
    "\n",
    "    # Split the loaded data into features (X) and target (y)\n",
    "    dat_X_test_lead_all_denorm, dat_y_test_lead_all_denorm = split_var_lead(\n",
    "        test_var_denormed\n",
    "    )\n",
    "\n",
    "    # Preprocess the features for Neural Network and scale them\n",
    "    drn_X_test_lead_array, drn_embedding_test_lead_array = make_X_array(\n",
    "        dat_X_test_lead_all_denorm, lead_time\n",
    "    )\n",
    "    drn_X_test_lead_array_mask = np.column_stack(\n",
    "        (drn_X_test_lead_array, land_sea_mask_input)\n",
    "    )\n",
    "    drn_X_test_lead_array_reshaped = drn_X_test_lead_array_mask.reshape(\n",
    "        357, 120, 130, 13\n",
    "    )\n",
    "    drn_embedding_test_lead_array_reshaped = drn_embedding_test_lead_array.reshape(\n",
    "        357, 120, 130\n",
    "    )\n",
    "    # Reshape target values into a 1D array\n",
    "    t2m_y_test_reshaped = dat_y_test_lead_all_denorm[var_num][lead_time].values\n",
    "\n",
    "    # Load dummy scores:\n",
    "    DRN_scores_t2m_dummy_10 = DRN_load_score_dummy_10(var_names[var_num])\n",
    "\n",
    "    permutation_feature_importance = np.zeros([120, 130])\n",
    "    for lat in tqdm(range(120)):\n",
    "        for lon in range(130):\n",
    "            helper_array = np.copy(drn_X_test_lead_array_reshaped)\n",
    "            helper_array[:, lat, lon, variable] = np.random.permutation(\n",
    "                drn_X_test_lead_array_reshaped[:, lat, lon, variable]\n",
    "            )\n",
    "\n",
    "            DRN_score_grid_point = DRN_model.evaluate(\n",
    "                [\n",
    "                    helper_array[:, lat, lon, :],\n",
    "                    drn_embedding_test_lead_array_reshaped[:, lat, lon],\n",
    "                ],\n",
    "                t2m_y_test_reshaped[:, lat, lon],\n",
    "                verbose=0,\n",
    "            )\n",
    "            permutation_feature_grid = (\n",
    "                DRN_score_grid_point - DRN_scores_t2m_dummy_10[lead_time][lat, lon]\n",
    "            )\n",
    "            permutation_feature_importance[lat, lon] = permutation_feature_grid\n",
    "\n",
    "    return permutation_feature_importance"
   ]
  },
  {
   "cell_type": "code",
   "execution_count": 143,
   "id": "fc080707",
   "metadata": {
    "scrolled": false
   },
   "outputs": [
    {
     "name": "stderr",
     "output_type": "stream",
     "text": [
      "100%|███████████████████████████████████████████████████████████████████████| 120/120 [53:03<00:00, 26.53s/it]\n"
     ]
    },
    {
     "data": {
      "application/javascript": [
       "\n",
       "            setTimeout(function() {\n",
       "                var nbb_cell_id = 143;\n",
       "                var nbb_unformatted_code = \"perm = permutation_feature_importance(2, 11, 0)\";\n",
       "                var nbb_formatted_code = \"perm = permutation_feature_importance(2, 11, 0)\";\n",
       "                var nbb_cells = Jupyter.notebook.get_cells();\n",
       "                for (var i = 0; i < nbb_cells.length; ++i) {\n",
       "                    if (nbb_cells[i].input_prompt_number == nbb_cell_id) {\n",
       "                        if (nbb_cells[i].get_text() == nbb_unformatted_code) {\n",
       "                             nbb_cells[i].set_text(nbb_formatted_code);\n",
       "                        }\n",
       "                        break;\n",
       "                    }\n",
       "                }\n",
       "            }, 500);\n",
       "            "
      ],
      "text/plain": [
       "<IPython.core.display.Javascript object>"
      ]
     },
     "metadata": {},
     "output_type": "display_data"
    }
   ],
   "source": [
    "perm = permutation_feature_importance(2, 11, 0)"
   ]
  },
  {
   "cell_type": "code",
   "execution_count": 144,
   "id": "154ac9d4",
   "metadata": {},
   "outputs": [
    {
     "data": {
      "image/png": "[encoded data removed]",
      "text/plain": [
       "<Figure size 432x288 with 2 Axes>"
      ]
     },
     "metadata": {
      "needs_background": "light"
     },
     "output_type": "display_data"
    },
    {
     "data": {
      "application/javascript": [
       "\n",
       "            setTimeout(function() {\n",
       "                var nbb_cell_id = 144;\n",
       "                var nbb_unformatted_code = \"plt.imshow(perm)\\nplt.colorbar()\\nplt.show()\";\n",
       "                var nbb_formatted_code = \"plt.imshow(perm)\\nplt.colorbar()\\nplt.show()\";\n",
       "                var nbb_cells = Jupyter.notebook.get_cells();\n",
       "                for (var i = 0; i < nbb_cells.length; ++i) {\n",
       "                    if (nbb_cells[i].input_prompt_number == nbb_cell_id) {\n",
       "                        if (nbb_cells[i].get_text() == nbb_unformatted_code) {\n",
       "                             nbb_cells[i].set_text(nbb_formatted_code);\n",
       "                        }\n",
       "                        break;\n",
       "                    }\n",
       "                }\n",
       "            }, 500);\n",
       "            "
      ],
      "text/plain": [
       "<IPython.core.display.Javascript object>"
      ]
     },
     "metadata": {},
     "output_type": "display_data"
    }
   ],
   "source": [
    "plt.imshow(perm)\n",
    "plt.colorbar()\n",
    "plt.show()"
   ]
  },
  {
   "cell_type": "markdown",
   "id": "a8793d92",
   "metadata": {},
   "source": [
    "### Make Permutation dummy and embedding"
   ]
  },
  {
   "cell_type": "code",
   "execution_count": 145,
   "id": "a53ee17c",
   "metadata": {},
   "outputs": [
    {
     "data": {
      "application/javascript": [
       "\n",
       "            setTimeout(function() {\n",
       "                var nbb_cell_id = 145;\n",
       "                var nbb_unformatted_code = \"def permutation_feature_importance_last_two(var_num, lead_time):\\n    \\\"\\\"\\\"\\n    Calculate feature importance based on permutations feature importance for last two\\n    Args:\\n        var_num: 0 - 5\\n        lead_time: 0 - 31\\n        variable: 0 - 12 with order (u10_mean, u10_std, v10_mean, v10_std, t2m_mean ... grid_embedding)\\n    \\\"\\\"\\\"\\n    # Define the names of the variables\\n    # Define the names of the variables\\n    var_names = [\\\"u10\\\", \\\"v10\\\", \\\"t2m\\\", \\\"t850\\\", \\\"z500\\\", \\\"ws10\\\"]\\n\\n    path = f\\\"/Data/Delong_BA_Data/models/DRN_10_dummy/DRN_{var_names[var_num]}_lead_time_{lead_time}_0_denormed_dummy.h5\\\"\\n    DRN_model = tf.keras.models.load_model(\\n        path,\\n        custom_objects={\\n            \\\"crps_cost_function\\\": crps_cost_function,\\n            \\\"crps_cost_function_trunc\\\": crps_cost_function_trunc,\\n        },\\n    )\\n\\n    # Add dummy variable for land sea mask\\n    land_sea_mask_dummy = np.load(\\n        \\\"/Data/Delong_BA_Data/land_sea_mask_dummy/land_sea_mask_dummy.npy\\\"\\n    )\\n    land_sea_mask_input = np.tile(land_sea_mask_dummy.flatten(), 357)\\n    # Load all test data of each variable\\n    test_var_denormed = ldpd.load_data_all_test_proc_denorm()\\n\\n    # Split the loaded data into features (X) and target (y)\\n    dat_X_test_lead_all_denorm, dat_y_test_lead_all_denorm = split_var_lead(\\n        test_var_denormed\\n    )\\n\\n    # Preprocess the features for Neural Network and scale them\\n    drn_X_test_lead_array, drn_embedding_test_lead_array = make_X_array(\\n        dat_X_test_lead_all_denorm, lead_time\\n    )\\n    drn_X_test_lead_array_mask = np.column_stack(\\n        (drn_X_test_lead_array, land_sea_mask_input)\\n    )\\n    # Reshape target values into a 1D array\\n    t2m_y_test = dat_y_test_lead_all_denorm[var_num][lead_time].values.flatten()\\n\\n    # Load scores:\\n    DRN_scores_t2m_dummy_10 = DRN_load_score_dummy_10(var_names[var_num])\\n    \\n    #Permutate last two scores:\\n    # First one:\\n    perm_values_1 = np.copy(drn_X_test_lead_array_mask)\\n    perm_values_1[:,12] = np.random.permutation(drn_X_test_lead_array_mask[:,12])\\n    \\n    land_sea_permutation_feature_importance_score = DRN_model.evaluate([\\n                    perm_values_1,\\n                    drn_embedding_test_lead_array,\\n                ],\\n                t2m_y_test,\\n                verbose=0,) - DRN_scores_t2m_dummy_10[lead_time].mean()\\n    \\n    # Second one:\\n    perm_values_2 = np.random.permutation(drn_embedding_test_lead_array)\\n    embedding_permutation_feature_importance_score = DRN_model.evaluate([\\n                drn_X_test_lead_array_mask,\\n                perm_values_2,\\n            ],\\n            t2m_y_test,\\n            verbose=0,) - DRN_scores_t2m_dummy_10[lead_time].mean()\\n    \\n    return land_sea_permutation_feature_importance_score, embedding_permutation_feature_importance_score\";\n",
       "                var nbb_formatted_code = \"def permutation_feature_importance_last_two(var_num, lead_time):\\n    \\\"\\\"\\\"\\n    Calculate feature importance based on permutations feature importance for last two\\n    Args:\\n        var_num: 0 - 5\\n        lead_time: 0 - 31\\n        variable: 0 - 12 with order (u10_mean, u10_std, v10_mean, v10_std, t2m_mean ... grid_embedding)\\n    \\\"\\\"\\\"\\n    # Define the names of the variables\\n    # Define the names of the variables\\n    var_names = [\\\"u10\\\", \\\"v10\\\", \\\"t2m\\\", \\\"t850\\\", \\\"z500\\\", \\\"ws10\\\"]\\n\\n    path = f\\\"/Data/Delong_BA_Data/models/DRN_10_dummy/DRN_{var_names[var_num]}_lead_time_{lead_time}_0_denormed_dummy.h5\\\"\\n    DRN_model = tf.keras.models.load_model(\\n        path,\\n        custom_objects={\\n            \\\"crps_cost_function\\\": crps_cost_function,\\n            \\\"crps_cost_function_trunc\\\": crps_cost_function_trunc,\\n        },\\n    )\\n\\n    # Add dummy variable for land sea mask\\n    land_sea_mask_dummy = np.load(\\n        \\\"/Data/Delong_BA_Data/land_sea_mask_dummy/land_sea_mask_dummy.npy\\\"\\n    )\\n    land_sea_mask_input = np.tile(land_sea_mask_dummy.flatten(), 357)\\n    # Load all test data of each variable\\n    test_var_denormed = ldpd.load_data_all_test_proc_denorm()\\n\\n    # Split the loaded data into features (X) and target (y)\\n    dat_X_test_lead_all_denorm, dat_y_test_lead_all_denorm = split_var_lead(\\n        test_var_denormed\\n    )\\n\\n    # Preprocess the features for Neural Network and scale them\\n    drn_X_test_lead_array, drn_embedding_test_lead_array = make_X_array(\\n        dat_X_test_lead_all_denorm, lead_time\\n    )\\n    drn_X_test_lead_array_mask = np.column_stack(\\n        (drn_X_test_lead_array, land_sea_mask_input)\\n    )\\n    # Reshape target values into a 1D array\\n    t2m_y_test = dat_y_test_lead_all_denorm[var_num][lead_time].values.flatten()\\n\\n    # Load scores:\\n    DRN_scores_t2m_dummy_10 = DRN_load_score_dummy_10(var_names[var_num])\\n\\n    # Permutate last two scores:\\n    # First one:\\n    perm_values_1 = np.copy(drn_X_test_lead_array_mask)\\n    perm_values_1[:, 12] = np.random.permutation(drn_X_test_lead_array_mask[:, 12])\\n\\n    land_sea_permutation_feature_importance_score = (\\n        DRN_model.evaluate(\\n            [perm_values_1, drn_embedding_test_lead_array,], t2m_y_test, verbose=0,\\n        )\\n        - DRN_scores_t2m_dummy_10[lead_time].mean()\\n    )\\n\\n    # Second one:\\n    perm_values_2 = np.random.permutation(drn_embedding_test_lead_array)\\n    embedding_permutation_feature_importance_score = (\\n        DRN_model.evaluate(\\n            [drn_X_test_lead_array_mask, perm_values_2,], t2m_y_test, verbose=0,\\n        )\\n        - DRN_scores_t2m_dummy_10[lead_time].mean()\\n    )\\n\\n    return (\\n        land_sea_permutation_feature_importance_score,\\n        embedding_permutation_feature_importance_score,\\n    )\";\n",
       "                var nbb_cells = Jupyter.notebook.get_cells();\n",
       "                for (var i = 0; i < nbb_cells.length; ++i) {\n",
       "                    if (nbb_cells[i].input_prompt_number == nbb_cell_id) {\n",
       "                        if (nbb_cells[i].get_text() == nbb_unformatted_code) {\n",
       "                             nbb_cells[i].set_text(nbb_formatted_code);\n",
       "                        }\n",
       "                        break;\n",
       "                    }\n",
       "                }\n",
       "            }, 500);\n",
       "            "
      ],
      "text/plain": [
       "<IPython.core.display.Javascript object>"
      ]
     },
     "metadata": {},
     "output_type": "display_data"
    }
   ],
   "source": [
    "def permutation_feature_importance_last_two(var_num, lead_time):\n",
    "    \"\"\"\n",
    "    Calculate feature importance based on permutations feature importance for last two\n",
    "    Args:\n",
    "        var_num: 0 - 5\n",
    "        lead_time: 0 - 31\n",
    "        variable: 0 - 12 with order (u10_mean, u10_std, v10_mean, v10_std, t2m_mean ... grid_embedding)\n",
    "    \"\"\"\n",
    "    # Define the names of the variables\n",
    "    # Define the names of the variables\n",
    "    var_names = [\"u10\", \"v10\", \"t2m\", \"t850\", \"z500\", \"ws10\"]\n",
    "\n",
    "    path = f\"/Data/Delong_BA_Data/models/DRN_10_dummy/DRN_{var_names[var_num]}_lead_time_{lead_time}_0_denormed_dummy.h5\"\n",
    "    DRN_model = tf.keras.models.load_model(\n",
    "        path,\n",
    "        custom_objects={\n",
    "            \"crps_cost_function\": crps_cost_function,\n",
    "            \"crps_cost_function_trunc\": crps_cost_function_trunc,\n",
    "        },\n",
    "    )\n",
    "\n",
    "    # Add dummy variable for land sea mask\n",
    "    land_sea_mask_dummy = np.load(\n",
    "        \"/Data/Delong_BA_Data/land_sea_mask_dummy/land_sea_mask_dummy.npy\"\n",
    "    )\n",
    "    land_sea_mask_input = np.tile(land_sea_mask_dummy.flatten(), 357)\n",
    "    # Load all test data of each variable\n",
    "    test_var_denormed = ldpd.load_data_all_test_proc_denorm()\n",
    "\n",
    "    # Split the loaded data into features (X) and target (y)\n",
    "    dat_X_test_lead_all_denorm, dat_y_test_lead_all_denorm = split_var_lead(\n",
    "        test_var_denormed\n",
    "    )\n",
    "\n",
    "    # Preprocess the features for Neural Network and scale them\n",
    "    drn_X_test_lead_array, drn_embedding_test_lead_array = make_X_array(\n",
    "        dat_X_test_lead_all_denorm, lead_time\n",
    "    )\n",
    "    drn_X_test_lead_array_mask = np.column_stack(\n",
    "        (drn_X_test_lead_array, land_sea_mask_input)\n",
    "    )\n",
    "    # Reshape target values into a 1D array\n",
    "    t2m_y_test = dat_y_test_lead_all_denorm[var_num][lead_time].values.flatten()\n",
    "\n",
    "    # Load scores:\n",
    "    DRN_scores_t2m_dummy_10 = DRN_load_score_dummy_10(var_names[var_num])\n",
    "\n",
    "    # Permutate last two scores:\n",
    "    # First one:\n",
    "    perm_values_1 = np.copy(drn_X_test_lead_array_mask)\n",
    "    perm_values_1[:, 12] = np.random.permutation(drn_X_test_lead_array_mask[:, 12])\n",
    "\n",
    "    land_sea_permutation_feature_importance_score = (\n",
    "        DRN_model.evaluate(\n",
    "            [perm_values_1, drn_embedding_test_lead_array,], t2m_y_test, verbose=0,\n",
    "        )\n",
    "        - DRN_scores_t2m_dummy_10[lead_time].mean()\n",
    "    )\n",
    "\n",
    "    # Second one:\n",
    "    perm_values_2 = np.random.permutation(drn_embedding_test_lead_array)\n",
    "    embedding_permutation_feature_importance_score = (\n",
    "        DRN_model.evaluate(\n",
    "            [drn_X_test_lead_array_mask, perm_values_2,], t2m_y_test, verbose=0,\n",
    "        )\n",
    "        - DRN_scores_t2m_dummy_10[lead_time].mean()\n",
    "    )\n",
    "\n",
    "    return (\n",
    "        land_sea_permutation_feature_importance_score,\n",
    "        embedding_permutation_feature_importance_score,\n",
    "    )"
   ]
  },
  {
   "cell_type": "code",
   "execution_count": 146,
   "id": "5443f3b4",
   "metadata": {},
   "outputs": [
    {
     "data": {
      "text/plain": [
       "array([13948,  3190,  8616, ..., 14318,  2723,   692])"
      ]
     },
     "execution_count": 146,
     "metadata": {},
     "output_type": "execute_result"
    },
    {
     "data": {
      "application/javascript": [
       "\n",
       "            setTimeout(function() {\n",
       "                var nbb_cell_id = 146;\n",
       "                var nbb_unformatted_code = \"np.random.permutation(drn_embedding_test_lead_array)\";\n",
       "                var nbb_formatted_code = \"np.random.permutation(drn_embedding_test_lead_array)\";\n",
       "                var nbb_cells = Jupyter.notebook.get_cells();\n",
       "                for (var i = 0; i < nbb_cells.length; ++i) {\n",
       "                    if (nbb_cells[i].input_prompt_number == nbb_cell_id) {\n",
       "                        if (nbb_cells[i].get_text() == nbb_unformatted_code) {\n",
       "                             nbb_cells[i].set_text(nbb_formatted_code);\n",
       "                        }\n",
       "                        break;\n",
       "                    }\n",
       "                }\n",
       "            }, 500);\n",
       "            "
      ],
      "text/plain": [
       "<IPython.core.display.Javascript object>"
      ]
     },
     "metadata": {},
     "output_type": "display_data"
    }
   ],
   "source": [
    "np.random.permutation(drn_embedding_test_lead_array)"
   ]
  },
  {
   "cell_type": "code",
   "execution_count": 147,
   "id": "e9a73325",
   "metadata": {},
   "outputs": [
    {
     "data": {
      "text/plain": [
       "array([    0,     1,     2, ..., 15597, 15598, 15599])"
      ]
     },
     "execution_count": 147,
     "metadata": {},
     "output_type": "execute_result"
    },
    {
     "data": {
      "application/javascript": [
       "\n",
       "            setTimeout(function() {\n",
       "                var nbb_cell_id = 147;\n",
       "                var nbb_unformatted_code = \"drn_embedding_test_lead_array\";\n",
       "                var nbb_formatted_code = \"drn_embedding_test_lead_array\";\n",
       "                var nbb_cells = Jupyter.notebook.get_cells();\n",
       "                for (var i = 0; i < nbb_cells.length; ++i) {\n",
       "                    if (nbb_cells[i].input_prompt_number == nbb_cell_id) {\n",
       "                        if (nbb_cells[i].get_text() == nbb_unformatted_code) {\n",
       "                             nbb_cells[i].set_text(nbb_formatted_code);\n",
       "                        }\n",
       "                        break;\n",
       "                    }\n",
       "                }\n",
       "            }, 500);\n",
       "            "
      ],
      "text/plain": [
       "<IPython.core.display.Javascript object>"
      ]
     },
     "metadata": {},
     "output_type": "display_data"
    }
   ],
   "source": [
    "drn_embedding_test_lead_array"
   ]
  },
  {
   "cell_type": "code",
   "execution_count": 148,
   "id": "0ff48b98",
   "metadata": {},
   "outputs": [
    {
     "data": {
      "application/javascript": [
       "\n",
       "            setTimeout(function() {\n",
       "                var nbb_cell_id = 148;\n",
       "                var nbb_unformatted_code = \"land_sea_permutation_feature_importance_score, embedding_permutation_feature_importance_score = permutation_feature_importance_last_two(2, 11)\";\n",
       "                var nbb_formatted_code = \"(\\n    land_sea_permutation_feature_importance_score,\\n    embedding_permutation_feature_importance_score,\\n) = permutation_feature_importance_last_two(2, 11)\";\n",
       "                var nbb_cells = Jupyter.notebook.get_cells();\n",
       "                for (var i = 0; i < nbb_cells.length; ++i) {\n",
       "                    if (nbb_cells[i].input_prompt_number == nbb_cell_id) {\n",
       "                        if (nbb_cells[i].get_text() == nbb_unformatted_code) {\n",
       "                             nbb_cells[i].set_text(nbb_formatted_code);\n",
       "                        }\n",
       "                        break;\n",
       "                    }\n",
       "                }\n",
       "            }, 500);\n",
       "            "
      ],
      "text/plain": [
       "<IPython.core.display.Javascript object>"
      ]
     },
     "metadata": {},
     "output_type": "display_data"
    }
   ],
   "source": [
    "(\n",
    "    land_sea_permutation_feature_importance_score,\n",
    "    embedding_permutation_feature_importance_score,\n",
    ") = permutation_feature_importance_last_two(2, 11)"
   ]
  },
  {
   "cell_type": "code",
   "execution_count": 149,
   "id": "15d69b10",
   "metadata": {},
   "outputs": [
    {
     "data": {
      "text/plain": [
       "0.6009533648913927"
      ]
     },
     "execution_count": 149,
     "metadata": {},
     "output_type": "execute_result"
    },
    {
     "data": {
      "application/javascript": [
       "\n",
       "            setTimeout(function() {\n",
       "                var nbb_cell_id = 149;\n",
       "                var nbb_unformatted_code = \"land_sea_permutation_feature_importance_score\";\n",
       "                var nbb_formatted_code = \"land_sea_permutation_feature_importance_score\";\n",
       "                var nbb_cells = Jupyter.notebook.get_cells();\n",
       "                for (var i = 0; i < nbb_cells.length; ++i) {\n",
       "                    if (nbb_cells[i].input_prompt_number == nbb_cell_id) {\n",
       "                        if (nbb_cells[i].get_text() == nbb_unformatted_code) {\n",
       "                             nbb_cells[i].set_text(nbb_formatted_code);\n",
       "                        }\n",
       "                        break;\n",
       "                    }\n",
       "                }\n",
       "            }, 500);\n",
       "            "
      ],
      "text/plain": [
       "<IPython.core.display.Javascript object>"
      ]
     },
     "metadata": {},
     "output_type": "display_data"
    }
   ],
   "source": [
    "land_sea_permutation_feature_importance_score"
   ]
  },
  {
   "cell_type": "code",
   "execution_count": 150,
   "id": "3934b406",
   "metadata": {},
   "outputs": [
    {
     "data": {
      "text/plain": [
       "0.6186617856448717"
      ]
     },
     "execution_count": 150,
     "metadata": {},
     "output_type": "execute_result"
    },
    {
     "data": {
      "application/javascript": [
       "\n",
       "            setTimeout(function() {\n",
       "                var nbb_cell_id = 150;\n",
       "                var nbb_unformatted_code = \"embedding_permutation_feature_importance_score\";\n",
       "                var nbb_formatted_code = \"embedding_permutation_feature_importance_score\";\n",
       "                var nbb_cells = Jupyter.notebook.get_cells();\n",
       "                for (var i = 0; i < nbb_cells.length; ++i) {\n",
       "                    if (nbb_cells[i].input_prompt_number == nbb_cell_id) {\n",
       "                        if (nbb_cells[i].get_text() == nbb_unformatted_code) {\n",
       "                             nbb_cells[i].set_text(nbb_formatted_code);\n",
       "                        }\n",
       "                        break;\n",
       "                    }\n",
       "                }\n",
       "            }, 500);\n",
       "            "
      ],
      "text/plain": [
       "<IPython.core.display.Javascript object>"
      ]
     },
     "metadata": {},
     "output_type": "display_data"
    }
   ],
   "source": [
    "embedding_permutation_feature_importance_score"
   ]
  },
  {
   "cell_type": "code",
   "execution_count": null,
   "id": "121ea2a5",
   "metadata": {},
   "outputs": [],
   "source": []
  }
 ],
 "metadata": {
  "kernelspec": {
   "display_name": "Python 3 (ipykernel)",
   "language": "python",
   "name": "python3"
  },
  "language_info": {
   "codemirror_mode": {
    "name": "ipython",
    "version": 3
   },
   "file_extension": ".py",
   "mimetype": "text/x-python",
   "name": "python",
   "nbconvert_exporter": "python",
   "pygments_lexer": "ipython3",
   "version": "3.9.7"
  }
 },
 "nbformat": 4,
 "nbformat_minor": 5
}
