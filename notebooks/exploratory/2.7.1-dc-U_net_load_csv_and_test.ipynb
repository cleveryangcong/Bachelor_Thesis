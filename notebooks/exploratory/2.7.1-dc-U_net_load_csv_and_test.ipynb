{
 "cells": [
  {
   "cell_type": "code",
   "execution_count": 1,
   "id": "3c54516a",
   "metadata": {},
   "outputs": [
    {
     "data": {
      "application/javascript": [
       "\n",
       "            setTimeout(function() {\n",
       "                var nbb_cell_id = 1;\n",
       "                var nbb_unformatted_code = \"%load_ext nb_black\";\n",
       "                var nbb_formatted_code = \"%load_ext nb_black\";\n",
       "                var nbb_cells = Jupyter.notebook.get_cells();\n",
       "                for (var i = 0; i < nbb_cells.length; ++i) {\n",
       "                    if (nbb_cells[i].input_prompt_number == nbb_cell_id) {\n",
       "                        if (nbb_cells[i].get_text() == nbb_unformatted_code) {\n",
       "                             nbb_cells[i].set_text(nbb_formatted_code);\n",
       "                        }\n",
       "                        break;\n",
       "                    }\n",
       "                }\n",
       "            }, 500);\n",
       "            "
      ],
      "text/plain": [
       "<IPython.core.display.Javascript object>"
      ]
     },
     "metadata": {},
     "output_type": "display_data"
    }
   ],
   "source": [
    "%load_ext nb_black"
   ]
  },
  {
   "cell_type": "code",
   "execution_count": 2,
   "id": "72d114f1",
   "metadata": {
    "scrolled": false
   },
   "outputs": [
    {
     "data": {
      "application/javascript": [
       "\n",
       "            setTimeout(function() {\n",
       "                var nbb_cell_id = 2;\n",
       "                var nbb_unformatted_code = \"import sys\\n\\nsys.path.append(\\\"/home/dchen/BA_CH_EN/\\\")\\n\\n# Basics\\nimport tensorflow as tf\\nimport xarray as xr\\nimport pandas as pd\\n\\n# Helpful\\nfrom tqdm import tqdm\\n\\n# Visualization\\nimport matplotlib.pyplot as plt\\n\\n# My Methods\\nfrom src.utils.CRPS import *  # CRPS metrics\\nfrom src.utils.data_split import *  # Splitting data into X and y\\nfrom src.utils.drn_make_X_array import *  # Import make train array functions (make_X_array)\\nfrom src.models.EMOS import *  # EMOS implementation\\nfrom src.models.DRN.DRN_model import *  # DRN implementation\\nfrom src.models.EMOS_global.EMOS_global_load_score import *  # Load EMOS_global_scores\\nfrom src.models.EMOS_global.EMOS_global_load_model import *  # Load EMOS_global_models\\nimport data.raw.load_data_raw as ldr  # Load raw data\\nimport data.processed.load_data_processed as ldp  # Load processed data normed\\nimport data.processed.load_data_processed_denormed as ldpd  # Load processed data denormed\\nfrom src.models.CRPS_baseline.CRPS_load import *  # Load CRPS scores\\nfrom src.models.U_net.unet import Unet\\nfrom src.models.U_net.u_net_tests_params import *\";\n",
       "                var nbb_formatted_code = \"import sys\\n\\nsys.path.append(\\\"/home/dchen/BA_CH_EN/\\\")\\n\\n# Basics\\nimport tensorflow as tf\\nimport xarray as xr\\nimport pandas as pd\\n\\n# Helpful\\nfrom tqdm import tqdm\\n\\n# Visualization\\nimport matplotlib.pyplot as plt\\n\\n# My Methods\\nfrom src.utils.CRPS import *  # CRPS metrics\\nfrom src.utils.data_split import *  # Splitting data into X and y\\nfrom src.utils.drn_make_X_array import *  # Import make train array functions (make_X_array)\\nfrom src.models.EMOS import *  # EMOS implementation\\nfrom src.models.DRN.DRN_model import *  # DRN implementation\\nfrom src.models.EMOS_global.EMOS_global_load_score import *  # Load EMOS_global_scores\\nfrom src.models.EMOS_global.EMOS_global_load_model import *  # Load EMOS_global_models\\nimport data.raw.load_data_raw as ldr  # Load raw data\\nimport data.processed.load_data_processed as ldp  # Load processed data normed\\nimport data.processed.load_data_processed_denormed as ldpd  # Load processed data denormed\\nfrom src.models.CRPS_baseline.CRPS_load import *  # Load CRPS scores\\nfrom src.models.U_net.unet import Unet\\nfrom src.models.U_net.u_net_tests_params import *\";\n",
       "                var nbb_cells = Jupyter.notebook.get_cells();\n",
       "                for (var i = 0; i < nbb_cells.length; ++i) {\n",
       "                    if (nbb_cells[i].input_prompt_number == nbb_cell_id) {\n",
       "                        if (nbb_cells[i].get_text() == nbb_unformatted_code) {\n",
       "                             nbb_cells[i].set_text(nbb_formatted_code);\n",
       "                        }\n",
       "                        break;\n",
       "                    }\n",
       "                }\n",
       "            }, 500);\n",
       "            "
      ],
      "text/plain": [
       "<IPython.core.display.Javascript object>"
      ]
     },
     "metadata": {},
     "output_type": "display_data"
    }
   ],
   "source": [
    "import sys\n",
    "\n",
    "sys.path.append(\"/home/dchen/BA_CH_EN/\")\n",
    "\n",
    "# Basics\n",
    "import tensorflow as tf\n",
    "import xarray as xr\n",
    "import pandas as pd\n",
    "\n",
    "# Helpful\n",
    "from tqdm import tqdm\n",
    "\n",
    "# Visualization\n",
    "import matplotlib.pyplot as plt\n",
    "\n",
    "# My Methods\n",
    "from src.utils.CRPS import *  # CRPS metrics\n",
    "from src.utils.data_split import *  # Splitting data into X and y\n",
    "from src.utils.drn_make_X_array import *  # Import make train array functions (make_X_array)\n",
    "from src.models.EMOS import *  # EMOS implementation\n",
    "from src.models.DRN.DRN_model import *  # DRN implementation\n",
    "from src.models.EMOS_global.EMOS_global_load_score import *  # Load EMOS_global_scores\n",
    "from src.models.EMOS_global.EMOS_global_load_model import *  # Load EMOS_global_models\n",
    "import data.raw.load_data_raw as ldr  # Load raw data\n",
    "import data.processed.load_data_processed as ldp  # Load processed data normed\n",
    "import data.processed.load_data_processed_denormed as ldpd  # Load processed data denormed\n",
    "from src.models.CRPS_baseline.CRPS_load import *  # Load CRPS scores\n",
    "from src.models.U_net.unet import Unet\n",
    "from src.models.U_net.u_net_tests_params import *"
   ]
  },
  {
   "cell_type": "markdown",
   "id": "5b6a2ff0",
   "metadata": {},
   "source": [
    "### 0. Set Up"
   ]
  },
  {
   "cell_type": "code",
   "execution_count": 4,
   "id": "c5cf5c25",
   "metadata": {},
   "outputs": [
    {
     "data": {
      "application/javascript": [
       "\n",
       "            setTimeout(function() {\n",
       "                var nbb_cell_id = 4;\n",
       "                var nbb_unformatted_code = \"lead_time = 0\\nvar_num = 2\\n\\nland_sea_mask_dummy = np.load(\\n    \\\"/Data/Delong_BA_Data/land_sea_mask_dummy/land_sea_mask_dummy.npy\\\"\\n)\\nland_sea_mask_dummy = pad_land_sea_mask(land_sea_mask_dummy)\\nland_sea_mask_dummy = np.repeat(land_sea_mask_dummy[np.newaxis, ...], 357, axis=0)\\n\\n# load data\\ntest_var_mean = []\\ntest_var_std = []\\ntest_var_y = []\\nfor var in range(6):\\n    (\\n        padded_test_data_mean,\\n        padded_test_data_std,\\n        padded_test_data_y,\\n    ) = u_net_load_test_data(var, lead_time)\\n    test_var_mean.append(padded_test_data_mean)\\n    test_var_std.append(padded_test_data_std)\\n    test_var_y.append(padded_test_data_y)\\n\\n# Then, pack all of your input data into a list\\ntest_inputs = test_var_mean + test_var_std + [land_sea_mask_dummy]\\n\\ntest_target = test_var_y[var_num]\";\n",
       "                var nbb_formatted_code = \"lead_time = 0\\nvar_num = 2\\n\\nland_sea_mask_dummy = np.load(\\n    \\\"/Data/Delong_BA_Data/land_sea_mask_dummy/land_sea_mask_dummy.npy\\\"\\n)\\nland_sea_mask_dummy = pad_land_sea_mask(land_sea_mask_dummy)\\nland_sea_mask_dummy = np.repeat(land_sea_mask_dummy[np.newaxis, ...], 357, axis=0)\\n\\n# load data\\ntest_var_mean = []\\ntest_var_std = []\\ntest_var_y = []\\nfor var in range(6):\\n    (\\n        padded_test_data_mean,\\n        padded_test_data_std,\\n        padded_test_data_y,\\n    ) = u_net_load_test_data(var, lead_time)\\n    test_var_mean.append(padded_test_data_mean)\\n    test_var_std.append(padded_test_data_std)\\n    test_var_y.append(padded_test_data_y)\\n\\n# Then, pack all of your input data into a list\\ntest_inputs = test_var_mean + test_var_std + [land_sea_mask_dummy]\\n\\ntest_target = test_var_y[var_num]\";\n",
       "                var nbb_cells = Jupyter.notebook.get_cells();\n",
       "                for (var i = 0; i < nbb_cells.length; ++i) {\n",
       "                    if (nbb_cells[i].input_prompt_number == nbb_cell_id) {\n",
       "                        if (nbb_cells[i].get_text() == nbb_unformatted_code) {\n",
       "                             nbb_cells[i].set_text(nbb_formatted_code);\n",
       "                        }\n",
       "                        break;\n",
       "                    }\n",
       "                }\n",
       "            }, 500);\n",
       "            "
      ],
      "text/plain": [
       "<IPython.core.display.Javascript object>"
      ]
     },
     "metadata": {},
     "output_type": "display_data"
    }
   ],
   "source": [
    "lead_time = 0\n",
    "var_num = 2\n",
    "\n",
    "land_sea_mask_dummy = np.load(\n",
    "    \"/Data/Delong_BA_Data/land_sea_mask_dummy/land_sea_mask_dummy.npy\"\n",
    ")\n",
    "land_sea_mask_dummy = pad_land_sea_mask(land_sea_mask_dummy)\n",
    "land_sea_mask_dummy = np.repeat(land_sea_mask_dummy[np.newaxis, ...], 357, axis=0)\n",
    "\n",
    "# load data\n",
    "test_var_mean = []\n",
    "test_var_std = []\n",
    "test_var_y = []\n",
    "for var in range(6):\n",
    "    (\n",
    "        padded_test_data_mean,\n",
    "        padded_test_data_std,\n",
    "        padded_test_data_y,\n",
    "    ) = u_net_load_test_data(var, lead_time)\n",
    "    test_var_mean.append(padded_test_data_mean)\n",
    "    test_var_std.append(padded_test_data_std)\n",
    "    test_var_y.append(padded_test_data_y)\n",
    "\n",
    "# Then, pack all of your input data into a list\n",
    "test_inputs = test_var_mean + test_var_std + [land_sea_mask_dummy]\n",
    "\n",
    "test_target = test_var_y[var_num]"
   ]
  },
  {
   "cell_type": "code",
   "execution_count": 7,
   "id": "acc4d0b3",
   "metadata": {},
   "outputs": [
    {
     "data": {
      "application/javascript": [
       "\n",
       "            setTimeout(function() {\n",
       "                var nbb_cell_id = 7;\n",
       "                var nbb_unformatted_code = \"def plot_losses(csv_filepath, starting_epoch=0, ending_epoch=300):\\n    # Load the csv file into a pandas DataFrame\\n    data = pd.read_csv(csv_filepath).iloc[starting_epoch:ending_epoch]\\n\\n    # Create a new figure\\n    plt.figure(figsize=(10, 5))\\n\\n    # Plot the training loss\\n    plt.plot(data[\\\"epoch\\\"], data[\\\"loss\\\"], label=\\\"Train Loss\\\")\\n\\n    # Plot the validation loss\\n    plt.plot(data[\\\"epoch\\\"], data[\\\"val_loss\\\"], label=\\\"Validation Loss\\\")\\n\\n    # Set the labels for the x and y axes\\n    plt.xlabel(\\\"Epochs\\\")\\n    plt.ylabel(\\\"Loss\\\")\\n\\n    # Set the title for the plot\\n    plt.title(\\\"Training and Validation Loss\\\")\\n\\n    # Enable the legend\\n    plt.legend()\\n\\n    # Display the plot\\n    plt.show()\\n    return data\";\n",
       "                var nbb_formatted_code = \"def plot_losses(csv_filepath, starting_epoch=0, ending_epoch=300):\\n    # Load the csv file into a pandas DataFrame\\n    data = pd.read_csv(csv_filepath).iloc[starting_epoch:ending_epoch]\\n\\n    # Create a new figure\\n    plt.figure(figsize=(10, 5))\\n\\n    # Plot the training loss\\n    plt.plot(data[\\\"epoch\\\"], data[\\\"loss\\\"], label=\\\"Train Loss\\\")\\n\\n    # Plot the validation loss\\n    plt.plot(data[\\\"epoch\\\"], data[\\\"val_loss\\\"], label=\\\"Validation Loss\\\")\\n\\n    # Set the labels for the x and y axes\\n    plt.xlabel(\\\"Epochs\\\")\\n    plt.ylabel(\\\"Loss\\\")\\n\\n    # Set the title for the plot\\n    plt.title(\\\"Training and Validation Loss\\\")\\n\\n    # Enable the legend\\n    plt.legend()\\n\\n    # Display the plot\\n    plt.show()\\n    return data\";\n",
       "                var nbb_cells = Jupyter.notebook.get_cells();\n",
       "                for (var i = 0; i < nbb_cells.length; ++i) {\n",
       "                    if (nbb_cells[i].input_prompt_number == nbb_cell_id) {\n",
       "                        if (nbb_cells[i].get_text() == nbb_unformatted_code) {\n",
       "                             nbb_cells[i].set_text(nbb_formatted_code);\n",
       "                        }\n",
       "                        break;\n",
       "                    }\n",
       "                }\n",
       "            }, 500);\n",
       "            "
      ],
      "text/plain": [
       "<IPython.core.display.Javascript object>"
      ]
     },
     "metadata": {},
     "output_type": "display_data"
    }
   ],
   "source": [
    "def plot_losses(csv_filepath, starting_epoch=0, ending_epoch=300):\n",
    "    # Load the csv file into a pandas DataFrame\n",
    "    data = pd.read_csv(csv_filepath).iloc[starting_epoch:ending_epoch]\n",
    "\n",
    "    # Create a new figure\n",
    "    plt.figure(figsize=(10, 5))\n",
    "\n",
    "    # Plot the training loss\n",
    "    plt.plot(data[\"epoch\"], data[\"loss\"], label=\"Train Loss\")\n",
    "\n",
    "    # Plot the validation loss\n",
    "    plt.plot(data[\"epoch\"], data[\"val_loss\"], label=\"Validation Loss\")\n",
    "\n",
    "    # Set the labels for the x and y axes\n",
    "    plt.xlabel(\"Epochs\")\n",
    "    plt.ylabel(\"Loss\")\n",
    "\n",
    "    # Set the title for the plot\n",
    "    plt.title(\"Training and Validation Loss\")\n",
    "\n",
    "    # Enable the legend\n",
    "    plt.legend()\n",
    "\n",
    "    # Display the plot\n",
    "    plt.show()\n",
    "    return data"
   ]
  },
  {
   "cell_type": "code",
   "execution_count": 59,
   "id": "04cba359",
   "metadata": {},
   "outputs": [
    {
     "data": {
      "application/javascript": [
       "\n",
       "            setTimeout(function() {\n",
       "                var nbb_cell_id = 59;\n",
       "                var nbb_unformatted_code = \"def test_best_model(path, var_num, lead_time):\\n\\n    model = tf.keras.models.load_model(path)\\n    # load land_sea_mask\\n    land_sea_mask_dummy = np.load(\\n        \\\"/Data/Delong_BA_Data/land_sea_mask_dummy/land_sea_mask_dummy.npy\\\"\\n    )\\n    land_sea_mask_dummy = pad_land_sea_mask(land_sea_mask_dummy)\\n    land_sea_mask_dummy = np.repeat(land_sea_mask_dummy[np.newaxis, ...], 357, axis=0)\\n\\n    # load data\\n    test_var_mean = []\\n    test_var_std = []\\n    test_var_y = []\\n    for var in range(6):\\n        (\\n            padded_test_data_mean,\\n            padded_test_data_std,\\n            padded_test_data_y,\\n        ) = u_net_load_test_data(var, lead_time)\\n        test_var_mean.append(padded_test_data_mean)\\n        test_var_std.append(padded_test_data_std)\\n        test_var_y.append(padded_test_data_y)\\n\\n    # Then, pack all of your input data into a list\\n    test_inputs = test_var_mean + test_var_std + [land_sea_mask_dummy]\\n\\n    test_target = test_var_y[var_num]\\n\\n    scores = model.evaluate(test_inouts, test_target, verbose=1)\\n    return scores\";\n",
       "                var nbb_formatted_code = \"def test_best_model(path, var_num, lead_time):\\n\\n    model = tf.keras.models.load_model(path)\\n    # load land_sea_mask\\n    land_sea_mask_dummy = np.load(\\n        \\\"/Data/Delong_BA_Data/land_sea_mask_dummy/land_sea_mask_dummy.npy\\\"\\n    )\\n    land_sea_mask_dummy = pad_land_sea_mask(land_sea_mask_dummy)\\n    land_sea_mask_dummy = np.repeat(land_sea_mask_dummy[np.newaxis, ...], 357, axis=0)\\n\\n    # load data\\n    test_var_mean = []\\n    test_var_std = []\\n    test_var_y = []\\n    for var in range(6):\\n        (\\n            padded_test_data_mean,\\n            padded_test_data_std,\\n            padded_test_data_y,\\n        ) = u_net_load_test_data(var, lead_time)\\n        test_var_mean.append(padded_test_data_mean)\\n        test_var_std.append(padded_test_data_std)\\n        test_var_y.append(padded_test_data_y)\\n\\n    # Then, pack all of your input data into a list\\n    test_inputs = test_var_mean + test_var_std + [land_sea_mask_dummy]\\n\\n    test_target = test_var_y[var_num]\\n\\n    scores = model.evaluate(test_inouts, test_target, verbose=1)\\n    return scores\";\n",
       "                var nbb_cells = Jupyter.notebook.get_cells();\n",
       "                for (var i = 0; i < nbb_cells.length; ++i) {\n",
       "                    if (nbb_cells[i].input_prompt_number == nbb_cell_id) {\n",
       "                        if (nbb_cells[i].get_text() == nbb_unformatted_code) {\n",
       "                             nbb_cells[i].set_text(nbb_formatted_code);\n",
       "                        }\n",
       "                        break;\n",
       "                    }\n",
       "                }\n",
       "            }, 500);\n",
       "            "
      ],
      "text/plain": [
       "<IPython.core.display.Javascript object>"
      ]
     },
     "metadata": {},
     "output_type": "display_data"
    }
   ],
   "source": [
    "def test_best_model(path, var_num, lead_time):\n",
    "\n",
    "    model = tf.keras.models.load_model(path)\n",
    "    # load land_sea_mask\n",
    "    land_sea_mask_dummy = np.load(\n",
    "        \"/Data/Delong_BA_Data/land_sea_mask_dummy/land_sea_mask_dummy.npy\"\n",
    "    )\n",
    "    land_sea_mask_dummy = pad_land_sea_mask(land_sea_mask_dummy)\n",
    "    land_sea_mask_dummy = np.repeat(land_sea_mask_dummy[np.newaxis, ...], 357, axis=0)\n",
    "        # load data\n",
    "    test_var_mean = []\n",
    "    test_var_std = []\n",
    "    test_var_y = []\n",
    "    for var in range(6):\n",
    "        (\n",
    "            padded_test_data_mean,\n",
    "            padded_test_data_std,\n",
    "            padded_test_data_y,\n",
    "        ) = u_net_load_test_data(var, lead_time)\n",
    "        test_var_mean.append(padded_test_data_mean)\n",
    "        test_var_std.append(padded_test_data_std)\n",
    "        test_var_y.append(padded_test_data_y)\n",
    "\n",
    "    # Then, pack all of your input data into a list\n",
    "    test_inputs = test_var_mean + test_var_std + [land_sea_mask_dummy]\n",
    "\n",
    "    test_target = test_var_y[var_num]\n",
    "\n",
    "    scores = model.evaluate(test_inouts, test_target, verbose=1)\n",
    "    return scores"
   ]
  },
  {
   "cell_type": "markdown",
   "id": "a7df2864",
   "metadata": {},
   "source": [
    "### Run 1:"
   ]
  },
  {
   "cell_type": "code",
   "execution_count": 52,
   "id": "b96139ab",
   "metadata": {},
   "outputs": [
    {
     "data": {
      "image/png": "[encoded data removed]",
      "text/plain": [
       "<Figure size 720x360 with 1 Axes>"
      ]
     },
     "metadata": {
      "needs_background": "light"
     },
     "output_type": "display_data"
    },
    {
     "data": {
      "text/html": [
       "<div>\n",
       "<style scoped>\n",
       "    .dataframe tbody tr th:only-of-type {\n",
       "        vertical-align: middle;\n",
       "    }\n",
       "\n",
       "    .dataframe tbody tr th {\n",
       "        vertical-align: top;\n",
       "    }\n",
       "\n",
       "    .dataframe thead th {\n",
       "        text-align: right;\n",
       "    }\n",
       "</style>\n",
       "<table border=\"1\" class=\"dataframe\">\n",
       "  <thead>\n",
       "    <tr style=\"text-align: right;\">\n",
       "      <th></th>\n",
       "      <th>epoch</th>\n",
       "      <th>loss</th>\n",
       "      <th>val_loss</th>\n",
       "    </tr>\n",
       "  </thead>\n",
       "  <tbody>\n",
       "    <tr>\n",
       "      <th>0</th>\n",
       "      <td>0</td>\n",
       "      <td>283.153992</td>\n",
       "      <td>283.555328</td>\n",
       "    </tr>\n",
       "    <tr>\n",
       "      <th>1</th>\n",
       "      <td>1</td>\n",
       "      <td>282.252716</td>\n",
       "      <td>282.530060</td>\n",
       "    </tr>\n",
       "    <tr>\n",
       "      <th>2</th>\n",
       "      <td>2</td>\n",
       "      <td>282.065063</td>\n",
       "      <td>280.831268</td>\n",
       "    </tr>\n",
       "    <tr>\n",
       "      <th>3</th>\n",
       "      <td>3</td>\n",
       "      <td>281.963440</td>\n",
       "      <td>281.551117</td>\n",
       "    </tr>\n",
       "    <tr>\n",
       "      <th>4</th>\n",
       "      <td>4</td>\n",
       "      <td>281.875671</td>\n",
       "      <td>282.076324</td>\n",
       "    </tr>\n",
       "    <tr>\n",
       "      <th>...</th>\n",
       "      <td>...</td>\n",
       "      <td>...</td>\n",
       "      <td>...</td>\n",
       "    </tr>\n",
       "    <tr>\n",
       "      <th>145</th>\n",
       "      <td>145</td>\n",
       "      <td>264.116669</td>\n",
       "      <td>263.834778</td>\n",
       "    </tr>\n",
       "    <tr>\n",
       "      <th>146</th>\n",
       "      <td>146</td>\n",
       "      <td>263.933044</td>\n",
       "      <td>263.697632</td>\n",
       "    </tr>\n",
       "    <tr>\n",
       "      <th>147</th>\n",
       "      <td>147</td>\n",
       "      <td>263.749084</td>\n",
       "      <td>263.432617</td>\n",
       "    </tr>\n",
       "    <tr>\n",
       "      <th>148</th>\n",
       "      <td>148</td>\n",
       "      <td>263.565308</td>\n",
       "      <td>263.070068</td>\n",
       "    </tr>\n",
       "    <tr>\n",
       "      <th>149</th>\n",
       "      <td>149</td>\n",
       "      <td>263.378632</td>\n",
       "      <td>262.743011</td>\n",
       "    </tr>\n",
       "  </tbody>\n",
       "</table>\n",
       "<p>150 rows × 3 columns</p>\n",
       "</div>"
      ],
      "text/plain": [
       "     epoch        loss    val_loss\n",
       "0        0  283.153992  283.555328\n",
       "1        1  282.252716  282.530060\n",
       "2        2  282.065063  280.831268\n",
       "3        3  281.963440  281.551117\n",
       "4        4  281.875671  282.076324\n",
       "..     ...         ...         ...\n",
       "145    145  264.116669  263.834778\n",
       "146    146  263.933044  263.697632\n",
       "147    147  263.749084  263.432617\n",
       "148    148  263.565308  263.070068\n",
       "149    149  263.378632  262.743011\n",
       "\n",
       "[150 rows x 3 columns]"
      ]
     },
     "execution_count": 52,
     "metadata": {},
     "output_type": "execute_result"
    },
    {
     "data": {
      "application/javascript": [
       "\n",
       "            setTimeout(function() {\n",
       "                var nbb_cell_id = 52;\n",
       "                var nbb_unformatted_code = \"plot_losses(\\n    \\\"/Data/Delong_BA_Data/models/U_net/csv_log/_training_log_var_2_lead_0_lr_0.0001_ep_150_bs_64_filters16.csv\\\"\\n)\";\n",
       "                var nbb_formatted_code = \"plot_losses(\\n    \\\"/Data/Delong_BA_Data/models/U_net/csv_log/_training_log_var_2_lead_0_lr_0.0001_ep_150_bs_64_filters16.csv\\\"\\n)\";\n",
       "                var nbb_cells = Jupyter.notebook.get_cells();\n",
       "                for (var i = 0; i < nbb_cells.length; ++i) {\n",
       "                    if (nbb_cells[i].input_prompt_number == nbb_cell_id) {\n",
       "                        if (nbb_cells[i].get_text() == nbb_unformatted_code) {\n",
       "                             nbb_cells[i].set_text(nbb_formatted_code);\n",
       "                        }\n",
       "                        break;\n",
       "                    }\n",
       "                }\n",
       "            }, 500);\n",
       "            "
      ],
      "text/plain": [
       "<IPython.core.display.Javascript object>"
      ]
     },
     "metadata": {},
     "output_type": "display_data"
    }
   ],
   "source": [
    "plot_losses(\n",
    "    \"/Data/Delong_BA_Data/models/U_net/csv_log/_training_log_var_2_lead_0_lr_0.0001_ep_150_bs_64_filters16.csv\"\n",
    ")"
   ]
  },
  {
   "cell_type": "markdown",
   "id": "c795cdf2",
   "metadata": {},
   "source": [
    "### Run 2:"
   ]
  },
  {
   "cell_type": "code",
   "execution_count": 53,
   "id": "ce524212",
   "metadata": {
    "scrolled": false
   },
   "outputs": [
    {
     "data": {
      "image/png": "[encoded data removed]",
      "text/plain": [
       "<Figure size 720x360 with 1 Axes>"
      ]
     },
     "metadata": {
      "needs_background": "light"
     },
     "output_type": "display_data"
    },
    {
     "data": {
      "text/html": [
       "<div>\n",
       "<style scoped>\n",
       "    .dataframe tbody tr th:only-of-type {\n",
       "        vertical-align: middle;\n",
       "    }\n",
       "\n",
       "    .dataframe tbody tr th {\n",
       "        vertical-align: top;\n",
       "    }\n",
       "\n",
       "    .dataframe thead th {\n",
       "        text-align: right;\n",
       "    }\n",
       "</style>\n",
       "<table border=\"1\" class=\"dataframe\">\n",
       "  <thead>\n",
       "    <tr style=\"text-align: right;\">\n",
       "      <th></th>\n",
       "      <th>epoch</th>\n",
       "      <th>loss</th>\n",
       "      <th>val_loss</th>\n",
       "    </tr>\n",
       "  </thead>\n",
       "  <tbody>\n",
       "    <tr>\n",
       "      <th>0</th>\n",
       "      <td>0</td>\n",
       "      <td>282.567444</td>\n",
       "      <td>271.248749</td>\n",
       "    </tr>\n",
       "    <tr>\n",
       "      <th>1</th>\n",
       "      <td>1</td>\n",
       "      <td>281.735352</td>\n",
       "      <td>271.186279</td>\n",
       "    </tr>\n",
       "    <tr>\n",
       "      <th>2</th>\n",
       "      <td>2</td>\n",
       "      <td>281.351624</td>\n",
       "      <td>264.023102</td>\n",
       "    </tr>\n",
       "    <tr>\n",
       "      <th>3</th>\n",
       "      <td>3</td>\n",
       "      <td>280.985107</td>\n",
       "      <td>265.606812</td>\n",
       "    </tr>\n",
       "    <tr>\n",
       "      <th>4</th>\n",
       "      <td>4</td>\n",
       "      <td>280.612213</td>\n",
       "      <td>276.867004</td>\n",
       "    </tr>\n",
       "    <tr>\n",
       "      <th>...</th>\n",
       "      <td>...</td>\n",
       "      <td>...</td>\n",
       "      <td>...</td>\n",
       "    </tr>\n",
       "    <tr>\n",
       "      <th>70</th>\n",
       "      <td>70</td>\n",
       "      <td>187.699295</td>\n",
       "      <td>177.850891</td>\n",
       "    </tr>\n",
       "    <tr>\n",
       "      <th>71</th>\n",
       "      <td>71</td>\n",
       "      <td>185.459946</td>\n",
       "      <td>176.032608</td>\n",
       "    </tr>\n",
       "    <tr>\n",
       "      <th>72</th>\n",
       "      <td>72</td>\n",
       "      <td>183.157837</td>\n",
       "      <td>172.531754</td>\n",
       "    </tr>\n",
       "    <tr>\n",
       "      <th>73</th>\n",
       "      <td>73</td>\n",
       "      <td>180.961685</td>\n",
       "      <td>173.949570</td>\n",
       "    </tr>\n",
       "    <tr>\n",
       "      <th>74</th>\n",
       "      <td>74</td>\n",
       "      <td>178.668732</td>\n",
       "      <td>163.561752</td>\n",
       "    </tr>\n",
       "  </tbody>\n",
       "</table>\n",
       "<p>75 rows × 3 columns</p>\n",
       "</div>"
      ],
      "text/plain": [
       "    epoch        loss    val_loss\n",
       "0       0  282.567444  271.248749\n",
       "1       1  281.735352  271.186279\n",
       "2       2  281.351624  264.023102\n",
       "3       3  280.985107  265.606812\n",
       "4       4  280.612213  276.867004\n",
       "..    ...         ...         ...\n",
       "70     70  187.699295  177.850891\n",
       "71     71  185.459946  176.032608\n",
       "72     72  183.157837  172.531754\n",
       "73     73  180.961685  173.949570\n",
       "74     74  178.668732  163.561752\n",
       "\n",
       "[75 rows x 3 columns]"
      ]
     },
     "execution_count": 53,
     "metadata": {},
     "output_type": "execute_result"
    },
    {
     "data": {
      "application/javascript": [
       "\n",
       "            setTimeout(function() {\n",
       "                var nbb_cell_id = 53;\n",
       "                var nbb_unformatted_code = \"plot_losses(\\n    \\\"/Data/Delong_BA_Data/models/U_net/csv_log/_training_log_var_2_lead_0_lr_0.001_ep_150_bs_128_filters16.csv\\\"\\n)\";\n",
       "                var nbb_formatted_code = \"plot_losses(\\n    \\\"/Data/Delong_BA_Data/models/U_net/csv_log/_training_log_var_2_lead_0_lr_0.001_ep_150_bs_128_filters16.csv\\\"\\n)\";\n",
       "                var nbb_cells = Jupyter.notebook.get_cells();\n",
       "                for (var i = 0; i < nbb_cells.length; ++i) {\n",
       "                    if (nbb_cells[i].input_prompt_number == nbb_cell_id) {\n",
       "                        if (nbb_cells[i].get_text() == nbb_unformatted_code) {\n",
       "                             nbb_cells[i].set_text(nbb_formatted_code);\n",
       "                        }\n",
       "                        break;\n",
       "                    }\n",
       "                }\n",
       "            }, 500);\n",
       "            "
      ],
      "text/plain": [
       "<IPython.core.display.Javascript object>"
      ]
     },
     "metadata": {},
     "output_type": "display_data"
    }
   ],
   "source": [
    "plot_losses(\n",
    "    \"/Data/Delong_BA_Data/models/U_net/csv_log/_training_log_var_2_lead_0_lr_0.001_ep_150_bs_128_filters16.csv\"\n",
    ")"
   ]
  },
  {
   "cell_type": "markdown",
   "id": "b34d80c0",
   "metadata": {},
   "source": [
    "### Run 3"
   ]
  },
  {
   "cell_type": "code",
   "execution_count": 55,
   "id": "4f85d153",
   "metadata": {
    "scrolled": true
   },
   "outputs": [
    {
     "data": {
      "image/png": "[encoded data removed]",
      "text/plain": [
       "<Figure size 720x360 with 1 Axes>"
      ]
     },
     "metadata": {
      "needs_background": "light"
     },
     "output_type": "display_data"
    },
    {
     "data": {
      "application/javascript": [
       "\n",
       "            setTimeout(function() {\n",
       "                var nbb_cell_id = 55;\n",
       "                var nbb_unformatted_code = \"df_3 = plot_losses(\\n    \\\"/Data/Delong_BA_Data/models/U_net/csv_log/_training_log_var_2_lead_0_lr_0.001_ep_300_bs_128_filters20.csv\\\",\\n)\";\n",
       "                var nbb_formatted_code = \"df_3 = plot_losses(\\n    \\\"/Data/Delong_BA_Data/models/U_net/csv_log/_training_log_var_2_lead_0_lr_0.001_ep_300_bs_128_filters20.csv\\\",\\n)\";\n",
       "                var nbb_cells = Jupyter.notebook.get_cells();\n",
       "                for (var i = 0; i < nbb_cells.length; ++i) {\n",
       "                    if (nbb_cells[i].input_prompt_number == nbb_cell_id) {\n",
       "                        if (nbb_cells[i].get_text() == nbb_unformatted_code) {\n",
       "                             nbb_cells[i].set_text(nbb_formatted_code);\n",
       "                        }\n",
       "                        break;\n",
       "                    }\n",
       "                }\n",
       "            }, 500);\n",
       "            "
      ],
      "text/plain": [
       "<IPython.core.display.Javascript object>"
      ]
     },
     "metadata": {},
     "output_type": "display_data"
    }
   ],
   "source": [
    "df_3 = plot_losses(\n",
    "    \"/Data/Delong_BA_Data/models/U_net/csv_log/_training_log_var_2_lead_0_lr_0.001_ep_300_bs_128_filters20.csv\",\n",
    ")"
   ]
  },
  {
   "cell_type": "code",
   "execution_count": 5,
   "id": "26ccd3ed",
   "metadata": {
    "collapsed": true
   },
   "outputs": [
    {
     "name": "stderr",
     "output_type": "stream",
     "text": [
      "2023-07-05 17:55:37.703841: I tensorflow/core/platform/cpu_feature_guard.cc:151] This TensorFlow binary is optimized with oneAPI Deep Neural Network Library (oneDNN) to use the following CPU instructions in performance-critical operations:  AVX2 AVX512F FMA\n",
      "To enable them in other operations, rebuild TensorFlow with the appropriate compiler flags.\n",
      "2023-07-05 17:55:39.080251: I tensorflow/core/common_runtime/gpu/gpu_device.cc:1525] Created device /job:localhost/replica:0/task:0/device:GPU:0 with 0 MB memory:  -> device: 0, name: NVIDIA RTX A5000, pci bus id: 0000:17:00.0, compute capability: 8.6\n",
      "2023-07-05 17:55:39.080797: I tensorflow/core/common_runtime/gpu/gpu_device.cc:1525] Created device /job:localhost/replica:0/task:0/device:GPU:1 with 18881 MB memory:  -> device: 1, name: NVIDIA RTX A5000, pci bus id: 0000:65:00.0, compute capability: 8.6\n",
      "2023-07-05 17:55:49.247214: W tensorflow/core/common_runtime/bfc_allocator.cc:462] Allocator (GPU_0_bfc) ran out of memory trying to allocate 450.0KiB (rounded to 460800)requested by op Mul\n",
      "If the cause is memory fragmentation maybe the environment variable 'TF_GPU_ALLOCATOR=cuda_malloc_async' will improve the situation. \n",
      "Current allocation summary follows.\n",
      "Current allocation summary follows.\n",
      "2023-07-05 17:55:49.247269: I tensorflow/core/common_runtime/bfc_allocator.cc:1010] BFCAllocator dump for GPU_0_bfc\n",
      "2023-07-05 17:55:49.247299: I tensorflow/core/common_runtime/bfc_allocator.cc:1017] Bin (256): \tTotal Chunks: 9, Chunks in use: 9. 2.2KiB allocated for chunks. 2.2KiB in use in bin. 36B client-requested in use in bin.\n",
      "2023-07-05 17:55:49.247321: I tensorflow/core/common_runtime/bfc_allocator.cc:1017] Bin (512): \tTotal Chunks: 6, Chunks in use: 6. 3.0KiB allocated for chunks. 3.0KiB in use in bin. 1.9KiB client-requested in use in bin.\n",
      "2023-07-05 17:55:49.247341: I tensorflow/core/common_runtime/bfc_allocator.cc:1017] Bin (1024): \tTotal Chunks: 1, Chunks in use: 1. 1.2KiB allocated for chunks. 1.2KiB in use in bin. 1.0KiB client-requested in use in bin.\n",
      "2023-07-05 17:55:49.247360: I tensorflow/core/common_runtime/bfc_allocator.cc:1017] Bin (2048): \tTotal Chunks: 0, Chunks in use: 0. 0B allocated for chunks. 0B in use in bin. 0B client-requested in use in bin.\n",
      "2023-07-05 17:55:49.247380: I tensorflow/core/common_runtime/bfc_allocator.cc:1017] Bin (4096): \tTotal Chunks: 0, Chunks in use: 0. 0B allocated for chunks. 0B in use in bin. 0B client-requested in use in bin.\n",
      "2023-07-05 17:55:49.247399: I tensorflow/core/common_runtime/bfc_allocator.cc:1017] Bin (8192): \tTotal Chunks: 0, Chunks in use: 0. 0B allocated for chunks. 0B in use in bin. 0B client-requested in use in bin.\n",
      "2023-07-05 17:55:49.247419: I tensorflow/core/common_runtime/bfc_allocator.cc:1017] Bin (16384): \tTotal Chunks: 0, Chunks in use: 0. 0B allocated for chunks. 0B in use in bin. 0B client-requested in use in bin.\n",
      "2023-07-05 17:55:49.247443: I tensorflow/core/common_runtime/bfc_allocator.cc:1017] Bin (32768): \tTotal Chunks: 1, Chunks in use: 1. 36.8KiB allocated for chunks. 36.8KiB in use in bin. 36.6KiB client-requested in use in bin.\n",
      "2023-07-05 17:55:49.247466: I tensorflow/core/common_runtime/bfc_allocator.cc:1017] Bin (65536): \tTotal Chunks: 1, Chunks in use: 0. 69.0KiB allocated for chunks. 0B in use in bin. 0B client-requested in use in bin.\n",
      "2023-07-05 17:55:49.247487: I tensorflow/core/common_runtime/bfc_allocator.cc:1017] Bin (131072): \tTotal Chunks: 0, Chunks in use: 0. 0B allocated for chunks. 0B in use in bin. 0B client-requested in use in bin.\n",
      "2023-07-05 17:55:49.247520: I tensorflow/core/common_runtime/bfc_allocator.cc:1017] Bin (262144): \tTotal Chunks: 2, Chunks in use: 2. 719.8KiB allocated for chunks. 719.8KiB in use in bin. 675.0KiB client-requested in use in bin.\n",
      "2023-07-05 17:55:49.247539: I tensorflow/core/common_runtime/bfc_allocator.cc:1017] Bin (524288): \tTotal Chunks: 0, Chunks in use: 0. 0B allocated for chunks. 0B in use in bin. 0B client-requested in use in bin.\n",
      "2023-07-05 17:55:49.247558: I tensorflow/core/common_runtime/bfc_allocator.cc:1017] Bin (1048576): \tTotal Chunks: 0, Chunks in use: 0. 0B allocated for chunks. 0B in use in bin. 0B client-requested in use in bin.\n",
      "2023-07-05 17:55:49.247570: I tensorflow/core/common_runtime/bfc_allocator.cc:1017] Bin (2097152): \tTotal Chunks: 0, Chunks in use: 0. 0B allocated for chunks. 0B in use in bin. 0B client-requested in use in bin.\n",
      "2023-07-05 17:55:49.247580: I tensorflow/core/common_runtime/bfc_allocator.cc:1017] Bin (4194304): \tTotal Chunks: 0, Chunks in use: 0. 0B allocated for chunks. 0B in use in bin. 0B client-requested in use in bin.\n",
      "2023-07-05 17:55:49.247591: I tensorflow/core/common_runtime/bfc_allocator.cc:1017] Bin (8388608): \tTotal Chunks: 0, Chunks in use: 0. 0B allocated for chunks. 0B in use in bin. 0B client-requested in use in bin.\n",
      "2023-07-05 17:55:49.247602: I tensorflow/core/common_runtime/bfc_allocator.cc:1017] Bin (16777216): \tTotal Chunks: 0, Chunks in use: 0. 0B allocated for chunks. 0B in use in bin. 0B client-requested in use in bin.\n",
      "2023-07-05 17:55:49.247613: I tensorflow/core/common_runtime/bfc_allocator.cc:1017] Bin (33554432): \tTotal Chunks: 0, Chunks in use: 0. 0B allocated for chunks. 0B in use in bin. 0B client-requested in use in bin.\n",
      "2023-07-05 17:55:49.247623: I tensorflow/core/common_runtime/bfc_allocator.cc:1017] Bin (67108864): \tTotal Chunks: 0, Chunks in use: 0. 0B allocated for chunks. 0B in use in bin. 0B client-requested in use in bin.\n",
      "2023-07-05 17:55:49.247642: I tensorflow/core/common_runtime/bfc_allocator.cc:1017] Bin (134217728): \tTotal Chunks: 0, Chunks in use: 0. 0B allocated for chunks. 0B in use in bin. 0B client-requested in use in bin.\n",
      "2023-07-05 17:55:49.247659: I tensorflow/core/common_runtime/bfc_allocator.cc:1017] Bin (268435456): \tTotal Chunks: 0, Chunks in use: 0. 0B allocated for chunks. 0B in use in bin. 0B client-requested in use in bin.\n",
      "2023-07-05 17:55:49.247672: I tensorflow/core/common_runtime/bfc_allocator.cc:1033] Bin for 450.0KiB was 256.0KiB, Chunk State: \n",
      "2023-07-05 17:55:49.247680: I tensorflow/core/common_runtime/bfc_allocator.cc:1046] Next region of size 851968\n",
      "2023-07-05 17:55:49.247694: I tensorflow/core/common_runtime/bfc_allocator.cc:1066] InUse at 7f4ef7400000 of size 1280 next 1\n",
      "2023-07-05 17:55:49.247703: I tensorflow/core/common_runtime/bfc_allocator.cc:1066] InUse at 7f4ef7400500 of size 256 next 2\n",
      "2023-07-05 17:55:49.247712: I tensorflow/core/common_runtime/bfc_allocator.cc:1066] InUse at 7f4ef7400600 of size 256 next 3\n",
      "2023-07-05 17:55:49.247720: I tensorflow/core/common_runtime/bfc_allocator.cc:1066] InUse at 7f4ef7400700 of size 256 next 4\n",
      "2023-07-05 17:55:49.247729: I tensorflow/core/common_runtime/bfc_allocator.cc:1066] InUse at 7f4ef7400800 of size 512 next 5\n",
      "2023-07-05 17:55:49.247737: I tensorflow/core/common_runtime/bfc_allocator.cc:1066] InUse at 7f4ef7400a00 of size 256 next 8\n",
      "2023-07-05 17:55:49.247745: I tensorflow/core/common_runtime/bfc_allocator.cc:1066] InUse at 7f4ef7400b00 of size 256 next 9\n",
      "2023-07-05 17:55:49.247753: I tensorflow/core/common_runtime/bfc_allocator.cc:1066] InUse at 7f4ef7400c00 of size 512 next 10\n",
      "2023-07-05 17:55:49.247761: I tensorflow/core/common_runtime/bfc_allocator.cc:1066] InUse at 7f4ef7400e00 of size 256 next 11\n",
      "2023-07-05 17:55:49.247770: I tensorflow/core/common_runtime/bfc_allocator.cc:1066] InUse at 7f4ef7400f00 of size 512 next 13\n",
      "2023-07-05 17:55:49.247778: I tensorflow/core/common_runtime/bfc_allocator.cc:1066] InUse at 7f4ef7401100 of size 512 next 14\n",
      "2023-07-05 17:55:49.247789: I tensorflow/core/common_runtime/bfc_allocator.cc:1066] InUse at 7f4ef7401300 of size 512 next 15\n",
      "2023-07-05 17:55:49.247802: I tensorflow/core/common_runtime/bfc_allocator.cc:1066] InUse at 7f4ef7401500 of size 512 next 16\n",
      "2023-07-05 17:55:49.247810: I tensorflow/core/common_runtime/bfc_allocator.cc:1066] InUse at 7f4ef7401700 of size 256 next 17\n",
      "2023-07-05 17:55:49.247821: I tensorflow/core/common_runtime/bfc_allocator.cc:1066] InUse at 7f4ef7401800 of size 256 next 18\n",
      "2023-07-05 17:55:49.247834: I tensorflow/core/common_runtime/bfc_allocator.cc:1066] InUse at 7f4ef7401900 of size 256 next 19\n",
      "2023-07-05 17:55:49.247842: I tensorflow/core/common_runtime/bfc_allocator.cc:1066] Free  at 7f4ef7401a00 of size 70656 next 6\n",
      "2023-07-05 17:55:49.247852: I tensorflow/core/common_runtime/bfc_allocator.cc:1066] InUse at 7f4ef7412e00 of size 37632 next 7\n",
      "2023-07-05 17:55:49.247860: I tensorflow/core/common_runtime/bfc_allocator.cc:1066] InUse at 7f4ef741c100 of size 460800 next 12\n",
      "2023-07-05 17:55:49.247873: I tensorflow/core/common_runtime/bfc_allocator.cc:1066] InUse at 7f4ef748c900 of size 276224 next 18446744073709551615\n",
      "2023-07-05 17:55:49.247884: I tensorflow/core/common_runtime/bfc_allocator.cc:1071]      Summary of in-use Chunks by size: \n",
      "2023-07-05 17:55:49.247899: I tensorflow/core/common_runtime/bfc_allocator.cc:1074] 9 Chunks of size 256 totalling 2.2KiB\n",
      "2023-07-05 17:55:49.247912: I tensorflow/core/common_runtime/bfc_allocator.cc:1074] 6 Chunks of size 512 totalling 3.0KiB\n",
      "2023-07-05 17:55:49.247921: I tensorflow/core/common_runtime/bfc_allocator.cc:1074] 1 Chunks of size 1280 totalling 1.2KiB\n",
      "2023-07-05 17:55:49.247933: I tensorflow/core/common_runtime/bfc_allocator.cc:1074] 1 Chunks of size 37632 totalling 36.8KiB\n",
      "2023-07-05 17:55:49.247950: I tensorflow/core/common_runtime/bfc_allocator.cc:1074] 1 Chunks of size 276224 totalling 269.8KiB\n",
      "2023-07-05 17:55:49.247968: I tensorflow/core/common_runtime/bfc_allocator.cc:1074] 1 Chunks of size 460800 totalling 450.0KiB\n",
      "2023-07-05 17:55:49.247985: I tensorflow/core/common_runtime/bfc_allocator.cc:1078] Sum Total of in-use chunks: 763.0KiB\n",
      "2023-07-05 17:55:49.248001: I tensorflow/core/common_runtime/bfc_allocator.cc:1080] total_region_allocated_bytes_: 851968 memory_limit_: 851968 available bytes: 0 curr_region_allocation_bytes_: 1703936\n",
      "2023-07-05 17:55:49.248024: I tensorflow/core/common_runtime/bfc_allocator.cc:1086] Stats: \n",
      "Limit:                          851968\n",
      "InUse:                          781312\n",
      "MaxInUse:                       781312\n",
      "NumAllocs:                          25\n",
      "MaxAllocSize:                   460800\n",
      "Reserved:                            0\n",
      "PeakReserved:                        0\n",
      "LargestFreeBlock:                    0\n",
      "\n",
      "2023-07-05 17:55:49.248045: W tensorflow/core/common_runtime/bfc_allocator.cc:474] *________**************************************************************************************xxxxx\n",
      "2023-07-05 17:55:49.248092: W tensorflow/core/framework/op_kernel.cc:1733] RESOURCE_EXHAUSTED: failed to allocate memory\n"
     ]
    },
    {
     "ename": "ResourceExhaustedError",
     "evalue": "failed to allocate memory [Op:Mul]",
     "output_type": "error",
     "traceback": [
      "\u001b[0;31m---------------------------------------------------------------------------\u001b[0m",
      "\u001b[0;31mResourceExhaustedError\u001b[0m                    Traceback (most recent call last)",
      "\u001b[0;32m/tmp/ipykernel_359336/2091633803.py\u001b[0m in \u001b[0;36m<module>\u001b[0;34m\u001b[0m\n\u001b[0;32m----> 1\u001b[0;31m \u001b[0mmodel\u001b[0m \u001b[0;34m=\u001b[0m \u001b[0mtf\u001b[0m\u001b[0;34m.\u001b[0m\u001b[0mkeras\u001b[0m\u001b[0;34m.\u001b[0m\u001b[0mmodels\u001b[0m\u001b[0;34m.\u001b[0m\u001b[0mload_model\u001b[0m\u001b[0;34m(\u001b[0m\u001b[0;34m\"/Data/Delong_BA_Data/models/U_net/models/_unet_model_var_2_lead_0_lr_0.001_ep_300_bs_128_filters20.h5\"\u001b[0m\u001b[0;34m)\u001b[0m\u001b[0;34m\u001b[0m\u001b[0;34m\u001b[0m\u001b[0m\n\u001b[0m",
      "\u001b[0;32m~/.conda/envs/Bach_Del_new/lib/python3.9/site-packages/keras/utils/traceback_utils.py\u001b[0m in \u001b[0;36merror_handler\u001b[0;34m(*args, **kwargs)\u001b[0m\n\u001b[1;32m     65\u001b[0m     \u001b[0;32mexcept\u001b[0m \u001b[0mException\u001b[0m \u001b[0;32mas\u001b[0m \u001b[0me\u001b[0m\u001b[0;34m:\u001b[0m  \u001b[0;31m# pylint: disable=broad-except\u001b[0m\u001b[0;34m\u001b[0m\u001b[0;34m\u001b[0m\u001b[0m\n\u001b[1;32m     66\u001b[0m       \u001b[0mfiltered_tb\u001b[0m \u001b[0;34m=\u001b[0m \u001b[0m_process_traceback_frames\u001b[0m\u001b[0;34m(\u001b[0m\u001b[0me\u001b[0m\u001b[0;34m.\u001b[0m\u001b[0m__traceback__\u001b[0m\u001b[0;34m)\u001b[0m\u001b[0;34m\u001b[0m\u001b[0;34m\u001b[0m\u001b[0m\n\u001b[0;32m---> 67\u001b[0;31m       \u001b[0;32mraise\u001b[0m \u001b[0me\u001b[0m\u001b[0;34m.\u001b[0m\u001b[0mwith_traceback\u001b[0m\u001b[0;34m(\u001b[0m\u001b[0mfiltered_tb\u001b[0m\u001b[0;34m)\u001b[0m \u001b[0;32mfrom\u001b[0m \u001b[0;32mNone\u001b[0m\u001b[0;34m\u001b[0m\u001b[0;34m\u001b[0m\u001b[0m\n\u001b[0m\u001b[1;32m     68\u001b[0m     \u001b[0;32mfinally\u001b[0m\u001b[0;34m:\u001b[0m\u001b[0;34m\u001b[0m\u001b[0;34m\u001b[0m\u001b[0m\n\u001b[1;32m     69\u001b[0m       \u001b[0;32mdel\u001b[0m \u001b[0mfiltered_tb\u001b[0m\u001b[0;34m\u001b[0m\u001b[0;34m\u001b[0m\u001b[0m\n",
      "\u001b[0;32m~/.conda/envs/Bach_Del_new/lib/python3.9/site-packages/keras/backend.py\u001b[0m in \u001b[0;36mrandom_uniform\u001b[0;34m(self, shape, minval, maxval, dtype)\u001b[0m\n\u001b[1;32m   1829\u001b[0m       return self._generator.uniform(\n\u001b[1;32m   1830\u001b[0m           shape=shape, minval=minval, maxval=maxval, dtype=dtype)\n\u001b[0;32m-> 1831\u001b[0;31m     return tf.random.uniform(\n\u001b[0m\u001b[1;32m   1832\u001b[0m         \u001b[0mshape\u001b[0m\u001b[0;34m=\u001b[0m\u001b[0mshape\u001b[0m\u001b[0;34m,\u001b[0m \u001b[0mminval\u001b[0m\u001b[0;34m=\u001b[0m\u001b[0mminval\u001b[0m\u001b[0;34m,\u001b[0m \u001b[0mmaxval\u001b[0m\u001b[0;34m=\u001b[0m\u001b[0mmaxval\u001b[0m\u001b[0;34m,\u001b[0m \u001b[0mdtype\u001b[0m\u001b[0;34m=\u001b[0m\u001b[0mdtype\u001b[0m\u001b[0;34m,\u001b[0m\u001b[0;34m\u001b[0m\u001b[0;34m\u001b[0m\u001b[0m\n\u001b[1;32m   1833\u001b[0m         seed=self.make_legacy_seed())\n",
      "\u001b[0;31mResourceExhaustedError\u001b[0m: failed to allocate memory [Op:Mul]"
     ]
    },
    {
     "data": {
      "application/javascript": [
       "\n",
       "            setTimeout(function() {\n",
       "                var nbb_cell_id = 5;\n",
       "                var nbb_unformatted_code = \"model = tf.keras.models.load_model(\\\"/Data/Delong_BA_Data/models/U_net/models/_unet_model_var_2_lead_0_lr_0.001_ep_300_bs_128_filters20.h5\\\")\";\n",
       "                var nbb_formatted_code = \"model = tf.keras.models.load_model(\\n    \\\"/Data/Delong_BA_Data/models/U_net/models/_unet_model_var_2_lead_0_lr_0.001_ep_300_bs_128_filters20.h5\\\"\\n)\";\n",
       "                var nbb_cells = Jupyter.notebook.get_cells();\n",
       "                for (var i = 0; i < nbb_cells.length; ++i) {\n",
       "                    if (nbb_cells[i].input_prompt_number == nbb_cell_id) {\n",
       "                        if (nbb_cells[i].get_text() == nbb_unformatted_code) {\n",
       "                             nbb_cells[i].set_text(nbb_formatted_code);\n",
       "                        }\n",
       "                        break;\n",
       "                    }\n",
       "                }\n",
       "            }, 500);\n",
       "            "
      ],
      "text/plain": [
       "<IPython.core.display.Javascript object>"
      ]
     },
     "metadata": {},
     "output_type": "display_data"
    }
   ],
   "source": [
    "model = tf.keras.models.load_model(\n",
    "    \"/Data/Delong_BA_Data/models/U_net/models/_unet_model_var_2_lead_0_lr_0.001_ep_300_bs_128_filters20.h5\"\n",
    ")"
   ]
  },
  {
   "cell_type": "markdown",
   "id": "d5336e74",
   "metadata": {},
   "source": [
    "### Run 4"
   ]
  },
  {
   "cell_type": "code",
   "execution_count": 8,
   "id": "48ad0c86",
   "metadata": {
    "scrolled": true
   },
   "outputs": [
    {
     "data": {
      "image/png": "[encoded data removed]",
      "text/plain": [
       "<Figure size 720x360 with 1 Axes>"
      ]
     },
     "metadata": {
      "needs_background": "light"
     },
     "output_type": "display_data"
    },
    {
     "data": {
      "application/javascript": [
       "\n",
       "            setTimeout(function() {\n",
       "                var nbb_cell_id = 8;\n",
       "                var nbb_unformatted_code = \"df_run_4 = plot_losses(\\n    \\\"/Data/Delong_BA_Data/models/U_net/csv_log/_training_log_var_2_lead_0_lr_1e-05_ep_500_bs_128_filters20.csv\\\"\\n)\";\n",
       "                var nbb_formatted_code = \"df_run_4 = plot_losses(\\n    \\\"/Data/Delong_BA_Data/models/U_net/csv_log/_training_log_var_2_lead_0_lr_1e-05_ep_500_bs_128_filters20.csv\\\"\\n)\";\n",
       "                var nbb_cells = Jupyter.notebook.get_cells();\n",
       "                for (var i = 0; i < nbb_cells.length; ++i) {\n",
       "                    if (nbb_cells[i].input_prompt_number == nbb_cell_id) {\n",
       "                        if (nbb_cells[i].get_text() == nbb_unformatted_code) {\n",
       "                             nbb_cells[i].set_text(nbb_formatted_code);\n",
       "                        }\n",
       "                        break;\n",
       "                    }\n",
       "                }\n",
       "            }, 500);\n",
       "            "
      ],
      "text/plain": [
       "<IPython.core.display.Javascript object>"
      ]
     },
     "metadata": {},
     "output_type": "display_data"
    }
   ],
   "source": [
    "df_run_4 = plot_losses(\n",
    "    \"/Data/Delong_BA_Data/models/U_net/csv_log/_training_log_var_2_lead_0_lr_1e-05_ep_500_bs_128_filters20.csv\"\n",
    ")"
   ]
  },
  {
   "cell_type": "code",
   "execution_count": null,
   "id": "c394d673",
   "metadata": {},
   "outputs": [],
   "source": []
  }
 ],
 "metadata": {
  "kernelspec": {
   "display_name": "Python 3 (ipykernel)",
   "language": "python",
   "name": "python3"
  },
  "language_info": {
   "codemirror_mode": {
    "name": "ipython",
    "version": 3
   },
   "file_extension": ".py",
   "mimetype": "text/x-python",
   "name": "python",
   "nbconvert_exporter": "python",
   "pygments_lexer": "ipython3",
   "version": "3.9.7"
  }
 },
 "nbformat": 4,
 "nbformat_minor": 5
}
