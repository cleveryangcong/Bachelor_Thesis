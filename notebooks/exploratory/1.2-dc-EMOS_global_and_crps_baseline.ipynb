{
 "cells": [
  {
   "cell_type": "code",
   "execution_count": 8,
   "id": "3616adc6",
   "metadata": {},
   "outputs": [
    {
     "name": "stdout",
     "output_type": "stream",
     "text": [
      "The nb_black extension is already loaded. To reload it, use:\n",
      "  %reload_ext nb_black\n"
     ]
    },
    {
     "data": {
      "application/javascript": [
       "\n",
       "            setTimeout(function() {\n",
       "                var nbb_cell_id = 8;\n",
       "                var nbb_unformatted_code = \"%load_ext nb_black\";\n",
       "                var nbb_formatted_code = \"%load_ext nb_black\";\n",
       "                var nbb_cells = Jupyter.notebook.get_cells();\n",
       "                for (var i = 0; i < nbb_cells.length; ++i) {\n",
       "                    if (nbb_cells[i].input_prompt_number == nbb_cell_id) {\n",
       "                        if (nbb_cells[i].get_text() == nbb_unformatted_code) {\n",
       "                             nbb_cells[i].set_text(nbb_formatted_code);\n",
       "                        }\n",
       "                        break;\n",
       "                    }\n",
       "                }\n",
       "            }, 500);\n",
       "            "
      ],
      "text/plain": [
       "<IPython.core.display.Javascript object>"
      ]
     },
     "metadata": {},
     "output_type": "display_data"
    }
   ],
   "source": [
    "%load_ext nb_black"
   ]
  },
  {
   "cell_type": "code",
   "execution_count": 10,
   "id": "29717342",
   "metadata": {
    "scrolled": true
   },
   "outputs": [
    {
     "data": {
      "application/javascript": [
       "\n",
       "            setTimeout(function() {\n",
       "                var nbb_cell_id = 10;\n",
       "                var nbb_unformatted_code = \"# Basics\\nimport pandas as pd\\nimport numpy as np\\nimport matplotlib.pyplot as plt\\n\\n# Data\\nimport xarray as xr\\nimport h5py\\nimport pickle\\n\\n# Helpful\\nimport time\\nimport datetime\\nimport itertools\\nfrom itertools import product\\nfrom tqdm import tqdm\\nimport os\\n\\n# My Methods\\nimport importlib\\nfrom src.utils.CRPS import *\\nfrom src.utils.data_split import *\\nfrom src.models.EMOS import *\\nimport data.raw.load_data_raw as ldr\\nimport data.processed.load_data_processed as ldp\";\n",
       "                var nbb_formatted_code = \"# Basics\\nimport pandas as pd\\nimport numpy as np\\nimport matplotlib.pyplot as plt\\n\\n# Data\\nimport xarray as xr\\nimport h5py\\nimport pickle\\n\\n# Helpful\\nimport time\\nimport datetime\\nimport itertools\\nfrom itertools import product\\nfrom tqdm import tqdm\\nimport os\\n\\n# My Methods\\nimport importlib\\nfrom src.utils.CRPS import *\\nfrom src.utils.data_split import *\\nfrom src.models.EMOS import *\\nimport data.raw.load_data_raw as ldr\\nimport data.processed.load_data_processed as ldp\";\n",
       "                var nbb_cells = Jupyter.notebook.get_cells();\n",
       "                for (var i = 0; i < nbb_cells.length; ++i) {\n",
       "                    if (nbb_cells[i].input_prompt_number == nbb_cell_id) {\n",
       "                        if (nbb_cells[i].get_text() == nbb_unformatted_code) {\n",
       "                             nbb_cells[i].set_text(nbb_formatted_code);\n",
       "                        }\n",
       "                        break;\n",
       "                    }\n",
       "                }\n",
       "            }, 500);\n",
       "            "
      ],
      "text/plain": [
       "<IPython.core.display.Javascript object>"
      ]
     },
     "metadata": {},
     "output_type": "display_data"
    }
   ],
   "source": [
    "# Basics\n",
    "import pandas as pd\n",
    "import numpy as np\n",
    "import matplotlib.pyplot as plt\n",
    "\n",
    "# Data\n",
    "import xarray as xr\n",
    "import h5py\n",
    "import pickle\n",
    "\n",
    "# Helpful\n",
    "import time\n",
    "import datetime\n",
    "import itertools\n",
    "from itertools import product\n",
    "from tqdm import tqdm\n",
    "import os\n",
    "\n",
    "# My Methods\n",
    "import importlib\n",
    "from src.utils.CRPS import *\n",
    "from src.utils.data_split import *\n",
    "from src.models.EMOS import *\n",
    "import data.raw.load_data_raw as ldr\n",
    "import data.processed.load_data_processed as ldp"
   ]
  },
  {
   "cell_type": "markdown",
   "id": "d19f67f8",
   "metadata": {},
   "source": [
    "### Goal of this notebook: Train EMOS global\n",
    "1. Train one EMOS model globally on the whole grid for each lead time (1...31) and variable(0...4) total 155 Models"
   ]
  },
  {
   "cell_type": "markdown",
   "id": "d8b85be1",
   "metadata": {},
   "source": [
    "#### 0. Basics"
   ]
  },
  {
   "cell_type": "code",
   "execution_count": 11,
   "id": "9bac8af7",
   "metadata": {},
   "outputs": [
    {
     "data": {
      "application/javascript": [
       "\n",
       "            setTimeout(function() {\n",
       "                var nbb_cell_id = 11;\n",
       "                var nbb_unformatted_code = \"var_names = [\\\"u10\\\", \\\"v10\\\", \\\"t2m\\\", \\\"t850\\\", \\\"z500\\\"]\";\n",
       "                var nbb_formatted_code = \"var_names = [\\\"u10\\\", \\\"v10\\\", \\\"t2m\\\", \\\"t850\\\", \\\"z500\\\"]\";\n",
       "                var nbb_cells = Jupyter.notebook.get_cells();\n",
       "                for (var i = 0; i < nbb_cells.length; ++i) {\n",
       "                    if (nbb_cells[i].input_prompt_number == nbb_cell_id) {\n",
       "                        if (nbb_cells[i].get_text() == nbb_unformatted_code) {\n",
       "                             nbb_cells[i].set_text(nbb_formatted_code);\n",
       "                        }\n",
       "                        break;\n",
       "                    }\n",
       "                }\n",
       "            }, 500);\n",
       "            "
      ],
      "text/plain": [
       "<IPython.core.display.Javascript object>"
      ]
     },
     "metadata": {},
     "output_type": "display_data"
    }
   ],
   "source": [
    "var_names = [\"u10\", \"v10\", \"t2m\", \"t850\", \"z500\"]"
   ]
  },
  {
   "cell_type": "code",
   "execution_count": 12,
   "id": "3b39a819",
   "metadata": {},
   "outputs": [
    {
     "data": {
      "application/javascript": [
       "\n",
       "            setTimeout(function() {\n",
       "                var nbb_cell_id = 12;\n",
       "                var nbb_unformatted_code = \"# Variables to make testing easier --> determines variable and lead_time\\nvar = 0  # 0,...,4\\nlead_time = 0  # 0,...,30\";\n",
       "                var nbb_formatted_code = \"# Variables to make testing easier --> determines variable and lead_time\\nvar = 0  # 0,...,4\\nlead_time = 0  # 0,...,30\";\n",
       "                var nbb_cells = Jupyter.notebook.get_cells();\n",
       "                for (var i = 0; i < nbb_cells.length; ++i) {\n",
       "                    if (nbb_cells[i].input_prompt_number == nbb_cell_id) {\n",
       "                        if (nbb_cells[i].get_text() == nbb_unformatted_code) {\n",
       "                             nbb_cells[i].set_text(nbb_formatted_code);\n",
       "                        }\n",
       "                        break;\n",
       "                    }\n",
       "                }\n",
       "            }, 500);\n",
       "            "
      ],
      "text/plain": [
       "<IPython.core.display.Javascript object>"
      ]
     },
     "metadata": {},
     "output_type": "display_data"
    }
   ],
   "source": [
    "# Variables to make testing easier --> determines variable and lead_time\n",
    "var = 0  # 0,...,4\n",
    "lead_time = 0  # 0,...,30"
   ]
  },
  {
   "cell_type": "markdown",
   "id": "09da3587",
   "metadata": {},
   "source": [
    "#### 1. Load Dataset"
   ]
  },
  {
   "cell_type": "code",
   "execution_count": 13,
   "id": "3200d04b",
   "metadata": {},
   "outputs": [
    {
     "data": {
      "application/javascript": [
       "\n",
       "            setTimeout(function() {\n",
       "                var nbb_cell_id = 13;\n",
       "                var nbb_unformatted_code = \"dat_train_proc = ldp.load_data_all_train_proc_norm()\\ndat_test_proc = ldp.load_data_all_test_proc_norm()\";\n",
       "                var nbb_formatted_code = \"dat_train_proc = ldp.load_data_all_train_proc_norm()\\ndat_test_proc = ldp.load_data_all_test_proc_norm()\";\n",
       "                var nbb_cells = Jupyter.notebook.get_cells();\n",
       "                for (var i = 0; i < nbb_cells.length; ++i) {\n",
       "                    if (nbb_cells[i].input_prompt_number == nbb_cell_id) {\n",
       "                        if (nbb_cells[i].get_text() == nbb_unformatted_code) {\n",
       "                             nbb_cells[i].set_text(nbb_formatted_code);\n",
       "                        }\n",
       "                        break;\n",
       "                    }\n",
       "                }\n",
       "            }, 500);\n",
       "            "
      ],
      "text/plain": [
       "<IPython.core.display.Javascript object>"
      ]
     },
     "metadata": {},
     "output_type": "display_data"
    }
   ],
   "source": [
    "dat_train_proc = ldp.load_data_all_train_proc_norm()\n",
    "dat_test_proc = ldp.load_data_all_test_proc_norm()"
   ]
  },
  {
   "cell_type": "markdown",
   "id": "8c77dc13",
   "metadata": {},
   "source": [
    "#### 2. Data Split"
   ]
  },
  {
   "cell_type": "code",
   "execution_count": 14,
   "id": "f344d4e4",
   "metadata": {},
   "outputs": [
    {
     "data": {
      "application/javascript": [
       "\n",
       "            setTimeout(function() {\n",
       "                var nbb_cell_id = 14;\n",
       "                var nbb_unformatted_code = \"X_train_var_lead_all, y_train_var_lead_all = split_var_lead(dat_train_proc)\\nX_test_lead_all, y_test_var_lead_all = split_var_lead(dat_test_proc)\";\n",
       "                var nbb_formatted_code = \"X_train_var_lead_all, y_train_var_lead_all = split_var_lead(dat_train_proc)\\nX_test_lead_all, y_test_var_lead_all = split_var_lead(dat_test_proc)\";\n",
       "                var nbb_cells = Jupyter.notebook.get_cells();\n",
       "                for (var i = 0; i < nbb_cells.length; ++i) {\n",
       "                    if (nbb_cells[i].input_prompt_number == nbb_cell_id) {\n",
       "                        if (nbb_cells[i].get_text() == nbb_unformatted_code) {\n",
       "                             nbb_cells[i].set_text(nbb_formatted_code);\n",
       "                        }\n",
       "                        break;\n",
       "                    }\n",
       "                }\n",
       "            }, 500);\n",
       "            "
      ],
      "text/plain": [
       "<IPython.core.display.Javascript object>"
      ]
     },
     "metadata": {},
     "output_type": "display_data"
    }
   ],
   "source": [
    "X_train_var_lead_all, y_train_var_lead_all = split_var_lead(dat_train_proc)\n",
    "X_test_lead_all, y_test_var_lead_all = split_var_lead(dat_test_proc)"
   ]
  },
  {
   "cell_type": "markdown",
   "id": "e0f712d1",
   "metadata": {},
   "source": [
    "#### 3. Load Baseline Scores"
   ]
  },
  {
   "cell_type": "code",
   "execution_count": 15,
   "id": "7394ee24",
   "metadata": {},
   "outputs": [
    {
     "data": {
      "application/javascript": [
       "\n",
       "            setTimeout(function() {\n",
       "                var nbb_cell_id = 15;\n",
       "                var nbb_unformatted_code = \"# Load all scores:\\nwith open(\\n    \\\"/Data/Delong_BA_Data/scores/crps_benchmark_scores/crps_var_lead_test.pkl\\\", \\\"rb\\\"\\n) as f:\\n    crps_var_lead_test_scores = pickle.load(f)\";\n",
       "                var nbb_formatted_code = \"# Load all scores:\\nwith open(\\n    \\\"/Data/Delong_BA_Data/scores/crps_benchmark_scores/crps_var_lead_test.pkl\\\", \\\"rb\\\"\\n) as f:\\n    crps_var_lead_test_scores = pickle.load(f)\";\n",
       "                var nbb_cells = Jupyter.notebook.get_cells();\n",
       "                for (var i = 0; i < nbb_cells.length; ++i) {\n",
       "                    if (nbb_cells[i].input_prompt_number == nbb_cell_id) {\n",
       "                        if (nbb_cells[i].get_text() == nbb_unformatted_code) {\n",
       "                             nbb_cells[i].set_text(nbb_formatted_code);\n",
       "                        }\n",
       "                        break;\n",
       "                    }\n",
       "                }\n",
       "            }, 500);\n",
       "            "
      ],
      "text/plain": [
       "<IPython.core.display.Javascript object>"
      ]
     },
     "metadata": {},
     "output_type": "display_data"
    }
   ],
   "source": [
    "# Load all scores:\n",
    "with open(\n",
    "    \"/Data/Delong_BA_Data/scores/crps_benchmark_scores/crps_var_lead_test.pkl\", \"rb\"\n",
    ") as f:\n",
    "    crps_var_lead_test_scores = pickle.load(f)"
   ]
  },
  {
   "cell_type": "code",
   "execution_count": 16,
   "id": "dcf85478",
   "metadata": {},
   "outputs": [
    {
     "data": {
      "application/javascript": [
       "\n",
       "            setTimeout(function() {\n",
       "                var nbb_cell_id = 16;\n",
       "                var nbb_unformatted_code = \"# Load mean scores:\\nwith open(\\n    \\\"/Data/Delong_BA_Data/scores/crps_benchmark_scores/crps_var_lead_mean_test.pkl\\\",\\n    \\\"rb\\\",\\n) as f:\\n    crps_var_lead_mean_test_scores = pickle.load(f)\";\n",
       "                var nbb_formatted_code = \"# Load mean scores:\\nwith open(\\n    \\\"/Data/Delong_BA_Data/scores/crps_benchmark_scores/crps_var_lead_mean_test.pkl\\\",\\n    \\\"rb\\\",\\n) as f:\\n    crps_var_lead_mean_test_scores = pickle.load(f)\";\n",
       "                var nbb_cells = Jupyter.notebook.get_cells();\n",
       "                for (var i = 0; i < nbb_cells.length; ++i) {\n",
       "                    if (nbb_cells[i].input_prompt_number == nbb_cell_id) {\n",
       "                        if (nbb_cells[i].get_text() == nbb_unformatted_code) {\n",
       "                             nbb_cells[i].set_text(nbb_formatted_code);\n",
       "                        }\n",
       "                        break;\n",
       "                    }\n",
       "                }\n",
       "            }, 500);\n",
       "            "
      ],
      "text/plain": [
       "<IPython.core.display.Javascript object>"
      ]
     },
     "metadata": {},
     "output_type": "display_data"
    }
   ],
   "source": [
    "# Load mean scores:\n",
    "with open(\n",
    "    \"/Data/Delong_BA_Data/scores/crps_benchmark_scores/crps_var_lead_mean_test.pkl\",\n",
    "    \"rb\",\n",
    ") as f:\n",
    "    crps_var_lead_mean_test_scores = pickle.load(f)"
   ]
  },
  {
   "cell_type": "markdown",
   "id": "44ec7599",
   "metadata": {},
   "source": [
    "#### 4. Load Emos Models"
   ]
  },
  {
   "cell_type": "code",
   "execution_count": 19,
   "id": "b3d5b1af",
   "metadata": {},
   "outputs": [
    {
     "data": {
      "application/javascript": [
       "\n",
       "            setTimeout(function() {\n",
       "                var nbb_cell_id = 19;\n",
       "                var nbb_unformatted_code = \"def main():\\n    \\\"\\\"\\\"\\n    Load var_lead_time EMOS Models 5x31\\n    \\\"\\\"\\\"\\n    var_names = [\\\"u10\\\", \\\"v10\\\", \\\"t2m\\\", \\\"t850\\\", \\\"z500\\\"]\\n    EMOS_global_var_lead_models = [[], [], [], [], []]\\n    for var in range(5):\\n        for lead_time in range(31):\\n            EMOS_global_var_lead_models[var].append(\\n                tf.keras.models.load_model(\\n                    \\\"/home/dchen/BA_CH_EN/models/EMOS_global_models/EMOS_glob_\\\"\\n                    + var_names[var]\\n                    + \\\"_lead_time_\\\"\\n                    + str(lead_time)\\n                    + \\\".h5\\\", custom_objects={'crps_cost_function': crps_cost_function}\\n                )\\n            )\\n    return EMOS_global_var_lead_models\";\n",
       "                var nbb_formatted_code = \"def main():\\n    \\\"\\\"\\\"\\n    Load var_lead_time EMOS Models 5x31\\n    \\\"\\\"\\\"\\n    var_names = [\\\"u10\\\", \\\"v10\\\", \\\"t2m\\\", \\\"t850\\\", \\\"z500\\\"]\\n    EMOS_global_var_lead_models = [[], [], [], [], []]\\n    for var in range(5):\\n        for lead_time in range(31):\\n            EMOS_global_var_lead_models[var].append(\\n                tf.keras.models.load_model(\\n                    \\\"/home/dchen/BA_CH_EN/models/EMOS_global_models/EMOS_glob_\\\"\\n                    + var_names[var]\\n                    + \\\"_lead_time_\\\"\\n                    + str(lead_time)\\n                    + \\\".h5\\\",\\n                    custom_objects={\\\"crps_cost_function\\\": crps_cost_function},\\n                )\\n            )\\n    return EMOS_global_var_lead_models\";\n",
       "                var nbb_cells = Jupyter.notebook.get_cells();\n",
       "                for (var i = 0; i < nbb_cells.length; ++i) {\n",
       "                    if (nbb_cells[i].input_prompt_number == nbb_cell_id) {\n",
       "                        if (nbb_cells[i].get_text() == nbb_unformatted_code) {\n",
       "                             nbb_cells[i].set_text(nbb_formatted_code);\n",
       "                        }\n",
       "                        break;\n",
       "                    }\n",
       "                }\n",
       "            }, 500);\n",
       "            "
      ],
      "text/plain": [
       "<IPython.core.display.Javascript object>"
      ]
     },
     "metadata": {},
     "output_type": "display_data"
    }
   ],
   "source": [
    "def main():\n",
    "    \"\"\"\n",
    "    Load var_lead_time EMOS Models 5x31\n",
    "    \"\"\"\n",
    "    var_names = [\"u10\", \"v10\", \"t2m\", \"t850\", \"z500\"]\n",
    "    EMOS_global_var_lead_models = [[], [], [], [], []]\n",
    "    for var in range(5):\n",
    "        for lead_time in range(31):\n",
    "            EMOS_global_var_lead_models[var].append(\n",
    "                tf.keras.models.load_model(\n",
    "                    \"/home/dchen/BA_CH_EN/models/EMOS_global_models/EMOS_glob_\"\n",
    "                    + var_names[var]\n",
    "                    + \"_lead_time_\"\n",
    "                    + str(lead_time)\n",
    "                    + \".h5\",\n",
    "                    custom_objects={\"crps_cost_function\": crps_cost_function},\n",
    "                )\n",
    "            )\n",
    "    return EMOS_global_var_lead_models"
   ]
  },
  {
   "cell_type": "code",
   "execution_count": 20,
   "id": "aca4d918",
   "metadata": {},
   "outputs": [
    {
     "data": {
      "application/javascript": [
       "\n",
       "            setTimeout(function() {\n",
       "                var nbb_cell_id = 20;\n",
       "                var nbb_unformatted_code = \"EMOS_global_var_lead_models = main()\";\n",
       "                var nbb_formatted_code = \"EMOS_global_var_lead_models = main()\";\n",
       "                var nbb_cells = Jupyter.notebook.get_cells();\n",
       "                for (var i = 0; i < nbb_cells.length; ++i) {\n",
       "                    if (nbb_cells[i].input_prompt_number == nbb_cell_id) {\n",
       "                        if (nbb_cells[i].get_text() == nbb_unformatted_code) {\n",
       "                             nbb_cells[i].set_text(nbb_formatted_code);\n",
       "                        }\n",
       "                        break;\n",
       "                    }\n",
       "                }\n",
       "            }, 500);\n",
       "            "
      ],
      "text/plain": [
       "<IPython.core.display.Javascript object>"
      ]
     },
     "metadata": {},
     "output_type": "display_data"
    }
   ],
   "source": [
    "EMOS_global_var_lead_models = main()"
   ]
  },
  {
   "cell_type": "code",
   "execution_count": 22,
   "id": "1a842c72",
   "metadata": {},
   "outputs": [
    {
     "data": {
      "text/plain": [
       "31"
      ]
     },
     "execution_count": 22,
     "metadata": {},
     "output_type": "execute_result"
    },
    {
     "data": {
      "application/javascript": [
       "\n",
       "            setTimeout(function() {\n",
       "                var nbb_cell_id = 22;\n",
       "                var nbb_unformatted_code = \"len(EMOS_global_var_lead_models[0])\";\n",
       "                var nbb_formatted_code = \"len(EMOS_global_var_lead_models[0])\";\n",
       "                var nbb_cells = Jupyter.notebook.get_cells();\n",
       "                for (var i = 0; i < nbb_cells.length; ++i) {\n",
       "                    if (nbb_cells[i].input_prompt_number == nbb_cell_id) {\n",
       "                        if (nbb_cells[i].get_text() == nbb_unformatted_code) {\n",
       "                             nbb_cells[i].set_text(nbb_formatted_code);\n",
       "                        }\n",
       "                        break;\n",
       "                    }\n",
       "                }\n",
       "            }, 500);\n",
       "            "
      ],
      "text/plain": [
       "<IPython.core.display.Javascript object>"
      ]
     },
     "metadata": {},
     "output_type": "display_data"
    }
   ],
   "source": [
    "len(EMOS_global_var_lead_models[0])"
   ]
  },
  {
   "cell_type": "code",
   "execution_count": 23,
   "id": "3cfefed7",
   "metadata": {},
   "outputs": [
    {
     "data": {
      "text/plain": [
       "5"
      ]
     },
     "execution_count": 23,
     "metadata": {},
     "output_type": "execute_result"
    },
    {
     "data": {
      "application/javascript": [
       "\n",
       "            setTimeout(function() {\n",
       "                var nbb_cell_id = 23;\n",
       "                var nbb_unformatted_code = \"len(EMOS_global_var_lead_models)\";\n",
       "                var nbb_formatted_code = \"len(EMOS_global_var_lead_models)\";\n",
       "                var nbb_cells = Jupyter.notebook.get_cells();\n",
       "                for (var i = 0; i < nbb_cells.length; ++i) {\n",
       "                    if (nbb_cells[i].input_prompt_number == nbb_cell_id) {\n",
       "                        if (nbb_cells[i].get_text() == nbb_unformatted_code) {\n",
       "                             nbb_cells[i].set_text(nbb_formatted_code);\n",
       "                        }\n",
       "                        break;\n",
       "                    }\n",
       "                }\n",
       "            }, 500);\n",
       "            "
      ],
      "text/plain": [
       "<IPython.core.display.Javascript object>"
      ]
     },
     "metadata": {},
     "output_type": "display_data"
    }
   ],
   "source": [
    "len(EMOS_global_var_lead_models)"
   ]
  },
  {
   "cell_type": "code",
   "execution_count": null,
   "id": "88dbeb3f",
   "metadata": {},
   "outputs": [],
   "source": []
  },
  {
   "cell_type": "code",
   "execution_count": 108,
   "id": "35fbd2c0",
   "metadata": {},
   "outputs": [
    {
     "name": "stdout",
     "output_type": "stream",
     "text": [
      "174038/174038 [==============================] - 226s 1ms/step\n"
     ]
    },
    {
     "data": {
      "application/javascript": [
       "\n",
       "            setTimeout(function() {\n",
       "                var nbb_cell_id = 108;\n",
       "                var nbb_unformatted_code = \"preds = EMOS_glob.predict(\\n    [\\n        X_test_lead_all[var][lead_time].isel(mean_std=0).values.flatten(),\\n        X_test_lead_all[var][lead_time].isel(mean_std=1).values.flatten(),\\n    ], verbose = 1\\n)\";\n",
       "                var nbb_formatted_code = \"preds = EMOS_glob.predict(\\n    [\\n        X_test_lead_all[var][lead_time].isel(mean_std=0).values.flatten(),\\n        X_test_lead_all[var][lead_time].isel(mean_std=1).values.flatten(),\\n    ],\\n    verbose=1,\\n)\";\n",
       "                var nbb_cells = Jupyter.notebook.get_cells();\n",
       "                for (var i = 0; i < nbb_cells.length; ++i) {\n",
       "                    if (nbb_cells[i].input_prompt_number == nbb_cell_id) {\n",
       "                        if (nbb_cells[i].get_text() == nbb_unformatted_code) {\n",
       "                             nbb_cells[i].set_text(nbb_formatted_code);\n",
       "                        }\n",
       "                        break;\n",
       "                    }\n",
       "                }\n",
       "            }, 500);\n",
       "            "
      ],
      "text/plain": [
       "<IPython.core.display.Javascript object>"
      ]
     },
     "metadata": {},
     "output_type": "display_data"
    }
   ],
   "source": [
    "preds = EMOS_glob.predict(\n",
    "    [\n",
    "        X_test_lead_all[var][lead_time].isel(mean_std=0).values.flatten(),\n",
    "        X_test_lead_all[var][lead_time].isel(mean_std=1).values.flatten(),\n",
    "    ],\n",
    "    verbose=1,\n",
    ")"
   ]
  },
  {
   "cell_type": "code",
   "execution_count": 111,
   "id": "a92e87ef",
   "metadata": {},
   "outputs": [
    {
     "data": {
      "application/javascript": [
       "\n",
       "            setTimeout(function() {\n",
       "                var nbb_cell_id = 111;\n",
       "                var nbb_unformatted_code = \"crps_emos = crps_normal(\\n    mu=preds[:, 0], sigma=preds[:, 1], y=y_test_var_lead_all[var][lead_time].values.flatten()\\n)\";\n",
       "                var nbb_formatted_code = \"crps_emos = crps_normal(\\n    mu=preds[:, 0],\\n    sigma=preds[:, 1],\\n    y=y_test_var_lead_all[var][lead_time].values.flatten(),\\n)\";\n",
       "                var nbb_cells = Jupyter.notebook.get_cells();\n",
       "                for (var i = 0; i < nbb_cells.length; ++i) {\n",
       "                    if (nbb_cells[i].input_prompt_number == nbb_cell_id) {\n",
       "                        if (nbb_cells[i].get_text() == nbb_unformatted_code) {\n",
       "                             nbb_cells[i].set_text(nbb_formatted_code);\n",
       "                        }\n",
       "                        break;\n",
       "                    }\n",
       "                }\n",
       "            }, 500);\n",
       "            "
      ],
      "text/plain": [
       "<IPython.core.display.Javascript object>"
      ]
     },
     "metadata": {},
     "output_type": "display_data"
    }
   ],
   "source": [
    "crps_emos = crps_normal(\n",
    "    mu=preds[:, 0],\n",
    "    sigma=preds[:, 1],\n",
    "    y=y_test_var_lead_all[var][lead_time].values.flatten(),\n",
    ")"
   ]
  },
  {
   "cell_type": "code",
   "execution_count": 112,
   "id": "49b78e56",
   "metadata": {},
   "outputs": [
    {
     "data": {
      "text/plain": [
       "0.010947947142388477"
      ]
     },
     "execution_count": 112,
     "metadata": {},
     "output_type": "execute_result"
    },
    {
     "data": {
      "application/javascript": [
       "\n",
       "            setTimeout(function() {\n",
       "                var nbb_cell_id = 112;\n",
       "                var nbb_unformatted_code = \"crps_emos.mean()\";\n",
       "                var nbb_formatted_code = \"crps_emos.mean()\";\n",
       "                var nbb_cells = Jupyter.notebook.get_cells();\n",
       "                for (var i = 0; i < nbb_cells.length; ++i) {\n",
       "                    if (nbb_cells[i].input_prompt_number == nbb_cell_id) {\n",
       "                        if (nbb_cells[i].get_text() == nbb_unformatted_code) {\n",
       "                             nbb_cells[i].set_text(nbb_formatted_code);\n",
       "                        }\n",
       "                        break;\n",
       "                    }\n",
       "                }\n",
       "            }, 500);\n",
       "            "
      ],
      "text/plain": [
       "<IPython.core.display.Javascript object>"
      ]
     },
     "metadata": {},
     "output_type": "display_data"
    }
   ],
   "source": [
    "crps_emos.mean()"
   ]
  }
 ],
 "metadata": {
  "kernelspec": {
   "display_name": "Python 3 (ipykernel)",
   "language": "python",
   "name": "python3"
  },
  "language_info": {
   "codemirror_mode": {
    "name": "ipython",
    "version": 3
   },
   "file_extension": ".py",
   "mimetype": "text/x-python",
   "name": "python",
   "nbconvert_exporter": "python",
   "pygments_lexer": "ipython3",
   "version": "3.9.7"
  }
 },
 "nbformat": 4,
 "nbformat_minor": 5
}
