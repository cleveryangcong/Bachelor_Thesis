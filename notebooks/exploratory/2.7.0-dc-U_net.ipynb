{
 "cells": [
  {
   "cell_type": "code",
   "execution_count": 1,
   "id": "356499c6",
   "metadata": {},
   "outputs": [
    {
     "data": {
      "application/javascript": [
       "\n",
       "            setTimeout(function() {\n",
       "                var nbb_cell_id = 1;\n",
       "                var nbb_unformatted_code = \"%load_ext nb_black\";\n",
       "                var nbb_formatted_code = \"%load_ext nb_black\";\n",
       "                var nbb_cells = Jupyter.notebook.get_cells();\n",
       "                for (var i = 0; i < nbb_cells.length; ++i) {\n",
       "                    if (nbb_cells[i].input_prompt_number == nbb_cell_id) {\n",
       "                        if (nbb_cells[i].get_text() == nbb_unformatted_code) {\n",
       "                             nbb_cells[i].set_text(nbb_formatted_code);\n",
       "                        }\n",
       "                        break;\n",
       "                    }\n",
       "                }\n",
       "            }, 500);\n",
       "            "
      ],
      "text/plain": [
       "<IPython.core.display.Javascript object>"
      ]
     },
     "metadata": {},
     "output_type": "display_data"
    }
   ],
   "source": [
    "%load_ext nb_black"
   ]
  },
  {
   "cell_type": "code",
   "execution_count": 3,
   "id": "ba793edd",
   "metadata": {
    "scrolled": true
   },
   "outputs": [
    {
     "data": {
      "application/javascript": [
       "\n",
       "            setTimeout(function() {\n",
       "                var nbb_cell_id = 3;\n",
       "                var nbb_unformatted_code = \"import sys\\n\\nsys.path.append(\\\"/home/dchen/BA_CH_EN/\\\")\\n\\n# Basics\\nimport tensorflow as tf\\nimport xarray as xr\\n\\n# Helpful\\nfrom tqdm import tqdm\\n\\n# Visualization\\nimport matplotlib.pyplot as plt\\n\\n# My Methods\\nfrom src.utils.CRPS import *  # CRPS metrics\\nfrom src.utils.data_split import *  # Splitting data into X and y\\nfrom src.utils.drn_make_X_array import *  # Import make train array functions (make_X_array)\\nfrom src.models.EMOS import *  # EMOS implementation\\nfrom src.models.DRN.DRN_model import *  # DRN implementation\\nfrom src.models.EMOS_global.EMOS_global_load_score import *  # Load EMOS_global_scores\\nfrom src.models.EMOS_global.EMOS_global_load_model import *  # Load EMOS_global_models\\nimport data.raw.load_data_raw as ldr  # Load raw data\\nimport data.processed.load_data_processed as ldp  # Load processed data normed\\nimport data.processed.load_data_processed_denormed as ldpd  # Load processed data denormed\\nfrom src.models.CRPS_baseline.CRPS_load import *  # Load CRPS scores\\nfrom src.models.U_net.unet import Unet\";\n",
       "                var nbb_formatted_code = \"import sys\\n\\nsys.path.append(\\\"/home/dchen/BA_CH_EN/\\\")\\n\\n# Basics\\nimport tensorflow as tf\\nimport xarray as xr\\n\\n# Helpful\\nfrom tqdm import tqdm\\n\\n# Visualization\\nimport matplotlib.pyplot as plt\\n\\n# My Methods\\nfrom src.utils.CRPS import *  # CRPS metrics\\nfrom src.utils.data_split import *  # Splitting data into X and y\\nfrom src.utils.drn_make_X_array import *  # Import make train array functions (make_X_array)\\nfrom src.models.EMOS import *  # EMOS implementation\\nfrom src.models.DRN.DRN_model import *  # DRN implementation\\nfrom src.models.EMOS_global.EMOS_global_load_score import *  # Load EMOS_global_scores\\nfrom src.models.EMOS_global.EMOS_global_load_model import *  # Load EMOS_global_models\\nimport data.raw.load_data_raw as ldr  # Load raw data\\nimport data.processed.load_data_processed as ldp  # Load processed data normed\\nimport data.processed.load_data_processed_denormed as ldpd  # Load processed data denormed\\nfrom src.models.CRPS_baseline.CRPS_load import *  # Load CRPS scores\\nfrom src.models.U_net.unet import Unet\";\n",
       "                var nbb_cells = Jupyter.notebook.get_cells();\n",
       "                for (var i = 0; i < nbb_cells.length; ++i) {\n",
       "                    if (nbb_cells[i].input_prompt_number == nbb_cell_id) {\n",
       "                        if (nbb_cells[i].get_text() == nbb_unformatted_code) {\n",
       "                             nbb_cells[i].set_text(nbb_formatted_code);\n",
       "                        }\n",
       "                        break;\n",
       "                    }\n",
       "                }\n",
       "            }, 500);\n",
       "            "
      ],
      "text/plain": [
       "<IPython.core.display.Javascript object>"
      ]
     },
     "metadata": {},
     "output_type": "display_data"
    }
   ],
   "source": [
    "import sys\n",
    "\n",
    "sys.path.append(\"/home/dchen/BA_CH_EN/\")\n",
    "\n",
    "# Basics\n",
    "import tensorflow as tf\n",
    "import xarray as xr\n",
    "\n",
    "# Helpful\n",
    "from tqdm import tqdm\n",
    "\n",
    "# Visualization\n",
    "import matplotlib.pyplot as plt\n",
    "\n",
    "# My Methods\n",
    "from src.utils.CRPS import *  # CRPS metrics\n",
    "from src.utils.data_split import *  # Splitting data into X and y\n",
    "from src.utils.drn_make_X_array import *  # Import make train array functions (make_X_array)\n",
    "from src.models.EMOS import *  # EMOS implementation\n",
    "from src.models.DRN.DRN_model import *  # DRN implementation\n",
    "from src.models.EMOS_global.EMOS_global_load_score import *  # Load EMOS_global_scores\n",
    "from src.models.EMOS_global.EMOS_global_load_model import *  # Load EMOS_global_models\n",
    "import data.raw.load_data_raw as ldr  # Load raw data\n",
    "import data.processed.load_data_processed as ldp  # Load processed data normed\n",
    "import data.processed.load_data_processed_denormed as ldpd  # Load processed data denormed\n",
    "from src.models.CRPS_baseline.CRPS_load import *  # Load CRPS scores\n",
    "from src.models.U_net.unet import Unet"
   ]
  },
  {
   "cell_type": "markdown",
   "id": "2ff7bb38",
   "metadata": {},
   "source": [
    "### 0. Setup"
   ]
  },
  {
   "cell_type": "code",
   "execution_count": 4,
   "id": "06d72df2",
   "metadata": {},
   "outputs": [
    {
     "data": {
      "application/javascript": [
       "\n",
       "            setTimeout(function() {\n",
       "                var nbb_cell_id = 4;\n",
       "                var nbb_unformatted_code = \"from tensorflow.keras.callbacks import Callback\\nfrom tensorflow.keras.callbacks import EarlyStopping\\n\\n\\nclass CustomEarlyStopping(Callback):\\n    def __init__(self, patience=5):\\n        super(CustomEarlyStopping, self).__init__()\\n        self.patience = patience\\n        # best_weights to store the weights at which the minimum loss occurs.\\n        self.best_weights = None\\n\\n    def on_train_begin(self, logs=None):\\n        # The number of epoch it has waited when loss is no longer minimum.\\n        self.wait = 0\\n        # The epoch the training stops at.\\n        self.stopped_epoch = 0\\n        # Initialize the best as infinity.\\n        self.best = np.Inf\\n        self.early_stopping = EarlyStopping(patience=self.patience)\\n\\n    def on_epoch_end(self, epoch, logs=None):\\n        current_loss = logs.get(\\\"loss\\\")\\n        if current_loss is None:\\n            return\\n\\n        if current_loss < 1:\\n            if np.less(current_loss, self.best):\\n                self.best = current_loss\\n                self.wait = 0\\n                # Record the best weights if current results is better (less).\\n                self.best_weights = self.model.get_weights()\\n            else:\\n                self.wait += 1\\n                if self.wait >= self.patience:\\n                    self.stopped_epoch = epoch\\n                    self.model.stop_training = True\\n                    print(\\\"Restoring model weights from the end of the best epoch.\\\")\\n                    self.model.set_weights(self.best_weights)\\n        else:\\n            # If loss is greater than 1, then reset the patience and best score\\n            self.wait = 0\\n            self.best = np.Inf\\n\\n    def on_train_end(self, logs=None):\\n        if self.stopped_epoch > 0:\\n            print(\\\"Epoch %05d: early stopping\\\" % (self.stopped_epoch + 1))\";\n",
       "                var nbb_formatted_code = \"from tensorflow.keras.callbacks import Callback\\nfrom tensorflow.keras.callbacks import EarlyStopping\\n\\n\\nclass CustomEarlyStopping(Callback):\\n    def __init__(self, patience=5):\\n        super(CustomEarlyStopping, self).__init__()\\n        self.patience = patience\\n        # best_weights to store the weights at which the minimum loss occurs.\\n        self.best_weights = None\\n\\n    def on_train_begin(self, logs=None):\\n        # The number of epoch it has waited when loss is no longer minimum.\\n        self.wait = 0\\n        # The epoch the training stops at.\\n        self.stopped_epoch = 0\\n        # Initialize the best as infinity.\\n        self.best = np.Inf\\n        self.early_stopping = EarlyStopping(patience=self.patience)\\n\\n    def on_epoch_end(self, epoch, logs=None):\\n        current_loss = logs.get(\\\"loss\\\")\\n        if current_loss is None:\\n            return\\n\\n        if current_loss < 1:\\n            if np.less(current_loss, self.best):\\n                self.best = current_loss\\n                self.wait = 0\\n                # Record the best weights if current results is better (less).\\n                self.best_weights = self.model.get_weights()\\n            else:\\n                self.wait += 1\\n                if self.wait >= self.patience:\\n                    self.stopped_epoch = epoch\\n                    self.model.stop_training = True\\n                    print(\\\"Restoring model weights from the end of the best epoch.\\\")\\n                    self.model.set_weights(self.best_weights)\\n        else:\\n            # If loss is greater than 1, then reset the patience and best score\\n            self.wait = 0\\n            self.best = np.Inf\\n\\n    def on_train_end(self, logs=None):\\n        if self.stopped_epoch > 0:\\n            print(\\\"Epoch %05d: early stopping\\\" % (self.stopped_epoch + 1))\";\n",
       "                var nbb_cells = Jupyter.notebook.get_cells();\n",
       "                for (var i = 0; i < nbb_cells.length; ++i) {\n",
       "                    if (nbb_cells[i].input_prompt_number == nbb_cell_id) {\n",
       "                        if (nbb_cells[i].get_text() == nbb_unformatted_code) {\n",
       "                             nbb_cells[i].set_text(nbb_formatted_code);\n",
       "                        }\n",
       "                        break;\n",
       "                    }\n",
       "                }\n",
       "            }, 500);\n",
       "            "
      ],
      "text/plain": [
       "<IPython.core.display.Javascript object>"
      ]
     },
     "metadata": {},
     "output_type": "display_data"
    }
   ],
   "source": [
    "from tensorflow.keras.callbacks import Callback\n",
    "from tensorflow.keras.callbacks import EarlyStopping\n",
    "\n",
    "\n",
    "class CustomEarlyStopping(Callback):\n",
    "    def __init__(self, patience=5):\n",
    "        super(CustomEarlyStopping, self).__init__()\n",
    "        self.patience = patience\n",
    "        # best_weights to store the weights at which the minimum loss occurs.\n",
    "        self.best_weights = None\n",
    "\n",
    "    def on_train_begin(self, logs=None):\n",
    "        # The number of epoch it has waited when loss is no longer minimum.\n",
    "        self.wait = 0\n",
    "        # The epoch the training stops at.\n",
    "        self.stopped_epoch = 0\n",
    "        # Initialize the best as infinity.\n",
    "        self.best = np.Inf\n",
    "        self.early_stopping = EarlyStopping(patience=self.patience)\n",
    "\n",
    "    def on_epoch_end(self, epoch, logs=None):\n",
    "        current_loss = logs.get(\"loss\")\n",
    "        if current_loss is None:\n",
    "            return\n",
    "\n",
    "        if current_loss < 1:\n",
    "            if np.less(current_loss, self.best):\n",
    "                self.best = current_loss\n",
    "                self.wait = 0\n",
    "                # Record the best weights if current results is better (less).\n",
    "                self.best_weights = self.model.get_weights()\n",
    "            else:\n",
    "                self.wait += 1\n",
    "                if self.wait >= self.patience:\n",
    "                    self.stopped_epoch = epoch\n",
    "                    self.model.stop_training = True\n",
    "                    print(\"Restoring model weights from the end of the best epoch.\")\n",
    "                    self.model.set_weights(self.best_weights)\n",
    "        else:\n",
    "            # If loss is greater than 1, then reset the patience and best score\n",
    "            self.wait = 0\n",
    "            self.best = np.Inf\n",
    "\n",
    "    def on_train_end(self, logs=None):\n",
    "        if self.stopped_epoch > 0:\n",
    "            print(\"Epoch %05d: early stopping\" % (self.stopped_epoch + 1))"
   ]
  },
  {
   "cell_type": "markdown",
   "id": "2b6ffa75",
   "metadata": {},
   "source": [
    "### 1. Load Data"
   ]
  },
  {
   "cell_type": "code",
   "execution_count": 5,
   "id": "9b408a5f",
   "metadata": {},
   "outputs": [
    {
     "data": {
      "application/javascript": [
       "\n",
       "            setTimeout(function() {\n",
       "                var nbb_cell_id = 5;\n",
       "                var nbb_unformatted_code = \"# Denormed Processed Data\\ndat_train_denorm = ldpd.load_data_all_train_proc_denorm()\\ndat_test_denorm = ldpd.load_data_all_test_proc_denorm()\";\n",
       "                var nbb_formatted_code = \"# Denormed Processed Data\\ndat_train_denorm = ldpd.load_data_all_train_proc_denorm()\\ndat_test_denorm = ldpd.load_data_all_test_proc_denorm()\";\n",
       "                var nbb_cells = Jupyter.notebook.get_cells();\n",
       "                for (var i = 0; i < nbb_cells.length; ++i) {\n",
       "                    if (nbb_cells[i].input_prompt_number == nbb_cell_id) {\n",
       "                        if (nbb_cells[i].get_text() == nbb_unformatted_code) {\n",
       "                             nbb_cells[i].set_text(nbb_formatted_code);\n",
       "                        }\n",
       "                        break;\n",
       "                    }\n",
       "                }\n",
       "            }, 500);\n",
       "            "
      ],
      "text/plain": [
       "<IPython.core.display.Javascript object>"
      ]
     },
     "metadata": {},
     "output_type": "display_data"
    }
   ],
   "source": [
    "# Denormed Processed Data\n",
    "dat_train_denorm = ldpd.load_data_all_train_proc_denorm()\n",
    "dat_test_denorm = ldpd.load_data_all_test_proc_denorm()"
   ]
  },
  {
   "cell_type": "markdown",
   "id": "bc0ad527",
   "metadata": {},
   "source": [
    "### 2. Data Split"
   ]
  },
  {
   "cell_type": "code",
   "execution_count": 6,
   "id": "c1b6d559",
   "metadata": {},
   "outputs": [
    {
     "data": {
      "application/javascript": [
       "\n",
       "            setTimeout(function() {\n",
       "                var nbb_cell_id = 6;\n",
       "                var nbb_unformatted_code = \"dat_X_train_lead_all_denorm, dat_y_train_lead_all_denorm = split_var_lead(\\n    dat_train_denorm\\n)\\ndat_X_test_lead_all_denorm, dat_y_test_lead_all_denorm = split_var_lead(dat_test_denorm)\";\n",
       "                var nbb_formatted_code = \"dat_X_train_lead_all_denorm, dat_y_train_lead_all_denorm = split_var_lead(\\n    dat_train_denorm\\n)\\ndat_X_test_lead_all_denorm, dat_y_test_lead_all_denorm = split_var_lead(dat_test_denorm)\";\n",
       "                var nbb_cells = Jupyter.notebook.get_cells();\n",
       "                for (var i = 0; i < nbb_cells.length; ++i) {\n",
       "                    if (nbb_cells[i].input_prompt_number == nbb_cell_id) {\n",
       "                        if (nbb_cells[i].get_text() == nbb_unformatted_code) {\n",
       "                             nbb_cells[i].set_text(nbb_formatted_code);\n",
       "                        }\n",
       "                        break;\n",
       "                    }\n",
       "                }\n",
       "            }, 500);\n",
       "            "
      ],
      "text/plain": [
       "<IPython.core.display.Javascript object>"
      ]
     },
     "metadata": {},
     "output_type": "display_data"
    }
   ],
   "source": [
    "dat_X_train_lead_all_denorm, dat_y_train_lead_all_denorm = split_var_lead(\n",
    "    dat_train_denorm\n",
    ")\n",
    "dat_X_test_lead_all_denorm, dat_y_test_lead_all_denorm = split_var_lead(dat_test_denorm)"
   ]
  },
  {
   "cell_type": "markdown",
   "id": "1e533445",
   "metadata": {},
   "source": [
    "### 3. Building U-Net"
   ]
  },
  {
   "cell_type": "markdown",
   "id": "c0b26681",
   "metadata": {},
   "source": [
    "Test with t2m lead_time = 6h"
   ]
  },
  {
   "cell_type": "code",
   "execution_count": 7,
   "id": "07b8fae4",
   "metadata": {},
   "outputs": [
    {
     "data": {
      "application/javascript": [
       "\n",
       "            setTimeout(function() {\n",
       "                var nbb_cell_id = 7;\n",
       "                var nbb_unformatted_code = \"train_data_mean = dat_X_train_lead_all_denorm[2][0].isel(mean_std=0)\\ntrain_data_std = dat_X_train_lead_all_denorm[2][0].isel(mean_std=1)\\ntrain_data_y = dat_y_train_lead_all_denorm[2][0]\\ntrain_data_mean = np.expand_dims(train_data_mean, axis=-1)\\ntrain_data_std = np.expand_dims(train_data_std, axis=-1)\\n\\n\\ntest_data_mean = dat_X_test_lead_all_denorm[2][0].isel(mean_std=0)\\ntest_data_std = dat_X_test_lead_all_denorm[2][0].isel(mean_std=1)\\ntest_data_y = dat_y_test_lead_all_denorm[2][0]\\ntest_data_mean = np.expand_dims(test_data_mean, axis=-1)\\ntest_data_std = np.expand_dims(test_data_std, axis=-1)\";\n",
       "                var nbb_formatted_code = \"train_data_mean = dat_X_train_lead_all_denorm[2][0].isel(mean_std=0)\\ntrain_data_std = dat_X_train_lead_all_denorm[2][0].isel(mean_std=1)\\ntrain_data_y = dat_y_train_lead_all_denorm[2][0]\\ntrain_data_mean = np.expand_dims(train_data_mean, axis=-1)\\ntrain_data_std = np.expand_dims(train_data_std, axis=-1)\\n\\n\\ntest_data_mean = dat_X_test_lead_all_denorm[2][0].isel(mean_std=0)\\ntest_data_std = dat_X_test_lead_all_denorm[2][0].isel(mean_std=1)\\ntest_data_y = dat_y_test_lead_all_denorm[2][0]\\ntest_data_mean = np.expand_dims(test_data_mean, axis=-1)\\ntest_data_std = np.expand_dims(test_data_std, axis=-1)\";\n",
       "                var nbb_cells = Jupyter.notebook.get_cells();\n",
       "                for (var i = 0; i < nbb_cells.length; ++i) {\n",
       "                    if (nbb_cells[i].input_prompt_number == nbb_cell_id) {\n",
       "                        if (nbb_cells[i].get_text() == nbb_unformatted_code) {\n",
       "                             nbb_cells[i].set_text(nbb_formatted_code);\n",
       "                        }\n",
       "                        break;\n",
       "                    }\n",
       "                }\n",
       "            }, 500);\n",
       "            "
      ],
      "text/plain": [
       "<IPython.core.display.Javascript object>"
      ]
     },
     "metadata": {},
     "output_type": "display_data"
    }
   ],
   "source": [
    "train_data_mean = dat_X_train_lead_all_denorm[2][0].isel(mean_std=0)\n",
    "train_data_std = dat_X_train_lead_all_denorm[2][0].isel(mean_std=1)\n",
    "train_data_y = dat_y_train_lead_all_denorm[2][0]\n",
    "train_data_mean = np.expand_dims(train_data_mean, axis=-1)\n",
    "train_data_std = np.expand_dims(train_data_std, axis=-1)\n",
    "\n",
    "\n",
    "test_data_mean = dat_X_test_lead_all_denorm[2][0].isel(mean_std=0)\n",
    "test_data_std = dat_X_test_lead_all_denorm[2][0].isel(mean_std=1)\n",
    "test_data_y = dat_y_test_lead_all_denorm[2][0]\n",
    "test_data_mean = np.expand_dims(test_data_mean, axis=-1)\n",
    "test_data_std = np.expand_dims(test_data_std, axis=-1)"
   ]
  },
  {
   "cell_type": "code",
   "execution_count": 8,
   "id": "a5016cc8",
   "metadata": {},
   "outputs": [
    {
     "data": {
      "application/javascript": [
       "\n",
       "            setTimeout(function() {\n",
       "                var nbb_cell_id = 8;\n",
       "                var nbb_unformatted_code = \"def pad_images(images, desired_shape=(128, 144)):\\n    padded_images = np.pad(\\n        images,\\n        (\\n            (0, 0),  # don't pad along the batch axis\\n            (\\n                (desired_shape[0] - images.shape[1]) // 2,\\n                (desired_shape[0] - images.shape[1]) // 2,\\n            ),  # pad symmetrically along the height\\n            (\\n                (desired_shape[1] - images.shape[2]) // 2,\\n                (desired_shape[1] - images.shape[2]) // 2,\\n            ),  # pad symmetrically along the width\\n            (0, 0),\\n        ),  # don't pad along the channel axis\\n        mode=\\\"reflect\\\",\\n    )\\n    return padded_images\\n\\n\\ndef pad_images_y(images, desired_shape=(128, 144)):\\n    # Calculate padding for height and width\\n    pad_height = desired_shape[0] - images.shape[1]\\n    pad_width = desired_shape[1] - images.shape[2]\\n\\n    # Distribute padding evenly to both sides, add extra to the end if odd difference\\n    pad_height_t, pad_height_b = pad_height // 2, pad_height - pad_height // 2\\n    pad_width_l, pad_width_r = pad_width // 2, pad_width - pad_width // 2\\n\\n    padded_images = np.pad(\\n        images,\\n        (\\n            (0, 0),  # don't pad along the batch axis\\n            (pad_height_t, pad_height_b),  # pad symmetrically along the height\\n            (pad_width_l, pad_width_r),  # pad symmetrically along the width\\n        ),\\n        mode=\\\"reflect\\\",\\n    )\\n\\n    return padded_images\";\n",
       "                var nbb_formatted_code = \"def pad_images(images, desired_shape=(128, 144)):\\n    padded_images = np.pad(\\n        images,\\n        (\\n            (0, 0),  # don't pad along the batch axis\\n            (\\n                (desired_shape[0] - images.shape[1]) // 2,\\n                (desired_shape[0] - images.shape[1]) // 2,\\n            ),  # pad symmetrically along the height\\n            (\\n                (desired_shape[1] - images.shape[2]) // 2,\\n                (desired_shape[1] - images.shape[2]) // 2,\\n            ),  # pad symmetrically along the width\\n            (0, 0),\\n        ),  # don't pad along the channel axis\\n        mode=\\\"reflect\\\",\\n    )\\n    return padded_images\\n\\n\\ndef pad_images_y(images, desired_shape=(128, 144)):\\n    # Calculate padding for height and width\\n    pad_height = desired_shape[0] - images.shape[1]\\n    pad_width = desired_shape[1] - images.shape[2]\\n\\n    # Distribute padding evenly to both sides, add extra to the end if odd difference\\n    pad_height_t, pad_height_b = pad_height // 2, pad_height - pad_height // 2\\n    pad_width_l, pad_width_r = pad_width // 2, pad_width - pad_width // 2\\n\\n    padded_images = np.pad(\\n        images,\\n        (\\n            (0, 0),  # don't pad along the batch axis\\n            (pad_height_t, pad_height_b),  # pad symmetrically along the height\\n            (pad_width_l, pad_width_r),  # pad symmetrically along the width\\n        ),\\n        mode=\\\"reflect\\\",\\n    )\\n\\n    return padded_images\";\n",
       "                var nbb_cells = Jupyter.notebook.get_cells();\n",
       "                for (var i = 0; i < nbb_cells.length; ++i) {\n",
       "                    if (nbb_cells[i].input_prompt_number == nbb_cell_id) {\n",
       "                        if (nbb_cells[i].get_text() == nbb_unformatted_code) {\n",
       "                             nbb_cells[i].set_text(nbb_formatted_code);\n",
       "                        }\n",
       "                        break;\n",
       "                    }\n",
       "                }\n",
       "            }, 500);\n",
       "            "
      ],
      "text/plain": [
       "<IPython.core.display.Javascript object>"
      ]
     },
     "metadata": {},
     "output_type": "display_data"
    }
   ],
   "source": [
    "def pad_images(images, desired_shape=(128, 144)):\n",
    "    padded_images = np.pad(\n",
    "        images,\n",
    "        (\n",
    "            (0, 0),  # don't pad along the batch axis\n",
    "            (\n",
    "                (desired_shape[0] - images.shape[1]) // 2,\n",
    "                (desired_shape[0] - images.shape[1]) // 2,\n",
    "            ),  # pad symmetrically along the height\n",
    "            (\n",
    "                (desired_shape[1] - images.shape[2]) // 2,\n",
    "                (desired_shape[1] - images.shape[2]) // 2,\n",
    "            ),  # pad symmetrically along the width\n",
    "            (0, 0),\n",
    "        ),  # don't pad along the channel axis\n",
    "        mode=\"reflect\",\n",
    "    )\n",
    "    return padded_images\n",
    "\n",
    "\n",
    "def pad_images_y(images, desired_shape=(128, 144)):\n",
    "    # Calculate padding for height and width\n",
    "    pad_height = desired_shape[0] - images.shape[1]\n",
    "    pad_width = desired_shape[1] - images.shape[2]\n",
    "\n",
    "    # Distribute padding evenly to both sides, add extra to the end if odd difference\n",
    "    pad_height_t, pad_height_b = pad_height // 2, pad_height - pad_height // 2\n",
    "    pad_width_l, pad_width_r = pad_width // 2, pad_width - pad_width // 2\n",
    "\n",
    "    padded_images = np.pad(\n",
    "        images,\n",
    "        (\n",
    "            (0, 0),  # don't pad along the batch axis\n",
    "            (pad_height_t, pad_height_b),  # pad symmetrically along the height\n",
    "            (pad_width_l, pad_width_r),  # pad symmetrically along the width\n",
    "        ),\n",
    "        mode=\"reflect\",\n",
    "    )\n",
    "\n",
    "    return padded_images"
   ]
  },
  {
   "cell_type": "code",
   "execution_count": 9,
   "id": "f68e1914",
   "metadata": {},
   "outputs": [
    {
     "name": "stdout",
     "output_type": "stream",
     "text": [
      "(1429, 128, 144, 1)\n",
      "(1429, 128, 144)\n",
      "(357, 128, 144, 1)\n",
      "(357, 128, 144)\n"
     ]
    },
    {
     "data": {
      "application/javascript": [
       "\n",
       "            setTimeout(function() {\n",
       "                var nbb_cell_id = 9;\n",
       "                var nbb_unformatted_code = \"# pad your train and test datasets\\npadded_train_data_mean = pad_images(train_data_mean)\\npadded_train_data_std = pad_images(train_data_std)\\npadded_train_data_y = pad_images_y(train_data_y)\\n# padded_test_data = pad_images(test_data)\\npadded_test_data_mean = pad_images(test_data_mean)\\npadded_test_data_std = pad_images(test_data_std)\\npadded_test_data_y = pad_images_y(test_data_y)\\n\\n\\nprint(padded_train_data_mean.shape)\\nprint(padded_train_data_y.shape)  # should print (1429, 128, 136, 1)\\n\\nprint(padded_test_data_mean.shape)\\nprint(padded_test_data_y.shape)\\n# print(padded_test_data.shape) # should print (357, 128, 136, 1)\";\n",
       "                var nbb_formatted_code = \"# pad your train and test datasets\\npadded_train_data_mean = pad_images(train_data_mean)\\npadded_train_data_std = pad_images(train_data_std)\\npadded_train_data_y = pad_images_y(train_data_y)\\n# padded_test_data = pad_images(test_data)\\npadded_test_data_mean = pad_images(test_data_mean)\\npadded_test_data_std = pad_images(test_data_std)\\npadded_test_data_y = pad_images_y(test_data_y)\\n\\n\\nprint(padded_train_data_mean.shape)\\nprint(padded_train_data_y.shape)  # should print (1429, 128, 136, 1)\\n\\nprint(padded_test_data_mean.shape)\\nprint(padded_test_data_y.shape)\\n# print(padded_test_data.shape) # should print (357, 128, 136, 1)\";\n",
       "                var nbb_cells = Jupyter.notebook.get_cells();\n",
       "                for (var i = 0; i < nbb_cells.length; ++i) {\n",
       "                    if (nbb_cells[i].input_prompt_number == nbb_cell_id) {\n",
       "                        if (nbb_cells[i].get_text() == nbb_unformatted_code) {\n",
       "                             nbb_cells[i].set_text(nbb_formatted_code);\n",
       "                        }\n",
       "                        break;\n",
       "                    }\n",
       "                }\n",
       "            }, 500);\n",
       "            "
      ],
      "text/plain": [
       "<IPython.core.display.Javascript object>"
      ]
     },
     "metadata": {},
     "output_type": "display_data"
    }
   ],
   "source": [
    "# pad your train and test datasets\n",
    "padded_train_data_mean = pad_images(train_data_mean)\n",
    "padded_train_data_std = pad_images(train_data_std)\n",
    "padded_train_data_y = pad_images_y(train_data_y)\n",
    "# padded_test_data = pad_images(test_data)\n",
    "padded_test_data_mean = pad_images(test_data_mean)\n",
    "padded_test_data_std = pad_images(test_data_std)\n",
    "padded_test_data_y = pad_images_y(test_data_y)\n",
    "\n",
    "\n",
    "print(padded_train_data_mean.shape)\n",
    "print(padded_train_data_y.shape)  # should print (1429, 128, 136, 1)\n",
    "\n",
    "print(padded_test_data_mean.shape)\n",
    "print(padded_test_data_y.shape)\n",
    "# print(padded_test_data.shape) # should print (357, 128, 136, 1)"
   ]
  },
  {
   "cell_type": "code",
   "execution_count": 11,
   "id": "3500b21f",
   "metadata": {
    "scrolled": true
   },
   "outputs": [
    {
     "name": "stdout",
     "output_type": "stream",
     "text": [
      "Downsampling block 1 shape:  (None, 64, 72, 64)\n",
      "Downsampling block 2 shape:  (None, 32, 36, 128)\n",
      "Downsampling block 3 shape:  (None, 16, 18, 256)\n",
      "Downsampling block 4 shape:  (None, 8, 9, 512)\n",
      "Bottleneck shape:  (None, 8, 9, 1024)\n",
      "Upsampling block 5 shape:  (None, 8, 9, 1024)\n",
      "Upsampling block 4 shape:  (None, 16, 18, 512)\n",
      "Upsampling block 3 shape:  (None, 32, 36, 256)\n",
      "Upsampling block 2 shape:  (None, 64, 72, 128)\n",
      "Upsampling block 1 shape:  (None, 128, 144, 64)\n"
     ]
    },
    {
     "data": {
      "application/javascript": [
       "\n",
       "            setTimeout(function() {\n",
       "                var nbb_cell_id = 11;\n",
       "                var nbb_unformatted_code = \"# Parameters for Unet class initialization\\nv = \\\"tp\\\"  # Or any other value based on your preference\\ntrain_patches = False  # Or True if you want to train with patches\\n\\n# Initialize the U-Net model\\nunet_model = Unet(v=v, train_patches=train_patches)\\n\\n# Build the model with your training data shape\\nmodel = unet_model.build_model(padded_train_data_mean.shape, 2, learning_rate=0.01)\";\n",
       "                var nbb_formatted_code = \"# Parameters for Unet class initialization\\nv = \\\"tp\\\"  # Or any other value based on your preference\\ntrain_patches = False  # Or True if you want to train with patches\\n\\n# Initialize the U-Net model\\nunet_model = Unet(v=v, train_patches=train_patches)\\n\\n# Build the model with your training data shape\\nmodel = unet_model.build_model(padded_train_data_mean.shape, 2, learning_rate=0.01)\";\n",
       "                var nbb_cells = Jupyter.notebook.get_cells();\n",
       "                for (var i = 0; i < nbb_cells.length; ++i) {\n",
       "                    if (nbb_cells[i].input_prompt_number == nbb_cell_id) {\n",
       "                        if (nbb_cells[i].get_text() == nbb_unformatted_code) {\n",
       "                             nbb_cells[i].set_text(nbb_formatted_code);\n",
       "                        }\n",
       "                        break;\n",
       "                    }\n",
       "                }\n",
       "            }, 500);\n",
       "            "
      ],
      "text/plain": [
       "<IPython.core.display.Javascript object>"
      ]
     },
     "metadata": {},
     "output_type": "display_data"
    }
   ],
   "source": [
    "# Parameters for Unet class initialization\n",
    "v = \"tp\"  # Or any other value based on your preference\n",
    "train_patches = False  # Or True if you want to train with patches\n",
    "\n",
    "# Initialize the U-Net model\n",
    "unet_model = Unet(v=v, train_patches=train_patches)\n",
    "\n",
    "# Build the model with your training data shape\n",
    "model = unet_model.build_model(padded_train_data_mean.shape, 2, learning_rate=0.01)"
   ]
  },
  {
   "cell_type": "code",
   "execution_count": null,
   "id": "472a0fd4",
   "metadata": {
    "scrolled": false
   },
   "outputs": [
    {
     "name": "stdout",
     "output_type": "stream",
     "text": [
      "Epoch 1/150\n",
      "9/9 [==============================] - 205s 23s/step - loss: 0.6263 - val_loss: 680.9341\n",
      "Epoch 2/150\n",
      "9/9 [==============================] - 205s 23s/step - loss: 0.6252 - val_loss: 562.3215\n",
      "Epoch 3/150\n",
      "9/9 [==============================] - 206s 23s/step - loss: 0.8386 - val_loss: 1028.6700\n",
      "Epoch 4/150\n",
      "9/9 [==============================] - 206s 23s/step - loss: 0.8790 - val_loss: 2087.9595\n",
      "Epoch 5/150\n",
      "9/9 [==============================] - 205s 23s/step - loss: 0.8357 - val_loss: 3047.3215\n",
      "Epoch 6/150\n",
      "9/9 [==============================] - 205s 23s/step - loss: 0.7536 - val_loss: 3434.7776\n",
      "Epoch 7/150\n",
      "9/9 [==============================] - 205s 23s/step - loss: 0.8778 - val_loss: 3583.8691\n",
      "Epoch 8/150\n",
      "9/9 [==============================] - 205s 23s/step - loss: 0.7711 - val_loss: 2914.0684\n",
      "Epoch 9/150\n",
      "9/9 [==============================] - 205s 23s/step - loss: 0.6679 - val_loss: 1968.7205\n",
      "Epoch 10/150\n",
      "9/9 [==============================] - 206s 23s/step - loss: 0.6678 - val_loss: 1359.3523\n",
      "Epoch 11/150\n",
      "9/9 [==============================] - 206s 23s/step - loss: 0.5879 - val_loss: 861.9095\n",
      "Epoch 12/150\n",
      "9/9 [==============================] - 205s 23s/step - loss: 0.6097 - val_loss: 736.1223\n",
      "Epoch 13/150\n",
      "9/9 [==============================] - 205s 23s/step - loss: 0.6940 - val_loss: 911.0986\n",
      "Epoch 14/150\n",
      "9/9 [==============================] - 205s 23s/step - loss: 0.7421 - val_loss: 643.2699\n",
      "Epoch 15/150\n",
      "9/9 [==============================] - 205s 23s/step - loss: 0.6603 - val_loss: 867.0597\n",
      "Epoch 16/150\n",
      "9/9 [==============================] - 205s 23s/step - loss: 0.6445 - val_loss: 804.2104\n",
      "Epoch 17/150\n",
      "9/9 [==============================] - 205s 23s/step - loss: 0.5994 - val_loss: 720.7949\n",
      "Epoch 18/150\n",
      "9/9 [==============================] - 206s 23s/step - loss: 0.5569 - val_loss: 554.7874\n",
      "Epoch 19/150\n",
      "9/9 [==============================] - 206s 23s/step - loss: 0.7031 - val_loss: 416.3619\n",
      "Epoch 20/150\n",
      "9/9 [==============================] - 205s 23s/step - loss: 0.7117 - val_loss: 346.8298\n",
      "Epoch 21/150\n",
      "9/9 [==============================] - 206s 23s/step - loss: 0.6054 - val_loss: 187.5635\n",
      "Epoch 22/150\n",
      "9/9 [==============================] - 206s 23s/step - loss: 0.5877 - val_loss: 145.5380\n",
      "Epoch 23/150\n",
      "9/9 [==============================] - 206s 23s/step - loss: 0.5559 - val_loss: 125.6220\n",
      "Epoch 24/150\n",
      "9/9 [==============================] - 205s 23s/step - loss: 0.5465 - val_loss: 45.5933\n",
      "Epoch 25/150\n",
      "9/9 [==============================] - 205s 23s/step - loss: 0.5751 - val_loss: 70.1349\n",
      "Epoch 26/150\n",
      "9/9 [==============================] - 206s 23s/step - loss: 0.5775 - val_loss: 90.1576\n",
      "Epoch 27/150\n",
      "9/9 [==============================] - 206s 23s/step - loss: 0.6040 - val_loss: 114.6683\n",
      "Epoch 28/150\n",
      "9/9 [==============================] - 205s 23s/step - loss: 0.6297 - val_loss: 78.8470\n",
      "Epoch 29/150\n",
      "9/9 [==============================] - 205s 23s/step - loss: 0.6376 - val_loss: 67.5355\n",
      "Epoch 30/150\n",
      "9/9 [==============================] - 206s 23s/step - loss: 0.6354 - val_loss: 53.4423\n",
      "Epoch 31/150\n",
      "9/9 [==============================] - 205s 23s/step - loss: 0.6394 - val_loss: 36.9807\n",
      "Epoch 32/150\n",
      "9/9 [==============================] - 205s 23s/step - loss: 0.6227 - val_loss: 22.1381\n",
      "Epoch 33/150\n",
      "9/9 [==============================] - 205s 23s/step - loss: 0.5765 - val_loss: 25.4040\n",
      "Epoch 34/150\n",
      "9/9 [==============================] - 206s 23s/step - loss: 0.6556 - val_loss: 41.8189\n",
      "Epoch 35/150\n",
      "9/9 [==============================] - 205s 23s/step - loss: 1.0008 - val_loss: 52.4459\n",
      "Epoch 36/150\n",
      "9/9 [==============================] - 206s 23s/step - loss: 0.7049 - val_loss: 67.1116\n",
      "Epoch 37/150\n",
      "9/9 [==============================] - 205s 23s/step - loss: 0.8698 - val_loss: 76.7622\n",
      "Epoch 38/150\n",
      "9/9 [==============================] - 205s 23s/step - loss: 0.7143 - val_loss: 46.3326\n",
      "Epoch 39/150\n",
      "9/9 [==============================] - 205s 23s/step - loss: 0.6497 - val_loss: 15.5268\n",
      "Epoch 40/150\n",
      "9/9 [==============================] - 205s 23s/step - loss: 0.6246 - val_loss: 32.2763\n",
      "Epoch 41/150\n",
      "9/9 [==============================] - 205s 23s/step - loss: 0.6191 - val_loss: 38.6356\n",
      "Epoch 42/150\n",
      "9/9 [==============================] - 206s 23s/step - loss: 0.6548 - val_loss: 41.8050\n",
      "Epoch 43/150\n",
      "9/9 [==============================] - 205s 23s/step - loss: 0.5682 - val_loss: 38.8659\n",
      "Epoch 44/150\n",
      "9/9 [==============================] - 206s 23s/step - loss: 0.7022 - val_loss: 30.5714\n",
      "Epoch 45/150\n",
      "9/9 [==============================] - 206s 23s/step - loss: 0.6695 - val_loss: 26.2054\n",
      "Epoch 46/150\n",
      "9/9 [==============================] - 206s 23s/step - loss: 0.6001 - val_loss: 27.0634\n",
      "Epoch 47/150\n",
      "9/9 [==============================] - 206s 23s/step - loss: 0.5753 - val_loss: 26.0296\n",
      "Epoch 48/150\n",
      "9/9 [==============================] - 205s 23s/step - loss: 0.7590 - val_loss: 17.4538\n",
      "Epoch 49/150\n",
      "9/9 [==============================] - 205s 23s/step - loss: 0.6361 - val_loss: 11.0199\n",
      "Epoch 50/150\n",
      "9/9 [==============================] - 206s 23s/step - loss: 0.6827 - val_loss: 21.1515\n",
      "Epoch 51/150\n",
      "9/9 [==============================] - 206s 23s/step - loss: 0.6961 - val_loss: 490.2217\n",
      "Epoch 52/150\n",
      "9/9 [==============================] - 205s 23s/step - loss: 0.8382 - val_loss: 1113.0471\n",
      "Epoch 53/150\n",
      "9/9 [==============================] - 205s 23s/step - loss: 0.7279 - val_loss: 2261.6711\n",
      "Epoch 54/150\n",
      "9/9 [==============================] - 206s 23s/step - loss: 0.6672 - val_loss: 2467.3904\n",
      "Epoch 55/150\n",
      "9/9 [==============================] - 205s 23s/step - loss: 0.6571 - val_loss: 2013.2887\n",
      "Epoch 56/150\n",
      "9/9 [==============================] - 206s 23s/step - loss: 0.6039 - val_loss: 1348.3680\n",
      "Epoch 57/150\n",
      "9/9 [==============================] - 205s 23s/step - loss: 0.6363 - val_loss: 965.5571\n",
      "Epoch 58/150\n",
      "9/9 [==============================] - 205s 23s/step - loss: 0.6283 - val_loss: 1264.2014\n",
      "Epoch 59/150\n",
      "9/9 [==============================] - 206s 23s/step - loss: 0.6211 - val_loss: 1364.7625\n",
      "Epoch 60/150\n",
      "9/9 [==============================] - 206s 23s/step - loss: 0.6422 - val_loss: 1120.5674\n",
      "Epoch 61/150\n",
      "9/9 [==============================] - 205s 23s/step - loss: 0.7272 - val_loss: 744.3198\n",
      "Epoch 62/150\n",
      "9/9 [==============================] - 205s 23s/step - loss: 0.5639 - val_loss: 974.0745\n",
      "Epoch 63/150\n",
      "9/9 [==============================] - 206s 23s/step - loss: 0.5558 - val_loss: 872.2177\n",
      "Epoch 64/150\n",
      "9/9 [==============================] - 205s 23s/step - loss: 0.6021 - val_loss: 896.0227\n",
      "Epoch 65/150\n",
      "9/9 [==============================] - 205s 23s/step - loss: 0.6206 - val_loss: 955.4525\n",
      "Epoch 66/150\n",
      "9/9 [==============================] - 206s 23s/step - loss: 0.5759 - val_loss: 825.3176\n",
      "Epoch 67/150\n",
      "9/9 [==============================] - 206s 23s/step - loss: 0.6104 - val_loss: 413.0565\n",
      "Epoch 68/150\n",
      "9/9 [==============================] - 207s 23s/step - loss: 0.5701 - val_loss: 367.9043\n",
      "Epoch 69/150\n",
      "9/9 [==============================] - 206s 23s/step - loss: 0.7006 - val_loss: 431.1274\n",
      "Epoch 70/150\n",
      "9/9 [==============================] - 206s 23s/step - loss: 0.7987 - val_loss: 216.4426\n",
      "Epoch 71/150\n",
      "9/9 [==============================] - 205s 23s/step - loss: 0.7770 - val_loss: 12.5954\n",
      "Epoch 72/150\n",
      "9/9 [==============================] - 206s 23s/step - loss: 0.6462 - val_loss: 4.9046\n",
      "Epoch 73/150\n",
      "9/9 [==============================] - 206s 23s/step - loss: 0.9615 - val_loss: 3.2047\n",
      "Epoch 74/150\n",
      "9/9 [==============================] - 206s 23s/step - loss: 0.8016 - val_loss: 2.4147\n",
      "Epoch 75/150\n",
      "9/9 [==============================] - 205s 23s/step - loss: 0.6334 - val_loss: 0.9891\n",
      "Epoch 76/150\n",
      "9/9 [==============================] - 205s 23s/step - loss: 0.6518 - val_loss: 0.9573\n",
      "Epoch 77/150\n",
      "9/9 [==============================] - 205s 23s/step - loss: 0.7598 - val_loss: 3.9282\n",
      "Epoch 78/150\n",
      "9/9 [==============================] - 205s 23s/step - loss: 0.6664 - val_loss: 6.5539\n",
      "Epoch 79/150\n",
      "9/9 [==============================] - 207s 23s/step - loss: 0.5975 - val_loss: 4.9788\n",
      "Epoch 80/150\n",
      "9/9 [==============================] - 206s 23s/step - loss: 0.6604 - val_loss: 1.7398\n",
      "Epoch 81/150\n"
     ]
    },
    {
     "name": "stdout",
     "output_type": "stream",
     "text": [
      "9/9 [==============================] - 205s 23s/step - loss: 0.5914 - val_loss: 8.2520\n",
      "Epoch 82/150\n",
      "9/9 [==============================] - 205s 23s/step - loss: 0.5582 - val_loss: 14.7032\n",
      "Epoch 83/150\n",
      "9/9 [==============================] - 205s 23s/step - loss: 0.5605 - val_loss: 30.3591\n",
      "Epoch 84/150\n",
      "9/9 [==============================] - 205s 23s/step - loss: 0.6364 - val_loss: 23.0330\n",
      "Epoch 85/150\n",
      "9/9 [==============================] - 206s 23s/step - loss: 0.6491 - val_loss: 24.5315\n",
      "Epoch 86/150\n",
      "9/9 [==============================] - 206s 23s/step - loss: 0.8237 - val_loss: 7.1125\n",
      "Epoch 87/150\n",
      "9/9 [==============================] - 206s 23s/step - loss: 0.7151 - val_loss: 37.1545\n",
      "Epoch 88/150\n",
      "9/9 [==============================] - 206s 23s/step - loss: 0.6218 - val_loss: 1223.6135\n",
      "Epoch 89/150\n",
      "9/9 [==============================] - 205s 23s/step - loss: 0.6541 - val_loss: 4301.3696\n",
      "Epoch 90/150\n",
      "9/9 [==============================] - 205s 23s/step - loss: 0.7164 - val_loss: 11650.3135\n",
      "Epoch 91/150\n",
      "9/9 [==============================] - 205s 23s/step - loss: 0.5760 - val_loss: 11042.5596\n",
      "Epoch 92/150\n",
      "9/9 [==============================] - 206s 23s/step - loss: 0.5713 - val_loss: 5694.1143\n",
      "Epoch 93/150\n",
      "9/9 [==============================] - 205s 23s/step - loss: 0.7150 - val_loss: 4296.0239\n",
      "Epoch 94/150\n",
      "9/9 [==============================] - 206s 23s/step - loss: 0.6782 - val_loss: 6362.6270\n",
      "Epoch 95/150\n",
      "9/9 [==============================] - 206s 23s/step - loss: 0.5637 - val_loss: 6868.7305\n",
      "Epoch 96/150\n",
      "9/9 [==============================] - 206s 23s/step - loss: 0.6554 - val_loss: 4865.3218\n",
      "Epoch 97/150\n",
      "9/9 [==============================] - 206s 23s/step - loss: 0.6755 - val_loss: 2607.3875\n",
      "Epoch 98/150\n",
      "9/9 [==============================] - 206s 23s/step - loss: 0.6113 - val_loss: 1214.9243\n",
      "Epoch 99/150\n",
      "9/9 [==============================] - 205s 23s/step - loss: 0.5363 - val_loss: 1067.6642\n",
      "Epoch 100/150\n",
      "9/9 [==============================] - 206s 23s/step - loss: 0.5718 - val_loss: 706.9494\n",
      "Epoch 101/150\n",
      "9/9 [==============================] - 205s 23s/step - loss: 0.5589 - val_loss: 480.7502\n",
      "Epoch 102/150\n",
      "9/9 [==============================] - 206s 23s/step - loss: 0.6199 - val_loss: 370.8286\n",
      "Epoch 103/150\n",
      "9/9 [==============================] - 205s 23s/step - loss: 0.6771 - val_loss: 260.0625\n",
      "Epoch 104/150\n",
      "9/9 [==============================] - 206s 23s/step - loss: 0.7124 - val_loss: 235.5419\n",
      "Epoch 105/150\n",
      "9/9 [==============================] - 205s 23s/step - loss: 0.5980 - val_loss: 65.1799\n",
      "Epoch 106/150\n",
      "9/9 [==============================] - 205s 23s/step - loss: 0.5679 - val_loss: 20.5168\n",
      "Epoch 107/150\n",
      "9/9 [==============================] - 205s 23s/step - loss: 0.5815 - val_loss: 20.5999\n",
      "Epoch 108/150\n",
      "9/9 [==============================] - 206s 23s/step - loss: 0.5297 - val_loss: 18.5973\n",
      "Epoch 109/150\n",
      "9/9 [==============================] - 205s 23s/step - loss: 0.7269 - val_loss: 19.6927\n",
      "Epoch 110/150\n",
      "9/9 [==============================] - 206s 23s/step - loss: 0.6431 - val_loss: 24.0495\n",
      "Epoch 111/150\n",
      "9/9 [==============================] - 206s 23s/step - loss: 0.6740 - val_loss: 23.7480\n",
      "Epoch 112/150\n",
      "9/9 [==============================] - 205s 23s/step - loss: 0.5825 - val_loss: 23.6767\n",
      "Epoch 113/150\n",
      "9/9 [==============================] - 206s 23s/step - loss: 0.5655 - val_loss: 26.0392\n",
      "Epoch 114/150\n",
      "9/9 [==============================] - 206s 23s/step - loss: 0.5145 - val_loss: 20.3908\n",
      "Epoch 115/150\n",
      "9/9 [==============================] - 205s 23s/step - loss: 0.5278 - val_loss: 20.5336\n",
      "Epoch 116/150\n",
      "9/9 [==============================] - 206s 23s/step - loss: 0.5596 - val_loss: 17.2324\n",
      "Epoch 117/150\n",
      "9/9 [==============================] - 206s 23s/step - loss: 0.6329 - val_loss: 14.7206\n",
      "Epoch 118/150\n",
      "9/9 [==============================] - 206s 23s/step - loss: 0.6335 - val_loss: 12.2186\n",
      "Epoch 119/150\n",
      "9/9 [==============================] - 205s 23s/step - loss: 0.6835 - val_loss: 15.5034\n",
      "Epoch 120/150\n",
      "9/9 [==============================] - 205s 23s/step - loss: 0.7088 - val_loss: 11.6601\n",
      "Epoch 121/150\n",
      "9/9 [==============================] - 206s 23s/step - loss: 0.5611 - val_loss: 9.5922\n",
      "Epoch 122/150\n",
      "9/9 [==============================] - 205s 23s/step - loss: 0.6089 - val_loss: 9.4817\n",
      "Epoch 123/150\n",
      "9/9 [==============================] - 206s 23s/step - loss: 0.5621 - val_loss: 9.4677\n",
      "Epoch 124/150\n",
      "9/9 [==============================] - 206s 23s/step - loss: 0.5541 - val_loss: 9.9345\n",
      "Epoch 125/150\n",
      "9/9 [==============================] - 206s 23s/step - loss: 0.5300 - val_loss: 8.4772\n",
      "Epoch 126/150\n",
      "9/9 [==============================] - 205s 23s/step - loss: 0.6120 - val_loss: 6.2718\n",
      "Epoch 127/150\n",
      "9/9 [==============================] - 205s 23s/step - loss: 0.6581 - val_loss: 7.2212\n",
      "Epoch 128/150\n",
      "9/9 [==============================] - 205s 23s/step - loss: 0.6037 - val_loss: 9.5413\n",
      "Epoch 129/150\n",
      "9/9 [==============================] - 206s 23s/step - loss: 0.5532 - val_loss: 10.3720\n",
      "Epoch 130/150\n",
      "9/9 [==============================] - 206s 23s/step - loss: 0.6750 - val_loss: 5.5408\n",
      "Epoch 131/150\n",
      "9/9 [==============================] - 206s 23s/step - loss: 0.7571 - val_loss: 4.5195\n",
      "Epoch 132/150\n",
      "9/9 [==============================] - 206s 23s/step - loss: 0.6863 - val_loss: 1.5781\n",
      "Epoch 133/150\n",
      "9/9 [==============================] - 206s 23s/step - loss: 0.6449 - val_loss: 5.8347\n",
      "Epoch 134/150\n",
      "9/9 [==============================] - 206s 23s/step - loss: 0.6538 - val_loss: 4.5638\n",
      "Epoch 135/150\n",
      "8/9 [=========================>....] - ETA: 23s - loss: 0.6790"
     ]
    }
   ],
   "source": [
    "hist = model.fit(\n",
    "    [padded_train_data_mean, padded_train_data_std],\n",
    "    padded_train_data_y,\n",
    "    epochs=150,\n",
    "    shuffle=True,\n",
    "    batch_size=128,\n",
    "    validation_split=0.25,\n",
    ")"
   ]
  },
  {
   "cell_type": "markdown",
   "id": "201f6cb7",
   "metadata": {},
   "source": [
    "### 3. Model Predict"
   ]
  },
  {
   "cell_type": "code",
   "execution_count": 13,
   "id": "88b72ea0",
   "metadata": {
    "scrolled": true
   },
   "outputs": [
    {
     "name": "stdout",
     "output_type": "stream",
     "text": [
      "45/45 [==============================] - 50s 1s/step\n",
      "12/12 [==============================] - 13s 1s/step\n"
     ]
    },
    {
     "data": {
      "application/javascript": [
       "\n",
       "            setTimeout(function() {\n",
       "                var nbb_cell_id = 13;\n",
       "                var nbb_unformatted_code = \"train_preds = model.predict([padded_train_data_mean, padded_train_data_std], verbose=1)\\ntest_preds = model.predict([padded_test_data_mean, padded_test_data_std], verbose=1)\";\n",
       "                var nbb_formatted_code = \"train_preds = model.predict([padded_train_data_mean, padded_train_data_std], verbose=1)\\ntest_preds = model.predict([padded_test_data_mean, padded_test_data_std], verbose=1)\";\n",
       "                var nbb_cells = Jupyter.notebook.get_cells();\n",
       "                for (var i = 0; i < nbb_cells.length; ++i) {\n",
       "                    if (nbb_cells[i].input_prompt_number == nbb_cell_id) {\n",
       "                        if (nbb_cells[i].get_text() == nbb_unformatted_code) {\n",
       "                             nbb_cells[i].set_text(nbb_formatted_code);\n",
       "                        }\n",
       "                        break;\n",
       "                    }\n",
       "                }\n",
       "            }, 500);\n",
       "            "
      ],
      "text/plain": [
       "<IPython.core.display.Javascript object>"
      ]
     },
     "metadata": {},
     "output_type": "display_data"
    }
   ],
   "source": [
    "train_preds = model.predict([padded_train_data_mean, padded_train_data_std], verbose=1)\n",
    "test_preds = model.predict([padded_test_data_mean, padded_test_data_std], verbose=1)"
   ]
  },
  {
   "cell_type": "code",
   "execution_count": 14,
   "id": "09488837",
   "metadata": {},
   "outputs": [
    {
     "data": {
      "application/javascript": [
       "\n",
       "            setTimeout(function() {\n",
       "                var nbb_cell_id = 14;\n",
       "                var nbb_unformatted_code = \"def unpad_images(images, original_shape=(120, 130)):\\n    # Calculate padding for height and width\\n    pad_height = (images.shape[1] - original_shape[0]) // 2\\n    pad_width = (images.shape[2] - original_shape[1]) // 2\\n\\n    unpadded_images = images[\\n        :, pad_height : -pad_height or None, pad_width : -pad_width or None, :\\n    ]\\n    return unpadded_images\\n\\n\\ndef unpad_images_y(images, original_shape=(120, 130)):\\n    # Calculate padding for height and width\\n    pad_height_t = (images.shape[1] - original_shape[0]) // 2\\n    pad_height_b = images.shape[1] - pad_height_t - original_shape[0]\\n\\n    pad_width_l = (images.shape[2] - original_shape[1]) // 2\\n    pad_width_r = images.shape[2] - pad_width_l - original_shape[1]\\n\\n    unpadded_images = images[\\n        :, pad_height_t : -pad_height_b or None, pad_width_l : -pad_width_r or None\\n    ]\\n    return unpadded_images\";\n",
       "                var nbb_formatted_code = \"def unpad_images(images, original_shape=(120, 130)):\\n    # Calculate padding for height and width\\n    pad_height = (images.shape[1] - original_shape[0]) // 2\\n    pad_width = (images.shape[2] - original_shape[1]) // 2\\n\\n    unpadded_images = images[\\n        :, pad_height : -pad_height or None, pad_width : -pad_width or None, :\\n    ]\\n    return unpadded_images\\n\\n\\ndef unpad_images_y(images, original_shape=(120, 130)):\\n    # Calculate padding for height and width\\n    pad_height_t = (images.shape[1] - original_shape[0]) // 2\\n    pad_height_b = images.shape[1] - pad_height_t - original_shape[0]\\n\\n    pad_width_l = (images.shape[2] - original_shape[1]) // 2\\n    pad_width_r = images.shape[2] - pad_width_l - original_shape[1]\\n\\n    unpadded_images = images[\\n        :, pad_height_t : -pad_height_b or None, pad_width_l : -pad_width_r or None\\n    ]\\n    return unpadded_images\";\n",
       "                var nbb_cells = Jupyter.notebook.get_cells();\n",
       "                for (var i = 0; i < nbb_cells.length; ++i) {\n",
       "                    if (nbb_cells[i].input_prompt_number == nbb_cell_id) {\n",
       "                        if (nbb_cells[i].get_text() == nbb_unformatted_code) {\n",
       "                             nbb_cells[i].set_text(nbb_formatted_code);\n",
       "                        }\n",
       "                        break;\n",
       "                    }\n",
       "                }\n",
       "            }, 500);\n",
       "            "
      ],
      "text/plain": [
       "<IPython.core.display.Javascript object>"
      ]
     },
     "metadata": {},
     "output_type": "display_data"
    }
   ],
   "source": [
    "def unpad_images(images, original_shape=(120, 130)):\n",
    "    # Calculate padding for height and width\n",
    "    pad_height = (images.shape[1] - original_shape[0]) // 2\n",
    "    pad_width = (images.shape[2] - original_shape[1]) // 2\n",
    "\n",
    "    unpadded_images = images[\n",
    "        :, pad_height : -pad_height or None, pad_width : -pad_width or None, :\n",
    "    ]\n",
    "    return unpadded_images\n",
    "\n",
    "\n",
    "def unpad_images_y(images, original_shape=(120, 130)):\n",
    "    # Calculate padding for height and width\n",
    "    pad_height_t = (images.shape[1] - original_shape[0]) // 2\n",
    "    pad_height_b = images.shape[1] - pad_height_t - original_shape[0]\n",
    "\n",
    "    pad_width_l = (images.shape[2] - original_shape[1]) // 2\n",
    "    pad_width_r = images.shape[2] - pad_width_l - original_shape[1]\n",
    "\n",
    "    unpadded_images = images[\n",
    "        :, pad_height_t : -pad_height_b or None, pad_width_l : -pad_width_r or None\n",
    "    ]\n",
    "    return unpadded_images"
   ]
  },
  {
   "cell_type": "code",
   "execution_count": 23,
   "id": "c287e5b4",
   "metadata": {},
   "outputs": [
    {
     "data": {
      "application/javascript": [
       "\n",
       "            setTimeout(function() {\n",
       "                var nbb_cell_id = 23;\n",
       "                var nbb_unformatted_code = \"train_preds_unpad = unpad_images(train_preds)\\ntest_preds_unpad = unpad_images(test_preds)\\nunpadded_test_data_y = unpad_images_y(padded_test_data_y)\";\n",
       "                var nbb_formatted_code = \"train_preds_unpad = unpad_images(train_preds)\\ntest_preds_unpad = unpad_images(test_preds)\\nunpadded_test_data_y = unpad_images_y(padded_test_data_y)\";\n",
       "                var nbb_cells = Jupyter.notebook.get_cells();\n",
       "                for (var i = 0; i < nbb_cells.length; ++i) {\n",
       "                    if (nbb_cells[i].input_prompt_number == nbb_cell_id) {\n",
       "                        if (nbb_cells[i].get_text() == nbb_unformatted_code) {\n",
       "                             nbb_cells[i].set_text(nbb_formatted_code);\n",
       "                        }\n",
       "                        break;\n",
       "                    }\n",
       "                }\n",
       "            }, 500);\n",
       "            "
      ],
      "text/plain": [
       "<IPython.core.display.Javascript object>"
      ]
     },
     "metadata": {},
     "output_type": "display_data"
    }
   ],
   "source": [
    "train_preds_unpad = unpad_images(train_preds)\n",
    "test_preds_unpad = unpad_images(test_preds)\n",
    "unpadded_test_data_y = unpad_images_y(padded_test_data_y)"
   ]
  },
  {
   "cell_type": "code",
   "execution_count": 24,
   "id": "4a9675d5",
   "metadata": {
    "scrolled": false
   },
   "outputs": [
    {
     "data": {
      "image/png": "[encoded data removed]",
      "text/plain": [
       "<Figure size 720x720 with 2 Axes>"
      ]
     },
     "metadata": {
      "needs_background": "light"
     },
     "output_type": "display_data"
    },
    {
     "data": {
      "application/javascript": [
       "\n",
       "            setTimeout(function() {\n",
       "                var nbb_cell_id = 24;\n",
       "                var nbb_unformatted_code = \"plt.figure(figsize=(10, 10))\\nplt.imshow(np.mean(test_preds_unpad[:, :, :, 0], axis=0))\\ncbar = plt.colorbar()\";\n",
       "                var nbb_formatted_code = \"plt.figure(figsize=(10, 10))\\nplt.imshow(np.mean(test_preds_unpad[:, :, :, 0], axis=0))\\ncbar = plt.colorbar()\";\n",
       "                var nbb_cells = Jupyter.notebook.get_cells();\n",
       "                for (var i = 0; i < nbb_cells.length; ++i) {\n",
       "                    if (nbb_cells[i].input_prompt_number == nbb_cell_id) {\n",
       "                        if (nbb_cells[i].get_text() == nbb_unformatted_code) {\n",
       "                             nbb_cells[i].set_text(nbb_formatted_code);\n",
       "                        }\n",
       "                        break;\n",
       "                    }\n",
       "                }\n",
       "            }, 500);\n",
       "            "
      ],
      "text/plain": [
       "<IPython.core.display.Javascript object>"
      ]
     },
     "metadata": {},
     "output_type": "display_data"
    }
   ],
   "source": [
    "plt.figure(figsize=(10, 10))\n",
    "plt.imshow(np.mean(test_preds_unpad[:, :, :, 0], axis=0))\n",
    "cbar = plt.colorbar()"
   ]
  },
  {
   "cell_type": "code",
   "execution_count": 25,
   "id": "2a78133c",
   "metadata": {
    "scrolled": false
   },
   "outputs": [
    {
     "data": {
      "image/png": "[encoded data removed]",
      "text/plain": [
       "<Figure size 720x720 with 2 Axes>"
      ]
     },
     "metadata": {
      "needs_background": "light"
     },
     "output_type": "display_data"
    },
    {
     "data": {
      "application/javascript": [
       "\n",
       "            setTimeout(function() {\n",
       "                var nbb_cell_id = 25;\n",
       "                var nbb_unformatted_code = \"plt.figure(figsize=(10, 10))\\nplt.imshow(np.mean(train_preds_unpad[:, :, :, 0], axis=0))\\ncbar = plt.colorbar()\";\n",
       "                var nbb_formatted_code = \"plt.figure(figsize=(10, 10))\\nplt.imshow(np.mean(train_preds_unpad[:, :, :, 0], axis=0))\\ncbar = plt.colorbar()\";\n",
       "                var nbb_cells = Jupyter.notebook.get_cells();\n",
       "                for (var i = 0; i < nbb_cells.length; ++i) {\n",
       "                    if (nbb_cells[i].input_prompt_number == nbb_cell_id) {\n",
       "                        if (nbb_cells[i].get_text() == nbb_unformatted_code) {\n",
       "                             nbb_cells[i].set_text(nbb_formatted_code);\n",
       "                        }\n",
       "                        break;\n",
       "                    }\n",
       "                }\n",
       "            }, 500);\n",
       "            "
      ],
      "text/plain": [
       "<IPython.core.display.Javascript object>"
      ]
     },
     "metadata": {},
     "output_type": "display_data"
    }
   ],
   "source": [
    "plt.figure(figsize=(10, 10))\n",
    "plt.imshow(np.mean(train_preds_unpad[:, :, :, 0], axis=0))\n",
    "cbar = plt.colorbar()"
   ]
  },
  {
   "cell_type": "code",
   "execution_count": 26,
   "id": "e888cd29",
   "metadata": {},
   "outputs": [
    {
     "data": {
      "image/png": "[encoded data removed]",
      "text/plain": [
       "<Figure size 720x720 with 2 Axes>"
      ]
     },
     "metadata": {
      "needs_background": "light"
     },
     "output_type": "display_data"
    },
    {
     "data": {
      "application/javascript": [
       "\n",
       "            setTimeout(function() {\n",
       "                var nbb_cell_id = 26;\n",
       "                var nbb_unformatted_code = \"plt.figure(figsize=(10, 10))\\nplt.imshow(np.mean(unpadded_test_data_y[:, :, :], axis=0))\\ncbar = plt.colorbar()\";\n",
       "                var nbb_formatted_code = \"plt.figure(figsize=(10, 10))\\nplt.imshow(np.mean(unpadded_test_data_y[:, :, :], axis=0))\\ncbar = plt.colorbar()\";\n",
       "                var nbb_cells = Jupyter.notebook.get_cells();\n",
       "                for (var i = 0; i < nbb_cells.length; ++i) {\n",
       "                    if (nbb_cells[i].input_prompt_number == nbb_cell_id) {\n",
       "                        if (nbb_cells[i].get_text() == nbb_unformatted_code) {\n",
       "                             nbb_cells[i].set_text(nbb_formatted_code);\n",
       "                        }\n",
       "                        break;\n",
       "                    }\n",
       "                }\n",
       "            }, 500);\n",
       "            "
      ],
      "text/plain": [
       "<IPython.core.display.Javascript object>"
      ]
     },
     "metadata": {},
     "output_type": "display_data"
    }
   ],
   "source": [
    "plt.figure(figsize=(10, 10))\n",
    "plt.imshow(np.mean(unpadded_test_data_y[:, :, :], axis=0))\n",
    "cbar = plt.colorbar()"
   ]
  },
  {
   "cell_type": "markdown",
   "id": "f9aa5038",
   "metadata": {},
   "source": [
    "#### Standard deviation"
   ]
  },
  {
   "cell_type": "code",
   "execution_count": 27,
   "id": "58c92265",
   "metadata": {},
   "outputs": [
    {
     "data": {
      "image/png": "[encoded data removed]",
      "text/plain": [
       "<Figure size 720x720 with 2 Axes>"
      ]
     },
     "metadata": {
      "needs_background": "light"
     },
     "output_type": "display_data"
    },
    {
     "data": {
      "application/javascript": [
       "\n",
       "            setTimeout(function() {\n",
       "                var nbb_cell_id = 27;\n",
       "                var nbb_unformatted_code = \"plt.figure(figsize=(10, 10))\\nplt.imshow(test_preds_unpad[0, :, :, 1])\\ncbar = plt.colorbar()\";\n",
       "                var nbb_formatted_code = \"plt.figure(figsize=(10, 10))\\nplt.imshow(test_preds_unpad[0, :, :, 1])\\ncbar = plt.colorbar()\";\n",
       "                var nbb_cells = Jupyter.notebook.get_cells();\n",
       "                for (var i = 0; i < nbb_cells.length; ++i) {\n",
       "                    if (nbb_cells[i].input_prompt_number == nbb_cell_id) {\n",
       "                        if (nbb_cells[i].get_text() == nbb_unformatted_code) {\n",
       "                             nbb_cells[i].set_text(nbb_formatted_code);\n",
       "                        }\n",
       "                        break;\n",
       "                    }\n",
       "                }\n",
       "            }, 500);\n",
       "            "
      ],
      "text/plain": [
       "<IPython.core.display.Javascript object>"
      ]
     },
     "metadata": {},
     "output_type": "display_data"
    }
   ],
   "source": [
    "plt.figure(figsize=(10, 10))\n",
    "plt.imshow(test_preds_unpad[0, :, :, 1])\n",
    "cbar = plt.colorbar()"
   ]
  },
  {
   "cell_type": "code",
   "execution_count": 28,
   "id": "8f693408",
   "metadata": {
    "scrolled": false
   },
   "outputs": [
    {
     "data": {
      "image/png": "[encoded data removed]",
      "text/plain": [
       "<Figure size 720x720 with 2 Axes>"
      ]
     },
     "metadata": {
      "needs_background": "light"
     },
     "output_type": "display_data"
    },
    {
     "data": {
      "application/javascript": [
       "\n",
       "            setTimeout(function() {\n",
       "                var nbb_cell_id = 28;\n",
       "                var nbb_unformatted_code = \"plt.figure(figsize=(10, 10))\\nplt.imshow(train_preds_unpad[0, :, :, 1])\\ncbar = plt.colorbar()\";\n",
       "                var nbb_formatted_code = \"plt.figure(figsize=(10, 10))\\nplt.imshow(train_preds_unpad[0, :, :, 1])\\ncbar = plt.colorbar()\";\n",
       "                var nbb_cells = Jupyter.notebook.get_cells();\n",
       "                for (var i = 0; i < nbb_cells.length; ++i) {\n",
       "                    if (nbb_cells[i].input_prompt_number == nbb_cell_id) {\n",
       "                        if (nbb_cells[i].get_text() == nbb_unformatted_code) {\n",
       "                             nbb_cells[i].set_text(nbb_formatted_code);\n",
       "                        }\n",
       "                        break;\n",
       "                    }\n",
       "                }\n",
       "            }, 500);\n",
       "            "
      ],
      "text/plain": [
       "<IPython.core.display.Javascript object>"
      ]
     },
     "metadata": {},
     "output_type": "display_data"
    }
   ],
   "source": [
    "plt.figure(figsize=(10, 10))\n",
    "plt.imshow(train_preds_unpad[0, :, :, 1])\n",
    "cbar = plt.colorbar()"
   ]
  },
  {
   "cell_type": "markdown",
   "id": "e4e05e2e",
   "metadata": {},
   "source": [
    "### 4. Model Evaluate"
   ]
  },
  {
   "cell_type": "code",
   "execution_count": 29,
   "id": "095984a1",
   "metadata": {
    "scrolled": false
   },
   "outputs": [
    {
     "name": "stdout",
     "output_type": "stream",
     "text": [
      "12/12 [==============================] - 13s 1s/step - loss: 300.8141\n"
     ]
    },
    {
     "data": {
      "application/javascript": [
       "\n",
       "            setTimeout(function() {\n",
       "                var nbb_cell_id = 29;\n",
       "                var nbb_unformatted_code = \"# With padded things\\ntest_score = model.evaluate(\\n    [padded_test_data_mean, padded_test_data_std], padded_test_data_y, verbose=1\\n)\";\n",
       "                var nbb_formatted_code = \"# With padded things\\ntest_score = model.evaluate(\\n    [padded_test_data_mean, padded_test_data_std], padded_test_data_y, verbose=1\\n)\";\n",
       "                var nbb_cells = Jupyter.notebook.get_cells();\n",
       "                for (var i = 0; i < nbb_cells.length; ++i) {\n",
       "                    if (nbb_cells[i].input_prompt_number == nbb_cell_id) {\n",
       "                        if (nbb_cells[i].get_text() == nbb_unformatted_code) {\n",
       "                             nbb_cells[i].set_text(nbb_formatted_code);\n",
       "                        }\n",
       "                        break;\n",
       "                    }\n",
       "                }\n",
       "            }, 500);\n",
       "            "
      ],
      "text/plain": [
       "<IPython.core.display.Javascript object>"
      ]
     },
     "metadata": {},
     "output_type": "display_data"
    }
   ],
   "source": [
    "# With padded things\n",
    "test_score = model.evaluate(\n",
    "    [padded_test_data_mean, padded_test_data_std], padded_test_data_y, verbose=1\n",
    ")"
   ]
  },
  {
   "cell_type": "code",
   "execution_count": 24,
   "id": "9b599e91",
   "metadata": {},
   "outputs": [
    {
     "data": {
      "text/plain": [
       "8.350872993469238"
      ]
     },
     "execution_count": 24,
     "metadata": {},
     "output_type": "execute_result"
    },
    {
     "data": {
      "application/javascript": [
       "\n",
       "            setTimeout(function() {\n",
       "                var nbb_cell_id = 24;\n",
       "                var nbb_unformatted_code = \"test_score\";\n",
       "                var nbb_formatted_code = \"test_score\";\n",
       "                var nbb_cells = Jupyter.notebook.get_cells();\n",
       "                for (var i = 0; i < nbb_cells.length; ++i) {\n",
       "                    if (nbb_cells[i].input_prompt_number == nbb_cell_id) {\n",
       "                        if (nbb_cells[i].get_text() == nbb_unformatted_code) {\n",
       "                             nbb_cells[i].set_text(nbb_formatted_code);\n",
       "                        }\n",
       "                        break;\n",
       "                    }\n",
       "                }\n",
       "            }, 500);\n",
       "            "
      ],
      "text/plain": [
       "<IPython.core.display.Javascript object>"
      ]
     },
     "metadata": {},
     "output_type": "display_data"
    }
   ],
   "source": [
    "test_score"
   ]
  },
  {
   "cell_type": "code",
   "execution_count": 25,
   "id": "eb72cae1",
   "metadata": {},
   "outputs": [
    {
     "data": {
      "application/javascript": [
       "\n",
       "            setTimeout(function() {\n",
       "                var nbb_cell_id = 25;\n",
       "                var nbb_unformatted_code = \"# Without padds:\\ntest_score_unpad = crps_normal(\\n    mu=test_preds_unpad[:, :, :, 0].flatten(),\\n    sigma=test_preds_unpad[:, :, :, 1].flatten(),\\n    y=unpadded_test_data_y.flatten(),\\n)\";\n",
       "                var nbb_formatted_code = \"# Without padds:\\ntest_score_unpad = crps_normal(\\n    mu=test_preds_unpad[:, :, :, 0].flatten(),\\n    sigma=test_preds_unpad[:, :, :, 1].flatten(),\\n    y=unpadded_test_data_y.flatten(),\\n)\";\n",
       "                var nbb_cells = Jupyter.notebook.get_cells();\n",
       "                for (var i = 0; i < nbb_cells.length; ++i) {\n",
       "                    if (nbb_cells[i].input_prompt_number == nbb_cell_id) {\n",
       "                        if (nbb_cells[i].get_text() == nbb_unformatted_code) {\n",
       "                             nbb_cells[i].set_text(nbb_formatted_code);\n",
       "                        }\n",
       "                        break;\n",
       "                    }\n",
       "                }\n",
       "            }, 500);\n",
       "            "
      ],
      "text/plain": [
       "<IPython.core.display.Javascript object>"
      ]
     },
     "metadata": {},
     "output_type": "display_data"
    }
   ],
   "source": [
    "# Without padds:\n",
    "test_score_unpad = crps_normal(\n",
    "    mu=test_preds_unpad[:, :, :, 0].flatten(),\n",
    "    sigma=test_preds_unpad[:, :, :, 1].flatten(),\n",
    "    y=unpadded_test_data_y.flatten(),\n",
    ")"
   ]
  },
  {
   "cell_type": "code",
   "execution_count": 26,
   "id": "32fc179e",
   "metadata": {
    "scrolled": true
   },
   "outputs": [
    {
     "data": {
      "text/plain": [
       "nan"
      ]
     },
     "execution_count": 26,
     "metadata": {},
     "output_type": "execute_result"
    },
    {
     "data": {
      "application/javascript": [
       "\n",
       "            setTimeout(function() {\n",
       "                var nbb_cell_id = 26;\n",
       "                var nbb_unformatted_code = \"test_score_unpad.mean()\";\n",
       "                var nbb_formatted_code = \"test_score_unpad.mean()\";\n",
       "                var nbb_cells = Jupyter.notebook.get_cells();\n",
       "                for (var i = 0; i < nbb_cells.length; ++i) {\n",
       "                    if (nbb_cells[i].input_prompt_number == nbb_cell_id) {\n",
       "                        if (nbb_cells[i].get_text() == nbb_unformatted_code) {\n",
       "                             nbb_cells[i].set_text(nbb_formatted_code);\n",
       "                        }\n",
       "                        break;\n",
       "                    }\n",
       "                }\n",
       "            }, 500);\n",
       "            "
      ],
      "text/plain": [
       "<IPython.core.display.Javascript object>"
      ]
     },
     "metadata": {},
     "output_type": "display_data"
    }
   ],
   "source": [
    "test_score_unpad.mean()"
   ]
  },
  {
   "cell_type": "code",
   "execution_count": 27,
   "id": "10c60c48",
   "metadata": {},
   "outputs": [
    {
     "data": {
      "application/javascript": [
       "\n",
       "            setTimeout(function() {\n",
       "                var nbb_cell_id = 27;\n",
       "                var nbb_unformatted_code = \"test_preds_unpad[:, :, :, 1] = np.where(\\n    test_preds_unpad[:, :, :, 1] == 0, 0.000001, test_preds_unpad[:, :, :, 1]\\n)\";\n",
       "                var nbb_formatted_code = \"test_preds_unpad[:, :, :, 1] = np.where(\\n    test_preds_unpad[:, :, :, 1] == 0, 0.000001, test_preds_unpad[:, :, :, 1]\\n)\";\n",
       "                var nbb_cells = Jupyter.notebook.get_cells();\n",
       "                for (var i = 0; i < nbb_cells.length; ++i) {\n",
       "                    if (nbb_cells[i].input_prompt_number == nbb_cell_id) {\n",
       "                        if (nbb_cells[i].get_text() == nbb_unformatted_code) {\n",
       "                             nbb_cells[i].set_text(nbb_formatted_code);\n",
       "                        }\n",
       "                        break;\n",
       "                    }\n",
       "                }\n",
       "            }, 500);\n",
       "            "
      ],
      "text/plain": [
       "<IPython.core.display.Javascript object>"
      ]
     },
     "metadata": {},
     "output_type": "display_data"
    }
   ],
   "source": [
    "test_preds_unpad[:, :, :, 1] = np.where(\n",
    "    test_preds_unpad[:, :, :, 1] == 0, 0.000001, test_preds_unpad[:, :, :, 1]\n",
    ")"
   ]
  },
  {
   "cell_type": "code",
   "execution_count": null,
   "id": "34be5a6a",
   "metadata": {},
   "outputs": [],
   "source": []
  },
  {
   "cell_type": "code",
   "execution_count": 30,
   "id": "32fe5707",
   "metadata": {},
   "outputs": [
    {
     "name": "stdout",
     "output_type": "stream",
     "text": [
      "45/45 [==============================] - 50s 1s/step - loss: 299.5898\n"
     ]
    },
    {
     "data": {
      "text/plain": [
       "299.5897521972656"
      ]
     },
     "execution_count": 30,
     "metadata": {},
     "output_type": "execute_result"
    },
    {
     "data": {
      "application/javascript": [
       "\n",
       "            setTimeout(function() {\n",
       "                var nbb_cell_id = 30;\n",
       "                var nbb_unformatted_code = \"# With padded things\\ntrain_score = model.evaluate(\\n    [padded_train_data_mean, padded_train_data_std], padded_train_data_y, verbose=1\\n)\\n\\ntrain_score\";\n",
       "                var nbb_formatted_code = \"# With padded things\\ntrain_score = model.evaluate(\\n    [padded_train_data_mean, padded_train_data_std], padded_train_data_y, verbose=1\\n)\\n\\ntrain_score\";\n",
       "                var nbb_cells = Jupyter.notebook.get_cells();\n",
       "                for (var i = 0; i < nbb_cells.length; ++i) {\n",
       "                    if (nbb_cells[i].input_prompt_number == nbb_cell_id) {\n",
       "                        if (nbb_cells[i].get_text() == nbb_unformatted_code) {\n",
       "                             nbb_cells[i].set_text(nbb_formatted_code);\n",
       "                        }\n",
       "                        break;\n",
       "                    }\n",
       "                }\n",
       "            }, 500);\n",
       "            "
      ],
      "text/plain": [
       "<IPython.core.display.Javascript object>"
      ]
     },
     "metadata": {},
     "output_type": "display_data"
    }
   ],
   "source": [
    "# With padded things\n",
    "train_score = model.evaluate(\n",
    "    [padded_train_data_mean, padded_train_data_std], padded_train_data_y, verbose=1\n",
    ")\n",
    "\n",
    "train_score"
   ]
  }
 ],
 "metadata": {
  "kernelspec": {
   "display_name": "Python 3 (ipykernel)",
   "language": "python",
   "name": "python3"
  },
  "language_info": {
   "codemirror_mode": {
    "name": "ipython",
    "version": 3
   },
   "file_extension": ".py",
   "mimetype": "text/x-python",
   "name": "python",
   "nbconvert_exporter": "python",
   "pygments_lexer": "ipython3",
   "version": "3.9.7"
  }
 },
 "nbformat": 4,
 "nbformat_minor": 5
}
