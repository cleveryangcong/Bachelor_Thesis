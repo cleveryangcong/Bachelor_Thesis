{
 "cells": [
  {
   "cell_type": "code",
   "execution_count": 1,
   "id": "356499c6",
   "metadata": {},
   "outputs": [
    {
     "data": {
      "application/javascript": [
       "\n",
       "            setTimeout(function() {\n",
       "                var nbb_cell_id = 1;\n",
       "                var nbb_unformatted_code = \"%load_ext nb_black\";\n",
       "                var nbb_formatted_code = \"%load_ext nb_black\";\n",
       "                var nbb_cells = Jupyter.notebook.get_cells();\n",
       "                for (var i = 0; i < nbb_cells.length; ++i) {\n",
       "                    if (nbb_cells[i].input_prompt_number == nbb_cell_id) {\n",
       "                        if (nbb_cells[i].get_text() == nbb_unformatted_code) {\n",
       "                             nbb_cells[i].set_text(nbb_formatted_code);\n",
       "                        }\n",
       "                        break;\n",
       "                    }\n",
       "                }\n",
       "            }, 500);\n",
       "            "
      ],
      "text/plain": [
       "<IPython.core.display.Javascript object>"
      ]
     },
     "metadata": {},
     "output_type": "display_data"
    }
   ],
   "source": [
    "%load_ext nb_black"
   ]
  },
  {
   "cell_type": "code",
   "execution_count": 2,
   "id": "ba793edd",
   "metadata": {},
   "outputs": [
    {
     "name": "stderr",
     "output_type": "stream",
     "text": [
      "2023-06-27 16:52:44.629207: W tensorflow/stream_executor/platform/default/dso_loader.cc:64] Could not load dynamic library 'libcudart.so.11.0'; dlerror: libcudart.so.11.0: cannot open shared object file: No such file or directory; LD_LIBRARY_PATH: :/opt/anaconda3/lib/\n",
      "2023-06-27 16:52:44.629234: I tensorflow/stream_executor/cuda/cudart_stub.cc:29] Ignore above cudart dlerror if you do not have a GPU set up on your machine.\n"
     ]
    },
    {
     "data": {
      "application/javascript": [
       "\n",
       "            setTimeout(function() {\n",
       "                var nbb_cell_id = 2;\n",
       "                var nbb_unformatted_code = \"import sys\\n\\nsys.path.append(\\\"/home/dchen/BA_CH_EN/\\\")\\n\\n# Basics\\nimport tensorflow as tf\\nimport xarray as xr\\n\\n# Helpful\\nfrom tqdm import tqdm\\n\\n# Visualization\\nimport matplotlib.pyplot as plt\\n\\n# My Methods\\nfrom src.utils.CRPS import *  # CRPS metrics\\nfrom src.utils.data_split import *  # Splitting data into X and y\\nfrom src.utils.drn_make_X_array import *  # Import make train array functions (make_X_array)\\nfrom src.models.EMOS import *  # EMOS implementation\\nfrom src.models.DRN.DRN_model import *  # DRN implementation\\nfrom src.models.EMOS_global.EMOS_global_load_score import *  # Load EMOS_global_scores\\nfrom src.models.EMOS_global.EMOS_global_load_model import *  # Load EMOS_global_models\\nimport data.raw.load_data_raw as ldr  # Load raw data\\nimport data.processed.load_data_processed as ldp  # Load processed data normed\\nimport data.processed.load_data_processed_denormed as ldpd  # Load processed data denormed\\nfrom src.models.CRPS_baseline.CRPS_load import *  # Load CRPS scores\\nfrom src.models.U_net.unet import Unet\";\n",
       "                var nbb_formatted_code = \"import sys\\n\\nsys.path.append(\\\"/home/dchen/BA_CH_EN/\\\")\\n\\n# Basics\\nimport tensorflow as tf\\nimport xarray as xr\\n\\n# Helpful\\nfrom tqdm import tqdm\\n\\n# Visualization\\nimport matplotlib.pyplot as plt\\n\\n# My Methods\\nfrom src.utils.CRPS import *  # CRPS metrics\\nfrom src.utils.data_split import *  # Splitting data into X and y\\nfrom src.utils.drn_make_X_array import *  # Import make train array functions (make_X_array)\\nfrom src.models.EMOS import *  # EMOS implementation\\nfrom src.models.DRN.DRN_model import *  # DRN implementation\\nfrom src.models.EMOS_global.EMOS_global_load_score import *  # Load EMOS_global_scores\\nfrom src.models.EMOS_global.EMOS_global_load_model import *  # Load EMOS_global_models\\nimport data.raw.load_data_raw as ldr  # Load raw data\\nimport data.processed.load_data_processed as ldp  # Load processed data normed\\nimport data.processed.load_data_processed_denormed as ldpd  # Load processed data denormed\\nfrom src.models.CRPS_baseline.CRPS_load import *  # Load CRPS scores\\nfrom src.models.U_net.unet import Unet\";\n",
       "                var nbb_cells = Jupyter.notebook.get_cells();\n",
       "                for (var i = 0; i < nbb_cells.length; ++i) {\n",
       "                    if (nbb_cells[i].input_prompt_number == nbb_cell_id) {\n",
       "                        if (nbb_cells[i].get_text() == nbb_unformatted_code) {\n",
       "                             nbb_cells[i].set_text(nbb_formatted_code);\n",
       "                        }\n",
       "                        break;\n",
       "                    }\n",
       "                }\n",
       "            }, 500);\n",
       "            "
      ],
      "text/plain": [
       "<IPython.core.display.Javascript object>"
      ]
     },
     "metadata": {},
     "output_type": "display_data"
    }
   ],
   "source": [
    "import sys\n",
    "\n",
    "sys.path.append(\"/home/dchen/BA_CH_EN/\")\n",
    "\n",
    "# Basics\n",
    "import tensorflow as tf\n",
    "import xarray as xr\n",
    "\n",
    "# Helpful\n",
    "from tqdm import tqdm\n",
    "\n",
    "# Visualization\n",
    "import matplotlib.pyplot as plt\n",
    "\n",
    "# My Methods\n",
    "from src.utils.CRPS import *  # CRPS metrics\n",
    "from src.utils.data_split import *  # Splitting data into X and y\n",
    "from src.utils.drn_make_X_array import *  # Import make train array functions (make_X_array)\n",
    "from src.models.EMOS import *  # EMOS implementation\n",
    "from src.models.DRN.DRN_model import *  # DRN implementation\n",
    "from src.models.EMOS_global.EMOS_global_load_score import *  # Load EMOS_global_scores\n",
    "from src.models.EMOS_global.EMOS_global_load_model import *  # Load EMOS_global_models\n",
    "import data.raw.load_data_raw as ldr  # Load raw data\n",
    "import data.processed.load_data_processed as ldp  # Load processed data normed\n",
    "import data.processed.load_data_processed_denormed as ldpd  # Load processed data denormed\n",
    "from src.models.CRPS_baseline.CRPS_load import *  # Load CRPS scores\n",
    "from src.models.U_net.unet import Unet"
   ]
  },
  {
   "cell_type": "markdown",
   "id": "2b6ffa75",
   "metadata": {},
   "source": [
    "### 1. Load Data"
   ]
  },
  {
   "cell_type": "code",
   "execution_count": 3,
   "id": "9b408a5f",
   "metadata": {},
   "outputs": [
    {
     "data": {
      "application/javascript": [
       "\n",
       "            setTimeout(function() {\n",
       "                var nbb_cell_id = 3;\n",
       "                var nbb_unformatted_code = \"# Denormed Processed Data\\ndat_train_denorm = ldpd.load_data_all_train_proc_denorm()\\ndat_test_denorm = ldpd.load_data_all_test_proc_denorm()\";\n",
       "                var nbb_formatted_code = \"# Denormed Processed Data\\ndat_train_denorm = ldpd.load_data_all_train_proc_denorm()\\ndat_test_denorm = ldpd.load_data_all_test_proc_denorm()\";\n",
       "                var nbb_cells = Jupyter.notebook.get_cells();\n",
       "                for (var i = 0; i < nbb_cells.length; ++i) {\n",
       "                    if (nbb_cells[i].input_prompt_number == nbb_cell_id) {\n",
       "                        if (nbb_cells[i].get_text() == nbb_unformatted_code) {\n",
       "                             nbb_cells[i].set_text(nbb_formatted_code);\n",
       "                        }\n",
       "                        break;\n",
       "                    }\n",
       "                }\n",
       "            }, 500);\n",
       "            "
      ],
      "text/plain": [
       "<IPython.core.display.Javascript object>"
      ]
     },
     "metadata": {},
     "output_type": "display_data"
    }
   ],
   "source": [
    "# Denormed Processed Data\n",
    "dat_train_denorm = ldpd.load_data_all_train_proc_denorm()\n",
    "dat_test_denorm = ldpd.load_data_all_test_proc_denorm()"
   ]
  },
  {
   "cell_type": "markdown",
   "id": "bc0ad527",
   "metadata": {},
   "source": [
    "### 2. Data Split"
   ]
  },
  {
   "cell_type": "code",
   "execution_count": 4,
   "id": "c1b6d559",
   "metadata": {},
   "outputs": [
    {
     "data": {
      "application/javascript": [
       "\n",
       "            setTimeout(function() {\n",
       "                var nbb_cell_id = 4;\n",
       "                var nbb_unformatted_code = \"dat_X_train_lead_all_denorm, dat_y_train_lead_all_denorm = split_var_lead(\\n    dat_train_denorm\\n)\\ndat_X_test_lead_all_denorm, dat_y_test_lead_all_denorm = split_var_lead(dat_test_denorm)\";\n",
       "                var nbb_formatted_code = \"dat_X_train_lead_all_denorm, dat_y_train_lead_all_denorm = split_var_lead(\\n    dat_train_denorm\\n)\\ndat_X_test_lead_all_denorm, dat_y_test_lead_all_denorm = split_var_lead(dat_test_denorm)\";\n",
       "                var nbb_cells = Jupyter.notebook.get_cells();\n",
       "                for (var i = 0; i < nbb_cells.length; ++i) {\n",
       "                    if (nbb_cells[i].input_prompt_number == nbb_cell_id) {\n",
       "                        if (nbb_cells[i].get_text() == nbb_unformatted_code) {\n",
       "                             nbb_cells[i].set_text(nbb_formatted_code);\n",
       "                        }\n",
       "                        break;\n",
       "                    }\n",
       "                }\n",
       "            }, 500);\n",
       "            "
      ],
      "text/plain": [
       "<IPython.core.display.Javascript object>"
      ]
     },
     "metadata": {},
     "output_type": "display_data"
    }
   ],
   "source": [
    "dat_X_train_lead_all_denorm, dat_y_train_lead_all_denorm = split_var_lead(\n",
    "    dat_train_denorm\n",
    ")\n",
    "dat_X_test_lead_all_denorm, dat_y_test_lead_all_denorm = split_var_lead(dat_test_denorm)"
   ]
  },
  {
   "cell_type": "markdown",
   "id": "1e533445",
   "metadata": {},
   "source": [
    "### 3. Building U-Net"
   ]
  },
  {
   "cell_type": "markdown",
   "id": "c0b26681",
   "metadata": {},
   "source": [
    "Test with t2m lead_time = 6h"
   ]
  },
  {
   "cell_type": "code",
   "execution_count": 5,
   "id": "07b8fae4",
   "metadata": {},
   "outputs": [
    {
     "data": {
      "application/javascript": [
       "\n",
       "            setTimeout(function() {\n",
       "                var nbb_cell_id = 5;\n",
       "                var nbb_unformatted_code = \"train_data_mean = dat_X_train_lead_all_denorm[2][0].isel(mean_std=0)\\ntrain_data_std = dat_X_train_lead_all_denorm[2][0].isel(mean_std=1)\\ntrain_data_y = dat_y_train_lead_all_denorm[2][0]\\ntrain_data_mean = np.expand_dims(train_data_mean, axis=-1)\\ntrain_data_std = np.expand_dims(train_data_std, axis=-1)\";\n",
       "                var nbb_formatted_code = \"train_data_mean = dat_X_train_lead_all_denorm[2][0].isel(mean_std=0)\\ntrain_data_std = dat_X_train_lead_all_denorm[2][0].isel(mean_std=1)\\ntrain_data_y = dat_y_train_lead_all_denorm[2][0]\\ntrain_data_mean = np.expand_dims(train_data_mean, axis=-1)\\ntrain_data_std = np.expand_dims(train_data_std, axis=-1)\";\n",
       "                var nbb_cells = Jupyter.notebook.get_cells();\n",
       "                for (var i = 0; i < nbb_cells.length; ++i) {\n",
       "                    if (nbb_cells[i].input_prompt_number == nbb_cell_id) {\n",
       "                        if (nbb_cells[i].get_text() == nbb_unformatted_code) {\n",
       "                             nbb_cells[i].set_text(nbb_formatted_code);\n",
       "                        }\n",
       "                        break;\n",
       "                    }\n",
       "                }\n",
       "            }, 500);\n",
       "            "
      ],
      "text/plain": [
       "<IPython.core.display.Javascript object>"
      ]
     },
     "metadata": {},
     "output_type": "display_data"
    }
   ],
   "source": [
    "train_data_mean = dat_X_train_lead_all_denorm[2][0].isel(mean_std=0)\n",
    "train_data_std = dat_X_train_lead_all_denorm[2][0].isel(mean_std=1)\n",
    "train_data_y = dat_y_train_lead_all_denorm[2][0]\n",
    "train_data_mean = np.expand_dims(train_data_mean, axis=-1)\n",
    "train_data_std = np.expand_dims(train_data_std, axis=-1)"
   ]
  },
  {
   "cell_type": "code",
   "execution_count": 6,
   "id": "a5016cc8",
   "metadata": {},
   "outputs": [
    {
     "data": {
      "application/javascript": [
       "\n",
       "            setTimeout(function() {\n",
       "                var nbb_cell_id = 6;\n",
       "                var nbb_unformatted_code = \"def pad_images(images, desired_shape=(128, 136)):\\n    padded_images = np.pad(\\n        images,\\n        (\\n            (0, 0),  # don't pad along the batch axis\\n            (\\n                (desired_shape[0] - images.shape[1]) // 2,\\n                (desired_shape[0] - images.shape[1]) // 2,\\n            ),  # pad symmetrically along the height\\n            (\\n                (desired_shape[1] - images.shape[2]) // 2,\\n                (desired_shape[1] - images.shape[2]) // 2,\\n            ),  # pad symmetrically along the width\\n            (0, 0),\\n        ),  # don't pad along the channel axis\\n        mode=\\\"constant\\\",\\n        constant_values=0,\\n    )\\n    return padded_images\\n\\n\\ndef pad_images_y(images, desired_shape=(128, 136)):\\n    # Calculate padding for height and width\\n    pad_height = desired_shape[0] - images.shape[1]\\n    pad_width = desired_shape[1] - images.shape[2]\\n\\n    # Distribute padding evenly to both sides, add extra to the end if odd difference\\n    pad_height_t, pad_height_b = pad_height // 2, pad_height - pad_height // 2\\n    pad_width_l, pad_width_r = pad_width // 2, pad_width - pad_width // 2\\n\\n    padded_images = np.pad(\\n        images,\\n        (\\n            (0, 0),  # don't pad along the batch axis\\n            (pad_height_t, pad_height_b),  # pad symmetrically along the height\\n            (pad_width_l, pad_width_r),  # pad symmetrically along the width\\n        ),\\n        mode=\\\"constant\\\",\\n        constant_values=0,\\n    )\\n\\n    return padded_images\";\n",
       "                var nbb_formatted_code = \"def pad_images(images, desired_shape=(128, 136)):\\n    padded_images = np.pad(\\n        images,\\n        (\\n            (0, 0),  # don't pad along the batch axis\\n            (\\n                (desired_shape[0] - images.shape[1]) // 2,\\n                (desired_shape[0] - images.shape[1]) // 2,\\n            ),  # pad symmetrically along the height\\n            (\\n                (desired_shape[1] - images.shape[2]) // 2,\\n                (desired_shape[1] - images.shape[2]) // 2,\\n            ),  # pad symmetrically along the width\\n            (0, 0),\\n        ),  # don't pad along the channel axis\\n        mode=\\\"constant\\\",\\n        constant_values=0,\\n    )\\n    return padded_images\\n\\n\\ndef pad_images_y(images, desired_shape=(128, 136)):\\n    # Calculate padding for height and width\\n    pad_height = desired_shape[0] - images.shape[1]\\n    pad_width = desired_shape[1] - images.shape[2]\\n\\n    # Distribute padding evenly to both sides, add extra to the end if odd difference\\n    pad_height_t, pad_height_b = pad_height // 2, pad_height - pad_height // 2\\n    pad_width_l, pad_width_r = pad_width // 2, pad_width - pad_width // 2\\n\\n    padded_images = np.pad(\\n        images,\\n        (\\n            (0, 0),  # don't pad along the batch axis\\n            (pad_height_t, pad_height_b),  # pad symmetrically along the height\\n            (pad_width_l, pad_width_r),  # pad symmetrically along the width\\n        ),\\n        mode=\\\"constant\\\",\\n        constant_values=0,\\n    )\\n\\n    return padded_images\";\n",
       "                var nbb_cells = Jupyter.notebook.get_cells();\n",
       "                for (var i = 0; i < nbb_cells.length; ++i) {\n",
       "                    if (nbb_cells[i].input_prompt_number == nbb_cell_id) {\n",
       "                        if (nbb_cells[i].get_text() == nbb_unformatted_code) {\n",
       "                             nbb_cells[i].set_text(nbb_formatted_code);\n",
       "                        }\n",
       "                        break;\n",
       "                    }\n",
       "                }\n",
       "            }, 500);\n",
       "            "
      ],
      "text/plain": [
       "<IPython.core.display.Javascript object>"
      ]
     },
     "metadata": {},
     "output_type": "display_data"
    }
   ],
   "source": [
    "def pad_images(images, desired_shape=(128, 136)):\n",
    "    padded_images = np.pad(\n",
    "        images,\n",
    "        (\n",
    "            (0, 0),  # don't pad along the batch axis\n",
    "            (\n",
    "                (desired_shape[0] - images.shape[1]) // 2,\n",
    "                (desired_shape[0] - images.shape[1]) // 2,\n",
    "            ),  # pad symmetrically along the height\n",
    "            (\n",
    "                (desired_shape[1] - images.shape[2]) // 2,\n",
    "                (desired_shape[1] - images.shape[2]) // 2,\n",
    "            ),  # pad symmetrically along the width\n",
    "            (0, 0),\n",
    "        ),  # don't pad along the channel axis\n",
    "        mode=\"constant\",\n",
    "        constant_values=0,\n",
    "    )\n",
    "    return padded_images\n",
    "\n",
    "\n",
    "def pad_images_y(images, desired_shape=(128, 136)):\n",
    "    # Calculate padding for height and width\n",
    "    pad_height = desired_shape[0] - images.shape[1]\n",
    "    pad_width = desired_shape[1] - images.shape[2]\n",
    "\n",
    "    # Distribute padding evenly to both sides, add extra to the end if odd difference\n",
    "    pad_height_t, pad_height_b = pad_height // 2, pad_height - pad_height // 2\n",
    "    pad_width_l, pad_width_r = pad_width // 2, pad_width - pad_width // 2\n",
    "\n",
    "    padded_images = np.pad(\n",
    "        images,\n",
    "        (\n",
    "            (0, 0),  # don't pad along the batch axis\n",
    "            (pad_height_t, pad_height_b),  # pad symmetrically along the height\n",
    "            (pad_width_l, pad_width_r),  # pad symmetrically along the width\n",
    "        ),\n",
    "        mode=\"constant\",\n",
    "        constant_values=0,\n",
    "    )\n",
    "\n",
    "    return padded_images"
   ]
  },
  {
   "cell_type": "code",
   "execution_count": 7,
   "id": "f68e1914",
   "metadata": {},
   "outputs": [
    {
     "name": "stdout",
     "output_type": "stream",
     "text": [
      "(1429, 128, 136, 1)\n",
      "(1429, 128, 136)\n"
     ]
    },
    {
     "data": {
      "application/javascript": [
       "\n",
       "            setTimeout(function() {\n",
       "                var nbb_cell_id = 7;\n",
       "                var nbb_unformatted_code = \"# pad your train and test datasets\\npadded_train_data_mean = pad_images(train_data_mean)\\npadded_train_data_std = pad_images(train_data_std)\\npadded_train_data_y = pad_images_y(train_data_y)\\n# padded_test_data = pad_images(test_data)\\n\\nprint(padded_train_data_mean.shape)\\nprint(padded_train_data_y.shape)  # should print (1429, 128, 136, 1)\\n# print(padded_test_data.shape) # should print (357, 128, 136, 1)\";\n",
       "                var nbb_formatted_code = \"# pad your train and test datasets\\npadded_train_data_mean = pad_images(train_data_mean)\\npadded_train_data_std = pad_images(train_data_std)\\npadded_train_data_y = pad_images_y(train_data_y)\\n# padded_test_data = pad_images(test_data)\\n\\nprint(padded_train_data_mean.shape)\\nprint(padded_train_data_y.shape)  # should print (1429, 128, 136, 1)\\n# print(padded_test_data.shape) # should print (357, 128, 136, 1)\";\n",
       "                var nbb_cells = Jupyter.notebook.get_cells();\n",
       "                for (var i = 0; i < nbb_cells.length; ++i) {\n",
       "                    if (nbb_cells[i].input_prompt_number == nbb_cell_id) {\n",
       "                        if (nbb_cells[i].get_text() == nbb_unformatted_code) {\n",
       "                             nbb_cells[i].set_text(nbb_formatted_code);\n",
       "                        }\n",
       "                        break;\n",
       "                    }\n",
       "                }\n",
       "            }, 500);\n",
       "            "
      ],
      "text/plain": [
       "<IPython.core.display.Javascript object>"
      ]
     },
     "metadata": {},
     "output_type": "display_data"
    }
   ],
   "source": [
    "# pad your train and test datasets\n",
    "padded_train_data_mean = pad_images(train_data_mean)\n",
    "padded_train_data_std = pad_images(train_data_std)\n",
    "padded_train_data_y = pad_images_y(train_data_y)\n",
    "# padded_test_data = pad_images(test_data)\n",
    "\n",
    "print(padded_train_data_mean.shape)\n",
    "print(padded_train_data_y.shape)  # should print (1429, 128, 136, 1)\n",
    "# print(padded_test_data.shape) # should print (357, 128, 136, 1)"
   ]
  },
  {
   "cell_type": "code",
   "execution_count": 8,
   "id": "3500b21f",
   "metadata": {
    "collapsed": true
   },
   "outputs": [
    {
     "name": "stdout",
     "output_type": "stream",
     "text": [
      "Downsampling block 1 shape:  (None, 64, 68, 8)\n",
      "Downsampling block 2 shape:  (None, 32, 34, 16)\n"
     ]
    },
    {
     "name": "stderr",
     "output_type": "stream",
     "text": [
      "2023-06-27 16:52:47.759394: W tensorflow/stream_executor/platform/default/dso_loader.cc:64] Could not load dynamic library 'libcudart.so.11.0'; dlerror: libcudart.so.11.0: cannot open shared object file: No such file or directory; LD_LIBRARY_PATH: :/opt/anaconda3/lib/\n",
      "2023-06-27 16:52:47.759544: W tensorflow/stream_executor/platform/default/dso_loader.cc:64] Could not load dynamic library 'libcublas.so.11'; dlerror: libcublas.so.11: cannot open shared object file: No such file or directory; LD_LIBRARY_PATH: :/opt/anaconda3/lib/\n",
      "2023-06-27 16:52:47.759611: W tensorflow/stream_executor/platform/default/dso_loader.cc:64] Could not load dynamic library 'libcublasLt.so.11'; dlerror: libcublasLt.so.11: cannot open shared object file: No such file or directory; LD_LIBRARY_PATH: :/opt/anaconda3/lib/\n",
      "2023-06-27 16:52:47.759671: W tensorflow/stream_executor/platform/default/dso_loader.cc:64] Could not load dynamic library 'libcufft.so.10'; dlerror: libcufft.so.10: cannot open shared object file: No such file or directory; LD_LIBRARY_PATH: :/opt/anaconda3/lib/\n",
      "2023-06-27 16:52:47.786167: W tensorflow/stream_executor/platform/default/dso_loader.cc:64] Could not load dynamic library 'libcusparse.so.11'; dlerror: libcusparse.so.11: cannot open shared object file: No such file or directory; LD_LIBRARY_PATH: :/opt/anaconda3/lib/\n",
      "2023-06-27 16:52:47.786373: W tensorflow/core/common_runtime/gpu/gpu_device.cc:1850] Cannot dlopen some GPU libraries. Please make sure the missing libraries mentioned above are installed properly if you would like to use GPU. Follow the guide at https://www.tensorflow.org/install/gpu for how to download and setup the required libraries for your platform.\n",
      "Skipping registering GPU devices...\n",
      "2023-06-27 16:52:47.787423: I tensorflow/core/platform/cpu_feature_guard.cc:151] This TensorFlow binary is optimized with oneAPI Deep Neural Network Library (oneDNN) to use the following CPU instructions in performance-critical operations:  AVX2 AVX512F FMA\n",
      "To enable them in other operations, rebuild TensorFlow with the appropriate compiler flags.\n"
     ]
    },
    {
     "name": "stdout",
     "output_type": "stream",
     "text": [
      "Downsampling block 3 shape:  (None, 16, 17, 32)\n",
      "Bottleneck shape:  (None, 16, 17, 64)\n",
      "Upsampling block 5 shape:  (None, 16, 17, 64)\n",
      "Upsampling block 4 shape:  (None, 16, 17, 64)\n",
      "Upsampling block 3 shape:  (None, 32, 34, 32)\n",
      "Upsampling block 2 shape:  (None, 64, 68, 16)\n",
      "Upsampling block 1 shape:  (None, 128, 136, 8)\n"
     ]
    },
    {
     "data": {
      "application/javascript": [
       "\n",
       "            setTimeout(function() {\n",
       "                var nbb_cell_id = 8;\n",
       "                var nbb_unformatted_code = \"# Parameters for Unet class initialization\\nv = \\\"tp\\\"  # Or any other value based on your preference\\ntrain_patches = False  # Or True if you want to train with patches\\n\\n# Initialize the U-Net model\\nunet_model = Unet(v=v, train_patches=train_patches)\\n\\n# Build the model with your training data shape\\nmodel = unet_model.build_model(padded_train_data_mean.shape, 2)\";\n",
       "                var nbb_formatted_code = \"# Parameters for Unet class initialization\\nv = \\\"tp\\\"  # Or any other value based on your preference\\ntrain_patches = False  # Or True if you want to train with patches\\n\\n# Initialize the U-Net model\\nunet_model = Unet(v=v, train_patches=train_patches)\\n\\n# Build the model with your training data shape\\nmodel = unet_model.build_model(padded_train_data_mean.shape, 2)\";\n",
       "                var nbb_cells = Jupyter.notebook.get_cells();\n",
       "                for (var i = 0; i < nbb_cells.length; ++i) {\n",
       "                    if (nbb_cells[i].input_prompt_number == nbb_cell_id) {\n",
       "                        if (nbb_cells[i].get_text() == nbb_unformatted_code) {\n",
       "                             nbb_cells[i].set_text(nbb_formatted_code);\n",
       "                        }\n",
       "                        break;\n",
       "                    }\n",
       "                }\n",
       "            }, 500);\n",
       "            "
      ],
      "text/plain": [
       "<IPython.core.display.Javascript object>"
      ]
     },
     "metadata": {},
     "output_type": "display_data"
    }
   ],
   "source": [
    "# Parameters for Unet class initialization\n",
    "v = \"tp\"  # Or any other value based on your preference\n",
    "train_patches = False  # Or True if you want to train with patches\n",
    "\n",
    "# Initialize the U-Net model\n",
    "unet_model = Unet(v=v, train_patches=train_patches)\n",
    "\n",
    "# Build the model with your training data shape\n",
    "model = unet_model.build_model(padded_train_data_mean.shape, 2)"
   ]
  },
  {
   "cell_type": "code",
   "execution_count": 10,
   "id": "472a0fd4",
   "metadata": {},
   "outputs": [
    {
     "name": "stdout",
     "output_type": "stream",
     "text": [
      "45/45 [==============================] - 31s 679ms/step - loss: 254.1255\n"
     ]
    },
    {
     "data": {
      "text/plain": [
       "<keras.callbacks.History at 0x7faf0c16eb80>"
      ]
     },
     "execution_count": 10,
     "metadata": {},
     "output_type": "execute_result"
    },
    {
     "data": {
      "application/javascript": [
       "\n",
       "            setTimeout(function() {\n",
       "                var nbb_cell_id = 10;\n",
       "                var nbb_unformatted_code = \"model.fit([padded_train_data_mean, padded_train_data_std], padded_train_data_y)\";\n",
       "                var nbb_formatted_code = \"model.fit([padded_train_data_mean, padded_train_data_std], padded_train_data_y)\";\n",
       "                var nbb_cells = Jupyter.notebook.get_cells();\n",
       "                for (var i = 0; i < nbb_cells.length; ++i) {\n",
       "                    if (nbb_cells[i].input_prompt_number == nbb_cell_id) {\n",
       "                        if (nbb_cells[i].get_text() == nbb_unformatted_code) {\n",
       "                             nbb_cells[i].set_text(nbb_formatted_code);\n",
       "                        }\n",
       "                        break;\n",
       "                    }\n",
       "                }\n",
       "            }, 500);\n",
       "            "
      ],
      "text/plain": [
       "<IPython.core.display.Javascript object>"
      ]
     },
     "metadata": {},
     "output_type": "display_data"
    }
   ],
   "source": [
    "model.fit([padded_train_data_mean, padded_train_data_std], padded_train_data_y)"
   ]
  }
 ],
 "metadata": {
  "kernelspec": {
   "display_name": "Python 3 (ipykernel)",
   "language": "python",
   "name": "python3"
  },
  "language_info": {
   "codemirror_mode": {
    "name": "ipython",
    "version": 3
   },
   "file_extension": ".py",
   "mimetype": "text/x-python",
   "name": "python",
   "nbconvert_exporter": "python",
   "pygments_lexer": "ipython3",
   "version": "3.9.7"
  }
 },
 "nbformat": 4,
 "nbformat_minor": 5
}
