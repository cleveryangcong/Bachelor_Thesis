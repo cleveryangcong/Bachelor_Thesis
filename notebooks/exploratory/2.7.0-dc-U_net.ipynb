{
 "cells": [
  {
   "cell_type": "code",
   "execution_count": 1,
   "id": "356499c6",
   "metadata": {},
   "outputs": [
    {
     "data": {
      "application/javascript": [
       "\n",
       "            setTimeout(function() {\n",
       "                var nbb_cell_id = 1;\n",
       "                var nbb_unformatted_code = \"%load_ext nb_black\";\n",
       "                var nbb_formatted_code = \"%load_ext nb_black\";\n",
       "                var nbb_cells = Jupyter.notebook.get_cells();\n",
       "                for (var i = 0; i < nbb_cells.length; ++i) {\n",
       "                    if (nbb_cells[i].input_prompt_number == nbb_cell_id) {\n",
       "                        if (nbb_cells[i].get_text() == nbb_unformatted_code) {\n",
       "                             nbb_cells[i].set_text(nbb_formatted_code);\n",
       "                        }\n",
       "                        break;\n",
       "                    }\n",
       "                }\n",
       "            }, 500);\n",
       "            "
      ],
      "text/plain": [
       "<IPython.core.display.Javascript object>"
      ]
     },
     "metadata": {},
     "output_type": "display_data"
    }
   ],
   "source": [
    "%load_ext nb_black"
   ]
  },
  {
   "cell_type": "code",
   "execution_count": 2,
   "id": "ba793edd",
   "metadata": {},
   "outputs": [
    {
     "name": "stderr",
     "output_type": "stream",
     "text": [
      "2023-06-25 18:09:56.402868: W tensorflow/stream_executor/platform/default/dso_loader.cc:64] Could not load dynamic library 'libcudart.so.11.0'; dlerror: libcudart.so.11.0: cannot open shared object file: No such file or directory; LD_LIBRARY_PATH: :/opt/anaconda3/lib/\n",
      "2023-06-25 18:09:56.402900: I tensorflow/stream_executor/cuda/cudart_stub.cc:29] Ignore above cudart dlerror if you do not have a GPU set up on your machine.\n"
     ]
    },
    {
     "data": {
      "application/javascript": [
       "\n",
       "            setTimeout(function() {\n",
       "                var nbb_cell_id = 2;\n",
       "                var nbb_unformatted_code = \"import sys\\n\\nsys.path.append(\\\"/home/dchen/BA_CH_EN/\\\")\\n\\n# Basics\\nimport tensorflow as tf\\nimport xarray as xr\\n\\n# Helpful\\nfrom tqdm import tqdm\\n\\n# Visualization\\nimport matplotlib.pyplot as plt\\n\\n# My Methods\\nfrom src.utils.CRPS import *  # CRPS metrics\\nfrom src.utils.data_split import *  # Splitting data into X and y\\nfrom src.utils.drn_make_X_array import *  # Import make train array functions (make_X_array)\\nfrom src.models.EMOS import *  # EMOS implementation\\nfrom src.models.DRN.DRN_model import *  # DRN implementation\\nfrom src.models.EMOS_global.EMOS_global_load_score import *  # Load EMOS_global_scores\\nfrom src.models.EMOS_global.EMOS_global_load_model import *  # Load EMOS_global_models\\nimport data.raw.load_data_raw as ldr  # Load raw data\\nimport data.processed.load_data_processed as ldp  # Load processed data normed\\nimport data.processed.load_data_processed_denormed as ldpd  # Load processed data denormed\\nfrom src.models.CRPS_baseline.CRPS_load import *  # Load CRPS scores\\nfrom src.models.U_net.unet import Unet\";\n",
       "                var nbb_formatted_code = \"import sys\\n\\nsys.path.append(\\\"/home/dchen/BA_CH_EN/\\\")\\n\\n# Basics\\nimport tensorflow as tf\\nimport xarray as xr\\n\\n# Helpful\\nfrom tqdm import tqdm\\n\\n# Visualization\\nimport matplotlib.pyplot as plt\\n\\n# My Methods\\nfrom src.utils.CRPS import *  # CRPS metrics\\nfrom src.utils.data_split import *  # Splitting data into X and y\\nfrom src.utils.drn_make_X_array import *  # Import make train array functions (make_X_array)\\nfrom src.models.EMOS import *  # EMOS implementation\\nfrom src.models.DRN.DRN_model import *  # DRN implementation\\nfrom src.models.EMOS_global.EMOS_global_load_score import *  # Load EMOS_global_scores\\nfrom src.models.EMOS_global.EMOS_global_load_model import *  # Load EMOS_global_models\\nimport data.raw.load_data_raw as ldr  # Load raw data\\nimport data.processed.load_data_processed as ldp  # Load processed data normed\\nimport data.processed.load_data_processed_denormed as ldpd  # Load processed data denormed\\nfrom src.models.CRPS_baseline.CRPS_load import *  # Load CRPS scores\\nfrom src.models.U_net.unet import Unet\";\n",
       "                var nbb_cells = Jupyter.notebook.get_cells();\n",
       "                for (var i = 0; i < nbb_cells.length; ++i) {\n",
       "                    if (nbb_cells[i].input_prompt_number == nbb_cell_id) {\n",
       "                        if (nbb_cells[i].get_text() == nbb_unformatted_code) {\n",
       "                             nbb_cells[i].set_text(nbb_formatted_code);\n",
       "                        }\n",
       "                        break;\n",
       "                    }\n",
       "                }\n",
       "            }, 500);\n",
       "            "
      ],
      "text/plain": [
       "<IPython.core.display.Javascript object>"
      ]
     },
     "metadata": {},
     "output_type": "display_data"
    }
   ],
   "source": [
    "import sys\n",
    "\n",
    "sys.path.append(\"/home/dchen/BA_CH_EN/\")\n",
    "\n",
    "# Basics\n",
    "import tensorflow as tf\n",
    "import xarray as xr\n",
    "\n",
    "# Helpful\n",
    "from tqdm import tqdm\n",
    "\n",
    "# Visualization\n",
    "import matplotlib.pyplot as plt\n",
    "\n",
    "# My Methods\n",
    "from src.utils.CRPS import *  # CRPS metrics\n",
    "from src.utils.data_split import *  # Splitting data into X and y\n",
    "from src.utils.drn_make_X_array import *  # Import make train array functions (make_X_array)\n",
    "from src.models.EMOS import *  # EMOS implementation\n",
    "from src.models.DRN.DRN_model import *  # DRN implementation\n",
    "from src.models.EMOS_global.EMOS_global_load_score import *  # Load EMOS_global_scores\n",
    "from src.models.EMOS_global.EMOS_global_load_model import *  # Load EMOS_global_models\n",
    "import data.raw.load_data_raw as ldr  # Load raw data\n",
    "import data.processed.load_data_processed as ldp  # Load processed data normed\n",
    "import data.processed.load_data_processed_denormed as ldpd  # Load processed data denormed\n",
    "from src.models.CRPS_baseline.CRPS_load import *  # Load CRPS scores\n",
    "from src.models.U_net.unet import Unet"
   ]
  },
  {
   "cell_type": "markdown",
   "id": "2b6ffa75",
   "metadata": {},
   "source": [
    "### 1. Load Data"
   ]
  },
  {
   "cell_type": "code",
   "execution_count": 3,
   "id": "9b408a5f",
   "metadata": {},
   "outputs": [
    {
     "data": {
      "application/javascript": [
       "\n",
       "            setTimeout(function() {\n",
       "                var nbb_cell_id = 3;\n",
       "                var nbb_unformatted_code = \"# Denormed Processed Data\\ndat_train_denorm = ldpd.load_data_all_train_proc_denorm()\\ndat_test_denorm = ldpd.load_data_all_test_proc_denorm()\";\n",
       "                var nbb_formatted_code = \"# Denormed Processed Data\\ndat_train_denorm = ldpd.load_data_all_train_proc_denorm()\\ndat_test_denorm = ldpd.load_data_all_test_proc_denorm()\";\n",
       "                var nbb_cells = Jupyter.notebook.get_cells();\n",
       "                for (var i = 0; i < nbb_cells.length; ++i) {\n",
       "                    if (nbb_cells[i].input_prompt_number == nbb_cell_id) {\n",
       "                        if (nbb_cells[i].get_text() == nbb_unformatted_code) {\n",
       "                             nbb_cells[i].set_text(nbb_formatted_code);\n",
       "                        }\n",
       "                        break;\n",
       "                    }\n",
       "                }\n",
       "            }, 500);\n",
       "            "
      ],
      "text/plain": [
       "<IPython.core.display.Javascript object>"
      ]
     },
     "metadata": {},
     "output_type": "display_data"
    }
   ],
   "source": [
    "# Denormed Processed Data\n",
    "dat_train_denorm = ldpd.load_data_all_train_proc_denorm()\n",
    "dat_test_denorm = ldpd.load_data_all_test_proc_denorm()"
   ]
  },
  {
   "cell_type": "markdown",
   "id": "bc0ad527",
   "metadata": {},
   "source": [
    "### 2. Data Split"
   ]
  },
  {
   "cell_type": "code",
   "execution_count": 4,
   "id": "c1b6d559",
   "metadata": {},
   "outputs": [
    {
     "data": {
      "application/javascript": [
       "\n",
       "            setTimeout(function() {\n",
       "                var nbb_cell_id = 4;\n",
       "                var nbb_unformatted_code = \"dat_X_train_lead_all_denorm, dat_y_train_lead_all_denorm = split_var_lead(\\n    dat_train_denorm\\n)\\ndat_X_test_lead_all_denorm, dat_y_test_lead_all_denorm = split_var_lead(dat_test_denorm)\";\n",
       "                var nbb_formatted_code = \"dat_X_train_lead_all_denorm, dat_y_train_lead_all_denorm = split_var_lead(\\n    dat_train_denorm\\n)\\ndat_X_test_lead_all_denorm, dat_y_test_lead_all_denorm = split_var_lead(dat_test_denorm)\";\n",
       "                var nbb_cells = Jupyter.notebook.get_cells();\n",
       "                for (var i = 0; i < nbb_cells.length; ++i) {\n",
       "                    if (nbb_cells[i].input_prompt_number == nbb_cell_id) {\n",
       "                        if (nbb_cells[i].get_text() == nbb_unformatted_code) {\n",
       "                             nbb_cells[i].set_text(nbb_formatted_code);\n",
       "                        }\n",
       "                        break;\n",
       "                    }\n",
       "                }\n",
       "            }, 500);\n",
       "            "
      ],
      "text/plain": [
       "<IPython.core.display.Javascript object>"
      ]
     },
     "metadata": {},
     "output_type": "display_data"
    }
   ],
   "source": [
    "dat_X_train_lead_all_denorm, dat_y_train_lead_all_denorm = split_var_lead(\n",
    "    dat_train_denorm\n",
    ")\n",
    "dat_X_test_lead_all_denorm, dat_y_test_lead_all_denorm = split_var_lead(dat_test_denorm)"
   ]
  },
  {
   "cell_type": "markdown",
   "id": "1e533445",
   "metadata": {},
   "source": [
    "### 3. Building U-Net"
   ]
  },
  {
   "cell_type": "markdown",
   "id": "c0b26681",
   "metadata": {},
   "source": [
    "Test with t2m lead_time = 6h"
   ]
  },
  {
   "cell_type": "code",
   "execution_count": 5,
   "id": "07b8fae4",
   "metadata": {},
   "outputs": [
    {
     "data": {
      "application/javascript": [
       "\n",
       "            setTimeout(function() {\n",
       "                var nbb_cell_id = 5;\n",
       "                var nbb_unformatted_code = \"train_data = dat_X_train_lead_all_denorm[2][0].isel(mean_std=0)\\ntrain_data = np.expand_dims(train_data, axis=-1)\";\n",
       "                var nbb_formatted_code = \"train_data = dat_X_train_lead_all_denorm[2][0].isel(mean_std=0)\\ntrain_data = np.expand_dims(train_data, axis=-1)\";\n",
       "                var nbb_cells = Jupyter.notebook.get_cells();\n",
       "                for (var i = 0; i < nbb_cells.length; ++i) {\n",
       "                    if (nbb_cells[i].input_prompt_number == nbb_cell_id) {\n",
       "                        if (nbb_cells[i].get_text() == nbb_unformatted_code) {\n",
       "                             nbb_cells[i].set_text(nbb_formatted_code);\n",
       "                        }\n",
       "                        break;\n",
       "                    }\n",
       "                }\n",
       "            }, 500);\n",
       "            "
      ],
      "text/plain": [
       "<IPython.core.display.Javascript object>"
      ]
     },
     "metadata": {},
     "output_type": "display_data"
    }
   ],
   "source": [
    "train_data = dat_X_train_lead_all_denorm[2][0].isel(mean_std=0)\n",
    "train_data = np.expand_dims(train_data, axis=-1)"
   ]
  },
  {
   "cell_type": "code",
   "execution_count": 10,
   "id": "a5016cc8",
   "metadata": {},
   "outputs": [
    {
     "data": {
      "application/javascript": [
       "\n",
       "            setTimeout(function() {\n",
       "                var nbb_cell_id = 10;\n",
       "                var nbb_unformatted_code = \"def pad_images(images, desired_shape=(128, 136)):\\n    padded_images = np.pad(\\n        images, \\n        ((0, 0), # don't pad along the batch axis\\n         ((desired_shape[0]-images.shape[1])//2, (desired_shape[0]-images.shape[1])//2), # pad symmetrically along the height\\n         ((desired_shape[1]-images.shape[2])//2, (desired_shape[1]-images.shape[2])//2), # pad symmetrically along the width\\n         (0, 0)), # don't pad along the channel axis\\n        mode='constant', \\n        constant_values=0\\n    )\\n    return padded_images\";\n",
       "                var nbb_formatted_code = \"def pad_images(images, desired_shape=(128, 136)):\\n    padded_images = np.pad(\\n        images,\\n        (\\n            (0, 0),  # don't pad along the batch axis\\n            (\\n                (desired_shape[0] - images.shape[1]) // 2,\\n                (desired_shape[0] - images.shape[1]) // 2,\\n            ),  # pad symmetrically along the height\\n            (\\n                (desired_shape[1] - images.shape[2]) // 2,\\n                (desired_shape[1] - images.shape[2]) // 2,\\n            ),  # pad symmetrically along the width\\n            (0, 0),\\n        ),  # don't pad along the channel axis\\n        mode=\\\"constant\\\",\\n        constant_values=0,\\n    )\\n    return padded_images\";\n",
       "                var nbb_cells = Jupyter.notebook.get_cells();\n",
       "                for (var i = 0; i < nbb_cells.length; ++i) {\n",
       "                    if (nbb_cells[i].input_prompt_number == nbb_cell_id) {\n",
       "                        if (nbb_cells[i].get_text() == nbb_unformatted_code) {\n",
       "                             nbb_cells[i].set_text(nbb_formatted_code);\n",
       "                        }\n",
       "                        break;\n",
       "                    }\n",
       "                }\n",
       "            }, 500);\n",
       "            "
      ],
      "text/plain": [
       "<IPython.core.display.Javascript object>"
      ]
     },
     "metadata": {},
     "output_type": "display_data"
    }
   ],
   "source": [
    "def pad_images(images, desired_shape=(128, 136)):\n",
    "    padded_images = np.pad(\n",
    "        images,\n",
    "        (\n",
    "            (0, 0),  # don't pad along the batch axis\n",
    "            (\n",
    "                (desired_shape[0] - images.shape[1]) // 2,\n",
    "                (desired_shape[0] - images.shape[1]) // 2,\n",
    "            ),  # pad symmetrically along the height\n",
    "            (\n",
    "                (desired_shape[1] - images.shape[2]) // 2,\n",
    "                (desired_shape[1] - images.shape[2]) // 2,\n",
    "            ),  # pad symmetrically along the width\n",
    "            (0, 0),\n",
    "        ),  # don't pad along the channel axis\n",
    "        mode=\"constant\",\n",
    "        constant_values=0,\n",
    "    )\n",
    "    return padded_images"
   ]
  },
  {
   "cell_type": "code",
   "execution_count": 11,
   "id": "f68e1914",
   "metadata": {},
   "outputs": [
    {
     "name": "stdout",
     "output_type": "stream",
     "text": [
      "(1429, 128, 136, 1)\n"
     ]
    },
    {
     "data": {
      "application/javascript": [
       "\n",
       "            setTimeout(function() {\n",
       "                var nbb_cell_id = 11;\n",
       "                var nbb_unformatted_code = \"# pad your train and test datasets\\npadded_train_data = pad_images(train_data)\\n# padded_test_data = pad_images(test_data)\\n\\nprint(padded_train_data.shape) # should print (1429, 128, 136, 1)\\n# print(padded_test_data.shape) # should print (357, 128, 136, 1)\";\n",
       "                var nbb_formatted_code = \"# pad your train and test datasets\\npadded_train_data = pad_images(train_data)\\n# padded_test_data = pad_images(test_data)\\n\\nprint(padded_train_data.shape)  # should print (1429, 128, 136, 1)\\n# print(padded_test_data.shape) # should print (357, 128, 136, 1)\";\n",
       "                var nbb_cells = Jupyter.notebook.get_cells();\n",
       "                for (var i = 0; i < nbb_cells.length; ++i) {\n",
       "                    if (nbb_cells[i].input_prompt_number == nbb_cell_id) {\n",
       "                        if (nbb_cells[i].get_text() == nbb_unformatted_code) {\n",
       "                             nbb_cells[i].set_text(nbb_formatted_code);\n",
       "                        }\n",
       "                        break;\n",
       "                    }\n",
       "                }\n",
       "            }, 500);\n",
       "            "
      ],
      "text/plain": [
       "<IPython.core.display.Javascript object>"
      ]
     },
     "metadata": {},
     "output_type": "display_data"
    }
   ],
   "source": [
    "# pad your train and test datasets\n",
    "padded_train_data = pad_images(train_data)\n",
    "# padded_test_data = pad_images(test_data)\n",
    "\n",
    "print(padded_train_data.shape)  # should print (1429, 128, 136, 1)\n",
    "# print(padded_test_data.shape) # should print (357, 128, 136, 1)"
   ]
  },
  {
   "cell_type": "code",
   "execution_count": 13,
   "id": "3500b21f",
   "metadata": {},
   "outputs": [
    {
     "name": "stdout",
     "output_type": "stream",
     "text": [
      "Downsampling block 1 shape:  (None, 64, 68, 8)\n",
      "Downsampling block 2 shape:  (None, 32, 34, 16)\n",
      "Downsampling block 3 shape:  (None, 16, 17, 32)\n",
      "Bottleneck shape:  (None, 16, 17, 64)\n",
      "Upsampling block 5 shape:  (None, 16, 17, 64)\n",
      "Upsampling block 4 shape:  (None, 16, 17, 64)\n",
      "Upsampling block 3 shape:  (None, 32, 34, 32)\n",
      "Upsampling block 2 shape:  (None, 64, 68, 16)\n",
      "Upsampling block 1 shape:  (None, 128, 136, 8)\n",
      "Model: \"model\"\n",
      "__________________________________________________________________________________________________\n",
      " Layer (type)                   Output Shape         Param #     Connected to                     \n",
      "==================================================================================================\n",
      " input_4 (InputLayer)           [(None, 128, 136, 1  0           []                               \n",
      "                                )]                                                                \n",
      "                                                                                                  \n",
      " conv2d_30 (Conv2D)             (None, 128, 136, 8)  80          ['input_4[0][0]']                \n",
      "                                                                                                  \n",
      " dropout_12 (Dropout)           (None, 128, 136, 8)  0           ['conv2d_30[0][0]']              \n",
      "                                                                                                  \n",
      " conv2d_31 (Conv2D)             (None, 128, 136, 8)  584         ['dropout_12[0][0]']             \n",
      "                                                                                                  \n",
      " batch_normalization_12 (BatchN  (None, 128, 136, 8)  32         ['conv2d_31[0][0]']              \n",
      " ormalization)                                                                                    \n",
      "                                                                                                  \n",
      " average_pooling2d_9 (AveragePo  (None, 64, 68, 8)   0           ['batch_normalization_12[0][0]'] \n",
      " oling2D)                                                                                         \n",
      "                                                                                                  \n",
      " conv2d_32 (Conv2D)             (None, 64, 68, 16)   1168        ['average_pooling2d_9[0][0]']    \n",
      "                                                                                                  \n",
      " dropout_13 (Dropout)           (None, 64, 68, 16)   0           ['conv2d_32[0][0]']              \n",
      "                                                                                                  \n",
      " conv2d_33 (Conv2D)             (None, 64, 68, 16)   2320        ['dropout_13[0][0]']             \n",
      "                                                                                                  \n",
      " batch_normalization_13 (BatchN  (None, 64, 68, 16)  64          ['conv2d_33[0][0]']              \n",
      " ormalization)                                                                                    \n",
      "                                                                                                  \n",
      " average_pooling2d_10 (AverageP  (None, 32, 34, 16)  0           ['batch_normalization_13[0][0]'] \n",
      " ooling2D)                                                                                        \n",
      "                                                                                                  \n",
      " conv2d_34 (Conv2D)             (None, 32, 34, 32)   4640        ['average_pooling2d_10[0][0]']   \n",
      "                                                                                                  \n",
      " dropout_14 (Dropout)           (None, 32, 34, 32)   0           ['conv2d_34[0][0]']              \n",
      "                                                                                                  \n",
      " conv2d_35 (Conv2D)             (None, 32, 34, 32)   9248        ['dropout_14[0][0]']             \n",
      "                                                                                                  \n",
      " batch_normalization_14 (BatchN  (None, 32, 34, 32)  128         ['conv2d_35[0][0]']              \n",
      " ormalization)                                                                                    \n",
      "                                                                                                  \n",
      " average_pooling2d_11 (AverageP  (None, 16, 17, 32)  0           ['batch_normalization_14[0][0]'] \n",
      " ooling2D)                                                                                        \n",
      "                                                                                                  \n",
      " conv2d_36 (Conv2D)             (None, 16, 17, 64)   18496       ['average_pooling2d_11[0][0]']   \n",
      "                                                                                                  \n",
      " conv2d_37 (Conv2D)             (None, 16, 17, 64)   36928       ['conv2d_36[0][0]']              \n",
      "                                                                                                  \n",
      " conv2d_transpose_6 (Conv2DTran  (None, 32, 34, 32)  18464       ['conv2d_37[0][0]']              \n",
      " spose)                                                                                           \n",
      "                                                                                                  \n",
      " concatenate_6 (Concatenate)    (None, 32, 34, 64)   0           ['batch_normalization_14[0][0]', \n",
      "                                                                  'conv2d_transpose_6[0][0]']     \n",
      "                                                                                                  \n",
      " conv2d_38 (Conv2D)             (None, 32, 34, 32)   18464       ['concatenate_6[0][0]']          \n",
      "                                                                                                  \n",
      " dropout_15 (Dropout)           (None, 32, 34, 32)   0           ['conv2d_38[0][0]']              \n",
      "                                                                                                  \n",
      " conv2d_39 (Conv2D)             (None, 32, 34, 32)   9248        ['dropout_15[0][0]']             \n",
      "                                                                                                  \n",
      " batch_normalization_15 (BatchN  (None, 32, 34, 32)  128         ['conv2d_39[0][0]']              \n",
      " ormalization)                                                                                    \n",
      "                                                                                                  \n",
      " conv2d_transpose_7 (Conv2DTran  (None, 64, 68, 16)  4624        ['batch_normalization_15[0][0]'] \n",
      " spose)                                                                                           \n",
      "                                                                                                  \n",
      " concatenate_7 (Concatenate)    (None, 64, 68, 32)   0           ['batch_normalization_13[0][0]', \n",
      "                                                                  'conv2d_transpose_7[0][0]']     \n",
      "                                                                                                  \n",
      " conv2d_40 (Conv2D)             (None, 64, 68, 16)   4624        ['concatenate_7[0][0]']          \n",
      "                                                                                                  \n",
      " dropout_16 (Dropout)           (None, 64, 68, 16)   0           ['conv2d_40[0][0]']              \n",
      "                                                                                                  \n",
      " conv2d_41 (Conv2D)             (None, 64, 68, 16)   2320        ['dropout_16[0][0]']             \n",
      "                                                                                                  \n",
      " batch_normalization_16 (BatchN  (None, 64, 68, 16)  64          ['conv2d_41[0][0]']              \n",
      " ormalization)                                                                                    \n",
      "                                                                                                  \n",
      " conv2d_transpose_8 (Conv2DTran  (None, 128, 136, 8)  1160       ['batch_normalization_16[0][0]'] \n",
      " spose)                                                                                           \n",
      "                                                                                                  \n",
      " concatenate_8 (Concatenate)    (None, 128, 136, 16  0           ['batch_normalization_12[0][0]', \n",
      "                                )                                 'conv2d_transpose_8[0][0]']     \n",
      "                                                                                                  \n",
      " conv2d_42 (Conv2D)             (None, 128, 136, 8)  1160        ['concatenate_8[0][0]']          \n",
      "                                                                                                  \n",
      " dropout_17 (Dropout)           (None, 128, 136, 8)  0           ['conv2d_42[0][0]']              \n",
      "                                                                                                  \n",
      " conv2d_43 (Conv2D)             (None, 128, 136, 8)  584         ['dropout_17[0][0]']             \n",
      "                                                                                                  \n",
      " batch_normalization_17 (BatchN  (None, 128, 136, 8)  32         ['conv2d_43[0][0]']              \n",
      " ormalization)                                                                                    \n",
      "                                                                                                  \n",
      " conv2d_44 (Conv2D)             (None, 128, 136, 1)  9           ['batch_normalization_17[0][0]'] \n",
      "                                                                                                  \n",
      "==================================================================================================\n",
      "Total params: 134,569\n",
      "Trainable params: 134,345\n",
      "Non-trainable params: 224\n",
      "__________________________________________________________________________________________________\n"
     ]
    },
    {
     "data": {
      "application/javascript": [
       "\n",
       "            setTimeout(function() {\n",
       "                var nbb_cell_id = 13;\n",
       "                var nbb_unformatted_code = \"# Parameters for Unet class initialization\\nv = \\\"tp\\\"  # Or any other value based on your preference\\ntrain_patches = False  # Or True if you want to train with patches\\n\\n# Initialize the U-Net model\\nunet_model = Unet(v=v, train_patches=train_patches)\\n\\n# Build the model with your training data shape\\nmodel = unet_model.build_model(dg_train_shape=padded_train_data.shape)\";\n",
       "                var nbb_formatted_code = \"# Parameters for Unet class initialization\\nv = \\\"tp\\\"  # Or any other value based on your preference\\ntrain_patches = False  # Or True if you want to train with patches\\n\\n# Initialize the U-Net model\\nunet_model = Unet(v=v, train_patches=train_patches)\\n\\n# Build the model with your training data shape\\nmodel = unet_model.build_model(dg_train_shape=padded_train_data.shape)\";\n",
       "                var nbb_cells = Jupyter.notebook.get_cells();\n",
       "                for (var i = 0; i < nbb_cells.length; ++i) {\n",
       "                    if (nbb_cells[i].input_prompt_number == nbb_cell_id) {\n",
       "                        if (nbb_cells[i].get_text() == nbb_unformatted_code) {\n",
       "                             nbb_cells[i].set_text(nbb_formatted_code);\n",
       "                        }\n",
       "                        break;\n",
       "                    }\n",
       "                }\n",
       "            }, 500);\n",
       "            "
      ],
      "text/plain": [
       "<IPython.core.display.Javascript object>"
      ]
     },
     "metadata": {},
     "output_type": "display_data"
    }
   ],
   "source": [
    "# Parameters for Unet class initialization\n",
    "v = \"tp\"  # Or any other value based on your preference\n",
    "train_patches = False  # Or True if you want to train with patches\n",
    "\n",
    "# Initialize the U-Net model\n",
    "unet_model = Unet(v=v, train_patches=train_patches)\n",
    "\n",
    "# Build the model with your training data shape\n",
    "model = unet_model.build_model(dg_train_shape=padded_train_data.shape)"
   ]
  },
  {
   "cell_type": "code",
   "execution_count": null,
   "id": "79f7a390",
   "metadata": {},
   "outputs": [],
   "source": []
  }
 ],
 "metadata": {
  "kernelspec": {
   "display_name": "Python 3 (ipykernel)",
   "language": "python",
   "name": "python3"
  },
  "language_info": {
   "codemirror_mode": {
    "name": "ipython",
    "version": 3
   },
   "file_extension": ".py",
   "mimetype": "text/x-python",
   "name": "python",
   "nbconvert_exporter": "python",
   "pygments_lexer": "ipython3",
   "version": "3.9.7"
  }
 },
 "nbformat": 4,
 "nbformat_minor": 5
}
