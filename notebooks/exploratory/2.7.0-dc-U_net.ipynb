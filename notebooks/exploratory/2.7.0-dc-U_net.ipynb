{
 "cells": [
  {
   "cell_type": "code",
   "execution_count": 1,
   "id": "356499c6",
   "metadata": {},
   "outputs": [
    {
     "data": {
      "application/javascript": [
       "\n",
       "            setTimeout(function() {\n",
       "                var nbb_cell_id = 1;\n",
       "                var nbb_unformatted_code = \"%load_ext nb_black\";\n",
       "                var nbb_formatted_code = \"%load_ext nb_black\";\n",
       "                var nbb_cells = Jupyter.notebook.get_cells();\n",
       "                for (var i = 0; i < nbb_cells.length; ++i) {\n",
       "                    if (nbb_cells[i].input_prompt_number == nbb_cell_id) {\n",
       "                        if (nbb_cells[i].get_text() == nbb_unformatted_code) {\n",
       "                             nbb_cells[i].set_text(nbb_formatted_code);\n",
       "                        }\n",
       "                        break;\n",
       "                    }\n",
       "                }\n",
       "            }, 500);\n",
       "            "
      ],
      "text/plain": [
       "<IPython.core.display.Javascript object>"
      ]
     },
     "metadata": {},
     "output_type": "display_data"
    }
   ],
   "source": [
    "%load_ext nb_black"
   ]
  },
  {
   "cell_type": "code",
   "execution_count": 2,
   "id": "ba793edd",
   "metadata": {},
   "outputs": [
    {
     "name": "stderr",
     "output_type": "stream",
     "text": [
      "2023-06-28 09:53:50.485822: W tensorflow/stream_executor/platform/default/dso_loader.cc:64] Could not load dynamic library 'libcudart.so.11.0'; dlerror: libcudart.so.11.0: cannot open shared object file: No such file or directory; LD_LIBRARY_PATH: :/opt/anaconda3/lib/\n",
      "2023-06-28 09:53:50.485841: I tensorflow/stream_executor/cuda/cudart_stub.cc:29] Ignore above cudart dlerror if you do not have a GPU set up on your machine.\n"
     ]
    },
    {
     "data": {
      "application/javascript": [
       "\n",
       "            setTimeout(function() {\n",
       "                var nbb_cell_id = 2;\n",
       "                var nbb_unformatted_code = \"import sys\\n\\nsys.path.append(\\\"/home/dchen/BA_CH_EN/\\\")\\n\\n# Basics\\nimport tensorflow as tf\\nimport xarray as xr\\n\\n# Helpful\\nfrom tqdm import tqdm\\n\\n# Visualization\\nimport matplotlib.pyplot as plt\\n\\n# My Methods\\nfrom src.utils.CRPS import *  # CRPS metrics\\nfrom src.utils.data_split import *  # Splitting data into X and y\\nfrom src.utils.drn_make_X_array import *  # Import make train array functions (make_X_array)\\nfrom src.models.EMOS import *  # EMOS implementation\\nfrom src.models.DRN.DRN_model import *  # DRN implementation\\nfrom src.models.EMOS_global.EMOS_global_load_score import *  # Load EMOS_global_scores\\nfrom src.models.EMOS_global.EMOS_global_load_model import *  # Load EMOS_global_models\\nimport data.raw.load_data_raw as ldr  # Load raw data\\nimport data.processed.load_data_processed as ldp  # Load processed data normed\\nimport data.processed.load_data_processed_denormed as ldpd  # Load processed data denormed\\nfrom src.models.CRPS_baseline.CRPS_load import *  # Load CRPS scores\\nfrom src.models.U_net.unet import Unet\";\n",
       "                var nbb_formatted_code = \"import sys\\n\\nsys.path.append(\\\"/home/dchen/BA_CH_EN/\\\")\\n\\n# Basics\\nimport tensorflow as tf\\nimport xarray as xr\\n\\n# Helpful\\nfrom tqdm import tqdm\\n\\n# Visualization\\nimport matplotlib.pyplot as plt\\n\\n# My Methods\\nfrom src.utils.CRPS import *  # CRPS metrics\\nfrom src.utils.data_split import *  # Splitting data into X and y\\nfrom src.utils.drn_make_X_array import *  # Import make train array functions (make_X_array)\\nfrom src.models.EMOS import *  # EMOS implementation\\nfrom src.models.DRN.DRN_model import *  # DRN implementation\\nfrom src.models.EMOS_global.EMOS_global_load_score import *  # Load EMOS_global_scores\\nfrom src.models.EMOS_global.EMOS_global_load_model import *  # Load EMOS_global_models\\nimport data.raw.load_data_raw as ldr  # Load raw data\\nimport data.processed.load_data_processed as ldp  # Load processed data normed\\nimport data.processed.load_data_processed_denormed as ldpd  # Load processed data denormed\\nfrom src.models.CRPS_baseline.CRPS_load import *  # Load CRPS scores\\nfrom src.models.U_net.unet import Unet\";\n",
       "                var nbb_cells = Jupyter.notebook.get_cells();\n",
       "                for (var i = 0; i < nbb_cells.length; ++i) {\n",
       "                    if (nbb_cells[i].input_prompt_number == nbb_cell_id) {\n",
       "                        if (nbb_cells[i].get_text() == nbb_unformatted_code) {\n",
       "                             nbb_cells[i].set_text(nbb_formatted_code);\n",
       "                        }\n",
       "                        break;\n",
       "                    }\n",
       "                }\n",
       "            }, 500);\n",
       "            "
      ],
      "text/plain": [
       "<IPython.core.display.Javascript object>"
      ]
     },
     "metadata": {},
     "output_type": "display_data"
    }
   ],
   "source": [
    "import sys\n",
    "\n",
    "sys.path.append(\"/home/dchen/BA_CH_EN/\")\n",
    "\n",
    "# Basics\n",
    "import tensorflow as tf\n",
    "import xarray as xr\n",
    "\n",
    "# Helpful\n",
    "from tqdm import tqdm\n",
    "\n",
    "# Visualization\n",
    "import matplotlib.pyplot as plt\n",
    "\n",
    "# My Methods\n",
    "from src.utils.CRPS import *  # CRPS metrics\n",
    "from src.utils.data_split import *  # Splitting data into X and y\n",
    "from src.utils.drn_make_X_array import *  # Import make train array functions (make_X_array)\n",
    "from src.models.EMOS import *  # EMOS implementation\n",
    "from src.models.DRN.DRN_model import *  # DRN implementation\n",
    "from src.models.EMOS_global.EMOS_global_load_score import *  # Load EMOS_global_scores\n",
    "from src.models.EMOS_global.EMOS_global_load_model import *  # Load EMOS_global_models\n",
    "import data.raw.load_data_raw as ldr  # Load raw data\n",
    "import data.processed.load_data_processed as ldp  # Load processed data normed\n",
    "import data.processed.load_data_processed_denormed as ldpd  # Load processed data denormed\n",
    "from src.models.CRPS_baseline.CRPS_load import *  # Load CRPS scores\n",
    "from src.models.U_net.unet import Unet"
   ]
  },
  {
   "cell_type": "markdown",
   "id": "2b6ffa75",
   "metadata": {},
   "source": [
    "### 1. Load Data"
   ]
  },
  {
   "cell_type": "code",
   "execution_count": 3,
   "id": "9b408a5f",
   "metadata": {},
   "outputs": [
    {
     "data": {
      "application/javascript": [
       "\n",
       "            setTimeout(function() {\n",
       "                var nbb_cell_id = 3;\n",
       "                var nbb_unformatted_code = \"# Denormed Processed Data\\ndat_train_denorm = ldpd.load_data_all_train_proc_denorm()\\ndat_test_denorm = ldpd.load_data_all_test_proc_denorm()\";\n",
       "                var nbb_formatted_code = \"# Denormed Processed Data\\ndat_train_denorm = ldpd.load_data_all_train_proc_denorm()\\ndat_test_denorm = ldpd.load_data_all_test_proc_denorm()\";\n",
       "                var nbb_cells = Jupyter.notebook.get_cells();\n",
       "                for (var i = 0; i < nbb_cells.length; ++i) {\n",
       "                    if (nbb_cells[i].input_prompt_number == nbb_cell_id) {\n",
       "                        if (nbb_cells[i].get_text() == nbb_unformatted_code) {\n",
       "                             nbb_cells[i].set_text(nbb_formatted_code);\n",
       "                        }\n",
       "                        break;\n",
       "                    }\n",
       "                }\n",
       "            }, 500);\n",
       "            "
      ],
      "text/plain": [
       "<IPython.core.display.Javascript object>"
      ]
     },
     "metadata": {},
     "output_type": "display_data"
    }
   ],
   "source": [
    "# Denormed Processed Data\n",
    "dat_train_denorm = ldpd.load_data_all_train_proc_denorm()\n",
    "dat_test_denorm = ldpd.load_data_all_test_proc_denorm()"
   ]
  },
  {
   "cell_type": "markdown",
   "id": "bc0ad527",
   "metadata": {},
   "source": [
    "### 2. Data Split"
   ]
  },
  {
   "cell_type": "code",
   "execution_count": 4,
   "id": "c1b6d559",
   "metadata": {},
   "outputs": [
    {
     "data": {
      "application/javascript": [
       "\n",
       "            setTimeout(function() {\n",
       "                var nbb_cell_id = 4;\n",
       "                var nbb_unformatted_code = \"dat_X_train_lead_all_denorm, dat_y_train_lead_all_denorm = split_var_lead(\\n    dat_train_denorm\\n)\\ndat_X_test_lead_all_denorm, dat_y_test_lead_all_denorm = split_var_lead(dat_test_denorm)\";\n",
       "                var nbb_formatted_code = \"dat_X_train_lead_all_denorm, dat_y_train_lead_all_denorm = split_var_lead(\\n    dat_train_denorm\\n)\\ndat_X_test_lead_all_denorm, dat_y_test_lead_all_denorm = split_var_lead(dat_test_denorm)\";\n",
       "                var nbb_cells = Jupyter.notebook.get_cells();\n",
       "                for (var i = 0; i < nbb_cells.length; ++i) {\n",
       "                    if (nbb_cells[i].input_prompt_number == nbb_cell_id) {\n",
       "                        if (nbb_cells[i].get_text() == nbb_unformatted_code) {\n",
       "                             nbb_cells[i].set_text(nbb_formatted_code);\n",
       "                        }\n",
       "                        break;\n",
       "                    }\n",
       "                }\n",
       "            }, 500);\n",
       "            "
      ],
      "text/plain": [
       "<IPython.core.display.Javascript object>"
      ]
     },
     "metadata": {},
     "output_type": "display_data"
    }
   ],
   "source": [
    "dat_X_train_lead_all_denorm, dat_y_train_lead_all_denorm = split_var_lead(\n",
    "    dat_train_denorm\n",
    ")\n",
    "dat_X_test_lead_all_denorm, dat_y_test_lead_all_denorm = split_var_lead(dat_test_denorm)"
   ]
  },
  {
   "cell_type": "markdown",
   "id": "1e533445",
   "metadata": {},
   "source": [
    "### 3. Building U-Net"
   ]
  },
  {
   "cell_type": "markdown",
   "id": "c0b26681",
   "metadata": {},
   "source": [
    "Test with t2m lead_time = 6h"
   ]
  },
  {
   "cell_type": "code",
   "execution_count": 5,
   "id": "07b8fae4",
   "metadata": {},
   "outputs": [
    {
     "data": {
      "application/javascript": [
       "\n",
       "            setTimeout(function() {\n",
       "                var nbb_cell_id = 5;\n",
       "                var nbb_unformatted_code = \"train_data_mean = dat_X_train_lead_all_denorm[2][0].isel(mean_std=0)\\ntrain_data_std = dat_X_train_lead_all_denorm[2][0].isel(mean_std=1)\\ntrain_data_y = dat_y_train_lead_all_denorm[2][0]\\ntrain_data_mean = np.expand_dims(train_data_mean, axis=-1)\\ntrain_data_std = np.expand_dims(train_data_std, axis=-1)\";\n",
       "                var nbb_formatted_code = \"train_data_mean = dat_X_train_lead_all_denorm[2][0].isel(mean_std=0)\\ntrain_data_std = dat_X_train_lead_all_denorm[2][0].isel(mean_std=1)\\ntrain_data_y = dat_y_train_lead_all_denorm[2][0]\\ntrain_data_mean = np.expand_dims(train_data_mean, axis=-1)\\ntrain_data_std = np.expand_dims(train_data_std, axis=-1)\";\n",
       "                var nbb_cells = Jupyter.notebook.get_cells();\n",
       "                for (var i = 0; i < nbb_cells.length; ++i) {\n",
       "                    if (nbb_cells[i].input_prompt_number == nbb_cell_id) {\n",
       "                        if (nbb_cells[i].get_text() == nbb_unformatted_code) {\n",
       "                             nbb_cells[i].set_text(nbb_formatted_code);\n",
       "                        }\n",
       "                        break;\n",
       "                    }\n",
       "                }\n",
       "            }, 500);\n",
       "            "
      ],
      "text/plain": [
       "<IPython.core.display.Javascript object>"
      ]
     },
     "metadata": {},
     "output_type": "display_data"
    }
   ],
   "source": [
    "train_data_mean = dat_X_train_lead_all_denorm[2][0].isel(mean_std=0)\n",
    "train_data_std = dat_X_train_lead_all_denorm[2][0].isel(mean_std=1)\n",
    "train_data_y = dat_y_train_lead_all_denorm[2][0]\n",
    "train_data_mean = np.expand_dims(train_data_mean, axis=-1)\n",
    "train_data_std = np.expand_dims(train_data_std, axis=-1)"
   ]
  },
  {
   "cell_type": "code",
   "execution_count": 6,
   "id": "a5016cc8",
   "metadata": {},
   "outputs": [
    {
     "data": {
      "application/javascript": [
       "\n",
       "            setTimeout(function() {\n",
       "                var nbb_cell_id = 6;\n",
       "                var nbb_unformatted_code = \"def pad_images(images, desired_shape=(128, 136)):\\n    padded_images = np.pad(\\n        images,\\n        (\\n            (0, 0),  # don't pad along the batch axis\\n            (\\n                (desired_shape[0] - images.shape[1]) // 2,\\n                (desired_shape[0] - images.shape[1]) // 2,\\n            ),  # pad symmetrically along the height\\n            (\\n                (desired_shape[1] - images.shape[2]) // 2,\\n                (desired_shape[1] - images.shape[2]) // 2,\\n            ),  # pad symmetrically along the width\\n            (0, 0),\\n        ),  # don't pad along the channel axis\\n        mode=\\\"constant\\\",\\n        constant_values=0,\\n    )\\n    return padded_images\\n\\n\\ndef pad_images_y(images, desired_shape=(128, 136)):\\n    # Calculate padding for height and width\\n    pad_height = desired_shape[0] - images.shape[1]\\n    pad_width = desired_shape[1] - images.shape[2]\\n\\n    # Distribute padding evenly to both sides, add extra to the end if odd difference\\n    pad_height_t, pad_height_b = pad_height // 2, pad_height - pad_height // 2\\n    pad_width_l, pad_width_r = pad_width // 2, pad_width - pad_width // 2\\n\\n    padded_images = np.pad(\\n        images,\\n        (\\n            (0, 0),  # don't pad along the batch axis\\n            (pad_height_t, pad_height_b),  # pad symmetrically along the height\\n            (pad_width_l, pad_width_r),  # pad symmetrically along the width\\n        ),\\n        mode=\\\"constant\\\",\\n        constant_values=0,\\n    )\\n\\n    return padded_images\";\n",
       "                var nbb_formatted_code = \"def pad_images(images, desired_shape=(128, 136)):\\n    padded_images = np.pad(\\n        images,\\n        (\\n            (0, 0),  # don't pad along the batch axis\\n            (\\n                (desired_shape[0] - images.shape[1]) // 2,\\n                (desired_shape[0] - images.shape[1]) // 2,\\n            ),  # pad symmetrically along the height\\n            (\\n                (desired_shape[1] - images.shape[2]) // 2,\\n                (desired_shape[1] - images.shape[2]) // 2,\\n            ),  # pad symmetrically along the width\\n            (0, 0),\\n        ),  # don't pad along the channel axis\\n        mode=\\\"constant\\\",\\n        constant_values=0,\\n    )\\n    return padded_images\\n\\n\\ndef pad_images_y(images, desired_shape=(128, 136)):\\n    # Calculate padding for height and width\\n    pad_height = desired_shape[0] - images.shape[1]\\n    pad_width = desired_shape[1] - images.shape[2]\\n\\n    # Distribute padding evenly to both sides, add extra to the end if odd difference\\n    pad_height_t, pad_height_b = pad_height // 2, pad_height - pad_height // 2\\n    pad_width_l, pad_width_r = pad_width // 2, pad_width - pad_width // 2\\n\\n    padded_images = np.pad(\\n        images,\\n        (\\n            (0, 0),  # don't pad along the batch axis\\n            (pad_height_t, pad_height_b),  # pad symmetrically along the height\\n            (pad_width_l, pad_width_r),  # pad symmetrically along the width\\n        ),\\n        mode=\\\"constant\\\",\\n        constant_values=0,\\n    )\\n\\n    return padded_images\";\n",
       "                var nbb_cells = Jupyter.notebook.get_cells();\n",
       "                for (var i = 0; i < nbb_cells.length; ++i) {\n",
       "                    if (nbb_cells[i].input_prompt_number == nbb_cell_id) {\n",
       "                        if (nbb_cells[i].get_text() == nbb_unformatted_code) {\n",
       "                             nbb_cells[i].set_text(nbb_formatted_code);\n",
       "                        }\n",
       "                        break;\n",
       "                    }\n",
       "                }\n",
       "            }, 500);\n",
       "            "
      ],
      "text/plain": [
       "<IPython.core.display.Javascript object>"
      ]
     },
     "metadata": {},
     "output_type": "display_data"
    }
   ],
   "source": [
    "def pad_images(images, desired_shape=(128, 136)):\n",
    "    padded_images = np.pad(\n",
    "        images,\n",
    "        (\n",
    "            (0, 0),  # don't pad along the batch axis\n",
    "            (\n",
    "                (desired_shape[0] - images.shape[1]) // 2,\n",
    "                (desired_shape[0] - images.shape[1]) // 2,\n",
    "            ),  # pad symmetrically along the height\n",
    "            (\n",
    "                (desired_shape[1] - images.shape[2]) // 2,\n",
    "                (desired_shape[1] - images.shape[2]) // 2,\n",
    "            ),  # pad symmetrically along the width\n",
    "            (0, 0),\n",
    "        ),  # don't pad along the channel axis\n",
    "        mode=\"constant\",\n",
    "        constant_values=0,\n",
    "    )\n",
    "    return padded_images\n",
    "\n",
    "\n",
    "def pad_images_y(images, desired_shape=(128, 136)):\n",
    "    # Calculate padding for height and width\n",
    "    pad_height = desired_shape[0] - images.shape[1]\n",
    "    pad_width = desired_shape[1] - images.shape[2]\n",
    "\n",
    "    # Distribute padding evenly to both sides, add extra to the end if odd difference\n",
    "    pad_height_t, pad_height_b = pad_height // 2, pad_height - pad_height // 2\n",
    "    pad_width_l, pad_width_r = pad_width // 2, pad_width - pad_width // 2\n",
    "\n",
    "    padded_images = np.pad(\n",
    "        images,\n",
    "        (\n",
    "            (0, 0),  # don't pad along the batch axis\n",
    "            (pad_height_t, pad_height_b),  # pad symmetrically along the height\n",
    "            (pad_width_l, pad_width_r),  # pad symmetrically along the width\n",
    "        ),\n",
    "        mode=\"constant\",\n",
    "        constant_values=0,\n",
    "    )\n",
    "\n",
    "    return padded_images"
   ]
  },
  {
   "cell_type": "code",
   "execution_count": 7,
   "id": "f68e1914",
   "metadata": {},
   "outputs": [
    {
     "name": "stdout",
     "output_type": "stream",
     "text": [
      "(1429, 128, 136, 1)\n",
      "(1429, 128, 136)\n"
     ]
    },
    {
     "data": {
      "application/javascript": [
       "\n",
       "            setTimeout(function() {\n",
       "                var nbb_cell_id = 7;\n",
       "                var nbb_unformatted_code = \"# pad your train and test datasets\\npadded_train_data_mean = pad_images(train_data_mean)\\npadded_train_data_std = pad_images(train_data_std)\\npadded_train_data_y = pad_images_y(train_data_y)\\n# padded_test_data = pad_images(test_data)\\n\\nprint(padded_train_data_mean.shape)\\nprint(padded_train_data_y.shape)  # should print (1429, 128, 136, 1)\\n# print(padded_test_data.shape) # should print (357, 128, 136, 1)\";\n",
       "                var nbb_formatted_code = \"# pad your train and test datasets\\npadded_train_data_mean = pad_images(train_data_mean)\\npadded_train_data_std = pad_images(train_data_std)\\npadded_train_data_y = pad_images_y(train_data_y)\\n# padded_test_data = pad_images(test_data)\\n\\nprint(padded_train_data_mean.shape)\\nprint(padded_train_data_y.shape)  # should print (1429, 128, 136, 1)\\n# print(padded_test_data.shape) # should print (357, 128, 136, 1)\";\n",
       "                var nbb_cells = Jupyter.notebook.get_cells();\n",
       "                for (var i = 0; i < nbb_cells.length; ++i) {\n",
       "                    if (nbb_cells[i].input_prompt_number == nbb_cell_id) {\n",
       "                        if (nbb_cells[i].get_text() == nbb_unformatted_code) {\n",
       "                             nbb_cells[i].set_text(nbb_formatted_code);\n",
       "                        }\n",
       "                        break;\n",
       "                    }\n",
       "                }\n",
       "            }, 500);\n",
       "            "
      ],
      "text/plain": [
       "<IPython.core.display.Javascript object>"
      ]
     },
     "metadata": {},
     "output_type": "display_data"
    }
   ],
   "source": [
    "# pad your train and test datasets\n",
    "padded_train_data_mean = pad_images(train_data_mean)\n",
    "padded_train_data_std = pad_images(train_data_std)\n",
    "padded_train_data_y = pad_images_y(train_data_y)\n",
    "# padded_test_data = pad_images(test_data)\n",
    "\n",
    "print(padded_train_data_mean.shape)\n",
    "print(padded_train_data_y.shape)  # should print (1429, 128, 136, 1)\n",
    "# print(padded_test_data.shape) # should print (357, 128, 136, 1)"
   ]
  },
  {
   "cell_type": "code",
   "execution_count": 9,
   "id": "3500b21f",
   "metadata": {
    "scrolled": true
   },
   "outputs": [
    {
     "name": "stdout",
     "output_type": "stream",
     "text": [
      "Downsampling block 1 shape:  (None, 64, 68, 8)\n",
      "Downsampling block 2 shape:  (None, 32, 34, 16)\n",
      "Downsampling block 3 shape:  (None, 16, 17, 32)\n",
      "Bottleneck shape:  (None, 16, 17, 64)\n",
      "Upsampling block 5 shape:  (None, 16, 17, 64)\n",
      "Upsampling block 4 shape:  (None, 16, 17, 64)\n",
      "Upsampling block 3 shape:  (None, 32, 34, 32)\n",
      "Upsampling block 2 shape:  (None, 64, 68, 16)\n",
      "Upsampling block 1 shape:  (None, 128, 136, 8)\n"
     ]
    },
    {
     "data": {
      "application/javascript": [
       "\n",
       "            setTimeout(function() {\n",
       "                var nbb_cell_id = 9;\n",
       "                var nbb_unformatted_code = \"# Parameters for Unet class initialization\\nv = \\\"tp\\\"  # Or any other value based on your preference\\ntrain_patches = False  # Or True if you want to train with patches\\n\\n# Initialize the U-Net model\\nunet_model = Unet(v=v, train_patches=train_patches)\\n\\n# Build the model with your training data shape\\nmodel = unet_model.build_model(padded_train_data_mean.shape, 2)\";\n",
       "                var nbb_formatted_code = \"# Parameters for Unet class initialization\\nv = \\\"tp\\\"  # Or any other value based on your preference\\ntrain_patches = False  # Or True if you want to train with patches\\n\\n# Initialize the U-Net model\\nunet_model = Unet(v=v, train_patches=train_patches)\\n\\n# Build the model with your training data shape\\nmodel = unet_model.build_model(padded_train_data_mean.shape, 2)\";\n",
       "                var nbb_cells = Jupyter.notebook.get_cells();\n",
       "                for (var i = 0; i < nbb_cells.length; ++i) {\n",
       "                    if (nbb_cells[i].input_prompt_number == nbb_cell_id) {\n",
       "                        if (nbb_cells[i].get_text() == nbb_unformatted_code) {\n",
       "                             nbb_cells[i].set_text(nbb_formatted_code);\n",
       "                        }\n",
       "                        break;\n",
       "                    }\n",
       "                }\n",
       "            }, 500);\n",
       "            "
      ],
      "text/plain": [
       "<IPython.core.display.Javascript object>"
      ]
     },
     "metadata": {},
     "output_type": "display_data"
    }
   ],
   "source": [
    "# Parameters for Unet class initialization\n",
    "v = \"tp\"  # Or any other value based on your preference\n",
    "train_patches = False  # Or True if you want to train with patches\n",
    "\n",
    "# Initialize the U-Net model\n",
    "unet_model = Unet(v=v, train_patches=train_patches)\n",
    "\n",
    "# Build the model with your training data shape\n",
    "model = unet_model.build_model(padded_train_data_mean.shape, 2)"
   ]
  },
  {
   "cell_type": "code",
   "execution_count": 15,
   "id": "472a0fd4",
   "metadata": {},
   "outputs": [
    {
     "name": "stdout",
     "output_type": "stream",
     "text": [
      "Epoch 1/10\n",
      "45/45 [==============================] - 17s 368ms/step - loss: 253.1107\n",
      "Epoch 2/10\n",
      "45/45 [==============================] - 16s 357ms/step - loss: 252.4671\n",
      "Epoch 3/10\n",
      "45/45 [==============================] - 16s 362ms/step - loss: 251.7249\n",
      "Epoch 4/10\n",
      "45/45 [==============================] - 16s 366ms/step - loss: 250.8808\n",
      "Epoch 5/10\n",
      "45/45 [==============================] - 16s 366ms/step - loss: 249.9317\n",
      "Epoch 6/10\n",
      "45/45 [==============================] - 17s 375ms/step - loss: 248.8769\n",
      "Epoch 7/10\n",
      "45/45 [==============================] - 17s 382ms/step - loss: 247.7156\n",
      "Epoch 8/10\n",
      "45/45 [==============================] - 17s 387ms/step - loss: 246.4473\n",
      "Epoch 9/10\n",
      "45/45 [==============================] - 17s 384ms/step - loss: 245.0738\n",
      "Epoch 10/10\n",
      "45/45 [==============================] - 17s 367ms/step - loss: 243.5975\n"
     ]
    },
    {
     "data": {
      "application/javascript": [
       "\n",
       "            setTimeout(function() {\n",
       "                var nbb_cell_id = 15;\n",
       "                var nbb_unformatted_code = \"hist = model.fit([padded_train_data_mean, padded_train_data_std], padded_train_data_y, epochs = 10)\";\n",
       "                var nbb_formatted_code = \"hist = model.fit(\\n    [padded_train_data_mean, padded_train_data_std], padded_train_data_y, epochs=10\\n)\";\n",
       "                var nbb_cells = Jupyter.notebook.get_cells();\n",
       "                for (var i = 0; i < nbb_cells.length; ++i) {\n",
       "                    if (nbb_cells[i].input_prompt_number == nbb_cell_id) {\n",
       "                        if (nbb_cells[i].get_text() == nbb_unformatted_code) {\n",
       "                             nbb_cells[i].set_text(nbb_formatted_code);\n",
       "                        }\n",
       "                        break;\n",
       "                    }\n",
       "                }\n",
       "            }, 500);\n",
       "            "
      ],
      "text/plain": [
       "<IPython.core.display.Javascript object>"
      ]
     },
     "metadata": {},
     "output_type": "display_data"
    }
   ],
   "source": [
    "hist = model.fit(\n",
    "    [padded_train_data_mean, padded_train_data_std], padded_train_data_y, epochs=10\n",
    ")"
   ]
  },
  {
   "cell_type": "code",
   "execution_count": 14,
   "id": "e18959eb",
   "metadata": {},
   "outputs": [
    {
     "name": "stdout",
     "output_type": "stream",
     "text": [
      "Number of epochs:  1\n"
     ]
    },
    {
     "data": {
      "application/javascript": [
       "\n",
       "            setTimeout(function() {\n",
       "                var nbb_cell_id = 14;\n",
       "                var nbb_unformatted_code = \"num_epochs = len(hist.epoch)\\n\\nprint(\\\"Number of epochs: \\\", num_epochs)\";\n",
       "                var nbb_formatted_code = \"num_epochs = len(hist.epoch)\\n\\nprint(\\\"Number of epochs: \\\", num_epochs)\";\n",
       "                var nbb_cells = Jupyter.notebook.get_cells();\n",
       "                for (var i = 0; i < nbb_cells.length; ++i) {\n",
       "                    if (nbb_cells[i].input_prompt_number == nbb_cell_id) {\n",
       "                        if (nbb_cells[i].get_text() == nbb_unformatted_code) {\n",
       "                             nbb_cells[i].set_text(nbb_formatted_code);\n",
       "                        }\n",
       "                        break;\n",
       "                    }\n",
       "                }\n",
       "            }, 500);\n",
       "            "
      ],
      "text/plain": [
       "<IPython.core.display.Javascript object>"
      ]
     },
     "metadata": {},
     "output_type": "display_data"
    }
   ],
   "source": [
    "num_epochs = len(hist.epoch)\n",
    "\n",
    "print(\"Number of epochs: \", num_epochs)"
   ]
  }
 ],
 "metadata": {
  "kernelspec": {
   "display_name": "Python 3 (ipykernel)",
   "language": "python",
   "name": "python3"
  },
  "language_info": {
   "codemirror_mode": {
    "name": "ipython",
    "version": 3
   },
   "file_extension": ".py",
   "mimetype": "text/x-python",
   "name": "python",
   "nbconvert_exporter": "python",
   "pygments_lexer": "ipython3",
   "version": "3.9.7"
  }
 },
 "nbformat": 4,
 "nbformat_minor": 5
}
