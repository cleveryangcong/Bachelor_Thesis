{
 "cells": [
  {
   "cell_type": "code",
   "execution_count": 1,
   "id": "2896b536",
   "metadata": {},
   "outputs": [
    {
     "data": {
      "application/javascript": [
       "\n",
       "            setTimeout(function() {\n",
       "                var nbb_cell_id = 1;\n",
       "                var nbb_unformatted_code = \"%load_ext nb_black\";\n",
       "                var nbb_formatted_code = \"%load_ext nb_black\";\n",
       "                var nbb_cells = Jupyter.notebook.get_cells();\n",
       "                for (var i = 0; i < nbb_cells.length; ++i) {\n",
       "                    if (nbb_cells[i].input_prompt_number == nbb_cell_id) {\n",
       "                        if (nbb_cells[i].get_text() == nbb_unformatted_code) {\n",
       "                             nbb_cells[i].set_text(nbb_formatted_code);\n",
       "                        }\n",
       "                        break;\n",
       "                    }\n",
       "                }\n",
       "            }, 500);\n",
       "            "
      ],
      "text/plain": [
       "<IPython.core.display.Javascript object>"
      ]
     },
     "metadata": {},
     "output_type": "display_data"
    }
   ],
   "source": [
    "%load_ext nb_black"
   ]
  },
  {
   "cell_type": "code",
   "execution_count": 2,
   "id": "65ebcb76",
   "metadata": {},
   "outputs": [
    {
     "name": "stderr",
     "output_type": "stream",
     "text": [
      "2023-06-21 10:58:27.931333: W tensorflow/stream_executor/platform/default/dso_loader.cc:64] Could not load dynamic library 'libcudart.so.11.0'; dlerror: libcudart.so.11.0: cannot open shared object file: No such file or directory; LD_LIBRARY_PATH: :/opt/anaconda3/lib/\n",
      "2023-06-21 10:58:27.931359: I tensorflow/stream_executor/cuda/cudart_stub.cc:29] Ignore above cudart dlerror if you do not have a GPU set up on your machine.\n"
     ]
    },
    {
     "data": {
      "application/javascript": [
       "\n",
       "            setTimeout(function() {\n",
       "                var nbb_cell_id = 2;\n",
       "                var nbb_unformatted_code = \"# Basics\\nimport tensorflow as tf\\nimport pandas as pd\\nimport xarray as xr\\n\\n# Helpful\\nfrom tqdm import tqdm\\n\\n# Visualization\\nimport matplotlib.pyplot as plt\\n\\n# My Methods\\nfrom src.utils.CRPS import *  # CRPS metrics\\nfrom src.utils.data_split import *  # Splitting data into X and y\\nfrom src.utils.drn_make_X_array import *  # Import make train array functions (make_X_array)\\nfrom src.models.EMOS import *  # EMOS implementation\\nfrom src.models.DRN.DRN_model import *  # DRN implementation\\nfrom src.models.DRN.DRN_load_score import *  # Load DRN_scores\\nfrom src.models.DRN.DRN_load_model import *  # Load Models\\nfrom src.models.DRN.DRN_train import *\\nfrom src.models.EMOS_local.EMOS_local_load_score import *  # Load EMOS_local_scores\\nfrom src.models.EMOS_global.EMOS_global_load_score import *  # Load EMOS_global_scores\\nfrom src.models.EMOS_global.EMOS_global_load_model import *  # Load EMOS_global_models#\\nimport data.raw.load_data_raw as ldr  # Load raw data\\nimport data.processed.load_data_processed as ldp  # Load processed data normed\\nimport data.processed.load_data_processed_denormed as ldpd  # Load processed data denormed\\nfrom src.models.CRPS_baseline.CRPS_load import *  # Load CRPS scores\";\n",
       "                var nbb_formatted_code = \"# Basics\\nimport tensorflow as tf\\nimport pandas as pd\\nimport xarray as xr\\n\\n# Helpful\\nfrom tqdm import tqdm\\n\\n# Visualization\\nimport matplotlib.pyplot as plt\\n\\n# My Methods\\nfrom src.utils.CRPS import *  # CRPS metrics\\nfrom src.utils.data_split import *  # Splitting data into X and y\\nfrom src.utils.drn_make_X_array import *  # Import make train array functions (make_X_array)\\nfrom src.models.EMOS import *  # EMOS implementation\\nfrom src.models.DRN.DRN_model import *  # DRN implementation\\nfrom src.models.DRN.DRN_load_score import *  # Load DRN_scores\\nfrom src.models.DRN.DRN_load_model import *  # Load Models\\nfrom src.models.DRN.DRN_train import *\\nfrom src.models.EMOS_local.EMOS_local_load_score import *  # Load EMOS_local_scores\\nfrom src.models.EMOS_global.EMOS_global_load_score import *  # Load EMOS_global_scores\\nfrom src.models.EMOS_global.EMOS_global_load_model import *  # Load EMOS_global_models#\\nimport data.raw.load_data_raw as ldr  # Load raw data\\nimport data.processed.load_data_processed as ldp  # Load processed data normed\\nimport data.processed.load_data_processed_denormed as ldpd  # Load processed data denormed\\nfrom src.models.CRPS_baseline.CRPS_load import *  # Load CRPS scores\";\n",
       "                var nbb_cells = Jupyter.notebook.get_cells();\n",
       "                for (var i = 0; i < nbb_cells.length; ++i) {\n",
       "                    if (nbb_cells[i].input_prompt_number == nbb_cell_id) {\n",
       "                        if (nbb_cells[i].get_text() == nbb_unformatted_code) {\n",
       "                             nbb_cells[i].set_text(nbb_formatted_code);\n",
       "                        }\n",
       "                        break;\n",
       "                    }\n",
       "                }\n",
       "            }, 500);\n",
       "            "
      ],
      "text/plain": [
       "<IPython.core.display.Javascript object>"
      ]
     },
     "metadata": {},
     "output_type": "display_data"
    }
   ],
   "source": [
    "# Basics\n",
    "import tensorflow as tf\n",
    "import pandas as pd\n",
    "import xarray as xr\n",
    "\n",
    "# Helpful\n",
    "from tqdm import tqdm\n",
    "\n",
    "# Visualization\n",
    "import matplotlib.pyplot as plt\n",
    "\n",
    "# My Methods\n",
    "from src.utils.CRPS import *  # CRPS metrics\n",
    "from src.utils.data_split import *  # Splitting data into X and y\n",
    "from src.utils.drn_make_X_array import *  # Import make train array functions (make_X_array)\n",
    "from src.models.EMOS import *  # EMOS implementation\n",
    "from src.models.DRN.DRN_model import *  # DRN implementation\n",
    "from src.models.DRN.DRN_load_score import *  # Load DRN_scores\n",
    "from src.models.DRN.DRN_load_model import *  # Load Models\n",
    "from src.models.DRN.DRN_train import *\n",
    "from src.models.EMOS_local.EMOS_local_load_score import *  # Load EMOS_local_scores\n",
    "from src.models.EMOS_global.EMOS_global_load_score import *  # Load EMOS_global_scores\n",
    "from src.models.EMOS_global.EMOS_global_load_model import *  # Load EMOS_global_models#\n",
    "import data.raw.load_data_raw as ldr  # Load raw data\n",
    "import data.processed.load_data_processed as ldp  # Load processed data normed\n",
    "import data.processed.load_data_processed_denormed as ldpd  # Load processed data denormed\n",
    "from src.models.CRPS_baseline.CRPS_load import *  # Load CRPS scores"
   ]
  },
  {
   "cell_type": "markdown",
   "id": "5a83acec",
   "metadata": {},
   "source": [
    "### 1. Load Scores"
   ]
  },
  {
   "cell_type": "code",
   "execution_count": 3,
   "id": "a0bfa1d7",
   "metadata": {},
   "outputs": [
    {
     "data": {
      "application/javascript": [
       "\n",
       "            setTimeout(function() {\n",
       "                var nbb_cell_id = 3;\n",
       "                var nbb_unformatted_code = \"# Load EMOS local scores\\nEMOS_local_t2m_scores = EMOS_local_load_score(\\\"t2m\\\")\\nEMOS_local_ws10_scores = EMOS_local_load_score(\\\"ws10\\\")\\n\\n# Load EMOS global scores\\nEMOS_global_t2m_scores = EMOS_global_load_score(\\\"t2m\\\")\\nEMOS_global_ws10_scores = EMOS_global_load_score(\\\"ws10\\\")\\n\\n# Load CRPS scores\\nCRPS_global_t2m_scores = crps_load_lead_lat_lon(\\\"t2m\\\")\\nCRPS_global_ws10_scores = crps_load_lead_lat_lon(\\\"ws10\\\")\";\n",
       "                var nbb_formatted_code = \"# Load EMOS local scores\\nEMOS_local_t2m_scores = EMOS_local_load_score(\\\"t2m\\\")\\nEMOS_local_ws10_scores = EMOS_local_load_score(\\\"ws10\\\")\\n\\n# Load EMOS global scores\\nEMOS_global_t2m_scores = EMOS_global_load_score(\\\"t2m\\\")\\nEMOS_global_ws10_scores = EMOS_global_load_score(\\\"ws10\\\")\\n\\n# Load CRPS scores\\nCRPS_global_t2m_scores = crps_load_lead_lat_lon(\\\"t2m\\\")\\nCRPS_global_ws10_scores = crps_load_lead_lat_lon(\\\"ws10\\\")\";\n",
       "                var nbb_cells = Jupyter.notebook.get_cells();\n",
       "                for (var i = 0; i < nbb_cells.length; ++i) {\n",
       "                    if (nbb_cells[i].input_prompt_number == nbb_cell_id) {\n",
       "                        if (nbb_cells[i].get_text() == nbb_unformatted_code) {\n",
       "                             nbb_cells[i].set_text(nbb_formatted_code);\n",
       "                        }\n",
       "                        break;\n",
       "                    }\n",
       "                }\n",
       "            }, 500);\n",
       "            "
      ],
      "text/plain": [
       "<IPython.core.display.Javascript object>"
      ]
     },
     "metadata": {},
     "output_type": "display_data"
    }
   ],
   "source": [
    "# Load EMOS local scores\n",
    "EMOS_local_t2m_scores = EMOS_local_load_score(\"t2m\")\n",
    "EMOS_local_ws10_scores = EMOS_local_load_score(\"ws10\")\n",
    "\n",
    "# Load EMOS global scores\n",
    "EMOS_global_t2m_scores = EMOS_global_load_score(\"t2m\")\n",
    "EMOS_global_ws10_scores = EMOS_global_load_score(\"ws10\")\n",
    "\n",
    "# Load CRPS scores\n",
    "CRPS_global_t2m_scores = crps_load_lead_lat_lon(\"t2m\")\n",
    "CRPS_global_ws10_scores = crps_load_lead_lat_lon(\"ws10\")"
   ]
  },
  {
   "cell_type": "markdown",
   "id": "c6b30f0b",
   "metadata": {},
   "source": [
    "### 2. Show Scores"
   ]
  },
  {
   "cell_type": "code",
   "execution_count": 4,
   "id": "d3415840",
   "metadata": {},
   "outputs": [
    {
     "name": "stdout",
     "output_type": "stream",
     "text": [
      "wind speed:\n",
      "Lead 0: EMOS_loc: 0.4271906831870094, EMOS_glob: 0.444879412651062, CRPS: 0.4708288311958313\n",
      "Lead 1: EMOS_loc: 0.5230482925885381, EMOS_glob: 0.5332709550857544, CRPS: 0.5626273155212402\n",
      "Lead 2: EMOS_loc: 0.5066942776596317, EMOS_glob: 0.5201089382171631, CRPS: 0.5660684704780579\n",
      "Lead 3: EMOS_loc: 0.5536949359300809, EMOS_glob: 0.5701531171798706, CRPS: 0.6244665384292603\n",
      "Lead 4: EMOS_loc: 0.5715354402057635, EMOS_glob: 0.5852674245834351, CRPS: 0.6273626685142517\n",
      "Lead 5: EMOS_loc: 0.6812893462257508, EMOS_glob: 0.6913465261459351, CRPS: 0.7419385313987732\n",
      "Lead 6: EMOS_loc: 0.6788701902855283, EMOS_glob: 0.6907969117164612, CRPS: 0.7447009086608887\n",
      "Lead 7: EMOS_loc: 0.734385692985394, EMOS_glob: 0.7487615346908569, CRPS: 0.8054525852203369\n",
      "Lead 8: EMOS_loc: 0.7735546463918992, EMOS_glob: 0.7855799198150635, CRPS: 0.834025502204895\n",
      "Lead 9: EMOS_loc: 0.8894382009187188, EMOS_glob: 0.8979419469833374, CRPS: 0.9581987261772156\n",
      "Lead 10: EMOS_loc: 0.8763908323024711, EMOS_glob: 0.8870936036109924, CRPS: 0.9486294984817505\n",
      "Lead 11: EMOS_loc: 0.9210074516099233, EMOS_glob: 0.9349749684333801, CRPS: 0.997710645198822\n",
      "Lead 12: EMOS_loc: 0.9579390502530031, EMOS_glob: 0.9704568386077881, CRPS: 1.0248152017593384\n",
      "Lead 13: EMOS_loc: 1.0715392938705208, EMOS_glob: 1.080674409866333, CRPS: 1.147271752357483\n",
      "Lead 14: EMOS_loc: 1.0446885808232502, EMOS_glob: 1.0569790601730347, CRPS: 1.120965838432312\n",
      "Lead 15: EMOS_loc: 1.0771695727721238, EMOS_glob: 1.0927146673202515, CRPS: 1.1554666757583618\n",
      "Lead 16: EMOS_loc: 1.1041394612288629, EMOS_glob: 1.1194151639938354, CRPS: 1.1716784238815308\n",
      "Lead 17: EMOS_loc: 1.2064466494073471, EMOS_glob: 1.2182871103286743, CRPS: 1.2803926467895508\n",
      "Lead 18: EMOS_loc: 1.1683778396325233, EMOS_glob: 1.1828908920288086, CRPS: 1.2406598329544067\n",
      "Lead 19: EMOS_loc: 1.1899164315981743, EMOS_glob: 1.2084200382232666, CRPS: 1.2650195360183716\n",
      "Lead 20: EMOS_loc: 1.21425010064378, EMOS_glob: 1.231555700302124, CRPS: 1.2812318801879883\n",
      "Lead 21: EMOS_loc: 1.317311092937986, EMOS_glob: 1.3322447538375854, CRPS: 1.3930284976959229\n",
      "Lead 22: EMOS_loc: 1.2717454160043062, EMOS_glob: 1.2889653444290161, CRPS: 1.3470748662948608\n",
      "Lead 23: EMOS_loc: 1.2854799921590931, EMOS_glob: 1.3059484958648682, CRPS: 1.3625421524047852\n",
      "Lead 24: EMOS_loc: 1.3022538866809545, EMOS_glob: 1.3235145807266235, CRPS: 1.370863676071167\n",
      "Lead 25: EMOS_loc: 1.3995205745100976, EMOS_glob: 1.4156031608581543, CRPS: 1.476784110069275\n",
      "Lead 26: EMOS_loc: 1.3430649712280585, EMOS_glob: 1.3660496473312378, CRPS: 1.4213701486587524\n",
      "Lead 27: EMOS_loc: 1.3496244284634789, EMOS_glob: 1.37123441696167, CRPS: 1.4293179512023926\n",
      "Lead 28: EMOS_loc: 1.3615650633073006, EMOS_glob: 1.38380765914917, CRPS: 1.4322772026062012\n",
      "Lead 29: EMOS_loc: 1.4568916883204992, EMOS_glob: 1.4757462739944458, CRPS: 1.536927580833435\n",
      "Lead 30: EMOS_loc: 1.3912202588898632, EMOS_glob: 1.4133723974227905, CRPS: 1.4698940515518188\n"
     ]
    },
    {
     "data": {
      "application/javascript": [
       "\n",
       "            setTimeout(function() {\n",
       "                var nbb_cell_id = 4;\n",
       "                var nbb_unformatted_code = \"print(\\\"wind speed:\\\")\\nfor lead_time in range(len(EMOS_global_ws10_scores)):\\n    print(\\n        f\\\"Lead {lead_time}: EMOS_loc: {EMOS_local_ws10_scores[lead_time].mean()}, EMOS_glob: {EMOS_global_ws10_scores[lead_time].mean()}, CRPS: {CRPS_global_ws10_scores[lead_time].mean()}\\\"\\n    )\";\n",
       "                var nbb_formatted_code = \"print(\\\"wind speed:\\\")\\nfor lead_time in range(len(EMOS_global_ws10_scores)):\\n    print(\\n        f\\\"Lead {lead_time}: EMOS_loc: {EMOS_local_ws10_scores[lead_time].mean()}, EMOS_glob: {EMOS_global_ws10_scores[lead_time].mean()}, CRPS: {CRPS_global_ws10_scores[lead_time].mean()}\\\"\\n    )\";\n",
       "                var nbb_cells = Jupyter.notebook.get_cells();\n",
       "                for (var i = 0; i < nbb_cells.length; ++i) {\n",
       "                    if (nbb_cells[i].input_prompt_number == nbb_cell_id) {\n",
       "                        if (nbb_cells[i].get_text() == nbb_unformatted_code) {\n",
       "                             nbb_cells[i].set_text(nbb_formatted_code);\n",
       "                        }\n",
       "                        break;\n",
       "                    }\n",
       "                }\n",
       "            }, 500);\n",
       "            "
      ],
      "text/plain": [
       "<IPython.core.display.Javascript object>"
      ]
     },
     "metadata": {},
     "output_type": "display_data"
    }
   ],
   "source": [
    "print(\"wind speed:\")\n",
    "for lead_time in range(len(EMOS_global_ws10_scores)):\n",
    "    print(\n",
    "        f\"Lead {lead_time}: EMOS_loc: {EMOS_local_ws10_scores[lead_time].mean()}, EMOS_glob: {EMOS_global_ws10_scores[lead_time].mean()}, CRPS: {CRPS_global_ws10_scores[lead_time].mean()}\"\n",
    "    )"
   ]
  }
 ],
 "metadata": {
  "kernelspec": {
   "display_name": "Python 3 (ipykernel)",
   "language": "python",
   "name": "python3"
  },
  "language_info": {
   "codemirror_mode": {
    "name": "ipython",
    "version": 3
   },
   "file_extension": ".py",
   "mimetype": "text/x-python",
   "name": "python",
   "nbconvert_exporter": "python",
   "pygments_lexer": "ipython3",
   "version": "3.9.7"
  }
 },
 "nbformat": 4,
 "nbformat_minor": 5
}
