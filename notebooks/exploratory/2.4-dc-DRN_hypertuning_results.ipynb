{
 "cells": [
  {
   "cell_type": "code",
   "execution_count": 1,
   "id": "27330476",
   "metadata": {},
   "outputs": [
    {
     "data": {
      "application/javascript": [
       "\n",
       "            setTimeout(function() {\n",
       "                var nbb_cell_id = 1;\n",
       "                var nbb_unformatted_code = \"%load_ext nb_black\";\n",
       "                var nbb_formatted_code = \"%load_ext nb_black\";\n",
       "                var nbb_cells = Jupyter.notebook.get_cells();\n",
       "                for (var i = 0; i < nbb_cells.length; ++i) {\n",
       "                    if (nbb_cells[i].input_prompt_number == nbb_cell_id) {\n",
       "                        if (nbb_cells[i].get_text() == nbb_unformatted_code) {\n",
       "                             nbb_cells[i].set_text(nbb_formatted_code);\n",
       "                        }\n",
       "                        break;\n",
       "                    }\n",
       "                }\n",
       "            }, 500);\n",
       "            "
      ],
      "text/plain": [
       "<IPython.core.display.Javascript object>"
      ]
     },
     "metadata": {},
     "output_type": "display_data"
    }
   ],
   "source": [
    "%load_ext nb_black"
   ]
  },
  {
   "cell_type": "code",
   "execution_count": 8,
   "id": "3abe85b6",
   "metadata": {
    "scrolled": false
   },
   "outputs": [
    {
     "data": {
      "application/javascript": [
       "\n",
       "            setTimeout(function() {\n",
       "                var nbb_cell_id = 8;\n",
       "                var nbb_unformatted_code = \"# Basics\\nimport tensorflow as tf\\nimport xarray as xr\\n\\n# Helpful\\nfrom tqdm import tqdm\\n\\n# Visualization\\nimport matplotlib.pyplot as plt\\n\\n# My Methods\\nfrom src.utils.CRPS import *  # CRPS metrics\\nfrom src.utils.data_split import *  # Splitting data into X and y\\nfrom src.utils.drn_make_X_array import *  # Import make train array functions (make_X_array)\\nfrom src.models.EMOS import *  # EMOS implementation\\nfrom src.models.DRN.DRN_model import *  # DRN implementation\\nfrom src.models.DRN.DRN_load_score import *  # Load DRN_scores\\nfrom src.models.EMOS_local.EMOS_local_load_score import *  # Load EMOS_local_scores\\nfrom src.models.EMOS_global.EMOS_global_load_score import *  # Load EMOS_global_scores\\nfrom src.models.EMOS_global.EMOS_global_load_model import *  # Load EMOS_global_models#\\nimport data.raw.load_data_raw as ldr  # Load raw data\\nimport data.processed.load_data_processed as ldp  # Load processed data normed\\nimport data.processed.load_data_processed_denormed as ldpd  # Load processed data denormed\\nfrom src.models.CRPS_baseline.CRPS_load import *  # Load CRPS scores\";\n",
       "                var nbb_formatted_code = \"# Basics\\nimport tensorflow as tf\\nimport xarray as xr\\n\\n# Helpful\\nfrom tqdm import tqdm\\n\\n# Visualization\\nimport matplotlib.pyplot as plt\\n\\n# My Methods\\nfrom src.utils.CRPS import *  # CRPS metrics\\nfrom src.utils.data_split import *  # Splitting data into X and y\\nfrom src.utils.drn_make_X_array import *  # Import make train array functions (make_X_array)\\nfrom src.models.EMOS import *  # EMOS implementation\\nfrom src.models.DRN.DRN_model import *  # DRN implementation\\nfrom src.models.DRN.DRN_load_score import *  # Load DRN_scores\\nfrom src.models.EMOS_local.EMOS_local_load_score import *  # Load EMOS_local_scores\\nfrom src.models.EMOS_global.EMOS_global_load_score import *  # Load EMOS_global_scores\\nfrom src.models.EMOS_global.EMOS_global_load_model import *  # Load EMOS_global_models#\\nimport data.raw.load_data_raw as ldr  # Load raw data\\nimport data.processed.load_data_processed as ldp  # Load processed data normed\\nimport data.processed.load_data_processed_denormed as ldpd  # Load processed data denormed\\nfrom src.models.CRPS_baseline.CRPS_load import *  # Load CRPS scores\";\n",
       "                var nbb_cells = Jupyter.notebook.get_cells();\n",
       "                for (var i = 0; i < nbb_cells.length; ++i) {\n",
       "                    if (nbb_cells[i].input_prompt_number == nbb_cell_id) {\n",
       "                        if (nbb_cells[i].get_text() == nbb_unformatted_code) {\n",
       "                             nbb_cells[i].set_text(nbb_formatted_code);\n",
       "                        }\n",
       "                        break;\n",
       "                    }\n",
       "                }\n",
       "            }, 500);\n",
       "            "
      ],
      "text/plain": [
       "<IPython.core.display.Javascript object>"
      ]
     },
     "metadata": {},
     "output_type": "display_data"
    }
   ],
   "source": [
    "# Basics\n",
    "import tensorflow as tf\n",
    "import xarray as xr\n",
    "\n",
    "# Helpful\n",
    "from tqdm import tqdm\n",
    "\n",
    "# Visualization\n",
    "import matplotlib.pyplot as plt\n",
    "\n",
    "# My Methods\n",
    "from src.utils.CRPS import *  # CRPS metrics\n",
    "from src.utils.data_split import *  # Splitting data into X and y\n",
    "from src.utils.drn_make_X_array import *  # Import make train array functions (make_X_array)\n",
    "from src.models.EMOS import *  # EMOS implementation\n",
    "from src.models.DRN.DRN_model import *  # DRN implementation\n",
    "from src.models.DRN.DRN_load_score import *  # Load DRN_scores\n",
    "from src.models.EMOS_local.EMOS_local_load_score import *  # Load EMOS_local_scores\n",
    "from src.models.EMOS_global.EMOS_global_load_score import *  # Load EMOS_global_scores\n",
    "from src.models.EMOS_global.EMOS_global_load_model import *  # Load EMOS_global_models#\n",
    "import data.raw.load_data_raw as ldr  # Load raw data\n",
    "import data.processed.load_data_processed as ldp  # Load processed data normed\n",
    "import data.processed.load_data_processed_denormed as ldpd  # Load processed data denormed\n",
    "from src.models.CRPS_baseline.CRPS_load import *  # Load CRPS scores"
   ]
  },
  {
   "cell_type": "markdown",
   "id": "f8e3132d",
   "metadata": {},
   "source": [
    "### 0. Setup"
   ]
  },
  {
   "cell_type": "code",
   "execution_count": 4,
   "id": "d2fe9e6c",
   "metadata": {},
   "outputs": [
    {
     "data": {
      "application/javascript": [
       "\n",
       "            setTimeout(function() {\n",
       "                var nbb_cell_id = 4;\n",
       "                var nbb_unformatted_code = \"def print_results(EMOS_global_t2m_hyper_scores, lead_num):\\n    print(\\n        f\\\"Best params {EMOS_global_t2m_hyper_scores[lead_num][0]} score: {EMOS_global_t2m_hyper_scores[lead_num][1]} ,in lead_time {EMOS_global_t2m_hyper_scores[lead_num][2]}\\\"\\n    )\\n\\n    for i in range(len(EMOS_global_t2m_hyper_scores[lead_num][3])):\\n        print(\\n            EMOS_global_t2m_hyper_scores[lead_num][3][i],\\n            EMOS_global_t2m_hyper_scores[lead_num][4][i],\\n        )\";\n",
       "                var nbb_formatted_code = \"def print_results(EMOS_global_t2m_hyper_scores, lead_num):\\n    print(\\n        f\\\"Best params {EMOS_global_t2m_hyper_scores[lead_num][0]} score: {EMOS_global_t2m_hyper_scores[lead_num][1]} ,in lead_time {EMOS_global_t2m_hyper_scores[lead_num][2]}\\\"\\n    )\\n\\n    for i in range(len(EMOS_global_t2m_hyper_scores[lead_num][3])):\\n        print(\\n            EMOS_global_t2m_hyper_scores[lead_num][3][i],\\n            EMOS_global_t2m_hyper_scores[lead_num][4][i],\\n        )\";\n",
       "                var nbb_cells = Jupyter.notebook.get_cells();\n",
       "                for (var i = 0; i < nbb_cells.length; ++i) {\n",
       "                    if (nbb_cells[i].input_prompt_number == nbb_cell_id) {\n",
       "                        if (nbb_cells[i].get_text() == nbb_unformatted_code) {\n",
       "                             nbb_cells[i].set_text(nbb_formatted_code);\n",
       "                        }\n",
       "                        break;\n",
       "                    }\n",
       "                }\n",
       "            }, 500);\n",
       "            "
      ],
      "text/plain": [
       "<IPython.core.display.Javascript object>"
      ]
     },
     "metadata": {},
     "output_type": "display_data"
    }
   ],
   "source": [
    "def print_results(EMOS_global_t2m_hyper_scores, lead_num):\n",
    "    print(\n",
    "        f\"Best params {EMOS_global_t2m_hyper_scores[lead_num][0]} score: {EMOS_global_t2m_hyper_scores[lead_num][1]} ,in lead_time {EMOS_global_t2m_hyper_scores[lead_num][2]}\"\n",
    "    )\n",
    "\n",
    "    for i in range(len(EMOS_global_t2m_hyper_scores[lead_num][3])):\n",
    "        print(\n",
    "            EMOS_global_t2m_hyper_scores[lead_num][3][i],\n",
    "            EMOS_global_t2m_hyper_scores[lead_num][4][i],\n",
    "        )"
   ]
  },
  {
   "cell_type": "markdown",
   "id": "bb7fc87f",
   "metadata": {},
   "source": [
    "### 1. Loading Scores"
   ]
  },
  {
   "cell_type": "code",
   "execution_count": 5,
   "id": "4969eee2",
   "metadata": {},
   "outputs": [
    {
     "data": {
      "application/javascript": [
       "\n",
       "            setTimeout(function() {\n",
       "                var nbb_cell_id = 5;\n",
       "                var nbb_unformatted_code = \"# DRN_t2m_hyper_scores = DRN_load_hyper_score(\\\"t2m\\\")\\n# DRN_ws10_hyper_scores = DRN_load_hyper_score(\\\"ws10\\\")\";\n",
       "                var nbb_formatted_code = \"# DRN_t2m_hyper_scores = DRN_load_hyper_score(\\\"t2m\\\")\\n# DRN_ws10_hyper_scores = DRN_load_hyper_score(\\\"ws10\\\")\";\n",
       "                var nbb_cells = Jupyter.notebook.get_cells();\n",
       "                for (var i = 0; i < nbb_cells.length; ++i) {\n",
       "                    if (nbb_cells[i].input_prompt_number == nbb_cell_id) {\n",
       "                        if (nbb_cells[i].get_text() == nbb_unformatted_code) {\n",
       "                             nbb_cells[i].set_text(nbb_formatted_code);\n",
       "                        }\n",
       "                        break;\n",
       "                    }\n",
       "                }\n",
       "            }, 500);\n",
       "            "
      ],
      "text/plain": [
       "<IPython.core.display.Javascript object>"
      ]
     },
     "metadata": {},
     "output_type": "display_data"
    }
   ],
   "source": [
    "# DRN_t2m_hyper_scores = DRN_load_hyper_score(\"t2m\")\n",
    "# DRN_ws10_hyper_scores = DRN_load_hyper_score(\"ws10\")"
   ]
  },
  {
   "cell_type": "markdown",
   "id": "ce595afd",
   "metadata": {},
   "source": [
    "### 2. Looking at scores"
   ]
  },
  {
   "cell_type": "markdown",
   "id": "1f6abbe4",
   "metadata": {},
   "source": [
    "#### 2.1 T2m"
   ]
  },
  {
   "cell_type": "code",
   "execution_count": null,
   "id": "c849ae8a",
   "metadata": {},
   "outputs": [],
   "source": [
    "print_results(DRN_t2m_hyper_scores, 0)"
   ]
  },
  {
   "cell_type": "code",
   "execution_count": null,
   "id": "d3004086",
   "metadata": {},
   "outputs": [],
   "source": [
    "print_results(DRN_t2m_hyper_scores, 1)"
   ]
  },
  {
   "cell_type": "code",
   "execution_count": null,
   "id": "bec561aa",
   "metadata": {},
   "outputs": [],
   "source": [
    "print_results(DRN_t2m_hyper_scores, 2)"
   ]
  },
  {
   "cell_type": "markdown",
   "id": "a3b1daa0",
   "metadata": {},
   "source": [
    "#### 2.2 WS10"
   ]
  },
  {
   "cell_type": "code",
   "execution_count": null,
   "id": "4a06b798",
   "metadata": {},
   "outputs": [],
   "source": [
    "print_results(DRN_ws10_hyper_scores, 0)"
   ]
  },
  {
   "cell_type": "code",
   "execution_count": null,
   "id": "8a7024b2",
   "metadata": {},
   "outputs": [],
   "source": [
    "print_results(DRN_ws10_hyper_scores, 1)"
   ]
  },
  {
   "cell_type": "code",
   "execution_count": null,
   "id": "2633796d",
   "metadata": {},
   "outputs": [],
   "source": [
    "print_results(DRN_ws10_hyper_scores, 2)"
   ]
  },
  {
   "cell_type": "markdown",
   "id": "6774310b",
   "metadata": {},
   "source": [
    "### 3. Comparison Real Scores"
   ]
  },
  {
   "cell_type": "code",
   "execution_count": 9,
   "id": "6132d42e",
   "metadata": {},
   "outputs": [
    {
     "data": {
      "application/javascript": [
       "\n",
       "            setTimeout(function() {\n",
       "                var nbb_cell_id = 9;\n",
       "                var nbb_unformatted_code = \"# Load EMOS local scores\\nEMOS_local_t2m_scores = EMOS_local_load_score(\\\"t2m\\\")\\n# EMOS_local_ws10_scores = EMOS_local_load_score(\\\"ws10\\\")\\n\\n# Load EMOS global scores\\nEMOS_global_t2m_scores = EMOS_global_load_score(\\\"t2m\\\")\\nEMOS_global_ws10_scores = EMOS_global_load_score(\\\"ws10\\\")\\n\\n# Load CRPS scores\\nCRPS_global_t2m_scores = crps_load_lead_lat_lon(\\\"t2m\\\")\\nCRPS_global_ws10_scores = crps_load_lead_lat_lon(\\\"ws10\\\")\";\n",
       "                var nbb_formatted_code = \"# Load EMOS local scores\\nEMOS_local_t2m_scores = EMOS_local_load_score(\\\"t2m\\\")\\n# EMOS_local_ws10_scores = EMOS_local_load_score(\\\"ws10\\\")\\n\\n# Load EMOS global scores\\nEMOS_global_t2m_scores = EMOS_global_load_score(\\\"t2m\\\")\\nEMOS_global_ws10_scores = EMOS_global_load_score(\\\"ws10\\\")\\n\\n# Load CRPS scores\\nCRPS_global_t2m_scores = crps_load_lead_lat_lon(\\\"t2m\\\")\\nCRPS_global_ws10_scores = crps_load_lead_lat_lon(\\\"ws10\\\")\";\n",
       "                var nbb_cells = Jupyter.notebook.get_cells();\n",
       "                for (var i = 0; i < nbb_cells.length; ++i) {\n",
       "                    if (nbb_cells[i].input_prompt_number == nbb_cell_id) {\n",
       "                        if (nbb_cells[i].get_text() == nbb_unformatted_code) {\n",
       "                             nbb_cells[i].set_text(nbb_formatted_code);\n",
       "                        }\n",
       "                        break;\n",
       "                    }\n",
       "                }\n",
       "            }, 500);\n",
       "            "
      ],
      "text/plain": [
       "<IPython.core.display.Javascript object>"
      ]
     },
     "metadata": {},
     "output_type": "display_data"
    }
   ],
   "source": [
    "# Load EMOS local scores\n",
    "EMOS_local_t2m_scores = EMOS_local_load_score(\"t2m\")\n",
    "# EMOS_local_ws10_scores = EMOS_local_load_score(\"ws10\")\n",
    "\n",
    "# Load EMOS global scores\n",
    "EMOS_global_t2m_scores = EMOS_global_load_score(\"t2m\")\n",
    "EMOS_global_ws10_scores = EMOS_global_load_score(\"ws10\")\n",
    "\n",
    "# Load CRPS scores\n",
    "CRPS_global_t2m_scores = crps_load_lead_lat_lon(\"t2m\")\n",
    "CRPS_global_ws10_scores = crps_load_lead_lat_lon(\"ws10\")"
   ]
  },
  {
   "cell_type": "code",
   "execution_count": 10,
   "id": "b50be784",
   "metadata": {},
   "outputs": [
    {
     "name": "stdout",
     "output_type": "stream",
     "text": [
      "Temperature:\n",
      "Lead 0:EMOS_loc: 0.415053105392251, EMOS_glob: 0.46703651029923665, CRPS: 0.5084816639136492\n",
      "Lead 1:EMOS_loc: 0.4570667604054852, EMOS_glob: 0.5298957333000098, CRPS: 0.5347707002046389\n",
      "Lead 2:EMOS_loc: 0.4764044947829555, EMOS_glob: 0.5111855084322628, CRPS: 0.5150757989800734\n",
      "Lead 3:EMOS_loc: 0.48515283096321316, EMOS_glob: 0.5183820239839588, CRPS: 0.5301602687833538\n",
      "Lead 4:EMOS_loc: 0.5089567601152319, EMOS_glob: 0.5376392532805744, CRPS: 0.5624034501418446\n",
      "Lead 5:EMOS_loc: 0.548447341694951, EMOS_glob: 0.5939897328842008, CRPS: 0.6306282599852645\n",
      "Lead 6:EMOS_loc: 0.5710812135540558, EMOS_glob: 0.5924088144510241, CRPS: 0.6316119778923832\n",
      "Lead 7:EMOS_loc: 0.5755256235342039, EMOS_glob: 0.6024678559619754, CRPS: 0.6454345388357919\n",
      "Lead 8:EMOS_loc: 0.6027694817392227, EMOS_glob: 0.6265648309789082, CRPS: 0.6802850949781106\n",
      "Lead 9:EMOS_loc: 0.6559653745022869, EMOS_glob: 0.6937458851013558, CRPS: 0.7561511514525252\n",
      "Lead 10:EMOS_loc: 0.6802171031411963, EMOS_glob: 0.6958467261895463, CRPS: 0.7596827249402444\n",
      "Lead 11:EMOS_loc: 0.6793467546496924, EMOS_glob: 0.7032838196351372, CRPS: 0.7671595364524374\n",
      "Lead 12:EMOS_loc: 0.7125745012498252, EMOS_glob: 0.7309746362686439, CRPS: 0.8087436349681829\n",
      "Lead 13:EMOS_loc: 0.7749779855395125, EMOS_glob: 0.8061964020303785, CRPS: 0.8907210185014609\n",
      "Lead 14:EMOS_loc: 0.7951062756172094, EMOS_glob: 0.8106952011303574, CRPS: 0.8895929183430251\n",
      "Lead 15:EMOS_loc: 0.7896939886240791, EMOS_glob: 0.8063593058476693, CRPS: 0.8913402208770865\n",
      "Lead 16:EMOS_loc: 0.824653898039369, EMOS_glob: 0.8396767227407256, CRPS: 0.9354666921537256\n",
      "Lead 17:EMOS_loc: 0.8991138613506323, EMOS_glob: 0.9253094152419413, CRPS: 1.030760697007392\n",
      "Lead 18:EMOS_loc: 0.9122335393543238, EMOS_glob: 0.9244103431114752, CRPS: 1.020928305756169\n",
      "Lead 19:EMOS_loc: 0.8980411414433244, EMOS_glob: 0.9158587177946148, CRPS: 1.011146119667486\n",
      "Lead 20:EMOS_loc: 0.9339109912917022, EMOS_glob: 0.9477237022814626, CRPS: 1.0559743772319934\n",
      "Lead 21:EMOS_loc: 1.0250725105240275, EMOS_glob: 1.0486241355164112, CRPS: 1.170507971000092\n",
      "Lead 22:EMOS_loc: 1.02768161320486, EMOS_glob: 1.0390171211692882, CRPS: 1.1471350159491147\n",
      "Lead 23:EMOS_loc: 1.0026194044589674, EMOS_glob: 1.0153090562183535, CRPS: 1.1231032795400633\n",
      "Lead 24:EMOS_loc: 1.038808348758008, EMOS_glob: 1.051807358420797, CRPS: 1.1665183732402151\n",
      "Lead 25:EMOS_loc: 1.1376150709404622, EMOS_glob: 1.1572987502464485, CRPS: 1.291409822220935\n",
      "Lead 26:EMOS_loc: 1.130741955961081, EMOS_glob: 1.1384145365151879, CRPS: 1.2553212202206236\n",
      "Lead 27:EMOS_loc: 1.0948988115823663, EMOS_glob: 1.1052877757773611, CRPS: 1.2185923742165932\n",
      "Lead 28:EMOS_loc: 1.1296306841630386, EMOS_glob: 1.137667713788714, CRPS: 1.261623224976432\n",
      "Lead 29:EMOS_loc: 1.245663048809305, EMOS_glob: 1.2721116780946715, CRPS: 1.4120354238676378\n",
      "Lead 30:EMOS_loc: 1.226442443735572, EMOS_glob: 1.2296079979755303, CRPS: 1.3563336012079834\n"
     ]
    },
    {
     "data": {
      "application/javascript": [
       "\n",
       "            setTimeout(function() {\n",
       "                var nbb_cell_id = 10;\n",
       "                var nbb_unformatted_code = \"print(\\\"Temperature:\\\")\\nfor lead_time in range(len(EMOS_local_t2m_scores)):\\n    print(\\n        f\\\"Lead {lead_time}:EMOS_loc: {EMOS_local_t2m_scores[lead_time].mean()}, EMOS_glob: {EMOS_global_t2m_scores[lead_time].mean()}, CRPS: {CRPS_global_t2m_scores[lead_time].mean()}\\\"\\n    )\";\n",
       "                var nbb_formatted_code = \"print(\\\"Temperature:\\\")\\nfor lead_time in range(len(EMOS_local_t2m_scores)):\\n    print(\\n        f\\\"Lead {lead_time}:EMOS_loc: {EMOS_local_t2m_scores[lead_time].mean()}, EMOS_glob: {EMOS_global_t2m_scores[lead_time].mean()}, CRPS: {CRPS_global_t2m_scores[lead_time].mean()}\\\"\\n    )\";\n",
       "                var nbb_cells = Jupyter.notebook.get_cells();\n",
       "                for (var i = 0; i < nbb_cells.length; ++i) {\n",
       "                    if (nbb_cells[i].input_prompt_number == nbb_cell_id) {\n",
       "                        if (nbb_cells[i].get_text() == nbb_unformatted_code) {\n",
       "                             nbb_cells[i].set_text(nbb_formatted_code);\n",
       "                        }\n",
       "                        break;\n",
       "                    }\n",
       "                }\n",
       "            }, 500);\n",
       "            "
      ],
      "text/plain": [
       "<IPython.core.display.Javascript object>"
      ]
     },
     "metadata": {},
     "output_type": "display_data"
    }
   ],
   "source": [
    "print(\"Temperature:\")\n",
    "for lead_time in range(len(EMOS_local_t2m_scores)):\n",
    "    print(\n",
    "        f\"Lead {lead_time}:EMOS_loc: {EMOS_local_t2m_scores[lead_time].mean()}, EMOS_glob: {EMOS_global_t2m_scores[lead_time].mean()}, CRPS: {CRPS_global_t2m_scores[lead_time].mean()}\"\n",
    "    )"
   ]
  },
  {
   "cell_type": "code",
   "execution_count": 12,
   "id": "d53178f2",
   "metadata": {},
   "outputs": [
    {
     "name": "stdout",
     "output_type": "stream",
     "text": [
      "Wind speed:\n",
      "Lead 0: EMOS_glob: 0.4689788520336151, CRPS: 0.4708288311958313\n",
      "Lead 1: EMOS_glob: 0.5485468506813049, CRPS: 0.5626273155212402\n",
      "Lead 2: EMOS_glob: 0.5387235879898071, CRPS: 0.5660684704780579\n",
      "Lead 3: EMOS_glob: 0.5810754895210266, CRPS: 0.6244665384292603\n",
      "Lead 4: EMOS_glob: 0.5985533595085144, CRPS: 0.6273626685142517\n",
      "Lead 5: EMOS_glob: 0.6974762082099915, CRPS: 0.7419385313987732\n",
      "Lead 6: EMOS_glob: 0.6999446153640747, CRPS: 0.7447009086608887\n",
      "Lead 7: EMOS_glob: 0.7532394528388977, CRPS: 0.8054525852203369\n",
      "Lead 8: EMOS_glob: 0.7907955646514893, CRPS: 0.834025502204895\n",
      "Lead 9: EMOS_glob: 0.8990633487701416, CRPS: 0.9581987261772156\n",
      "Lead 10: EMOS_glob: 0.8921324610710144, CRPS: 0.9486294984817505\n",
      "Lead 11: EMOS_glob: 0.9365354776382446, CRPS: 0.997710645198822\n",
      "Lead 12: EMOS_glob: 0.9743002653121948, CRPS: 1.0248152017593384\n",
      "Lead 13: EMOS_glob: 1.0819379091262817, CRPS: 1.147271752357483\n",
      "Lead 14: EMOS_glob: 1.0613116025924683, CRPS: 1.120965838432312\n",
      "Lead 15: EMOS_glob: 1.094346523284912, CRPS: 1.1554666757583618\n",
      "Lead 16: EMOS_glob: 1.1219733953475952, CRPS: 1.1716784238815308\n",
      "Lead 17: EMOS_glob: 1.2190592288970947, CRPS: 1.2803926467895508\n",
      "Lead 18: EMOS_glob: 1.1862679719924927, CRPS: 1.2406598329544067\n",
      "Lead 19: EMOS_glob: 1.2086464166641235, CRPS: 1.2650195360183716\n",
      "Lead 20: EMOS_glob: 1.2336655855178833, CRPS: 1.2812318801879883\n",
      "Lead 21: EMOS_glob: 1.3313162326812744, CRPS: 1.3930284976959229\n",
      "Lead 22: EMOS_glob: 1.2902032136917114, CRPS: 1.3470748662948608\n",
      "Lead 23: EMOS_glob: 1.304429531097412, CRPS: 1.3625421524047852\n",
      "Lead 24: EMOS_glob: 1.3217800855636597, CRPS: 1.370863676071167\n",
      "Lead 25: EMOS_glob: 1.4142732620239258, CRPS: 1.476784110069275\n",
      "Lead 26: EMOS_glob: 1.3629432916641235, CRPS: 1.4213701486587524\n",
      "Lead 27: EMOS_glob: 1.3705626726150513, CRPS: 1.4293179512023926\n",
      "Lead 28: EMOS_glob: 1.3824900388717651, CRPS: 1.4322772026062012\n",
      "Lead 29: EMOS_glob: 1.4722537994384766, CRPS: 1.536927580833435\n",
      "Lead 30: EMOS_glob: 1.411123275756836, CRPS: 1.4698940515518188\n"
     ]
    },
    {
     "data": {
      "application/javascript": [
       "\n",
       "            setTimeout(function() {\n",
       "                var nbb_cell_id = 12;\n",
       "                var nbb_unformatted_code = \"print(\\\"Wind speed:\\\")\\nfor lead_time in range(len(EMOS_global_ws10_scores)):\\n    print(\\n        f\\\"Lead {lead_time}: EMOS_glob: {EMOS_global_ws10_scores[lead_time].mean()}, CRPS: {CRPS_global_ws10_scores[lead_time].mean()}\\\"\\n    )\";\n",
       "                var nbb_formatted_code = \"print(\\\"Wind speed:\\\")\\nfor lead_time in range(len(EMOS_global_ws10_scores)):\\n    print(\\n        f\\\"Lead {lead_time}: EMOS_glob: {EMOS_global_ws10_scores[lead_time].mean()}, CRPS: {CRPS_global_ws10_scores[lead_time].mean()}\\\"\\n    )\";\n",
       "                var nbb_cells = Jupyter.notebook.get_cells();\n",
       "                for (var i = 0; i < nbb_cells.length; ++i) {\n",
       "                    if (nbb_cells[i].input_prompt_number == nbb_cell_id) {\n",
       "                        if (nbb_cells[i].get_text() == nbb_unformatted_code) {\n",
       "                             nbb_cells[i].set_text(nbb_formatted_code);\n",
       "                        }\n",
       "                        break;\n",
       "                    }\n",
       "                }\n",
       "            }, 500);\n",
       "            "
      ],
      "text/plain": [
       "<IPython.core.display.Javascript object>"
      ]
     },
     "metadata": {},
     "output_type": "display_data"
    }
   ],
   "source": [
    "print(\"Wind speed:\")\n",
    "for lead_time in range(len(EMOS_global_ws10_scores)):\n",
    "    print(\n",
    "        f\"Lead {lead_time}: EMOS_glob: {EMOS_global_ws10_scores[lead_time].mean()}, CRPS: {CRPS_global_ws10_scores[lead_time].mean()}\"\n",
    "    )"
   ]
  }
 ],
 "metadata": {
  "kernelspec": {
   "display_name": "Python 3 (ipykernel)",
   "language": "python",
   "name": "python3"
  },
  "language_info": {
   "codemirror_mode": {
    "name": "ipython",
    "version": 3
   },
   "file_extension": ".py",
   "mimetype": "text/x-python",
   "name": "python",
   "nbconvert_exporter": "python",
   "pygments_lexer": "ipython3",
   "version": "3.9.7"
  }
 },
 "nbformat": 4,
 "nbformat_minor": 5
}
