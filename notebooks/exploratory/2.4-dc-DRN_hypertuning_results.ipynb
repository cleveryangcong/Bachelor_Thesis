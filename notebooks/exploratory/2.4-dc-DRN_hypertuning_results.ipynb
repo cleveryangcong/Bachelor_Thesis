{
 "cells": [
  {
   "cell_type": "code",
   "execution_count": 1,
   "id": "27330476",
   "metadata": {},
   "outputs": [
    {
     "data": {
      "application/javascript": [
       "\n",
       "            setTimeout(function() {\n",
       "                var nbb_cell_id = 1;\n",
       "                var nbb_unformatted_code = \"%load_ext nb_black\";\n",
       "                var nbb_formatted_code = \"%load_ext nb_black\";\n",
       "                var nbb_cells = Jupyter.notebook.get_cells();\n",
       "                for (var i = 0; i < nbb_cells.length; ++i) {\n",
       "                    if (nbb_cells[i].input_prompt_number == nbb_cell_id) {\n",
       "                        if (nbb_cells[i].get_text() == nbb_unformatted_code) {\n",
       "                             nbb_cells[i].set_text(nbb_formatted_code);\n",
       "                        }\n",
       "                        break;\n",
       "                    }\n",
       "                }\n",
       "            }, 500);\n",
       "            "
      ],
      "text/plain": [
       "<IPython.core.display.Javascript object>"
      ]
     },
     "metadata": {},
     "output_type": "display_data"
    }
   ],
   "source": [
    "%load_ext nb_black"
   ]
  },
  {
   "cell_type": "code",
   "execution_count": 2,
   "id": "3abe85b6",
   "metadata": {
    "scrolled": false
   },
   "outputs": [
    {
     "name": "stderr",
     "output_type": "stream",
     "text": [
      "2023-06-06 12:36:18.863421: W tensorflow/stream_executor/platform/default/dso_loader.cc:64] Could not load dynamic library 'libcudart.so.11.0'; dlerror: libcudart.so.11.0: cannot open shared object file: No such file or directory; LD_LIBRARY_PATH: :/opt/anaconda3/lib/\n",
      "2023-06-06 12:36:18.863441: I tensorflow/stream_executor/cuda/cudart_stub.cc:29] Ignore above cudart dlerror if you do not have a GPU set up on your machine.\n"
     ]
    },
    {
     "data": {
      "application/javascript": [
       "\n",
       "            setTimeout(function() {\n",
       "                var nbb_cell_id = 2;\n",
       "                var nbb_unformatted_code = \"# Basics\\nimport tensorflow as tf\\nimport xarray as xr\\n\\n# Helpful\\nfrom tqdm import tqdm\\n\\n# Visualization\\nimport matplotlib.pyplot as plt\\n\\n# My Methods\\nfrom src.utils.CRPS import *  # CRPS metrics\\nfrom src.utils.data_split import *  # Splitting data into X and y\\nfrom src.utils.drn_make_X_array import *  # Import make train array functions (make_X_array)\\nfrom src.models.EMOS import *  # EMOS implementation\\nfrom src.models.DRN.DRN_model import *  # DRN implementation\\nfrom src.models.DRN.DRN_load_score import *  # Load DRN_scores\\nfrom src.models.EMOS_global.EMOS_global_load_score import *  # Load EMOS_global_scores\\nfrom src.models.EMOS_global.EMOS_global_load_model import *  # Load EMOS_global_models\\nimport data.raw.load_data_raw as ldr  # Load raw data\\nimport data.processed.load_data_processed as ldp  # Load processed data normed\\nimport data.processed.load_data_processed_denormed as ldpd  # Load processed data denormed\\nfrom src.models.CRPS_baseline.CRPS_load import *  # Load CRPS scores\";\n",
       "                var nbb_formatted_code = \"# Basics\\nimport tensorflow as tf\\nimport xarray as xr\\n\\n# Helpful\\nfrom tqdm import tqdm\\n\\n# Visualization\\nimport matplotlib.pyplot as plt\\n\\n# My Methods\\nfrom src.utils.CRPS import *  # CRPS metrics\\nfrom src.utils.data_split import *  # Splitting data into X and y\\nfrom src.utils.drn_make_X_array import *  # Import make train array functions (make_X_array)\\nfrom src.models.EMOS import *  # EMOS implementation\\nfrom src.models.DRN.DRN_model import *  # DRN implementation\\nfrom src.models.DRN.DRN_load_score import *  # Load DRN_scores\\nfrom src.models.EMOS_global.EMOS_global_load_score import *  # Load EMOS_global_scores\\nfrom src.models.EMOS_global.EMOS_global_load_model import *  # Load EMOS_global_models\\nimport data.raw.load_data_raw as ldr  # Load raw data\\nimport data.processed.load_data_processed as ldp  # Load processed data normed\\nimport data.processed.load_data_processed_denormed as ldpd  # Load processed data denormed\\nfrom src.models.CRPS_baseline.CRPS_load import *  # Load CRPS scores\";\n",
       "                var nbb_cells = Jupyter.notebook.get_cells();\n",
       "                for (var i = 0; i < nbb_cells.length; ++i) {\n",
       "                    if (nbb_cells[i].input_prompt_number == nbb_cell_id) {\n",
       "                        if (nbb_cells[i].get_text() == nbb_unformatted_code) {\n",
       "                             nbb_cells[i].set_text(nbb_formatted_code);\n",
       "                        }\n",
       "                        break;\n",
       "                    }\n",
       "                }\n",
       "            }, 500);\n",
       "            "
      ],
      "text/plain": [
       "<IPython.core.display.Javascript object>"
      ]
     },
     "metadata": {},
     "output_type": "display_data"
    }
   ],
   "source": [
    "# Basics\n",
    "import tensorflow as tf\n",
    "import xarray as xr\n",
    "\n",
    "# Helpful\n",
    "from tqdm import tqdm\n",
    "\n",
    "# Visualization\n",
    "import matplotlib.pyplot as plt\n",
    "\n",
    "# My Methods\n",
    "from src.utils.CRPS import *  # CRPS metrics\n",
    "from src.utils.data_split import *  # Splitting data into X and y\n",
    "from src.utils.drn_make_X_array import *  # Import make train array functions (make_X_array)\n",
    "from src.models.EMOS import *  # EMOS implementation\n",
    "from src.models.DRN.DRN_model import *  # DRN implementation\n",
    "from src.models.DRN.DRN_load_score import *  # Load DRN_scores\n",
    "from src.models.EMOS_global.EMOS_global_load_score import *  # Load EMOS_global_scores\n",
    "from src.models.EMOS_global.EMOS_global_load_model import *  # Load EMOS_global_models\n",
    "import data.raw.load_data_raw as ldr  # Load raw data\n",
    "import data.processed.load_data_processed as ldp  # Load processed data normed\n",
    "import data.processed.load_data_processed_denormed as ldpd  # Load processed data denormed\n",
    "from src.models.CRPS_baseline.CRPS_load import *  # Load CRPS scores"
   ]
  },
  {
   "cell_type": "markdown",
   "id": "f8e3132d",
   "metadata": {},
   "source": [
    "### 0. Setup"
   ]
  },
  {
   "cell_type": "code",
   "execution_count": 4,
   "id": "d2fe9e6c",
   "metadata": {},
   "outputs": [
    {
     "data": {
      "application/javascript": [
       "\n",
       "            setTimeout(function() {\n",
       "                var nbb_cell_id = 4;\n",
       "                var nbb_unformatted_code = \"def print_results(EMOS_global_t2m_hyper_scores, lead_num):\\n    print(\\n        f\\\"Best params {EMOS_global_t2m_hyper_scores[lead_num][0]} score: {EMOS_global_t2m_hyper_scores[lead_num][1]} ,in lead_time {EMOS_global_t2m_hyper_scores[lead_num][2]}\\\"\\n    )\\n\\n    for i in range(len(EMOS_global_t2m_hyper_scores[lead_num][3])):\\n        print(\\n            EMOS_global_t2m_hyper_scores[lead_num][3][i],\\n            EMOS_global_t2m_hyper_scores[lead_num][4][i],\\n        )\";\n",
       "                var nbb_formatted_code = \"def print_results(EMOS_global_t2m_hyper_scores, lead_num):\\n    print(\\n        f\\\"Best params {EMOS_global_t2m_hyper_scores[lead_num][0]} score: {EMOS_global_t2m_hyper_scores[lead_num][1]} ,in lead_time {EMOS_global_t2m_hyper_scores[lead_num][2]}\\\"\\n    )\\n\\n    for i in range(len(EMOS_global_t2m_hyper_scores[lead_num][3])):\\n        print(\\n            EMOS_global_t2m_hyper_scores[lead_num][3][i],\\n            EMOS_global_t2m_hyper_scores[lead_num][4][i],\\n        )\";\n",
       "                var nbb_cells = Jupyter.notebook.get_cells();\n",
       "                for (var i = 0; i < nbb_cells.length; ++i) {\n",
       "                    if (nbb_cells[i].input_prompt_number == nbb_cell_id) {\n",
       "                        if (nbb_cells[i].get_text() == nbb_unformatted_code) {\n",
       "                             nbb_cells[i].set_text(nbb_formatted_code);\n",
       "                        }\n",
       "                        break;\n",
       "                    }\n",
       "                }\n",
       "            }, 500);\n",
       "            "
      ],
      "text/plain": [
       "<IPython.core.display.Javascript object>"
      ]
     },
     "metadata": {},
     "output_type": "display_data"
    }
   ],
   "source": [
    "def print_results(EMOS_global_t2m_hyper_scores, lead_num):\n",
    "    print(\n",
    "        f\"Best params {EMOS_global_t2m_hyper_scores[lead_num][0]} score: {EMOS_global_t2m_hyper_scores[lead_num][1]} ,in lead_time {EMOS_global_t2m_hyper_scores[lead_num][2]}\"\n",
    "    )\n",
    "\n",
    "    for i in range(len(EMOS_global_t2m_hyper_scores[lead_num][3])):\n",
    "        print(\n",
    "            EMOS_global_t2m_hyper_scores[lead_num][3][i],\n",
    "            EMOS_global_t2m_hyper_scores[lead_num][4][i],\n",
    "        )"
   ]
  },
  {
   "cell_type": "markdown",
   "id": "bb7fc87f",
   "metadata": {},
   "source": [
    "### 1. Loading Scores"
   ]
  },
  {
   "cell_type": "code",
   "execution_count": 5,
   "id": "4969eee2",
   "metadata": {},
   "outputs": [
    {
     "data": {
      "application/javascript": [
       "\n",
       "            setTimeout(function() {\n",
       "                var nbb_cell_id = 5;\n",
       "                var nbb_unformatted_code = \"# DRN_t2m_hyper_scores = DRN_load_hyper_score(\\\"t2m\\\")\\n# DRN_ws10_hyper_scores = DRN_load_hyper_score(\\\"ws10\\\")\";\n",
       "                var nbb_formatted_code = \"# DRN_t2m_hyper_scores = DRN_load_hyper_score(\\\"t2m\\\")\\n# DRN_ws10_hyper_scores = DRN_load_hyper_score(\\\"ws10\\\")\";\n",
       "                var nbb_cells = Jupyter.notebook.get_cells();\n",
       "                for (var i = 0; i < nbb_cells.length; ++i) {\n",
       "                    if (nbb_cells[i].input_prompt_number == nbb_cell_id) {\n",
       "                        if (nbb_cells[i].get_text() == nbb_unformatted_code) {\n",
       "                             nbb_cells[i].set_text(nbb_formatted_code);\n",
       "                        }\n",
       "                        break;\n",
       "                    }\n",
       "                }\n",
       "            }, 500);\n",
       "            "
      ],
      "text/plain": [
       "<IPython.core.display.Javascript object>"
      ]
     },
     "metadata": {},
     "output_type": "display_data"
    }
   ],
   "source": [
    "# DRN_t2m_hyper_scores = DRN_load_hyper_score(\"t2m\")\n",
    "# DRN_ws10_hyper_scores = DRN_load_hyper_score(\"ws10\")"
   ]
  },
  {
   "cell_type": "markdown",
   "id": "ce595afd",
   "metadata": {},
   "source": [
    "### 2. Looking at scores"
   ]
  },
  {
   "cell_type": "markdown",
   "id": "1f6abbe4",
   "metadata": {},
   "source": [
    "#### 2.1 T2m"
   ]
  },
  {
   "cell_type": "code",
   "execution_count": null,
   "id": "c849ae8a",
   "metadata": {},
   "outputs": [],
   "source": [
    "print_results(DRN_t2m_hyper_scores, 0)"
   ]
  },
  {
   "cell_type": "code",
   "execution_count": null,
   "id": "d3004086",
   "metadata": {},
   "outputs": [],
   "source": [
    "print_results(DRN_t2m_hyper_scores, 1)"
   ]
  },
  {
   "cell_type": "code",
   "execution_count": null,
   "id": "bec561aa",
   "metadata": {},
   "outputs": [],
   "source": [
    "print_results(DRN_t2m_hyper_scores, 2)"
   ]
  },
  {
   "cell_type": "markdown",
   "id": "a3b1daa0",
   "metadata": {},
   "source": [
    "#### 2.2 WS10"
   ]
  },
  {
   "cell_type": "code",
   "execution_count": null,
   "id": "4a06b798",
   "metadata": {},
   "outputs": [],
   "source": [
    "print_results(DRN_ws10_hyper_scores, 0)"
   ]
  },
  {
   "cell_type": "code",
   "execution_count": null,
   "id": "8a7024b2",
   "metadata": {},
   "outputs": [],
   "source": [
    "print_results(DRN_ws10_hyper_scores, 1)"
   ]
  },
  {
   "cell_type": "code",
   "execution_count": null,
   "id": "2633796d",
   "metadata": {},
   "outputs": [],
   "source": [
    "print_results(DRN_ws10_hyper_scores, 2)"
   ]
  },
  {
   "cell_type": "markdown",
   "id": "6774310b",
   "metadata": {},
   "source": [
    "### 3. Comparison Real Scores"
   ]
  },
  {
   "cell_type": "code",
   "execution_count": null,
   "id": "6132d42e",
   "metadata": {},
   "outputs": [],
   "source": []
  },
  {
   "cell_type": "code",
   "execution_count": null,
   "id": "b50be784",
   "metadata": {},
   "outputs": [],
   "source": []
  },
  {
   "cell_type": "code",
   "execution_count": null,
   "id": "d53178f2",
   "metadata": {},
   "outputs": [],
   "source": []
  },
  {
   "cell_type": "code",
   "execution_count": null,
   "id": "1545e6c3",
   "metadata": {},
   "outputs": [],
   "source": []
  }
 ],
 "metadata": {
  "kernelspec": {
   "display_name": "Python 3 (ipykernel)",
   "language": "python",
   "name": "python3"
  },
  "language_info": {
   "codemirror_mode": {
    "name": "ipython",
    "version": 3
   },
   "file_extension": ".py",
   "mimetype": "text/x-python",
   "name": "python",
   "nbconvert_exporter": "python",
   "pygments_lexer": "ipython3",
   "version": "3.9.7"
  }
 },
 "nbformat": 4,
 "nbformat_minor": 5
}
