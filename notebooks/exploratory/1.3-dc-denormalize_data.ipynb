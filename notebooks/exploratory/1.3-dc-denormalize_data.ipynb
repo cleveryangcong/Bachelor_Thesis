{
 "cells": [
  {
   "cell_type": "code",
   "execution_count": 1,
   "id": "b49f1d1c",
   "metadata": {},
   "outputs": [
    {
     "data": {
      "application/javascript": [
       "\n",
       "            setTimeout(function() {\n",
       "                var nbb_cell_id = 1;\n",
       "                var nbb_unformatted_code = \"%load_ext nb_black\";\n",
       "                var nbb_formatted_code = \"%load_ext nb_black\";\n",
       "                var nbb_cells = Jupyter.notebook.get_cells();\n",
       "                for (var i = 0; i < nbb_cells.length; ++i) {\n",
       "                    if (nbb_cells[i].input_prompt_number == nbb_cell_id) {\n",
       "                        if (nbb_cells[i].get_text() == nbb_unformatted_code) {\n",
       "                             nbb_cells[i].set_text(nbb_formatted_code);\n",
       "                        }\n",
       "                        break;\n",
       "                    }\n",
       "                }\n",
       "            }, 500);\n",
       "            "
      ],
      "text/plain": [
       "<IPython.core.display.Javascript object>"
      ]
     },
     "metadata": {},
     "output_type": "display_data"
    }
   ],
   "source": [
    "%load_ext nb_black"
   ]
  },
  {
   "cell_type": "code",
   "execution_count": 2,
   "id": "1a2bd298",
   "metadata": {},
   "outputs": [
    {
     "name": "stderr",
     "output_type": "stream",
     "text": [
      "2023-05-21 18:33:18.398534: W tensorflow/stream_executor/platform/default/dso_loader.cc:64] Could not load dynamic library 'libcudart.so.11.0'; dlerror: libcudart.so.11.0: cannot open shared object file: No such file or directory; LD_LIBRARY_PATH: :/opt/anaconda3/lib/\n",
      "2023-05-21 18:33:18.398554: I tensorflow/stream_executor/cuda/cudart_stub.cc:29] Ignore above cudart dlerror if you do not have a GPU set up on your machine.\n"
     ]
    },
    {
     "data": {
      "application/javascript": [
       "\n",
       "            setTimeout(function() {\n",
       "                var nbb_cell_id = 2;\n",
       "                var nbb_unformatted_code = \"# Basics\\nimport pandas as pd\\nimport numpy as np\\nimport matplotlib.pyplot as plt\\n\\n# Data\\nimport xarray as xr\\nimport h5py\\nimport pickle\\n\\n# Helpful\\nimport time\\nimport datetime\\nimport itertools\\nfrom itertools import product\\nfrom tqdm import tqdm\\nimport os\\n\\n# My Methods\\nimport importlib\\nfrom src.utils.CRPS import *\\nfrom src.utils.data_split import *\\nfrom src.models.EMOS import *\\nimport data.raw.load_data_raw as ldr\\nimport data.processed.load_data_processed as ldp\\nfrom src.models.EMOS_global.EMOS_global_load_models import *\";\n",
       "                var nbb_formatted_code = \"# Basics\\nimport pandas as pd\\nimport numpy as np\\nimport matplotlib.pyplot as plt\\n\\n# Data\\nimport xarray as xr\\nimport h5py\\nimport pickle\\n\\n# Helpful\\nimport time\\nimport datetime\\nimport itertools\\nfrom itertools import product\\nfrom tqdm import tqdm\\nimport os\\n\\n# My Methods\\nimport importlib\\nfrom src.utils.CRPS import *\\nfrom src.utils.data_split import *\\nfrom src.models.EMOS import *\\nimport data.raw.load_data_raw as ldr\\nimport data.processed.load_data_processed as ldp\\nfrom src.models.EMOS_global.EMOS_global_load_models import *\";\n",
       "                var nbb_cells = Jupyter.notebook.get_cells();\n",
       "                for (var i = 0; i < nbb_cells.length; ++i) {\n",
       "                    if (nbb_cells[i].input_prompt_number == nbb_cell_id) {\n",
       "                        if (nbb_cells[i].get_text() == nbb_unformatted_code) {\n",
       "                             nbb_cells[i].set_text(nbb_formatted_code);\n",
       "                        }\n",
       "                        break;\n",
       "                    }\n",
       "                }\n",
       "            }, 500);\n",
       "            "
      ],
      "text/plain": [
       "<IPython.core.display.Javascript object>"
      ]
     },
     "metadata": {},
     "output_type": "display_data"
    }
   ],
   "source": [
    "# Basics\n",
    "import pandas as pd\n",
    "import numpy as np\n",
    "import matplotlib.pyplot as plt\n",
    "\n",
    "# Data\n",
    "import xarray as xr\n",
    "import h5py\n",
    "import pickle\n",
    "\n",
    "# Helpful\n",
    "import time\n",
    "import datetime\n",
    "import itertools\n",
    "from itertools import product\n",
    "from tqdm import tqdm\n",
    "import os\n",
    "\n",
    "# My Methods\n",
    "import importlib\n",
    "from src.utils.CRPS import *\n",
    "from src.utils.data_split import *\n",
    "from src.models.EMOS import *\n",
    "import data.raw.load_data_raw as ldr\n",
    "import data.processed.load_data_processed as ldp\n",
    "from src.models.EMOS_global.EMOS_global_load_models import *"
   ]
  },
  {
   "cell_type": "markdown",
   "id": "015b0de3",
   "metadata": {},
   "source": [
    "### Goal: Denormalize data"
   ]
  },
  {
   "cell_type": "code",
   "execution_count": 3,
   "id": "1a6dbc22",
   "metadata": {},
   "outputs": [
    {
     "data": {
      "application/javascript": [
       "\n",
       "            setTimeout(function() {\n",
       "                var nbb_cell_id = 3;\n",
       "                var nbb_unformatted_code = \"var_names = [\\\"u10\\\", \\\"v10\\\", \\\"t2m\\\", \\\"t850\\\", \\\"z500\\\"]\";\n",
       "                var nbb_formatted_code = \"var_names = [\\\"u10\\\", \\\"v10\\\", \\\"t2m\\\", \\\"t850\\\", \\\"z500\\\"]\";\n",
       "                var nbb_cells = Jupyter.notebook.get_cells();\n",
       "                for (var i = 0; i < nbb_cells.length; ++i) {\n",
       "                    if (nbb_cells[i].input_prompt_number == nbb_cell_id) {\n",
       "                        if (nbb_cells[i].get_text() == nbb_unformatted_code) {\n",
       "                             nbb_cells[i].set_text(nbb_formatted_code);\n",
       "                        }\n",
       "                        break;\n",
       "                    }\n",
       "                }\n",
       "            }, 500);\n",
       "            "
      ],
      "text/plain": [
       "<IPython.core.display.Javascript object>"
      ]
     },
     "metadata": {},
     "output_type": "display_data"
    }
   ],
   "source": [
    "var_names = [\"u10\", \"v10\", \"t2m\", \"t850\", \"z500\"]"
   ]
  },
  {
   "cell_type": "markdown",
   "id": "3977e7e9",
   "metadata": {},
   "source": [
    "#### 1. Load Data"
   ]
  },
  {
   "cell_type": "code",
   "execution_count": 4,
   "id": "11b691e5",
   "metadata": {},
   "outputs": [
    {
     "data": {
      "application/javascript": [
       "\n",
       "            setTimeout(function() {\n",
       "                var nbb_cell_id = 4;\n",
       "                var nbb_unformatted_code = \"dat_train_proc_norm = ldp.load_data_all_train_proc_norm()\\ndat_test_proc_norm = ldp.load_data_all_test_proc_norm()\";\n",
       "                var nbb_formatted_code = \"dat_train_proc_norm = ldp.load_data_all_train_proc_norm()\\ndat_test_proc_norm = ldp.load_data_all_test_proc_norm()\";\n",
       "                var nbb_cells = Jupyter.notebook.get_cells();\n",
       "                for (var i = 0; i < nbb_cells.length; ++i) {\n",
       "                    if (nbb_cells[i].input_prompt_number == nbb_cell_id) {\n",
       "                        if (nbb_cells[i].get_text() == nbb_unformatted_code) {\n",
       "                             nbb_cells[i].set_text(nbb_formatted_code);\n",
       "                        }\n",
       "                        break;\n",
       "                    }\n",
       "                }\n",
       "            }, 500);\n",
       "            "
      ],
      "text/plain": [
       "<IPython.core.display.Javascript object>"
      ]
     },
     "metadata": {},
     "output_type": "display_data"
    }
   ],
   "source": [
    "dat_train_proc_norm = ldp.load_data_all_train_proc_norm()\n",
    "dat_test_proc_norm = ldp.load_data_all_test_proc_norm()"
   ]
  },
  {
   "cell_type": "markdown",
   "id": "d4b84d89",
   "metadata": {},
   "source": [
    "#### 2. Load Means and Stds"
   ]
  },
  {
   "cell_type": "markdown",
   "id": "459514df",
   "metadata": {},
   "source": [
    "1. Variable Index Positions:<br>\n",
    "    u10: 0 <br>\n",
    "    v10: 1 <br>\n",
    "    t2m: 2 <br>\n",
    "    t850: 5 <br>\n",
    "    z500: 14 <br>"
   ]
  },
  {
   "cell_type": "code",
   "execution_count": 56,
   "id": "c1b9aaab",
   "metadata": {},
   "outputs": [
    {
     "data": {
      "application/javascript": [
       "\n",
       "            setTimeout(function() {\n",
       "                var nbb_cell_id = 56;\n",
       "                var nbb_unformatted_code = \"global_means = np.load(\\\"/mnt/sda/Data2/fourcastnet/data/stats_v0/global_means.npy\\\")\\nglobal_stds = np.load(\\\"/mnt/sda/Data2/fourcastnet/data/stats_v0/global_stds.npy\\\")\";\n",
       "                var nbb_formatted_code = \"global_means = np.load(\\\"/mnt/sda/Data2/fourcastnet/data/stats_v0/global_means.npy\\\")\\nglobal_stds = np.load(\\\"/mnt/sda/Data2/fourcastnet/data/stats_v0/global_stds.npy\\\")\";\n",
       "                var nbb_cells = Jupyter.notebook.get_cells();\n",
       "                for (var i = 0; i < nbb_cells.length; ++i) {\n",
       "                    if (nbb_cells[i].input_prompt_number == nbb_cell_id) {\n",
       "                        if (nbb_cells[i].get_text() == nbb_unformatted_code) {\n",
       "                             nbb_cells[i].set_text(nbb_formatted_code);\n",
       "                        }\n",
       "                        break;\n",
       "                    }\n",
       "                }\n",
       "            }, 500);\n",
       "            "
      ],
      "text/plain": [
       "<IPython.core.display.Javascript object>"
      ]
     },
     "metadata": {},
     "output_type": "display_data"
    }
   ],
   "source": [
    "global_means = np.load(\"/mnt/sda/Data2/fourcastnet/data/stats_v0/global_means.npy\")\n",
    "global_stds = np.load(\"/mnt/sda/Data2/fourcastnet/data/stats_v0/global_stds.npy\")"
   ]
  },
  {
   "cell_type": "code",
   "execution_count": 57,
   "id": "99db5654",
   "metadata": {
    "scrolled": true
   },
   "outputs": [
    {
     "data": {
      "application/javascript": [
       "\n",
       "            setTimeout(function() {\n",
       "                var nbb_cell_id = 57;\n",
       "                var nbb_unformatted_code = \"global_means = global_means.flatten()[[0, 1, 2, 5, 14]]\";\n",
       "                var nbb_formatted_code = \"global_means = global_means.flatten()[[0, 1, 2, 5, 14]]\";\n",
       "                var nbb_cells = Jupyter.notebook.get_cells();\n",
       "                for (var i = 0; i < nbb_cells.length; ++i) {\n",
       "                    if (nbb_cells[i].input_prompt_number == nbb_cell_id) {\n",
       "                        if (nbb_cells[i].get_text() == nbb_unformatted_code) {\n",
       "                             nbb_cells[i].set_text(nbb_formatted_code);\n",
       "                        }\n",
       "                        break;\n",
       "                    }\n",
       "                }\n",
       "            }, 500);\n",
       "            "
      ],
      "text/plain": [
       "<IPython.core.display.Javascript object>"
      ]
     },
     "metadata": {},
     "output_type": "display_data"
    }
   ],
   "source": [
    "global_means = global_means.flatten()[[0, 1, 2, 5, 14]]"
   ]
  },
  {
   "cell_type": "code",
   "execution_count": 59,
   "id": "eb3cf042",
   "metadata": {
    "scrolled": true
   },
   "outputs": [
    {
     "data": {
      "text/plain": [
       "array([   5.61282367,    4.77990804,   21.42417831,   15.74041515,\n",
       "       3439.80138962])"
      ]
     },
     "execution_count": 59,
     "metadata": {},
     "output_type": "execute_result"
    },
    {
     "data": {
      "application/javascript": [
       "\n",
       "            setTimeout(function() {\n",
       "                var nbb_cell_id = 59;\n",
       "                var nbb_unformatted_code = \"global_stds.flatten()[[0, 1, 2, 5, 14]]\";\n",
       "                var nbb_formatted_code = \"global_stds.flatten()[[0, 1, 2, 5, 14]]\";\n",
       "                var nbb_cells = Jupyter.notebook.get_cells();\n",
       "                for (var i = 0; i < nbb_cells.length; ++i) {\n",
       "                    if (nbb_cells[i].input_prompt_number == nbb_cell_id) {\n",
       "                        if (nbb_cells[i].get_text() == nbb_unformatted_code) {\n",
       "                             nbb_cells[i].set_text(nbb_formatted_code);\n",
       "                        }\n",
       "                        break;\n",
       "                    }\n",
       "                }\n",
       "            }, 500);\n",
       "            "
      ],
      "text/plain": [
       "<IPython.core.display.Javascript object>"
      ]
     },
     "metadata": {},
     "output_type": "display_data"
    }
   ],
   "source": [
    "global_stds.flatten()[[0, 1, 2, 5, 14]]"
   ]
  },
  {
   "cell_type": "code",
   "execution_count": 80,
   "id": "e903b5d4",
   "metadata": {},
   "outputs": [
    {
     "data": {
      "text/html": [
       "<div><svg style=\"position: absolute; width: 0; height: 0; overflow: hidden\">\n",
       "<defs>\n",
       "<symbol id=\"icon-database\" viewBox=\"0 0 32 32\">\n",
       "<path d=\"M16 0c-8.837 0-16 2.239-16 5v4c0 2.761 7.163 5 16 5s16-2.239 16-5v-4c0-2.761-7.163-5-16-5z\"></path>\n",
       "<path d=\"M16 17c-8.837 0-16-2.239-16-5v6c0 2.761 7.163 5 16 5s16-2.239 16-5v-6c0 2.761-7.163 5-16 5z\"></path>\n",
       "<path d=\"M16 26c-8.837 0-16-2.239-16-5v6c0 2.761 7.163 5 16 5s16-2.239 16-5v-6c0 2.761-7.163 5-16 5z\"></path>\n",
       "</symbol>\n",
       "<symbol id=\"icon-file-text2\" viewBox=\"0 0 32 32\">\n",
       "<path d=\"M28.681 7.159c-0.694-0.947-1.662-2.053-2.724-3.116s-2.169-2.030-3.116-2.724c-1.612-1.182-2.393-1.319-2.841-1.319h-15.5c-1.378 0-2.5 1.121-2.5 2.5v27c0 1.378 1.122 2.5 2.5 2.5h23c1.378 0 2.5-1.122 2.5-2.5v-19.5c0-0.448-0.137-1.23-1.319-2.841zM24.543 5.457c0.959 0.959 1.712 1.825 2.268 2.543h-4.811v-4.811c0.718 0.556 1.584 1.309 2.543 2.268zM28 29.5c0 0.271-0.229 0.5-0.5 0.5h-23c-0.271 0-0.5-0.229-0.5-0.5v-27c0-0.271 0.229-0.5 0.5-0.5 0 0 15.499-0 15.5 0v7c0 0.552 0.448 1 1 1h7v19.5z\"></path>\n",
       "<path d=\"M23 26h-14c-0.552 0-1-0.448-1-1s0.448-1 1-1h14c0.552 0 1 0.448 1 1s-0.448 1-1 1z\"></path>\n",
       "<path d=\"M23 22h-14c-0.552 0-1-0.448-1-1s0.448-1 1-1h14c0.552 0 1 0.448 1 1s-0.448 1-1 1z\"></path>\n",
       "<path d=\"M23 18h-14c-0.552 0-1-0.448-1-1s0.448-1 1-1h14c0.552 0 1 0.448 1 1s-0.448 1-1 1z\"></path>\n",
       "</symbol>\n",
       "</defs>\n",
       "</svg>\n",
       "<style>/* CSS stylesheet for displaying xarray objects in jupyterlab.\n",
       " *\n",
       " */\n",
       "\n",
       ":root {\n",
       "  --xr-font-color0: var(--jp-content-font-color0, rgba(0, 0, 0, 1));\n",
       "  --xr-font-color2: var(--jp-content-font-color2, rgba(0, 0, 0, 0.54));\n",
       "  --xr-font-color3: var(--jp-content-font-color3, rgba(0, 0, 0, 0.38));\n",
       "  --xr-border-color: var(--jp-border-color2, #e0e0e0);\n",
       "  --xr-disabled-color: var(--jp-layout-color3, #bdbdbd);\n",
       "  --xr-background-color: var(--jp-layout-color0, white);\n",
       "  --xr-background-color-row-even: var(--jp-layout-color1, white);\n",
       "  --xr-background-color-row-odd: var(--jp-layout-color2, #eeeeee);\n",
       "}\n",
       "\n",
       "html[theme=dark],\n",
       "body[data-theme=dark],\n",
       "body.vscode-dark {\n",
       "  --xr-font-color0: rgba(255, 255, 255, 1);\n",
       "  --xr-font-color2: rgba(255, 255, 255, 0.54);\n",
       "  --xr-font-color3: rgba(255, 255, 255, 0.38);\n",
       "  --xr-border-color: #1F1F1F;\n",
       "  --xr-disabled-color: #515151;\n",
       "  --xr-background-color: #111111;\n",
       "  --xr-background-color-row-even: #111111;\n",
       "  --xr-background-color-row-odd: #313131;\n",
       "}\n",
       "\n",
       ".xr-wrap {\n",
       "  display: block !important;\n",
       "  min-width: 300px;\n",
       "  max-width: 700px;\n",
       "}\n",
       "\n",
       ".xr-text-repr-fallback {\n",
       "  /* fallback to plain text repr when CSS is not injected (untrusted notebook) */\n",
       "  display: none;\n",
       "}\n",
       "\n",
       ".xr-header {\n",
       "  padding-top: 6px;\n",
       "  padding-bottom: 6px;\n",
       "  margin-bottom: 4px;\n",
       "  border-bottom: solid 1px var(--xr-border-color);\n",
       "}\n",
       "\n",
       ".xr-header > div,\n",
       ".xr-header > ul {\n",
       "  display: inline;\n",
       "  margin-top: 0;\n",
       "  margin-bottom: 0;\n",
       "}\n",
       "\n",
       ".xr-obj-type,\n",
       ".xr-array-name {\n",
       "  margin-left: 2px;\n",
       "  margin-right: 10px;\n",
       "}\n",
       "\n",
       ".xr-obj-type {\n",
       "  color: var(--xr-font-color2);\n",
       "}\n",
       "\n",
       ".xr-sections {\n",
       "  padding-left: 0 !important;\n",
       "  display: grid;\n",
       "  grid-template-columns: 150px auto auto 1fr 20px 20px;\n",
       "}\n",
       "\n",
       ".xr-section-item {\n",
       "  display: contents;\n",
       "}\n",
       "\n",
       ".xr-section-item input {\n",
       "  display: none;\n",
       "}\n",
       "\n",
       ".xr-section-item input + label {\n",
       "  color: var(--xr-disabled-color);\n",
       "}\n",
       "\n",
       ".xr-section-item input:enabled + label {\n",
       "  cursor: pointer;\n",
       "  color: var(--xr-font-color2);\n",
       "}\n",
       "\n",
       ".xr-section-item input:enabled + label:hover {\n",
       "  color: var(--xr-font-color0);\n",
       "}\n",
       "\n",
       ".xr-section-summary {\n",
       "  grid-column: 1;\n",
       "  color: var(--xr-font-color2);\n",
       "  font-weight: 500;\n",
       "}\n",
       "\n",
       ".xr-section-summary > span {\n",
       "  display: inline-block;\n",
       "  padding-left: 0.5em;\n",
       "}\n",
       "\n",
       ".xr-section-summary-in:disabled + label {\n",
       "  color: var(--xr-font-color2);\n",
       "}\n",
       "\n",
       ".xr-section-summary-in + label:before {\n",
       "  display: inline-block;\n",
       "  content: '►';\n",
       "  font-size: 11px;\n",
       "  width: 15px;\n",
       "  text-align: center;\n",
       "}\n",
       "\n",
       ".xr-section-summary-in:disabled + label:before {\n",
       "  color: var(--xr-disabled-color);\n",
       "}\n",
       "\n",
       ".xr-section-summary-in:checked + label:before {\n",
       "  content: '▼';\n",
       "}\n",
       "\n",
       ".xr-section-summary-in:checked + label > span {\n",
       "  display: none;\n",
       "}\n",
       "\n",
       ".xr-section-summary,\n",
       ".xr-section-inline-details {\n",
       "  padding-top: 4px;\n",
       "  padding-bottom: 4px;\n",
       "}\n",
       "\n",
       ".xr-section-inline-details {\n",
       "  grid-column: 2 / -1;\n",
       "}\n",
       "\n",
       ".xr-section-details {\n",
       "  display: none;\n",
       "  grid-column: 1 / -1;\n",
       "  margin-bottom: 5px;\n",
       "}\n",
       "\n",
       ".xr-section-summary-in:checked ~ .xr-section-details {\n",
       "  display: contents;\n",
       "}\n",
       "\n",
       ".xr-array-wrap {\n",
       "  grid-column: 1 / -1;\n",
       "  display: grid;\n",
       "  grid-template-columns: 20px auto;\n",
       "}\n",
       "\n",
       ".xr-array-wrap > label {\n",
       "  grid-column: 1;\n",
       "  vertical-align: top;\n",
       "}\n",
       "\n",
       ".xr-preview {\n",
       "  color: var(--xr-font-color3);\n",
       "}\n",
       "\n",
       ".xr-array-preview,\n",
       ".xr-array-data {\n",
       "  padding: 0 5px !important;\n",
       "  grid-column: 2;\n",
       "}\n",
       "\n",
       ".xr-array-data,\n",
       ".xr-array-in:checked ~ .xr-array-preview {\n",
       "  display: none;\n",
       "}\n",
       "\n",
       ".xr-array-in:checked ~ .xr-array-data,\n",
       ".xr-array-preview {\n",
       "  display: inline-block;\n",
       "}\n",
       "\n",
       ".xr-dim-list {\n",
       "  display: inline-block !important;\n",
       "  list-style: none;\n",
       "  padding: 0 !important;\n",
       "  margin: 0;\n",
       "}\n",
       "\n",
       ".xr-dim-list li {\n",
       "  display: inline-block;\n",
       "  padding: 0;\n",
       "  margin: 0;\n",
       "}\n",
       "\n",
       ".xr-dim-list:before {\n",
       "  content: '(';\n",
       "}\n",
       "\n",
       ".xr-dim-list:after {\n",
       "  content: ')';\n",
       "}\n",
       "\n",
       ".xr-dim-list li:not(:last-child):after {\n",
       "  content: ',';\n",
       "  padding-right: 5px;\n",
       "}\n",
       "\n",
       ".xr-has-index {\n",
       "  font-weight: bold;\n",
       "}\n",
       "\n",
       ".xr-var-list,\n",
       ".xr-var-item {\n",
       "  display: contents;\n",
       "}\n",
       "\n",
       ".xr-var-item > div,\n",
       ".xr-var-item label,\n",
       ".xr-var-item > .xr-var-name span {\n",
       "  background-color: var(--xr-background-color-row-even);\n",
       "  margin-bottom: 0;\n",
       "}\n",
       "\n",
       ".xr-var-item > .xr-var-name:hover span {\n",
       "  padding-right: 5px;\n",
       "}\n",
       "\n",
       ".xr-var-list > li:nth-child(odd) > div,\n",
       ".xr-var-list > li:nth-child(odd) > label,\n",
       ".xr-var-list > li:nth-child(odd) > .xr-var-name span {\n",
       "  background-color: var(--xr-background-color-row-odd);\n",
       "}\n",
       "\n",
       ".xr-var-name {\n",
       "  grid-column: 1;\n",
       "}\n",
       "\n",
       ".xr-var-dims {\n",
       "  grid-column: 2;\n",
       "}\n",
       "\n",
       ".xr-var-dtype {\n",
       "  grid-column: 3;\n",
       "  text-align: right;\n",
       "  color: var(--xr-font-color2);\n",
       "}\n",
       "\n",
       ".xr-var-preview {\n",
       "  grid-column: 4;\n",
       "}\n",
       "\n",
       ".xr-index-preview {\n",
       "  grid-column: 2 / 5;\n",
       "  color: var(--xr-font-color2);\n",
       "}\n",
       "\n",
       ".xr-var-name,\n",
       ".xr-var-dims,\n",
       ".xr-var-dtype,\n",
       ".xr-preview,\n",
       ".xr-attrs dt {\n",
       "  white-space: nowrap;\n",
       "  overflow: hidden;\n",
       "  text-overflow: ellipsis;\n",
       "  padding-right: 10px;\n",
       "}\n",
       "\n",
       ".xr-var-name:hover,\n",
       ".xr-var-dims:hover,\n",
       ".xr-var-dtype:hover,\n",
       ".xr-attrs dt:hover {\n",
       "  overflow: visible;\n",
       "  width: auto;\n",
       "  z-index: 1;\n",
       "}\n",
       "\n",
       ".xr-var-attrs,\n",
       ".xr-var-data,\n",
       ".xr-index-data {\n",
       "  display: none;\n",
       "  background-color: var(--xr-background-color) !important;\n",
       "  padding-bottom: 5px !important;\n",
       "}\n",
       "\n",
       ".xr-var-attrs-in:checked ~ .xr-var-attrs,\n",
       ".xr-var-data-in:checked ~ .xr-var-data,\n",
       ".xr-index-data-in:checked ~ .xr-index-data {\n",
       "  display: block;\n",
       "}\n",
       "\n",
       ".xr-var-data > table {\n",
       "  float: right;\n",
       "}\n",
       "\n",
       ".xr-var-name span,\n",
       ".xr-var-data,\n",
       ".xr-index-name div,\n",
       ".xr-index-data,\n",
       ".xr-attrs {\n",
       "  padding-left: 25px !important;\n",
       "}\n",
       "\n",
       ".xr-attrs,\n",
       ".xr-var-attrs,\n",
       ".xr-var-data,\n",
       ".xr-index-data {\n",
       "  grid-column: 1 / -1;\n",
       "}\n",
       "\n",
       "dl.xr-attrs {\n",
       "  padding: 0;\n",
       "  margin: 0;\n",
       "  display: grid;\n",
       "  grid-template-columns: 125px auto;\n",
       "}\n",
       "\n",
       ".xr-attrs dt,\n",
       ".xr-attrs dd {\n",
       "  padding: 0;\n",
       "  margin: 0;\n",
       "  float: left;\n",
       "  padding-right: 10px;\n",
       "  width: auto;\n",
       "}\n",
       "\n",
       ".xr-attrs dt {\n",
       "  font-weight: normal;\n",
       "  grid-column: 1;\n",
       "}\n",
       "\n",
       ".xr-attrs dt:hover span {\n",
       "  display: inline-block;\n",
       "  background: var(--xr-background-color);\n",
       "  padding-right: 10px;\n",
       "}\n",
       "\n",
       ".xr-attrs dd {\n",
       "  grid-column: 2;\n",
       "  white-space: pre-wrap;\n",
       "  word-break: break-all;\n",
       "}\n",
       "\n",
       ".xr-icon-database,\n",
       ".xr-icon-file-text2,\n",
       ".xr-no-icon {\n",
       "  display: inline-block;\n",
       "  vertical-align: middle;\n",
       "  width: 1em;\n",
       "  height: 1.5em !important;\n",
       "  stroke-width: 0;\n",
       "  stroke: currentColor;\n",
       "  fill: currentColor;\n",
       "}\n",
       "</style><pre class='xr-text-repr-fallback'>&lt;xarray.DataArray &#x27;u10_train&#x27; (forecast_date: 1429, lead_time: 32, lat: 120,\n",
       "                               lon: 130, mean_std: 2)&gt;\n",
       "array([[[[[-1.131444e+00,  4.768372e-07],\n",
       "          ...,\n",
       "          [-4.690776e-01,  0.000000e+00]],\n",
       "\n",
       "         ...,\n",
       "\n",
       "         [[-8.239514e-01,  2.384186e-07],\n",
       "          ...,\n",
       "          [ 8.775242e-01,  2.384186e-07]]],\n",
       "\n",
       "\n",
       "        ...,\n",
       "\n",
       "\n",
       "        [[[-1.383693e+00,  1.003814e+00],\n",
       "          ...,\n",
       "          [ 4.684406e-01,  1.881163e-01]],\n",
       "\n",
       "         ...,\n",
       "\n",
       "         [[ 9.909421e-01,  4.445735e-01],\n",
       "          ...,\n",
       "          [-5.960758e-01,  6.458046e-01]]]],\n",
       "\n",
       "\n",
       "\n",
       "       ...,\n",
       "\n",
       "\n",
       "\n",
       "       [[[[-2.736735e+00,  9.536743e-07],\n",
       "          ...,\n",
       "          [ 5.847320e-01,  0.000000e+00]],\n",
       "\n",
       "         ...,\n",
       "\n",
       "         [[ 6.252213e-01,  1.788139e-07],\n",
       "          ...,\n",
       "          [ 8.558252e-02,  2.980232e-08]]],\n",
       "\n",
       "\n",
       "        ...,\n",
       "\n",
       "\n",
       "        [[[-1.342113e+00,  8.861129e-01],\n",
       "          ...,\n",
       "          [ 5.992896e-02,  2.500250e-01]],\n",
       "\n",
       "         ...,\n",
       "\n",
       "         [[-1.592126e-01,  2.555267e-01],\n",
       "          ...,\n",
       "          [ 1.371440e+00,  4.299938e-01]]]]], dtype=float32)\n",
       "Dimensions without coordinates: forecast_date, lead_time, lat, lon, mean_std</pre><div class='xr-wrap' style='display:none'><div class='xr-header'><div class='xr-obj-type'>xarray.DataArray</div><div class='xr-array-name'>'u10_train'</div><ul class='xr-dim-list'><li><span>forecast_date</span>: 1429</li><li><span>lead_time</span>: 32</li><li><span>lat</span>: 120</li><li><span>lon</span>: 130</li><li><span>mean_std</span>: 2</li></ul></div><ul class='xr-sections'><li class='xr-section-item'><div class='xr-array-wrap'><input id='section-436b5cb2-361a-403b-8af8-312dd80a8b1c' class='xr-array-in' type='checkbox' checked><label for='section-436b5cb2-361a-403b-8af8-312dd80a8b1c' title='Show/hide data repr'><svg class='icon xr-icon-database'><use xlink:href='#icon-database'></use></svg></label><div class='xr-array-preview xr-preview'><span>-1.131 4.768e-07 -1.176 3.576e-07 -1.213 ... 1.363 0.3987 1.371 0.43</span></div><div class='xr-array-data'><pre>array([[[[[-1.131444e+00,  4.768372e-07],\n",
       "          ...,\n",
       "          [-4.690776e-01,  0.000000e+00]],\n",
       "\n",
       "         ...,\n",
       "\n",
       "         [[-8.239514e-01,  2.384186e-07],\n",
       "          ...,\n",
       "          [ 8.775242e-01,  2.384186e-07]]],\n",
       "\n",
       "\n",
       "        ...,\n",
       "\n",
       "\n",
       "        [[[-1.383693e+00,  1.003814e+00],\n",
       "          ...,\n",
       "          [ 4.684406e-01,  1.881163e-01]],\n",
       "\n",
       "         ...,\n",
       "\n",
       "         [[ 9.909421e-01,  4.445735e-01],\n",
       "          ...,\n",
       "          [-5.960758e-01,  6.458046e-01]]]],\n",
       "\n",
       "\n",
       "\n",
       "       ...,\n",
       "\n",
       "\n",
       "\n",
       "       [[[[-2.736735e+00,  9.536743e-07],\n",
       "          ...,\n",
       "          [ 5.847320e-01,  0.000000e+00]],\n",
       "\n",
       "         ...,\n",
       "\n",
       "         [[ 6.252213e-01,  1.788139e-07],\n",
       "          ...,\n",
       "          [ 8.558252e-02,  2.980232e-08]]],\n",
       "\n",
       "\n",
       "        ...,\n",
       "\n",
       "\n",
       "        [[[-1.342113e+00,  8.861129e-01],\n",
       "          ...,\n",
       "          [ 5.992896e-02,  2.500250e-01]],\n",
       "\n",
       "         ...,\n",
       "\n",
       "         [[-1.592126e-01,  2.555267e-01],\n",
       "          ...,\n",
       "          [ 1.371440e+00,  4.299938e-01]]]]], dtype=float32)</pre></div></div></li><li class='xr-section-item'><input id='section-5815c599-dc3c-410a-ae21-18fcfa8306eb' class='xr-section-summary-in' type='checkbox' disabled ><label for='section-5815c599-dc3c-410a-ae21-18fcfa8306eb' class='xr-section-summary'  title='Expand/collapse section'>Coordinates: <span>(0)</span></label><div class='xr-section-inline-details'></div><div class='xr-section-details'><ul class='xr-var-list'></ul></div></li><li class='xr-section-item'><input id='section-05b9c682-61cc-4a24-9a48-2683d9f276a0' class='xr-section-summary-in' type='checkbox' disabled ><label for='section-05b9c682-61cc-4a24-9a48-2683d9f276a0' class='xr-section-summary'  title='Expand/collapse section'>Indexes: <span>(0)</span></label><div class='xr-section-inline-details'></div><div class='xr-section-details'><ul class='xr-var-list'></ul></div></li><li class='xr-section-item'><input id='section-762546a0-475c-42c4-afd7-25b122ffd0d1' class='xr-section-summary-in' type='checkbox' disabled ><label for='section-762546a0-475c-42c4-afd7-25b122ffd0d1' class='xr-section-summary'  title='Expand/collapse section'>Attributes: <span>(0)</span></label><div class='xr-section-inline-details'></div><div class='xr-section-details'><dl class='xr-attrs'></dl></div></li></ul></div></div>"
      ],
      "text/plain": [
       "<xarray.DataArray 'u10_train' (forecast_date: 1429, lead_time: 32, lat: 120,\n",
       "                               lon: 130, mean_std: 2)>\n",
       "array([[[[[-1.131444e+00,  4.768372e-07],\n",
       "          ...,\n",
       "          [-4.690776e-01,  0.000000e+00]],\n",
       "\n",
       "         ...,\n",
       "\n",
       "         [[-8.239514e-01,  2.384186e-07],\n",
       "          ...,\n",
       "          [ 8.775242e-01,  2.384186e-07]]],\n",
       "\n",
       "\n",
       "        ...,\n",
       "\n",
       "\n",
       "        [[[-1.383693e+00,  1.003814e+00],\n",
       "          ...,\n",
       "          [ 4.684406e-01,  1.881163e-01]],\n",
       "\n",
       "         ...,\n",
       "\n",
       "         [[ 9.909421e-01,  4.445735e-01],\n",
       "          ...,\n",
       "          [-5.960758e-01,  6.458046e-01]]]],\n",
       "\n",
       "\n",
       "\n",
       "       ...,\n",
       "\n",
       "\n",
       "\n",
       "       [[[[-2.736735e+00,  9.536743e-07],\n",
       "          ...,\n",
       "          [ 5.847320e-01,  0.000000e+00]],\n",
       "\n",
       "         ...,\n",
       "\n",
       "         [[ 6.252213e-01,  1.788139e-07],\n",
       "          ...,\n",
       "          [ 8.558252e-02,  2.980232e-08]]],\n",
       "\n",
       "\n",
       "        ...,\n",
       "\n",
       "\n",
       "        [[[-1.342113e+00,  8.861129e-01],\n",
       "          ...,\n",
       "          [ 5.992896e-02,  2.500250e-01]],\n",
       "\n",
       "         ...,\n",
       "\n",
       "         [[-1.592126e-01,  2.555267e-01],\n",
       "          ...,\n",
       "          [ 1.371440e+00,  4.299938e-01]]]]], dtype=float32)\n",
       "Dimensions without coordinates: forecast_date, lead_time, lat, lon, mean_std"
      ]
     },
     "execution_count": 80,
     "metadata": {},
     "output_type": "execute_result"
    },
    {
     "data": {
      "application/javascript": [
       "\n",
       "            setTimeout(function() {\n",
       "                var nbb_cell_id = 80;\n",
       "                var nbb_unformatted_code = \"dat_train_proc_norm[0][list(dat_train_proc_norm[0].data_vars.keys())[0]]\";\n",
       "                var nbb_formatted_code = \"dat_train_proc_norm[0][list(dat_train_proc_norm[0].data_vars.keys())[0]]\";\n",
       "                var nbb_cells = Jupyter.notebook.get_cells();\n",
       "                for (var i = 0; i < nbb_cells.length; ++i) {\n",
       "                    if (nbb_cells[i].input_prompt_number == nbb_cell_id) {\n",
       "                        if (nbb_cells[i].get_text() == nbb_unformatted_code) {\n",
       "                             nbb_cells[i].set_text(nbb_formatted_code);\n",
       "                        }\n",
       "                        break;\n",
       "                    }\n",
       "                }\n",
       "            }, 500);\n",
       "            "
      ],
      "text/plain": [
       "<IPython.core.display.Javascript object>"
      ]
     },
     "metadata": {},
     "output_type": "display_data"
    }
   ],
   "source": [
    "dat_train_proc_norm[0][list(dat_train_proc_norm[0].data_vars.keys())[0]]"
   ]
  },
  {
   "cell_type": "code",
   "execution_count": 60,
   "id": "07b6c423",
   "metadata": {},
   "outputs": [
    {
     "data": {
      "application/javascript": [
       "\n",
       "            setTimeout(function() {\n",
       "                var nbb_cell_id = 60;\n",
       "                var nbb_unformatted_code = \"def denormalize(mean, std, x):\\n    denormalized = (x * std) + mean\\n    return denormalized\";\n",
       "                var nbb_formatted_code = \"def denormalize(mean, std, x):\\n    denormalized = (x * std) + mean\\n    return denormalized\";\n",
       "                var nbb_cells = Jupyter.notebook.get_cells();\n",
       "                for (var i = 0; i < nbb_cells.length; ++i) {\n",
       "                    if (nbb_cells[i].input_prompt_number == nbb_cell_id) {\n",
       "                        if (nbb_cells[i].get_text() == nbb_unformatted_code) {\n",
       "                             nbb_cells[i].set_text(nbb_formatted_code);\n",
       "                        }\n",
       "                        break;\n",
       "                    }\n",
       "                }\n",
       "            }, 500);\n",
       "            "
      ],
      "text/plain": [
       "<IPython.core.display.Javascript object>"
      ]
     },
     "metadata": {},
     "output_type": "display_data"
    }
   ],
   "source": [
    "def denormalize(mean, std, x):\n",
    "    denormalized = (x * std) + mean\n",
    "    return denormalized"
   ]
  },
  {
   "cell_type": "code",
   "execution_count": 61,
   "id": "9030e107",
   "metadata": {},
   "outputs": [
    {
     "data": {
      "application/javascript": [
       "\n",
       "            setTimeout(function() {\n",
       "                var nbb_cell_id = 61;\n",
       "                var nbb_unformatted_code = \"def denormalize_std(std, x):\\n    denormalized_std = x * std\\n    return denormalized_std\";\n",
       "                var nbb_formatted_code = \"def denormalize_std(std, x):\\n    denormalized_std = x * std\\n    return denormalized_std\";\n",
       "                var nbb_cells = Jupyter.notebook.get_cells();\n",
       "                for (var i = 0; i < nbb_cells.length; ++i) {\n",
       "                    if (nbb_cells[i].input_prompt_number == nbb_cell_id) {\n",
       "                        if (nbb_cells[i].get_text() == nbb_unformatted_code) {\n",
       "                             nbb_cells[i].set_text(nbb_formatted_code);\n",
       "                        }\n",
       "                        break;\n",
       "                    }\n",
       "                }\n",
       "            }, 500);\n",
       "            "
      ],
      "text/plain": [
       "<IPython.core.display.Javascript object>"
      ]
     },
     "metadata": {},
     "output_type": "display_data"
    }
   ],
   "source": [
    "def denormalize_std(std, x):\n",
    "    denormalized_std = x * std\n",
    "    return denormalized_std"
   ]
  },
  {
   "cell_type": "code",
   "execution_count": 82,
   "id": "042fb517",
   "metadata": {},
   "outputs": [
    {
     "data": {
      "application/javascript": [
       "\n",
       "            setTimeout(function() {\n",
       "                var nbb_cell_id = 82;\n",
       "                var nbb_unformatted_code = \"def denormalize_dataset(mean, std, dataset, name):\\n    '''\\n    Denormalize a Dataset and save it at data directory\\nArgs:\\n    mean (float): mean value to denormalize with\\n    std (float): standard deviation used to denormalize with\\n    dataset(dataset): xarray dataset with var_train and var_truth dataArrays\\n    name (String): name to be given to dataset\\nReturns:\\n    None\\n    \\n    \\n    '''\\n    denormalized_mean = xr.apply_ufunc(\\n        denormalize,\\n        mean,\\n        std,\\n        dataset[list(dataset.data_vars.keys())[0]].isel(mean_std=0),\\n    )\\n    denormalized_std = xr.apply_ufunc(\\n        denormalize_std,\\n        std,\\n        dataset[list(dataset.data_vars.keys())[0]].isel(mean_std=1),\\n    )\\n    denormalized_truth = xr.apply_ufunc(\\n        denormalize, mean, std, dataset[list(dataset.data_vars.keys())[1]]\\n    )\\n    denormalized_train = xr.concat([denormalized_mean, denormalized_std], dim=\\\"mean_std\\\")\\n    denormalized_train = denormalized_train.transpose(\\n    \\\"forecast_date\\\", \\\"lead_time\\\", \\\"lat\\\", \\\"lon\\\", \\\"mean_std\\\"\\n)\\n    denormalized_dataset = xr.Dataset(\\n    data_vars={\\n        \\\"u10_train\\\": denormalized_train,\\n        \\\"u10_truth\\\": denormalized_truth,\\n    }\\n)\\n    denormalized_dataset.to_netcdf(\\\"/Data/Delong_BA_Data/mean_ens_std_denorm/\\\" + name + \\\".h5\\\", format=\\\"NETCDF4\\\")\";\n",
       "                var nbb_formatted_code = \"def denormalize_dataset(mean, std, dataset, name):\\n    \\\"\\\"\\\"\\n    Denormalize a Dataset and save it at data directory\\nArgs:\\n    mean (float): mean value to denormalize with\\n    std (float): standard deviation used to denormalize with\\n    dataset(dataset): xarray dataset with var_train and var_truth dataArrays\\n    name (String): name to be given to dataset\\nReturns:\\n    None\\n    \\n    \\n    \\\"\\\"\\\"\\n    denormalized_mean = xr.apply_ufunc(\\n        denormalize,\\n        mean,\\n        std,\\n        dataset[list(dataset.data_vars.keys())[0]].isel(mean_std=0),\\n    )\\n    denormalized_std = xr.apply_ufunc(\\n        denormalize_std,\\n        std,\\n        dataset[list(dataset.data_vars.keys())[0]].isel(mean_std=1),\\n    )\\n    denormalized_truth = xr.apply_ufunc(\\n        denormalize, mean, std, dataset[list(dataset.data_vars.keys())[1]]\\n    )\\n    denormalized_train = xr.concat(\\n        [denormalized_mean, denormalized_std], dim=\\\"mean_std\\\"\\n    )\\n    denormalized_train = denormalized_train.transpose(\\n        \\\"forecast_date\\\", \\\"lead_time\\\", \\\"lat\\\", \\\"lon\\\", \\\"mean_std\\\"\\n    )\\n    denormalized_dataset = xr.Dataset(\\n        data_vars={\\\"u10_train\\\": denormalized_train, \\\"u10_truth\\\": denormalized_truth,}\\n    )\\n    denormalized_dataset.to_netcdf(\\n        \\\"/Data/Delong_BA_Data/mean_ens_std_denorm/\\\" + name + \\\".h5\\\", format=\\\"NETCDF4\\\"\\n    )\";\n",
       "                var nbb_cells = Jupyter.notebook.get_cells();\n",
       "                for (var i = 0; i < nbb_cells.length; ++i) {\n",
       "                    if (nbb_cells[i].input_prompt_number == nbb_cell_id) {\n",
       "                        if (nbb_cells[i].get_text() == nbb_unformatted_code) {\n",
       "                             nbb_cells[i].set_text(nbb_formatted_code);\n",
       "                        }\n",
       "                        break;\n",
       "                    }\n",
       "                }\n",
       "            }, 500);\n",
       "            "
      ],
      "text/plain": [
       "<IPython.core.display.Javascript object>"
      ]
     },
     "metadata": {},
     "output_type": "display_data"
    }
   ],
   "source": [
    "def main(mean, std, dataset, name):\n",
    "    \"\"\"\n",
    "    Denormalize a Dataset and save it at data directory\n",
    "Args:\n",
    "    mean (float): mean value to denormalize with\n",
    "    std (float): standard deviation used to denormalize with\n",
    "    dataset(dataset): xarray dataset with var_train and var_truth dataArrays\n",
    "    name (String): name to be given to dataset\n",
    "Returns:\n",
    "    None\n",
    "    \n",
    "    \n",
    "    \"\"\"\n",
    "    denormalized_mean = xr.apply_ufunc(\n",
    "        denormalize,\n",
    "        mean,\n",
    "        std,\n",
    "        dataset[list(dataset.data_vars.keys())[0]].isel(mean_std=0),\n",
    "    )\n",
    "    denormalized_std = xr.apply_ufunc(\n",
    "        denormalize_std,\n",
    "        std,\n",
    "        dataset[list(dataset.data_vars.keys())[0]].isel(mean_std=1),\n",
    "    )\n",
    "    denormalized_truth = xr.apply_ufunc(\n",
    "        denormalize, mean, std, dataset[list(dataset.data_vars.keys())[1]]\n",
    "    )\n",
    "    denormalized_train = xr.concat(\n",
    "        [denormalized_mean, denormalized_std], dim=\"mean_std\"\n",
    "    )\n",
    "    denormalized_train = denormalized_train.transpose(\n",
    "        \"forecast_date\", \"lead_time\", \"lat\", \"lon\", \"mean_std\"\n",
    "    )\n",
    "    denormalized_dataset = xr.Dataset(\n",
    "        data_vars={\"u10_train\": denormalized_train, \"u10_truth\": denormalized_truth,}\n",
    "    )\n",
    "    denormalized_dataset.to_netcdf(\n",
    "        \"/Data/Delong_BA_Data/mean_ens_std_denorm/\" + name + \".h5\", format=\"NETCDF4\"\n",
    "    )"
   ]
  },
  {
   "cell_type": "code",
   "execution_count": 63,
   "id": "9a301ffe",
   "metadata": {},
   "outputs": [
    {
     "data": {
      "application/javascript": [
       "\n",
       "            setTimeout(function() {\n",
       "                var nbb_cell_id = 63;\n",
       "                var nbb_unformatted_code = \"denormalized_mean = xr.apply_ufunc(\\n    denormalize, -6.42, 5.61, dat_train_proc_norm[0].u10_train.isel(mean_std=0)\\n)\";\n",
       "                var nbb_formatted_code = \"denormalized_mean = xr.apply_ufunc(\\n    denormalize, -6.42, 5.61, dat_train_proc_norm[0].u10_train.isel(mean_std=0)\\n)\";\n",
       "                var nbb_cells = Jupyter.notebook.get_cells();\n",
       "                for (var i = 0; i < nbb_cells.length; ++i) {\n",
       "                    if (nbb_cells[i].input_prompt_number == nbb_cell_id) {\n",
       "                        if (nbb_cells[i].get_text() == nbb_unformatted_code) {\n",
       "                             nbb_cells[i].set_text(nbb_formatted_code);\n",
       "                        }\n",
       "                        break;\n",
       "                    }\n",
       "                }\n",
       "            }, 500);\n",
       "            "
      ],
      "text/plain": [
       "<IPython.core.display.Javascript object>"
      ]
     },
     "metadata": {},
     "output_type": "display_data"
    }
   ],
   "source": [
    "denormalized_mean = xr.apply_ufunc(\n",
    "    denormalize, -6.42, 5.61, dat_train_proc_norm[0].u10_train.isel(mean_std=0)\n",
    ")"
   ]
  },
  {
   "cell_type": "code",
   "execution_count": 64,
   "id": "d842be37",
   "metadata": {},
   "outputs": [
    {
     "data": {
      "application/javascript": [
       "\n",
       "            setTimeout(function() {\n",
       "                var nbb_cell_id = 64;\n",
       "                var nbb_unformatted_code = \"denormalized_std = xr.apply_ufunc(\\n    denormalize_std, -5.61, dat_train_proc_norm[0].u10_train.isel(mean_std=1)\\n)\";\n",
       "                var nbb_formatted_code = \"denormalized_std = xr.apply_ufunc(\\n    denormalize_std, -5.61, dat_train_proc_norm[0].u10_train.isel(mean_std=1)\\n)\";\n",
       "                var nbb_cells = Jupyter.notebook.get_cells();\n",
       "                for (var i = 0; i < nbb_cells.length; ++i) {\n",
       "                    if (nbb_cells[i].input_prompt_number == nbb_cell_id) {\n",
       "                        if (nbb_cells[i].get_text() == nbb_unformatted_code) {\n",
       "                             nbb_cells[i].set_text(nbb_formatted_code);\n",
       "                        }\n",
       "                        break;\n",
       "                    }\n",
       "                }\n",
       "            }, 500);\n",
       "            "
      ],
      "text/plain": [
       "<IPython.core.display.Javascript object>"
      ]
     },
     "metadata": {},
     "output_type": "display_data"
    }
   ],
   "source": [
    "denormalized_std = xr.apply_ufunc(\n",
    "    denormalize_std, -5.61, dat_train_proc_norm[0].u10_train.isel(mean_std=1)\n",
    ")"
   ]
  },
  {
   "cell_type": "code",
   "execution_count": 65,
   "id": "c70e3604",
   "metadata": {},
   "outputs": [
    {
     "data": {
      "application/javascript": [
       "\n",
       "            setTimeout(function() {\n",
       "                var nbb_cell_id = 65;\n",
       "                var nbb_unformatted_code = \"denormalized = xr.apply_ufunc(\\n    denormalize, -6.42, 5.61, dat_train_proc_norm[0].u10_truth\\n)\";\n",
       "                var nbb_formatted_code = \"denormalized = xr.apply_ufunc(\\n    denormalize, -6.42, 5.61, dat_train_proc_norm[0].u10_truth\\n)\";\n",
       "                var nbb_cells = Jupyter.notebook.get_cells();\n",
       "                for (var i = 0; i < nbb_cells.length; ++i) {\n",
       "                    if (nbb_cells[i].input_prompt_number == nbb_cell_id) {\n",
       "                        if (nbb_cells[i].get_text() == nbb_unformatted_code) {\n",
       "                             nbb_cells[i].set_text(nbb_formatted_code);\n",
       "                        }\n",
       "                        break;\n",
       "                    }\n",
       "                }\n",
       "            }, 500);\n",
       "            "
      ],
      "text/plain": [
       "<IPython.core.display.Javascript object>"
      ]
     },
     "metadata": {},
     "output_type": "display_data"
    }
   ],
   "source": [
    "denormalized_truth = xr.apply_ufunc(\n",
    "    denormalize, -6.42, 5.61, dat_train_proc_norm[0].u10_truth\n",
    ")"
   ]
  },
  {
   "cell_type": "code",
   "execution_count": 73,
   "id": "5014f36a",
   "metadata": {},
   "outputs": [
    {
     "data": {
      "application/javascript": [
       "\n",
       "            setTimeout(function() {\n",
       "                var nbb_cell_id = 73;\n",
       "                var nbb_unformatted_code = \"denormalized_train = xr.concat([denormalized_mean, denormalized_std], dim=\\\"mean_std\\\")\";\n",
       "                var nbb_formatted_code = \"denormalized_train = xr.concat([denormalized_mean, denormalized_std], dim=\\\"mean_std\\\")\";\n",
       "                var nbb_cells = Jupyter.notebook.get_cells();\n",
       "                for (var i = 0; i < nbb_cells.length; ++i) {\n",
       "                    if (nbb_cells[i].input_prompt_number == nbb_cell_id) {\n",
       "                        if (nbb_cells[i].get_text() == nbb_unformatted_code) {\n",
       "                             nbb_cells[i].set_text(nbb_formatted_code);\n",
       "                        }\n",
       "                        break;\n",
       "                    }\n",
       "                }\n",
       "            }, 500);\n",
       "            "
      ],
      "text/plain": [
       "<IPython.core.display.Javascript object>"
      ]
     },
     "metadata": {},
     "output_type": "display_data"
    }
   ],
   "source": [
    "denormalized_train = xr.concat([denormalized_mean, denormalized_std], dim=\"mean_std\")"
   ]
  },
  {
   "cell_type": "code",
   "execution_count": 74,
   "id": "946431c2",
   "metadata": {},
   "outputs": [
    {
     "data": {
      "application/javascript": [
       "\n",
       "            setTimeout(function() {\n",
       "                var nbb_cell_id = 74;\n",
       "                var nbb_unformatted_code = \"denormalized_train = denormalized_train.transpose(\\n    \\\"forecast_date\\\", \\\"lead_time\\\", \\\"lat\\\", \\\"lon\\\", \\\"mean_std\\\"\\n)\";\n",
       "                var nbb_formatted_code = \"denormalized_train = denormalized_train.transpose(\\n    \\\"forecast_date\\\", \\\"lead_time\\\", \\\"lat\\\", \\\"lon\\\", \\\"mean_std\\\"\\n)\";\n",
       "                var nbb_cells = Jupyter.notebook.get_cells();\n",
       "                for (var i = 0; i < nbb_cells.length; ++i) {\n",
       "                    if (nbb_cells[i].input_prompt_number == nbb_cell_id) {\n",
       "                        if (nbb_cells[i].get_text() == nbb_unformatted_code) {\n",
       "                             nbb_cells[i].set_text(nbb_formatted_code);\n",
       "                        }\n",
       "                        break;\n",
       "                    }\n",
       "                }\n",
       "            }, 500);\n",
       "            "
      ],
      "text/plain": [
       "<IPython.core.display.Javascript object>"
      ]
     },
     "metadata": {},
     "output_type": "display_data"
    }
   ],
   "source": [
    "denormalized_train = denormalized_train.transpose(\n",
    "    \"forecast_date\", \"lead_time\", \"lat\", \"lon\", \"mean_std\"\n",
    ")"
   ]
  },
  {
   "cell_type": "code",
   "execution_count": 27,
   "id": "b7322307",
   "metadata": {},
   "outputs": [
    {
     "data": {
      "text/plain": [
       "(1429, 32, 120, 130, 2)"
      ]
     },
     "execution_count": 27,
     "metadata": {},
     "output_type": "execute_result"
    },
    {
     "data": {
      "application/javascript": [
       "\n",
       "            setTimeout(function() {\n",
       "                var nbb_cell_id = 27;\n",
       "                var nbb_unformatted_code = \" dat_train_proc_norm[0].u10_train.values.shape\";\n",
       "                var nbb_formatted_code = \"dat_train_proc_norm[0].u10_train.values.shape\";\n",
       "                var nbb_cells = Jupyter.notebook.get_cells();\n",
       "                for (var i = 0; i < nbb_cells.length; ++i) {\n",
       "                    if (nbb_cells[i].input_prompt_number == nbb_cell_id) {\n",
       "                        if (nbb_cells[i].get_text() == nbb_unformatted_code) {\n",
       "                             nbb_cells[i].set_text(nbb_formatted_code);\n",
       "                        }\n",
       "                        break;\n",
       "                    }\n",
       "                }\n",
       "            }, 500);\n",
       "            "
      ],
      "text/plain": [
       "<IPython.core.display.Javascript object>"
      ]
     },
     "metadata": {},
     "output_type": "display_data"
    }
   ],
   "source": [
    "dat_train_proc_norm[0].u10_train.values.shape"
   ]
  },
  {
   "cell_type": "code",
   "execution_count": 29,
   "id": "4b136f93",
   "metadata": {},
   "outputs": [
    {
     "data": {
      "application/javascript": [
       "\n",
       "            setTimeout(function() {\n",
       "                var nbb_cell_id = 29;\n",
       "                var nbb_unformatted_code = \"test = xr.Dataset(\\n    data_vars={\\n        \\\"u10_train\\\":\\n            dat_train_proc_norm[0].u10_train,\\n        \\\"u10_truth\\\": denormalized,\\n    }\\n)\";\n",
       "                var nbb_formatted_code = \"test = xr.Dataset(\\n    data_vars={\\n        \\\"u10_train\\\": dat_train_proc_norm[0].u10_train,\\n        \\\"u10_truth\\\": denormalized,\\n    }\\n)\";\n",
       "                var nbb_cells = Jupyter.notebook.get_cells();\n",
       "                for (var i = 0; i < nbb_cells.length; ++i) {\n",
       "                    if (nbb_cells[i].input_prompt_number == nbb_cell_id) {\n",
       "                        if (nbb_cells[i].get_text() == nbb_unformatted_code) {\n",
       "                             nbb_cells[i].set_text(nbb_formatted_code);\n",
       "                        }\n",
       "                        break;\n",
       "                    }\n",
       "                }\n",
       "            }, 500);\n",
       "            "
      ],
      "text/plain": [
       "<IPython.core.display.Javascript object>"
      ]
     },
     "metadata": {},
     "output_type": "display_data"
    }
   ],
   "source": [
    "test = xr.Dataset(\n",
    "    data_vars={\n",
    "        \"u10_train\": dat_train_proc_norm[0].u10_train,\n",
    "        \"u10_truth\": denormalized,\n",
    "    }\n",
    ")"
   ]
  },
  {
   "cell_type": "code",
   "execution_count": 36,
   "id": "160a7be1",
   "metadata": {},
   "outputs": [
    {
     "data": {
      "application/javascript": [
       "\n",
       "            setTimeout(function() {\n",
       "                var nbb_cell_id = 36;\n",
       "                var nbb_unformatted_code = \"test.to_netcdf(\\\"/Data/Delong_BA_Data/mean_ens_std_denorm/test.h5\\\", format=\\\"NETCDF4\\\")\";\n",
       "                var nbb_formatted_code = \"test.to_netcdf(\\\"/Data/Delong_BA_Data/mean_ens_std_denorm/test.h5\\\", format=\\\"NETCDF4\\\")\";\n",
       "                var nbb_cells = Jupyter.notebook.get_cells();\n",
       "                for (var i = 0; i < nbb_cells.length; ++i) {\n",
       "                    if (nbb_cells[i].input_prompt_number == nbb_cell_id) {\n",
       "                        if (nbb_cells[i].get_text() == nbb_unformatted_code) {\n",
       "                             nbb_cells[i].set_text(nbb_formatted_code);\n",
       "                        }\n",
       "                        break;\n",
       "                    }\n",
       "                }\n",
       "            }, 500);\n",
       "            "
      ],
      "text/plain": [
       "<IPython.core.display.Javascript object>"
      ]
     },
     "metadata": {},
     "output_type": "display_data"
    }
   ],
   "source": [
    "test.to_netcdf(\"/Data/Delong_BA_Data/mean_ens_std_denorm/test.h5\", format=\"NETCDF4\")"
   ]
  },
  {
   "cell_type": "code",
   "execution_count": 37,
   "id": "7d3bcfa9",
   "metadata": {},
   "outputs": [
    {
     "data": {
      "application/javascript": [
       "\n",
       "            setTimeout(function() {\n",
       "                var nbb_cell_id = 37;\n",
       "                var nbb_unformatted_code = \"test2 = xr.open_dataset(\\\"/Data/Delong_BA_Data/mean_ens_std_denorm/test.h5\\\")\";\n",
       "                var nbb_formatted_code = \"test2 = xr.open_dataset(\\\"/Data/Delong_BA_Data/mean_ens_std_denorm/test.h5\\\")\";\n",
       "                var nbb_cells = Jupyter.notebook.get_cells();\n",
       "                for (var i = 0; i < nbb_cells.length; ++i) {\n",
       "                    if (nbb_cells[i].input_prompt_number == nbb_cell_id) {\n",
       "                        if (nbb_cells[i].get_text() == nbb_unformatted_code) {\n",
       "                             nbb_cells[i].set_text(nbb_formatted_code);\n",
       "                        }\n",
       "                        break;\n",
       "                    }\n",
       "                }\n",
       "            }, 500);\n",
       "            "
      ],
      "text/plain": [
       "<IPython.core.display.Javascript object>"
      ]
     },
     "metadata": {},
     "output_type": "display_data"
    }
   ],
   "source": [
    "test2 = xr.open_dataset(\"/Data/Delong_BA_Data/mean_ens_std_denorm/test.h5\")"
   ]
  }
 ],
 "metadata": {
  "kernelspec": {
   "display_name": "Python 3 (ipykernel)",
   "language": "python",
   "name": "python3"
  },
  "language_info": {
   "codemirror_mode": {
    "name": "ipython",
    "version": 3
   },
   "file_extension": ".py",
   "mimetype": "text/x-python",
   "name": "python",
   "nbconvert_exporter": "python",
   "pygments_lexer": "ipython3",
   "version": "3.9.7"
  }
 },
 "nbformat": 4,
 "nbformat_minor": 5
}
