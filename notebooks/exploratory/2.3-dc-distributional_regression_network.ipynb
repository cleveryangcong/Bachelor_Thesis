{
 "cells": [
  {
   "cell_type": "code",
   "execution_count": 1,
   "id": "880693cb",
   "metadata": {},
   "outputs": [
    {
     "data": {
      "application/javascript": [
       "\n",
       "            setTimeout(function() {\n",
       "                var nbb_cell_id = 1;\n",
       "                var nbb_unformatted_code = \"%load_ext nb_black\";\n",
       "                var nbb_formatted_code = \"%load_ext nb_black\";\n",
       "                var nbb_cells = Jupyter.notebook.get_cells();\n",
       "                for (var i = 0; i < nbb_cells.length; ++i) {\n",
       "                    if (nbb_cells[i].input_prompt_number == nbb_cell_id) {\n",
       "                        if (nbb_cells[i].get_text() == nbb_unformatted_code) {\n",
       "                             nbb_cells[i].set_text(nbb_formatted_code);\n",
       "                        }\n",
       "                        break;\n",
       "                    }\n",
       "                }\n",
       "            }, 500);\n",
       "            "
      ],
      "text/plain": [
       "<IPython.core.display.Javascript object>"
      ]
     },
     "metadata": {},
     "output_type": "display_data"
    }
   ],
   "source": [
    "%load_ext nb_black"
   ]
  },
  {
   "cell_type": "code",
   "execution_count": 4,
   "id": "c6888cd5",
   "metadata": {},
   "outputs": [
    {
     "data": {
      "application/javascript": [
       "\n",
       "            setTimeout(function() {\n",
       "                var nbb_cell_id = 4;\n",
       "                var nbb_unformatted_code = \"# Basics\\nimport tensorflow as tf\\n\\n# Helpful\\nimport tqdm\\n\\n# Visualization\\nimport matplotlib.pyplot as plt\\n\\n# My Methods\\nfrom src.utils.CRPS import *\\nfrom src.utils.data_split import *\\nfrom src.models.EMOS import *\\nfrom src.models.EMOS_global.EMOS_global_load_score import *\\nfrom src.models.EMOS_global.EMOS_global_load_model import *\\nimport data.raw.load_data_raw as ldr\\nimport data.processed.load_data_processed as ldp\\nimport data.processed.load_data_processed_denormed as ldpd\\nfrom src.models.CRPS_baseline.CRPS_load import *\";\n",
       "                var nbb_formatted_code = \"# Basics\\nimport tensorflow as tf\\n\\n# Helpful\\nimport tqdm\\n\\n# Visualization\\nimport matplotlib.pyplot as plt\\n\\n# My Methods\\nfrom src.utils.CRPS import *\\nfrom src.utils.data_split import *\\nfrom src.models.EMOS import *\\nfrom src.models.EMOS_global.EMOS_global_load_score import *\\nfrom src.models.EMOS_global.EMOS_global_load_model import *\\nimport data.raw.load_data_raw as ldr\\nimport data.processed.load_data_processed as ldp\\nimport data.processed.load_data_processed_denormed as ldpd\\nfrom src.models.CRPS_baseline.CRPS_load import *\";\n",
       "                var nbb_cells = Jupyter.notebook.get_cells();\n",
       "                for (var i = 0; i < nbb_cells.length; ++i) {\n",
       "                    if (nbb_cells[i].input_prompt_number == nbb_cell_id) {\n",
       "                        if (nbb_cells[i].get_text() == nbb_unformatted_code) {\n",
       "                             nbb_cells[i].set_text(nbb_formatted_code);\n",
       "                        }\n",
       "                        break;\n",
       "                    }\n",
       "                }\n",
       "            }, 500);\n",
       "            "
      ],
      "text/plain": [
       "<IPython.core.display.Javascript object>"
      ]
     },
     "metadata": {},
     "output_type": "display_data"
    }
   ],
   "source": [
    "# Basics\n",
    "import tensorflow as tf\n",
    "\n",
    "# Helpful\n",
    "import tqdm\n",
    "\n",
    "# Visualization\n",
    "import matplotlib.pyplot as plt\n",
    "\n",
    "# My Methods\n",
    "from src.utils.CRPS import *\n",
    "from src.utils.data_split import *\n",
    "from src.models.EMOS import *\n",
    "from src.models.EMOS_global.EMOS_global_load_score import *\n",
    "from src.models.EMOS_global.EMOS_global_load_model import *\n",
    "import data.raw.load_data_raw as ldr\n",
    "import data.processed.load_data_processed as ldp\n",
    "import data.processed.load_data_processed_denormed as ldpd\n",
    "from src.models.CRPS_baseline.CRPS_load import *"
   ]
  },
  {
   "cell_type": "code",
   "execution_count": null,
   "id": "656403b2",
   "metadata": {},
   "outputs": [],
   "source": []
  },
  {
   "cell_type": "code",
   "execution_count": null,
   "id": "9330915d",
   "metadata": {},
   "outputs": [],
   "source": []
  },
  {
   "cell_type": "code",
   "execution_count": null,
   "id": "6924bd84",
   "metadata": {},
   "outputs": [],
   "source": []
  },
  {
   "cell_type": "code",
   "execution_count": null,
   "id": "610aff89",
   "metadata": {},
   "outputs": [],
   "source": []
  },
  {
   "cell_type": "code",
   "execution_count": null,
   "id": "a22bfce4",
   "metadata": {},
   "outputs": [],
   "source": []
  },
  {
   "cell_type": "code",
   "execution_count": null,
   "id": "0cc4742a",
   "metadata": {},
   "outputs": [],
   "source": []
  },
  {
   "cell_type": "code",
   "execution_count": 5,
   "id": "18d18cbd",
   "metadata": {},
   "outputs": [
    {
     "data": {
      "application/javascript": [
       "\n",
       "            setTimeout(function() {\n",
       "                var nbb_cell_id = 5;\n",
       "                var nbb_unformatted_code = \"def build_emb_model(\\n    n_features,\\n    n_outputs,\\n    hidden_nodes,\\n    emb_size,\\n    max_id,\\n    compile=False,\\n    optimizer=\\\"adam\\\",\\n    lr=0.01,\\n    loss=crps_cost_function,\\n    activation=\\\"relu\\\",\\n    reg=None,\\n):\\n    \\\"\\\"\\\"\\n\\n    Args:\\n        n_features: Number of features\\n        n_outputs: Number of outputs\\n        hidden_nodes: int or list of hidden nodes\\n        emb_size: Embedding size\\n        max_id: Max embedding ID\\n        compile: If true, compile model\\n        optimizer: Name of optimizer\\n        lr: learning rate\\n        loss: loss function\\n        activation: Activation function for hidden layer\\n\\n    Returns:\\n        model: Keras model\\n    \\\"\\\"\\\"\\n    if type(hidden_nodes) is not list:\\n        hidden_nodes = [hidden_nodes]\\n\\n    features_in = Input(shape=(n_features,))\\n    id_in = Input(shape=(1,))\\n    emb = Embedding(max_id + 1, emb_size)(id_in)\\n    emb = Flatten()(emb)\\n    x = Concatenate()([features_in, emb])\\n    for h in hidden_nodes:\\n        x = Dense(h, activation=activation, kernel_regularizer=reg)(x)\\n    x = Dense(n_outputs, activation=\\\"linear\\\", kernel_regularizer=reg)(x)\\n    model = Model(inputs=[features_in, id_in], outputs=x)\\n\\n    if compile:\\n        opt = keras.optimizers.__dict__[optimizer](lr=lr)\\n        model.compile(optimizer=opt, loss=loss)\\n    return model\";\n",
       "                var nbb_formatted_code = \"def build_emb_model(\\n    n_features,\\n    n_outputs,\\n    hidden_nodes,\\n    emb_size,\\n    max_id,\\n    compile=False,\\n    optimizer=\\\"adam\\\",\\n    lr=0.01,\\n    loss=crps_cost_function,\\n    activation=\\\"relu\\\",\\n    reg=None,\\n):\\n    \\\"\\\"\\\"\\n\\n    Args:\\n        n_features: Number of features\\n        n_outputs: Number of outputs\\n        hidden_nodes: int or list of hidden nodes\\n        emb_size: Embedding size\\n        max_id: Max embedding ID\\n        compile: If true, compile model\\n        optimizer: Name of optimizer\\n        lr: learning rate\\n        loss: loss function\\n        activation: Activation function for hidden layer\\n\\n    Returns:\\n        model: Keras model\\n    \\\"\\\"\\\"\\n    if type(hidden_nodes) is not list:\\n        hidden_nodes = [hidden_nodes]\\n\\n    features_in = Input(shape=(n_features,))\\n    id_in = Input(shape=(1,))\\n    emb = Embedding(max_id + 1, emb_size)(id_in)\\n    emb = Flatten()(emb)\\n    x = Concatenate()([features_in, emb])\\n    for h in hidden_nodes:\\n        x = Dense(h, activation=activation, kernel_regularizer=reg)(x)\\n    x = Dense(n_outputs, activation=\\\"linear\\\", kernel_regularizer=reg)(x)\\n    model = Model(inputs=[features_in, id_in], outputs=x)\\n\\n    if compile:\\n        opt = keras.optimizers.__dict__[optimizer](lr=lr)\\n        model.compile(optimizer=opt, loss=loss)\\n    return model\";\n",
       "                var nbb_cells = Jupyter.notebook.get_cells();\n",
       "                for (var i = 0; i < nbb_cells.length; ++i) {\n",
       "                    if (nbb_cells[i].input_prompt_number == nbb_cell_id) {\n",
       "                        if (nbb_cells[i].get_text() == nbb_unformatted_code) {\n",
       "                             nbb_cells[i].set_text(nbb_formatted_code);\n",
       "                        }\n",
       "                        break;\n",
       "                    }\n",
       "                }\n",
       "            }, 500);\n",
       "            "
      ],
      "text/plain": [
       "<IPython.core.display.Javascript object>"
      ]
     },
     "metadata": {},
     "output_type": "display_data"
    }
   ],
   "source": [
    "def build_emb_model(\n",
    "    n_features,\n",
    "    n_outputs,\n",
    "    hidden_nodes,\n",
    "    emb_size,\n",
    "    max_id,\n",
    "    compile=False,\n",
    "    optimizer=\"adam\",\n",
    "    lr=0.01,\n",
    "    loss=crps_cost_function,\n",
    "    activation=\"relu\",\n",
    "    reg=None,\n",
    "):\n",
    "    \"\"\"\n",
    "\n",
    "    Args:\n",
    "        n_features: Number of features\n",
    "        n_outputs: Number of outputs\n",
    "        hidden_nodes: int or list of hidden nodes\n",
    "        emb_size: Embedding size\n",
    "        max_id: Max embedding ID\n",
    "        compile: If true, compile model\n",
    "        optimizer: Name of optimizer\n",
    "        lr: learning rate\n",
    "        loss: loss function\n",
    "        activation: Activation function for hidden layer\n",
    "\n",
    "    Returns:\n",
    "        model: Keras model\n",
    "    \"\"\"\n",
    "    if type(hidden_nodes) is not list:\n",
    "        hidden_nodes = [hidden_nodes]\n",
    "\n",
    "    features_in = Input(shape=(n_features,))\n",
    "    id_in = Input(shape=(1,))\n",
    "    emb = Embedding(max_id + 1, emb_size)(id_in)\n",
    "    emb = Flatten()(emb)\n",
    "    x = Concatenate()([features_in, emb])\n",
    "    for h in hidden_nodes:\n",
    "        x = Dense(h, activation=activation, kernel_regularizer=reg)(x)\n",
    "    x = Dense(n_outputs, activation=\"linear\", kernel_regularizer=reg)(x)\n",
    "    model = Model(inputs=[features_in, id_in], outputs=x)\n",
    "\n",
    "    if compile:\n",
    "        opt = keras.optimizers.__dict__[optimizer](lr=lr)\n",
    "        model.compile(optimizer=opt, loss=loss)\n",
    "    return model"
   ]
  },
  {
   "cell_type": "code",
   "execution_count": null,
   "id": "13fd1500",
   "metadata": {},
   "outputs": [],
   "source": []
  },
  {
   "cell_type": "code",
   "execution_count": null,
   "id": "f19d4009",
   "metadata": {},
   "outputs": [],
   "source": []
  },
  {
   "cell_type": "code",
   "execution_count": null,
   "id": "ba794e90",
   "metadata": {},
   "outputs": [],
   "source": []
  },
  {
   "cell_type": "code",
   "execution_count": null,
   "id": "881ef131",
   "metadata": {},
   "outputs": [],
   "source": []
  }
 ],
 "metadata": {
  "kernelspec": {
   "display_name": "Python 3 (ipykernel)",
   "language": "python",
   "name": "python3"
  },
  "language_info": {
   "codemirror_mode": {
    "name": "ipython",
    "version": 3
   },
   "file_extension": ".py",
   "mimetype": "text/x-python",
   "name": "python",
   "nbconvert_exporter": "python",
   "pygments_lexer": "ipython3",
   "version": "3.9.7"
  }
 },
 "nbformat": 4,
 "nbformat_minor": 5
}
