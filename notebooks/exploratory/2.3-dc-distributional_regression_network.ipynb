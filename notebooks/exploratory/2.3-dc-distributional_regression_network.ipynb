{
 "cells": [
  {
   "cell_type": "code",
   "execution_count": 1,
   "id": "880693cb",
   "metadata": {},
   "outputs": [
    {
     "data": {
      "application/javascript": [
       "\n",
       "            setTimeout(function() {\n",
       "                var nbb_cell_id = 1;\n",
       "                var nbb_unformatted_code = \"%load_ext nb_black\";\n",
       "                var nbb_formatted_code = \"%load_ext nb_black\";\n",
       "                var nbb_cells = Jupyter.notebook.get_cells();\n",
       "                for (var i = 0; i < nbb_cells.length; ++i) {\n",
       "                    if (nbb_cells[i].input_prompt_number == nbb_cell_id) {\n",
       "                        if (nbb_cells[i].get_text() == nbb_unformatted_code) {\n",
       "                             nbb_cells[i].set_text(nbb_formatted_code);\n",
       "                        }\n",
       "                        break;\n",
       "                    }\n",
       "                }\n",
       "            }, 500);\n",
       "            "
      ],
      "text/plain": [
       "<IPython.core.display.Javascript object>"
      ]
     },
     "metadata": {},
     "output_type": "display_data"
    }
   ],
   "source": [
    "%load_ext nb_black"
   ]
  },
  {
   "cell_type": "code",
   "execution_count": 3,
   "id": "c6888cd5",
   "metadata": {},
   "outputs": [
    {
     "data": {
      "application/javascript": [
       "\n",
       "            setTimeout(function() {\n",
       "                var nbb_cell_id = 3;\n",
       "                var nbb_unformatted_code = \"# Basics\\nimport tensorflow as tf\\nimport xarray as xr\\n\\n# Helpful\\nimport tqdm\\n\\n# Visualization\\nimport matplotlib.pyplot as plt\\n\\n# My Methods\\nfrom src.utils.CRPS import *  # CRPS metrics\\nfrom src.utils.data_split import *  # Splitting data into X and y\\nfrom src.utils.drn_make_X_array import *  # Import make train array functions (make_X_array)\\nfrom src.models.EMOS import *  # EMOS implementation\\nfrom src.models.EMOS_global.EMOS_global_load_score import *  # Load EMOS_global_scores\\nfrom src.models.EMOS_global.EMOS_global_load_model import *  # Load EMOS_global_models\\nimport data.raw.load_data_raw as ldr  # Load raw data\\nimport data.processed.load_data_processed as ldp  # Load processed data normed\\nimport data.processed.load_data_processed_denormed as ldpd  # Load processed data denormed\\nfrom src.models.CRPS_baseline.CRPS_load import *  # Load CRPS scores\";\n",
       "                var nbb_formatted_code = \"# Basics\\nimport tensorflow as tf\\nimport xarray as xr\\n\\n# Helpful\\nimport tqdm\\n\\n# Visualization\\nimport matplotlib.pyplot as plt\\n\\n# My Methods\\nfrom src.utils.CRPS import *  # CRPS metrics\\nfrom src.utils.data_split import *  # Splitting data into X and y\\nfrom src.utils.drn_make_X_array import *  # Import make train array functions (make_X_array)\\nfrom src.models.EMOS import *  # EMOS implementation\\nfrom src.models.EMOS_global.EMOS_global_load_score import *  # Load EMOS_global_scores\\nfrom src.models.EMOS_global.EMOS_global_load_model import *  # Load EMOS_global_models\\nimport data.raw.load_data_raw as ldr  # Load raw data\\nimport data.processed.load_data_processed as ldp  # Load processed data normed\\nimport data.processed.load_data_processed_denormed as ldpd  # Load processed data denormed\\nfrom src.models.CRPS_baseline.CRPS_load import *  # Load CRPS scores\";\n",
       "                var nbb_cells = Jupyter.notebook.get_cells();\n",
       "                for (var i = 0; i < nbb_cells.length; ++i) {\n",
       "                    if (nbb_cells[i].input_prompt_number == nbb_cell_id) {\n",
       "                        if (nbb_cells[i].get_text() == nbb_unformatted_code) {\n",
       "                             nbb_cells[i].set_text(nbb_formatted_code);\n",
       "                        }\n",
       "                        break;\n",
       "                    }\n",
       "                }\n",
       "            }, 500);\n",
       "            "
      ],
      "text/plain": [
       "<IPython.core.display.Javascript object>"
      ]
     },
     "metadata": {},
     "output_type": "display_data"
    }
   ],
   "source": [
    "# Basics\n",
    "import tensorflow as tf\n",
    "import xarray as xr\n",
    "\n",
    "# Helpful\n",
    "import tqdm\n",
    "\n",
    "# Visualization\n",
    "import matplotlib.pyplot as plt\n",
    "\n",
    "# My Methods\n",
    "from src.utils.CRPS import *  # CRPS metrics\n",
    "from src.utils.data_split import *  # Splitting data into X and y\n",
    "from src.utils.drn_make_X_array import *  # Import make train array functions (make_X_array)\n",
    "from src.models.EMOS import *  # EMOS implementation\n",
    "from src.models.EMOS_global.EMOS_global_load_score import *  # Load EMOS_global_scores\n",
    "from src.models.EMOS_global.EMOS_global_load_model import *  # Load EMOS_global_models\n",
    "import data.raw.load_data_raw as ldr  # Load raw data\n",
    "import data.processed.load_data_processed as ldp  # Load processed data normed\n",
    "import data.processed.load_data_processed_denormed as ldpd  # Load processed data denormed\n",
    "from src.models.CRPS_baseline.CRPS_load import *  # Load CRPS scores"
   ]
  },
  {
   "cell_type": "markdown",
   "id": "03e076c0",
   "metadata": {},
   "source": [
    "### 0. Set up"
   ]
  },
  {
   "cell_type": "code",
   "execution_count": 4,
   "id": "29f138f3",
   "metadata": {},
   "outputs": [
    {
     "data": {
      "application/javascript": [
       "\n",
       "            setTimeout(function() {\n",
       "                var nbb_cell_id = 4;\n",
       "                var nbb_unformatted_code = \"lead_time = 0\";\n",
       "                var nbb_formatted_code = \"lead_time = 0\";\n",
       "                var nbb_cells = Jupyter.notebook.get_cells();\n",
       "                for (var i = 0; i < nbb_cells.length; ++i) {\n",
       "                    if (nbb_cells[i].input_prompt_number == nbb_cell_id) {\n",
       "                        if (nbb_cells[i].get_text() == nbb_unformatted_code) {\n",
       "                             nbb_cells[i].set_text(nbb_formatted_code);\n",
       "                        }\n",
       "                        break;\n",
       "                    }\n",
       "                }\n",
       "            }, 500);\n",
       "            "
      ],
      "text/plain": [
       "<IPython.core.display.Javascript object>"
      ]
     },
     "metadata": {},
     "output_type": "display_data"
    }
   ],
   "source": [
    "lead_time = 0"
   ]
  },
  {
   "cell_type": "markdown",
   "id": "373f9101",
   "metadata": {},
   "source": [
    "### 1. Load Data"
   ]
  },
  {
   "cell_type": "code",
   "execution_count": 5,
   "id": "9330915d",
   "metadata": {},
   "outputs": [
    {
     "data": {
      "application/javascript": [
       "\n",
       "            setTimeout(function() {\n",
       "                var nbb_cell_id = 5;\n",
       "                var nbb_unformatted_code = \"dat_train_denorm = ldpd.load_data_all_train_proc_denorm()\\ndat_test_denorm = ldpd.load_data_all_test_proc_denorm()\";\n",
       "                var nbb_formatted_code = \"dat_train_denorm = ldpd.load_data_all_train_proc_denorm()\\ndat_test_denorm = ldpd.load_data_all_test_proc_denorm()\";\n",
       "                var nbb_cells = Jupyter.notebook.get_cells();\n",
       "                for (var i = 0; i < nbb_cells.length; ++i) {\n",
       "                    if (nbb_cells[i].input_prompt_number == nbb_cell_id) {\n",
       "                        if (nbb_cells[i].get_text() == nbb_unformatted_code) {\n",
       "                             nbb_cells[i].set_text(nbb_formatted_code);\n",
       "                        }\n",
       "                        break;\n",
       "                    }\n",
       "                }\n",
       "            }, 500);\n",
       "            "
      ],
      "text/plain": [
       "<IPython.core.display.Javascript object>"
      ]
     },
     "metadata": {},
     "output_type": "display_data"
    }
   ],
   "source": [
    "dat_train_denorm = ldpd.load_data_all_train_proc_denorm()\n",
    "dat_test_denorm = ldpd.load_data_all_test_proc_denorm()"
   ]
  },
  {
   "cell_type": "markdown",
   "id": "35f7ff60",
   "metadata": {},
   "source": [
    "### 2. Data Split"
   ]
  },
  {
   "cell_type": "code",
   "execution_count": 6,
   "id": "610aff89",
   "metadata": {
    "scrolled": false
   },
   "outputs": [
    {
     "data": {
      "application/javascript": [
       "\n",
       "            setTimeout(function() {\n",
       "                var nbb_cell_id = 6;\n",
       "                var nbb_unformatted_code = \"dat_X_lead_all_denorm, dat_y_lead_all_denorm = split_var_lead(dat_train_denorm)\";\n",
       "                var nbb_formatted_code = \"dat_X_lead_all_denorm, dat_y_lead_all_denorm = split_var_lead(dat_train_denorm)\";\n",
       "                var nbb_cells = Jupyter.notebook.get_cells();\n",
       "                for (var i = 0; i < nbb_cells.length; ++i) {\n",
       "                    if (nbb_cells[i].input_prompt_number == nbb_cell_id) {\n",
       "                        if (nbb_cells[i].get_text() == nbb_unformatted_code) {\n",
       "                             nbb_cells[i].set_text(nbb_formatted_code);\n",
       "                        }\n",
       "                        break;\n",
       "                    }\n",
       "                }\n",
       "            }, 500);\n",
       "            "
      ],
      "text/plain": [
       "<IPython.core.display.Javascript object>"
      ]
     },
     "metadata": {},
     "output_type": "display_data"
    }
   ],
   "source": [
    "dat_X_lead_all_denorm, dat_y_lead_all_denorm = split_var_lead(dat_train_denorm)"
   ]
  },
  {
   "cell_type": "markdown",
   "id": "07cd3042",
   "metadata": {},
   "source": [
    "### 3. Data preparation"
   ]
  },
  {
   "cell_type": "markdown",
   "id": "f8640d0c",
   "metadata": {},
   "source": [
    "Idea: X_train constructed by flattening the value arrays and concatenating them together, so that in the end I get the shape (n, n_variables), keep in mind we use both mean and std of each variabel for training. So in total we will have 10 / 12, depending on which variable. Important, for drn we'll also need the embeddings, hence the idea to keep another flattened array with shape (n, 1) with the complementing embedding (1 - 15600)."
   ]
  },
  {
   "cell_type": "code",
   "execution_count": 8,
   "id": "2f2a700f",
   "metadata": {},
   "outputs": [
    {
     "data": {
      "application/javascript": [
       "\n",
       "            setTimeout(function() {\n",
       "                var nbb_cell_id = 8;\n",
       "                var nbb_unformatted_code = \"drn_X_train_0_array, drn_embedding_0_array = make_X_array(dat_X_lead_all_denorm, 0)\";\n",
       "                var nbb_formatted_code = \"drn_X_train_0_array, drn_embedding_0_array = make_X_array(dat_X_lead_all_denorm, 0)\";\n",
       "                var nbb_cells = Jupyter.notebook.get_cells();\n",
       "                for (var i = 0; i < nbb_cells.length; ++i) {\n",
       "                    if (nbb_cells[i].input_prompt_number == nbb_cell_id) {\n",
       "                        if (nbb_cells[i].get_text() == nbb_unformatted_code) {\n",
       "                             nbb_cells[i].set_text(nbb_formatted_code);\n",
       "                        }\n",
       "                        break;\n",
       "                    }\n",
       "                }\n",
       "            }, 500);\n",
       "            "
      ],
      "text/plain": [
       "<IPython.core.display.Javascript object>"
      ]
     },
     "metadata": {},
     "output_type": "display_data"
    }
   ],
   "source": [
    "drn_X_train_0_array, drn_embedding_0_array = make_X_array(dat_X_lead_all_denorm, 0)"
   ]
  },
  {
   "cell_type": "code",
   "execution_count": 9,
   "id": "ce568225",
   "metadata": {},
   "outputs": [
    {
     "data": {
      "text/plain": [
       "(22292400, 12)"
      ]
     },
     "execution_count": 9,
     "metadata": {},
     "output_type": "execute_result"
    },
    {
     "data": {
      "application/javascript": [
       "\n",
       "            setTimeout(function() {\n",
       "                var nbb_cell_id = 9;\n",
       "                var nbb_unformatted_code = \"drn_X_train_0_array.shape\";\n",
       "                var nbb_formatted_code = \"drn_X_train_0_array.shape\";\n",
       "                var nbb_cells = Jupyter.notebook.get_cells();\n",
       "                for (var i = 0; i < nbb_cells.length; ++i) {\n",
       "                    if (nbb_cells[i].input_prompt_number == nbb_cell_id) {\n",
       "                        if (nbb_cells[i].get_text() == nbb_unformatted_code) {\n",
       "                             nbb_cells[i].set_text(nbb_formatted_code);\n",
       "                        }\n",
       "                        break;\n",
       "                    }\n",
       "                }\n",
       "            }, 500);\n",
       "            "
      ],
      "text/plain": [
       "<IPython.core.display.Javascript object>"
      ]
     },
     "metadata": {},
     "output_type": "display_data"
    }
   ],
   "source": [
    "drn_X_train_0_array.shape"
   ]
  },
  {
   "cell_type": "code",
   "execution_count": null,
   "id": "4def7653",
   "metadata": {},
   "outputs": [],
   "source": []
  },
  {
   "cell_type": "code",
   "execution_count": null,
   "id": "a8b088fb",
   "metadata": {},
   "outputs": [],
   "source": []
  },
  {
   "cell_type": "code",
   "execution_count": null,
   "id": "eac353ad",
   "metadata": {},
   "outputs": [],
   "source": []
  },
  {
   "cell_type": "code",
   "execution_count": null,
   "id": "cc70cefa",
   "metadata": {},
   "outputs": [],
   "source": []
  },
  {
   "cell_type": "code",
   "execution_count": null,
   "id": "7d446ec7",
   "metadata": {},
   "outputs": [],
   "source": []
  },
  {
   "cell_type": "code",
   "execution_count": null,
   "id": "15e1b3b0",
   "metadata": {},
   "outputs": [],
   "source": []
  },
  {
   "cell_type": "code",
   "execution_count": null,
   "id": "6c3e3626",
   "metadata": {},
   "outputs": [],
   "source": []
  },
  {
   "cell_type": "code",
   "execution_count": null,
   "id": "b825f42e",
   "metadata": {},
   "outputs": [],
   "source": []
  },
  {
   "cell_type": "code",
   "execution_count": null,
   "id": "ef83ffe1",
   "metadata": {},
   "outputs": [],
   "source": []
  },
  {
   "cell_type": "code",
   "execution_count": null,
   "id": "b58e322a",
   "metadata": {},
   "outputs": [],
   "source": []
  },
  {
   "cell_type": "code",
   "execution_count": null,
   "id": "90f1b2db",
   "metadata": {},
   "outputs": [],
   "source": []
  },
  {
   "cell_type": "code",
   "execution_count": null,
   "id": "3c967e27",
   "metadata": {},
   "outputs": [],
   "source": []
  },
  {
   "cell_type": "code",
   "execution_count": null,
   "id": "5e82a934",
   "metadata": {},
   "outputs": [],
   "source": []
  },
  {
   "cell_type": "code",
   "execution_count": 45,
   "id": "18d18cbd",
   "metadata": {},
   "outputs": [
    {
     "data": {
      "application/javascript": [
       "\n",
       "            setTimeout(function() {\n",
       "                var nbb_cell_id = 45;\n",
       "                var nbb_unformatted_code = \"def build_emb_model(\\n    n_features,\\n    n_outputs,\\n    hidden_nodes,\\n    emb_size,\\n    max_id,\\n    compile=False,\\n    optimizer=\\\"adam\\\",\\n    lr=0.01,\\n    loss=crps_cost_function,\\n    activation=\\\"relu\\\",\\n    reg=None,\\n):\\n    \\\"\\\"\\\"\\n\\n    Args:\\n        n_features: Number of features\\n        n_outputs: Number of outputs\\n        hidden_nodes: int or list of hidden nodes\\n        emb_size: Embedding size\\n        max_id: Max embedding ID\\n        compile: If true, compile model\\n        optimizer: Name of optimizer\\n        lr: learning rate\\n        loss: loss function\\n        activation: Activation function for hidden layer\\n\\n    Returns:\\n        model: Keras model\\n    \\\"\\\"\\\"\\n    if type(hidden_nodes) is not list:\\n        hidden_nodes = [hidden_nodes]\\n\\n    features_in = Input(shape=(n_features,))\\n    id_in = Input(shape=(1,))\\n    emb = Embedding(max_id + 1, emb_size)(id_in)\\n    emb = Flatten()(emb)\\n    x = Concatenate()([features_in, emb])\\n    for h in hidden_nodes:\\n        x = Dense(h, activation=activation, kernel_regularizer=reg)(x)\\n    x = Dense(n_outputs, activation=\\\"linear\\\", kernel_regularizer=reg)(x)\\n    model = Model(inputs=[features_in, id_in], outputs=x)\\n\\n    if compile:\\n        opt = keras.optimizers.__dict__[optimizer](lr=lr)\\n        model.compile(optimizer=opt, loss=loss)\\n    return model\";\n",
       "                var nbb_formatted_code = \"def build_emb_model(\\n    n_features,\\n    n_outputs,\\n    hidden_nodes,\\n    emb_size,\\n    max_id,\\n    compile=False,\\n    optimizer=\\\"adam\\\",\\n    lr=0.01,\\n    loss=crps_cost_function,\\n    activation=\\\"relu\\\",\\n    reg=None,\\n):\\n    \\\"\\\"\\\"\\n\\n    Args:\\n        n_features: Number of features\\n        n_outputs: Number of outputs\\n        hidden_nodes: int or list of hidden nodes\\n        emb_size: Embedding size\\n        max_id: Max embedding ID\\n        compile: If true, compile model\\n        optimizer: Name of optimizer\\n        lr: learning rate\\n        loss: loss function\\n        activation: Activation function for hidden layer\\n\\n    Returns:\\n        model: Keras model\\n    \\\"\\\"\\\"\\n    if type(hidden_nodes) is not list:\\n        hidden_nodes = [hidden_nodes]\\n\\n    features_in = Input(shape=(n_features,))\\n    id_in = Input(shape=(1,))\\n    emb = Embedding(max_id + 1, emb_size)(id_in)\\n    emb = Flatten()(emb)\\n    x = Concatenate()([features_in, emb])\\n    for h in hidden_nodes:\\n        x = Dense(h, activation=activation, kernel_regularizer=reg)(x)\\n    x = Dense(n_outputs, activation=\\\"linear\\\", kernel_regularizer=reg)(x)\\n    model = Model(inputs=[features_in, id_in], outputs=x)\\n\\n    if compile:\\n        opt = keras.optimizers.__dict__[optimizer](lr=lr)\\n        model.compile(optimizer=opt, loss=loss)\\n    return model\";\n",
       "                var nbb_cells = Jupyter.notebook.get_cells();\n",
       "                for (var i = 0; i < nbb_cells.length; ++i) {\n",
       "                    if (nbb_cells[i].input_prompt_number == nbb_cell_id) {\n",
       "                        if (nbb_cells[i].get_text() == nbb_unformatted_code) {\n",
       "                             nbb_cells[i].set_text(nbb_formatted_code);\n",
       "                        }\n",
       "                        break;\n",
       "                    }\n",
       "                }\n",
       "            }, 500);\n",
       "            "
      ],
      "text/plain": [
       "<IPython.core.display.Javascript object>"
      ]
     },
     "metadata": {},
     "output_type": "display_data"
    }
   ],
   "source": [
    "def build_emb_model(\n",
    "    n_features,\n",
    "    n_outputs,\n",
    "    hidden_nodes,\n",
    "    emb_size,\n",
    "    max_id,\n",
    "    compile=False,\n",
    "    optimizer=\"adam\",\n",
    "    lr=0.01,\n",
    "    loss=crps_cost_function,\n",
    "    activation=\"relu\",\n",
    "    reg=None,\n",
    "):\n",
    "    \"\"\"\n",
    "\n",
    "    Args:\n",
    "        n_features: Number of features\n",
    "        n_outputs: Number of outputs\n",
    "        hidden_nodes: int or list of hidden nodes\n",
    "        emb_size: Embedding size\n",
    "        max_id: Max embedding ID\n",
    "        compile: If true, compile model\n",
    "        optimizer: Name of optimizer\n",
    "        lr: learning rate\n",
    "        loss: loss function\n",
    "        activation: Activation function for hidden layer\n",
    "\n",
    "    Returns:\n",
    "        model: Keras model\n",
    "    \"\"\"\n",
    "    if type(hidden_nodes) is not list:\n",
    "        hidden_nodes = [hidden_nodes]\n",
    "\n",
    "    features_in = Input(shape=(n_features,))\n",
    "    id_in = Input(shape=(1,))\n",
    "    emb = Embedding(max_id + 1, emb_size)(id_in)\n",
    "    emb = Flatten()(emb)\n",
    "    x = Concatenate()([features_in, emb])\n",
    "    for h in hidden_nodes:\n",
    "        x = Dense(h, activation=activation, kernel_regularizer=reg)(x)\n",
    "    x = Dense(n_outputs, activation=\"linear\", kernel_regularizer=reg)(x)\n",
    "    model = Model(inputs=[features_in, id_in], outputs=x)\n",
    "\n",
    "    if compile:\n",
    "        opt = keras.optimizers.__dict__[optimizer](lr=lr)\n",
    "        model.compile(optimizer=opt, loss=loss)\n",
    "    return model"
   ]
  },
  {
   "cell_type": "code",
   "execution_count": null,
   "id": "13fd1500",
   "metadata": {},
   "outputs": [],
   "source": []
  },
  {
   "cell_type": "code",
   "execution_count": null,
   "id": "f19d4009",
   "metadata": {},
   "outputs": [],
   "source": []
  },
  {
   "cell_type": "code",
   "execution_count": null,
   "id": "ba794e90",
   "metadata": {},
   "outputs": [],
   "source": []
  },
  {
   "cell_type": "code",
   "execution_count": null,
   "id": "881ef131",
   "metadata": {},
   "outputs": [],
   "source": []
  }
 ],
 "metadata": {
  "kernelspec": {
   "display_name": "Python 3 (ipykernel)",
   "language": "python",
   "name": "python3"
  },
  "language_info": {
   "codemirror_mode": {
    "name": "ipython",
    "version": 3
   },
   "file_extension": ".py",
   "mimetype": "text/x-python",
   "name": "python",
   "nbconvert_exporter": "python",
   "pygments_lexer": "ipython3",
   "version": "3.9.7"
  }
 },
 "nbformat": 4,
 "nbformat_minor": 5
}
