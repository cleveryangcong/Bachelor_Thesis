{
 "cells": [
  {
   "cell_type": "code",
   "execution_count": 1,
   "id": "880693cb",
   "metadata": {},
   "outputs": [
    {
     "data": {
      "application/javascript": [
       "\n",
       "            setTimeout(function() {\n",
       "                var nbb_cell_id = 1;\n",
       "                var nbb_unformatted_code = \"%load_ext nb_black\";\n",
       "                var nbb_formatted_code = \"%load_ext nb_black\";\n",
       "                var nbb_cells = Jupyter.notebook.get_cells();\n",
       "                for (var i = 0; i < nbb_cells.length; ++i) {\n",
       "                    if (nbb_cells[i].input_prompt_number == nbb_cell_id) {\n",
       "                        if (nbb_cells[i].get_text() == nbb_unformatted_code) {\n",
       "                             nbb_cells[i].set_text(nbb_formatted_code);\n",
       "                        }\n",
       "                        break;\n",
       "                    }\n",
       "                }\n",
       "            }, 500);\n",
       "            "
      ],
      "text/plain": [
       "<IPython.core.display.Javascript object>"
      ]
     },
     "metadata": {},
     "output_type": "display_data"
    }
   ],
   "source": [
    "%load_ext nb_black"
   ]
  },
  {
   "cell_type": "code",
   "execution_count": 3,
   "id": "c6888cd5",
   "metadata": {},
   "outputs": [
    {
     "data": {
      "application/javascript": [
       "\n",
       "            setTimeout(function() {\n",
       "                var nbb_cell_id = 3;\n",
       "                var nbb_unformatted_code = \"# Basics\\nimport tensorflow as tf\\nimport xarray as xr\\n\\n# Helpful\\nimport tqdm\\n\\n# Visualization\\nimport matplotlib.pyplot as plt\\n\\n# My Methods\\nfrom src.utils.CRPS import *  # CRPS metrics\\nfrom src.utils.data_split import *  # Splitting data into X and y\\nfrom src.utils.drn_make_X_array import *  # Import make train array functions (make_X_array)\\nfrom src.models.EMOS import *  # EMOS implementation\\nfrom src.models.EMOS_global.EMOS_global_load_score import *  # Load EMOS_global_scores\\nfrom src.models.EMOS_global.EMOS_global_load_model import *  # Load EMOS_global_models\\nimport data.raw.load_data_raw as ldr  # Load raw data\\nimport data.processed.load_data_processed as ldp  # Load processed data normed\\nimport data.processed.load_data_processed_denormed as ldpd  # Load processed data denormed\\nfrom src.models.CRPS_baseline.CRPS_load import *  # Load CRPS scores\";\n",
       "                var nbb_formatted_code = \"# Basics\\nimport tensorflow as tf\\nimport xarray as xr\\n\\n# Helpful\\nimport tqdm\\n\\n# Visualization\\nimport matplotlib.pyplot as plt\\n\\n# My Methods\\nfrom src.utils.CRPS import *  # CRPS metrics\\nfrom src.utils.data_split import *  # Splitting data into X and y\\nfrom src.utils.drn_make_X_array import *  # Import make train array functions (make_X_array)\\nfrom src.models.EMOS import *  # EMOS implementation\\nfrom src.models.EMOS_global.EMOS_global_load_score import *  # Load EMOS_global_scores\\nfrom src.models.EMOS_global.EMOS_global_load_model import *  # Load EMOS_global_models\\nimport data.raw.load_data_raw as ldr  # Load raw data\\nimport data.processed.load_data_processed as ldp  # Load processed data normed\\nimport data.processed.load_data_processed_denormed as ldpd  # Load processed data denormed\\nfrom src.models.CRPS_baseline.CRPS_load import *  # Load CRPS scores\";\n",
       "                var nbb_cells = Jupyter.notebook.get_cells();\n",
       "                for (var i = 0; i < nbb_cells.length; ++i) {\n",
       "                    if (nbb_cells[i].input_prompt_number == nbb_cell_id) {\n",
       "                        if (nbb_cells[i].get_text() == nbb_unformatted_code) {\n",
       "                             nbb_cells[i].set_text(nbb_formatted_code);\n",
       "                        }\n",
       "                        break;\n",
       "                    }\n",
       "                }\n",
       "            }, 500);\n",
       "            "
      ],
      "text/plain": [
       "<IPython.core.display.Javascript object>"
      ]
     },
     "metadata": {},
     "output_type": "display_data"
    }
   ],
   "source": [
    "# Basics\n",
    "import tensorflow as tf\n",
    "import xarray as xr\n",
    "\n",
    "# Helpful\n",
    "import tqdm\n",
    "\n",
    "# Visualization\n",
    "import matplotlib.pyplot as plt\n",
    "\n",
    "# My Methods\n",
    "from src.utils.CRPS import *  # CRPS metrics\n",
    "from src.utils.data_split import *  # Splitting data into X and y\n",
    "from src.utils.drn_make_X_array import *  # Import make train array functions (make_X_array)\n",
    "from src.models.EMOS import *  # EMOS implementation\n",
    "from src.models.EMOS_global.EMOS_global_load_score import *  # Load EMOS_global_scores\n",
    "from src.models.EMOS_global.EMOS_global_load_model import *  # Load EMOS_global_models\n",
    "import data.raw.load_data_raw as ldr  # Load raw data\n",
    "import data.processed.load_data_processed as ldp  # Load processed data normed\n",
    "import data.processed.load_data_processed_denormed as ldpd  # Load processed data denormed\n",
    "from src.models.CRPS_baseline.CRPS_load import *  # Load CRPS scores"
   ]
  },
  {
   "cell_type": "markdown",
   "id": "82e923ca",
   "metadata": {},
   "source": [
    "### 0. Set up"
   ]
  },
  {
   "cell_type": "code",
   "execution_count": 4,
   "id": "9ff473af",
   "metadata": {},
   "outputs": [
    {
     "data": {
      "application/javascript": [
       "\n",
       "            setTimeout(function() {\n",
       "                var nbb_cell_id = 4;\n",
       "                var nbb_unformatted_code = \"lead_time = 0\";\n",
       "                var nbb_formatted_code = \"lead_time = 0\";\n",
       "                var nbb_cells = Jupyter.notebook.get_cells();\n",
       "                for (var i = 0; i < nbb_cells.length; ++i) {\n",
       "                    if (nbb_cells[i].input_prompt_number == nbb_cell_id) {\n",
       "                        if (nbb_cells[i].get_text() == nbb_unformatted_code) {\n",
       "                             nbb_cells[i].set_text(nbb_formatted_code);\n",
       "                        }\n",
       "                        break;\n",
       "                    }\n",
       "                }\n",
       "            }, 500);\n",
       "            "
      ],
      "text/plain": [
       "<IPython.core.display.Javascript object>"
      ]
     },
     "metadata": {},
     "output_type": "display_data"
    }
   ],
   "source": [
    "lead_time = 0"
   ]
  },
  {
   "cell_type": "markdown",
   "id": "373f9101",
   "metadata": {},
   "source": [
    "### 1. Load Data"
   ]
  },
  {
   "cell_type": "code",
   "execution_count": 5,
   "id": "9330915d",
   "metadata": {},
   "outputs": [
    {
     "data": {
      "application/javascript": [
       "\n",
       "            setTimeout(function() {\n",
       "                var nbb_cell_id = 5;\n",
       "                var nbb_unformatted_code = \"dat_train_denorm = ldpd.load_data_all_train_proc_denorm()\\ndat_test_denorm = ldpd.load_data_all_test_proc_denorm()\";\n",
       "                var nbb_formatted_code = \"dat_train_denorm = ldpd.load_data_all_train_proc_denorm()\\ndat_test_denorm = ldpd.load_data_all_test_proc_denorm()\";\n",
       "                var nbb_cells = Jupyter.notebook.get_cells();\n",
       "                for (var i = 0; i < nbb_cells.length; ++i) {\n",
       "                    if (nbb_cells[i].input_prompt_number == nbb_cell_id) {\n",
       "                        if (nbb_cells[i].get_text() == nbb_unformatted_code) {\n",
       "                             nbb_cells[i].set_text(nbb_formatted_code);\n",
       "                        }\n",
       "                        break;\n",
       "                    }\n",
       "                }\n",
       "            }, 500);\n",
       "            "
      ],
      "text/plain": [
       "<IPython.core.display.Javascript object>"
      ]
     },
     "metadata": {},
     "output_type": "display_data"
    }
   ],
   "source": [
    "dat_train_denorm = ldpd.load_data_all_train_proc_denorm()\n",
    "dat_test_denorm = ldpd.load_data_all_test_proc_denorm()"
   ]
  },
  {
   "cell_type": "markdown",
   "id": "35f7ff60",
   "metadata": {},
   "source": [
    "### 2. Data Split"
   ]
  },
  {
   "cell_type": "code",
   "execution_count": 6,
   "id": "610aff89",
   "metadata": {
    "scrolled": false
   },
   "outputs": [
    {
     "data": {
      "application/javascript": [
       "\n",
       "            setTimeout(function() {\n",
       "                var nbb_cell_id = 6;\n",
       "                var nbb_unformatted_code = \"dat_X_lead_all_denorm, dat_y_lead_all_denorm = split_var_lead(dat_train_denorm)\";\n",
       "                var nbb_formatted_code = \"dat_X_lead_all_denorm, dat_y_lead_all_denorm = split_var_lead(dat_train_denorm)\";\n",
       "                var nbb_cells = Jupyter.notebook.get_cells();\n",
       "                for (var i = 0; i < nbb_cells.length; ++i) {\n",
       "                    if (nbb_cells[i].input_prompt_number == nbb_cell_id) {\n",
       "                        if (nbb_cells[i].get_text() == nbb_unformatted_code) {\n",
       "                             nbb_cells[i].set_text(nbb_formatted_code);\n",
       "                        }\n",
       "                        break;\n",
       "                    }\n",
       "                }\n",
       "            }, 500);\n",
       "            "
      ],
      "text/plain": [
       "<IPython.core.display.Javascript object>"
      ]
     },
     "metadata": {},
     "output_type": "display_data"
    }
   ],
   "source": [
    "dat_X_lead_all_denorm, dat_y_lead_all_denorm = split_var_lead(dat_train_denorm)"
   ]
  },
  {
   "cell_type": "markdown",
   "id": "07cd3042",
   "metadata": {},
   "source": [
    "### 3. Data preparation"
   ]
  },
  {
   "cell_type": "markdown",
   "id": "f8640d0c",
   "metadata": {},
   "source": [
    "Idea: X_train constructed by flattening the value arrays and concatenating them together, so that in the end I get the shape (n, n_variables), keep in mind we use both mean and std of each variabel for training. So in total we will have 10 / 12, depending on which variable. Important, for drn we'll also need the embeddings, hence the idea to keep another flattened array with shape (n, 1) with the complementing embedding (1 - 15600)."
   ]
  },
  {
   "cell_type": "code",
   "execution_count": 7,
   "id": "9d9c4bde",
   "metadata": {},
   "outputs": [
    {
     "ename": "KeyboardInterrupt",
     "evalue": "",
     "output_type": "error",
     "traceback": [
      "\u001b[0;31m---------------------------------------------------------------------------\u001b[0m",
      "\u001b[0;31mKeyboardInterrupt\u001b[0m                         Traceback (most recent call last)",
      "\u001b[0;32m/tmp/ipykernel_169731/2484527987.py\u001b[0m in \u001b[0;36m<module>\u001b[0;34m\u001b[0m\n\u001b[0;32m----> 1\u001b[0;31m \u001b[0mdrn_X_train_0_array\u001b[0m \u001b[0;34m=\u001b[0m \u001b[0mmake_X_array\u001b[0m\u001b[0;34m(\u001b[0m\u001b[0mdat_X_lead_all_denorm\u001b[0m\u001b[0;34m,\u001b[0m \u001b[0;36m0\u001b[0m\u001b[0;34m)\u001b[0m\u001b[0;34m\u001b[0m\u001b[0;34m\u001b[0m\u001b[0m\n\u001b[0m",
      "\u001b[0;32m~/BA_CH_EN/src/utils/drn_make_X_array.py\u001b[0m in \u001b[0;36mmake_X_array\u001b[0;34m(X_array_all_denorm, lead_time)\u001b[0m\n\u001b[1;32m     18\u001b[0m     \u001b[0;32mfor\u001b[0m \u001b[0mvar\u001b[0m \u001b[0;32min\u001b[0m \u001b[0mrange\u001b[0m\u001b[0;34m(\u001b[0m\u001b[0;36m6\u001b[0m\u001b[0;34m)\u001b[0m\u001b[0;34m:\u001b[0m\u001b[0;34m\u001b[0m\u001b[0;34m\u001b[0m\u001b[0m\n\u001b[1;32m     19\u001b[0m         \u001b[0;32mfor\u001b[0m \u001b[0mmean_std\u001b[0m \u001b[0;32min\u001b[0m \u001b[0mrange\u001b[0m\u001b[0;34m(\u001b[0m\u001b[0;36m2\u001b[0m\u001b[0;34m)\u001b[0m\u001b[0;34m:\u001b[0m\u001b[0;34m\u001b[0m\u001b[0;34m\u001b[0m\u001b[0m\n\u001b[0;32m---> 20\u001b[0;31m             X_train_part, embedding = flatten_with_grid_ids(\n\u001b[0m\u001b[1;32m     21\u001b[0m                 \u001b[0mX_array_all_denorm\u001b[0m\u001b[0;34m[\u001b[0m\u001b[0mvar\u001b[0m\u001b[0;34m]\u001b[0m\u001b[0;34m[\u001b[0m\u001b[0mlead_time\u001b[0m\u001b[0;34m]\u001b[0m\u001b[0;34m.\u001b[0m\u001b[0misel\u001b[0m\u001b[0;34m(\u001b[0m\u001b[0mmean_std\u001b[0m\u001b[0;34m=\u001b[0m\u001b[0mmean_std\u001b[0m\u001b[0;34m)\u001b[0m\u001b[0;34m\u001b[0m\u001b[0;34m\u001b[0m\u001b[0m\n\u001b[1;32m     22\u001b[0m             )\n",
      "\u001b[0;32m~/BA_CH_EN/src/utils/drn_make_X_array.py\u001b[0m in \u001b[0;36mflatten_with_grid_ids\u001b[0;34m(da)\u001b[0m\n\u001b[1;32m     57\u001b[0m \u001b[0;34m\u001b[0m\u001b[0m\n\u001b[1;32m     58\u001b[0m     \u001b[0;31m# Repeat the 2D grid ID array along the other dimensions to match the shape of the DataArray\u001b[0m\u001b[0;34m\u001b[0m\u001b[0;34m\u001b[0m\u001b[0m\n\u001b[0;32m---> 59\u001b[0;31m     \u001b[0mgrid_id_nd\u001b[0m \u001b[0;34m=\u001b[0m \u001b[0mnp\u001b[0m\u001b[0;34m.\u001b[0m\u001b[0mrepeat\u001b[0m\u001b[0;34m(\u001b[0m\u001b[0mgrid_id_2d\u001b[0m\u001b[0;34m[\u001b[0m\u001b[0;32mNone\u001b[0m\u001b[0;34m,\u001b[0m \u001b[0;34m:\u001b[0m\u001b[0;34m,\u001b[0m \u001b[0;34m:\u001b[0m\u001b[0;34m]\u001b[0m\u001b[0;34m,\u001b[0m \u001b[0mda\u001b[0m\u001b[0;34m.\u001b[0m\u001b[0msizes\u001b[0m\u001b[0;34m[\u001b[0m\u001b[0;34m\"forecast_date\"\u001b[0m\u001b[0;34m]\u001b[0m\u001b[0;34m,\u001b[0m \u001b[0maxis\u001b[0m\u001b[0;34m=\u001b[0m\u001b[0;36m0\u001b[0m\u001b[0;34m)\u001b[0m\u001b[0;34m\u001b[0m\u001b[0;34m\u001b[0m\u001b[0m\n\u001b[0m\u001b[1;32m     60\u001b[0m \u001b[0;34m\u001b[0m\u001b[0m\n\u001b[1;32m     61\u001b[0m     \u001b[0;31m# Flatten both the DataArray values and the grid ID array\u001b[0m\u001b[0;34m\u001b[0m\u001b[0;34m\u001b[0m\u001b[0m\n",
      "\u001b[0;32m<__array_function__ internals>\u001b[0m in \u001b[0;36mrepeat\u001b[0;34m(*args, **kwargs)\u001b[0m\n",
      "\u001b[0;32m~/.conda/envs/Bach_Del/lib/python3.9/site-packages/numpy/core/fromnumeric.py\u001b[0m in \u001b[0;36mrepeat\u001b[0;34m(a, repeats, axis)\u001b[0m\n\u001b[1;32m    478\u001b[0m \u001b[0;34m\u001b[0m\u001b[0m\n\u001b[1;32m    479\u001b[0m     \"\"\"\n\u001b[0;32m--> 480\u001b[0;31m     \u001b[0;32mreturn\u001b[0m \u001b[0m_wrapfunc\u001b[0m\u001b[0;34m(\u001b[0m\u001b[0ma\u001b[0m\u001b[0;34m,\u001b[0m \u001b[0;34m'repeat'\u001b[0m\u001b[0;34m,\u001b[0m \u001b[0mrepeats\u001b[0m\u001b[0;34m,\u001b[0m \u001b[0maxis\u001b[0m\u001b[0;34m=\u001b[0m\u001b[0maxis\u001b[0m\u001b[0;34m)\u001b[0m\u001b[0;34m\u001b[0m\u001b[0;34m\u001b[0m\u001b[0m\n\u001b[0m\u001b[1;32m    481\u001b[0m \u001b[0;34m\u001b[0m\u001b[0m\n\u001b[1;32m    482\u001b[0m \u001b[0;34m\u001b[0m\u001b[0m\n",
      "\u001b[0;32m~/.conda/envs/Bach_Del/lib/python3.9/site-packages/numpy/core/fromnumeric.py\u001b[0m in \u001b[0;36m_wrapfunc\u001b[0;34m(obj, method, *args, **kwds)\u001b[0m\n\u001b[1;32m     56\u001b[0m \u001b[0;34m\u001b[0m\u001b[0m\n\u001b[1;32m     57\u001b[0m     \u001b[0;32mtry\u001b[0m\u001b[0;34m:\u001b[0m\u001b[0;34m\u001b[0m\u001b[0;34m\u001b[0m\u001b[0m\n\u001b[0;32m---> 58\u001b[0;31m         \u001b[0;32mreturn\u001b[0m \u001b[0mbound\u001b[0m\u001b[0;34m(\u001b[0m\u001b[0;34m*\u001b[0m\u001b[0margs\u001b[0m\u001b[0;34m,\u001b[0m \u001b[0;34m**\u001b[0m\u001b[0mkwds\u001b[0m\u001b[0;34m)\u001b[0m\u001b[0;34m\u001b[0m\u001b[0;34m\u001b[0m\u001b[0m\n\u001b[0m\u001b[1;32m     59\u001b[0m     \u001b[0;32mexcept\u001b[0m \u001b[0mTypeError\u001b[0m\u001b[0;34m:\u001b[0m\u001b[0;34m\u001b[0m\u001b[0;34m\u001b[0m\u001b[0m\n\u001b[1;32m     60\u001b[0m         \u001b[0;31m# A TypeError occurs if the object does have such a method in its\u001b[0m\u001b[0;34m\u001b[0m\u001b[0;34m\u001b[0m\u001b[0m\n",
      "\u001b[0;31mKeyboardInterrupt\u001b[0m: "
     ]
    },
    {
     "data": {
      "application/javascript": [
       "\n",
       "            setTimeout(function() {\n",
       "                var nbb_cell_id = 7;\n",
       "                var nbb_unformatted_code = \"drn_X_train_0_array = make_X_array(dat_X_lead_all_denorm, 0)\";\n",
       "                var nbb_formatted_code = \"drn_X_train_0_array = make_X_array(dat_X_lead_all_denorm, 0)\";\n",
       "                var nbb_cells = Jupyter.notebook.get_cells();\n",
       "                for (var i = 0; i < nbb_cells.length; ++i) {\n",
       "                    if (nbb_cells[i].input_prompt_number == nbb_cell_id) {\n",
       "                        if (nbb_cells[i].get_text() == nbb_unformatted_code) {\n",
       "                             nbb_cells[i].set_text(nbb_formatted_code);\n",
       "                        }\n",
       "                        break;\n",
       "                    }\n",
       "                }\n",
       "            }, 500);\n",
       "            "
      ],
      "text/plain": [
       "<IPython.core.display.Javascript object>"
      ]
     },
     "metadata": {},
     "output_type": "display_data"
    }
   ],
   "source": [
    "drn_X_train_0_array, drn_embe = make_X_array(dat_X_lead_all_denorm, 0)"
   ]
  },
  {
   "cell_type": "code",
   "execution_count": null,
   "id": "5808bab1",
   "metadata": {},
   "outputs": [],
   "source": []
  },
  {
   "cell_type": "code",
   "execution_count": 30,
   "id": "6b858437",
   "metadata": {},
   "outputs": [
    {
     "data": {
      "application/javascript": [
       "\n",
       "            setTimeout(function() {\n",
       "                var nbb_cell_id = 30;\n",
       "                var nbb_unformatted_code = \"def make_X_train_array(X_array_all_denorm, lead_time):\\n    '''\\n    makes a training array with all of the variable mean and std combined, including embedding array\\nArgs:\\n    X_array_all_denorm (nested_list): 6x31, X values for each variable and lead_time\\n    lead_time (int): the lead_time for which to construct the training array (0 - 30)\\nReturns:\\n    result (array): Return array with all X_means and stds combined\\n    embedding (array): embedding array with all embeddings in same order as results\\n    \\n    '''\\n    X_train_lead_denorm_list = []\\n    for var in range(6):\\n        for mean_std in range(2):\\n            X_train_part, embedding = flatten_with_grid_ids(\\n                dat_X_lead_all_denorm[var][lead_time].isel(mean_std=mean_std)\\n            )\\n            X_train_lead_denorm_list.append(X_train_part)\\n\\n    # get length of individual arrays and total count\\n    length = len(X_train_lead_denorm_list[0])\\n    n = len(X_train_lead_denorm_list)\\n\\n    # initialize an empty array of shape (length, n)\\n    result = np.empty((length, n))\\n\\n    # fill the result array\\n    for i, arr in enumerate(X_train_lead_denorm_list):\\n        result[:, i] = arr\\n\\n    return result, embedding\";\n",
       "                var nbb_formatted_code = \"def make_X_train_array(X_array_all_denorm, lead_time):\\n    \\\"\\\"\\\"\\n    makes a training array with all of the variable mean and std combined, including embedding array\\nArgs:\\n    X_array_all_denorm (nested_list): 6x31, X values for each variable and lead_time\\n    lead_time (int): the lead_time for which to construct the training array (0 - 30)\\nReturns:\\n    result (array): Return array with all X_means and stds combined\\n    embedding (array): embedding array with all embeddings in same order as results\\n    \\n    \\\"\\\"\\\"\\n    X_train_lead_denorm_list = []\\n    for var in range(6):\\n        for mean_std in range(2):\\n            X_train_part, embedding = flatten_with_grid_ids(\\n                dat_X_lead_all_denorm[var][lead_time].isel(mean_std=mean_std)\\n            )\\n            X_train_lead_denorm_list.append(X_train_part)\\n\\n    # get length of individual arrays and total count\\n    length = len(X_train_lead_denorm_list[0])\\n    n = len(X_train_lead_denorm_list)\\n\\n    # initialize an empty array of shape (length, n)\\n    result = np.empty((length, n))\\n\\n    # fill the result array\\n    for i, arr in enumerate(X_train_lead_denorm_list):\\n        result[:, i] = arr\\n\\n    return result, embedding\";\n",
       "                var nbb_cells = Jupyter.notebook.get_cells();\n",
       "                for (var i = 0; i < nbb_cells.length; ++i) {\n",
       "                    if (nbb_cells[i].input_prompt_number == nbb_cell_id) {\n",
       "                        if (nbb_cells[i].get_text() == nbb_unformatted_code) {\n",
       "                             nbb_cells[i].set_text(nbb_formatted_code);\n",
       "                        }\n",
       "                        break;\n",
       "                    }\n",
       "                }\n",
       "            }, 500);\n",
       "            "
      ],
      "text/plain": [
       "<IPython.core.display.Javascript object>"
      ]
     },
     "metadata": {},
     "output_type": "display_data"
    }
   ],
   "source": [
    "def make_X_train_array(X_array_all_denorm, lead_time):\n",
    "    \"\"\"\n",
    "    makes a training array with all of the variable mean and std combined, including embedding array\n",
    "Args:\n",
    "    X_array_all_denorm (nested_list): 6x31, X values for each variable and lead_time\n",
    "    lead_time (int): the lead_time for which to construct the training array (0 - 30)\n",
    "Returns:\n",
    "    result (array): Return array with all X_means and stds combined\n",
    "    embedding (array): embedding array with all embeddings in same order as results\n",
    "    \n",
    "    \"\"\"\n",
    "    X_train_lead_denorm_list = []\n",
    "    for var in range(6):\n",
    "        for mean_std in range(2):\n",
    "            X_train_part, embedding = flatten_with_grid_ids(\n",
    "                dat_X_lead_all_denorm[var][lead_time].isel(mean_std=mean_std)\n",
    "            )\n",
    "            X_train_lead_denorm_list.append(X_train_part)\n",
    "\n",
    "    # get length of individual arrays and total count\n",
    "    length = len(X_train_lead_denorm_list[0])\n",
    "    n = len(X_train_lead_denorm_list)\n",
    "\n",
    "    # initialize an empty array of shape (length, n)\n",
    "    result = np.empty((length, n))\n",
    "\n",
    "    # fill the result array\n",
    "    for i, arr in enumerate(X_train_lead_denorm_list):\n",
    "        result[:, i] = arr\n",
    "\n",
    "    return result, embedding"
   ]
  },
  {
   "cell_type": "code",
   "execution_count": null,
   "id": "9e1fcb1d",
   "metadata": {},
   "outputs": [],
   "source": []
  },
  {
   "cell_type": "code",
   "execution_count": null,
   "id": "124627bf",
   "metadata": {},
   "outputs": [],
   "source": []
  },
  {
   "cell_type": "code",
   "execution_count": null,
   "id": "b0c29990",
   "metadata": {},
   "outputs": [],
   "source": []
  },
  {
   "cell_type": "code",
   "execution_count": 14,
   "id": "28db53b8",
   "metadata": {},
   "outputs": [
    {
     "data": {
      "application/javascript": [
       "\n",
       "            setTimeout(function() {\n",
       "                var nbb_cell_id = 14;\n",
       "                var nbb_unformatted_code = \"def flatten_with_grid_ids(da):\\n    \\\"\\\"\\\"\\n    Flatten an xarray DataArray and generate corresponding grid point IDs.\\n    \\n    Args:\\n        da (xarray.DataArray): The DataArray to flatten.\\n        \\n    Returns:\\n        A tuple (flattened_values, grid_ids), where:\\n            - flattened_values (numpy.ndarray): A 1D array with all values from the DataArray.\\n            - grid_ids (numpy.ndarray): A 1D array with the corresponding grid point ID for each value.\\n    \\\"\\\"\\\"\\n    # Get the shapes of the 'lat' and 'lon' dimensions\\n    lat_shape = da.sizes[\\\"lat\\\"]\\n    lon_shape = da.sizes[\\\"lon\\\"]\\n\\n    # Generate a 2D array with the grid point ID for each (lat, lon) pair\\n    grid_id_2d = np.arange(lat_shape * lon_shape).reshape(lat_shape, lon_shape) + 1\\n\\n    # Repeat the 2D grid ID array along the other dimensions to match the shape of the DataArray\\n    grid_id_nd = np.repeat(grid_id_2d[None, :, :], da.sizes[\\\"forecast_date\\\"], axis=0)\\n\\n    # Flatten both the DataArray values and the grid ID array\\n    flattened_values = da.values.flatten()\\n    grid_ids = grid_id_nd.flatten()\\n\\n    return flattened_values, grid_ids\";\n",
       "                var nbb_formatted_code = \"def flatten_with_grid_ids(da):\\n    \\\"\\\"\\\"\\n    Flatten an xarray DataArray and generate corresponding grid point IDs.\\n    \\n    Args:\\n        da (xarray.DataArray): The DataArray to flatten.\\n        \\n    Returns:\\n        A tuple (flattened_values, grid_ids), where:\\n            - flattened_values (numpy.ndarray): A 1D array with all values from the DataArray.\\n            - grid_ids (numpy.ndarray): A 1D array with the corresponding grid point ID for each value.\\n    \\\"\\\"\\\"\\n    # Get the shapes of the 'lat' and 'lon' dimensions\\n    lat_shape = da.sizes[\\\"lat\\\"]\\n    lon_shape = da.sizes[\\\"lon\\\"]\\n\\n    # Generate a 2D array with the grid point ID for each (lat, lon) pair\\n    grid_id_2d = np.arange(lat_shape * lon_shape).reshape(lat_shape, lon_shape) + 1\\n\\n    # Repeat the 2D grid ID array along the other dimensions to match the shape of the DataArray\\n    grid_id_nd = np.repeat(grid_id_2d[None, :, :], da.sizes[\\\"forecast_date\\\"], axis=0)\\n\\n    # Flatten both the DataArray values and the grid ID array\\n    flattened_values = da.values.flatten()\\n    grid_ids = grid_id_nd.flatten()\\n\\n    return flattened_values, grid_ids\";\n",
       "                var nbb_cells = Jupyter.notebook.get_cells();\n",
       "                for (var i = 0; i < nbb_cells.length; ++i) {\n",
       "                    if (nbb_cells[i].input_prompt_number == nbb_cell_id) {\n",
       "                        if (nbb_cells[i].get_text() == nbb_unformatted_code) {\n",
       "                             nbb_cells[i].set_text(nbb_formatted_code);\n",
       "                        }\n",
       "                        break;\n",
       "                    }\n",
       "                }\n",
       "            }, 500);\n",
       "            "
      ],
      "text/plain": [
       "<IPython.core.display.Javascript object>"
      ]
     },
     "metadata": {},
     "output_type": "display_data"
    }
   ],
   "source": [
    "def flatten_with_grid_ids(da):\n",
    "    \"\"\"\n",
    "    Flatten an xarray DataArray and generate corresponding grid point IDs.\n",
    "    \n",
    "    Args:\n",
    "        da (xarray.DataArray): The DataArray to flatten.\n",
    "        \n",
    "    Returns:\n",
    "        A tuple (flattened_values, grid_ids), where:\n",
    "            - flattened_values (numpy.ndarray): A 1D array with all values from the DataArray.\n",
    "            - grid_ids (numpy.ndarray): A 1D array with the corresponding grid point ID for each value.\n",
    "    \"\"\"\n",
    "    # Get the shapes of the 'lat' and 'lon' dimensions\n",
    "    lat_shape = da.sizes[\"lat\"]\n",
    "    lon_shape = da.sizes[\"lon\"]\n",
    "\n",
    "    # Generate a 2D array with the grid point ID for each (lat, lon) pair\n",
    "    grid_id_2d = np.arange(lat_shape * lon_shape).reshape(lat_shape, lon_shape) + 1\n",
    "\n",
    "    # Repeat the 2D grid ID array along the other dimensions to match the shape of the DataArray\n",
    "    grid_id_nd = np.repeat(grid_id_2d[None, :, :], da.sizes[\"forecast_date\"], axis=0)\n",
    "\n",
    "    # Flatten both the DataArray values and the grid ID array\n",
    "    flattened_values = da.values.flatten()\n",
    "    grid_ids = grid_id_nd.flatten()\n",
    "\n",
    "    return flattened_values, grid_ids"
   ]
  },
  {
   "cell_type": "code",
   "execution_count": 15,
   "id": "08a46cf2",
   "metadata": {},
   "outputs": [
    {
     "data": {
      "application/javascript": [
       "\n",
       "            setTimeout(function() {\n",
       "                var nbb_cell_id = 15;\n",
       "                var nbb_unformatted_code = \"flattened_values, grid_ids = flatten_with_grid_ids(\\n    dat_X_lead_all_denorm[0][0].isel(mean_std=0)\\n)\";\n",
       "                var nbb_formatted_code = \"flattened_values, grid_ids = flatten_with_grid_ids(\\n    dat_X_lead_all_denorm[0][0].isel(mean_std=0)\\n)\";\n",
       "                var nbb_cells = Jupyter.notebook.get_cells();\n",
       "                for (var i = 0; i < nbb_cells.length; ++i) {\n",
       "                    if (nbb_cells[i].input_prompt_number == nbb_cell_id) {\n",
       "                        if (nbb_cells[i].get_text() == nbb_unformatted_code) {\n",
       "                             nbb_cells[i].set_text(nbb_formatted_code);\n",
       "                        }\n",
       "                        break;\n",
       "                    }\n",
       "                }\n",
       "            }, 500);\n",
       "            "
      ],
      "text/plain": [
       "<IPython.core.display.Javascript object>"
      ]
     },
     "metadata": {},
     "output_type": "display_data"
    }
   ],
   "source": [
    "flattened_values, grid_ids = flatten_with_grid_ids(\n",
    "    dat_X_lead_all_denorm[0][0].isel(mean_std=0)\n",
    ")"
   ]
  },
  {
   "cell_type": "code",
   "execution_count": 18,
   "id": "9a540860",
   "metadata": {},
   "outputs": [
    {
     "data": {
      "text/plain": [
       "array([-0.463738 , -1.2450967, -2.1260755, ...,  1.8941275,  1.6559246,\n",
       "        1.4866699], dtype=float32)"
      ]
     },
     "execution_count": 18,
     "metadata": {},
     "output_type": "execute_result"
    },
    {
     "data": {
      "application/javascript": [
       "\n",
       "            setTimeout(function() {\n",
       "                var nbb_cell_id = 18;\n",
       "                var nbb_unformatted_code = \"flattened_values\";\n",
       "                var nbb_formatted_code = \"flattened_values\";\n",
       "                var nbb_cells = Jupyter.notebook.get_cells();\n",
       "                for (var i = 0; i < nbb_cells.length; ++i) {\n",
       "                    if (nbb_cells[i].input_prompt_number == nbb_cell_id) {\n",
       "                        if (nbb_cells[i].get_text() == nbb_unformatted_code) {\n",
       "                             nbb_cells[i].set_text(nbb_formatted_code);\n",
       "                        }\n",
       "                        break;\n",
       "                    }\n",
       "                }\n",
       "            }, 500);\n",
       "            "
      ],
      "text/plain": [
       "<IPython.core.display.Javascript object>"
      ]
     },
     "metadata": {},
     "output_type": "display_data"
    }
   ],
   "source": [
    "flattened_values"
   ]
  },
  {
   "cell_type": "code",
   "execution_count": null,
   "id": "cc70cefa",
   "metadata": {},
   "outputs": [],
   "source": []
  },
  {
   "cell_type": "code",
   "execution_count": null,
   "id": "04963f51",
   "metadata": {},
   "outputs": [],
   "source": []
  },
  {
   "cell_type": "code",
   "execution_count": null,
   "id": "615eda52",
   "metadata": {},
   "outputs": [],
   "source": []
  },
  {
   "cell_type": "code",
   "execution_count": null,
   "id": "dcb1c17f",
   "metadata": {},
   "outputs": [],
   "source": []
  },
  {
   "cell_type": "code",
   "execution_count": null,
   "id": "6c779a3b",
   "metadata": {},
   "outputs": [],
   "source": []
  },
  {
   "cell_type": "code",
   "execution_count": null,
   "id": "57663e6e",
   "metadata": {},
   "outputs": [],
   "source": []
  },
  {
   "cell_type": "code",
   "execution_count": null,
   "id": "b2e30aaa",
   "metadata": {},
   "outputs": [],
   "source": []
  },
  {
   "cell_type": "code",
   "execution_count": null,
   "id": "e14a4b30",
   "metadata": {},
   "outputs": [],
   "source": []
  },
  {
   "cell_type": "code",
   "execution_count": null,
   "id": "11fe86c4",
   "metadata": {},
   "outputs": [],
   "source": []
  },
  {
   "cell_type": "code",
   "execution_count": null,
   "id": "5e82a934",
   "metadata": {},
   "outputs": [],
   "source": []
  },
  {
   "cell_type": "code",
   "execution_count": 45,
   "id": "18d18cbd",
   "metadata": {},
   "outputs": [
    {
     "data": {
      "application/javascript": [
       "\n",
       "            setTimeout(function() {\n",
       "                var nbb_cell_id = 45;\n",
       "                var nbb_unformatted_code = \"def build_emb_model(\\n    n_features,\\n    n_outputs,\\n    hidden_nodes,\\n    emb_size,\\n    max_id,\\n    compile=False,\\n    optimizer=\\\"adam\\\",\\n    lr=0.01,\\n    loss=crps_cost_function,\\n    activation=\\\"relu\\\",\\n    reg=None,\\n):\\n    \\\"\\\"\\\"\\n\\n    Args:\\n        n_features: Number of features\\n        n_outputs: Number of outputs\\n        hidden_nodes: int or list of hidden nodes\\n        emb_size: Embedding size\\n        max_id: Max embedding ID\\n        compile: If true, compile model\\n        optimizer: Name of optimizer\\n        lr: learning rate\\n        loss: loss function\\n        activation: Activation function for hidden layer\\n\\n    Returns:\\n        model: Keras model\\n    \\\"\\\"\\\"\\n    if type(hidden_nodes) is not list:\\n        hidden_nodes = [hidden_nodes]\\n\\n    features_in = Input(shape=(n_features,))\\n    id_in = Input(shape=(1,))\\n    emb = Embedding(max_id + 1, emb_size)(id_in)\\n    emb = Flatten()(emb)\\n    x = Concatenate()([features_in, emb])\\n    for h in hidden_nodes:\\n        x = Dense(h, activation=activation, kernel_regularizer=reg)(x)\\n    x = Dense(n_outputs, activation=\\\"linear\\\", kernel_regularizer=reg)(x)\\n    model = Model(inputs=[features_in, id_in], outputs=x)\\n\\n    if compile:\\n        opt = keras.optimizers.__dict__[optimizer](lr=lr)\\n        model.compile(optimizer=opt, loss=loss)\\n    return model\";\n",
       "                var nbb_formatted_code = \"def build_emb_model(\\n    n_features,\\n    n_outputs,\\n    hidden_nodes,\\n    emb_size,\\n    max_id,\\n    compile=False,\\n    optimizer=\\\"adam\\\",\\n    lr=0.01,\\n    loss=crps_cost_function,\\n    activation=\\\"relu\\\",\\n    reg=None,\\n):\\n    \\\"\\\"\\\"\\n\\n    Args:\\n        n_features: Number of features\\n        n_outputs: Number of outputs\\n        hidden_nodes: int or list of hidden nodes\\n        emb_size: Embedding size\\n        max_id: Max embedding ID\\n        compile: If true, compile model\\n        optimizer: Name of optimizer\\n        lr: learning rate\\n        loss: loss function\\n        activation: Activation function for hidden layer\\n\\n    Returns:\\n        model: Keras model\\n    \\\"\\\"\\\"\\n    if type(hidden_nodes) is not list:\\n        hidden_nodes = [hidden_nodes]\\n\\n    features_in = Input(shape=(n_features,))\\n    id_in = Input(shape=(1,))\\n    emb = Embedding(max_id + 1, emb_size)(id_in)\\n    emb = Flatten()(emb)\\n    x = Concatenate()([features_in, emb])\\n    for h in hidden_nodes:\\n        x = Dense(h, activation=activation, kernel_regularizer=reg)(x)\\n    x = Dense(n_outputs, activation=\\\"linear\\\", kernel_regularizer=reg)(x)\\n    model = Model(inputs=[features_in, id_in], outputs=x)\\n\\n    if compile:\\n        opt = keras.optimizers.__dict__[optimizer](lr=lr)\\n        model.compile(optimizer=opt, loss=loss)\\n    return model\";\n",
       "                var nbb_cells = Jupyter.notebook.get_cells();\n",
       "                for (var i = 0; i < nbb_cells.length; ++i) {\n",
       "                    if (nbb_cells[i].input_prompt_number == nbb_cell_id) {\n",
       "                        if (nbb_cells[i].get_text() == nbb_unformatted_code) {\n",
       "                             nbb_cells[i].set_text(nbb_formatted_code);\n",
       "                        }\n",
       "                        break;\n",
       "                    }\n",
       "                }\n",
       "            }, 500);\n",
       "            "
      ],
      "text/plain": [
       "<IPython.core.display.Javascript object>"
      ]
     },
     "metadata": {},
     "output_type": "display_data"
    }
   ],
   "source": [
    "def build_emb_model(\n",
    "    n_features,\n",
    "    n_outputs,\n",
    "    hidden_nodes,\n",
    "    emb_size,\n",
    "    max_id,\n",
    "    compile=False,\n",
    "    optimizer=\"adam\",\n",
    "    lr=0.01,\n",
    "    loss=crps_cost_function,\n",
    "    activation=\"relu\",\n",
    "    reg=None,\n",
    "):\n",
    "    \"\"\"\n",
    "\n",
    "    Args:\n",
    "        n_features: Number of features\n",
    "        n_outputs: Number of outputs\n",
    "        hidden_nodes: int or list of hidden nodes\n",
    "        emb_size: Embedding size\n",
    "        max_id: Max embedding ID\n",
    "        compile: If true, compile model\n",
    "        optimizer: Name of optimizer\n",
    "        lr: learning rate\n",
    "        loss: loss function\n",
    "        activation: Activation function for hidden layer\n",
    "\n",
    "    Returns:\n",
    "        model: Keras model\n",
    "    \"\"\"\n",
    "    if type(hidden_nodes) is not list:\n",
    "        hidden_nodes = [hidden_nodes]\n",
    "\n",
    "    features_in = Input(shape=(n_features,))\n",
    "    id_in = Input(shape=(1,))\n",
    "    emb = Embedding(max_id + 1, emb_size)(id_in)\n",
    "    emb = Flatten()(emb)\n",
    "    x = Concatenate()([features_in, emb])\n",
    "    for h in hidden_nodes:\n",
    "        x = Dense(h, activation=activation, kernel_regularizer=reg)(x)\n",
    "    x = Dense(n_outputs, activation=\"linear\", kernel_regularizer=reg)(x)\n",
    "    model = Model(inputs=[features_in, id_in], outputs=x)\n",
    "\n",
    "    if compile:\n",
    "        opt = keras.optimizers.__dict__[optimizer](lr=lr)\n",
    "        model.compile(optimizer=opt, loss=loss)\n",
    "    return model"
   ]
  },
  {
   "cell_type": "code",
   "execution_count": null,
   "id": "13fd1500",
   "metadata": {},
   "outputs": [],
   "source": []
  },
  {
   "cell_type": "code",
   "execution_count": null,
   "id": "f19d4009",
   "metadata": {},
   "outputs": [],
   "source": []
  },
  {
   "cell_type": "code",
   "execution_count": null,
   "id": "ba794e90",
   "metadata": {},
   "outputs": [],
   "source": []
  },
  {
   "cell_type": "code",
   "execution_count": null,
   "id": "881ef131",
   "metadata": {},
   "outputs": [],
   "source": []
  }
 ],
 "metadata": {
  "kernelspec": {
   "display_name": "Python 3 (ipykernel)",
   "language": "python",
   "name": "python3"
  },
  "language_info": {
   "codemirror_mode": {
    "name": "ipython",
    "version": 3
   },
   "file_extension": ".py",
   "mimetype": "text/x-python",
   "name": "python",
   "nbconvert_exporter": "python",
   "pygments_lexer": "ipython3",
   "version": "3.9.7"
  }
 },
 "nbformat": 4,
 "nbformat_minor": 5
}
