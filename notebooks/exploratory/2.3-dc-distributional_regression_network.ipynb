{
 "cells": [
  {
   "cell_type": "code",
   "execution_count": 1,
   "id": "880693cb",
   "metadata": {},
   "outputs": [
    {
     "data": {
      "application/javascript": [
       "\n",
       "            setTimeout(function() {\n",
       "                var nbb_cell_id = 1;\n",
       "                var nbb_unformatted_code = \"%load_ext nb_black\";\n",
       "                var nbb_formatted_code = \"%load_ext nb_black\";\n",
       "                var nbb_cells = Jupyter.notebook.get_cells();\n",
       "                for (var i = 0; i < nbb_cells.length; ++i) {\n",
       "                    if (nbb_cells[i].input_prompt_number == nbb_cell_id) {\n",
       "                        if (nbb_cells[i].get_text() == nbb_unformatted_code) {\n",
       "                             nbb_cells[i].set_text(nbb_formatted_code);\n",
       "                        }\n",
       "                        break;\n",
       "                    }\n",
       "                }\n",
       "            }, 500);\n",
       "            "
      ],
      "text/plain": [
       "<IPython.core.display.Javascript object>"
      ]
     },
     "metadata": {},
     "output_type": "display_data"
    }
   ],
   "source": [
    "%load_ext nb_black"
   ]
  },
  {
   "cell_type": "code",
   "execution_count": 3,
   "id": "c6888cd5",
   "metadata": {},
   "outputs": [
    {
     "data": {
      "application/javascript": [
       "\n",
       "            setTimeout(function() {\n",
       "                var nbb_cell_id = 3;\n",
       "                var nbb_unformatted_code = \"# Basics\\nimport tensorflow as tf\\nimport xarray as xr\\n\\n# Helpful\\nimport tqdm\\n\\n# Visualization\\nimport matplotlib.pyplot as plt\\n\\n# My Methods\\nfrom src.utils.CRPS import *\\nfrom src.utils.data_split import *\\nfrom src.models.EMOS import *\\nfrom src.models.EMOS_global.EMOS_global_load_score import *\\nfrom src.models.EMOS_global.EMOS_global_load_model import *\\nimport data.raw.load_data_raw as ldr\\nimport data.processed.load_data_processed as ldp\\nimport data.processed.load_data_processed_denormed as ldpd\\nfrom src.models.CRPS_baseline.CRPS_load import *\";\n",
       "                var nbb_formatted_code = \"# Basics\\nimport tensorflow as tf\\nimport xarray as xr\\n\\n# Helpful\\nimport tqdm\\n\\n# Visualization\\nimport matplotlib.pyplot as plt\\n\\n# My Methods\\nfrom src.utils.CRPS import *\\nfrom src.utils.data_split import *\\nfrom src.models.EMOS import *\\nfrom src.models.EMOS_global.EMOS_global_load_score import *\\nfrom src.models.EMOS_global.EMOS_global_load_model import *\\nimport data.raw.load_data_raw as ldr\\nimport data.processed.load_data_processed as ldp\\nimport data.processed.load_data_processed_denormed as ldpd\\nfrom src.models.CRPS_baseline.CRPS_load import *\";\n",
       "                var nbb_cells = Jupyter.notebook.get_cells();\n",
       "                for (var i = 0; i < nbb_cells.length; ++i) {\n",
       "                    if (nbb_cells[i].input_prompt_number == nbb_cell_id) {\n",
       "                        if (nbb_cells[i].get_text() == nbb_unformatted_code) {\n",
       "                             nbb_cells[i].set_text(nbb_formatted_code);\n",
       "                        }\n",
       "                        break;\n",
       "                    }\n",
       "                }\n",
       "            }, 500);\n",
       "            "
      ],
      "text/plain": [
       "<IPython.core.display.Javascript object>"
      ]
     },
     "metadata": {},
     "output_type": "display_data"
    }
   ],
   "source": [
    "# Basics\n",
    "import tensorflow as tf\n",
    "import xarray as xr\n",
    "\n",
    "# Helpful\n",
    "import tqdm\n",
    "\n",
    "# Visualization\n",
    "import matplotlib.pyplot as plt\n",
    "\n",
    "# My Methods\n",
    "from src.utils.CRPS import *\n",
    "from src.utils.data_split import *\n",
    "from src.models.EMOS import *\n",
    "from src.models.EMOS_global.EMOS_global_load_score import *\n",
    "from src.models.EMOS_global.EMOS_global_load_model import *\n",
    "import data.raw.load_data_raw as ldr\n",
    "import data.processed.load_data_processed as ldp\n",
    "import data.processed.load_data_processed_denormed as ldpd\n",
    "from src.models.CRPS_baseline.CRPS_load import *"
   ]
  },
  {
   "cell_type": "markdown",
   "id": "5a7768ea",
   "metadata": {},
   "source": [
    "### 0. Set up"
   ]
  },
  {
   "cell_type": "code",
   "execution_count": 21,
   "id": "69851f18",
   "metadata": {},
   "outputs": [
    {
     "data": {
      "application/javascript": [
       "\n",
       "            setTimeout(function() {\n",
       "                var nbb_cell_id = 21;\n",
       "                var nbb_unformatted_code = \"lead_time = 0 \";\n",
       "                var nbb_formatted_code = \"lead_time = 0\";\n",
       "                var nbb_cells = Jupyter.notebook.get_cells();\n",
       "                for (var i = 0; i < nbb_cells.length; ++i) {\n",
       "                    if (nbb_cells[i].input_prompt_number == nbb_cell_id) {\n",
       "                        if (nbb_cells[i].get_text() == nbb_unformatted_code) {\n",
       "                             nbb_cells[i].set_text(nbb_formatted_code);\n",
       "                        }\n",
       "                        break;\n",
       "                    }\n",
       "                }\n",
       "            }, 500);\n",
       "            "
      ],
      "text/plain": [
       "<IPython.core.display.Javascript object>"
      ]
     },
     "metadata": {},
     "output_type": "display_data"
    }
   ],
   "source": [
    "lead_time = 0"
   ]
  },
  {
   "cell_type": "markdown",
   "id": "373f9101",
   "metadata": {},
   "source": [
    "### 1. Load Data"
   ]
  },
  {
   "cell_type": "code",
   "execution_count": 4,
   "id": "9330915d",
   "metadata": {},
   "outputs": [
    {
     "data": {
      "application/javascript": [
       "\n",
       "            setTimeout(function() {\n",
       "                var nbb_cell_id = 4;\n",
       "                var nbb_unformatted_code = \"dat_train_denorm = ldpd.load_data_all_train_proc_denorm()\\ndat_test_denorm = ldpd.load_data_all_test_proc_denorm()\";\n",
       "                var nbb_formatted_code = \"dat_train_denorm = ldpd.load_data_all_train_proc_denorm()\\ndat_test_denorm = ldpd.load_data_all_test_proc_denorm()\";\n",
       "                var nbb_cells = Jupyter.notebook.get_cells();\n",
       "                for (var i = 0; i < nbb_cells.length; ++i) {\n",
       "                    if (nbb_cells[i].input_prompt_number == nbb_cell_id) {\n",
       "                        if (nbb_cells[i].get_text() == nbb_unformatted_code) {\n",
       "                             nbb_cells[i].set_text(nbb_formatted_code);\n",
       "                        }\n",
       "                        break;\n",
       "                    }\n",
       "                }\n",
       "            }, 500);\n",
       "            "
      ],
      "text/plain": [
       "<IPython.core.display.Javascript object>"
      ]
     },
     "metadata": {},
     "output_type": "display_data"
    }
   ],
   "source": [
    "dat_train_denorm = ldpd.load_data_all_train_proc_denorm()\n",
    "dat_test_denorm = ldpd.load_data_all_test_proc_denorm()"
   ]
  },
  {
   "cell_type": "markdown",
   "id": "35f7ff60",
   "metadata": {},
   "source": [
    "### 2. Data Split"
   ]
  },
  {
   "cell_type": "code",
   "execution_count": 5,
   "id": "610aff89",
   "metadata": {
    "scrolled": false
   },
   "outputs": [
    {
     "data": {
      "application/javascript": [
       "\n",
       "            setTimeout(function() {\n",
       "                var nbb_cell_id = 5;\n",
       "                var nbb_unformatted_code = \"dat_X_lead_all_denorm, dat_y_lead_all_denorm = split_var_lead(dat_train_denorm)\";\n",
       "                var nbb_formatted_code = \"dat_X_lead_all_denorm, dat_y_lead_all_denorm = split_var_lead(dat_train_denorm)\";\n",
       "                var nbb_cells = Jupyter.notebook.get_cells();\n",
       "                for (var i = 0; i < nbb_cells.length; ++i) {\n",
       "                    if (nbb_cells[i].input_prompt_number == nbb_cell_id) {\n",
       "                        if (nbb_cells[i].get_text() == nbb_unformatted_code) {\n",
       "                             nbb_cells[i].set_text(nbb_formatted_code);\n",
       "                        }\n",
       "                        break;\n",
       "                    }\n",
       "                }\n",
       "            }, 500);\n",
       "            "
      ],
      "text/plain": [
       "<IPython.core.display.Javascript object>"
      ]
     },
     "metadata": {},
     "output_type": "display_data"
    }
   ],
   "source": [
    "dat_X_lead_all_denorm, dat_y_lead_all_denorm = split_var_lead(dat_train_denorm)"
   ]
  },
  {
   "cell_type": "markdown",
   "id": "07cd3042",
   "metadata": {},
   "source": [
    "### 3. Data preparation"
   ]
  },
  {
   "cell_type": "markdown",
   "id": "f8640d0c",
   "metadata": {},
   "source": [
    "Idea: X_train constructed by flattening the value arrays and concatenating them together, so that in the end I get the shape (n, n_variables), keep in mind we use both mean and std of each variabel for training. So in total we will have 10 / 12, depending on which variable. Important, for drn we'll also need the embeddings, hence the idea to keep another flattened array with shape (n, 1) with the complementing embedding (1 - 15600)."
   ]
  },
  {
   "cell_type": "code",
   "execution_count": 31,
   "id": "3a2bef88",
   "metadata": {},
   "outputs": [
    {
     "data": {
      "application/javascript": [
       "\n",
       "            setTimeout(function() {\n",
       "                var nbb_cell_id = 31;\n",
       "                var nbb_unformatted_code = \"drn_X_train_0, drn_embedding_0= make_X_train_array(dat_X_lead_all_denorm, 0)\";\n",
       "                var nbb_formatted_code = \"drn_X_train_0, drn_embedding_0 = make_X_train_array(dat_X_lead_all_denorm, 0)\";\n",
       "                var nbb_cells = Jupyter.notebook.get_cells();\n",
       "                for (var i = 0; i < nbb_cells.length; ++i) {\n",
       "                    if (nbb_cells[i].input_prompt_number == nbb_cell_id) {\n",
       "                        if (nbb_cells[i].get_text() == nbb_unformatted_code) {\n",
       "                             nbb_cells[i].set_text(nbb_formatted_code);\n",
       "                        }\n",
       "                        break;\n",
       "                    }\n",
       "                }\n",
       "            }, 500);\n",
       "            "
      ],
      "text/plain": [
       "<IPython.core.display.Javascript object>"
      ]
     },
     "metadata": {},
     "output_type": "display_data"
    }
   ],
   "source": [
    "drn_X_train_0, drn_embedding_0 = make_X_train_array(dat_X_lead_all_denorm, 0)"
   ]
  },
  {
   "cell_type": "code",
   "execution_count": 39,
   "id": "55f4156e",
   "metadata": {},
   "outputs": [
    {
     "data": {
      "text/plain": [
       "(22292400,)"
      ]
     },
     "execution_count": 39,
     "metadata": {},
     "output_type": "execute_result"
    },
    {
     "data": {
      "application/javascript": [
       "\n",
       "            setTimeout(function() {\n",
       "                var nbb_cell_id = 39;\n",
       "                var nbb_unformatted_code = \"dat_y_lead_all_denorm[0][0].values.flatten().shape\";\n",
       "                var nbb_formatted_code = \"dat_y_lead_all_denorm[0][0].values.flatten().shape\";\n",
       "                var nbb_cells = Jupyter.notebook.get_cells();\n",
       "                for (var i = 0; i < nbb_cells.length; ++i) {\n",
       "                    if (nbb_cells[i].input_prompt_number == nbb_cell_id) {\n",
       "                        if (nbb_cells[i].get_text() == nbb_unformatted_code) {\n",
       "                             nbb_cells[i].set_text(nbb_formatted_code);\n",
       "                        }\n",
       "                        break;\n",
       "                    }\n",
       "                }\n",
       "            }, 500);\n",
       "            "
      ],
      "text/plain": [
       "<IPython.core.display.Javascript object>"
      ]
     },
     "metadata": {},
     "output_type": "display_data"
    }
   ],
   "source": [
    "dat_y_lead_all_denorm[0][0].values.flatten().shape"
   ]
  },
  {
   "cell_type": "code",
   "execution_count": 36,
   "id": "0e9efecd",
   "metadata": {},
   "outputs": [
    {
     "data": {
      "text/plain": [
       "array([-0.46373799, -1.24509668, -2.12607551, ...,  1.89412749,\n",
       "        1.65592456,  1.4866699 ])"
      ]
     },
     "execution_count": 36,
     "metadata": {},
     "output_type": "execute_result"
    },
    {
     "data": {
      "application/javascript": [
       "\n",
       "            setTimeout(function() {\n",
       "                var nbb_cell_id = 36;\n",
       "                var nbb_unformatted_code = \"drn_X_train_0[:,0]\";\n",
       "                var nbb_formatted_code = \"drn_X_train_0[:, 0]\";\n",
       "                var nbb_cells = Jupyter.notebook.get_cells();\n",
       "                for (var i = 0; i < nbb_cells.length; ++i) {\n",
       "                    if (nbb_cells[i].input_prompt_number == nbb_cell_id) {\n",
       "                        if (nbb_cells[i].get_text() == nbb_unformatted_code) {\n",
       "                             nbb_cells[i].set_text(nbb_formatted_code);\n",
       "                        }\n",
       "                        break;\n",
       "                    }\n",
       "                }\n",
       "            }, 500);\n",
       "            "
      ],
      "text/plain": [
       "<IPython.core.display.Javascript object>"
      ]
     },
     "metadata": {},
     "output_type": "display_data"
    }
   ],
   "source": [
    "drn_X_train_0[:, 0]"
   ]
  },
  {
   "cell_type": "code",
   "execution_count": 35,
   "id": "d329a607",
   "metadata": {},
   "outputs": [
    {
     "data": {
      "text/plain": [
       "(22292400,)"
      ]
     },
     "execution_count": 35,
     "metadata": {},
     "output_type": "execute_result"
    },
    {
     "data": {
      "application/javascript": [
       "\n",
       "            setTimeout(function() {\n",
       "                var nbb_cell_id = 35;\n",
       "                var nbb_unformatted_code = \"drn_embedding_0.shape\";\n",
       "                var nbb_formatted_code = \"drn_embedding_0.shape\";\n",
       "                var nbb_cells = Jupyter.notebook.get_cells();\n",
       "                for (var i = 0; i < nbb_cells.length; ++i) {\n",
       "                    if (nbb_cells[i].input_prompt_number == nbb_cell_id) {\n",
       "                        if (nbb_cells[i].get_text() == nbb_unformatted_code) {\n",
       "                             nbb_cells[i].set_text(nbb_formatted_code);\n",
       "                        }\n",
       "                        break;\n",
       "                    }\n",
       "                }\n",
       "            }, 500);\n",
       "            "
      ],
      "text/plain": [
       "<IPython.core.display.Javascript object>"
      ]
     },
     "metadata": {},
     "output_type": "display_data"
    }
   ],
   "source": [
    "drn_embedding_0.shape"
   ]
  },
  {
   "cell_type": "code",
   "execution_count": null,
   "id": "b027dcfe",
   "metadata": {},
   "outputs": [],
   "source": []
  },
  {
   "cell_type": "code",
   "execution_count": null,
   "id": "27124855",
   "metadata": {},
   "outputs": [],
   "source": []
  },
  {
   "cell_type": "code",
   "execution_count": null,
   "id": "84520454",
   "metadata": {},
   "outputs": [],
   "source": []
  },
  {
   "cell_type": "code",
   "execution_count": 30,
   "id": "1b01b353",
   "metadata": {},
   "outputs": [
    {
     "data": {
      "application/javascript": [
       "\n",
       "            setTimeout(function() {\n",
       "                var nbb_cell_id = 30;\n",
       "                var nbb_unformatted_code = \"def make_X_train_array(X_array_all_denorm, lead_time):\\n    '''\\n    makes a training array with all of the variable mean and std combined, including embedding array\\nArgs:\\n    X_array_all_denorm (nested_list): 6x31, X values for each variable and lead_time\\n    lead_time (int): the lead_time for which to construct the training array (0 - 30)\\nReturns:\\n    result (array): Return array with all X_means and stds combined\\n    embedding (array): embedding array with all embeddings in same order as results\\n    \\n    '''\\n    X_train_lead_denorm_list = []\\n    for var in range(6):\\n        for mean_std in range(2):\\n            X_train_part, embedding = flatten_with_grid_ids(\\n                dat_X_lead_all_denorm[var][lead_time].isel(mean_std=mean_std)\\n            )\\n            X_train_lead_denorm_list.append(X_train_part)\\n\\n    # get length of individual arrays and total count\\n    length = len(X_train_lead_denorm_list[0])\\n    n = len(X_train_lead_denorm_list)\\n\\n    # initialize an empty array of shape (length, n)\\n    result = np.empty((length, n))\\n\\n    # fill the result array\\n    for i, arr in enumerate(X_train_lead_denorm_list):\\n        result[:, i] = arr\\n\\n    return result, embedding\";\n",
       "                var nbb_formatted_code = \"def make_X_train_array(X_array_all_denorm, lead_time):\\n    \\\"\\\"\\\"\\n    makes a training array with all of the variable mean and std combined, including embedding array\\nArgs:\\n    X_array_all_denorm (nested_list): 6x31, X values for each variable and lead_time\\n    lead_time (int): the lead_time for which to construct the training array (0 - 30)\\nReturns:\\n    result (array): Return array with all X_means and stds combined\\n    embedding (array): embedding array with all embeddings in same order as results\\n    \\n    \\\"\\\"\\\"\\n    X_train_lead_denorm_list = []\\n    for var in range(6):\\n        for mean_std in range(2):\\n            X_train_part, embedding = flatten_with_grid_ids(\\n                dat_X_lead_all_denorm[var][lead_time].isel(mean_std=mean_std)\\n            )\\n            X_train_lead_denorm_list.append(X_train_part)\\n\\n    # get length of individual arrays and total count\\n    length = len(X_train_lead_denorm_list[0])\\n    n = len(X_train_lead_denorm_list)\\n\\n    # initialize an empty array of shape (length, n)\\n    result = np.empty((length, n))\\n\\n    # fill the result array\\n    for i, arr in enumerate(X_train_lead_denorm_list):\\n        result[:, i] = arr\\n\\n    return result, embedding\";\n",
       "                var nbb_cells = Jupyter.notebook.get_cells();\n",
       "                for (var i = 0; i < nbb_cells.length; ++i) {\n",
       "                    if (nbb_cells[i].input_prompt_number == nbb_cell_id) {\n",
       "                        if (nbb_cells[i].get_text() == nbb_unformatted_code) {\n",
       "                             nbb_cells[i].set_text(nbb_formatted_code);\n",
       "                        }\n",
       "                        break;\n",
       "                    }\n",
       "                }\n",
       "            }, 500);\n",
       "            "
      ],
      "text/plain": [
       "<IPython.core.display.Javascript object>"
      ]
     },
     "metadata": {},
     "output_type": "display_data"
    }
   ],
   "source": [
    "def make_X_train_array(X_array_all_denorm, lead_time):\n",
    "    \"\"\"\n",
    "    makes a training array with all of the variable mean and std combined, including embedding array\n",
    "Args:\n",
    "    X_array_all_denorm (nested_list): 6x31, X values for each variable and lead_time\n",
    "    lead_time (int): the lead_time for which to construct the training array (0 - 30)\n",
    "Returns:\n",
    "    result (array): Return array with all X_means and stds combined\n",
    "    embedding (array): embedding array with all embeddings in same order as results\n",
    "    \n",
    "    \"\"\"\n",
    "    X_train_lead_denorm_list = []\n",
    "    for var in range(6):\n",
    "        for mean_std in range(2):\n",
    "            X_train_part, embedding = flatten_with_grid_ids(\n",
    "                dat_X_lead_all_denorm[var][lead_time].isel(mean_std=mean_std)\n",
    "            )\n",
    "            X_train_lead_denorm_list.append(X_train_part)\n",
    "\n",
    "    # get length of individual arrays and total count\n",
    "    length = len(X_train_lead_denorm_list[0])\n",
    "    n = len(X_train_lead_denorm_list)\n",
    "\n",
    "    # initialize an empty array of shape (length, n)\n",
    "    result = np.empty((length, n))\n",
    "\n",
    "    # fill the result array\n",
    "    for i, arr in enumerate(X_train_lead_denorm_list):\n",
    "        result[:, i] = arr\n",
    "\n",
    "    return result, embedding"
   ]
  },
  {
   "cell_type": "code",
   "execution_count": null,
   "id": "32a34c48",
   "metadata": {},
   "outputs": [],
   "source": []
  },
  {
   "cell_type": "code",
   "execution_count": null,
   "id": "4aafb730",
   "metadata": {},
   "outputs": [],
   "source": []
  },
  {
   "cell_type": "code",
   "execution_count": null,
   "id": "bb30a4ea",
   "metadata": {},
   "outputs": [],
   "source": []
  },
  {
   "cell_type": "code",
   "execution_count": 14,
   "id": "28db53b8",
   "metadata": {},
   "outputs": [
    {
     "data": {
      "application/javascript": [
       "\n",
       "            setTimeout(function() {\n",
       "                var nbb_cell_id = 14;\n",
       "                var nbb_unformatted_code = \"def flatten_with_grid_ids(da):\\n    \\\"\\\"\\\"\\n    Flatten an xarray DataArray and generate corresponding grid point IDs.\\n    \\n    Args:\\n        da (xarray.DataArray): The DataArray to flatten.\\n        \\n    Returns:\\n        A tuple (flattened_values, grid_ids), where:\\n            - flattened_values (numpy.ndarray): A 1D array with all values from the DataArray.\\n            - grid_ids (numpy.ndarray): A 1D array with the corresponding grid point ID for each value.\\n    \\\"\\\"\\\"\\n    # Get the shapes of the 'lat' and 'lon' dimensions\\n    lat_shape = da.sizes[\\\"lat\\\"]\\n    lon_shape = da.sizes[\\\"lon\\\"]\\n\\n    # Generate a 2D array with the grid point ID for each (lat, lon) pair\\n    grid_id_2d = np.arange(lat_shape * lon_shape).reshape(lat_shape, lon_shape) + 1\\n\\n    # Repeat the 2D grid ID array along the other dimensions to match the shape of the DataArray\\n    grid_id_nd = np.repeat(grid_id_2d[None, :, :], da.sizes[\\\"forecast_date\\\"], axis=0)\\n\\n    # Flatten both the DataArray values and the grid ID array\\n    flattened_values = da.values.flatten()\\n    grid_ids = grid_id_nd.flatten()\\n\\n    return flattened_values, grid_ids\";\n",
       "                var nbb_formatted_code = \"def flatten_with_grid_ids(da):\\n    \\\"\\\"\\\"\\n    Flatten an xarray DataArray and generate corresponding grid point IDs.\\n    \\n    Args:\\n        da (xarray.DataArray): The DataArray to flatten.\\n        \\n    Returns:\\n        A tuple (flattened_values, grid_ids), where:\\n            - flattened_values (numpy.ndarray): A 1D array with all values from the DataArray.\\n            - grid_ids (numpy.ndarray): A 1D array with the corresponding grid point ID for each value.\\n    \\\"\\\"\\\"\\n    # Get the shapes of the 'lat' and 'lon' dimensions\\n    lat_shape = da.sizes[\\\"lat\\\"]\\n    lon_shape = da.sizes[\\\"lon\\\"]\\n\\n    # Generate a 2D array with the grid point ID for each (lat, lon) pair\\n    grid_id_2d = np.arange(lat_shape * lon_shape).reshape(lat_shape, lon_shape) + 1\\n\\n    # Repeat the 2D grid ID array along the other dimensions to match the shape of the DataArray\\n    grid_id_nd = np.repeat(grid_id_2d[None, :, :], da.sizes[\\\"forecast_date\\\"], axis=0)\\n\\n    # Flatten both the DataArray values and the grid ID array\\n    flattened_values = da.values.flatten()\\n    grid_ids = grid_id_nd.flatten()\\n\\n    return flattened_values, grid_ids\";\n",
       "                var nbb_cells = Jupyter.notebook.get_cells();\n",
       "                for (var i = 0; i < nbb_cells.length; ++i) {\n",
       "                    if (nbb_cells[i].input_prompt_number == nbb_cell_id) {\n",
       "                        if (nbb_cells[i].get_text() == nbb_unformatted_code) {\n",
       "                             nbb_cells[i].set_text(nbb_formatted_code);\n",
       "                        }\n",
       "                        break;\n",
       "                    }\n",
       "                }\n",
       "            }, 500);\n",
       "            "
      ],
      "text/plain": [
       "<IPython.core.display.Javascript object>"
      ]
     },
     "metadata": {},
     "output_type": "display_data"
    }
   ],
   "source": [
    "def flatten_with_grid_ids(da):\n",
    "    \"\"\"\n",
    "    Flatten an xarray DataArray and generate corresponding grid point IDs.\n",
    "    \n",
    "    Args:\n",
    "        da (xarray.DataArray): The DataArray to flatten.\n",
    "        \n",
    "    Returns:\n",
    "        A tuple (flattened_values, grid_ids), where:\n",
    "            - flattened_values (numpy.ndarray): A 1D array with all values from the DataArray.\n",
    "            - grid_ids (numpy.ndarray): A 1D array with the corresponding grid point ID for each value.\n",
    "    \"\"\"\n",
    "    # Get the shapes of the 'lat' and 'lon' dimensions\n",
    "    lat_shape = da.sizes[\"lat\"]\n",
    "    lon_shape = da.sizes[\"lon\"]\n",
    "\n",
    "    # Generate a 2D array with the grid point ID for each (lat, lon) pair\n",
    "    grid_id_2d = np.arange(lat_shape * lon_shape).reshape(lat_shape, lon_shape) + 1\n",
    "\n",
    "    # Repeat the 2D grid ID array along the other dimensions to match the shape of the DataArray\n",
    "    grid_id_nd = np.repeat(grid_id_2d[None, :, :], da.sizes[\"forecast_date\"], axis=0)\n",
    "\n",
    "    # Flatten both the DataArray values and the grid ID array\n",
    "    flattened_values = da.values.flatten()\n",
    "    grid_ids = grid_id_nd.flatten()\n",
    "\n",
    "    return flattened_values, grid_ids"
   ]
  },
  {
   "cell_type": "code",
   "execution_count": 15,
   "id": "08a46cf2",
   "metadata": {},
   "outputs": [
    {
     "data": {
      "application/javascript": [
       "\n",
       "            setTimeout(function() {\n",
       "                var nbb_cell_id = 15;\n",
       "                var nbb_unformatted_code = \"flattened_values, grid_ids = flatten_with_grid_ids(\\n    dat_X_lead_all_denorm[0][0].isel(mean_std=0)\\n)\";\n",
       "                var nbb_formatted_code = \"flattened_values, grid_ids = flatten_with_grid_ids(\\n    dat_X_lead_all_denorm[0][0].isel(mean_std=0)\\n)\";\n",
       "                var nbb_cells = Jupyter.notebook.get_cells();\n",
       "                for (var i = 0; i < nbb_cells.length; ++i) {\n",
       "                    if (nbb_cells[i].input_prompt_number == nbb_cell_id) {\n",
       "                        if (nbb_cells[i].get_text() == nbb_unformatted_code) {\n",
       "                             nbb_cells[i].set_text(nbb_formatted_code);\n",
       "                        }\n",
       "                        break;\n",
       "                    }\n",
       "                }\n",
       "            }, 500);\n",
       "            "
      ],
      "text/plain": [
       "<IPython.core.display.Javascript object>"
      ]
     },
     "metadata": {},
     "output_type": "display_data"
    }
   ],
   "source": [
    "flattened_values, grid_ids = flatten_with_grid_ids(\n",
    "    dat_X_lead_all_denorm[0][0].isel(mean_std=0)\n",
    ")"
   ]
  },
  {
   "cell_type": "code",
   "execution_count": 18,
   "id": "9a540860",
   "metadata": {},
   "outputs": [
    {
     "data": {
      "text/plain": [
       "array([-0.463738 , -1.2450967, -2.1260755, ...,  1.8941275,  1.6559246,\n",
       "        1.4866699], dtype=float32)"
      ]
     },
     "execution_count": 18,
     "metadata": {},
     "output_type": "execute_result"
    },
    {
     "data": {
      "application/javascript": [
       "\n",
       "            setTimeout(function() {\n",
       "                var nbb_cell_id = 18;\n",
       "                var nbb_unformatted_code = \"flattened_values\";\n",
       "                var nbb_formatted_code = \"flattened_values\";\n",
       "                var nbb_cells = Jupyter.notebook.get_cells();\n",
       "                for (var i = 0; i < nbb_cells.length; ++i) {\n",
       "                    if (nbb_cells[i].input_prompt_number == nbb_cell_id) {\n",
       "                        if (nbb_cells[i].get_text() == nbb_unformatted_code) {\n",
       "                             nbb_cells[i].set_text(nbb_formatted_code);\n",
       "                        }\n",
       "                        break;\n",
       "                    }\n",
       "                }\n",
       "            }, 500);\n",
       "            "
      ],
      "text/plain": [
       "<IPython.core.display.Javascript object>"
      ]
     },
     "metadata": {},
     "output_type": "display_data"
    }
   ],
   "source": [
    "flattened_values"
   ]
  },
  {
   "cell_type": "code",
   "execution_count": null,
   "id": "cc70cefa",
   "metadata": {},
   "outputs": [],
   "source": []
  },
  {
   "cell_type": "code",
   "execution_count": null,
   "id": "9b12e05c",
   "metadata": {},
   "outputs": [],
   "source": []
  },
  {
   "cell_type": "code",
   "execution_count": null,
   "id": "7202bcb5",
   "metadata": {},
   "outputs": [],
   "source": []
  },
  {
   "cell_type": "code",
   "execution_count": null,
   "id": "0026ca87",
   "metadata": {},
   "outputs": [],
   "source": []
  },
  {
   "cell_type": "code",
   "execution_count": null,
   "id": "d1b4a945",
   "metadata": {},
   "outputs": [],
   "source": []
  },
  {
   "cell_type": "code",
   "execution_count": null,
   "id": "d2a791a1",
   "metadata": {},
   "outputs": [],
   "source": []
  },
  {
   "cell_type": "code",
   "execution_count": null,
   "id": "0f357c91",
   "metadata": {},
   "outputs": [],
   "source": []
  },
  {
   "cell_type": "code",
   "execution_count": null,
   "id": "8ddacd00",
   "metadata": {},
   "outputs": [],
   "source": []
  },
  {
   "cell_type": "code",
   "execution_count": null,
   "id": "c6c31a5c",
   "metadata": {},
   "outputs": [],
   "source": []
  },
  {
   "cell_type": "code",
   "execution_count": null,
   "id": "5e82a934",
   "metadata": {},
   "outputs": [],
   "source": []
  },
  {
   "cell_type": "code",
   "execution_count": 45,
   "id": "18d18cbd",
   "metadata": {},
   "outputs": [
    {
     "data": {
      "application/javascript": [
       "\n",
       "            setTimeout(function() {\n",
       "                var nbb_cell_id = 45;\n",
       "                var nbb_unformatted_code = \"def build_emb_model(\\n    n_features,\\n    n_outputs,\\n    hidden_nodes,\\n    emb_size,\\n    max_id,\\n    compile=False,\\n    optimizer=\\\"adam\\\",\\n    lr=0.01,\\n    loss=crps_cost_function,\\n    activation=\\\"relu\\\",\\n    reg=None,\\n):\\n    \\\"\\\"\\\"\\n\\n    Args:\\n        n_features: Number of features\\n        n_outputs: Number of outputs\\n        hidden_nodes: int or list of hidden nodes\\n        emb_size: Embedding size\\n        max_id: Max embedding ID\\n        compile: If true, compile model\\n        optimizer: Name of optimizer\\n        lr: learning rate\\n        loss: loss function\\n        activation: Activation function for hidden layer\\n\\n    Returns:\\n        model: Keras model\\n    \\\"\\\"\\\"\\n    if type(hidden_nodes) is not list:\\n        hidden_nodes = [hidden_nodes]\\n\\n    features_in = Input(shape=(n_features,))\\n    id_in = Input(shape=(1,))\\n    emb = Embedding(max_id + 1, emb_size)(id_in)\\n    emb = Flatten()(emb)\\n    x = Concatenate()([features_in, emb])\\n    for h in hidden_nodes:\\n        x = Dense(h, activation=activation, kernel_regularizer=reg)(x)\\n    x = Dense(n_outputs, activation=\\\"linear\\\", kernel_regularizer=reg)(x)\\n    model = Model(inputs=[features_in, id_in], outputs=x)\\n\\n    if compile:\\n        opt = keras.optimizers.__dict__[optimizer](lr=lr)\\n        model.compile(optimizer=opt, loss=loss)\\n    return model\";\n",
       "                var nbb_formatted_code = \"def build_emb_model(\\n    n_features,\\n    n_outputs,\\n    hidden_nodes,\\n    emb_size,\\n    max_id,\\n    compile=False,\\n    optimizer=\\\"adam\\\",\\n    lr=0.01,\\n    loss=crps_cost_function,\\n    activation=\\\"relu\\\",\\n    reg=None,\\n):\\n    \\\"\\\"\\\"\\n\\n    Args:\\n        n_features: Number of features\\n        n_outputs: Number of outputs\\n        hidden_nodes: int or list of hidden nodes\\n        emb_size: Embedding size\\n        max_id: Max embedding ID\\n        compile: If true, compile model\\n        optimizer: Name of optimizer\\n        lr: learning rate\\n        loss: loss function\\n        activation: Activation function for hidden layer\\n\\n    Returns:\\n        model: Keras model\\n    \\\"\\\"\\\"\\n    if type(hidden_nodes) is not list:\\n        hidden_nodes = [hidden_nodes]\\n\\n    features_in = Input(shape=(n_features,))\\n    id_in = Input(shape=(1,))\\n    emb = Embedding(max_id + 1, emb_size)(id_in)\\n    emb = Flatten()(emb)\\n    x = Concatenate()([features_in, emb])\\n    for h in hidden_nodes:\\n        x = Dense(h, activation=activation, kernel_regularizer=reg)(x)\\n    x = Dense(n_outputs, activation=\\\"linear\\\", kernel_regularizer=reg)(x)\\n    model = Model(inputs=[features_in, id_in], outputs=x)\\n\\n    if compile:\\n        opt = keras.optimizers.__dict__[optimizer](lr=lr)\\n        model.compile(optimizer=opt, loss=loss)\\n    return model\";\n",
       "                var nbb_cells = Jupyter.notebook.get_cells();\n",
       "                for (var i = 0; i < nbb_cells.length; ++i) {\n",
       "                    if (nbb_cells[i].input_prompt_number == nbb_cell_id) {\n",
       "                        if (nbb_cells[i].get_text() == nbb_unformatted_code) {\n",
       "                             nbb_cells[i].set_text(nbb_formatted_code);\n",
       "                        }\n",
       "                        break;\n",
       "                    }\n",
       "                }\n",
       "            }, 500);\n",
       "            "
      ],
      "text/plain": [
       "<IPython.core.display.Javascript object>"
      ]
     },
     "metadata": {},
     "output_type": "display_data"
    }
   ],
   "source": [
    "def build_emb_model(\n",
    "    n_features,\n",
    "    n_outputs,\n",
    "    hidden_nodes,\n",
    "    emb_size,\n",
    "    max_id,\n",
    "    compile=False,\n",
    "    optimizer=\"adam\",\n",
    "    lr=0.01,\n",
    "    loss=crps_cost_function,\n",
    "    activation=\"relu\",\n",
    "    reg=None,\n",
    "):\n",
    "    \"\"\"\n",
    "\n",
    "    Args:\n",
    "        n_features: Number of features\n",
    "        n_outputs: Number of outputs\n",
    "        hidden_nodes: int or list of hidden nodes\n",
    "        emb_size: Embedding size\n",
    "        max_id: Max embedding ID\n",
    "        compile: If true, compile model\n",
    "        optimizer: Name of optimizer\n",
    "        lr: learning rate\n",
    "        loss: loss function\n",
    "        activation: Activation function for hidden layer\n",
    "\n",
    "    Returns:\n",
    "        model: Keras model\n",
    "    \"\"\"\n",
    "    if type(hidden_nodes) is not list:\n",
    "        hidden_nodes = [hidden_nodes]\n",
    "\n",
    "    features_in = Input(shape=(n_features,))\n",
    "    id_in = Input(shape=(1,))\n",
    "    emb = Embedding(max_id + 1, emb_size)(id_in)\n",
    "    emb = Flatten()(emb)\n",
    "    x = Concatenate()([features_in, emb])\n",
    "    for h in hidden_nodes:\n",
    "        x = Dense(h, activation=activation, kernel_regularizer=reg)(x)\n",
    "    x = Dense(n_outputs, activation=\"linear\", kernel_regularizer=reg)(x)\n",
    "    model = Model(inputs=[features_in, id_in], outputs=x)\n",
    "\n",
    "    if compile:\n",
    "        opt = keras.optimizers.__dict__[optimizer](lr=lr)\n",
    "        model.compile(optimizer=opt, loss=loss)\n",
    "    return model"
   ]
  },
  {
   "cell_type": "code",
   "execution_count": null,
   "id": "13fd1500",
   "metadata": {},
   "outputs": [],
   "source": []
  },
  {
   "cell_type": "code",
   "execution_count": null,
   "id": "f19d4009",
   "metadata": {},
   "outputs": [],
   "source": []
  },
  {
   "cell_type": "code",
   "execution_count": null,
   "id": "ba794e90",
   "metadata": {},
   "outputs": [],
   "source": []
  },
  {
   "cell_type": "code",
   "execution_count": null,
   "id": "881ef131",
   "metadata": {},
   "outputs": [],
   "source": []
  }
 ],
 "metadata": {
  "kernelspec": {
   "display_name": "Python 3 (ipykernel)",
   "language": "python",
   "name": "python3"
  },
  "language_info": {
   "codemirror_mode": {
    "name": "ipython",
    "version": 3
   },
   "file_extension": ".py",
   "mimetype": "text/x-python",
   "name": "python",
   "nbconvert_exporter": "python",
   "pygments_lexer": "ipython3",
   "version": "3.9.7"
  }
 },
 "nbformat": 4,
 "nbformat_minor": 5
}
