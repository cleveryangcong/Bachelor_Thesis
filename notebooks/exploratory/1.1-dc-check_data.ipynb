{
 "cells": [
  {
   "cell_type": "code",
   "execution_count": 2,
   "id": "9d75d397",
   "metadata": {},
   "outputs": [
    {
     "data": {
      "application/javascript": [
       "\n",
       "            setTimeout(function() {\n",
       "                var nbb_cell_id = 2;\n",
       "                var nbb_unformatted_code = \"%load_ext nb_black\";\n",
       "                var nbb_formatted_code = \"%load_ext nb_black\";\n",
       "                var nbb_cells = Jupyter.notebook.get_cells();\n",
       "                for (var i = 0; i < nbb_cells.length; ++i) {\n",
       "                    if (nbb_cells[i].input_prompt_number == nbb_cell_id) {\n",
       "                        if (nbb_cells[i].get_text() == nbb_unformatted_code) {\n",
       "                             nbb_cells[i].set_text(nbb_formatted_code);\n",
       "                        }\n",
       "                        break;\n",
       "                    }\n",
       "                }\n",
       "            }, 500);\n",
       "            "
      ],
      "text/plain": [
       "<IPython.core.display.Javascript object>"
      ]
     },
     "metadata": {},
     "output_type": "display_data"
    }
   ],
   "source": [
    "%load_ext nb_black"
   ]
  },
  {
   "cell_type": "code",
   "execution_count": 3,
   "id": "a3eb654c",
   "metadata": {},
   "outputs": [
    {
     "data": {
      "application/javascript": [
       "\n",
       "            setTimeout(function() {\n",
       "                var nbb_cell_id = 3;\n",
       "                var nbb_unformatted_code = \"# Basics\\nimport pandas as pd\\nimport numpy as np\\nimport matplotlib.pyplot as plt\\n\\n# Data\\nimport xarray as xr\\nimport h5py\\n\\n# Visualization\\nimport matplotlib.pyplot as plt\\nimport seaborn as sns\\n\\n# Helpful\\nimport time\\nimport datetime\\nimport itertools\\nfrom itertools import product\\n\\n# My Methods\\nimport importlib\\nimport data.raw.load_data_raw as ldr\\nimport src.utils.check_data \";\n",
       "                var nbb_formatted_code = \"# Basics\\nimport pandas as pd\\nimport numpy as np\\nimport matplotlib.pyplot as plt\\n\\n# Data\\nimport xarray as xr\\nimport h5py\\n\\n# Visualization\\nimport matplotlib.pyplot as plt\\nimport seaborn as sns\\n\\n# Helpful\\nimport time\\nimport datetime\\nimport itertools\\nfrom itertools import product\\n\\n# My Methods\\nimport importlib\\nimport data.raw.load_data_raw as ldr\\nimport src.utils.check_data\";\n",
       "                var nbb_cells = Jupyter.notebook.get_cells();\n",
       "                for (var i = 0; i < nbb_cells.length; ++i) {\n",
       "                    if (nbb_cells[i].input_prompt_number == nbb_cell_id) {\n",
       "                        if (nbb_cells[i].get_text() == nbb_unformatted_code) {\n",
       "                             nbb_cells[i].set_text(nbb_formatted_code);\n",
       "                        }\n",
       "                        break;\n",
       "                    }\n",
       "                }\n",
       "            }, 500);\n",
       "            "
      ],
      "text/plain": [
       "<IPython.core.display.Javascript object>"
      ]
     },
     "metadata": {},
     "output_type": "display_data"
    }
   ],
   "source": [
    "# Basics\n",
    "import pandas as pd\n",
    "import numpy as np\n",
    "import matplotlib.pyplot as plt\n",
    "\n",
    "# Data\n",
    "import xarray as xr\n",
    "import h5py\n",
    "\n",
    "# Visualization\n",
    "import matplotlib.pyplot as plt\n",
    "import seaborn as sns\n",
    "\n",
    "# Helpful\n",
    "import time\n",
    "import datetime\n",
    "import itertools\n",
    "from itertools import product\n",
    "\n",
    "# My Methods\n",
    "import importlib\n",
    "import data.raw.load_data_raw as ldr\n",
    "import src.utils.check_data"
   ]
  },
  {
   "cell_type": "code",
   "execution_count": 4,
   "id": "eb6edbe8",
   "metadata": {},
   "outputs": [
    {
     "data": {
      "application/javascript": [
       "\n",
       "            setTimeout(function() {\n",
       "                var nbb_cell_id = 4;\n",
       "                var nbb_unformatted_code = \"dat_all = ldr.load_data_raw()\";\n",
       "                var nbb_formatted_code = \"dat_all = ldr.load_data_raw()\";\n",
       "                var nbb_cells = Jupyter.notebook.get_cells();\n",
       "                for (var i = 0; i < nbb_cells.length; ++i) {\n",
       "                    if (nbb_cells[i].input_prompt_number == nbb_cell_id) {\n",
       "                        if (nbb_cells[i].get_text() == nbb_unformatted_code) {\n",
       "                             nbb_cells[i].set_text(nbb_formatted_code);\n",
       "                        }\n",
       "                        break;\n",
       "                    }\n",
       "                }\n",
       "            }, 500);\n",
       "            "
      ],
      "text/plain": [
       "<IPython.core.display.Javascript object>"
      ]
     },
     "metadata": {},
     "output_type": "display_data"
    }
   ],
   "source": [
    "dat_all = ldr.load_data_raw()"
   ]
  },
  {
   "cell_type": "code",
   "execution_count": 8,
   "id": "120ad725",
   "metadata": {},
   "outputs": [
    {
     "data": {
      "application/javascript": [
       "\n",
       "            setTimeout(function() {\n",
       "                var nbb_cell_id = 8;\n",
       "                var nbb_unformatted_code = \"import xarray as xr\\n\\n\\ndef load_data_all_train_proc_norm():\\n    '''\\n    Load Raw data and format dimensions\\nArgs:\\n    None\\nReturns:\\n    list: raw datasets from 2018 - 2022\\n    '''\\n    # Load all data\\n    dat_train_u10 = xr.open_dataset(\\n        \\\"/Data/Delong_BA_Data/Mean_ens_std/u10_train.h5\\\"\\n    )\\n    dat_train_v10 = xr.open_dataset(\\n        \\\"/Data/Delong_BA_Data/Mean_ens_std/v10_train.h5\\\"\\n    )\\n    dat_train_t2m = xr.open_dataset(\\n        \\\"/Data/Delong_BA_Data/Mean_ens_std/t2m_train.h5\\\"\\n    )\\n    dat_train_t850 = xr.open_dataset(\\n        \\\"/Data/Delong_BA_Data/Mean_ens_std/t850_train.h5\\\"\\n    )\\n    dat_train_z500 = xr.open_dataset(\\n       \\\"/Data/Delong_BA_Data/Mean_ens_std/z500_train.h5\\\"\\n    )\\n    \\n    dat_train_all = [dat_train_u10, dat_train_v10, dat_train_t2m, dat_train_t850, dat_train_z500]\\n    \\n    var_dict = {\\n    \\\"phony_dim_0\\\": \\\"forecast_date\\\",\\n    \\\"phony_dim_1\\\": \\\"lead_time\\\",\\n    \\\"phony_dim_2\\\": \\\"lat\\\",\\n    \\\"phony_dim_3\\\": \\\"lon\\\",\\n    \\\"phony_dim_4\\\": \\\"mean_std\\\",\\n    }\\n    \\n    dat_all = []\\n\\n    for i in range(len(dat_train_all)):\\n        dat_all.append(\\n            dat_train_all[i]\\n            .rename_dims(var_dict)\\n    )\\n        \\n    return dat_all\\n    \";\n",
       "                var nbb_formatted_code = \"import xarray as xr\\n\\n\\ndef load_data_all_train_proc_norm():\\n    \\\"\\\"\\\"\\n    Load Raw data and format dimensions\\nArgs:\\n    None\\nReturns:\\n    list: raw datasets from 2018 - 2022\\n    \\\"\\\"\\\"\\n    # Load all data\\n    dat_train_u10 = xr.open_dataset(\\\"/Data/Delong_BA_Data/Mean_ens_std/u10_train.h5\\\")\\n    dat_train_v10 = xr.open_dataset(\\\"/Data/Delong_BA_Data/Mean_ens_std/v10_train.h5\\\")\\n    dat_train_t2m = xr.open_dataset(\\\"/Data/Delong_BA_Data/Mean_ens_std/t2m_train.h5\\\")\\n    dat_train_t850 = xr.open_dataset(\\\"/Data/Delong_BA_Data/Mean_ens_std/t850_train.h5\\\")\\n    dat_train_z500 = xr.open_dataset(\\\"/Data/Delong_BA_Data/Mean_ens_std/z500_train.h5\\\")\\n\\n    dat_train_all = [\\n        dat_train_u10,\\n        dat_train_v10,\\n        dat_train_t2m,\\n        dat_train_t850,\\n        dat_train_z500,\\n    ]\\n\\n    var_dict = {\\n        \\\"phony_dim_0\\\": \\\"forecast_date\\\",\\n        \\\"phony_dim_1\\\": \\\"lead_time\\\",\\n        \\\"phony_dim_2\\\": \\\"lat\\\",\\n        \\\"phony_dim_3\\\": \\\"lon\\\",\\n        \\\"phony_dim_4\\\": \\\"mean_std\\\",\\n    }\\n\\n    dat_all = []\\n\\n    for i in range(len(dat_train_all)):\\n        dat_all.append(dat_train_all[i].rename_dims(var_dict))\\n\\n    return dat_all\";\n",
       "                var nbb_cells = Jupyter.notebook.get_cells();\n",
       "                for (var i = 0; i < nbb_cells.length; ++i) {\n",
       "                    if (nbb_cells[i].input_prompt_number == nbb_cell_id) {\n",
       "                        if (nbb_cells[i].get_text() == nbb_unformatted_code) {\n",
       "                             nbb_cells[i].set_text(nbb_formatted_code);\n",
       "                        }\n",
       "                        break;\n",
       "                    }\n",
       "                }\n",
       "            }, 500);\n",
       "            "
      ],
      "text/plain": [
       "<IPython.core.display.Javascript object>"
      ]
     },
     "metadata": {},
     "output_type": "display_data"
    }
   ],
   "source": []
  },
  {
   "cell_type": "code",
   "execution_count": null,
   "id": "9a0a28cf",
   "metadata": {},
   "outputs": [],
   "source": []
  }
 ],
 "metadata": {
  "kernelspec": {
   "display_name": "Python 3 (ipykernel)",
   "language": "python",
   "name": "python3"
  },
  "language_info": {
   "codemirror_mode": {
    "name": "ipython",
    "version": 3
   },
   "file_extension": ".py",
   "mimetype": "text/x-python",
   "name": "python",
   "nbconvert_exporter": "python",
   "pygments_lexer": "ipython3",
   "version": "3.9.7"
  }
 },
 "nbformat": 4,
 "nbformat_minor": 5
}
