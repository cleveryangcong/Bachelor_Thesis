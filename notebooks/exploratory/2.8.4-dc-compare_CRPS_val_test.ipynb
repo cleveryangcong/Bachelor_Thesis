{
 "cells": [
  {
   "cell_type": "code",
   "execution_count": 1,
   "id": "5a554dd5",
   "metadata": {},
   "outputs": [
    {
     "data": {
      "application/javascript": [
       "\n",
       "            setTimeout(function() {\n",
       "                var nbb_cell_id = 1;\n",
       "                var nbb_unformatted_code = \"%load_ext nb_black\";\n",
       "                var nbb_formatted_code = \"%load_ext nb_black\";\n",
       "                var nbb_cells = Jupyter.notebook.get_cells();\n",
       "                for (var i = 0; i < nbb_cells.length; ++i) {\n",
       "                    if (nbb_cells[i].input_prompt_number == nbb_cell_id) {\n",
       "                        if (nbb_cells[i].get_text() == nbb_unformatted_code) {\n",
       "                             nbb_cells[i].set_text(nbb_formatted_code);\n",
       "                        }\n",
       "                        break;\n",
       "                    }\n",
       "                }\n",
       "            }, 500);\n",
       "            "
      ],
      "text/plain": [
       "<IPython.core.display.Javascript object>"
      ]
     },
     "metadata": {},
     "output_type": "display_data"
    }
   ],
   "source": [
    "%load_ext nb_black"
   ]
  },
  {
   "cell_type": "code",
   "execution_count": 2,
   "id": "9e11dca4",
   "metadata": {},
   "outputs": [
    {
     "name": "stderr",
     "output_type": "stream",
     "text": [
      "2023-06-18 18:47:21.916888: W tensorflow/stream_executor/platform/default/dso_loader.cc:64] Could not load dynamic library 'libcudart.so.11.0'; dlerror: libcudart.so.11.0: cannot open shared object file: No such file or directory; LD_LIBRARY_PATH: :/opt/anaconda3/lib/\n",
      "2023-06-18 18:47:21.916910: I tensorflow/stream_executor/cuda/cudart_stub.cc:29] Ignore above cudart dlerror if you do not have a GPU set up on your machine.\n"
     ]
    },
    {
     "data": {
      "application/javascript": [
       "\n",
       "            setTimeout(function() {\n",
       "                var nbb_cell_id = 2;\n",
       "                var nbb_unformatted_code = \"# Basics\\nimport tensorflow as tf\\nimport pandas as pd\\nimport xarray as xr\\n\\n# Helpful\\nfrom tqdm import tqdm\\n\\n# Visualization\\nimport matplotlib.pyplot as plt\\n\\n# My Methods\\nfrom src.utils.CRPS import *  # CRPS metrics\\nfrom src.utils.data_split import *  # Splitting data into X and y\\nfrom src.utils.drn_make_X_array import *  # Import make train array functions (make_X_array)\\nfrom src.models.EMOS import *  # EMOS implementation\\nfrom src.models.DRN.DRN_model import *  # DRN implementation\\nfrom src.models.DRN.DRN_load_score import *  # Load DRN_scores\\nfrom src.models.DRN.DRN_load_model import *  # Load Models\\nfrom src.models.DRN.DRN_train import *\\nfrom src.models.EMOS_local.EMOS_local_load_score import *  # Load EMOS_local_scores\\nfrom src.models.EMOS_global.EMOS_global_load_score import *  # Load EMOS_global_scores\\nfrom src.models.EMOS_global.EMOS_global_load_model import *  # Load EMOS_global_models#\\nimport data.raw.load_data_raw as ldr  # Load raw data\\nimport data.processed.load_data_processed as ldp  # Load processed data normed\\nimport data.processed.load_data_processed_denormed as ldpd  # Load processed data denormed\\nfrom src.models.CRPS_baseline.CRPS_load import *  # Load CRPS scores\";\n",
       "                var nbb_formatted_code = \"# Basics\\nimport tensorflow as tf\\nimport pandas as pd\\nimport xarray as xr\\n\\n# Helpful\\nfrom tqdm import tqdm\\n\\n# Visualization\\nimport matplotlib.pyplot as plt\\n\\n# My Methods\\nfrom src.utils.CRPS import *  # CRPS metrics\\nfrom src.utils.data_split import *  # Splitting data into X and y\\nfrom src.utils.drn_make_X_array import *  # Import make train array functions (make_X_array)\\nfrom src.models.EMOS import *  # EMOS implementation\\nfrom src.models.DRN.DRN_model import *  # DRN implementation\\nfrom src.models.DRN.DRN_load_score import *  # Load DRN_scores\\nfrom src.models.DRN.DRN_load_model import *  # Load Models\\nfrom src.models.DRN.DRN_train import *\\nfrom src.models.EMOS_local.EMOS_local_load_score import *  # Load EMOS_local_scores\\nfrom src.models.EMOS_global.EMOS_global_load_score import *  # Load EMOS_global_scores\\nfrom src.models.EMOS_global.EMOS_global_load_model import *  # Load EMOS_global_models#\\nimport data.raw.load_data_raw as ldr  # Load raw data\\nimport data.processed.load_data_processed as ldp  # Load processed data normed\\nimport data.processed.load_data_processed_denormed as ldpd  # Load processed data denormed\\nfrom src.models.CRPS_baseline.CRPS_load import *  # Load CRPS scores\";\n",
       "                var nbb_cells = Jupyter.notebook.get_cells();\n",
       "                for (var i = 0; i < nbb_cells.length; ++i) {\n",
       "                    if (nbb_cells[i].input_prompt_number == nbb_cell_id) {\n",
       "                        if (nbb_cells[i].get_text() == nbb_unformatted_code) {\n",
       "                             nbb_cells[i].set_text(nbb_formatted_code);\n",
       "                        }\n",
       "                        break;\n",
       "                    }\n",
       "                }\n",
       "            }, 500);\n",
       "            "
      ],
      "text/plain": [
       "<IPython.core.display.Javascript object>"
      ]
     },
     "metadata": {},
     "output_type": "display_data"
    }
   ],
   "source": [
    "# Basics\n",
    "import tensorflow as tf\n",
    "import pandas as pd\n",
    "import xarray as xr\n",
    "\n",
    "# Helpful\n",
    "from tqdm import tqdm\n",
    "\n",
    "# Visualization\n",
    "import matplotlib.pyplot as plt\n",
    "\n",
    "# My Methods\n",
    "from src.utils.CRPS import *  # CRPS metrics\n",
    "from src.utils.data_split import *  # Splitting data into X and y\n",
    "from src.utils.drn_make_X_array import *  # Import make train array functions (make_X_array)\n",
    "from src.models.EMOS import *  # EMOS implementation\n",
    "from src.models.DRN.DRN_model import *  # DRN implementation\n",
    "from src.models.DRN.DRN_load_score import *  # Load DRN_scores\n",
    "from src.models.DRN.DRN_load_model import *  # Load Models\n",
    "from src.models.DRN.DRN_train import *\n",
    "from src.models.EMOS_local.EMOS_local_load_score import *  # Load EMOS_local_scores\n",
    "from src.models.EMOS_global.EMOS_global_load_score import *  # Load EMOS_global_scores\n",
    "from src.models.EMOS_global.EMOS_global_load_model import *  # Load EMOS_global_models#\n",
    "import data.raw.load_data_raw as ldr  # Load raw data\n",
    "import data.processed.load_data_processed as ldp  # Load processed data normed\n",
    "import data.processed.load_data_processed_denormed as ldpd  # Load processed data denormed\n",
    "from src.models.CRPS_baseline.CRPS_load import *  # Load CRPS scores"
   ]
  },
  {
   "cell_type": "markdown",
   "id": "33c1c338",
   "metadata": {},
   "source": [
    "### 1. Load CRPS scores"
   ]
  },
  {
   "cell_type": "code",
   "execution_count": 3,
   "id": "3af0fefa",
   "metadata": {},
   "outputs": [
    {
     "data": {
      "application/javascript": [
       "\n",
       "            setTimeout(function() {\n",
       "                var nbb_cell_id = 3;\n",
       "                var nbb_unformatted_code = \"# Baseline Scores\\nCRPS_baseline_scores_test_ws10 = crps_load_lead_lat_lon(\\\"ws10\\\")\\nCRPS_baseline_scores_val_ws10 = crps_load_lead_lat_lon_val(\\\"ws10\\\")\";\n",
       "                var nbb_formatted_code = \"# Baseline Scores\\nCRPS_baseline_scores_test_ws10 = crps_load_lead_lat_lon(\\\"ws10\\\")\\nCRPS_baseline_scores_val_ws10 = crps_load_lead_lat_lon_val(\\\"ws10\\\")\";\n",
       "                var nbb_cells = Jupyter.notebook.get_cells();\n",
       "                for (var i = 0; i < nbb_cells.length; ++i) {\n",
       "                    if (nbb_cells[i].input_prompt_number == nbb_cell_id) {\n",
       "                        if (nbb_cells[i].get_text() == nbb_unformatted_code) {\n",
       "                             nbb_cells[i].set_text(nbb_formatted_code);\n",
       "                        }\n",
       "                        break;\n",
       "                    }\n",
       "                }\n",
       "            }, 500);\n",
       "            "
      ],
      "text/plain": [
       "<IPython.core.display.Javascript object>"
      ]
     },
     "metadata": {},
     "output_type": "display_data"
    }
   ],
   "source": [
    "# Baseline Scores\n",
    "CRPS_baseline_scores_test_ws10 = crps_load_lead_lat_lon(\"ws10\")\n",
    "CRPS_baseline_scores_val_ws10 = crps_load_lead_lat_lon_val(\"ws10\")"
   ]
  },
  {
   "cell_type": "markdown",
   "id": "b004db60",
   "metadata": {},
   "source": [
    "### 2. Comparison Val and Test scores"
   ]
  },
  {
   "cell_type": "code",
   "execution_count": 8,
   "id": "f8e17ef5",
   "metadata": {},
   "outputs": [
    {
     "name": "stdout",
     "output_type": "stream",
     "text": [
      "Val scores: 0.6658014059066772 in lead 0\n",
      "Test scores: 0.4708288311958313 in lead 0\n",
      "Val scores: 0.7732185125350952 in lead 1\n",
      "Test scores: 0.5626273155212402 in lead 1\n",
      "Val scores: 0.8087474703788757 in lead 2\n",
      "Test scores: 0.5660684704780579 in lead 2\n",
      "Val scores: 0.8332287073135376 in lead 3\n",
      "Test scores: 0.6244665384292603 in lead 3\n",
      "Val scores: 0.841774582862854 in lead 4\n",
      "Test scores: 0.6273626685142517 in lead 4\n",
      "Val scores: 0.9103854894638062 in lead 5\n",
      "Test scores: 0.7419385313987732 in lead 5\n",
      "Val scores: 0.9383060336112976 in lead 6\n",
      "Test scores: 0.7447009086608887 in lead 6\n",
      "Val scores: 0.958366870880127 in lead 7\n",
      "Test scores: 0.8054525852203369 in lead 7\n",
      "Val scores: 0.984128475189209 in lead 8\n",
      "Test scores: 0.834025502204895 in lead 8\n",
      "Val scores: 1.070150375366211 in lead 9\n",
      "Test scores: 0.9581987261772156 in lead 9\n",
      "Val scores: 1.096879243850708 in lead 10\n",
      "Test scores: 0.9486294984817505 in lead 10\n",
      "Val scores: 1.114823579788208 in lead 11\n",
      "Test scores: 0.997710645198822 in lead 11\n",
      "Val scores: 1.1435626745224 in lead 12\n",
      "Test scores: 1.0248152017593384 in lead 12\n",
      "Val scores: 1.232492208480835 in lead 13\n",
      "Test scores: 1.147271752357483 in lead 13\n",
      "Val scores: 1.2488574981689453 in lead 14\n",
      "Test scores: 1.120965838432312 in lead 14\n",
      "Val scores: 1.2602959871292114 in lead 15\n",
      "Test scores: 1.1554666757583618 in lead 15\n",
      "Val scores: 1.2837560176849365 in lead 16\n",
      "Test scores: 1.1716784238815308 in lead 16\n",
      "Val scores: 1.3787543773651123 in lead 17\n",
      "Test scores: 1.2803926467895508 in lead 17\n",
      "Val scores: 1.3790429830551147 in lead 18\n",
      "Test scores: 1.2406598329544067 in lead 18\n",
      "Val scores: 1.3763517141342163 in lead 19\n",
      "Test scores: 1.2650195360183716 in lead 19\n",
      "Val scores: 1.3910939693450928 in lead 20\n",
      "Test scores: 1.2812318801879883 in lead 20\n",
      "Val scores: 1.4850894212722778 in lead 21\n",
      "Test scores: 1.3930284976959229 in lead 21\n",
      "Val scores: 1.469802975654602 in lead 22\n",
      "Test scores: 1.3470748662948608 in lead 22\n",
      "Val scores: 1.4587452411651611 in lead 23\n",
      "Test scores: 1.3625421524047852 in lead 23\n",
      "Val scores: 1.463258981704712 in lead 24\n",
      "Test scores: 1.370863676071167 in lead 24\n",
      "Val scores: 1.5491501092910767 in lead 25\n",
      "Test scores: 1.476784110069275 in lead 25\n",
      "Val scores: 1.5221705436706543 in lead 26\n",
      "Test scores: 1.4213701486587524 in lead 26\n",
      "Val scores: 1.5038292407989502 in lead 27\n",
      "Test scores: 1.4293179512023926 in lead 27\n",
      "Val scores: 1.5022987127304077 in lead 28\n",
      "Test scores: 1.4322772026062012 in lead 28\n",
      "Val scores: 1.586258053779602 in lead 29\n",
      "Test scores: 1.536927580833435 in lead 29\n",
      "Val scores: 1.547132968902588 in lead 30\n",
      "Test scores: 1.4698940515518188 in lead 30\n"
     ]
    },
    {
     "data": {
      "application/javascript": [
       "\n",
       "            setTimeout(function() {\n",
       "                var nbb_cell_id = 8;\n",
       "                var nbb_unformatted_code = \"for i in range(31):\\n    print(f\\\"Val scores: {CRPS_baseline_scores_val_ws10[i].mean()} in lead {i}\\\")\\n    print(f\\\"Test scores: {CRPS_baseline_scores_test_ws10[i].mean()} in lead {i}\\\")\";\n",
       "                var nbb_formatted_code = \"for i in range(31):\\n    print(f\\\"Val scores: {CRPS_baseline_scores_val_ws10[i].mean()} in lead {i}\\\")\\n    print(f\\\"Test scores: {CRPS_baseline_scores_test_ws10[i].mean()} in lead {i}\\\")\";\n",
       "                var nbb_cells = Jupyter.notebook.get_cells();\n",
       "                for (var i = 0; i < nbb_cells.length; ++i) {\n",
       "                    if (nbb_cells[i].input_prompt_number == nbb_cell_id) {\n",
       "                        if (nbb_cells[i].get_text() == nbb_unformatted_code) {\n",
       "                             nbb_cells[i].set_text(nbb_formatted_code);\n",
       "                        }\n",
       "                        break;\n",
       "                    }\n",
       "                }\n",
       "            }, 500);\n",
       "            "
      ],
      "text/plain": [
       "<IPython.core.display.Javascript object>"
      ]
     },
     "metadata": {},
     "output_type": "display_data"
    }
   ],
   "source": [
    "for i in range(31):\n",
    "    print(f\"Val scores: {CRPS_baseline_scores_val_ws10[i].mean()} in lead {i}\")\n",
    "    print(f\"Test scores: {CRPS_baseline_scores_test_ws10[i].mean()} in lead {i}\")"
   ]
  },
  {
   "cell_type": "code",
   "execution_count": null,
   "id": "da6bbf86",
   "metadata": {},
   "outputs": [],
   "source": []
  }
 ],
 "metadata": {
  "kernelspec": {
   "display_name": "Python 3 (ipykernel)",
   "language": "python",
   "name": "python3"
  },
  "language_info": {
   "codemirror_mode": {
    "name": "ipython",
    "version": 3
   },
   "file_extension": ".py",
   "mimetype": "text/x-python",
   "name": "python",
   "nbconvert_exporter": "python",
   "pygments_lexer": "ipython3",
   "version": "3.9.7"
  }
 },
 "nbformat": 4,
 "nbformat_minor": 5
}
