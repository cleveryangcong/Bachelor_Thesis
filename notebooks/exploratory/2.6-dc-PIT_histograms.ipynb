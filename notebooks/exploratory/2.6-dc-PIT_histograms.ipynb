{
 "cells": [
  {
   "cell_type": "code",
   "execution_count": 1,
   "id": "bb76bcfa",
   "metadata": {},
   "outputs": [
    {
     "data": {
      "application/javascript": [
       "\n",
       "            setTimeout(function() {\n",
       "                var nbb_cell_id = 1;\n",
       "                var nbb_unformatted_code = \"%load_ext nb_black\";\n",
       "                var nbb_formatted_code = \"%load_ext nb_black\";\n",
       "                var nbb_cells = Jupyter.notebook.get_cells();\n",
       "                for (var i = 0; i < nbb_cells.length; ++i) {\n",
       "                    if (nbb_cells[i].input_prompt_number == nbb_cell_id) {\n",
       "                        if (nbb_cells[i].get_text() == nbb_unformatted_code) {\n",
       "                             nbb_cells[i].set_text(nbb_formatted_code);\n",
       "                        }\n",
       "                        break;\n",
       "                    }\n",
       "                }\n",
       "            }, 500);\n",
       "            "
      ],
      "text/plain": [
       "<IPython.core.display.Javascript object>"
      ]
     },
     "metadata": {},
     "output_type": "display_data"
    }
   ],
   "source": [
    "%load_ext nb_black"
   ]
  },
  {
   "cell_type": "code",
   "execution_count": 2,
   "id": "c24cc3c2",
   "metadata": {},
   "outputs": [
    {
     "name": "stderr",
     "output_type": "stream",
     "text": [
      "2023-06-22 10:22:01.805770: W tensorflow/stream_executor/platform/default/dso_loader.cc:64] Could not load dynamic library 'libcudart.so.11.0'; dlerror: libcudart.so.11.0: cannot open shared object file: No such file or directory; LD_LIBRARY_PATH: :/opt/anaconda3/lib/\n",
      "2023-06-22 10:22:01.805789: I tensorflow/stream_executor/cuda/cudart_stub.cc:29] Ignore above cudart dlerror if you do not have a GPU set up on your machine.\n"
     ]
    },
    {
     "data": {
      "application/javascript": [
       "\n",
       "            setTimeout(function() {\n",
       "                var nbb_cell_id = 2;\n",
       "                var nbb_unformatted_code = \"# Basics\\nimport tensorflow as tf\\nimport xarray as xr\\n\\n# Helpful\\nfrom tqdm import tqdm\\n\\n# Visualization\\nimport matplotlib.pyplot as plt\\n\\n# My Methods\\nfrom src.utils.CRPS import *  # CRPS metrics\\nfrom src.utils.data_split import *  # Splitting data into X and y\\nfrom src.utils.drn_make_X_array import *  # Import make train array functions (make_X_array)\\nfrom src.models.EMOS import *  # EMOS implementation\\nfrom src.models.DRN.DRN_model import *  # DRN implementation\\nfrom src.models.DRN.DRN_load_preds import *\\nfrom src.models.EMOS_local.EMOS_local_load_preds import *  # Load EMOS_global_preds\\nfrom src.models.EMOS_global.EMOS_global_load_score import *  # Load EMOS_global_scores\\nfrom src.models.EMOS_global.EMOS_global_load_preds import *  # Load EMOS_global_preds\\nfrom src.models.EMOS_global.EMOS_global_load_model import *  # Load EMOS_global_models\\nimport data.raw.load_data_raw as ldr  # Load raw data\\nimport data.processed.load_data_processed as ldp  # Load processed data normed\\nimport data.processed.load_data_processed_denormed as ldpd  # Load processed data denormed\\nfrom src.models.CRPS_baseline.CRPS_load import *  # Load CRPS scores\";\n",
       "                var nbb_formatted_code = \"# Basics\\nimport tensorflow as tf\\nimport xarray as xr\\n\\n# Helpful\\nfrom tqdm import tqdm\\n\\n# Visualization\\nimport matplotlib.pyplot as plt\\n\\n# My Methods\\nfrom src.utils.CRPS import *  # CRPS metrics\\nfrom src.utils.data_split import *  # Splitting data into X and y\\nfrom src.utils.drn_make_X_array import *  # Import make train array functions (make_X_array)\\nfrom src.models.EMOS import *  # EMOS implementation\\nfrom src.models.DRN.DRN_model import *  # DRN implementation\\nfrom src.models.DRN.DRN_load_preds import *\\nfrom src.models.EMOS_local.EMOS_local_load_preds import *  # Load EMOS_global_preds\\nfrom src.models.EMOS_global.EMOS_global_load_score import *  # Load EMOS_global_scores\\nfrom src.models.EMOS_global.EMOS_global_load_preds import *  # Load EMOS_global_preds\\nfrom src.models.EMOS_global.EMOS_global_load_model import *  # Load EMOS_global_models\\nimport data.raw.load_data_raw as ldr  # Load raw data\\nimport data.processed.load_data_processed as ldp  # Load processed data normed\\nimport data.processed.load_data_processed_denormed as ldpd  # Load processed data denormed\\nfrom src.models.CRPS_baseline.CRPS_load import *  # Load CRPS scores\";\n",
       "                var nbb_cells = Jupyter.notebook.get_cells();\n",
       "                for (var i = 0; i < nbb_cells.length; ++i) {\n",
       "                    if (nbb_cells[i].input_prompt_number == nbb_cell_id) {\n",
       "                        if (nbb_cells[i].get_text() == nbb_unformatted_code) {\n",
       "                             nbb_cells[i].set_text(nbb_formatted_code);\n",
       "                        }\n",
       "                        break;\n",
       "                    }\n",
       "                }\n",
       "            }, 500);\n",
       "            "
      ],
      "text/plain": [
       "<IPython.core.display.Javascript object>"
      ]
     },
     "metadata": {},
     "output_type": "display_data"
    }
   ],
   "source": [
    "# Basics\n",
    "import tensorflow as tf\n",
    "import xarray as xr\n",
    "\n",
    "# Helpful\n",
    "from tqdm import tqdm\n",
    "\n",
    "# Visualization\n",
    "import matplotlib.pyplot as plt\n",
    "\n",
    "# My Methods\n",
    "from src.utils.CRPS import *  # CRPS metrics\n",
    "from src.utils.data_split import *  # Splitting data into X and y\n",
    "from src.utils.drn_make_X_array import *  # Import make train array functions (make_X_array)\n",
    "from src.models.EMOS import *  # EMOS implementation\n",
    "from src.models.DRN.DRN_model import *  # DRN implementation\n",
    "from src.models.DRN.DRN_load_preds import *\n",
    "from src.models.EMOS_local.EMOS_local_load_preds import *  # Load EMOS_global_preds\n",
    "from src.models.EMOS_global.EMOS_global_load_score import *  # Load EMOS_global_scores\n",
    "from src.models.EMOS_global.EMOS_global_load_preds import *  # Load EMOS_global_preds\n",
    "from src.models.EMOS_global.EMOS_global_load_model import *  # Load EMOS_global_models\n",
    "import data.raw.load_data_raw as ldr  # Load raw data\n",
    "import data.processed.load_data_processed as ldp  # Load processed data normed\n",
    "import data.processed.load_data_processed_denormed as ldpd  # Load processed data denormed\n",
    "from src.models.CRPS_baseline.CRPS_load import *  # Load CRPS scores"
   ]
  },
  {
   "cell_type": "markdown",
   "id": "5b49c03f",
   "metadata": {},
   "source": [
    "### 1. Load Predictions"
   ]
  },
  {
   "cell_type": "code",
   "execution_count": 3,
   "id": "5ad69843",
   "metadata": {},
   "outputs": [
    {
     "data": {
      "application/javascript": [
       "\n",
       "            setTimeout(function() {\n",
       "                var nbb_cell_id = 3;\n",
       "                var nbb_unformatted_code = \"# EMOS_global\\nEMOS_global_t2m_preds = EMOS_global_load_preds(\\\"t2m\\\")\\nEMOS_global_ws10_preds = EMOS_global_load_preds(\\\"ws10\\\")\\n\\n# EMOS_global\\nEMOS_local_t2m_preds = EMOS_local_load_preds(\\\"t2m\\\")\\n# EMOS_global_ws10_preds = EMOS_global_load_preds(\\\"ws10\\\")\\n\\n# EMOS_global\\nDRN_local_t2m_preds = DRN_load_preds(\\\"t2m\\\")\\n# EMOS_global_ws10_preds = EMOS_global_load_preds(\\\"ws10\\\")\";\n",
       "                var nbb_formatted_code = \"# EMOS_global\\nEMOS_global_t2m_preds = EMOS_global_load_preds(\\\"t2m\\\")\\nEMOS_global_ws10_preds = EMOS_global_load_preds(\\\"ws10\\\")\\n\\n# EMOS_global\\nEMOS_local_t2m_preds = EMOS_local_load_preds(\\\"t2m\\\")\\n# EMOS_global_ws10_preds = EMOS_global_load_preds(\\\"ws10\\\")\\n\\n# EMOS_global\\nDRN_local_t2m_preds = DRN_load_preds(\\\"t2m\\\")\\n# EMOS_global_ws10_preds = EMOS_global_load_preds(\\\"ws10\\\")\";\n",
       "                var nbb_cells = Jupyter.notebook.get_cells();\n",
       "                for (var i = 0; i < nbb_cells.length; ++i) {\n",
       "                    if (nbb_cells[i].input_prompt_number == nbb_cell_id) {\n",
       "                        if (nbb_cells[i].get_text() == nbb_unformatted_code) {\n",
       "                             nbb_cells[i].set_text(nbb_formatted_code);\n",
       "                        }\n",
       "                        break;\n",
       "                    }\n",
       "                }\n",
       "            }, 500);\n",
       "            "
      ],
      "text/plain": [
       "<IPython.core.display.Javascript object>"
      ]
     },
     "metadata": {},
     "output_type": "display_data"
    }
   ],
   "source": [
    "# EMOS_global\n",
    "EMOS_global_t2m_preds = EMOS_global_load_preds(\"t2m\")\n",
    "EMOS_global_ws10_preds = EMOS_global_load_preds(\"ws10\")\n",
    "\n",
    "# EMOS_global\n",
    "EMOS_local_t2m_preds = EMOS_local_load_preds(\"t2m\")\n",
    "# EMOS_global_ws10_preds = EMOS_global_load_preds(\"ws10\")\n",
    "\n",
    "# EMOS_global\n",
    "DRN_local_t2m_preds = DRN_load_preds(\"t2m\")\n",
    "# EMOS_global_ws10_preds = EMOS_global_load_preds(\"ws10\")"
   ]
  },
  {
   "cell_type": "markdown",
   "id": "dfe36ae7",
   "metadata": {},
   "source": [
    "### 2. Load Matching Ground Truth Values"
   ]
  },
  {
   "cell_type": "code",
   "execution_count": 4,
   "id": "2e3fc52f",
   "metadata": {},
   "outputs": [
    {
     "data": {
      "application/javascript": [
       "\n",
       "            setTimeout(function() {\n",
       "                var nbb_cell_id = 4;\n",
       "                var nbb_unformatted_code = \"t2m_ground_truth = ldpd.load_data_all_test_proc_denorm()[2].t2m_test_truth\\nws10_ground_truth = ldpd.load_data_all_test_proc_denorm()[5].ws10_test_truth\";\n",
       "                var nbb_formatted_code = \"t2m_ground_truth = ldpd.load_data_all_test_proc_denorm()[2].t2m_test_truth\\nws10_ground_truth = ldpd.load_data_all_test_proc_denorm()[5].ws10_test_truth\";\n",
       "                var nbb_cells = Jupyter.notebook.get_cells();\n",
       "                for (var i = 0; i < nbb_cells.length; ++i) {\n",
       "                    if (nbb_cells[i].input_prompt_number == nbb_cell_id) {\n",
       "                        if (nbb_cells[i].get_text() == nbb_unformatted_code) {\n",
       "                             nbb_cells[i].set_text(nbb_formatted_code);\n",
       "                        }\n",
       "                        break;\n",
       "                    }\n",
       "                }\n",
       "            }, 500);\n",
       "            "
      ],
      "text/plain": [
       "<IPython.core.display.Javascript object>"
      ]
     },
     "metadata": {},
     "output_type": "display_data"
    }
   ],
   "source": [
    "t2m_ground_truth = ldpd.load_data_all_test_proc_denorm()[2].t2m_test_truth\n",
    "ws10_ground_truth = ldpd.load_data_all_test_proc_denorm()[5].ws10_test_truth"
   ]
  },
  {
   "cell_type": "markdown",
   "id": "e25abccf",
   "metadata": {},
   "source": [
    "### 2.  PIT Histograms"
   ]
  },
  {
   "cell_type": "code",
   "execution_count": 5,
   "id": "814389bd",
   "metadata": {},
   "outputs": [
    {
     "data": {
      "application/javascript": [
       "\n",
       "            setTimeout(function() {\n",
       "                var nbb_cell_id = 5;\n",
       "                var nbb_unformatted_code = \"import numpy as np\\nfrom scipy.stats import norm\\nimport matplotlib.pyplot as plt\\n\\n\\ndef plot_pit_histogram(pred_array, truth_array, num_bins=100, ax=None):\\n    \\\"\\\"\\\"\\n    Plots the Probability Integral Transform (PIT) Histogram for the predictions and truth values.\\n    \\n    Args:\\n        pred_array (np.array): Predictions array of shape (357, 120, 130, 2) with last dimension holding mean and standard deviation.\\n        truth_array (np.array): Ground truth array of shape (357, 120, 130).\\n        num_bins (int): Number of bins for the histogram. Defaults to 100.\\n        ax (matplotlib.axes.Axes): Axis on which to plot the histogram. If None, a new axis is created. Defaults to None.\\n    \\n    Returns:\\n        None. Plots the PIT Histogram.\\n    \\\"\\\"\\\"\\n\\n    # If no axis is provided, create a new one\\n    if ax is None:\\n        fig, ax = plt.subplots()\\n\\n    # Reshape the arrays to have shape (-1, 2) and (-1) for predictions and truth respectively\\n    pred_array_reshaped = pred_array.reshape(-1, 2)\\n    truth_array_reshaped = truth_array.reshape(-1)\\n\\n    # Get mean and standard deviation predictions\\n    mean_pred = pred_array_reshaped[:, 0]\\n    std_pred = np.abs(\\n        pred_array_reshaped[:, 1]\\n    )  # take the absolute of the standard deviation predictions\\n\\n    # Compute PIT values\\n    PIT_values = norm.cdf(truth_array_reshaped, loc=mean_pred, scale=std_pred)\\n\\n    # Flatten the PIT_values array\\n    PIT_values_flattened = PIT_values.flatten()\\n\\n    # Plot the PIT Histogram on the given axis\\n    ax.hist(\\n        PIT_values_flattened, bins=num_bins, density=True, alpha=0.75, edgecolor=\\\"black\\\"\\n    )\\n    ax.set_title(\\\"PIT Histogram\\\")\\n    ax.set_xlabel(\\\"PIT Value\\\")\\n    ax.set_ylabel(\\\"Density\\\")\\n\\n    # Show the plot if it's on a new axis\\n    if ax is None:\\n        plt.show()\";\n",
       "                var nbb_formatted_code = \"import numpy as np\\nfrom scipy.stats import norm\\nimport matplotlib.pyplot as plt\\n\\n\\ndef plot_pit_histogram(pred_array, truth_array, num_bins=100, ax=None):\\n    \\\"\\\"\\\"\\n    Plots the Probability Integral Transform (PIT) Histogram for the predictions and truth values.\\n    \\n    Args:\\n        pred_array (np.array): Predictions array of shape (357, 120, 130, 2) with last dimension holding mean and standard deviation.\\n        truth_array (np.array): Ground truth array of shape (357, 120, 130).\\n        num_bins (int): Number of bins for the histogram. Defaults to 100.\\n        ax (matplotlib.axes.Axes): Axis on which to plot the histogram. If None, a new axis is created. Defaults to None.\\n    \\n    Returns:\\n        None. Plots the PIT Histogram.\\n    \\\"\\\"\\\"\\n\\n    # If no axis is provided, create a new one\\n    if ax is None:\\n        fig, ax = plt.subplots()\\n\\n    # Reshape the arrays to have shape (-1, 2) and (-1) for predictions and truth respectively\\n    pred_array_reshaped = pred_array.reshape(-1, 2)\\n    truth_array_reshaped = truth_array.reshape(-1)\\n\\n    # Get mean and standard deviation predictions\\n    mean_pred = pred_array_reshaped[:, 0]\\n    std_pred = np.abs(\\n        pred_array_reshaped[:, 1]\\n    )  # take the absolute of the standard deviation predictions\\n\\n    # Compute PIT values\\n    PIT_values = norm.cdf(truth_array_reshaped, loc=mean_pred, scale=std_pred)\\n\\n    # Flatten the PIT_values array\\n    PIT_values_flattened = PIT_values.flatten()\\n\\n    # Plot the PIT Histogram on the given axis\\n    ax.hist(\\n        PIT_values_flattened, bins=num_bins, density=True, alpha=0.75, edgecolor=\\\"black\\\"\\n    )\\n    ax.set_title(\\\"PIT Histogram\\\")\\n    ax.set_xlabel(\\\"PIT Value\\\")\\n    ax.set_ylabel(\\\"Density\\\")\\n\\n    # Show the plot if it's on a new axis\\n    if ax is None:\\n        plt.show()\";\n",
       "                var nbb_cells = Jupyter.notebook.get_cells();\n",
       "                for (var i = 0; i < nbb_cells.length; ++i) {\n",
       "                    if (nbb_cells[i].input_prompt_number == nbb_cell_id) {\n",
       "                        if (nbb_cells[i].get_text() == nbb_unformatted_code) {\n",
       "                             nbb_cells[i].set_text(nbb_formatted_code);\n",
       "                        }\n",
       "                        break;\n",
       "                    }\n",
       "                }\n",
       "            }, 500);\n",
       "            "
      ],
      "text/plain": [
       "<IPython.core.display.Javascript object>"
      ]
     },
     "metadata": {},
     "output_type": "display_data"
    }
   ],
   "source": [
    "import numpy as np\n",
    "from scipy.stats import norm\n",
    "import matplotlib.pyplot as plt\n",
    "\n",
    "\n",
    "def plot_pit_histogram(pred_array, truth_array, num_bins=100, ax=None):\n",
    "    \"\"\"\n",
    "    Plots the Probability Integral Transform (PIT) Histogram for the predictions and truth values.\n",
    "    \n",
    "    Args:\n",
    "        pred_array (np.array): Predictions array of shape (357, 120, 130, 2) with last dimension holding mean and standard deviation.\n",
    "        truth_array (np.array): Ground truth array of shape (357, 120, 130).\n",
    "        num_bins (int): Number of bins for the histogram. Defaults to 100.\n",
    "        ax (matplotlib.axes.Axes): Axis on which to plot the histogram. If None, a new axis is created. Defaults to None.\n",
    "    \n",
    "    Returns:\n",
    "        None. Plots the PIT Histogram.\n",
    "    \"\"\"\n",
    "\n",
    "    # If no axis is provided, create a new one\n",
    "    if ax is None:\n",
    "        fig, ax = plt.subplots()\n",
    "\n",
    "    # Reshape the arrays to have shape (-1, 2) and (-1) for predictions and truth respectively\n",
    "    pred_array_reshaped = pred_array.reshape(-1, 2)\n",
    "    truth_array_reshaped = truth_array.reshape(-1)\n",
    "\n",
    "    # Get mean and standard deviation predictions\n",
    "    mean_pred = pred_array_reshaped[:, 0]\n",
    "    std_pred = np.abs(\n",
    "        pred_array_reshaped[:, 1]\n",
    "    )  # take the absolute of the standard deviation predictions\n",
    "\n",
    "    # Compute PIT values\n",
    "    PIT_values = norm.cdf(truth_array_reshaped, loc=mean_pred, scale=std_pred)\n",
    "\n",
    "    # Flatten the PIT_values array\n",
    "    PIT_values_flattened = PIT_values.flatten()\n",
    "\n",
    "    # Plot the PIT Histogram on the given axis\n",
    "    ax.hist(\n",
    "        PIT_values_flattened, bins=num_bins, density=True, alpha=0.75, edgecolor=\"black\"\n",
    "    )\n",
    "    ax.set_title(\"PIT Histogram\")\n",
    "    ax.set_xlabel(\"PIT Value\")\n",
    "    ax.set_ylabel(\"Density\")\n",
    "\n",
    "    # Show the plot if it's on a new axis\n",
    "    if ax is None:\n",
    "        plt.show()"
   ]
  },
  {
   "cell_type": "code",
   "execution_count": 6,
   "id": "fe9a72b7",
   "metadata": {},
   "outputs": [
    {
     "data": {
      "application/javascript": [
       "\n",
       "            setTimeout(function() {\n",
       "                var nbb_cell_id = 6;\n",
       "                var nbb_unformatted_code = \"def plot_pit_histogram_all(pred_arrays, truth_arrays, num_bins=100):\\n    fig, axs = plt.subplots(3, 1, figsize=(20, 20))\\n    for count, lead in enumerate([1, 16, 31]):\\n        plot_pit_histogram(\\n            pred_arrays[count],\\n            truth_arrays.isel(lead_time=lead).values,\\n            num_bins=num_bins,\\n            ax=axs[count],\\n        )\";\n",
       "                var nbb_formatted_code = \"def plot_pit_histogram_all(pred_arrays, truth_arrays, num_bins=100):\\n    fig, axs = plt.subplots(3, 1, figsize=(20, 20))\\n    for count, lead in enumerate([1, 16, 31]):\\n        plot_pit_histogram(\\n            pred_arrays[count],\\n            truth_arrays.isel(lead_time=lead).values,\\n            num_bins=num_bins,\\n            ax=axs[count],\\n        )\";\n",
       "                var nbb_cells = Jupyter.notebook.get_cells();\n",
       "                for (var i = 0; i < nbb_cells.length; ++i) {\n",
       "                    if (nbb_cells[i].input_prompt_number == nbb_cell_id) {\n",
       "                        if (nbb_cells[i].get_text() == nbb_unformatted_code) {\n",
       "                             nbb_cells[i].set_text(nbb_formatted_code);\n",
       "                        }\n",
       "                        break;\n",
       "                    }\n",
       "                }\n",
       "            }, 500);\n",
       "            "
      ],
      "text/plain": [
       "<IPython.core.display.Javascript object>"
      ]
     },
     "metadata": {},
     "output_type": "display_data"
    }
   ],
   "source": [
    "def plot_pit_histogram_all(pred_arrays, truth_arrays, num_bins=100):\n",
    "    fig, axs = plt.subplots(3, 1, figsize=(20, 20))\n",
    "    for count, lead in enumerate([1, 16, 31]):\n",
    "        plot_pit_histogram(\n",
    "            pred_arrays[count],\n",
    "            truth_arrays.isel(lead_time=lead).values,\n",
    "            num_bins=num_bins,\n",
    "            ax=axs[count],\n",
    "        )"
   ]
  },
  {
   "cell_type": "code",
   "execution_count": 11,
   "id": "bb8b16e5",
   "metadata": {
    "scrolled": false
   },
   "outputs": [
    {
     "data": {
      "image/png": "[encoded data removed]",
      "text/plain": [
       "<Figure size 1440x1440 with 3 Axes>"
      ]
     },
     "metadata": {
      "needs_background": "light"
     },
     "output_type": "display_data"
    },
    {
     "data": {
      "application/javascript": [
       "\n",
       "            setTimeout(function() {\n",
       "                var nbb_cell_id = 11;\n",
       "                var nbb_unformatted_code = \"plot_pit_histogram_all(EMOS_global_ws10_preds, t2m_ground_truth, num_bins=30)\";\n",
       "                var nbb_formatted_code = \"plot_pit_histogram_all(EMOS_global_ws10_preds, t2m_ground_truth, num_bins=30)\";\n",
       "                var nbb_cells = Jupyter.notebook.get_cells();\n",
       "                for (var i = 0; i < nbb_cells.length; ++i) {\n",
       "                    if (nbb_cells[i].input_prompt_number == nbb_cell_id) {\n",
       "                        if (nbb_cells[i].get_text() == nbb_unformatted_code) {\n",
       "                             nbb_cells[i].set_text(nbb_formatted_code);\n",
       "                        }\n",
       "                        break;\n",
       "                    }\n",
       "                }\n",
       "            }, 500);\n",
       "            "
      ],
      "text/plain": [
       "<IPython.core.display.Javascript object>"
      ]
     },
     "metadata": {},
     "output_type": "display_data"
    }
   ],
   "source": [
    "plot_pit_histogram_all(EMOS_global_ws10_preds, t2m_ground_truth, num_bins=30)"
   ]
  },
  {
   "cell_type": "code",
   "execution_count": null,
   "id": "23b747ee",
   "metadata": {},
   "outputs": [],
   "source": []
  }
 ],
 "metadata": {
  "kernelspec": {
   "display_name": "Python 3 (ipykernel)",
   "language": "python",
   "name": "python3"
  },
  "language_info": {
   "codemirror_mode": {
    "name": "ipython",
    "version": 3
   },
   "file_extension": ".py",
   "mimetype": "text/x-python",
   "name": "python",
   "nbconvert_exporter": "python",
   "pygments_lexer": "ipython3",
   "version": "3.9.7"
  }
 },
 "nbformat": 4,
 "nbformat_minor": 5
}
